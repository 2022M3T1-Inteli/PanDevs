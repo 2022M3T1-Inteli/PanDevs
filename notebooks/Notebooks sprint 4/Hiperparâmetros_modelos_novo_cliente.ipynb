{
  "nbformat": 4,
  "nbformat_minor": 0,
  "metadata": {
    "colab": {
      "provenance": [],
      "collapsed_sections": [
        "_fUofvMG8eMB",
        "ITRInxIZ37zA",
        "GGOX7e5djzIz",
        "3CuSz6b4OstP",
        "UUr6DkgvDkRj",
        "4c3zaL5DSyqJ",
        "VGuU9uewTecb",
        "dGsaV_dYk3kJ",
        "tUO-1C0Lk3kK",
        "s11coLG_k3kM",
        "52yyern5lGyC",
        "EZXg-LVUlGyF",
        "mbvEa_8ZlGyI",
        "yR5U_XE9lIO3",
        "fqfd_aijlIO4",
        "KtnyflBQlIO5",
        "Y7N2wUwTlJ2s",
        "J_W8Eh-RlJ2t",
        "zKsptiNalJ2u",
        "zCebOlteIHvx",
        "JBbo9NueQ2c7",
        "79ppsZbPRSX0",
        "1OSEpLxDHICV",
        "Car3VeWVHICY",
        "LVEu01o4HLCi",
        "ZcUpljQAHLCl",
        "Q-z_kAsRHMqX",
        "o5pH7dkqHMqa",
        "hvu2s80eHOlh",
        "lBkebaXxHOlj",
        "uD8FOuTKHOlo",
        "4r-A9iUgHOls",
        "PLHl30mOcgwJ",
        "qFqar1aJcqMx",
        "mmqfNVTYMMKh",
        "VxOnyWspRX0A",
        "3VuaIQOmRbu9",
        "gWmOioMAUZ0J"
      ]
    },
    "kernelspec": {
      "name": "python3",
      "display_name": "Python 3"
    },
    "language_info": {
      "name": "python"
    }
  },
  "cells": [
    {
      "cell_type": "markdown",
      "source": [
        "#Bibliotecas e autenticação"
      ],
      "metadata": {
        "id": "_fUofvMG8eMB"
      }
    },
    {
      "cell_type": "code",
      "execution_count": 1,
      "metadata": {
        "id": "6rHk2XcT8W4H"
      },
      "outputs": [],
      "source": [
        "!pip install -U -q PyDrive"
      ]
    },
    {
      "cell_type": "code",
      "source": [
        "import pandas as pd\n",
        "import plotly.express as px\n",
        "from sklearn.preprocessing import LabelBinarizer\n",
        "from pydrive.auth import GoogleAuth\n",
        "from pydrive.drive import GoogleDrive\n",
        "from google.colab import auth\n",
        "from oauth2client.client import GoogleCredentials\n",
        "import warnings\n",
        "warnings.filterwarnings('ignore')\n",
        "from sklearn.feature_selection import SelectKBest\n",
        "from sklearn.feature_selection import f_classif, mutual_info_classif\n",
        "from sklearn.preprocessing import MinMaxScaler\n",
        "from sklearn.metrics import plot_confusion_matrix\n",
        "from sklearn.ensemble import RandomForestClassifier\n",
        "from sklearn.metrics import recall_score\n",
        "from sklearn.metrics import precision_score\n",
        "from sklearn.tree import DecisionTreeClassifier"
      ],
      "metadata": {
        "id": "sJE9oWJ78lpx"
      },
      "execution_count": 2,
      "outputs": []
    },
    {
      "cell_type": "code",
      "source": [
        "auth.authenticate_user()\n",
        "gauth = GoogleAuth()\n",
        "gauth.credentials = GoogleCredentials.get_application_default()\n",
        "drive = GoogleDrive(gauth)"
      ],
      "metadata": {
        "id": "JKgm1jSz8o7f"
      },
      "execution_count": null,
      "outputs": []
    },
    {
      "cell_type": "code",
      "source": [
        "downloaded = drive.CreateFile({'id': '1-EL5jV5m_7zJi-rKgDXMAcCSrTGkq7z2'})\n",
        "downloaded.GetContentFile('not_client.csv')\n",
        "downloaded = drive.CreateFile({'id': '1-C4iOW6z7oAtWCHhwuC-IeTxp8COwbxj'})\n",
        "downloaded.GetContentFile('client.csv')"
      ],
      "metadata": {
        "id": "4p0uVvPf8rTw"
      },
      "execution_count": null,
      "outputs": []
    },
    {
      "cell_type": "code",
      "source": [
        "not_client = pd.read_csv('not_client.csv')\n",
        "client = pd.read_csv('client.csv')"
      ],
      "metadata": {
        "id": "wRd9wzGzPTEw"
      },
      "execution_count": null,
      "outputs": []
    },
    {
      "cell_type": "markdown",
      "source": [
        "##Comparação de features em relação ao indice de novo cliente\n"
      ],
      "metadata": {
        "id": "ITRInxIZ37zA"
      }
    },
    {
      "cell_type": "code",
      "source": [
        "matriz_corr = not_client.corr().style.background_gradient(cmap='coolwarm')\n",
        "matriz_corr"
      ],
      "metadata": {
        "id": "dw8BcEyKEuyq",
        "colab": {
          "base_uri": "https://localhost:8080/",
          "height": 332
        },
        "outputId": "761100aa-f4f1-45f6-ffe0-45e895631c9c"
      },
      "execution_count": 95,
      "outputs": [
        {
          "output_type": "execute_result",
          "data": {
            "text/plain": [
              "<pandas.io.formats.style.Styler at 0x7f13b18fdb10>"
            ],
            "text/html": [
              "<style type=\"text/css\">\n",
              "#T_029a7_row0_col0, #T_029a7_row1_col1, #T_029a7_row2_col2, #T_029a7_row3_col3, #T_029a7_row4_col4, #T_029a7_row5_col5, #T_029a7_row6_col6, #T_029a7_row7_col7, #T_029a7_row8_col8 {\n",
              "  background-color: #b40426;\n",
              "  color: #f1f1f1;\n",
              "}\n",
              "#T_029a7_row0_col1, #T_029a7_row0_col4, #T_029a7_row0_col5, #T_029a7_row0_col7, #T_029a7_row1_col0, #T_029a7_row1_col2, #T_029a7_row1_col4, #T_029a7_row2_col5, #T_029a7_row2_col7, #T_029a7_row3_col0, #T_029a7_row3_col5, #T_029a7_row4_col1, #T_029a7_row4_col5, #T_029a7_row4_col7, #T_029a7_row5_col2, #T_029a7_row5_col4, #T_029a7_row5_col7, #T_029a7_row6_col0, #T_029a7_row6_col2, #T_029a7_row6_col3, #T_029a7_row6_col4, #T_029a7_row6_col8, #T_029a7_row7_col2, #T_029a7_row7_col4, #T_029a7_row7_col5, #T_029a7_row8_col0, #T_029a7_row8_col4, #T_029a7_row8_col5, #T_029a7_row8_col6 {\n",
              "  background-color: #3b4cc0;\n",
              "  color: #f1f1f1;\n",
              "}\n",
              "#T_029a7_row0_col2, #T_029a7_row1_col5, #T_029a7_row2_col1, #T_029a7_row3_col4, #T_029a7_row4_col0, #T_029a7_row5_col0, #T_029a7_row5_col1, #T_029a7_row6_col5, #T_029a7_row7_col0, #T_029a7_row8_col2 {\n",
              "  background-color: #3c4ec2;\n",
              "  color: #f1f1f1;\n",
              "}\n",
              "#T_029a7_row0_col3, #T_029a7_row5_col3, #T_029a7_row6_col7 {\n",
              "  background-color: #5673e0;\n",
              "  color: #f1f1f1;\n",
              "}\n",
              "#T_029a7_row0_col6, #T_029a7_row2_col6, #T_029a7_row4_col6, #T_029a7_row4_col8, #T_029a7_row5_col8 {\n",
              "  background-color: #89acfd;\n",
              "  color: #000000;\n",
              "}\n",
              "#T_029a7_row0_col8 {\n",
              "  background-color: #88abfd;\n",
              "  color: #000000;\n",
              "}\n",
              "#T_029a7_row1_col3 {\n",
              "  background-color: #7396f5;\n",
              "  color: #f1f1f1;\n",
              "}\n",
              "#T_029a7_row1_col6 {\n",
              "  background-color: #a7c5fe;\n",
              "  color: #000000;\n",
              "}\n",
              "#T_029a7_row1_col7 {\n",
              "  background-color: #d6dce4;\n",
              "  color: #000000;\n",
              "}\n",
              "#T_029a7_row1_col8 {\n",
              "  background-color: #92b4fe;\n",
              "  color: #000000;\n",
              "}\n",
              "#T_029a7_row2_col0, #T_029a7_row3_col2 {\n",
              "  background-color: #3d50c3;\n",
              "  color: #f1f1f1;\n",
              "}\n",
              "#T_029a7_row2_col3, #T_029a7_row3_col1 {\n",
              "  background-color: #5977e3;\n",
              "  color: #f1f1f1;\n",
              "}\n",
              "#T_029a7_row2_col4, #T_029a7_row4_col2 {\n",
              "  background-color: #e6d7cf;\n",
              "  color: #000000;\n",
              "}\n",
              "#T_029a7_row2_col8, #T_029a7_row5_col6 {\n",
              "  background-color: #8badfd;\n",
              "  color: #000000;\n",
              "}\n",
              "#T_029a7_row3_col6 {\n",
              "  background-color: #6e90f2;\n",
              "  color: #f1f1f1;\n",
              "}\n",
              "#T_029a7_row3_col7 {\n",
              "  background-color: #688aef;\n",
              "  color: #f1f1f1;\n",
              "}\n",
              "#T_029a7_row3_col8 {\n",
              "  background-color: #f7a98b;\n",
              "  color: #000000;\n",
              "}\n",
              "#T_029a7_row4_col3 {\n",
              "  background-color: #5875e1;\n",
              "  color: #f1f1f1;\n",
              "}\n",
              "#T_029a7_row6_col1 {\n",
              "  background-color: #5f7fe8;\n",
              "  color: #f1f1f1;\n",
              "}\n",
              "#T_029a7_row7_col1 {\n",
              "  background-color: #d7dce3;\n",
              "  color: #000000;\n",
              "}\n",
              "#T_029a7_row7_col3 {\n",
              "  background-color: #84a7fc;\n",
              "  color: #f1f1f1;\n",
              "}\n",
              "#T_029a7_row7_col6 {\n",
              "  background-color: #a1c0ff;\n",
              "  color: #000000;\n",
              "}\n",
              "#T_029a7_row7_col8 {\n",
              "  background-color: #9bbcff;\n",
              "  color: #000000;\n",
              "}\n",
              "#T_029a7_row8_col1 {\n",
              "  background-color: #445acc;\n",
              "  color: #f1f1f1;\n",
              "}\n",
              "#T_029a7_row8_col3 {\n",
              "  background-color: #f7bca1;\n",
              "  color: #000000;\n",
              "}\n",
              "#T_029a7_row8_col7 {\n",
              "  background-color: #4f69d9;\n",
              "  color: #f1f1f1;\n",
              "}\n",
              "</style>\n",
              "<table id=\"T_029a7_\" class=\"dataframe\">\n",
              "  <thead>\n",
              "    <tr>\n",
              "      <th class=\"blank level0\" >&nbsp;</th>\n",
              "      <th class=\"col_heading level0 col0\" >Unnamed: 0</th>\n",
              "      <th class=\"col_heading level0 col1\" >vlr_credito</th>\n",
              "      <th class=\"col_heading level0 col2\" >num_atend_atrs</th>\n",
              "      <th class=\"col_heading level0 col3\" >vlr_score</th>\n",
              "      <th class=\"col_heading level0 col4\" >num_atend</th>\n",
              "      <th class=\"col_heading level0 col5\" >qtd_reclm</th>\n",
              "      <th class=\"col_heading level0 col6\" >qtd_restr</th>\n",
              "      <th class=\"col_heading level0 col7\" >vlr_renda</th>\n",
              "      <th class=\"col_heading level0 col8\" >ind_novo_cli</th>\n",
              "    </tr>\n",
              "  </thead>\n",
              "  <tbody>\n",
              "    <tr>\n",
              "      <th id=\"T_029a7_level0_row0\" class=\"row_heading level0 row0\" >Unnamed: 0</th>\n",
              "      <td id=\"T_029a7_row0_col0\" class=\"data row0 col0\" >1.000000</td>\n",
              "      <td id=\"T_029a7_row0_col1\" class=\"data row0 col1\" >-0.004607</td>\n",
              "      <td id=\"T_029a7_row0_col2\" class=\"data row0 col2\" >0.005030</td>\n",
              "      <td id=\"T_029a7_row0_col3\" class=\"data row0 col3\" >-0.003689</td>\n",
              "      <td id=\"T_029a7_row0_col4\" class=\"data row0 col4\" >0.001298</td>\n",
              "      <td id=\"T_029a7_row0_col5\" class=\"data row0 col5\" >0.000004</td>\n",
              "      <td id=\"T_029a7_row0_col6\" class=\"data row0 col6\" >-0.002301</td>\n",
              "      <td id=\"T_029a7_row0_col7\" class=\"data row0 col7\" >-0.000855</td>\n",
              "      <td id=\"T_029a7_row0_col8\" class=\"data row0 col8\" >-0.005114</td>\n",
              "    </tr>\n",
              "    <tr>\n",
              "      <th id=\"T_029a7_level0_row1\" class=\"row_heading level0 row1\" >vlr_credito</th>\n",
              "      <td id=\"T_029a7_row1_col0\" class=\"data row1 col0\" >-0.004607</td>\n",
              "      <td id=\"T_029a7_row1_col1\" class=\"data row1 col1\" >1.000000</td>\n",
              "      <td id=\"T_029a7_row1_col2\" class=\"data row1 col2\" >-0.000654</td>\n",
              "      <td id=\"T_029a7_row1_col3\" class=\"data row1 col3\" >0.094079</td>\n",
              "      <td id=\"T_029a7_row1_col4\" class=\"data row1 col4\" >-0.001340</td>\n",
              "      <td id=\"T_029a7_row1_col5\" class=\"data row1 col5\" >0.002196</td>\n",
              "      <td id=\"T_029a7_row1_col6\" class=\"data row1 col6\" >0.114967</td>\n",
              "      <td id=\"T_029a7_row1_col7\" class=\"data row1 col7\" >0.474466</td>\n",
              "      <td id=\"T_029a7_row1_col8\" class=\"data row1 col8\" >0.028897</td>\n",
              "    </tr>\n",
              "    <tr>\n",
              "      <th id=\"T_029a7_level0_row2\" class=\"row_heading level0 row2\" >num_atend_atrs</th>\n",
              "      <td id=\"T_029a7_row2_col0\" class=\"data row2 col0\" >0.005030</td>\n",
              "      <td id=\"T_029a7_row2_col1\" class=\"data row2 col1\" >-0.000654</td>\n",
              "      <td id=\"T_029a7_row2_col2\" class=\"data row2 col2\" >1.000000</td>\n",
              "      <td id=\"T_029a7_row2_col3\" class=\"data row2 col3\" >0.007907</td>\n",
              "      <td id=\"T_029a7_row2_col4\" class=\"data row2 col4\" >0.537946</td>\n",
              "      <td id=\"T_029a7_row2_col5\" class=\"data row2 col5\" >-0.000046</td>\n",
              "      <td id=\"T_029a7_row2_col6\" class=\"data row2 col6\" >-0.000860</td>\n",
              "      <td id=\"T_029a7_row2_col7\" class=\"data row2 col7\" >0.000204</td>\n",
              "      <td id=\"T_029a7_row2_col8\" class=\"data row2 col8\" >0.004194</td>\n",
              "    </tr>\n",
              "    <tr>\n",
              "      <th id=\"T_029a7_level0_row3\" class=\"row_heading level0 row3\" >vlr_score</th>\n",
              "      <td id=\"T_029a7_row3_col0\" class=\"data row3 col0\" >-0.003689</td>\n",
              "      <td id=\"T_029a7_row3_col1\" class=\"data row3 col1\" >0.094079</td>\n",
              "      <td id=\"T_029a7_row3_col2\" class=\"data row3 col2\" >0.007907</td>\n",
              "      <td id=\"T_029a7_row3_col3\" class=\"data row3 col3\" >1.000000</td>\n",
              "      <td id=\"T_029a7_row3_col4\" class=\"data row3 col4\" >0.003653</td>\n",
              "      <td id=\"T_029a7_row3_col5\" class=\"data row3 col5\" >-0.002278</td>\n",
              "      <td id=\"T_029a7_row3_col6\" class=\"data row3 col6\" >-0.103882</td>\n",
              "      <td id=\"T_029a7_row3_col7\" class=\"data row3 col7\" >0.145935</td>\n",
              "      <td id=\"T_029a7_row3_col8\" class=\"data row3 col8\" >0.618704</td>\n",
              "    </tr>\n",
              "    <tr>\n",
              "      <th id=\"T_029a7_level0_row4\" class=\"row_heading level0 row4\" >num_atend</th>\n",
              "      <td id=\"T_029a7_row4_col0\" class=\"data row4 col0\" >0.001298</td>\n",
              "      <td id=\"T_029a7_row4_col1\" class=\"data row4 col1\" >-0.001340</td>\n",
              "      <td id=\"T_029a7_row4_col2\" class=\"data row4 col2\" >0.537946</td>\n",
              "      <td id=\"T_029a7_row4_col3\" class=\"data row4 col3\" >0.003653</td>\n",
              "      <td id=\"T_029a7_row4_col4\" class=\"data row4 col4\" >1.000000</td>\n",
              "      <td id=\"T_029a7_row4_col5\" class=\"data row4 col5\" >-0.000088</td>\n",
              "      <td id=\"T_029a7_row4_col6\" class=\"data row4 col6\" >-0.000059</td>\n",
              "      <td id=\"T_029a7_row4_col7\" class=\"data row4 col7\" >0.001665</td>\n",
              "      <td id=\"T_029a7_row4_col8\" class=\"data row4 col8\" >-0.001255</td>\n",
              "    </tr>\n",
              "    <tr>\n",
              "      <th id=\"T_029a7_level0_row5\" class=\"row_heading level0 row5\" >qtd_reclm</th>\n",
              "      <td id=\"T_029a7_row5_col0\" class=\"data row5 col0\" >0.000004</td>\n",
              "      <td id=\"T_029a7_row5_col1\" class=\"data row5 col1\" >0.002196</td>\n",
              "      <td id=\"T_029a7_row5_col2\" class=\"data row5 col2\" >-0.000046</td>\n",
              "      <td id=\"T_029a7_row5_col3\" class=\"data row5 col3\" >-0.002278</td>\n",
              "      <td id=\"T_029a7_row5_col4\" class=\"data row5 col4\" >-0.000088</td>\n",
              "      <td id=\"T_029a7_row5_col5\" class=\"data row5 col5\" >1.000000</td>\n",
              "      <td id=\"T_029a7_row5_col6\" class=\"data row5 col6\" >0.005118</td>\n",
              "      <td id=\"T_029a7_row5_col7\" class=\"data row5 col7\" >-0.001529</td>\n",
              "      <td id=\"T_029a7_row5_col8\" class=\"data row5 col8\" >-0.002539</td>\n",
              "    </tr>\n",
              "    <tr>\n",
              "      <th id=\"T_029a7_level0_row6\" class=\"row_heading level0 row6\" >qtd_restr</th>\n",
              "      <td id=\"T_029a7_row6_col0\" class=\"data row6 col0\" >-0.002301</td>\n",
              "      <td id=\"T_029a7_row6_col1\" class=\"data row6 col1\" >0.114967</td>\n",
              "      <td id=\"T_029a7_row6_col2\" class=\"data row6 col2\" >-0.000860</td>\n",
              "      <td id=\"T_029a7_row6_col3\" class=\"data row6 col3\" >-0.103882</td>\n",
              "      <td id=\"T_029a7_row6_col4\" class=\"data row6 col4\" >-0.000059</td>\n",
              "      <td id=\"T_029a7_row6_col5\" class=\"data row6 col5\" >0.005118</td>\n",
              "      <td id=\"T_029a7_row6_col6\" class=\"data row6 col6\" >1.000000</td>\n",
              "      <td id=\"T_029a7_row6_col7\" class=\"data row6 col7\" >0.089440</td>\n",
              "      <td id=\"T_029a7_row6_col8\" class=\"data row6 col8\" >-0.316344</td>\n",
              "    </tr>\n",
              "    <tr>\n",
              "      <th id=\"T_029a7_level0_row7\" class=\"row_heading level0 row7\" >vlr_renda</th>\n",
              "      <td id=\"T_029a7_row7_col0\" class=\"data row7 col0\" >-0.000855</td>\n",
              "      <td id=\"T_029a7_row7_col1\" class=\"data row7 col1\" >0.474466</td>\n",
              "      <td id=\"T_029a7_row7_col2\" class=\"data row7 col2\" >0.000204</td>\n",
              "      <td id=\"T_029a7_row7_col3\" class=\"data row7 col3\" >0.145935</td>\n",
              "      <td id=\"T_029a7_row7_col4\" class=\"data row7 col4\" >0.001665</td>\n",
              "      <td id=\"T_029a7_row7_col5\" class=\"data row7 col5\" >-0.001529</td>\n",
              "      <td id=\"T_029a7_row7_col6\" class=\"data row7 col6\" >0.089440</td>\n",
              "      <td id=\"T_029a7_row7_col7\" class=\"data row7 col7\" >1.000000</td>\n",
              "      <td id=\"T_029a7_row7_col8\" class=\"data row7 col8\" >0.065169</td>\n",
              "    </tr>\n",
              "    <tr>\n",
              "      <th id=\"T_029a7_level0_row8\" class=\"row_heading level0 row8\" >ind_novo_cli</th>\n",
              "      <td id=\"T_029a7_row8_col0\" class=\"data row8 col0\" >-0.005114</td>\n",
              "      <td id=\"T_029a7_row8_col1\" class=\"data row8 col1\" >0.028897</td>\n",
              "      <td id=\"T_029a7_row8_col2\" class=\"data row8 col2\" >0.004194</td>\n",
              "      <td id=\"T_029a7_row8_col3\" class=\"data row8 col3\" >0.618704</td>\n",
              "      <td id=\"T_029a7_row8_col4\" class=\"data row8 col4\" >-0.001255</td>\n",
              "      <td id=\"T_029a7_row8_col5\" class=\"data row8 col5\" >-0.002539</td>\n",
              "      <td id=\"T_029a7_row8_col6\" class=\"data row8 col6\" >-0.316344</td>\n",
              "      <td id=\"T_029a7_row8_col7\" class=\"data row8 col7\" >0.065169</td>\n",
              "      <td id=\"T_029a7_row8_col8\" class=\"data row8 col8\" >1.000000</td>\n",
              "    </tr>\n",
              "  </tbody>\n",
              "</table>\n"
            ]
          },
          "metadata": {},
          "execution_count": 95
        }
      ]
    },
    {
      "cell_type": "code",
      "source": [
        "target_corr = matriz_corr.data.ind_novo_cli\n",
        "df_corr = target_corr.abs().sort_values(ascending=False).to_frame().style.background_gradient(cmap='coolwarm')\n",
        "df_corr"
      ],
      "metadata": {
        "id": "KwJ92nL84GJI",
        "colab": {
          "base_uri": "https://localhost:8080/",
          "height": 332
        },
        "outputId": "1c99b363-95bc-4175-cc56-bfad1c600f25"
      },
      "execution_count": 94,
      "outputs": [
        {
          "output_type": "execute_result",
          "data": {
            "text/plain": [
              "<pandas.io.formats.style.Styler at 0x7f13b24f5050>"
            ],
            "text/html": [
              "<style type=\"text/css\">\n",
              "#T_ba5c5_row0_col0 {\n",
              "  background-color: #b40426;\n",
              "  color: #f1f1f1;\n",
              "}\n",
              "#T_ba5c5_row1_col0 {\n",
              "  background-color: #f4c6af;\n",
              "  color: #000000;\n",
              "}\n",
              "#T_ba5c5_row2_col0 {\n",
              "  background-color: #a3c2fe;\n",
              "  color: #000000;\n",
              "}\n",
              "#T_ba5c5_row3_col0 {\n",
              "  background-color: #4e68d8;\n",
              "  color: #f1f1f1;\n",
              "}\n",
              "#T_ba5c5_row4_col0 {\n",
              "  background-color: #4358cb;\n",
              "  color: #f1f1f1;\n",
              "}\n",
              "#T_ba5c5_row5_col0, #T_ba5c5_row6_col0, #T_ba5c5_row7_col0, #T_ba5c5_row8_col0 {\n",
              "  background-color: #3b4cc0;\n",
              "  color: #f1f1f1;\n",
              "}\n",
              "</style>\n",
              "<table id=\"T_ba5c5_\" class=\"dataframe\">\n",
              "  <thead>\n",
              "    <tr>\n",
              "      <th class=\"blank level0\" >&nbsp;</th>\n",
              "      <th class=\"col_heading level0 col0\" >ind_novo_cli</th>\n",
              "    </tr>\n",
              "  </thead>\n",
              "  <tbody>\n",
              "    <tr>\n",
              "      <th id=\"T_ba5c5_level0_row0\" class=\"row_heading level0 row0\" >ind_novo_cli</th>\n",
              "      <td id=\"T_ba5c5_row0_col0\" class=\"data row0 col0\" >1.000000</td>\n",
              "    </tr>\n",
              "    <tr>\n",
              "      <th id=\"T_ba5c5_level0_row1\" class=\"row_heading level0 row1\" >vlr_score</th>\n",
              "      <td id=\"T_ba5c5_row1_col0\" class=\"data row1 col0\" >0.618704</td>\n",
              "    </tr>\n",
              "    <tr>\n",
              "      <th id=\"T_ba5c5_level0_row2\" class=\"row_heading level0 row2\" >qtd_restr</th>\n",
              "      <td id=\"T_ba5c5_row2_col0\" class=\"data row2 col0\" >0.316344</td>\n",
              "    </tr>\n",
              "    <tr>\n",
              "      <th id=\"T_ba5c5_level0_row3\" class=\"row_heading level0 row3\" >vlr_renda</th>\n",
              "      <td id=\"T_ba5c5_row3_col0\" class=\"data row3 col0\" >0.065169</td>\n",
              "    </tr>\n",
              "    <tr>\n",
              "      <th id=\"T_ba5c5_level0_row4\" class=\"row_heading level0 row4\" >vlr_credito</th>\n",
              "      <td id=\"T_ba5c5_row4_col0\" class=\"data row4 col0\" >0.028897</td>\n",
              "    </tr>\n",
              "    <tr>\n",
              "      <th id=\"T_ba5c5_level0_row5\" class=\"row_heading level0 row5\" >Unnamed: 0</th>\n",
              "      <td id=\"T_ba5c5_row5_col0\" class=\"data row5 col0\" >0.005114</td>\n",
              "    </tr>\n",
              "    <tr>\n",
              "      <th id=\"T_ba5c5_level0_row6\" class=\"row_heading level0 row6\" >num_atend_atrs</th>\n",
              "      <td id=\"T_ba5c5_row6_col0\" class=\"data row6 col0\" >0.004194</td>\n",
              "    </tr>\n",
              "    <tr>\n",
              "      <th id=\"T_ba5c5_level0_row7\" class=\"row_heading level0 row7\" >qtd_reclm</th>\n",
              "      <td id=\"T_ba5c5_row7_col0\" class=\"data row7 col0\" >0.002539</td>\n",
              "    </tr>\n",
              "    <tr>\n",
              "      <th id=\"T_ba5c5_level0_row8\" class=\"row_heading level0 row8\" >num_atend</th>\n",
              "      <td id=\"T_ba5c5_row8_col0\" class=\"data row8 col0\" >0.001255</td>\n",
              "    </tr>\n",
              "  </tbody>\n",
              "</table>\n"
            ]
          },
          "metadata": {},
          "execution_count": 94
        }
      ]
    },
    {
      "cell_type": "markdown",
      "source": [
        "#Testagem de hiperparâmetros manualmente nos modelos Novo cliente\n",
        "\n",
        "\n",
        "\n",
        "\n",
        "\n",
        "\n",
        "\n",
        "\n",
        "\n"
      ],
      "metadata": {
        "id": "GGOX7e5djzIz"
      }
    },
    {
      "cell_type": "markdown",
      "source": [
        "##Treinamento Teste"
      ],
      "metadata": {
        "id": "3CuSz6b4OstP"
      }
    },
    {
      "cell_type": "code",
      "source": [
        "from sklearn.model_selection import train_test_split\n",
        "\n",
        "cols = ['vlr_credito', 'vlr_renda', 'qtd_restr','vlr_score']\n",
        "\n",
        "# Dividindo x e y\n",
        "x = not_client[cols]\n",
        "y = not_client['ind_novo_cli']\n",
        "\n",
        "# Dividindo dados para treino e dados para teste\n",
        "x_train, x_test, y_train, y_test = train_test_split(x, y, test_size = 0.4, random_state = 50)"
      ],
      "metadata": {
        "id": "vygOZnWBOwnr"
      },
      "execution_count": null,
      "outputs": []
    },
    {
      "cell_type": "code",
      "source": [
        "not_client[cols].head()"
      ],
      "metadata": {
        "id": "M7hYGBOmD7FB"
      },
      "execution_count": null,
      "outputs": []
    },
    {
      "cell_type": "markdown",
      "source": [
        "##Árvore de decisão Parâmetro 1"
      ],
      "metadata": {
        "id": "UUr6DkgvDkRj"
      }
    },
    {
      "cell_type": "code",
      "source": [
        "from sklearn.model_selection import train_test_split\n",
        "from sklearn.tree import DecisionTreeClassifier\n",
        "\n",
        "avd = DecisionTreeClassifier(criterion='entropy', random_state=42)\n",
        "avd.fit(x_train, y_train)"
      ],
      "metadata": {
        "id": "Gt9I27vVShAy"
      },
      "execution_count": null,
      "outputs": []
    },
    {
      "cell_type": "code",
      "source": [
        "y_pred_avd = avd.predict(x_test)\n",
        "y_pred_avd"
      ],
      "metadata": {
        "id": "7DpjbLq7Slg3"
      },
      "execution_count": null,
      "outputs": []
    },
    {
      "cell_type": "markdown",
      "source": [
        "###Métricas"
      ],
      "metadata": {
        "id": "4c3zaL5DSyqJ"
      }
    },
    {
      "cell_type": "markdown",
      "source": [
        "Acurácia"
      ],
      "metadata": {
        "id": "T3YJgczvTLTb"
      }
    },
    {
      "cell_type": "code",
      "source": [
        "from sklearn.metrics import accuracy_score\n",
        "accuracy_score(y_test, y_pred_avd)"
      ],
      "metadata": {
        "id": "RFGTNR05S1kB"
      },
      "execution_count": null,
      "outputs": []
    },
    {
      "cell_type": "markdown",
      "source": [
        "Precisão"
      ],
      "metadata": {
        "id": "cZ_T_WxcTNky"
      }
    },
    {
      "cell_type": "code",
      "source": [
        "from sklearn.metrics import precision_score\n",
        "precision_score(y_test, y_pred_avd)"
      ],
      "metadata": {
        "id": "J0YwCh02S6oP"
      },
      "execution_count": null,
      "outputs": []
    },
    {
      "cell_type": "markdown",
      "source": [
        "Recall"
      ],
      "metadata": {
        "id": "VWxDsiiWTPWR"
      }
    },
    {
      "cell_type": "code",
      "source": [
        "from sklearn.metrics import recall_score\n",
        "recall_score(y_test, y_pred_avd)"
      ],
      "metadata": {
        "id": "Hfqzd7jWTCZJ"
      },
      "execution_count": null,
      "outputs": []
    },
    {
      "cell_type": "markdown",
      "source": [
        "###Matriz de confusão"
      ],
      "metadata": {
        "id": "VGuU9uewTecb"
      }
    },
    {
      "cell_type": "code",
      "source": [
        "plot_confusion_matrix(avd,x_test,y_test, cmap='Blues')\n"
      ],
      "metadata": {
        "id": "1FAqMJDETieu"
      },
      "execution_count": null,
      "outputs": []
    },
    {
      "cell_type": "markdown",
      "source": [
        "##Árvore de decisão Parâmetro 2"
      ],
      "metadata": {
        "id": "dGsaV_dYk3kJ"
      }
    },
    {
      "cell_type": "code",
      "source": [
        "from sklearn.model_selection import train_test_split\n",
        "from sklearn.tree import DecisionTreeClassifier\n",
        "\n",
        "avd = DecisionTreeClassifier(criterion='gini', random_state=42)\n",
        "avd.fit(x_train, y_train)"
      ],
      "metadata": {
        "id": "ABCQAXsyk3kK"
      },
      "execution_count": null,
      "outputs": []
    },
    {
      "cell_type": "code",
      "source": [
        "y_pred_avd = avd.predict(x_test)\n",
        "y_pred_avd"
      ],
      "metadata": {
        "id": "-ekEtrMyk3kK"
      },
      "execution_count": null,
      "outputs": []
    },
    {
      "cell_type": "markdown",
      "source": [
        "###Métricas"
      ],
      "metadata": {
        "id": "tUO-1C0Lk3kK"
      }
    },
    {
      "cell_type": "markdown",
      "source": [
        "Acurácia"
      ],
      "metadata": {
        "id": "nfPMacZRk3kK"
      }
    },
    {
      "cell_type": "code",
      "source": [
        "from sklearn.metrics import accuracy_score\n",
        "accuracy_score(y_test, y_pred_avd)"
      ],
      "metadata": {
        "id": "4GQO-XMNk3kK"
      },
      "execution_count": null,
      "outputs": []
    },
    {
      "cell_type": "markdown",
      "source": [
        "Precisão"
      ],
      "metadata": {
        "id": "yKxF84Jck3kL"
      }
    },
    {
      "cell_type": "code",
      "source": [
        "from sklearn.metrics import precision_score\n",
        "precision_score(y_test, y_pred_avd)"
      ],
      "metadata": {
        "id": "YzUFA7oSk3kL"
      },
      "execution_count": null,
      "outputs": []
    },
    {
      "cell_type": "markdown",
      "source": [
        "Recall"
      ],
      "metadata": {
        "id": "u6r2s77Vk3kL"
      }
    },
    {
      "cell_type": "code",
      "source": [
        "from sklearn.metrics import recall_score\n",
        "recall_score(y_test, y_pred_avd)"
      ],
      "metadata": {
        "id": "1HzIvsnBk3kL"
      },
      "execution_count": null,
      "outputs": []
    },
    {
      "cell_type": "markdown",
      "source": [
        "###Matriz de confusão"
      ],
      "metadata": {
        "id": "s11coLG_k3kM"
      }
    },
    {
      "cell_type": "code",
      "source": [
        "plot_confusion_matrix(avd,x_test,y_test, cmap='Blues')\n"
      ],
      "metadata": {
        "id": "QrRjEzRnk3kM"
      },
      "execution_count": null,
      "outputs": []
    },
    {
      "cell_type": "markdown",
      "source": [
        "##Árvore de decisão Parâmetro 3"
      ],
      "metadata": {
        "id": "52yyern5lGyC"
      }
    },
    {
      "cell_type": "code",
      "source": [
        "from sklearn.model_selection import train_test_split\n",
        "from sklearn.tree import DecisionTreeClassifier\n",
        "\n",
        "avd = DecisionTreeClassifier(criterion='entropy', max_features='auto', random_state=42)\n",
        "avd.fit(x_train, y_train)"
      ],
      "metadata": {
        "id": "QmgCxChWlGyD"
      },
      "execution_count": null,
      "outputs": []
    },
    {
      "cell_type": "code",
      "source": [
        "y_pred_avd = avd.predict(x_test)\n",
        "y_pred_avd"
      ],
      "metadata": {
        "id": "IhyzfOY5lGyE"
      },
      "execution_count": null,
      "outputs": []
    },
    {
      "cell_type": "markdown",
      "source": [
        "###Métricas"
      ],
      "metadata": {
        "id": "EZXg-LVUlGyF"
      }
    },
    {
      "cell_type": "markdown",
      "source": [
        "Acurácia"
      ],
      "metadata": {
        "id": "3zUZ7_qnlGyG"
      }
    },
    {
      "cell_type": "code",
      "source": [
        "from sklearn.metrics import accuracy_score\n",
        "accuracy_score(y_test, y_pred_avd)"
      ],
      "metadata": {
        "id": "NOgPpL4IlGyG"
      },
      "execution_count": null,
      "outputs": []
    },
    {
      "cell_type": "markdown",
      "source": [
        "Precisão"
      ],
      "metadata": {
        "id": "b5LOPC7hlGyG"
      }
    },
    {
      "cell_type": "code",
      "source": [
        "from sklearn.metrics import precision_score\n",
        "precision_score(y_test, y_pred_avd)"
      ],
      "metadata": {
        "id": "OOriKnV8lGyH"
      },
      "execution_count": null,
      "outputs": []
    },
    {
      "cell_type": "markdown",
      "source": [
        "Recall"
      ],
      "metadata": {
        "id": "_Ed-XyWwlGyH"
      }
    },
    {
      "cell_type": "code",
      "source": [
        "from sklearn.metrics import recall_score\n",
        "recall_score(y_test, y_pred_avd)"
      ],
      "metadata": {
        "id": "DrQO4k4JlGyH",
        "colab": {
          "base_uri": "https://localhost:8080/"
        },
        "outputId": "acb4d893-27e7-4c62-fbd5-f5c1b7493fd2"
      },
      "execution_count": 26,
      "outputs": [
        {
          "data": {
            "text/plain": [
              "1.0"
            ]
          },
          "execution_count": 26,
          "metadata": {},
          "output_type": "execute_result"
        }
      ]
    },
    {
      "cell_type": "markdown",
      "source": [
        "###Matriz de confusão"
      ],
      "metadata": {
        "id": "mbvEa_8ZlGyI"
      }
    },
    {
      "cell_type": "code",
      "source": [
        "plot_confusion_matrix(avd,x_test,y_test, cmap='Blues')\n"
      ],
      "metadata": {
        "id": "Ofc9YzG1lGyI",
        "colab": {
          "base_uri": "https://localhost:8080/",
          "height": 296
        },
        "outputId": "2aae8cdb-899c-4cab-e667-1dd1fc5d4455"
      },
      "execution_count": 27,
      "outputs": [
        {
          "data": {
            "text/plain": [
              "<sklearn.metrics._plot.confusion_matrix.ConfusionMatrixDisplay at 0x7f13b1e33710>"
            ]
          },
          "execution_count": 27,
          "metadata": {},
          "output_type": "execute_result"
        },
        {
          "data": {
            "image/png": "[encoded data removed]",
            "text/plain": [
              "<Figure size 432x288 with 2 Axes>"
            ]
          },
          "metadata": {},
          "output_type": "display_data"
        }
      ]
    },
    {
      "cell_type": "markdown",
      "source": [
        "##Árvore de decisão Parâmetro 4"
      ],
      "metadata": {
        "id": "yR5U_XE9lIO3"
      }
    },
    {
      "cell_type": "code",
      "source": [
        "from sklearn.model_selection import train_test_split\n",
        "from sklearn.tree import DecisionTreeClassifier\n",
        "\n",
        "avd = DecisionTreeClassifier(criterion='entropy',max_features='log2', random_state=42)\n",
        "avd.fit(x_train, y_train)"
      ],
      "metadata": {
        "id": "PKWj3JvnlIO3",
        "colab": {
          "base_uri": "https://localhost:8080/"
        },
        "outputId": "3e7fb660-ad46-4f25-8df2-0ae2ebd6a368"
      },
      "execution_count": 28,
      "outputs": [
        {
          "data": {
            "text/plain": [
              "DecisionTreeClassifier(criterion='entropy', max_features='log2',\n",
              "                       random_state=42)"
            ]
          },
          "execution_count": 28,
          "metadata": {},
          "output_type": "execute_result"
        }
      ]
    },
    {
      "cell_type": "code",
      "source": [
        "y_pred_avd = avd.predict(x_test)\n",
        "y_pred_avd"
      ],
      "metadata": {
        "id": "zM4K_iVolIO4",
        "colab": {
          "base_uri": "https://localhost:8080/"
        },
        "outputId": "6e4335ed-4ae4-4a55-ed3d-f7de35e3a2d6"
      },
      "execution_count": 29,
      "outputs": [
        {
          "data": {
            "text/plain": [
              "array([0., 0., 0., ..., 0., 0., 0.])"
            ]
          },
          "execution_count": 29,
          "metadata": {},
          "output_type": "execute_result"
        }
      ]
    },
    {
      "cell_type": "markdown",
      "source": [
        "###Métricas"
      ],
      "metadata": {
        "id": "fqfd_aijlIO4"
      }
    },
    {
      "cell_type": "markdown",
      "source": [
        "Acurácia"
      ],
      "metadata": {
        "id": "2MvtBuW9lIO4"
      }
    },
    {
      "cell_type": "code",
      "source": [
        "from sklearn.metrics import accuracy_score\n",
        "accuracy_score(y_test, y_pred_avd)"
      ],
      "metadata": {
        "id": "pT3ly0oflIO4",
        "colab": {
          "base_uri": "https://localhost:8080/"
        },
        "outputId": "fc64c5c1-6ead-48b2-ffe7-7c40818adeeb"
      },
      "execution_count": 30,
      "outputs": [
        {
          "data": {
            "text/plain": [
              "1.0"
            ]
          },
          "execution_count": 30,
          "metadata": {},
          "output_type": "execute_result"
        }
      ]
    },
    {
      "cell_type": "markdown",
      "source": [
        "Precisão"
      ],
      "metadata": {
        "id": "s8fK0TX9lIO4"
      }
    },
    {
      "cell_type": "code",
      "source": [
        "from sklearn.metrics import precision_score\n",
        "precision_score(y_test, y_pred_avd)"
      ],
      "metadata": {
        "id": "QJf0lwyDlIO4",
        "colab": {
          "base_uri": "https://localhost:8080/"
        },
        "outputId": "5ab5e6e2-e987-4b70-a240-a97e3cb3b4dc"
      },
      "execution_count": 31,
      "outputs": [
        {
          "data": {
            "text/plain": [
              "1.0"
            ]
          },
          "execution_count": 31,
          "metadata": {},
          "output_type": "execute_result"
        }
      ]
    },
    {
      "cell_type": "markdown",
      "source": [
        "Recall"
      ],
      "metadata": {
        "id": "CIfkDQtSlIO5"
      }
    },
    {
      "cell_type": "code",
      "source": [
        "from sklearn.metrics import recall_score\n",
        "recall_score(y_test, y_pred_avd)"
      ],
      "metadata": {
        "id": "sV2AlxQglIO5",
        "colab": {
          "base_uri": "https://localhost:8080/"
        },
        "outputId": "721ecffa-9657-4434-8334-3daaafd67453"
      },
      "execution_count": 32,
      "outputs": [
        {
          "data": {
            "text/plain": [
              "1.0"
            ]
          },
          "execution_count": 32,
          "metadata": {},
          "output_type": "execute_result"
        }
      ]
    },
    {
      "cell_type": "markdown",
      "source": [
        "###Matriz de confusão"
      ],
      "metadata": {
        "id": "KtnyflBQlIO5"
      }
    },
    {
      "cell_type": "code",
      "source": [
        "plot_confusion_matrix(avd,x_test,y_test, cmap='Blues')\n"
      ],
      "metadata": {
        "id": "pVknQpnglIO5",
        "colab": {
          "base_uri": "https://localhost:8080/",
          "height": 296
        },
        "outputId": "8991d07e-1015-4d96-b666-573e306444cd"
      },
      "execution_count": 33,
      "outputs": [
        {
          "data": {
            "text/plain": [
              "<sklearn.metrics._plot.confusion_matrix.ConfusionMatrixDisplay at 0x7f13b250b050>"
            ]
          },
          "execution_count": 33,
          "metadata": {},
          "output_type": "execute_result"
        },
        {
          "data": {
            "image/png": "[encoded data removed]",
            "text/plain": [
              "<Figure size 432x288 with 2 Axes>"
            ]
          },
          "metadata": {},
          "output_type": "display_data"
        }
      ]
    },
    {
      "cell_type": "markdown",
      "source": [
        "##Árvore de decisão Parâmetro 5"
      ],
      "metadata": {
        "id": "Y7N2wUwTlJ2s"
      }
    },
    {
      "cell_type": "code",
      "source": [
        "from sklearn.model_selection import train_test_split\n",
        "from sklearn.tree import DecisionTreeClassifier\n",
        "\n",
        "avd = DecisionTreeClassifier(criterion='entropy',max_features='sqrt', random_state=42)\n",
        "avd.fit(x_train, y_train)"
      ],
      "metadata": {
        "id": "hg8tJKV7lJ2s",
        "colab": {
          "base_uri": "https://localhost:8080/"
        },
        "outputId": "55983788-b01e-4a63-8190-c87e3ddf7fa2"
      },
      "execution_count": 34,
      "outputs": [
        {
          "data": {
            "text/plain": [
              "DecisionTreeClassifier(criterion='entropy', max_features='sqrt',\n",
              "                       random_state=42)"
            ]
          },
          "execution_count": 34,
          "metadata": {},
          "output_type": "execute_result"
        }
      ]
    },
    {
      "cell_type": "code",
      "source": [
        "y_pred_avd = avd.predict(x_test)\n",
        "y_pred_avd"
      ],
      "metadata": {
        "id": "d7LxYz22lJ2t",
        "colab": {
          "base_uri": "https://localhost:8080/"
        },
        "outputId": "8fc38979-1b7d-4665-bc48-a8c37183da34"
      },
      "execution_count": 35,
      "outputs": [
        {
          "data": {
            "text/plain": [
              "array([0., 0., 0., ..., 0., 0., 0.])"
            ]
          },
          "execution_count": 35,
          "metadata": {},
          "output_type": "execute_result"
        }
      ]
    },
    {
      "cell_type": "markdown",
      "source": [
        "###Métricas"
      ],
      "metadata": {
        "id": "J_W8Eh-RlJ2t"
      }
    },
    {
      "cell_type": "markdown",
      "source": [
        "Acurácia"
      ],
      "metadata": {
        "id": "gzXLD_hmlJ2t"
      }
    },
    {
      "cell_type": "code",
      "source": [
        "from sklearn.metrics import accuracy_score\n",
        "accuracy_score(y_test, y_pred_avd)"
      ],
      "metadata": {
        "id": "vTms2ftLlJ2t",
        "colab": {
          "base_uri": "https://localhost:8080/"
        },
        "outputId": "5e54373b-d5ef-4112-8fb0-b5f2b29aa53c"
      },
      "execution_count": 36,
      "outputs": [
        {
          "data": {
            "text/plain": [
              "1.0"
            ]
          },
          "execution_count": 36,
          "metadata": {},
          "output_type": "execute_result"
        }
      ]
    },
    {
      "cell_type": "markdown",
      "source": [
        "Precisão"
      ],
      "metadata": {
        "id": "yJW-Ey0slJ2t"
      }
    },
    {
      "cell_type": "code",
      "source": [
        "from sklearn.metrics import precision_score\n",
        "precision_score(y_test, y_pred_avd)"
      ],
      "metadata": {
        "id": "-qHT6hvOlJ2t",
        "colab": {
          "base_uri": "https://localhost:8080/"
        },
        "outputId": "9b8e2a74-775b-4879-dc61-4c2b40dd9c9b"
      },
      "execution_count": 37,
      "outputs": [
        {
          "data": {
            "text/plain": [
              "1.0"
            ]
          },
          "execution_count": 37,
          "metadata": {},
          "output_type": "execute_result"
        }
      ]
    },
    {
      "cell_type": "markdown",
      "source": [
        "Recall"
      ],
      "metadata": {
        "id": "p0Mj4uerlJ2t"
      }
    },
    {
      "cell_type": "code",
      "source": [
        "from sklearn.metrics import recall_score\n",
        "recall_score(y_test, y_pred_avd)"
      ],
      "metadata": {
        "id": "mZDCHaRVlJ2u",
        "colab": {
          "base_uri": "https://localhost:8080/"
        },
        "outputId": "9ab9a972-993a-41b3-abc4-7ffe5f2d633b"
      },
      "execution_count": 38,
      "outputs": [
        {
          "data": {
            "text/plain": [
              "1.0"
            ]
          },
          "execution_count": 38,
          "metadata": {},
          "output_type": "execute_result"
        }
      ]
    },
    {
      "cell_type": "markdown",
      "source": [
        "###Matriz de confusão"
      ],
      "metadata": {
        "id": "zKsptiNalJ2u"
      }
    },
    {
      "cell_type": "code",
      "source": [
        "plot_confusion_matrix(avd,x_test,y_test, cmap='Blues')\n"
      ],
      "metadata": {
        "id": "CD0RA8ZDlJ2u",
        "colab": {
          "base_uri": "https://localhost:8080/",
          "height": 296
        },
        "outputId": "853e6bee-ecaf-4174-a86f-c1c5fe925a43"
      },
      "execution_count": 39,
      "outputs": [
        {
          "data": {
            "text/plain": [
              "<sklearn.metrics._plot.confusion_matrix.ConfusionMatrixDisplay at 0x7f13b1c94c90>"
            ]
          },
          "execution_count": 39,
          "metadata": {},
          "output_type": "execute_result"
        },
        {
          "data": {
            "image/png": "[encoded data removed]",
            "text/plain": [
              "<Figure size 432x288 with 2 Axes>"
            ]
          },
          "metadata": {},
          "output_type": "display_data"
        }
      ]
    },
    {
      "cell_type": "markdown",
      "source": [
        "###De acordo com os parâmetros utilizados, todos os resultados analisados foram iguais, pois há um vazamento de dados a partir do vlr_score.\n",
        "#### "
      ],
      "metadata": {
        "id": "zCebOlteIHvx"
      }
    },
    {
      "cell_type": "markdown",
      "source": [
        "##Random Forest Parâmetro 1\n"
      ],
      "metadata": {
        "id": "JBbo9NueQ2c7"
      }
    },
    {
      "cell_type": "code",
      "source": [
        "from sklearn.ensemble import RandomForestClassifier\n",
        "from sklearn.metrics import plot_confusion_matrix\n",
        "\n",
        "rdf = RandomForestClassifier(criterion='entropy',max_features='sqrt', random_state=42)\n",
        "rdf.fit(x_train, y_train)\n"
      ],
      "metadata": {
        "id": "PYI_gLXAQ5rs",
        "colab": {
          "base_uri": "https://localhost:8080/"
        },
        "outputId": "1b197847-f16f-4b57-ed72-5dccf4b09ba8"
      },
      "execution_count": 40,
      "outputs": [
        {
          "data": {
            "text/plain": [
              "RandomForestClassifier(criterion='entropy', max_features='sqrt',\n",
              "                       random_state=42)"
            ]
          },
          "execution_count": 40,
          "metadata": {},
          "output_type": "execute_result"
        }
      ]
    },
    {
      "cell_type": "code",
      "source": [
        "y_pred_rdf = rdf.predict(x_test)"
      ],
      "metadata": {
        "id": "Z-SN0VCyRAyd"
      },
      "execution_count": 41,
      "outputs": []
    },
    {
      "cell_type": "markdown",
      "source": [
        "###Métricas"
      ],
      "metadata": {
        "id": "79ppsZbPRSX0"
      }
    },
    {
      "cell_type": "markdown",
      "source": [
        "Acurácia"
      ],
      "metadata": {
        "id": "Qnay7brsRUhB"
      }
    },
    {
      "cell_type": "code",
      "source": [
        "from sklearn.metrics import accuracy_score\n",
        "accuracy_score(y_test, y_pred_rdf)"
      ],
      "metadata": {
        "id": "_LyNdUN8RO66",
        "colab": {
          "base_uri": "https://localhost:8080/"
        },
        "outputId": "99aad5ac-81c4-4c56-f398-b0418b3160a0"
      },
      "execution_count": 42,
      "outputs": [
        {
          "data": {
            "text/plain": [
              "1.0"
            ]
          },
          "execution_count": 42,
          "metadata": {},
          "output_type": "execute_result"
        }
      ]
    },
    {
      "cell_type": "markdown",
      "source": [
        "Precisão"
      ],
      "metadata": {
        "id": "M1Ixi_5DRXbR"
      }
    },
    {
      "cell_type": "code",
      "source": [
        "from sklearn.metrics import precision_score\n",
        "precision_score(y_test, y_pred_rdf)"
      ],
      "metadata": {
        "id": "mSRTBO9SRXAx",
        "colab": {
          "base_uri": "https://localhost:8080/"
        },
        "outputId": "12ff300d-fafd-48a1-9380-1f4d60ed0779"
      },
      "execution_count": 43,
      "outputs": [
        {
          "data": {
            "text/plain": [
              "1.0"
            ]
          },
          "execution_count": 43,
          "metadata": {},
          "output_type": "execute_result"
        }
      ]
    },
    {
      "cell_type": "markdown",
      "source": [
        "Recall"
      ],
      "metadata": {
        "id": "0KoHssB4Rd80"
      }
    },
    {
      "cell_type": "code",
      "source": [
        "from sklearn.metrics import recall_score\n",
        "recall_score(y_test, y_pred_rdf)"
      ],
      "metadata": {
        "id": "GsN_XhEYRdh6",
        "colab": {
          "base_uri": "https://localhost:8080/"
        },
        "outputId": "d33330d5-15ed-4254-b098-f84b8530536d"
      },
      "execution_count": 44,
      "outputs": [
        {
          "data": {
            "text/plain": [
              "1.0"
            ]
          },
          "execution_count": 44,
          "metadata": {},
          "output_type": "execute_result"
        }
      ]
    },
    {
      "cell_type": "code",
      "source": [
        "plot_confusion_matrix(rdf,x_test,y_test, cmap='Blues')"
      ],
      "metadata": {
        "id": "Sc8Z1qYbRz_a",
        "colab": {
          "base_uri": "https://localhost:8080/",
          "height": 296
        },
        "outputId": "180bca0f-36bd-40d1-ddd2-e1a7f19d199c"
      },
      "execution_count": 45,
      "outputs": [
        {
          "data": {
            "text/plain": [
              "<sklearn.metrics._plot.confusion_matrix.ConfusionMatrixDisplay at 0x7f13b1bc8a50>"
            ]
          },
          "execution_count": 45,
          "metadata": {},
          "output_type": "execute_result"
        },
        {
          "data": {
            "image/png": "[encoded data removed]",
            "text/plain": [
              "<Figure size 432x288 with 2 Axes>"
            ]
          },
          "metadata": {},
          "output_type": "display_data"
        }
      ]
    },
    {
      "cell_type": "markdown",
      "source": [],
      "metadata": {
        "id": "6wNFILDjR6Qi"
      }
    },
    {
      "cell_type": "markdown",
      "source": [
        "##Random Forest Parâmetro 2\n"
      ],
      "metadata": {
        "id": "1OSEpLxDHICV"
      }
    },
    {
      "cell_type": "code",
      "source": [
        "from sklearn.ensemble import RandomForestClassifier\n",
        "from sklearn.metrics import plot_confusion_matrix\n",
        "\n",
        "rdf = RandomForestClassifier(criterion='gini', random_state=42)\n",
        "rdf.fit(x_train, y_train)\n"
      ],
      "metadata": {
        "id": "yKFHJgHKHICW",
        "colab": {
          "base_uri": "https://localhost:8080/"
        },
        "outputId": "8082ce05-820d-47ca-a43c-0e7b12fb20b5"
      },
      "execution_count": 46,
      "outputs": [
        {
          "data": {
            "text/plain": [
              "RandomForestClassifier(random_state=42)"
            ]
          },
          "execution_count": 46,
          "metadata": {},
          "output_type": "execute_result"
        }
      ]
    },
    {
      "cell_type": "code",
      "source": [
        "y_pred_rdf = rdf.predict(x_test)"
      ],
      "metadata": {
        "id": "ehKAIpBLHICX"
      },
      "execution_count": 47,
      "outputs": []
    },
    {
      "cell_type": "markdown",
      "source": [
        "###Métricas"
      ],
      "metadata": {
        "id": "Car3VeWVHICY"
      }
    },
    {
      "cell_type": "markdown",
      "source": [
        "Acurácia"
      ],
      "metadata": {
        "id": "0pGHzPuJHICY"
      }
    },
    {
      "cell_type": "code",
      "source": [
        "from sklearn.metrics import accuracy_score\n",
        "accuracy_score(y_test, y_pred_rdf)"
      ],
      "metadata": {
        "id": "ASEAPlr8HICZ",
        "colab": {
          "base_uri": "https://localhost:8080/"
        },
        "outputId": "8a3d540e-2d87-437e-97dc-701534f13fe6"
      },
      "execution_count": 48,
      "outputs": [
        {
          "data": {
            "text/plain": [
              "1.0"
            ]
          },
          "execution_count": 48,
          "metadata": {},
          "output_type": "execute_result"
        }
      ]
    },
    {
      "cell_type": "markdown",
      "source": [
        "Precisão"
      ],
      "metadata": {
        "id": "ztp9kiAWHICa"
      }
    },
    {
      "cell_type": "code",
      "source": [
        "from sklearn.metrics import precision_score\n",
        "precision_score(y_test, y_pred_rdf)"
      ],
      "metadata": {
        "id": "M6vc5TM7HICa",
        "colab": {
          "base_uri": "https://localhost:8080/"
        },
        "outputId": "be8b658f-41c6-4a9e-9ea8-0348d77a9762"
      },
      "execution_count": 49,
      "outputs": [
        {
          "data": {
            "text/plain": [
              "1.0"
            ]
          },
          "execution_count": 49,
          "metadata": {},
          "output_type": "execute_result"
        }
      ]
    },
    {
      "cell_type": "markdown",
      "source": [
        "Recall"
      ],
      "metadata": {
        "id": "g9NmfrNGHICb"
      }
    },
    {
      "cell_type": "code",
      "source": [
        "from sklearn.metrics import recall_score\n",
        "recall_score(y_test, y_pred_rdf)"
      ],
      "metadata": {
        "id": "hHrisuwfHICb",
        "colab": {
          "base_uri": "https://localhost:8080/"
        },
        "outputId": "92737073-7e3f-48e7-d71a-cd459a98f3b3"
      },
      "execution_count": 50,
      "outputs": [
        {
          "data": {
            "text/plain": [
              "1.0"
            ]
          },
          "execution_count": 50,
          "metadata": {},
          "output_type": "execute_result"
        }
      ]
    },
    {
      "cell_type": "code",
      "source": [
        "plot_confusion_matrix(rdf,x_test,y_test, cmap='Blues')"
      ],
      "metadata": {
        "id": "bwWsWspiHICc",
        "colab": {
          "base_uri": "https://localhost:8080/",
          "height": 296
        },
        "outputId": "3b31823b-f7c8-4b93-94d9-c39e93b56685"
      },
      "execution_count": 51,
      "outputs": [
        {
          "data": {
            "text/plain": [
              "<sklearn.metrics._plot.confusion_matrix.ConfusionMatrixDisplay at 0x7f13b1b79ad0>"
            ]
          },
          "execution_count": 51,
          "metadata": {},
          "output_type": "execute_result"
        },
        {
          "data": {
            "image/png": "[encoded data removed]",
            "text/plain": [
              "<Figure size 432x288 with 2 Axes>"
            ]
          },
          "metadata": {},
          "output_type": "display_data"
        }
      ]
    },
    {
      "cell_type": "markdown",
      "source": [],
      "metadata": {
        "id": "20pGKCPtHICc"
      }
    },
    {
      "cell_type": "markdown",
      "source": [
        "##Random Forest Parâmetro 3\n"
      ],
      "metadata": {
        "id": "LVEu01o4HLCi"
      }
    },
    {
      "cell_type": "code",
      "source": [
        "from sklearn.ensemble import RandomForestClassifier\n",
        "from sklearn.metrics import plot_confusion_matrix\n",
        "\n",
        "rdf = RandomForestClassifier(criterion='entropy', max_features='auto', random_state=42)\n",
        "rdf.fit(x_train, y_train)\n",
        "\n"
      ],
      "metadata": {
        "id": "KayY1ROHHLCj",
        "colab": {
          "base_uri": "https://localhost:8080/"
        },
        "outputId": "7265ae8a-f692-4fed-efbd-3b355cdd23e6"
      },
      "execution_count": 52,
      "outputs": [
        {
          "data": {
            "text/plain": [
              "RandomForestClassifier(criterion='entropy', random_state=42)"
            ]
          },
          "execution_count": 52,
          "metadata": {},
          "output_type": "execute_result"
        }
      ]
    },
    {
      "cell_type": "code",
      "source": [
        "y_pred_rdf = rdf.predict(x_test)"
      ],
      "metadata": {
        "id": "JSfcWS-rHLCk"
      },
      "execution_count": 53,
      "outputs": []
    },
    {
      "cell_type": "markdown",
      "source": [
        "###Métricas"
      ],
      "metadata": {
        "id": "ZcUpljQAHLCl"
      }
    },
    {
      "cell_type": "markdown",
      "source": [
        "Acurácia"
      ],
      "metadata": {
        "id": "MRS7tGIbHLCl"
      }
    },
    {
      "cell_type": "code",
      "source": [
        "from sklearn.metrics import accuracy_score\n",
        "accuracy_score(y_test, y_pred_rdf)"
      ],
      "metadata": {
        "id": "gUsUlFmgHLCm",
        "colab": {
          "base_uri": "https://localhost:8080/"
        },
        "outputId": "2850d3dc-2a4d-4d4b-9591-c664f803a0c5"
      },
      "execution_count": 54,
      "outputs": [
        {
          "data": {
            "text/plain": [
              "1.0"
            ]
          },
          "execution_count": 54,
          "metadata": {},
          "output_type": "execute_result"
        }
      ]
    },
    {
      "cell_type": "markdown",
      "source": [
        "Precisão"
      ],
      "metadata": {
        "id": "mZB8sTBVHLCm"
      }
    },
    {
      "cell_type": "code",
      "source": [
        "from sklearn.metrics import precision_score\n",
        "precision_score(y_test, y_pred_rdf)"
      ],
      "metadata": {
        "id": "0nNdfEeqHLCn",
        "colab": {
          "base_uri": "https://localhost:8080/"
        },
        "outputId": "b9214a63-6b55-42d4-ae21-25defb4270b5"
      },
      "execution_count": 55,
      "outputs": [
        {
          "data": {
            "text/plain": [
              "1.0"
            ]
          },
          "execution_count": 55,
          "metadata": {},
          "output_type": "execute_result"
        }
      ]
    },
    {
      "cell_type": "markdown",
      "source": [
        "Recall"
      ],
      "metadata": {
        "id": "xikSxSHTHLCo"
      }
    },
    {
      "cell_type": "code",
      "source": [
        "from sklearn.metrics import recall_score\n",
        "recall_score(y_test, y_pred_rdf)"
      ],
      "metadata": {
        "id": "DXE6037cHLCo",
        "colab": {
          "base_uri": "https://localhost:8080/"
        },
        "outputId": "bb047ee8-f228-4db1-8bc9-b00325c690e4"
      },
      "execution_count": 56,
      "outputs": [
        {
          "data": {
            "text/plain": [
              "1.0"
            ]
          },
          "execution_count": 56,
          "metadata": {},
          "output_type": "execute_result"
        }
      ]
    },
    {
      "cell_type": "code",
      "source": [
        "plot_confusion_matrix(rdf,x_test,y_test, cmap='Blues')"
      ],
      "metadata": {
        "id": "UOvW_AphHLCp",
        "colab": {
          "base_uri": "https://localhost:8080/",
          "height": 296
        },
        "outputId": "5dad1676-095d-4213-c9c2-fa36e488526e"
      },
      "execution_count": 57,
      "outputs": [
        {
          "data": {
            "text/plain": [
              "<sklearn.metrics._plot.confusion_matrix.ConfusionMatrixDisplay at 0x7f13b1a4b050>"
            ]
          },
          "execution_count": 57,
          "metadata": {},
          "output_type": "execute_result"
        },
        {
          "data": {
            "image/png": "[encoded data removed]",
            "text/plain": [
              "<Figure size 432x288 with 2 Axes>"
            ]
          },
          "metadata": {},
          "output_type": "display_data"
        }
      ]
    },
    {
      "cell_type": "markdown",
      "source": [],
      "metadata": {
        "id": "EdmV6T_9HLCp"
      }
    },
    {
      "cell_type": "markdown",
      "source": [
        "##Random Forest Parâmetro 4\n"
      ],
      "metadata": {
        "id": "Q-z_kAsRHMqX"
      }
    },
    {
      "cell_type": "code",
      "source": [
        "from sklearn.ensemble import RandomForestClassifier\n",
        "from sklearn.metrics import plot_confusion_matrix\n",
        "\n",
        "rdf = RandomForestClassifier(criterion='entropy', max_features='sqrt', random_state=42)\n",
        "rdf.fit(x_train, y_train)"
      ],
      "metadata": {
        "id": "m3XfZNKyHMqY",
        "colab": {
          "base_uri": "https://localhost:8080/"
        },
        "outputId": "a1e02a26-22b0-42d9-a31a-c0008badc53e"
      },
      "execution_count": 58,
      "outputs": [
        {
          "data": {
            "text/plain": [
              "RandomForestClassifier(criterion='entropy', max_features='sqrt',\n",
              "                       random_state=42)"
            ]
          },
          "execution_count": 58,
          "metadata": {},
          "output_type": "execute_result"
        }
      ]
    },
    {
      "cell_type": "code",
      "source": [
        "y_pred_rdf = rdf.predict(x_test)"
      ],
      "metadata": {
        "id": "nGefRyaVHMqa"
      },
      "execution_count": 59,
      "outputs": []
    },
    {
      "cell_type": "markdown",
      "source": [
        "###Métricas"
      ],
      "metadata": {
        "id": "o5pH7dkqHMqa"
      }
    },
    {
      "cell_type": "markdown",
      "source": [
        "Acurácia"
      ],
      "metadata": {
        "id": "SYsxzkViHMqb"
      }
    },
    {
      "cell_type": "code",
      "source": [
        "from sklearn.metrics import accuracy_score\n",
        "accuracy_score(y_test, y_pred_rdf)"
      ],
      "metadata": {
        "id": "iIVO0wB0HMqb",
        "colab": {
          "base_uri": "https://localhost:8080/"
        },
        "outputId": "23bea9c4-1247-4926-d8e2-3228dbdb2ecb"
      },
      "execution_count": 60,
      "outputs": [
        {
          "data": {
            "text/plain": [
              "1.0"
            ]
          },
          "execution_count": 60,
          "metadata": {},
          "output_type": "execute_result"
        }
      ]
    },
    {
      "cell_type": "markdown",
      "source": [
        "Precisão"
      ],
      "metadata": {
        "id": "o37KWK3vHMqc"
      }
    },
    {
      "cell_type": "code",
      "source": [
        "from sklearn.metrics import precision_score\n",
        "precision_score(y_test, y_pred_rdf)"
      ],
      "metadata": {
        "id": "8g8Ww331HMqc",
        "colab": {
          "base_uri": "https://localhost:8080/"
        },
        "outputId": "16e07c71-5bf8-4935-c79b-b35d6cef1361"
      },
      "execution_count": 61,
      "outputs": [
        {
          "data": {
            "text/plain": [
              "1.0"
            ]
          },
          "execution_count": 61,
          "metadata": {},
          "output_type": "execute_result"
        }
      ]
    },
    {
      "cell_type": "markdown",
      "source": [
        "Recall"
      ],
      "metadata": {
        "id": "9hnp2QmTHMqd"
      }
    },
    {
      "cell_type": "code",
      "source": [
        "from sklearn.metrics import recall_score\n",
        "recall_score(y_test, y_pred_rdf)"
      ],
      "metadata": {
        "id": "w_E58hu1HMqd",
        "colab": {
          "base_uri": "https://localhost:8080/"
        },
        "outputId": "b7e685d3-bd99-40c6-debd-c7cba981fb3a"
      },
      "execution_count": 62,
      "outputs": [
        {
          "data": {
            "text/plain": [
              "1.0"
            ]
          },
          "execution_count": 62,
          "metadata": {},
          "output_type": "execute_result"
        }
      ]
    },
    {
      "cell_type": "code",
      "source": [
        "plot_confusion_matrix(rdf,x_test,y_test, cmap='Blues')"
      ],
      "metadata": {
        "id": "C_1JtTlPHMqe",
        "colab": {
          "base_uri": "https://localhost:8080/",
          "height": 296
        },
        "outputId": "fc4fdacf-e60f-4c1b-97a0-01e558439a03"
      },
      "execution_count": 63,
      "outputs": [
        {
          "data": {
            "text/plain": [
              "<sklearn.metrics._plot.confusion_matrix.ConfusionMatrixDisplay at 0x7f13b1a27ed0>"
            ]
          },
          "execution_count": 63,
          "metadata": {},
          "output_type": "execute_result"
        },
        {
          "data": {
            "image/png": "[encoded data removed]",
            "text/plain": [
              "<Figure size 432x288 with 2 Axes>"
            ]
          },
          "metadata": {},
          "output_type": "display_data"
        }
      ]
    },
    {
      "cell_type": "markdown",
      "source": [],
      "metadata": {
        "id": "GaeihDuHHMqf"
      }
    },
    {
      "cell_type": "markdown",
      "source": [
        "##Random Forest Parâmetro 5\n"
      ],
      "metadata": {
        "id": "hvu2s80eHOlh"
      }
    },
    {
      "cell_type": "code",
      "source": [
        "from sklearn.ensemble import RandomForestClassifier\n",
        "from sklearn.metrics import plot_confusion_matrix\n",
        "\n",
        "rdf = RandomForestClassifier(criterion='entropy', max_features='log2', random_state=42)\n",
        "rdf.fit(x_train, y_train)\n"
      ],
      "metadata": {
        "id": "KGvgI5FIHOli",
        "colab": {
          "base_uri": "https://localhost:8080/"
        },
        "outputId": "42b4c857-7cb1-4f5f-d542-aa98846f851b"
      },
      "execution_count": 64,
      "outputs": [
        {
          "data": {
            "text/plain": [
              "RandomForestClassifier(criterion='entropy', max_features='log2',\n",
              "                       random_state=42)"
            ]
          },
          "execution_count": 64,
          "metadata": {},
          "output_type": "execute_result"
        }
      ]
    },
    {
      "cell_type": "code",
      "source": [
        "y_pred_rdf = rdf.predict(x_test)"
      ],
      "metadata": {
        "id": "f6L80h4LHOlj"
      },
      "execution_count": 65,
      "outputs": []
    },
    {
      "cell_type": "markdown",
      "source": [
        "###Métricas"
      ],
      "metadata": {
        "id": "lBkebaXxHOlj"
      }
    },
    {
      "cell_type": "markdown",
      "source": [
        "Acurácia"
      ],
      "metadata": {
        "id": "4E1wsEpJHOlk"
      }
    },
    {
      "cell_type": "code",
      "source": [
        "from sklearn.metrics import accuracy_score\n",
        "accuracy_score(y_test, y_pred_rdf)"
      ],
      "metadata": {
        "id": "QQrGsLLHHOlk",
        "colab": {
          "base_uri": "https://localhost:8080/"
        },
        "outputId": "d8caf968-8d37-47b4-9856-d63ef18a2927"
      },
      "execution_count": 66,
      "outputs": [
        {
          "data": {
            "text/plain": [
              "1.0"
            ]
          },
          "execution_count": 66,
          "metadata": {},
          "output_type": "execute_result"
        }
      ]
    },
    {
      "cell_type": "markdown",
      "source": [
        "Precisão"
      ],
      "metadata": {
        "id": "VlYgeWEKHOll"
      }
    },
    {
      "cell_type": "code",
      "source": [
        "from sklearn.metrics import precision_score\n",
        "precision_score(y_test, y_pred_rdf)"
      ],
      "metadata": {
        "id": "nHEMjzH4HOll",
        "colab": {
          "base_uri": "https://localhost:8080/"
        },
        "outputId": "050294e2-3d9d-4344-890c-2d1d37e519a7"
      },
      "execution_count": 67,
      "outputs": [
        {
          "data": {
            "text/plain": [
              "1.0"
            ]
          },
          "execution_count": 67,
          "metadata": {},
          "output_type": "execute_result"
        }
      ]
    },
    {
      "cell_type": "markdown",
      "source": [
        "Recall"
      ],
      "metadata": {
        "id": "Rw8-_J_5HOlm"
      }
    },
    {
      "cell_type": "code",
      "source": [
        "from sklearn.metrics import recall_score\n",
        "recall_score(y_test, y_pred_rdf)"
      ],
      "metadata": {
        "id": "eTMlVWq9HOlm",
        "colab": {
          "base_uri": "https://localhost:8080/"
        },
        "outputId": "245cdc57-197d-49ac-e2d8-cc4bf078bf4e"
      },
      "execution_count": 68,
      "outputs": [
        {
          "data": {
            "text/plain": [
              "1.0"
            ]
          },
          "execution_count": 68,
          "metadata": {},
          "output_type": "execute_result"
        }
      ]
    },
    {
      "cell_type": "code",
      "source": [
        "plot_confusion_matrix(rdf,x_test,y_test, cmap='Blues')"
      ],
      "metadata": {
        "id": "X1dF5JwYHOln",
        "colab": {
          "base_uri": "https://localhost:8080/",
          "height": 296
        },
        "outputId": "af5f51cd-a84c-4633-9363-22ae38b89d18"
      },
      "execution_count": 69,
      "outputs": [
        {
          "data": {
            "text/plain": [
              "<sklearn.metrics._plot.confusion_matrix.ConfusionMatrixDisplay at 0x7f13b1922f90>"
            ]
          },
          "execution_count": 69,
          "metadata": {},
          "output_type": "execute_result"
        },
        {
          "data": {
            "image/png": "[encoded data removed]",
            "text/plain": [
              "<Figure size 432x288 with 2 Axes>"
            ]
          },
          "metadata": {},
          "output_type": "display_data"
        }
      ]
    },
    {
      "cell_type": "markdown",
      "source": [],
      "metadata": {
        "id": "Ha_XPW7fHOln"
      }
    },
    {
      "cell_type": "code",
      "source": [
        "from sklearn.linear_model import LogisticRegression\n",
        "rgl = LogisticRegression().fit(x_train, y_train)"
      ],
      "metadata": {
        "id": "xNFtfJzyHOlo"
      },
      "execution_count": 70,
      "outputs": []
    },
    {
      "cell_type": "code",
      "source": [
        "y_pred_rgl = rgl.predict(x_test)"
      ],
      "metadata": {
        "id": "sEb_3sfoHOlo"
      },
      "execution_count": 71,
      "outputs": []
    },
    {
      "cell_type": "markdown",
      "source": [
        "###Métricas"
      ],
      "metadata": {
        "id": "uD8FOuTKHOlo"
      }
    },
    {
      "cell_type": "markdown",
      "source": [
        "Acuracia"
      ],
      "metadata": {
        "id": "cmxj5mucHOlp"
      }
    },
    {
      "cell_type": "code",
      "source": [
        "from sklearn.metrics import accuracy_score\n",
        "accuracy_score(y_test, y_pred_rgl)"
      ],
      "metadata": {
        "id": "BmPK7DQDHOlp",
        "colab": {
          "base_uri": "https://localhost:8080/"
        },
        "outputId": "c7713d0b-2a4c-4169-9c48-5f5d2e26c153"
      },
      "execution_count": 72,
      "outputs": [
        {
          "data": {
            "text/plain": [
              "0.8453647416413373"
            ]
          },
          "execution_count": 72,
          "metadata": {},
          "output_type": "execute_result"
        }
      ]
    },
    {
      "cell_type": "markdown",
      "source": [
        "Precisão"
      ],
      "metadata": {
        "id": "B7TEe9ngHOlq"
      }
    },
    {
      "cell_type": "code",
      "source": [
        "from sklearn.metrics import precision_score\n",
        "precision_score(y_test, y_pred_rgl)"
      ],
      "metadata": {
        "id": "tBSoLPKVHOlq",
        "colab": {
          "base_uri": "https://localhost:8080/"
        },
        "outputId": "c1bba5cc-7bdb-4541-cc20-322e8ede186d"
      },
      "execution_count": 73,
      "outputs": [
        {
          "data": {
            "text/plain": [
              "0.769273433166944"
            ]
          },
          "execution_count": 73,
          "metadata": {},
          "output_type": "execute_result"
        }
      ]
    },
    {
      "cell_type": "markdown",
      "source": [
        "Recall"
      ],
      "metadata": {
        "id": "DBZEksz8HOlr"
      }
    },
    {
      "cell_type": "code",
      "source": [
        "from sklearn.metrics import recall_score\n",
        "recall_score(y_test, y_pred_rgl)"
      ],
      "metadata": {
        "id": "yAvkv-oaHOlr",
        "colab": {
          "base_uri": "https://localhost:8080/"
        },
        "outputId": "875d6204-8a15-4428-f25c-6d06db85a415"
      },
      "execution_count": 74,
      "outputs": [
        {
          "data": {
            "text/plain": [
              "0.6327554744525548"
            ]
          },
          "execution_count": 74,
          "metadata": {},
          "output_type": "execute_result"
        }
      ]
    },
    {
      "cell_type": "markdown",
      "source": [
        "###Matriz de confusão"
      ],
      "metadata": {
        "id": "4r-A9iUgHOls"
      }
    },
    {
      "cell_type": "code",
      "source": [
        "plot_confusion_matrix(rgl,x_test,y_test, cmap='Blues')"
      ],
      "metadata": {
        "id": "8IzJPoesHOls",
        "colab": {
          "base_uri": "https://localhost:8080/",
          "height": 296
        },
        "outputId": "968f3c12-0cea-4543-b0ce-ae14c53d6a57"
      },
      "execution_count": 75,
      "outputs": [
        {
          "data": {
            "text/plain": [
              "<sklearn.metrics._plot.confusion_matrix.ConfusionMatrixDisplay at 0x7f13b18fd890>"
            ]
          },
          "execution_count": 75,
          "metadata": {},
          "output_type": "execute_result"
        },
        {
          "data": {
            "image/png": "[encoded data removed]",
            "text/plain": [
              "<Figure size 432x288 with 2 Axes>"
            ]
          },
          "metadata": {},
          "output_type": "display_data"
        }
      ]
    },
    {
      "cell_type": "markdown",
      "source": [],
      "metadata": {
        "id": "AmnAPJDKccML"
      }
    },
    {
      "cell_type": "markdown",
      "source": [
        "#GridSearch"
      ],
      "metadata": {
        "id": "PLHl30mOcgwJ"
      }
    },
    {
      "cell_type": "code",
      "source": [
        "from sklearn.model_selection import GridSearchCV\n",
        "from sklearn.neighbors import KNeighborsClassifier"
      ],
      "metadata": {
        "id": "clEaBOURc_2W"
      },
      "execution_count": 76,
      "outputs": []
    },
    {
      "cell_type": "markdown",
      "source": [
        "##Random Forest"
      ],
      "metadata": {
        "id": "qFqar1aJcqMx"
      }
    },
    {
      "cell_type": "code",
      "source": [
        "# Definir o espaço possível dos hiperparametros a serem testados no modelo\n",
        "parametros = {'n_estimators': [10, 20, 40, 60, 80, 100],\n",
        "              'criterion': ['gini', 'entropy','log loss'],\n",
        "              'max_depth': [10,20,30,40,50],}\n",
        "\n",
        "rdf = RandomForestClassifier()\n",
        "grid_search = GridSearchCV(estimator = RandomForestClassifier(), param_grid=parametros)\n",
        "grid_search.fit(x_train, y_train.squeeze())"
      ],
      "metadata": {
        "colab": {
          "base_uri": "https://localhost:8080/"
        },
        "id": "beYxHVlzckom",
        "outputId": "b15256ae-2476-4451-cb3f-0017fcb9f5af"
      },
      "execution_count": 77,
      "outputs": [
        {
          "output_type": "execute_result",
          "data": {
            "text/plain": [
              "GridSearchCV(estimator=RandomForestClassifier(),\n",
              "             param_grid={'criterion': ['gini', 'entropy', 'log loss'],\n",
              "                         'max_depth': [10, 20, 30, 40, 50],\n",
              "                         'n_estimators': [10, 20, 40, 60, 80, 100]})"
            ]
          },
          "metadata": {},
          "execution_count": 77
        }
      ]
    },
    {
      "cell_type": "code",
      "source": [
        "print(grid_search.best_score_)\n",
        "print(grid_search.best_params_)"
      ],
      "metadata": {
        "id": "-ArIZ0VyDl8n"
      },
      "execution_count": null,
      "outputs": []
    },
    {
      "cell_type": "code",
      "source": [
        "rdf_best = grid_search.best_estimator_\n",
        "rdf_best"
      ],
      "metadata": {
        "id": "LBNRzC_0DpT_"
      },
      "execution_count": null,
      "outputs": []
    },
    {
      "cell_type": "code",
      "source": [
        "y_pred = rdf_best.predict(x_test)\n",
        "print('Acc treino: ', rdf_best.score(x_train, y_train ))\n",
        "print('Acc teste: ', rdf_best.score(x_test, y_test.squeeze() ))\n",
        "print( 'Revocação: ', recall_score( y_test, y_pred ))\n",
        "print( 'Precisão: ', precision_score( y_test, y_pred ))"
      ],
      "metadata": {
        "id": "WV2Jqc5aDsT4"
      },
      "execution_count": null,
      "outputs": []
    },
    {
      "cell_type": "markdown",
      "source": [
        "## ÁRVORE DE DECISÃO"
      ],
      "metadata": {
        "id": "mmqfNVTYMMKh"
      }
    },
    {
      "cell_type": "code",
      "source": [
        "parametros = { 'splitter': ['best', 'random'],\n",
        "              'criterion': ['gini', 'entropy','log loss'],\n",
        "              'max_depth': [10,20,30,40,50],}\n",
        "\n",
        "\n",
        "grid_search = GridSearchCV(estimator = DecisionTreeClassifier(), param_grid=parametros)\n",
        "grid_search.fit(x_train, y_train.squeeze())"
      ],
      "metadata": {
        "id": "mZK6K8jHMahZ"
      },
      "execution_count": null,
      "outputs": []
    },
    {
      "cell_type": "code",
      "source": [
        "print(grid_search.best_score_)\n",
        "print(grid_search.best_params_)"
      ],
      "metadata": {
        "id": "SGKsx6eeNciR"
      },
      "execution_count": null,
      "outputs": []
    },
    {
      "cell_type": "code",
      "source": [
        "dt_best = grid_search.best_estimator_\n",
        "dt_best"
      ],
      "metadata": {
        "id": "Ne6jcbYiNc7k"
      },
      "execution_count": null,
      "outputs": []
    },
    {
      "cell_type": "code",
      "source": [
        "y_pred = dt_best.predict(x_test)\n",
        "print('Acc treino: ', dt_best.score(x_train, y_train ))\n",
        "print('Acc teste: ', dt_best.score(x_test, y_test.squeeze() ))\n",
        "print( 'Revocação: ', recall_score( y_test, y_pred ))\n",
        "print( 'Precisão: ', precision_score( y_test, y_pred ))"
      ],
      "metadata": {
        "id": "w6IMAD4HNb2F"
      },
      "execution_count": null,
      "outputs": []
    },
    {
      "cell_type": "code",
      "source": [],
      "metadata": {
        "id": "unqPaTLYNeME"
      },
      "execution_count": null,
      "outputs": []
    },
    {
      "cell_type": "markdown",
      "source": [
        "#RandomSearch"
      ],
      "metadata": {
        "id": "VxOnyWspRX0A"
      }
    },
    {
      "cell_type": "markdown",
      "source": [
        "##Random Forest"
      ],
      "metadata": {
        "id": "3VuaIQOmRbu9"
      }
    },
    {
      "cell_type": "code",
      "source": [
        "from sklearn.model_selection import RandomizedSearchCV"
      ],
      "metadata": {
        "id": "T_kV4RgISJJn"
      },
      "execution_count": null,
      "outputs": []
    },
    {
      "cell_type": "code",
      "source": [
        "# Definir o espaço possível dos hiperparametros a serem testados no modelo\n",
        "parametros = {'n_estimators': [10, 20, 40, 60, 80, 100],\n",
        "              'criterion': ['gini', 'entropy','log loss'],\n",
        "              'max_depth': [10,20,30,40,50],}\n",
        "\n",
        "random_search = RandomizedSearchCV(estimator = RandomForestClassifier(), param_distributions=parametros)\n",
        "random_search.fit(x_train, y_train.squeeze())"
      ],
      "metadata": {
        "id": "kwmqwU8eRjil"
      },
      "execution_count": null,
      "outputs": []
    },
    {
      "cell_type": "code",
      "source": [
        "print(random_search.best_score_)\n",
        "print(random_search.best_params_)"
      ],
      "metadata": {
        "id": "ZbbD9CMyS9Hu"
      },
      "execution_count": null,
      "outputs": []
    },
    {
      "cell_type": "code",
      "source": [
        "rdf_best = random_search.best_estimator_\n",
        "rdf_best"
      ],
      "metadata": {
        "id": "eA5aOOsjS85y"
      },
      "execution_count": null,
      "outputs": []
    },
    {
      "cell_type": "code",
      "source": [
        "y_pred = rdf_best.predict(x_test)\n",
        "print('Acc treino: ', rdf_best.score(x_train, y_train ))\n",
        "print('Acc teste: ', rdf_best.score(x_test, y_test.squeeze() ))\n",
        "print( 'Revocação: ', recall_score( y_test, y_pred ))\n",
        "print( 'Precisão: ', precision_score( y_test, y_pred ))"
      ],
      "metadata": {
        "id": "j1bANiCHS8sB"
      },
      "execution_count": null,
      "outputs": []
    },
    {
      "cell_type": "markdown",
      "source": [
        "##Árvore de decisão"
      ],
      "metadata": {
        "id": "gWmOioMAUZ0J"
      }
    },
    {
      "cell_type": "code",
      "source": [
        "parametros = { 'splitter': ['best', 'random'],\n",
        "              'criterion': ['gini', 'entropy','log loss'],\n",
        "              'max_depth': [10,20,30,40,50],}\n",
        "\n",
        "\n",
        "random_search = RandomizedSearchCV(estimator = DecisionTreeClassifier(), param_distributions=parametros)\n",
        "random_search.fit(x_train, y_train.squeeze())"
      ],
      "metadata": {
        "id": "itf5sjMzUkGa"
      },
      "execution_count": null,
      "outputs": []
    },
    {
      "cell_type": "code",
      "source": [
        "print(random_search.best_score_)\n",
        "print(random_search.best_params_)"
      ],
      "metadata": {
        "id": "fj1G4heoUlKT"
      },
      "execution_count": null,
      "outputs": []
    },
    {
      "cell_type": "code",
      "source": [
        "dt_best = random_search.best_estimator_\n",
        "dt_best"
      ],
      "metadata": {
        "id": "QjcqlSf0UlAD"
      },
      "execution_count": null,
      "outputs": []
    },
    {
      "cell_type": "code",
      "source": [
        "y_pred = dt_best.predict(x_test)\n",
        "print('Acc treino: ', dt_best.score(x_train, y_train ))\n",
        "print('Acc teste: ', dt_best.score(x_test, y_test.squeeze() ))\n",
        "print( 'Revocação: ', recall_score( y_test, y_pred ))\n",
        "print( 'Precisão: ', precision_score( y_test, y_pred ))"
      ],
      "metadata": {
        "colab": {
          "base_uri": "https://localhost:8080/"
        },
        "id": "_ROZronUUkpb",
        "outputId": "066e77c3-80d4-45d7-9f81-55aa40c7c046"
      },
      "execution_count": 93,
      "outputs": [
        {
          "output_type": "stream",
          "name": "stdout",
          "text": [
            "Acc treino:  1.0\n",
            "Acc teste:  1.0\n",
            "Revocação:  1.0\n",
            "Precisão:  1.0\n",
            "Acc treino:  1.0\n",
            "Acc teste:  1.0\n",
            "Revocação:  1.0\n",
            "Precisão:  1.0\n"
          ]
        }
      ]
    }
  ]
}