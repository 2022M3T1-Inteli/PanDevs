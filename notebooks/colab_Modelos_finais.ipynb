{
  "nbformat": 4,
  "nbformat_minor": 0,
  "metadata": {
    "colab": {
      "provenance": [],
      "collapsed_sections": [
        "5AYCcZYWGwWz"
      ],
      "include_colab_link": true
    },
    "kernelspec": {
      "name": "python3",
      "display_name": "Python 3"
    },
    "language_info": {
      "name": "python"
    }
  },
  "cells": [
    {
      "cell_type": "markdown",
      "metadata": {
        "id": "view-in-github",
        "colab_type": "text"
      },
      "source": [
        "<a href=\"https://colab.research.google.com/github/2022M3T1/Projeto4/blob/main/notebooks/colab_Modelos_finais.ipynb\" target=\"_parent\"><img src=\"https://colab.research.google.com/assets/colab-badge.svg\" alt=\"Open In Colab\"/></a>"
      ]
    },
    {
      "cell_type": "markdown",
      "metadata": {
        "id": "SyhmoakN9AzE"
      },
      "source": [
        "#Ambientação do notebook"
      ]
    },
    {
      "cell_type": "code",
      "execution_count": null,
      "metadata": {
        "colab": {
          "base_uri": "https://localhost:8080/"
        },
        "id": "N0SxuuwvWQ-g",
        "outputId": "b2e35d47-c0ae-4544-c612-83721a788263"
      },
      "outputs": [
        {
          "output_type": "stream",
          "name": "stdout",
          "text": [
            "Looking in indexes: https://pypi.org/simple, https://us-python.pkg.dev/colab-wheels/public/simple/\n",
            "Requirement already satisfied: shap in /usr/local/lib/python3.7/dist-packages (0.41.0)\n",
            "Requirement already satisfied: cloudpickle in /usr/local/lib/python3.7/dist-packages (from shap) (1.5.0)\n",
            "Requirement already satisfied: scikit-learn in /usr/local/lib/python3.7/dist-packages (from shap) (1.0.2)\n",
            "Requirement already satisfied: slicer==0.0.7 in /usr/local/lib/python3.7/dist-packages (from shap) (0.0.7)\n",
            "Requirement already satisfied: numpy in /usr/local/lib/python3.7/dist-packages (from shap) (1.21.6)\n",
            "Requirement already satisfied: numba in /usr/local/lib/python3.7/dist-packages (from shap) (0.56.2)\n",
            "Requirement already satisfied: tqdm>4.25.0 in /usr/local/lib/python3.7/dist-packages (from shap) (4.64.1)\n",
            "Requirement already satisfied: pandas in /usr/local/lib/python3.7/dist-packages (from shap) (1.3.5)\n",
            "Requirement already satisfied: scipy in /usr/local/lib/python3.7/dist-packages (from shap) (1.7.3)\n",
            "Requirement already satisfied: packaging>20.9 in /usr/local/lib/python3.7/dist-packages (from shap) (21.3)\n",
            "Requirement already satisfied: pyparsing!=3.0.5,>=2.0.2 in /usr/local/lib/python3.7/dist-packages (from packaging>20.9->shap) (3.0.9)\n",
            "Requirement already satisfied: importlib-metadata in /usr/local/lib/python3.7/dist-packages (from numba->shap) (4.12.0)\n",
            "Requirement already satisfied: llvmlite<0.40,>=0.39.0dev0 in /usr/local/lib/python3.7/dist-packages (from numba->shap) (0.39.1)\n",
            "Requirement already satisfied: setuptools<60 in /usr/local/lib/python3.7/dist-packages (from numba->shap) (57.4.0)\n",
            "Requirement already satisfied: zipp>=0.5 in /usr/local/lib/python3.7/dist-packages (from importlib-metadata->numba->shap) (3.8.1)\n",
            "Requirement already satisfied: typing-extensions>=3.6.4 in /usr/local/lib/python3.7/dist-packages (from importlib-metadata->numba->shap) (4.1.1)\n",
            "Requirement already satisfied: pytz>=2017.3 in /usr/local/lib/python3.7/dist-packages (from pandas->shap) (2022.2.1)\n",
            "Requirement already satisfied: python-dateutil>=2.7.3 in /usr/local/lib/python3.7/dist-packages (from pandas->shap) (2.8.2)\n",
            "Requirement already satisfied: six>=1.5 in /usr/local/lib/python3.7/dist-packages (from python-dateutil>=2.7.3->pandas->shap) (1.15.0)\n",
            "Requirement already satisfied: threadpoolctl>=2.0.0 in /usr/local/lib/python3.7/dist-packages (from scikit-learn->shap) (3.1.0)\n",
            "Requirement already satisfied: joblib>=0.11 in /usr/local/lib/python3.7/dist-packages (from scikit-learn->shap) (1.1.0)\n"
          ]
        }
      ],
      "source": [
        "!pip install -U -q PyDrive\n",
        "!pip install shap"
      ]
    },
    {
      "cell_type": "code",
      "execution_count": null,
      "metadata": {
        "id": "GZVp5UI-Wglg"
      },
      "outputs": [],
      "source": [
        "# Importação de bibliotecas \n",
        "import pandas as pd\n",
        "import plotly.express as px\n",
        "from sklearn.preprocessing import LabelBinarizer\n",
        "from pydrive.auth import GoogleAuth\n",
        "from pydrive.drive import GoogleDrive\n",
        "from google.colab import auth\n",
        "from oauth2client.client import GoogleCredentials\n",
        "import warnings\n",
        "warnings.filterwarnings('ignore')\n",
        "from sklearn.feature_selection import SelectKBest\n",
        "from sklearn.feature_selection import f_classif, mutual_info_classif\n",
        "from sklearn.model_selection import train_test_split\n",
        "from sklearn.tree import DecisionTreeClassifier\n",
        "from sklearn.metrics import plot_confusion_matrix\n",
        "from sklearn import svm\n",
        "from sklearn.metrics import accuracy_score\n",
        "from sklearn.metrics import precision_score\n",
        "from sklearn.metrics import recall_score\n",
        "from sklearn.model_selection import train_test_split\n",
        "from sklearn.tree import DecisionTreeClassifier\n",
        "from sklearn.ensemble import RandomForestClassifier\n",
        "from sklearn.model_selection import GridSearchCV, RandomizedSearchCV\n",
        "from sklearn.neighbors import KNeighborsClassifier\n",
        "from sklearn.naive_bayes import GaussianNB\n",
        "from sklearn.linear_model import LogisticRegression"
      ]
    },
    {
      "cell_type": "code",
      "execution_count": null,
      "metadata": {
        "id": "dNw6fQAeWh7a"
      },
      "outputs": [],
      "source": [
        "# Autenticação de conta.\n",
        "auth.authenticate_user()\n",
        "gauth = GoogleAuth()\n",
        "gauth.credentials = GoogleCredentials.get_application_default()\n",
        "drive = GoogleDrive(gauth)"
      ]
    },
    {
      "cell_type": "code",
      "execution_count": null,
      "metadata": {
        "id": "FIaN1pejWjlk"
      },
      "outputs": [],
      "source": [
        "# Faz o download do arquivo csv para a máquina.\n",
        "downloaded = drive.CreateFile({'id': '1-EL5jV5m_7zJi-rKgDXMAcCSrTGkq7z2'})\n",
        "downloaded.GetContentFile('not_client.csv')\n",
        "downloaded = drive.CreateFile({'id': '1-C4iOW6z7oAtWCHhwuC-IeTxp8COwbxj'})\n",
        "downloaded.GetContentFile('client.csv')"
      ]
    },
    {
      "cell_type": "code",
      "execution_count": null,
      "metadata": {
        "id": "dQqsJMKsWqhb"
      },
      "outputs": [],
      "source": [
        "# Dados lidos do arquvio csv.\n",
        "client = pd.read_csv('client.csv')\n",
        "not_client = pd.read_csv('not_client.csv')"
      ]
    },
    {
      "cell_type": "markdown",
      "source": [
        "#Engajado"
      ],
      "metadata": {
        "id": "5AYCcZYWGwWz"
      }
    },
    {
      "cell_type": "markdown",
      "metadata": {
        "id": "BNHdPS7vTni4"
      },
      "source": [
        "###Treinamento Teste"
      ]
    },
    {
      "cell_type": "markdown",
      "metadata": {
        "id": "sX0LWi-O9IqS"
      },
      "source": [
        "Na cédula abaixo nós temos a divisão da tabela entre treinamento e teste, note que estamos defifindo 80% dos dados para treinamento e 20% para os testes. Outro fator importante, é que usamos o random_state que faz com que a população de dados seja a mesma do início ao fim do notebook e isso garante que podemos comparar os modelos entre si e observar o índice de acerto daquele mesmo conjunto. "
      ]
    },
    {
      "cell_type": "code",
      "execution_count": null,
      "metadata": {
        "id": "Y418Bb0sTxoS"
      },
      "outputs": [],
      "source": [
        "from sklearn.model_selection import train_test_split\n",
        "\n",
        "cols = [ \"num_produtos\",\"qtd_oper\"] #Features que usaremos para treinar o modelo.\n",
        "\n",
        "# Dividindo x e y\n",
        "x = client[cols]\n",
        "y = client['ind_engaj']\n",
        "\n",
        "# Dividindo dados para treino e dados para teste\n",
        "x_train, x_test, y_train, y_test = train_test_split(x, y, test_size = 0.2, random_state = 42)"
      ]
    },
    {
      "cell_type": "markdown",
      "metadata": {
        "id": "c6Rj7hc_5pea"
      },
      "source": [
        "###Random Forest"
      ]
    },
    {
      "cell_type": "code",
      "execution_count": null,
      "metadata": {
        "colab": {
          "base_uri": "https://localhost:8080/"
        },
        "id": "1D69JQhA5pei",
        "outputId": "1109ca9a-bcdf-4376-c6be-7f51647fcada"
      },
      "outputs": [
        {
          "output_type": "execute_result",
          "data": {
            "text/plain": [
              "RandomForestClassifier(criterion='entropy', random_state=42)"
            ]
          },
          "metadata": {},
          "execution_count": 18
        }
      ],
      "source": [
        "rdf_engajado = RandomForestClassifier(criterion='entropy', random_state=42) # Guardamos a função do modelo com o parâmetro previamente escolhido na variável.\n",
        "rdf_engajado.fit(x_train, y_train) # Treina o modelo."
      ]
    },
    {
      "cell_type": "code",
      "execution_count": null,
      "metadata": {
        "colab": {
          "base_uri": "https://localhost:8080/"
        },
        "id": "10e3-9U05pej",
        "outputId": "bb7797a5-a7ed-4b4d-8ab7-dcf092de95c1"
      },
      "outputs": [
        {
          "output_type": "execute_result",
          "data": {
            "text/plain": [
              "array([1., 1., 1., ..., 0., 0., 0.])"
            ]
          },
          "metadata": {},
          "execution_count": 19
        }
      ],
      "source": [
        "y_pred_rdf_engajado = rdf_engajado.predict(x_test) # Guarda a predição do teste na variável.\n",
        "y_pred_rdf_engajado"
      ]
    },
    {
      "cell_type": "markdown",
      "metadata": {
        "id": "igc19dU_5pej"
      },
      "source": [
        "####Métricas"
      ]
    },
    {
      "cell_type": "markdown",
      "metadata": {
        "id": "dCEgAn8w5pej"
      },
      "source": [
        "Acurácia"
      ]
    },
    {
      "cell_type": "code",
      "execution_count": null,
      "metadata": {
        "colab": {
          "base_uri": "https://localhost:8080/"
        },
        "id": "qbbh2s-H5pej",
        "outputId": "046b4ded-d4b8-4121-fff1-b6a6d6640fa5"
      },
      "outputs": [
        {
          "output_type": "execute_result",
          "data": {
            "text/plain": [
              "0.9882451043684097"
            ]
          },
          "metadata": {},
          "execution_count": 20
        }
      ],
      "source": [
        "accuracy_score(y_test, y_pred_rdf_engajado) # Mostra a acurácia do modelo."
      ]
    },
    {
      "cell_type": "markdown",
      "metadata": {
        "id": "rfZC_FaF5pej"
      },
      "source": [
        "Precisão"
      ]
    },
    {
      "cell_type": "code",
      "execution_count": null,
      "metadata": {
        "colab": {
          "base_uri": "https://localhost:8080/"
        },
        "id": "EyxjrAZi5pej",
        "outputId": "5f8ea6ed-879e-4afa-de97-e57ce6151542"
      },
      "outputs": [
        {
          "output_type": "execute_result",
          "data": {
            "text/plain": [
              "0.9670421044674579"
            ]
          },
          "metadata": {},
          "execution_count": 21
        }
      ],
      "source": [
        "precision_score(y_test, y_pred_rdf_engajado) # Mostra a precisão do modelo."
      ]
    },
    {
      "cell_type": "markdown",
      "metadata": {
        "id": "iMJt9Rtr5pej"
      },
      "source": [
        "Recall"
      ]
    },
    {
      "cell_type": "code",
      "execution_count": null,
      "metadata": {
        "colab": {
          "base_uri": "https://localhost:8080/"
        },
        "id": "93yh5OsQ5pek",
        "outputId": "85ed85d6-af06-411e-e802-87e2c73beb90"
      },
      "outputs": [
        {
          "output_type": "execute_result",
          "data": {
            "text/plain": [
              "0.9999218383617321"
            ]
          },
          "metadata": {},
          "execution_count": 22
        }
      ],
      "source": [
        "recall_score(y_test, y_pred_rdf_engajado) # Mostra a revocação do modelo."
      ]
    },
    {
      "cell_type": "markdown",
      "metadata": {
        "id": "pY1flUnf5pek"
      },
      "source": [
        "Matriz de confusão"
      ]
    },
    {
      "cell_type": "code",
      "execution_count": null,
      "metadata": {
        "colab": {
          "base_uri": "https://localhost:8080/",
          "height": 296
        },
        "id": "JixBXl1C5pek",
        "outputId": "5ea11ef0-d661-42e9-9e5a-bc9b788a3c3f"
      },
      "outputs": [
        {
          "output_type": "execute_result",
          "data": {
            "text/plain": [
              "<sklearn.metrics._plot.confusion_matrix.ConfusionMatrixDisplay at 0x7fea0dc08f90>"
            ]
          },
          "metadata": {},
          "execution_count": 23
        },
        {
          "output_type": "display_data",
          "data": {
            "text/plain": [
              "<Figure size 432x288 with 2 Axes>"
            ],
            "image/png": "[encoded data removed]"
          },
          "metadata": {
            "needs_background": "light"
          }
        }
      ],
      "source": [
        "plot_confusion_matrix(rdf_engajado,x_test,y_test, cmap='Blues') # Plota a matriz de confusão do modelo."
      ]
    },
    {
      "cell_type": "markdown",
      "source": [
        "##Deploy"
      ],
      "metadata": {
        "id": "Ib794dSPPqez"
      }
    },
    {
      "cell_type": "code",
      "source": [
        "from google.colab import drive\n",
        "drive.mount('/content/drive')"
      ],
      "metadata": {
        "colab": {
          "base_uri": "https://localhost:8080/"
        },
        "id": "wq0Ea__WPsvM",
        "outputId": "4047fc14-9662-40a5-afa5-a14aa23b305d"
      },
      "execution_count": null,
      "outputs": [
        {
          "output_type": "stream",
          "name": "stdout",
          "text": [
            "Drive already mounted at /content/drive; to attempt to forcibly remount, call drive.mount(\"/content/drive\", force_remount=True).\n"
          ]
        }
      ]
    },
    {
      "cell_type": "code",
      "source": [
        "from joblib import dump\n",
        "\n",
        "dump(rdf_engajado, '/content/drive/MyDrive/Colab Notebooks/modelos/modelo_engajado.model')"
      ],
      "metadata": {
        "colab": {
          "base_uri": "https://localhost:8080/",
          "height": 322
        },
        "id": "or-kHyPHPu63",
        "outputId": "d960de75-8bb6-4702-f1e7-1bf8b6132226"
      },
      "execution_count": null,
      "outputs": [
        {
          "output_type": "error",
          "ename": "FileNotFoundError",
          "evalue": "ignored",
          "traceback": [
            "\u001b[0;31m---------------------------------------------------------------------------\u001b[0m",
            "\u001b[0;31mFileNotFoundError\u001b[0m                         Traceback (most recent call last)",
            "\u001b[0;32m<ipython-input-16-ace6224b5ad3>\u001b[0m in \u001b[0;36m<module>\u001b[0;34m\u001b[0m\n\u001b[1;32m      1\u001b[0m \u001b[0;32mfrom\u001b[0m \u001b[0mjoblib\u001b[0m \u001b[0;32mimport\u001b[0m \u001b[0mdump\u001b[0m\u001b[0;34m\u001b[0m\u001b[0;34m\u001b[0m\u001b[0m\n\u001b[1;32m      2\u001b[0m \u001b[0;34m\u001b[0m\u001b[0m\n\u001b[0;32m----> 3\u001b[0;31m \u001b[0mdump\u001b[0m\u001b[0;34m(\u001b[0m\u001b[0mrdf_engajado\u001b[0m\u001b[0;34m,\u001b[0m \u001b[0;34m'/content/drive/MyDrive/Colab Notebooks/modelos/modelo_engajado.model'\u001b[0m\u001b[0;34m)\u001b[0m\u001b[0;34m\u001b[0m\u001b[0;34m\u001b[0m\u001b[0m\n\u001b[0m",
            "\u001b[0;32m/usr/local/lib/python3.7/dist-packages/joblib/numpy_pickle.py\u001b[0m in \u001b[0;36mdump\u001b[0;34m(value, filename, compress, protocol, cache_size)\u001b[0m\n\u001b[1;32m    479\u001b[0m             \u001b[0mNumpyPickler\u001b[0m\u001b[0;34m(\u001b[0m\u001b[0mf\u001b[0m\u001b[0;34m,\u001b[0m \u001b[0mprotocol\u001b[0m\u001b[0;34m=\u001b[0m\u001b[0mprotocol\u001b[0m\u001b[0;34m)\u001b[0m\u001b[0;34m.\u001b[0m\u001b[0mdump\u001b[0m\u001b[0;34m(\u001b[0m\u001b[0mvalue\u001b[0m\u001b[0;34m)\u001b[0m\u001b[0;34m\u001b[0m\u001b[0;34m\u001b[0m\u001b[0m\n\u001b[1;32m    480\u001b[0m     \u001b[0;32melif\u001b[0m \u001b[0mis_filename\u001b[0m\u001b[0;34m:\u001b[0m\u001b[0;34m\u001b[0m\u001b[0;34m\u001b[0m\u001b[0m\n\u001b[0;32m--> 481\u001b[0;31m         \u001b[0;32mwith\u001b[0m \u001b[0mopen\u001b[0m\u001b[0;34m(\u001b[0m\u001b[0mfilename\u001b[0m\u001b[0;34m,\u001b[0m \u001b[0;34m'wb'\u001b[0m\u001b[0;34m)\u001b[0m \u001b[0;32mas\u001b[0m \u001b[0mf\u001b[0m\u001b[0;34m:\u001b[0m\u001b[0;34m\u001b[0m\u001b[0;34m\u001b[0m\u001b[0m\n\u001b[0m\u001b[1;32m    482\u001b[0m             \u001b[0mNumpyPickler\u001b[0m\u001b[0;34m(\u001b[0m\u001b[0mf\u001b[0m\u001b[0;34m,\u001b[0m \u001b[0mprotocol\u001b[0m\u001b[0;34m=\u001b[0m\u001b[0mprotocol\u001b[0m\u001b[0;34m)\u001b[0m\u001b[0;34m.\u001b[0m\u001b[0mdump\u001b[0m\u001b[0;34m(\u001b[0m\u001b[0mvalue\u001b[0m\u001b[0;34m)\u001b[0m\u001b[0;34m\u001b[0m\u001b[0;34m\u001b[0m\u001b[0m\n\u001b[1;32m    483\u001b[0m     \u001b[0;32melse\u001b[0m\u001b[0;34m:\u001b[0m\u001b[0;34m\u001b[0m\u001b[0;34m\u001b[0m\u001b[0m\n",
            "\u001b[0;31mFileNotFoundError\u001b[0m: [Errno 2] No such file or directory: '/content/drive/MyDrive/Colab Notebooks/modelos/modelo_engajado.model'"
          ]
        }
      ]
    },
    {
      "cell_type": "markdown",
      "source": [
        "#Novo Cliente"
      ],
      "metadata": {
        "id": "U5bMMNTDHvhB"
      }
    },
    {
      "cell_type": "markdown",
      "metadata": {
        "id": "3CuSz6b4OstP"
      },
      "source": [
        "##Treinamento Teste"
      ]
    },
    {
      "cell_type": "code",
      "execution_count": null,
      "metadata": {
        "id": "vygOZnWBOwnr"
      },
      "outputs": [],
      "source": [
        "from sklearn.model_selection import train_test_split\n",
        "\n",
        "cols = ['vlr_credito', 'vlr_renda', 'qtd_restr', \"vlr_score\"] #Features que usaremos para treinar o modelo.\n",
        "\n",
        "# Dividindo x e y\n",
        "x = not_client[cols]\n",
        "y = not_client['ind_novo_cli']\n",
        "\n",
        "# Dividindo dados para treino e dados para teste\n",
        "x_train, x_test, y_train, y_test = train_test_split(x, y, test_size = 0.2, random_state = 50)"
      ]
    },
    {
      "cell_type": "markdown",
      "source": [
        "##Random Forest"
      ],
      "metadata": {
        "id": "zuFI6wkhJQ3R"
      }
    },
    {
      "cell_type": "code",
      "source": [
        "rdf_novo_cliente = RandomForestClassifier(criterion='entropy',\n",
        "                                          max_depth=40,\n",
        "                                          n_estimators=80,\n",
        "                                          random_state=42) # Guardamos a função do modelo com o parâmetro previamente escolhido na variável.\n",
        "rdf_novo_cliente.fit(x_train, y_train) # Treina o modelo."
      ],
      "metadata": {
        "id": "OaVkZfqFI3_A",
        "colab": {
          "base_uri": "https://localhost:8080/"
        },
        "outputId": "3d087995-5bfd-42e9-e289-91534e59044b"
      },
      "execution_count": null,
      "outputs": [
        {
          "output_type": "execute_result",
          "data": {
            "text/plain": [
              "RandomForestClassifier(criterion='entropy', max_depth=40, n_estimators=80,\n",
              "                       random_state=42)"
            ]
          },
          "metadata": {},
          "execution_count": 26
        }
      ]
    },
    {
      "cell_type": "code",
      "source": [
        "y_pred_rdf_novo_cliente = rdf_novo_cliente.predict(x_test) # Guarda a predição do teste na variável.\n",
        "y_pred_rdf_novo_cliente"
      ],
      "metadata": {
        "id": "GLOSFEPlXsHi",
        "colab": {
          "base_uri": "https://localhost:8080/"
        },
        "outputId": "4714a892-26e8-45ce-d309-81f61f78b419"
      },
      "execution_count": null,
      "outputs": [
        {
          "output_type": "execute_result",
          "data": {
            "text/plain": [
              "array([0., 0., 0., ..., 0., 1., 1.])"
            ]
          },
          "metadata": {},
          "execution_count": 27
        }
      ]
    },
    {
      "cell_type": "markdown",
      "metadata": {
        "id": "igu8zlWjKmhx"
      },
      "source": [
        "####Métricas"
      ]
    },
    {
      "cell_type": "markdown",
      "metadata": {
        "id": "1GsmRLEnKmhz"
      },
      "source": [
        "Acurácia"
      ]
    },
    {
      "cell_type": "code",
      "execution_count": null,
      "metadata": {
        "id": "UoibW9W5Kmh0",
        "colab": {
          "base_uri": "https://localhost:8080/"
        },
        "outputId": "c965fd44-bf6a-4a2b-d557-c7a0e7a8e077"
      },
      "outputs": [
        {
          "output_type": "execute_result",
          "data": {
            "text/plain": [
              "1.0"
            ]
          },
          "metadata": {},
          "execution_count": 28
        }
      ],
      "source": [
        "accuracy_score(y_test, y_pred_rdf_novo_cliente) # Mostra a acurácia do modelo."
      ]
    },
    {
      "cell_type": "markdown",
      "metadata": {
        "id": "TPw3PwhYKmh1"
      },
      "source": [
        "Precisão"
      ]
    },
    {
      "cell_type": "code",
      "execution_count": null,
      "metadata": {
        "id": "mrWxUhr2Kmh2",
        "colab": {
          "base_uri": "https://localhost:8080/"
        },
        "outputId": "a2d27661-cd8a-4a65-f2ce-ba5ae2f70ad0"
      },
      "outputs": [
        {
          "output_type": "execute_result",
          "data": {
            "text/plain": [
              "1.0"
            ]
          },
          "metadata": {},
          "execution_count": 29
        }
      ],
      "source": [
        "precision_score(y_test, y_pred_rdf_novo_cliente) # Mostra a precisão do modelo."
      ]
    },
    {
      "cell_type": "markdown",
      "metadata": {
        "id": "hSylmaZrKmh3"
      },
      "source": [
        "Recall"
      ]
    },
    {
      "cell_type": "code",
      "execution_count": null,
      "metadata": {
        "id": "njWpzOSvKmh4",
        "colab": {
          "base_uri": "https://localhost:8080/"
        },
        "outputId": "85155845-013a-4242-f944-75db34d31ef8"
      },
      "outputs": [
        {
          "output_type": "execute_result",
          "data": {
            "text/plain": [
              "1.0"
            ]
          },
          "metadata": {},
          "execution_count": 30
        }
      ],
      "source": [
        "recall_score(y_test, y_pred_rdf_novo_cliente) # Mostra a revocação do modelo."
      ]
    },
    {
      "cell_type": "markdown",
      "metadata": {
        "id": "el70lNUbKmh4"
      },
      "source": [
        "Matriz de confusão"
      ]
    },
    {
      "cell_type": "code",
      "execution_count": null,
      "metadata": {
        "id": "5Cb4JPfbKmh5",
        "colab": {
          "base_uri": "https://localhost:8080/",
          "height": 296
        },
        "outputId": "fb8a32a9-b411-4f1a-f5cd-29a32d44f5ba"
      },
      "outputs": [
        {
          "output_type": "execute_result",
          "data": {
            "text/plain": [
              "<sklearn.metrics._plot.confusion_matrix.ConfusionMatrixDisplay at 0x7fea0ce65310>"
            ]
          },
          "metadata": {},
          "execution_count": 31
        },
        {
          "output_type": "display_data",
          "data": {
            "text/plain": [
              "<Figure size 432x288 with 2 Axes>"
            ],
            "image/png": "[encoded data removed]"
          },
          "metadata": {
            "needs_background": "light"
          }
        }
      ],
      "source": [
        "plot_confusion_matrix(rdf_novo_cliente,x_test,y_test, cmap='Blues') # Plota a matriz de confusão do modelo."
      ]
    },
    {
      "cell_type": "markdown",
      "source": [
        "##Deploy"
      ],
      "metadata": {
        "id": "KNyRDsPkQbWJ"
      }
    },
    {
      "cell_type": "code",
      "source": [
        "dump(rdf_novo_cliente, '/content/drive/MyDrive/Colab Notebooks/modelos/modelo_novo_cliente.model')"
      ],
      "metadata": {
        "id": "zRsA2SMHQdW4",
        "colab": {
          "base_uri": "https://localhost:8080/",
          "height": 287
        },
        "outputId": "9e8a2d83-3661-497b-9e1c-ebbe8e43dcff"
      },
      "execution_count": null,
      "outputs": [
        {
          "output_type": "error",
          "ename": "FileNotFoundError",
          "evalue": "ignored",
          "traceback": [
            "\u001b[0;31m---------------------------------------------------------------------------\u001b[0m",
            "\u001b[0;31mFileNotFoundError\u001b[0m                         Traceback (most recent call last)",
            "\u001b[0;32m<ipython-input-32-5c728102bf75>\u001b[0m in \u001b[0;36m<module>\u001b[0;34m\u001b[0m\n\u001b[0;32m----> 1\u001b[0;31m \u001b[0mdump\u001b[0m\u001b[0;34m(\u001b[0m\u001b[0mrdf_novo_cliente\u001b[0m\u001b[0;34m,\u001b[0m \u001b[0;34m'/content/drive/MyDrive/Colab Notebooks/modelos/modelo_novo_cliente.model'\u001b[0m\u001b[0;34m)\u001b[0m\u001b[0;34m\u001b[0m\u001b[0;34m\u001b[0m\u001b[0m\n\u001b[0m",
            "\u001b[0;32m/usr/local/lib/python3.7/dist-packages/joblib/numpy_pickle.py\u001b[0m in \u001b[0;36mdump\u001b[0;34m(value, filename, compress, protocol, cache_size)\u001b[0m\n\u001b[1;32m    479\u001b[0m             \u001b[0mNumpyPickler\u001b[0m\u001b[0;34m(\u001b[0m\u001b[0mf\u001b[0m\u001b[0;34m,\u001b[0m \u001b[0mprotocol\u001b[0m\u001b[0;34m=\u001b[0m\u001b[0mprotocol\u001b[0m\u001b[0;34m)\u001b[0m\u001b[0;34m.\u001b[0m\u001b[0mdump\u001b[0m\u001b[0;34m(\u001b[0m\u001b[0mvalue\u001b[0m\u001b[0;34m)\u001b[0m\u001b[0;34m\u001b[0m\u001b[0;34m\u001b[0m\u001b[0m\n\u001b[1;32m    480\u001b[0m     \u001b[0;32melif\u001b[0m \u001b[0mis_filename\u001b[0m\u001b[0;34m:\u001b[0m\u001b[0;34m\u001b[0m\u001b[0;34m\u001b[0m\u001b[0m\n\u001b[0;32m--> 481\u001b[0;31m         \u001b[0;32mwith\u001b[0m \u001b[0mopen\u001b[0m\u001b[0;34m(\u001b[0m\u001b[0mfilename\u001b[0m\u001b[0;34m,\u001b[0m \u001b[0;34m'wb'\u001b[0m\u001b[0;34m)\u001b[0m \u001b[0;32mas\u001b[0m \u001b[0mf\u001b[0m\u001b[0;34m:\u001b[0m\u001b[0;34m\u001b[0m\u001b[0;34m\u001b[0m\u001b[0m\n\u001b[0m\u001b[1;32m    482\u001b[0m             \u001b[0mNumpyPickler\u001b[0m\u001b[0;34m(\u001b[0m\u001b[0mf\u001b[0m\u001b[0;34m,\u001b[0m \u001b[0mprotocol\u001b[0m\u001b[0;34m=\u001b[0m\u001b[0mprotocol\u001b[0m\u001b[0;34m)\u001b[0m\u001b[0;34m.\u001b[0m\u001b[0mdump\u001b[0m\u001b[0;34m(\u001b[0m\u001b[0mvalue\u001b[0m\u001b[0;34m)\u001b[0m\u001b[0;34m\u001b[0m\u001b[0;34m\u001b[0m\u001b[0m\n\u001b[1;32m    483\u001b[0m     \u001b[0;32melse\u001b[0m\u001b[0;34m:\u001b[0m\u001b[0;34m\u001b[0m\u001b[0;34m\u001b[0m\u001b[0m\n",
            "\u001b[0;31mFileNotFoundError\u001b[0m: [Errno 2] No such file or directory: '/content/drive/MyDrive/Colab Notebooks/modelos/modelo_novo_cliente.model'"
          ]
        }
      ]
    },
    {
      "cell_type": "markdown",
      "source": [
        "#Cliente atritado"
      ],
      "metadata": {
        "id": "vJ8_z_QVZkED"
      }
    },
    {
      "cell_type": "markdown",
      "source": [
        "##Undersampling de não atritados"
      ],
      "metadata": {
        "id": "k6twORBnH8dV"
      }
    },
    {
      "cell_type": "code",
      "source": [
        "import numpy as np # importa a biblioteca numpy\n",
        "\n",
        "\n",
        "cliente_atrito = client[client.ind_atrito == 1] #\n",
        "cliente_atrito"
      ],
      "metadata": {
        "id": "C8wxfTs4IGyE"
      },
      "execution_count": null,
      "outputs": []
    },
    {
      "cell_type": "code",
      "source": [
        "cliente_not_atrito = client[client.ind_atrito == 0]\n",
        "cliente_not_atrito"
      ],
      "metadata": {
        "id": "eUPSo2jhIONc"
      },
      "execution_count": null,
      "outputs": []
    },
    {
      "cell_type": "code",
      "source": [
        "cliente_not_atrito_sample = cliente_not_atrito.sample(frac=.01, random_state=42)\n",
        "cliente_not_atrito_sample"
      ],
      "metadata": {
        "id": "GxfvvKktIQL_"
      },
      "execution_count": null,
      "outputs": []
    },
    {
      "cell_type": "code",
      "source": [
        "client_sample = pd.concat([cliente_atrito, cliente_not_atrito_sample]) \n",
        "client_sample"
      ],
      "metadata": {
        "id": "kP7n4u_oISG8"
      },
      "execution_count": null,
      "outputs": []
    },
    {
      "cell_type": "markdown",
      "source": [
        "##Treinamento Teste"
      ],
      "metadata": {
        "id": "tqr3q9zYaBqc"
      }
    },
    {
      "cell_type": "code",
      "source": [
        "from sklearn.model_selection import train_test_split\n",
        "from imblearn.over_sampling import SMOTE\n",
        "import matplotlib.pyplot as plt\n",
        "\n",
        "cols = ['vlr_saldo','vlr_credito', 'num_atend_atrs', 'qtd_reclm','vlr_renda','num_atend', 'num_produtos', 'qtd_oper', 'vlr_score', 'qtd_restr'] #Features que usaremos para treinar o modelo.\n",
        "\n",
        "\n",
        "# Dividindo x e y\n",
        "x = client_sample[cols]\n",
        "y = client_sample['ind_atrito']\n",
        "\n",
        "print(y.shape, y[y==1].shape)\n",
        "\n",
        "\n",
        "sm = SMOTE(random_state=42, sampling_strategy=\"auto\")\n",
        "X_res, y_res = sm.fit_resample(x, y)\n",
        "\n",
        "print(y_res.shape, y_res[y_res==0].shape, y_res[y_res==1].shape)\n",
        "\n",
        "# Dividindo dados para treino e dados para teste\n",
        "x_train, x_test, y_train, y_test = train_test_split(X_res, y_res, test_size = 0.2, random_state = 42)"
      ],
      "metadata": {
        "id": "uW3XuAsXaBqc"
      },
      "execution_count": null,
      "outputs": []
    },
    {
      "cell_type": "markdown",
      "source": [
        "##Random Forest"
      ],
      "metadata": {
        "id": "JBbo9NueQ2c7"
      }
    },
    {
      "cell_type": "code",
      "source": [
        "from sklearn.ensemble import RandomForestClassifier\n",
        "from sklearn.metrics import plot_confusion_matrix\n",
        "# Guardamos a função do modelo com o parâmetro previamente escolhido na variável.\n",
        "rdf_atritado = RandomForestClassifier() \n",
        "rdf_atritado.fit(x_train, y_train) # Treina o modelo.\n"
      ],
      "metadata": {
        "id": "PYI_gLXAQ5rs"
      },
      "execution_count": null,
      "outputs": []
    },
    {
      "cell_type": "code",
      "source": [
        "y_pred_rdf_atritado = rdf_atritado.predict(x_test) # Guarda a predição do teste na variável."
      ],
      "metadata": {
        "id": "Z-SN0VCyRAyd"
      },
      "execution_count": null,
      "outputs": []
    },
    {
      "cell_type": "markdown",
      "source": [
        "###Metricas"
      ],
      "metadata": {
        "id": "79ppsZbPRSX0"
      }
    },
    {
      "cell_type": "markdown",
      "source": [
        "Acuracia"
      ],
      "metadata": {
        "id": "Qnay7brsRUhB"
      }
    },
    {
      "cell_type": "code",
      "source": [
        "from sklearn.metrics import accuracy_score \n",
        "accuracy_score(y_test, y_pred_rdf_atritado) # Mostra a acurácia do modelo."
      ],
      "metadata": {
        "id": "_LyNdUN8RO66"
      },
      "execution_count": null,
      "outputs": []
    },
    {
      "cell_type": "markdown",
      "source": [
        "Precisão"
      ],
      "metadata": {
        "id": "M1Ixi_5DRXbR"
      }
    },
    {
      "cell_type": "code",
      "source": [
        "from sklearn.metrics import precision_score\n",
        "precision_score(y_test, y_pred_rdf_atritado) # Mostra a precisão do modelo."
      ],
      "metadata": {
        "id": "mSRTBO9SRXAx"
      },
      "execution_count": null,
      "outputs": []
    },
    {
      "cell_type": "markdown",
      "source": [
        "Recall"
      ],
      "metadata": {
        "id": "0KoHssB4Rd80"
      }
    },
    {
      "cell_type": "code",
      "source": [
        "from sklearn.metrics import recall_score\n",
        "recall_score(y_test, y_pred_rdf_atritado) # Mostra a revocação do modelo."
      ],
      "metadata": {
        "id": "GsN_XhEYRdh6"
      },
      "execution_count": null,
      "outputs": []
    },
    {
      "cell_type": "code",
      "source": [
        "plot_confusion_matrix(rdf_atritado,x_test,y_test, cmap='Blues') # Plota a matriz de confusão do modelo."
      ],
      "metadata": {
        "id": "Sc8Z1qYbRz_a"
      },
      "execution_count": null,
      "outputs": []
    },
    {
      "cell_type": "markdown",
      "source": [
        "##Deploy"
      ],
      "metadata": {
        "id": "T8YMUZcCLPXa"
      }
    },
    {
      "cell_type": "code",
      "source": [
        "from google.colab import drive\n",
        "drive.mount('/content/drive')"
      ],
      "metadata": {
        "id": "HZH3oftJLSth"
      },
      "execution_count": null,
      "outputs": []
    },
    {
      "cell_type": "code",
      "source": [
        "from joblib import dump\n",
        "\n",
        "dump(rdf_atritado, '/content/drive/MyDrive/Colab Notebooks/modelos/modelo_atritado.model')"
      ],
      "metadata": {
        "id": "tHnaM5ivLZ23"
      },
      "execution_count": null,
      "outputs": []
    }
  ]
}