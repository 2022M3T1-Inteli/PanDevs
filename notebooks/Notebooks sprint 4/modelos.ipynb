{
  "nbformat": 4,
  "nbformat_minor": 0,
  "metadata": {
    "colab": {
      "provenance": [],
      "collapsed_sections": [
        "_fUofvMG8eMB",
        "GGOX7e5djzIz",
        "3CuSz6b4OstP",
        "oZZtAuwu9shJ",
        "S_9qTe-mUenB",
        "KIfA432tVCax",
        "VGuU9uewTecb",
        "JBbo9NueQ2c7",
        "79ppsZbPRSX0",
        "F7aTb0FWVKlr",
        "1SA98sNvV08j",
        "aQvYHJXPWnfq",
        "iTUTVWyqWxoh",
        "MlKQif5BX1L9",
        "gGxOdMKVYY-9",
        "BNHdPS7vTni4",
        "eXNMpk43TzDA",
        "kXtWcJc8UBo_",
        "-dDwhKdFByEv",
        "H7TVWh0XKfZ9",
        "B-PRVmJBkYe9",
        "LB7EC6eqkYfD",
        "kYLMIGFKkYfE",
        "vjL36aI5kYfF",
        "c58oJcvqkYfF",
        "7_6NR3oIkYfF",
        "8NwK8j0ckYfG",
        "0agNvLyIkYfH",
        "eYXdn6LukYfJ",
        "x1TLuppKkYfK",
        "-JmLDmWUkYfK",
        "-uayHgVykYfL",
        "MI2R08lTkYfL",
        "u8O2IriVkYfL",
        "P-76a0HZkYfM",
        "6Ie_Ih6JPhbY",
        "nJBVOWdaP5Y1"
      ]
    },
    "kernelspec": {
      "name": "python3",
      "display_name": "Python 3"
    },
    "language_info": {
      "name": "python"
    }
  },
  "cells": [
    {
      "cell_type": "markdown",
      "source": [
        "#Bibliotecas e autenticação"
      ],
      "metadata": {
        "id": "_fUofvMG8eMB"
      }
    },
    {
      "cell_type": "code",
      "execution_count": 1,
      "metadata": {
        "id": "6rHk2XcT8W4H"
      },
      "outputs": [],
      "source": [
        "!pip install -U -q PyDrive"
      ]
    },
    {
      "cell_type": "code",
      "source": [
        "import pandas as pd\n",
        "import plotly.express as px\n",
        "from sklearn.preprocessing import LabelBinarizer\n",
        "from pydrive.auth import GoogleAuth\n",
        "from pydrive.drive import GoogleDrive\n",
        "from google.colab import auth\n",
        "from oauth2client.client import GoogleCredentials\n",
        "import warnings\n",
        "warnings.filterwarnings('ignore')\n",
        "from sklearn.feature_selection import SelectKBest\n",
        "from sklearn.feature_selection import f_classif, mutual_info_classif\n",
        "from sklearn.preprocessing import MinMaxScaler"
      ],
      "metadata": {
        "id": "sJE9oWJ78lpx"
      },
      "execution_count": 2,
      "outputs": []
    },
    {
      "cell_type": "code",
      "source": [
        "auth.authenticate_user()\n",
        "gauth = GoogleAuth()\n",
        "gauth.credentials = GoogleCredentials.get_application_default()\n",
        "drive = GoogleDrive(gauth)"
      ],
      "metadata": {
        "id": "JKgm1jSz8o7f"
      },
      "execution_count": 3,
      "outputs": []
    },
    {
      "cell_type": "code",
      "source": [
        "downloaded = drive.CreateFile({'id': '1-EL5jV5m_7zJi-rKgDXMAcCSrTGkq7z2'})\n",
        "downloaded.GetContentFile('not_client.csv')\n",
        "downloaded = drive.CreateFile({'id': '1-C4iOW6z7oAtWCHhwuC-IeTxp8COwbxj'})\n",
        "downloaded.GetContentFile('client.csv')"
      ],
      "metadata": {
        "id": "4p0uVvPf8rTw"
      },
      "execution_count": 4,
      "outputs": []
    },
    {
      "cell_type": "code",
      "source": [
        "not_client = pd.read_csv('not_client.csv')\n",
        "client = pd.read_csv('client.csv')"
      ],
      "metadata": {
        "id": "wRd9wzGzPTEw"
      },
      "execution_count": 5,
      "outputs": []
    },
    {
      "cell_type": "markdown",
      "source": [
        "#Modelos Novo cliente\n",
        "\n",
        "\n",
        "\n",
        "\n",
        "\n",
        "\n",
        "\n",
        "\n",
        "\n"
      ],
      "metadata": {
        "id": "GGOX7e5djzIz"
      }
    },
    {
      "cell_type": "markdown",
      "source": [
        "##Divisão entre dados de treinamento e teste"
      ],
      "metadata": {
        "id": "3CuSz6b4OstP"
      }
    },
    {
      "cell_type": "code",
      "source": [
        "from sklearn.model_selection import train_test_split\n",
        "\n",
        "cols = ['vlr_credito', 'vlr_renda', 'qtd_restr']\n",
        "\n",
        "# Dividindo x e y\n",
        "x = not_client[cols]\n",
        "y = not_client['ind_novo_cli']\n",
        "\n",
        "# Dividindo dados para treino e dados para teste\n",
        "x_train, x_test, y_train, y_test = train_test_split(x, y, test_size = 0.4, random_state = 50)"
      ],
      "metadata": {
        "id": "vygOZnWBOwnr"
      },
      "execution_count": 6,
      "outputs": []
    },
    {
      "cell_type": "code",
      "source": [
        "not_client[cols].head()"
      ],
      "metadata": {
        "id": "M7hYGBOmD7FB",
        "colab": {
          "base_uri": "https://localhost:8080/",
          "height": 206
        },
        "outputId": "6a7e3a1c-cc51-4b3d-aacb-8625b11b838c"
      },
      "execution_count": 7,
      "outputs": [
        {
          "output_type": "execute_result",
          "data": {
            "text/plain": [
              "   vlr_credito  vlr_renda  qtd_restr\n",
              "0     0.000100   0.002846    0.00000\n",
              "1     0.000000   0.020181    0.00463\n",
              "2     0.000220   0.001294    0.00463\n",
              "3     0.000565   0.016300    0.00000\n",
              "4     0.000000   0.004916    0.00000"
            ],
            "text/html": [
              "\n",
              "  <div id=\"df-ecfb4941-a946-4236-b19e-ebf0b17bc060\">\n",
              "    <div class=\"colab-df-container\">\n",
              "      <div>\n",
              "<style scoped>\n",
              "    .dataframe tbody tr th:only-of-type {\n",
              "        vertical-align: middle;\n",
              "    }\n",
              "\n",
              "    .dataframe tbody tr th {\n",
              "        vertical-align: top;\n",
              "    }\n",
              "\n",
              "    .dataframe thead th {\n",
              "        text-align: right;\n",
              "    }\n",
              "</style>\n",
              "<table border=\"1\" class=\"dataframe\">\n",
              "  <thead>\n",
              "    <tr style=\"text-align: right;\">\n",
              "      <th></th>\n",
              "      <th>vlr_credito</th>\n",
              "      <th>vlr_renda</th>\n",
              "      <th>qtd_restr</th>\n",
              "    </tr>\n",
              "  </thead>\n",
              "  <tbody>\n",
              "    <tr>\n",
              "      <th>0</th>\n",
              "      <td>0.000100</td>\n",
              "      <td>0.002846</td>\n",
              "      <td>0.00000</td>\n",
              "    </tr>\n",
              "    <tr>\n",
              "      <th>1</th>\n",
              "      <td>0.000000</td>\n",
              "      <td>0.020181</td>\n",
              "      <td>0.00463</td>\n",
              "    </tr>\n",
              "    <tr>\n",
              "      <th>2</th>\n",
              "      <td>0.000220</td>\n",
              "      <td>0.001294</td>\n",
              "      <td>0.00463</td>\n",
              "    </tr>\n",
              "    <tr>\n",
              "      <th>3</th>\n",
              "      <td>0.000565</td>\n",
              "      <td>0.016300</td>\n",
              "      <td>0.00000</td>\n",
              "    </tr>\n",
              "    <tr>\n",
              "      <th>4</th>\n",
              "      <td>0.000000</td>\n",
              "      <td>0.004916</td>\n",
              "      <td>0.00000</td>\n",
              "    </tr>\n",
              "  </tbody>\n",
              "</table>\n",
              "</div>\n",
              "      <button class=\"colab-df-convert\" onclick=\"convertToInteractive('df-ecfb4941-a946-4236-b19e-ebf0b17bc060')\"\n",
              "              title=\"Convert this dataframe to an interactive table.\"\n",
              "              style=\"display:none;\">\n",
              "        \n",
              "  <svg xmlns=\"http://www.w3.org/2000/svg\" height=\"24px\"viewBox=\"0 0 24 24\"\n",
              "       width=\"24px\">\n",
              "    <path d=\"M0 0h24v24H0V0z\" fill=\"none\"/>\n",
              "    <path d=\"M18.56 5.44l.94 2.06.94-2.06 2.06-.94-2.06-.94-.94-2.06-.94 2.06-2.06.94zm-11 1L8.5 8.5l.94-2.06 2.06-.94-2.06-.94L8.5 2.5l-.94 2.06-2.06.94zm10 10l.94 2.06.94-2.06 2.06-.94-2.06-.94-.94-2.06-.94 2.06-2.06.94z\"/><path d=\"M17.41 7.96l-1.37-1.37c-.4-.4-.92-.59-1.43-.59-.52 0-1.04.2-1.43.59L10.3 9.45l-7.72 7.72c-.78.78-.78 2.05 0 2.83L4 21.41c.39.39.9.59 1.41.59.51 0 1.02-.2 1.41-.59l7.78-7.78 2.81-2.81c.8-.78.8-2.07 0-2.86zM5.41 20L4 18.59l7.72-7.72 1.47 1.35L5.41 20z\"/>\n",
              "  </svg>\n",
              "      </button>\n",
              "      \n",
              "  <style>\n",
              "    .colab-df-container {\n",
              "      display:flex;\n",
              "      flex-wrap:wrap;\n",
              "      gap: 12px;\n",
              "    }\n",
              "\n",
              "    .colab-df-convert {\n",
              "      background-color: #E8F0FE;\n",
              "      border: none;\n",
              "      border-radius: 50%;\n",
              "      cursor: pointer;\n",
              "      display: none;\n",
              "      fill: #1967D2;\n",
              "      height: 32px;\n",
              "      padding: 0 0 0 0;\n",
              "      width: 32px;\n",
              "    }\n",
              "\n",
              "    .colab-df-convert:hover {\n",
              "      background-color: #E2EBFA;\n",
              "      box-shadow: 0px 1px 2px rgba(60, 64, 67, 0.3), 0px 1px 3px 1px rgba(60, 64, 67, 0.15);\n",
              "      fill: #174EA6;\n",
              "    }\n",
              "\n",
              "    [theme=dark] .colab-df-convert {\n",
              "      background-color: #3B4455;\n",
              "      fill: #D2E3FC;\n",
              "    }\n",
              "\n",
              "    [theme=dark] .colab-df-convert:hover {\n",
              "      background-color: #434B5C;\n",
              "      box-shadow: 0px 1px 3px 1px rgba(0, 0, 0, 0.15);\n",
              "      filter: drop-shadow(0px 1px 2px rgba(0, 0, 0, 0.3));\n",
              "      fill: #FFFFFF;\n",
              "    }\n",
              "  </style>\n",
              "\n",
              "      <script>\n",
              "        const buttonEl =\n",
              "          document.querySelector('#df-ecfb4941-a946-4236-b19e-ebf0b17bc060 button.colab-df-convert');\n",
              "        buttonEl.style.display =\n",
              "          google.colab.kernel.accessAllowed ? 'block' : 'none';\n",
              "\n",
              "        async function convertToInteractive(key) {\n",
              "          const element = document.querySelector('#df-ecfb4941-a946-4236-b19e-ebf0b17bc060');\n",
              "          const dataTable =\n",
              "            await google.colab.kernel.invokeFunction('convertToInteractive',\n",
              "                                                     [key], {});\n",
              "          if (!dataTable) return;\n",
              "\n",
              "          const docLinkHtml = 'Like what you see? Visit the ' +\n",
              "            '<a target=\"_blank\" href=https://colab.research.google.com/notebooks/data_table.ipynb>data table notebook</a>'\n",
              "            + ' to learn more about interactive tables.';\n",
              "          element.innerHTML = '';\n",
              "          dataTable['output_type'] = 'display_data';\n",
              "          await google.colab.output.renderOutput(dataTable, element);\n",
              "          const docLink = document.createElement('div');\n",
              "          docLink.innerHTML = docLinkHtml;\n",
              "          element.appendChild(docLink);\n",
              "        }\n",
              "      </script>\n",
              "    </div>\n",
              "  </div>\n",
              "  "
            ]
          },
          "metadata": {},
          "execution_count": 7
        }
      ]
    },
    {
      "cell_type": "markdown",
      "source": [
        "##KNN "
      ],
      "metadata": {
        "id": "oZZtAuwu9shJ"
      }
    },
    {
      "cell_type": "code",
      "source": [
        "from sklearn.neighbors import KNeighborsClassifier\n",
        "\n",
        "kn_n = KNeighborsClassifier(n_neighbors=23)\n",
        "kn_n.fit(x_train, y_train)"
      ],
      "metadata": {
        "id": "U2K_9u2dPDYP",
        "colab": {
          "base_uri": "https://localhost:8080/"
        },
        "outputId": "4b4c8b2d-c2b3-4ba6-ff82-b1a768afd1dc"
      },
      "execution_count": 8,
      "outputs": [
        {
          "output_type": "execute_result",
          "data": {
            "text/plain": [
              "KNeighborsClassifier(n_neighbors=23)"
            ]
          },
          "metadata": {},
          "execution_count": 8
        }
      ]
    },
    {
      "cell_type": "code",
      "source": [
        "y_pred_knn = kn_n.predict(x_test)\n",
        "y_pred_knn"
      ],
      "metadata": {
        "id": "RXBLdfS1UZ7i",
        "colab": {
          "base_uri": "https://localhost:8080/"
        },
        "outputId": "a64092f7-f9b0-4ad4-ba8b-f6405681e359"
      },
      "execution_count": 9,
      "outputs": [
        {
          "output_type": "execute_result",
          "data": {
            "text/plain": [
              "array([0., 0., 0., ..., 0., 0., 0.])"
            ]
          },
          "metadata": {},
          "execution_count": 9
        }
      ]
    },
    {
      "cell_type": "markdown",
      "source": [
        "###Metricas"
      ],
      "metadata": {
        "id": "S_9qTe-mUenB"
      }
    },
    {
      "cell_type": "code",
      "source": [
        "from sklearn.metrics import accuracy_score\n",
        "accuracy_score(y_test, y_pred_knn)"
      ],
      "metadata": {
        "id": "CrJCbLjsUgh8",
        "colab": {
          "base_uri": "https://localhost:8080/"
        },
        "outputId": "73f29d99-6949-43f6-b2a9-0fe91ec535f6"
      },
      "execution_count": 10,
      "outputs": [
        {
          "output_type": "execute_result",
          "data": {
            "text/plain": [
              "0.8131543397500844"
            ]
          },
          "metadata": {},
          "execution_count": 10
        }
      ]
    },
    {
      "cell_type": "code",
      "source": [
        "from sklearn.metrics import precision_score\n",
        "precision_score(y_test, y_pred_knn)"
      ],
      "metadata": {
        "id": "vb1xqN5xUg5Z",
        "colab": {
          "base_uri": "https://localhost:8080/"
        },
        "outputId": "b7cedc2d-e4a1-4509-ebb1-e5da6cdb3907"
      },
      "execution_count": 11,
      "outputs": [
        {
          "output_type": "execute_result",
          "data": {
            "text/plain": [
              "0.6700949367088608"
            ]
          },
          "metadata": {},
          "execution_count": 11
        }
      ]
    },
    {
      "cell_type": "code",
      "source": [
        "from sklearn.metrics import recall_score\n",
        "recall_score(y_test, y_pred_knn)"
      ],
      "metadata": {
        "id": "SklKokxWUhPB",
        "colab": {
          "base_uri": "https://localhost:8080/"
        },
        "outputId": "98332507-9818-475a-e8f6-4e24995aba9c"
      },
      "execution_count": 12,
      "outputs": [
        {
          "output_type": "execute_result",
          "data": {
            "text/plain": [
              "0.6440085158150851"
            ]
          },
          "metadata": {},
          "execution_count": 12
        }
      ]
    },
    {
      "cell_type": "markdown",
      "source": [
        "###Matriz de confusão"
      ],
      "metadata": {
        "id": "KIfA432tVCax"
      }
    },
    {
      "cell_type": "code",
      "source": [
        "from sklearn.metrics import plot_confusion_matrix\n",
        "plot_confusion_matrix(kn_n,x_test,y_test, cmap='Blues')"
      ],
      "metadata": {
        "id": "knCme2GiU9SB",
        "colab": {
          "base_uri": "https://localhost:8080/",
          "height": 0
        },
        "outputId": "ef14791e-9d33-45b9-faec-5568eff8ec58"
      },
      "execution_count": 13,
      "outputs": [
        {
          "output_type": "execute_result",
          "data": {
            "text/plain": [
              "<sklearn.metrics._plot.confusion_matrix.ConfusionMatrixDisplay at 0x7f53b5a59b90>"
            ]
          },
          "metadata": {},
          "execution_count": 13
        },
        {
          "output_type": "display_data",
          "data": {
            "text/plain": [
              "<Figure size 432x288 with 2 Axes>"
            ],
            "image/png": "[encoded data removed]"
          },
          "metadata": {
            "needs_background": "light"
          }
        }
      ]
    },
    {
      "cell_type": "markdown",
      "source": [
        "##Árvore de decisão"
      ],
      "metadata": {
        "id": "UUr6DkgvDkRj"
      }
    },
    {
      "cell_type": "code",
      "source": [
        "from sklearn.model_selection import train_test_split\n",
        "from sklearn.tree import DecisionTreeClassifier\n",
        "\n",
        "avd = DecisionTreeClassifier(criterion='entropy', random_state=42)\n",
        "avd.fit(x_train, y_train)"
      ],
      "metadata": {
        "id": "Gt9I27vVShAy",
        "colab": {
          "base_uri": "https://localhost:8080/"
        },
        "outputId": "45276e74-41e7-401c-a77a-aecf47693da2"
      },
      "execution_count": 14,
      "outputs": [
        {
          "output_type": "execute_result",
          "data": {
            "text/plain": [
              "DecisionTreeClassifier(criterion='entropy', random_state=42)"
            ]
          },
          "metadata": {},
          "execution_count": 14
        }
      ]
    },
    {
      "cell_type": "code",
      "source": [
        "y_pred_avd = avd.predict(x_test)\n",
        "y_pred_avd"
      ],
      "metadata": {
        "id": "7DpjbLq7Slg3",
        "colab": {
          "base_uri": "https://localhost:8080/"
        },
        "outputId": "3e2097fe-8bcb-4ad2-b248-4cd1211eafae"
      },
      "execution_count": 15,
      "outputs": [
        {
          "output_type": "execute_result",
          "data": {
            "text/plain": [
              "array([0., 0., 0., ..., 0., 0., 0.])"
            ]
          },
          "metadata": {},
          "execution_count": 15
        }
      ]
    },
    {
      "cell_type": "markdown",
      "source": [
        "###Métricas"
      ],
      "metadata": {
        "id": "4c3zaL5DSyqJ"
      }
    },
    {
      "cell_type": "markdown",
      "source": [
        "Acurácia"
      ],
      "metadata": {
        "id": "T3YJgczvTLTb"
      }
    },
    {
      "cell_type": "code",
      "source": [
        "from sklearn.metrics import accuracy_score\n",
        "accuracy_score(y_test, y_pred_avd)"
      ],
      "metadata": {
        "id": "RFGTNR05S1kB",
        "colab": {
          "base_uri": "https://localhost:8080/"
        },
        "outputId": "1a3de9f0-cba4-49d2-fab4-2ad339a9449e"
      },
      "execution_count": 16,
      "outputs": [
        {
          "output_type": "execute_result",
          "data": {
            "text/plain": [
              "0.7904002026342452"
            ]
          },
          "metadata": {},
          "execution_count": 16
        }
      ]
    },
    {
      "cell_type": "markdown",
      "source": [
        "Precisão"
      ],
      "metadata": {
        "id": "cZ_T_WxcTNky"
      }
    },
    {
      "cell_type": "code",
      "source": [
        "from sklearn.metrics import precision_score\n",
        "precision_score(y_test, y_pred_avd)"
      ],
      "metadata": {
        "id": "J0YwCh02S6oP",
        "colab": {
          "base_uri": "https://localhost:8080/"
        },
        "outputId": "4738d6fb-e4fc-4263-ce96-5fa3078a0b3b"
      },
      "execution_count": 17,
      "outputs": [
        {
          "output_type": "execute_result",
          "data": {
            "text/plain": [
              "0.6365485675538227"
            ]
          },
          "metadata": {},
          "execution_count": 17
        }
      ]
    },
    {
      "cell_type": "markdown",
      "source": [
        "Recall"
      ],
      "metadata": {
        "id": "VWxDsiiWTPWR"
      }
    },
    {
      "cell_type": "code",
      "source": [
        "from sklearn.metrics import recall_score\n",
        "recall_score(y_test, y_pred_avd)"
      ],
      "metadata": {
        "id": "Hfqzd7jWTCZJ",
        "colab": {
          "base_uri": "https://localhost:8080/"
        },
        "outputId": "21e718c8-f562-47ed-ecae-6576e3ebea86"
      },
      "execution_count": 18,
      "outputs": [
        {
          "output_type": "execute_result",
          "data": {
            "text/plain": [
              "0.5710158150851582"
            ]
          },
          "metadata": {},
          "execution_count": 18
        }
      ]
    },
    {
      "cell_type": "markdown",
      "source": [
        "###Matriz de confusão"
      ],
      "metadata": {
        "id": "VGuU9uewTecb"
      }
    },
    {
      "cell_type": "code",
      "source": [
        "plot_confusion_matrix(avd,x_test,y_test, cmap='Blues')\n"
      ],
      "metadata": {
        "id": "1FAqMJDETieu",
        "colab": {
          "base_uri": "https://localhost:8080/",
          "height": 0
        },
        "outputId": "2cffdd2e-a6cb-485e-8f68-588ad3117c11"
      },
      "execution_count": 19,
      "outputs": [
        {
          "output_type": "execute_result",
          "data": {
            "text/plain": [
              "<sklearn.metrics._plot.confusion_matrix.ConfusionMatrixDisplay at 0x7f53b55115d0>"
            ]
          },
          "metadata": {},
          "execution_count": 19
        },
        {
          "output_type": "display_data",
          "data": {
            "text/plain": [
              "<Figure size 432x288 with 2 Axes>"
            ],
            "image/png": "[encoded data removed]"
          },
          "metadata": {
            "needs_background": "light"
          }
        }
      ]
    },
    {
      "cell_type": "markdown",
      "source": [
        "##Random Forest"
      ],
      "metadata": {
        "id": "JBbo9NueQ2c7"
      }
    },
    {
      "cell_type": "code",
      "source": [
        "from sklearn.ensemble import RandomForestClassifier\n",
        "from sklearn.metrics import plot_confusion_matrix\n",
        "\n",
        "rdf = RandomForestClassifier()\n",
        "rdf.fit(x_train, y_train)\n"
      ],
      "metadata": {
        "id": "PYI_gLXAQ5rs",
        "colab": {
          "base_uri": "https://localhost:8080/"
        },
        "outputId": "2bd4ba70-d5da-421e-8bc7-1430a8feacbc"
      },
      "execution_count": 20,
      "outputs": [
        {
          "output_type": "execute_result",
          "data": {
            "text/plain": [
              "RandomForestClassifier()"
            ]
          },
          "metadata": {},
          "execution_count": 20
        }
      ]
    },
    {
      "cell_type": "code",
      "source": [
        "y_pred_rdf = rdf.predict(x_test)"
      ],
      "metadata": {
        "id": "Z-SN0VCyRAyd"
      },
      "execution_count": 21,
      "outputs": []
    },
    {
      "cell_type": "markdown",
      "source": [
        "###Métricas"
      ],
      "metadata": {
        "id": "79ppsZbPRSX0"
      }
    },
    {
      "cell_type": "markdown",
      "source": [
        "Acurácia"
      ],
      "metadata": {
        "id": "Qnay7brsRUhB"
      }
    },
    {
      "cell_type": "code",
      "source": [
        "from sklearn.metrics import accuracy_score\n",
        "accuracy_score(y_test, y_pred_rdf)"
      ],
      "metadata": {
        "id": "_LyNdUN8RO66",
        "colab": {
          "base_uri": "https://localhost:8080/"
        },
        "outputId": "5aa07f92-651c-4691-9bfd-68b0bf630e3c"
      },
      "execution_count": 22,
      "outputs": [
        {
          "output_type": "execute_result",
          "data": {
            "text/plain": [
              "0.7978723404255319"
            ]
          },
          "metadata": {},
          "execution_count": 22
        }
      ]
    },
    {
      "cell_type": "markdown",
      "source": [
        "Precisão"
      ],
      "metadata": {
        "id": "M1Ixi_5DRXbR"
      }
    },
    {
      "cell_type": "code",
      "source": [
        "from sklearn.metrics import precision_score\n",
        "precision_score(y_test, y_pred_rdf)"
      ],
      "metadata": {
        "id": "mSRTBO9SRXAx",
        "colab": {
          "base_uri": "https://localhost:8080/"
        },
        "outputId": "155165de-de80-4122-c603-75314dd192f4"
      },
      "execution_count": 23,
      "outputs": [
        {
          "output_type": "execute_result",
          "data": {
            "text/plain": [
              "0.646894511994742"
            ]
          },
          "metadata": {},
          "execution_count": 23
        }
      ]
    },
    {
      "cell_type": "markdown",
      "source": [
        "Recall"
      ],
      "metadata": {
        "id": "0KoHssB4Rd80"
      }
    },
    {
      "cell_type": "code",
      "source": [
        "from sklearn.metrics import recall_score\n",
        "recall_score(y_test, y_pred_rdf)"
      ],
      "metadata": {
        "id": "GsN_XhEYRdh6",
        "colab": {
          "base_uri": "https://localhost:8080/"
        },
        "outputId": "e8f17465-0a89-42b5-f156-a422984544e0"
      },
      "execution_count": 24,
      "outputs": [
        {
          "output_type": "execute_result",
          "data": {
            "text/plain": [
              "0.5986922141119222"
            ]
          },
          "metadata": {},
          "execution_count": 24
        }
      ]
    },
    {
      "cell_type": "code",
      "source": [
        "plot_confusion_matrix(rdf,x_test,y_test, cmap='Blues')"
      ],
      "metadata": {
        "id": "Sc8Z1qYbRz_a",
        "colab": {
          "base_uri": "https://localhost:8080/",
          "height": 0
        },
        "outputId": "114c29b3-774a-46ab-8897-b259f5e0375f"
      },
      "execution_count": 25,
      "outputs": [
        {
          "output_type": "execute_result",
          "data": {
            "text/plain": [
              "<sklearn.metrics._plot.confusion_matrix.ConfusionMatrixDisplay at 0x7f53b4fe2350>"
            ]
          },
          "metadata": {},
          "execution_count": 25
        },
        {
          "output_type": "display_data",
          "data": {
            "text/plain": [
              "<Figure size 432x288 with 2 Axes>"
            ],
            "image/png": "[encoded data removed]"
          },
          "metadata": {
            "needs_background": "light"
          }
        }
      ]
    },
    {
      "cell_type": "markdown",
      "source": [],
      "metadata": {
        "id": "6wNFILDjR6Qi"
      }
    },
    {
      "cell_type": "markdown",
      "source": [
        "##Naive Bayes"
      ],
      "metadata": {
        "id": "F7aTb0FWVKlr"
      }
    },
    {
      "cell_type": "code",
      "source": [
        "from sklearn.naive_bayes import GaussianNB\n",
        "nbs = GaussianNB()\n",
        "nbs.fit(x_train, y_train)"
      ],
      "metadata": {
        "id": "emvzUyNfVPpd",
        "colab": {
          "base_uri": "https://localhost:8080/"
        },
        "outputId": "8ddd91e4-50fd-4818-8837-c3279703cff1"
      },
      "execution_count": 26,
      "outputs": [
        {
          "output_type": "execute_result",
          "data": {
            "text/plain": [
              "GaussianNB()"
            ]
          },
          "metadata": {},
          "execution_count": 26
        }
      ]
    },
    {
      "cell_type": "code",
      "source": [
        "y_pred_nbs = rdf.predict(x_test)"
      ],
      "metadata": {
        "id": "bl0oRXrDVuo9"
      },
      "execution_count": 27,
      "outputs": []
    },
    {
      "cell_type": "markdown",
      "source": [
        "###Métricas"
      ],
      "metadata": {
        "id": "1SA98sNvV08j"
      }
    },
    {
      "cell_type": "markdown",
      "source": [
        "Acurácia"
      ],
      "metadata": {
        "id": "XOpIy76MWek-"
      }
    },
    {
      "cell_type": "code",
      "source": [
        "from sklearn.metrics import accuracy_score\n",
        "accuracy_score(y_test, y_pred_nbs)"
      ],
      "metadata": {
        "id": "TARX2xdRWCBP",
        "colab": {
          "base_uri": "https://localhost:8080/"
        },
        "outputId": "5906c071-6927-4006-9e39-680c4fc3c24c"
      },
      "execution_count": 28,
      "outputs": [
        {
          "output_type": "execute_result",
          "data": {
            "text/plain": [
              "0.7978723404255319"
            ]
          },
          "metadata": {},
          "execution_count": 28
        }
      ]
    },
    {
      "cell_type": "markdown",
      "source": [
        "Precisão"
      ],
      "metadata": {
        "id": "JUZ3R7ARWg8S"
      }
    },
    {
      "cell_type": "code",
      "source": [
        "from sklearn.metrics import precision_score\n",
        "precision_score(y_test, y_pred_nbs)"
      ],
      "metadata": {
        "id": "X5d3z2CdWBpf",
        "colab": {
          "base_uri": "https://localhost:8080/"
        },
        "outputId": "ea0fc580-fd0b-4762-ffec-e7b7b3f67b8b"
      },
      "execution_count": 29,
      "outputs": [
        {
          "output_type": "execute_result",
          "data": {
            "text/plain": [
              "0.646894511994742"
            ]
          },
          "metadata": {},
          "execution_count": 29
        }
      ]
    },
    {
      "cell_type": "markdown",
      "source": [
        "Recall"
      ],
      "metadata": {
        "id": "nC6WXjRsWjl2"
      }
    },
    {
      "cell_type": "code",
      "source": [
        "from sklearn.metrics import recall_score\n",
        "recall_score(y_test, y_pred_nbs)"
      ],
      "metadata": {
        "id": "IBE32bXEV0kR",
        "colab": {
          "base_uri": "https://localhost:8080/"
        },
        "outputId": "f8708140-0a15-43ee-ebc5-5140b3a0a7dd"
      },
      "execution_count": 30,
      "outputs": [
        {
          "output_type": "execute_result",
          "data": {
            "text/plain": [
              "0.5986922141119222"
            ]
          },
          "metadata": {},
          "execution_count": 30
        }
      ]
    },
    {
      "cell_type": "markdown",
      "source": [
        "###Matriz de confusão"
      ],
      "metadata": {
        "id": "aQvYHJXPWnfq"
      }
    },
    {
      "cell_type": "code",
      "source": [
        "plot_confusion_matrix(nbs,x_test,y_test, cmap='Blues')"
      ],
      "metadata": {
        "id": "t8TMFoNSWKiy",
        "colab": {
          "base_uri": "https://localhost:8080/",
          "height": 0
        },
        "outputId": "a3137da1-8ff4-4dcc-dc6f-c338fc164248"
      },
      "execution_count": 31,
      "outputs": [
        {
          "output_type": "execute_result",
          "data": {
            "text/plain": [
              "<sklearn.metrics._plot.confusion_matrix.ConfusionMatrixDisplay at 0x7f53b4f858d0>"
            ]
          },
          "metadata": {},
          "execution_count": 31
        },
        {
          "output_type": "display_data",
          "data": {
            "text/plain": [
              "<Figure size 432x288 with 2 Axes>"
            ],
            "image/png": "[encoded data removed]"
          },
          "metadata": {
            "needs_background": "light"
          }
        }
      ]
    },
    {
      "cell_type": "markdown",
      "source": [
        "##Regressão logística"
      ],
      "metadata": {
        "id": "iTUTVWyqWxoh"
      }
    },
    {
      "cell_type": "code",
      "source": [
        "from sklearn.linear_model import LogisticRegression\n",
        "rgl = LogisticRegression().fit(x_train, y_train)"
      ],
      "metadata": {
        "id": "LL83bQhrW1Gq"
      },
      "execution_count": 32,
      "outputs": []
    },
    {
      "cell_type": "code",
      "source": [
        "y_pred_rgl = rgl.predict(x_test)"
      ],
      "metadata": {
        "id": "gBXFWXoiXuM3"
      },
      "execution_count": 33,
      "outputs": []
    },
    {
      "cell_type": "markdown",
      "source": [
        "###Métricas"
      ],
      "metadata": {
        "id": "MlKQif5BX1L9"
      }
    },
    {
      "cell_type": "markdown",
      "source": [
        "Acuracia"
      ],
      "metadata": {
        "id": "JYSMXnNGYJC-"
      }
    },
    {
      "cell_type": "code",
      "source": [
        "from sklearn.metrics import accuracy_score\n",
        "accuracy_score(y_test, y_pred_rgl)"
      ],
      "metadata": {
        "id": "KM5-RlKaX31i",
        "colab": {
          "base_uri": "https://localhost:8080/"
        },
        "outputId": "387f2dad-f91e-4bde-fa36-b63da360da3d"
      },
      "execution_count": 34,
      "outputs": [
        {
          "output_type": "execute_result",
          "data": {
            "text/plain": [
              "0.7239108409321175"
            ]
          },
          "metadata": {},
          "execution_count": 34
        }
      ]
    },
    {
      "cell_type": "markdown",
      "source": [
        "Precisão"
      ],
      "metadata": {
        "id": "MD8YhD1WYKYV"
      }
    },
    {
      "cell_type": "code",
      "source": [
        "from sklearn.metrics import precision_score\n",
        "precision_score(y_test, y_pred_rgl)"
      ],
      "metadata": {
        "id": "h0dVtgm-X7si",
        "colab": {
          "base_uri": "https://localhost:8080/"
        },
        "outputId": "ebd44075-8472-4648-99b3-744156b8095b"
      },
      "execution_count": 35,
      "outputs": [
        {
          "output_type": "execute_result",
          "data": {
            "text/plain": [
              "0.8461538461538461"
            ]
          },
          "metadata": {},
          "execution_count": 35
        }
      ]
    },
    {
      "cell_type": "markdown",
      "source": [
        "Recall"
      ],
      "metadata": {
        "id": "TUKzC1LpYXQN"
      }
    },
    {
      "cell_type": "code",
      "source": [
        "from sklearn.metrics import recall_score\n",
        "recall_score(y_test, y_pred_rgl)"
      ],
      "metadata": {
        "id": "xTk1ICLtX9a9",
        "colab": {
          "base_uri": "https://localhost:8080/"
        },
        "outputId": "62429f0d-17a0-4be6-a8d0-532b0485bf54"
      },
      "execution_count": 36,
      "outputs": [
        {
          "output_type": "execute_result",
          "data": {
            "text/plain": [
              "0.006690997566909975"
            ]
          },
          "metadata": {},
          "execution_count": 36
        }
      ]
    },
    {
      "cell_type": "markdown",
      "source": [
        "###Matriz de confusão"
      ],
      "metadata": {
        "id": "gGxOdMKVYY-9"
      }
    },
    {
      "cell_type": "code",
      "source": [
        "plot_confusion_matrix(rgl,x_test,y_test, cmap='Blues')"
      ],
      "metadata": {
        "id": "c8aq6MkEX_wH",
        "colab": {
          "base_uri": "https://localhost:8080/",
          "height": 0
        },
        "outputId": "d8181ed0-003a-4d0a-edd1-bc09096f0588"
      },
      "execution_count": 37,
      "outputs": [
        {
          "output_type": "execute_result",
          "data": {
            "text/plain": [
              "<sklearn.metrics._plot.confusion_matrix.ConfusionMatrixDisplay at 0x7f53b4ee9490>"
            ]
          },
          "metadata": {},
          "execution_count": 37
        },
        {
          "output_type": "display_data",
          "data": {
            "text/plain": [
              "<Figure size 432x288 with 2 Axes>"
            ],
            "image/png": "[encoded data removed]"
          },
          "metadata": {
            "needs_background": "light"
          }
        }
      ]
    },
    {
      "cell_type": "markdown",
      "source": [
        "#Modelos Engajado"
      ],
      "metadata": {
        "id": "5mCpl7_Dkrah"
      }
    },
    {
      "cell_type": "markdown",
      "source": [
        "###Divisão entre dados de treinamento e teste"
      ],
      "metadata": {
        "id": "BNHdPS7vTni4"
      }
    },
    {
      "cell_type": "code",
      "source": [
        "from sklearn.model_selection import train_test_split\n",
        "\n",
        "cols = ['vlr_saldo','vlr_credito', 'num_produtos', 'qtd_oper']\n",
        "\n",
        "# Dividindo x e y\n",
        "x = client[cols]\n",
        "y = client['ind_engaj']\n",
        "\n",
        "# Dividindo dados para treino e dados para teste\n",
        "x_train, x_test, y_train, y_test = train_test_split(x, y, test_size = 0.2, random_state = 42)"
      ],
      "metadata": {
        "id": "Y418Bb0sTxoS"
      },
      "execution_count": 38,
      "outputs": []
    },
    {
      "cell_type": "markdown",
      "source": [
        "###Árvore de decisão"
      ],
      "metadata": {
        "id": "eXNMpk43TzDA"
      }
    },
    {
      "cell_type": "code",
      "source": [
        "from sklearn.model_selection import train_test_split\n",
        "from sklearn.tree import DecisionTreeClassifier\n",
        "\n",
        "avd = DecisionTreeClassifier(criterion='entropy', random_state=42)\n",
        "avd.fit(x_train, y_train)"
      ],
      "metadata": {
        "id": "_3twFHjyT6Vf",
        "colab": {
          "base_uri": "https://localhost:8080/"
        },
        "outputId": "70394612-c300-4068-b6e1-e0c4877caf91"
      },
      "execution_count": 39,
      "outputs": [
        {
          "output_type": "execute_result",
          "data": {
            "text/plain": [
              "DecisionTreeClassifier(criterion='entropy', random_state=42)"
            ]
          },
          "metadata": {},
          "execution_count": 39
        }
      ]
    },
    {
      "cell_type": "code",
      "source": [
        "y_pred_avd = avd.predict(x_test)\n",
        "y_pred_avd"
      ],
      "metadata": {
        "id": "vxOyoupHT8al",
        "colab": {
          "base_uri": "https://localhost:8080/"
        },
        "outputId": "229bd11e-ca2a-4b41-805f-35703c5bedf6"
      },
      "execution_count": 40,
      "outputs": [
        {
          "output_type": "execute_result",
          "data": {
            "text/plain": [
              "array([1., 1., 1., ..., 0., 0., 0.])"
            ]
          },
          "metadata": {},
          "execution_count": 40
        }
      ]
    },
    {
      "cell_type": "markdown",
      "source": [
        "####Métricas"
      ],
      "metadata": {
        "id": "Q_QrRUFFT-U_"
      }
    },
    {
      "cell_type": "markdown",
      "source": [
        "Acurácia"
      ],
      "metadata": {
        "id": "-_pZtXulUGil"
      }
    },
    {
      "cell_type": "code",
      "source": [
        "from sklearn.metrics import accuracy_score\n",
        "accuracy_score(y_test, y_pred_avd)"
      ],
      "metadata": {
        "id": "5A2oJLe5UEob",
        "colab": {
          "base_uri": "https://localhost:8080/"
        },
        "outputId": "ca345867-8787-4933-c7a6-aae68d577899"
      },
      "execution_count": 41,
      "outputs": [
        {
          "output_type": "execute_result",
          "data": {
            "text/plain": [
              "0.9806595653109533"
            ]
          },
          "metadata": {},
          "execution_count": 41
        }
      ]
    },
    {
      "cell_type": "markdown",
      "source": [
        "Precisão"
      ],
      "metadata": {
        "id": "6lQZsVL1UIdv"
      }
    },
    {
      "cell_type": "code",
      "source": [
        "from sklearn.metrics import precision_score\n",
        "precision_score(y_test, y_pred_avd)"
      ],
      "metadata": {
        "id": "1DbjckrHUJh8",
        "colab": {
          "base_uri": "https://localhost:8080/"
        },
        "outputId": "afa31b2a-c022-4a72-deb0-403205afdbcc"
      },
      "execution_count": 42,
      "outputs": [
        {
          "output_type": "execute_result",
          "data": {
            "text/plain": [
              "0.9718640093786636"
            ]
          },
          "metadata": {},
          "execution_count": 42
        }
      ]
    },
    {
      "cell_type": "markdown",
      "source": [
        "Recall"
      ],
      "metadata": {
        "id": "cOPEqQdzULAe"
      }
    },
    {
      "cell_type": "code",
      "source": [
        "from sklearn.metrics import recall_score\n",
        "recall_score(y_test, y_pred_avd)"
      ],
      "metadata": {
        "id": "UQNdQBgFULyM",
        "colab": {
          "base_uri": "https://localhost:8080/"
        },
        "outputId": "aa8d6ed9-8311-4d0d-d88d-ed43f7d2e07b"
      },
      "execution_count": 43,
      "outputs": [
        {
          "output_type": "execute_result",
          "data": {
            "text/plain": [
              "0.9719399718618102"
            ]
          },
          "metadata": {},
          "execution_count": 43
        }
      ]
    },
    {
      "cell_type": "markdown",
      "source": [
        "####Matriz de confusão"
      ],
      "metadata": {
        "id": "kXtWcJc8UBo_"
      }
    },
    {
      "cell_type": "code",
      "source": [
        "from sklearn.metrics import plot_confusion_matrix\n",
        "plot_confusion_matrix(avd,x_test,y_test, cmap='Blues')"
      ],
      "metadata": {
        "id": "f4MUzIj1USb1",
        "colab": {
          "base_uri": "https://localhost:8080/",
          "height": 0
        },
        "outputId": "4debda08-f418-46f5-f4bc-cd496fa50828"
      },
      "execution_count": 44,
      "outputs": [
        {
          "output_type": "execute_result",
          "data": {
            "text/plain": [
              "<sklearn.metrics._plot.confusion_matrix.ConfusionMatrixDisplay at 0x7f53b5ad8bd0>"
            ]
          },
          "metadata": {},
          "execution_count": 44
        },
        {
          "output_type": "display_data",
          "data": {
            "text/plain": [
              "<Figure size 432x288 with 2 Axes>"
            ],
            "image/png": "[encoded data removed]"
          },
          "metadata": {
            "needs_background": "light"
          }
        }
      ]
    },
    {
      "cell_type": "markdown",
      "source": [
        "###Random Forest"
      ],
      "metadata": {
        "id": "-XlVkNvvoWSw"
      }
    },
    {
      "cell_type": "code",
      "source": [
        "from sklearn.ensemble import RandomForestClassifier\n",
        "from sklearn.metrics import plot_confusion_matrix\n",
        "\n",
        "rdf = RandomForestClassifier()\n",
        "rdf.fit(x_train, y_train)\n"
      ],
      "metadata": {
        "id": "AyClYcD8oWSw",
        "colab": {
          "base_uri": "https://localhost:8080/"
        },
        "outputId": "153de45e-1a86-47c0-ba85-f1e1c31a723f"
      },
      "execution_count": 45,
      "outputs": [
        {
          "output_type": "execute_result",
          "data": {
            "text/plain": [
              "RandomForestClassifier()"
            ]
          },
          "metadata": {},
          "execution_count": 45
        }
      ]
    },
    {
      "cell_type": "code",
      "source": [
        "y_pred_rdf = rdf.predict(x_test)"
      ],
      "metadata": {
        "id": "up00DnvQoWSw"
      },
      "execution_count": 46,
      "outputs": []
    },
    {
      "cell_type": "markdown",
      "source": [
        "####Métricas"
      ],
      "metadata": {
        "id": "zW0dFM5HoWSx"
      }
    },
    {
      "cell_type": "markdown",
      "source": [
        "Acurácia"
      ],
      "metadata": {
        "id": "LKf8fVNdoWSx"
      }
    },
    {
      "cell_type": "code",
      "source": [
        "from sklearn.metrics import accuracy_score\n",
        "accuracy_score(y_test, y_pred_rdf)"
      ],
      "metadata": {
        "id": "pwIjcWvToWSx",
        "colab": {
          "base_uri": "https://localhost:8080/"
        },
        "outputId": "993198f7-925a-47e8-a397-559fca1a3fb1"
      },
      "execution_count": 47,
      "outputs": [
        {
          "output_type": "execute_result",
          "data": {
            "text/plain": [
              "0.988998278459221"
            ]
          },
          "metadata": {},
          "execution_count": 47
        }
      ]
    },
    {
      "cell_type": "markdown",
      "source": [
        "Precisão"
      ],
      "metadata": {
        "id": "gwAiYoKKoWSx"
      }
    },
    {
      "cell_type": "code",
      "source": [
        "from sklearn.metrics import precision_score\n",
        "precision_score(y_test, y_pred_rdf)"
      ],
      "metadata": {
        "id": "vcJM2aTDoWSx",
        "colab": {
          "base_uri": "https://localhost:8080/"
        },
        "outputId": "b5b9cd40-211b-4079-922d-8ac85d3bd68f"
      },
      "execution_count": 48,
      "outputs": [
        {
          "output_type": "execute_result",
          "data": {
            "text/plain": [
              "0.9708767394114516"
            ]
          },
          "metadata": {},
          "execution_count": 48
        }
      ]
    },
    {
      "cell_type": "markdown",
      "source": [
        "Recall"
      ],
      "metadata": {
        "id": "4O7c4AfQoWSx"
      }
    },
    {
      "cell_type": "code",
      "source": [
        "from sklearn.metrics import recall_score\n",
        "recall_score(y_test, y_pred_rdf)"
      ],
      "metadata": {
        "id": "aCqt3-ALoWSx",
        "colab": {
          "base_uri": "https://localhost:8080/"
        },
        "outputId": "049a7575-6a26-4e00-b159-b6a6acf37859"
      },
      "execution_count": 49,
      "outputs": [
        {
          "output_type": "execute_result",
          "data": {
            "text/plain": [
              "0.9979677974050336"
            ]
          },
          "metadata": {},
          "execution_count": 49
        }
      ]
    },
    {
      "cell_type": "code",
      "source": [
        "plot_confusion_matrix(rdf,x_test,y_test, cmap='Blues')"
      ],
      "metadata": {
        "id": "gKJ9oYcdoWSx",
        "colab": {
          "base_uri": "https://localhost:8080/",
          "height": 296
        },
        "outputId": "8fdfaa54-acd4-42df-9b70-064723fe6c41"
      },
      "execution_count": 50,
      "outputs": [
        {
          "output_type": "execute_result",
          "data": {
            "text/plain": [
              "<sklearn.metrics._plot.confusion_matrix.ConfusionMatrixDisplay at 0x7f53b4e6f850>"
            ]
          },
          "metadata": {},
          "execution_count": 50
        },
        {
          "output_type": "display_data",
          "data": {
            "text/plain": [
              "<Figure size 432x288 with 2 Axes>"
            ],
            "image/png": "[encoded data removed]"
          },
          "metadata": {
            "needs_background": "light"
          }
        }
      ]
    },
    {
      "cell_type": "markdown",
      "source": [
        "\n",
        "#Modelos Atritado\n",
        "\n",
        "\n"
      ],
      "metadata": {
        "id": "PFzuCwLbkH6S"
      }
    },
    {
      "cell_type": "markdown",
      "source": [
        "## Undersampling de não atritados\n",
        "Nos próximos modelos, percebemos que existe uma quantidade muita pequena de atritados em relação à base de dados. Por isso, utilizamos técnicas de undersampling e oversampling para estabelecer uma proporção melhor.\n",
        "\n"
      ],
      "metadata": {
        "id": "-dDwhKdFByEv"
      }
    },
    {
      "cell_type": "code",
      "source": [
        "import pandas as pd\n",
        "import numpy as np\n",
        "\n",
        "cliente_atrito = client[client.ind_atrito == 1]\n",
        "cliente_atrito"
      ],
      "metadata": {
        "id": "5EFng6AXEemN",
        "colab": {
          "base_uri": "https://localhost:8080/",
          "height": 0
        },
        "outputId": "e58c9e6b-dcde-48b1-a632-79c07a5073cf"
      },
      "execution_count": 51,
      "outputs": [
        {
          "output_type": "execute_result",
          "data": {
            "text/plain": [
              "        Unnamed: 0  vlr_credito  vlr_saldo  num_atend_atrs  vlr_score  \\\n",
              "92            5135     0.013596   0.006807             0.0   0.894196   \n",
              "4087        259785     0.011070   0.005048             0.0   0.350471   \n",
              "5715        356685     0.035036   0.007745             0.0   0.308646   \n",
              "5753        361057     0.064191   0.031470             0.0   1.117262   \n",
              "7637        480701     0.052269   0.009075             0.0   0.636275   \n",
              "...            ...          ...        ...             ...        ...   \n",
              "173376    11067489     0.022855   0.006331             0.0   0.489887   \n",
              "176941    11288368     0.008752   0.004898             0.0   0.434121   \n",
              "178649    11400484     0.011876   0.004694             0.0   0.692042   \n",
              "184201    11774201     0.008256   0.008337             0.0   0.768721   \n",
              "185178    11836028     0.034645   0.015695             0.0   0.183171   \n",
              "\n",
              "        num_produtos  num_atend  qtd_oper  qtd_reclm  qtd_restr  vlr_renda  \\\n",
              "92          0.034483        0.0  0.083019        1.0   0.000000   0.018892   \n",
              "4087        0.011494        0.0  0.026415        0.0   0.000000   0.003612   \n",
              "5715        0.011494        0.0  0.018868        0.0   0.036697   0.026948   \n",
              "5753        0.022989        0.0  0.052830        1.0   0.000000   0.110432   \n",
              "7637        0.011494        0.0  0.052830        0.0   0.000000   0.111821   \n",
              "...              ...        ...       ...        ...        ...        ...   \n",
              "173376      0.034483        0.0  0.071698        0.0   0.000000   0.024726   \n",
              "176941      0.011494        0.0  0.083019        1.0   0.018349   0.011529   \n",
              "178649      0.011494        0.0  0.060377        0.0   0.000000   0.003195   \n",
              "184201      0.011494        0.0  0.049057        0.0   0.000000   0.009446   \n",
              "185178      0.000000        0.0  0.094340        1.0   0.009174   0.011807   \n",
              "\n",
              "        ind_atrito  ind_engaj  \n",
              "92             1.0        1.0  \n",
              "4087           1.0        0.0  \n",
              "5715           1.0        0.0  \n",
              "5753           1.0        1.0  \n",
              "7637           1.0        0.0  \n",
              "...            ...        ...  \n",
              "173376         1.0        1.0  \n",
              "176941         1.0        0.0  \n",
              "178649         1.0        0.0  \n",
              "184201         1.0        0.0  \n",
              "185178         1.0        0.0  \n",
              "\n",
              "[97 rows x 13 columns]"
            ],
            "text/html": [
              "\n",
              "  <div id=\"df-cadc8939-b741-41f4-9558-737838c281e1\">\n",
              "    <div class=\"colab-df-container\">\n",
              "      <div>\n",
              "<style scoped>\n",
              "    .dataframe tbody tr th:only-of-type {\n",
              "        vertical-align: middle;\n",
              "    }\n",
              "\n",
              "    .dataframe tbody tr th {\n",
              "        vertical-align: top;\n",
              "    }\n",
              "\n",
              "    .dataframe thead th {\n",
              "        text-align: right;\n",
              "    }\n",
              "</style>\n",
              "<table border=\"1\" class=\"dataframe\">\n",
              "  <thead>\n",
              "    <tr style=\"text-align: right;\">\n",
              "      <th></th>\n",
              "      <th>Unnamed: 0</th>\n",
              "      <th>vlr_credito</th>\n",
              "      <th>vlr_saldo</th>\n",
              "      <th>num_atend_atrs</th>\n",
              "      <th>vlr_score</th>\n",
              "      <th>num_produtos</th>\n",
              "      <th>num_atend</th>\n",
              "      <th>qtd_oper</th>\n",
              "      <th>qtd_reclm</th>\n",
              "      <th>qtd_restr</th>\n",
              "      <th>vlr_renda</th>\n",
              "      <th>ind_atrito</th>\n",
              "      <th>ind_engaj</th>\n",
              "    </tr>\n",
              "  </thead>\n",
              "  <tbody>\n",
              "    <tr>\n",
              "      <th>92</th>\n",
              "      <td>5135</td>\n",
              "      <td>0.013596</td>\n",
              "      <td>0.006807</td>\n",
              "      <td>0.0</td>\n",
              "      <td>0.894196</td>\n",
              "      <td>0.034483</td>\n",
              "      <td>0.0</td>\n",
              "      <td>0.083019</td>\n",
              "      <td>1.0</td>\n",
              "      <td>0.000000</td>\n",
              "      <td>0.018892</td>\n",
              "      <td>1.0</td>\n",
              "      <td>1.0</td>\n",
              "    </tr>\n",
              "    <tr>\n",
              "      <th>4087</th>\n",
              "      <td>259785</td>\n",
              "      <td>0.011070</td>\n",
              "      <td>0.005048</td>\n",
              "      <td>0.0</td>\n",
              "      <td>0.350471</td>\n",
              "      <td>0.011494</td>\n",
              "      <td>0.0</td>\n",
              "      <td>0.026415</td>\n",
              "      <td>0.0</td>\n",
              "      <td>0.000000</td>\n",
              "      <td>0.003612</td>\n",
              "      <td>1.0</td>\n",
              "      <td>0.0</td>\n",
              "    </tr>\n",
              "    <tr>\n",
              "      <th>5715</th>\n",
              "      <td>356685</td>\n",
              "      <td>0.035036</td>\n",
              "      <td>0.007745</td>\n",
              "      <td>0.0</td>\n",
              "      <td>0.308646</td>\n",
              "      <td>0.011494</td>\n",
              "      <td>0.0</td>\n",
              "      <td>0.018868</td>\n",
              "      <td>0.0</td>\n",
              "      <td>0.036697</td>\n",
              "      <td>0.026948</td>\n",
              "      <td>1.0</td>\n",
              "      <td>0.0</td>\n",
              "    </tr>\n",
              "    <tr>\n",
              "      <th>5753</th>\n",
              "      <td>361057</td>\n",
              "      <td>0.064191</td>\n",
              "      <td>0.031470</td>\n",
              "      <td>0.0</td>\n",
              "      <td>1.117262</td>\n",
              "      <td>0.022989</td>\n",
              "      <td>0.0</td>\n",
              "      <td>0.052830</td>\n",
              "      <td>1.0</td>\n",
              "      <td>0.000000</td>\n",
              "      <td>0.110432</td>\n",
              "      <td>1.0</td>\n",
              "      <td>1.0</td>\n",
              "    </tr>\n",
              "    <tr>\n",
              "      <th>7637</th>\n",
              "      <td>480701</td>\n",
              "      <td>0.052269</td>\n",
              "      <td>0.009075</td>\n",
              "      <td>0.0</td>\n",
              "      <td>0.636275</td>\n",
              "      <td>0.011494</td>\n",
              "      <td>0.0</td>\n",
              "      <td>0.052830</td>\n",
              "      <td>0.0</td>\n",
              "      <td>0.000000</td>\n",
              "      <td>0.111821</td>\n",
              "      <td>1.0</td>\n",
              "      <td>0.0</td>\n",
              "    </tr>\n",
              "    <tr>\n",
              "      <th>...</th>\n",
              "      <td>...</td>\n",
              "      <td>...</td>\n",
              "      <td>...</td>\n",
              "      <td>...</td>\n",
              "      <td>...</td>\n",
              "      <td>...</td>\n",
              "      <td>...</td>\n",
              "      <td>...</td>\n",
              "      <td>...</td>\n",
              "      <td>...</td>\n",
              "      <td>...</td>\n",
              "      <td>...</td>\n",
              "      <td>...</td>\n",
              "    </tr>\n",
              "    <tr>\n",
              "      <th>173376</th>\n",
              "      <td>11067489</td>\n",
              "      <td>0.022855</td>\n",
              "      <td>0.006331</td>\n",
              "      <td>0.0</td>\n",
              "      <td>0.489887</td>\n",
              "      <td>0.034483</td>\n",
              "      <td>0.0</td>\n",
              "      <td>0.071698</td>\n",
              "      <td>0.0</td>\n",
              "      <td>0.000000</td>\n",
              "      <td>0.024726</td>\n",
              "      <td>1.0</td>\n",
              "      <td>1.0</td>\n",
              "    </tr>\n",
              "    <tr>\n",
              "      <th>176941</th>\n",
              "      <td>11288368</td>\n",
              "      <td>0.008752</td>\n",
              "      <td>0.004898</td>\n",
              "      <td>0.0</td>\n",
              "      <td>0.434121</td>\n",
              "      <td>0.011494</td>\n",
              "      <td>0.0</td>\n",
              "      <td>0.083019</td>\n",
              "      <td>1.0</td>\n",
              "      <td>0.018349</td>\n",
              "      <td>0.011529</td>\n",
              "      <td>1.0</td>\n",
              "      <td>0.0</td>\n",
              "    </tr>\n",
              "    <tr>\n",
              "      <th>178649</th>\n",
              "      <td>11400484</td>\n",
              "      <td>0.011876</td>\n",
              "      <td>0.004694</td>\n",
              "      <td>0.0</td>\n",
              "      <td>0.692042</td>\n",
              "      <td>0.011494</td>\n",
              "      <td>0.0</td>\n",
              "      <td>0.060377</td>\n",
              "      <td>0.0</td>\n",
              "      <td>0.000000</td>\n",
              "      <td>0.003195</td>\n",
              "      <td>1.0</td>\n",
              "      <td>0.0</td>\n",
              "    </tr>\n",
              "    <tr>\n",
              "      <th>184201</th>\n",
              "      <td>11774201</td>\n",
              "      <td>0.008256</td>\n",
              "      <td>0.008337</td>\n",
              "      <td>0.0</td>\n",
              "      <td>0.768721</td>\n",
              "      <td>0.011494</td>\n",
              "      <td>0.0</td>\n",
              "      <td>0.049057</td>\n",
              "      <td>0.0</td>\n",
              "      <td>0.000000</td>\n",
              "      <td>0.009446</td>\n",
              "      <td>1.0</td>\n",
              "      <td>0.0</td>\n",
              "    </tr>\n",
              "    <tr>\n",
              "      <th>185178</th>\n",
              "      <td>11836028</td>\n",
              "      <td>0.034645</td>\n",
              "      <td>0.015695</td>\n",
              "      <td>0.0</td>\n",
              "      <td>0.183171</td>\n",
              "      <td>0.000000</td>\n",
              "      <td>0.0</td>\n",
              "      <td>0.094340</td>\n",
              "      <td>1.0</td>\n",
              "      <td>0.009174</td>\n",
              "      <td>0.011807</td>\n",
              "      <td>1.0</td>\n",
              "      <td>0.0</td>\n",
              "    </tr>\n",
              "  </tbody>\n",
              "</table>\n",
              "<p>97 rows × 13 columns</p>\n",
              "</div>\n",
              "      <button class=\"colab-df-convert\" onclick=\"convertToInteractive('df-cadc8939-b741-41f4-9558-737838c281e1')\"\n",
              "              title=\"Convert this dataframe to an interactive table.\"\n",
              "              style=\"display:none;\">\n",
              "        \n",
              "  <svg xmlns=\"http://www.w3.org/2000/svg\" height=\"24px\"viewBox=\"0 0 24 24\"\n",
              "       width=\"24px\">\n",
              "    <path d=\"M0 0h24v24H0V0z\" fill=\"none\"/>\n",
              "    <path d=\"M18.56 5.44l.94 2.06.94-2.06 2.06-.94-2.06-.94-.94-2.06-.94 2.06-2.06.94zm-11 1L8.5 8.5l.94-2.06 2.06-.94-2.06-.94L8.5 2.5l-.94 2.06-2.06.94zm10 10l.94 2.06.94-2.06 2.06-.94-2.06-.94-.94-2.06-.94 2.06-2.06.94z\"/><path d=\"M17.41 7.96l-1.37-1.37c-.4-.4-.92-.59-1.43-.59-.52 0-1.04.2-1.43.59L10.3 9.45l-7.72 7.72c-.78.78-.78 2.05 0 2.83L4 21.41c.39.39.9.59 1.41.59.51 0 1.02-.2 1.41-.59l7.78-7.78 2.81-2.81c.8-.78.8-2.07 0-2.86zM5.41 20L4 18.59l7.72-7.72 1.47 1.35L5.41 20z\"/>\n",
              "  </svg>\n",
              "      </button>\n",
              "      \n",
              "  <style>\n",
              "    .colab-df-container {\n",
              "      display:flex;\n",
              "      flex-wrap:wrap;\n",
              "      gap: 12px;\n",
              "    }\n",
              "\n",
              "    .colab-df-convert {\n",
              "      background-color: #E8F0FE;\n",
              "      border: none;\n",
              "      border-radius: 50%;\n",
              "      cursor: pointer;\n",
              "      display: none;\n",
              "      fill: #1967D2;\n",
              "      height: 32px;\n",
              "      padding: 0 0 0 0;\n",
              "      width: 32px;\n",
              "    }\n",
              "\n",
              "    .colab-df-convert:hover {\n",
              "      background-color: #E2EBFA;\n",
              "      box-shadow: 0px 1px 2px rgba(60, 64, 67, 0.3), 0px 1px 3px 1px rgba(60, 64, 67, 0.15);\n",
              "      fill: #174EA6;\n",
              "    }\n",
              "\n",
              "    [theme=dark] .colab-df-convert {\n",
              "      background-color: #3B4455;\n",
              "      fill: #D2E3FC;\n",
              "    }\n",
              "\n",
              "    [theme=dark] .colab-df-convert:hover {\n",
              "      background-color: #434B5C;\n",
              "      box-shadow: 0px 1px 3px 1px rgba(0, 0, 0, 0.15);\n",
              "      filter: drop-shadow(0px 1px 2px rgba(0, 0, 0, 0.3));\n",
              "      fill: #FFFFFF;\n",
              "    }\n",
              "  </style>\n",
              "\n",
              "      <script>\n",
              "        const buttonEl =\n",
              "          document.querySelector('#df-cadc8939-b741-41f4-9558-737838c281e1 button.colab-df-convert');\n",
              "        buttonEl.style.display =\n",
              "          google.colab.kernel.accessAllowed ? 'block' : 'none';\n",
              "\n",
              "        async function convertToInteractive(key) {\n",
              "          const element = document.querySelector('#df-cadc8939-b741-41f4-9558-737838c281e1');\n",
              "          const dataTable =\n",
              "            await google.colab.kernel.invokeFunction('convertToInteractive',\n",
              "                                                     [key], {});\n",
              "          if (!dataTable) return;\n",
              "\n",
              "          const docLinkHtml = 'Like what you see? Visit the ' +\n",
              "            '<a target=\"_blank\" href=https://colab.research.google.com/notebooks/data_table.ipynb>data table notebook</a>'\n",
              "            + ' to learn more about interactive tables.';\n",
              "          element.innerHTML = '';\n",
              "          dataTable['output_type'] = 'display_data';\n",
              "          await google.colab.output.renderOutput(dataTable, element);\n",
              "          const docLink = document.createElement('div');\n",
              "          docLink.innerHTML = docLinkHtml;\n",
              "          element.appendChild(docLink);\n",
              "        }\n",
              "      </script>\n",
              "    </div>\n",
              "  </div>\n",
              "  "
            ]
          },
          "metadata": {},
          "execution_count": 51
        }
      ]
    },
    {
      "cell_type": "code",
      "source": [
        "cliente_not_atrito = client[client.ind_atrito == 0]\n",
        "cliente_not_atrito"
      ],
      "metadata": {
        "id": "hVXyt6ERGGxO",
        "colab": {
          "base_uri": "https://localhost:8080/",
          "height": 0
        },
        "outputId": "2bc220a0-4b96-4c61-e36b-69f71fa7b21e"
      },
      "execution_count": 52,
      "outputs": [
        {
          "output_type": "execute_result",
          "data": {
            "text/plain": [
              "        Unnamed: 0  vlr_credito  vlr_saldo  num_atend_atrs  vlr_score  \\\n",
              "0                0     0.001802   0.001837             0.0   0.489887   \n",
              "1               18     0.000432   0.000086             0.0  -1.685013   \n",
              "2               30     0.002952   0.001706             0.0  -0.290846   \n",
              "3               35     0.000083   0.001889             0.0   0.190142   \n",
              "4               85     0.014023   0.000945             0.0  -0.402379   \n",
              "...            ...          ...        ...             ...        ...   \n",
              "185875    11886194     0.002807   0.006070             0.0  -0.221138   \n",
              "185876    11886221     0.027062   0.005580             0.0   1.389125   \n",
              "185877    11886229     0.007014   0.028666             0.0   1.082408   \n",
              "185878    11886303     0.000587   0.001349             0.0  -0.667271   \n",
              "185879    11886317     0.005123   0.002236             0.0   0.503829   \n",
              "\n",
              "        num_produtos  num_atend  qtd_oper  qtd_reclm  qtd_restr  vlr_renda  \\\n",
              "0           0.000000        0.0  0.030189        0.0   0.055046   0.003889   \n",
              "1           0.000000        0.0  0.011321        0.0   0.009174   0.002361   \n",
              "2           0.011494        0.0  0.045283        0.0   0.036697   0.005001   \n",
              "3           0.000000        0.0  0.022642        0.0   0.009174   0.011529   \n",
              "4           0.000000        0.0  0.116981        0.0   0.027523   0.011113   \n",
              "...              ...        ...       ...        ...        ...        ...   \n",
              "185875      0.000000        0.0  0.041509        0.0   0.055046   0.002917   \n",
              "185876      0.068966        0.0  0.116981        0.0   0.000000   0.008057   \n",
              "185877      0.045977        0.0  0.026415        0.0   0.000000   0.002084   \n",
              "185878      0.000000        0.0  0.033962        0.0   0.009174   0.009168   \n",
              "185879      0.022989        0.0  0.045283        0.0   0.009174   0.006390   \n",
              "\n",
              "        ind_atrito  ind_engaj  \n",
              "0              0.0        0.0  \n",
              "1              0.0        0.0  \n",
              "2              0.0        0.0  \n",
              "3              0.0        0.0  \n",
              "4              0.0        0.0  \n",
              "...            ...        ...  \n",
              "185875         0.0        0.0  \n",
              "185876         0.0        1.0  \n",
              "185877         0.0        1.0  \n",
              "185878         0.0        0.0  \n",
              "185879         0.0        1.0  \n",
              "\n",
              "[185783 rows x 13 columns]"
            ],
            "text/html": [
              "\n",
              "  <div id=\"df-12ad953a-15a8-4ffc-a2c1-6b76ebc4f085\">\n",
              "    <div class=\"colab-df-container\">\n",
              "      <div>\n",
              "<style scoped>\n",
              "    .dataframe tbody tr th:only-of-type {\n",
              "        vertical-align: middle;\n",
              "    }\n",
              "\n",
              "    .dataframe tbody tr th {\n",
              "        vertical-align: top;\n",
              "    }\n",
              "\n",
              "    .dataframe thead th {\n",
              "        text-align: right;\n",
              "    }\n",
              "</style>\n",
              "<table border=\"1\" class=\"dataframe\">\n",
              "  <thead>\n",
              "    <tr style=\"text-align: right;\">\n",
              "      <th></th>\n",
              "      <th>Unnamed: 0</th>\n",
              "      <th>vlr_credito</th>\n",
              "      <th>vlr_saldo</th>\n",
              "      <th>num_atend_atrs</th>\n",
              "      <th>vlr_score</th>\n",
              "      <th>num_produtos</th>\n",
              "      <th>num_atend</th>\n",
              "      <th>qtd_oper</th>\n",
              "      <th>qtd_reclm</th>\n",
              "      <th>qtd_restr</th>\n",
              "      <th>vlr_renda</th>\n",
              "      <th>ind_atrito</th>\n",
              "      <th>ind_engaj</th>\n",
              "    </tr>\n",
              "  </thead>\n",
              "  <tbody>\n",
              "    <tr>\n",
              "      <th>0</th>\n",
              "      <td>0</td>\n",
              "      <td>0.001802</td>\n",
              "      <td>0.001837</td>\n",
              "      <td>0.0</td>\n",
              "      <td>0.489887</td>\n",
              "      <td>0.000000</td>\n",
              "      <td>0.0</td>\n",
              "      <td>0.030189</td>\n",
              "      <td>0.0</td>\n",
              "      <td>0.055046</td>\n",
              "      <td>0.003889</td>\n",
              "      <td>0.0</td>\n",
              "      <td>0.0</td>\n",
              "    </tr>\n",
              "    <tr>\n",
              "      <th>1</th>\n",
              "      <td>18</td>\n",
              "      <td>0.000432</td>\n",
              "      <td>0.000086</td>\n",
              "      <td>0.0</td>\n",
              "      <td>-1.685013</td>\n",
              "      <td>0.000000</td>\n",
              "      <td>0.0</td>\n",
              "      <td>0.011321</td>\n",
              "      <td>0.0</td>\n",
              "      <td>0.009174</td>\n",
              "      <td>0.002361</td>\n",
              "      <td>0.0</td>\n",
              "      <td>0.0</td>\n",
              "    </tr>\n",
              "    <tr>\n",
              "      <th>2</th>\n",
              "      <td>30</td>\n",
              "      <td>0.002952</td>\n",
              "      <td>0.001706</td>\n",
              "      <td>0.0</td>\n",
              "      <td>-0.290846</td>\n",
              "      <td>0.011494</td>\n",
              "      <td>0.0</td>\n",
              "      <td>0.045283</td>\n",
              "      <td>0.0</td>\n",
              "      <td>0.036697</td>\n",
              "      <td>0.005001</td>\n",
              "      <td>0.0</td>\n",
              "      <td>0.0</td>\n",
              "    </tr>\n",
              "    <tr>\n",
              "      <th>3</th>\n",
              "      <td>35</td>\n",
              "      <td>0.000083</td>\n",
              "      <td>0.001889</td>\n",
              "      <td>0.0</td>\n",
              "      <td>0.190142</td>\n",
              "      <td>0.000000</td>\n",
              "      <td>0.0</td>\n",
              "      <td>0.022642</td>\n",
              "      <td>0.0</td>\n",
              "      <td>0.009174</td>\n",
              "      <td>0.011529</td>\n",
              "      <td>0.0</td>\n",
              "      <td>0.0</td>\n",
              "    </tr>\n",
              "    <tr>\n",
              "      <th>4</th>\n",
              "      <td>85</td>\n",
              "      <td>0.014023</td>\n",
              "      <td>0.000945</td>\n",
              "      <td>0.0</td>\n",
              "      <td>-0.402379</td>\n",
              "      <td>0.000000</td>\n",
              "      <td>0.0</td>\n",
              "      <td>0.116981</td>\n",
              "      <td>0.0</td>\n",
              "      <td>0.027523</td>\n",
              "      <td>0.011113</td>\n",
              "      <td>0.0</td>\n",
              "      <td>0.0</td>\n",
              "    </tr>\n",
              "    <tr>\n",
              "      <th>...</th>\n",
              "      <td>...</td>\n",
              "      <td>...</td>\n",
              "      <td>...</td>\n",
              "      <td>...</td>\n",
              "      <td>...</td>\n",
              "      <td>...</td>\n",
              "      <td>...</td>\n",
              "      <td>...</td>\n",
              "      <td>...</td>\n",
              "      <td>...</td>\n",
              "      <td>...</td>\n",
              "      <td>...</td>\n",
              "      <td>...</td>\n",
              "    </tr>\n",
              "    <tr>\n",
              "      <th>185875</th>\n",
              "      <td>11886194</td>\n",
              "      <td>0.002807</td>\n",
              "      <td>0.006070</td>\n",
              "      <td>0.0</td>\n",
              "      <td>-0.221138</td>\n",
              "      <td>0.000000</td>\n",
              "      <td>0.0</td>\n",
              "      <td>0.041509</td>\n",
              "      <td>0.0</td>\n",
              "      <td>0.055046</td>\n",
              "      <td>0.002917</td>\n",
              "      <td>0.0</td>\n",
              "      <td>0.0</td>\n",
              "    </tr>\n",
              "    <tr>\n",
              "      <th>185876</th>\n",
              "      <td>11886221</td>\n",
              "      <td>0.027062</td>\n",
              "      <td>0.005580</td>\n",
              "      <td>0.0</td>\n",
              "      <td>1.389125</td>\n",
              "      <td>0.068966</td>\n",
              "      <td>0.0</td>\n",
              "      <td>0.116981</td>\n",
              "      <td>0.0</td>\n",
              "      <td>0.000000</td>\n",
              "      <td>0.008057</td>\n",
              "      <td>0.0</td>\n",
              "      <td>1.0</td>\n",
              "    </tr>\n",
              "    <tr>\n",
              "      <th>185877</th>\n",
              "      <td>11886229</td>\n",
              "      <td>0.007014</td>\n",
              "      <td>0.028666</td>\n",
              "      <td>0.0</td>\n",
              "      <td>1.082408</td>\n",
              "      <td>0.045977</td>\n",
              "      <td>0.0</td>\n",
              "      <td>0.026415</td>\n",
              "      <td>0.0</td>\n",
              "      <td>0.000000</td>\n",
              "      <td>0.002084</td>\n",
              "      <td>0.0</td>\n",
              "      <td>1.0</td>\n",
              "    </tr>\n",
              "    <tr>\n",
              "      <th>185878</th>\n",
              "      <td>11886303</td>\n",
              "      <td>0.000587</td>\n",
              "      <td>0.001349</td>\n",
              "      <td>0.0</td>\n",
              "      <td>-0.667271</td>\n",
              "      <td>0.000000</td>\n",
              "      <td>0.0</td>\n",
              "      <td>0.033962</td>\n",
              "      <td>0.0</td>\n",
              "      <td>0.009174</td>\n",
              "      <td>0.009168</td>\n",
              "      <td>0.0</td>\n",
              "      <td>0.0</td>\n",
              "    </tr>\n",
              "    <tr>\n",
              "      <th>185879</th>\n",
              "      <td>11886317</td>\n",
              "      <td>0.005123</td>\n",
              "      <td>0.002236</td>\n",
              "      <td>0.0</td>\n",
              "      <td>0.503829</td>\n",
              "      <td>0.022989</td>\n",
              "      <td>0.0</td>\n",
              "      <td>0.045283</td>\n",
              "      <td>0.0</td>\n",
              "      <td>0.009174</td>\n",
              "      <td>0.006390</td>\n",
              "      <td>0.0</td>\n",
              "      <td>1.0</td>\n",
              "    </tr>\n",
              "  </tbody>\n",
              "</table>\n",
              "<p>185783 rows × 13 columns</p>\n",
              "</div>\n",
              "      <button class=\"colab-df-convert\" onclick=\"convertToInteractive('df-12ad953a-15a8-4ffc-a2c1-6b76ebc4f085')\"\n",
              "              title=\"Convert this dataframe to an interactive table.\"\n",
              "              style=\"display:none;\">\n",
              "        \n",
              "  <svg xmlns=\"http://www.w3.org/2000/svg\" height=\"24px\"viewBox=\"0 0 24 24\"\n",
              "       width=\"24px\">\n",
              "    <path d=\"M0 0h24v24H0V0z\" fill=\"none\"/>\n",
              "    <path d=\"M18.56 5.44l.94 2.06.94-2.06 2.06-.94-2.06-.94-.94-2.06-.94 2.06-2.06.94zm-11 1L8.5 8.5l.94-2.06 2.06-.94-2.06-.94L8.5 2.5l-.94 2.06-2.06.94zm10 10l.94 2.06.94-2.06 2.06-.94-2.06-.94-.94-2.06-.94 2.06-2.06.94z\"/><path d=\"M17.41 7.96l-1.37-1.37c-.4-.4-.92-.59-1.43-.59-.52 0-1.04.2-1.43.59L10.3 9.45l-7.72 7.72c-.78.78-.78 2.05 0 2.83L4 21.41c.39.39.9.59 1.41.59.51 0 1.02-.2 1.41-.59l7.78-7.78 2.81-2.81c.8-.78.8-2.07 0-2.86zM5.41 20L4 18.59l7.72-7.72 1.47 1.35L5.41 20z\"/>\n",
              "  </svg>\n",
              "      </button>\n",
              "      \n",
              "  <style>\n",
              "    .colab-df-container {\n",
              "      display:flex;\n",
              "      flex-wrap:wrap;\n",
              "      gap: 12px;\n",
              "    }\n",
              "\n",
              "    .colab-df-convert {\n",
              "      background-color: #E8F0FE;\n",
              "      border: none;\n",
              "      border-radius: 50%;\n",
              "      cursor: pointer;\n",
              "      display: none;\n",
              "      fill: #1967D2;\n",
              "      height: 32px;\n",
              "      padding: 0 0 0 0;\n",
              "      width: 32px;\n",
              "    }\n",
              "\n",
              "    .colab-df-convert:hover {\n",
              "      background-color: #E2EBFA;\n",
              "      box-shadow: 0px 1px 2px rgba(60, 64, 67, 0.3), 0px 1px 3px 1px rgba(60, 64, 67, 0.15);\n",
              "      fill: #174EA6;\n",
              "    }\n",
              "\n",
              "    [theme=dark] .colab-df-convert {\n",
              "      background-color: #3B4455;\n",
              "      fill: #D2E3FC;\n",
              "    }\n",
              "\n",
              "    [theme=dark] .colab-df-convert:hover {\n",
              "      background-color: #434B5C;\n",
              "      box-shadow: 0px 1px 3px 1px rgba(0, 0, 0, 0.15);\n",
              "      filter: drop-shadow(0px 1px 2px rgba(0, 0, 0, 0.3));\n",
              "      fill: #FFFFFF;\n",
              "    }\n",
              "  </style>\n",
              "\n",
              "      <script>\n",
              "        const buttonEl =\n",
              "          document.querySelector('#df-12ad953a-15a8-4ffc-a2c1-6b76ebc4f085 button.colab-df-convert');\n",
              "        buttonEl.style.display =\n",
              "          google.colab.kernel.accessAllowed ? 'block' : 'none';\n",
              "\n",
              "        async function convertToInteractive(key) {\n",
              "          const element = document.querySelector('#df-12ad953a-15a8-4ffc-a2c1-6b76ebc4f085');\n",
              "          const dataTable =\n",
              "            await google.colab.kernel.invokeFunction('convertToInteractive',\n",
              "                                                     [key], {});\n",
              "          if (!dataTable) return;\n",
              "\n",
              "          const docLinkHtml = 'Like what you see? Visit the ' +\n",
              "            '<a target=\"_blank\" href=https://colab.research.google.com/notebooks/data_table.ipynb>data table notebook</a>'\n",
              "            + ' to learn more about interactive tables.';\n",
              "          element.innerHTML = '';\n",
              "          dataTable['output_type'] = 'display_data';\n",
              "          await google.colab.output.renderOutput(dataTable, element);\n",
              "          const docLink = document.createElement('div');\n",
              "          docLink.innerHTML = docLinkHtml;\n",
              "          element.appendChild(docLink);\n",
              "        }\n",
              "      </script>\n",
              "    </div>\n",
              "  </div>\n",
              "  "
            ]
          },
          "metadata": {},
          "execution_count": 52
        }
      ]
    },
    {
      "cell_type": "code",
      "source": [
        "cliente_not_atrito_sample = cliente_not_atrito.sample(frac=.01, random_state=42)\n",
        "cliente_not_atrito_sample"
      ],
      "metadata": {
        "id": "I0i0skNIGTwG",
        "colab": {
          "base_uri": "https://localhost:8080/",
          "height": 0
        },
        "outputId": "781ee6ae-efcd-43d3-a612-712e950f3cce"
      },
      "execution_count": 53,
      "outputs": [
        {
          "output_type": "execute_result",
          "data": {
            "text/plain": [
              "        Unnamed: 0  vlr_credito  vlr_saldo  num_atend_atrs  vlr_score  \\\n",
              "153043     9763395     0.000836   0.003676             0.0  -0.151429   \n",
              "116148     7405981     0.111865   0.002720             0.0   0.406237   \n",
              "4832        305548     0.002696   0.000208             0.0   0.155287   \n",
              "129787     8278816     0.000900   0.001012             0.0  -0.207196   \n",
              "104167     6626067     0.041504   0.000405             0.0   3.403696   \n",
              "...            ...          ...        ...             ...        ...   \n",
              "21933      1386558     0.010020   0.010504             0.0  -1.685013   \n",
              "4234        268802     0.001786   0.004035             0.0   1.012700   \n",
              "81646      5173032     0.003785   0.001600             0.0  -1.719867   \n",
              "45289      2845346     0.003228   0.004529             0.0  -1.608333   \n",
              "181641    11596443     0.010624   0.000763             0.0   0.371383   \n",
              "\n",
              "        num_produtos  num_atend  qtd_oper  qtd_reclm  qtd_restr  vlr_renda  \\\n",
              "153043      0.011494        0.0  0.011321        0.0   0.027523   0.003334   \n",
              "116148      0.000000        0.0  0.162264        0.0   0.018349   0.181553   \n",
              "4832        0.000000        0.0  0.037736        0.0   0.000000   0.004167   \n",
              "129787      0.045977        0.0  0.071698        0.0   0.000000   0.002084   \n",
              "104167      0.000000        0.0  0.143396        0.0   0.000000   0.011390   \n",
              "...              ...        ...       ...        ...        ...        ...   \n",
              "21933       0.091954        0.0  0.116981        0.0   0.100917   0.009029   \n",
              "4234        0.000000        0.0  0.037736        0.0   0.000000   0.009029   \n",
              "81646       0.022989        0.0  0.071698        0.0   0.045872   0.002084   \n",
              "45289       0.022989        0.0  0.060377        0.0   0.073394   0.002917   \n",
              "181641      0.000000        0.0  0.071698        0.0   0.018349   0.005556   \n",
              "\n",
              "        ind_atrito  ind_engaj  \n",
              "153043         0.0        0.0  \n",
              "116148         0.0        0.0  \n",
              "4832           0.0        0.0  \n",
              "129787         0.0        1.0  \n",
              "104167         0.0        0.0  \n",
              "...            ...        ...  \n",
              "21933          0.0        1.0  \n",
              "4234           0.0        0.0  \n",
              "81646          0.0        1.0  \n",
              "45289          0.0        1.0  \n",
              "181641         0.0        0.0  \n",
              "\n",
              "[1858 rows x 13 columns]"
            ],
            "text/html": [
              "\n",
              "  <div id=\"df-624122ec-7b3d-4ef4-98fe-56979a6f9d46\">\n",
              "    <div class=\"colab-df-container\">\n",
              "      <div>\n",
              "<style scoped>\n",
              "    .dataframe tbody tr th:only-of-type {\n",
              "        vertical-align: middle;\n",
              "    }\n",
              "\n",
              "    .dataframe tbody tr th {\n",
              "        vertical-align: top;\n",
              "    }\n",
              "\n",
              "    .dataframe thead th {\n",
              "        text-align: right;\n",
              "    }\n",
              "</style>\n",
              "<table border=\"1\" class=\"dataframe\">\n",
              "  <thead>\n",
              "    <tr style=\"text-align: right;\">\n",
              "      <th></th>\n",
              "      <th>Unnamed: 0</th>\n",
              "      <th>vlr_credito</th>\n",
              "      <th>vlr_saldo</th>\n",
              "      <th>num_atend_atrs</th>\n",
              "      <th>vlr_score</th>\n",
              "      <th>num_produtos</th>\n",
              "      <th>num_atend</th>\n",
              "      <th>qtd_oper</th>\n",
              "      <th>qtd_reclm</th>\n",
              "      <th>qtd_restr</th>\n",
              "      <th>vlr_renda</th>\n",
              "      <th>ind_atrito</th>\n",
              "      <th>ind_engaj</th>\n",
              "    </tr>\n",
              "  </thead>\n",
              "  <tbody>\n",
              "    <tr>\n",
              "      <th>153043</th>\n",
              "      <td>9763395</td>\n",
              "      <td>0.000836</td>\n",
              "      <td>0.003676</td>\n",
              "      <td>0.0</td>\n",
              "      <td>-0.151429</td>\n",
              "      <td>0.011494</td>\n",
              "      <td>0.0</td>\n",
              "      <td>0.011321</td>\n",
              "      <td>0.0</td>\n",
              "      <td>0.027523</td>\n",
              "      <td>0.003334</td>\n",
              "      <td>0.0</td>\n",
              "      <td>0.0</td>\n",
              "    </tr>\n",
              "    <tr>\n",
              "      <th>116148</th>\n",
              "      <td>7405981</td>\n",
              "      <td>0.111865</td>\n",
              "      <td>0.002720</td>\n",
              "      <td>0.0</td>\n",
              "      <td>0.406237</td>\n",
              "      <td>0.000000</td>\n",
              "      <td>0.0</td>\n",
              "      <td>0.162264</td>\n",
              "      <td>0.0</td>\n",
              "      <td>0.018349</td>\n",
              "      <td>0.181553</td>\n",
              "      <td>0.0</td>\n",
              "      <td>0.0</td>\n",
              "    </tr>\n",
              "    <tr>\n",
              "      <th>4832</th>\n",
              "      <td>305548</td>\n",
              "      <td>0.002696</td>\n",
              "      <td>0.000208</td>\n",
              "      <td>0.0</td>\n",
              "      <td>0.155287</td>\n",
              "      <td>0.000000</td>\n",
              "      <td>0.0</td>\n",
              "      <td>0.037736</td>\n",
              "      <td>0.0</td>\n",
              "      <td>0.000000</td>\n",
              "      <td>0.004167</td>\n",
              "      <td>0.0</td>\n",
              "      <td>0.0</td>\n",
              "    </tr>\n",
              "    <tr>\n",
              "      <th>129787</th>\n",
              "      <td>8278816</td>\n",
              "      <td>0.000900</td>\n",
              "      <td>0.001012</td>\n",
              "      <td>0.0</td>\n",
              "      <td>-0.207196</td>\n",
              "      <td>0.045977</td>\n",
              "      <td>0.0</td>\n",
              "      <td>0.071698</td>\n",
              "      <td>0.0</td>\n",
              "      <td>0.000000</td>\n",
              "      <td>0.002084</td>\n",
              "      <td>0.0</td>\n",
              "      <td>1.0</td>\n",
              "    </tr>\n",
              "    <tr>\n",
              "      <th>104167</th>\n",
              "      <td>6626067</td>\n",
              "      <td>0.041504</td>\n",
              "      <td>0.000405</td>\n",
              "      <td>0.0</td>\n",
              "      <td>3.403696</td>\n",
              "      <td>0.000000</td>\n",
              "      <td>0.0</td>\n",
              "      <td>0.143396</td>\n",
              "      <td>0.0</td>\n",
              "      <td>0.000000</td>\n",
              "      <td>0.011390</td>\n",
              "      <td>0.0</td>\n",
              "      <td>0.0</td>\n",
              "    </tr>\n",
              "    <tr>\n",
              "      <th>...</th>\n",
              "      <td>...</td>\n",
              "      <td>...</td>\n",
              "      <td>...</td>\n",
              "      <td>...</td>\n",
              "      <td>...</td>\n",
              "      <td>...</td>\n",
              "      <td>...</td>\n",
              "      <td>...</td>\n",
              "      <td>...</td>\n",
              "      <td>...</td>\n",
              "      <td>...</td>\n",
              "      <td>...</td>\n",
              "      <td>...</td>\n",
              "    </tr>\n",
              "    <tr>\n",
              "      <th>21933</th>\n",
              "      <td>1386558</td>\n",
              "      <td>0.010020</td>\n",
              "      <td>0.010504</td>\n",
              "      <td>0.0</td>\n",
              "      <td>-1.685013</td>\n",
              "      <td>0.091954</td>\n",
              "      <td>0.0</td>\n",
              "      <td>0.116981</td>\n",
              "      <td>0.0</td>\n",
              "      <td>0.100917</td>\n",
              "      <td>0.009029</td>\n",
              "      <td>0.0</td>\n",
              "      <td>1.0</td>\n",
              "    </tr>\n",
              "    <tr>\n",
              "      <th>4234</th>\n",
              "      <td>268802</td>\n",
              "      <td>0.001786</td>\n",
              "      <td>0.004035</td>\n",
              "      <td>0.0</td>\n",
              "      <td>1.012700</td>\n",
              "      <td>0.000000</td>\n",
              "      <td>0.0</td>\n",
              "      <td>0.037736</td>\n",
              "      <td>0.0</td>\n",
              "      <td>0.000000</td>\n",
              "      <td>0.009029</td>\n",
              "      <td>0.0</td>\n",
              "      <td>0.0</td>\n",
              "    </tr>\n",
              "    <tr>\n",
              "      <th>81646</th>\n",
              "      <td>5173032</td>\n",
              "      <td>0.003785</td>\n",
              "      <td>0.001600</td>\n",
              "      <td>0.0</td>\n",
              "      <td>-1.719867</td>\n",
              "      <td>0.022989</td>\n",
              "      <td>0.0</td>\n",
              "      <td>0.071698</td>\n",
              "      <td>0.0</td>\n",
              "      <td>0.045872</td>\n",
              "      <td>0.002084</td>\n",
              "      <td>0.0</td>\n",
              "      <td>1.0</td>\n",
              "    </tr>\n",
              "    <tr>\n",
              "      <th>45289</th>\n",
              "      <td>2845346</td>\n",
              "      <td>0.003228</td>\n",
              "      <td>0.004529</td>\n",
              "      <td>0.0</td>\n",
              "      <td>-1.608333</td>\n",
              "      <td>0.022989</td>\n",
              "      <td>0.0</td>\n",
              "      <td>0.060377</td>\n",
              "      <td>0.0</td>\n",
              "      <td>0.073394</td>\n",
              "      <td>0.002917</td>\n",
              "      <td>0.0</td>\n",
              "      <td>1.0</td>\n",
              "    </tr>\n",
              "    <tr>\n",
              "      <th>181641</th>\n",
              "      <td>11596443</td>\n",
              "      <td>0.010624</td>\n",
              "      <td>0.000763</td>\n",
              "      <td>0.0</td>\n",
              "      <td>0.371383</td>\n",
              "      <td>0.000000</td>\n",
              "      <td>0.0</td>\n",
              "      <td>0.071698</td>\n",
              "      <td>0.0</td>\n",
              "      <td>0.018349</td>\n",
              "      <td>0.005556</td>\n",
              "      <td>0.0</td>\n",
              "      <td>0.0</td>\n",
              "    </tr>\n",
              "  </tbody>\n",
              "</table>\n",
              "<p>1858 rows × 13 columns</p>\n",
              "</div>\n",
              "      <button class=\"colab-df-convert\" onclick=\"convertToInteractive('df-624122ec-7b3d-4ef4-98fe-56979a6f9d46')\"\n",
              "              title=\"Convert this dataframe to an interactive table.\"\n",
              "              style=\"display:none;\">\n",
              "        \n",
              "  <svg xmlns=\"http://www.w3.org/2000/svg\" height=\"24px\"viewBox=\"0 0 24 24\"\n",
              "       width=\"24px\">\n",
              "    <path d=\"M0 0h24v24H0V0z\" fill=\"none\"/>\n",
              "    <path d=\"M18.56 5.44l.94 2.06.94-2.06 2.06-.94-2.06-.94-.94-2.06-.94 2.06-2.06.94zm-11 1L8.5 8.5l.94-2.06 2.06-.94-2.06-.94L8.5 2.5l-.94 2.06-2.06.94zm10 10l.94 2.06.94-2.06 2.06-.94-2.06-.94-.94-2.06-.94 2.06-2.06.94z\"/><path d=\"M17.41 7.96l-1.37-1.37c-.4-.4-.92-.59-1.43-.59-.52 0-1.04.2-1.43.59L10.3 9.45l-7.72 7.72c-.78.78-.78 2.05 0 2.83L4 21.41c.39.39.9.59 1.41.59.51 0 1.02-.2 1.41-.59l7.78-7.78 2.81-2.81c.8-.78.8-2.07 0-2.86zM5.41 20L4 18.59l7.72-7.72 1.47 1.35L5.41 20z\"/>\n",
              "  </svg>\n",
              "      </button>\n",
              "      \n",
              "  <style>\n",
              "    .colab-df-container {\n",
              "      display:flex;\n",
              "      flex-wrap:wrap;\n",
              "      gap: 12px;\n",
              "    }\n",
              "\n",
              "    .colab-df-convert {\n",
              "      background-color: #E8F0FE;\n",
              "      border: none;\n",
              "      border-radius: 50%;\n",
              "      cursor: pointer;\n",
              "      display: none;\n",
              "      fill: #1967D2;\n",
              "      height: 32px;\n",
              "      padding: 0 0 0 0;\n",
              "      width: 32px;\n",
              "    }\n",
              "\n",
              "    .colab-df-convert:hover {\n",
              "      background-color: #E2EBFA;\n",
              "      box-shadow: 0px 1px 2px rgba(60, 64, 67, 0.3), 0px 1px 3px 1px rgba(60, 64, 67, 0.15);\n",
              "      fill: #174EA6;\n",
              "    }\n",
              "\n",
              "    [theme=dark] .colab-df-convert {\n",
              "      background-color: #3B4455;\n",
              "      fill: #D2E3FC;\n",
              "    }\n",
              "\n",
              "    [theme=dark] .colab-df-convert:hover {\n",
              "      background-color: #434B5C;\n",
              "      box-shadow: 0px 1px 3px 1px rgba(0, 0, 0, 0.15);\n",
              "      filter: drop-shadow(0px 1px 2px rgba(0, 0, 0, 0.3));\n",
              "      fill: #FFFFFF;\n",
              "    }\n",
              "  </style>\n",
              "\n",
              "      <script>\n",
              "        const buttonEl =\n",
              "          document.querySelector('#df-624122ec-7b3d-4ef4-98fe-56979a6f9d46 button.colab-df-convert');\n",
              "        buttonEl.style.display =\n",
              "          google.colab.kernel.accessAllowed ? 'block' : 'none';\n",
              "\n",
              "        async function convertToInteractive(key) {\n",
              "          const element = document.querySelector('#df-624122ec-7b3d-4ef4-98fe-56979a6f9d46');\n",
              "          const dataTable =\n",
              "            await google.colab.kernel.invokeFunction('convertToInteractive',\n",
              "                                                     [key], {});\n",
              "          if (!dataTable) return;\n",
              "\n",
              "          const docLinkHtml = 'Like what you see? Visit the ' +\n",
              "            '<a target=\"_blank\" href=https://colab.research.google.com/notebooks/data_table.ipynb>data table notebook</a>'\n",
              "            + ' to learn more about interactive tables.';\n",
              "          element.innerHTML = '';\n",
              "          dataTable['output_type'] = 'display_data';\n",
              "          await google.colab.output.renderOutput(dataTable, element);\n",
              "          const docLink = document.createElement('div');\n",
              "          docLink.innerHTML = docLinkHtml;\n",
              "          element.appendChild(docLink);\n",
              "        }\n",
              "      </script>\n",
              "    </div>\n",
              "  </div>\n",
              "  "
            ]
          },
          "metadata": {},
          "execution_count": 53
        }
      ]
    },
    {
      "cell_type": "code",
      "source": [
        "client_sample = pd.concat([cliente_atrito, cliente_not_atrito_sample]) \n",
        "client_sample"
      ],
      "metadata": {
        "id": "OubBavUTG3qQ",
        "colab": {
          "base_uri": "https://localhost:8080/",
          "height": 0
        },
        "outputId": "9cd45ea6-c408-4eb0-aa47-8d9bf229bde7"
      },
      "execution_count": 54,
      "outputs": [
        {
          "output_type": "execute_result",
          "data": {
            "text/plain": [
              "        Unnamed: 0  vlr_credito  vlr_saldo  num_atend_atrs  vlr_score  \\\n",
              "92            5135     0.013596   0.006807             0.0   0.894196   \n",
              "4087        259785     0.011070   0.005048             0.0   0.350471   \n",
              "5715        356685     0.035036   0.007745             0.0   0.308646   \n",
              "5753        361057     0.064191   0.031470             0.0   1.117262   \n",
              "7637        480701     0.052269   0.009075             0.0   0.636275   \n",
              "...            ...          ...        ...             ...        ...   \n",
              "21933      1386558     0.010020   0.010504             0.0  -1.685013   \n",
              "4234        268802     0.001786   0.004035             0.0   1.012700   \n",
              "81646      5173032     0.003785   0.001600             0.0  -1.719867   \n",
              "45289      2845346     0.003228   0.004529             0.0  -1.608333   \n",
              "181641    11596443     0.010624   0.000763             0.0   0.371383   \n",
              "\n",
              "        num_produtos  num_atend  qtd_oper  qtd_reclm  qtd_restr  vlr_renda  \\\n",
              "92          0.034483        0.0  0.083019        1.0   0.000000   0.018892   \n",
              "4087        0.011494        0.0  0.026415        0.0   0.000000   0.003612   \n",
              "5715        0.011494        0.0  0.018868        0.0   0.036697   0.026948   \n",
              "5753        0.022989        0.0  0.052830        1.0   0.000000   0.110432   \n",
              "7637        0.011494        0.0  0.052830        0.0   0.000000   0.111821   \n",
              "...              ...        ...       ...        ...        ...        ...   \n",
              "21933       0.091954        0.0  0.116981        0.0   0.100917   0.009029   \n",
              "4234        0.000000        0.0  0.037736        0.0   0.000000   0.009029   \n",
              "81646       0.022989        0.0  0.071698        0.0   0.045872   0.002084   \n",
              "45289       0.022989        0.0  0.060377        0.0   0.073394   0.002917   \n",
              "181641      0.000000        0.0  0.071698        0.0   0.018349   0.005556   \n",
              "\n",
              "        ind_atrito  ind_engaj  \n",
              "92             1.0        1.0  \n",
              "4087           1.0        0.0  \n",
              "5715           1.0        0.0  \n",
              "5753           1.0        1.0  \n",
              "7637           1.0        0.0  \n",
              "...            ...        ...  \n",
              "21933          0.0        1.0  \n",
              "4234           0.0        0.0  \n",
              "81646          0.0        1.0  \n",
              "45289          0.0        1.0  \n",
              "181641         0.0        0.0  \n",
              "\n",
              "[1955 rows x 13 columns]"
            ],
            "text/html": [
              "\n",
              "  <div id=\"df-0d7dc3de-2859-4664-8cfe-8cf2ac2e8a99\">\n",
              "    <div class=\"colab-df-container\">\n",
              "      <div>\n",
              "<style scoped>\n",
              "    .dataframe tbody tr th:only-of-type {\n",
              "        vertical-align: middle;\n",
              "    }\n",
              "\n",
              "    .dataframe tbody tr th {\n",
              "        vertical-align: top;\n",
              "    }\n",
              "\n",
              "    .dataframe thead th {\n",
              "        text-align: right;\n",
              "    }\n",
              "</style>\n",
              "<table border=\"1\" class=\"dataframe\">\n",
              "  <thead>\n",
              "    <tr style=\"text-align: right;\">\n",
              "      <th></th>\n",
              "      <th>Unnamed: 0</th>\n",
              "      <th>vlr_credito</th>\n",
              "      <th>vlr_saldo</th>\n",
              "      <th>num_atend_atrs</th>\n",
              "      <th>vlr_score</th>\n",
              "      <th>num_produtos</th>\n",
              "      <th>num_atend</th>\n",
              "      <th>qtd_oper</th>\n",
              "      <th>qtd_reclm</th>\n",
              "      <th>qtd_restr</th>\n",
              "      <th>vlr_renda</th>\n",
              "      <th>ind_atrito</th>\n",
              "      <th>ind_engaj</th>\n",
              "    </tr>\n",
              "  </thead>\n",
              "  <tbody>\n",
              "    <tr>\n",
              "      <th>92</th>\n",
              "      <td>5135</td>\n",
              "      <td>0.013596</td>\n",
              "      <td>0.006807</td>\n",
              "      <td>0.0</td>\n",
              "      <td>0.894196</td>\n",
              "      <td>0.034483</td>\n",
              "      <td>0.0</td>\n",
              "      <td>0.083019</td>\n",
              "      <td>1.0</td>\n",
              "      <td>0.000000</td>\n",
              "      <td>0.018892</td>\n",
              "      <td>1.0</td>\n",
              "      <td>1.0</td>\n",
              "    </tr>\n",
              "    <tr>\n",
              "      <th>4087</th>\n",
              "      <td>259785</td>\n",
              "      <td>0.011070</td>\n",
              "      <td>0.005048</td>\n",
              "      <td>0.0</td>\n",
              "      <td>0.350471</td>\n",
              "      <td>0.011494</td>\n",
              "      <td>0.0</td>\n",
              "      <td>0.026415</td>\n",
              "      <td>0.0</td>\n",
              "      <td>0.000000</td>\n",
              "      <td>0.003612</td>\n",
              "      <td>1.0</td>\n",
              "      <td>0.0</td>\n",
              "    </tr>\n",
              "    <tr>\n",
              "      <th>5715</th>\n",
              "      <td>356685</td>\n",
              "      <td>0.035036</td>\n",
              "      <td>0.007745</td>\n",
              "      <td>0.0</td>\n",
              "      <td>0.308646</td>\n",
              "      <td>0.011494</td>\n",
              "      <td>0.0</td>\n",
              "      <td>0.018868</td>\n",
              "      <td>0.0</td>\n",
              "      <td>0.036697</td>\n",
              "      <td>0.026948</td>\n",
              "      <td>1.0</td>\n",
              "      <td>0.0</td>\n",
              "    </tr>\n",
              "    <tr>\n",
              "      <th>5753</th>\n",
              "      <td>361057</td>\n",
              "      <td>0.064191</td>\n",
              "      <td>0.031470</td>\n",
              "      <td>0.0</td>\n",
              "      <td>1.117262</td>\n",
              "      <td>0.022989</td>\n",
              "      <td>0.0</td>\n",
              "      <td>0.052830</td>\n",
              "      <td>1.0</td>\n",
              "      <td>0.000000</td>\n",
              "      <td>0.110432</td>\n",
              "      <td>1.0</td>\n",
              "      <td>1.0</td>\n",
              "    </tr>\n",
              "    <tr>\n",
              "      <th>7637</th>\n",
              "      <td>480701</td>\n",
              "      <td>0.052269</td>\n",
              "      <td>0.009075</td>\n",
              "      <td>0.0</td>\n",
              "      <td>0.636275</td>\n",
              "      <td>0.011494</td>\n",
              "      <td>0.0</td>\n",
              "      <td>0.052830</td>\n",
              "      <td>0.0</td>\n",
              "      <td>0.000000</td>\n",
              "      <td>0.111821</td>\n",
              "      <td>1.0</td>\n",
              "      <td>0.0</td>\n",
              "    </tr>\n",
              "    <tr>\n",
              "      <th>...</th>\n",
              "      <td>...</td>\n",
              "      <td>...</td>\n",
              "      <td>...</td>\n",
              "      <td>...</td>\n",
              "      <td>...</td>\n",
              "      <td>...</td>\n",
              "      <td>...</td>\n",
              "      <td>...</td>\n",
              "      <td>...</td>\n",
              "      <td>...</td>\n",
              "      <td>...</td>\n",
              "      <td>...</td>\n",
              "      <td>...</td>\n",
              "    </tr>\n",
              "    <tr>\n",
              "      <th>21933</th>\n",
              "      <td>1386558</td>\n",
              "      <td>0.010020</td>\n",
              "      <td>0.010504</td>\n",
              "      <td>0.0</td>\n",
              "      <td>-1.685013</td>\n",
              "      <td>0.091954</td>\n",
              "      <td>0.0</td>\n",
              "      <td>0.116981</td>\n",
              "      <td>0.0</td>\n",
              "      <td>0.100917</td>\n",
              "      <td>0.009029</td>\n",
              "      <td>0.0</td>\n",
              "      <td>1.0</td>\n",
              "    </tr>\n",
              "    <tr>\n",
              "      <th>4234</th>\n",
              "      <td>268802</td>\n",
              "      <td>0.001786</td>\n",
              "      <td>0.004035</td>\n",
              "      <td>0.0</td>\n",
              "      <td>1.012700</td>\n",
              "      <td>0.000000</td>\n",
              "      <td>0.0</td>\n",
              "      <td>0.037736</td>\n",
              "      <td>0.0</td>\n",
              "      <td>0.000000</td>\n",
              "      <td>0.009029</td>\n",
              "      <td>0.0</td>\n",
              "      <td>0.0</td>\n",
              "    </tr>\n",
              "    <tr>\n",
              "      <th>81646</th>\n",
              "      <td>5173032</td>\n",
              "      <td>0.003785</td>\n",
              "      <td>0.001600</td>\n",
              "      <td>0.0</td>\n",
              "      <td>-1.719867</td>\n",
              "      <td>0.022989</td>\n",
              "      <td>0.0</td>\n",
              "      <td>0.071698</td>\n",
              "      <td>0.0</td>\n",
              "      <td>0.045872</td>\n",
              "      <td>0.002084</td>\n",
              "      <td>0.0</td>\n",
              "      <td>1.0</td>\n",
              "    </tr>\n",
              "    <tr>\n",
              "      <th>45289</th>\n",
              "      <td>2845346</td>\n",
              "      <td>0.003228</td>\n",
              "      <td>0.004529</td>\n",
              "      <td>0.0</td>\n",
              "      <td>-1.608333</td>\n",
              "      <td>0.022989</td>\n",
              "      <td>0.0</td>\n",
              "      <td>0.060377</td>\n",
              "      <td>0.0</td>\n",
              "      <td>0.073394</td>\n",
              "      <td>0.002917</td>\n",
              "      <td>0.0</td>\n",
              "      <td>1.0</td>\n",
              "    </tr>\n",
              "    <tr>\n",
              "      <th>181641</th>\n",
              "      <td>11596443</td>\n",
              "      <td>0.010624</td>\n",
              "      <td>0.000763</td>\n",
              "      <td>0.0</td>\n",
              "      <td>0.371383</td>\n",
              "      <td>0.000000</td>\n",
              "      <td>0.0</td>\n",
              "      <td>0.071698</td>\n",
              "      <td>0.0</td>\n",
              "      <td>0.018349</td>\n",
              "      <td>0.005556</td>\n",
              "      <td>0.0</td>\n",
              "      <td>0.0</td>\n",
              "    </tr>\n",
              "  </tbody>\n",
              "</table>\n",
              "<p>1955 rows × 13 columns</p>\n",
              "</div>\n",
              "      <button class=\"colab-df-convert\" onclick=\"convertToInteractive('df-0d7dc3de-2859-4664-8cfe-8cf2ac2e8a99')\"\n",
              "              title=\"Convert this dataframe to an interactive table.\"\n",
              "              style=\"display:none;\">\n",
              "        \n",
              "  <svg xmlns=\"http://www.w3.org/2000/svg\" height=\"24px\"viewBox=\"0 0 24 24\"\n",
              "       width=\"24px\">\n",
              "    <path d=\"M0 0h24v24H0V0z\" fill=\"none\"/>\n",
              "    <path d=\"M18.56 5.44l.94 2.06.94-2.06 2.06-.94-2.06-.94-.94-2.06-.94 2.06-2.06.94zm-11 1L8.5 8.5l.94-2.06 2.06-.94-2.06-.94L8.5 2.5l-.94 2.06-2.06.94zm10 10l.94 2.06.94-2.06 2.06-.94-2.06-.94-.94-2.06-.94 2.06-2.06.94z\"/><path d=\"M17.41 7.96l-1.37-1.37c-.4-.4-.92-.59-1.43-.59-.52 0-1.04.2-1.43.59L10.3 9.45l-7.72 7.72c-.78.78-.78 2.05 0 2.83L4 21.41c.39.39.9.59 1.41.59.51 0 1.02-.2 1.41-.59l7.78-7.78 2.81-2.81c.8-.78.8-2.07 0-2.86zM5.41 20L4 18.59l7.72-7.72 1.47 1.35L5.41 20z\"/>\n",
              "  </svg>\n",
              "      </button>\n",
              "      \n",
              "  <style>\n",
              "    .colab-df-container {\n",
              "      display:flex;\n",
              "      flex-wrap:wrap;\n",
              "      gap: 12px;\n",
              "    }\n",
              "\n",
              "    .colab-df-convert {\n",
              "      background-color: #E8F0FE;\n",
              "      border: none;\n",
              "      border-radius: 50%;\n",
              "      cursor: pointer;\n",
              "      display: none;\n",
              "      fill: #1967D2;\n",
              "      height: 32px;\n",
              "      padding: 0 0 0 0;\n",
              "      width: 32px;\n",
              "    }\n",
              "\n",
              "    .colab-df-convert:hover {\n",
              "      background-color: #E2EBFA;\n",
              "      box-shadow: 0px 1px 2px rgba(60, 64, 67, 0.3), 0px 1px 3px 1px rgba(60, 64, 67, 0.15);\n",
              "      fill: #174EA6;\n",
              "    }\n",
              "\n",
              "    [theme=dark] .colab-df-convert {\n",
              "      background-color: #3B4455;\n",
              "      fill: #D2E3FC;\n",
              "    }\n",
              "\n",
              "    [theme=dark] .colab-df-convert:hover {\n",
              "      background-color: #434B5C;\n",
              "      box-shadow: 0px 1px 3px 1px rgba(0, 0, 0, 0.15);\n",
              "      filter: drop-shadow(0px 1px 2px rgba(0, 0, 0, 0.3));\n",
              "      fill: #FFFFFF;\n",
              "    }\n",
              "  </style>\n",
              "\n",
              "      <script>\n",
              "        const buttonEl =\n",
              "          document.querySelector('#df-0d7dc3de-2859-4664-8cfe-8cf2ac2e8a99 button.colab-df-convert');\n",
              "        buttonEl.style.display =\n",
              "          google.colab.kernel.accessAllowed ? 'block' : 'none';\n",
              "\n",
              "        async function convertToInteractive(key) {\n",
              "          const element = document.querySelector('#df-0d7dc3de-2859-4664-8cfe-8cf2ac2e8a99');\n",
              "          const dataTable =\n",
              "            await google.colab.kernel.invokeFunction('convertToInteractive',\n",
              "                                                     [key], {});\n",
              "          if (!dataTable) return;\n",
              "\n",
              "          const docLinkHtml = 'Like what you see? Visit the ' +\n",
              "            '<a target=\"_blank\" href=https://colab.research.google.com/notebooks/data_table.ipynb>data table notebook</a>'\n",
              "            + ' to learn more about interactive tables.';\n",
              "          element.innerHTML = '';\n",
              "          dataTable['output_type'] = 'display_data';\n",
              "          await google.colab.output.renderOutput(dataTable, element);\n",
              "          const docLink = document.createElement('div');\n",
              "          docLink.innerHTML = docLinkHtml;\n",
              "          element.appendChild(docLink);\n",
              "        }\n",
              "      </script>\n",
              "    </div>\n",
              "  </div>\n",
              "  "
            ]
          },
          "metadata": {},
          "execution_count": 54
        }
      ]
    },
    {
      "cell_type": "markdown",
      "source": [
        "##Oversampling de atritados e seleção de colunas a serem utilizadas\n"
      ],
      "metadata": {
        "id": "H7TVWh0XKfZ9"
      }
    },
    {
      "cell_type": "code",
      "source": [
        "from imblearn.over_sampling import SMOTE\n",
        "\n",
        "cols = ['vlr_saldo','vlr_credito', 'num_atend_atrs', 'qtd_reclm','vlr_renda']\n",
        "\n",
        "# Dividindo x e y\n",
        "x = client_sample[cols]\n",
        "y = client_sample['ind_atrito']\n",
        "\n",
        "sm = SMOTE(random_state=42, sampling_strategy=\"auto\")\n",
        "X_res, y_res = sm.fit_resample(x, y)"
      ],
      "metadata": {
        "id": "q7DZbyX9Ko_q"
      },
      "execution_count": 55,
      "outputs": []
    },
    {
      "cell_type": "markdown",
      "source": [
        "##Divisão entre dados de treinamento e teste"
      ],
      "metadata": {
        "id": "B-PRVmJBkYe9"
      }
    },
    {
      "cell_type": "code",
      "source": [
        "from sklearn.model_selection import train_test_split\n",
        "import matplotlib.pyplot as plt\n",
        "\n",
        "# Dividindo dados para treino e dados para teste\n",
        "x_train, x_test, y_train, y_test = train_test_split(X_res, y_res, test_size = 0.2, random_state = 42)"
      ],
      "metadata": {
        "id": "i6kmQseSkYfD"
      },
      "execution_count": 56,
      "outputs": []
    },
    {
      "cell_type": "markdown",
      "source": [
        "##KNN "
      ],
      "metadata": {
        "id": "LB7EC6eqkYfD"
      }
    },
    {
      "cell_type": "code",
      "source": [
        "from sklearn.neighbors import KNeighborsClassifier\n",
        "\n",
        "kn_n = KNeighborsClassifier(n_neighbors=3)\n",
        "kn_n.fit(x_train, y_train)"
      ],
      "metadata": {
        "id": "uA2hPjuzkYfD",
        "colab": {
          "base_uri": "https://localhost:8080/"
        },
        "outputId": "45feb408-33f9-4ede-e943-29477fc0217c"
      },
      "execution_count": 57,
      "outputs": [
        {
          "output_type": "execute_result",
          "data": {
            "text/plain": [
              "KNeighborsClassifier(n_neighbors=3)"
            ]
          },
          "metadata": {},
          "execution_count": 57
        }
      ]
    },
    {
      "cell_type": "code",
      "source": [
        "y_pred_knn = kn_n.predict(x_test)\n",
        "y_pred_knn"
      ],
      "metadata": {
        "id": "FNGYAOAtkYfE",
        "colab": {
          "base_uri": "https://localhost:8080/"
        },
        "outputId": "a26ba6df-b0fa-484e-abb8-b0ea58b032cb"
      },
      "execution_count": 58,
      "outputs": [
        {
          "output_type": "execute_result",
          "data": {
            "text/plain": [
              "array([1., 1., 1., 1., 0., 1., 1., 0., 1., 1., 1., 1., 0., 0., 0., 0., 0.,\n",
              "       1., 0., 1., 1., 0., 0., 1., 1., 1., 0., 0., 0., 1., 1., 0., 1., 0.,\n",
              "       0., 1., 1., 0., 1., 1., 1., 1., 1., 0., 1., 1., 0., 0., 1., 1., 1.,\n",
              "       0., 1., 0., 1., 1., 0., 1., 0., 1., 0., 1., 0., 0., 1., 0., 1., 0.,\n",
              "       0., 0., 1., 1., 1., 0., 0., 1., 0., 1., 0., 1., 0., 1., 0., 1., 1.,\n",
              "       1., 0., 0., 0., 0., 1., 1., 0., 1., 1., 0., 0., 0., 1., 0., 1., 1.,\n",
              "       0., 1., 0., 1., 0., 0., 1., 1., 0., 0., 0., 0., 0., 1., 1., 1., 0.,\n",
              "       1., 1., 0., 1., 1., 0., 0., 1., 1., 0., 1., 1., 1., 1., 1., 1., 0.,\n",
              "       1., 1., 0., 1., 0., 1., 1., 0., 0., 0., 1., 1., 1., 0., 1., 1., 1.,\n",
              "       0., 0., 1., 0., 1., 1., 1., 1., 0., 1., 0., 0., 1., 1., 0., 1., 1.,\n",
              "       0., 0., 1., 0., 0., 1., 0., 1., 0., 0., 0., 1., 1., 1., 1., 1., 1.,\n",
              "       1., 0., 0., 1., 1., 0., 0., 1., 0., 0., 0., 1., 0., 0., 1., 1., 1.,\n",
              "       1., 0., 1., 0., 1., 1., 0., 1., 0., 1., 0., 0., 1., 0., 1., 1., 1.,\n",
              "       1., 1., 1., 1., 0., 1., 0., 0., 0., 0., 1., 1., 0., 0., 0., 0., 1.,\n",
              "       1., 1., 0., 0., 0., 1., 1., 0., 0., 1., 1., 0., 1., 1., 0., 0., 1.,\n",
              "       1., 1., 1., 0., 1., 1., 0., 0., 1., 0., 1., 0., 1., 1., 1., 0., 0.,\n",
              "       1., 0., 1., 0., 1., 0., 1., 1., 1., 1., 1., 1., 1., 0., 0., 1., 1.,\n",
              "       1., 0., 0., 1., 0., 0., 0., 1., 1., 1., 0., 0., 1., 1., 0., 1., 1.,\n",
              "       0., 0., 1., 1., 1., 0., 1., 0., 1., 1., 1., 0., 1., 1., 1., 0., 1.,\n",
              "       1., 1., 1., 0., 1., 1., 1., 1., 1., 0., 1., 0., 0., 0., 1., 1., 1.,\n",
              "       0., 1., 1., 0., 0., 0., 1., 0., 0., 1., 1., 1., 1., 1., 1., 1., 1.,\n",
              "       0., 1., 0., 1., 0., 0., 0., 1., 0., 0., 1., 0., 0., 1., 0., 1., 1.,\n",
              "       1., 0., 0., 0., 0., 0., 1., 1., 1., 1., 0., 1., 1., 1., 0., 0., 1.,\n",
              "       1., 0., 1., 0., 1., 1., 0., 1., 0., 0., 1., 0., 1., 0., 0., 0., 0.,\n",
              "       1., 1., 1., 0., 1., 1., 1., 1., 1., 1., 0., 1., 1., 1., 1., 0., 0.,\n",
              "       1., 1., 0., 0., 1., 0., 1., 1., 1., 1., 1., 0., 1., 1., 0., 1., 0.,\n",
              "       1., 1., 1., 1., 1., 0., 0., 1., 1., 0., 1., 0., 0., 1., 0., 1., 1.,\n",
              "       0., 0., 0., 1., 0., 1., 0., 1., 0., 1., 1., 1., 0., 1., 1., 0., 0.,\n",
              "       0., 1., 1., 0., 1., 0., 1., 1., 1., 1., 1., 1., 1., 0., 0., 1., 0.,\n",
              "       1., 0., 1., 1., 1., 1., 1., 1., 1., 1., 0., 1., 1., 0., 0., 1., 0.,\n",
              "       0., 1., 1., 1., 0., 1., 1., 0., 0., 0., 1., 1., 1., 0., 0., 0., 0.,\n",
              "       1., 1., 1., 1., 1., 0., 1., 1., 1., 0., 0., 1., 1., 1., 1., 0., 0.,\n",
              "       0., 1., 0., 0., 0., 0., 0., 1., 0., 1., 1., 0., 0., 0., 1., 1., 0.,\n",
              "       0., 1., 1., 1., 0., 1., 1., 0., 0., 1., 1., 0., 0., 0., 0., 0., 0.,\n",
              "       0., 1., 1., 0., 0., 0., 0., 0., 0., 1., 0., 0., 1., 1., 0., 1., 0.,\n",
              "       0., 1., 0., 1., 1., 1., 1., 0., 0., 0., 1., 1., 0., 1., 0., 1., 1.,\n",
              "       0., 1., 0., 1., 0., 1., 1., 1., 1., 0., 0., 0., 0., 0., 0., 0., 1.,\n",
              "       1., 0., 0., 1., 1., 0., 0., 0., 0., 0., 0., 1., 1., 0., 1., 0., 0.,\n",
              "       1., 0., 1., 1., 1., 0., 1., 1., 0., 0., 1., 0., 0., 0., 1., 0., 1.,\n",
              "       0., 0., 1., 1., 1., 0., 1., 0., 0., 1., 0., 1., 0., 0., 1., 1., 0.,\n",
              "       1., 0., 0., 0., 0., 1., 0., 1., 0., 0., 0., 1., 1., 1., 0., 0., 1.,\n",
              "       1., 1., 0., 0., 1., 1., 0., 0., 0., 0., 1., 0., 1., 1., 1., 1., 0.,\n",
              "       0., 1., 1., 1., 0., 1., 1., 1., 1., 0., 0., 0., 1., 1., 1., 1., 1.,\n",
              "       1., 0., 1., 0., 1., 1., 1., 0., 0., 1., 1., 0., 1.])"
            ]
          },
          "metadata": {},
          "execution_count": 58
        }
      ]
    },
    {
      "cell_type": "markdown",
      "source": [
        "###Metricas"
      ],
      "metadata": {
        "id": "kYLMIGFKkYfE"
      }
    },
    {
      "cell_type": "code",
      "source": [
        "from sklearn.metrics import accuracy_score\n",
        "accuracy_score(y_test, y_pred_knn)"
      ],
      "metadata": {
        "id": "mIFmGDSHkYfE",
        "colab": {
          "base_uri": "https://localhost:8080/"
        },
        "outputId": "018aa348-a46c-4147-d0d3-e0470410b974"
      },
      "execution_count": 59,
      "outputs": [
        {
          "output_type": "execute_result",
          "data": {
            "text/plain": [
              "0.8494623655913979"
            ]
          },
          "metadata": {},
          "execution_count": 59
        }
      ]
    },
    {
      "cell_type": "code",
      "source": [
        "from sklearn.metrics import precision_score\n",
        "precision_score(y_test, y_pred_knn)"
      ],
      "metadata": {
        "id": "vD3ueOwvkYfE",
        "colab": {
          "base_uri": "https://localhost:8080/"
        },
        "outputId": "d9487115-13dd-49ce-abc8-e2d09af0f925"
      },
      "execution_count": 60,
      "outputs": [
        {
          "output_type": "execute_result",
          "data": {
            "text/plain": [
              "0.784841075794621"
            ]
          },
          "metadata": {},
          "execution_count": 60
        }
      ]
    },
    {
      "cell_type": "code",
      "source": [
        "from sklearn.metrics import recall_score\n",
        "recall_score(y_test, y_pred_knn)"
      ],
      "metadata": {
        "id": "VQyf_GUgkYfE",
        "colab": {
          "base_uri": "https://localhost:8080/"
        },
        "outputId": "ef3a7ca5-b3c8-4f8b-d481-158df4b0d92c"
      },
      "execution_count": 61,
      "outputs": [
        {
          "output_type": "execute_result",
          "data": {
            "text/plain": [
              "0.9304347826086956"
            ]
          },
          "metadata": {},
          "execution_count": 61
        }
      ]
    },
    {
      "cell_type": "markdown",
      "source": [
        "###Matriz de confusão"
      ],
      "metadata": {
        "id": "vjL36aI5kYfF"
      }
    },
    {
      "cell_type": "code",
      "source": [
        "from sklearn.metrics import plot_confusion_matrix\n",
        "plot_confusion_matrix(kn_n,x_test,y_test, cmap='Blues')"
      ],
      "metadata": {
        "id": "p9GkD5inkYfF",
        "colab": {
          "base_uri": "https://localhost:8080/",
          "height": 0
        },
        "outputId": "753b8a96-1666-4c93-9ebc-b20a517a9073"
      },
      "execution_count": 62,
      "outputs": [
        {
          "output_type": "execute_result",
          "data": {
            "text/plain": [
              "<sklearn.metrics._plot.confusion_matrix.ConfusionMatrixDisplay at 0x7f53b20e7790>"
            ]
          },
          "metadata": {},
          "execution_count": 62
        },
        {
          "output_type": "display_data",
          "data": {
            "text/plain": [
              "<Figure size 432x288 with 2 Axes>"
            ],
            "image/png": "[encoded data removed]"
          },
          "metadata": {
            "needs_background": "light"
          }
        }
      ]
    },
    {
      "cell_type": "markdown",
      "source": [
        "##Árvore de decisão"
      ],
      "metadata": {
        "id": "c58oJcvqkYfF"
      }
    },
    {
      "cell_type": "code",
      "source": [
        "from sklearn.model_selection import train_test_split\n",
        "from sklearn.tree import DecisionTreeClassifier\n",
        "\n",
        "avd = DecisionTreeClassifier(criterion='entropy', random_state=42)\n",
        "avd.fit(x_train, y_train)"
      ],
      "metadata": {
        "id": "xtslb7CTkYfF",
        "colab": {
          "base_uri": "https://localhost:8080/"
        },
        "outputId": "a2c71b64-0145-47c3-fdf0-ce4ec4bfd2ec"
      },
      "execution_count": 63,
      "outputs": [
        {
          "output_type": "execute_result",
          "data": {
            "text/plain": [
              "DecisionTreeClassifier(criterion='entropy', random_state=42)"
            ]
          },
          "metadata": {},
          "execution_count": 63
        }
      ]
    },
    {
      "cell_type": "code",
      "source": [
        "y_pred_avd = avd.predict(x_test)\n",
        "y_pred_avd"
      ],
      "metadata": {
        "id": "Xk0oiLYhkYfF",
        "colab": {
          "base_uri": "https://localhost:8080/"
        },
        "outputId": "6a4faa02-d08b-42b8-a12e-1c002d33d044"
      },
      "execution_count": 64,
      "outputs": [
        {
          "output_type": "execute_result",
          "data": {
            "text/plain": [
              "array([1., 0., 1., 1., 0., 0., 1., 0., 1., 1., 1., 1., 0., 1., 0., 0., 0.,\n",
              "       1., 0., 0., 1., 1., 0., 1., 0., 1., 1., 0., 0., 0., 1., 0., 1., 0.,\n",
              "       0., 1., 1., 0., 1., 1., 1., 1., 1., 0., 0., 1., 0., 0., 1., 0., 1.,\n",
              "       0., 0., 0., 0., 1., 1., 1., 0., 1., 0., 1., 1., 0., 1., 0., 1., 0.,\n",
              "       0., 0., 1., 0., 1., 0., 0., 0., 0., 1., 0., 1., 0., 0., 0., 1., 0.,\n",
              "       0., 0., 0., 0., 0., 1., 1., 0., 0., 0., 0., 0., 0., 0., 0., 1., 1.,\n",
              "       0., 1., 1., 1., 0., 0., 1., 1., 0., 0., 0., 0., 0., 1., 1., 0., 0.,\n",
              "       0., 1., 0., 1., 1., 0., 0., 1., 1., 0., 1., 0., 1., 1., 1., 1., 0.,\n",
              "       1., 1., 0., 1., 0., 1., 1., 0., 0., 0., 1., 1., 1., 0., 1., 1., 1.,\n",
              "       0., 0., 1., 0., 1., 1., 1., 0., 0., 1., 0., 0., 1., 1., 0., 0., 1.,\n",
              "       0., 0., 0., 0., 0., 1., 0., 1., 0., 0., 0., 1., 0., 1., 1., 1., 1.,\n",
              "       1., 1., 0., 1., 1., 0., 0., 1., 0., 0., 0., 1., 0., 0., 1., 1., 0.,\n",
              "       1., 0., 0., 0., 1., 0., 0., 1., 0., 1., 0., 0., 0., 0., 0., 0., 1.,\n",
              "       0., 0., 1., 1., 0., 1., 0., 0., 0., 0., 1., 1., 0., 0., 0., 0., 1.,\n",
              "       1., 1., 0., 0., 0., 1., 1., 0., 0., 1., 1., 0., 1., 1., 0., 0., 0.,\n",
              "       1., 1., 1., 0., 1., 1., 0., 0., 1., 0., 1., 0., 1., 0., 1., 0., 0.,\n",
              "       1., 0., 0., 0., 1., 0., 1., 1., 1., 1., 1., 0., 1., 0., 0., 1., 1.,\n",
              "       1., 0., 0., 1., 0., 0., 0., 1., 0., 1., 0., 0., 0., 0., 0., 0., 1.,\n",
              "       0., 0., 0., 1., 1., 0., 1., 0., 1., 1., 1., 1., 1., 1., 1., 0., 1.,\n",
              "       1., 1., 1., 0., 1., 1., 0., 1., 0., 0., 1., 0., 1., 0., 0., 1., 0.,\n",
              "       0., 0., 1., 0., 0., 0., 1., 1., 0., 1., 1., 1., 1., 1., 1., 1., 1.,\n",
              "       0., 1., 0., 1., 0., 1., 1., 1., 0., 0., 0., 1., 0., 1., 0., 1., 1.,\n",
              "       1., 0., 0., 0., 0., 0., 1., 1., 0., 1., 0., 1., 1., 1., 0., 1., 0.,\n",
              "       1., 1., 1., 0., 1., 1., 0., 1., 0., 0., 1., 0., 1., 1., 0., 0., 1.,\n",
              "       1., 1., 1., 1., 1., 1., 1., 1., 1., 1., 0., 0., 1., 1., 1., 0., 1.,\n",
              "       1., 0., 0., 0., 0., 0., 0., 1., 1., 1., 1., 0., 1., 0., 0., 1., 0.,\n",
              "       1., 0., 0., 1., 1., 0., 0., 1., 1., 0., 1., 0., 0., 0., 0., 1., 1.,\n",
              "       0., 0., 0., 0., 0., 1., 0., 1., 0., 1., 0., 1., 0., 1., 1., 0., 1.,\n",
              "       0., 0., 1., 0., 0., 0., 0., 1., 1., 1., 0., 1., 1., 0., 0., 1., 0.,\n",
              "       1., 0., 1., 1., 1., 1., 1., 1., 1., 0., 1., 0., 1., 0., 0., 1., 0.,\n",
              "       0., 1., 1., 1., 0., 0., 1., 0., 0., 0., 1., 1., 1., 0., 0., 0., 0.,\n",
              "       1., 1., 0., 1., 0., 0., 1., 1., 1., 0., 0., 1., 1., 0., 1., 0., 0.,\n",
              "       0., 1., 0., 1., 0., 0., 0., 1., 1., 1., 0., 0., 1., 1., 0., 0., 0.,\n",
              "       0., 1., 1., 1., 0., 1., 0., 0., 0., 1., 0., 0., 0., 1., 0., 0., 0.,\n",
              "       0., 1., 0., 0., 0., 0., 1., 0., 0., 1., 0., 0., 0., 1., 0., 1., 0.,\n",
              "       0., 1., 0., 1., 1., 0., 0., 0., 1., 1., 1., 1., 0., 1., 0., 1., 1.,\n",
              "       0., 1., 0., 1., 0., 1., 1., 1., 1., 0., 0., 0., 0., 1., 0., 0., 1.,\n",
              "       0., 0., 0., 1., 1., 0., 0., 0., 0., 1., 0., 0., 1., 0., 1., 0., 0.,\n",
              "       1., 0., 1., 1., 1., 0., 1., 1., 0., 0., 1., 1., 0., 0., 0., 0., 1.,\n",
              "       0., 0., 0., 1., 1., 0., 1., 0., 0., 1., 0., 1., 0., 0., 1., 0., 1.,\n",
              "       1., 0., 0., 0., 0., 0., 0., 0., 0., 1., 1., 1., 1., 1., 0., 0., 1.,\n",
              "       1., 1., 0., 0., 0., 1., 0., 0., 0., 0., 1., 0., 1., 1., 0., 1., 0.,\n",
              "       0., 1., 1., 1., 0., 1., 1., 1., 1., 0., 0., 1., 1., 1., 1., 1., 1.,\n",
              "       0., 0., 1., 0., 1., 1., 1., 0., 0., 1., 1., 0., 0.])"
            ]
          },
          "metadata": {},
          "execution_count": 64
        }
      ]
    },
    {
      "cell_type": "markdown",
      "source": [
        "###Metricas"
      ],
      "metadata": {
        "id": "7_6NR3oIkYfF"
      }
    },
    {
      "cell_type": "markdown",
      "source": [
        "Acurácia"
      ],
      "metadata": {
        "id": "bfxHyacekYfG"
      }
    },
    {
      "cell_type": "code",
      "source": [
        "from sklearn.metrics import accuracy_score\n",
        "accuracy_score(y_test, y_pred_avd)"
      ],
      "metadata": {
        "id": "fAOhzRvVkYfG",
        "colab": {
          "base_uri": "https://localhost:8080/"
        },
        "outputId": "0642b818-9dc8-4391-be52-67eacddcba24"
      },
      "execution_count": 65,
      "outputs": [
        {
          "output_type": "execute_result",
          "data": {
            "text/plain": [
              "0.853494623655914"
            ]
          },
          "metadata": {},
          "execution_count": 65
        }
      ]
    },
    {
      "cell_type": "markdown",
      "source": [
        "Precisão"
      ],
      "metadata": {
        "id": "3vxpyZO8kYfG"
      }
    },
    {
      "cell_type": "code",
      "source": [
        "from sklearn.metrics import precision_score\n",
        "precision_score(y_test, y_pred_avd)"
      ],
      "metadata": {
        "id": "_coEhU5pkYfG",
        "colab": {
          "base_uri": "https://localhost:8080/"
        },
        "outputId": "1ac23495-809b-4d14-9f1f-516a88648d01"
      },
      "execution_count": 66,
      "outputs": [
        {
          "output_type": "execute_result",
          "data": {
            "text/plain": [
              "0.8314606741573034"
            ]
          },
          "metadata": {},
          "execution_count": 66
        }
      ]
    },
    {
      "cell_type": "markdown",
      "source": [
        "Recall"
      ],
      "metadata": {
        "id": "xvN7tBt-kYfG"
      }
    },
    {
      "cell_type": "code",
      "source": [
        "from sklearn.metrics import recall_score\n",
        "recall_score(y_test, y_pred_avd)"
      ],
      "metadata": {
        "id": "V6FEQegrkYfG",
        "colab": {
          "base_uri": "https://localhost:8080/"
        },
        "outputId": "d8451cd1-9975-457d-cbe5-d09a3db2f059"
      },
      "execution_count": 67,
      "outputs": [
        {
          "output_type": "execute_result",
          "data": {
            "text/plain": [
              "0.8579710144927536"
            ]
          },
          "metadata": {},
          "execution_count": 67
        }
      ]
    },
    {
      "cell_type": "markdown",
      "source": [
        "###Matriz de confusão"
      ],
      "metadata": {
        "id": "8NwK8j0ckYfG"
      }
    },
    {
      "cell_type": "code",
      "source": [
        "plot_confusion_matrix(avd,x_test,y_test, cmap='Blues')"
      ],
      "metadata": {
        "id": "rNLLfhyhkYfG",
        "colab": {
          "base_uri": "https://localhost:8080/",
          "height": 0
        },
        "outputId": "76b60f3a-071e-4a5e-9fc4-92806c01d296"
      },
      "execution_count": 68,
      "outputs": [
        {
          "output_type": "execute_result",
          "data": {
            "text/plain": [
              "<sklearn.metrics._plot.confusion_matrix.ConfusionMatrixDisplay at 0x7f53b2009850>"
            ]
          },
          "metadata": {},
          "execution_count": 68
        },
        {
          "output_type": "display_data",
          "data": {
            "text/plain": [
              "<Figure size 432x288 with 2 Axes>"
            ],
            "image/png": "[encoded data removed]"
          },
          "metadata": {
            "needs_background": "light"
          }
        }
      ]
    },
    {
      "cell_type": "markdown",
      "source": [
        "##Random Forest"
      ],
      "metadata": {
        "id": "0agNvLyIkYfH"
      }
    },
    {
      "cell_type": "code",
      "source": [
        "from sklearn.ensemble import RandomForestClassifier\n",
        "from sklearn.metrics import plot_confusion_matrix\n",
        "\n",
        "rdf = RandomForestClassifier()\n",
        "rdf.fit(x_train, y_train)\n"
      ],
      "metadata": {
        "id": "nnyPNu-nkYfI",
        "colab": {
          "base_uri": "https://localhost:8080/"
        },
        "outputId": "a1c99f92-15e3-476f-988a-bc9a49f82b6d"
      },
      "execution_count": 69,
      "outputs": [
        {
          "output_type": "execute_result",
          "data": {
            "text/plain": [
              "RandomForestClassifier()"
            ]
          },
          "metadata": {},
          "execution_count": 69
        }
      ]
    },
    {
      "cell_type": "code",
      "source": [
        "y_pred_rdf = rdf.predict(x_test)"
      ],
      "metadata": {
        "id": "2jQVGMpNkYfI"
      },
      "execution_count": 70,
      "outputs": []
    },
    {
      "cell_type": "markdown",
      "source": [
        "###Métricas"
      ],
      "metadata": {
        "id": "eYXdn6LukYfJ"
      }
    },
    {
      "cell_type": "markdown",
      "source": [
        "Acuracia"
      ],
      "metadata": {
        "id": "fO-DBer-kYfJ"
      }
    },
    {
      "cell_type": "code",
      "source": [
        "from sklearn.metrics import accuracy_score\n",
        "accuracy_score(y_test, y_pred_rdf)"
      ],
      "metadata": {
        "id": "SFCxuHpnkYfJ",
        "colab": {
          "base_uri": "https://localhost:8080/"
        },
        "outputId": "d172d086-0df2-4d6f-88ae-aef66d10c328"
      },
      "execution_count": 71,
      "outputs": [
        {
          "output_type": "execute_result",
          "data": {
            "text/plain": [
              "0.885752688172043"
            ]
          },
          "metadata": {},
          "execution_count": 71
        }
      ]
    },
    {
      "cell_type": "markdown",
      "source": [
        "Precisão"
      ],
      "metadata": {
        "id": "_0k4nf7rkYfJ"
      }
    },
    {
      "cell_type": "code",
      "source": [
        "from sklearn.metrics import precision_score\n",
        "precision_score(y_test, y_pred_rdf)"
      ],
      "metadata": {
        "id": "maJ6bK00kYfJ",
        "colab": {
          "base_uri": "https://localhost:8080/"
        },
        "outputId": "3e9b3414-0885-481a-cd1b-bb68a5f094c2"
      },
      "execution_count": 72,
      "outputs": [
        {
          "output_type": "execute_result",
          "data": {
            "text/plain": [
              "0.8532608695652174"
            ]
          },
          "metadata": {},
          "execution_count": 72
        }
      ]
    },
    {
      "cell_type": "markdown",
      "source": [
        "Recall"
      ],
      "metadata": {
        "id": "DlZy65QfkYfJ"
      }
    },
    {
      "cell_type": "code",
      "source": [
        "from sklearn.metrics import recall_score\n",
        "recall_score(y_test, y_pred_rdf)"
      ],
      "metadata": {
        "id": "X7je4YoMkYfJ",
        "colab": {
          "base_uri": "https://localhost:8080/"
        },
        "outputId": "310ee2b1-6c08-499e-e280-fef4b18bfe75"
      },
      "execution_count": 73,
      "outputs": [
        {
          "output_type": "execute_result",
          "data": {
            "text/plain": [
              "0.9101449275362319"
            ]
          },
          "metadata": {},
          "execution_count": 73
        }
      ]
    },
    {
      "cell_type": "code",
      "source": [
        "plot_confusion_matrix(rdf,x_test,y_test, cmap='Blues')"
      ],
      "metadata": {
        "id": "SZl1WGO8kYfJ",
        "colab": {
          "base_uri": "https://localhost:8080/",
          "height": 0
        },
        "outputId": "d5947c65-048d-45c2-9fa4-1d133b695741"
      },
      "execution_count": 74,
      "outputs": [
        {
          "output_type": "execute_result",
          "data": {
            "text/plain": [
              "<sklearn.metrics._plot.confusion_matrix.ConfusionMatrixDisplay at 0x7f53b2011050>"
            ]
          },
          "metadata": {},
          "execution_count": 74
        },
        {
          "output_type": "display_data",
          "data": {
            "text/plain": [
              "<Figure size 432x288 with 2 Axes>"
            ],
            "image/png": "[encoded data removed]"
          },
          "metadata": {
            "needs_background": "light"
          }
        }
      ]
    },
    {
      "cell_type": "markdown",
      "source": [
        "##Naive Bayes"
      ],
      "metadata": {
        "id": "x1TLuppKkYfK"
      }
    },
    {
      "cell_type": "code",
      "source": [
        "from sklearn.naive_bayes import GaussianNB\n",
        "nbs = GaussianNB()\n",
        "nbs.fit(x_train, y_train)"
      ],
      "metadata": {
        "id": "fc6hH2rukYfK",
        "colab": {
          "base_uri": "https://localhost:8080/"
        },
        "outputId": "a8330fff-7e12-4b3e-fa5f-95e3080e699b"
      },
      "execution_count": 75,
      "outputs": [
        {
          "output_type": "execute_result",
          "data": {
            "text/plain": [
              "GaussianNB()"
            ]
          },
          "metadata": {},
          "execution_count": 75
        }
      ]
    },
    {
      "cell_type": "code",
      "source": [
        "y_pred_nbs = rdf.predict(x_test)"
      ],
      "metadata": {
        "id": "_f2gqI3xkYfK"
      },
      "execution_count": 76,
      "outputs": []
    },
    {
      "cell_type": "markdown",
      "source": [
        "###Métricas"
      ],
      "metadata": {
        "id": "-JmLDmWUkYfK"
      }
    },
    {
      "cell_type": "markdown",
      "source": [
        "Acuracia"
      ],
      "metadata": {
        "id": "1UrJF0uwkYfK"
      }
    },
    {
      "cell_type": "code",
      "source": [
        "from sklearn.metrics import accuracy_score\n",
        "accuracy_score(y_test, y_pred_nbs)"
      ],
      "metadata": {
        "id": "09VTsnxbkYfK",
        "colab": {
          "base_uri": "https://localhost:8080/"
        },
        "outputId": "5672e78a-c9e5-4393-af60-ca2e70f30b02"
      },
      "execution_count": 77,
      "outputs": [
        {
          "output_type": "execute_result",
          "data": {
            "text/plain": [
              "0.885752688172043"
            ]
          },
          "metadata": {},
          "execution_count": 77
        }
      ]
    },
    {
      "cell_type": "markdown",
      "source": [
        "Precisão"
      ],
      "metadata": {
        "id": "j40-iOwikYfK"
      }
    },
    {
      "cell_type": "code",
      "source": [
        "from sklearn.metrics import precision_score\n",
        "precision_score(y_test, y_pred_nbs)"
      ],
      "metadata": {
        "id": "h43nYJfikYfK",
        "colab": {
          "base_uri": "https://localhost:8080/"
        },
        "outputId": "81969dac-d31c-46be-c834-170e0cfc0fa9"
      },
      "execution_count": 78,
      "outputs": [
        {
          "output_type": "execute_result",
          "data": {
            "text/plain": [
              "0.8532608695652174"
            ]
          },
          "metadata": {},
          "execution_count": 78
        }
      ]
    },
    {
      "cell_type": "markdown",
      "source": [
        "Recall"
      ],
      "metadata": {
        "id": "2IzbXu68kYfL"
      }
    },
    {
      "cell_type": "code",
      "source": [
        "from sklearn.metrics import recall_score\n",
        "recall_score(y_test, y_pred_nbs)"
      ],
      "metadata": {
        "id": "go6eM5pukYfL",
        "colab": {
          "base_uri": "https://localhost:8080/"
        },
        "outputId": "1566d9cc-3e12-4b88-ff79-95e8ffe23a3d"
      },
      "execution_count": 79,
      "outputs": [
        {
          "output_type": "execute_result",
          "data": {
            "text/plain": [
              "0.9101449275362319"
            ]
          },
          "metadata": {},
          "execution_count": 79
        }
      ]
    },
    {
      "cell_type": "markdown",
      "source": [
        "###Matriz de confusão"
      ],
      "metadata": {
        "id": "-uayHgVykYfL"
      }
    },
    {
      "cell_type": "code",
      "source": [
        "plot_confusion_matrix(nbs,x_test,y_test, cmap='Blues')"
      ],
      "metadata": {
        "id": "4jLnDUDRkYfL",
        "colab": {
          "base_uri": "https://localhost:8080/",
          "height": 0
        },
        "outputId": "a5db8ab5-b7ec-4462-aea3-d4ea5d073183"
      },
      "execution_count": 80,
      "outputs": [
        {
          "output_type": "execute_result",
          "data": {
            "text/plain": [
              "<sklearn.metrics._plot.confusion_matrix.ConfusionMatrixDisplay at 0x7f53b1e7ec90>"
            ]
          },
          "metadata": {},
          "execution_count": 80
        },
        {
          "output_type": "display_data",
          "data": {
            "text/plain": [
              "<Figure size 432x288 with 2 Axes>"
            ],
            "image/png": "[encoded data removed]"
          },
          "metadata": {
            "needs_background": "light"
          }
        }
      ]
    },
    {
      "cell_type": "markdown",
      "source": [
        "##Regressão logística"
      ],
      "metadata": {
        "id": "MI2R08lTkYfL"
      }
    },
    {
      "cell_type": "code",
      "source": [
        "from sklearn.linear_model import LogisticRegression\n",
        "rgl = LogisticRegression().fit(x_train, y_train)"
      ],
      "metadata": {
        "id": "jID_I4B3kYfL"
      },
      "execution_count": 81,
      "outputs": []
    },
    {
      "cell_type": "code",
      "source": [
        "y_pred_rgl = rgl.predict(x_test)"
      ],
      "metadata": {
        "id": "BWIzP0h-kYfL"
      },
      "execution_count": 82,
      "outputs": []
    },
    {
      "cell_type": "markdown",
      "source": [
        "###Métricas"
      ],
      "metadata": {
        "id": "u8O2IriVkYfL"
      }
    },
    {
      "cell_type": "markdown",
      "source": [
        "Acuracia"
      ],
      "metadata": {
        "id": "d5KaeWRFkYfL"
      }
    },
    {
      "cell_type": "code",
      "source": [
        "from sklearn.metrics import accuracy_score\n",
        "accuracy_score(y_test, y_pred_rgl)"
      ],
      "metadata": {
        "id": "aa6F3rBhkYfM",
        "colab": {
          "base_uri": "https://localhost:8080/"
        },
        "outputId": "68dd76d1-8b7b-4dfc-ab5c-03233c84e27f"
      },
      "execution_count": 83,
      "outputs": [
        {
          "output_type": "execute_result",
          "data": {
            "text/plain": [
              "0.6989247311827957"
            ]
          },
          "metadata": {},
          "execution_count": 83
        }
      ]
    },
    {
      "cell_type": "markdown",
      "source": [
        "Precisão"
      ],
      "metadata": {
        "id": "PGV7Z4rwkYfM"
      }
    },
    {
      "cell_type": "code",
      "source": [
        "from sklearn.metrics import precision_score\n",
        "precision_score(y_test, y_pred_rgl)"
      ],
      "metadata": {
        "id": "AStmanr6kYfM",
        "colab": {
          "base_uri": "https://localhost:8080/"
        },
        "outputId": "28d6b00f-c167-47ba-e910-a3e78d90a9da"
      },
      "execution_count": 84,
      "outputs": [
        {
          "output_type": "execute_result",
          "data": {
            "text/plain": [
              "0.991869918699187"
            ]
          },
          "metadata": {},
          "execution_count": 84
        }
      ]
    },
    {
      "cell_type": "markdown",
      "source": [
        "Recall"
      ],
      "metadata": {
        "id": "yZLpwJnckYfM"
      }
    },
    {
      "cell_type": "code",
      "source": [
        "from sklearn.metrics import recall_score\n",
        "recall_score(y_test, y_pred_rgl)"
      ],
      "metadata": {
        "id": "aFLh7R0bkYfM",
        "colab": {
          "base_uri": "https://localhost:8080/"
        },
        "outputId": "0ce81e1e-03cf-4447-88a7-e8e0066b4000"
      },
      "execution_count": 85,
      "outputs": [
        {
          "output_type": "execute_result",
          "data": {
            "text/plain": [
              "0.3536231884057971"
            ]
          },
          "metadata": {},
          "execution_count": 85
        }
      ]
    },
    {
      "cell_type": "markdown",
      "source": [
        "###Matriz de confusão"
      ],
      "metadata": {
        "id": "P-76a0HZkYfM"
      }
    },
    {
      "cell_type": "code",
      "source": [
        "plot_confusion_matrix(rgl,x_test,y_test, cmap='Blues')"
      ],
      "metadata": {
        "id": "mnJcbUCbkYfN",
        "colab": {
          "base_uri": "https://localhost:8080/",
          "height": 0
        },
        "outputId": "91fd25eb-667d-4a87-c340-694a4152eae0"
      },
      "execution_count": 86,
      "outputs": [
        {
          "output_type": "execute_result",
          "data": {
            "text/plain": [
              "<sklearn.metrics._plot.confusion_matrix.ConfusionMatrixDisplay at 0x7f53b1e21690>"
            ]
          },
          "metadata": {},
          "execution_count": 86
        },
        {
          "output_type": "display_data",
          "data": {
            "text/plain": [
              "<Figure size 432x288 with 2 Axes>"
            ],
            "image/png": "[encoded data removed]"
          },
          "metadata": {
            "needs_background": "light"
          }
        }
      ]
    },
    {
      "cell_type": "markdown",
      "source": [
        "##SVM"
      ],
      "metadata": {
        "id": "6Ie_Ih6JPhbY"
      }
    },
    {
      "cell_type": "code",
      "source": [
        "from sklearn import svm\n",
        "clf = svm.SVC()\n",
        "clf.fit(x_train, y_train)\n",
        "clf"
      ],
      "metadata": {
        "id": "C4-soHMgPjdb",
        "colab": {
          "base_uri": "https://localhost:8080/"
        },
        "outputId": "cb3c6ef7-5bc1-455c-b4a8-e8197e7e02e0"
      },
      "execution_count": 87,
      "outputs": [
        {
          "output_type": "execute_result",
          "data": {
            "text/plain": [
              "SVC()"
            ]
          },
          "metadata": {},
          "execution_count": 87
        }
      ]
    },
    {
      "cell_type": "code",
      "source": [
        "y_pred_clf =clf.predict(x_test)"
      ],
      "metadata": {
        "id": "Oj9zFuJGPsdE"
      },
      "execution_count": 88,
      "outputs": []
    },
    {
      "cell_type": "code",
      "source": [
        "y_pred_clf"
      ],
      "metadata": {
        "id": "5TQLDqvDPu4E",
        "colab": {
          "base_uri": "https://localhost:8080/"
        },
        "outputId": "c65554ab-8f49-4679-ed3f-cb975ff86d11"
      },
      "execution_count": 89,
      "outputs": [
        {
          "output_type": "execute_result",
          "data": {
            "text/plain": [
              "array([1., 0., 0., 0., 0., 0., 0., 0., 1., 1., 0., 0., 0., 0., 0., 0., 0.,\n",
              "       0., 0., 1., 0., 0., 0., 0., 0., 0., 0., 0., 1., 0., 0., 0., 1., 0.,\n",
              "       0., 1., 0., 0., 0., 1., 0., 0., 0., 0., 0., 0., 0., 0., 1., 0., 0.,\n",
              "       0., 0., 0., 0., 1., 0., 1., 0., 1., 0., 1., 0., 0., 0., 0., 1., 0.,\n",
              "       0., 0., 1., 0., 1., 0., 0., 0., 0., 0., 0., 1., 0., 0., 0., 0., 0.,\n",
              "       0., 0., 0., 0., 0., 1., 0., 0., 0., 0., 0., 0., 0., 0., 0., 0., 0.,\n",
              "       0., 1., 0., 0., 0., 0., 1., 0., 0., 0., 0., 0., 0., 1., 1., 0., 0.,\n",
              "       0., 0., 0., 1., 1., 1., 1., 0., 1., 1., 0., 0., 1., 0., 0., 1., 0.,\n",
              "       0., 0., 0., 1., 0., 1., 0., 0., 0., 0., 0., 1., 0., 0., 1., 0., 1.,\n",
              "       0., 0., 1., 0., 0., 0., 1., 0., 0., 0., 0., 0., 0., 0., 0., 0., 1.,\n",
              "       0., 0., 0., 0., 0., 0., 0., 0., 0., 0., 0., 0., 0., 0., 0., 1., 1.,\n",
              "       0., 0., 0., 1., 0., 0., 0., 0., 0., 0., 0., 0., 0., 0., 0., 0., 0.,\n",
              "       1., 0., 0., 0., 0., 0., 0., 1., 0., 1., 0., 0., 0., 0., 0., 0., 1.,\n",
              "       0., 0., 0., 0., 0., 1., 0., 0., 0., 0., 0., 0., 0., 0., 0., 0., 1.,\n",
              "       1., 0., 0., 0., 0., 1., 0., 0., 0., 1., 1., 0., 0., 1., 0., 0., 0.,\n",
              "       1., 0., 0., 0., 1., 1., 0., 0., 0., 0., 0., 0., 0., 0., 1., 0., 0.,\n",
              "       1., 0., 0., 0., 0., 0., 1., 0., 0., 0., 0., 0., 0., 0., 0., 1., 0.,\n",
              "       0., 0., 0., 1., 0., 0., 0., 1., 0., 0., 0., 0., 0., 0., 0., 0., 0.,\n",
              "       0., 0., 0., 0., 0., 0., 1., 0., 0., 1., 0., 0., 0., 1., 1., 0., 1.,\n",
              "       1., 0., 1., 0., 1., 0., 0., 0., 0., 0., 1., 0., 0., 0., 0., 0., 0.,\n",
              "       0., 0., 0., 0., 0., 0., 1., 0., 0., 0., 1., 1., 0., 0., 0., 0., 1.,\n",
              "       0., 0., 0., 0., 0., 0., 0., 0., 0., 0., 0., 0., 0., 1., 0., 1., 0.,\n",
              "       0., 0., 0., 0., 0., 0., 0., 1., 0., 0., 0., 0., 0., 1., 0., 0., 0.,\n",
              "       1., 0., 0., 0., 0., 1., 0., 1., 0., 0., 0., 0., 1., 0., 0., 0., 0.,\n",
              "       0., 0., 1., 0., 0., 0., 1., 0., 0., 0., 0., 0., 0., 0., 1., 0., 0.,\n",
              "       1., 0., 0., 0., 0., 0., 0., 1., 0., 1., 1., 0., 1., 0., 0., 1., 0.,\n",
              "       0., 0., 0., 1., 0., 0., 0., 1., 1., 0., 0., 0., 0., 0., 1., 0., 0.,\n",
              "       0., 0., 0., 0., 0., 0., 0., 1., 0., 0., 0., 1., 0., 0., 0., 0., 0.,\n",
              "       0., 0., 0., 0., 0., 0., 0., 0., 1., 0., 0., 0., 0., 0., 0., 1., 0.,\n",
              "       0., 0., 0., 0., 1., 0., 1., 0., 1., 0., 0., 0., 1., 0., 0., 0., 0.,\n",
              "       0., 1., 0., 0., 0., 0., 0., 0., 0., 0., 0., 0., 1., 0., 0., 0., 0.,\n",
              "       0., 0., 0., 1., 0., 0., 0., 1., 0., 0., 0., 0., 1., 0., 0., 0., 0.,\n",
              "       0., 0., 0., 0., 0., 0., 0., 0., 0., 0., 0., 0., 0., 0., 0., 0., 0.,\n",
              "       0., 0., 1., 0., 0., 1., 0., 0., 0., 1., 0., 0., 0., 0., 0., 0., 0.,\n",
              "       0., 0., 1., 0., 0., 0., 0., 0., 1., 0., 0., 0., 1., 0., 0., 0., 0.,\n",
              "       0., 0., 0., 0., 1., 0., 0., 0., 1., 0., 0., 0., 0., 1., 0., 1., 1.,\n",
              "       0., 1., 0., 0., 0., 0., 0., 1., 0., 0., 0., 0., 0., 0., 0., 0., 0.,\n",
              "       0., 0., 0., 0., 0., 0., 0., 0., 0., 0., 0., 0., 0., 0., 1., 0., 0.,\n",
              "       0., 0., 1., 0., 1., 0., 1., 1., 0., 0., 0., 0., 0., 0., 0., 0., 0.,\n",
              "       0., 0., 0., 1., 1., 0., 1., 0., 0., 0., 0., 1., 0., 0., 0., 0., 0.,\n",
              "       0., 0., 0., 0., 0., 0., 0., 0., 0., 0., 0., 0., 0., 1., 0., 0., 0.,\n",
              "       1., 0., 0., 0., 0., 0., 0., 0., 0., 0., 1., 0., 0., 0., 0., 0., 0.,\n",
              "       0., 1., 1., 0., 0., 0., 0., 1., 0., 0., 0., 0., 1., 1., 0., 0., 0.,\n",
              "       0., 0., 1., 0., 1., 0., 0., 0., 0., 1., 0., 0., 0.])"
            ]
          },
          "metadata": {},
          "execution_count": 89
        }
      ]
    },
    {
      "cell_type": "markdown",
      "source": [
        "### Métricas"
      ],
      "metadata": {
        "id": "nJBVOWdaP5Y1"
      }
    },
    {
      "cell_type": "code",
      "source": [
        "from sklearn.metrics import accuracy_score\n",
        "accuracy_score(y_test, y_pred_clf)"
      ],
      "metadata": {
        "id": "VAEa-rvmPz0K",
        "colab": {
          "base_uri": "https://localhost:8080/"
        },
        "outputId": "e220d217-1a8f-422c-e773-a567044eb97c"
      },
      "execution_count": 90,
      "outputs": [
        {
          "output_type": "execute_result",
          "data": {
            "text/plain": [
              "0.7016129032258065"
            ]
          },
          "metadata": {},
          "execution_count": 90
        }
      ]
    },
    {
      "cell_type": "code",
      "source": [
        "from sklearn.metrics import precision_score\n",
        "precision_score(y_test, y_pred_clf)"
      ],
      "metadata": {
        "id": "b9CGoiHqQrxO",
        "colab": {
          "base_uri": "https://localhost:8080/"
        },
        "outputId": "215c1cb7-8936-4aae-e430-57eb1b77f74b"
      },
      "execution_count": 91,
      "outputs": [
        {
          "output_type": "execute_result",
          "data": {
            "text/plain": [
              "0.9361702127659575"
            ]
          },
          "metadata": {},
          "execution_count": 91
        }
      ]
    },
    {
      "cell_type": "code",
      "source": [
        "from sklearn.metrics import recall_score\n",
        "recall_score(y_test, y_pred_clf)"
      ],
      "metadata": {
        "id": "3AyFEK3nQv2O",
        "colab": {
          "base_uri": "https://localhost:8080/"
        },
        "outputId": "c3683bce-438f-4f2b-ce71-473b9e37fa75"
      },
      "execution_count": 92,
      "outputs": [
        {
          "output_type": "execute_result",
          "data": {
            "text/plain": [
              "0.3826086956521739"
            ]
          },
          "metadata": {},
          "execution_count": 92
        }
      ]
    },
    {
      "cell_type": "code",
      "source": [
        "plot_confusion_matrix(clf,x_test,y_test, cmap='Blues')"
      ],
      "metadata": {
        "id": "HYCOtsgAP7Vx",
        "colab": {
          "base_uri": "https://localhost:8080/",
          "height": 0
        },
        "outputId": "5f496ae2-f43b-4f76-a29f-ffafc2049f48"
      },
      "execution_count": 93,
      "outputs": [
        {
          "output_type": "execute_result",
          "data": {
            "text/plain": [
              "<sklearn.metrics._plot.confusion_matrix.ConfusionMatrixDisplay at 0x7f53b1d6b5d0>"
            ]
          },
          "metadata": {},
          "execution_count": 93
        },
        {
          "output_type": "display_data",
          "data": {
            "text/plain": [
              "<Figure size 432x288 with 2 Axes>"
            ],
            "image/png": "[encoded data removed]"
          },
          "metadata": {
            "needs_background": "light"
          }
        }
      ]
    }
  ]
}