{
  "cells": [
    {
      "cell_type": "markdown",
      "metadata": {
        "id": "Pz1b5ZKDPvYq"
      },
      "source": [
        "# Setup dos dados iniciais\n",
        "### Instalação de bibliotecas e imports"
      ]
    },
    {
      "cell_type": "code",
      "execution_count": 1,
      "metadata": {
        "id": "wpwt6Xxmz6sW"
      },
      "outputs": [],
      "source": [
        "!pip install -U -q PyDrive"
      ]
    },
    {
      "cell_type": "code",
      "execution_count": 2,
      "metadata": {
        "id": "Ns09SPXjxbjX"
      },
      "outputs": [],
      "source": [
        "import pandas as pd\n",
        "import plotly.express as px\n",
        "from sklearn.preprocessing import LabelBinarizer\n",
        "from pydrive.auth import GoogleAuth\n",
        "from pydrive.drive import GoogleDrive\n",
        "from google.colab import auth\n",
        "from oauth2client.client import GoogleCredentials\n",
        "import warnings\n",
        "warnings.filterwarnings('ignore')\n",
        "from sklearn.feature_selection import SelectKBest\n",
        "from sklearn.feature_selection import f_classif, mutual_info_classif"
      ]
    },
    {
      "cell_type": "markdown",
      "metadata": {
        "id": "myO4YXutEvE9"
      },
      "source": [
        "### Autenticação para acesso aos dados"
      ]
    },
    {
      "cell_type": "code",
      "execution_count": 3,
      "metadata": {
        "id": "fu-7WG7ZyNNN"
      },
      "outputs": [],
      "source": [
        "auth.authenticate_user()\n",
        "gauth = GoogleAuth()\n",
        "gauth.credentials = GoogleCredentials.get_application_default()\n",
        "drive = GoogleDrive(gauth)"
      ]
    },
    {
      "cell_type": "markdown",
      "metadata": {
        "id": "SbqoKrfvE0wX"
      },
      "source": [
        "### Download dos dados para esta máquina virtual"
      ]
    },
    {
      "cell_type": "code",
      "execution_count": 4,
      "metadata": {
        "id": "yVQKyw2F0CV_"
      },
      "outputs": [],
      "source": [
        "downloaded = drive.CreateFile({'id': '1BK5Rjc5yYNojUvIyx4VjIKd3mHWzFl8J'})\n",
        "downloaded.GetContentFile('data.csv')"
      ]
    },
    {
      "cell_type": "markdown",
      "metadata": {
        "id": "uXo2-44SFByD"
      },
      "source": [
        "### Carregando os dados baixados no dataframe"
      ]
    },
    {
      "cell_type": "code",
      "execution_count": 5,
      "metadata": {
        "id": "n6AGAU540cbU",
        "colab": {
          "base_uri": "https://localhost:8080/",
          "height": 270
        },
        "outputId": "bc2d0f68-a524-47d0-fb15-59c7cdc029fa"
      },
      "outputs": [
        {
          "output_type": "execute_result",
          "data": {
            "text/plain": [
              "    anomes                                       num_cpf_hash  vlr_credito  \\\n",
              "0   202204  cb12b6e129afbe2cc514ca053b8914992b4c8f73087cb9...      6667.88   \n",
              "4   202204  19039d3944f2f19e53debd4ca61514d185b53e3f3d52dc...          NaN   \n",
              "18  202204  4e88066de269003d043093fa2253327f9823625de498c3...      1599.31   \n",
              "30  202204  d8ed0b200dfdf8ea0a804fbcc00d05415224a5938bcff4...     10921.59   \n",
              "35  202204  49a351b1547a451f103c0c0f0a047f062d6f00538b4a3a...       305.47   \n",
              "\n",
              "    vlr_saldo  num_atend_atrs  vlr_score  num_produtos  num_atend  qtd_oper  \\\n",
              "0     1360.96             NaN      446.0           1.0        NaN       8.0   \n",
              "4         NaN             NaN      148.0           NaN        NaN       NaN   \n",
              "18      64.02             NaN      134.0           1.0        NaN       3.0   \n",
              "30    1264.50             NaN      334.0           2.0        NaN      12.0   \n",
              "35    1400.00             NaN      403.0           1.0        NaN       6.0   \n",
              "\n",
              "    qtd_reclm  qtd_restr vlr_renda cod_rating  ind_atrito  ind_engaj  \\\n",
              "0         NaN        7.0   1650,00          A         NaN        NaN   \n",
              "4         NaN        1.0    750,00        NaN         NaN        NaN   \n",
              "18        NaN        2.0   1100,00          H         NaN        NaN   \n",
              "30        NaN        5.0   2050,00          D         NaN        NaN   \n",
              "35        NaN        2.0   4400,00          A         NaN        NaN   \n",
              "\n",
              "    ind_novo_cli  \n",
              "0            NaN  \n",
              "4            NaN  \n",
              "18           NaN  \n",
              "30           NaN  \n",
              "35           NaN  "
            ],
            "text/html": [
              "\n",
              "  <div id=\"df-0d7b8efe-8043-4361-8afa-eeab6f851ea3\">\n",
              "    <div class=\"colab-df-container\">\n",
              "      <div>\n",
              "<style scoped>\n",
              "    .dataframe tbody tr th:only-of-type {\n",
              "        vertical-align: middle;\n",
              "    }\n",
              "\n",
              "    .dataframe tbody tr th {\n",
              "        vertical-align: top;\n",
              "    }\n",
              "\n",
              "    .dataframe thead th {\n",
              "        text-align: right;\n",
              "    }\n",
              "</style>\n",
              "<table border=\"1\" class=\"dataframe\">\n",
              "  <thead>\n",
              "    <tr style=\"text-align: right;\">\n",
              "      <th></th>\n",
              "      <th>anomes</th>\n",
              "      <th>num_cpf_hash</th>\n",
              "      <th>vlr_credito</th>\n",
              "      <th>vlr_saldo</th>\n",
              "      <th>num_atend_atrs</th>\n",
              "      <th>vlr_score</th>\n",
              "      <th>num_produtos</th>\n",
              "      <th>num_atend</th>\n",
              "      <th>qtd_oper</th>\n",
              "      <th>qtd_reclm</th>\n",
              "      <th>qtd_restr</th>\n",
              "      <th>vlr_renda</th>\n",
              "      <th>cod_rating</th>\n",
              "      <th>ind_atrito</th>\n",
              "      <th>ind_engaj</th>\n",
              "      <th>ind_novo_cli</th>\n",
              "    </tr>\n",
              "  </thead>\n",
              "  <tbody>\n",
              "    <tr>\n",
              "      <th>0</th>\n",
              "      <td>202204</td>\n",
              "      <td>cb12b6e129afbe2cc514ca053b8914992b4c8f73087cb9...</td>\n",
              "      <td>6667.88</td>\n",
              "      <td>1360.96</td>\n",
              "      <td>NaN</td>\n",
              "      <td>446.0</td>\n",
              "      <td>1.0</td>\n",
              "      <td>NaN</td>\n",
              "      <td>8.0</td>\n",
              "      <td>NaN</td>\n",
              "      <td>7.0</td>\n",
              "      <td>1650,00</td>\n",
              "      <td>A</td>\n",
              "      <td>NaN</td>\n",
              "      <td>NaN</td>\n",
              "      <td>NaN</td>\n",
              "    </tr>\n",
              "    <tr>\n",
              "      <th>4</th>\n",
              "      <td>202204</td>\n",
              "      <td>19039d3944f2f19e53debd4ca61514d185b53e3f3d52dc...</td>\n",
              "      <td>NaN</td>\n",
              "      <td>NaN</td>\n",
              "      <td>NaN</td>\n",
              "      <td>148.0</td>\n",
              "      <td>NaN</td>\n",
              "      <td>NaN</td>\n",
              "      <td>NaN</td>\n",
              "      <td>NaN</td>\n",
              "      <td>1.0</td>\n",
              "      <td>750,00</td>\n",
              "      <td>NaN</td>\n",
              "      <td>NaN</td>\n",
              "      <td>NaN</td>\n",
              "      <td>NaN</td>\n",
              "    </tr>\n",
              "    <tr>\n",
              "      <th>18</th>\n",
              "      <td>202204</td>\n",
              "      <td>4e88066de269003d043093fa2253327f9823625de498c3...</td>\n",
              "      <td>1599.31</td>\n",
              "      <td>64.02</td>\n",
              "      <td>NaN</td>\n",
              "      <td>134.0</td>\n",
              "      <td>1.0</td>\n",
              "      <td>NaN</td>\n",
              "      <td>3.0</td>\n",
              "      <td>NaN</td>\n",
              "      <td>2.0</td>\n",
              "      <td>1100,00</td>\n",
              "      <td>H</td>\n",
              "      <td>NaN</td>\n",
              "      <td>NaN</td>\n",
              "      <td>NaN</td>\n",
              "    </tr>\n",
              "    <tr>\n",
              "      <th>30</th>\n",
              "      <td>202204</td>\n",
              "      <td>d8ed0b200dfdf8ea0a804fbcc00d05415224a5938bcff4...</td>\n",
              "      <td>10921.59</td>\n",
              "      <td>1264.50</td>\n",
              "      <td>NaN</td>\n",
              "      <td>334.0</td>\n",
              "      <td>2.0</td>\n",
              "      <td>NaN</td>\n",
              "      <td>12.0</td>\n",
              "      <td>NaN</td>\n",
              "      <td>5.0</td>\n",
              "      <td>2050,00</td>\n",
              "      <td>D</td>\n",
              "      <td>NaN</td>\n",
              "      <td>NaN</td>\n",
              "      <td>NaN</td>\n",
              "    </tr>\n",
              "    <tr>\n",
              "      <th>35</th>\n",
              "      <td>202204</td>\n",
              "      <td>49a351b1547a451f103c0c0f0a047f062d6f00538b4a3a...</td>\n",
              "      <td>305.47</td>\n",
              "      <td>1400.00</td>\n",
              "      <td>NaN</td>\n",
              "      <td>403.0</td>\n",
              "      <td>1.0</td>\n",
              "      <td>NaN</td>\n",
              "      <td>6.0</td>\n",
              "      <td>NaN</td>\n",
              "      <td>2.0</td>\n",
              "      <td>4400,00</td>\n",
              "      <td>A</td>\n",
              "      <td>NaN</td>\n",
              "      <td>NaN</td>\n",
              "      <td>NaN</td>\n",
              "    </tr>\n",
              "  </tbody>\n",
              "</table>\n",
              "</div>\n",
              "      <button class=\"colab-df-convert\" onclick=\"convertToInteractive('df-0d7b8efe-8043-4361-8afa-eeab6f851ea3')\"\n",
              "              title=\"Convert this dataframe to an interactive table.\"\n",
              "              style=\"display:none;\">\n",
              "        \n",
              "  <svg xmlns=\"http://www.w3.org/2000/svg\" height=\"24px\"viewBox=\"0 0 24 24\"\n",
              "       width=\"24px\">\n",
              "    <path d=\"M0 0h24v24H0V0z\" fill=\"none\"/>\n",
              "    <path d=\"M18.56 5.44l.94 2.06.94-2.06 2.06-.94-2.06-.94-.94-2.06-.94 2.06-2.06.94zm-11 1L8.5 8.5l.94-2.06 2.06-.94-2.06-.94L8.5 2.5l-.94 2.06-2.06.94zm10 10l.94 2.06.94-2.06 2.06-.94-2.06-.94-.94-2.06-.94 2.06-2.06.94z\"/><path d=\"M17.41 7.96l-1.37-1.37c-.4-.4-.92-.59-1.43-.59-.52 0-1.04.2-1.43.59L10.3 9.45l-7.72 7.72c-.78.78-.78 2.05 0 2.83L4 21.41c.39.39.9.59 1.41.59.51 0 1.02-.2 1.41-.59l7.78-7.78 2.81-2.81c.8-.78.8-2.07 0-2.86zM5.41 20L4 18.59l7.72-7.72 1.47 1.35L5.41 20z\"/>\n",
              "  </svg>\n",
              "      </button>\n",
              "      \n",
              "  <style>\n",
              "    .colab-df-container {\n",
              "      display:flex;\n",
              "      flex-wrap:wrap;\n",
              "      gap: 12px;\n",
              "    }\n",
              "\n",
              "    .colab-df-convert {\n",
              "      background-color: #E8F0FE;\n",
              "      border: none;\n",
              "      border-radius: 50%;\n",
              "      cursor: pointer;\n",
              "      display: none;\n",
              "      fill: #1967D2;\n",
              "      height: 32px;\n",
              "      padding: 0 0 0 0;\n",
              "      width: 32px;\n",
              "    }\n",
              "\n",
              "    .colab-df-convert:hover {\n",
              "      background-color: #E2EBFA;\n",
              "      box-shadow: 0px 1px 2px rgba(60, 64, 67, 0.3), 0px 1px 3px 1px rgba(60, 64, 67, 0.15);\n",
              "      fill: #174EA6;\n",
              "    }\n",
              "\n",
              "    [theme=dark] .colab-df-convert {\n",
              "      background-color: #3B4455;\n",
              "      fill: #D2E3FC;\n",
              "    }\n",
              "\n",
              "    [theme=dark] .colab-df-convert:hover {\n",
              "      background-color: #434B5C;\n",
              "      box-shadow: 0px 1px 3px 1px rgba(0, 0, 0, 0.15);\n",
              "      filter: drop-shadow(0px 1px 2px rgba(0, 0, 0, 0.3));\n",
              "      fill: #FFFFFF;\n",
              "    }\n",
              "  </style>\n",
              "\n",
              "      <script>\n",
              "        const buttonEl =\n",
              "          document.querySelector('#df-0d7b8efe-8043-4361-8afa-eeab6f851ea3 button.colab-df-convert');\n",
              "        buttonEl.style.display =\n",
              "          google.colab.kernel.accessAllowed ? 'block' : 'none';\n",
              "\n",
              "        async function convertToInteractive(key) {\n",
              "          const element = document.querySelector('#df-0d7b8efe-8043-4361-8afa-eeab6f851ea3');\n",
              "          const dataTable =\n",
              "            await google.colab.kernel.invokeFunction('convertToInteractive',\n",
              "                                                     [key], {});\n",
              "          if (!dataTable) return;\n",
              "\n",
              "          const docLinkHtml = 'Like what you see? Visit the ' +\n",
              "            '<a target=\"_blank\" href=https://colab.research.google.com/notebooks/data_table.ipynb>data table notebook</a>'\n",
              "            + ' to learn more about interactive tables.';\n",
              "          element.innerHTML = '';\n",
              "          dataTable['output_type'] = 'display_data';\n",
              "          await google.colab.output.renderOutput(dataTable, element);\n",
              "          const docLink = document.createElement('div');\n",
              "          docLink.innerHTML = docLinkHtml;\n",
              "          element.appendChild(docLink);\n",
              "        }\n",
              "      </script>\n",
              "    </div>\n",
              "  </div>\n",
              "  "
            ]
          },
          "metadata": {},
          "execution_count": 5
        }
      ],
      "source": [
        "# Dados lidos do arquvio csv\n",
        "df = pd.read_csv('data.csv')\n",
        "\n",
        "# Definição de dataframe que será utilizado na seção de mapeamento de jornada do usuário\n",
        "new_df = df.copy()\n",
        "\n",
        "# Filtrando a base de dados com um único mês\n",
        "last_month = df.anomes == 202204\n",
        "df = df[last_month]\n",
        "\n",
        "# Mostrando primeiros registros do Dataframe\n",
        "df.head()"
      ]
    },
    {
      "cell_type": "code",
      "source": [
        "df.info()"
      ],
      "metadata": {
        "id": "2H1wL-mCQJov",
        "colab": {
          "base_uri": "https://localhost:8080/"
        },
        "outputId": "23c0226e-5aef-455f-b6c7-e029e1513d72"
      },
      "execution_count": 6,
      "outputs": [
        {
          "output_type": "stream",
          "name": "stdout",
          "text": [
            "<class 'pandas.core.frame.DataFrame'>\n",
            "Int64Index: 851414 entries, 0 to 11886317\n",
            "Data columns (total 16 columns):\n",
            " #   Column          Non-Null Count   Dtype  \n",
            "---  ------          --------------   -----  \n",
            " 0   anomes          851414 non-null  int64  \n",
            " 1   num_cpf_hash    851414 non-null  object \n",
            " 2   vlr_credito     464590 non-null  float64\n",
            " 3   vlr_saldo       435627 non-null  float64\n",
            " 4   num_atend_atrs  521 non-null     float64\n",
            " 5   vlr_score       851116 non-null  float64\n",
            " 6   num_produtos    435627 non-null  float64\n",
            " 7   num_atend       1550 non-null    float64\n",
            " 8   qtd_oper        464590 non-null  float64\n",
            " 9   qtd_reclm       57 non-null      float64\n",
            " 10  qtd_restr       604557 non-null  float64\n",
            " 11  vlr_renda       851414 non-null  object \n",
            " 12  cod_rating      435627 non-null  object \n",
            " 13  ind_atrito      216 non-null     float64\n",
            " 14  ind_engaj       147745 non-null  float64\n",
            " 15  ind_novo_cli    170899 non-null  float64\n",
            "dtypes: float64(12), int64(1), object(3)\n",
            "memory usage: 110.4+ MB\n"
          ]
        }
      ]
    },
    {
      "cell_type": "code",
      "execution_count": 7,
      "metadata": {
        "id": "tqKB6mOmo98d",
        "colab": {
          "base_uri": "https://localhost:8080/",
          "height": 175
        },
        "outputId": "b5414a0f-35a0-4e81-b88f-db20d25e95ff"
      },
      "outputs": [
        {
          "output_type": "execute_result",
          "data": {
            "text/plain": [
              "                                             num_cpf_hash vlr_renda cod_rating\n",
              "count                                              851414    851414     435627\n",
              "unique                                             851414      2085         10\n",
              "top     cb12b6e129afbe2cc514ca053b8914992b4c8f73087cb9...   4300,00          A\n",
              "freq                                                    1     50282     330229"
            ],
            "text/html": [
              "\n",
              "  <div id=\"df-8523425d-a1a2-413a-a4af-56cc293fe74e\">\n",
              "    <div class=\"colab-df-container\">\n",
              "      <div>\n",
              "<style scoped>\n",
              "    .dataframe tbody tr th:only-of-type {\n",
              "        vertical-align: middle;\n",
              "    }\n",
              "\n",
              "    .dataframe tbody tr th {\n",
              "        vertical-align: top;\n",
              "    }\n",
              "\n",
              "    .dataframe thead th {\n",
              "        text-align: right;\n",
              "    }\n",
              "</style>\n",
              "<table border=\"1\" class=\"dataframe\">\n",
              "  <thead>\n",
              "    <tr style=\"text-align: right;\">\n",
              "      <th></th>\n",
              "      <th>num_cpf_hash</th>\n",
              "      <th>vlr_renda</th>\n",
              "      <th>cod_rating</th>\n",
              "    </tr>\n",
              "  </thead>\n",
              "  <tbody>\n",
              "    <tr>\n",
              "      <th>count</th>\n",
              "      <td>851414</td>\n",
              "      <td>851414</td>\n",
              "      <td>435627</td>\n",
              "    </tr>\n",
              "    <tr>\n",
              "      <th>unique</th>\n",
              "      <td>851414</td>\n",
              "      <td>2085</td>\n",
              "      <td>10</td>\n",
              "    </tr>\n",
              "    <tr>\n",
              "      <th>top</th>\n",
              "      <td>cb12b6e129afbe2cc514ca053b8914992b4c8f73087cb9...</td>\n",
              "      <td>4300,00</td>\n",
              "      <td>A</td>\n",
              "    </tr>\n",
              "    <tr>\n",
              "      <th>freq</th>\n",
              "      <td>1</td>\n",
              "      <td>50282</td>\n",
              "      <td>330229</td>\n",
              "    </tr>\n",
              "  </tbody>\n",
              "</table>\n",
              "</div>\n",
              "      <button class=\"colab-df-convert\" onclick=\"convertToInteractive('df-8523425d-a1a2-413a-a4af-56cc293fe74e')\"\n",
              "              title=\"Convert this dataframe to an interactive table.\"\n",
              "              style=\"display:none;\">\n",
              "        \n",
              "  <svg xmlns=\"http://www.w3.org/2000/svg\" height=\"24px\"viewBox=\"0 0 24 24\"\n",
              "       width=\"24px\">\n",
              "    <path d=\"M0 0h24v24H0V0z\" fill=\"none\"/>\n",
              "    <path d=\"M18.56 5.44l.94 2.06.94-2.06 2.06-.94-2.06-.94-.94-2.06-.94 2.06-2.06.94zm-11 1L8.5 8.5l.94-2.06 2.06-.94-2.06-.94L8.5 2.5l-.94 2.06-2.06.94zm10 10l.94 2.06.94-2.06 2.06-.94-2.06-.94-.94-2.06-.94 2.06-2.06.94z\"/><path d=\"M17.41 7.96l-1.37-1.37c-.4-.4-.92-.59-1.43-.59-.52 0-1.04.2-1.43.59L10.3 9.45l-7.72 7.72c-.78.78-.78 2.05 0 2.83L4 21.41c.39.39.9.59 1.41.59.51 0 1.02-.2 1.41-.59l7.78-7.78 2.81-2.81c.8-.78.8-2.07 0-2.86zM5.41 20L4 18.59l7.72-7.72 1.47 1.35L5.41 20z\"/>\n",
              "  </svg>\n",
              "      </button>\n",
              "      \n",
              "  <style>\n",
              "    .colab-df-container {\n",
              "      display:flex;\n",
              "      flex-wrap:wrap;\n",
              "      gap: 12px;\n",
              "    }\n",
              "\n",
              "    .colab-df-convert {\n",
              "      background-color: #E8F0FE;\n",
              "      border: none;\n",
              "      border-radius: 50%;\n",
              "      cursor: pointer;\n",
              "      display: none;\n",
              "      fill: #1967D2;\n",
              "      height: 32px;\n",
              "      padding: 0 0 0 0;\n",
              "      width: 32px;\n",
              "    }\n",
              "\n",
              "    .colab-df-convert:hover {\n",
              "      background-color: #E2EBFA;\n",
              "      box-shadow: 0px 1px 2px rgba(60, 64, 67, 0.3), 0px 1px 3px 1px rgba(60, 64, 67, 0.15);\n",
              "      fill: #174EA6;\n",
              "    }\n",
              "\n",
              "    [theme=dark] .colab-df-convert {\n",
              "      background-color: #3B4455;\n",
              "      fill: #D2E3FC;\n",
              "    }\n",
              "\n",
              "    [theme=dark] .colab-df-convert:hover {\n",
              "      background-color: #434B5C;\n",
              "      box-shadow: 0px 1px 3px 1px rgba(0, 0, 0, 0.15);\n",
              "      filter: drop-shadow(0px 1px 2px rgba(0, 0, 0, 0.3));\n",
              "      fill: #FFFFFF;\n",
              "    }\n",
              "  </style>\n",
              "\n",
              "      <script>\n",
              "        const buttonEl =\n",
              "          document.querySelector('#df-8523425d-a1a2-413a-a4af-56cc293fe74e button.colab-df-convert');\n",
              "        buttonEl.style.display =\n",
              "          google.colab.kernel.accessAllowed ? 'block' : 'none';\n",
              "\n",
              "        async function convertToInteractive(key) {\n",
              "          const element = document.querySelector('#df-8523425d-a1a2-413a-a4af-56cc293fe74e');\n",
              "          const dataTable =\n",
              "            await google.colab.kernel.invokeFunction('convertToInteractive',\n",
              "                                                     [key], {});\n",
              "          if (!dataTable) return;\n",
              "\n",
              "          const docLinkHtml = 'Like what you see? Visit the ' +\n",
              "            '<a target=\"_blank\" href=https://colab.research.google.com/notebooks/data_table.ipynb>data table notebook</a>'\n",
              "            + ' to learn more about interactive tables.';\n",
              "          element.innerHTML = '';\n",
              "          dataTable['output_type'] = 'display_data';\n",
              "          await google.colab.output.renderOutput(dataTable, element);\n",
              "          const docLink = document.createElement('div');\n",
              "          docLink.innerHTML = docLinkHtml;\n",
              "          element.appendChild(docLink);\n",
              "        }\n",
              "      </script>\n",
              "    </div>\n",
              "  </div>\n",
              "  "
            ]
          },
          "metadata": {},
          "execution_count": 7
        }
      ],
      "source": [
        "df.describe(include=\"object\")"
      ]
    },
    {
      "cell_type": "markdown",
      "metadata": {
        "id": "fS5JmPyAQGH5"
      },
      "source": [
        "# Manipulação dos dados das colunas da base de dados geral\n",
        "##### Preenchemos os valores vazios das colunas e tratamos dados que estavam com a tipagem errada."
      ]
    },
    {
      "cell_type": "markdown",
      "metadata": {
        "id": "E7bKqG871VmQ"
      },
      "source": [
        "Transformando string para float\n",
        "\n"
      ]
    },
    {
      "cell_type": "code",
      "execution_count": 8,
      "metadata": {
        "id": "1cElYeCkFeEw"
      },
      "outputs": [],
      "source": [
        "df[\"vlr_renda\"] = df[\"vlr_renda\"].str.replace(',','.')\n",
        "df[\"vlr_renda\"] = df[\"vlr_renda\"].astype(float)"
      ]
    },
    {
      "cell_type": "markdown",
      "metadata": {
        "id": "Rh7o8vJmhHnz"
      },
      "source": [
        "Nas seguinte células, transformamos os valores NaN das colunas em 0"
      ]
    },
    {
      "cell_type": "code",
      "execution_count": 9,
      "metadata": {
        "id": "Xu2__FZfQTrk"
      },
      "outputs": [],
      "source": [
        "df['ind_atrito'] = df['ind_atrito'].fillna(0)"
      ]
    },
    {
      "cell_type": "code",
      "execution_count": 10,
      "metadata": {
        "id": "HgX-raUaQ8AD"
      },
      "outputs": [],
      "source": [
        "df['ind_engaj'] = df['ind_engaj'].fillna(0)"
      ]
    },
    {
      "cell_type": "code",
      "execution_count": 11,
      "metadata": {
        "id": "qgDY85uHQ_gg"
      },
      "outputs": [],
      "source": [
        "df['ind_novo_cli'] = df['ind_novo_cli'].fillna(0)"
      ]
    },
    {
      "cell_type": "code",
      "execution_count": 12,
      "metadata": {
        "id": "9D_ubuqwST1Q"
      },
      "outputs": [],
      "source": [
        "df['num_atend'] = df['num_atend'].fillna(0)"
      ]
    },
    {
      "cell_type": "code",
      "execution_count": 13,
      "metadata": {
        "id": "S2JV1O5YSlhB"
      },
      "outputs": [],
      "source": [
        "df['num_atend_atrs'] = df['num_atend_atrs'].fillna(0)"
      ]
    },
    {
      "cell_type": "code",
      "execution_count": 14,
      "metadata": {
        "id": "d-CRKVvVS30w"
      },
      "outputs": [],
      "source": [
        "df['qtd_reclm'] = df['qtd_reclm'].fillna(0) "
      ]
    },
    {
      "cell_type": "markdown",
      "metadata": {
        "id": "Whr4BewjE1Tf"
      },
      "source": [
        "\n",
        "\n",
        "\n",
        "# Divisão da tabela entre clientes e não clientes\n",
        "\n",
        "\n",
        "\n"
      ]
    },
    {
      "cell_type": "code",
      "execution_count": 15,
      "metadata": {
        "id": "P5UvTZ2BEuaU"
      },
      "outputs": [],
      "source": [
        "client = df[df.cod_rating.notna()]\n",
        "not_client = df[df.cod_rating.isna()]"
      ]
    },
    {
      "cell_type": "markdown",
      "metadata": {
        "id": "rMDJXXMnsYBE"
      },
      "source": [
        "#Visualização gráfica de hipóteses\n"
      ]
    },
    {
      "cell_type": "markdown",
      "metadata": {
        "id": "PblRgJw3BbrU"
      },
      "source": [
        "##Hipótese 1\n",
        "Clientes com o score mais alto possuem um valor de saldo no banco pan maior (Hipótese não comprovada)."
      ]
    },
    {
      "cell_type": "code",
      "execution_count": 16,
      "metadata": {
        "id": "fWLEJXB_suZH",
        "colab": {
          "base_uri": "https://localhost:8080/",
          "height": 0
        },
        "outputId": "f0a97cb6-22d3-4379-9407-9f58de46fd1b"
      },
      "outputs": [
        {
          "output_type": "display_data",
          "data": {
            "text/html": [
              "<html>\n",
              "<head><meta charset=\"utf-8\" /></head>\n",
              "<body>\n",
              "    <div>            <script src=\"https://cdnjs.cloudflare.com/ajax/libs/mathjax/2.7.5/MathJax.js?config=TeX-AMS-MML_SVG\"></script><script type=\"text/javascript\">if (window.MathJax) {MathJax.Hub.Config({SVG: {font: \"STIX-Web\"}});}</script>                <script type=\"text/javascript\">window.PlotlyConfig = {MathJaxConfig: 'local'};</script>\n",
              "        <script src=\"https://cdn.plot.ly/plotly-2.8.3.min.js\"></script>                <div id=\"f6cfc3fd-ee07-4782-a670-e08c7baace02\" class=\"plotly-graph-div\" style=\"height:525px; width:100%;\"></div>            <script type=\"text/javascript\">                                    window.PLOTLYENV=window.PLOTLYENV || {};                                    if (document.getElementById(\"f6cfc3fd-ee07-4782-a670-e08c7baace02\")) {                    Plotly.newPlot(                        \"f6cfc3fd-ee07-4782-a670-e08c7baace02\",                        [{\"hovertemplate\":\"vlr_score=%{x}<br>vlr_saldo=%{y}<extra></extra>\",\"legendgroup\":\"\",\"marker\":{\"color\":\"#636efa\",\"symbol\":\"circle\"},\"mode\":\"markers\",\"name\":\"\",\"showlegend\":false,\"x\":[416.0,313.0,389.0,857.0,650.0,448.0,272.0,407.0,435.0,381.0,956.0,118.0,380.0,354.0,736.0,91.0,546.0,891.0,717.0,380.0,306.0,419.0,356.0,396.0,906.0,431.0,88.0,542.0,575.0,864.0,953.0,384.0,961.0,871.0,590.0,456.0,726.0,580.0,624.0,385.0,358.0,575.0,477.0,536.0,433.0,703.0,424.0,575.0,96.0,600.0,366.0,957.0,429.0,575.0,575.0,295.0,618.0,911.0,320.0,804.0,963.0,575.0,645.0,668.0,367.0,787.0,383.0,736.0,137.0,291.0,467.0,765.0,411.0,534.0,558.0,568.0,765.0,479.0,400.0,920.0,194.0,433.0,751.0,635.0,336.0,265.0,452.0,562.0,471.0,649.0,678.0,430.0,334.0,363.0,763.0,0.0,460.0,395.0,662.0,674.0,431.0,217.0,924.0,967.0,888.0,568.0,466.0,519.0,921.0,763.0,475.0,939.0,940.0,498.0,663.0,866.0,731.0,534.0,575.0,419.0,792.0,538.0,609.0,843.0,464.0,575.0,454.0,576.0,556.0,670.0,353.0,202.0,952.0,875.0,946.0,97.0,479.0,386.0,367.0,827.0,645.0,795.0,805.0,519.0,691.0,795.0,574.0,906.0,866.0,575.0,951.0,846.0,471.0,790.0,504.0,624.0,416.0,339.0,953.0,350.0,473.0,846.0,115.0,790.0,763.0,469.0,429.0,575.0,400.0,183.0,556.0,417.0,null,582.0,929.0,434.0,188.0,387.0,173.0,850.0,765.0,311.0,592.0,884.0,353.0,488.0,311.0,411.0,425.0,820.0,635.0,475.0,261.0,415.0,523.0,542.0,575.0,443.0,419.0,327.0,443.0,344.0,620.0,575.0,428.0,122.0,272.0,708.0,575.0,680.0,357.0,750.0,575.0,246.0,389.0,426.0,297.0,450.0,738.0,403.0,477.0,884.0,510.0,343.0,930.0,955.0,568.0,884.0,415.0,430.0,575.0,533.0,827.0,488.0,428.0,224.0,575.0,566.0,308.0,552.0,536.0,450.0,527.0,483.0,392.0,618.0,575.0,460.0,957.0,233.0,425.0,533.0,412.0,558.0,566.0,456.0,467.0,210.0,643.0,580.0,150.0,736.0,521.0,635.0,450.0,206.0,150.0,440.0,466.0,556.0,920.0,638.0,603.0,575.0,483.0,467.0,950.0,374.0,158.0,527.0,575.0,956.0,483.0,800.0,820.0,130.0,755.0,134.0,337.0,594.0,162.0,300.0,866.0,372.0,674.0,413.0,873.0,383.0,850.0,680.0,592.0,958.0,504.0,123.0,129.0,747.0,605.0,295.0,953.0,900.0,956.0,389.0,717.0,404.0,372.0,208.0,104.0,318.0,600.0,475.0,297.0,382.0,378.0,717.0,933.0,951.0,575.0,687.0,575.0,913.0,385.0,592.0,745.0,370.0,904.0,659.0,198.0,782.0,624.0,224.0,462.0,403.0,780.0,948.0,381.0,385.0,862.0,536.0,397.0,647.0,386.0,833.0,622.0,382.0,329.0,355.0,397.0,678.0,962.0,611.0,868.0,475.0,357.0,558.0,425.0,367.0,456.0,951.0,575.0,377.0,575.0,420.0,622.0,875.0,366.0,392.0,736.0,546.0,377.0,276.0,460.0,383.0,259.0,189.0,444.0,389.0,544.0,578.0,126.0,922.0,466.0,425.0,891.0,421.0,416.0,562.0,566.0,359.0,635.0,374.0,106.0,411.0,871.0,99.0,846.0,566.0,434.0,357.0,600.0,392.0,460.0,517.0,977.0,404.0,641.0,782.0,827.0,259.0,380.0,605.0,582.0,708.0,575.0,259.0,381.0,344.0,605.0,853.0,668.0,168.0,363.0,548.0,388.0,743.0,576.0,437.0,287.0,959.0,782.0,336.0,420.0,477.0,855.0,575.0,531.0,758.0,902.0,840.0,403.0,291.0,866.0,855.0,215.0,680.0,407.0,562.0,575.0,353.0,206.0,558.0,386.0,416.0,583.0,272.0,473.0,492.0,488.0,556.0,758.0,475.0,572.0,100.0,542.0,350.0,387.0,177.0,948.0,722.0,590.0,431.0,419.0,84.0,322.0,760.0,575.0,426.0,498.0,942.0,311.0,426.0,413.0,956.0,148.0,341.0,276.0,700.0,952.0,429.0,954.0,378.0,533.0,358.0,0.0,564.0,413.0,311.0,689.0,398.0,785.0,233.0,396.0,344.0,404.0,519.0,360.0,897.0,220.0,90.0,327.0,278.0,477.0,374.0,586.0,575.0,952.0,800.0,500.0,562.0,417.0,877.0,325.0,413.0,618.0,304.0,775.0,300.0,481.0,191.0,407.0,407.0,743.0,575.0,381.0,575.0,853.0,437.0,313.0,575.0,483.0,380.0,129.0,443.0,449.0,265.0,729.0,622.0,564.0,439.0,233.0,650.0,951.0,855.0,527.0,280.0,430.0,668.0,161.0,575.0,456.0,792.0,886.0,575.0,340.0,924.0,596.0,246.0,352.0,724.0,490.0,913.0,452.0,375.0,407.0,575.0,508.0,795.0,689.0,379.0,450.0,419.0,419.0,438.0,433.0,575.0,506.0,814.0,562.0,367.0,687.0,462.0,743.0,334.0,125.0,121.0,800.0,643.0,592.0,882.0,964.0,484.0,369.0,486.0,484.0,421.0,219.0,592.0,359.0,800.0,304.0,363.0,963.0,195.0,568.0,435.0,827.0,913.0,952.0,639.0,967.0,908.0,745.0,344.0,255.0,564.0,302.0,911.0,787.0,663.0,392.0,645.0,430.0,550.0,937.0,246.0,210.0,641.0,368.0,508.0,191.0,521.0,768.0,912.0,496.0,320.0,533.0,952.0,246.0,590.0,142.0,575.0,527.0,678.0,488.0,689.0,575.0,540.0,895.0,810.0,397.0,384.0,462.0,921.0,843.0,857.0,575.0,494.0,830.0,689.0,857.0,514.0,575.0,797.0,341.0,607.0,546.0,724.0,850.0,438.0,467.0,516.0,213.0,893.0,787.0,396.0,372.0,380.0,827.0,556.0,800.0,919.0,908.0,350.0,947.0,411.0,862.0,873.0,210.0,862.0,575.0,452.0,354.0,710.0,661.0,325.0,367.0,641.0,590.0,211.0,195.0,888.0,348.0,194.0,253.0,385.0,613.0,906.0,575.0,575.0,768.0,620.0,753.0,575.0,0.0,861.0,237.0,575.0,566.0,374.0,913.0,575.0,215.0,377.0,903.0,311.0,933.0,510.0,639.0,907.0,354.0,400.0,682.0,575.0,369.0,575.0,891.0,717.0,797.0,743.0,703.0,653.0,695.0,873.0,687.0,420.0,765.0,466.0,724.0,750.0,953.0,268.0,330.0,417.0,135.0,448.0,222.0,357.0,624.0,921.0,575.0,763.0,391.0,603.0,173.0,417.0,430.0,823.0,500.0,206.0,575.0,289.0,533.0,546.0,354.0,380.0,700.0,768.0,624.0,176.0,911.0,447.0,348.0,378.0,421.0,906.0,536.0,382.0,496.0,354.0,592.0,339.0,306.0,113.0,469.0,540.0,750.0,665.0,795.0,295.0,473.0,575.0,566.0,600.0,369.0,562.0,875.0,566.0,439.0,596.0,906.0,840.0,590.0,446.0,330.0,397.0,884.0,475.0,385.0,717.0,390.0,750.0,360.0,394.0,519.0,578.0,419.0,574.0,313.0,533.0,302.0,661.0,907.0,836.0,575.0,412.0,428.0,768.0,717.0,823.0,812.0,382.0,422.0,710.0,395.0,682.0,278.0,682.0,471.0,159.0,384.0,327.0,538.0,185.0,957.0,895.0,387.0,911.0,426.0,603.0,122.0,336.0,643.0,323.0,733.0,575.0,502.0,189.0,717.0,366.0,613.0,412.0,514.0,955.0,407.0,907.0,464.0,695.0,339.0,575.0,765.0,446.0,504.0,327.0,165.0,705.0,827.0,259.0,434.0,564.0,514.0,402.0,408.0,600.0,297.0,381.0,534.0,425.0,954.0,374.0,0.0,473.0,544.0,259.0,188.0,410.0,575.0,785.0,447.0,337.0,259.0,797.0,875.0,689.0,370.0,176.0,352.0,454.0,380.0,361.0,655.0,758.0,750.0,933.0,385.0,111.0,352.0,570.0,639.0,161.0,282.0,556.0,246.0,339.0,428.0,444.0,770.0,142.0,313.0,378.0,86.0,592.0,820.0,685.0,382.0,200.0,575.0,337.0,902.0,715.0,682.0,795.0,339.0,498.0,400.0,536.0,496.0,740.0,458.0,575.0,575.0,323.0,263.0,575.0,330.0,371.0,360.0,437.0,440.0,659.0,354.0,958.0,375.0,339.0,448.0,494.0,378.0,230.0,978.0,498.0,339.0,125.0,797.0,437.0,278.0,570.0,486.0,484.0,917.0,790.0,228.0,572.0,765.0,421.0,580.0,257.0,372.0,426.0,575.0,486.0,471.0,525.0,430.0,810.0,437.0,479.0,958.0,948.0,940.0,197.0,605.0,705.0,921.0,372.0,350.0,676.0,689.0,402.0,724.0,574.0,575.0,653.0,504.0,412.0,920.0,575.0,486.0,425.0,782.0,502.0,437.0,446.0,682.0,89.0,637.0,460.0,546.0,785.0,362.0,353.0,415.0,921.0,460.0,650.0,364.0,306.0,680.0,488.0,954.0,0.0,308.0,576.0,306.0,443.0,575.0,99.0,99.0,800.0,548.0,981.0,576.0,536.0,594.0,947.0,810.0,760.0,882.0,575.0,138.0,529.0,382.0,575.0,466.0,575.0,953.0,475.0,253.0,390.0,248.0,618.0,873.0,118.0,424.0,956.0,343.0,556.0,641.0,782.0,954.0,490.0,807.0,308.0,500.0,416.0,390.0,939.0,750.0,768.0,400.0,572.0,575.0,239.0,255.0,643.0,146.0,139.0,790.0,804.0,498.0,504.0,378.0,906.0,866.0,622.0,448.0,407.0,575.0,168.0,938.0,514.0,430.0,210.0,745.0,916.0,185.0,521.0,981.0,575.0,906.0,192.0,750.0,531.0,313.0,384.0,846.0,289.0,139.0,496.0,758.0,358.0,510.0,469.0,645.0,400.0,717.0,447.0,678.0,948.0,366.0,417.0,906.0,337.0,755.0,790.0,263.0,722.0,398.0,736.0,330.0,946.0,703.0,672.0,460.0,115.0,780.0,398.0,615.0,574.0,246.0,714.0,912.0,426.0,336.0,467.0,327.0,928.0,366.0,529.0,287.0,460.0,421.0,814.0,884.0,770.0,379.0,900.0,884.0,946.0,650.0,426.0,355.0,392.0,120.0,124.0,575.0,398.0,438.0,276.0,900.0,575.0,875.0,574.0,475.0,394.0,344.0,544.0,435.0,382.0,575.0,533.0,323.0,743.0,542.0,253.0,363.0,115.0,111.0,363.0,206.0,624.0,840.0,916.0,823.0,780.0,717.0,350.0,419.0,458.0,121.0,552.0,795.0,327.0,733.0,620.0,792.0,395.0,504.0,857.0,647.0,843.0,272.0,496.0,363.0,373.0,386.0,700.0,391.0,384.0,575.0,403.0,99.0,564.0,442.0,886.0,407.0,138.0,782.0,311.0,954.0,369.0,546.0,823.0,613.0,564.0,517.0,456.0,304.0,446.0,393.0,295.0,575.0,394.0,402.0,575.0,574.0,584.0,542.0,575.0,0.0,575.0,341.0,575.0,483.0,365.0,903.0,952.0,792.0,736.0,527.0,959.0,142.0,488.0,224.0,575.0,588.0,486.0,217.0,337.0,910.0,542.0,195.0,421.0,173.0,383.0,300.0,437.0,745.0,843.0,0.0,575.0,444.0,670.0,575.0,659.0,575.0,700.0,676.0,538.0,382.0,689.0,365.0,235.0,765.0,575.0,132.0,370.0,263.0,575.0,804.0,183.0,144.0,450.0,406.0,575.0,367.0,368.0,790.0,964.0,653.0,88.0,864.0,339.0,575.0,361.0,582.0,575.0,575.0,354.0,167.0,357.0,287.0,765.0,402.0,348.0,428.0,257.0,341.0,765.0,575.0,313.0,882.0,575.0,361.0,261.0,350.0,575.0,323.0,381.0,195.0,516.0,827.0,934.0,736.0,618.0,500.0,575.0,142.0,444.0,492.0,440.0,939.0,830.0,588.0,554.0,959.0,363.0,438.0,452.0,358.0,430.0,868.0,657.0,685.0,717.0,726.0,115.0,873.0,624.0,521.0,950.0,194.0,133.0,280.0,460.0,846.0,575.0,566.0,416.0,533.0,953.0,517.0,903.0,180.0,383.0,367.0,360.0,558.0,87.0,188.0,392.0,424.0,823.0,560.0,575.0,590.0,598.0,665.0,381.0,343.0,733.0,210.0,378.0,672.0,954.0,915.0,425.0,743.0,322.0,954.0,575.0,407.0,488.0,367.0,678.0,645.0,136.0,230.0,158.0,447.0,460.0,369.0,460.0,955.0,618.0,421.0,533.0,398.0,322.0,745.0,381.0,807.0,911.0,318.0,211.0,663.0,939.0,575.0,125.0,381.0,417.0,517.0,473.0,197.0,575.0,417.0,323.0,496.0,248.0,639.0,575.0,712.0,486.0,358.0,419.0,366.0,554.0,574.0,471.0,358.0,611.0,422.0,379.0,293.0,170.0,556.0,960.0,632.0,719.0,900.0,930.0,588.0,334.0,280.0,926.0,878.0,176.0,884.0,475.0,210.0,248.0,440.0,922.0,668.0,578.0,380.0,261.0,911.0,334.0,426.0,862.0,430.0,643.0,450.0,575.0,425.0,862.0,954.0,355.0,525.0,655.0,853.0,315.0,947.0,391.0,575.0,380.0,886.0,396.0,364.0,383.0,922.0,131.0,109.0,363.0,295.0,339.0,308.0,910.0,171.0,546.0,603.0,575.0,145.0,743.0,576.0,534.0,121.0,500.0,148.0,554.0,685.0,337.0,886.0,575.0,391.0,309.0,141.0,422.0,967.0,171.0,96.0,575.0,780.0,253.0,421.0,820.0,523.0,147.0,817.0,959.0,554.0,366.0,360.0,584.0,387.0,129.0,598.0,244.0,392.0,429.0,956.0,500.0,521.0,934.0,460.0,378.0,471.0,415.0,952.0,609.0,390.0,708.0,891.0,724.0,250.0,678.0,479.0,382.0,659.0,475.0,378.0,907.0,195.0,170.0,540.0,926.0,416.0,708.0,570.0,508.0,430.0,379.0,785.0,422.0,412.0,552.0,195.0,596.0,877.0,715.0,527.0,456.0,955.0,364.0,562.0,327.0,390.0,323.0,278.0,753.0,165.0,772.0,98.0,403.0,94.0,800.0,873.0,430.0,763.0,931.0,659.0,846.0,359.0,575.0,382.0,235.0,434.0,462.0,527.0,484.0,396.0,424.0,906.0,403.0,295.0,512.0,575.0,556.0,785.0,902.0,708.0,525.0,512.0,780.0,924.0,329.0,429.0,479.0,125.0,647.0,170.0,137.0,527.0,700.0,237.0,731.0,372.0,954.0,182.0,959.0,705.0,540.0,868.0,148.0,350.0,389.0,641.0,765.0,302.0,159.0,672.0,926.0,475.0,626.0,600.0,650.0,895.0,763.0,240.0,466.0,327.0,647.0,444.0,375.0,188.0,726.0,950.0,425.0,350.0,575.0,410.0,763.0,316.0,609.0,928.0,747.0,575.0,933.0,496.0,460.0,361.0,504.0,655.0,248.0,138.0,724.0,466.0,951.0,396.0,311.0,504.0,417.0,108.0,112.0,222.0,462.0,108.0,362.0,529.0,444.0,514.0,906.0,411.0,130.0,466.0,536.0,125.0,231.0,363.0,534.0,382.0,971.0,253.0,308.0,525.0,770.0,407.0,406.0,902.0,580.0,884.0,556.0,670.0,431.0,397.0,231.0,233.0,603.0,931.0,570.0,956.0,550.0,426.0,450.0,817.0,450.0,370.0,780.0,419.0,106.0,362.0,575.0,853.0,456.0,674.0,830.0,426.0,387.0,402.0,417.0,348.0,431.0,551.0,575.0,329.0,323.0,385.0,432.0,215.0,377.0,708.0,814.0,159.0,523.0,358.0,469.0,582.0,373.0,622.0,435.0,790.0,934.0,334.0,712.0,170.0,544.0,814.0,356.0,737.0,274.0,788.0,387.0,715.0,536.0,575.0,155.0,352.0,360.0,182.0,162.0,575.0,958.0,868.0,575.0,389.0,0.0,426.0,670.0,475.0,575.0,407.0,208.0,562.0,910.0,871.0,637.0,115.0,488.0,459.0,132.0,570.0,128.0,560.0,657.0,575.0,431.0,488.0,792.0,265.0,406.0,395.0,575.0,703.0,336.0,609.0,97.0,117.0,875.0,397.0,360.0,588.0,622.0,575.0,564.0,198.0,717.0,823.0,360.0,951.0,362.0,389.0,394.0,871.0,516.0,967.0,316.0,334.0,133.0,657.0,661.0,454.0,143.0,529.0,392.0,155.0,664.0,337.0,950.0,592.0,717.0,282.0,446.0,635.0,452.0,479.0,902.0,346.0,639.0,817.0,558.0,504.0,352.0,422.0,575.0,584.0,498.0,731.0,607.0,354.0,371.0,182.0,155.0,575.0,930.0,902.0,377.0,562.0,917.0,575.0,650.0,460.0,162.0,953.0,404.0,548.0,575.0,963.0,575.0,780.0,514.0,575.0,378.0,360.0,575.0,877.0,382.0,376.0,693.0,731.0,519.0,356.0,447.0,911.0,598.0,558.0,575.0,388.0,469.0,575.0,846.0,574.0,955.0,823.0,624.0,879.0,626.0,210.0,830.0,158.0,575.0,282.0,143.0,337.0,500.0,320.0,924.0,425.0,653.0,268.0,770.0,435.0,653.0,661.0,378.0,807.0,717.0,902.0,588.0,954.0,956.0,953.0,578.0,433.0,956.0,770.0,519.0,356.0,777.0,820.0,575.0,566.0,935.0,693.0,109.0,408.0,380.0,313.0,552.0,500.0,295.0,868.0,533.0,208.0,743.0,645.0,395.0,542.0,289.0,564.0,687.0,753.0,323.0,632.0,450.0,396.0,502.0,442.0,361.0,492.0,447.0,911.0,104.0,452.0,592.0,952.0,544.0,875.0,575.0,357.0,490.0,195.0,639.0,361.0,575.0,346.0,817.0,951.0,560.0,512.0,879.0,533.0,647.0,359.0,429.0,460.0,272.0,782.0,408.0,584.0,183.0,886.0,127.0,407.0,592.0,404.0,866.0,919.0,575.0,300.0,575.0,222.0,384.0,575.0,726.0,458.0,533.0,132.0,397.0,384.0,787.0,871.0,958.0,446.0,153.0,596.0,479.0,632.0,257.0,334.0,415.0,368.0,780.0,768.0,519.0,575.0,512.0,393.0,853.0,430.0,738.0,544.0,937.0,548.0,343.0,650.0,755.0,494.0,575.0,628.0,760.0,431.0,265.0,350.0,446.0,177.0,787.0,823.0,446.0,167.0,915.0,250.0,879.0,150.0,346.0,268.0,582.0,618.0,263.0,337.0,540.0,525.0,855.0,665.0,787.0,434.0,529.0,393.0,327.0,206.0,396.0,355.0,504.0,570.0,575.0,940.0,486.0,647.0,348.0,866.0,866.0,426.0,475.0,426.0,525.0,0.0,777.0,888.0,450.0,447.0,313.0,689.0,596.0,596.0,554.0,362.0,274.0,733.0,564.0,542.0,417.0,322.0,403.0,768.0,440.0,450.0,417.0,560.0,420.0,346.0,645.0,129.0,950.0,959.0,126.0,775.0,795.0,268.0,393.0,800.0,954.0,354.0,506.0,525.0,950.0,710.0,428.0,452.0,668.0,185.0,367.0,959.0,536.0,322.0,417.0,315.0,637.0,192.0,911.0,458.0,291.0,329.0,866.0,231.0,443.0,99.0,575.0,687.0,367.0,517.0,376.0,895.0,475.0,424.0,272.0,963.0,546.0,402.0,780.0,657.0,785.0,712.0,697.0,827.0,417.0,578.0,717.0,639.0,278.0,693.0,575.0,452.0,544.0,440.0,379.0,417.0,161.0,533.0,952.0,508.0,714.0,922.0,533.0,891.0,362.0,575.0,304.0,250.0,192.0,948.0,278.0,153.0,661.0,374.0,866.0,104.0,479.0,957.0,309.0,384.0,200.0,600.0,719.0,373.0,265.0,385.0,624.0,508.0,438.0,344.0,575.0,957.0,857.0,827.0,800.0,886.0,412.0,575.0,533.0,390.0,562.0,641.0,922.0,576.0,575.0,575.0,443.0,323.0,957.0,695.0,726.0,410.0,315.0,618.0,250.0,431.0,365.0,392.0,316.0,624.0,285.0,182.0,285.0,438.0,437.0,747.0,788.0,428.0,523.0,556.0,364.0,397.0,907.0,540.0,452.0,354.0,575.0,417.0,609.0,780.0,645.0,594.0,393.0,643.0,578.0,516.0,590.0,460.0,603.0,575.0,397.0,415.0,647.0,661.0,548.0,857.0,558.0,382.0,315.0,736.0,924.0,377.0,864.0,884.0,369.0,435.0,368.0,437.0,231.0,603.0,233.0,902.0,213.0,659.0,575.0,377.0,429.0,311.0,724.0,807.0,185.0,570.0,356.0,875.0,348.0,810.0,750.0,374.0,494.0,417.0,575.0,410.0,594.0,670.0,575.0,915.0,204.0,171.0,416.0,484.0,514.0,575.0,570.0,118.0,402.0,884.0,665.0,575.0,954.0,575.0,590.0,575.0,380.0,921.0,235.0,926.0,605.0,93.0,879.0,575.0,674.0,343.0,643.0,726.0,584.0,884.0,948.0,562.0,477.0,325.0,434.0,773.0,916.0,676.0,510.0,448.0,500.0,857.0,336.0,657.0,525.0,554.0,161.0,248.0,420.0,94.0,426.0,325.0,575.0,404.0,386.0,496.0,334.0,566.0,804.0,544.0,954.0,575.0,350.0,494.0,316.0,466.0,494.0,327.0,466.0,575.0,575.0,318.0,685.0,955.0,394.0,392.0,560.0,306.0,446.0,466.0,888.0,529.0,568.0,957.0,164.0,439.0,228.0,787.0,484.0,320.0,343.0,329.0,884.0,454.0,452.0,356.0,678.0,911.0,306.0,765.0,915.0,412.0,921.0,657.0,372.0,429.0,517.0,458.0,950.0,417.0,357.0,930.0,575.0,695.0,568.0,942.0,426.0,952.0,935.0,388.0,650.0,192.0,575.0,956.0,197.0,164.0,416.0,950.0,422.0,204.0,912.0,554.0,397.0,289.0,426.0,523.0,517.0,628.0,705.0,866.0,195.0,475.0,494.0,506.0,348.0,850.0,566.0,659.0,830.0,204.0,740.0,390.0,758.0,334.0,467.0,624.0,782.0,544.0,361.0,560.0,378.0,320.0,373.0,575.0,736.0,948.0,722.0,358.0,596.0,467.0,374.0,950.0,404.0,359.0,278.0,337.0,697.0,884.0,823.0,598.0,410.0,272.0,481.0,259.0,318.0,580.0,969.0,400.0,278.0,635.0,884.0,309.0,494.0,458.0,421.0,376.0,364.0,454.0,408.0,416.0,715.0,797.0,575.0,726.0,562.0,412.0,323.0,352.0,800.0,138.0,958.0,708.0,367.0,672.0,641.0,297.0,475.0,389.0,550.0,908.0,944.0,404.0,738.0,910.0,575.0,280.0,517.0,617.0,363.0,574.0,792.0,173.0,820.0,327.0,334.0,546.0,456.0,665.0,908.0,575.0,624.0,407.0,396.0,952.0,337.0,360.0,376.0,843.0,359.0,494.0,935.0,389.0,406.0,320.0,960.0,210.0,386.0,763.0,426.0,337.0,565.0,407.0,336.0,339.0,546.0,645.0,575.0,439.0,471.0,891.0,592.0,920.0,736.0,381.0,687.0,431.0,460.0,446.0,592.0,136.0,902.0,715.0,420.0,792.0,424.0,469.0,875.0,674.0,951.0,323.0,922.0,370.0,410.0,437.0,370.0,924.0,575.0,434.0,521.0,430.0,446.0,661.0,516.0,575.0,352.0,322.0,628.0,486.0,322.0,404.0,576.0,911.0,383.0,341.0,840.0,575.0,804.0,850.0,859.0,586.0,626.0,270.0,327.0,674.0,534.0,576.0,523.0,548.0,964.0,546.0,381.0,444.0,136.0,882.0,685.0,394.0,444.0,657.0,125.0,546.0,141.0,131.0,170.0,770.0,446.0,397.0,356.0,512.0,359.0,768.0,795.0,712.0,938.0,226.0,272.0,244.0,430.0,417.0,575.0,443.0,576.0,173.0,339.0,893.0,956.0,437.0,424.0,911.0,940.0,575.0,446.0,850.0,613.0,645.0,926.0,930.0,417.0,546.0,439.0,902.0,437.0,406.0,544.0,263.0,147.0,458.0,99.0,397.0,332.0,691.0,510.0,376.0,500.0,954.0,504.0,575.0,435.0,327.0,419.0,628.0,572.0,676.0,490.0,464.0,780.0,0.0,367.0,374.0,708.0,904.0,674.0,174.0,371.0,931.0,368.0,400.0,871.0,490.0,641.0,446.0,502.0,370.0,572.0,639.0,439.0,492.0,374.0,215.0,364.0,954.0,424.0,562.0,575.0,412.0,198.0,437.0,562.0,540.0,963.0,502.0,359.0,575.0,510.0,348.0,588.0,343.0,350.0,438.0,417.0,685.0,790.0,492.0,444.0,952.0,415.0,639.0,574.0,562.0,915.0,934.0,282.0,575.0,830.0,329.0,529.0,729.0,622.0,315.0,316.0,402.0,630.0,213.0,868.0,575.0,486.0,438.0,503.0,977.0,653.0,253.0,857.0,422.0,965.0,390.0,204.0,304.0,715.0,787.0,750.0,270.0,588.0,951.0,893.0,494.0,906.0,810.0,469.0,554.0,397.0,919.0,715.0,800.0,823.0,516.0,492.0,641.0,534.0,355.0,318.0,442.0,148.0,486.0,628.0,588.0,395.0,596.0,550.0,562.0,437.0,220.0,128.0,782.0,687.0,329.0,219.0,406.0,327.0,750.0,227.0,446.0,475.0,450.0,366.0,426.0,360.0,534.0,655.0,575.0,261.0,691.0,529.0,403.0,952.0,615.0,502.0,434.0,921.0,800.0,410.0,626.0,632.0,747.0,912.0,498.0,344.0,873.0,910.0,344.0,538.0,420.0,868.0,182.0,300.0,857.0,552.0,717.0,827.0,930.0,777.0,95.0,233.0,398.0,705.0,475.0,311.0,584.0,384.0,383.0,380.0,575.0,517.0,620.0,488.0,415.0,797.0,962.0,359.0,278.0,460.0,334.0,598.0,490.0,873.0,488.0,373.0,560.0,575.0,360.0,366.0,440.0,308.0,291.0,953.0,250.0,641.0,603.0,433.0,575.0,575.0,419.0,237.0,473.0,575.0,575.0,705.0,311.0,814.0,311.0,600.0,397.0,777.0,411.0,276.0,512.0,700.0,377.0,496.0,703.0,613.0,903.0,884.0,575.0,785.0,246.0,691.0,902.0,568.0,613.0,592.0,603.0,560.0,598.0,575.0,99.0,888.0,379.0,407.0,375.0,222.0,871.0,494.0,940.0,745.0,811.0,402.0,907.0,352.0,910.0,378.0,800.0,534.0,483.0,443.0,389.0,233.0,548.0,411.0,538.0,534.0,368.0,575.0,911.0,719.0,974.0,814.0,208.0,394.0,609.0,572.0,259.0,479.0,387.0,327.0,374.0,346.0,800.0,490.0,394.0,922.0,525.0,195.0,311.0,919.0,378.0,297.0,800.0,643.0,544.0,389.0,632.0,726.0,417.0,680.0,615.0,116.0,575.0,575.0,426.0,220.0,437.0,963.0,850.0,733.0,371.0,575.0,562.0,239.0,97.0,576.0,743.0,830.0,365.0,554.0,261.0,309.0,259.0,488.0,369.0,745.0,668.0,372.0,888.0,152.0,516.0,510.0,368.0,164.0,439.0,514.0,910.0,192.0,492.0,344.0,624.0,575.0,354.0,952.0,643.0,657.0,708.0,395.0,329.0,180.0,542.0,657.0,611.0,527.0,350.0,473.0,900.0,655.0,437.0,421.0,390.0,875.0,534.0,124.0,297.0,475.0,768.0,282.0,600.0,768.0,546.0,712.0,417.0,536.0,313.0,836.0,219.0,785.0,424.0,456.0,635.0,733.0,797.0,560.0,442.0,743.0,820.0,575.0,836.0,379.0,590.0,738.0,148.0,904.0,575.0,575.0,624.0,948.0,575.0,208.0,442.0,302.0,233.0,360.0,467.0,950.0,674.0,389.0,956.0,156.0,417.0,410.0,703.0,635.0,575.0,873.0,655.0,618.0,437.0,645.0,755.0,726.0,228.0,676.0,354.0,533.0,877.0,334.0,510.0,115.0,434.0,544.0,884.0,270.0,422.0,471.0,462.0,308.0,454.0,382.0,525.0,645.0,282.0,575.0,955.0,385.0,575.0,574.0,517.0,352.0,233.0,394.0,367.0,643.0,287.0,224.0,953.0,733.0,158.0,657.0,827.0,274.0,257.0,133.0,882.0,369.0,452.0,763.0,853.0,795.0,228.0,668.0,888.0,139.0,960.0,676.0,576.0,419.0,444.0,362.0,906.0,374.0,467.0,908.0,575.0,531.0,558.0,446.0,726.0,724.0,0.0,390.0,607.0,99.0,554.0,434.0,641.0,417.0,246.0,466.0,722.0,850.0,407.0,609.0,295.0,339.0,504.0,903.0,425.0,630.0,363.0,224.0,600.0,417.0,780.0,575.0,124.0,519.0,373.0,329.0,396.0,125.0,836.0,678.0,719.0,955.0,421.0,575.0,452.0,497.0,857.0,475.0,398.0,446.0,96.0,500.0,722.0,952.0,641.0,575.0,466.0,513.0,171.0,244.0,663.0,517.0,955.0,855.0,182.0,525.0,293.0,745.0,624.0,575.0,763.0,469.0,695.0,956.0,868.0,363.0,397.0,911.0,302.0,708.0,575.0,506.0,494.0,538.0,782.0,712.0,954.0,780.0,392.0,902.0,902.0,446.0,700.0,437.0,486.0,211.0,973.0,823.0,250.0,217.0,502.0,434.0,397.0,460.0,588.0,488.0,550.0,682.0,600.0,145.0,304.0,577.0,198.0,814.0,862.0,343.0,747.0,594.0,488.0,456.0,494.0,240.0,558.0,956.0,479.0,131.0,592.0,517.0,369.0,830.0,398.0,263.0,795.0,200.0,363.0,715.0,780.0,261.0,575.0,391.0,657.0,613.0,708.0,647.0,592.0,908.0,670.0,303.0,437.0,323.0,733.0,674.0,512.0,533.0,435.0,622.0,397.0,255.0,546.0,576.0,456.0,575.0,575.0,510.0,868.0,708.0,596.0,337.0,942.0,390.0,222.0,176.0,96.0,366.0,192.0,792.0,596.0,469.0,492.0,533.0,454.0,574.0,572.0,527.0,607.0,562.0,158.0,473.0,575.0,384.0,257.0,318.0,406.0,147.0,396.0,921.0,575.0,325.0,242.0,717.0,931.0,927.0,406.0,452.0,902.0,390.0,630.0,228.0,902.0,676.0,368.0,447.0,653.0,933.0,156.0,566.0,570.0,353.0,731.0,406.0,680.0,280.0,510.0,650.0,930.0,693.0,158.0,519.0,389.0,471.0,620.0,575.0,904.0,600.0,446.0,512.0,141.0,371.0,921.0,884.0,200.0,438.0,575.0,318.0,575.0,552.0,167.0,590.0,369.0,322.0,148.0,415.0,753.0,426.0,357.0,558.0,912.0,534.0,594.0,814.0,379.0,353.0,736.0,930.0,419.0,434.0,785.0,270.0,302.0,566.0,575.0,797.0,560.0,467.0,558.0,176.0,726.0,952.0,810.0,337.0,135.0,575.0,370.0,293.0,392.0,122.0,426.0,352.0,917.0,963.0,265.0,882.0,672.0,955.0,182.0,355.0,255.0,622.0,484.0,159.0,352.0,765.0,437.0,540.0,738.0,959.0,367.0,897.0,386.0,311.0,639.0,153.0,859.0,929.0,483.0,327.0,521.0,613.0,380.0,575.0,773.0,402.0,685.0,680.0,404.0,687.0,536.0,263.0,381.0,576.0,304.0,722.0,575.0,391.0,364.0,396.0,114.0,270.0,486.0,561.0,504.0,575.0,89.0,514.0,369.0,800.0,512.0,508.0,575.0,906.0,527.0,504.0,575.0,519.0,354.0,763.0,521.0,416.0,556.0,240.0,823.0,183.0,785.0,755.0,466.0,919.0,946.0,211.0,533.0,592.0,703.0,403.0,248.0,466.0,943.0,295.0,726.0,630.0,944.0,255.0,980.0,647.0,637.0,469.0,950.0,657.0,531.0,736.0,220.0,575.0,857.0,928.0,367.0,743.0,460.0,467.0,564.0,576.0,859.0,731.0,400.0,575.0,297.0,700.0,473.0,448.0,830.0,366.0,150.0,823.0,953.0,575.0,250.0,630.0,566.0,391.0,408.0,394.0,911.0,346.0,624.0,575.0,643.0,523.0,689.0,494.0,544.0,823.0,546.0,930.0,810.0,925.0,492.0,346.0,575.0,263.0,564.0,373.0,575.0,374.0,403.0,446.0,546.0,167.0,736.0,857.0,626.0,132.0,450.0,107.0,417.0,360.0,866.0,473.0,850.0,956.0,355.0,575.0,546.0,123.0,554.0,665.0,554.0,380.0,383.0,956.0,575.0,126.0,882.0,404.0,533.0,800.0,959.0,536.0,366.0,309.0,359.0,325.0,382.0,510.0,486.0,800.0,575.0,533.0,392.0,448.0,394.0,747.0,484.0,884.0,259.0,462.0,337.0,510.0,575.0,467.0,859.0,311.0,594.0,693.0,624.0,350.0,481.0,257.0,429.0,202.0,575.0,693.0,657.0,383.0,903.0,575.0,348.0,846.0,643.0,562.0,437.0,486.0,653.0,380.0,823.0,488.0,98.0,350.0,99.0,366.0,371.0,765.0,0.0,787.0,910.0,454.0,454.0,233.0,693.0,855.0,575.0,246.0,483.0,674.0,722.0,523.0,954.0,381.0,176.0,765.0,359.0,850.0,910.0,413.0,460.0,415.0,170.0,104.0,0.0,954.0,352.0,959.0,130.0,514.0,145.0,419.0,383.0,659.0,460.0,575.0,510.0,180.0,908.0,575.0,444.0,228.0,373.0,0.0,582.0,780.0,564.0,460.0,755.0,552.0,804.0,477.0,500.0,575.0,494.0,682.0,421.0,125.0,447.0,435.0,687.0,397.0,533.0,337.0,556.0,575.0,435.0,389.0,112.0,955.0,420.0,394.0,93.0,618.0,360.0,268.0,954.0,417.0,906.0,395.0,609.0,329.0,492.0,663.0,368.0,546.0,394.0,663.0,685.0,295.0,576.0,109.0,287.0,424.0,390.0,817.0,360.0,624.0,763.0,208.0,219.0,378.0,437.0,782.0,763.0,700.0,674.0,174.0,348.0,467.0,823.0,731.0,293.0,840.0,424.0,443.0,780.0,584.0,750.0,763.0,270.0,460.0,622.0,398.0,315.0,787.0,562.0,404.0,575.0,825.0,257.0,395.0,817.0,963.0,529.0,611.0,313.0,523.0,274.0,780.0,611.0,162.0,438.0,630.0,906.0,820.0,477.0,592.0,888.0,859.0,118.0,246.0,185.0,710.0,624.0,575.0,422.0,953.0,546.0,740.0,124.0,136.0,724.0,327.0,438.0,359.0,392.0,747.0,888.0,306.0,780.0,687.0,168.0,780.0,519.0,295.0,386.0,462.0,456.0,536.0,391.0,406.0,913.0,162.0,926.0,408.0,149.0,575.0,113.0,344.0,460.0,936.0,460.0,700.0,935.0,745.0,693.0,153.0,745.0,411.0,544.0,508.0,731.0,313.0,392.0,393.0,369.0,575.0,498.0,253.0,339.0,645.0,99.0,575.0,773.0,782.0,415.0,455.0,438.0,293.0,657.0,356.0,398.0,438.0,447.0,219.0,641.0,695.0,804.0,544.0,804.0,575.0,750.0,933.0,311.0,257.0,368.0,795.0,529.0,374.0,170.0,785.0,0.0,720.0,957.0,560.0,650.0,700.0,431.0,379.0,653.0,118.0,655.0,244.0,371.0,300.0,425.0,575.0,659.0,961.0,956.0,496.0,697.0,149.0,293.0,0.0,109.0,517.0,594.0,938.0,566.0,308.0,197.0,562.0,533.0,440.0,208.0,282.0,257.0,500.0,397.0,425.0,693.0,379.0,98.0,700.0,125.0,950.0,575.0,434.0,930.0,408.0,820.0,188.0,219.0,233.0,293.0,792.0,708.0,367.0,676.0,736.0,674.0,316.0,410.0,426.0,850.0,755.0,519.0,647.0,502.0,516.0,540.0,862.0,407.0,323.0,668.0,164.0,371.0,386.0,392.0,186.0,670.0,740.0,760.0,440.0,678.0,790.0,364.0,141.0,300.0,304.0,325.0,370.0,755.0,365.0,529.0,488.0,394.0,814.0,575.0,336.0,630.0,285.0,344.0,922.0,389.0,568.0,496.0,836.0,372.0,380.0,194.0,570.0,170.0,795.0,540.0,575.0,682.0,743.0,150.0,910.0,846.0,736.0,575.0,415.0,174.0,836.0,437.0,224.0,418.0,641.0,560.0,479.0,365.0,931.0,91.0,323.0,255.0,384.0,390.0,517.0,467.0,736.0,743.0,693.0,473.0,226.0,618.0,318.0,820.0,350.0,575.0,864.0,575.0,259.0,306.0,926.0,233.0,494.0,311.0,663.0,366.0,889.0,708.0,689.0,731.0,588.0,206.0,385.0,552.0,957.0,235.0,370.0,350.0,560.0,717.0,295.0,657.0,437.0,575.0,575.0,534.0,230.0,575.0,149.0,446.0,410.0,657.0,884.0,575.0,738.0,416.0,575.0,743.0,481.0,562.0,653.0,278.0,194.0,94.0,575.0,964.0,130.0,552.0,850.0,0.0,454.0,337.0,536.0,743.0,578.0,879.0,431.0,906.0,529.0,431.0,224.0,422.0,560.0,390.0,343.0,390.0,580.0,523.0,332.0,884.0,556.0,454.0,575.0,502.0,363.0,750.0,417.0,492.0,458.0,592.0,403.0,323.0,364.0,506.0,827.0,373.0,393.0,953.0,490.0,800.0,323.0,622.0,374.0,624.0,724.0,605.0,871.0,429.0,437.0,373.0,411.0,496.0,408.0,341.0,740.0,871.0,843.0,575.0,529.0,506.0,903.0,397.0,406.0,760.0,731.0,523.0,944.0,396.0,570.0,350.0,615.0,897.0,263.0,724.0,115.0,622.0,960.0,502.0,255.0,611.0,823.0,981.0,630.0,330.0,562.0,510.0,542.0,179.0,161.0,0.0,632.0,840.0,462.0,460.0,550.0,866.0,768.0,637.0,118.0,800.0,627.0,575.0,394.0,743.0,381.0,397.0,937.0,546.0,230.0,657.0,622.0,850.0,311.0,139.0,430.0,508.0,582.0,500.0,925.0,755.0,373.0,404.0,546.0,823.0,548.0,424.0,674.0,575.0,323.0,420.0,372.0,830.0,479.0,477.0,575.0,807.0,738.0,508.0,244.0,747.0,400.0,417.0,637.0,502.0,139.0,211.0,575.0,792.0,628.0,630.0,311.0,397.0,766.0,516.0,893.0,434.0,592.0,538.0,171.0,407.0,575.0,435.0,572.0,527.0,500.0,440.0,562.0,607.0,356.0,546.0,220.0,425.0,402.0,323.0,168.0,745.0,479.0,263.0,888.0,670.0,516.0,295.0,450.0,529.0,452.0,365.0,382.0,435.0,626.0,508.0,951.0,98.0,763.0,366.0,750.0,930.0,498.0,800.0,609.0,919.0,910.0,133.0,376.0,143.0,486.0,575.0,618.0,198.0,891.0,570.0,274.0,575.0,919.0,903.0,875.0,182.0,320.0,891.0,337.0,674.0,902.0,529.0,960.0,373.0,458.0,760.0,402.0,282.0,576.0,904.0,943.0,302.0,691.0,850.0,903.0,179.0,800.0,224.0,393.0,575.0,330.0,386.0,105.0,417.0,843.0,274.0,884.0,484.0,700.0,575.0,928.0,359.0,381.0,689.0,192.0,177.0,411.0,360.0,953.0,724.0,502.0,931.0,891.0,755.0,355.0,575.0,575.0,755.0,374.0,712.0,237.0,402.0,123.0,575.0,570.0,549.0,355.0,434.0,515.0,873.0,566.0,570.0,568.0,641.0,963.0,550.0,224.0,510.0,731.0,329.0,525.0,517.0,311.0,145.0,177.0,313.0,643.0,393.0,950.0,417.0,126.0,912.0,397.0,378.0,864.0,498.0,383.0,391.0,957.0,339.0,395.0,357.0,588.0,897.0,959.0,738.0,575.0,540.0,572.0,937.0,419.0,359.0,952.0,464.0,397.0,162.0,592.0,111.0,308.0,228.0,609.0,217.0,975.0,533.0,430.0,574.0,846.0,787.0,406.0,620.0,637.0,464.0,313.0,377.0,113.0,469.0,415.0,350.0,884.0,407.0,575.0,710.0,379.0,960.0,733.0,618.0,944.0,770.0,605.0,554.0,82.0,687.0,419.0,952.0,790.0,609.0,641.0,708.0,953.0,367.0,383.0,368.0,403.0,364.0,454.0,306.0,348.0,823.0,359.0,412.0,641.0,782.0,964.0,0.0,562.0,263.0,120.0,584.0,220.0,743.0,582.0,703.0,424.0,118.0,663.0,108.0,435.0,564.0,437.0,222.0,400.0,341.0,407.0,708.0,462.0,309.0,540.0,235.0,635.0,672.0,763.0,373.0,186.0,462.0,886.0,498.0,492.0,374.0,343.0,176.0,516.0,580.0,170.0,233.0,197.0,471.0,592.0,462.0,488.0,438.0,931.0,416.0,334.0,280.0,191.0,350.0,862.0,259.0,272.0,763.0,726.0,523.0,820.0,242.0,293.0,726.0,755.0,424.0,148.0,404.0,202.0,486.0,352.0,327.0,777.0,378.0,512.0,358.0,550.0,538.0,447.0,910.0,467.0,607.0,554.0,139.0,954.0,343.0,830.0,215.0,146.0,575.0,402.0,374.0,202.0,969.0,304.0,376.0,800.0,194.0,956.0,291.0,200.0,389.0,592.0,490.0,400.0,807.0,407.0,585.0,508.0,127.0,733.0,167.0,242.0,362.0,951.0,287.0,419.0,428.0,230.0,703.0,410.0,580.0,514.0,508.0,956.0,379.0,665.0,389.0,406.0,615.0,240.0,237.0,454.0,396.0,556.0,611.0,785.0,343.0,823.0,538.0,320.0,158.0,814.0,473.0,930.0,313.0,406.0,311.0,641.0,566.0,575.0,274.0,689.0,435.0,471.0,407.0,428.0,933.0,795.0,952.0,540.0,373.0,897.0,607.0,411.0,575.0,575.0,381.0,378.0,393.0,460.0,370.0,375.0,596.0,504.0,817.0,954.0,168.0,233.0,630.0,575.0,678.0,516.0,552.0,125.0,129.0,514.0,506.0,433.0,417.0,380.0,544.0,475.0,873.0,448.0,341.0,477.0,736.0,552.0,891.0,536.0,685.0,519.0,875.0,910.0,514.0,533.0,354.0,626.0,379.0,244.0,574.0,943.0,600.0,575.0,960.0,360.0,280.0,971.0,895.0,738.0,304.0,508.0,395.0,389.0,542.0,973.0,560.0,568.0,582.0,208.0,582.0,143.0,548.0,777.0,873.0,155.0,736.0,374.0,274.0,323.0,542.0,496.0,962.0,460.0,258.0,398.0,738.0,950.0,615.0,850.0,486.0,584.0,562.0,268.0,519.0,471.0,477.0,680.0,797.0,521.0,814.0,446.0,437.0,554.0,952.0,153.0,575.0,407.0,348.0,408.0,450.0,479.0,416.0,280.0,318.0,574.0,628.0,311.0,760.0,156.0,884.0,572.0,330.0,336.0,956.0,722.0,708.0,240.0,434.0,939.0,125.0,380.0,643.0,391.0,385.0,546.0,387.0,444.0,921.0,179.0,575.0,952.0,475.0,575.0,395.0,552.0,653.0,87.0,375.0,570.0,643.0,814.0,572.0,295.0,368.0,417.0,397.0,396.0,366.0,162.0,477.0,611.0,141.0,750.0,174.0,434.0,295.0,517.0,653.0,624.0,731.0,558.0,575.0,442.0,843.0,570.0,931.0,924.0,420.0,473.0,958.0,575.0,639.0,133.0,404.0,804.0,434.0,575.0,435.0,689.0,603.0,516.0,792.0,469.0,377.0,971.0,866.0,800.0,768.0,371.0,246.0,645.0,607.0,747.0,99.0,672.0,780.0,479.0,807.0,344.0,700.0,680.0,641.0,356.0,951.0,415.0,575.0,556.0,575.0,768.0,855.0,795.0,584.0,663.0,417.0,494.0,417.0,415.0,930.0,598.0,823.0,315.0,382.0,717.0,534.0,738.0,722.0,846.0,389.0,904.0,186.0,438.0,444.0,308.0,546.0,855.0,674.0,955.0,450.0,657.0,318.0,873.0,663.0,429.0,475.0,956.0,668.0,426.0,575.0,635.0,907.0,469.0,668.0,884.0,558.0,95.0,611.0,562.0,647.0,575.0,259.0,411.0,782.0,150.0,542.0,574.0,446.0,396.0,570.0,244.0,695.0,495.0,615.0,572.0,447.0,534.0,575.0,145.0,830.0,873.0,670.0,939.0,155.0,879.0,846.0,270.0,777.0,104.0,309.0,695.0,371.0,85.0,552.0,862.0,740.0,823.0,548.0,488.0,320.0,575.0,426.0,687.0,512.0,448.0,657.0,197.0,494.0,182.0,382.0,215.0,575.0,952.0,850.0,600.0,311.0,582.0,932.0,792.0,657.0,952.0,332.0,237.0,873.0,426.0,396.0,285.0,494.0,274.0,182.0,437.0,575.0,359.0,566.0,875.0,330.0,362.0,618.0,523.0,921.0,575.0,355.0,618.0,955.0,961.0,378.0,110.0,773.0,265.0,622.0,148.0,235.0,407.0,763.0,578.0,500.0,446.0,587.0,548.0,435.0,687.0,655.0,185.0,562.0,670.0,447.0,736.0,792.0,189.0,570.0,647.0,550.0,322.0,575.0,413.0,693.0,605.0,410.0,304.0,575.0,183.0,695.0,546.0,344.0,483.0,490.0,925.0,104.0,817.0,758.0,733.0,575.0,174.0,904.0,715.0,575.0,790.0,506.0,913.0,635.0,533.0,575.0,879.0,230.0,431.0,447.0,362.0,810.0,356.0,396.0,168.0,382.0,150.0,504.0,322.0,785.0,366.0,413.0,575.0,996.0,388.0,448.0,572.0,750.0,674.0,676.0,365.0,729.0,97.0,800.0,483.0,450.0,882.0,959.0,117.0,362.0,336.0,552.0,361.0,582.0,448.0,327.0,192.0,961.0,850.0,659.0,339.0,715.0,758.0,118.0,609.0,575.0,674.0,575.0,566.0,504.0,592.0,504.0,659.0,375.0,139.0,635.0,494.0,792.0,421.0,483.0,484.0,417.0,370.0,481.0,265.0,575.0,438.0,446.0,392.0,575.0,215.0,206.0,900.0,488.0,529.0,380.0,488.0,726.0,797.0,248.0,397.0,330.0,426.0,413.0,554.0,318.0,437.0,416.0,475.0,473.0,970.0,768.0,820.0,397.0,755.0,103.0,417.0,738.0,384.0,575.0,477.0,519.0,278.0,162.0,268.0,820.0,823.0,906.0,508.0,777.0,440.0,397.0,575.0,590.0,394.0,962.0,270.0,379.0,605.0,637.0,556.0,395.0,282.0,442.0,369.0,362.0,531.0,743.0,244.0,167.0,339.0,469.0,380.0,574.0,568.0,800.0,155.0,362.0,575.0,404.0,594.0,795.0,921.0,433.0,951.0,900.0,334.0,603.0,486.0,274.0,582.0,429.0,396.0,467.0,504.0,512.0,287.0,426.0,384.0,951.0,246.0,570.0,792.0,373.0,568.0,280.0,421.0,142.0,710.0,376.0,371.0,97.0,580.0,320.0,426.0,359.0,893.0,339.0,738.0,926.0,378.0,710.0,446.0,370.0,139.0,911.0,736.0,613.0,219.0,500.0,498.0,512.0,643.0,668.0,353.0,362.0,278.0,934.0,575.0,912.0,689.0,429.0,431.0,358.0,348.0,575.0,388.0,446.0,394.0,516.0,598.0,392.0,382.0,276.0,435.0,240.0,663.0,674.0,750.0,411.0,862.0,460.0,653.0,327.0,805.0,572.0,448.0,375.0,392.0,212.0,0.0,311.0,362.0,430.0,693.0,817.0,836.0,153.0,859.0,855.0,386.0,369.0,496.0,237.0,443.0,674.0,661.0,868.0,750.0,410.0,192.0,743.0,575.0,272.0,645.0,857.0,350.0,306.0,413.0,689.0,800.0,653.0,309.0,469.0,729.0,415.0,943.0,368.0,924.0,546.0,282.0,394.0,955.0,192.0,710.0,546.0,373.0,397.0,888.0,429.0,517.0,946.0,919.0,179.0,304.0,536.0,239.0,893.0,416.0,304.0,374.0,496.0,378.0,375.0,908.0,827.0,412.0,282.0,800.0,575.0,954.0,672.0,406.0,255.0,575.0,697.0,575.0,431.0,782.0,575.0,689.0,376.0,460.0,322.0,376.0,486.0,533.0,438.0,641.0,575.0,161.0,531.0,500.0,391.0,391.0,575.0,382.0,715.0,454.0,406.0,439.0,506.0,240.0,323.0,355.0,529.0,902.0,265.0,372.0,246.0,410.0,385.0,387.0,886.0,836.0,381.0,182.0,311.0,289.0,226.0,318.0,198.0,359.0,313.0,355.0,624.0,377.0,635.0,255.0,381.0,846.0,363.0,424.0,377.0,204.0,598.0,407.0,845.0,489.0,697.0,295.0,323.0,287.0,533.0,165.0,672.0,592.0,389.0,966.0,270.0,422.0,647.0,382.0,488.0,357.0,792.0,265.0,438.0,950.0,435.0,782.0,134.0,407.0,397.0,611.0,355.0,930.0,893.0,124.0,337.0,663.0,902.0,913.0,443.0,568.0,657.0,639.0,202.0,393.0,618.0,104.0,419.0,575.0,653.0,381.0,246.0,888.0,940.0,665.0,406.0,464.0,382.0,170.0,383.0,446.0,126.0,215.0,417.0,605.0,760.0,531.0,352.0,668.0,920.0,95.0,775.0,316.0,743.0,575.0,355.0,322.0,259.0,118.0,407.0,833.0,313.0,329.0,460.0,753.0,375.0,381.0,383.0,726.0,439.0,471.0,693.0,575.0,148.0,685.0,443.0,413.0,158.0,274.0,396.0,952.0,655.0,575.0,170.0,964.0,108.0,192.0,519.0,850.0,760.0,372.0,440.0,731.0,820.0,387.0,413.0,336.0,439.0,576.0,603.0,740.0,393.0,588.0,97.0,437.0,143.0,695.0,575.0,768.0,780.0,407.0,797.0,575.0,370.0,575.0,586.0,895.0,600.0,670.0,907.0,618.0,554.0,365.0,466.0,382.0,533.0,341.0,953.0,492.0,566.0,473.0,575.0,719.0,406.0,339.0,613.0,382.0,390.0,916.0,810.0,380.0,375.0,472.0,375.0,442.0,359.0,391.0,790.0,365.0,590.0,780.0,928.0,564.0,575.0,765.0,674.0,575.0,384.0,641.0,416.0,836.0,768.0,920.0,194.0,136.0,575.0,119.0,344.0,471.0,350.0,387.0,590.0,403.0,689.0,118.0,670.0,450.0,293.0,135.0,939.0,665.0,380.0,575.0,668.0,884.0,607.0,189.0,594.0,182.0,575.0,388.0,116.0,575.0,871.0,510.0,246.0,434.0,575.0,665.0,456.0,514.0,893.0,911.0,554.0,736.0,143.0,287.0,645.0,442.0,536.0,339.0,311.0,747.0,300.0,250.0,745.0,147.0,343.0,359.0,467.0,758.0,637.0,488.0,575.0,304.0,955.0,397.0,596.0,950.0,240.0,382.0,442.0,280.0,888.0,575.0,575.0,365.0,139.0,404.0,575.0,434.0,200.0,366.0,132.0,389.0,954.0,691.0,438.0,950.0,366.0,635.0,575.0,263.0,726.0,278.0,171.0,575.0,933.0,615.0,800.0,350.0,592.0,152.0,572.0,900.0,417.0,952.0,393.0,738.0,519.0,430.0,575.0,760.0,843.0,717.0,257.0,320.0,138.0,823.0,773.0,464.0,381.0,575.0,833.0,240.0,380.0,438.0,632.0,165.0,868.0,560.0,525.0,189.0,687.0,575.0,594.0,613.0,217.0,362.0,132.0,533.0,442.0,485.0,293.0,428.0,424.0,888.0,873.0,820.0,174.0,488.0,208.0,95.0,550.0,552.0,588.0,882.0,164.0,953.0,380.0,517.0,650.0,554.0,355.0,575.0,695.0,866.0,458.0,965.0,300.0,485.0,149.0,360.0,0.0,575.0,412.0,715.0,446.0,235.0,624.0,488.0,391.0,443.0,164.0,588.0,593.0,546.0,156.0,740.0,592.0,695.0,907.0,483.0,318.0,534.0,575.0,170.0,473.0,603.0,956.0,717.0,533.0,958.0,875.0,384.0,496.0,864.0,315.0,500.0,900.0,919.0,510.0,391.0,344.0,703.0,685.0,407.0,647.0,282.0,318.0,951.0,508.0,374.0,402.0,615.0,323.0,516.0,930.0,134.0,915.0,471.0,944.0,407.0,304.0,488.0,575.0,411.0,272.0,956.0,953.0,911.0,323.0,903.0,435.0,83.0,270.0,419.0,475.0,857.0,211.0,464.0,446.0,428.0,452.0,369.0,755.0,183.0,738.0,494.0,924.0,529.0,334.0,136.0,483.0,430.0,313.0,582.0,523.0,402.0,437.0,777.0,391.0,448.0,575.0,724.0,469.0,790.0,674.0,546.0,712.0,278.0,383.0,450.0,398.0,600.0,935.0,198.0,850.0,542.0,800.0,708.0,968.0,206.0,575.0,460.0,119.0,341.0,490.0,464.0,197.0,173.0,866.0,836.0,576.0,900.0,942.0,747.0,367.0,695.0,237.0,562.0,309.0,422.0,782.0,124.0,540.0,448.0,820.0,578.0,420.0,533.0,954.0,840.0,575.0,963.0,311.0,517.0,689.0,471.0,575.0,910.0,575.0,571.0,153.0,902.0,554.0,511.0,148.0,253.0,572.0,446.0,814.0,430.0,952.0,343.0,400.0,657.0,974.0,753.0,661.0,334.0,877.0,385.0,364.0,346.0,738.0,404.0,372.0,868.0,170.0,952.0,726.0,167.0,108.0,546.0,632.0,359.0,467.0,575.0,316.0,476.0,912.0,467.0,417.0,514.0,575.0,415.0,215.0,502.0,582.0,429.0,395.0,323.0,810.0,362.0,950.0,951.0,913.0,687.0,404.0,388.0,466.0,195.0,496.0,400.0,512.0,693.0,919.0,237.0,517.0,194.0,701.0,939.0,868.0,415.0,674.0,206.0,464.0,745.0,389.0,475.0,377.0,446.0,412.0,868.0,407.0,397.0,471.0,222.0,431.0,862.0,446.0,517.0,217.0,235.0,578.0,554.0,330.0,580.0,659.0,397.0,954.0,639.0,422.0,768.0,575.0,327.0,919.0,278.0,344.0,147.0,575.0,596.0,233.0,146.0,790.0,456.0,115.0,926.0,371.0,420.0,954.0,417.0,624.0,306.0,731.0,695.0,647.0,310.0,891.0,611.0,645.0,919.0,747.0,191.0,689.0,407.0,628.0,724.0,592.0,318.0,479.0,362.0,611.0,374.0,408.0,512.0,927.0,575.0,900.0,643.0,306.0,800.0,377.0,697.0,348.0,594.0,552.0,787.0,546.0,431.0,406.0,715.0,481.0,270.0,488.0,719.0,170.0,888.0,613.0,562.0,95.0,407.0,98.0,836.0,630.0,961.0,846.0,758.0,380.0,663.0,97.0,447.0,729.0,354.0,466.0,150.0,930.0,950.0,558.0,575.0,446.0,400.0,183.0,575.0,886.0,358.0,637.0,376.0,572.0,304.0,886.0,204.0,492.0,674.0,635.0,575.0,417.0,446.0,448.0,382.0,584.0,115.0,208.0,217.0,394.0,902.0,384.0,820.0,782.0,733.0,394.0,488.0,395.0,916.0,866.0,611.0,381.0,981.0,576.0,710.0,785.0,412.0,538.0,919.0,916.0,107.0,755.0,687.0,379.0,952.0,575.0,250.0,615.0,917.0,255.0,360.0,0.0,426.0,820.0,650.0,792.0,336.0,950.0,546.0,231.0,672.0,240.0,198.0,575.0,516.0,426.0,533.0,647.0,268.0,695.0,886.0,364.0,575.0,392.0,758.0,506.0,242.0,327.0,525.0,925.0,391.0,622.0,933.0,368.0,708.0,485.0,206.0,620.0,316.0,726.0,765.0,760.0,435.0,575.0,817.0,712.0,575.0,580.0,575.0,586.0,777.0,575.0,364.0,738.0,618.0,359.0,590.0,248.0,575.0,893.0,712.0,373.0,594.0,378.0,680.0,272.0,678.0,611.0,370.0,907.0,668.0,566.0,618.0,575.0,320.0,763.0,575.0,440.0,464.0,484.0,371.0,437.0,953.0,300.0,390.0,674.0,884.0,647.0,780.0,785.0,456.0,167.0,641.0,576.0,391.0,575.0,434.0,550.0,624.0,674.0,609.0,322.0,575.0,760.0,637.0,575.0,318.0,447.0,868.0,859.0,479.0,882.0,804.0,797.0,562.0,368.0,823.0,363.0,108.0,346.0,519.0,951.0,391.0,911.0,346.0,323.0,425.0,705.0,930.0,329.0,609.0,954.0,0.0,576.0,782.0,770.0,348.0,756.0,369.0,952.0,483.0,293.0,235.0,643.0,546.0,747.0,483.0,542.0,217.0,389.0,575.0,361.0,385.0,446.0,575.0,578.0,385.0,462.0,437.0,708.0,550.0,488.0,710.0,575.0,366.0,564.0,125.0,297.0,0.0,380.0,419.0,868.0,496.0,380.0,650.0,540.0,447.0,645.0,558.0,222.0,609.0,743.0,575.0,458.0,729.0,370.0,544.0,729.0,843.0,960.0,705.0,750.0,443.0,575.0,475.0,323.0,443.0,661.0,337.0,492.0,911.0,364.0,650.0,575.0,512.0,893.0,396.0,435.0,560.0,590.0,356.0,575.0,508.0,703.0,911.0,398.0,659.0,466.0,348.0,460.0,426.0,916.0,332.0,233.0,382.0,556.0,740.0,956.0,348.0,575.0,366.0,220.0,687.0,208.0,492.0,380.0,550.0,823.0,546.0,519.0,350.0,375.0,613.0,575.0,437.0,443.0,327.0,920.0,632.0,359.0,879.0,426.0,391.0,525.0,952.0,508.0,558.0,484.0,276.0,424.0,691.0,674.0,218.0,365.0,419.0,639.0,158.0,235.0,130.0,981.0,385.0,952.0,531.0,510.0,575.0,479.0,412.0,586.0,155.0,665.0,350.0,400.0,672.0,392.0,951.0,810.0,676.0,800.0,916.0,715.0,426.0,138.0,726.0,334.0,710.0,194.0,624.0,712.0,763.0,782.0,684.0,473.0,334.0,950.0,389.0,362.0,359.0,568.0,962.0,336.0,575.0,738.0,404.0,359.0,500.0,807.0,678.0,369.0,523.0,620.0,862.0,687.0,760.0,431.0,496.0,823.0,833.0,584.0,479.0,237.0,753.0,213.0,356.0,919.0,605.0,446.0,575.0,424.0,350.0,242.0,191.0,810.0,957.0,731.0,940.0,202.0,421.0,952.0,428.0,747.0,510.0,306.0,488.0,810.0,336.0,588.0,259.0,797.0,357.0,911.0,356.0,434.0,533.0,408.0,143.0,668.0,443.0,402.0,504.0,486.0,390.0,544.0,411.0,643.0,291.0,979.0,334.0,0.0,295.0,417.0,620.0,308.0,850.0,533.0,121.0,293.0,911.0,833.0,219.0,492.0,386.0,407.0,413.0,637.0,663.0,276.0,575.0,494.0,448.0,523.0,855.0,378.0,108.0,430.0,452.0,380.0,506.0,777.0,508.0,715.0,481.0,332.0,575.0,586.0,194.0,395.0,628.0,255.0,871.0,506.0,379.0,921.0,179.0,486.0,550.0,368.0,641.0,492.0,150.0,575.0,554.0,552.0,403.0,800.0,373.0,450.0,341.0,246.0,92.0,397.0,488.0,460.0,413.0,211.0,575.0,142.0,600.0,575.0,634.0,912.0,504.0,967.0,833.0,125.0,146.0,817.0,170.0,446.0,337.0,668.0,575.0,446.0,516.0,475.0,674.0,542.0,215.0,693.0,843.0,833.0,444.0,575.0,295.0,502.0,955.0,426.0,0.0,488.0,374.0,533.0,953.0,344.0,280.0,445.0,403.0,424.0,641.0,575.0,639.0,753.0,107.0,592.0,575.0,408.0,253.0,366.0,534.0,700.0,494.0,433.0,632.0,763.0,575.0,452.0,777.0,366.0,450.0,948.0,280.0,575.0,318.0,710.0,792.0,469.0,308.0,517.0,0.0,153.0,106.0,111.0,496.0,959.0,350.0,594.0,884.0,661.0,916.0,219.0,575.0,350.0,685.0,575.0,469.0,484.0,895.0,197.0,933.0,902.0,383.0,412.0,598.0,395.0,871.0,745.0,527.0,575.0,590.0,268.0,375.0,434.0,913.0,322.0,871.0,448.0,647.0,132.0,352.0,435.0,306.0,908.0,375.0,374.0,857.0,787.0,198.0,506.0,992.0,738.0,372.0,926.0,958.0,708.0,879.0,804.0,807.0,244.0,951.0,613.0,517.0,403.0,508.0,550.0,691.0,170.0,773.0,129.0,467.0,904.0,588.0,109.0,568.0,217.0,738.0,168.0,101.0,466.0,879.0,200.0,689.0,575.0,685.0,139.0,473.0,475.0,800.0,931.0,180.0,496.0,224.0,624.0,390.0,263.0,765.0,768.0,665.0,363.0,951.0,550.0,370.0,364.0,126.0,422.0,428.0,447.0,504.0,655.0,575.0,933.0,174.0,544.0,170.0,438.0,747.0,859.0,189.0,437.0,792.0,308.0,657.0,250.0,609.0,877.0,353.0,483.0,768.0,407.0,202.0,389.0,410.0,580.0,280.0,687.0,291.0,552.0,758.0,142.0,394.0,578.0,904.0,946.0,668.0,873.0,446.0,576.0,311.0,406.0,397.0,415.0,444.0,653.0,440.0,853.0,0.0,574.0,484.0,514.0,424.0,444.0,422.0,866.0,924.0,407.0,323.0,519.0,182.0,517.0,259.0,350.0,415.0,421.0,855.0,313.0,839.0,510.0,384.0,833.0,411.0,313.0,448.0,590.0,562.0,954.0,420.0,380.0,406.0,575.0,368.0,274.0,674.0,387.0,261.0,365.0,206.0,434.0,397.0,678.0,411.0,363.0,508.0,442.0,450.0,626.0,717.0,957.0,323.0,111.0,389.0,637.0,130.0,136.0,700.0,594.0,554.0,745.0,394.0,548.0,456.0,460.0,538.0,792.0,575.0,311.0,390.0,379.0,402.0,285.0,270.0,897.0,318.0,194.0,726.0,919.0,366.0,417.0,192.0,953.0,311.0,787.0,359.0,868.0,575.0,653.0,361.0,637.0,575.0,911.0,440.0,956.0,958.0,149.0,339.0,888.0,90.0,719.0,346.0,450.0,550.0,274.0,575.0,440.0,864.0,402.0,397.0,575.0,382.0,657.0,572.0,862.0,519.0,387.0,375.0,775.0,263.0,481.0,836.0,373.0,334.0,329.0,552.0,693.0,362.0,649.0,255.0,381.0,240.0,407.0,143.0,452.0,787.0,665.0,575.0,177.0,959.0,337.0,738.0,637.0,494.0,785.0,584.0,568.0,138.0,323.0,904.0,575.0,643.0,233.0,257.0,665.0,572.0,396.0,424.0,490.0,768.0,575.0,300.0,892.0,197.0,454.0,823.0,424.0,546.0,663.0,366.0,902.0,402.0,506.0,368.0,395.0,903.0,946.0,620.0,484.0,140.0,924.0,566.0,424.0,740.0,322.0,390.0,255.0,546.0,790.0,575.0,780.0,575.0,817.0,363.0,611.0,953.0,323.0,404.0,94.0,519.0,575.0,785.0,484.0,562.0,661.0,968.0,641.0,434.0,611.0,570.0,398.0,367.0,354.0,259.0,506.0,233.0,334.0,981.0,575.0,197.0,182.0,440.0,354.0,350.0,575.0,864.0,882.0,446.0,680.0,435.0,516.0,167.0,412.0,782.0,194.0,691.0,691.0,425.0,323.0,575.0,222.0,544.0,785.0,374.0,374.0,780.0,369.0,380.0,908.0,943.0,797.0,875.0,308.0,374.0,430.0,450.0,231.0,382.0,121.0,295.0,603.0,882.0,916.0,395.0,374.0,833.0,958.0,339.0,150.0,795.0,832.0,477.0,598.0,129.0,575.0,968.0,120.0,382.0,708.0,743.0,572.0,458.0,391.0,272.0,397.0,653.0,496.0,763.0,484.0,434.0,552.0,452.0,359.0,429.0,592.0,291.0,367.0,381.0,609.0,352.0,682.0,588.0,575.0,397.0,215.0,372.0,708.0,496.0,653.0,263.0,934.0,542.0,426.0,239.0,167.0,253.0,580.0,323.0,951.0,575.0,434.0,430.0,691.0,804.0,426.0,659.0,226.0,738.0,357.0,903.0,542.0,244.0,206.0,127.0,517.0,407.0,434.0,780.0,506.0,460.0,466.0,473.0,925.0,158.0,415.0,402.0,462.0,678.0,397.0,959.0,589.0,379.0,410.0,558.0,782.0,428.0,377.0,871.0,668.0,726.0,763.0,873.0,700.0,383.0,512.0,955.0,391.0,336.0,402.0,308.0,146.0,952.0,562.0,726.0,380.0,897.0,544.0,840.0,592.0,475.0,733.0,439.0,775.0,442.0,0.0,359.0,753.0,107.0,159.0,745.0,514.0,174.0,558.0,304.0,560.0,132.0,961.0,490.0,643.0,350.0,332.0,603.0,877.0,443.0,422.0,394.0,866.0,421.0,575.0,263.0,355.0,302.0,550.0,882.0,592.0,807.0,473.0,224.0,365.0,494.0,475.0,620.0,575.0,575.0,726.0,170.0,712.0,354.0,139.0,407.0,609.0,109.0,576.0,661.0,387.0,670.0,780.0,600.0,424.0,578.0,173.0,183.0,540.0,536.0,641.0,420.0,884.0,924.0,827.0,460.0,904.0,875.0,253.0,682.0,424.0,396.0,402.0,467.0,961.0,329.0,447.0,785.0,372.0,420.0,302.0,933.0,421.0,895.0,613.0,717.0,486.0,337.0,721.0,371.0,325.0,966.0,337.0,481.0,575.0,311.0,775.0,359.0,882.0,952.0,469.0,743.0,964.0,434.0,582.0,300.0,383.0,428.0,546.0,691.0,575.0,374.0,729.0,289.0,289.0,590.0,944.0,354.0,554.0,481.0,507.0,795.0,278.0,797.0,817.0,313.0,274.0,156.0,823.0,632.0,357.0,393.0,787.0,777.0,180.0,826.0,575.0,931.0,357.0,336.0,700.0,685.0,540.0,833.0,93.0,663.0,448.0,443.0,439.0,164.0,710.0,575.0,403.0,415.0,953.0,933.0,665.0,386.0,363.0,443.0,504.0,596.0,544.0,148.0,792.0,359.0,833.0,494.0,637.0,613.0,460.0,607.0,304.0,575.0,508.0,795.0,575.0,280.0,693.0,871.0,402.0,873.0,183.0,504.0,365.0,674.0,572.0,902.0,609.0,575.0,194.0,575.0,129.0,341.0,575.0,412.0,318.0,0.0,244.0,369.0,575.0,829.0,341.0,152.0,500.0,297.0,710.0,663.0,353.0,665.0,542.0,325.0,442.0,554.0,395.0,533.0,381.0,95.0,560.0,424.0,687.0,339.0,132.0,882.0,265.0,377.0,960.0,434.0,670.0,575.0,650.0,363.0,215.0,437.0,369.0,339.0,575.0,668.0,820.0,186.0,161.0,494.0,93.0,142.0,815.0,407.0,510.0,884.0,512.0,361.0,960.0,188.0,248.0,657.0,437.0,575.0,575.0,431.0,263.0,413.0,431.0,454.0,703.0,857.0,576.0,152.0,443.0,431.0,575.0,240.0,575.0,575.0,311.0,371.0,695.0,708.0,729.0,412.0,108.0,435.0,575.0,846.0,197.0,736.0,763.0,755.0,192.0,705.0,417.0,371.0,575.0,392.0,385.0,576.0,462.0,814.0,951.0,431.0,777.0,575.0,346.0,508.0,570.0,763.0,278.0,575.0,413.0,462.0,594.0,359.0,717.0,957.0,765.0,488.0,904.0,570.0,384.0,655.0,387.0,381.0,481.0,355.0,719.0,575.0,580.0,904.0,850.0,575.0,471.0,575.0,797.0,575.0,780.0,562.0,188.0,708.0,496.0,904.0,510.0,710.0,564.0,823.0,101.0,114.0,285.0,624.0,371.0,574.0,900.0,663.0,486.0,912.0,0.0,492.0,719.0,911.0,575.0,200.0,653.0,435.0,263.0,282.0,724.0,765.0,144.0,360.0,691.0,689.0,437.0,494.0,371.0,552.0,920.0,283.0,921.0,386.0,386.0,397.0,240.0,508.0,393.0,866.0,517.0,142.0,454.0,840.0,350.0,888.0,471.0,605.0,382.0,99.0,263.0,790.0,575.0,420.0,678.0,0.0,637.0,502.0,385.0,381.0,373.0,700.0,397.0,609.0,906.0,302.0,456.0,953.0,469.0,787.0,643.0,375.0,337.0,276.0,937.0,956.0,955.0,556.0,921.0,519.0,575.0,322.0,327.0,732.0,548.0,372.0,527.0,552.0,951.0,605.0,0.0,415.0,435.0,407.0,396.0,430.0,510.0,429.0,311.0,481.0,419.0,372.0,931.0,270.0,514.0,782.0,687.0,514.0,884.0,575.0,442.0,951.0,306.0,419.0,564.0,80.0,411.0,410.0,359.0,433.0,408.0,270.0,736.0,389.0,575.0,670.0,477.0,231.0,575.0,422.0,733.0,575.0,575.0,486.0,586.0,841.0,426.0,810.0,287.0,167.0,782.0,146.0,439.0,244.0,433.0,413.0,935.0,443.0,682.0,413.0,953.0,911.0,508.0,674.0,460.0,484.0,352.0,659.0,959.0,607.0,576.0,289.0,413.0,884.0,618.0,647.0,374.0,462.0,424.0,382.0,413.0,447.0,119.0,780.0,419.0,394.0,153.0,406.0,956.0,407.0,197.0,494.0,733.0,361.0,389.0,670.0,527.0,550.0,672.0,240.0,578.0,308.0,285.0,910.0,772.0,758.0,891.0,575.0,475.0,439.0,371.0,687.0,659.0,477.0,971.0,586.0,558.0,373.0,952.0,440.0,582.0,574.0,527.0,647.0,546.0,777.0,726.0,327.0,940.0,830.0,534.0,823.0,575.0,426.0,382.0,363.0,540.0,703.0,575.0,705.0,293.0,219.0,637.0,384.0,426.0,961.0,676.0,657.0,222.0,389.0,426.0,544.0,763.0,912.0,628.0,575.0,940.0,884.0,951.0,386.0,521.0,360.0,228.0,456.0,695.0,147.0,433.0,632.0,329.0,191.0,850.0,568.0,398.0,908.0,471.0,868.0,768.0,903.0,410.0,488.0,198.0,255.0,938.0,575.0,400.0,906.0,857.0,740.0,523.0,775.0,534.0,191.0,514.0,560.0,600.0,833.0,318.0,615.0,902.0,255.0,350.0,359.0,200.0,765.0,362.0,170.0,674.0,412.0,719.0,419.0,504.0,937.0,954.0,964.0,442.0,609.0,853.0,442.0,498.0,304.0,575.0,575.0,852.0,708.0,691.0,926.0,317.0,389.0,908.0,369.0,372.0,508.0,575.0,915.0,921.0,768.0,395.0,662.0,760.0,390.0,641.0,920.0,750.0,596.0,506.0,668.0,488.0,435.0,893.0,372.0,846.0,568.0,446.0,378.0,383.0,467.0,575.0,770.0,393.0,523.0,618.0,469.0,525.0,516.0,452.0,130.0,663.0,352.0,626.0,562.0,444.0,548.0,562.0,775.0,450.0,596.0,703.0,434.0,341.0,490.0,311.0,171.0,443.0,931.0,840.0,374.0,682.0,777.0,498.0,575.0,558.0,350.0,408.0,632.0,134.0,393.0,311.0,416.0,392.0,362.0,248.0,632.0,374.0,407.0,272.0,367.0,657.0,576.0,645.0,517.0,370.0,712.0,370.0,350.0,373.0,833.0,921.0,797.0,519.0,407.0,504.0,377.0,425.0,488.0,588.0,871.0,309.0,323.0,343.0,931.0,954.0,393.0,428.0,546.0,900.0,219.0,792.0,775.0,368.0,607.0,758.0,954.0,575.0,337.0,510.0,575.0,434.0,316.0,736.0,531.0,430.0,575.0,657.0,773.0,289.0,428.0,668.0,272.0,420.0,575.0,712.0,902.0,413.0,371.0,380.0,663.0,397.0,782.0,388.0,626.0,376.0,109.0,337.0,533.0,873.0,823.0,710.0,626.0,0.0,687.0,928.0,0.0,464.0,420.0,506.0,814.0,705.0,542.0,687.0,674.0,736.0,384.0,823.0,888.0,438.0,956.0,442.0,504.0,655.0,483.0,882.0,null,575.0,358.0,693.0,483.0,185.0,609.0,770.0,575.0,655.0,348.0,389.0,359.0,358.0,554.0,350.0,600.0,560.0,385.0,282.0,670.0,672.0,323.0,763.0,308.0,287.0,710.0,159.0,712.0,446.0,538.0,410.0,396.0,152.0,492.0,477.0,603.0,391.0,354.0,921.0,272.0,575.0,437.0,263.0,575.0,367.0,376.0,434.0,479.0,137.0,820.0,843.0,368.0,402.0,912.0,780.0,446.0,437.0,733.0,215.0,533.0,780.0,715.0,962.0,968.0,475.0,0.0,456.0,430.0,452.0,578.0,402.0,397.0,833.0,575.0,572.0,726.0,426.0,263.0,264.0,920.0,384.0,575.0,138.0,118.0,138.0,483.0,575.0,486.0,708.0,575.0,925.0,953.0,486.0,736.0,421.0,615.0,404.0,98.0,570.0,792.0,934.0,366.0,471.0,467.0,674.0,674.0,697.0,388.0,792.0,576.0,531.0,220.0,411.0,224.0,738.0,96.0,486.0,396.0,937.0,575.0,426.0,558.0,426.0,464.0,891.0,685.0,149.0,641.0,792.0,682.0,354.0,446.0,248.0,607.0,355.0,372.0,575.0,674.0,343.0,653.0,685.0,620.0,938.0,787.0,576.0,410.0,674.0,537.0,428.0,430.0,575.0,446.0,322.0,729.0,420.0,533.0,911.0,279.0,575.0,466.0,575.0,379.0,641.0,599.0,481.0,306.0,575.0,367.0,924.0,208.0,618.0,467.0,322.0,390.0,687.0,665.0,879.0,641.0,422.0,575.0,377.0,400.0,108.0,859.0,337.0,115.0,346.0,242.0,607.0,433.0,697.0,575.0,348.0,911.0,370.0,712.0,609.0,598.0,490.0,632.0,365.0,540.0,913.0,380.0,506.0,877.0,674.0,922.0,540.0,866.0,575.0,862.0,575.0,512.0,855.0,330.0,807.0,280.0,575.0,366.0,564.0,674.0,388.0,715.0,871.0,873.0,98.0,850.0,142.0,429.0,379.0,717.0,795.0,373.0,396.0,390.0,413.0,320.0,624.0,407.0,202.0,422.0,354.0,951.0,871.0,367.0,500.0,575.0,141.0,330.0,383.0,607.0,360.0,396.0,397.0,833.0,609.0,763.0,917.0,954.0,93.0,575.0,467.0,519.0,143.0,888.0,135.0,255.0,827.0,156.0,363.0,360.0,315.0,242.0,440.0,827.0,575.0,560.0,244.0,864.0,441.0,877.0,517.0,155.0,689.0,448.0,626.0,337.0,570.0,900.0,341.0,257.0,554.0,926.0,859.0,384.0,760.0,188.0,575.0,416.0,953.0,383.0,394.0,471.0,820.0,780.0,575.0,325.0,884.0,446.0,483.0,242.0,738.0,884.0,562.0,705.0,344.0,339.0,313.0,963.0,823.0,306.0,546.0,797.0,516.0,357.0,554.0,417.0,750.0,359.0,538.0,575.0,343.0,410.0,430.0,424.0,556.0,546.0,960.0,768.0,668.0,504.0,795.0,687.0,556.0,911.0,104.0,434.0,352.0,440.0,318.0,722.0,336.0,575.0,626.0,566.0,295.0,575.0,810.0,689.0,188.0,911.0,558.0,546.0,354.0,665.0,670.0,575.0,773.0,371.0,120.0,665.0,246.0,729.0,827.0,323.0,430.0,393.0,413.0,747.0,458.0,575.0,408.0,448.0,578.0,575.0,641.0,248.0,255.0,953.0,575.0,855.0,392.0,575.0,498.0,575.0,584.0,792.0,438.0,576.0,467.0,598.0,657.0,308.0,689.0,438.0,866.0,438.0,512.0,575.0,390.0,496.0,840.0,173.0,618.0,807.0,442.0,208.0,133.0,531.0,306.0,291.0,843.0,391.0,410.0,715.0,248.0,523.0,322.0,862.0,397.0,208.0,330.0,359.0,116.0,344.0,575.0,733.0,540.0,350.0,387.0,464.0,823.0,437.0,469.0,180.0,403.0,421.0,320.0,435.0,729.0,574.0,186.0,519.0,960.0,359.0,136.0,337.0,618.0,460.0,429.0,386.0,473.0,318.0,525.0,444.0,575.0,107.0,407.0,575.0,313.0,954.0,346.0,341.0,397.0,823.0,448.0,830.0,768.0,907.0,575.0,122.0,360.0,126.0,300.0,575.0,365.0,743.0,387.0,952.0,419.0,475.0,517.0,708.0,374.0,450.0,313.0,947.0,700.0,361.0,195.0,827.0,790.0,146.0,332.0,917.0,910.0,758.0,895.0,657.0,556.0,897.0,531.0,922.0,800.0,330.0,379.0,733.0,233.0,448.0,394.0,510.0,655.0,689.0,206.0,180.0,768.0,580.0,339.0,795.0,448.0,475.0,416.0,378.0,620.0,471.0,242.0,369.0,596.0,397.0,770.0,850.0,253.0,672.0,575.0,96.0,155.0,368.0,546.0,546.0,471.0,533.0,107.0,233.0,795.0,663.0,886.0,377.0,426.0,146.0,222.0,635.0,588.0,653.0,446.0,624.0,868.0,514.0,657.0,540.0,575.0,558.0,313.0,108.0,516.0,836.0,954.0,336.0,98.0,438.0,504.0,956.0,657.0,575.0,733.0,740.0,202.0,374.0,643.0,215.0,400.0,907.0,717.0,152.0,467.0,562.0,689.0,609.0,391.0,531.0,568.0,514.0,950.0,804.0,716.0,850.0,624.0,479.0,446.0,777.0,374.0,428.0,339.0,291.0,412.0,641.0,760.0,373.0,276.0,817.0,323.0,422.0,760.0,389.0,0.0,775.0,415.0,469.0,359.0,668.0,361.0,857.0,416.0,785.0,641.0,575.0,653.0,562.0,955.0,407.0,639.0,568.0,239.0,733.0,879.0,554.0,575.0,910.0,951.0,785.0,575.0,274.0,170.0,814.0,389.0,464.0,624.0,540.0,943.0,575.0,434.0,866.0,443.0,537.0,467.0,736.0,810.0,680.0,435.0,733.0,575.0,382.0,430.0,488.0,444.0,366.0,780.0,473.0,311.0,270.0,204.0,502.0,407.0,758.0,578.0,366.0,131.0,948.0,645.0,850.0,385.0,912.0,639.0,575.0,952.0,343.0,659.0,278.0,406.0,182.0,386.0,358.0,703.0,719.0,360.0,464.0,426.0,422.0,836.0,804.0,466.0,438.0,447.0,384.0,364.0,708.0,204.0,300.0,868.0,475.0,575.0,624.0,208.0,770.0,350.0,415.0,208.0,471.0,620.0,724.0,575.0,558.0,433.0,440.0,492.0,375.0,323.0,393.0,531.0,763.0,554.0,517.0,357.0,240.0,391.0,442.0,693.0,626.0,313.0,343.0,564.0,840.0,176.0,770.0,533.0,740.0,800.0,566.0,570.0,450.0,189.0,641.0,836.0,233.0,615.0,628.0,123.0,575.0,958.0,350.0,334.0,217.0,843.0,437.0,575.0,833.0,780.0,850.0,691.0,768.0,611.0,483.0,685.0,426.0,516.0,575.0,562.0,146.0,691.0,148.0,663.0,637.0,645.0,280.0,768.0,434.0,817.0,929.0,447.0,546.0,546.0,122.0,907.0,951.0,400.0,695.0,926.0,653.0,753.0,830.0,575.0,437.0,435.0,434.0,369.0,402.0,884.0,378.0,393.0,596.0,311.0,527.0,410.0,622.0,107.0,494.0,344.0,182.0,770.0,552.0,663.0,403.0,393.0,570.0,502.0,953.0,429.0,665.0,92.0,400.0,944.0,367.0,376.0,162.0,710.0,430.0,368.0,719.0,285.0,250.0,481.0,188.0,903.0,902.0,527.0,768.0,928.0,90.0,868.0,407.0,422.0,488.0,382.0,389.0,354.0,940.0,460.0,620.0,93.0,795.0,550.0,337.0,191.0,780.0,441.0,417.0,384.0,787.0,185.0,922.0,922.0,575.0,622.0,724.0,434.0,712.0,107.0,738.0,366.0,128.0,458.0,257.0,900.0,393.0,219.0,797.0,407.0,564.0,510.0,395.0,575.0,758.0,192.0,295.0,820.0,575.0,400.0,246.0,448.0,263.0,546.0,575.0,670.0,930.0,857.0,836.0,219.0,626.0,548.0,575.0,663.0,820.0,575.0,546.0,425.0,397.0,964.0,479.0,647.0,407.0,364.0,886.0,362.0,426.0,577.0,600.0,750.0,700.0,795.0,261.0,372.0,438.0,858.0,590.0,750.0,946.0,568.0,412.0,516.0,158.0,182.0,758.0,895.0,800.0,280.0,393.0,339.0,670.0,575.0,588.0,970.0,710.0,782.0,697.0,263.0,710.0,873.0,171.0,391.0,765.0,306.0,575.0,928.0,740.0,239.0,958.0,575.0,521.0,647.0,833.0,523.0,703.0,406.0,868.0,544.0,952.0,265.0,475.0,938.0,731.0,382.0,304.0,130.0,336.0,168.0,632.0,428.0,325.0,350.0,272.0,564.0,753.0,536.0,958.0,575.0,903.0,233.0,92.0,859.0,554.0,428.0,959.0,346.0,748.0,882.0,500.0,948.0,964.0,393.0,357.0,575.0,355.0,439.0,416.0,466.0,442.0,668.0,400.0,458.0,534.0,566.0,753.0,817.0,365.0,224.0,395.0,224.0,531.0,259.0,531.0,736.0,341.0,259.0,562.0,600.0,506.0,527.0,626.0,768.0,575.0,353.0,576.0,389.0,609.0,412.0,446.0,311.0,382.0,800.0,745.0,353.0,785.0,575.0,437.0,611.0,375.0,893.0,360.0,263.0,823.0,371.0,700.0,473.0,592.0,884.0,792.0,703.0,546.0,952.0,556.0,855.0,864.0,921.0,911.0,128.0,546.0,963.0,884.0,417.0,363.0,544.0,575.0,637.0,546.0,900.0,446.0,775.0,311.0,496.0,456.0,575.0,167.0,550.0,558.0,912.0,382.0,790.0,957.0,355.0,440.0,943.0,407.0,615.0,605.0,215.0,929.0,359.0,118.0,661.0,390.0,510.0,417.0,334.0,473.0,575.0,391.0,705.0,790.0,100.0,912.0,884.0,850.0,429.0,165.0,575.0,504.0,390.0,385.0,687.0,274.0,422.0,574.0,674.0,502.0,400.0,293.0,954.0,396.0,108.0,435.0,391.0,104.0,635.0,575.0,514.0,177.0,777.0,742.0,358.0,355.0,397.0,516.0,708.0,546.0,428.0,398.0,546.0,373.0,400.0,846.0,442.0,765.0,680.0,133.0,437.0,382.0,382.0,481.0,768.0,534.0,304.0,864.0,426.0,425.0,446.0,263.0,647.0,655.0,743.0,827.0,733.0,393.0,320.0,527.0,980.0,661.0,906.0,447.0,807.0,594.0,506.0,352.0,575.0,381.0,722.0,419.0,689.0,404.0,773.0,373.0,556.0,572.0,575.0,911.0,365.0,176.0,150.0,609.0,411.0,219.0,424.0,866.0,575.0,575.0,775.0,407.0,566.0,148.0,437.0,705.0,343.0,506.0,413.0,680.0,272.0,374.0,403.0,430.0,523.0,219.0,506.0,575.0,613.0,475.0,189.0,210.0,893.0,456.0,536.0,823.0,724.0,322.0,946.0,693.0,366.0,411.0,884.0,552.0,736.0,575.0,404.0,478.0,344.0,592.0,954.0,516.0,592.0,574.0,550.0,450.0,370.0,708.0,689.0,492.0,955.0,316.0,548.0,521.0,915.0,792.0,400.0,170.0,956.0,404.0,188.0,736.0,556.0,437.0,397.0,504.0,632.0,544.0,533.0,624.0,862.0,353.0,452.0,386.0,389.0,386.0,191.0,268.0,396.0,940.0,650.0,382.0,911.0,966.0,951.0,454.0,382.0,611.0,875.0,492.0,398.0,428.0,162.0,954.0,498.0,403.0,343.0,726.0,575.0,575.0,248.0,790.0,609.0,416.0,967.0,341.0,955.0,102.0,691.0,564.0,643.0,346.0,575.0,956.0,951.0,884.0,323.0,315.0,466.0,343.0,379.0,479.0,911.0,575.0,361.0,442.0,381.0,650.0,481.0,471.0,361.0,377.0,864.0,407.0,366.0,375.0,228.0,897.0,173.0,412.0,693.0,548.0,626.0,454.0,287.0,444.0,339.0,643.0,325.0,763.0,960.0,111.0,931.0,958.0,446.0,272.0,827.0,743.0,376.0,334.0,293.0,415.0,206.0,506.0,552.0,188.0,743.0,135.0,233.0,758.0,217.0,428.0,410.0,395.0,575.0,780.0,868.0,397.0,373.0,466.0,877.0,389.0,439.0,790.0,438.0,398.0,575.0,376.0,560.0,506.0,471.0,306.0,265.0,365.0,785.0,278.0,758.0,823.0,462.0,407.0,575.0,408.0,494.0,929.0,912.0,377.0,167.0,415.0,680.0,947.0,630.0,467.0,424.0,790.0,558.0,605.0,407.0,562.0,462.0,233.0,873.0,785.0,738.0,738.0,782.0,785.0,600.0,624.0,653.0,712.0,233.0,536.0,689.0,144.0,830.0,575.0,760.0,719.0,374.0,674.0,912.0,517.0,575.0,665.0,504.0,729.0,893.0,142.0,693.0,344.0,417.0,877.0,685.0,246.0,760.0,635.0,592.0,877.0,523.0,309.0,575.0,657.0,390.0,965.0,708.0,533.0,850.0,954.0,365.0,368.0,446.0,710.0,609.0,607.0,800.0,332.0,381.0,659.0,382.0,384.0,246.0,912.0,506.0,257.0,527.0,380.0,628.0,435.0,552.0,850.0,523.0,575.0,488.0,592.0,676.0,361.0,529.0,758.0,244.0,639.0,359.0,380.0,758.0,645.0,368.0,361.0,572.0,763.0,712.0,609.0,948.0,643.0,419.0,392.0,645.0,263.0,174.0,377.0,378.0,584.0,359.0,763.0,308.0,672.0,318.0,562.0,519.0,377.0,397.0,384.0,368.0,102.0,575.0,624.0,291.0,533.0,323.0,504.0,494.0,627.0,421.0,908.0,369.0,804.0,226.0,780.0,558.0,162.0,360.0,320.0,0.0,968.0,365.0,443.0,846.0,575.0,575.0,440.0,575.0,417.0,558.0,437.0,460.0,350.0,415.0,570.0,586.0,374.0,357.0,641.0,596.0,575.0,576.0,400.0,368.0,430.0,902.0,213.0,86.0,763.0,446.0,353.0,255.0,270.0,954.0,500.0,951.0,926.0,575.0,383.0,378.0,473.0,250.0,398.0,575.0,417.0,546.0,434.0,695.0,596.0,763.0,792.0,140.0,452.0,382.0,534.0,866.0,217.0,180.0,908.0,364.0,682.0,912.0,297.0,404.0,124.0,323.0,null,758.0,334.0,378.0,579.0,0.0,584.0,705.0,452.0,940.0,575.0,481.0,364.0,417.0,638.0,674.0,687.0,758.0,763.0,817.0,79.0,460.0,691.0,363.0,726.0,220.0,152.0,370.0,575.0,906.0,534.0,517.0,369.0,332.0,379.0,855.0,183.0,615.0,127.0,390.0,448.0,966.0,823.0,540.0,396.0,546.0,183.0,389.0,144.0,295.0,719.0,663.0,318.0,382.0,361.0,224.0,655.0,665.0,934.0,635.0,197.0,446.0,334.0,439.0,733.0,928.0,460.0,215.0,382.0,525.0,197.0,412.0,231.0,496.0,705.0,386.0,377.0,814.0,416.0,304.0,291.0,134.0,104.0,412.0,548.0,527.0,787.0,364.0,659.0,823.0,975.0,792.0,613.0,323.0,417.0,276.0,653.0,672.0,575.0,407.0,306.0,322.0,0.0,460.0,703.0,868.0,202.0,862.0,525.0,428.0,933.0,272.0,440.0],\"xaxis\":\"x\",\"y\":[1659.1,1799.44,2160.5000000000005,1950.66,2250.0,172.0,2231.9,18253.2,1036.32,270.7200000000001,5504.05,630.55,1633.67,4298.48,450.0,12780.55,1287.23,30000.0,40651.72,263.04,481.67,3901.89,1947.77,4080.28,16375.969999999998,567.7800000000001,1695.61,351.84,1696.0,1660.99,2517.03,1065.75,6500.0,2239.03,9788.73,3643.42,4692.99,8264.63,3460.0,6992.719999999999,4003.72,1119.11,3354.01,2209.5800000000004,149.47,2069.38,2269.15,1000.01,1215.99,1100.0,3042.3900000000003,1080.0,806.73,13594.13,3594.6500000000005,7163.45,2214.09,14269.51,2403.1,500.0,1347.0,2401.21,488.04,391.52,11908.010000000002,3528.06,349.82,329.54,1231.46,483.57,14379.09,1388.17,3353.92,6210.389999999999,999.03,1309.56,15450.709999999995,3750.0,2969.69,500.0,758.52,750.0,999.14,3488.61,21022.12,7705.72,520.17,16016.020000000004,9616.270000000002,949.01,3749.9,3014.0300000000016,1060.25,26563.43,1347.0,145.01999999999998,82.98,656.5400000000001,703.76,400.0,4412.89,15854.85,2500.0,33966.0,3664.23,6800.750000000001,2563.23,11570.96,31643.04,1909.38,4564.16,1787.16,15943.27,314.59000000000003,16450.0,1006.01,2972.03,1657.9,999.46,8197.34,16460.0,2914.9100000000003,135.59,3609.320000000001,2441.84,4011.560000000001,1072.6,251.67,1659.24,6050.000000000001,752.25,7544.470000000001,3013.53,1840.0,24499.31,26018.76,5918.860000000002,16978.63,249.68,3437.92,2290.0,3450.0,1999.96,20076.62,5849.47,1156.89,1121.17,849.4300000000001,100.0,1658.23,599.48,1199.7,4247.400000000001,32492.48,4492.389999999999,350.0,2095.31,95.72,1654.65,2491.75,4730.99,1150.0,1288.99,59.27,500.0,8452.730000000001,19857.33,11010.28,1120.1799999999998,50.0,987.97,9929.44,6122.089999999999,16410.13,7636.84,131.09,8564.62,350.0,2711.57,13847.350000000002,6161.14,4202.35,1389.82,21083.32,3560.6000000000004,5733.39,645.01,2412.17,630.6000000000001,17809.309999999998,3000.0,475.7,3799.06,1459.52,15882.45,199.89,20867.84,2110.509117725799,9459.48,1657.9299999999998,6301.339999999999,3198.39,2299.81,19149.67,12968.23,85.32,6753.360000000001,1491.81,978.39,560.0,5899.84,22872.63,3250.0,1338.16,3073.3899999999994,28828.39,27156.08,8384.119999999999,1659.57,356.79999999999995,13045.98,400.0,1818.24,2021.92,1937.0,8933.99,1567.0,7000.34,7675.38,21478.98,163.44,5731.03,2849.5,18241.66,10513.69,15346.52,205023.5,4130.33,453.1599999999999,2400.0,4514.27,3826.02,17892.21,14173.63,27.5,654.25,2854.05,1504.36,31313.23,6896.389999999999,2343.66,60.6,5384.57,2921.2,1207.5500000000002,939.21,765.5299999999999,20461.93,3831.51,1338.66,662.6,11080.0,17653.690000000002,1286.91,32003.16,338.12,7394.470000000001,5615.63,47810.49,1802.5,9599.93,2360.1,1380.25,5748.77,10069.27,2189.7200000000003,4777.0,4332.38,670.81,3037.24,22958.770000000004,4800.0,3787.960000000001,1469.6999999999998,4949.46,11658.2,1658.66,2027.03,536.74,11459.69,38234.50000000001,6822.55,3445.1400000000003,3359.1,2037.96,480.0,20599.150000000005,1287.96,60281.740000000005,500.0,6486.29,5631.04,17299.28,550.4,4548.28,633.61,655.26,3464.41,2830.58,1840.0,130.28,1385.44,1304.74,2196.23,3803.25,1299.24,194.24,6348.299999999998,10750.0,6734.46,2915.82,2228.33,1658.77,2550.0,35482.23,8540.95,10807.89,12718.27,17247.4,1229.0,829.02,22002.47,2499.58,2690.35,9078.97,1529.06,4296.009999999998,699.27,1296.06,8714.61,550.0,3095.25,350.0,21310.97,1961.84,5097.459999999999,2955.52,500.0,167.63,15568.83,1872.48,1500.0,825.0,4787.13,633.9,2350.0,6209.12,1425.06,2379.42,1659.62,1489.59,500.15,724.05,4522.81,19353.69,388.49,11075.19,960.0,4870.7,1985.87,12454.21,1658.34,60.0,100.0,50.0,772.2100000000002,2539.38,12535.379999999994,1593.49,170.37,3188.39,3276.1700000000005,5722.889999999999,50.0,952.3800000000002,1863.99,22424.03,6724.229999999998,1995.28,4190.68,3380.0,1828.45,8512.24,2119.1800000000003,24438.83,1200.0,12672.29,260.0,16005.829999999998,192.31,2030.97,19.0,5699.36,1825.09,1620.0,633.25,1878.27,762.77,1930.18,387.64,3194.88,1899.67,3840.0,5606.509999999998,31430.0,3615.9,6250.52,353.45,16904.81,1657.78,5780.76,479.75,7000.0,5742.08,2795.73,5511.76,1569.31,9720.24,45217.59,150.0,336.06,2983.0,202.83,1619.28,1200.0,4012.41,1590.7400000000002,12989.33,5311.58,43.71,11441.99,4149.45,400.0,1774.7500000000002,319.01,2779.15,3083.71,4907.0,6282.41,50.0,262.61,300.0,2738.02,23650.300000000003,7559.169999999999,4547.09,794.4,9644.87,1728.4400000000005,6882.429999999999,2275.2,2224.78,12860.77,354.57,5873.53,4223.5,1951.12,1585.94,650.21,7687.860000000001,5641.87,2636.04,2798.09,7366.36,1450.0,10219.23,5670.0,2601.76,10322.03,998.53,500.0,5967.28,7182.999999999999,7549.85,1659.1799999999998,9132.32,1660.7,4500.0,36643.39,169.86,1674.9899999999998,10080.37,735.55,13230.95,780.1999999999999,5513.99,7741.849999999999,541.5399999999998,10598.52,350.0,5291.48,2152.7,2415.69,8997.51,2152.44,7539.550000000001,62.8,7327.74,2580.0,494.39,981.96,31771.040000000005,1662.24,1023.37,11120.149999999998,3910.76,264.65,305.95000000000005,7807.670000000001,1679.51,7719.499999999999,816.61,2667.86,14181.43,1658.81,3116.04,5848.15,911.68,7288.62,24669.8,2230.42,1404.8599999999997,2263.5899999999992,1143.9399999999998,17343.62,1369.67,6712.4000000000015,3929.56,2001.38,397.04,8058.93,363.8099999999999,699.28,3611.7,59.23,2023.0400000000004,3783.94,2596.39,5733.719999999998,31890.090000000004,1152.76,1548.92,1678.84,51.82,6114.32,41383.7,350.0,41286.8,1185.47,2292.39,3460.0,4643.96,552.41,8828.950000000003,707.7100000000004,6071.830000000002,1606.54,17869.69,150.0,2181.4700000000003,5106.58,8315.86,3667.74,951.6700000000002,800.0,8541.640000000003,6029.640000000003,2291.61,13484.55,905.0,429.73,3446.349999999999,10550.29,3346.17,8746.74,5087.2,542.51,3328.71,7220.32,3116.129999999999,14192.68,1666.0,336.87,1761.22,33264.25,1910.0,99.69,636.6,1979.29,2759.49,6760.93,1458.3000000000002,221.74,500.0,4436.780000000001,20410.0,1657.72,4280.0,51708.76,5738.049999999999,8811.17,2879.9,350.0,372.97,324.37,4387.920000000001,7021.98,1200.0,1181.27,2755.04,1659.98,346.6,190.71,291.03,763.7,35189.020000000004,17595.73,1116.1,19109.28,4500.0,11246.47,1337.73,555.08,2780.32,2868.25,9855.559999999994,440.0899999999999,2100.0,4163.09,4841.42,2594.5,2600.0,4649.55,619.81,8159.21,5150.0,60.0,365.36,819.87,2146.58,1100.0,16958.78,1536.9,920.21,4627.210000000001,4420.0,550.0,541.34,189.33,7173.44,385.0,227.93,5051.67,12633.95,2414.3,913.69,2570.0,393.13,13297.05,467.17,12677.929999999997,5509.6,2992.39,2000.0,900.0,568.7,987.35,2099.71,2701.95,3149.23,7249.090000000001,2750.54,509.63,799.51,3648.88,3850.0,34499.46,5757.030000000002,99.27,7652.16,2150.26,1780.0,5960.849999999999,14212.75,4798.89,383.75,6982.6,15195.57,5913.650000000001,7199.2300000000005,1040.61,3773.44,2975.51,2782.890000000001,5276.0,150.0,2373.4,1100.0,3253.05,790.5500000000002,9578.85,601.6600000000001,1016.45,6474.37,9867.25,357.03,1539.78,666.6500000000001,4439.11,9834.710000000005,441.08,815.66,16032.2,15758.449999999995,1835.71,2138.85,634.4300000000001,268.97,996.65,10578.6,9369.86,13105.96,11729.47,919.07,13116.36,1064.95,12505.21,800.0,424.1,6242.79,2709.2,12560.579999999996,152.0,605.6800000000001,6239.06,2167.04,2058.83,2733.32,25301.51,1050.0,1760.0,4695.71,13410.5,1350.0,3586.73,8721.92,3435.9300000000003,1111.15,609.99,6000.0,20519.44999999999,5109.95,10693.52,3650.6,2299.59,6864.380000000001,1050.0,9443.419999999998,1560.0,1032.45,3161.71,3575.51,83.55,1463.0,6282.830000000001,6163.789999999997,8085.240000000002,570.97,10499.7,9909.67,5217.039999999999,1831.74,785.13,11139.65,1153.9,2027.38,1277.84,4831.989999999999,1200.0,4376.0,53923.19,1334.04,3892.76,100.0,1300.0,2658.38,560.0,1858.33,24304.14,1357.73,23943.72,7730.06,1799.48,19840.39,587.43,2167.090000000001,118.91,14128.849999999997,330.27,3635.04,785.14,1972.31,122.72,1758.13,3250.0,22063.97,16374.64,579.67,2089.1800000000003,3700.0,1661.36,243.2,6714.31,3350.0,18989.33,12553.86,50.0,6822.370000000001,1100.0,3971.0,234.88,656.67,150.0,1425.7,400.0,1902.56,450.0,410.85,3685.15,4558.11,21985.609999999997,1191.6999999999998,1353.61,412.71,2841.07,872.92,2408.900000000001,9712.6,1127.14,33.0,9217.6,6601.9,799.36,1515.9,67722.43,5385.389999999999,769.9,5000.0,1819.87,7791.660000000003,3324.880000000001,996.73,4064.659999999999,2168.53,2235.89,4418.36,1657.85,555.42,2368.4,791.39,5221.14,375.61,5490.0,5499.95,170.81,3187.57,6670.519999999999,13281.2,21724.18,2491.77,5880.68,29090.52,1229.14,767.5600000000001,1689.8100000000002,915.12,989.85,3444.12,2264.01,2520.44,8304.57,19754.0,12412.97,2215.0,4440.0,799.1800000000001,715.81,9931.05,1600.0,7936.599999999999,749.54,2008.1700000000003,872.34,6937.01,102728.0,1710.26,11758.83,2403.66,4743.07,1154.26,1658.94,1350.0,2123.38,16520.61,34059.39,4219.4400000000005,3276.84,946.58,6410.91,7066.940000000001,5000.0,13034.06,3622.31,6282.85,1760.0,1129.93,152.09999999999997,303.02,3685.44,1350.0,10894.579999999998,11410.240000000002,6637.83,6530.93,16973.48,50.0,3129.5600000000004,369.63,45882.66,3530.06,3540.9100000000003,607.23,8158.27,12190.55,1560.51,1014.13,105.98,5020.67,647.2,10199.88,1508.2,1318.21,11953.75,1636.27,11143.55,680.0,14916.430000000002,5110.84,1959.8,1110.0,14922.759999999998,9770.47,1081.41,500.0,850.0,1660.74,1050.0,1666.0,1945.5400000000004,709.33,1385.88,1466.49,457.84,2998.28,13537.51,3474.24,1399.9599999999998,21008.950000000004,951.28,3343.73,3914.97,2200.0,820.4799999999999,1661.11,6332.79,3252.4999999999995,1387.8,1229.4399999999998,6202.72,18240.0,10178.68,14718.01,2120.09,333.82,9583.39,4568.72,66848.26000000001,800.25,3740.849999999999,10249.770000000002,2885.19,2684.69,1082.65,3775.98,26934.700000000008,550.0,1200.0,3184.3900000000003,3997.66,4637.860000000001,11934.099999999997,1316.2899999999995,7928.959999999998,12118.66,1418.08,500.0,1142.99,790.22,2497.07,1181.56,6943.15,7768.610000000001,2935.42,343.67,9726.33,2800.0,4850.0,177.96,1394.96,6062.57,4396.470000000001,4453.799999999999,10579.12,2245.61,4248.700000000001,5846.63,100.0,3541.0200000000004,2770.0,1579.33,20056.310000000005,500.0,1760.0,4966.0,519.3399999999998,6771.009999999999,5499.85,12006.330000000002,3059.24,2171.82,2887.0499999999997,1352.91,3995.0,1050.0,3445.399999999999,1549.87,4266.99,1652.2099999999998,2750.0,1143.02,60.3,732.5800000000003,24912.42,1067.25,19374.370000000006,2855.24,1049.45,1500.0,881.25,550.0,2733.32,595.87,350.0,223.45,728.36,2109.13,1660.49,12232.22,2060.05,5592.0,1658.61,1666.0,4119.72,6721.579999999998,400.0,1589.73,924.74,17590.12,664.54,14442.110000000004,420.3299999999999,10758.72,2250.0,29848.03,1716.1,2801.5900000000006,4505.24,8104.520000000001,1000.0,37812.60999999999,472.33,550.0,17293.640000000003,1350.0,193.24,5995.08,700.0,7516.69,3197.98,6596.17,550.11,175.47,3363.8899999999994,1350.0,1525.0,2432.24,14751.29,8009.72,781.8200000000002,8279.17,8969.83,2825.730000000002,12043.47,903.15,4989.37,6641.719999999999,3148.960000000001,2541.0300000000007,7060.210000000002,12284.33,11270.0,9355.78,250.0,110.1,2072.71,390.68,1000.0,2601.58,10466.17,1260.6,3099.76,950.0,77.47,8449.39,25359.27,3211.41,8233.25,13566.9,6164.07,2213.6800000000003,5319.87,23007.89,7859.96,1350.23,600.0,14754.440000000002,52.83,5401.3,6019.309999999999,6247.89,3838.63,2444.7499999999995,8000.0,11392.44,3709.73,1938.24,6662.110000000003,7998.0999999999985,15748.47,575.9000000000001,3651.54,11200.0,3650.46,15246.6,697.55,1280.0,462.98,2759.25,15289.19,754.0699999999999,1090.0,76.7,4039.19,59.47,7813.08,4727.77,4122.91,3140.82,7763.24,258.48,5025.0,371.05,250.46,40763.45,771.71,1479.77,2048.49,4745.65,2896.4500000000003,12759.2,2250.0,31897.88,1208.08,700.0,761.61,2880.0,7529.430000000001,3848.119999999999,279.53,6000.6900000000005,3244.83,52.06,8090.0,13194.04,3865.67,418.22,7919.91,6999.06,11042.0,23419.92,1119.19,52061.75,72.98,459.66,1658.41,6614.8,4957.78,10858.65,60.19,4139.179999999999,76.62,24767.74,1350.0,1299.15,1457.37,2006.3599999999988,1395.73,11291.14,679.98,2499.7000000000003,1347.0,2000.0,1567.0,243.52,1364.74,10469.21,4106.76,16862.28,5779.64,929.17,3960.99,401.38,10900.310000000003,1188.04,7650.629999999999,3500.0,76423.42,100.17,1725.38,849.83,1551.13,390.68,21.39,7024.169999999999,27.62,4785.71,14172.03,4637.38,995.82,221.11,12722.99,750.0,11115.19,2139.61,730.16,7096.16,27333.06,850.97,48177.78,809.34,144.6,1657.29,500.58,1702.83,1795.8100000000002,1435.67,6413.82,6822.920000000001,5059.3600000000015,6947.359999999999,1661.53,4925.239999999999,5572.47,730.4599999999999,3386.67,6923.639999999999,48051.46,3638.37,26450.01,1850.0,672.72,1145.98,23449.34,18299.59,6786.54,3912.900000000001,2500.0,8120.0,605.39,1347.6600000000003,18561.27,5809.24,2732.0,63990.29,1937.96,1000.0,1489.86,850.0,573.21,33921.36,7340.669999999999,3868.06,1040.63,1778.4500000000005,34499.89,1749.84,9599.46,2299.9,5184.65,6393.26,17060.0,15555.0,1000.0,789.38,2102.17,1350.0,1153.94,14754.290000000005,90.12,2322.84,400.0,17382.78,58.98,3730.11,4803.48,15139.36,699.03,3138.1600000000003,530.65,16272.54,2930.42,149.92,1902.79,3696.86,640.8200000000002,32101.26,4822.14,895.01,6159.27,2831.9300000000003,139.73,554.32,1657.69,3820.39,31041.32,10768.47,22313.21,5480.629999999999,740.45,2136.0,2121.1600000000003,461.74,9949.61,13790.0,25430.860000000004,2451.6200000000003,6379.99,3056.55,1740.0,864.12,4017.86,32771.58,7262.150000000002,1200.0,12747.45,2009.58,7233.280000000002,3511.1299999999987,497.23,4180.0,50.0,16208.719999999994,499.23,1723.02,42479.09,1329.52,20104.160000000003,8183.64,3179.82,2079.23,1640.0,459.2799999999999,2359.1200000000003,1289.44,6369.99,4176.640000000001,5747.52,500.0,1200.0,2854.96,8116.21,16423.42,1657.31,553.66,12494.76,12383.98,9303.880000000005,1600.9799999999998,5123.69,18945.68,2106.01,850.0,16244.38,1269.5,1055.22,758.2999999999998,1372.74,14369.9,958.26,10160.0,1350.0599999999995,4295.02,1514.47,20094.11,10904.06,1128.79,21456.84,5027.1900000000005,111.26,5993.05,242.17,716.0,1550.0,1046.72,544.55,23576.7,4592.69,47260.99,2581.0,3876.7,4826.01,2999.7900000000004,1404.6,850.0,1657.6699999999998,1342.11,1659.05,1200.0,6115.619999999999,2966.84,595.7099999999998,6094.25,4739.889999999999,622.13,1429.69,1417.61,1900.24,3993.16,958.72,1731.03,16560.0,5353.459999999999,1888.13,1923.96,291.14,322.52,400.0,28348.26,2047.16,16987.56,863.55,5384.51,1000.0,1169.99,13936.729999999998,1787.62,6362.64,712.15,18153.25,3277.38,4538.04,800.0,7886.450000000002,4194.3,11662.85,8575.84,8464.49,4248.52,319.5,1583.29,12392.19,350.0,43604.17,106.43,2181.27,4726.94,3801.479999999999,800.0,19091.93,60.0,2382.72,3820.79,500.0,6431.4,7494.76,1890.0,4942.77,600.0,7605.0,492.2500000000002,3156.97,22365.29,6284.12,862.32,399.85,323.15,1468.9199999999998,500.0,9282.800000000005,1404.38,1499.16,3822.71,2492.15,7022.340000000001,681.88,1593.59,2077.84,11529.8,509.35,910.18,1019.62,24214.95,3951.42,15199.62,1199.72,5853.420000000001,680.64,267.34000000000003,2859.72,9015.36,2190.0,5792.92,10001.5,74421.88000000002,5346.46,2072.73,2418.65,2340.0,8391.46,8328.66,175.85,11100.53,23330.69,7027.68,10016.05,2464.94,273.83,791.67,9028.510000000002,498.96,9303.55,4953.27,2803.4600000000005,1730.96,63.8,7754.59,1630.81,15695.719999999996,1560.0,16310.22,500.0,1599.87,394.4800000000001,652.43,2111.24,608.66,13735.97,436.84,23778.43,7632.910000000001,13712.77,150.0,769.66,604.29,600.0,1462.81,1369.19,33459.560000000005,6065.51,4435.610000000001,41777.05,2721.11,5046.18,516.73,447.38,557.23,103.85,8171.049999999999,1350.0,13507.33,9682.41,10553.49,984.81,719.54,10710.9,2827.16,608.52,6591.86,1660.72,1210.0,25779.29,11941.78,3737.03,10151.15,25292.51,2192.3,4223.51,2373.94,33221.37,1080.0,5861.7,977.62,1421.71,983.62,22385.56999999999,3657.24,4179.63,16269.37,12194.319999999996,2489.48,2750.0,2848.3,2983.25,1023.88,28423.86,2230.66,1457.0700000000002,795.21,2392.83,1916.43,7890.0,370.95,1836.34,2847.44,2227.6000000000004,29357.33,5855.05,989.8,349.52,40357.65,3200.8499999999995,1656.58,1850.65,1032.4599999999998,3458.59,3726.0,860.0,3232.98,6949.0,18249.93,1256.68,2851.42,2237.78,121.93,17930.3,11461.27,245.31,2499.04,1725.09,5076.51,1200.0,4121.72,46060.65,1557.5,22375.8,7054.4800000000005,1400.0,1759.06,148.25,9416.750000000002,2018.04,2799.9,950.0,6632.32,11519.740000000002,3031.79,3367.29,3903.18,1433.09,15905.18,533.1399999999999,28982.48,2075.97,2135.36,1238.4399999999998,3252.55,8439.840000000002,5519.9,10443.389999999996,1565.7,6509.1900000000005,428.0,2138.57,4401.549999999999,814.43,7760.32,10667.06,2994.9,1759.49,799.14,238.0,368.43,2100.0,3842.559999999999,4911.02,18495.93,9404.080000000002,1660.28,1241.87,1605.28,1427.34,1506.42,1712.32,1200.0,5058.5,364.7000000000001,2052.82,700.0,743.1299999999997,1360.0,1408.55,1656.66,199.89,16019.08,690.0,35689.14,4673.61,253.87,7119.19,11274.1,59.96,300.35,2157.05,13799.55,594.76,1350.0,1399.37,605.2,739.96,1525.29,36532.49,3121.87,1491.36,699.77,1000.0,1946.88,1665.29,1899.21,2810.73,1661.08,2210.4,13777.39,1172.1,21367.51999999999,2011.69,1900.0,5291.99,150.0,3720.87,7000.0,655.43,14268.48,1659.54,4191.01,7432.580000000001,3455.94,550.0,1360.0,3400.6,4670.0,1975.74,3477.3900000000003,2953.45,1008.88,10376.05,1565.73,39848.17,2678.49,6416.49,856.26,3785.08,1665.5,560.0,2299.57,38311.05,499.1,12824.95,526.24,5940.860000000001,883.6600000000001,2599.74,2904.98,800.0,810.0,2164.16,993.53,4362.67,4051.5499999999993,31229.35,3598.66,12606.22,1200.0,555.98,1112.54,469.81,301.6,495.07,3689.64,1661.25,3839.07,699.59,152.57999999999998,5627.32,2778.030000000001,808.31,1657.9199999999998,1149.78,1297.15,5442.82,400.0,2513.13,2456.08,734.81,15328.430000000002,11703.199999999995,1503.96,7810.0,5151.77,2500.0,6794.92,14478.6,2580.0,33518.21,2913.8,12982.6,9051.350000000002,520.26,34592.56,2500.0,4499.72,1890.02,12179.36,4358.860000000001,6036.97,3499.67,4627.32,6395.049999999999,2807.1600000000003,1305.05,5186.6900000000005,269.0,1900.0,1226.27,2674.99,1617.17,23948.51000000001,25379.69,362.0,19487.5,486.78,539.04,1579.9599999999998,16527.09,350.0,3965.05,2603.3,7530.8,7812.78,192.31,229.8,10171.41,1657.79,13840.91,1125.65,1400.0,861.47,400.82,423.64,368.32,7952.98,2428.4,8750.960000000001,927.93,480.8500000000001,747.18,460.0,4860.0,6716.830000000002,21394.48,21164.400000000005,21999.3,1806.69,1558.7399999999996,303.73,707.14,1172.52,3314.66,5313.41,350.0,1347.38,713.6700000000001,3650.18,2049.02,5364.32,26846.55,7685.0,1190.84,3662.05,2366.37,6970.73,2913.1100000000006,1299.75,2497.7200000000003,3619.14,1513.0,2974.04,323.46,4200.13,17980.12,32368.06,4299.24,511.1800000000001,323.6,779.43,26839.47,10041.949999999995,621.4399999999999,5946.07,3484.26,1254.06,14409.66,548.98,125.33,10030.89,6119.820000000001,20048.82,93.78,14195.949999999995,696.3,6596.65,3262.71,5020.47,13486.309999999996,21703.53,3534.63,3200.0,1800.0,390.62,1199.69,500.0,2806.65,19343.33,2299.37,22223.08,4884.7,2800.0,8509.59,249.15,8127.5,1878.9500000000007,4029.35,2480.060000000001,14370.4,699.88,1350.0,1805.54,7980.0,43176.62,11782.37,12627.47,2372.5,1810.41,2110.0,4260.47,3281.3,5721.82,2648.62,733.96,850.0,2253.83,559.3199999999999,400.0,149.04,5250.0,28015.09885352714,877.5200000000001,430.16,2306.06,211.96,18342.87,2772.35,373.74000000000007,3248.78,13289.66,2320.0,798.1,5400.0,34499.41,618.59,910.86,248.2,560.0,1499.37,1650.0,6408.92,7808.19,2034.65,1567.0,2208.91,2550.0,3577.35,81.12,9957.63,6706.22,15251.92,8518.67,1110.85,74.52000000000001,1200.0,851.72,4370.17,14165.440000000002,8393.32,1904.49,90.57,1671.42,16237.059999999998,1977.78,22690.71,9091.539999999995,3398.6200000000003,6336.879999999999,26690.64000000001,1659.06,320.0,25368.44,2947.81,7177.469999999999,176.97,228.43,547.96,465.31,2845.35,4628.099999999999,3814.53,875.0,1047.9,1775.0,1661.21,23096.53,24996.38,592.62,15083.970000000008,6364.49,20019.26,560.0,2580.13160995784,7500.0,743.0699999999999,2335.53,2764.77,2636.7,6936.45,396.06,6520.0,692.47,1658.83,849.8499999999999,1990.0,761.96,6277.900000000001,516.66,2377.73,1788.66,157.62,12708.74,1051.41,50675.4,1388.18,3006.9800000000005,34518.07999999999,155.16,138.21,3912.2,607.6800000000001,3123.44,9885.549999999996,6505.91,4189.1900000000005,14513.65,6961.15,3520.25,8340.980000000001,2187.93,1658.02,32082.15,844.79,6826.06,574.69,1660.35,1947.72,11658.92,3347.0,516.26,5655.9400000000005,833.48,1743.4400000000005,152.41,60.4,499.48,1207.99,6474.84,1494.08,6649.820000000001,9240.08,46.51,886.95,2946.74,263.23,1537.57,1171.17,13009.8,144.5,271.99999999999994,1404.3099999999993,6558.82,1466.96,2951.6299999999987,11580.079999999998,1799.94,262.17,10260.66,15465.37,350.0,9274.590000000002,63.33,1459.11,315.11,586.0600000000001,1000.0,4055.2,4366.44,1558.85,5152.82,5443.4800000000005,1959.82,9325.35,7244.9000000000015,208.44,77.6,1283.64,1275.88,350.0,2714.0,38024.7,719.95,17199.2,43251.02,10555.96,7558.059999999999,1566.9,350.0,50.0,23625.52,23511.89,2500.79,4948.49,1466.85,10362.73,1481.24,1410.0,1400.0,1606.04,5546.93,5126.83,8715.54,2362.99,5708.9400000000005,19767.61,721.94,470.72000000000014,45.78,24994.39,2559.92,2160.0,5989.83,381.24,13489.03,955.85,29997.63,29149.800000000007,687.16,2909.8900000000003,2975.74,9676.91,78800.9,2750.0,19889.56,190.69,5412.73,5868.09,4933.589999999999,3998.56,407.15,433.2,8399.32,5812.55,25477.56,5590.0,1659.32,8798.389999999998,4229.849999999999,3270.3300000000004,8127.370000000001,2028.77,9368.22,36324.47,4253.07,12830.43,1760.0,917.38,768.25,2226.27,2009.37,990.0,4750.06,889.27,21711.96,17113.91,4250.0,153.38000000000002,26537.950000000004,3087.1899999999982,3915.08,2351.87,1350.0,2600.5400000000004,1659.08,7930.92,545.4799999999999,5900.0,8678.18,145.21,350.0,147.98,1029.11,550.0,7061.88,1658.55,350.0,246.83,8623.29,750.0,1700.0,21951.33,740.0,11956.91,1530.0,19990.0,9879.11,35739.94000000001,11564.59,60.0,49.56,1567.71,6493.200000000001,15862.57,4104.54,2652.46,3365.57,4483.5,700.0,72.03,48074.46,12259.73,81.81,10419.790000000005,150.0,512.37,11206.38,7128.800000000001,2760.76,20478.69,11550.83,773.04,12796.34,1731.95,2470.0,500.0,4685.49,1231.0,23274.340000000004,1889.08,7036.320000000001,1007.79,27350.51,1656.03,2789.9100000000003,2700.0,7000.0,1170.53,4165.459999999998,500.0,1352.07,1750.0,5530.0,1656.81,4349.03,1937.61,4706.89,5774.55,150.0,2527.92,4394.49,4249.29,1557.24,400.0,15838.04,1945.91,4212.1,5701.530000000001,2984.79,2493.11,10709.74,1.0,1597.4199999999998,15919.28,19290.020000000004,4147.639999999999,1459.38,953.44,1001.11,10141.88,9283.0,812.2200000000003,1704.62,4124.24,18614.15,691.14,3840.31,500.0,621.6,25925.53,450.0,18344.24,2058.26,6720.0,2358.64,324.0,2431.5,27025.28000000001,35470.009999999995,624.6800000000001,850.0,10838.03,2121.36,341.23,6000.0,0.2,1580.0,5300.0,663.31,1534.94,6782.79,206.32,16874.19,1000.0,15119.74,1610.0,2208.0,1167.35,85.29,1046.9300000000003,322.61999999999995,590.5899999999999,7759.18,21673.67999999999,492.97,795.17,7836.46,1430.0,1932.05,3953.38,29603.15,3155.9,4997.49,26842.19,406.99,11364.909999999998,175.73000000000002,6499.58,1000.5600000000002,850.0,18022.1,544.81,35970.61,15818.129999999996,597.94,1473.58,30502.55000000001,4387.77,2693.82,2106.97,3295.2,5950.529999999998,4560.0,12015.72,6644.719999999999,1695.29,484.61,560.0,15033.599999999997,1200.0,1658.5500000000002,1858.08,55620.52,10192.87,549.11,834.65,111.62,48981.19000000001,100.0,2200.0,7759.5,2297.8899999999994,2961.24,7772.79,6615.269999999998,4943.87,2150.0,14550.0,8358.85,5243.170000000001,979.3600000000006,6650.0,575.19,17680.479999999996,17609.83,20814.07,3808.76,850.72,3308.69,218.1,791.17,162.5,6350.58,1529.06,2525.03,402.23,12436.92,399.32,1210.0,3564.22,7559.009999999999,5998.02,4709.04,12563.65,1225.0,816.82,7343.159999999999,26314.78,4340.669999999999,628.15,3052.76,1789.22,37840.0,34499.579999999994,406.44,3820.0,21943.779999999988,1050.0,2794.6100000000006,1005.24,8603.65,3845.399999999999,18569.610000000004,1661.01,2899.43,900.0,5850.62,19839.51,23648.9,1120.79,500.0,1003.41,1200.0,160.0,527.6,5750.469999999999,2568.7200000000003,4550.0,7636.28,859.89,800.0,228.45,2198.16,2148.33,11111.9,1751.87,2959.73,3748.06,3120.0,21670.95,3627.940000000001,299.39,1657.85,499.86,3446.7000000000003,5000.0,5311.339999999999,6240.0,10758.72,16657.36,11400.0,8097.639999999999,350.0,3790.0,17530.7,700.0,7662.419999999998,34499.99,1319.8,3440.23,3689.17,152.60000000000002,925.0,5639.63,24219.81,5951.27,1532.98,21558.32,100.41,4533.2400000000025,5387.51,5900.08,330.13,7556.11,4047.87,5090.93,9115.4,542.78,233.07,17943.85,1806.8,2905.8199999999997,1349.71,884.47,253.23,1655.6999999999998,2201.46,330.94,14560.44,6459.9800000000005,2092.32,1654.36060475518,13496.0,2422.58,4324.099999999999,130.62,2556.36,221.74,7043.3,4272.02,6560.76,3260.12,3720.310000000001,1270.26,60.0,500.0,6400.32,6705.52,1200.0,15820.91,4823.31,5553.88,2984.41,36097.99,350.0,13139.87,13030.0,936.2900000000002,7524.62,1666.0,2050.0,2542.06,2294.6500000000005,41228.96000000001,1320.31,2628.9,4133.24,2174.95,14729.44,365.2799999999999,1900.0,1200.0,10889.519999999997,2630.790000000001,1279.85,502.95,150.02,30168.94,6642.98,2481.87,12981.2,7129.9,3784.97,326.36,1666.54,5902.14,13665.240000000003,14265.849999999997,5909.910000000001,41.68000000000001,34496.57,1800.0,993.2,3930.0,9074.24,2038.52,710.67,400.0,60.0,13650.0,5794.42,1150.0,1000.0,11325.27,3361.47,2760.0,1170.87,18393.26,6999.48,4771.779999999998,9157.599999999997,626.53,988.09,800.0,2638.68,2227.53,10159.58,10500.0,3501.18,6805.6900000000005,16975.75,1815.01,16262.570000000003,772.4,560.0,11209.28,17211.05,4222.92,2179.8100000000004,7189.410000000001,59.79,9618.919999999996,43227.69,19729.2,1200.0,2634.5000000000005,526.83,39035.41,15094.809999999992,3109.42,1000.0,24896.29,965.0,35607.63,6749.3,4928.02,4428.420000000001,6097.729999999999,1666.0,877.48,6220.0,500.0,2160.16,900.0,3819.85,7821.669999999999,1000.0,9309.9,4954.490000000001,744.34,2949.7,1508.13,3009.46,400.0,1928.1199999999997,7000.0,28901.19000000001,313.3,700.0,795.23,2943.82,16003.88,1609.86,38779.48,5368.0,9750.85,7236.74,1748.22,5803.6,4405.43,90.62,6647.67,3117.14,1011.96,2493.98,316.38,2479.19,5254.71,18782.52,550.5,9157.32,2404.3900000000003,5353.56,1679.53,2473.46,6549.11,7254.39,1057.34,7877.379999999999,12524.77,60.0,3329.3,2060.7,5300.0,1089.44,1340.01,17953.82,2579.7,2764.07,2021.78,809.96,15676.73,1252.15,6950.05,41587.97,4551.29,6262.860000000001,27.36,8410.640000000001,16815.310000000005,1200.0,1400.0,6024.95,421.53,14086.15,8333.689999999999,1708.25,747.0400000000002,3221.58,400.11,321.44,16988.6,3056.81,7595.2,4920.0,499.79,3295.63,1838.85,17692.629999999997,42115.76000000001,392.8299999999999,5726.0,1952.1,11539.56,1500.0,6718.93,10452.89,16354.93,5348.13,1703.3900000000003,1649.15,5666.32,314.31,4977.200000000002,323.48,1326.12,1666.64,2683.97,3194.9,1388.6999999999998,3034.4299999999994,4171.780000000002,12713.49,1499.3,1855.12,6842.69,5222.09,3583.8,18189.64,19959.78,100.72,9541.54,3434.8,3900.0,721.66,3874.04,25343.67,3326.0300000000007,152.57999999999998,8049.070000000001,7063.759999999998,1843.97,500.0,16896.37,380.95,14823.090000000006,1661.21,1658.96,3363.079999999999,612.3399999999999,8332.099999999999,18004.56,3253.01,499.3,500.0,49.44,2347.18,510.6,4173.879999999999,5150.0,5380.93,2685.84,2200.0,1399.41,800.0,2429.84,24976.31,49766.73,1200.0,4377.76,35749.25,5615.990000000002,11040.39,3896.15,15351.63,1660.35,9925.2,1200.0,1353.2699999999998,16101.37,6513.3200000000015,2093.34,2332.33,3563.0,850.0,17549.12,1309.2,1659.2800000000002,7590.0,14269.6,2503.6000000000004,2834.29,6303.05,3821.85,1658.65,1000.0,807.61,1921.56,893.61,6799.480000000001,2257.54,441.0,1156.8,736.8499999999999,2853.96,2180.99,1055.0500000000002,34499.96,15400.840000000002,3939.08,4500.0,3977.11,21436.950000000004,1658.88,19652.4,670.86,20790.28,68242.29,13454.6,11321.1,1749.89,2100.0,4395.66,7425.119999999999,2339.83,1379.79,622.97,6998.91,2162.37,29999.75,2259.79,1350.0,3700.0,22106.71,323.24999999999994,1895.18,3933.47,1529.06,17975.089999999993,2055.71,685.98,5624.19,13507.52,315.4,3886.83,263.62,13435.219999999996,13314.819999999996,1674.33,7709.589999999999,478.65,1500.0,1200.0,6939.51,2054.04,30268.75,4041.9,3467.25,564.34,4137.1,614.51,6545.32,2431.3500000000004,329.09,2563.99,1760.0,12646.040000000005,1052.89,1513.77,60.0,4377.889999999999,14054.099999999997,500.0,18792.61999999999,474.91,67.37,24639.47,8576.09,2176.4700000000003,1515.15,4014.06,103.79,750.0,1970.71,3423.9100000000003,11825.26,4802.0,1300.0,180.74,34480.33,14759.0,2328.19,1451.9000000000003,5114.429999999999,298.23,9040.22,9096.16,7627.0,8405.63,4436.84,10476.68,5355.530000000001,1556.2399999999998,2807.03,3699.83,2726.57,2343.94,17004.38,1904.4,2540.95,1019.31,3805.87,749.4,1783.75,4467.92,22738.96,10274.4,3316.58,54.07,7951.64,2897.19,6750.0,13599.890000000005,667.8,7205.429999999999,1399.79,3196.6800000000003,1333.47,489.96,175.81,46087.36,2869.63,20597.26,930.99,3421.26,2948.78,1680.9399999999998,9284.41,6630.0,5128.59,375.59,3512.16,1098.32,1000.0,4440.0,3066.81,2256.82,3980.52,13299.43,2593.31,981.09,13871.65,6314.93,10108.749999999998,249.11,1405.6,8010.87,1128.27,3363.2200000000003,4284.290000000001,1375.0,4615.0,1611.64,12925.12,1656.18,11999.93,8813.39,12139.94,3709.88,95.73,350.36,9261.33,4939.27,6610.21,525.61,9595.74,2521.78,38611.87,480.0,6684.6,752.0600000000001,124.22,1499.96,3425.0,482.8,7297.11,1817.64,2393.0,3614.53,909.04,10009.74,10463.56,9839.4,8579.08,61.71,3973.52,363.5400000000001,1200.0,487.51,7260.309999999998,8844.67,1770.0,2387.44,457.39,4869.6,1713.2,3067.44,1659.52,1698.6599999999996,936.44,1999.05,1377.03,4502.130000000001,8170.21,808.0199999999999,640.0,3173.05,14411.37,2777.51,12589.0,1478.63,1014.35,18666.1,2078.37,5717.459999999998,400.0,2359.37,9147.3,9400.0,1659.94,2352.28,1090.86,1480.0,1663.6,5567.74,5070.81,13299.24,2468.63,3605.23,51025.58,1650.24,3210.0,1208.7,7378.049999999998,365.73,4485.239999999998,4400.31,9188.97,393.69,25357.30936071021,849.95,7224.0,3690.5499999999993,926.19,6651.200000000001,2263.7200000000003,9540.47,240.49,1013.42,343.39,5504.13,1350.0,1501.8200000000002,1679.77,8031.87,4114.42,2359.92,10258.66,1010.63,399.3200000000001,5301.98,919.13,16352.46,4463.25,700.0,1212.52,519.06,850.0,3481.399999999999,2500.0,7530.890000000001,1146.88,33727.85,426.74,2780.0,3823.580000000001,5561.72,866.6800000000001,6312.27,362.94,5831.33,1842.81,5693.89,3267.199999999999,3719.54,3572.2,1920.92,100.0,2715.99,1000.0,3023.44,5083.589999999999,809.61,1661.08,12168.21,2072.74,999.14,2302.04,2089.4,1780.51,1350.0,4150.0,7714.670000000004,53737.01,3327.3900000000003,2200.0,300.0,1950.51,3815.4,410.0,1295.36,2279.55,198.8,2133.47,1605.0,938.06,3332.56,7039.59,242.58,2300.0,3300.0,5109.509999999999,350.0,459.68000000000006,7540.530000000001,16283.390000000005,5265.769999999999,303.25,2042.2300000000005,10026.66,1000.1,4990.3,2058.28,4887.55,4317.55,33615.10999999999,100.0,7785.610000000001,9500.0,9789.2,4841.0,2122.3,1590.0,1400.0,4797.08,16215.01,780.51,5870.930000000001,3925.38,2670.0,7941.699999999998,1019.13,3130.26,12248.57,103.28,1901.6,6695.0,60.0,1658.81,2700.0,1249.63,4081.47,7723.42,680.16,2238.28,11596.100000000006,4679.96,1658.51,25446.71,1656.82,13415.539999999995,6734.93,18802.68,27589.73,5876.07,1181.0,288.72,8668.939999999999,2591.34,1274.954469339692,4410.0,3969.22,1120.0,3697.34,28049.19,2593.53,375.88,10860.0,1741.6000000000004,946.93,4317.0,14489.35,838.9300000000001,2420.0,26984.78,3445.3100000000004,2219.36,25529.82,400.0,349.35,975.82,3305.42,2387.5999999999995,366.43,3254.16,415.78,7390.0,25020.87,1031.16,4946.68,1611.09,7418.9100000000035,2452.8,1260.0,2363.48,17560.54,1266.83,500.0,646.8,59.63,428.0,14923.42,1699.14,399.05,8159.84,4355.96,8144.320000000001,2538.19,85614.31999999999,4446.349999999999,6964.63,4641.46,7293.220000000001,2000.0,17643.21,1400.01,15600.0,2218.94,1000.0,5776.89,2123.1000000000004,302.09,4262.57,14855.33,350.0,1000.0,79.58,560.0,19369.48,60.0,3250.26,360.0,4032.819999999998,560.0,713.12,4257.57,1224.94,971.15,10564.2,3846.710000000001,34499.740000000005,867.0,4188.06,18870.55,2541.9200000000005,497.43,17950.02,21326.0,547.2599999999999,26999.05,4763.69,1097.15,31769.58,2404.82,2999.1600000000003,470.7699999999999,5219.77,1659.6799999999998,900.0,1726.38,1173.6,20020.0,11996.64,2332.6,550.0,344.43,5192.080000000001,1759.5,460.0,1835.41,14156.080000000002,2507.9,1200.0,4274.52,1019.58,3426.9,2150.17,1200.0,4278.8,7774.87,1297.22,1666.0,3277.07,9830.0,349.7,289.49,1357.29,4878.19,9367.27,9431.66,6223.789999999999,1659.15,1661.02,5972.71,1973.0,2240.46,150.0,8618.55,796.5699999999999,2963.24,50.0,3029.05,3912.500000000001,2010.55,19104.95,59.59,1508.31,1402.9699999999998,1420.95,917.36,4800.0,7670.13,548.45,522.7700000000002,2037.1,1565.6399999999996,3180.0,483.89,3123.35,1200.0,17583.63,4989.91,5170.530000000001,1656.93,1000.0,250.65,16204.88,2392.53,22268.210000000003,50115.49,5511.83,6612.13,1997.75,6023.34,738.65,4250.0,9703.8,1257.8900000000003,3261.13,26211.140000000003,4365.949999999998,510.0,1000.0,249.46,2205.33,3056.31,3918.02,1755.43,3909.23,600.0,583.08,12723.98,801.48,4751.8,12881.429999999997,1200.0,2514.01,498.49,49285.87,26913.28000000001,1056.86,904.47,20998.58,1600.0,58474.43999999999,1526.97,662.33,2643.75,10648.04,18489.46,3299.05,900.0,1200.0,2839.84,11940.44,1884.0799999999997,1643.98,470.74,64.05,9891.079999999998,1310.06,4442.79,2359.24,6588.36,22699.620000000003,7095.78,7667.109999999999,732.6,2360.0,2905.0,842.5500000000001,2141.65,675.0799999999999,100.0,1539.9,14174.17,1406.21,5293.26,66.21000000000001,2150.0,1700.0,61.62,849.43,7323.16,13433.29,150.0,2023.97,49.68,8832.62,1901.18,3320.58,2049.57,28909.08,761.6600000000001,9045.18,14115.32,3653.61,3832.23,1659.44,492.0,4116.020000000001,142.05,4622.210000000001,4155.26,1856.91,3963.47,350.0,909.56,8443.07,13508.57,960.0,1065.05,2728.7000000000003,561.08,8409.330000000002,503.45,784.52,815.16,12562.22,1800.0,16979.059999999998,41990.11,8894.449999999999,1628.0,1659.23,1751.7199999999998,150.42,149.58,9474.43,5593.640000000001,4840.0,1199.45,854.0200000000001,2483.23,6429.349999999999,7931.67,743.79,1658.5500000000002,4492.41,38.41,1050.0,443.96,1748.8,2750.0,1085.6299999999997,28485.07,207.67,5941.7,1657.85,11406.44,145261.77000000002,331.88,874.26,778.05,336.72,4420.56,15279.04,722.95,1700.0,2300.0,2810.0,20658.1,4669.85,1616.42,980.65,5085.279999999999,1152.99,28824.264525764454,206.37,4168.59,2126.99,780.0,8909.97,3204.0300000000007,2399.49,60.0,35462.28,850.0,1130.75,6535.2,31861.88,7758.58,1149.73,3453.8300000000013,4489.0,421.42,5002.839999999999,152.55,8813.23,8123.92,1481.74,6203.24,720.77,2750.0,1538.25,80844.84999999999,150.0,784.82,4615.68,1199.97,12282.75,1135.85,8240.449999999999,4075.47,3110.12,511.5899999999999,2709.64,15101.1,999.35,79.56,303.44,3291.06,680.0,11549.11,53.17,5488.86,500.56,2866.9,3653.98,3392.79,1314.65,795.17,2750.0,3280.34,128.09,500.0,1572.48,2053.34,7823.54,3140.0,399.58,11441.239999999998,1999.38,4199.41,6443.930000000001,9869.85,2700.0,13581.25,366.47,1390.4,1413.82,19927.69,153.24,1400.0,1000.0,5492.990000000001,739.18,2679.32,4128.28,9468.499999999998,1796.4900000000005,2213.65,8801.02,536.98,3527.660000000001,1595.69,8756.330000000002,3539.28,5279.94,3724.02,4738.25,25160.700000000004,1124.76,810.2099999999999,1136.19,2300.0,2280.0,838.24,14698.830000000002,931.62,1583.7600000000002,5204.699999999999,1199.58,1500.0,3265.1,960.35,530.0,6990.0,12022.69,983.88,500.0,876.1,12100.9,2006.18,10214.96,1200.0,8178.91,3273.26,6828.130000000001,15270.61,4085.5,1658.87,1256.48,79119.5,998.0,487.65,4680.0,7559.28,9000.0,50.0,1959.89,5652.969999999999,6030.26,10277.37,4692.86,13629.21,4654.27,2087.55,6890.030000000001,44680.21000000001,4098.06,954.42,13539.42,6440.739999999998,252.87,4304.26,2545.1,540.0,4643.72,3714.69,1072.2799999999995,11197.1,3590.0,1351.03,8801.47,60.0,3163.44,4318.3,12018.76,331.41,4450.72,3938.9,1259.68,6242.58,50.0,3420.0,2409.58,650.0,727.19,13248.11,7653.99,528.37,4647.2,1597.2600000000002,1894.08,394.1300000000001,7256.37,3249.05,348.0,1949.5800000000004,10187.699999999995,2182.72,1751.5800000000002,4067.8,4700.0,9806.25,900.0,1703.76,4709.31,862.56,7529.1100000000015,10019.83,13610.219999999998,437.25,7358.47,60.0,649.9599999999999,7116.780000000001,1827.23,194.0,875.9100000000001,7591.95,2628.74,1289.5500000000002,7683.660000000001,349.38,1714.41,10561.96,34425.21,1199.7,9347.46,409.96,1731.2,2392.11,188.02,1506.32,9421.05,4482.25,12170.28,19978.81,2338.32,2976.76,10199.25,870.4499999999999,28756.480000000003,12394.5,2140.0,1989.9,3104.29,5984.46,13899.670000000002,1165.02,2760.66,4412.95,8153.890000000002,15438.48,7341.44,4940.030000000001,11250.25,9349.58,2508.9,449.98,3317.81,1078.28,772.33,6749.83,1197.86,10127.41,3208.31,51.82,35879.98,7296.68,4150.0,1294.47,7620.0,16330.01,597.52,9277.909999999998,3653.13,281.8,5906.53,161.57000000000002,2988.5400000000004,9483.420000000002,1756.11,1400.0,1657.1899999999998,2348.98,2879.4000000000005,12059.37,1125.0,1178.66,11914.29,1806.35,2485.03,350.0,1850.0,1693.7799999999995,1000.0,3025.021232714904,10991.13,1444.71,29999.85,699.22,1009.79,194.33,1593.62,7178.499999999999,5860.47,200.0,1760.0,10334.74,600.0,964.48,1630.68,4660.46,5100.0,10680.44,19176.24,507.23,393.33,2089.78,700.0,23309.46,4993.33,4000.0,3055.66,421.99,2956.011945135804,7852.68,14474.120000000004,66.29,0.41,624.88,7023.19,5030.0099999999975,1797.15,550.0,2754.85,431.9799999999999,13485.910000000003,2352.72,5521.7,1590.47,5762.78,4407.04,11270.31,839.14,17.88,14006.81,605.72,27.700000000000003,11517.59,25592.84,3000.4,932.44,4379.61,850.0,1750.16,5392.26,804.4000000000001,1777.56,1155.39,3020.0,4821.06,100.47,10482.6,3067.33,1295.4,9842.86,7902.3,5903.8338133942325,2100.0,1704.21,2082.2700000000004,2319.4,1150.0,16941.21,2324.83,800.0,2300.0,1920.77,17273.59,184.55,10774.81,16111.41,3139.86,10838.88,15723.01,350.0,680.0,2479.76,24707.25,21425.96,1202.19,2129.63,1616.14,50.0,1093.68,1325.99,7275.269999999999,13140.0,1347.53,6209.79,2883.0,5933.550000000001,50.0,0.41,1502.64,1083.89,7441.07,73.69,7222.41,783.92,100.0,1200.0,8865.679999999997,2060.0,413.74,5522.67,20341.88,368.84,850.0,1457.55,6323.17,2314.11,11678.03,2683.84,529.51,25049.980000000003,7092.21,1518.7000000000005,17698.070000000003,512.09,11992.39,8130.689999999999,530.3799999999999,1661.14,999.18,4561.579999999999,7557.779999999999,17372.259999999995,7894.93,18136.17,1397.92,4788.3,1656.07,6020.0,20023.48,3677.39,226.77,7455.05,1823.89,2229.54,1699.6,4093.8,1281.08,717.38,641.1,750.0,10214.420000000002,2565.0,3499.84,2826.12,1389.93,3838.0,4259.69,1110.0,770.5200000000003,1400.0,9116.85,17089.75,12007.37,2741.05,4749.769999999998,11639.340000000002,591.05,17499.99,450.0,15033.12,14051.28,796.51,99.35,3245.28,1000.0,2858.9300000000003,5046.9,1.0,1974.01,3809.61,349.15,549.62,323.74000000000007,886.9700000000001,1854.38,15351.089999999997,3460.42,1500.0,477.75,3674.42,7033.37,11413.33,17427.23,2342.6,1600.0,3770.0,5620.0,5334.0,7332.43,1509.28,2477.6,450.92,3200.0,926.04,767.52,6971.229999999999,27094.120000000003,8053.53,358.94,1548.0800000000002,4253.31,1282.01,1324.2,350.0,12329.84,7465.73,850.32,706.13,11256.72,7997.38,106.5,325.01,580.1,1118.27,4859.86,4800.0,1406.5799999999997,50.0,4830.22,350.0,6461.24,2593.48,1657.67,7948.420000000002,825.0,1102.16,10539.99,6359.37,11665.16,1500.0,4396.749999999999,1516.24,17196.77999999999,2834.99,3549.38,4871.91,730.23,23694.02,3078.36,4059.0500000000006,1200.0,1920.81,4459.47,1788.8,887.39,1110.0,2506.79,16914.089999999997,610.77,3448.0899999999992,1149.1999999999998,860.0,3037.24,4230.980000000001,2315.22,2609.55,18.82,341.81,10303.05,857.74,902.01,3229.78,24375.84,194.19,7018.79,365.77,2110.0,3250.0,621.48,500.0,551.85,1419.88,4391.56,695.68,4182.67,1036.67,23336.81,1657.15,4010.25,3810.34,5264.499999999999,5959.41,3399.83,2673.880000000001,5620.0,15433.9,2675.36,10557.759999999998,900.0,840.0,31769.59,4892.56,3724.33,3256.4700000000003,32711.770000000004,1660.8,59.72,6330.800000000002,1035.39,1594.9000000000003,1657.62,3774.83,1000.0,964.96,732.15,5837.05,1424.53,1667.2,5884.789999999998,11080.06,3006.63,4816.610000000001,1400.0,1536.9,331.77,21984.87,600.0,1000.0,8761.47,1658.24,3071.19,1064.89,772.4999999999999,294.37,697.3100000000001,157.8,579.05,6229.4,5685.3,72.54,349.33,1029.19,570.0,12599.9,1283.03,208.56,1797.64,2959.44,60.0,53.68,9667.1,5307.040000000001,5039.05,100.0,582.35,10167.1,542.2299999999999,4500.0,2037.1099999999997,7414.37,3102.29,5487.87,6708.52,11112.19,2944.38,1925.66,2800.0,23442.39,1340.0,5125.499999999999,362.47,700.0,6102.67,8523.619999999997,909.76,1786.9499999999998,1771.58,1205.79,9414.3,1658.2,963.02,800.0,10055.71,2351.9,6428.32,41992.54,700.0,13904.03,1769.36,3219.5400000000004,1411.4,7199.249999999999,1657.23,725.7,2967.5999999999985,1591.8300000000008,1041.0099999999998,24728.369999999995,1775.31,6173.209999999999,1668.74,3199.81,430.33,16442.97,1658.15,6068.74,4397.9,16385.32,4625.000000000001,630.0,7440.060000000002,524.0,29365.6,9837.570000000003,1683.61,1683.17,1397.96,1658.32,2293.59,2398.78,9085.48,849.6899999999999,9249.93,10664.41,872.74,4210.499999999999,3950.02,2099.29,399.87,8346.79,7000.0,1729.3399999999997,9259.989999999998,8223.92,9226.629999999996,3833.25,152.55999999999997,1049.54,7840.08,2500.0,6999.770000000001,1695.05,930.0,3163.7599999999998,19447.01,2945.06,9967.15,6581.110000000001,6469.840000000001,1286.0999999999997,1278.71,9296.28,2549.6,1656.7900000000002,995.53,900.0,7240.8,1534.95,227.5,11351.21,14760.99,9685.089999999997,2782.55,18943.660000000003,3588.46,16279.999999999998,2772.65,817.47,3182.1,247.92,22048.4,6422.950000000001,71.16,12788.85,900.0,4480.43,1567.0,500.0,28578.52,5964.49,34883.27,282.30999999999995,1046.34,575.0,500.0,1040.0,1167.64,11599.709999999995,34252.3,870.8200000000002,1480.92,557.69,4081.72,781.21,6814.450000000001,12639.580000000002,52.83,353.83,49.86,27.35,15117.309999999998,18029.41,3000.0,1060.4299999999998,18238.99,3395.9,675.0,4164.0,400.0,1750.9899999999998,843.3100000000001,500.0,8137.15,1133.01,16866.859999999993,6999.18,149.18,7818.750000000001,23979.4,2399.8,5662.08,2898.27,87.99,4212.12,4196.51,5975.300000000001,1566.74,943.31,3642.480000000001,883.74,5533.54,17702.739999999998,3786.97,1920.83,1812.95,813.37,1317.98,4990.969999999999,100.0,1253.63,350.0,251.73,507.41,5323.340000000001,1349.54,3799.06,949.6,1200.0,6674.869999999998,2293.7,3361.6799999999994,2112.07,1681.99,9387.94,50.0,691.5,8841.37,7556.27,362.18,6519.56,11972.56,2661.24,7470.0,500.0,26191.3,23479.61,2626.48,365.04,1042.72,18914.189999999995,309.94,5609.83,2400.0,2028.08,2057.0,7515.139999999999,2130.0,547.54,1234.62,646.74,4862.03,6285.59,13230.0,8486.07,500.0,16635.36,5523.699999999999,542.07,471.9,4149.99,769.68,1601.09,2389.88,7661.84,12415.959999999995,7746.0,1322.1599999999994,500.0,1048.81,839.11,500.0,1400.0,4516.64,69848.26,941.57,3614.29,9890.0,11905.890000000005,36358.22,299.0,801.21,1045.96,1036.09,16220.0,4770.94,6987.130000000001,850.0,2968.0,2860.56,38447.75,1269.1,1516.89,9414.45,306.9,784.91,3490.0,1617.2,2982.95,1199.28,528.89,15984.75,3040.99,10456.510000000002,2135.07,27627.969999999998,3257.77,6021.35,10430.0,3706.3,3110.7699999999995,8103.0,2537.2,4965.59,3373.0,3200.0,8094.0,10442.89,849.69,24765.87,699.9699999999999,4502.53,750.0699999999999,1360.8200000000002,6144.0,3322.9,10021.25,19840.66,6605.339999999999,553.0699999999999,4610.0,2724.8900000000003,3852.46,149.22,350.0,377.08,2540.86,3525.0600000000004,750.0,199.24,153.37,78.01,1425.3000000000002,6315.27,9993.1,1685.94,12362.94,3247.76,12132.65,6365.170000000001,50.0,13088.22,931.07,4215.84,1847.12,18276.51,6709.360000000001,2991.9400000000005,1427.75,26.4,3865.4,1743.06,4218.27,3159.77,6314.66,7103.720000000001,10760.31,3802.04,2174.0,1200.0,32290.49,25518.120000000006,31540.040000000005,2538.19,29999.539999999997,2475.63,572.22,1200.0,1891.22,1394.5300000000002,516.24,1656.57,3031.9,46162.08,8934.280000000002,93.36,1639.76,7499.23,2596.620000000001,149.86,569.96,27270.3,2710.0,945.33,11629.7,62440.23,1535.06,2489.45,3340.66,1771.99,2819.28,3418.92,3380.2400000000007,3690.0,7709.56,3383.23,2340.0,727.41,350.0,1659.28,1851.44,8076.64,700.0,1485.83,3396.0,1527.59,680.0,4538.87,39073.380000000005,989.88,3253.22,1080.0,4199.51,8489.249999999998,4206.260000000001,319.08000000000004,2230.44,14518.73,1235.4399999999998,6106.220000000001,939.48,284.43,5223.89,6554.17,6814.860000000001,640.0,3206.0999999999995,8499.080000000002,3427.9800000000005,8424.19,1160.14,16623.61,5339.870000000001,299.38,2145.82,4835.97,4780.0,717.2800000000001,699.7,1480.0,1352.6,11072.05,4242.27,3855.54,1133.23,2514.51,271.18,3670.29,1079.09,550.0,17.1,44264.49,422.01,43700.46,2350.7200000000003,2149.19,1404.3,6948.04,2259.75,882.92,2031.68,30793.52,389.24000000000007,428.38,1763.09,14134.97,5194.299999999999,2653.02,485.26,2014.66,2347.269999999999,16948.82,739.01,15603.93,2457.06,700.0,2541.98,1635.8200000000002,830.22,798.28,341.99,11494.82,4303.24,915.02,2313.19,3238.5,3029.71,5662.85,10621.600000000002,2680.4800000000005,21926.83,553.2,7939.14,2861.31,3399.82,1029.61,2237.74,60.0,17341.129999999997,702.85,1136.11,1487.11,593.73,193.61,8018.77,14663.929999999997,17540.0,580.66,21420.28,399.26,4523.26,14000.0,1323.57,219.06,3770.75,623.24,6816.02,19323.58,1344.73,1295.05,4916.0,648.05,4965.91,2260.0,727.02,6350.0,22500.75,477.24,5382.120000000001,1350.41,13361.07,791.09,11599.76,630.85,350.0,15159.63,1233.46,12957.15,1031.59,2307.24,2024.17,2170.0,50.0,3576.68,850.0,4141.65,11902.05,6239.02,175.73999999999998,4547.68,18.15,2500.0,6005.819999999999,1609.98,9621.36,550.0,76.01,1292.0400000000002,523.0799999999999,2447.27,3689.47,2944.8700000000003,1419.4899999999998,2789.92,66091.16221372377,399.24,750.0,1482.06,2036.26,699.47,43855.880000000005,299.3,11858.29,6441.120000000001,576.29,30012.54,8783.33,2094.54,2900.03,850.0,564.04,23615.36,1670.13,360.0,7774.96,350.0,17678.81,14202.260000000002,5304.96,3513.0,1640.0,1228.7099999999996,8678.41,500.0,4256.02,50.0,2500.18,1661.66,151.44,6615.63,182.25,1666.0,362.12,11449.25,988.21,12482.01,3419.68,2607.759999999999,1597.36,1657.09,2085.32,15464.54,90.36,20704.650000000005,4125.26,4266.49,2500.0,6358.64,653.6,16547.56,9176.080000000002,165.97999999999996,18748.41,1000.5100000000002,1249.87,1179.49,1660.79,3051.52,14778.05,4786.0,819.39,6950.0,1200.0,3216.73,1000.0,13628.97,1061.37,52121.380000000005,5112.800000000001,10959.64,3096.1399999999994,8028.89,2000.0,13977.88,20590.84,2069.13,1550.0,1662.29,806.04,10941.440000000002,8151.5,7161.039999999999,855.75,1534.55,1862.31,3200.0,6868.41,8421.439999999997,13243.05,65.59,4718.41,7134.279999999998,2750.0,6146.360000000001,215.96,365.6399999999999,2996.0600000000004,1554.76,2223.81,4182.07,10273.93,365.77,1478.07,9210.590000000002,2752.16,440.34,2255.5800000000004,3782.01,27.6,3239.59,3038.8,5586.65,4879.94,982.1,273.54,1820.0,2950.0,500.0,1879.09,6492.860000000001,9034.01,15898.43,492.0,5051.61,12090.350000000002,833.99,6292.720000000001,2793.6,14904.11,5711.720000000001,40947.28,13213.25,214.83,1661.17,14125.790000000005,1796.3300000000002,849.83,3003.79,1359.85,458.77,3462.78,1115.39,14780.0,7494.290000000001,4955.12,17866.86,7142.14,5794.389999999999,100.01,895.02,20707.86,732.34,24342.44,5697.450000000001,4660.42,1385.7800000000004,3314.1200000000003,7374.73,5931.750000000001,2500.0,7300.09,59.47,692.41,49382.64,3628.02,524.06,4421.86,25128.66,60.0,11717.27,1659.88,654.22,2099.32,1764.8300000000002,355.4,21990.17,915.6,1131.24,38.33,18142.480000000003,1349.06,10488.78,64.49,8301.439999999999,3833.28,634.1,1450.04,14334.48,1930.0,2346.9700000000003,1059.73,3949.41,656.2,13416.470000000005,7294.58,1779.78,376.51,9738.06,9090.0,846.3,1715.6,12297.45,1402.91,5319.81,499.05,700.0,5189.59,831.01,196.47,2165.35,4380.0,12128.309999999994,3293.36,20688.24,12949.8,1674.81,2070.23,7884.42,18912.17,2700.63,1147.61,5747.99,150.93,17999.78,1658.05,265.97,1099.4,1295.82,1700.0,4616.259999999999,510.35,1275.0,13229.92,60.0,14590.27,2318.76,3000.0,4085.22,799.1600000000001,2785.59,740.0,1000.0,1994.02,16056.75,4958.96,17216.339999999993,3037.0,559.19,980.54,13431.01,5966.229999999998,13752.99,12118.32,364.18,29045.730000000003,1200.0,75.84,1749.68,115.79,2570.33,523.86,629.1800000000001,199.12,1879.98,8878.66,4590.0,2316.29,827.2200000000001,2982.3799999999987,1369.91,2795.39,2869.1400000000003,19189.23,2770.0,1900.34,945.71,849.9,1658.49,17550.55,8633.34,1000.0,3289.36,420.0,4025.82,1299.13,7089.429999999999,2666.379999999999,5254.900000000001,678.5400000000002,9448.82,1439.19,514.75,10125.68,2772.81,1160.6,1656.0200000000002,3692.14,2794.6000000000004,29185.44,26558.60000000001,10477.2,1686.4899999999998,9947.86,923.51,1398.0100000000002,1819.2200000000005,7632.7,1890.0,1029.31,5975.8,2187.2,3092.03,15181.87,12921.769999999997,1000.0,1393.98,1012.5599999999996,1895.35,4814.960000000001,2018.27,1706.5200000000002,1660.15,399.82,1825.0,19439.45,1660.17,5732.58,17901.76,3405.25,999.99,550.0,686.16,13643.999999999993,16217.9,6931.449999999999,5257.52,6298.719999999999,6830.62,500.0,1600.0,4589.93,3571.29,1121.63,25262.86,2750.0,6988.700000000001,3042.3300000000004,5291.0,1170.33,500.0,1690.81,10659.399999999998,5124.379999999999,5622.259999999999,2622.9700000000007,2366.06,50.0,757.62,11533.57,866.06,362.79,4721.35,19273.79,2253.98,13197.070000000002,292.46000000000004,1773.4099999999996,398.04,613.6600000000001,795.23,3900.0,3659.35,842.21,1069.14,5880.28,1682.44,56917.08,935.15,1501.36,367.01,4995.17,3243.98,283.29999999999995,6576.34,51.69,7252.110000000001,2829.5200000000004,1000.0,3422.3,1704.41,1656.95,2662.75,362.9,1320.0,15790.58,50.0,10050.0,4059.66,13852.07,2241.3,4266.38,1432.06,800.0,550.0,9569.969999999998,6407.78,33.99,3324.1,400.0,10736.49,696.6799999999998,8745.310000000001,2457.14,6684.369999999999,4846.77,5472.75,3369.38,3105.83,8846.340000000002,9471.23,5803.91,2868.0,12246.26,1299.76,21772.540000000005,18619.02,113.02,1938.07,395.0,5119.77,1270.91,3938.92,2902.91,622.48,3859.0,2488.9300000000003,200.85,435.5,14612.320000000003,50.0,1275.0,23966.65,11925.0,1794.2199999999996,4258.4,7385.0,1549.26,670.8499999999999,1158.44,14840.540000000006,1010.0,1400.0,350.0,4391.84,456.39,50.0,1727.66,999.5,659.16,560.0,1100.0,828.0799999999999,1415.68,2156.92,645.89,10625.32,7464.79,1990.14,4031.8399999999992,5226.4,3699.56,9594.16,9096.81,893.3,1886.93,626.4,1927.76,1347.0,365.64,2964.5499999999997,11737.83,3900.68,3947.0,990.69,1449.83,9111.56,241.73,6637.93,2305.12,7539.170000000001,3934.400000000001,8244.040000000003,12102.21,2526.22,3235.07,8543.15,1875.89,12.1,671.19,8451.080000000002,593.8600000000001,2625.8399999999992,4398.0,1639.86,1053.95,800.0,2021.24,1634.87,14980.88,400.0,5292.02,761.7299999999998,1150.0,475.85,740.86,6686.490000000001,365.7599999999998,8134.71,9739.76,991.72,4794.89,754.86,640.4,9887.0,20669.99,3996.0,3386.46,2023.0,850.0,11263.41,1270.21,1175.65,10659.73,3365.5000000000005,2887.22,1559.48,7744.769999999999,446.78,4596.48,5019.59,8300.0,288.23,1049.54,505.54,8712.930000000002,1000.0,850.0,1658.47,7244.01,1155.21,6010.0,580.59,15406.009999999997,4895.12,1661.36,176.94,1226.22,6260.26,577.11,2649.75,3302.31,4021.1,1100.63,3651.97,30557.38,428.54,30000.0,6920.570000000001,1879.7000000000005,20356.489999999994,2973.72,2240.63,8078.959999999999,5046.780000000001,20122.63,5000.0,1267.47,27042.0,3725.0,4148.78,1167.65,8587.369999999999,28728.07,4869.33,1829.4,3260.96,3500.0,7843.0,850.0,1909.41,5064.1,9977.32,11239.679999999998,4570.9800000000005,581.55,8450.0,3575.84,363.48,700.0,965.0,613.22,2060.0,913.09,8706.529999999999,1384.06,505.16,434.13000000000005,459.98999999999984,918.66,33027.19,13036.790000000005,706.56,10043.08,15960.9,153.44,588.6300000000001,15012.1,215.76,1389.85,1698.27,1817.2200000000005,3254.8600000000006,5226.27,1488.05,2319.21,1993.2499999999995,3621.6,7461.280000000002,8011.660000000001,14292.730000000003,2766.9,11492.3,12404.98,6932.46,2388.1800000000003,1157.01,1658.38,2325.72,875.0,150.0,3846.67,6653.62,4421.179999999999,2900.21,5820.179999999999,3609.78,772.2500000000005,1179.64,849.9100000000001,209.35,1126.28,799.6999999999999,16506.719999999998,7386.14,1091.12,663.08,350.0,1240.47,5786.349999999999,753.21,527.35,422.2200000000001,8634.15,43635.78,376.6,26365.16,1637.2299999999998,18991.27941454816,533.71,1450.3200000000002,9574.25,399.9,16703.6,882.6200000000001,2092.36,380.22,7681.18,550.0,14988.380000000005,4387.01,550.0,199.5,9564.539999999995,388.56,38324.80999999998,349.7,12688.51,400.0,550.0,118.36,19954.1,4039.18,15868.55,759.5500000000001,1701.96,1647.85,556.23,752.6700000000001,9534.75,4800.0,1350.0,9800.0,4142.46,9727.86,200.34,1819.67,4341.8,10320.0,7250.0,10699.75,4011.81,350.0,9798.88,4173.11,2713.86,18000.0,131.03,487.53,4326.129999999999,11366.09,1050.0,722.97,3806.52,1347.6,8512.7,1233.44,50.0,9402.97,910.0,1711.0499999999995,1260.07,2319.13,23041.62,1900.0,756.8600000000004,19641.09,801.36,488.09,530.0,8081.609999999999,1311.02,4737.38,167.62,3900.0,400.6,7943.130000000001,3806.890000000001,8490.27,269.97,1676.2500000000005,3357.23,1022.36,24204.92,208.56,11962.85,907.51,17292.78,8451.080000000002,828.61,2497.59,19770.7,20655.46,14082.769999999997,661.6800000000001,5965.969999999999,18995.06,2333.05,150.0,93078.89,4128.01,2272.14,2839.4800000000005,5984.250000000002,4179.81,2159.06,1813.11,499.4,15885.269999999997,2232.09,2133.18,6914.29,29748.62,13562.19,1661.36,4140.05,4776.879999999999,63.63,812.66,708.8700000000002,445.6099999999998,1166.37,28824.329999999987,1106.8200000000002,2230.78,3761.5699999999993,887.36,2302.6,3217.1000000000004,2125.98,1183.63,2890.64,21272.13,999.78,18259.04,500.0,2724.09,464.34,499.87,3090.0,14547.2,4084.19,450.0,9177.830000000002,1661.3,400.0,1025.27,12817.04,3400.0,5113.13,3871.4,8696.189999999997,1500.89,6570.049999999999,800.0,730.23,1655.98,1792.1699999999998,2012.89,3262.62,4250.0,1665.75,2747.49,5405.85,5023.05,2539.49,1687.31,3036.74,2896.41,1135.53,800.0,149.35,922.78,8772.89,564.34,1655.6999999999998,10043.83,1013.87,1.0,625.08,570.8100000000001,4390.0,1100.0,1307.93,1009.11,2763.32,6500.0,1801.16,5385.25,60.0,18048.88,2080.7200000000003,150.0,450.0,769.43,13813.96,1897.76,3100.0,1284.1,596.34,144.36,3628.9,107.69,11198.61,2110.42,4096.07,3076.87,1205.12,18630.0,17746.58,180.74,3641.4900000000007,4505.75,4988.630000000001,2901.81,1409.95,1009.01,4259.74,59.79,1938.44,22845.63,520.0,1489.99,12798.26,1207.0455105592428,1723.9499999999998,60.68,14425.180000000006,1579.06,4938.85,15175.54,4932.69,642.0899999999999,14291.439999999997,6584.21,3334.21,5192.04,1150.0,11177.02,1498.77,4509.91,3090.0,6322.09,5887.899999999999,5597.65,2191.36,1559.6799999999998,1989.02,165.97999999999996,1360.0,10734.75,18946.63,1918.98,1565.6,5449.98,52891.25,867.54,11029.72,5634.16,7209.53,1088.17,326.43,7399.72,12367.669999999998,1949.5,2052.86,5272.2,1855.13,9895.84,550.9,43087.98,1268.56,1434.35,19002.81,2847.0,2779.74,350.0,1699.09,19265.52,2898.23,2140.49,7894.300000000001,65.49,1599.32,13973.049999999994,500.0,4810.24,2000.4,12182.16,77200.76999999999,44547.83,3162.1200000000003,3010.86,2356.0400000000004,5142.55,86583.90999999999,4920.01,3850.0,4090.0,5000.0,8128.48,910.36,1109.54,149.89,5930.95,14714.51,27594.73,366.88,4339.36,831.8000000000004,10293.15,62.29,1067.37,6499.67,500.0,1938.38,2291.63,1751.55,2185.59,8375.76,600.0,13025.929999999998,4511.91,6000.0,699.52,2250.09,9443.96,2750.0,333.67,747.84,2970.08,1149.4299999999998,2229.86,3500.0,5645.290000000001,880.0399999999998,411.33,952.4100000000004,1656.76,600.51,3800.0,7258.2,1436.02,10697.2,3490.8200000000006,1665.5099999999998,16903.15,2704.15,519.07,565.4,15278.58,978.52,1050.0,674.69,9781.94,4731.869999999999,19572.7,2749.28,1125.78,966.19,8739.83,1578.5,5036.549999999999,1659.25,1943.74,7482.13,389.9,2396.98,4285.13,29600.28,1352.9200000000003,6850.0,3795.68,23939.29,944.12,2742.21,13449.47,9775.67,9375.79,4112.64,8459.1,13967.74,4120.4400000000005,1189.8,2257.81,7209.04,2849.83,1350.0,4571.150000000001,3079.24,715.6700000000001,84.92,244.64,21849.18,990.0,100.0,350.0,2874.63,880.23,980.0,4800.0,15959.35,7518.049999999999,2016.91,1302.8700000000008,950.0,2290.24,4452.06,1164.92,2750.0,627.52,149.10000000000002,42136.0,9169.000000000002,18088.51,3141.2300000000014,1319.8200000000002,3972.95,5945.109999999997,1350.0,560.47,7460.0,366.52,670.0,16384.75,401.56,1567.0,400.0,450.0,2541.99,7870.0,900.0,2443.3,2663.3599999999988,2256.6,1849.07,338.81,2360.62,110.06,9878.61,743.95,3529.67,837.38,1241.7399999999998,763.5600000000001,12126.16,29162.46,688.04,1500.0,961.15,500.0,4460.05,2321.26,2115.8300000000004,3150.0,10568.839999999998,1200.0,505.05,19049.84,8143.730000000002,69.37,13881.72,14274.6,1460.73,950.0,798.26,1949.96,34590.74,18403.04,351.58,45549.65,5847.380000000001,14211.89,939.39,3710.0,38252.66,600.0,997.27,1755.1,3765.28,866.1,699.31,33094.5,879.56,1350.0,1254.17,6717.28,4626.810000000001,3468.57,37305.880000000005,3000.0,8537.24,4599.450000000001,16609.25,106.2,5033.31,14190.89,1678.91,12841.94,34494.35,8304.92,388.01,29496.4,5628.68,225.19,331.78000000000003,3161.32,8343.25,1571.13,6151.59,12330.0,13370.1,2256.2,365.11,7379.69,489.39,571.69,1110.0,4489.85,1004.32,1293.35,1605.59,2502.44,202.85,4003.33,7965.400000000003,1677.24,9279.21,1146.36,2801.63,1049.81,1.0,50.0,12.24,350.0,11040.0,116.03,1300.0,3086.32,1150.0,500.0,4851.889999999999,18416.7,459.50000000000006,1570.75,4225.86,7216.0,1993.01,2287.6800000000003,79869.81999999999,2769.31,490.5100000000001,2621.8,10935.450000000004,398.15,1587.13,560.0,135999.64,1071.34,1100.0,20164.330000000005,816.695428791422,7359.860000000001,840.0,362.88,1775.98,2050.5,1199.94,3275.21,685.74,50.0,1309.45,2223.59,639.1800000000001,8392.730000000001,1350.0,5522.73,10405.82,2659.89,4831.65,8716.49,1607.98,12476.5,2178.58,247.42,514.59,844.19,5108.200000000001,84.66000000000001,10059.57,1194.91,2043.65,42280.11,11376.12,31437.86,3150.0,5630.0,4169.99,4128.43,7514.49,15476.56,366.47,5217.19,150.0,10312.41,769.62,6329.052235642505,448.91,1036.23,12766.98,1886.77,3559.3099999999995,3989.4,6079.1,2499.67,12345.520000000004,5040.0,27185.63,26216.1,2005.51,12138.15,13725.74,2407.48,4388.83,29.770000000000003,2865.77,1535.63,2369.59,26271.27,7547.48,11909.32,258.23,12112.36,17401.62,3564.9700000000003,1821.3,4991.91,1350.0,3969.24,3050.0,4066.96,585.36,9219.71,1659.03,411.57,500.0,998.64,9921.18,300.0,10779.71,4339.03,400.0,10665.679999999998,1090.0,8498.060000000001,6659.13,2897.660000000001,26412.59,8067.08,4433.45,258.32,189.21,216.29,110.6,600.0,12178.58,1060.0,451.28,1959.41,675.0,17978.55,66.15,10748.23,8636.089999999998,13155.18,15707.8,4469.05,2208.24,4282.79,3970.0,10524.24,2121.46,5413.48,4320.0,17612.590000000004,2332.1,2092.09,839.32,11361.7,11168.11,1317.69,50.0,980.67,13604.64,341.50000000000006,3449.54,2500.0,13230.94,34.65,2360.26,6152.53,9159.02,59.37,1926.55,763.5,3609.91,4733.719999999999,2700.87,262.0,2189.81,16809.09,5811.129999999999,2700.95,13851.85,1218.15,26831.27,350.0,39.85,1298.87,1666.2099999999998,900.0,23988.79,10805.0,10353.63,999.78,795.21,501.02,3084.09,1449.52,1943.87,749.72,204.22,7189.71,1882.1800000000003,9460.86,1065.8,5654.43,78561.26,20678.489999999994,6970.74,2880.4,414.63,3629.94,1200.0,21752.450000000004,596.32,574.0,5245.03,37369.73,1035.71,787.78,1500.0,16817.74,364.1599999999999,3837.92,133.09,5592.91,925.71,1042.3200000000002,6590.0,363.5,18604.73,7110.330000000001,5562.349999999999,7169.759999999999,953.39,13026.89,2299.75,2170.24,1330.0,1200.0,569.3600000000001,1413.24,3436.93,1728.04,2544.28,3233.76,293.81,1926.44,1000.0,1300.0,476.3999999999999,3819.73,1547.82,2633.15,1030.0,1200.0,5519.79,10727.79,11158.99,2750.0,1409.5,6711.15,432.13,544.9100000000001,31970.24,974.59,1658.1799999999998,152.52,3929.96,2011.94,7877.78,7162.349999999999,171.83999999999995,2239.55,1550.56,1191.4699999999998,13159.21,2870.25,2378.65,4739.47,1251.31,1000.0,1611.65,13680.0,4544.96,901.74,600.0,432.37,1813.97,13545.87,1360.0,629.2399999999999,19616.74,27042.39,823.42,13820.48,10450.88,9510.72,286.71000000000004,27555.039999999997,664.51,665.17,3300.06,949.0499999999996,1259.31,17724.29,809.4000000000002,135.84,3020.0,1094.69,7784.490000000001,6283.63,3998.81,799.35,850.0,3650.44,2923.35,120.46,666.22,4226.02,2437.63,12742.45,1103.27,1000.0,13141.06,1200.52,13944.77,2272.22,6456.6900000000005,590.26,11996.180000000006,27389.19,789.3800000000001,11698.910000000007,550.0,517.55,7910.51,900.0,1840.0,1536.9,165.69,1099.2400000000002,20000.0,634.1700000000001,7169.159999999999,2702.52,6027.04,2395.52,926.67,4214.389999999999,11682.649999999996,1800.0,4899.67,3946.19,856.53,150.0,1919.35,39583.79,2450.46,5190.180000000001,2500.0,849.77,16859.47,600.0,9143.98,1971.46,10809.809999999998,5606.789999999999,365.04,287.75,816.28,2224.21,1224.78,5580.0,1965.63,12555.340000000004,10425.85,144.24,16395.429999999997,3899.88,920.4700000000004,30.0,14986.149999999996,3154.7500000000005,1121.37,4976.740000000002,4509.540000000001,6954.21,100.53,1067.61,2001.01,29406.18,4236.31,29999.480000000003,3017.97,2735.48,749.48,4674.950000000001,165.82,949.74,54.06,2423.5199999999995,47.62,24193.05,7863.66,36715.7,939.06,742.62,1665.26,3173.8500000000004,1230.41,18598.2,399.89,2229.49,2058.84,10308.069999999998,550.53,1170.0,3124.29,1665.4,12544.880000000005,1368.07,1270.0,499.51,3922.39,2855.27,2299.46,269.0,2300.0,2499.41,4385.07,417.5,1015.47,5138.63,18445.14,30000.0,150.0,6882.6900000000005,3259.4,192.11,300.0,3208.21,964.1,681.98,4804.219999999999,5703.1900000000005,50.09,4845.299999999999,1170.0,1300.99,443.78,170.55,3963.32,6604.570000000001,1656.4599999999998,1465.35,3235.99,13755.19,7590.329999999999,15326.47,164.72,1560.0,391.92,1899.5,6889.65,9830.0,7038.23,14050.64,7497.070000000001,13577.86,17054.7,942.64,1180.0,590.6699999999998,4014.520000000001,22160.910000000003,4359.8,238.71,26.52,3150.0,851.9300000000001,5438.92,29137.78,460.0,24603.11,1398.4900000000002,150.0,2394.67,400.0,6065.64,3499.88,772.9,1948.57,24689.72,1358.88,8391.86,519.0200000000001,4217.56,1100.0,13029.550000000005,350.49,1299.46,1135.94,9065.17,18531.56,2201.44,500.1,747.0200000000001,15968.66,895.38,5933.02,1666.0,10582.54,470.93,82429.88,1666.0,1168.0,4574.52,1721.69,1344.5,734.94,819.06,60.0,5588.740000000001,2750.42,6570.7,715.57,6288.27,2193.64,1428.5300000000002,6290.679999999999,242.09,8529.48,1535.95,12083.72,1320.0,9304.2,1064.5,1541.98,4896.08,970.18,3020.16,6439.09,43895.33,1000.0,876.44,1950.0,3123.19,719.9499999999999,5937.55,998.36,16268.63,4276.660000000001,10729.7,27943.660000000003,5580.68,980.76,2576.92,2634.0,7886.62,8080.650000000001,954.98,779.9200000000001,10797.55,5774.689999999999,10095.919999999998,2499.83,181.3,6498.16,39439.05,403.24,2439.51,369.63,6390.07,5980.0,597.27,7989.73,1055.5500000000002,3204.96,4670.75,696.6700000000001,11790.74,973.72,1143.33,905.92,1959.42,609.96,6268.56,3720.0,3338.8700000000003,6395.759999999998,5804.59,163.46,1496.69,9426.81,1207.26,1099.76,60.0,983.39,595.77,13799.42,1659.45,344.77,25767.07,19150.65,3659.85,1253.51,4833.469999999999,350.0,1075.1,5441.04,18158.56,2246.92,400.0,8567.75,7800.649999999997,1333.38,5977.78,5982.949999999999,5901.620000000001,18057.73,1284.6,2300.0,3350.9300000000003,5128.259999999999,8651.929999999997,3264.69,1636.3,109.5,287.58,69.5,11208.67,50.0,5121.5,212.42,1658.37,1835.62,21209.45,7040.0,1751.8000000000002,700.0,1350.0,1090.0,356.53,700.0,574.14,1658.76,16349.88,6965.620000000003,3620.43,14084.899999999996,2739.03,820.0,1690.0,13239.570000000002,668.63,4472.860000000001,8435.369999999999,5256.24,25502.21,39500.1,114.12,836.75,499.66,1279.4,1619.83,1585.77,5241.070000000001,1661.91,17842.339999999997,1392.58,570.59,928.88,17988.53,4420.550000000001,1467.86,3837.6800000000007,8022.75,7387.949999999999,380.61,4311.78,2199.33,550.0,2300.0,60.0,18907.4,11690.0,150.0,1660.04,1500.0,10712.82,9025.42,1907.24,3586.12,450.0,11590.0,1659.91,1000.0,28987.42,2631.56,4009.8,4376.73,349.7,2735.2,1135.82,2191.15,464.68,8295.619999999999,249.38,1704.54,30049.910000000003,1804.88,2069.55,21387.94,117.45,997.73,16825.81,5525.6,4504.23,3099.94,4452.22,5963.9,158.0,228.33,802.38,361.04,1007.83,851.58,1399.19,2757.15,2009.39,7594.139999999999,865.9100000000001,1704.0800000000002,3061.03,500.0,296.86,1489.95,3462.52,2768.64,20453.44,16797.63,13342.850000000002,4935.56,11672.0,453.47,2626.21,1733.98,41949.28,7522.580000000001,3500.0,1500.0,2158.93,1075.0,6206.390000000001,854.49,11617.35,27806.46,53184.34000000001,2250.0,2279.53,943.11,7687.759999999998,28527.26,707.04,678.88,1037.16,8836.84,184.86999999999995,1600.05,985.64,14376.960000000005,456.33,5580.5,775.32,5804.02,1760.83,350.0,3308.57,4542.06,740.0,389.18,1329.5899999999997,4393.490000000001,15360.559999999998,24123.42,6746.600000000002,13334.54,50.0,366.55,6503.070000000001,960.24,192.4,795.26,2057.44,1581.66,851.87,5451.18,2071.45,2061.46,661.1299999999998,23430.06,4149.61,7215.85,1099.1999999999998,3011.01,369.02,1581.6999999999998,1658.0,242.28,11488.13,4200.92,14644.75,2666.75,500.0,1014.51,700.0,4127.98,1190.0,4239.99,9679.510000000002,1680.1300000000003,909.83,228.12000000000003,1532.98,1010.02,4067.3,2884.66,3705.420000000001,1400.0,611.46,2423.33,2246.42,9586.97,2604.15,4890.0,1126.7,4249.79,2369.92,9642.11,1475.52,9768.16,8483.779999999999,7309.540000000001,1461.55,5221.23,427.68,522.11,18184.25,953.24,640.0,1785.4299999999998,60.0,7150.77,759.95,1279.2800000000002,4380.0,1140.0,451.49,8244.05,21770.0,9981.11,6017.389999999999,8941.38,6022.029999999998,1739.36,3515.16,14381.7,2438.05,17574.59,4808.85,2205.78,790.0,5586.83,1350.0,39459.04,19751.56,580.1699999999998,538.19,5494.25,9047.46,499.38,1658.65,6318.23,6518.75,17627.019999999997,5377.640000000001,3505.0,71254.83,2794.05,1242.85,2501.4299999999994,4548.66,1026.8,2873.58,3949.0,500.0,90.62,369.53,2049.7200000000003,1151.6,4718.33,306.76,1697.72,356.14000000000004,1660.0,635.98,700.0,30578.7,2139.31,19129.149999999998,1106.76,18755.98,1658.33,4388.32,1581.37,1657.09,500.0,3636.45,15260.0,1000.0,40964.78,72.81,2580.0,15919.79,13039.92,4000.0,1350.0,14977.52,9989.74,1228.75,1776.2999999999995,4371.099999999999,8178.77,1086.5400000000002,238.33,37418.86,1200.0,22484.14,254.26,2022.39,28563.97,50.0,5404.09,6394.740000000001,8527.91,1554.93,2757.43,1413.5,9346.55,19004.08,1661.4900000000002,474.49,350.0,1012.97,70220.43,6891.44,3790.899999999999,15159.06,5113.11,12711.309999999998,2012.77,159.94000000000003,1504.79,10889.58999999999,7100.0,34659.25,2120.0,1190.02,4190.0,12115.9,1694.76,3073.8,1366.43,4062.72,3749.48,3294.15,1335.65,500.0,1143.97,25453.77,1057.9,364.7000000000001,4938.29,2750.0,2700.0,5364.4,2563.44,8365.349999999995,2499.38,2613.22,1530.0,6059.42,6846.13,10618.58,3244.61,2046.58,3347.35,2395.22,1770.49,32628.91,13309.110000000002,1080.72,2380.72,1660.63,3546.02,5276.99,4343.719999999999,492.06,541.77,1899.72,350.0,6609.08,5279.99,4929.889999999999,83.88,2518.94,12377.16,10582.35,17021.05,3563.3,11275.94,1300.0,1309.79,1410.0,724.85,4209.25,572.1699999999998,132.6,951.06,2592.54,11514.63,11670.87,1200.0,110.0,262.76,5279.14,270.0,4130.0,410.21,16026.34,574.6,1448.06,7084.219999999999,729.9200000000001,11229.8,11900.74,5776.579999999999,150.0,47396.23,1000.0,11711.130000000005,1307.24,19940.62,10739.520000000002,2707.9100000000003,3464.49,3841.32,1657.9299999999998,25212.93,716.66,25872.42000000001,4155.91,785.9100000000001,1053.17,3376.32,10442.95,4597.11,12849.74,12332.55,3008.96,33816.35,4869.460000000001,9354.96,8047.97,1658.01,2608.79,425.0,260.79,1.0,14077.09,2888.58,2012.48,1750.0,965.11,1658.7199999999998,13769.91,4307.700000000001,2193.58,10980.15,450.77,1716.92,9678.05,10526.06,64.48,10289.4,2029.22,3715.05,50.0,665.33,948.01,5123.479999999999,12174.98,1000.0,11194.61,1581.38,19.15,971.67,29999.85,2530.86,10107.050000000005,1002.85,2230.0,1500.0,3484.37,1700.0,21499.04,1508.6799999999996,1060.0,862.6,1200.0,6319.0,8229.640000000003,1902.72,1200.0,445.65,1676.66,3784.930000000001,499.9,1309.32,1800.2599999999998,700.0,1889.7000000000005,7849.089999999998,1128.67,7394.360000000001,2924.49,465.73,6624.45,3682.09,10827.82,17293.649999999998,8066.69,35980.41,8104.32,452.01,9268.190000000002,10819.23,555.3400000000003,422.64,50.0,2937.82,2992.69,622.27,7566.21,365.5499999999999,5914.88,835.3499999999999,500.0,1787.35,11595.09,2696.7499999999995,1562.55,9337.1,232.94,11028.0,8208.68,12981.3,13549.62,1584.79,1254.9,60740.69,12065.040000000005,10469.69,475.0,102.12,1723.64,8004.99,4839.6,6436.370000000001,22067.42,4261.92,1688.25,1979.84,3159.83,13795.589999999998,6089.69,2821.6400000000003,3330.3,696.59,7280.0,5500.0,3085.16,1599.85,11318.089999999998,1036.3,1851.24,4537.6,9793.85,4780.86,466.09,25847.19,10155.81,563.19,6120.82,20568.62,800.0,1249.61,2110.72,145.46,5191.789999999999,1124.58,722.53,699.45,3421.67,3267.29,1865.72,1000.0,1350.0,8602.25,7598.329999999998,8922.3,3948.0,1018.31,532.3199999999999,1089.74,349.26,2950.0,2144.53,5327.849999999999,13848.79,1000.0,25117.36,1338.4,1779.41,3272.44,154.34000000000003,4563.93,3300.11,2252.85,8075.48,405.73,1304.72,2200.0,355.35,2355.4300000000003,999.96,8557.1,730.35,2432.66,6630.700000000001,1949.26,54916.94,3097.84,500.0,1378.74,11253.829999999998,3599.01,3103.37,10526.69,3403.4700000000003,4352.43,6799.87,1701.42,92735.79000000002,1656.26,65162.39,14467.99,26699.22,1361.79,4534.209999999999,5834.31,179.95,2787.4700000000003,2945.69,9462.22,8055.49,4317.37,201.85,10012.260000000002,25748.66,12834.53,1174.3900000000003,383.29,50.0,150.0,8716.5,572.0,732.32,73048.15,442.98,299.28,25949.43,14315.09,2455.78,1275.0,22019.03,1873.11,8853.69,573.37,3390.0,1250.0,4437.92,20296.95,2699.19,1796.69,1431.0500000000002,15115.37,137.95,1717.25,7849.55,14285.39,2318.51,11220.120000000004,1038.21,4197.96,525.6199999999999,4802.23,3074.56,1677.9,2137.36,367.06,146.96,15350.65,1830.95,6894.96,2078.02,2643.23,770.39,2133.73,3718.34,1148.13,840.0,600.0,474.31,17938.07,399.94000000000005,4810.710000000001,5084.1900000000005,1050.0,3182.31,15479.47,450.0,2658.04,8950.0,15147.21,1352.9599999999998,950.0,624.4599999999999,2300.0,100.0,13640.799999999996,6966.37,399.66,7627.859999999999,1350.0,3139.9,834.0,1649.9499999999998,211.86,1699.99,3318.3500000000004,3549.66,5530.38,1659.31,25898.48,166.19,21699.27,3763.22,1727.95,1986.8,500.0,10064.300000000005,5818.26,2742.9,5500.0,60.0,884.19,31.43,1243.0300000000002,4849.51,54069.030000000006,8226.17,1229.91,1000.0,8855.8,18979.47,799.6600000000001,10564.81,12716.88,6111.040000000001,500.0,477.91,3987.59,240.9000000000001,8314.75,2640.11,2039.96,9786.05,3990.680000000001,12387.29,17407.61,2086.21,3704.33,3975.45,760.8900000000002,299.79,699.67,15706.29,12190.76,210.0,4694.249999999999,2749.5,311.46,20474.93,2130.42,3832.64,1185.47,27.55,71.07,4595.710000000001,438.42,3150.0,963.95,400.0,1978.85,4915.83,1655.6999999999998,350.0,1034.6799999999998,830.0,1360.44,6314.27,1515.08,15588.11,62.61,750.0,7692.409999999999,1972.49,4410.0,3450.28,550.0,1000.0,5374.31,503.1,4254.36,7088.459999999999,699.23,1000.0,8616.529999999999,375.0,10550.88,8791.439999999999,16631.45,100.09,358.26,7251.780000000002,1197.44,1031.5200000000002,7328.769999999999,2399.8100000000004,990.38,7049.74,1657.41,10566.97,5654.49,365.61,2433.47,99.56,4152.28,14200.300000000005,4057.44,16734.129999999997,1463.0,1400.0,2809.12,3203.57,18491.12,2112.77,5004.08,3562.28,769.43,60.1,60.0,851.6499999999999,1044.71,43020.56,2578.95,3671.25,350.0,1936.79,900.0,3297.12,400.0,7000.0,1450.0,1020.33,13497.92,12634.95,557.71,1427.53,5750.0,36524.97,2310.13,6725.05,2799.03,449.24,1410.12,1810.0,7716.97,9292.3,15532.88,3923.0,7352.94,1153.29,5715.37,2707.29,2054.75,2705.62,73439.45,5789.67,1005.0,4613.0,15762.1,847.53,8694.379999999997,23839.65,99.06,850.0,692.3299999999999,26013.99,1349.86,9289.07,2170.64,14619.87,1654.52,5382.19,2768.3,2037.14,990.0,186.61,2717.5200000000004,368.94000000000005,4700.0,706.19,615.24,1182.17,34499.26,239.34000000000003,2917.7000000000007,879.55,1102.78,10648.62,1600.0,8218.500000000002,2099.94,7056.81,28960.93,1658.54,12047.29,1250.0,32485.62,656.1300000000001,59.93,8935.02,15037.63,2760.0,1342.6299999999994,11959.14,93.77,572.1,533.23,11952.85,3998.01,587.52,911.32,3358.36,7359.309999999999,100.0,27251.31,664.9000000000001,2100.0,2088.62,1580.0,232.98,2232.6400000000003,1599.8,9280.07,420.0,600.0,13302.609999999995,1300.0,7007.229999999999,4981.549999999999,1092.26,3426.0,350.0,749.38,8675.5,3255.97,657.45,36839.0,71.21,5864.940000000002,2670.0,2409.2100000000005,822.97,1150.0,2696.42,15121.89,1656.99,850.0,7998.880000000002,570.71,50.0,2314.05,2300.0,1389.48,1288.9499999999998,499.81,1499.43,4668.89,5231.0,559.89,791.09,11701.380000000005,2898.01,552.93,633.92,177.53,9676.13,8759.689999999999,734.75,12402.57,3770.5,1083.93,12151.05,367.58,12702.22,5073.669999999999,1659.53,2026.49,7663.75,10727.43,2133.0,19720.210000000003,530.0,579.78,50.0,5739.38,828.1700000000001,150.0,3118.9800000000005,1390.0,5548.589999999999,5035.889999999999,19089.65,400.0,2080.0,321.81,28182.25,1416.77,8341.71,7254.519999999999,11152.73,9547.259999999998,7101.46,26536.820000000007,750.91,2394.2,905.16,21814.84,9783.97,4704.0,726.47,1587.64,23595.07,1658.83,22197.87,7998.78,973.86,3473.7,11176.66,50.0,950.0,5775.67,3592.29,11625.02,89.79,3098.1400000000003,1706.3799999999997,7000.0,2515.14,1219.42,2589.7600000000007,818.5699999999999,17301.53,858.7099999999999,450.41,1783.12,1450.0,8042.900000000003,537.85,2448.71,456.07,840.0,4049.03,1125.0,770.0,1460.5000000000002,3298.669999999999,7378.250000000002,4483.049999999999,1000.0,1888.15,4995.3,4303.07,16809.59,10403.1,29900.05,3365.9500000000007,30049.83,170.55,999.4,957.97,11611.28,4296.039999999999,3994.66,28824.35,4047.460000000001,1912.36,400.0,4089.8399999999992,24621.619999999995,18887.290000000005,5184.07,60.0,7595.27,5603.74,18492.160000000007,29639.44,41376.13999999999,768.75,564.39,50954.15,3180.94,957.85,329.52,13228.36,15591.56,7837.3,850.0,5721.88,74.62,5619.0,16640.05,6119.87,6205.8,448.3200000000001,20578.68,9449.67,274.59,659.8,3288.869999999998,580.0,1200.0,1000.0,700.0,880.72,7794.8499999999985,10897.27,13689.990000000002,1590.34,47249.46,4142.1900000000005,293.01,1658.9,1320.0,39433.93,14169.35,1369.65,14042.0,31193.06,641.92,15015.0,202.69,3299.63,30922.85,1446.21,990.09,5218.539999999998,26415.02,21157.93,1632.38,15281.430000000004,2589.14,3589.83,2350.0,4619.650000000001,11504.17,3268.27,9283.56,406.65,4777.0,20950.47,7627.93,3887.07,1390.0,1594.8000000000002,1045.0300000000002,1960.81,1434.91,1945.71,1656.52,11013.44,43797.83,2414.87,23895.49,997.58,1492.74,2925.74,6372.06,2123.25,11891.72,513.56,1241.77,3115.0,3850.0,16422.850000000002,24668.28000000001,4099.849999999999,9283.17,8364.909999999998,941.57,68.11,17543.64,595.13,5156.6,513.6899999999999,649.8000000000001,1949.96,1671.37,850.0,264.64000000000004,532.94,668.68,8196.579999999998,8323.39,6051.880000000001,7735.44,36893.15999999999,1185.7000000000005,1385.61,3097.38,13553.52,1136.39,3217.38,4279.32,4626.0,4352.71,700.0,1399.56,380.52,3399.4,1597.75,199.06,552.1700000000001,1050.03,1657.6,3040.28,28514.95,6091.24,2498.8099999999995,24404.63,12754.92,8458.65,1678.57,12058.76,1000.0,1769.26,5730.64,8222.97,735.0,1349.52,10671.02,477.88,4301.12,1655.86,1536.9,10631.55,1022.4,1025.12,1000.0,5666.06,1203.59,2397.17,26673.64,5987.8,3955.64,15273.38,4612.79,5783.58,1350.0,2909.63,1120.9500000000005,2683.37,1786.13,11724.91,5245.21,719.28,14329.04,12322.44,15.0,13795.8,2358.94,1200.0,4056.4900000000007,999.9,5477.39,4699.85,25992.710000000006,9802.329999999998,0.8,513.35,507.4,266.18,3322.4,4839.54,225.2,494.84,5033.0,12340.3,36284.97,6724.989999999999,22772.06,4689.679999999999,989.03,499.02,701.8299999999999,2109.9700000000003,0.09,1800.0,5019.07,1697.15,1419.71,50.0,479.67,900.0,5602.27,7547.38,1657.68,61207.97,861.61,8836.83,31851.13,81.03,3729.6,1659.18,7547.860000000001,1659.44,63554.31,3399.63,8204.949999999999,13.28,7896.140000000001,4949.27,12313.24,2431.0,900.0,21126.89,1649.89,3349.65,8138.13,350.0,15514.079999999998,2956.43,234.38,1657.97,1044.83,2070.900000000001,18943.51000000001,4419.93,322.27,53182.53,5172.09,2072.73,26409.65,8850.0,2170.0,718.08,18685.43,5520.61,1248.88,1525.89,50.0,2440.05,350.0,800.0,3241.9300000000003,11235.18,2169.3900000000003,2462.85,8169.85,5243.41,845.75,11249.97,499.85,184.18,57052.15,845.3299999999999,2518.4,1234.45,15004.7,1400.0,1190.5099999999998,12028.789999999994,2048.3,54214.3,11140.72,1350.0,14927.349999999997,1329.2099999999998,1146.02,16197.9,7849.669999999999,703.25,7309.73,4178.9,66605.54999999999,610.0,3740.0,1200.0,4033.06,2377.39,338.43,400.0,1772.9,1530.0,2236.12,2728.1,4800.0,150.0,61.51,2407.2500000000005,20368.73,842.59,13090.46,386.26,4056.84,2946.9500000000003,350.0,1160.14,31628.56,2750.0,15727.139999999998,29999.63,23065.85,16700.0,6912.92,2497.56,2923.16,3672.97,11399.33,4835.04,1463.0,3708.46,2241.49,12768.8,4179.31,178.61,23890.0,3971.53,6833.870000000001,636.0,6443.01,2629.4300000000003,13898.9,2693.65,1658.26,13886.49,5367.929999999999,11371.190000000002,3993.81,3552.3099999999995,2700.0,119.58,1605.0399999999995,6431.02,1767.12,16355.37,549.92,2081.21,19336.75,970.86,267.66,23964.78,1500.0,244.6,775.0,1901.82,290.77,2500.0,21724.33,391.82,2295.03,10750.78,834.84,227.12,1658.77,176.55,150.46,1267.63,3575.78,1340.45,4469.639999999999,113.88,167.73,8697.220000000001,5442.27,6281.519999999999,11170.4,550.0,92.79,9166.11,1198.39,886.35,5491.639999999999,5068.52,3269.9,3116.82,2149.4300000000003,7492.880000000001,2599.66,8883.97,7000.0,2410.0,164.33,2632.69,968.33,3694.42,2471.61,15186.12,326.56,1228.1,1546.42,1957.31,3139.93,21353.7,10077.95,2900.0,8620.75,5486.02,1200.0,2069.51,41254.15,5289.37,750.0,759.8,10399.5,850.0,12731.919999999998,1665.88,1293.13,997.87,3449.3,2723.2900000000004,5627.18,4664.09,1658.5500000000002,522.4100000000001,4188.21,574.19,1000.0,13164.19,8183.86,13319.82,6679.24,25354.24,5346.2,730.49,3205.6500000000005,9895.82,2050.0,1750.0,949.1,14922.43,15322.2,6706.730000000001,1466.5,4015.81,4860.0,527.27,938.44,4800.0,2468.66,1478.47,3017.92,5150.0,435.01,9916.57,1660.02,3506.2,8320.0,2092.67,3845.68,9430.479999999998,13682.89,3339.4,3165.82,340.86,3256.87,2394.54,1207.500000000001,14223.84,991.44,700.0,11145.25,15485.78,12.71,1229.5,338.81,1350.0,2200.0,5043.679999999999,1287.82,988.73,4067.34,5099.62,1200.0,680.0,1029.97,1916.76,3584.3500000000004,4623.6900000000005,2359.8,500.0,21703.050000000003,1200.0,29205.66,1661.15,549.29,18098.65,2600.55,3979.650000000001,10418.93,18653.65,4760.3,220.07,5674.389999999999,1689.2500000000005,944.52,1301.31,4420.28,4020.78,1249.14,6168.61,2118.73,18850.01,500.01,782.21,3920.0,8248.729999999996,2666.69,828.27,1036.41,1253.88,19282.91,5148.700000000001,2745.19,111.07,500.0,39888.18,5018.4400000000005,5857.84,6422.82,2324.32,1048.76,468.65000000000015,22000.27,607.1,458.95,1269.64,6611.83,2792.08,7970.480000000003,106.35,1948.13,63057.12,9054.58,10256.4,1.0,4120.66,2226.65,7753.83,24474.45,11117.95,3171.02,3839.05,5139.02,7654.700000000001,1792.46,2766.81,489.57,30911.54,3681.93,10800.91,22557.79,12689.93,7923.679999999999,1938.84,15070.34,5510.15,1032.84,3262.7300000000005,1873.06,49.73,153.32000000000002,9769.73,2662.44,2630.0,2189.15,529.73,633.24,1290.0,4234.0,853.8899999999998,3805.92,903.36,623.71,2262.62,2291.89,3314.0000000000005,677.48,1539.84,1229.78,2697.14,2228.46,5720.0,7270.759999999999,426.1,2270.57,182.6,772.4799999999999,3278.18,5649.719999999999,1120.0,5153.16,3222.65,363.1200000000001,24303.48,850.0,15664.309999999992,3731.8200000000006,650.0,3517.46,793.47,1716.3000000000002,706.44,16639.59,9848.3,999.2,1872.61,10975.72,529.4099999999999,5274.6,5607.650000000001,2538.58,3949.71,2450.0,5084.12,2564.12,4966.03,6790.55,4451.14,356.00000000000017,1657.97,848.78,6044.98,3851.07,22769.29,7199.65,1677.5800000000002,8338.349999999999,13138.13,2089.45,800.0,1350.0,7053.79,30.13,6298.65,350.0,1696.0100000000002,8361.630000000001,19219.01,2224.84,1700.0,18716.75,8362.61,152.07,25980.51000000001,2600.0,775.0,573.9399999999999,1000.0,5512.410000000001,11237.3,11114.8,6709.74,4469.4400000000005,7566.39,1410.5199999999998,1329.98,12624.56,10703.59,818.9799999999999,12293.33,3612.3,1260.28,2680.0,1480.11,500.0,2217.19,66.3,2380.0,16989.42,3875.100000000001,148.53,17959.350000000002,46915.03999999999,4844.81,512.8,1667.75,6339.839999999999,1351.14,1661.44,17079.87,5837.290000000001,2596.9300000000003,16388.429999999997,3482.6,926.51,2060.9100000000003,652.6899999999999,6346.01,1967.58,8450.099999999999,13729.11,226.16,6107.83,7309.81,3510.0,4908.92,6888.6,279.26,4129.61,9621.24,3770.83,3308.520000000001,22088.69,2818.02,4563.09,5199.169999999999,372.0499999999999,15848.85,2349.79,399.27,6459.93,6563.359999999999,4900.0,9609.87,960.41,2417.8,3343.06,656.0600000000001,883.99,17190.35,4099.3,203.34,1942.49,4174.41,1855.0,5398.93,1384.76,17942.25,4027.86,12836.34,685.4,12612.010000000002,4479.1,2300.0,1506.88,8785.32,50.0,90.53,3195.23,2864.46,26165.53,8438.53,45396.96,16385.64,1799.11,14635.05,5789.05,53642.57000000001,150.0,1262.1299999999992,3164.7699999999995,1658.54,470.75,1800.0,44.76,864.7000000000002,4609.0,19098.03,489.81,481.71,365.42999999999984,438.5900000000001,2559.26,5658.6,152.51,8169.519999999999,6783.120000000001,16351.58,11461.91,4607.12,859.98,229.38,1116.7,903.23,2252.27,1826.4,2099.4299999999994,1050.0,10619.14,879.14,500.0,6870.0,40308.89,1962.47,30000.0,2484.78,521.14,41949.02,683.59,1603.35,28796.63,19651.129999999997,2300.0,560.0,1659.63,2901.58,850.0,1323.15,182.99,4727.26,418.6,1000.0,63.07,11036.7,14351.430000000004,50.0,149.68,8569.58,12349.5,9771.23,2969.61,13252.989999999998,7048.1900000000005,187.54,1264.41,11020.47,3099.98,6810.03,2574.8299999999995,9728.92,183.98,1350.0,2339.48,9826.61,349.14,702.1699999999998,1145.9399999999998,12190.25,3550.0,1571.66,427.55,6040.170000000001,1496.69,2500.0,357.66,1656.78,1017.41,7386.01,781.0899999999999,2330.0,21312.79,8676.32,4846.449999999999,1730.7399999999998,4556.290000000001,4261.870000000001,3314.18,7378.540000000001,1152.36,11745.99,1012.34,19907.35,1277.49,4049.5,13396.06,10498.829999999998,499.36,49897.49,2562.73,3674.52,53.24,16096.91,3717.82,1266.79,26712.9,14245.9,593.6,700.0,2441.31,1964.58,2443.12,120.2,140.75,797.01,15420.0,20468.76,850.0,9252.899999999998,3204.47,7000.0,16123.339999999998,7892.22,1113.9,573.63,1656.17,1200.0,4108.32,6080.0,1354.54,1656.4599999999998,450.0,8784.570000000002,750.0,4950.6,12391.19,11618.259999999998,898.07,2241.18,8391.87,1501.59,13571.830000000002,28860.87,149.0,8333.89,1005.42,14317.530000000002,4747.2,839.75,20297.09,17777.170000000006,4866.26,784.92,175.69,10889.49,3678.21,4627.79,13012.69,500.0,4277.199999999999,26442.17,9131.629999999996,93.45,83.99,1431.87,463.25,460.0,2669.87,17829.59,50.53,1820.0,8360.650000000001,2068.5000000000005,1329.76,1330.59,1139.25,4167.1900000000005,38730.18,1603.67,34496.56,1998.36,7377.88,1101.01,1639.42,50.43,576.61,1187.3000000000004,124.53,3848.13,558.73,1161.8,1000.0,6534.0,5483.379999999999,7238.709999999999,9833.15,1249.26,363.7900000000001,799.05,434.64,580.6,681.73,716.71,450.0,2354.23,24976.7,1349.39,4610.0,7740.0,5405.19,706.7,8056.82,908.96,4079.5,1784.59,1826.46,7162.310000000001,400.0,8175.07,3600.27,1887.7,1536.9,429.29,3968.44,3177.19,3022.99,1378.0,6388.950000000001,1851.71,3165.54,8732.620000000003,1290.1899999999996,58263.74,89.03,1929.19,4000.0,500.0,1200.0,430.54,850.0,849.86,11956.17,11704.06,900.0,8264.779999999999,6762.92,13447.37,30243.840000000004,1839.77,20155.26,1938.55,1658.0,7453.47,617.18,10158.920000000004,4430.530000000001,3389.5,1767.5200000000002,6104.410000000001,6596.9,1937.17,6687.099999999999,2653.41,20850.4,2323.63,62911.56,3605.42,3535.880000000001,5684.93,5342.8,50.0,5278.51,2239.71,26975.410000000007,1706.32,306.13,721.94,1940.7100000000005,1146.36,15287.15,600.0,235.9,8165.110000000001,2269.65,1455.85,1657.73,866.06,8410.0,50.0,1559.85,1700.75,19086.870000000006,20211.92,950.0,10844.14,4048.79,8353.95,49.37,2069.89,400.0,15996.91,700.0,336.16,5270.4800000000005,2569.13,6750.75,4935.129999999999,958.4,4631.49,1910.610000000001,2750.0,269.21,12250.0,900.7,14659.94,1504.6,2163.82,1536.9,700.0,3558.78,5760.02,1129.92,522.27,9742.15,19589.3,4305.849999999999,4189.31,122.39,1656.09,1433.46,70930.47,4800.0,1749.59,2859.6400000000003,1041.38,305.04999999999995,9122.46,1655.99,5815.35,100.29,551.19,4765.36,5915.199999999999,4472.92,8075.18,900.0,147.96,919.94,545.7000000000002,3609.42,6579.370000000001,28201.490000000005,6227.44,700.0,1892.34,10165.39,1740.0,2543.5,6375.210000000002,30307.289999999983,13080.0,1350.0,6439.25,363.76,6639.950000000001,4291.639999999999,17829.21,31715.51,5625.24,5233.950000000001,1150.0,866.73,5700.01,550.0,21982.27,550.0,152.07999999999998,11819.61,9784.76,1974.54,1240.0,894.21,6610.0,1529.06,1659.55,6880.0,2130.0,1859.2200000000005,36482.03,1361.46,6293.76,5640.31,1575.0,39663.5,7483.569999999999,1003.88,7090.859999999999,614.08,50.0,60.0,1931.98,627.21,399.4,5626.6,1657.96,11288.9,10137.649999999998,17686.71,1234.05,307.13,2204.78,2591.3699999999994,2529.45,4561.51,1914.78,1954.23,2700.0,2500.0,389.33,10170.39,1350.0,10410.05,1611.72,2150.0,147.46,1000.0,832.9200000000001,48687.47,150.0,1679.54,2861.92,13049.25,7928.95,3211.38,685.37,13195.960000000005,1350.02,3310.0,7360.0,1991.8399999999997,567.6800000000001,4800.0,1657.81,3699.74,2751.25,150.0,1558.64,9267.07,1000.0,13809.7,1720.81,815.31,6363.01,401.04,3894.84,620.42,1381.61,9732.65,550.0,16422.18,1345.11,8671.08,6537.290000000001,14083.58,1868.11,14993.41,40419.69,550.0,13869.28,349.49,4471.61,7081.4,8518.52,2131.2200000000003,7609.159999999998,4084.72,349.08000000000004,366.51,1614.01,27135.410000000003,5000.0,576.93,13453.91,3671.02,3942.08,21859.44,11856.55,7903.289999999999,27020.62,1114.49,1534.0700000000002,6040.0,1540.0,686.88,3753.77,1334.86,1050.0,10549.05,23922.56,93.74,10197.35,24022.51,165.93,1888.97,5419.14,2481.61,1200.0,5040.0,2895.25,807.04,4172.429999999999,895.5500000000001,1060.91,3900.0,12604.83,19411.44,1822.2100000000005,999.89,19479.33,4947.51,5698.519999999999,920.0,8485.99,22954.94,629.4100000000002,773.79,14928.59,54.24,20213.09,60.0,584.7,700.0,3507.8500000000004,3733.26,3569.84,19605.45,14896.45,5209.26,100.0,2908.0,36026.869999999995,5195.72,535.82,844.67,2880.73,233.94,14577.89,508.4,607.9799999999999,2915.33,799.87,11214.22,6666.509999999999,203.8,12263.44,666.48,2323.17,350.0,5860.75,18162.65,1751.87,1903.45,3719.3000000000006,350.0,400.0,365.6399999999999,12496.109999999995,1394.41,5530.02,1400.0,6280.07,1470.23,1196.3,620.0,4902.139999999999,528.76,900.0,9306.59,5554.68,1370.0,83120.01999999999,2372.74,2399.9,8539.31,1112.29,2720.0,20847.33,544.54,1504.36,1748.66,3618.17,364.7000000000001,3042.46,1821.58,4999.73,33447.70000000001,152.5,739.37,3664.2200000000007,1850.0,12422.239999999998,6112.72,8010.0,3345.49,78677.01999999995,451.72,29999.13,1575.1,17149.109999999997,16269.38,1680.0,1661.38,5249.12,5967.54,1388.61,682.87,4339.88,10916.48,1731.86,1657.45,10904.8,3259.1500000000005,2112.51,718.03,999.74,831.5500000000001,14512.489999999998,1579.19,867.58,4170.56,737.81,2385.79,19578.61,18572.3,4050.0,2079.09,2935.49,23937.45,4495.19,875.9100000000001,1932.68,3408.77,10883.99,8287.32,13540.04,1095.02,13686.24,6342.0,1081.27,12048.54,875.0,1057.6,7588.669999999999,7601.890000000001,18767.23,10462.59,8921.5,20398.82,2206.18,6529.98,900.73,752.9,6816.24,1403.31,1658.5500000000002,7450.07,8149.650000000001,19658.85,5044.01,4203.31,2399.14,1000.0,2708.01,1509.68,1200.0,2737.59,6068.91,4840.0,5598.090000000001,400.0,4288.0,297.36,11178.13,3784.0100000000007,222.07,347.64,1848.06,4563.9800000000005,1243.69,54735.03,1902.65,3500.71,4048.86,12238.639999999996,15395.54,3942.98,652.54,3156.73,160.92000000000002,22.89,1095.45,42229.97,20039.72,3601.0,600.0,3382.7,932.33,3950.380000000001,2010.0,542.05,646.52,3029.01,28639.89,365.06,1000.0,33170.24,2081.13,4989.86,516.03,8336.279999999999,1541.71,2396.24,943.73,94.74,2349.21,5416.38,6319.74,116638.38999999998,603.19,1199.49,4257.48,222.7,2750.0,2000.0,730.05,1684.98,640.11,22396.42,1692.84,153.58,8289.32,854.26,849.94,50.0,1046.81,29999.18,29999.120000000003,8796.68,362.6700000000001,10814.62,500.0399999999999,377.0,3851.0,3154.97,34904.350000000006,3172.99,1331.7700000000002,7034.6,13256.16,2639.9,2947.23,1000.0,1181.06,158.45,34135.02,4473.449999999999,549.0300000000001,248.86,12061.69,6842.540000000001,5975.73,744.41,5072.96,4900.73,16611.34,2183.73,2027.23,1000.0,7885.58,392.39,13324.760000000002,1751.5,3079.88,907.36,99.69,118.52,6308.75,350.0,799.28,27460.74,2360.0,1049.9199999999998,5020.44,5585.2300000000005,3016.9300000000003,687.57,5967.749999999998,603.9800000000001,850.0,6732.999999999998,1980.3,27846.23,4821.560000000001,415.49,751.45,6751.54,400.0,15034.920000000004,6767.99,20776.52,666.48,2007.66,7400.0,9121.93,24726.36,1400.0,20999.33,901.22,25477.08,273.37,21981.41,50.0,2563.36,6740.0,2192.16,973.91,1680.85,1400.0,1002.64,5149.45,32694.62,10117.71,60.0,1760.0,741.1299999999999,4269.34,27069.230000000003,729.71,1015.44,8399.59,1341.7700000000004,2980.1,1955.32,5361.79,2750.0,8193.16,1239.99,1121.03,28.06,15510.0,3410.32,28399.97,502.56,1955.11,23131.06,500.0,2250.0,2780.75,640.0,3814.480000000001,1495.7199999999998,631.64,125.53,892.05,2175.74,2521.13,16724.83,450.0,14999.32,350.0,3315.5799999999995,3682.3200000000006,8678.9,4298.99,9798.61,9139.8,1229.83,9800.1,5192.08,155.44,2923.63,492.8,1659.56,1000.0,7765.46,2353.07,2172.48,2010.87,578.73,47376.23000000001,654.04,2183.45,3013.96,1240.0,19696.84,15212.87,453.84,385.95,20389.03,4956.07,1500.0,14845.0,1449.9,6932.18,7388.699999999996,2526.49,2246.78,7880.2,23636.18,1872.33,10079.75,1200.0,4117.22,4926.099999999999,3529.5200000000004,10314.12,400.0,500.01,14995.39,899.65,4785.4800000000005,2816.47,124.38,2750.0,15685.45,2345.81,474.31,15124.8,6470.0,14830.04,14168.13,155.32,1656.92,544.2499999999999,11830.68,13716.62,1003.95,1099.06,7753.4,2583.0,4440.01,4136.29,6557.890000000002,991.02,4185.639999999999,63.92,177.45000000000002,138.06,1930.15,350.0,1000.0,11718.400000000003,4904.0,4276.21,11849.06,3124.3900000000003,3042.94,7919.399999999999,948.27,469.7999999999998,81.65,5225.67,6040.17,2752.24,1925.18,1004.73,9161.9,865.5999999999999,16253.82,10113.53,1546.96,17152.039999999997,6588.749999999999,290.68,1433.42,1580.92,50.0,11703.94,496.34,400.0,1749.25,1400.0,1310.0,50.0,804.0699999999999,29999.590000000004,885.08,3677.29,10971.78,2707.75,1338.36,2545.0600000000004,2602.29,1991.74,2940.55,6248.68,1229.47,5412.89,1657.84,3267.75,2100.0,10186.41,1631.66,5519.64,8154.45,700.0,4112.92,2117.1400000000003,7252.5,3410.98,64546.81,11879.250000000002,2106.58,5667.939999999999,2730.0,22545.22,3314.6800000000003,6403.24,1229.92,2134.4700000000003,845.78,5175.95,50.0,9138.19,2969.74,2287.68,2853.52,10365.72,2389.8,12362.28,2500.1400000000003,3089.78,24039.98,2531.77,2518.63,1350.0,2100.0,9945.509999999998,3855.32,5436.650000000001,1816.08,8039.95,585.26,585.45,450.0,225.54,1510.87,300.0,1532.36,5672.41,850.0,1279.52,251.0,6207.170000000001,3122.53,151.08,5478.97,15470.68,16675.480000000007,14620.0,11056.57,1602.9899999999998,2187.24,438.94000000000005,3951.51,4204.08,9759.319999999998,19090.0,2459.38,1552.11,6455.959999999999,16246.54,8795.92,154.57,394.52,552.36,5918.29,450.0,1567.96,21514.09,26509.01,27202.05,50.0,6039.950000000001,2530.0,8431.86,255.69,723.96,623.58,200.0,1999.69,760.23,1013.86,47908.8,8039.41,1270.0,392.42,790.0,11707.4,11165.38,3080.0,4210.109999999999,1500.0,1040.0,3322.48,1350.0,2590.0,4408.65,531.69,739.0400000000001,3871.5,1423.38,1266.7400000000002,935.76,34776.28,460.98,18963.070000000003,5450.77,25554.83,12599.05,1682.52,60.0,400.0,2095.63,2327.88,816.1399999999999,12613.63,7000.0,1399.99,22320.78,2359.48,7039.02,10110.519986771542,11270.0,40714.16,150.0,3547.86,32105.47,339.05,743.44,197.37,17358.84,6083.960000000001,550.0,400.0,442.47,2924.6100000000006,5925.619999999999,40420.56,11688.62,198.98,365.6399999999999,2010.36,18824.73,2934.03,72.85,34140.53,793.12,36.52,6381.97,3596.6000000000004,2119.73,2290.0,1967.26,11778.84,52565.79,4082.83,1353.7800000000002,3174.1,354.02,1485.6300000000003,762.91,282.06,2400.0,8471.55,1499.82,2199.7499999999995,31212.72,3194.28,4591.88,499.35,1502.2,200.0,4459.19,1020.1,3049.54,1572.3300000000002,22799.99,5116.07,1220.0,1500.0,1196.27,366.43,7999.87,5467.450000000001,7968.38,349.19,10755.47,9109.93,7859.19,89.79,500.0,28438.49,5571.02,3049.21,1240.0,1370.0,10940.77,9589.09,6841.2,680.0,529.52,5951.8,26142.660000000003,1200.0,7335.2,999.55,420.0,1202.7,50.0,5757.33,936.44,2658.19,17910.11,17065.06,10072.03,800.0,28606.96,4839.64,3188.73,1156.7200000000005,13199.240000000003,597.29,802.01,7287.76,346.39,3728.3,17185.79,152.56,8881.99,17075.93,1191.23,381.2300000000001,13144.899999999998,1455.22,682.53,4158.07,8839.839999999998,2898.379999999999,7542.780000000001,4139.45,693.68,2099.13,1476.1,3107.12,23149.56,729.1099999999997,578.49,466.8299999999999,2626.36,12213.97,19693.47,1590.42,14710.44,1659.11,1429.4699999999998,9076.33,9204.8,4704.49,2866.54,22113.890000000007,110.27,2701.76,26597.26,1000.0,485.18,3948.9,3036.7600000000007,1658.76,64.25,14004.7,715.54,3193.78,6240.880000000002,724.62,4600.0,9140.71,500.0,2339.19,1643.28,3520.0,7771.58,7301.04,3125.26,9269.519999999997,198.75000000000003,2410.0,1154.02,8249.66,1899.57,999.26,757.02,500.0,929.94,15959.58,199.94,13131.87,1657.5200000000002,363.69,516.9200000000001,2832.100000000001,3151.46,23796.52,7970.64,952.43,3950.31,1774.48,12765.669999999998,2666.29,955.35,12262.36,5478.92,14792.84,1859.87,2555.91,16818.11,2431.54,27144.71,5600.0,366.69999999999993,59.73,1197.6999999999998,3410.0,1899.99,363.97,2296.14,2243.65,5189.48,395.75,1980.0,665.3000000000001,9337.21,446.03,5022.96,486.93,722.06,6193.02,2360.2699999999995,6036.76,12418.07,2136.28,1519.02,1541.66,2010.0,850.0,1405.0,100.0,15063.850000000002,359.89,800.0,127.59,2027.36,1138.23,150.0,1079.05,7650.0,9750.31,4266.630000000001,307.59,19083.5,1763.77,5893.869999999999,893.5000000000001,1659.67,881.21,1717.66,8133.019999999999,909.81,1371.240000000001,1150.0,11348.77,12642.16,3149.910000000001,238.6,1688.0,8572.95,3999.37,4737.62,1269.8,8878.54,652.72,3676.15,50.0,4277.66,4301.490000000001,525.49,6412.259999999999,1540.77,1250.0,1872.37,779.03,499.35,1000.0,1466.5300000000002,639.73,19983.02,139096.95,5116.99,4758.7,8289.509999999998,950.0,999.68,3434.05,5980.26,1529.91,3426.5,2847.9,20222.76,2313.24,9108.780000000002,2786.1800000000003,1744.52,24816.42,1576.17,2719.75,863.51,350.0,1380.0,497.17,365.94,20423.06,49.4,477.81,816.82,4262.51,1250.0,18132.66,50.0,740.94,20694.57,1385.64,1405.26,2149.37,849.1800000000001,2931.0,850.0,2626.85,945.04,4589.04,8529.41,408.29,2078.55,4635.08,0.43,23428.24,627.64,32291.78,1788.67,4999.53,4790.27,6177.04,706.33,1010.34,698.1600000000001,510.16,743.4,214.69,111.32,10734.58,25940.94,1434.45,354.67999999999995,1388.49,5605.16,579.27,17039.250000000004,399.66,34499.85,5430.7,14859.47,19854.38,1044.65,14131.670000000002],\"yaxis\":\"y\",\"type\":\"scattergl\"}],                        {\"template\":{\"data\":{\"bar\":[{\"error_x\":{\"color\":\"#2a3f5f\"},\"error_y\":{\"color\":\"#2a3f5f\"},\"marker\":{\"line\":{\"color\":\"#E5ECF6\",\"width\":0.5},\"pattern\":{\"fillmode\":\"overlay\",\"size\":10,\"solidity\":0.2}},\"type\":\"bar\"}],\"barpolar\":[{\"marker\":{\"line\":{\"color\":\"#E5ECF6\",\"width\":0.5},\"pattern\":{\"fillmode\":\"overlay\",\"size\":10,\"solidity\":0.2}},\"type\":\"barpolar\"}],\"carpet\":[{\"aaxis\":{\"endlinecolor\":\"#2a3f5f\",\"gridcolor\":\"white\",\"linecolor\":\"white\",\"minorgridcolor\":\"white\",\"startlinecolor\":\"#2a3f5f\"},\"baxis\":{\"endlinecolor\":\"#2a3f5f\",\"gridcolor\":\"white\",\"linecolor\":\"white\",\"minorgridcolor\":\"white\",\"startlinecolor\":\"#2a3f5f\"},\"type\":\"carpet\"}],\"choropleth\":[{\"colorbar\":{\"outlinewidth\":0,\"ticks\":\"\"},\"type\":\"choropleth\"}],\"contour\":[{\"colorbar\":{\"outlinewidth\":0,\"ticks\":\"\"},\"colorscale\":[[0.0,\"#0d0887\"],[0.1111111111111111,\"#46039f\"],[0.2222222222222222,\"#7201a8\"],[0.3333333333333333,\"#9c179e\"],[0.4444444444444444,\"#bd3786\"],[0.5555555555555556,\"#d8576b\"],[0.6666666666666666,\"#ed7953\"],[0.7777777777777778,\"#fb9f3a\"],[0.8888888888888888,\"#fdca26\"],[1.0,\"#f0f921\"]],\"type\":\"contour\"}],\"contourcarpet\":[{\"colorbar\":{\"outlinewidth\":0,\"ticks\":\"\"},\"type\":\"contourcarpet\"}],\"heatmap\":[{\"colorbar\":{\"outlinewidth\":0,\"ticks\":\"\"},\"colorscale\":[[0.0,\"#0d0887\"],[0.1111111111111111,\"#46039f\"],[0.2222222222222222,\"#7201a8\"],[0.3333333333333333,\"#9c179e\"],[0.4444444444444444,\"#bd3786\"],[0.5555555555555556,\"#d8576b\"],[0.6666666666666666,\"#ed7953\"],[0.7777777777777778,\"#fb9f3a\"],[0.8888888888888888,\"#fdca26\"],[1.0,\"#f0f921\"]],\"type\":\"heatmap\"}],\"heatmapgl\":[{\"colorbar\":{\"outlinewidth\":0,\"ticks\":\"\"},\"colorscale\":[[0.0,\"#0d0887\"],[0.1111111111111111,\"#46039f\"],[0.2222222222222222,\"#7201a8\"],[0.3333333333333333,\"#9c179e\"],[0.4444444444444444,\"#bd3786\"],[0.5555555555555556,\"#d8576b\"],[0.6666666666666666,\"#ed7953\"],[0.7777777777777778,\"#fb9f3a\"],[0.8888888888888888,\"#fdca26\"],[1.0,\"#f0f921\"]],\"type\":\"heatmapgl\"}],\"histogram\":[{\"marker\":{\"pattern\":{\"fillmode\":\"overlay\",\"size\":10,\"solidity\":0.2}},\"type\":\"histogram\"}],\"histogram2d\":[{\"colorbar\":{\"outlinewidth\":0,\"ticks\":\"\"},\"colorscale\":[[0.0,\"#0d0887\"],[0.1111111111111111,\"#46039f\"],[0.2222222222222222,\"#7201a8\"],[0.3333333333333333,\"#9c179e\"],[0.4444444444444444,\"#bd3786\"],[0.5555555555555556,\"#d8576b\"],[0.6666666666666666,\"#ed7953\"],[0.7777777777777778,\"#fb9f3a\"],[0.8888888888888888,\"#fdca26\"],[1.0,\"#f0f921\"]],\"type\":\"histogram2d\"}],\"histogram2dcontour\":[{\"colorbar\":{\"outlinewidth\":0,\"ticks\":\"\"},\"colorscale\":[[0.0,\"#0d0887\"],[0.1111111111111111,\"#46039f\"],[0.2222222222222222,\"#7201a8\"],[0.3333333333333333,\"#9c179e\"],[0.4444444444444444,\"#bd3786\"],[0.5555555555555556,\"#d8576b\"],[0.6666666666666666,\"#ed7953\"],[0.7777777777777778,\"#fb9f3a\"],[0.8888888888888888,\"#fdca26\"],[1.0,\"#f0f921\"]],\"type\":\"histogram2dcontour\"}],\"mesh3d\":[{\"colorbar\":{\"outlinewidth\":0,\"ticks\":\"\"},\"type\":\"mesh3d\"}],\"parcoords\":[{\"line\":{\"colorbar\":{\"outlinewidth\":0,\"ticks\":\"\"}},\"type\":\"parcoords\"}],\"pie\":[{\"automargin\":true,\"type\":\"pie\"}],\"scatter\":[{\"marker\":{\"colorbar\":{\"outlinewidth\":0,\"ticks\":\"\"}},\"type\":\"scatter\"}],\"scatter3d\":[{\"line\":{\"colorbar\":{\"outlinewidth\":0,\"ticks\":\"\"}},\"marker\":{\"colorbar\":{\"outlinewidth\":0,\"ticks\":\"\"}},\"type\":\"scatter3d\"}],\"scattercarpet\":[{\"marker\":{\"colorbar\":{\"outlinewidth\":0,\"ticks\":\"\"}},\"type\":\"scattercarpet\"}],\"scattergeo\":[{\"marker\":{\"colorbar\":{\"outlinewidth\":0,\"ticks\":\"\"}},\"type\":\"scattergeo\"}],\"scattergl\":[{\"marker\":{\"colorbar\":{\"outlinewidth\":0,\"ticks\":\"\"}},\"type\":\"scattergl\"}],\"scattermapbox\":[{\"marker\":{\"colorbar\":{\"outlinewidth\":0,\"ticks\":\"\"}},\"type\":\"scattermapbox\"}],\"scatterpolar\":[{\"marker\":{\"colorbar\":{\"outlinewidth\":0,\"ticks\":\"\"}},\"type\":\"scatterpolar\"}],\"scatterpolargl\":[{\"marker\":{\"colorbar\":{\"outlinewidth\":0,\"ticks\":\"\"}},\"type\":\"scatterpolargl\"}],\"scatterternary\":[{\"marker\":{\"colorbar\":{\"outlinewidth\":0,\"ticks\":\"\"}},\"type\":\"scatterternary\"}],\"surface\":[{\"colorbar\":{\"outlinewidth\":0,\"ticks\":\"\"},\"colorscale\":[[0.0,\"#0d0887\"],[0.1111111111111111,\"#46039f\"],[0.2222222222222222,\"#7201a8\"],[0.3333333333333333,\"#9c179e\"],[0.4444444444444444,\"#bd3786\"],[0.5555555555555556,\"#d8576b\"],[0.6666666666666666,\"#ed7953\"],[0.7777777777777778,\"#fb9f3a\"],[0.8888888888888888,\"#fdca26\"],[1.0,\"#f0f921\"]],\"type\":\"surface\"}],\"table\":[{\"cells\":{\"fill\":{\"color\":\"#EBF0F8\"},\"line\":{\"color\":\"white\"}},\"header\":{\"fill\":{\"color\":\"#C8D4E3\"},\"line\":{\"color\":\"white\"}},\"type\":\"table\"}]},\"layout\":{\"annotationdefaults\":{\"arrowcolor\":\"#2a3f5f\",\"arrowhead\":0,\"arrowwidth\":1},\"autotypenumbers\":\"strict\",\"coloraxis\":{\"colorbar\":{\"outlinewidth\":0,\"ticks\":\"\"}},\"colorscale\":{\"diverging\":[[0,\"#8e0152\"],[0.1,\"#c51b7d\"],[0.2,\"#de77ae\"],[0.3,\"#f1b6da\"],[0.4,\"#fde0ef\"],[0.5,\"#f7f7f7\"],[0.6,\"#e6f5d0\"],[0.7,\"#b8e186\"],[0.8,\"#7fbc41\"],[0.9,\"#4d9221\"],[1,\"#276419\"]],\"sequential\":[[0.0,\"#0d0887\"],[0.1111111111111111,\"#46039f\"],[0.2222222222222222,\"#7201a8\"],[0.3333333333333333,\"#9c179e\"],[0.4444444444444444,\"#bd3786\"],[0.5555555555555556,\"#d8576b\"],[0.6666666666666666,\"#ed7953\"],[0.7777777777777778,\"#fb9f3a\"],[0.8888888888888888,\"#fdca26\"],[1.0,\"#f0f921\"]],\"sequentialminus\":[[0.0,\"#0d0887\"],[0.1111111111111111,\"#46039f\"],[0.2222222222222222,\"#7201a8\"],[0.3333333333333333,\"#9c179e\"],[0.4444444444444444,\"#bd3786\"],[0.5555555555555556,\"#d8576b\"],[0.6666666666666666,\"#ed7953\"],[0.7777777777777778,\"#fb9f3a\"],[0.8888888888888888,\"#fdca26\"],[1.0,\"#f0f921\"]]},\"colorway\":[\"#636efa\",\"#EF553B\",\"#00cc96\",\"#ab63fa\",\"#FFA15A\",\"#19d3f3\",\"#FF6692\",\"#B6E880\",\"#FF97FF\",\"#FECB52\"],\"font\":{\"color\":\"#2a3f5f\"},\"geo\":{\"bgcolor\":\"white\",\"lakecolor\":\"white\",\"landcolor\":\"#E5ECF6\",\"showlakes\":true,\"showland\":true,\"subunitcolor\":\"white\"},\"hoverlabel\":{\"align\":\"left\"},\"hovermode\":\"closest\",\"mapbox\":{\"style\":\"light\"},\"paper_bgcolor\":\"white\",\"plot_bgcolor\":\"#E5ECF6\",\"polar\":{\"angularaxis\":{\"gridcolor\":\"white\",\"linecolor\":\"white\",\"ticks\":\"\"},\"bgcolor\":\"#E5ECF6\",\"radialaxis\":{\"gridcolor\":\"white\",\"linecolor\":\"white\",\"ticks\":\"\"}},\"scene\":{\"xaxis\":{\"backgroundcolor\":\"#E5ECF6\",\"gridcolor\":\"white\",\"gridwidth\":2,\"linecolor\":\"white\",\"showbackground\":true,\"ticks\":\"\",\"zerolinecolor\":\"white\"},\"yaxis\":{\"backgroundcolor\":\"#E5ECF6\",\"gridcolor\":\"white\",\"gridwidth\":2,\"linecolor\":\"white\",\"showbackground\":true,\"ticks\":\"\",\"zerolinecolor\":\"white\"},\"zaxis\":{\"backgroundcolor\":\"#E5ECF6\",\"gridcolor\":\"white\",\"gridwidth\":2,\"linecolor\":\"white\",\"showbackground\":true,\"ticks\":\"\",\"zerolinecolor\":\"white\"}},\"shapedefaults\":{\"line\":{\"color\":\"#2a3f5f\"}},\"ternary\":{\"aaxis\":{\"gridcolor\":\"white\",\"linecolor\":\"white\",\"ticks\":\"\"},\"baxis\":{\"gridcolor\":\"white\",\"linecolor\":\"white\",\"ticks\":\"\"},\"bgcolor\":\"#E5ECF6\",\"caxis\":{\"gridcolor\":\"white\",\"linecolor\":\"white\",\"ticks\":\"\"}},\"title\":{\"x\":0.05},\"xaxis\":{\"automargin\":true,\"gridcolor\":\"white\",\"linecolor\":\"white\",\"ticks\":\"\",\"title\":{\"standoff\":15},\"zerolinecolor\":\"white\",\"zerolinewidth\":2},\"yaxis\":{\"automargin\":true,\"gridcolor\":\"white\",\"linecolor\":\"white\",\"ticks\":\"\",\"title\":{\"standoff\":15},\"zerolinecolor\":\"white\",\"zerolinewidth\":2}}},\"xaxis\":{\"anchor\":\"y\",\"domain\":[0.0,1.0],\"title\":{\"text\":\"vlr_score\"}},\"yaxis\":{\"anchor\":\"x\",\"domain\":[0.0,1.0],\"title\":{\"text\":\"vlr_saldo\"}},\"legend\":{\"tracegroupgap\":0},\"margin\":{\"t\":60}},                        {\"responsive\": true}                    ).then(function(){\n",
              "                            \n",
              "var gd = document.getElementById('f6cfc3fd-ee07-4782-a670-e08c7baace02');\n",
              "var x = new MutationObserver(function (mutations, observer) {{\n",
              "        var display = window.getComputedStyle(gd).display;\n",
              "        if (!display || display === 'none') {{\n",
              "            console.log([gd, 'removed!']);\n",
              "            Plotly.purge(gd);\n",
              "            observer.disconnect();\n",
              "        }}\n",
              "}});\n",
              "\n",
              "// Listen for the removal of the full notebook cells\n",
              "var notebookContainer = gd.closest('#notebook-container');\n",
              "if (notebookContainer) {{\n",
              "    x.observe(notebookContainer, {childList: true});\n",
              "}}\n",
              "\n",
              "// Listen for the clearing of the current output cell\n",
              "var outputEl = gd.closest('.output');\n",
              "if (outputEl) {{\n",
              "    x.observe(outputEl, {childList: true});\n",
              "}}\n",
              "\n",
              "                        })                };                            </script>        </div>\n",
              "</body>\n",
              "</html>"
            ]
          },
          "metadata": {}
        }
      ],
      "source": [
        "fig = px.scatter(client.sample(10000), x = \"vlr_score\", y = \"vlr_saldo\")\n",
        "fig.show()"
      ]
    },
    {
      "cell_type": "markdown",
      "metadata": {
        "id": "mcUuBkou0VXx"
      },
      "source": [
        "##Hipótese 2\n",
        "O banco pan possui mais clientes com classificação A do que H (Comprovada).\n"
      ]
    },
    {
      "cell_type": "code",
      "execution_count": 17,
      "metadata": {
        "id": "y-x_PeSSy6oj",
        "colab": {
          "base_uri": "https://localhost:8080/"
        },
        "outputId": "76b30815-78db-45df-b575-3bfd138ffc7e"
      },
      "outputs": [
        {
          "output_type": "execute_result",
          "data": {
            "text/plain": [
              "count     435627\n",
              "unique        10\n",
              "top            A\n",
              "freq      330229\n",
              "Name: cod_rating, dtype: object"
            ]
          },
          "metadata": {},
          "execution_count": 17
        }
      ],
      "source": [
        "client.cod_rating.describe()"
      ]
    },
    {
      "cell_type": "markdown",
      "metadata": {
        "id": "WkCj8ysX0uW9"
      },
      "source": [
        "##Hipótese 3\n",
        "Como o banco atende a clientes de baixa renda, acreditamos que eles contratem vários produtos com baixos valores (Comprovada). \n"
      ]
    },
    {
      "cell_type": "code",
      "execution_count": 18,
      "metadata": {
        "id": "wdkNrwzv00Bf",
        "colab": {
          "base_uri": "https://localhost:8080/",
          "height": 0
        },
        "outputId": "83094ddf-2bc0-4741-ff0c-96f17cdcccec"
      },
      "outputs": [
        {
          "output_type": "display_data",
          "data": {
            "text/html": [
              "<html>\n",
              "<head><meta charset=\"utf-8\" /></head>\n",
              "<body>\n",
              "    <div>            <script src=\"https://cdnjs.cloudflare.com/ajax/libs/mathjax/2.7.5/MathJax.js?config=TeX-AMS-MML_SVG\"></script><script type=\"text/javascript\">if (window.MathJax) {MathJax.Hub.Config({SVG: {font: \"STIX-Web\"}});}</script>                <script type=\"text/javascript\">window.PlotlyConfig = {MathJaxConfig: 'local'};</script>\n",
              "        <script src=\"https://cdn.plot.ly/plotly-2.8.3.min.js\"></script>                <div id=\"98b9142a-f4cb-41c5-a2a9-3fe59da4c0ab\" class=\"plotly-graph-div\" style=\"height:525px; width:100%;\"></div>            <script type=\"text/javascript\">                                    window.PLOTLYENV=window.PLOTLYENV || {};                                    if (document.getElementById(\"98b9142a-f4cb-41c5-a2a9-3fe59da4c0ab\")) {                    Plotly.newPlot(                        \"98b9142a-f4cb-41c5-a2a9-3fe59da4c0ab\",                        [{\"hovertemplate\":\"qtd_oper=%{x}<br>vlr_saldo=%{y}<extra></extra>\",\"legendgroup\":\"\",\"marker\":{\"color\":\"#636efa\",\"symbol\":\"circle\"},\"mode\":\"markers\",\"name\":\"\",\"showlegend\":false,\"x\":[7.0,5.0,4.0,27.0,62.0,null,4.0,25.0,11.0,17.0,49.0,2.0,6.0,null,27.0,17.0,11.0,12.0,null,60.0,5.0,3.0,null,22.0,10.0,null,17.0,13.0,14.0,4.0,27.0,5.0,2.0,15.0,null,32.0,17.0,34.0,16.0,25.0,4.0,null,5.0,9.0,15.0,68.0,4.0,16.0,22.0,1.0,13.0,14.0,16.0,12.0,16.0,6.0,15.0,10.0,36.0,23.0,null,15.0,8.0,7.0,null,null,13.0,25.0,13.0,16.0,12.0,null,15.0,27.0,4.0,27.0,4.0,2.0,null,6.0,4.0,14.0,13.0,9.0,5.0,15.0,9.0,5.0,5.0,8.0,12.0,7.0,14.0,3.0,7.0,null,1.0,10.0,32.0,16.0,9.0,3.0,11.0,8.0,12.0,13.0,5.0,17.0,2.0,15.0,15.0,null,13.0,null,1.0,null,32.0,null,9.0,5.0,10.0,null,null,4.0,6.0,null,15.0,14.0,13.0,26.0,null,17.0,null,7.0,5.0,14.0,3.0,27.0,8.0,16.0,15.0,13.0,15.0,12.0,9.0,6.0,19.0,11.0,null,1.0,null,13.0,30.0,6.0,20.0,7.0,null,10.0,null,14.0,8.0,17.0,14.0,27.0,15.0,8.0,19.0,null,null,9.0,null,11.0,9.0,5.0,null,18.0,13.0,15.0,13.0,59.0,2.0,11.0,22.0,14.0,2.0,14.0,13.0,20.0,22.0,37.0,70.0,2.0,4.0,null,8.0,16.0,null,5.0,14.0,33.0,1.0,16.0,14.0,10.0,12.0,null,14.0,10.0,19.0,14.0,12.0,7.0,null,5.0,null,0.0,10.0,21.0,1.0,12.0,27.0,null,25.0,4.0,29.0,null,7.0,10.0,7.0,21.0,9.0,4.0,3.0,32.0,0.0,12.0,16.0,12.0,null,22.0,7.0,4.0,4.0,18.0,12.0,5.0,63.0,10.0,14.0,56.0,9.0,11.0,5.0,21.0,14.0,8.0,11.0,10.0,14.0,24.0,21.0,18.0,null,5.0,13.0,13.0,9.0,12.0,4.0,5.0,18.0,12.0,15.0,21.0,35.0,null,67.0,5.0,0.0,13.0,0.0,5.0,3.0,30.0,5.0,12.0,11.0,17.0,18.0,21.0,17.0,9.0,0.0,14.0,28.0,12.0,15.0,16.0,42.0,6.0,14.0,9.0,11.0,35.0,12.0,null,3.0,20.0,20.0,1.0,16.0,7.0,19.0,19.0,12.0,10.0,6.0,18.0,44.0,0.0,15.0,null,3.0,4.0,6.0,31.0,5.0,30.0,58.0,13.0,null,4.0,22.0,27.0,22.0,9.0,6.0,5.0,19.0,39.0,6.0,7.0,15.0,14.0,29.0,16.0,15.0,6.0,11.0,3.0,null,28.0,2.0,12.0,8.0,null,19.0,20.0,6.0,null,5.0,null,23.0,null,23.0,null,15.0,23.0,18.0,11.0,26.0,10.0,4.0,28.0,22.0,6.0,16.0,1.0,8.0,11.0,8.0,2.0,22.0,7.0,null,32.0,2.0,15.0,null,null,5.0,27.0,null,7.0,23.0,7.0,null,5.0,16.0,9.0,null,9.0,5.0,22.0,21.0,5.0,9.0,6.0,3.0,5.0,13.0,14.0,11.0,25.0,11.0,23.0,10.0,22.0,24.0,12.0,8.0,12.0,8.0,12.0,21.0,13.0,13.0,9.0,11.0,24.0,null,25.0,5.0,4.0,null,6.0,6.0,5.0,10.0,12.0,19.0,18.0,13.0,19.0,7.0,null,1.0,10.0,19.0,9.0,31.0,15.0,null,11.0,13.0,18.0,8.0,3.0,null,15.0,null,3.0,null,23.0,1.0,20.0,21.0,14.0,12.0,16.0,4.0,25.0,8.0,13.0,8.0,34.0,6.0,3.0,10.0,13.0,32.0,null,6.0,12.0,null,null,23.0,null,12.0,24.0,7.0,17.0,4.0,null,8.0,17.0,null,14.0,12.0,3.0,6.0,1.0,null,null,4.0,10.0,6.0,20.0,4.0,23.0,7.0,5.0,12.0,10.0,null,2.0,13.0,null,9.0,1.0,7.0,12.0,6.0,13.0,14.0,24.0,23.0,22.0,15.0,12.0,5.0,null,null,5.0,66.0,22.0,11.0,26.0,4.0,11.0,14.0,13.0,6.0,5.0,11.0,2.0,13.0,19.0,null,14.0,4.0,5.0,14.0,38.0,6.0,null,8.0,1.0,37.0,10.0,11.0,20.0,4.0,10.0,14.0,null,49.0,13.0,10.0,13.0,19.0,10.0,15.0,27.0,17.0,12.0,24.0,9.0,43.0,13.0,8.0,6.0,16.0,33.0,8.0,17.0,10.0,8.0,44.0,null,23.0,10.0,26.0,15.0,15.0,64.0,10.0,16.0,37.0,8.0,17.0,null,14.0,8.0,16.0,20.0,14.0,15.0,8.0,6.0,10.0,12.0,9.0,25.0,19.0,8.0,5.0,12.0,15.0,56.0,16.0,19.0,6.0,18.0,12.0,15.0,4.0,13.0,33.0,25.0,13.0,12.0,3.0,27.0,6.0,11.0,16.0,15.0,17.0,12.0,7.0,10.0,15.0,13.0,14.0,9.0,10.0,11.0,12.0,10.0,10.0,42.0,13.0,32.0,null,5.0,null,22.0,8.0,5.0,8.0,null,18.0,27.0,9.0,32.0,12.0,18.0,4.0,9.0,4.0,10.0,22.0,13.0,37.0,null,17.0,2.0,7.0,9.0,9.0,40.0,9.0,38.0,23.0,22.0,null,9.0,9.0,9.0,null,10.0,null,18.0,13.0,5.0,20.0,null,1.0,10.0,17.0,15.0,8.0,16.0,null,20.0,25.0,17.0,16.0,null,15.0,5.0,null,56.0,24.0,6.0,9.0,2.0,27.0,15.0,2.0,15.0,13.0,3.0,11.0,21.0,6.0,6.0,33.0,13.0,8.0,6.0,3.0,3.0,17.0,11.0,1.0,21.0,27.0,11.0,null,4.0,1.0,28.0,9.0,23.0,39.0,16.0,14.0,10.0,10.0,21.0,16.0,4.0,15.0,6.0,8.0,21.0,15.0,11.0,16.0,4.0,null,null,null,6.0,28.0,12.0,4.0,null,24.0,10.0,null,15.0,null,5.0,10.0,9.0,12.0,2.0,49.0,14.0,null,null,25.0,36.0,9.0,23.0,null,16.0,18.0,5.0,null,7.0,8.0,12.0,14.0,null,11.0,31.0,null,29.0,3.0,20.0,3.0,8.0,4.0,11.0,12.0,8.0,16.0,12.0,9.0,8.0,6.0,17.0,9.0,3.0,16.0,14.0,11.0,15.0,11.0,9.0,27.0,11.0,28.0,7.0,15.0,10.0,3.0,78.0,17.0,2.0,8.0,2.0,6.0,null,null,4.0,30.0,6.0,34.0,13.0,8.0,null,2.0,10.0,8.0,null,6.0,12.0,9.0,37.0,10.0,17.0,18.0,23.0,18.0,19.0,5.0,4.0,8.0,5.0,4.0,11.0,null,13.0,11.0,8.0,10.0,22.0,9.0,5.0,16.0,16.0,8.0,13.0,9.0,4.0,11.0,15.0,24.0,9.0,5.0,null,8.0,null,39.0,4.0,22.0,5.0,2.0,5.0,7.0,15.0,17.0,11.0,17.0,13.0,7.0,17.0,null,null,59.0,9.0,9.0,12.0,33.0,14.0,15.0,19.0,30.0,null,4.0,4.0,21.0,16.0,5.0,24.0,36.0,2.0,9.0,8.0,12.0,9.0,7.0,7.0,17.0,60.0,7.0,null,5.0,15.0,30.0,14.0,12.0,8.0,31.0,4.0,3.0,25.0,7.0,32.0,36.0,7.0,9.0,12.0,10.0,16.0,28.0,17.0,27.0,2.0,24.0,56.0,18.0,2.0,25.0,21.0,5.0,4.0,21.0,9.0,25.0,14.0,7.0,8.0,6.0,23.0,8.0,16.0,8.0,12.0,10.0,8.0,8.0,14.0,22.0,0.0,8.0,5.0,8.0,25.0,null,12.0,13.0,21.0,2.0,9.0,7.0,null,4.0,7.0,32.0,45.0,9.0,null,24.0,7.0,48.0,7.0,17.0,15.0,30.0,5.0,null,null,4.0,6.0,10.0,12.0,8.0,5.0,14.0,23.0,4.0,null,null,14.0,3.0,3.0,22.0,null,13.0,10.0,6.0,12.0,15.0,10.0,35.0,16.0,null,null,2.0,7.0,7.0,32.0,7.0,16.0,26.0,13.0,7.0,8.0,5.0,18.0,null,15.0,12.0,8.0,null,23.0,7.0,10.0,8.0,null,null,11.0,null,13.0,16.0,15.0,49.0,2.0,null,8.0,null,null,19.0,15.0,30.0,18.0,null,18.0,null,21.0,null,null,null,null,3.0,12.0,16.0,19.0,8.0,13.0,13.0,8.0,25.0,22.0,15.0,13.0,4.0,2.0,12.0,13.0,16.0,10.0,2.0,5.0,7.0,13.0,44.0,23.0,10.0,16.0,7.0,20.0,7.0,19.0,32.0,8.0,11.0,28.0,null,null,4.0,19.0,null,5.0,10.0,7.0,11.0,5.0,4.0,20.0,11.0,6.0,5.0,8.0,10.0,32.0,2.0,16.0,6.0,14.0,7.0,17.0,10.0,10.0,20.0,null,79.0,6.0,14.0,71.0,1.0,null,11.0,12.0,22.0,1.0,12.0,null,30.0,27.0,null,14.0,null,10.0,5.0,5.0,14.0,18.0,9.0,11.0,8.0,25.0,null,6.0,8.0,11.0,3.0,6.0,14.0,10.0,2.0,26.0,18.0,15.0,6.0,12.0,7.0,4.0,12.0,null,9.0,37.0,null,10.0,10.0,1.0,25.0,14.0,20.0,24.0,14.0,7.0,40.0,37.0,6.0,6.0,null,9.0,4.0,null,18.0,6.0,3.0,4.0,6.0,17.0,6.0,11.0,0.0,10.0,20.0,5.0,null,12.0,28.0,4.0,1.0,11.0,13.0,16.0,5.0,16.0,4.0,49.0,1.0,19.0,23.0,7.0,32.0,9.0,51.0,25.0,null,20.0,2.0,38.0,null,30.0,44.0,null,24.0,9.0,26.0,null,2.0,19.0,12.0,null,null,7.0,32.0,14.0,null,11.0,6.0,null,22.0,13.0,13.0,20.0,11.0,3.0,3.0,8.0,9.0,9.0,9.0,54.0,2.0,7.0,5.0,2.0,null,14.0,17.0,7.0,7.0,4.0,13.0,16.0,15.0,12.0,16.0,12.0,18.0,13.0,10.0,null,null,4.0,5.0,null,17.0,8.0,null,8.0,4.0,18.0,22.0,3.0,8.0,12.0,19.0,7.0,20.0,27.0,1.0,76.0,8.0,9.0,17.0,7.0,17.0,null,null,22.0,12.0,15.0,14.0,2.0,11.0,24.0,16.0,10.0,16.0,18.0,29.0,9.0,14.0,10.0,12.0,11.0,9.0,16.0,26.0,9.0,null,11.0,2.0,4.0,10.0,8.0,24.0,6.0,9.0,17.0,7.0,13.0,9.0,9.0,null,8.0,null,14.0,1.0,5.0,10.0,19.0,15.0,12.0,19.0,15.0,17.0,10.0,24.0,30.0,24.0,null,10.0,13.0,19.0,32.0,13.0,9.0,2.0,20.0,25.0,7.0,8.0,17.0,4.0,5.0,14.0,30.0,22.0,15.0,3.0,7.0,6.0,3.0,10.0,41.0,6.0,11.0,24.0,18.0,22.0,null,10.0,2.0,10.0,7.0,3.0,32.0,12.0,12.0,7.0,4.0,14.0,14.0,11.0,5.0,15.0,20.0,20.0,9.0,4.0,9.0,9.0,15.0,30.0,7.0,13.0,16.0,11.0,27.0,13.0,5.0,6.0,0.0,25.0,11.0,8.0,11.0,6.0,5.0,7.0,8.0,5.0,13.0,5.0,13.0,16.0,9.0,10.0,2.0,null,23.0,14.0,17.0,8.0,10.0,7.0,null,6.0,7.0,72.0,10.0,16.0,34.0,14.0,2.0,7.0,2.0,17.0,10.0,18.0,6.0,null,9.0,4.0,null,16.0,33.0,23.0,17.0,6.0,17.0,20.0,null,14.0,31.0,10.0,11.0,9.0,20.0,5.0,8.0,16.0,null,14.0,3.0,10.0,10.0,17.0,null,14.0,null,10.0,null,12.0,2.0,14.0,70.0,1.0,6.0,33.0,5.0,22.0,16.0,null,13.0,2.0,null,19.0,4.0,11.0,null,18.0,8.0,4.0,32.0,null,14.0,8.0,12.0,14.0,11.0,null,6.0,9.0,null,5.0,12.0,18.0,2.0,null,5.0,13.0,7.0,22.0,15.0,null,1.0,8.0,7.0,3.0,6.0,18.0,4.0,3.0,23.0,8.0,58.0,2.0,9.0,null,null,14.0,7.0,null,30.0,73.0,8.0,43.0,9.0,23.0,23.0,16.0,9.0,9.0,10.0,20.0,8.0,9.0,20.0,10.0,20.0,5.0,null,23.0,9.0,null,23.0,22.0,6.0,44.0,22.0,10.0,14.0,8.0,4.0,5.0,2.0,11.0,13.0,13.0,15.0,null,5.0,13.0,1.0,27.0,14.0,13.0,10.0,20.0,10.0,23.0,2.0,46.0,28.0,null,12.0,5.0,null,9.0,7.0,11.0,14.0,12.0,2.0,10.0,4.0,2.0,27.0,2.0,14.0,10.0,4.0,1.0,17.0,13.0,11.0,2.0,11.0,12.0,null,1.0,29.0,null,4.0,3.0,8.0,15.0,6.0,15.0,12.0,10.0,3.0,58.0,7.0,2.0,null,21.0,15.0,18.0,2.0,15.0,7.0,6.0,4.0,16.0,16.0,17.0,20.0,7.0,17.0,3.0,14.0,12.0,8.0,12.0,6.0,null,4.0,29.0,41.0,null,60.0,null,5.0,20.0,null,8.0,9.0,2.0,null,9.0,2.0,28.0,null,20.0,27.0,21.0,9.0,33.0,12.0,25.0,1.0,32.0,5.0,19.0,30.0,11.0,116.0,10.0,20.0,16.0,10.0,12.0,null,7.0,15.0,1.0,4.0,17.0,116.0,9.0,3.0,5.0,18.0,14.0,15.0,28.0,16.0,23.0,null,5.0,9.0,18.0,20.0,9.0,11.0,null,12.0,34.0,10.0,13.0,null,5.0,5.0,14.0,11.0,4.0,10.0,4.0,14.0,6.0,6.0,17.0,12.0,2.0,9.0,1.0,2.0,null,12.0,3.0,46.0,5.0,16.0,21.0,11.0,18.0,8.0,24.0,18.0,51.0,6.0,1.0,34.0,null,12.0,21.0,24.0,null,3.0,22.0,8.0,7.0,21.0,18.0,5.0,19.0,15.0,null,null,4.0,14.0,4.0,6.0,17.0,10.0,10.0,28.0,7.0,12.0,3.0,22.0,6.0,11.0,5.0,12.0,13.0,6.0,27.0,16.0,null,40.0,null,null,19.0,19.0,1.0,7.0,1.0,25.0,17.0,29.0,15.0,18.0,2.0,8.0,10.0,5.0,12.0,2.0,9.0,12.0,null,6.0,17.0,5.0,7.0,42.0,15.0,14.0,4.0,7.0,6.0,29.0,19.0,18.0,20.0,14.0,14.0,2.0,11.0,22.0,16.0,20.0,5.0,null,18.0,24.0,24.0,16.0,18.0,19.0,111.0,10.0,13.0,25.0,3.0,6.0,4.0,24.0,12.0,16.0,20.0,8.0,9.0,23.0,null,null,4.0,11.0,6.0,35.0,null,8.0,8.0,15.0,null,16.0,10.0,19.0,15.0,13.0,6.0,12.0,null,6.0,5.0,2.0,null,21.0,17.0,15.0,10.0,null,22.0,null,10.0,10.0,11.0,14.0,5.0,18.0,50.0,16.0,1.0,8.0,21.0,null,5.0,4.0,2.0,14.0,null,21.0,13.0,7.0,9.0,29.0,22.0,24.0,8.0,9.0,22.0,23.0,23.0,5.0,30.0,13.0,null,null,7.0,null,6.0,19.0,null,null,4.0,null,6.0,3.0,43.0,24.0,20.0,10.0,25.0,11.0,4.0,10.0,12.0,14.0,4.0,16.0,4.0,16.0,32.0,3.0,24.0,6.0,31.0,15.0,null,null,6.0,21.0,24.0,8.0,18.0,15.0,15.0,11.0,12.0,8.0,21.0,2.0,5.0,9.0,15.0,13.0,15.0,null,13.0,15.0,18.0,22.0,10.0,4.0,35.0,19.0,12.0,6.0,7.0,12.0,21.0,13.0,12.0,113.0,21.0,8.0,13.0,9.0,7.0,null,9.0,19.0,12.0,7.0,4.0,10.0,5.0,7.0,11.0,20.0,14.0,4.0,null,2.0,28.0,35.0,22.0,56.0,16.0,11.0,27.0,null,19.0,9.0,null,11.0,2.0,18.0,10.0,7.0,5.0,7.0,17.0,21.0,10.0,8.0,18.0,14.0,33.0,50.0,37.0,13.0,18.0,6.0,14.0,16.0,13.0,24.0,21.0,10.0,13.0,12.0,14.0,8.0,35.0,21.0,8.0,16.0,null,17.0,23.0,33.0,null,14.0,17.0,9.0,67.0,2.0,12.0,10.0,null,6.0,9.0,null,36.0,25.0,10.0,18.0,15.0,null,16.0,5.0,14.0,8.0,24.0,13.0,9.0,11.0,21.0,23.0,23.0,12.0,10.0,23.0,8.0,12.0,26.0,9.0,18.0,16.0,19.0,10.0,3.0,10.0,null,4.0,6.0,null,6.0,14.0,4.0,13.0,9.0,52.0,43.0,4.0,20.0,9.0,23.0,9.0,3.0,40.0,14.0,2.0,5.0,5.0,10.0,10.0,13.0,5.0,23.0,null,5.0,7.0,13.0,13.0,9.0,20.0,7.0,15.0,15.0,10.0,10.0,10.0,18.0,16.0,11.0,14.0,3.0,null,15.0,null,16.0,23.0,23.0,11.0,7.0,15.0,8.0,33.0,6.0,6.0,26.0,27.0,9.0,28.0,10.0,3.0,18.0,50.0,12.0,22.0,null,14.0,23.0,10.0,8.0,26.0,14.0,4.0,6.0,9.0,37.0,15.0,5.0,null,3.0,19.0,1.0,17.0,19.0,47.0,7.0,6.0,14.0,42.0,4.0,5.0,6.0,null,29.0,16.0,79.0,11.0,13.0,6.0,null,10.0,5.0,null,28.0,8.0,8.0,14.0,null,11.0,24.0,9.0,9.0,8.0,26.0,15.0,null,18.0,21.0,17.0,3.0,6.0,7.0,27.0,6.0,31.0,36.0,4.0,7.0,7.0,null,27.0,null,null,13.0,11.0,17.0,6.0,15.0,null,12.0,8.0,46.0,31.0,5.0,15.0,6.0,19.0,null,12.0,8.0,12.0,17.0,22.0,7.0,5.0,15.0,11.0,17.0,7.0,33.0,null,19.0,22.0,45.0,3.0,17.0,null,11.0,8.0,2.0,21.0,null,1.0,null,40.0,5.0,93.0,null,2.0,12.0,26.0,18.0,12.0,37.0,20.0,11.0,26.0,5.0,10.0,3.0,7.0,6.0,4.0,27.0,15.0,5.0,7.0,6.0,4.0,17.0,15.0,6.0,7.0,8.0,36.0,10.0,4.0,10.0,18.0,22.0,10.0,5.0,10.0,15.0,18.0,null,4.0,null,3.0,1.0,1.0,1.0,null,1.0,34.0,5.0,60.0,6.0,11.0,18.0,13.0,17.0,28.0,19.0,18.0,15.0,17.0,2.0,null,41.0,18.0,8.0,15.0,15.0,28.0,20.0,21.0,11.0,7.0,null,null,6.0,13.0,12.0,55.0,16.0,25.0,8.0,11.0,2.0,8.0,6.0,14.0,13.0,12.0,3.0,3.0,null,6.0,15.0,14.0,22.0,null,13.0,4.0,null,6.0,19.0,16.0,19.0,7.0,10.0,9.0,11.0,8.0,19.0,10.0,3.0,24.0,10.0,null,5.0,13.0,20.0,16.0,24.0,8.0,3.0,8.0,18.0,29.0,17.0,19.0,27.0,6.0,14.0,12.0,25.0,29.0,76.0,12.0,null,7.0,17.0,10.0,11.0,null,7.0,4.0,5.0,11.0,11.0,24.0,13.0,15.0,11.0,10.0,8.0,7.0,25.0,26.0,null,6.0,9.0,null,27.0,null,30.0,3.0,18.0,5.0,12.0,6.0,14.0,22.0,8.0,8.0,9.0,12.0,13.0,4.0,5.0,null,18.0,12.0,6.0,30.0,6.0,3.0,1.0,null,12.0,null,13.0,4.0,21.0,24.0,42.0,null,4.0,24.0,16.0,null,11.0,7.0,null,34.0,10.0,24.0,46.0,14.0,1.0,15.0,14.0,21.0,12.0,13.0,6.0,19.0,5.0,7.0,13.0,10.0,7.0,null,10.0,null,1.0,null,5.0,10.0,null,null,10.0,9.0,17.0,27.0,24.0,16.0,4.0,null,4.0,9.0,2.0,2.0,18.0,null,4.0,null,15.0,9.0,6.0,7.0,7.0,17.0,6.0,30.0,16.0,6.0,12.0,10.0,22.0,5.0,null,11.0,33.0,10.0,12.0,22.0,11.0,null,15.0,null,8.0,3.0,11.0,29.0,9.0,28.0,null,null,12.0,null,13.0,29.0,14.0,4.0,11.0,37.0,2.0,27.0,null,5.0,7.0,13.0,17.0,19.0,14.0,27.0,17.0,9.0,21.0,20.0,13.0,6.0,10.0,25.0,5.0,1.0,12.0,5.0,20.0,8.0,10.0,13.0,19.0,13.0,7.0,13.0,15.0,9.0,9.0,13.0,13.0,null,11.0,13.0,2.0,7.0,10.0,null,4.0,14.0,10.0,27.0,10.0,11.0,2.0,19.0,5.0,8.0,17.0,null,8.0,10.0,10.0,7.0,8.0,28.0,17.0,27.0,27.0,13.0,8.0,13.0,9.0,6.0,8.0,14.0,null,9.0,12.0,22.0,7.0,14.0,7.0,11.0,9.0,29.0,null,13.0,7.0,16.0,14.0,10.0,3.0,null,42.0,5.0,6.0,8.0,1.0,6.0,9.0,21.0,null,34.0,null,5.0,13.0,8.0,37.0,6.0,7.0,8.0,7.0,38.0,9.0,5.0,16.0,21.0,16.0,22.0,19.0,7.0,8.0,30.0,10.0,12.0,18.0,11.0,20.0,7.0,17.0,10.0,9.0,null,8.0,null,8.0,10.0,4.0,1.0,6.0,0.0,7.0,3.0,6.0,2.0,3.0,null,32.0,11.0,null,17.0,47.0,16.0,12.0,16.0,1.0,null,17.0,11.0,3.0,4.0,8.0,10.0,null,20.0,null,22.0,3.0,13.0,13.0,16.0,2.0,19.0,11.0,null,1.0,2.0,7.0,18.0,12.0,17.0,7.0,9.0,10.0,30.0,10.0,14.0,11.0,8.0,null,25.0,16.0,null,null,null,28.0,14.0,0.0,10.0,null,null,8.0,14.0,10.0,16.0,1.0,18.0,28.0,43.0,1.0,4.0,8.0,15.0,13.0,12.0,5.0,13.0,7.0,6.0,9.0,14.0,null,26.0,9.0,12.0,7.0,null,5.0,6.0,9.0,2.0,null,null,22.0,21.0,8.0,10.0,26.0,13.0,null,6.0,10.0,4.0,7.0,3.0,13.0,12.0,15.0,11.0,14.0,10.0,16.0,10.0,null,27.0,26.0,8.0,18.0,7.0,10.0,null,12.0,7.0,13.0,28.0,12.0,14.0,31.0,6.0,17.0,12.0,5.0,10.0,19.0,20.0,null,null,20.0,6.0,54.0,null,14.0,15.0,14.0,null,18.0,14.0,18.0,9.0,6.0,null,16.0,20.0,50.0,9.0,6.0,11.0,2.0,8.0,5.0,11.0,11.0,10.0,15.0,14.0,13.0,19.0,6.0,9.0,12.0,8.0,5.0,24.0,28.0,12.0,7.0,5.0,3.0,30.0,4.0,8.0,11.0,8.0,6.0,58.0,8.0,17.0,null,null,4.0,6.0,null,18.0,6.0,null,4.0,2.0,7.0,1.0,null,14.0,21.0,21.0,17.0,12.0,13.0,1.0,16.0,12.0,null,10.0,7.0,8.0,12.0,24.0,22.0,10.0,null,13.0,16.0,6.0,28.0,34.0,3.0,13.0,31.0,10.0,12.0,14.0,19.0,12.0,14.0,19.0,null,null,20.0,15.0,26.0,10.0,5.0,null,14.0,5.0,13.0,6.0,13.0,11.0,35.0,36.0,2.0,7.0,4.0,null,5.0,30.0,12.0,9.0,12.0,3.0,8.0,43.0,15.0,12.0,24.0,null,26.0,9.0,5.0,21.0,6.0,4.0,16.0,4.0,11.0,null,11.0,5.0,10.0,14.0,4.0,14.0,13.0,11.0,8.0,9.0,19.0,10.0,16.0,8.0,10.0,7.0,26.0,17.0,16.0,24.0,3.0,2.0,16.0,0.0,10.0,45.0,2.0,6.0,null,51.0,2.0,3.0,18.0,9.0,10.0,32.0,9.0,55.0,34.0,9.0,46.0,9.0,12.0,21.0,3.0,29.0,18.0,4.0,null,3.0,11.0,4.0,27.0,9.0,17.0,3.0,62.0,16.0,12.0,6.0,14.0,18.0,16.0,null,5.0,5.0,null,null,16.0,15.0,3.0,null,15.0,15.0,null,12.0,5.0,null,11.0,13.0,6.0,14.0,null,5.0,10.0,null,23.0,14.0,null,4.0,14.0,10.0,12.0,30.0,4.0,19.0,11.0,null,null,9.0,null,4.0,4.0,8.0,6.0,5.0,5.0,2.0,1.0,null,13.0,8.0,5.0,6.0,12.0,4.0,37.0,13.0,null,0.0,21.0,9.0,7.0,14.0,7.0,25.0,14.0,8.0,65.0,3.0,6.0,13.0,15.0,13.0,1.0,17.0,22.0,4.0,39.0,null,14.0,25.0,36.0,25.0,35.0,5.0,12.0,11.0,null,21.0,null,8.0,18.0,null,10.0,7.0,15.0,9.0,23.0,7.0,0.0,17.0,6.0,3.0,9.0,14.0,1.0,4.0,10.0,21.0,25.0,27.0,15.0,18.0,17.0,10.0,11.0,28.0,15.0,1.0,null,6.0,15.0,17.0,9.0,null,12.0,32.0,30.0,10.0,12.0,5.0,null,4.0,7.0,3.0,16.0,19.0,7.0,4.0,null,18.0,null,8.0,3.0,18.0,7.0,20.0,8.0,15.0,14.0,15.0,7.0,5.0,31.0,8.0,null,null,32.0,15.0,15.0,12.0,40.0,3.0,44.0,9.0,null,7.0,11.0,null,5.0,5.0,13.0,20.0,14.0,9.0,3.0,21.0,16.0,14.0,null,6.0,11.0,8.0,9.0,12.0,13.0,null,14.0,null,6.0,15.0,17.0,15.0,34.0,3.0,13.0,17.0,19.0,8.0,7.0,24.0,null,20.0,5.0,14.0,41.0,13.0,8.0,null,2.0,null,11.0,28.0,null,17.0,10.0,3.0,5.0,14.0,17.0,27.0,6.0,null,21.0,20.0,34.0,4.0,7.0,null,6.0,11.0,20.0,12.0,13.0,17.0,6.0,9.0,14.0,18.0,17.0,2.0,32.0,16.0,5.0,10.0,15.0,13.0,26.0,1.0,null,2.0,12.0,17.0,2.0,3.0,19.0,4.0,20.0,10.0,null,12.0,26.0,15.0,12.0,5.0,17.0,16.0,19.0,23.0,24.0,3.0,11.0,9.0,14.0,13.0,16.0,22.0,20.0,13.0,7.0,9.0,22.0,17.0,2.0,25.0,8.0,10.0,17.0,10.0,2.0,13.0,7.0,33.0,25.0,null,7.0,4.0,10.0,0.0,null,8.0,17.0,null,24.0,19.0,11.0,6.0,48.0,25.0,1.0,13.0,23.0,30.0,18.0,11.0,31.0,28.0,null,5.0,19.0,5.0,8.0,1.0,4.0,6.0,5.0,4.0,8.0,19.0,21.0,10.0,21.0,18.0,17.0,null,28.0,10.0,22.0,9.0,6.0,null,11.0,15.0,13.0,10.0,5.0,null,2.0,7.0,20.0,6.0,20.0,6.0,11.0,29.0,9.0,null,10.0,null,9.0,10.0,8.0,11.0,20.0,2.0,10.0,null,0.0,6.0,10.0,26.0,9.0,8.0,6.0,9.0,12.0,7.0,12.0,2.0,3.0,null,6.0,8.0,14.0,null,15.0,13.0,6.0,101.0,null,11.0,82.0,21.0,6.0,null,8.0,3.0,9.0,36.0,16.0,2.0,22.0,4.0,23.0,12.0,null,3.0,18.0,28.0,9.0,20.0,12.0,17.0,5.0,null,32.0,4.0,14.0,3.0,null,5.0,6.0,20.0,null,11.0,20.0,null,9.0,19.0,3.0,null,8.0,1.0,3.0,8.0,18.0,5.0,6.0,5.0,1.0,14.0,null,null,null,6.0,11.0,14.0,5.0,14.0,null,43.0,null,15.0,20.0,19.0,42.0,10.0,6.0,4.0,12.0,2.0,2.0,45.0,12.0,6.0,4.0,12.0,5.0,9.0,12.0,21.0,13.0,9.0,13.0,2.0,34.0,null,22.0,17.0,7.0,7.0,13.0,6.0,45.0,16.0,10.0,13.0,null,null,17.0,16.0,12.0,18.0,10.0,21.0,13.0,18.0,13.0,5.0,18.0,9.0,17.0,4.0,6.0,4.0,19.0,3.0,14.0,11.0,11.0,8.0,22.0,13.0,12.0,10.0,6.0,5.0,16.0,5.0,13.0,26.0,7.0,16.0,5.0,7.0,20.0,14.0,10.0,30.0,14.0,null,3.0,6.0,18.0,5.0,31.0,5.0,3.0,22.0,11.0,14.0,8.0,5.0,3.0,8.0,41.0,null,5.0,18.0,16.0,19.0,null,12.0,15.0,12.0,15.0,5.0,0.0,12.0,20.0,2.0,16.0,12.0,11.0,5.0,1.0,24.0,17.0,25.0,3.0,2.0,11.0,11.0,null,11.0,6.0,18.0,10.0,3.0,4.0,5.0,51.0,8.0,16.0,24.0,21.0,17.0,7.0,11.0,8.0,15.0,33.0,13.0,9.0,22.0,6.0,18.0,15.0,6.0,8.0,4.0,19.0,null,3.0,6.0,6.0,8.0,45.0,6.0,9.0,13.0,5.0,22.0,9.0,null,null,9.0,null,16.0,32.0,7.0,18.0,51.0,0.0,7.0,34.0,16.0,23.0,17.0,34.0,3.0,9.0,8.0,7.0,16.0,1.0,17.0,36.0,4.0,10.0,5.0,null,4.0,23.0,10.0,2.0,8.0,5.0,9.0,4.0,10.0,29.0,22.0,6.0,5.0,11.0,7.0,17.0,5.0,20.0,12.0,24.0,12.0,22.0,5.0,13.0,14.0,null,2.0,13.0,14.0,8.0,null,5.0,8.0,14.0,13.0,16.0,20.0,7.0,8.0,15.0,10.0,4.0,14.0,9.0,10.0,13.0,null,6.0,20.0,1.0,7.0,2.0,7.0,18.0,10.0,7.0,9.0,6.0,8.0,11.0,9.0,40.0,4.0,2.0,27.0,25.0,19.0,10.0,5.0,6.0,7.0,null,2.0,23.0,18.0,23.0,2.0,null,5.0,null,null,null,19.0,18.0,60.0,8.0,null,10.0,1.0,13.0,6.0,10.0,14.0,1.0,15.0,3.0,12.0,null,13.0,12.0,19.0,15.0,2.0,8.0,20.0,6.0,18.0,14.0,8.0,21.0,6.0,14.0,null,8.0,8.0,6.0,null,28.0,12.0,null,27.0,7.0,16.0,20.0,3.0,34.0,7.0,3.0,13.0,10.0,25.0,16.0,16.0,12.0,16.0,2.0,1.0,14.0,11.0,8.0,16.0,14.0,19.0,12.0,3.0,20.0,null,5.0,13.0,24.0,16.0,17.0,39.0,14.0,3.0,9.0,21.0,7.0,5.0,5.0,6.0,11.0,24.0,18.0,8.0,39.0,23.0,13.0,66.0,2.0,2.0,37.0,2.0,9.0,13.0,25.0,23.0,null,8.0,4.0,2.0,38.0,14.0,null,26.0,8.0,9.0,1.0,7.0,2.0,1.0,11.0,7.0,29.0,46.0,7.0,3.0,9.0,null,null,2.0,13.0,11.0,33.0,9.0,7.0,5.0,null,10.0,12.0,null,17.0,19.0,20.0,4.0,31.0,8.0,33.0,12.0,9.0,12.0,7.0,8.0,11.0,1.0,3.0,null,null,4.0,17.0,8.0,20.0,11.0,8.0,63.0,10.0,18.0,6.0,5.0,3.0,15.0,20.0,6.0,null,9.0,5.0,9.0,16.0,3.0,9.0,16.0,15.0,59.0,7.0,12.0,12.0,14.0,null,20.0,16.0,11.0,null,3.0,3.0,6.0,13.0,16.0,null,32.0,18.0,12.0,5.0,13.0,5.0,15.0,12.0,22.0,3.0,7.0,25.0,null,null,9.0,13.0,10.0,9.0,5.0,1.0,15.0,29.0,12.0,11.0,22.0,9.0,8.0,26.0,null,5.0,9.0,7.0,15.0,9.0,15.0,8.0,9.0,null,5.0,6.0,21.0,14.0,11.0,7.0,13.0,25.0,6.0,44.0,52.0,20.0,9.0,6.0,7.0,16.0,12.0,16.0,11.0,23.0,20.0,23.0,8.0,12.0,7.0,9.0,19.0,30.0,50.0,3.0,28.0,16.0,5.0,29.0,8.0,6.0,24.0,12.0,1.0,13.0,0.0,6.0,10.0,4.0,44.0,7.0,18.0,15.0,11.0,null,21.0,9.0,10.0,5.0,9.0,11.0,11.0,10.0,20.0,null,7.0,null,27.0,17.0,11.0,37.0,23.0,33.0,1.0,9.0,20.0,21.0,25.0,null,1.0,13.0,9.0,0.0,2.0,12.0,20.0,9.0,13.0,22.0,34.0,null,8.0,15.0,11.0,12.0,22.0,27.0,5.0,6.0,20.0,10.0,10.0,5.0,9.0,18.0,14.0,1.0,null,11.0,null,14.0,21.0,14.0,20.0,32.0,9.0,null,33.0,null,10.0,null,19.0,32.0,33.0,33.0,8.0,5.0,7.0,12.0,4.0,4.0,9.0,7.0,9.0,3.0,7.0,null,8.0,null,26.0,13.0,24.0,null,19.0,10.0,11.0,11.0,null,9.0,7.0,14.0,12.0,2.0,83.0,19.0,null,8.0,5.0,22.0,null,15.0,19.0,23.0,5.0,4.0,5.0,32.0,17.0,13.0,16.0,13.0,10.0,7.0,19.0,28.0,53.0,10.0,5.0,16.0,null,20.0,10.0,49.0,9.0,1.0,null,19.0,null,null,null,9.0,5.0,27.0,16.0,null,17.0,20.0,19.0,7.0,16.0,27.0,7.0,8.0,34.0,12.0,9.0,11.0,1.0,9.0,9.0,18.0,9.0,13.0,15.0,17.0,7.0,19.0,3.0,29.0,11.0,13.0,4.0,6.0,28.0,25.0,12.0,20.0,11.0,null,20.0,null,43.0,4.0,7.0,16.0,15.0,5.0,null,14.0,15.0,17.0,7.0,5.0,5.0,10.0,51.0,25.0,10.0,null,5.0,14.0,13.0,7.0,12.0,4.0,19.0,11.0,6.0,17.0,4.0,15.0,12.0,null,7.0,5.0,10.0,15.0,22.0,null,null,22.0,10.0,3.0,8.0,11.0,28.0,1.0,null,13.0,12.0,22.0,1.0,6.0,25.0,21.0,12.0,51.0,15.0,12.0,7.0,11.0,null,13.0,26.0,13.0,13.0,8.0,6.0,1.0,6.0,52.0,13.0,null,6.0,null,8.0,33.0,null,13.0,4.0,68.0,15.0,5.0,44.0,14.0,15.0,33.0,9.0,13.0,3.0,null,32.0,10.0,11.0,8.0,5.0,11.0,12.0,35.0,19.0,16.0,27.0,5.0,4.0,1.0,9.0,null,12.0,14.0,11.0,12.0,44.0,14.0,18.0,27.0,2.0,3.0,null,12.0,null,18.0,17.0,26.0,20.0,1.0,11.0,7.0,26.0,null,11.0,19.0,19.0,28.0,17.0,null,1.0,null,5.0,11.0,17.0,13.0,16.0,18.0,45.0,26.0,18.0,15.0,27.0,11.0,20.0,3.0,18.0,6.0,6.0,3.0,5.0,9.0,14.0,2.0,5.0,44.0,6.0,null,11.0,10.0,3.0,12.0,5.0,8.0,21.0,10.0,3.0,10.0,8.0,24.0,1.0,31.0,null,34.0,null,4.0,null,8.0,null,1.0,16.0,9.0,19.0,13.0,10.0,8.0,null,10.0,8.0,9.0,8.0,12.0,3.0,17.0,9.0,7.0,3.0,16.0,4.0,11.0,10.0,16.0,10.0,12.0,9.0,5.0,7.0,1.0,16.0,10.0,16.0,2.0,25.0,14.0,11.0,2.0,6.0,31.0,6.0,51.0,7.0,19.0,10.0,11.0,35.0,20.0,2.0,14.0,16.0,null,17.0,5.0,12.0,12.0,17.0,23.0,20.0,7.0,34.0,null,null,2.0,10.0,7.0,1.0,17.0,12.0,9.0,10.0,null,6.0,9.0,9.0,6.0,20.0,10.0,null,6.0,4.0,2.0,null,11.0,21.0,9.0,8.0,12.0,25.0,12.0,7.0,31.0,13.0,null,8.0,7.0,18.0,12.0,7.0,12.0,11.0,6.0,7.0,17.0,11.0,17.0,11.0,20.0,31.0,12.0,17.0,16.0,null,23.0,null,19.0,8.0,14.0,2.0,7.0,14.0,18.0,15.0,9.0,17.0,6.0,null,9.0,24.0,0.0,3.0,17.0,18.0,5.0,29.0,10.0,19.0,7.0,20.0,10.0,13.0,15.0,16.0,7.0,35.0,37.0,null,18.0,8.0,5.0,5.0,10.0,13.0,18.0,5.0,15.0,8.0,44.0,null,31.0,25.0,28.0,53.0,14.0,11.0,9.0,null,5.0,9.0,2.0,20.0,23.0,28.0,2.0,6.0,11.0,17.0,2.0,9.0,20.0,null,26.0,null,19.0,31.0,null,17.0,8.0,11.0,13.0,8.0,11.0,15.0,14.0,19.0,17.0,25.0,null,27.0,11.0,18.0,21.0,5.0,10.0,4.0,9.0,9.0,33.0,14.0,10.0,8.0,14.0,23.0,20.0,23.0,15.0,10.0,20.0,null,11.0,29.0,7.0,null,10.0,10.0,21.0,11.0,24.0,12.0,12.0,2.0,15.0,35.0,8.0,6.0,7.0,16.0,18.0,null,9.0,null,36.0,8.0,7.0,9.0,9.0,15.0,10.0,4.0,5.0,17.0,8.0,11.0,9.0,null,10.0,2.0,25.0,43.0,8.0,null,6.0,19.0,19.0,8.0,10.0,15.0,15.0,10.0,7.0,12.0,15.0,17.0,30.0,15.0,7.0,9.0,11.0,16.0,42.0,5.0,9.0,16.0,null,14.0,null,8.0,6.0,3.0,12.0,5.0,10.0,5.0,0.0,8.0,14.0,6.0,4.0,null,20.0,43.0,10.0,null,23.0,19.0,15.0,26.0,26.0,6.0,8.0,19.0,2.0,13.0,9.0,4.0,29.0,7.0,10.0,null,7.0,15.0,3.0,null,13.0,14.0,8.0,18.0,11.0,14.0,null,2.0,6.0,null,17.0,24.0,17.0,12.0,null,38.0,null,null,5.0,20.0,7.0,5.0,13.0,2.0,8.0,5.0,25.0,3.0,26.0,7.0,2.0,7.0,9.0,16.0,5.0,16.0,22.0,30.0,1.0,21.0,9.0,6.0,10.0,10.0,9.0,31.0,58.0,8.0,4.0,null,9.0,50.0,14.0,6.0,12.0,25.0,1.0,null,16.0,null,19.0,null,6.0,19.0,15.0,28.0,64.0,null,12.0,47.0,1.0,19.0,36.0,3.0,17.0,8.0,8.0,36.0,null,17.0,11.0,19.0,null,15.0,19.0,12.0,11.0,1.0,29.0,11.0,16.0,17.0,10.0,10.0,5.0,10.0,7.0,8.0,5.0,19.0,11.0,10.0,10.0,null,20.0,19.0,null,7.0,null,2.0,8.0,4.0,9.0,23.0,10.0,18.0,3.0,15.0,12.0,15.0,6.0,14.0,9.0,16.0,null,8.0,null,12.0,23.0,31.0,57.0,15.0,14.0,null,67.0,13.0,9.0,null,14.0,5.0,17.0,21.0,9.0,null,29.0,25.0,16.0,5.0,21.0,22.0,13.0,18.0,2.0,23.0,9.0,3.0,7.0,27.0,9.0,13.0,5.0,47.0,19.0,21.0,null,11.0,null,null,19.0,29.0,16.0,2.0,null,21.0,10.0,6.0,13.0,8.0,23.0,null,29.0,1.0,29.0,27.0,65.0,38.0,6.0,12.0,null,17.0,27.0,21.0,8.0,14.0,30.0,4.0,5.0,null,15.0,12.0,24.0,48.0,7.0,5.0,15.0,6.0,21.0,null,14.0,5.0,null,12.0,9.0,26.0,8.0,3.0,null,25.0,4.0,11.0,null,6.0,17.0,27.0,39.0,13.0,19.0,9.0,9.0,29.0,17.0,53.0,11.0,15.0,13.0,8.0,32.0,18.0,19.0,null,3.0,10.0,3.0,20.0,10.0,13.0,18.0,4.0,2.0,7.0,15.0,4.0,37.0,1.0,11.0,18.0,null,null,10.0,14.0,20.0,5.0,21.0,23.0,9.0,9.0,1.0,null,null,10.0,12.0,6.0,18.0,26.0,null,43.0,9.0,66.0,1.0,21.0,9.0,10.0,3.0,21.0,5.0,18.0,13.0,8.0,8.0,18.0,7.0,1.0,13.0,40.0,20.0,5.0,13.0,16.0,17.0,11.0,null,2.0,18.0,4.0,13.0,19.0,11.0,null,2.0,9.0,26.0,null,null,14.0,12.0,1.0,11.0,12.0,14.0,14.0,5.0,11.0,19.0,31.0,4.0,5.0,11.0,45.0,9.0,27.0,2.0,8.0,124.0,28.0,9.0,9.0,7.0,13.0,21.0,27.0,21.0,56.0,4.0,11.0,12.0,11.0,1.0,16.0,8.0,14.0,27.0,12.0,13.0,10.0,8.0,29.0,null,5.0,14.0,18.0,6.0,9.0,22.0,25.0,null,6.0,35.0,14.0,56.0,9.0,24.0,null,13.0,11.0,15.0,51.0,4.0,15.0,22.0,6.0,9.0,6.0,19.0,null,24.0,20.0,6.0,17.0,23.0,10.0,14.0,1.0,4.0,14.0,16.0,17.0,12.0,17.0,20.0,11.0,15.0,5.0,14.0,2.0,13.0,6.0,15.0,17.0,1.0,9.0,7.0,12.0,25.0,12.0,28.0,12.0,11.0,11.0,11.0,14.0,14.0,23.0,35.0,null,14.0,26.0,10.0,7.0,15.0,7.0,36.0,null,7.0,5.0,20.0,5.0,4.0,9.0,null,6.0,25.0,16.0,15.0,13.0,1.0,5.0,20.0,10.0,null,null,null,31.0,2.0,9.0,null,8.0,8.0,21.0,null,5.0,15.0,19.0,20.0,null,8.0,3.0,null,9.0,2.0,14.0,6.0,36.0,null,1.0,10.0,8.0,16.0,15.0,11.0,28.0,6.0,6.0,30.0,1.0,16.0,5.0,1.0,9.0,23.0,12.0,8.0,8.0,23.0,4.0,4.0,12.0,1.0,55.0,8.0,3.0,null,8.0,4.0,6.0,49.0,12.0,21.0,9.0,8.0,9.0,13.0,14.0,14.0,21.0,41.0,9.0,13.0,10.0,6.0,9.0,10.0,14.0,9.0,2.0,16.0,5.0,13.0,12.0,13.0,1.0,12.0,6.0,6.0,31.0,9.0,4.0,4.0,8.0,18.0,5.0,18.0,9.0,42.0,9.0,13.0,null,5.0,15.0,9.0,11.0,36.0,5.0,9.0,null,10.0,8.0,9.0,20.0,10.0,4.0,5.0,4.0,null,8.0,6.0,21.0,9.0,27.0,7.0,18.0,19.0,16.0,6.0,4.0,3.0,4.0,8.0,20.0,9.0,null,10.0,6.0,10.0,7.0,null,12.0,null,15.0,12.0,16.0,5.0,25.0,11.0,36.0,7.0,null,9.0,18.0,11.0,3.0,6.0,null,6.0,null,11.0,26.0,8.0,14.0,14.0,4.0,23.0,null,28.0,15.0,11.0,7.0,37.0,16.0,8.0,15.0,null,29.0,2.0,29.0,5.0,null,11.0,1.0,29.0,null,null,30.0,8.0,15.0,3.0,18.0,15.0,1.0,9.0,8.0,11.0,5.0,24.0,14.0,16.0,6.0,14.0,null,15.0,14.0,16.0,16.0,8.0,9.0,4.0,26.0,4.0,10.0,5.0,12.0,3.0,1.0,8.0,18.0,19.0,13.0,28.0,11.0,38.0,40.0,20.0,26.0,10.0,7.0,7.0,16.0,15.0,22.0,null,27.0,null,7.0,null,9.0,13.0,14.0,19.0,12.0,8.0,30.0,11.0,12.0,null,14.0,9.0,null,9.0,17.0,9.0,14.0,6.0,12.0,32.0,5.0,12.0,27.0,11.0,5.0,null,10.0,13.0,19.0,20.0,null,null,4.0,12.0,null,13.0,null,13.0,12.0,14.0,22.0,null,27.0,null,30.0,12.0,null,15.0,29.0,19.0,11.0,4.0,29.0,5.0,9.0,10.0,null,7.0,29.0,64.0,16.0,18.0,5.0,12.0,40.0,13.0,22.0,8.0,12.0,null,null,9.0,13.0,3.0,3.0,6.0,32.0,15.0,4.0,9.0,null,8.0,15.0,8.0,9.0,11.0,27.0,7.0,5.0,11.0,null,9.0,null,25.0,13.0,2.0,22.0,6.0,null,18.0,15.0,8.0,38.0,23.0,null,30.0,15.0,5.0,13.0,18.0,47.0,4.0,8.0,11.0,1.0,19.0,112.0,23.0,8.0,2.0,3.0,21.0,13.0,6.0,2.0,6.0,5.0,5.0,14.0,9.0,54.0,11.0,9.0,13.0,10.0,23.0,9.0,13.0,6.0,5.0,30.0,5.0,29.0,8.0,7.0,5.0,1.0,12.0,50.0,13.0,11.0,5.0,11.0,10.0,17.0,8.0,1.0,18.0,7.0,null,16.0,17.0,10.0,16.0,28.0,26.0,6.0,7.0,null,19.0,30.0,6.0,11.0,null,10.0,15.0,9.0,15.0,null,2.0,11.0,24.0,30.0,4.0,17.0,3.0,27.0,7.0,12.0,14.0,11.0,12.0,2.0,14.0,15.0,3.0,7.0,16.0,18.0,10.0,15.0,23.0,14.0,7.0,null,24.0,21.0,19.0,47.0,12.0,13.0,15.0,27.0,12.0,15.0,8.0,13.0,9.0,12.0,8.0,16.0,4.0,null,6.0,17.0,13.0,42.0,6.0,17.0,5.0,18.0,3.0,4.0,10.0,17.0,2.0,null,10.0,null,1.0,3.0,7.0,9.0,23.0,null,23.0,15.0,21.0,10.0,16.0,12.0,9.0,null,20.0,73.0,14.0,29.0,23.0,9.0,27.0,7.0,22.0,16.0,null,11.0,12.0,28.0,3.0,18.0,13.0,5.0,70.0,5.0,5.0,43.0,4.0,17.0,null,6.0,23.0,15.0,15.0,8.0,25.0,5.0,null,10.0,7.0,null,11.0,null,21.0,null,8.0,12.0,null,17.0,12.0,21.0,4.0,15.0,null,8.0,7.0,19.0,4.0,16.0,22.0,6.0,19.0,23.0,24.0,6.0,5.0,1.0,3.0,7.0,6.0,3.0,null,null,17.0,10.0,16.0,3.0,6.0,13.0,12.0,null,null,26.0,4.0,5.0,4.0,5.0,20.0,14.0,null,null,2.0,11.0,7.0,1.0,1.0,29.0,19.0,13.0,6.0,3.0,5.0,20.0,10.0,10.0,27.0,9.0,28.0,30.0,12.0,18.0,49.0,11.0,8.0,11.0,30.0,19.0,3.0,4.0,15.0,4.0,33.0,13.0,6.0,13.0,null,null,7.0,0.0,5.0,null,9.0,29.0,12.0,14.0,10.0,31.0,8.0,9.0,7.0,4.0,9.0,35.0,32.0,4.0,11.0,11.0,1.0,null,25.0,6.0,null,41.0,18.0,10.0,6.0,null,11.0,12.0,23.0,14.0,null,5.0,11.0,9.0,21.0,null,7.0,6.0,null,27.0,8.0,null,15.0,11.0,5.0,51.0,4.0,7.0,7.0,31.0,7.0,21.0,18.0,10.0,25.0,5.0,3.0,3.0,12.0,31.0,4.0,12.0,1.0,9.0,27.0,9.0,19.0,14.0,15.0,15.0,31.0,18.0,13.0,null,16.0,13.0,15.0,25.0,null,23.0,5.0,53.0,20.0,5.0,6.0,8.0,13.0,null,2.0,12.0,1.0,3.0,9.0,7.0,20.0,16.0,25.0,8.0,13.0,1.0,1.0,null,1.0,15.0,19.0,20.0,29.0,1.0,null,30.0,5.0,6.0,28.0,16.0,null,26.0,13.0,19.0,39.0,19.0,8.0,12.0,8.0,17.0,null,1.0,42.0,5.0,15.0,19.0,21.0,6.0,10.0,17.0,null,32.0,16.0,13.0,null,null,21.0,22.0,23.0,11.0,25.0,23.0,null,10.0,null,14.0,9.0,6.0,14.0,1.0,3.0,37.0,21.0,6.0,null,10.0,19.0,11.0,13.0,81.0,15.0,3.0,20.0,14.0,null,68.0,19.0,6.0,15.0,21.0,13.0,5.0,20.0,11.0,6.0,null,11.0,21.0,29.0,9.0,15.0,15.0,18.0,6.0,23.0,13.0,16.0,22.0,14.0,null,null,4.0,15.0,5.0,5.0,null,2.0,11.0,11.0,null,11.0,2.0,4.0,6.0,null,28.0,4.0,12.0,24.0,11.0,7.0,23.0,15.0,5.0,10.0,5.0,18.0,15.0,4.0,8.0,14.0,12.0,null,null,17.0,14.0,4.0,18.0,24.0,21.0,10.0,null,13.0,14.0,5.0,35.0,18.0,5.0,7.0,null,7.0,4.0,28.0,11.0,12.0,8.0,11.0,9.0,8.0,2.0,6.0,2.0,12.0,20.0,10.0,22.0,20.0,22.0,5.0,15.0,1.0,null,8.0,14.0,null,14.0,9.0,17.0,5.0,null,3.0,19.0,null,1.0,0.0,7.0,31.0,31.0,21.0,17.0,2.0,6.0,6.0,16.0,null,14.0,9.0,7.0,15.0,21.0,1.0,4.0,15.0,25.0,null,7.0,9.0,62.0,4.0,4.0,5.0,1.0,10.0,11.0,6.0,16.0,12.0,17.0,1.0,11.0,null,10.0,50.0,11.0,10.0,13.0,13.0,18.0,9.0,null,8.0,7.0,4.0,18.0,null,null,2.0,8.0,7.0,37.0,2.0,1.0,1.0,21.0,9.0,4.0,14.0,20.0,9.0,34.0,27.0,9.0,16.0,17.0,10.0,14.0,4.0,22.0,29.0,29.0,20.0,11.0,11.0,12.0,15.0,15.0,19.0,5.0,6.0,7.0,3.0,24.0,null,9.0,21.0,13.0,25.0,6.0,13.0,14.0,null,4.0,29.0,null,3.0,5.0,65.0,null,15.0,14.0,17.0,10.0,14.0,18.0,7.0,11.0,3.0,8.0,11.0,51.0,7.0,11.0,null,24.0,3.0,38.0,14.0,13.0,19.0,43.0,null,14.0,null,11.0,4.0,9.0,7.0,6.0,8.0,15.0,1.0,25.0,9.0,null,11.0,2.0,15.0,12.0,24.0,9.0,18.0,34.0,11.0,14.0,10.0,9.0,23.0,3.0,19.0,5.0,42.0,7.0,13.0,17.0,23.0,24.0,26.0,12.0,13.0,8.0,8.0,15.0,26.0,18.0,9.0,12.0,2.0,null,24.0,11.0,12.0,9.0,9.0,8.0,8.0,15.0,20.0,5.0,7.0,null,null,null,12.0,20.0,20.0,9.0,11.0,35.0,12.0,6.0,38.0,2.0,25.0,13.0,22.0,23.0,14.0,27.0,12.0,10.0,28.0,3.0,12.0,18.0,37.0,null,13.0,20.0,12.0,3.0,32.0,null,6.0,23.0,3.0,4.0,2.0,17.0,null,4.0,21.0,24.0,71.0,null,21.0,null,2.0,8.0,25.0,9.0,null,21.0,19.0,16.0,8.0,10.0,8.0,39.0,null,10.0,17.0,null,11.0,20.0,16.0,20.0,10.0,13.0,10.0,7.0,null,11.0,28.0,null,12.0,8.0,12.0,32.0,25.0,15.0,10.0,13.0,15.0,7.0,6.0,null,16.0,2.0,9.0,15.0,30.0,20.0,9.0,33.0,7.0,11.0,null,22.0,8.0,21.0,36.0,8.0,24.0,5.0,14.0,2.0,null,22.0,20.0,16.0,13.0,25.0,17.0,null,11.0,4.0,13.0,3.0,7.0,null,13.0,17.0,4.0,7.0,24.0,14.0,2.0,4.0,23.0,null,6.0,0.0,16.0,9.0,12.0,4.0,null,null,1.0,null,17.0,5.0,16.0,28.0,2.0,14.0,16.0,11.0,null,29.0,null,17.0,5.0,10.0,21.0,15.0,null,11.0,12.0,54.0,20.0,6.0,null,23.0,12.0,34.0,5.0,10.0,14.0,27.0,1.0,null,12.0,4.0,8.0,8.0,25.0,9.0,8.0,9.0,44.0,null,20.0,null,12.0,3.0,12.0,20.0,9.0,11.0,16.0,10.0,5.0,29.0,9.0,6.0,18.0,9.0,5.0,10.0,34.0,null,4.0,15.0,33.0,8.0,13.0,5.0,26.0,18.0,33.0,7.0,12.0,13.0,4.0,14.0,7.0,9.0,1.0,18.0,19.0,13.0,35.0,9.0,12.0,27.0,27.0,6.0,47.0,5.0,24.0,null,8.0,9.0,null,14.0,6.0,7.0,10.0,15.0,10.0,21.0,29.0,10.0,14.0,null,2.0,17.0,14.0,31.0,19.0,25.0,1.0,29.0,null,22.0,13.0,3.0,null,4.0,15.0,4.0,12.0,13.0,21.0,26.0,5.0,12.0,12.0,13.0,17.0,7.0,10.0,13.0,4.0,27.0,5.0,12.0,9.0,11.0,28.0,10.0,5.0,16.0,15.0,7.0,17.0,10.0,8.0,7.0,21.0,53.0,10.0,29.0,49.0,21.0,9.0,15.0,4.0,6.0,10.0,5.0,10.0,7.0,10.0,6.0,49.0,3.0,6.0,12.0,8.0,null,29.0,2.0,14.0,8.0,19.0,5.0,13.0,3.0,7.0,21.0,null,null,4.0,10.0,14.0,17.0,24.0,4.0,4.0,20.0,25.0,14.0,8.0,7.0,17.0,10.0,4.0,null,9.0,28.0,11.0,null,68.0,17.0,1.0,56.0,null,8.0,6.0,7.0,1.0,4.0,null,24.0,6.0,23.0,12.0,28.0,3.0,5.0,20.0,10.0,15.0,17.0,null,12.0,2.0,15.0,4.0,7.0,null,2.0,26.0,8.0,10.0,8.0,9.0,3.0,8.0,18.0,26.0,31.0,11.0,null,10.0,16.0,11.0,17.0,7.0,11.0,2.0,13.0,18.0,17.0,18.0,10.0,23.0,12.0,7.0,5.0,null,9.0,20.0,19.0,7.0,null,5.0,null,7.0,7.0,50.0,10.0,10.0,null,11.0,15.0,17.0,3.0,20.0,null,29.0,12.0,19.0,19.0,8.0,10.0,9.0,6.0,11.0,10.0,4.0,11.0,33.0,24.0,17.0,41.0,3.0,2.0,23.0,12.0,null,6.0,1.0,56.0,1.0,20.0,7.0,5.0,12.0,9.0,12.0,8.0,9.0,9.0,7.0,14.0,18.0,15.0,13.0,15.0,11.0,22.0,19.0,17.0,5.0,4.0,null,5.0,10.0,3.0,11.0,9.0,18.0,12.0,30.0,33.0,2.0,46.0,65.0,12.0,58.0,1.0,9.0,43.0,17.0,10.0,7.0,8.0,65.0,11.0,11.0,5.0,6.0,6.0,8.0,11.0,6.0,14.0,7.0,21.0,3.0,null,35.0,12.0,11.0,23.0,5.0,8.0,16.0,11.0,4.0,5.0,1.0,32.0,7.0,17.0,6.0,25.0,8.0,12.0,29.0,null,12.0,20.0,11.0,7.0,8.0,null,17.0,12.0,3.0,14.0,14.0,15.0,10.0,null,7.0,19.0,13.0,6.0,9.0,33.0,9.0,5.0,4.0,18.0,null,6.0,null,5.0,6.0,7.0,11.0,20.0,25.0,4.0,2.0,null,12.0,null,11.0,null,4.0,8.0,9.0,2.0,10.0,13.0,8.0,9.0,2.0,2.0,7.0,5.0,6.0,15.0,33.0,30.0,4.0,null,26.0,21.0,4.0,7.0,1.0,23.0,14.0,4.0,8.0,10.0,15.0,32.0,7.0,19.0,null,9.0,16.0,9.0,3.0,6.0,null,null,13.0,5.0,null,7.0,1.0,18.0,11.0,null,2.0,18.0,null,40.0,6.0,7.0,41.0,1.0,18.0,2.0,10.0,6.0,7.0,null,17.0,12.0,null,7.0,11.0,15.0,null,9.0,4.0,17.0,21.0,null,9.0,1.0,18.0,8.0,14.0,12.0,9.0,14.0,10.0,27.0,5.0,18.0,1.0,12.0,22.0,14.0,12.0,6.0,11.0,22.0,9.0,15.0,3.0,14.0,5.0,22.0,17.0,23.0,19.0,18.0,12.0,12.0,9.0,null,21.0,null,5.0,6.0,15.0,13.0,24.0,null,6.0,13.0,8.0,17.0,null,10.0,11.0,1.0,14.0,16.0,21.0,2.0,5.0,10.0,0.0,17.0,4.0,12.0,18.0,4.0,21.0,28.0,12.0,11.0,11.0,16.0,null,16.0,19.0,11.0,11.0,30.0,30.0,29.0,9.0,13.0,null,16.0,45.0,11.0,9.0,44.0,27.0,3.0,7.0,11.0,3.0,17.0,null,3.0,3.0,13.0,2.0,14.0,2.0,12.0,18.0,6.0,15.0,4.0,null,17.0,10.0,25.0,29.0,45.0,null,8.0,null,33.0,15.0,11.0,9.0,13.0,31.0,5.0,null,40.0,6.0,11.0,null,7.0,null,11.0,19.0,11.0,12.0,30.0,11.0,5.0,12.0,11.0,17.0,39.0,9.0,9.0,22.0,7.0,3.0,29.0,32.0,12.0,11.0,16.0,15.0,18.0,5.0,24.0,8.0,null,8.0,17.0,39.0,13.0,42.0,13.0,19.0,26.0,7.0,null,5.0,12.0,7.0,8.0,null,10.0,1.0,13.0,9.0,null,29.0,null,22.0,null,null,7.0,17.0,7.0,4.0,15.0,6.0,14.0,7.0,11.0,14.0,21.0,null,13.0,3.0,20.0,null,3.0,15.0,15.0,14.0,5.0,null,19.0,9.0,8.0,10.0,12.0,28.0,15.0,19.0,9.0,8.0,6.0,14.0,16.0,11.0,27.0,null,11.0,9.0,13.0,null,19.0,31.0,22.0,2.0,9.0,9.0,14.0,10.0,11.0,5.0,100.0,null,17.0,4.0,1.0,17.0,2.0,19.0,10.0,17.0,20.0,2.0,9.0,25.0,18.0,3.0,14.0,43.0,7.0,3.0,12.0,5.0,null,2.0,null,20.0,12.0,4.0,3.0,17.0,2.0,3.0,31.0,10.0,10.0,3.0,9.0,5.0,23.0,20.0,19.0,4.0,13.0,5.0,12.0,17.0,13.0,18.0,13.0,6.0,9.0,5.0,2.0,8.0,10.0,11.0,6.0,8.0,8.0,24.0,25.0,16.0,1.0,15.0,8.0,15.0,18.0,14.0,null,25.0,5.0,11.0,37.0,null,null,36.0,6.0,23.0,2.0,13.0,null,12.0,51.0,43.0,6.0,16.0,40.0,null,1.0,23.0,null,4.0,27.0,13.0,4.0,15.0,23.0,21.0,9.0,2.0,6.0,2.0,34.0,15.0,11.0,null,39.0,8.0,9.0,27.0,16.0,null,13.0,18.0,4.0,18.0,14.0,9.0,1.0,14.0,11.0,12.0,28.0,null,1.0,9.0,52.0,5.0,10.0,10.0,null,22.0,7.0,37.0,17.0,null,null,35.0,22.0,11.0,25.0,24.0,null,8.0,8.0,7.0,5.0,14.0,3.0,15.0,14.0,14.0,1.0,15.0,13.0,9.0,15.0,23.0,15.0,17.0,10.0,20.0,26.0,13.0,5.0,62.0,9.0,15.0,12.0,7.0,21.0,23.0,6.0,7.0,12.0,26.0,19.0,9.0,7.0,23.0,6.0,7.0,1.0,7.0,6.0,2.0,47.0,9.0,9.0,3.0,9.0,null,5.0,6.0,10.0,12.0,20.0,39.0,12.0,null,7.0,9.0,9.0,4.0,2.0,11.0,7.0,11.0,10.0,25.0,null,6.0,11.0,8.0,2.0,7.0,12.0,4.0,17.0,null,9.0,11.0,11.0,null,4.0,15.0,0.0,null,11.0,17.0,18.0,28.0,null,16.0,5.0,8.0,null,9.0,4.0,4.0,null,19.0,13.0,8.0,12.0,19.0,24.0,12.0,6.0,null,7.0,8.0,19.0,3.0,null,18.0,14.0,null,37.0,19.0,21.0,null,null,24.0,14.0,6.0,13.0,4.0,10.0,null,22.0,4.0,13.0,18.0,9.0,6.0,11.0,null,12.0,16.0,6.0,2.0,22.0,6.0,2.0,15.0,8.0,9.0,24.0,6.0,9.0,6.0,12.0,3.0,8.0,19.0,17.0,22.0,3.0,33.0,null,0.0,5.0,62.0,14.0,23.0,39.0,13.0,19.0,null,null,18.0,2.0,9.0,7.0,6.0,6.0,16.0,7.0,18.0,1.0,null,4.0,21.0,12.0,null,null,2.0,51.0,17.0,10.0,13.0,24.0,7.0,4.0,14.0,1.0,5.0,7.0,3.0,18.0,30.0,12.0,null,14.0,7.0,17.0,null,64.0,2.0,5.0,4.0,33.0,14.0,8.0,8.0,null,30.0,8.0,14.0,5.0,4.0,9.0,4.0,8.0,22.0,12.0,14.0,82.0,4.0,9.0,8.0,null,13.0,6.0,22.0,7.0,null,null,9.0,null,16.0,8.0,null,13.0,8.0,13.0,16.0,37.0,17.0,10.0,9.0,20.0,3.0,16.0,5.0,15.0,11.0,39.0,27.0,21.0,8.0,48.0,8.0,10.0,21.0,7.0,3.0,12.0,13.0,6.0,12.0,3.0,9.0,null,8.0,28.0,null,6.0,12.0,7.0,2.0,null,18.0,4.0,13.0,18.0,19.0,8.0,25.0,null,19.0,15.0,null,4.0,18.0,16.0,10.0,12.0,5.0,null,3.0,10.0,18.0,null,6.0,9.0,35.0,14.0,15.0,7.0,10.0,9.0,31.0,24.0,29.0,null,12.0,15.0,21.0,18.0,2.0,14.0,26.0,14.0,12.0,null,24.0,12.0,23.0,3.0,107.0,23.0,20.0,12.0,12.0,5.0,14.0,28.0,null,2.0,10.0,17.0,22.0,6.0,19.0,2.0,9.0,3.0,22.0,8.0,11.0,7.0,10.0,8.0,21.0,11.0,null,12.0,11.0,9.0,31.0,28.0,6.0,11.0,18.0,15.0,5.0,27.0,7.0,7.0,2.0,12.0,34.0,13.0,10.0,13.0,12.0,null,14.0,7.0,28.0,null,9.0,4.0,12.0,16.0,11.0,1.0,10.0,13.0,13.0,null,null,null,18.0,11.0,9.0,7.0,10.0,6.0,10.0,6.0,7.0,9.0,14.0,12.0,5.0,10.0,12.0,6.0,11.0,null,null,7.0,21.0,6.0,29.0,24.0,null,23.0,27.0,22.0,7.0,33.0,25.0,31.0,null,7.0,20.0,7.0,13.0,30.0,73.0,3.0,18.0,7.0,11.0,28.0,16.0,8.0,29.0,15.0,13.0,8.0,9.0,10.0,27.0,23.0,40.0,9.0,16.0,8.0,21.0,10.0,3.0,20.0,1.0,16.0,null,2.0,14.0,19.0,30.0,40.0,11.0,8.0,5.0,17.0,null,5.0,3.0,2.0,12.0,9.0,null,7.0,21.0,25.0,3.0,2.0,2.0,15.0,41.0,11.0,5.0,6.0,34.0,19.0,6.0,19.0,14.0,4.0,25.0,24.0,12.0,15.0,12.0,11.0,14.0,21.0,8.0,20.0,null,8.0,null,6.0,56.0,5.0,null,7.0,53.0,16.0,5.0,18.0,22.0,5.0,17.0,8.0,15.0,26.0,4.0,19.0,8.0,3.0,18.0,21.0,null,8.0,3.0,39.0,21.0,17.0,26.0,5.0,29.0,16.0,21.0,null,16.0,4.0,13.0,45.0,17.0,12.0,11.0,2.0,6.0,14.0,12.0,11.0,13.0,5.0,3.0,62.0,8.0,15.0,14.0,11.0,12.0,4.0,9.0,15.0,14.0,6.0,24.0,31.0,10.0,35.0,13.0,9.0,23.0,null,6.0,14.0,24.0,16.0,3.0,18.0,95.0,17.0,20.0,10.0,10.0,15.0,1.0,8.0,12.0,20.0,7.0,19.0,6.0,11.0,25.0,16.0,14.0,14.0,13.0,13.0,5.0,5.0,7.0,9.0,9.0,16.0,16.0,3.0,13.0,16.0,null,1.0,null,16.0,21.0,20.0,null,null,7.0,21.0,6.0,null,10.0,18.0,6.0,13.0,6.0,5.0,6.0,4.0,18.0,19.0,1.0,null,21.0,17.0,20.0,10.0,null,10.0,31.0,3.0,13.0,5.0,11.0,34.0,17.0,1.0,8.0,7.0,9.0,9.0,12.0,6.0,10.0,15.0,18.0,1.0,13.0,9.0,8.0,11.0,15.0,17.0,2.0,null,10.0,8.0,5.0,28.0,15.0,30.0,6.0,6.0,null,9.0,2.0,17.0,22.0,null,10.0,null,6.0,2.0,7.0,7.0,19.0,10.0,2.0,36.0,12.0,35.0,null,17.0,null,8.0,4.0,3.0,10.0,null,17.0,null,13.0,7.0,7.0,7.0,null,12.0,21.0,15.0,16.0,14.0,null,9.0,10.0,9.0,4.0,26.0,45.0,38.0,4.0,null,34.0,16.0,12.0,3.0,7.0,null,41.0,4.0,null,14.0,11.0,8.0,2.0,16.0,null,8.0,13.0,14.0,10.0,4.0,null,11.0,9.0,26.0,null,8.0,10.0,11.0,9.0,22.0,7.0,14.0,5.0,7.0,10.0,1.0,8.0,10.0,22.0,13.0,14.0,13.0,13.0,20.0,10.0,11.0,9.0,4.0,18.0,22.0,12.0,8.0,1.0,6.0,9.0,9.0,45.0,7.0,21.0,5.0,14.0,5.0,null,24.0,26.0,4.0,13.0,null,26.0,13.0,5.0,13.0,12.0,9.0,17.0,15.0,4.0,3.0,13.0,5.0,10.0,35.0,8.0,4.0,14.0,42.0,1.0,3.0,null,14.0,3.0,16.0,9.0,null,9.0,17.0,15.0,27.0,16.0,26.0,32.0,11.0,4.0,8.0,6.0,14.0,9.0,17.0,20.0,6.0,18.0,23.0,5.0,7.0,null,null,15.0,15.0,2.0,15.0,16.0,17.0,14.0,11.0,10.0,6.0,12.0,4.0,15.0,13.0,12.0,null,18.0,10.0,null,12.0,17.0,18.0,null,8.0,12.0,11.0,3.0,22.0,null,1.0,20.0,11.0,0.0,29.0,13.0,11.0,19.0,10.0,7.0,18.0,15.0,18.0,35.0,12.0,13.0,12.0,4.0,null,8.0,2.0,null,6.0,3.0,18.0,10.0,6.0,10.0,34.0,3.0,9.0,3.0,20.0,7.0,18.0,45.0,13.0,null,null,14.0,27.0,13.0,15.0,0.0,15.0,28.0,13.0,8.0,8.0,7.0,11.0,null,16.0,22.0,16.0,9.0,null,2.0,15.0,12.0,17.0,9.0,13.0,13.0,5.0,53.0,null,11.0,10.0,15.0,null,23.0,60.0,6.0,17.0,9.0,12.0,14.0,6.0,7.0,13.0,6.0,3.0,15.0,11.0,null,23.0,15.0,null,5.0,12.0,19.0,5.0,8.0,null,5.0,2.0,5.0,14.0,12.0,9.0,16.0,9.0,18.0,11.0,null,null,10.0,4.0,21.0,7.0,4.0,20.0,12.0,2.0,9.0,8.0,7.0,22.0,4.0,35.0,19.0,21.0,null,19.0,12.0,15.0,14.0,6.0,32.0,18.0,3.0,14.0,6.0,17.0,26.0,2.0,11.0,21.0,29.0,16.0,19.0,null,16.0,10.0,null,19.0,13.0,12.0,null,null,5.0,6.0,8.0,28.0,6.0,8.0,39.0,32.0,26.0,6.0,12.0,4.0,null,4.0,4.0,null,4.0,null,15.0,27.0,39.0,18.0,5.0,18.0,4.0,10.0,19.0,11.0,0.0,9.0,8.0,7.0,5.0,null,16.0,19.0,75.0,10.0,22.0,9.0,11.0,null,1.0,8.0,28.0,68.0,12.0,7.0,7.0,14.0,17.0,14.0,5.0,7.0,null,34.0,27.0,10.0,null,5.0,8.0,16.0,6.0,17.0,18.0,12.0,6.0,11.0,null,21.0,10.0,11.0,12.0,18.0,7.0,6.0,11.0,17.0,23.0,8.0,26.0,10.0,3.0,18.0,3.0,8.0,null,10.0,24.0,4.0,15.0,16.0,17.0,18.0,10.0,7.0,8.0,16.0,null,7.0,16.0,13.0,13.0,12.0,9.0,1.0,12.0,8.0,23.0,null,14.0,23.0,20.0,19.0,null,14.0,13.0,null,13.0,null,9.0,null,30.0,15.0,5.0,2.0,17.0,7.0,14.0,19.0,27.0,14.0,null,7.0,8.0,15.0,12.0,19.0,null,10.0,3.0,17.0,null,3.0,2.0,12.0,5.0,null,null,5.0,null,10.0,null,16.0,2.0,7.0,14.0,34.0,23.0,6.0,5.0,null,17.0,23.0,9.0,null,null,5.0,10.0,21.0,6.0,5.0,12.0,null,32.0,22.0,7.0,42.0,26.0,2.0,19.0,null,9.0,16.0,null,11.0,14.0,71.0,44.0,26.0,33.0,null,5.0,17.0,4.0,null,15.0,11.0,null,16.0,3.0,null,1.0,12.0,16.0,16.0,13.0,51.0,24.0,31.0,16.0,43.0,17.0,15.0,22.0,21.0,11.0,10.0,null,2.0,22.0,31.0,27.0,3.0,34.0,10.0,17.0,19.0,11.0,12.0,2.0,7.0,17.0,12.0,null,1.0,20.0,null,22.0,5.0,9.0,17.0,5.0,23.0,12.0,30.0,16.0,10.0,5.0,8.0,4.0,null,15.0,7.0,8.0,7.0,null,18.0,10.0,12.0,8.0,12.0,20.0,12.0,7.0,null,39.0,16.0,4.0,4.0,12.0,35.0,16.0,18.0,null,25.0,null,8.0,22.0,13.0,11.0,6.0,9.0,2.0,5.0,14.0,null,7.0,16.0,21.0,12.0,23.0,null,2.0,24.0,23.0,19.0,6.0,11.0,8.0,22.0,28.0,10.0,43.0,14.0,null,90.0,43.0,20.0,22.0,11.0,12.0,9.0,18.0,2.0,49.0,5.0,15.0,null,23.0,4.0,null,9.0,22.0,7.0,11.0,19.0,21.0,21.0,9.0,4.0,8.0,14.0,30.0,19.0,18.0,null,12.0,6.0,8.0,66.0,22.0,12.0,8.0,16.0,15.0,null,6.0,4.0,22.0,2.0,18.0,45.0,10.0,32.0,1.0,1.0,6.0,32.0,10.0,11.0,8.0,7.0,5.0,null,14.0,14.0,10.0,7.0,17.0,12.0,14.0,25.0,25.0,1.0,21.0,3.0,19.0,2.0,null,null,13.0,15.0,22.0,15.0,7.0,12.0,22.0,10.0,8.0,11.0,10.0,7.0,4.0,2.0,4.0,null,4.0,10.0,13.0,17.0,9.0,13.0,26.0,14.0,29.0,32.0,25.0,10.0,25.0,12.0,13.0,4.0,7.0,7.0,5.0,5.0,null,20.0,2.0,7.0,10.0,24.0,8.0,11.0,9.0,1.0,9.0,10.0,9.0,null,9.0,14.0,12.0,6.0,12.0,11.0,9.0,null,17.0,12.0,29.0,16.0,14.0,13.0,3.0,16.0,6.0,15.0,null,14.0,null,14.0,31.0,8.0,8.0,10.0,null,10.0,null,10.0,0.0,22.0,17.0,23.0,14.0,3.0,15.0,5.0,7.0,14.0,10.0,9.0,11.0,19.0,11.0,6.0,7.0,5.0,4.0,14.0,9.0,13.0,6.0,62.0,10.0,5.0,null,1.0,36.0,null,9.0,7.0,8.0,7.0,null,17.0,8.0,null,15.0,63.0,16.0,7.0,12.0,14.0,6.0,19.0,20.0,13.0,8.0,10.0,13.0,3.0,4.0,5.0,3.0,null,28.0,9.0,23.0,null,14.0,5.0,9.0,8.0,4.0,15.0,10.0,13.0,3.0,7.0,12.0,null,56.0,20.0,16.0,9.0,7.0,10.0,1.0,6.0,9.0,8.0,null,8.0,13.0,9.0,8.0,13.0,1.0,8.0,19.0,7.0,12.0,8.0,39.0,14.0,14.0,18.0,14.0,13.0,7.0,28.0,3.0,19.0,9.0,27.0,11.0,13.0,6.0,16.0,21.0,null,5.0,4.0,3.0,9.0,6.0,3.0,18.0,19.0,32.0,5.0,10.0,12.0,27.0,12.0,null,1.0,12.0,14.0,25.0,null,11.0,4.0,null,null,6.0,8.0,14.0,24.0,18.0,6.0,5.0,null,12.0,7.0,null,null,15.0,11.0,8.0,null,11.0,7.0,33.0,4.0,24.0,14.0,7.0,14.0,4.0,29.0,6.0,10.0,12.0,4.0,21.0,2.0,null,18.0,14.0,22.0,null,7.0,17.0,59.0,19.0,11.0,9.0,17.0,14.0,4.0,21.0,5.0,23.0,23.0,11.0,null,17.0,7.0,5.0,null,14.0,17.0,17.0,4.0,19.0,12.0,1.0,15.0,27.0,null,9.0,2.0,32.0,null,null,4.0,28.0,8.0,13.0,21.0,null,null,10.0,3.0,10.0,9.0,16.0,32.0,10.0,null,14.0,27.0,47.0,2.0,14.0,15.0,15.0,22.0,7.0,15.0,12.0,14.0,null,8.0,12.0,7.0,7.0,19.0,3.0,5.0,null,20.0,10.0,null,null,21.0,12.0,4.0,10.0,null,null,8.0,7.0,21.0,46.0,7.0,21.0,19.0,12.0,10.0,23.0,14.0,17.0,26.0,9.0,12.0,4.0,25.0,null,54.0,null,32.0,0.0,2.0,10.0,15.0,8.0,9.0,33.0,19.0,26.0,20.0,9.0,null,22.0,19.0,13.0,25.0,null,24.0,13.0,5.0,12.0,null,27.0,10.0,null,6.0,13.0,9.0,16.0,27.0,37.0,9.0,10.0,11.0,22.0,19.0,null,8.0,6.0,null,null,20.0,5.0,22.0,15.0,5.0,9.0,14.0,null,null,13.0,9.0,6.0,25.0,1.0,5.0,17.0,37.0,14.0,11.0,10.0,null,5.0,17.0,3.0,29.0,3.0,null,41.0,null,7.0,26.0,null,7.0,null,15.0,7.0,2.0,4.0,4.0,4.0,20.0,17.0,18.0,14.0,10.0,1.0,null,8.0,8.0,25.0,null,null,7.0,3.0,9.0,21.0,30.0,4.0,5.0,5.0,11.0,6.0,23.0,16.0,16.0,5.0,7.0,22.0,5.0,13.0,13.0,9.0,19.0,87.0,30.0,38.0,8.0,7.0,22.0,null,33.0,11.0,null,33.0,3.0,12.0,26.0,1.0,29.0,7.0,27.0,9.0,21.0,null,null,null,19.0,36.0,50.0,11.0,12.0,10.0,23.0,4.0,9.0,20.0,23.0,15.0,null,7.0,12.0,10.0,null,17.0,28.0,16.0,12.0,6.0,19.0,5.0,43.0,8.0,9.0,19.0,12.0,6.0,4.0,9.0,8.0,null,14.0,null,8.0,7.0,8.0,11.0,7.0,4.0,null,8.0,19.0,18.0,15.0,10.0,29.0,7.0,8.0,null,24.0,6.0,15.0,4.0,12.0,15.0,12.0,16.0,51.0,3.0,22.0,22.0,9.0,13.0,26.0,16.0,null,22.0,62.0,23.0,null,24.0,7.0,21.0,19.0,6.0,35.0,null,19.0,19.0,6.0,38.0,13.0,10.0,27.0,5.0,15.0,11.0,18.0,2.0,15.0,5.0,5.0,14.0,16.0,29.0,13.0,10.0,8.0,11.0,null,12.0,12.0,14.0,15.0,12.0,13.0,29.0,13.0,5.0,6.0,8.0,8.0,27.0,7.0,5.0,2.0,7.0,29.0,12.0,23.0,10.0,3.0,7.0,23.0,null,22.0,10.0,48.0,2.0,null,13.0,16.0,11.0,4.0,5.0,8.0,3.0,null,12.0,6.0,6.0,null,13.0,9.0,5.0,10.0,null,4.0,26.0,null,9.0,20.0,11.0,10.0,3.0,9.0,8.0,8.0,44.0,8.0,10.0,7.0,15.0,9.0,null,13.0,7.0,11.0,15.0,22.0,19.0,22.0,14.0,19.0,20.0,21.0,8.0,12.0,6.0,21.0,24.0,4.0,6.0,11.0,34.0,11.0,11.0,9.0,10.0,10.0,23.0,6.0,18.0,16.0,3.0,13.0,9.0,null,6.0,14.0,9.0,1.0,8.0,26.0,41.0,5.0,29.0,null,22.0,15.0,null,3.0,8.0,14.0,31.0,10.0,12.0,12.0,14.0,4.0,12.0,4.0,5.0,13.0,19.0,null,9.0,11.0,7.0,27.0,12.0,10.0,9.0,21.0,85.0,24.0,null,null,7.0,19.0,6.0,10.0,12.0,12.0,23.0,15.0,47.0,27.0,null,11.0,6.0,7.0,2.0,2.0,8.0,1.0,5.0,5.0,9.0,20.0,24.0,25.0,17.0,12.0,8.0,27.0,7.0,31.0,5.0,24.0,4.0,9.0,8.0,31.0,5.0,6.0,16.0,10.0,15.0,8.0,17.0,5.0,6.0,7.0,18.0,26.0,9.0,13.0,43.0,12.0,15.0,6.0,11.0,6.0,14.0,23.0,16.0,5.0,11.0,11.0,13.0,13.0,6.0,9.0,8.0,15.0,null,11.0,14.0,12.0,6.0,19.0,10.0,12.0,3.0,10.0,2.0,19.0,48.0,null,9.0,null,16.0,3.0,34.0,14.0,21.0,14.0,8.0,2.0,9.0,28.0,11.0,9.0,2.0,17.0,3.0,null,5.0,76.0,19.0,14.0,null,17.0,8.0,5.0,25.0,2.0,16.0,14.0,9.0,11.0,18.0,1.0,11.0,11.0,8.0,14.0,9.0,6.0,14.0,3.0,11.0,23.0,23.0,null,16.0,null,21.0,6.0,25.0,29.0,30.0,3.0,null,12.0,16.0,16.0,12.0,16.0,19.0,14.0,17.0,15.0,17.0,17.0,6.0,19.0,null,11.0,12.0,36.0,6.0,16.0,29.0,11.0,15.0,46.0,28.0,25.0,30.0,8.0,20.0,0.0,12.0,22.0,9.0,8.0,18.0,14.0,38.0,17.0,19.0,14.0,12.0,3.0,38.0,15.0,24.0,18.0,6.0,13.0,null,4.0,1.0,14.0,61.0,11.0,29.0,26.0,20.0,4.0,10.0,17.0,26.0,2.0,null,36.0,20.0,7.0,null,null,21.0,9.0,26.0,20.0,11.0,null,10.0,17.0,15.0,41.0,20.0,19.0,10.0,23.0,null,12.0,40.0,9.0,6.0,22.0,25.0,2.0,7.0,7.0,null,12.0,8.0,24.0,11.0,9.0,null,5.0,15.0,5.0,null,1.0,4.0,15.0,23.0,7.0,null,14.0,14.0,9.0,27.0,19.0,13.0,18.0,12.0,12.0,null,8.0,10.0,16.0,4.0,11.0,6.0,4.0,19.0,6.0,6.0,null,3.0,4.0,13.0,4.0,16.0,null,16.0,18.0,8.0,18.0,36.0,8.0,null,18.0,4.0,6.0,12.0,16.0,4.0,13.0,13.0,18.0,5.0,11.0,7.0,null,5.0,14.0,9.0,42.0,null,9.0,7.0,7.0,5.0,9.0,4.0,19.0,14.0,null,2.0,4.0,11.0,19.0,14.0,5.0,10.0,17.0,12.0,13.0,10.0,4.0,33.0,7.0,9.0,12.0,7.0,8.0,21.0,null,21.0,24.0,11.0,17.0,13.0,11.0,null,null,16.0,1.0,null,6.0,22.0,7.0,9.0,15.0,1.0,23.0,21.0,12.0,7.0,30.0,8.0,38.0,11.0,33.0,1.0,8.0,12.0,25.0,8.0,5.0,25.0,16.0,9.0,15.0,2.0,28.0,10.0,11.0,16.0,3.0,2.0,7.0,10.0,7.0,13.0,null,15.0,20.0,5.0,10.0,null,37.0,21.0,3.0,8.0,13.0,2.0,36.0,null,18.0,22.0,6.0,57.0,14.0,12.0,9.0,7.0,5.0,15.0,17.0,16.0,5.0,1.0,17.0,11.0,16.0,11.0,3.0,23.0,19.0,11.0,8.0,17.0,19.0,11.0,8.0,18.0,65.0,25.0,null,13.0,null,5.0,null,12.0,17.0,2.0,8.0,12.0,null,18.0,12.0,8.0,25.0,13.0,13.0,null,28.0,8.0,24.0,21.0,11.0,9.0,20.0,15.0,36.0,19.0,12.0,10.0,9.0,7.0,8.0,3.0,6.0,10.0,7.0,7.0,13.0,3.0,8.0,7.0,13.0,13.0,15.0,null,24.0,8.0,null,null,31.0,17.0,13.0,29.0,null,15.0,4.0,null,22.0,16.0,16.0,6.0,12.0,4.0,21.0,44.0,15.0,12.0,22.0,11.0,31.0,8.0,29.0,24.0,null,32.0,1.0,50.0,11.0,6.0,17.0,4.0,5.0,12.0,null,14.0,null,20.0,15.0,10.0,8.0,9.0,4.0,10.0,25.0,26.0,10.0,11.0,51.0,5.0,null,10.0,15.0,8.0,15.0,9.0,5.0,null,17.0,null,10.0,12.0,24.0,16.0,10.0,16.0,0.0,null,22.0,21.0,0.0,null,3.0,9.0,15.0,null,14.0,17.0,null,2.0,15.0,null,18.0,26.0,14.0,45.0,21.0,8.0,17.0,5.0,20.0,20.0,null,28.0,5.0,12.0,12.0,9.0,7.0,19.0,3.0,null,25.0,7.0,19.0,4.0,10.0,6.0,20.0,null,6.0,51.0,14.0,4.0,10.0,4.0,1.0,14.0,null,20.0,21.0,null,10.0,14.0,10.0,12.0,17.0,10.0,null,31.0,10.0,32.0,11.0,5.0,null,1.0,null,35.0],\"xaxis\":\"x\",\"y\":[1184.8999999999994,5796.54,1657.64,28050.0,1000.0,14344.91,410.6,1007.09,2888.74,8024.370000000003,1682.9,343.64,2321.15,115.17636081935562,3062.04,8955.390000000001,3194.199999999999,7070.22,6814.56,591.11,4542.530000000001,582.1500000000001,2492.290000000002,4428.96,33.730000000000004,1126.23,9256.69,8111.279999999999,2112.95,392.59,6209.17,49.5,3503.130000000001,2381.28,203.09,2016.13,19030.67,11675.72,1035.89,795.48,6904.530000000002,4969.460000000001,12600.0,1177.34,6828.56,2156.92,7564.19,10808.09,12469.48,144.01,9783.97,21045.680000000004,5204.389999999999,2851.49,7562.76,156.87,492.4100000000001,2659.3299999999995,1559.25,669.55,1241.26,28384.6,499.86,50.0,727.8,15031.87,7792.280000000001,847.93,720.0,4914.0,1653.8499999999997,1728.5099999999998,17770.57,1760.0,2092.8,7669.77,1200.0,12847.83,2823.62,1421.1099999999997,60.01,500.0,1736.7900000000002,1361.77,150.0,449.26,3957.61,400.72,17109.89,6093.16,899.63,8699.22,1731.0400000000002,20547.28,921.88,2499.77,16825.97999999999,2623.15,12445.29,5658.0,430.28,180.9,3140.0,2625.23,57384.17,4596.39,4379.7,67736.50999999998,8777.73,1235.24,183.33,1000.0,874.29,9099.039999999995,331.74,432.24,13701.430000000002,7677.03,7227.339999999998,1679.85,16540.1,6331.520000000001,24765.87,150.0,1290.0,1288.18,370.0,3325.17,192.98999999999995,1806.32,897.7,708.0799999999999,207.62,1865.35,418.53,2001.98,50.0,2291.21,7245.07,13703.770000000002,7710.0,18851.65,16753.309999999998,9813.75,2600.36,1685.65,1100.0,715.57,1391.27,45.1,11579.35,23986.13,18079.120000000003,304.11,50.16,3420.5200000000004,24272.78,1552.11,4041.31,12267.69,1710.0,287.88,1180.2599999999998,8060.340000000001,616.45,62221.55999999998,1083.86,14967.72,13256.31,1661.42,1573.61,4654.07,2088.01,980.11,8337.490000000002,4733.35,400.0,10559.770000000004,7122.990000000001,34496.98,150.0,568.44,21137.53,12934.81,15903.69,59.91,5087.28,5769.490000000001,3674.78,3763.55,60.0,495.07,2630.0,155.77,6931.6900000000005,7199.509999999999,6348.0300000000025,307.5,48732.76,3209.04,8126.54,1150.0,1077.87,363.08,1134.3,6390.320000000001,1350.0,990.0,899.0699999999999,21553.26,4285.09,1354.2099999999998,40054.71,106.96,12400.03,153.47,1657.39,992.67,23696.63,90.63,2912.31,803.9700000000001,4576.950000000001,1506.05,2590.0,1132.3,1294.12,16550.08,1174.52,350.0,1067.22,4142.0,965.15,1494.9699999999998,150.0,15248.76,1658.1,309.43,91854.56845689076,36095.34,850.0,1355.0,1264.73,9830.6,1958.59,4199.06,19469.78,3852.4,561.2399999999999,1452.04,15188.91,1800.65,11111.82,2299.14,13735.31,999.61,1459.0100000000002,756.5799999999999,22.87,1499.25,1803.28,1000.0,4386.18,1157.1,1200.0,437.42,1740.87,2959.76,750.0,624.98,547.45,909.6,593.8499999999999,350.0,6059.29,4713.96,16456.399999999998,1258.16,17615.720000000005,515.21,152.73,10031.07,15431.619999999995,6964.63,4030.0,10071.95,2750.0,4799.54,9048.19,11813.36,1536.9,3116.23,7971.73,80.72,20747.640000000003,2142.67,2710.27,3222.95,11645.1,19308.75999999999,510.0,1200.0,19558.85,29879.01,11370.5,28543.22,3756.69,373.43,6669.84,646.71,1304.86,700.0,399.49,4680.84,14697.62,21314.87,11727.149999999998,2125.44,3154.44,7112.460000000001,2299.750000000001,34.0,1443.0,3078.8,1500.0,2279.44,199.36,10807.0,1491.91,1934.95,23968.52,750.0,11644.23,750.0,2002.7200000000005,893.6,900.0,510.13,14322.0,9605.41,37840.0,1000.0,2428.75,12430.710000000005,609.38,718.57,31397.05,2258.61,348.95000000000005,2032.72,17622.6,3379.26,9489.680000000002,4111.09,3745.8,9294.800000000005,4019.71,1266.45,7520.0,4768.73,1900.27,7149.02,384.19,7494.11,5312.02,3208.77,5411.480000000001,4160.0,10546.020000000002,3988.99,769.42,3382.2100000000005,822.11,1233.1,851.1,60.0,1775.54,611.91,323.93,12160.39,1513.05,1200.0,784.88,330.33000000000004,2559.03,1838.82,794.86,6241.71,779.67,42735.23,753.77,1874.009999999999,6091.57,886.48,3026.49,54.06,8044.290000000001,1350.0,1612.0599999999995,7862.099999999999,17927.7,149.44,222.7,667.1699999999997,1283.04,11381.490000000002,949.51,2009.25,7349.09,521.36,2809.55,21592.16,2328.7200000000003,3668.05,882.95,1020.61,401.56,5654.13,492.0500000000001,1483.26,6553.870000000001,5097.78,976.98,5691.0,1206.26,1840.68,2135.45,100.42,4500.0,1194.74,4038.46,1560.0,1886.68,32046.48,465.5,999.59,1000.0,1657.8100000000002,1730.2499999999995,229.73,4784.429999999999,981.47,2096.2,3314.96,2782.7,12130.91,150.0,2817.82,5782.69,18617.31,3149.47,37331.16,1.0,750.0,10509.88,10956.760000000004,870.0,1335.18,1651.97,3157.7699999999995,7378.119999999999,217853.4,499.11,9172.41,1187.13,658.5600000000001,4199.14,100.0,1800.0,2986.63,500.0,3931.2800000000007,1532.95,589.7,5265.93,2819.45,4534.75,1000.0,13214.02,5481.0,9365.9,10491.82,225.44,14349.1,500.0,1432.06,401.33,1724.23,50.0,5303.180000000001,3600.0,3472.0,609.0,4753.1,999.44,23549.28,5251.179999999999,6914.620000000001,2498.46,954.52,1481.61,120.46,4559.7300000000005,10212.49,1271.23,2441.08,420.30000000000007,150.0,25010.35,1900.0,4010.0,892.21,967.73,750.0,3749.48,1948.29,21668.300000000003,3288.07,190.58,27.340000000000003,13516.860000000008,2864.6200000000003,900.0,1922.19,1124.54,7929.789999999999,2906.04,2713.79,20759.02,1852.55,10132.65,25397.75999999999,5769.869999999999,1830.97,1173.49,10281.11,4446.349999999999,1656.74,155.04,3299.3,2812.81,3510.34,685.25,459.98,1679.88,4582.42,1609.84,34494.35,4117.78,34899.98,113.76,1429.89,950.0,900.82,1399.92,5707.550000000001,1658.87,19868.44,3047.86,627.74,3828.85,300.0,13135.08,284.43,16656.320000000003,12.89,7241.030000000001,1760.86,1006.69,600.0,37021.5,1274.14,3199.0,5695.59,800.0,2160.44,6551.0700000000015,5609.199999999999,11490.899999999998,792.86,6741.96,1045.85,1909.22,2998.82,469.26,1657.52,560.0,3767.0,8599.33,2062.05,358.35,2737.92,3208.53,3488.37,2114.53,9498.25,9784.190000000002,5335.0,3500.0,3550.0,50.0,443.05,11172.19,4321.54,4332.219999999998,2750.0,1763.74,2515.56,8135.629999999999,2356.07,25562.27,11749.42,6576.22,543.66,548.6399999999999,32291.78,154.18,5044.71,7170.0,1786.3100000000002,366.2000000000001,1012.77,877.43,672.2200000000001,36434.89999999999,6486.67,1487.0000000000005,449.4500000000001,732.5800000000003,4671.12,18666.92,7024.650000000002,54.73,312.94,20286.67,30092.54,2742.92,1009.22,2271.33,2001.22,1473.08,8763.83,1758.9,16877.72,2502.02,4405.7,1759.85,86.6,4599.18,1940.0,2715.28,1000.0,4102.44,3651.06,13796.31,765.75,6637.93,10946.2,5586.12,13337.29,167.39,599.49,6989.13,2370.15,3592.2,516.3,4248.69,3853.2800000000007,1760.0,372.42,8532.85,15150.0,468.64,1044.72,10630.21,458.63,853.1700000000001,1132.96,2128.91,8684.29,19078.13,4940.28,1508.21,12542.63,27311.55,863.07,8702.65,2740.54,489.93,7639.559999999999,449.52,3704.22,1152.45,23771.52,10007.979999999998,647.24,1550.36,8843.02,150.43,1659.51,94.21,3009.92,19458.49,419.51,32773.16,2000.9,3073.0199999999995,1599.8,4760.31,6496.579999999998,2020.0,12753.4,12549.899999999998,9562.8,1350.28,5099.53,5635.49,27.74,999.0,4909.56,33988.37,4407.08,549.4100000000001,632.12,2459.63,4482.57,50.0,1470.0,11740.78,11591.38,2066.4,1657.3,350.0,350.0,2029.65,9219.43,1861.59,5159.0,3231.0,7334.19,460.0,350.0,2760.82,960.12,6005.320000000001,6810.84,3275.4,762.92,894.88,5069.380000000001,1657.96,2418.17,2500.0,342.53,11689.38,1659.21,1660.55,1720.0,1000.0,2805.17,1267.25,11940.12999999999,8380.560000000001,37814.26999999999,18.8,4788.01,1805.0,2178.41,611.47,999.23,2881.97,4484.7,6596.87,381.14,8210.0,1459.85,10228.44,5185.220000000001,207.96,1111.35,2100.0,15841.48,2460.0,5503.42,5000.0,361.4,11407.16,15465.68,2707.02,800.0,8883.66,1108.56,3909.12,3091.12,3669.69,1000.0,11299.41,1343.92,1891.06,350.76,849.6100000000001,15543.79,101.85,1731.33,502.62,36853.82000000001,1652.9599999999996,7999.87,2500.0,2214.63,5576.42,3223.57,53.15,16756.890000000003,20912.34,19004.2,1099.39,11959.23,3856.02,2309.9,1072.5300000000002,1218.5700000000002,820.3499999999999,4627.210000000001,999.9,4948.85,25883.15,4599.17,3946.09,402.74,3150.0,27699.13,6555.719999999999,218.1,599.57,5090.030000000001,1658.38,7367.619999999998,4956.959999999999,152.9,5785.59,650.0,3079.97,366.46,4068.15,24956.34,791.67,1657.54,1657.0,22208.17,6885.64,374.22,925.0,160.0,117706.95,859.6400000000001,5343.12,153.19000000000003,59.88,1350.0,10811.4,23708.11,10750.0,20453.99000000001,658.51,2348.49,4970.070000000001,1532.98,1200.0,890.0,7146.93,1449.3,6317.899999999999,827.54,5931.73,365.05,16866.19,23871.41,1282.66,900.0,4483.049999999999,2463.55,464.66,1103.52,1203.59,8733.71,12320.089999999993,5822.300000000001,23720.25,1205.21,1499.56,8184.19,2600.54,1997.66,1657.58,5955.28,3087.77,1876.47,553.28,1393.88,535.4899999999999,2093.81,7123.450000000001,45.65,850.02,2646.44,1891.12,27652.09,12229.01,4116.55,1903.2000000000005,6261.77,5852.139999999999,73.5,22583.38,13294.85,3285.71,4709.550000000001,550.0,152.70000000000002,34499.07,1136.5299999999995,552.3299999999999,1405.8700000000006,1859.87,3144.24,1127.06,13932.39,539.3099999999998,3248.6000000000004,1480.58,2231.83,14788.4,18497.91,7133.38,519.4499999999999,13872.47,533.01,5839.570000000001,884.54,2095.96,4363.689999999998,2743.8099999999995,4748.84,13682.2,1433.35,2589.7600000000007,5724.350000000001,1665.9899999999998,5752.9800000000005,35196.34,1046.62,351.61,5299.19,2170.0,11597.19,1731.73,382.02,1308.4999999999998,18943.51000000001,2853.6400000000003,2113.66,4039.56,935.0,14233.87,320.98999999999995,9737.04,284.4800000000001,2857.5900000000006,5300.0,1657.67,565.22,2835.11,5580.02,850.0,38343.17,50.0,3464.06,1782.95,18.63,4010.55,1659.74,16291.67,997.73,81066.37999999999,2781.35,1927.08,4044.800000000001,642.49,1658.71,4740.97,12790.9,5232.62,2796.99,15263.059999999998,3235.5999999999995,50.0,1019.05,1059.93,630.52,23683.4,1439.08,4840.0,2155.99,1225.82,9563.04,10253.51,560.25,7585.44,146.85,550.0,13032.87,12279.38,2878.09,2626.48,965.47,365.78,1363.61,6735.11,1915.43,1600.11,1088.31,3879.879999999999,1239.34,700.0,1486.66,4304.54,9075.27,59.22,400.37,6034.26,2106.23,1099.87,78561.26,19.89,1279.38,13607.45,3951.73,3214.05,4154.62,1821.58,1609.71,3408.0,10713.29,1658.04,1009.47,14750.769999999997,4800.0,3272.31,287.12,142.52,1658.52,1084.14,14931.94,287.71,3686.31,1000.0,3232.7,645.46,342.34999999999985,500.37,1823.51,1375.95,14963.999999999996,555.52,300.0,9283.99,1000.0,37326.98,50.0,13681.31,1415.61,3174.84,850.0,1369.73,725.8399999999999,4026.24,18588.05,4107.74,5119.02,6767.839999999999,11144.41,3200.41,5699.4,1369.37,3909.98,195.8,1178.66,4818.71,25049.96,696.96,2628.0,7189.55,749.5600000000001,1658.47,1200.0,6545.32,478.63,10994.66,6457.890000000001,1666.0,1529.82,19986.2,1534.95,4496.099999999999,4284.88,641.8,650.0,2399.16,357.01,127774.72,564.31,14034.87,4113.3,420.0,1061.28,13246.440000000004,2075.96,3199.6699999999987,452.5,36660.31999999999,1658.79,7780.07,991.43,695.9300000000001,10397.08,809.04,2930.0,35319.88,6760.0,393.05,5864.5,1070.0,3200.0,88.8,7370.75,3990.97,365.11,1000.0,1020.1399999999998,365.6399999999999,1151.49,46998.94,16292.93,1858.33,2102.44,2959.44,3899.25,3753.1,568.4,7645.65,420.5,15900.0,16801.2,4168.27,10120.0,3823.71,4750.0,4439.92,809.65,150.0,17731.660000000003,2484.92,10590.0,325.16,521.51,2789.62,530.33,12063.37,3500.86,2606.18,10556.909999999996,27.45,1350.0,40493.0,541.98,149.85,5869.110000000001,4606.29,3571.2100000000005,557.73,4786.89,5620.73,3005.26,560.82,4537.049999999999,1589.88,6381.209999999999,2933.78,734.93,1080.0,836.28,9289.9,1662.15,1658.48,2374.4200000000005,770.0,830.05,7572.68,2253.55,2255.370000000001,1660.66,7334.06,1656.64,62.19,13509.69,12000.91,1014.48,1689.8000000000002,873.62,2396.72,2751.52,965.25,1657.68,150.0,382.4800000000001,1500.0,835.3499999999999,16521.61,3440.56,1657.73,6245.509999999999,980.28,3088.1,696.1,731.51,710.11,509.61,1454.17,2537.7499999999995,1028.02,4735.160000000001,3039.9100000000003,4075.0,59.7,2343.74,13743.18,3504.1000000000004,946.29,480.0,769.59,13321.14,6813.169999999999,21758.32,7004.17,651.98,47076.990000000005,1200.0,2654.9500000000003,583.02,9034.01,7070.33,1509.2800000000002,840.3199999999999,2711.41,1658.53,3699.79,1122.53,900.4,4179.65,50.04,4559.139999999999,824.6899999999999,1257.5,30419.51,8440.26,135.69,685.01,8729.88,537.43,2330.29,3458.0400000000004,6600.0,10680.0,1000.0,926.5,1661.3100000000002,749.41,2000.0,2245.64,1500.03,8685.469999999998,9946.93,2774.0,977.99,494.07,1109.29,730.86,503.31,60.97,14787.420000000002,5655.12,27298.69,3876.16,8561.67,400.26,9893.69,9408.87,1368.07,2319.0,9300.880000000005,963.27,299.13,5400.74,2748.42,2137.34,203.12,2520.36,3996.26,1911.31,7538.3499999999985,16109.97,1306.0,21907.83,15460.0,5701.09,5079.51,6886.22,15420.080000000002,1504.35,3185.7500000000005,2519.38,3194.360000000001,1200.0,5097.94,11794.79,1580.0,42455.04,14621.139999999996,15609.300000000008,500.0,3871.89,2520.0,400.0,1897.71,16231.92,3180.0,844.9199999999998,13760.0,423.1499999999999,3358.54,20266.750000000004,698.12,856.44,6924.07,600.0,3801.6,339.62,249.95,1450.0,142.05,3212.82,23080.51,3445.78,119.5,5150.0,1507.35,4953.0,24890.5,6535.759999999999,14664.6,1637.95,3987.149999999999,1760.0,1872.64,975.0,5228.990000000001,1280.64,6297.83,16512.2,501.41,5577.2,6378.59,1027.98,2300.0,1200.0,1077.38,1275.75,4873.85,845.96,2232.74,20038.7,4151.88,497.8299999999999,560.0,2701.46,400.0,23603.93,5052.02,5237.82,10902.9,2250.0,18116.28,929.0,4427.199999999998,513.03,3295.91,2158.07,1695.42,13606.19,1658.5,558.2900000000001,2722.0,1099.25,9065.960000000005,500.0,1410.0,7000.0,84.03,1500.0,1700.0,2351.22,12011.94,1443.0,14935.35,1163.43,19427.63,380.89,1200.0,1292.6999999999998,2045.78,3079.53,4570.96,976.92,5809.94,18557.07,2250.0,593.94,41960.21,8479.429999999998,2580.73,949.25,200.0,1226.36,1751.8000000000002,133.9,555.67,1000.0,2347.68,3955.66,1343.82,1797.26,1657.86,1008.53,1007.05,14823.090000000006,2080.0,10007.11,157.0,2100.0,1243.09,127.48,5039.48,4416.19,2065.61,1000.0,500.0,2472.92,397.33,8528.710000000001,21948.95,11978.79,8179.199999999999,2063.6000000000004,6887.63,31811.5,1200.0,4377.78,227.54,197.36,560.0,400.0,7060.07,2533.35,2496.47,2499.29,211.34,1383.35,775.18,17134.08,3229.24,9010.67,2502.39,1350.0,27051.51,8714.34,28010.26,1502.34,1660.77,405.2499999999999,1579.9,1350.0,630.82,2857.1,10946.23,1399.88,5040.0,924.88,8176.47,1658.0,485.18,7375.04,22299.06,1749.68,850.0,2335.82,3647.94,2019.97,1659.54,5510.27,7446.46,2320.51,18512.36,1127.56,51499.89,4497.07,465.52,2812.94,4169.44,1246.42,1485.88,6686.92,3336.96,4635.33,30908.29,4045.0,1200.0,5306.540000000001,3612.309999999999,1354.7800000000009,1413.9,6469.460000000001,110.71,1607.79,977.37,5517.0,480.61,767.8,352.53,400.0,350.68,805.94,3059.65,3931.2599999999993,9259.62,2553.86,2741.0,3343.94,601.86,2899.03,13377.7,258.9,36346.03,10594.02,6957.42,416.98,8063.6,350.0,711.3,1005.03,199.41,7037.42,6672.410000000003,17155.77,18229.96,121.67,1328.84,37719.130000000005,1804.04,2479.05,386.47,2498.1800000000003,3459.0,1200.0,3336.27,5799.040000000001,349.66,1300.0,1234.64,9482.759999999998,3430.09,180.62,3166.8299999999995,2789.63,1659.54,7922.209999999997,13419.98,971.66,490.0,5927.7,2997.44,9718.56,861.1,2099.65,6739.12,1350.0,550.0,3001.9099999999994,283.04,24179.11,2039.18,4025.58,3336.77,10048.000000000002,3900.38,344.28,1149.07,3420.1500000000005,13677.25,19005.68,2454.59,924.82,2677.6600000000003,236.06,825.7399999999996,1109.31,7248.73,93145.81,715.77,1656.12,15866.610000000002,5074.320000000001,5498.98,5396.759999999998,7173.84,2583.54,14976.11,500.0,6759.23,1683.3599999999997,1201.13,21307.09,12911.26,8362.99,2294.19,8563.49,769.73,11717.62,5590.89,11599.28,961.53,5329.1,1657.67,254.83,0.06,1899.11,8242.09,1015.44,14155.5,27389.19,25381.32,14228.43,1475.53,999.97,19255.21,783.23,13250.0,12731.919999999998,1613.89,4510.39,2034.22,560.0,19123.22,1911.21,599.49,8935.100000000002,422.25,10086.75,16760.0,3405.57,33543.42,400.0,6993.0,1854.23,16745.53,23050.0,11962.1,1613.5800000000002,7048.13,4101.27,1100.0,6918.09,3298.42,996.24,22418.63,1833.8,985.97,7056.11,8819.52,7346.480000000002,1803.69,7000.0,3177.01,709.0400000000001,4862.789999999999,60.0,10322.19,2376.73,1017.75,2631.95,5183.44,811.0400000000001,366.51,434.87,4263.259999999999,227.95,1608.0300000000002,152.51,34499.99,5939.1,537.15,10028.62,3111.34,595.12,7000.0,692.6000000000001,2630.37,1409.27,1921.07,5854.969999999999,16341.04,2810.46,400.0,11384.39,1373.13,150.3,1587.43,802.35,11217.100000000002,10947.999999999998,2816.72,1814.41,34804.450000000004,5349.73,4230.219999999999,707.7199999999999,1770.0,722.0699999999999,9737.93,2869.24,471.1,4960.0,8442.52,9758.8,14070.140000000005,983.46,11196.12,16821.43,50.0,22763.80000000001,14932.11,37334.51,796.17,16445.809999999998,1747.83,567.81,1050.0,10777.56,136.17,15921.53,11157.3,1938.22,10251.65,2500.0,979.06,1666.0,4380.0,16716.519999999993,185.88,5271.24,12848.29,15778.28,1886.4,4416.06,872.9699999999999,1866.26,13555.94,700.0,6710.039999999999,13021.990000000002,1117.35,6907.54,1989.87,430.21,3060.0,965.06,597.32,365.6399999999999,3039.21,6000.0,350.0,400.0,2899.75,1464.87,10090.67,7634.49,350.0,4307.96,8370.67,1871.72,934.8200000000002,2176.640000000001,7464.68,15440.8,180.35,9839.39,11568.04,1257.22,414.06,1410.12,718.72,30011.42,4358.62,12837.14,1647.95,3209.34,9591.13,16954.39,25987.55,39783.130000000005,1200.0,4347.22,414.57,5088.02,1773.09,1379.7600000000002,707.7700000000003,10038.81,153.14,745.76,8000.0,1030.0,9457.2,1779.56,1869.5,21425.96,2064.23,226.93,2024.68,2649.7,800.0,1584.63,7244.67,2690.53,708.87,400.02,765.9900000000001,536.16,17277.72,15992.72,4225.86,150.0,19876.6,100.0,10249.770000000002,8629.17,1146.3,3659.46,2020.0,9459.89,1639.2,4037.0,4846.7300000000005,1619.89,931.7,3002.02,2948.54,12925.8,5364.62,100.0,3754.42,9277.96,364.25,1350.0,6470.23,1659.12,3731.47,1950.0,4820.11,8725.679999999998,796.73,9063.79,735.48,793.4,184.64,1563.51,9432.01,3865.9899999999993,5798.3,1170.0,3866.63,3159.77,12754.92,520.93,1968.48,396.23,89.75,14406.97,11994.37,1197.68,579.75,1100.0,15367.0,5593.940000000001,5524.99,359.35,2028.8,8193.219999999998,3512.77,5693.889999999999,2399.95,4800.0,359.32,600.0,50.0,1481.63,679.74,3316.52,61.32,1339.49,6513.33,1619.76,2635.0,1328.9499999999998,7754.18,5294.56,51.18,7594.86,2793.96,8575.0,2906.73,1000.0,33338.55,1326.6,637.63,5162.710000000001,4800.0,1830.9299999999992,2686.29,860.9500000000003,370.02,2214.96,2058.00619037257,5818.13,1657.94,4978.85,1661.83,14623.629999999996,978.4299999999998,1520.0,731.94,22063.22,3270.0,1200.0,20760.64,55784.59,2149.26,1077.08,54019.21000000001,350.0,264.28,11009.279999999995,77752.28000000001,1397.0600000000002,1335.0,3980.66,60.0,2937.4800000000005,2601.25,708.72,1910.28,1836.88,2749.14,7312.470000000002,5135.8,7836.57,4079.16,1799.22,13313.44,2909.32,25421.41,375.59,5783.68,1759.7,860.15,5069.25,6781.6,4099.22,500.0,2080.4,1782.34,491.12,29293.24,7136.22,599.91,3684.06,3315.05,3840.0,5944.1,5437.13,804.29,13563.29,14073.51,458.43,13894.51,923.1,9657.9,3380.31,15380.58,20898.36,4632.76,2251.25,16917.89,975.59,800.07,1070.7299999999998,4940.84,14922.21,1317.74,1206.03,4604.45,1000.0,2231.59,600.0,150.0,2750.0,713.58,1385.15,2067.6400000000003,1903.0,2163.17,1658.14,663.56,2816.3,34500.0,7723.120000000001,4627.76,974.62,11473.71,6756.43,5977.059999999996,10618.32,525.02,3201.24,500.0,2824.0,840.0999999999999,295.97,18789.63,7277.169999999998,2138.4300000000007,753.56,8152.919999999999,350.0,13187.21,20279.73,2578.86,1200.0,18399.080000000005,400.0,1658.4,2281.78,750.0,1100.0,10322.22,1666.0,9809.93,8187.34,2380.28,955.4599999999998,765.94,1402.55,3188.22,11920.950000000004,3210.71,2738.4,4422.11,120.38,8479.37,21810.0,1870.83,880.0,14156.69,4198.37,4324.75,999.4,1302.8,11265.48,1425.13,9074.93,1096.41,11409.38,7657.5,374.55,3190.0,2070.42,7630.82,4226.0,15727.0,2859.76,7.78,36260.83,3393.74,7382.93,490.2600000000001,499.76,5775.02,899.24,3187.49,1445.46,1738.43,2183.63,4261.58,3191.42,889.75,8549.830000000002,2119.17,481.18,1248.46,3690.0,15374.069999999998,400.0,2258.25,3419.48,457.58,13107.62,525.0,16435.9,16670.0,60.08,3754.86,986.82,550.0,1823.7600000000004,8714.23,2959.62,800.0,1952.0,2476.73,1237.02,1660.0500000000002,7496.5,881.76,3747.5,12607.4,1660.25,1876.95,8545.039999999999,162.05,809.0600000000001,100.0,1200.0,15644.12,999.14,3480.0,1272.3900000000003,1117.53,361.56000000000006,3462.379999999999,1917.78,4475.200000000002,4827.48,803.6899999999999,4500.0,1909.83,8805.29,12733.04,3005.41,1200.0,7494.79,2649.09,700.0,101.94,3949.61,2300.0,16249.660000000003,2089.96,688.76,3824.2,91.95,4096.15,9931.05,330.03000000000003,10683.64,36181.74,100.0,3631.77,4470.72,4384.389999999999,4908.7300000000005,5288.83,981.39,12309.5,749.1199999999999,636.12,8777.08,546.3299999999999,349.82,16418.58,550.0,1956.61,4750.0,3922.74,1049.92,418.81,17938.05,1657.17,5018.950000000001,1099.11,3314.0,16000.61,7920.94,1346.69,12257.3,3541.1600000000008,20635.7,1490.0,366.31000000000006,3489.54,2992.66,11526.989999999998,2367.87,5795.27,4277.199999999999,1658.68,3013.48,18474.37,12880.0,293.56999999999994,6378.53,5667.939999999999,513.68,243.11,661.03,201.85,1660.8,215.76,2309.1,470.02,14488.68,1941.13,1707.03,9869.48,1000.0,7501.900000000001,1559.4,27.5,39284.4,1658.1,1226.19,1657.2099999999998,526.24,2456.99,2264.73,7441.6,928.75,700.0,2031.2899999999995,13801.1,2240.0,16673.74,1023.15,350.0,1199.04,12166.07,1763.86,2319.21,3244.56,557.37,22443.17,21932.79,8434.289999999999,1600.53,3517.8499999999995,9813.46,11897.46,2458.58,2193.8,538.87,1877.49,11878.14,2989.52,1339.4,8230.510000000002,19713.72,9060.51,6796.95,179.98,3869.41,15.0,29622.0,7160.31,601.44,8512.75,15928.9,1948.93,1799.25,2888.96,875.5699999999998,19374.070000000003,1687.7,531.76,1000.0,1177.49,23495.82,2690.0,510.86000000000007,5532.280000000001,939.87,11684.31,1434.89,11348.93,119.95,7000.0,468.74,1919.28,850.0,1563.9200000000003,21900.0,21915.92,2747.3,968.31,689.46,2694.92,2798.51,451.4299999999999,1012.0,1446.89,3185.849999999999,1350.0,28856.4,3096.6599999999994,6548.640000000001,1013.78,7016.55,365.75,14074.06,7401.66,2310.35,1844.18,6832.499999999999,535.06,119.34,600.0,50.0,12300.39,691.76,28462.0,14474.46,3602.26,25633.88,3477.84,1910.0,699.91,1711.75,8702.130000000001,22778.44,27669.88,5912.009999999999,4227.87,2791.6199999999994,13037.580000000004,31387.7,729.12,17996.799999999996,434.91,9876.930000000002,5320.09,3844.0899999999992,40395.01999999999,1250.0,508.61,909.65,3126.15,1658.45,1760.0,1600.74,16028.909999999998,5349.62,2558.86,13471.4,822.97,902.17,2077.23,1504.15,374.71,3245.59,678.9100000000001,5780.0,436.97,2352.13,2099.16,4847.780000000001,2958.01,2290.82,12100.0,2936.88,1200.0,279.44,1350.0,20870.66,1787.0800000000002,3707.46,11334.3,0.26,1759.96,1209.9,4729.65,16030.78,19416.18,414.85,2101.33,2825.75,329.01,16946.46,3269.86,1199.16,20651.03,498.61,22593.23,257.44000000000005,1478.7900000000002,10960.7,10100.97,7829.59,9501.2,1276.38,6155.65,1358.21,25812.540000000005,1491.19,6831.0,31299.05,6201.579999999999,1570.6,500.0,4249.04,2226.05,24661.28,3465.53,3300.06,16256.370000000004,5141.610000000001,596.7099999999999,4924.92,4041.59,516.73,1573.7400000000002,4421.069999999998,180.28,18639.12,2024.28,2082.73,3766.91,6240.880000000002,2141.13,1440.0,2567.04,1518.55,7222.379999999998,5779.89,1350.0,834.2699999999999,136.04,2761.1199999999994,1141.15,1657.14,30884.49,999.83,192.13,179.03999999999996,1661.39,14959.87,66782.02,7436.280000000001,799.03,365.77,1660.86,698.6499999999999,5172.9,1508.2,800.27,350.0,19182.460000000003,13213.800000000005,3521.1,2600.0,50.0,810.3299999999999,1000.05,4182.7300000000005,8881.33,1050.0,26823.9,6776.88,2923.46,2462.44,3267.95,3617.09,13697.14,226.85,8694.77,10909.4,7468.18,759.03,975.0,754.95,2633.88,1101.13,2541.55,8438.85,5663.08,379.58,150.0,529.63,550.0,499.08,5030.239999999999,746.96,730.9,1347.19,4471.27,659.74,4790.0,67.42,9624.96,6036.539999999999,7743.66,12892.99,1472.43,560.0,5644.16,149.5,5820.0,463.63999999999993,1676.01,16631.45,608.88,977.93,3907.140000000001,6849.3,25340.03,8247.75,1919.35,1656.93,150.0,4076.41,21854.53,19460.55,5468.32,400.95,5770.0,7544.24,4195.38,1219.54,141.64,2471.38,3619.14,12452.29,700.0,1349.3100000000002,1000.0,721.37,969.01,4999.97,1482.2400000000005,1020.75,937.41,4871.52,3813.190000000001,150.63,5270.0,4115.4,2539.39,941.88,16.23,8002.49,1229.21,6350.58,7534.630000000002,1655.66,350.0,350.0,22299.64,7409.06,900.0,7082.79,1658.51,2573.230000000001,4176.95,4041.4500000000007,15019.42,6810.0,7133.03,4471.200000000001,1161.02,3278.51,1724.7199999999998,2386.14,32676.87,647.31,3107.61,1747.08,5951.24,3387.81,2107.38,350.0,4982.36,5113.07,3429.1800000000003,1473.4499999999998,9413.48,364.2000000000001,800.0,1656.58,650.0,366.34,2785.27,1500.0,599.3,4582.17,9014.27,7807.749999999999,2057.67,219.48,32579.81,800.0,1250.0500000000002,1049.77,1233.6799999999998,4903.370000000001,1563.63,310.89,2080.0,20296.95,10033.61,12462.33,1065.88,2068.42,16466.25,1438.89,4263.32,55235.45999999999,20141.41,3026.57,828.57,2844.6400000000003,8015.200000000001,732.9400000000003,2348.47,10913.31,959.78,2502.07,59.6,24537.640000000003,14022.339999999998,1291.97,1406.75,570.0,492.72,3305.38,1024.59,700.0,4323.65,20711.93,349.81,10691.759999999998,365.4299999999997,731.34,1060.12,3950.23,3979.15,366.07,2300.0,8417.46,2929.5600000000004,13517.500000000004,2061.46,8682.6,18740.0,14639.969999999998,204.01,2159.8,400.0,500.0,464.67,839.18,11220.0,1800.0,5818.26,1884.25,2312.22,759.8199999999997,1602.63,560.37,1508.11,4175.86,45.3,312.0,4500.0,306.78,1433.46,6658.92,1099.94,3289.62,5771.69,2527.64,4173.4800000000005,486.27,1299.1,3328.71,1090.86,13017.56,4240.02,7727.639999999999,258.6,1041.51,119.12,1200.0,2898.03,10689.52,2742.74,4200.0,6201.429999999999,7309.24,350.65,5705.41,1934.47,1110.4,1200.0,16101.54,2340.32,601.91,1200.0,3419.15,5481.0,316.48,7267.080000000001,10387.28,1425.7099999999998,3516.13,2222.21,690.0,8721.92,1611.43,1758.33,1949.4500000000005,10618.53,174.06,1000.0,1512.76,23026.78,445.09,100.0,1656.98,679.33,1650.0,24435.78,780.0,511.6799999999999,7164.25,2249.8,12689.55,2950.0,2509.1,1388.38,833.7299999999999,500.0,2442.42,410.0,2675.26,2463.3,34032.74,16268.87,199.7,13735.22,4326.14,3841.17,5490.0,3450.0,3785.14,3956.0,367.44999999999993,15773.240000000002,3647.62,2239.69,595.9,369.18,2465.59,6021.92,1817.2,1155.4499999999998,24660.23,2822.21,943.2399999999998,503.23,15445.529999999995,1239.56,10169.52,4421.06,4202.2300000000005,571.61,4999.75,6340.509999999999,838.13,38779.48,1661.73,450.0,1532.4199999999998,56.72,1501.34,34412.8,5079.72,663.89,2074.09,3628.0,667.44,3828.52,9303.880000000005,7188.18,1697.88,1500.0,20631.450000000004,7191.33,1891.58,3610.34,5546.589999999998,9492.04,11560.0,389.42,33133.65,6259.66,23619.23,2297.21,990.0,918.9,5313.6500000000015,4799.859999999999,1106.8200000000002,1657.78,2359.0400000000004,5814.18,4534.209999999999,4714.740000000002,1179.65,18967.08,1361.73,3516.19,19688.54,538.28,3056.33,9108.14,301.39,6095.55,466.24,5001.4,20048.82,281.5,5889.74,700.0,7766.56,58.0,900.0,4147.169999999999,343.89,216.21,447.07,1500.33,1748.7300000000002,1083.59,893.2700000000001,14020.15,2680.0,20934.99,741.7299999999999,4507.259999999999,1000.0,8335.78,1529.06,4698.740000000001,6235.94,17654.79,1417.2899999999993,996.43,149.85,2677.21,862.56,641.64,13646.170000000004,7446.039999999999,3254.32,2944.49,1945.42,7180.0,1258.2200000000007,700.0,2420.0,7039.81,402.12,1350.0,1718.61,3576.41,1552.67,2806.770000000001,2644.84,30.11,442.28,471.26,1217.09,1390.04,5000.0,5937.329999999999,1000.48,131.54,3519.48,350.0,92.79,30000.0,7469.09,5513.549999999999,7248.84,1528.84,6500.0,13426.94,1210.15,4156.92,471.81,4800.0,275.77,4626.64,849.93,1253.0299999999995,12553.02,1394.62,18491.3,2129.85,3348.630000000001,1218.9599999999998,60.0,7097.500000000001,21000.58,6448.92,5657.04,13899.06,3673.71,1769.98,4628.89,6767.89,2960.42,19394.42,3729.55,795.09,4588.919999999999,3790.6,2499.04,29978.61,350.0,17950.02,6579.02,10700.23,323.65,3488.6100000000006,3928.1799999999994,337.96,1200.0,2962.89,1833.96,7379.69,1659.22,2199.55,1100.0,715.53,3349.0,3158.3700000000003,2292.16,3872.98,8492.07,10513.229999999998,3963.22,110.0,22748.21,5568.939999999999,9975.399999999998,2296.04,1000.0,700.0,3065.32,371.07,2515.25,2025.25,1698.3199999999997,4395.31,1224.5800000000004,2071.38,536.75,3217.09,812.0,6919.92,6991.2,4809.76,1657.83,6359.979999999999,13730.519999999997,853.94,853.76,1708.5299999999995,2037.1499999999996,7340.0,750.21,630.0,6000.1,5715.33,19841.79,10507.52,1661.51,359.88,3665.619999999999,1198.73,12132.99,1359.9,449.17,1579.49,22243.02,121.53,4623.45,2750.0,8053.530000000001,33873.12,1686.62,13703.21,2844.26,6596.700000000001,7282.87,1953.5,699.5,1879.46,59719.9,16905.01,20131.61,7831.56,4446.1900000000005,560.0,1490.0,150.0,508.3,8255.12,1060.0,1544.94,899.5,3971.0,7077.27,2777.21,2554.5900000000006,4699.470000000001,1890.0,7544.470000000001,6087.05,1658.25,4668.89,699.87,2492.23,196.39,198.36,2730.0,1135.36,700.0,113.08,1544.5,1415.89,16400.0,14538.76,36890.28,10584.9,795.26,2355.3100000000004,5000.0,2500.99,566.86,2890.0,1200.0,12761.51,450.0,1727.97,156.87,147.03999999999996,8988.25,1660.01,20725.12,23532.06,680.5199999999998,1968.2899999999995,736.92,1400.0,170.67000000000002,550.0,3340.0,8555.89,900.0,2498.2999999999997,2357.6,1605.94,700.0,14463.82,18011.12,28021.29,9776.53,429.65,12494.76,1650.0,4066.95,5519.9,53.18,2106.6,2447.4500000000007,850.0,354.75,11313.74,14840.419999999998,4764.79,541.89,3599.01,8210.150000000001,1553.87,3195.8500000000004,7056.99,3143.499999999999,350.0,118.41,5931.06,774.91,27714.07,388.09,963.99,3088.2,18252.2,1941.85,4272.94,14113.1,1150.4,657.55,4008.86,2186.89,8210.300000000001,10981.38,1661.19,25838.22,1100.73,980.0,1659.1,181.86,600.0,18267.06,149.78,2297.39,8779.8,450.0,5203.810000000001,110.0,8024.950000000003,7254.73,1376.8000000000002,30367.870000000003,503.54,5982.9400000000005,6095.33,34371.4,274.11,4114.33,65.71,2715.68,2161.7,404.89,1091.41,600.0,2019.22,10982.88,367.4300000000001,12905.42,3681.03,3162.98,800.0,15353.23,6720.08,2887.0499999999997,3784.44,507.0,550.0,2896.03,8113.0,16256.820000000003,11865.44,8846.54,550.31,7968.38,2499.4700000000003,3731.86,2400.0,2242.08,1283.2,2360.79,10266.040000000005,349.41,868.6,2407.09,13246.440000000004,3814.73,3970.01,19342.340000000004,6202.190000000001,150.32,1129.75,845.0799999999998,791.34,5697.509999999999,6114.130000000001,13243.08,565.99,6986.21,1149.95,350.0,1945.59,14980.88,9256.95,152.63,8264.63,4430.200000000001,8369.95,4908.959999999999,3112.7699999999995,17082.47,6841.2,807.5200000000001,390.4800000000001,255.46,24299.16,450.0,868.28,626.23,14815.03,1000.0,1424.47,25483.15,1021.58,1657.57,5926.16,309.87,849.71,20339.19,7713.689999999998,8998.0,12278.75,13159.21,8217.08,4320.0,366.72,2690.13,1659.57,3245.18,698.88,21139.94,10194.399999999998,1656.14,100.0,4639.66,900.0,12824.76,2700.63,4611.839999999999,795.0,22579.89,450.0,699.11,392.84,2249.7699999999995,276.1,22137.61,7178.31,408.9500000000001,7593.65,1266.1,1656.04,8352.98,150.0,1567.0,700.0,10761.16,8997.949999999999,600.0,6918.65,504.19,76.61,16402.920000000002,415.27,4273.2,1694.51,406.48,10913.67,639.02,3484.62,9530.0,2304.03,280.0,2563.84,420.78,1000.0,2213.64,1050.28,88.06,1389.2499999999998,108.54,23307.3,2300.0,1000.0,10866.71,25969.72,700.0,10945.02,5700.400000000001,1041.71,550.0,5154.73,4114.19,4804.610000000001,521.9599999999999,14441.37,2691.27,1373.42,1753.52,1978.74,14040.860000000002,3074.53,3960.19,614.1700000000001,2319.41,44495.030000000006,4596.88,20387.709999999995,4105.199999999999,393.92,749.48,11379.37,3947.37,5260.489999999999,855.85,5036.549999999999,1801.2800000000002,23549.33,2344.06,14758.8,757.33,1195.61,75.26,6892.24,13585.279999999995,1037.3100000000002,1873.74,969.19,5237.509999999999,892.27,2763.59,4575.719999999999,11533.05,500.27,24893.36,3547.16,904.73,1750.0,14382.71,973.56,7058.780000000001,3547.26,1195.94,2667.79,1784.66,7271.469999999999,3327.81,871.53,8049.62,792.1,61.81,1154.9,2625.91,1349.98,550.0,2467.1800000000003,207.55,8700.880000000001,7551.11,1388.11,1000.0,2290.57,689.23,1952.76,6685.129999999999,9793.33,2113.4700000000003,2250.0,1904.94,2954.58,3229.31,10673.429999999997,507.4,600.22,549.99,7970.84,6653.080000000001,759.62,6249.95,3985.78,15698.890000000005,1559.56,997.53,12373.799999999994,400.54,331.41,1440.0,15832.26,2464.94,1631.9499999999998,1709.78,7636.28,12555.619999999995,11588.519999999997,50.0,14054.52,1658.57,4180.0,3957.68,8127.03,2730.27,2010.74,170.92000000000002,1000.0,33887.64,1829.59,980.29,500.0,9821.46,26519.83,2299.67,2518.6000000000004,14359.690000000002,849.83,2272.82,6776.73,7199.539999999999,6206.080000000002,24227.250000000007,688.2,11510.15,8626.03,999.98,7160.790000000002,5036.3,26270.88,1026.74,1100.0,4556.91,283.1,15354.57,3688.33,1700.0,88.29,662.1,6573.480000000001,8202.01,1210.36,13306.84,8433.61,7433.75,2994.29,498.39,10940.0,932.24,1907.32,7225.97,301.31,12467.44,1201.94,880.0,385.64,12.24,8302.539999999999,22059.98,8468.86,27.36,329.34000000000003,9000.0,1059.67,13753.21,1273.48,3540.0,2563.0,1000.0,4829.84,502.9300000000001,639.99,1999.7,1268.23,8691.110000000002,449.56,3005.9999999999995,5955.12,9559.97,30596.33,700.0,1730.0,1000.0,1083.74,1815.44,1980.0,856.25,5744.0,17428.770000000004,7235.41,2264.34,1658.11,157.28,350.0,2863.86,1000.0,1752.15,6795.950000000001,226.57,8896.869999999999,5655.53,2300.0,1588.11,4508.81,9676.28,8888.809999999998,6441.120000000001,2786.0,8149.450000000003,2806.88,2525.11,3169.53,1095.39,965.63,1661.75,8457.47,2396.770582792736,2858.29,1050.12,1472.79,14008.930000000002,3413.7,4957.86,4796.4800000000005,2079.04,6880.520000000001,7455.0,2308.47,2282.99,1658.83,6939.27,17540.440000000002,28332.77,108.94,10487.26,3503.82,540.01,4027.72,4363.539999999999,22123.94,6642.359999999999,8214.36,366.51,5000.0,1658.25,400.0,1106.19,1910.21,3333.65,2559.99,1914.3,2912.0,10119.039999999994,14419.69,149.18,10041.610000000002,3270.0,18989.02,26332.9,1501.76,4945.0,2167.61,11798.18,8424.72,1133.27,17158.87,350.0,4568.72,1067.37,4112.25,326.3,10456.19,1563.63,200.0,55.07,632.68,2373.09,784.82,18609.83,1559.6699999999998,1575.0,3159.3500000000004,700.0,7631.94,833.39,53.19,8549.46,300.79,1710.4,540.0,2753.77,1060.0,3250.0,21048.17,100.0,27846.23,1670.0,8939.51,89.85,2691.57,559.8,500.0,57857.1,16225.080000000002,552.67,1699.57,150.0,796.63,698.06,30764.59,714.62,1267.6500000000008,803.1399999999999,1000.0,2620.0899999999992,2059.7500000000005,12918.39,2879.87,2385.88,14260.0,521.38,28343.99,6546.8,333.0,500.0,350.0,3756.05,562.68,194.87,4681.959999999998,3124.0099999999998,274.37,6360.920000000001,9598.62,56.3,1352.4,60.0,1086.86,3964.29,2339.0599999999995,1879.58,11297.61,1543.55,7029.97,500.0,350.0,13336.080000000002,6610.539999999999,1200.0,400.0,1260.0,89.5,3967.61,5519.829999999999,1402.0399999999995,2669.36,3386.32,30000.46,1795.7,1248.56,10776.92,1760.0,1656.6,50.0,1499.0500000000002,6144.0,395.4,59.98,1200.0,31.26,2584.0,1765.46,4318.389999999999,919.44,8057.939999999998,2813.78,1644.8499999999997,8257.23,488.18,11109.65,613.8499999999999,1347.37,1660.45,3236.9100000000003,930.65,1799.1,222.86,9104.889999999998,1419.53,1999.09,1681.96,1350.0,1225.77,2352.56,1516.81,3573.06,27916.63,7028.639999999999,1889.16,1823.24,676.04,1028.98,21243.15,5866.960000000001,27174.200000000004,13307.28,7109.91,210.96,14162.3,25449.8,1267.03,1000.0,3506.73,3718.65,700.0,2009.47,2641.77,1211.85,717.53,1617.2899999999995,500.0,8934.999999999998,1557.8000000000002,850.0,3483.9,5399.030000000001,397.67,4244.56,4401.37,5400.0,500.0,2271.6,1405.55,2165.26,3598.83,17823.01,3921.42,3346.84,835.92,3680.0,1383.7600000000004,46596.2,18906.54,400.0,28070.84,10026.47,450.0,7832.400000000001,54.04,3610.0,20105.18,7682.65,2108.62,1201.9299999999998,1020.0,179.39,1032.99,390.66,7272.5,3540.25,859.9599999999999,1475.21,1190.0,585.77,3886.83,312.26,1936.21,1249.31,345.87,7161.81,399.25,5110.0,6140.0,1362.06,6369.98,8333.169999999998,6591.9400000000005,2243.02,497.67,1931.12,1177.96,946.86,7440.080000000001,370.8999999999999,10499.79,904.19,404.25,3701.38,1759.31,770.0,4626.26,1751.13,446.27,4286.23,449.46,10028.04,825.0,4820.04,1218.14,3501.93,9607.32,1775.15,1378.5399999999995,5765.610000000003,7374.180000000001,4787.369999999998,850.0,400.0,1577.2,18760.58,4819.87,4479.31,313.71000000000004,5094.530000000001,14143.57,700.0,999.99,1877.15,1235.96,59.88,3586.77,1046.84,2360.8,42447.490000000005,3100.0,1059.22,3517.0499999999984,354.65,11499.4,438.33,9327.82,2361.1000000000004,3835.76,4547.98,2338.4300000000003,2770.85,2908.13,6136.33,1559.94,154.62,10544.51,3587.620000000001,6599.79,350.0,1330.3300000000002,704.5,4930.4400000000005,1148.11,5233.52,1451.9399999999998,2100.0,24214.95,700.0,699.47,9950.46,469.88,11019.91,7386.74,11583.67,412.06,24361.93,3206.95,416.2299999999999,999.02,7816.07,6709.14,39790.44,500.0,17100.260000000006,53.0,20886.94,1828.98,5002.97,39579.39,376.95,9857.39,1000.0,450.43,7936.16,101.74,1534.45,5080.370000000001,3578.7699999999995,9359.29,21674.36,1000.0,4660.33,585.4,2878.09,2030.0,37677.85,7932.059999999999,500.0,2346.99,14582.02,350.0,2803.2700000000004,41719.21,2700.0,32008.70999999999,150.08,17093.23,3200.74,2191.69,1399.79,7869.280000000001,17467.93,1661.46,3247.0,3409.11,868.84,200.0,16114.440000000002,5575.079999999999,20179.97,568.73,3239.83,1930.4,148.49,2934.03,5844.159999999997,1669.13,1412.28,5670.94,2500.96,1831.0,6386.420000000001,5053.93,683.9300000000001,1787.510000000001,5079.38,22842.68,1995.78,4386.03,223.53,13799.479999999998,5078.35,3091.95,5418.05,1145.12,32319.15,67926.25,4131.0,782.06,4362.740000000001,6931.25,845.0,13425.72,2411.9,4450.26,8579.29,10966.42,3194.3,5152.73,999.73,1659.09,935.61,2762.65,1590.0,7824.59,1479.3299999999997,6374.5,3182.8500000000004,6256.33,520.75,3123.35,2020.0,2320.0,1436.48,3563.19,12414.26,510.91,1093.15,1852.44,1466.07,550.9100000000001,1937.49,622.4,2209.13,2293.7,9210.0,10279.43,2720.0,1962.79,979.95,1345.42,203.42,998.51,326.55999999999995,519.1,6596.929999999999,2339.71,697.5799999999999,451.51,2557.05,676.3,37330.27,5611.280000000001,9278.54,16436.35,11937.04,3122.34,4447.280000000001,4658.66,4454.17,519.09,5029.43,688.5100000000001,5899.34,11718.22,17444.66,5702.0,10734.170000000002,28589.72,1200.0,12415.41,76.86,1658.3300000000002,20046.08,1197.68,15279.81,8715.19,21247.37,2346.29,18821.8,5493.409999999999,6380.0,1661.41,4815.31,1580.0,794.0800000000002,6352.63,2165.55,14228.01,6316.43,1814.39,746.71,495.69,469.42,5478.17,14207.82,13659.66,8475.11,160.0,6277.900000000001,1659.57,2237.77,2200.0,825.3899999999998,3759.03,350.0,30513.2,14160.760000000002,135.5,326.09,2630.0,46972.95999999999,1886.54,793.8,1688.5000000000002,3868.7799999999993,28675.94,350.0,1588.25,4917.16,3321.66,2006.17,29043.43,2002.37,11299.48,1760.0,4042.920000000001,2303.86,2650.08,1658.81,2862.09,491.77,4806.209999999999,1064.23,1152.99,50.0,1908.41,1378.78,22009.38,1110.0,1975.74,6036.0,1350.0,2698.86,6117.51,472.89,2067.84,7084.71,24949.24,340.0,1400.0,4552.81,1869.79,2602.95,1397.27,5383.62,18323.16,7249.560000000001,783.22,800.0,500.0,3017.65,5827.9,1540.0,2160.33,31522.8,1274.7,479.44,1.0,6276.6,1657.21,9743.31,4289.63,267.96,860.08,2170.0,7327.8,1895.19,1221.68,4655.13,3724.45,6147.56,9324.509999999998,362.56,11237.399999999998,44110.82,1211.75,1515.63,5508.93,2569.850000000001,643.63,17634.78,8124.750000000001,42655.42,81381.62,1627.88,14356.899999999998,1000.0,2356.34,1887.91,641.78,14139.12,5249.99,513.81,4000.0,2095.95,7747.48,3359.0,1268.56,624.29,1544.55,5159.86,1264.03,4249.989999999999,781.02,12253.13,1258.6099999999997,1455.5899999999997,7277.120000000001,426.59,472.4500000000002,2100.0,2166.34,1200.0,785.69,1018.93,3268.24,153.58,50.0,4735.2,1932.22,27020.62,5381.41,1456.16,2300.0,1495.36,1876.93,2407.5600000000004,17095.279999999995,18684.33,1898.94,2719.9700000000003,1503.36,945.51,3188.45,1412.72,2901.71,544.85,1596.35,3252.9400000000005,2672.05,489.66,2811.08,2325.74,3595.56,1836.46,2813.81,5913.21,7795.23,9267.07,416.82,4999.17,3666.89,385.28,1920.45,5672.93,960.0,2203.4,2250.0,1658.2900000000002,7603.62,18124.25,6800.0,9403.63,20757.64,10538.44,64408.69,13138.14,4780.0,1739.8200000000002,1027.62,1579.14,5692.48,700.0,12.91,441.02,8018.52,1994.53,21918.13,10999.0,17538.319999999996,5393.25,1538.69,5843.770000000002,4708.65,5238.04,1100.0,22401.83,24059.52,4118.09,1743.34,394.26,6018.84,4317.43,14329.04,838.91,1412.42,6280.0,10690.67,1350.0,11098.56,950.0,902.98,6362.22,5192.599999999999,2225.13,2500.0,108.42,511.05,13542.0,34499.27,849.0799999999999,5375.96,5210.0,2118.22,4022.03,822.17,2903.84,549.25,183.95,24754.25,28897.99,11118.86,5313.76,665.8499999999999,939.64,4881.62,4002.0,789.96,3849.7,46003.71,2120.19,1532.98,600.0,3999.68,8135.400000000001,169.65,742.24,3325.85,483.41,1558.45,2101.27,1841.31,3069.17,1671.36,15288.91,38415.34,30661.25,436.12000000000006,605.84,1021.61,9103.669999999998,13695.770000000002,32535.38,2297.96,26307.86,1661.13,20438.45,2266.45,16979.81,5629.25,517.25,2506.09,499.83,1334.83,605.17,1969.04,2467.74,4171.74,365.09,884.95,4123.530000000001,966.07,2629.07,13025.929999999998,83.35,27245.87,194.57000000000005,689.66,7309.03,1110.95,5566.47,822.38,809.68,2976.76,14283.36,448.3900000000001,635.5399999999996,712.83,23839.65,1657.55,1698.5800000000002,1235.93,21052.55,5293.63,3177.37,1692.54,1507.48,620.0,3226.12,14845.56,3835.71,14337.0,2903.0,7541.3499999999985,3591.380000000001,9849.81,296.46,12183.6,744.9299999999998,3620.380000000001,8706.22,12119.150000000003,467.09,24579.18,698.39,16524.57,906.17,10776.09,55489.38,2365.0199999999995,9723.24,664.66,5006.19,953.64,40129.67,650.0,840.0,972.13,8048.28,2789.43,7067.219999999999,5994.87,1916.16,1509.46,9495.42,3695.59,2550.55,2413.79,3820.0,2530.5900000000006,349.82000000000005,98.93,1050.0,1560.2,4803.339999999999,1760.0,800.0,2517.6200000000003,946.74,18838.49,24795.23,4625.6100000000015,743.9,1660.27,300.0,53.9,547.86,352.92,1604.5,7894.000000000002,1504.36,144.98000000000002,1902.08,19039.12,1115.02,178.99,165.97,2433.49,2700.0,26949.5,284.23,1659.21,2268.03,1529.06,53862.63,13521.670000000002,384.95,1759.21,2021.4,10550.29,7000.37,12993.4,849.88,399.31,1184.34,661.7,1656.16,357.55,20270.0,1849.07,7781.1500000000015,888.6500000000001,1656.12,648.67,3510.94,757.53,259.48,1917.61,7094.59,8320.549999999997,6571.09,399.73,1868.4,1400.26,5920.52,4112.87,2527.4099999999994,4932.97,1657.92,923.94,2676.58,6909.78,2217.18,8349.41,769.38,481.47,1148.79,1940.29,6338.870000000001,1658.94,2578.19,7166.990000000001,4821.85,867.8,1555.33,13078.09,6479.87,729.96,1049.5,341.99,6835.760000000001,1370.7499999999998,142001.13,2526.48,1200.0,1489.74,1770.48,2276.25,14230.0,13679.68,10644.05,1344.9199999999996,546.3499999999999,3194.76,102.82,328.90000000000003,760.0,973.63,3335.46,17453.539999999997,1859.06,856.26,1279.43,107.15,1899.5300000000009,10109.37,974.23,5858.0,68.4,1937.12,3800.11,9417.41,1160.59,31.5,23091.11,156.6,2300.0,21860.47,5430.75,2023.19,2557.42,21242.840000000004,7886.64,6752.89,7347.400000000001,854.1800000000001,1080.0,773.22,1657.49,17172.38,550.0,735.3600000000001,2059.15,3549.96,1896.82,1057.34,4659.35,5413.09,399.34,2111.34,818.4599999999999,885.75,2500.0,18775.81,11211.85,600.0,3154.29,1229.84,11988.810000000003,7700.0,5525.6,9224.9,570.7600000000001,1739.0599999999995,757.1600000000003,589.57,1840.0,3707.5899999999992,5349.4,3512.95,1800.0,3290.66,1500.0,763.5,48657.14,900.0,10851.19,12939.759999999998,27540.82,5367.6,364.7000000000001,960.0,4553.2300000000005,1723.4199999999998,772.53,3063.42,871.9100000000001,13403.139999999998,23016.92,28701.59,4500.0,2589.57,55.84,2331.3099999999995,1322.34,1985.01,6843.93,2133.58,182.13,7222.41,4341.57,5796.23,2129.1,3538.28,7023.49,4442.189999999998,1355.65,4325.669999999999,689.7600000000001,15406.96,5162.93,838.4999999999999,17999.32,1361.35,1121.71,2162.9,3058.6400000000003,4595.060000000001,1859.71,1659.6,1865.39,12953.29,300.0,53.12,3399.41,3217.69,11922.21,5519.71,10884.420000000002,4542.889999999999,1656.2299999999998,350.15000000000003,1657.68,5523.68,10889.9,10432.38,15680.68,791.94,4065.0,611.6,11519.510000000004,3904.42,12411.72,442.2800000000001,16508.69,946.94,8209.2,940.05,97448.43,1149.6799999999998,30000.0,10833.850000000002,9459.76,12923.19,2075.45,2722.68,1344.04,34279.33,2755.86,2875.02,6839.85,2318.37,3959.2,8812.06,45109.66,880.6500000000001,14304.05,24409.41,2000.0,3234.1,6721.53,52138.54,4380.62,17735.48,5319.63,332.47,106.5,2814.4,19495.69,1916.2199999999996,822.89,143.56,545.16,10830.48,322.88,3254.4,1244.33,3462.700000000001,4402.47,545.3100000000001,2089.85,2169.32,692.43,4193.62,6805.33,2109.44,4357.659999999999,10389.81,366.11,843.6699999999998,9939.34,3720.61,17648.499999999996,574.18,2460.0,2690.0,12189.610000000002,8905.759999999998,8834.840000000002,12645.01,3099.09,7014.69,499.21,14348.77,1049.99,295.38,899.52,2299.25,2522.27,20003.3,1356.09,4187.53,1747.83,2018.15,850.33,4759.160000000001,2807.82,2506.080000000001,8369.71,5023.109999999999,350.01,1745.0099999999998,905.16,1163.08,509.86,20724.67,1699.0699999999997,13163.079999999998,1320.57,8689.65,191.22,938.6,5236.92,1210.0,400.0,1509.59,13334.319999999996,10317.3,1769.77,1182.09,3721.68,15626.59,3660.24,493.7000000000001,4545.060000000001,8214.45,60.0,1315.0,550.0,6738.4,487.4,8650.0,4735.2300000000005,1150.0,634.8,3539.93,1571.34,845.54,60.0,810.0,1000.0,619.97,499.95,1805.89,5837.57,500.0,1099.28,1381.32,670.0,1350.0,1135.99,11.1,16200.0,700.0,11726.64,500.0,58.29,4516.999999999999,6935.330000000001,1367.19,7100.0,21241.750000000004,535.29,1116.7,2500.0,652.44,4100.59,1836.78,100.0,150.0,1658.7,3571.34,1752.54,700.0,4618.05,750.0,51.1,1656.6799999999998,2301.43,1591.15,2227.9,3802.65,13393.53,3350.0,4791.33,9099.0,6500.0,6965.620000000003,23192.47,441.8699999999999,7798.840000000002,346.04,12685.510000000002,2052.59,5424.240000000001,33541.33,350.0,1571.92,7824.63,8008.93,33360.630000000005,10401.35,781.1400000000001,1613.35,822.0899999999999,1663.16,5094.39,880.2099999999999,1304.4,1200.0,1000.2,1447.35,1598.81,430.3,1785.249999999999,8914.83,735.7299999999998,2808.6,658.3399999999999,11430.93,18387.65,1106.6,7000.0,11599.28,876.9970802546169,1650.0,16919.78,10979.28,585.63,7141.49,4651.46,3196.86,12932.61,5606.789999999999,7434.02,16832.71,713.23,8252.01,1450.0,1701.15,7159.6,7839.89,20909.27,368.74,5894.690000000002,8266.67,59.33,7440.970000000002,6468.27,3322.15,9929.06,1399.77,4234.0,4119.56,4070.02,300.48,1007.44,3768.53,3376.79,21383.64,6693.62,1235.4399999999998,348.52,45549.65,4754.570000000001,899.28,4833.18,500.0,22663.88,5030.25,20701.88,9174.0,5839.120000000001,5102.390000000001,5802.030000000001,453.58,450.0,17658.75,1299.19,413.7,1954.13,2726.23,5126.759999999999,1729.9899999999998,1515.0,7789.73,808.36,4248.29,390.62,547.03,269.14,190.09,1568.27,2786.2000000000003,10049.37,879.79,9403.85,969.86,500.0,5989.24,12162.989999999998,100.0,750.0,4978.53,2027.0700000000008,545.85,325.09,5544.050000000001,4538.459999999999,10560.48,1000.0,100.0,4943.71,1210.67,4836.27,3733.040000000001,2558.03,2714.0,2548.2699999999995,32628.72,2930.0,436.2000000000001,1657.97,1086.7499999999998,5850.6,33119.04,7033.15,908.56,63.1,941.11,5901.14,20480.61,382.64,17362.120000000003,50.0,110.0,20382.040000000008,14441.04,508.99,3180.0,2165.7,2070.91,4818.25,5538.7300000000005,4296.09,2625.19,2553.78,9285.410000000002,6100.419999999999,1.0,869.5,1350.0,4630.14,1829.58,15680.22,1350.0,59017.05999999999,8215.97,6912.030000000001,18651.13,10305.0,8224.44,2494.97,1494.08,7220.56,3135.0,1281.54,4270.790000000001,2999.36,130.0,3106.1800000000003,7840.0,9364.77,884.8500000000001,15290.42,699.92,1100.0,3931.38,23649.160000000003,1093.17,1656.54,8442.57,1350.0,5351.32,23678.41,1840.76,1854.33,3998.79,122.72,2397.74,56015.78,13778.990000000002,2175.55,4369.469999999999,450.0,2233.9,88.76,1440.36,366.52,4425.32,15575.059999999996,185.66,518.45,60197.91,5197.23,11902.05,400.0,394.45,5539.539999999999,9703.46,32493.13,417.76,10012.26,7070.470000000001,12960.39,38568.71,305.26,881.74,2625.38,2150.0,681.68,18109.76,12250.029999999995,550.0,2012.55,284.0,109.15,563.35,4166.56,506.42,59.81,568.2,5240.880000000001,350.0,945.71,718.34,972.16,337.94,12936.31,13109.71,8079.519999999999,1560.0,12871.34,1018.72,4511.320000000001,60.0,849.6,1000.0,560.0,3923.26,1033.18,1954.23,3869.46,17524.23,3478.5099999999998,3127.56,14601.1,10697.71,2849.99,1562.69,5880.5,100.0,7000.0,14168.13,5493.540000000001,15549.54,4689.93,14001.25,12973.11,34215.17,1350.0,611.97,12576.44,262.61,17610.65,17331.370000000003,398.13,1656.79,3347.8100000000004,2675.55,1657.63,2068.31,9736.45,7771.130000000001,10806.05,370.1900000000001,450.0,18834.97,2560.0,524.0,59.27,3186.23,1250.1799999999998,2019.21,2097.34,479.34,640.0,3441.8,33359.99,8059.3,8929.05,4013.0,1287.3200000000002,3393.67,75977.6,2882.1,14655.81,17709.57,353.05999999999995,6101.970000000001,1770.0,453.3299999999999,7484.889999999999,856.33,349.27000000000004,706.06,12808.37,4560.0,6511.32,13.33,5650.0,2810.58,3202.03,492.35,6809.34,1992.65,11575.38,4049.13,6207.75,667.71,34611.57999999999,7579.08,4119.23,7101.22,3367.53,1549.04,2294.65,152.13,13639.32,6379.53,31642.03,2113.34,1560.0,5645.56,13655.67,1478.9899999999996,870.45,839.64,4307.2,3031.42,1312.4100000000003,7339.25,11043.44,8009.13,16360.42,3668.94,1740.4,23093.43,1200.0,7601.04,2196.1800000000003,26265.08,50.0,800.0,3260.4000000000005,7014.09,10195.64,300.35,420.88000000000005,15789.570000000002,38262.48,5135.770000000003,322.11,27419.59,1055.88,3391.9500000000003,1239.84,91.71,558.61,1657.9199999999998,3383.04,8143.15,3943.8000000000015,150.0,1390.17,998.7899999999998,505.07,1342.2699999999998,2470.0,960.0,350.0,9180.0,12868.49,2623.22,2640.0,2418.92,1666.0,1177.9599999999998,361.37,612.5300000000001,4800.0,994.13,13977.23,5950.320000000001,14540.46,5180.0,1970.0,1500.1799999999998,420.04,9591.43,922.53,999.47,636.29,500.0,1300.0,903.83,1282.92,8684.95,1681.92,2487.55,535.69,5970.0,550.3399999999999,4692.0,1057.23,560.0,9417.120000000004,2628.93,3970.57,12352.96,1220.0,1145.2599999999998,50.0,1290.0,16784.739999999998,7082.060000000001,999.83,2430.0400000000004,25508.13,1332.84,4012.81,1657.99,350.0,232.32,20034.44,2110.0,3003.4300000000003,2724.09,3626.56,6228.76,7419.509999999997,20190.42,4858.46,3885.94,2116.45,1746.33,45.53,8138.0700000000015,39797.91,1660.9,2405.6399999999994,3332.32,1387.88,19703.99000000001,1888.8600000000008,2003.05,60.0,60.23,1658.81,958.09,500.93,2300.0,2754.85,1181.97,749.39,8635.94,2290.23,366.03,699.65,3696.09,818.38,265.07,26815.4,3816.9300000000007,10224.99,13848.79,4812.75,2968.04,5514.71,681.98,350.0,37501.780000000006,5691.929999999999,110.13,1104.0,7157.669999999998,2051.25,35051.03,3489.59,1252.88,6363.56,1300.0,500.0,500.0,29028.74,10816.47,4006.25,18439.36,5832.41,2415.13,274.71,2839.4800000000005,706.74,2882.06,3124.23,218.67,4349.71,2580.0,353.31,1541.63,12154.55,1647.07,133.57,2199.92,1504.36,5121.6,1507.42,541.11,13953.46,999.11,322.92000000000013,2039.12,1491.0,1306.0100000000002,11214.95,10236.8,1205.78,7830.85,1019.75,2718.6800000000003,1179.9,188.9,497.32,432.22,590.0,1560.0,1099.84,1985.21,6674.54,1399.13,1664.85,19343.130000000005,1389.04,2190.239999999999,272.69,4760.3,2923.380000000001,4400.969999999999,94.65,5552.68,2469.36,534.1899999999999,661.11,500.0,3576.4,18204.53,14785.76,4695.87,2850.0,18882.88,11419.83,505.92,1425.94,869.4,3619.5899999999992,34691.9,806.6300000000002,360.0,2084.28,5464.09,22188.570000000003,8741.81,1019.06,4581.66,750.0,401.88,2201.43,2011.25,2500.0,8124.61,14002.26,17390.559999999998,2440.83,6486.539999999999,14091.2,7162.880000000001,1300.0,899.27,1544.56,847.97,6456.27,6642.2,1002.27,2055.52,7303.6,1.0,2202.88,4999.07,9995.57,15605.14,616.53,356.07000000000005,2422.43,3607.54,3290.0,800.96,50.0,1724.06,463.15,3136.4700000000003,8250.91,2500.0,1003.4,15669.41,1219.22,1289.93,12635.049999999996,8850.0,5110.42,12344.32,15732.69,1799.1,1286.47,85.69,6536.770000000001,200.9,6248.89,7859.269999999999,556.99,150.0,19484.84,51084.92,399.24,1918.890000000001,638.63,2271.06,111.62,20999.29,11105.87,1200.0,4150.0,1134.58,3397.9999999999995,13727.91,4953.47,1590.0,9112.88,1785.61,12027.080000000002,1000.0,470.15,1732.55,7187.24,2197.23,21940.820000000003,24693.56,704.11,1086.72,27781.36,1400.0,7681.73,5150.0,2497.04,6477.2,3050.0,809.88,199.99,757.14,16627.53,10817.579999999994,2095.64,874.0,2050.0,1899.34,573.52,4435.910000000001,60.87,1672.93,2040.74,4144.92,1500.0,1109.19,2048.63,1330.0,1462.81,60.16,1657.46,993.16,12130.3,12610.570000000002,4680.25,1320.0,4567.550000000001,150.0,10433.3,814.44,5832.03,2749.029999999999,17011.78,3508.94,287.98,12254.15,3715.93,13441.759999999998,500.0,3903.56,760.0,26860.0,24552.83,652.12,3398.51,5979.9400000000005,5032.57,2919.39,560.6899999999999,14100.38,3583.26,685.2499999999999,21958.32,1851.85,2527.84,54.03,100.0,5030.0,2300.0,3173.5600000000004,12404.98,13738.509999999998,10910.78,400.0,50.0,574.4099999999999,7182.88,1900.09,366.3,6274.56,1279.01,2170.0,560.0,456.16,21544.14,1666.0,3530.06,2054.08,6234.07,28500.7,140.29999999999998,11029.71,10147.78,10594.94,59.99,1700.0,3680.0,16068.249999999996,17865.28,3158.6000000000004,2615.04,908.4900000000002,3317.1,3470.8300000000004,5688.72,6555.15,2249.79,6554.049999999999,2500.0,1199.92,13173.779999999995,6227.42,374.36,6009.780000000001,1109.72,1400.0,3901.36,10390.57,1007.79,5411.419999999999,542.6600000000002,10486.99,2010.93,926.86,1017.16,1416.0,5571.0,1500.0,550.0,13533.079999999998,7730.47,3291.8500000000004,7638.89,1000.0,2852.04,1704.73,5231.849999999999,64.02000000000001,182.83,1585.27,21481.91,3300.41,6427.389999999999,2538.23,80.75999999999999,800.0,645.72,1300.0,690.0,366.47,3493.55,7601.76,1372.9499999999998,3353.34,518.48,8329.44,550.0,1071.2,1640.0,8771.98,915.73,24474.84,196.48,30748.36,422.62,1398.68,1976.84,500.0,0.16,3879.28,532.36,445.37,1749.37,18899.320000000003,5439.55,6085.31,500.0,1761.26,4389.96,11078.85,1740.0,2815.03,25131.73,700.0,3618.37,3840.0,1226.46,3297.75,7922.279999999999,8128.87,5507.319999999999,11432.89,15024.550000000005,8371.504915556628,3992.81,1180.26,1663.84,1760.0,639.89,10136.61,4012.5499999999993,1690.56,5487.1,2142.95,3827.65,6999.2300000000005,1361.56,2839.63,16441.14,1534.99,6709.59,316.93,11753.32,12554.25,4279.96,8021.630000000001,186.27,1188.57,999.41,4401.48,3905.42,2400.82,477.17,693.79,1337.15,6177.7,4567.820000000001,1636.66,19549.92,1473.17,10646.27,14713.42,10643.44,2299.31,2337.68,5189.83,400.0,382.08,1848.0,2733.669999999999,672.19,623.44,1940.0,539.0,789.24,2500.0,28327.32,161.43,9886.32,3167.56,1186.9599999999998,5734.17,153.19000000000003,1657.09,1159.98,2605.4700000000003,1433.81,2316.74,3699.73,1911.38,22739.370000000003,19889.1,975.0,177.87,700.0,444.54,6183.88,10344.27,14299.85,1658.85,117.08,10501.31,19779.76,100.0,32.82,1908.46,6152.83,14339.11,4462.29,400.0,1827.56,7450.0,7814.56,1806.77,4669.1900000000005,960.78,1742.02,149.86,375.0,4977.29,1006.25,1716.0,3051.2200000000003,196.94,1796.6899999999998,22058.71,2310.0,4424.9,3497.7700000000004,935.56,3250.0,560.0,6519.35,39010.41,179.16,4089.8399999999992,2248.82,699.08,2930.03,1022.6,8136.57,9077.73,1236.61,17613.71,2377.24,343.95,6481.6,150.0,1024.41,3300.7500000000005,1382.94,1664.81,1806.56,629.79,1172.16,358.95,5394.92,1676.29,1463.8100000000002,1693.97,800.0,900.0,5554.36,511.52,2500.0,1826.95,16854.559999999998,1909.41,699.86,9253.41,801.3599999999999,10833.72,26566.28,4939.47,6889.53,1280.0,2536.73,1090.46,1818.24,850.02,3860.5,4903.06,5601.1900000000005,2479.7,1658.05,2108.77,4026.99,16343.26,266.79,3792.7200000000016,653.14,349.86,463.44,19730.1,26450.01,7201.57,825.0,8607.99,709.43,523.68,4447.66,443.9899999999999,1656.76,3946.97,1660.34,8986.12,1229.69,6349.43,5681.249999999999,30750.16,3039.43,844.56,2488.41,678.04,350.0,5827.9400000000005,9416.84,13629.21,5212.73,8825.83,4729.53,6405.61,4500.0,838.87,2600.11,11757.3,5558.92,5759.27,15528.89,1665.84,1154.02,1000.0,5384.73,4360.51,21633.77,4699.85,11720.200000000004,5105.450000000001,332.35,1723.0499999999995,1118.01,465.1,600.0,939.98,1425.81,19102.28,464.38,2100.0,6567.36,60.0,6103.030000000001,14640.81,4020.0,6137.459999999998,1560.0,4909.68,2218.2,4330.0,6691.3,2247.04,3005.4700000000003,35855.22,16896.449999999997,18612.19,700.0,21475.93,1658.6,2773.79,1399.72,557.3400000000001,4671.0,9346.55,255.14,5700.0,5181.03,4119.03,5375.33,3642.0,1702.44,1116.93,4100.0,1350.0,1331.16,2179.38,1655.66,600.0,5562.28,2080.69,5476.46,14497.7,1790.0,2178.31,1688.36,2097.17,8819.94,10050.92,4716.109999999999,9708.52,10386.560000000003,614.08,2294.11,2231.9,177.29,4228.5,1224.0,3709.0,278.22,6856.86,1382.34,1665.5500000000002,200.0,11009.2,60.08,550.0,3092.58,60.0,4500.0,13109.94,1009.91,3181.12,3333.82,1690.0,2632.56,1100.24,1197.07,1507.8,1659.45,501.14,400.27,1100.0,5710.64,5202.28,2988.0200000000004,23.8,669.8,3479.1399999999994,867.54,11450.0,106.95,22582.49,17805.79,1200.0,1000.01,25983.15,2000.79,2719.38,10966.94,4800.0,504.7,202.0,8772.59,908.12,835.75,29999.19,17999.13,5849.0,859.08,4108.45,3953.34,12533.77,1193.11,150.0,2080.0,6111.16,588.69,9746.829999999998,10843.269999999997,1865.18,48828.380000000005,1660.5700000000002,1575.0,27541.16,4117.41,1007.87,3292.94,696.02,13790.25,1705.3000000000002,260.8,4540.91,3438.2200000000003,1490.68,634.99,3749.97,1500.0,89.55,2833.63,1383.17,3834.42,1518.83,10521.68,62.0,7347.23,295.31,8431.22,7411.02,1500.0,7362.09,15965.509999999991,2489.21,3317.9500000000003,168.07,489.51,1659.43,12326.1,6403.359999999999,400.0,21326.0,13195.91,15973.81,146.0,4966.63,1350.0,4359.81,4518.28,15407.280000000004,2599.99,3184.71,33157.19,4363.0,989.85,150.0,100.0,17539.78,6573.859999999999,2569.91,2047.16,11375.629999999996,5590.0,537.71,10432.160000000002,749.86,1695.84,2484.34,213.62,781.9100000000001,11629.09,14983.45,23065.85,700.0,1301.73,2959.24,1253.49,882.8,2247.46,7000.0,1475.0,2300.0,2716.67,299.55,1218.02,15811.29,1657.3,634.92,53431.93000000002,1552.6299999999997,442.75,8581.42,6729.91,5350.56,1697.19,1004.75,458.68,2515.33,900.48,548.04,650.0,8275.43,1666.0,2016.0,350.0,698.1600000000001,1180.18,6458.75,6079.040000000001,1549.5,2143.7,2029.04,614.46,1449.4,400.0,6153.58,1350.0,6460.99,20015.29,2003.02,80.77000000000001,1120.01,350.0,2329.33,866.21,45320.47000000001,19970.0,917.74,2933.52,2782.14,8079.54,9412.7,4382.8,6010.0,16559.629999999997,8000.0,9487.04,6017.809999999998,5452.68,4414.29,18639.95,1851.68,532.31,650.25,1222.34,3851.2,968.32,1.0,4293.6,731.32,2965.63,1714.18,576.2199999999998,658.9100000000001,1200.0,4804.1,707.12,2832.76,1149.96,146.96,1347.0,1657.24,1321.84,4128.79,4337.0,2935.02,2273.57,364.9200000000001,1079.3200000000002,5656.0,499.8499999999999,6807.68,3295.2,14409.29,635.16,29809.36,7559.33,195.77,5146.72,5252.15,12258.09,1459.64,3356.74,1636.48,365.6399999999999,677.6500000000001,9674.18,2347.35,399.33,2074.51,2779.99,11174.37,999.35,2938.76,16417.0,2253.63,50.0,78.17,1776.74,700.0,30276.18,10653.53,350.0,60.59,2373.54,11307.21,1651.7099999999998,3727.310000000001,1033.05,1731.69,1250.0,63.14,91998.48,1550.0,4208.26,730.2,2353.39,7000.0,319.43,5006.0,4008.24,1350.0,15006.27,606.0,717.9599999999997,3186.26,364.74,843.83,17552.98,1759.54,1969.13,16515.300000000003,6040.0,13070.160000000002,536.31,17339.37,1312.81,14859.870000000004,3049.4,17912.28,5519.79,2963.0,777.51,9009.02,6182.2,100.38,400.0,3187.8,4172.86,1517.65,6976.259999999999,7103.720000000001,9283.53,442.88,3031.3,6790.76,11152.200000000004,756.8600000000004,2500.0,14123.62,8099.47,846.65,11878.839999999998,2094.39,440.53,1659.29,1705.58,400.0,4331.4400000000005,327.1,2115.0,6430.0,9183.85,2121.84,567.6800000000001,15145.28,5964.87,20294.26,38977.76,365.7599999999998,2126.9300000000003,2670.18,4056.85,9086.74,3054.47,11298.18,523.0099999999999,4748.719999999999,918.3,508.45,4000.0,6070.0,73.67,12144.039999999995,1661.6799999999998,899.39,8396.06,1560.0,4492.959999999999,1017.53,3150.0,822.94,450.92,2300.0,61920.51000000002,1481.66,2227.37,1600.0,1495.0,3343.43,651.09,570.13,12878.38,3753.7,3340.74,1532.98,6133.73,11050.0,17773.500000000004,400.0,51903.41,1538.29,14281.46,2218.45,2049.05,653.33,92.34,760.0,136.76,988.55,3214.3,10865.19,2.06,13038.72,1022.24,1660.0700000000002,7161.69,18034.23,584.76,12165.02,400.0,190.0,445.43,2730.0,4958.19,2074.39,24530.17999999999,17070.84,4231.98,1952.96,485.5299999999999,899.54,769.67,436.16,2096.27,2158.93,1828.1,1770.16,1000.0,1808.54,6502.35,459107.95,31721.050000000003,2307.6,3849.6,23060.46,27.43,7373.120000000003,700.41,7269.950000000002,1669.52,2471.97,16076.189999999997,344.1,397.47,3640.48,699.28,29950.72,79.46000000000001,250.0,3154.9,8050.609999999999,1659.9,10410.33,961.66,2196.93,2349.41,4069.63,700.0,1659.11,1090.0,1177.37,2763.99,645.12,1750.0,1791.3,4030.64,859.23,1658.87,9199.56,1000.0,550.0,54.06,1800.0,793.11,20699.68,4904.85,1567.54,1482.25,6130.039999999999,5439.619999999999,9524.11,11127.51,2195.99,21854.92,3849.42,5519.9,7205.429999999999,9904.27,165.84,11364.87,3899.44,1230.3099999999995,229.71,1812.35,5941.579999999999,4713.449999999995,16383.89,5135.190000000001,5523.200000000001,1256.6,7243.53,11488.71,3257.33,14896.420000000002,11543.039999999995,46195.6,1619.95,1998.69,1.0,5056.59,1658.65,13260.77,1868.51,1990.04,174.2,27589.58,3693.2,13507.86,18134.48,1539.06,10465.31,1795.16,1350.0,2425.0,6700.0,642.0699999999999,7096.02,4817.889999999999,2833.11,849.78,1190.08,56368.85,4034.93,605.3399999999999,100.0,1483.4900000000002,537.25,3792.0700000000006,1607.47,1688.18,4442.46,5176.36,2243.33,2408.2000000000003,2277.63,26.45,7741.31,349.33,8491.83,989.95,9121.93,180.74,492.64,1866.69,1304.57,17410.04,31076.12,6983.81,2027.78,1073.87,1014.69,827.6600000000001,9764.76,1658.24,549.74,2210.0,1109.71,7680.0,7099.32,31445.290000000008,1900.21,3936.21,3971.57,1953.75,600.0,1661.04,2010.0,5681.29,760.62,2584.0,1119.0,1350.0,10646.690000000002,2141.4,350.0,22304.16,1049.74,9414.45,1350.0,1770.9699999999998,1219.46,6879.19,799.87,13052.74,1658.0,16792.25,20226.33,2770.3100000000004,149.54999999999998,4299.63,588.1799999999998,5283.990000000002,2850.04,53344.35,1658.75,4920.16,1752.77,628.28,7802.3,879.08,950.0,9333.99,1500.0,3419.03,1660.76,1259.0800000000002,3737.919999999999,13532.02,2000.0,6300.0,221.63,14068.63,123.85,8518.95,1664.51,1808.95,8352.67,19281.91,2983.07,1546.96,779.0799999999998,5920.200000000001,1033.53,4645.64,1425.43,51.58,20699.14,8174.66,2228.67,12209.53,455.33,5964.69,850.0,12035.79,53.68000000000001,20876.56,572.94,785.34,7118.33,623.86,1072.54,3172.0,17451.32,11252.17,5000.0,2360.0,299.45,19159.67,400.0,449.3,700.0,1240.63,1400.0,5635.66,1350.0,500.0,6964.74,8583.150000000001,2104.49,14864.210000000006,1751.5300000000002,3904.51,5715.82,19650.919999999995,4262.94,2012.16,119.67,823.11,4599.58,5252.49,5395.740000000002,10024.78,630.0,700.0,1656.73,4968.549999999999,1400.0,400.0,6250.45,1197.12,750.0,19098.82,7741.36,1005.5199999999998,708.42,4586.64,5750.0,3773.210000000001,792.69,7837.98,1322.26,1724.17,3198.41,7859.99,217.57,5961.4,247.56,2328.19,637.44,3395.86,3976.57,1350.0,3367.41,1715.66,17038.91,3881.020000000001,9449.93,5992.779999999999,850.0,1559.46,518.85,417.9500000000001,7602.18,1200.0,1600.0,1000.0,1598.9899999999998,13925.61,1852.52,1782.43,1958.89,96.58,12834.2,71833.37,2289.76,7000.0,539.12,47775.61,4956.75,2399.5099999999998,17060.0,152.56,3172.46,1191.4,3263.34,153.2,1200.0,24305.89,3936.28,4211.39,5131.549999999999,1137.12,166.9,8557.37,399.33,8951.45,34571.130000000005,667.2,13420.33,680.61,350.37,350.0,17915.509999999995,7219.34,21393.07,3333.0,10071.66,5357.0,271.98,6698.51,573.16,459.3099999999999,6283.400000000001,1206.73,1544.64,6769.82,8151.5,1485.903761495958,2231.8,31700.83,2571.7,6408.519999999999,3198.85,7677.389999999999,3616.97,528.89,500.0,1900.89,689.54,65132.36,7064.15,3195.34,379.72,192.16000000000005,14008.67,14410.710000000005,2119.93,722.3,764.1900000000002,1349.7199999999998,539.5799999999999,3423.62,9228.38,4970.83,11667.01,54791.37,3750.26,690.0,1308.88,794.23,26839.05,4241.550000000001,8680.59,14773.7,116.04,3564.98,1582.0,9040.83,5012.230000000001,850.0,488.42,1467.13,5461.56,257.02000000000004,2093.23,9359.16,1392.02,1657.89,5090.16,11351.499999999998,20032.97,850.0,1432.38,5468.139999999999,1000.0,2575.36,1824.34,5732.58,1918.87,6562.629999999999,4289.290000000001,1200.0,1045.02,1454.21,1400.0,1400.0,4808.87,2600.0,156.02,1311.94,1534.1300000000003,3226.36,8517.15,1627.97,892.02,4059.34,4770.4400000000005,527.77,670.21,3956.67,2660.0,3230.64,2400.0,12553.029999999995,15556.460000000005,4371.56,23662.46,4963.38,1050.0,2079.07,1551.21,13197.070000000002,5925.619999999999,14329.17,11355.43,1380.0,1590.0,8361.41,20514.73,550.0,14963.500000000002,58791.52,517.08,1299.61,600.0,920.15,903.23,6833.339999999999,4399.519999999999,4651.03,877.66,12991.46,35317.56,64.24,5899.91,719.45,22079.79,5318.799999999999,1903.33,2629.97,1786.5,3072.7500000000005,6881.24,400.0,1047.4299999999998,2949.0,18219.16,2040.81,1657.29,12692.91,2838.8299999999995,6750.330000000001,198.42,19578.61,475.0,2500.0,1641.56,1533.21,5416.0,2820.0,1199.24,44847.92,550.0,7193.6,341.96000000000004,954.13,5301.71,575.0,450.0,99.9,1658.64,450.0,2823.81,38288.69,606.86,1532.98,1770.0,4626.31,700.0,1160.95,1919.2,1471.19,1187.18,4544.7,2804.97,4039.78,1200.0,2626.58,18856.68,431.31,2798.0600000000004,20111.73,4510.88,2033.4100000000003,1046.5500000000002,2703.99,1768.15,560.11,466.92,9917.19,2194.0,22203.94,17741.23,9393.050000000005,1200.0,446.24,1200.0,350.0,50.0,5953.6900000000005,1460.96,3186.04,5702.1,2217.85,320.11000000000007,5686.91,696.51,350.0,3405.0,3149.2100000000005,2787.5800000000004,3964.2999999999993,11322.6,1655.8,5906.78,314.93999999999994,1684.1799999999998,10324.240000000002,2785.11,900.0,8861.71,1338.12,8838.16,700.0,3231.85,959.87,50.0,3785.98,919.64,2270.0,662.96,686.96,55302.85,18231.1,966.29,742.67,15796.21,1502.9200000000003,236.35,4745.65,3102.8500000000004,750.0,3875.51,5460.200000000001,4870.66,17102.81,1420.0,5169.42,14349.24,7369.86,2050.2,11710.83,6581.799999999999,5048.26,923.87,791.78,6453.5,32165.67,4829.64,1442.71,18498.52,14355.65,1270.0,1811.34,7667.47,4911.029999999999,13211.980000000003,1580.07,1145.41,22794.33,243.5,3875.79,10766.9,30576.75,990.0,6827.42,4839.23,2666.69,100.0,1092.67,27681.789999999997,20634.02,6969.32,8731.5,2299.6,16352.72,6513.790000000004,2135.54,5791.1,1777.47,2037.14,4168.32,5000.0,589.9300000000001,8723.85,640.0,21437.28,366.31000000000006,22609.5,27412.08,2517.58,29110.0,1609.39,5611.0700000000015,1661.21,500.0,931.95,3116.12,9793.85,15187.720000000005,300.0,12061.69,249.8,409.87,405.73,169.9,21259.83,213.82,24774.46,285.74,922.63,3686.24,1056.12,2711.5199999999995,1350.0,1350.0,6000.0,1499.77,7849.66,24415.95,4869.87,6952.09,538.04,1569.07,4309.3,1592.78,2279.35,1500.0,2127.99,124.03,481.89,2750.0,1914.2899999999995,7981.950000000003,719.78,4189.81,14523.38,4687.0,15000.0,11733.66,1760.0,859.86,12402.06,26194.63,8877.0,1354.18,4480.5,50.0,223.83,11764.73,8331.920000000002,16535.22,11391.28,4311.18,9654.26,2774.05,6894.780000000001,14000.0,807.93,7267.33,10822.14,25289.31,1500.0,1098.01,11053.55,5786.839999999999,4900.0,893.97,540.36,125.53,622.35,4504.15,94.42,1386.6,1501.8299999999997,2098.59,750.0,5665.09,11863.37,598.83,1290.94,182.15,3494.47,6758.91,974.33,13958.51,9838.35,1494.6200000000006,178.08,2197.6,50.0,914.49,6368.489999999999,131.51,11341.74,7710.0,4370.8,13586.179999999998,5440.130000000002,600.29,5126.4,4320.0,2380.0,13589.87,7653.77,10608.36,1710.0,2249.5600000000004,10615.49,936.4700000000004,1107.72,3395.1500000000005,1467.71,5189.59,2520.0100000000007,6056.320000000001,2344.82,1658.83,17726.690000000006,536.8800000000002,1890.39,3149.7200000000003,30549.09,351.79999999999995,4882.44,416.7499999999999,316.07,1163.1999999999998,4557.4,20198.15,640.2399999999999,150.0,4800.0,1200.0,25820.62,5891.0,8139.799999999999,3460.0,3704.86,65.52,3765.15,800.0,1329.04,2749.7899999999995,44774.90999999999,441.6600000000001,5107.210000000001,1200.0,1319.83,484.61,2425.24,1444.02,8920.250000000004,2562.08,12025.71,4216.83,970.0,10766.49,14133.63,16044.26,6655.070000000001,451.55,1189.78,778.94,1865.23,5163.02,1079.85,2325.67,262.31,628.8900000000001,13530.0,1400.0,8669.93,1350.0,2969.9,2443.67,832.45,19336.320000000007,696.0699999999999,3190.01,3816.0,324.84,5485.71,2290.0,3144.93,10276.66,2694.8899999999994,1499.64,1249.68,1229.45,3324.86,999.22,3199.36,1271.8,18719.17,780.5699999999999,2300.0,1853.6,2000.78,4199.42,520.28,500.0,23003.559999999998,3255.59,12710.0,1543.02,1036.23,2080.0,1276.64,433.77,4555.35,8313.0,1030.72,1015.86,1248.42,15948.05,1658.8200000000002,2841.33,1699.7200000000005,786.3,211.88,350.0,10366.02,12846.15,250.0,686.34,1700.0,11035.93,402.75,2741.78,1661.08,596.99,849.54,1440.94,1616.9499999999998,1319.51,16241.87,2499.6900000000005,1231.42,1210.69,7309.89,701.81,4200.0,5777.85,4748.47,11290.4,15268.0,506.7,706.15,3030.0,1592.5400000000002,1341.21,8636.64,1052.1,2271.999999999999,11745.79,2300.0,2708.0,1000.0,2608.15,439.0100000000001,474.7000000000001,584.65,10026.98,944.77,1718.68,5846.18,1380.0,8028.530000000001,560.52,4540.4400000000005,5029.25,36014.28,2099.33,1753.0,7000.0,4398.0,3187.99,10287.49,3201.84,4499.460000000001,3341.51,1147.03,1463.91,29434.61,2271.85,1422.76,188.78,4157.42,5065.47,12729.97,3585.9700000000003,9793.59,1990.87,2679.15,1020.0,902.85,513.26,15265.650000000003,7881.400000000001,1541.8500000000004,12889.089999999997,3577.0,7844.6,1658.12,5717.27,1520.32,5882.11,3583.99,2556.01,9861.45,1657.7600000000002,3063.98,3994.0,1033.21,999.08,13111.72,1660.9,1968.71,2460.12,772.6100000000001,5308.329999999999,2238.69,4757.96,1494.63,21192.29,534.13,2750.0,1486.72,2444.98,1450.0,7522.580000000001,1567.0,363.5400000000001,1114.83,1398.31,1658.06,42659.76,5063.280000000002,1900.89,44999.09,2426.0100000000007,89.23,336.85,10201.53,16646.03,365.6399999999999,5857.539999999999,152.4,1770.0,11621.56,2110.48,8089.540000000001,4778.83,773.24,867.79,1425.02,451.77,11913.750000000004,1868.18,450.0,560.0,12944.009999999998,1261.47,3000.0,7196.639999999999,1449.97,11846.23,900.0,1958.48,2360.0,5262.91,1619.7199999999998,1500.0,2413.35,152.57,159.66,12000.0,660.0,489.8,1803.21,553.57,2539.49,22125.91,3167.4300000000003,1497.79,778.0899999999998,1600.0,3707.91,2702.17,18408.02,1696.6800000000007,900.0,1631.21,18517.38,120.0,1301.7800000000002,14419.330000000004,1200.0,1659.62,87.54,452.78,9508.96,366.55,7349.919999999999,30325.69,21598.35,2137.7200000000003,18111.74,4083.13,7831.04,17838.2,798.2,687.57,1614.21,5134.400000000001,2850.0,1070.3999999999996,7289.98,10557.85,1400.0,10617.910000000002,62.53,2310.16,4146.849999999999,600.93,4105.74,4762.42,1813.08,6403.830000000001,992.0599999999998,2037.15,200.92,400.0,1350.0,1859.27,589.01,152.49,5713.330000000001,15329.43,7933.85,217.0,5828.860000000001,730.68,8466.609999999999,16841.19,1158.34,14534.6,180.72,265.9,1309.48,6160.82,1537.33,11712.53,500.0,999.9,1657.78,2203.72,2400.0,3145.4500000000003,25800.84,15707.999999999998,1845.32,2199.61,14272.16,12912.73,326.43,6720.36,4509.88,2455.56,5093.88,530.0,2719.66,7500.0,33026.7,1129619.33,38443.240000000005,1166.13,15058.859999999991,6710.0,12989.11,2375.0,1005.42,5738.710000000001,11000.0,1118.11,58098.48,3541.5100000000007,1000.0,5988.9,13890.79,2157.28,2209.0,476.06000000000006,155741.40999999997,1660.49,32011.31,1660.36,542.4200000000001,26427.59,12075.41,812.22,6053.31,1660.71,24475.59,2535.0736216276405,558.26,2947.23,56279.91,5999.06,1350.0,240.56,3889.12,600.0,1912.6,1546.26,2849.34,15934.93,2193.91,21194.22,2150.0,2205.9400000000005,132.94,4603.86,1263.0500000000002,6486.91,500.0,4284.000000000001,1306.78,3658.95,1135.8,454.26,6113.17,249.93,5413.66,850.0,242.5,365.6399999999999,3649.02,2027.92,1075.82,310.66,500.0,1050.0,790.12,398.76,7399.72,689.62,1915.98,701.95,5010.240000000001,2790.0,9775.850000000002,1677.0900000000004,546.62,2449.99,3341.64,2410.0,3674.94,15000.0,350.0,2608.42,4436.06,5159.17,20297.95,2591.06,12374.710000000005,2100.0,1000.0,1490.0,38.4,29549.2,8305.669999999998,2838.51,2298.9700000000003,604.21,882.17,992.22,2305.03,1094.1,1326.02,1200.0,3564.1000000000004,171.2,350.0,919.33,7896.079999999999,5721.629999999999,19560.17,127.37,499.52,920.0,3011.46,2786.8899999999994,4441.97,1200.0,50.0,2101.16,1200.0,1640.16,17299.990000000005,2406.85,807.86,7906.32,6000.27,1077.73,24067.02,1659.9900000000002,750.0,2487.13,21649.75,632.8900000000001,8329.59,1894.65,1549.44,1400.0,6875.0,192.61,2159.08,4598.73,132.92,3660.21,25879.82,3498.23,1000.0,1216.36,363.53,2717.5200000000004,9414.19,305.23,14780.41,11785.259999999998,13930.0,30045.640000000003,699.4599999999999,9345.24,3826.16,1374.18,11730.05,2750.0,1326.0,1658.85,199.64,49139.990000000005,624.51,1531.77,20254.55,2778.84,2728.69,3540.6500000000005,430.81,550.0,3310.989999999999,9654.760000000004,5998.1900000000005,4529.93,6186.3,405.19000000000005,1340.73,2010.0,12129.87,479.24,4335.7,2930.59,910.0,400.0,1558.76,427.51,1660.0,2068.7000000000003,6647.060000000001,450.0,38552.24,400.38,967.32,1979.48,22517.03,2155.28,1629.45,5233.950000000001,11212.37,969.35,832.68,723.9200000000001,5359.67,10319.91,1666.0,499.98,739.49,447.04,1656.27,2770.0,650.0,631.74,310.0,500.0,3947.72,4000.0,1585.14,1132.63,878.3399999999999,783.3700000000001,1725.46,1350.0,1400.0,912.89,2905.7700000000004,681.42,1200.0,604.3100000000001,664.34,1858.99,19456.11,24705.09,8782.439999999995,861.56,1660.81,9998.75,7788.9,498.39,771.56,5163.98,500.0,13944.04,2573.04,1898.81,7280.239999999998,1810.0,1549.5099999999998,850.0,416.8200000000001,4222.780000000001,4138.92,904.7400000000002,13781.94,4504.72,27949.96,498.49,3664.42,2930.78,1350.0,1000.0,5664.5099999999975,559.87,660.45,3467.69,8606.93,392.18,900.0,2821.0,1300.32,4664.46,150.0,125.27,639.89,22089.740000000005,4019.21,12539.73,6006.51,990.0,3650.97,14162.2,857.8,2712.69,2541.4800000000005,6067.06,4500.0,899.1800000000001,712.72,24293.240000000005,7098.040000000001,5051.710000000001,11485.77,1350.68,9038.97,12592.13,1679.81,19868.29,4317.89,5203.0,3309.35,19914.46,7798.88,11917.6,11114.97,311.28,5403.97,850.0,6871.73,1202.19,679.61,1974.82,14286.74,1658.69,4197.709999999998,2835.4,987.89,1349.16,1248.4299999999998,500.0,1300.0,191.1,32661.110000000004,1121.61,1324.91,1362.67,1819.48,1697.62,2861.16,2450.0,891.76,1182.9,4800.0,5072.530000000001,1538.8,1694.94,2485.6599999999994,2574.06,4400.78,2330.28,1215.18,568.7500000000002,1200.0,13799.250000000002,1658.42,488.82,2497.0,6452.75,3773.12,396.75,2091.5900000000006,461.86,17794.48,3358.88,4870.37,1757.99,2271.72,1213.37,1760.83,18525.77,2001.09,799.4300000000001,4578.75,737.0699999999999,477.39,2486.36,775.0,149.64,800.15,6020.0,19575.97,1200.0,22766.06,400.0,1283.8200000000002,5899.129999999999,20619.89,275.78,20481.69,295.89,16128.500000000004,1776.2,7521.329999999997,1504.14,1671.7099999999998,10309.98,700.0,1549.34,310.44,3003.79,3986.019999999999,4908.88,1450.0,2374.16,8663.66,4862.679999999999,150.0,363.09,1731.86,109.74,14990.26,5277.870000000001,1039.26,879.36,17695.47,733.4299999999998,1760.04,4571.48,12836.3,782.73,10760.13,1555.58,5372.399999999999,2319.31,5548.8,2150.0,21715.58,353.37,1778.4500000000005,3952.2,3662.6600000000008,3908.55,5671.92,2825.08,4142.839999999999,21216.68,152.0,399.27,1684.46,28179.620000000003,1207.17,4861.62,20079.8,60.0,1436.19,6086.1900000000005,2743.4500000000003,950.0,5116.229999999999,803.93,20699.29,14142.21,486.83,661.49,1600.0,149.38,2151.26,1130.89,3200.0,703.22,5505.72,5546.11,8958.22,1050.0,9658.81,3976.84,3346.1000000000004,358.68,3212.01,5072.639999999999,1146.74,16010.740000000002,227.1,34499.06,4280.0,724.0399999999998,3482.73,5166.81,3767.749999999999,21779.09,1660.78,850.0,8775.22,18555.76,909.69,1835.0,34294.59,28996.58,1660.22,3588.420000000001,22343.29,11030.05,8187.670000000001,1658.83,2446.76,559.8000000000001,350.0,3297.24,4820.06,176.41,5265.91,22201.0,3640.56,1574.27,1453.95,1660.96,27955.12,1657.9199999999998,29999.349999999995,3044.4999999999995,13719.42,6283.0,699.69,972.61,6832.12,2854.07,842.4100000000001,5846.080000000002,1890.77,1252.35,310.7799999999999,18600.0,1668.7800000000002,4204.21,565.6399999999999,400.0,790.44,1053.98,215.76,851.51,21992.29,3950.91,4788.13,31484.6,4000.0,2281.59,6289.89,1380.1,1159.68,28796.63,12120.33,14038.43,6272.41,1414.33,1479.2099999999996,7474.03,2023.96,2869.04,3382.7,5864.139999999999,923.17,12930.660000000002,22450.89,817.7100000000003,2400.0,24221.7,1200.0,422.2,7543.480000000001,61540.82999999999,1655.72,662.06,107.69,4367.66,1045.82,3012.0,44797.05000000002,2800.0,1000.0,3661.67,18340.37,26458.960000000003,60.0,5419.99,6049.099999999999,9516.72,14606.05,7607.67,49869.8,2553.72,6150.7,2369.6,4019.85,100.0,100.0,2082.7,604.91,446.59,1163.35,8961.5,1948.34,1657.36,5451.81,3270.2,5585.98,3462.74,7267.31,15664.26,6897.539999999999,2519.59,179.82999999999998,2222.55,735.03,1657.19,35857.03,4085.58,1008.61,2099.08,17357.55,11275.57,2550.0,21729.91,961.39,6338.36,885.4399999999999,17492.83,25037.87,2806.3,1.0,1940.0,498.45,3968.25,823.39,2765.84,1399.78,24749.76,276.29,2800.0,9922.49,562.2900000000001,851.9,450.0,1232.36,588.2700000000001,13000.81,24298.880000000005,2305.35,8482.000000000002,560.0,2111.72,178.29,9205.24,500.0,1188.23,2079.05,1200.0,950.0,1410.0,1281.34,5034.8,2519.55,1040.66,5233.16,6050.69,50.0,5200.55,4606.299999999999,3771.060000000001,550.0,3500.0,1025.27,763.84,13599.91,6532.139999999999,7250.03,41401.9,41228.96000000001,4499.06,10049.37,2565.77,13983.08,19922.76,450.0,5035.08,1752.9,1559.2,922.72,3871.08,7179.469999999999,9868.73,1310.0,17348.65,406.18,15801.149999999996,2170.0,7483.52,2520.0,727.32,1666.0,8127.370000000001,3493.3500000000004,5334.749999999998,580.0,2482.22,1891.82,2028.37,1150.0,1528.7600000000002,2089.94,1798.8799999999997,16386.22,3918.68,4576.29,6480.0,3200.0,16038.14,7494.200000000001,817.25,111.08,1590.98,6116.56,532.03,356.99,12766.98,2310.9,11827.95,3213.54,7684.039999999999,18332.83,8000.129999999999,890.29,700.0,2377.47,1030.0,526.57,1692.9700000000005,24898.820000000003,6953.51,299.6,3313.83,721.75,50.0,4241.31,145.7,7219.08,9008.8,2638.92,1529.06,14810.66,26.74,1565.91,17030.43,852.38,8407.5,1697.68,16660.18,17311.43,350.0,4552.4400000000005,1659.3,4044.8,2679.74,199.66,1264.739999999999,1699.7099999999998,1110.0,4110.0,298.6,22814.80000000001,1249.99,117.64,2051.2,480.0,1000.0,985.6,510.0,1163.41,3755.27,60.0,5738.049999999999,5996.86,9937.48,1232.19,5208.09,850.0,2055.4,149.02,2000.0,1388.87,1354.91,598.5,5399.32,6144.2,3291.15,4289.94,8758.560000000001,18940.88,5669.58,3332.55,7627.43,25844.73,31113.9,763.28,1173.51,9808.74,152.55999999999997,383.5,836.39,7742.55,27080.91,50.0,25751.13,850.1800000000001,5614.050000000001,3667.91,4379.54,3340.49,9296.28,8895.27,979.56,3050.0,1657.99,1588.65,18222.79,850.0,371.07,19685.24,2499.25,1786.11,2480.6399999999994,916.69,1564.13,467.84,16615.14,6201.37,2075.63,874.2999999999998,2300.0,4628.49,4109.82,350.0,7383.17,3672.13,7620.799999999999,8364.22,2826.1699999999987,15759.55,150.0,5000.0,5553.71,1732.7600000000002,6154.830000000001,3031.9,350.0,1730.11,1424.43,11495.499999999996,14031.0,11578.06,365.73,10163.340000000002,710.3300000000002,21889.53,382.99,3080.1200000000003,1392.98,9777.96,967.2,1200.0,325.82,999.21,899.76,1620.33,10335.15,2479.41,280.0,2332.36,9945.759999999997,1657.49,171960.92,361.3299999999999,9996.93,6173.0,2100.0,9179.72,20000.0,841.68,2224.07,20847.56,3301.35,373.51,1903.07,1760.0,2601.0,13096.1,4962.569999999999,517.03,640.0,11230.94,2196.21,7771.5,19949.97,463.64,27177.06,225.5,1037.56,1237.7400000000002,1877.87,4399.93,16908.129999999997,8536.12,1785.0,680.0,2202.6000000000004,11786.31,17061.9,1200.98,847.2,5261.629999999999,1603.14,19191.770000000004,1200.26,4824.52,576.71,2249.96,1657.97,5740.0,7920.75,4825.94,524.61,684.21,7981.710000000001,6681.54,527.48,1670.0,7022.54,856.8399999999999,60.0,10885.34,17459.730000000003,1000.0,3783.45,1209.85,2504.07,1258.25,2535.87,6476.21,9343.3,6964.37,1.0,3127.46,5344.839999999998,580.34,6551.669999999999,491.68,5190.0,6032.23,438.94000000000005,8650.45,2995.47,553.79,402.83,18169.67,17999.11,1800.8900000000006,410.0,30470.53000000001,4357.74,116121.46,6821.22,1760.44,14080.0,1474.9,2129.25,1594.47,3110.98,40973.27,7732.83,5204.21,3482.67,2864.11,1700.0,9101.280000000002,1658.33,409.99,1675.75,13633.639999999996,782.55,20682.36,280.0,350.0,15913.72,8233.469999999998,285.98,2988.94,1373.25,6466.950000000001,1000.0,2902.8300000000004,2510.0,90.07,5270.4400000000005,1434.05,971.74,432.13,1206.77,299.91,1800.0,1200.0,4941.54,1003.62,10426.8,50.0,1755.12,8743.269999999999,1200.0,18307.36,1290.1999999999998,300.0,2190.87,900.0,4325.660000000001,1032.53,1387.7199999999998,1388.69,5665.449999999995,7000.0,341.5,405.4,1964.8,2560.0,26162.52,650.496732891907,14456.010000000002,1390.5600000000004,3922.07,915.7599999999998,9429.98,2633.23,6754.25,5370.9400000000005,400.0,367.45,914.83,5269.41,7270.009999999999,10528.54,3569.46,1659.77,2026.12,922.72,6104.83,1280.0,170.61,2108.66,964.68,694.5799999999999,50.0,7753.38,477.97,13156.660000000002,1599.5800000000002,48400.95,2125.54,3100.0,2909.6,643.8900000000001,12526.240000000002,8316.51,753.5000000000002,660.0,24640.0,917.95,14754.440000000002,363.2,33900.0,3191.08,5650.850000000002,2043.68,2899.48,550.0,5048.61,723.17,15898.23,1150.0,29096.91,9412.8,2022.75,25550.0,12756.01,2285.57,1330.43,11412.79,10602.930000000006,300.47,1793.62,5204.850000000001,15134.39,2646.57,3502.6,9783.11,4320.81,1119.82,3623.72,6704.220000000002,2309.500000000001,5944.81,1528.94,14010.42,4678.530000000001,3499.1900000000005,3244.61,499.54,208.51,13299.41,60.52,2181.89,3974.03,1070.87,931.92,5119.47,4088.0,4836.419999999999,3329.24,2316.45,2371.7,400.0,3199.65,2776.91,7480.0,2230.13,18165.49,2500.0,1242.72,156.63,2300.0,9029.07,3073.8,109649.65,687.01,1889.3,9881.86,19669.49,1401.19,2080.0,3505.9,681.5400000000001,5307.95,1749.98,365.11,454.36,2951.45,150.4,2130.0,3189.95,643.01,22329.36,1507.46,30.36,1000.0,13459.62,5727.49,932.63,415.08,805.9300000000002,350.0,12015.45,1645.8299999999997,18970.62,11097.03,653.28,890.0,1219.37,400.0,874.4300000000001,2999.58,1715.57,934.16,1302.69,3715.6600000000008,14085.839999999998,5898.399999999998,1042.07,1605.28,26.83,70280.31,10431.95,72.18,6096.18,4823.05,2441.170000000001,435.35,12910.0,7386.340000000001,1661.24,567.4,1632.58,1317.78,6639.05,2018.75,3161.69,2799.69,4042.459999999999,1370.46,6259.849999999999,2007.7,4033.5,183.0,12694.32,4877.320000000001,2410.0,2527.12,3293.8900000000003,1850.63,2185.3400000000006,879.6600000000001,17153.09,5934.84,14037.49,10030.95,12190.62,928.27,3149.4500000000003,2159.15,11689.03,522.1100000000001,803.1800000000001,5400.0,35121.86,1000.0,184.72,340.16,1830.94,3290.0,11697.22,900.0,2888.58,1753.67,1322.2499999999998,7760.0,4443.65,505.1,1000.0,13000.0,9338.19,7085.619999999999,712.32,10649.02,1000.0,16685.71,11863.36,1275.03,642.4100000000001,10365.94,350.0,450.0,1200.0,166.92000000000002,746.92,963.56,8470.31,114.3,14192.69,653.9,1158.61,2395.98,784.31,24811.09,394.4800000000001,2809.7,928.24,1612.86,2743.709999999999,571.57,5287.98,763.69,1195.67,2306.95,3792.7,28358.35,649.12,449.59,400.0,75.37,950.0,1488.88,6123.520000000001,57055.08,389.48,2236.5400000000004,10144.13,1821.42,4229.27,441.06,9748.99,5715.42,299.63,951.81,10396.36,1698.24,1190.02,30655.2,6769.080000000001,27144.71,3946.51,693.4,1170.16,150.0,661.3299999999999,11848.52,325.96,11275.11,595.93,525.63,20700.0,3701.65,2895.52,1558.7399999999996,5065.9000000000015,3369.29,1350.0,2263.5899999999992,5529.219999999999,14794.970000000005,1200.0,10460.4,5240.0,5242.51,1589.06,11200.0,1684.82,91.98,1350.0,5043.51,1230.0,1666.0,1539.4800000000002,5493.48,550.0,2149.5,7926.35,2741.8300000000004,15101.080000000002,483.11,22130.49,3100.29,1243.57,13929.69,475.2899999999999,348.83,245.06,42562.27,1606.22,2501.35,60.0,2873.36,2082.82,666.37,872.01,27199.960000000003,4121.639999999999,1657.39,15399.48,4247.31,411.0,3629.31,1909.46,405.7699999999999,7584.4,4885.149999999998,1173.17,1048.48,22330.01,4089.28,382.09,8439.659999999998,3486.09,431.62,14459.98,1862.24,6157.98,1000.0,9719.63,3132.48,4762.35,529.13,2978.63,5888.839999999999,20197.76,3954.36,2170.0,3051.94,13415.96,400.0,11195.72,19860.0,2211.13,1794.14,2455.7299999999987,5867.85,746.24,1660.76,10302.13,16159.47,2541.0300000000007,7432.97,7741.73,1246.63,1588.76,17965.2,1350.31,21450.390000000003,1289.9299999999998,4761.32,3388.27,541.86,5992.300000000001,303.73,2090.66,8362.61,8908.389999999998,178.98000000000002,4363.16,1520.73,1789.8,1699.66,1233.44,5420.290000000001,1253.99,1265.2,2072.31,3852.83,19869.43,150.0,771.37,7782.24,3127.49,850.0,1149.8,3720.0,6963.15,1300.0,1260.68,17195.600000000002,32970.02,1520.98,9898.73,1368.55,3226.5099999999998,3399.37,1293.62,13022.530000000002,7116.77,154.36,3232.99,5975.950000000001,14.2,8134.219999999999,3021.16,3427.64,1656.35,12617.25,9899.45,18372.11,18371.55,470.66,5061.53,13270.65,5140.529999999999,7343.56,2400.4500000000003,19810.0,670.0,4235.33,192.57,1799.48,1744.09,850.0,6930.0,1149.9599999999998,18802.68,45448.029999999984,519.11,1294.06,15464.25,635.3900000000001,26648.31,1462.91,5500.0,811.9,2738.7899999999995,2040.0,5437.79,117.49,850.0,7199.44,539.97,2213.6800000000003,8005.9500000000035,4706.65,3912.39,795.26,808.3399999999999,5378.360000000001,2070.0,6091.67,328.6300000000001,1458.61,875.96,8285.909999999996,2832.68,1500.0,25.86,1440.1399999999996,7059.989999999999,7452.249999999999,795.2,4949.01,437.77,6327.33,329.79,2535.13,20844.16,7518.25,275.02,4243.64,2935.540000000001,835.38,1864.38,20491.72,920.55,1172.86,593.71,1343.97,2557.51,5054.41,1700.0,500.0,6688.0,600.0,11389.6,7409.62,899.78,781.91,1487.08,720.0,3020.11,761.23,323.15,13050.599999999997,3035.44,5704.06,2419.65,3363.51,973.72,1567.0,4195.44,1000.0,886.28,216.83,1990.29,16190.51,11876.4,1388.06,14996.48,566.65,1170.0,861.03,100.0,3645.47,1096.85,2353.98,4305.8,9259.77,2222.27,2548.19,2278.56,3616.23,1410.8300000000002,1664.79,1131.39,2657.0,4694.78,6942.590000000002,1721.1099999999994,98.9,15738.4,5545.81,2117.91,698.07,1792.75,181.79,337.76,940.0,2666.2200000000003,3300.0,2432.35,1658.79,4636.93,5879.5,1753.65,3073.8,1820.0,474.56,1191.4499999999998,12995.97,1442.14,3157.7100000000005,12935.24,3028.17,795.47,6019.049999999999,5526.540000000001,422.1,21353.11,1655.35,3502.39,4199.9,37769.77,5265.63,840.3100000000001,293.0,24887.91,1660.06,15010.0,881.27,1536.08,153.85,1229.1799999999998,7762.1,15404.29,153.70000000000002,1809.99,1657.44,3849.2199999999993,1953.13,4536.22,400.0,5870.0,1199.71,500.0,7258.2,11721.020000000002,3419.7200000000003,2780.0,281.86,22157.99,22531.43,3675.0,2093.43,3750.93,3957.31,1529.06,29409.55,3065.1,1599.5700000000002,784.91,3638.89,6022.790000000001,1020.2,7487.039999999998,1463.0,2250.0,3938.48,799.6899999999999,5179.78,6416.34,12279.239999999996,2132.0,152.5,1660.38,451.33,30295.31,12407.19,11780.999999999998,640.0,384.43,3381.06,1113.53,21420.88,13100.16,4684.57,3919.63,864.09,38027.03,7772.019999999999,2965.87,847.4000000000001,499.2,1789.15,4818.55,3965.98,5232.12,187.38,135.18,3477.06,7801.2,4807.83,2226.7,14856.579999999998,23048.95,3308.79,489.75,1000.0,4099.48,1854.79,1659.91,121.45,4136.29,36059.05,3400.0,9002.0,273.22,4838.83,850.0,743.46,2399.67,993.02,12320.18,13797.89,63.92,11313.95,450.0,350.0,10606.290000000005,3903.0,12120.63,5266.84,1781.4,1656.2099999999998,965.37,1200.0,1260.0,3100.0,13550.31,3993.53,576.93,2113.63,7916.210000000001,793.42,525.51,19884.97,4113.18,13775.980000000003,600.0,700.0,857.29,10097.68,4308.52,869.99,1200.0,3971.1,81.33,392.91,3251.2300000000005,4658.370000000001,6107.179999999999,1357.0,21331.52,1000.0,633.5799999999999,130.51,24750.0,4311.95,8495.41,11358.07,599.41,6203.57,14048.84,2454.87,5837.76,16749.909999999996,341.5,1109.41,10897.310000000003,72969.12,366.83,2963.83,749.01,19895.18,59.78,4841.01,683.44,7710.889999999999,700.0,59.37,4800.0,19200.78,2850.4400000000005,1659.01,1779.07,2652.27,7932.81,955.35,5343.900000000001,1724.7800000000002,1000.0,5506.530000000001,14327.44,1740.0,3329.95,395.29,357.8,161.06,9052.5,4301.63,750.0,835.45,1968.15,3959.15,1700.0,12207.48,17012.94,587.3800000000001,1020.84,700.0,1658.91,6434.719999999999,487.7,2143.23,52676.83,1576.4699999999998,222.56,3895.16,614.92,4159.740000000001,31387.250000000004,774.19,5364.120000000001,452.1400000000001,1002.36,1350.0,5333.460000000001,4321.47,3364.32,2082.6799999999994,6168.740000000001,749.39,5280.0,4151.360000000001,4237.65,14800.0,200.0,779.45,17224.09,736.0699999999999,87495.03,14642.0,5340.98,500.0,2377.96,8988.76,11077.46,2128.2200000000003,6720.0,6921.44,2450.54,2779.33,9361.59,2072.74,5577.589999999998,53.78,5728.37,365.11,1113.5100000000002,1342.14,2537.84,6297.2300000000005,12338.87,5069.71,5459.12,1496.69,37975.23,15495.51,5222.35,415.93,700.0,1374.34,6866.52,2569.4700000000003,1642.4,3440.57,1065.48,1004.19,4609.71,223.57,672.65,3327.15,50.0,1072.97,422.46,457.55,471.98,4663.76,2582.23,363.8299999999999,700.0,13860.61,6768.409999999999,10055.71,24793.42,2462.88,4320.0,1199.92,22395.64,838.23,1844.0299999999995,6879.62,2067.24,3312.32,945.0,2833.65,1658.02,2534.28,324.12,1658.38,1200.0,2280.0,6365.0,699.17,4802.56,6375.31,1657.32,2517.87,1751.3,6575.95,342.48,10921.07,35408.28,2870.0,1650.0,745.2799999999999,1350.0,1658.34,1181.27,1363.46,859.12,1036.76,1735.7,30698.32,1568.27,5975.38,1950.0,400.0,9136.95,350.0,2262.8900000000003,105.98,610.43,10818.849999999997,1662.32,36828.11,1821.55,31619.43,8684.2,15814.750000000002,99.0,13275.02,4133.87,6059.54,152.77,1350.0,1050.0,643.29,500.0,12899.2,1576.99,350.0,3859.0,27.83,1185.68,3472.81,559.01,29140.0,1882.52,1069.38,16792.72,219.38,6759.729999999999,4520.98,1089.23,1620.0,4213.61,3176.11,30784.31,1900.0,532.73,827.14,18388.89,1200.0,4032.57,13601.04,51.71,3588.75,291.8,1222.54,6088.95,20676.29,34057.57378458152,6161.610000000001,15788.77,4834.18,1000.0,10750.11,2216.85,4889.849999999999,89.14999999999999,5552.0,5848.59,11178.89,8307.64,1393.960000000001,1214.49,8363.44,2439.47,14120.21,1635.8,9098.66,1414.85,0.09,1536.9,8302.75,612.51,28171.19,3738.6,92.81,48.33,2159.8,1742.98,87013.74,2357.8700000000003,12287.280000000004,804.8199999999999,1200.0,3514.5,1146.9400000000005,149.94,10019.47,500.0,2081.14,13289.73,500.0,849.82,2604.53,12152.22,2999.3100000000004,2752.33,1938.39,1279.3499999999997,28206.99,16529.51,6201.0,11317.600000000002,580.38,7585.070000000001,6565.78,1379.2,5609.580000000002,2428.93,8860.42,8283.06,7969.48,6231.390000000001,2943.99,2133.58,3120.1599999999994,17181.039999999997,550.64,220.85,12905.28,7184.55,491.36000000000007,1699.78,509.51,3598.78,481.89,104.24,152.26999999999998,32145.44,853.52,593.4,1360.0,5027.86,3003.649999999999,2292.12,843.1899999999998,3942.99,6428.999999999998,2055.87,371.72,325.31,20118.13,163.44,1200.0,13117.060000000003,4136.85,625.75,6031.870000000002,2010.61,199.37,1699.5,782.0900000000001,2960.829999999999,2536.25,1580.0,240.3,5170.0,3190.63,1278.81,9271.27,860.0,520.52,249.66,8145.219999999999,3275.0,8561.29,5369.83,4609.98,1220.0,23830.65,1660.9,99.59,4695.32,3712.9500000000007,3757.47,14394.619999999995,1564.64,10739.570000000002,5385.200000000001,9346.23,1199.92,25666.15,14416.24,677.71,1753.11,2280.0,5927.06,732.21,1661.4499999999998,10684.049999999996,375.0,1150.44,2027.56,777.07,3210.0700000000006,2040.59,3772.0,2089.7,362.23,212.25,679.0799999999999,4059.66,1115.52,2369.06,1574.46,2574.23,1063.03,500.0,5020.0,626.53,350.0,7801.709999999999,2667.43,1658.81,165.8,2580.0,3296.23,1615.9600000000005,1061.56,400.0,5530.0,3449.75,2801.5900000000006,1271.0400000000002,12649.26,750.0,90.8,15067.89,2141.5,3632.2800000000007,750.0,384.99,11085.900000000003,557.73,3625.48,1020.42,3767.170000000001,46058.81,350.0,18721.55,870.75,358.5,5560.0,1705.7500000000005,2526.74,517.2,1590.0,14551.8,15399.91,450.0,1481.0899999999997,2779.86,4390.92,2650.189999999999,147.97,1091.12,10716.05,213.65,350.0,1542.73,19098.04,2726.45,557.2200000000001,11581.639999999998,360.89,8381.98,731.53,87.27,2412.2000000000003,14769.7,3599.1,449.34,34500.0,14359.980000000003,1659.79,16531.059999999998,832.82,25841.46,6000.0,4730.34,22036.7,1036.96,1000.0,1080.13,3478.5700000000006,923.6899999999998,10725.0,15086.419999999998,15576.99,862.48,839.31,1.08,3967.28,150.08,750.0,1399.24,38237.93,49.3,5795.39,1540.0,28106.050000000003,514.7600000000001,11915.110000000002,42364.07,2287.41,860.39,4316.8,7319.080000000001,2290.0,4988.330000000001,3899.95,1609.4199999999998,3525.25,4298.61,1655.99,459.3099999999999,3810.0,4174.390000000001,6639.349999999997,350.0,595.79,1798.49,16424.940000000002,805.41,6953.799999999999,629.48,30689.81,711.29,5379.54,2750.0,254.24,550.0,4811.2,9292.710000000005,1666.0,135.54,999.61,4936.52,1754.19,4210.0,7859.700000000002,14.22,1309.04,3234.62,1600.0,133.03000000000003,11505.97,5176.64,7496.790000000001,3194.72,3217.34,3200.0,729.35,3423.5400000000004,649.82,660.0,2250.0,1983.64,54662.02,5278.410000000001,1988.02,462.2100000000001,6379.799999999999,182.49,611.16,18452.63,12523.930000000002,7814.08,317.87000000000006,1385.63,850.0,1113.6300000000006,4750.0,20457.870000000003,1751.76,1396.88,2945.4,1809.03,11108.65,1460.0,16818.11,1342.11,5714.15,701.53,8250.0,935.79,77200.76999999999,1300.0,1023.94,1687.46,1656.72,4373.81,1899.25,5864.390000000003,1270.64,14496.799999999996,25918.730000000003,2430.64,9449.79,2527.4700000000003,6076.17,65.39,113732.03,3838.71,4980.95,1500.0,21200.0,2277.4,15299.06,8076.939999999999,550.0,1000.0,1400.0,12436.33,179.26000000000002,18859.62,4488.8,1658.46,2190.0,1400.0,2987.04,1049.1799999999998,361.91,10678.750000000002,12904.71,15906.49,5758.110000000001,566.1600000000001,5970.0,7544.719999999999,55.0,1050.0,1146.25,50.0,14558.64,1507.9600000000005,700.0,25997.8,8549.45,4102.73,10418.12,1393.0,4572.76,6664.65,100.0,86089.92,1300.22,8760.56,8448.04,15860.549999999994,3541.61,964.37,3013.449999999998,56401.47,174.22,374.31,49340.07,2445.03,152.52,302.95,2100.0,10636.38,575.79,5779.79,550.5999999999999,1732.2200000000005,5670.61,4142.34,1950.4299999999996,1500.0,400.0,1600.0,3881.46,1601.15,60.0,6639.910000000001,650.0,502.92,165.79,199.6,630.14,4522.89,1761.52,1656.46,450.0,26377.26,10845.76,2300.0,26432.84,1009.28,3616.15,7817.28,1300.5400000000002,4057.04,1531.48,1618.5,4207.3,10281.9,2679.63,5301.05,2755.42,1660.35,544.3399999999999,500.0,185.9,6758.830000000001,3200.0,930.0,979.49,1042.66,17468.06,4388.309999999999,2938.04,730.18,19401.93,640.0,152.70999999999998,47208.99,1507.9499999999998,7906.08,7451.76,185.87,7871.334704353385,12116.15,4606.3,213.64],\"yaxis\":\"y\",\"type\":\"scattergl\"}],                        {\"template\":{\"data\":{\"bar\":[{\"error_x\":{\"color\":\"#2a3f5f\"},\"error_y\":{\"color\":\"#2a3f5f\"},\"marker\":{\"line\":{\"color\":\"#E5ECF6\",\"width\":0.5},\"pattern\":{\"fillmode\":\"overlay\",\"size\":10,\"solidity\":0.2}},\"type\":\"bar\"}],\"barpolar\":[{\"marker\":{\"line\":{\"color\":\"#E5ECF6\",\"width\":0.5},\"pattern\":{\"fillmode\":\"overlay\",\"size\":10,\"solidity\":0.2}},\"type\":\"barpolar\"}],\"carpet\":[{\"aaxis\":{\"endlinecolor\":\"#2a3f5f\",\"gridcolor\":\"white\",\"linecolor\":\"white\",\"minorgridcolor\":\"white\",\"startlinecolor\":\"#2a3f5f\"},\"baxis\":{\"endlinecolor\":\"#2a3f5f\",\"gridcolor\":\"white\",\"linecolor\":\"white\",\"minorgridcolor\":\"white\",\"startlinecolor\":\"#2a3f5f\"},\"type\":\"carpet\"}],\"choropleth\":[{\"colorbar\":{\"outlinewidth\":0,\"ticks\":\"\"},\"type\":\"choropleth\"}],\"contour\":[{\"colorbar\":{\"outlinewidth\":0,\"ticks\":\"\"},\"colorscale\":[[0.0,\"#0d0887\"],[0.1111111111111111,\"#46039f\"],[0.2222222222222222,\"#7201a8\"],[0.3333333333333333,\"#9c179e\"],[0.4444444444444444,\"#bd3786\"],[0.5555555555555556,\"#d8576b\"],[0.6666666666666666,\"#ed7953\"],[0.7777777777777778,\"#fb9f3a\"],[0.8888888888888888,\"#fdca26\"],[1.0,\"#f0f921\"]],\"type\":\"contour\"}],\"contourcarpet\":[{\"colorbar\":{\"outlinewidth\":0,\"ticks\":\"\"},\"type\":\"contourcarpet\"}],\"heatmap\":[{\"colorbar\":{\"outlinewidth\":0,\"ticks\":\"\"},\"colorscale\":[[0.0,\"#0d0887\"],[0.1111111111111111,\"#46039f\"],[0.2222222222222222,\"#7201a8\"],[0.3333333333333333,\"#9c179e\"],[0.4444444444444444,\"#bd3786\"],[0.5555555555555556,\"#d8576b\"],[0.6666666666666666,\"#ed7953\"],[0.7777777777777778,\"#fb9f3a\"],[0.8888888888888888,\"#fdca26\"],[1.0,\"#f0f921\"]],\"type\":\"heatmap\"}],\"heatmapgl\":[{\"colorbar\":{\"outlinewidth\":0,\"ticks\":\"\"},\"colorscale\":[[0.0,\"#0d0887\"],[0.1111111111111111,\"#46039f\"],[0.2222222222222222,\"#7201a8\"],[0.3333333333333333,\"#9c179e\"],[0.4444444444444444,\"#bd3786\"],[0.5555555555555556,\"#d8576b\"],[0.6666666666666666,\"#ed7953\"],[0.7777777777777778,\"#fb9f3a\"],[0.8888888888888888,\"#fdca26\"],[1.0,\"#f0f921\"]],\"type\":\"heatmapgl\"}],\"histogram\":[{\"marker\":{\"pattern\":{\"fillmode\":\"overlay\",\"size\":10,\"solidity\":0.2}},\"type\":\"histogram\"}],\"histogram2d\":[{\"colorbar\":{\"outlinewidth\":0,\"ticks\":\"\"},\"colorscale\":[[0.0,\"#0d0887\"],[0.1111111111111111,\"#46039f\"],[0.2222222222222222,\"#7201a8\"],[0.3333333333333333,\"#9c179e\"],[0.4444444444444444,\"#bd3786\"],[0.5555555555555556,\"#d8576b\"],[0.6666666666666666,\"#ed7953\"],[0.7777777777777778,\"#fb9f3a\"],[0.8888888888888888,\"#fdca26\"],[1.0,\"#f0f921\"]],\"type\":\"histogram2d\"}],\"histogram2dcontour\":[{\"colorbar\":{\"outlinewidth\":0,\"ticks\":\"\"},\"colorscale\":[[0.0,\"#0d0887\"],[0.1111111111111111,\"#46039f\"],[0.2222222222222222,\"#7201a8\"],[0.3333333333333333,\"#9c179e\"],[0.4444444444444444,\"#bd3786\"],[0.5555555555555556,\"#d8576b\"],[0.6666666666666666,\"#ed7953\"],[0.7777777777777778,\"#fb9f3a\"],[0.8888888888888888,\"#fdca26\"],[1.0,\"#f0f921\"]],\"type\":\"histogram2dcontour\"}],\"mesh3d\":[{\"colorbar\":{\"outlinewidth\":0,\"ticks\":\"\"},\"type\":\"mesh3d\"}],\"parcoords\":[{\"line\":{\"colorbar\":{\"outlinewidth\":0,\"ticks\":\"\"}},\"type\":\"parcoords\"}],\"pie\":[{\"automargin\":true,\"type\":\"pie\"}],\"scatter\":[{\"marker\":{\"colorbar\":{\"outlinewidth\":0,\"ticks\":\"\"}},\"type\":\"scatter\"}],\"scatter3d\":[{\"line\":{\"colorbar\":{\"outlinewidth\":0,\"ticks\":\"\"}},\"marker\":{\"colorbar\":{\"outlinewidth\":0,\"ticks\":\"\"}},\"type\":\"scatter3d\"}],\"scattercarpet\":[{\"marker\":{\"colorbar\":{\"outlinewidth\":0,\"ticks\":\"\"}},\"type\":\"scattercarpet\"}],\"scattergeo\":[{\"marker\":{\"colorbar\":{\"outlinewidth\":0,\"ticks\":\"\"}},\"type\":\"scattergeo\"}],\"scattergl\":[{\"marker\":{\"colorbar\":{\"outlinewidth\":0,\"ticks\":\"\"}},\"type\":\"scattergl\"}],\"scattermapbox\":[{\"marker\":{\"colorbar\":{\"outlinewidth\":0,\"ticks\":\"\"}},\"type\":\"scattermapbox\"}],\"scatterpolar\":[{\"marker\":{\"colorbar\":{\"outlinewidth\":0,\"ticks\":\"\"}},\"type\":\"scatterpolar\"}],\"scatterpolargl\":[{\"marker\":{\"colorbar\":{\"outlinewidth\":0,\"ticks\":\"\"}},\"type\":\"scatterpolargl\"}],\"scatterternary\":[{\"marker\":{\"colorbar\":{\"outlinewidth\":0,\"ticks\":\"\"}},\"type\":\"scatterternary\"}],\"surface\":[{\"colorbar\":{\"outlinewidth\":0,\"ticks\":\"\"},\"colorscale\":[[0.0,\"#0d0887\"],[0.1111111111111111,\"#46039f\"],[0.2222222222222222,\"#7201a8\"],[0.3333333333333333,\"#9c179e\"],[0.4444444444444444,\"#bd3786\"],[0.5555555555555556,\"#d8576b\"],[0.6666666666666666,\"#ed7953\"],[0.7777777777777778,\"#fb9f3a\"],[0.8888888888888888,\"#fdca26\"],[1.0,\"#f0f921\"]],\"type\":\"surface\"}],\"table\":[{\"cells\":{\"fill\":{\"color\":\"#EBF0F8\"},\"line\":{\"color\":\"white\"}},\"header\":{\"fill\":{\"color\":\"#C8D4E3\"},\"line\":{\"color\":\"white\"}},\"type\":\"table\"}]},\"layout\":{\"annotationdefaults\":{\"arrowcolor\":\"#2a3f5f\",\"arrowhead\":0,\"arrowwidth\":1},\"autotypenumbers\":\"strict\",\"coloraxis\":{\"colorbar\":{\"outlinewidth\":0,\"ticks\":\"\"}},\"colorscale\":{\"diverging\":[[0,\"#8e0152\"],[0.1,\"#c51b7d\"],[0.2,\"#de77ae\"],[0.3,\"#f1b6da\"],[0.4,\"#fde0ef\"],[0.5,\"#f7f7f7\"],[0.6,\"#e6f5d0\"],[0.7,\"#b8e186\"],[0.8,\"#7fbc41\"],[0.9,\"#4d9221\"],[1,\"#276419\"]],\"sequential\":[[0.0,\"#0d0887\"],[0.1111111111111111,\"#46039f\"],[0.2222222222222222,\"#7201a8\"],[0.3333333333333333,\"#9c179e\"],[0.4444444444444444,\"#bd3786\"],[0.5555555555555556,\"#d8576b\"],[0.6666666666666666,\"#ed7953\"],[0.7777777777777778,\"#fb9f3a\"],[0.8888888888888888,\"#fdca26\"],[1.0,\"#f0f921\"]],\"sequentialminus\":[[0.0,\"#0d0887\"],[0.1111111111111111,\"#46039f\"],[0.2222222222222222,\"#7201a8\"],[0.3333333333333333,\"#9c179e\"],[0.4444444444444444,\"#bd3786\"],[0.5555555555555556,\"#d8576b\"],[0.6666666666666666,\"#ed7953\"],[0.7777777777777778,\"#fb9f3a\"],[0.8888888888888888,\"#fdca26\"],[1.0,\"#f0f921\"]]},\"colorway\":[\"#636efa\",\"#EF553B\",\"#00cc96\",\"#ab63fa\",\"#FFA15A\",\"#19d3f3\",\"#FF6692\",\"#B6E880\",\"#FF97FF\",\"#FECB52\"],\"font\":{\"color\":\"#2a3f5f\"},\"geo\":{\"bgcolor\":\"white\",\"lakecolor\":\"white\",\"landcolor\":\"#E5ECF6\",\"showlakes\":true,\"showland\":true,\"subunitcolor\":\"white\"},\"hoverlabel\":{\"align\":\"left\"},\"hovermode\":\"closest\",\"mapbox\":{\"style\":\"light\"},\"paper_bgcolor\":\"white\",\"plot_bgcolor\":\"#E5ECF6\",\"polar\":{\"angularaxis\":{\"gridcolor\":\"white\",\"linecolor\":\"white\",\"ticks\":\"\"},\"bgcolor\":\"#E5ECF6\",\"radialaxis\":{\"gridcolor\":\"white\",\"linecolor\":\"white\",\"ticks\":\"\"}},\"scene\":{\"xaxis\":{\"backgroundcolor\":\"#E5ECF6\",\"gridcolor\":\"white\",\"gridwidth\":2,\"linecolor\":\"white\",\"showbackground\":true,\"ticks\":\"\",\"zerolinecolor\":\"white\"},\"yaxis\":{\"backgroundcolor\":\"#E5ECF6\",\"gridcolor\":\"white\",\"gridwidth\":2,\"linecolor\":\"white\",\"showbackground\":true,\"ticks\":\"\",\"zerolinecolor\":\"white\"},\"zaxis\":{\"backgroundcolor\":\"#E5ECF6\",\"gridcolor\":\"white\",\"gridwidth\":2,\"linecolor\":\"white\",\"showbackground\":true,\"ticks\":\"\",\"zerolinecolor\":\"white\"}},\"shapedefaults\":{\"line\":{\"color\":\"#2a3f5f\"}},\"ternary\":{\"aaxis\":{\"gridcolor\":\"white\",\"linecolor\":\"white\",\"ticks\":\"\"},\"baxis\":{\"gridcolor\":\"white\",\"linecolor\":\"white\",\"ticks\":\"\"},\"bgcolor\":\"#E5ECF6\",\"caxis\":{\"gridcolor\":\"white\",\"linecolor\":\"white\",\"ticks\":\"\"}},\"title\":{\"x\":0.05},\"xaxis\":{\"automargin\":true,\"gridcolor\":\"white\",\"linecolor\":\"white\",\"ticks\":\"\",\"title\":{\"standoff\":15},\"zerolinecolor\":\"white\",\"zerolinewidth\":2},\"yaxis\":{\"automargin\":true,\"gridcolor\":\"white\",\"linecolor\":\"white\",\"ticks\":\"\",\"title\":{\"standoff\":15},\"zerolinecolor\":\"white\",\"zerolinewidth\":2}}},\"xaxis\":{\"anchor\":\"y\",\"domain\":[0.0,1.0],\"title\":{\"text\":\"qtd_oper\"}},\"yaxis\":{\"anchor\":\"x\",\"domain\":[0.0,1.0],\"title\":{\"text\":\"vlr_saldo\"}},\"legend\":{\"tracegroupgap\":0},\"margin\":{\"t\":60}},                        {\"responsive\": true}                    ).then(function(){\n",
              "                            \n",
              "var gd = document.getElementById('98b9142a-f4cb-41c5-a2a9-3fe59da4c0ab');\n",
              "var x = new MutationObserver(function (mutations, observer) {{\n",
              "        var display = window.getComputedStyle(gd).display;\n",
              "        if (!display || display === 'none') {{\n",
              "            console.log([gd, 'removed!']);\n",
              "            Plotly.purge(gd);\n",
              "            observer.disconnect();\n",
              "        }}\n",
              "}});\n",
              "\n",
              "// Listen for the removal of the full notebook cells\n",
              "var notebookContainer = gd.closest('#notebook-container');\n",
              "if (notebookContainer) {{\n",
              "    x.observe(notebookContainer, {childList: true});\n",
              "}}\n",
              "\n",
              "// Listen for the clearing of the current output cell\n",
              "var outputEl = gd.closest('.output');\n",
              "if (outputEl) {{\n",
              "    x.observe(outputEl, {childList: true});\n",
              "}}\n",
              "\n",
              "                        })                };                            </script>        </div>\n",
              "</body>\n",
              "</html>"
            ]
          },
          "metadata": {}
        }
      ],
      "source": [
        "fig = px.scatter(client.sample(10000), x = \"qtd_oper\", y = \"vlr_saldo\")\n",
        "fig.show()"
      ]
    },
    {
      "cell_type": "markdown",
      "metadata": {
        "id": "m-oGoajVA1zf"
      },
      "source": [
        "#Remoção de colunas"
      ]
    },
    {
      "cell_type": "markdown",
      "metadata": {
        "id": "7CnW9z8XHbtp"
      },
      "source": [
        "Após a análise preliminar com os dados, vamos observar quais features seriam interessantes segundo o método KBest da biblioteca SKLearn, que verifica quais colunas são mais interessantes para o resultado que buscamos."
      ]
    },
    {
      "cell_type": "markdown",
      "metadata": {
        "id": "hg_wYocy4coR"
      },
      "source": [
        "## Remoção das colunas que não iremos utilizar da tabela de clientes"
      ]
    },
    {
      "cell_type": "code",
      "execution_count": 19,
      "metadata": {
        "id": "Ua7AH6iZ9K59"
      },
      "outputs": [],
      "source": [
        "client = client.drop('cod_rating', axis=1)"
      ]
    },
    {
      "cell_type": "code",
      "execution_count": 20,
      "metadata": {
        "id": "XKgQN6ue9kEu"
      },
      "outputs": [],
      "source": [
        "client = client.drop('ind_novo_cli', axis=1)"
      ]
    },
    {
      "cell_type": "code",
      "execution_count": 21,
      "metadata": {
        "id": "6Rk1J16S9wZW"
      },
      "outputs": [],
      "source": [
        "client = client.drop('num_cpf_hash', axis=1)"
      ]
    },
    {
      "cell_type": "code",
      "execution_count": 22,
      "metadata": {
        "id": "3XJtIGZm91Cv"
      },
      "outputs": [],
      "source": [
        "client = client.drop('anomes', axis=1)"
      ]
    },
    {
      "cell_type": "markdown",
      "metadata": {
        "id": "-D5f46kC4iqc"
      },
      "source": [
        "## Remoção das colunas que não iremos utilizar da tabela de não clientes"
      ]
    },
    {
      "cell_type": "code",
      "execution_count": 23,
      "metadata": {
        "id": "FTmrEeGP60uo"
      },
      "outputs": [],
      "source": [
        "not_client = not_client.drop('vlr_saldo', axis=1)"
      ]
    },
    {
      "cell_type": "code",
      "execution_count": 24,
      "metadata": {
        "id": "-ADaH2wn7qsJ"
      },
      "outputs": [],
      "source": [
        "not_client = not_client.drop('cod_rating', axis=1)"
      ]
    },
    {
      "cell_type": "code",
      "execution_count": 25,
      "metadata": {
        "id": "0xJ7usyo7yhu"
      },
      "outputs": [],
      "source": [
        "not_client = not_client.drop('ind_atrito', axis=1)"
      ]
    },
    {
      "cell_type": "code",
      "execution_count": 26,
      "metadata": {
        "id": "CAqIoEuL71Xb"
      },
      "outputs": [],
      "source": [
        "not_client = not_client.drop('ind_engaj', axis=1)"
      ]
    },
    {
      "cell_type": "code",
      "execution_count": 27,
      "metadata": {
        "id": "dTbHpYHE80DJ"
      },
      "outputs": [],
      "source": [
        "not_client = not_client.drop('num_cpf_hash', axis=1)"
      ]
    },
    {
      "cell_type": "code",
      "execution_count": 28,
      "metadata": {
        "id": "ObG5CZhp86TH"
      },
      "outputs": [],
      "source": [
        "not_client = not_client.drop('num_produtos', axis=1)"
      ]
    },
    {
      "cell_type": "code",
      "execution_count": 29,
      "metadata": {
        "id": "sZHkDgum8-oq"
      },
      "outputs": [],
      "source": [
        "not_client = not_client.drop('anomes', axis=1)"
      ]
    },
    {
      "cell_type": "code",
      "execution_count": 30,
      "metadata": {
        "id": "4d85BeVJ9BTC"
      },
      "outputs": [],
      "source": [
        "not_client = not_client.drop('qtd_oper', axis=1)"
      ]
    },
    {
      "cell_type": "markdown",
      "metadata": {
        "id": "ngyIJatP2yOX"
      },
      "source": [
        "# Remoção das linhas com valores vazios (NaN)"
      ]
    },
    {
      "cell_type": "code",
      "execution_count": 31,
      "metadata": {
        "id": "w53mo6MHITyu"
      },
      "outputs": [],
      "source": [
        "client = client.dropna()\n",
        "not_client = not_client.dropna()"
      ]
    },
    {
      "cell_type": "markdown",
      "metadata": {
        "id": "-N3viB3TqhEp"
      },
      "source": [
        "#Visualização dos dados\n",
        "###Tabela completa:"
      ]
    },
    {
      "cell_type": "code",
      "execution_count": 32,
      "metadata": {
        "id": "w5GWEb4FqfXd",
        "colab": {
          "base_uri": "https://localhost:8080/",
          "height": 0
        },
        "outputId": "fdabe392-b18d-49fc-ca17-20259aa92167"
      },
      "outputs": [
        {
          "output_type": "execute_result",
          "data": {
            "text/plain": [
              "         anomes   vlr_credito     vlr_saldo  num_atend_atrs      vlr_score  \\\n",
              "count  851414.0  4.645900e+05  4.356270e+05   851414.000000  851116.000000   \n",
              "mean   202204.0  3.441006e+04  5.749114e+03        0.000682     440.869032   \n",
              "std         0.0  7.105371e+04  1.031318e+04        0.029612     205.964872   \n",
              "min    202204.0  0.000000e+00  1.000000e-02        0.000000       0.000000   \n",
              "25%    202204.0  3.545455e+03  9.993000e+02        0.000000     304.000000   \n",
              "50%    202204.0  1.545219e+04  2.424330e+03        0.000000     402.000000   \n",
              "75%    202204.0  3.653325e+04  6.712735e+03        0.000000     575.000000   \n",
              "max    202204.0  1.034811e+07  1.666399e+06        6.000000    1000.000000   \n",
              "\n",
              "        num_produtos      num_atend       qtd_oper      qtd_reclm  \\\n",
              "count  435627.000000  851414.000000  464590.000000  851414.000000   \n",
              "mean        2.615591       0.002493      12.625160       0.000067   \n",
              "std         2.667028       0.064932      11.051452       0.008182   \n",
              "min         1.000000       0.000000       0.000000       0.000000   \n",
              "25%         1.000000       0.000000       5.000000       0.000000   \n",
              "50%         2.000000       0.000000      10.000000       0.000000   \n",
              "75%         3.000000       0.000000      17.000000       0.000000   \n",
              "max        96.000000       9.000000     265.000000       1.000000   \n",
              "\n",
              "           qtd_restr      vlr_renda     ind_atrito      ind_engaj  \\\n",
              "count  604557.000000  851414.000000  851414.000000  851414.000000   \n",
              "mean        3.044356    3451.888682       0.000254       0.173529   \n",
              "std         3.792966    6206.799900       0.015926       0.378704   \n",
              "min         1.000000       0.000000       0.000000       0.000000   \n",
              "25%         1.000000    1250.000000       0.000000       0.000000   \n",
              "50%         2.000000    1750.000000       0.000000       0.000000   \n",
              "75%         4.000000    4250.000000       0.000000       0.000000   \n",
              "max       217.000000  550750.000000       1.000000       1.000000   \n",
              "\n",
              "        ind_novo_cli  \n",
              "count  851414.000000  \n",
              "mean        0.200724  \n",
              "std         0.400542  \n",
              "min         0.000000  \n",
              "25%         0.000000  \n",
              "50%         0.000000  \n",
              "75%         0.000000  \n",
              "max         1.000000  "
            ],
            "text/html": [
              "\n",
              "  <div id=\"df-a6e54f9e-b6fe-4964-8e9d-d522cc1a09ac\">\n",
              "    <div class=\"colab-df-container\">\n",
              "      <div>\n",
              "<style scoped>\n",
              "    .dataframe tbody tr th:only-of-type {\n",
              "        vertical-align: middle;\n",
              "    }\n",
              "\n",
              "    .dataframe tbody tr th {\n",
              "        vertical-align: top;\n",
              "    }\n",
              "\n",
              "    .dataframe thead th {\n",
              "        text-align: right;\n",
              "    }\n",
              "</style>\n",
              "<table border=\"1\" class=\"dataframe\">\n",
              "  <thead>\n",
              "    <tr style=\"text-align: right;\">\n",
              "      <th></th>\n",
              "      <th>anomes</th>\n",
              "      <th>vlr_credito</th>\n",
              "      <th>vlr_saldo</th>\n",
              "      <th>num_atend_atrs</th>\n",
              "      <th>vlr_score</th>\n",
              "      <th>num_produtos</th>\n",
              "      <th>num_atend</th>\n",
              "      <th>qtd_oper</th>\n",
              "      <th>qtd_reclm</th>\n",
              "      <th>qtd_restr</th>\n",
              "      <th>vlr_renda</th>\n",
              "      <th>ind_atrito</th>\n",
              "      <th>ind_engaj</th>\n",
              "      <th>ind_novo_cli</th>\n",
              "    </tr>\n",
              "  </thead>\n",
              "  <tbody>\n",
              "    <tr>\n",
              "      <th>count</th>\n",
              "      <td>851414.0</td>\n",
              "      <td>4.645900e+05</td>\n",
              "      <td>4.356270e+05</td>\n",
              "      <td>851414.000000</td>\n",
              "      <td>851116.000000</td>\n",
              "      <td>435627.000000</td>\n",
              "      <td>851414.000000</td>\n",
              "      <td>464590.000000</td>\n",
              "      <td>851414.000000</td>\n",
              "      <td>604557.000000</td>\n",
              "      <td>851414.000000</td>\n",
              "      <td>851414.000000</td>\n",
              "      <td>851414.000000</td>\n",
              "      <td>851414.000000</td>\n",
              "    </tr>\n",
              "    <tr>\n",
              "      <th>mean</th>\n",
              "      <td>202204.0</td>\n",
              "      <td>3.441006e+04</td>\n",
              "      <td>5.749114e+03</td>\n",
              "      <td>0.000682</td>\n",
              "      <td>440.869032</td>\n",
              "      <td>2.615591</td>\n",
              "      <td>0.002493</td>\n",
              "      <td>12.625160</td>\n",
              "      <td>0.000067</td>\n",
              "      <td>3.044356</td>\n",
              "      <td>3451.888682</td>\n",
              "      <td>0.000254</td>\n",
              "      <td>0.173529</td>\n",
              "      <td>0.200724</td>\n",
              "    </tr>\n",
              "    <tr>\n",
              "      <th>std</th>\n",
              "      <td>0.0</td>\n",
              "      <td>7.105371e+04</td>\n",
              "      <td>1.031318e+04</td>\n",
              "      <td>0.029612</td>\n",
              "      <td>205.964872</td>\n",
              "      <td>2.667028</td>\n",
              "      <td>0.064932</td>\n",
              "      <td>11.051452</td>\n",
              "      <td>0.008182</td>\n",
              "      <td>3.792966</td>\n",
              "      <td>6206.799900</td>\n",
              "      <td>0.015926</td>\n",
              "      <td>0.378704</td>\n",
              "      <td>0.400542</td>\n",
              "    </tr>\n",
              "    <tr>\n",
              "      <th>min</th>\n",
              "      <td>202204.0</td>\n",
              "      <td>0.000000e+00</td>\n",
              "      <td>1.000000e-02</td>\n",
              "      <td>0.000000</td>\n",
              "      <td>0.000000</td>\n",
              "      <td>1.000000</td>\n",
              "      <td>0.000000</td>\n",
              "      <td>0.000000</td>\n",
              "      <td>0.000000</td>\n",
              "      <td>1.000000</td>\n",
              "      <td>0.000000</td>\n",
              "      <td>0.000000</td>\n",
              "      <td>0.000000</td>\n",
              "      <td>0.000000</td>\n",
              "    </tr>\n",
              "    <tr>\n",
              "      <th>25%</th>\n",
              "      <td>202204.0</td>\n",
              "      <td>3.545455e+03</td>\n",
              "      <td>9.993000e+02</td>\n",
              "      <td>0.000000</td>\n",
              "      <td>304.000000</td>\n",
              "      <td>1.000000</td>\n",
              "      <td>0.000000</td>\n",
              "      <td>5.000000</td>\n",
              "      <td>0.000000</td>\n",
              "      <td>1.000000</td>\n",
              "      <td>1250.000000</td>\n",
              "      <td>0.000000</td>\n",
              "      <td>0.000000</td>\n",
              "      <td>0.000000</td>\n",
              "    </tr>\n",
              "    <tr>\n",
              "      <th>50%</th>\n",
              "      <td>202204.0</td>\n",
              "      <td>1.545219e+04</td>\n",
              "      <td>2.424330e+03</td>\n",
              "      <td>0.000000</td>\n",
              "      <td>402.000000</td>\n",
              "      <td>2.000000</td>\n",
              "      <td>0.000000</td>\n",
              "      <td>10.000000</td>\n",
              "      <td>0.000000</td>\n",
              "      <td>2.000000</td>\n",
              "      <td>1750.000000</td>\n",
              "      <td>0.000000</td>\n",
              "      <td>0.000000</td>\n",
              "      <td>0.000000</td>\n",
              "    </tr>\n",
              "    <tr>\n",
              "      <th>75%</th>\n",
              "      <td>202204.0</td>\n",
              "      <td>3.653325e+04</td>\n",
              "      <td>6.712735e+03</td>\n",
              "      <td>0.000000</td>\n",
              "      <td>575.000000</td>\n",
              "      <td>3.000000</td>\n",
              "      <td>0.000000</td>\n",
              "      <td>17.000000</td>\n",
              "      <td>0.000000</td>\n",
              "      <td>4.000000</td>\n",
              "      <td>4250.000000</td>\n",
              "      <td>0.000000</td>\n",
              "      <td>0.000000</td>\n",
              "      <td>0.000000</td>\n",
              "    </tr>\n",
              "    <tr>\n",
              "      <th>max</th>\n",
              "      <td>202204.0</td>\n",
              "      <td>1.034811e+07</td>\n",
              "      <td>1.666399e+06</td>\n",
              "      <td>6.000000</td>\n",
              "      <td>1000.000000</td>\n",
              "      <td>96.000000</td>\n",
              "      <td>9.000000</td>\n",
              "      <td>265.000000</td>\n",
              "      <td>1.000000</td>\n",
              "      <td>217.000000</td>\n",
              "      <td>550750.000000</td>\n",
              "      <td>1.000000</td>\n",
              "      <td>1.000000</td>\n",
              "      <td>1.000000</td>\n",
              "    </tr>\n",
              "  </tbody>\n",
              "</table>\n",
              "</div>\n",
              "      <button class=\"colab-df-convert\" onclick=\"convertToInteractive('df-a6e54f9e-b6fe-4964-8e9d-d522cc1a09ac')\"\n",
              "              title=\"Convert this dataframe to an interactive table.\"\n",
              "              style=\"display:none;\">\n",
              "        \n",
              "  <svg xmlns=\"http://www.w3.org/2000/svg\" height=\"24px\"viewBox=\"0 0 24 24\"\n",
              "       width=\"24px\">\n",
              "    <path d=\"M0 0h24v24H0V0z\" fill=\"none\"/>\n",
              "    <path d=\"M18.56 5.44l.94 2.06.94-2.06 2.06-.94-2.06-.94-.94-2.06-.94 2.06-2.06.94zm-11 1L8.5 8.5l.94-2.06 2.06-.94-2.06-.94L8.5 2.5l-.94 2.06-2.06.94zm10 10l.94 2.06.94-2.06 2.06-.94-2.06-.94-.94-2.06-.94 2.06-2.06.94z\"/><path d=\"M17.41 7.96l-1.37-1.37c-.4-.4-.92-.59-1.43-.59-.52 0-1.04.2-1.43.59L10.3 9.45l-7.72 7.72c-.78.78-.78 2.05 0 2.83L4 21.41c.39.39.9.59 1.41.59.51 0 1.02-.2 1.41-.59l7.78-7.78 2.81-2.81c.8-.78.8-2.07 0-2.86zM5.41 20L4 18.59l7.72-7.72 1.47 1.35L5.41 20z\"/>\n",
              "  </svg>\n",
              "      </button>\n",
              "      \n",
              "  <style>\n",
              "    .colab-df-container {\n",
              "      display:flex;\n",
              "      flex-wrap:wrap;\n",
              "      gap: 12px;\n",
              "    }\n",
              "\n",
              "    .colab-df-convert {\n",
              "      background-color: #E8F0FE;\n",
              "      border: none;\n",
              "      border-radius: 50%;\n",
              "      cursor: pointer;\n",
              "      display: none;\n",
              "      fill: #1967D2;\n",
              "      height: 32px;\n",
              "      padding: 0 0 0 0;\n",
              "      width: 32px;\n",
              "    }\n",
              "\n",
              "    .colab-df-convert:hover {\n",
              "      background-color: #E2EBFA;\n",
              "      box-shadow: 0px 1px 2px rgba(60, 64, 67, 0.3), 0px 1px 3px 1px rgba(60, 64, 67, 0.15);\n",
              "      fill: #174EA6;\n",
              "    }\n",
              "\n",
              "    [theme=dark] .colab-df-convert {\n",
              "      background-color: #3B4455;\n",
              "      fill: #D2E3FC;\n",
              "    }\n",
              "\n",
              "    [theme=dark] .colab-df-convert:hover {\n",
              "      background-color: #434B5C;\n",
              "      box-shadow: 0px 1px 3px 1px rgba(0, 0, 0, 0.15);\n",
              "      filter: drop-shadow(0px 1px 2px rgba(0, 0, 0, 0.3));\n",
              "      fill: #FFFFFF;\n",
              "    }\n",
              "  </style>\n",
              "\n",
              "      <script>\n",
              "        const buttonEl =\n",
              "          document.querySelector('#df-a6e54f9e-b6fe-4964-8e9d-d522cc1a09ac button.colab-df-convert');\n",
              "        buttonEl.style.display =\n",
              "          google.colab.kernel.accessAllowed ? 'block' : 'none';\n",
              "\n",
              "        async function convertToInteractive(key) {\n",
              "          const element = document.querySelector('#df-a6e54f9e-b6fe-4964-8e9d-d522cc1a09ac');\n",
              "          const dataTable =\n",
              "            await google.colab.kernel.invokeFunction('convertToInteractive',\n",
              "                                                     [key], {});\n",
              "          if (!dataTable) return;\n",
              "\n",
              "          const docLinkHtml = 'Like what you see? Visit the ' +\n",
              "            '<a target=\"_blank\" href=https://colab.research.google.com/notebooks/data_table.ipynb>data table notebook</a>'\n",
              "            + ' to learn more about interactive tables.';\n",
              "          element.innerHTML = '';\n",
              "          dataTable['output_type'] = 'display_data';\n",
              "          await google.colab.output.renderOutput(dataTable, element);\n",
              "          const docLink = document.createElement('div');\n",
              "          docLink.innerHTML = docLinkHtml;\n",
              "          element.appendChild(docLink);\n",
              "        }\n",
              "      </script>\n",
              "    </div>\n",
              "  </div>\n",
              "  "
            ]
          },
          "metadata": {},
          "execution_count": 32
        }
      ],
      "source": [
        "df.describe()"
      ]
    },
    {
      "cell_type": "markdown",
      "metadata": {
        "id": "Vor9e0FCrHhm"
      },
      "source": [
        "###Tabela clientes:"
      ]
    },
    {
      "cell_type": "code",
      "execution_count": 33,
      "metadata": {
        "id": "ZzdxIIMQFMxr",
        "colab": {
          "base_uri": "https://localhost:8080/",
          "height": 0
        },
        "outputId": "87607af6-9782-4515-cadc-70cc77ba9aab"
      },
      "outputs": [
        {
          "output_type": "execute_result",
          "data": {
            "text/plain": [
              "        vlr_credito      vlr_saldo  num_atend_atrs      vlr_score  \\\n",
              "count  1.858800e+05  185880.000000   185880.000000  185880.000000   \n",
              "mean   4.112444e+04    5565.679638        0.000936     375.723268   \n",
              "std    6.715217e+04    9556.055169        0.032459     143.455257   \n",
              "min    0.000000e+00       0.010000        0.000000       0.000000   \n",
              "25%    7.896820e+03     880.052500        0.000000     285.000000   \n",
              "50%    2.074161e+04    2185.470000        0.000000     384.000000   \n",
              "75%    4.597636e+04    6191.815000        0.000000     462.000000   \n",
              "max    3.699561e+06  741055.970000        2.000000     973.000000   \n",
              "\n",
              "        num_produtos      num_atend       qtd_oper      qtd_reclm  \\\n",
              "count  185880.000000  185880.000000  185880.000000  185880.000000   \n",
              "mean        2.506472       0.003578      14.076001       0.000151   \n",
              "std         2.237989       0.074894      10.516395       0.012272   \n",
              "min         1.000000       0.000000       0.000000       0.000000   \n",
              "25%         1.000000       0.000000       7.000000       0.000000   \n",
              "50%         2.000000       0.000000      12.000000       0.000000   \n",
              "75%         3.000000       0.000000      18.000000       0.000000   \n",
              "max        88.000000       5.000000     265.000000       1.000000   \n",
              "\n",
              "          qtd_restr      vlr_renda     ind_atrito      ind_engaj  \n",
              "count  185880.00000  185880.000000  185880.000000  185880.000000  \n",
              "mean        3.30857    3855.009415       0.000522       0.340515  \n",
              "std         3.74673    6151.065231       0.022838       0.473884  \n",
              "min         1.00000     250.000000       0.000000       0.000000  \n",
              "25%         1.00000    1350.000000       0.000000       0.000000  \n",
              "50%         2.00000    2200.000000       0.000000       0.000000  \n",
              "75%         4.00000    4300.000000       0.000000       1.000000  \n",
              "max       110.00000  360200.000000       1.000000       1.000000  "
            ],
            "text/html": [
              "\n",
              "  <div id=\"df-56e81264-530c-44e0-9e98-9cc15513b5b4\">\n",
              "    <div class=\"colab-df-container\">\n",
              "      <div>\n",
              "<style scoped>\n",
              "    .dataframe tbody tr th:only-of-type {\n",
              "        vertical-align: middle;\n",
              "    }\n",
              "\n",
              "    .dataframe tbody tr th {\n",
              "        vertical-align: top;\n",
              "    }\n",
              "\n",
              "    .dataframe thead th {\n",
              "        text-align: right;\n",
              "    }\n",
              "</style>\n",
              "<table border=\"1\" class=\"dataframe\">\n",
              "  <thead>\n",
              "    <tr style=\"text-align: right;\">\n",
              "      <th></th>\n",
              "      <th>vlr_credito</th>\n",
              "      <th>vlr_saldo</th>\n",
              "      <th>num_atend_atrs</th>\n",
              "      <th>vlr_score</th>\n",
              "      <th>num_produtos</th>\n",
              "      <th>num_atend</th>\n",
              "      <th>qtd_oper</th>\n",
              "      <th>qtd_reclm</th>\n",
              "      <th>qtd_restr</th>\n",
              "      <th>vlr_renda</th>\n",
              "      <th>ind_atrito</th>\n",
              "      <th>ind_engaj</th>\n",
              "    </tr>\n",
              "  </thead>\n",
              "  <tbody>\n",
              "    <tr>\n",
              "      <th>count</th>\n",
              "      <td>1.858800e+05</td>\n",
              "      <td>185880.000000</td>\n",
              "      <td>185880.000000</td>\n",
              "      <td>185880.000000</td>\n",
              "      <td>185880.000000</td>\n",
              "      <td>185880.000000</td>\n",
              "      <td>185880.000000</td>\n",
              "      <td>185880.000000</td>\n",
              "      <td>185880.00000</td>\n",
              "      <td>185880.000000</td>\n",
              "      <td>185880.000000</td>\n",
              "      <td>185880.000000</td>\n",
              "    </tr>\n",
              "    <tr>\n",
              "      <th>mean</th>\n",
              "      <td>4.112444e+04</td>\n",
              "      <td>5565.679638</td>\n",
              "      <td>0.000936</td>\n",
              "      <td>375.723268</td>\n",
              "      <td>2.506472</td>\n",
              "      <td>0.003578</td>\n",
              "      <td>14.076001</td>\n",
              "      <td>0.000151</td>\n",
              "      <td>3.30857</td>\n",
              "      <td>3855.009415</td>\n",
              "      <td>0.000522</td>\n",
              "      <td>0.340515</td>\n",
              "    </tr>\n",
              "    <tr>\n",
              "      <th>std</th>\n",
              "      <td>6.715217e+04</td>\n",
              "      <td>9556.055169</td>\n",
              "      <td>0.032459</td>\n",
              "      <td>143.455257</td>\n",
              "      <td>2.237989</td>\n",
              "      <td>0.074894</td>\n",
              "      <td>10.516395</td>\n",
              "      <td>0.012272</td>\n",
              "      <td>3.74673</td>\n",
              "      <td>6151.065231</td>\n",
              "      <td>0.022838</td>\n",
              "      <td>0.473884</td>\n",
              "    </tr>\n",
              "    <tr>\n",
              "      <th>min</th>\n",
              "      <td>0.000000e+00</td>\n",
              "      <td>0.010000</td>\n",
              "      <td>0.000000</td>\n",
              "      <td>0.000000</td>\n",
              "      <td>1.000000</td>\n",
              "      <td>0.000000</td>\n",
              "      <td>0.000000</td>\n",
              "      <td>0.000000</td>\n",
              "      <td>1.00000</td>\n",
              "      <td>250.000000</td>\n",
              "      <td>0.000000</td>\n",
              "      <td>0.000000</td>\n",
              "    </tr>\n",
              "    <tr>\n",
              "      <th>25%</th>\n",
              "      <td>7.896820e+03</td>\n",
              "      <td>880.052500</td>\n",
              "      <td>0.000000</td>\n",
              "      <td>285.000000</td>\n",
              "      <td>1.000000</td>\n",
              "      <td>0.000000</td>\n",
              "      <td>7.000000</td>\n",
              "      <td>0.000000</td>\n",
              "      <td>1.00000</td>\n",
              "      <td>1350.000000</td>\n",
              "      <td>0.000000</td>\n",
              "      <td>0.000000</td>\n",
              "    </tr>\n",
              "    <tr>\n",
              "      <th>50%</th>\n",
              "      <td>2.074161e+04</td>\n",
              "      <td>2185.470000</td>\n",
              "      <td>0.000000</td>\n",
              "      <td>384.000000</td>\n",
              "      <td>2.000000</td>\n",
              "      <td>0.000000</td>\n",
              "      <td>12.000000</td>\n",
              "      <td>0.000000</td>\n",
              "      <td>2.00000</td>\n",
              "      <td>2200.000000</td>\n",
              "      <td>0.000000</td>\n",
              "      <td>0.000000</td>\n",
              "    </tr>\n",
              "    <tr>\n",
              "      <th>75%</th>\n",
              "      <td>4.597636e+04</td>\n",
              "      <td>6191.815000</td>\n",
              "      <td>0.000000</td>\n",
              "      <td>462.000000</td>\n",
              "      <td>3.000000</td>\n",
              "      <td>0.000000</td>\n",
              "      <td>18.000000</td>\n",
              "      <td>0.000000</td>\n",
              "      <td>4.00000</td>\n",
              "      <td>4300.000000</td>\n",
              "      <td>0.000000</td>\n",
              "      <td>1.000000</td>\n",
              "    </tr>\n",
              "    <tr>\n",
              "      <th>max</th>\n",
              "      <td>3.699561e+06</td>\n",
              "      <td>741055.970000</td>\n",
              "      <td>2.000000</td>\n",
              "      <td>973.000000</td>\n",
              "      <td>88.000000</td>\n",
              "      <td>5.000000</td>\n",
              "      <td>265.000000</td>\n",
              "      <td>1.000000</td>\n",
              "      <td>110.00000</td>\n",
              "      <td>360200.000000</td>\n",
              "      <td>1.000000</td>\n",
              "      <td>1.000000</td>\n",
              "    </tr>\n",
              "  </tbody>\n",
              "</table>\n",
              "</div>\n",
              "      <button class=\"colab-df-convert\" onclick=\"convertToInteractive('df-56e81264-530c-44e0-9e98-9cc15513b5b4')\"\n",
              "              title=\"Convert this dataframe to an interactive table.\"\n",
              "              style=\"display:none;\">\n",
              "        \n",
              "  <svg xmlns=\"http://www.w3.org/2000/svg\" height=\"24px\"viewBox=\"0 0 24 24\"\n",
              "       width=\"24px\">\n",
              "    <path d=\"M0 0h24v24H0V0z\" fill=\"none\"/>\n",
              "    <path d=\"M18.56 5.44l.94 2.06.94-2.06 2.06-.94-2.06-.94-.94-2.06-.94 2.06-2.06.94zm-11 1L8.5 8.5l.94-2.06 2.06-.94-2.06-.94L8.5 2.5l-.94 2.06-2.06.94zm10 10l.94 2.06.94-2.06 2.06-.94-2.06-.94-.94-2.06-.94 2.06-2.06.94z\"/><path d=\"M17.41 7.96l-1.37-1.37c-.4-.4-.92-.59-1.43-.59-.52 0-1.04.2-1.43.59L10.3 9.45l-7.72 7.72c-.78.78-.78 2.05 0 2.83L4 21.41c.39.39.9.59 1.41.59.51 0 1.02-.2 1.41-.59l7.78-7.78 2.81-2.81c.8-.78.8-2.07 0-2.86zM5.41 20L4 18.59l7.72-7.72 1.47 1.35L5.41 20z\"/>\n",
              "  </svg>\n",
              "      </button>\n",
              "      \n",
              "  <style>\n",
              "    .colab-df-container {\n",
              "      display:flex;\n",
              "      flex-wrap:wrap;\n",
              "      gap: 12px;\n",
              "    }\n",
              "\n",
              "    .colab-df-convert {\n",
              "      background-color: #E8F0FE;\n",
              "      border: none;\n",
              "      border-radius: 50%;\n",
              "      cursor: pointer;\n",
              "      display: none;\n",
              "      fill: #1967D2;\n",
              "      height: 32px;\n",
              "      padding: 0 0 0 0;\n",
              "      width: 32px;\n",
              "    }\n",
              "\n",
              "    .colab-df-convert:hover {\n",
              "      background-color: #E2EBFA;\n",
              "      box-shadow: 0px 1px 2px rgba(60, 64, 67, 0.3), 0px 1px 3px 1px rgba(60, 64, 67, 0.15);\n",
              "      fill: #174EA6;\n",
              "    }\n",
              "\n",
              "    [theme=dark] .colab-df-convert {\n",
              "      background-color: #3B4455;\n",
              "      fill: #D2E3FC;\n",
              "    }\n",
              "\n",
              "    [theme=dark] .colab-df-convert:hover {\n",
              "      background-color: #434B5C;\n",
              "      box-shadow: 0px 1px 3px 1px rgba(0, 0, 0, 0.15);\n",
              "      filter: drop-shadow(0px 1px 2px rgba(0, 0, 0, 0.3));\n",
              "      fill: #FFFFFF;\n",
              "    }\n",
              "  </style>\n",
              "\n",
              "      <script>\n",
              "        const buttonEl =\n",
              "          document.querySelector('#df-56e81264-530c-44e0-9e98-9cc15513b5b4 button.colab-df-convert');\n",
              "        buttonEl.style.display =\n",
              "          google.colab.kernel.accessAllowed ? 'block' : 'none';\n",
              "\n",
              "        async function convertToInteractive(key) {\n",
              "          const element = document.querySelector('#df-56e81264-530c-44e0-9e98-9cc15513b5b4');\n",
              "          const dataTable =\n",
              "            await google.colab.kernel.invokeFunction('convertToInteractive',\n",
              "                                                     [key], {});\n",
              "          if (!dataTable) return;\n",
              "\n",
              "          const docLinkHtml = 'Like what you see? Visit the ' +\n",
              "            '<a target=\"_blank\" href=https://colab.research.google.com/notebooks/data_table.ipynb>data table notebook</a>'\n",
              "            + ' to learn more about interactive tables.';\n",
              "          element.innerHTML = '';\n",
              "          dataTable['output_type'] = 'display_data';\n",
              "          await google.colab.output.renderOutput(dataTable, element);\n",
              "          const docLink = document.createElement('div');\n",
              "          docLink.innerHTML = docLinkHtml;\n",
              "          element.appendChild(docLink);\n",
              "        }\n",
              "      </script>\n",
              "    </div>\n",
              "  </div>\n",
              "  "
            ]
          },
          "metadata": {},
          "execution_count": 33
        }
      ],
      "source": [
        "client.describe()"
      ]
    },
    {
      "cell_type": "markdown",
      "metadata": {
        "id": "1vJIuZ__rW1i"
      },
      "source": [
        "###Tabela não clientes:"
      ]
    },
    {
      "cell_type": "code",
      "execution_count": 34,
      "metadata": {
        "id": "HKqMNHpYGFXT",
        "colab": {
          "base_uri": "https://localhost:8080/",
          "height": 0
        },
        "outputId": "3a48608c-db95-4e62-d7e4-95e79d715d6a"
      },
      "outputs": [
        {
          "output_type": "execute_result",
          "data": {
            "text/plain": [
              "        vlr_credito  num_atend_atrs     vlr_score     num_atend     qtd_reclm  \\\n",
              "count  5.922000e+04    59220.000000  59220.000000  59220.000000  59220.000000   \n",
              "mean   1.116576e+04        0.000152    287.116211      0.000540      0.000017   \n",
              "std    4.897024e+04        0.013628    133.671909      0.025326      0.004109   \n",
              "min    0.000000e+00        0.000000      0.000000      0.000000      0.000000   \n",
              "25%    0.000000e+00        0.000000    176.000000      0.000000      0.000000   \n",
              "50%    9.382750e+02        0.000000    274.000000      0.000000      0.000000   \n",
              "75%    5.099010e+03        0.000000    376.000000      0.000000      0.000000   \n",
              "max    7.638867e+06        2.000000    961.000000      2.000000      1.000000   \n",
              "\n",
              "          qtd_restr      vlr_renda  ind_novo_cli  \n",
              "count  59220.000000   59220.000000  59220.000000  \n",
              "mean       3.291692    2381.376224      0.276292  \n",
              "std        3.780653    3443.226629      0.447167  \n",
              "min        1.000000     350.000000      0.000000  \n",
              "25%        1.000000    1150.000000      0.000000  \n",
              "50%        2.000000    1400.000000      0.000000  \n",
              "75%        4.000000    3500.000000      1.000000  \n",
              "max      217.000000  193600.000000      1.000000  "
            ],
            "text/html": [
              "\n",
              "  <div id=\"df-4a2a1502-5f46-46d5-87bd-84dc4e2536f7\">\n",
              "    <div class=\"colab-df-container\">\n",
              "      <div>\n",
              "<style scoped>\n",
              "    .dataframe tbody tr th:only-of-type {\n",
              "        vertical-align: middle;\n",
              "    }\n",
              "\n",
              "    .dataframe tbody tr th {\n",
              "        vertical-align: top;\n",
              "    }\n",
              "\n",
              "    .dataframe thead th {\n",
              "        text-align: right;\n",
              "    }\n",
              "</style>\n",
              "<table border=\"1\" class=\"dataframe\">\n",
              "  <thead>\n",
              "    <tr style=\"text-align: right;\">\n",
              "      <th></th>\n",
              "      <th>vlr_credito</th>\n",
              "      <th>num_atend_atrs</th>\n",
              "      <th>vlr_score</th>\n",
              "      <th>num_atend</th>\n",
              "      <th>qtd_reclm</th>\n",
              "      <th>qtd_restr</th>\n",
              "      <th>vlr_renda</th>\n",
              "      <th>ind_novo_cli</th>\n",
              "    </tr>\n",
              "  </thead>\n",
              "  <tbody>\n",
              "    <tr>\n",
              "      <th>count</th>\n",
              "      <td>5.922000e+04</td>\n",
              "      <td>59220.000000</td>\n",
              "      <td>59220.000000</td>\n",
              "      <td>59220.000000</td>\n",
              "      <td>59220.000000</td>\n",
              "      <td>59220.000000</td>\n",
              "      <td>59220.000000</td>\n",
              "      <td>59220.000000</td>\n",
              "    </tr>\n",
              "    <tr>\n",
              "      <th>mean</th>\n",
              "      <td>1.116576e+04</td>\n",
              "      <td>0.000152</td>\n",
              "      <td>287.116211</td>\n",
              "      <td>0.000540</td>\n",
              "      <td>0.000017</td>\n",
              "      <td>3.291692</td>\n",
              "      <td>2381.376224</td>\n",
              "      <td>0.276292</td>\n",
              "    </tr>\n",
              "    <tr>\n",
              "      <th>std</th>\n",
              "      <td>4.897024e+04</td>\n",
              "      <td>0.013628</td>\n",
              "      <td>133.671909</td>\n",
              "      <td>0.025326</td>\n",
              "      <td>0.004109</td>\n",
              "      <td>3.780653</td>\n",
              "      <td>3443.226629</td>\n",
              "      <td>0.447167</td>\n",
              "    </tr>\n",
              "    <tr>\n",
              "      <th>min</th>\n",
              "      <td>0.000000e+00</td>\n",
              "      <td>0.000000</td>\n",
              "      <td>0.000000</td>\n",
              "      <td>0.000000</td>\n",
              "      <td>0.000000</td>\n",
              "      <td>1.000000</td>\n",
              "      <td>350.000000</td>\n",
              "      <td>0.000000</td>\n",
              "    </tr>\n",
              "    <tr>\n",
              "      <th>25%</th>\n",
              "      <td>0.000000e+00</td>\n",
              "      <td>0.000000</td>\n",
              "      <td>176.000000</td>\n",
              "      <td>0.000000</td>\n",
              "      <td>0.000000</td>\n",
              "      <td>1.000000</td>\n",
              "      <td>1150.000000</td>\n",
              "      <td>0.000000</td>\n",
              "    </tr>\n",
              "    <tr>\n",
              "      <th>50%</th>\n",
              "      <td>9.382750e+02</td>\n",
              "      <td>0.000000</td>\n",
              "      <td>274.000000</td>\n",
              "      <td>0.000000</td>\n",
              "      <td>0.000000</td>\n",
              "      <td>2.000000</td>\n",
              "      <td>1400.000000</td>\n",
              "      <td>0.000000</td>\n",
              "    </tr>\n",
              "    <tr>\n",
              "      <th>75%</th>\n",
              "      <td>5.099010e+03</td>\n",
              "      <td>0.000000</td>\n",
              "      <td>376.000000</td>\n",
              "      <td>0.000000</td>\n",
              "      <td>0.000000</td>\n",
              "      <td>4.000000</td>\n",
              "      <td>3500.000000</td>\n",
              "      <td>1.000000</td>\n",
              "    </tr>\n",
              "    <tr>\n",
              "      <th>max</th>\n",
              "      <td>7.638867e+06</td>\n",
              "      <td>2.000000</td>\n",
              "      <td>961.000000</td>\n",
              "      <td>2.000000</td>\n",
              "      <td>1.000000</td>\n",
              "      <td>217.000000</td>\n",
              "      <td>193600.000000</td>\n",
              "      <td>1.000000</td>\n",
              "    </tr>\n",
              "  </tbody>\n",
              "</table>\n",
              "</div>\n",
              "      <button class=\"colab-df-convert\" onclick=\"convertToInteractive('df-4a2a1502-5f46-46d5-87bd-84dc4e2536f7')\"\n",
              "              title=\"Convert this dataframe to an interactive table.\"\n",
              "              style=\"display:none;\">\n",
              "        \n",
              "  <svg xmlns=\"http://www.w3.org/2000/svg\" height=\"24px\"viewBox=\"0 0 24 24\"\n",
              "       width=\"24px\">\n",
              "    <path d=\"M0 0h24v24H0V0z\" fill=\"none\"/>\n",
              "    <path d=\"M18.56 5.44l.94 2.06.94-2.06 2.06-.94-2.06-.94-.94-2.06-.94 2.06-2.06.94zm-11 1L8.5 8.5l.94-2.06 2.06-.94-2.06-.94L8.5 2.5l-.94 2.06-2.06.94zm10 10l.94 2.06.94-2.06 2.06-.94-2.06-.94-.94-2.06-.94 2.06-2.06.94z\"/><path d=\"M17.41 7.96l-1.37-1.37c-.4-.4-.92-.59-1.43-.59-.52 0-1.04.2-1.43.59L10.3 9.45l-7.72 7.72c-.78.78-.78 2.05 0 2.83L4 21.41c.39.39.9.59 1.41.59.51 0 1.02-.2 1.41-.59l7.78-7.78 2.81-2.81c.8-.78.8-2.07 0-2.86zM5.41 20L4 18.59l7.72-7.72 1.47 1.35L5.41 20z\"/>\n",
              "  </svg>\n",
              "      </button>\n",
              "      \n",
              "  <style>\n",
              "    .colab-df-container {\n",
              "      display:flex;\n",
              "      flex-wrap:wrap;\n",
              "      gap: 12px;\n",
              "    }\n",
              "\n",
              "    .colab-df-convert {\n",
              "      background-color: #E8F0FE;\n",
              "      border: none;\n",
              "      border-radius: 50%;\n",
              "      cursor: pointer;\n",
              "      display: none;\n",
              "      fill: #1967D2;\n",
              "      height: 32px;\n",
              "      padding: 0 0 0 0;\n",
              "      width: 32px;\n",
              "    }\n",
              "\n",
              "    .colab-df-convert:hover {\n",
              "      background-color: #E2EBFA;\n",
              "      box-shadow: 0px 1px 2px rgba(60, 64, 67, 0.3), 0px 1px 3px 1px rgba(60, 64, 67, 0.15);\n",
              "      fill: #174EA6;\n",
              "    }\n",
              "\n",
              "    [theme=dark] .colab-df-convert {\n",
              "      background-color: #3B4455;\n",
              "      fill: #D2E3FC;\n",
              "    }\n",
              "\n",
              "    [theme=dark] .colab-df-convert:hover {\n",
              "      background-color: #434B5C;\n",
              "      box-shadow: 0px 1px 3px 1px rgba(0, 0, 0, 0.15);\n",
              "      filter: drop-shadow(0px 1px 2px rgba(0, 0, 0, 0.3));\n",
              "      fill: #FFFFFF;\n",
              "    }\n",
              "  </style>\n",
              "\n",
              "      <script>\n",
              "        const buttonEl =\n",
              "          document.querySelector('#df-4a2a1502-5f46-46d5-87bd-84dc4e2536f7 button.colab-df-convert');\n",
              "        buttonEl.style.display =\n",
              "          google.colab.kernel.accessAllowed ? 'block' : 'none';\n",
              "\n",
              "        async function convertToInteractive(key) {\n",
              "          const element = document.querySelector('#df-4a2a1502-5f46-46d5-87bd-84dc4e2536f7');\n",
              "          const dataTable =\n",
              "            await google.colab.kernel.invokeFunction('convertToInteractive',\n",
              "                                                     [key], {});\n",
              "          if (!dataTable) return;\n",
              "\n",
              "          const docLinkHtml = 'Like what you see? Visit the ' +\n",
              "            '<a target=\"_blank\" href=https://colab.research.google.com/notebooks/data_table.ipynb>data table notebook</a>'\n",
              "            + ' to learn more about interactive tables.';\n",
              "          element.innerHTML = '';\n",
              "          dataTable['output_type'] = 'display_data';\n",
              "          await google.colab.output.renderOutput(dataTable, element);\n",
              "          const docLink = document.createElement('div');\n",
              "          docLink.innerHTML = docLinkHtml;\n",
              "          element.appendChild(docLink);\n",
              "        }\n",
              "      </script>\n",
              "    </div>\n",
              "  </div>\n",
              "  "
            ]
          },
          "metadata": {},
          "execution_count": 34
        }
      ],
      "source": [
        "not_client.describe()"
      ]
    },
    {
      "cell_type": "markdown",
      "metadata": {
        "id": "c-rEoNKeogvT"
      },
      "source": [
        "# Feature Engineering com o uso do SKLearn\n"
      ]
    },
    {
      "cell_type": "markdown",
      "metadata": {
        "id": "mWsa52HVp83e"
      },
      "source": [
        "##Atritado"
      ]
    },
    {
      "cell_type": "code",
      "execution_count": 35,
      "metadata": {
        "id": "WJdXRN-D7uoy"
      },
      "outputs": [],
      "source": [
        "from sklearn.feature_selection import SelectKBest\n",
        "from sklearn.feature_selection import f_classif, mutual_info_classif"
      ]
    },
    {
      "cell_type": "code",
      "execution_count": 36,
      "metadata": {
        "id": "HCExZZD4pA3V"
      },
      "outputs": [],
      "source": [
        "# Identificar as variáveis entre colunas de análise e coluna de resposta do teste\n",
        "x = client.drop(['ind_atrito', 'ind_engaj'], axis=1)\n",
        "y = client['ind_atrito']"
      ]
    },
    {
      "cell_type": "code",
      "execution_count": 37,
      "metadata": {
        "id": "vx1cjrSbpCKt"
      },
      "outputs": [],
      "source": [
        "# Chamar o método que verifica os melhores parâmetros f_classif que utiliza da progressão linear para ajustar os dados\n",
        "f_classif = SelectKBest(score_func=f_classif, k=4)"
      ]
    },
    {
      "cell_type": "code",
      "execution_count": 38,
      "metadata": {
        "id": "21wcSDPMpDYh"
      },
      "outputs": [],
      "source": [
        "fit = f_classif.fit(x, y)"
      ]
    },
    {
      "cell_type": "code",
      "execution_count": 39,
      "metadata": {
        "id": "SrnXM0WfpEfu"
      },
      "outputs": [],
      "source": [
        "features = fit.transform(x)"
      ]
    },
    {
      "cell_type": "code",
      "execution_count": 40,
      "metadata": {
        "id": "aVQd15V5pG-Q",
        "colab": {
          "base_uri": "https://localhost:8080/",
          "height": 424
        },
        "outputId": "1a565bf8-444b-4692-c021-0a7f557c2aab"
      },
      "outputs": [
        {
          "output_type": "execute_result",
          "data": {
            "text/plain": [
              "          vlr_saldo  num_atend_atrs  qtd_reclm  vlr_renda\n",
              "0           1360.96             0.0        0.0     1650.0\n",
              "18            64.02             0.0        0.0     1100.0\n",
              "30          1264.50             0.0        0.0     2050.0\n",
              "35          1400.00             0.0        0.0     4400.0\n",
              "85           700.00             0.0        0.0     4250.0\n",
              "...             ...             ...        ...        ...\n",
              "11886194    4498.00             0.0        0.0     1300.0\n",
              "11886221    4135.03             0.0        0.0     3150.0\n",
              "11886229   21242.84             0.0        0.0     1000.0\n",
              "11886303    1000.00             0.0        0.0     3550.0\n",
              "11886317    1656.94             0.0        0.0     2550.0\n",
              "\n",
              "[185880 rows x 4 columns]"
            ],
            "text/html": [
              "\n",
              "  <div id=\"df-9dda626c-54b6-4469-a749-7b3bd5a13aa0\">\n",
              "    <div class=\"colab-df-container\">\n",
              "      <div>\n",
              "<style scoped>\n",
              "    .dataframe tbody tr th:only-of-type {\n",
              "        vertical-align: middle;\n",
              "    }\n",
              "\n",
              "    .dataframe tbody tr th {\n",
              "        vertical-align: top;\n",
              "    }\n",
              "\n",
              "    .dataframe thead th {\n",
              "        text-align: right;\n",
              "    }\n",
              "</style>\n",
              "<table border=\"1\" class=\"dataframe\">\n",
              "  <thead>\n",
              "    <tr style=\"text-align: right;\">\n",
              "      <th></th>\n",
              "      <th>vlr_saldo</th>\n",
              "      <th>num_atend_atrs</th>\n",
              "      <th>qtd_reclm</th>\n",
              "      <th>vlr_renda</th>\n",
              "    </tr>\n",
              "  </thead>\n",
              "  <tbody>\n",
              "    <tr>\n",
              "      <th>0</th>\n",
              "      <td>1360.96</td>\n",
              "      <td>0.0</td>\n",
              "      <td>0.0</td>\n",
              "      <td>1650.0</td>\n",
              "    </tr>\n",
              "    <tr>\n",
              "      <th>18</th>\n",
              "      <td>64.02</td>\n",
              "      <td>0.0</td>\n",
              "      <td>0.0</td>\n",
              "      <td>1100.0</td>\n",
              "    </tr>\n",
              "    <tr>\n",
              "      <th>30</th>\n",
              "      <td>1264.50</td>\n",
              "      <td>0.0</td>\n",
              "      <td>0.0</td>\n",
              "      <td>2050.0</td>\n",
              "    </tr>\n",
              "    <tr>\n",
              "      <th>35</th>\n",
              "      <td>1400.00</td>\n",
              "      <td>0.0</td>\n",
              "      <td>0.0</td>\n",
              "      <td>4400.0</td>\n",
              "    </tr>\n",
              "    <tr>\n",
              "      <th>85</th>\n",
              "      <td>700.00</td>\n",
              "      <td>0.0</td>\n",
              "      <td>0.0</td>\n",
              "      <td>4250.0</td>\n",
              "    </tr>\n",
              "    <tr>\n",
              "      <th>...</th>\n",
              "      <td>...</td>\n",
              "      <td>...</td>\n",
              "      <td>...</td>\n",
              "      <td>...</td>\n",
              "    </tr>\n",
              "    <tr>\n",
              "      <th>11886194</th>\n",
              "      <td>4498.00</td>\n",
              "      <td>0.0</td>\n",
              "      <td>0.0</td>\n",
              "      <td>1300.0</td>\n",
              "    </tr>\n",
              "    <tr>\n",
              "      <th>11886221</th>\n",
              "      <td>4135.03</td>\n",
              "      <td>0.0</td>\n",
              "      <td>0.0</td>\n",
              "      <td>3150.0</td>\n",
              "    </tr>\n",
              "    <tr>\n",
              "      <th>11886229</th>\n",
              "      <td>21242.84</td>\n",
              "      <td>0.0</td>\n",
              "      <td>0.0</td>\n",
              "      <td>1000.0</td>\n",
              "    </tr>\n",
              "    <tr>\n",
              "      <th>11886303</th>\n",
              "      <td>1000.00</td>\n",
              "      <td>0.0</td>\n",
              "      <td>0.0</td>\n",
              "      <td>3550.0</td>\n",
              "    </tr>\n",
              "    <tr>\n",
              "      <th>11886317</th>\n",
              "      <td>1656.94</td>\n",
              "      <td>0.0</td>\n",
              "      <td>0.0</td>\n",
              "      <td>2550.0</td>\n",
              "    </tr>\n",
              "  </tbody>\n",
              "</table>\n",
              "<p>185880 rows × 4 columns</p>\n",
              "</div>\n",
              "      <button class=\"colab-df-convert\" onclick=\"convertToInteractive('df-9dda626c-54b6-4469-a749-7b3bd5a13aa0')\"\n",
              "              title=\"Convert this dataframe to an interactive table.\"\n",
              "              style=\"display:none;\">\n",
              "        \n",
              "  <svg xmlns=\"http://www.w3.org/2000/svg\" height=\"24px\"viewBox=\"0 0 24 24\"\n",
              "       width=\"24px\">\n",
              "    <path d=\"M0 0h24v24H0V0z\" fill=\"none\"/>\n",
              "    <path d=\"M18.56 5.44l.94 2.06.94-2.06 2.06-.94-2.06-.94-.94-2.06-.94 2.06-2.06.94zm-11 1L8.5 8.5l.94-2.06 2.06-.94-2.06-.94L8.5 2.5l-.94 2.06-2.06.94zm10 10l.94 2.06.94-2.06 2.06-.94-2.06-.94-.94-2.06-.94 2.06-2.06.94z\"/><path d=\"M17.41 7.96l-1.37-1.37c-.4-.4-.92-.59-1.43-.59-.52 0-1.04.2-1.43.59L10.3 9.45l-7.72 7.72c-.78.78-.78 2.05 0 2.83L4 21.41c.39.39.9.59 1.41.59.51 0 1.02-.2 1.41-.59l7.78-7.78 2.81-2.81c.8-.78.8-2.07 0-2.86zM5.41 20L4 18.59l7.72-7.72 1.47 1.35L5.41 20z\"/>\n",
              "  </svg>\n",
              "      </button>\n",
              "      \n",
              "  <style>\n",
              "    .colab-df-container {\n",
              "      display:flex;\n",
              "      flex-wrap:wrap;\n",
              "      gap: 12px;\n",
              "    }\n",
              "\n",
              "    .colab-df-convert {\n",
              "      background-color: #E8F0FE;\n",
              "      border: none;\n",
              "      border-radius: 50%;\n",
              "      cursor: pointer;\n",
              "      display: none;\n",
              "      fill: #1967D2;\n",
              "      height: 32px;\n",
              "      padding: 0 0 0 0;\n",
              "      width: 32px;\n",
              "    }\n",
              "\n",
              "    .colab-df-convert:hover {\n",
              "      background-color: #E2EBFA;\n",
              "      box-shadow: 0px 1px 2px rgba(60, 64, 67, 0.3), 0px 1px 3px 1px rgba(60, 64, 67, 0.15);\n",
              "      fill: #174EA6;\n",
              "    }\n",
              "\n",
              "    [theme=dark] .colab-df-convert {\n",
              "      background-color: #3B4455;\n",
              "      fill: #D2E3FC;\n",
              "    }\n",
              "\n",
              "    [theme=dark] .colab-df-convert:hover {\n",
              "      background-color: #434B5C;\n",
              "      box-shadow: 0px 1px 3px 1px rgba(0, 0, 0, 0.15);\n",
              "      filter: drop-shadow(0px 1px 2px rgba(0, 0, 0, 0.3));\n",
              "      fill: #FFFFFF;\n",
              "    }\n",
              "  </style>\n",
              "\n",
              "      <script>\n",
              "        const buttonEl =\n",
              "          document.querySelector('#df-9dda626c-54b6-4469-a749-7b3bd5a13aa0 button.colab-df-convert');\n",
              "        buttonEl.style.display =\n",
              "          google.colab.kernel.accessAllowed ? 'block' : 'none';\n",
              "\n",
              "        async function convertToInteractive(key) {\n",
              "          const element = document.querySelector('#df-9dda626c-54b6-4469-a749-7b3bd5a13aa0');\n",
              "          const dataTable =\n",
              "            await google.colab.kernel.invokeFunction('convertToInteractive',\n",
              "                                                     [key], {});\n",
              "          if (!dataTable) return;\n",
              "\n",
              "          const docLinkHtml = 'Like what you see? Visit the ' +\n",
              "            '<a target=\"_blank\" href=https://colab.research.google.com/notebooks/data_table.ipynb>data table notebook</a>'\n",
              "            + ' to learn more about interactive tables.';\n",
              "          element.innerHTML = '';\n",
              "          dataTable['output_type'] = 'display_data';\n",
              "          await google.colab.output.renderOutput(dataTable, element);\n",
              "          const docLink = document.createElement('div');\n",
              "          docLink.innerHTML = docLinkHtml;\n",
              "          element.appendChild(docLink);\n",
              "        }\n",
              "      </script>\n",
              "    </div>\n",
              "  </div>\n",
              "  "
            ]
          },
          "metadata": {},
          "execution_count": 40
        }
      ],
      "source": [
        "# Fazer aparecer o nome das colunas que o método julgou interessante\n",
        "cols = fit.get_support(indices=True)\n",
        "x.iloc[:, cols]"
      ]
    },
    {
      "cell_type": "markdown",
      "metadata": {
        "id": "MAeAzm-Dp_Cc"
      },
      "source": [
        "Com este novo teste, podemos perceber que estávamos na direção correta em nossa análise, mas que deixamos passar a coluna do num_atend, que julgamos não ser relevante a resposta final, mas que o algoritmo considera importante. "
      ]
    },
    {
      "cell_type": "markdown",
      "metadata": {
        "id": "99j59A5j3z5Y"
      },
      "source": [
        "##Engajado"
      ]
    },
    {
      "cell_type": "code",
      "execution_count": 41,
      "metadata": {
        "id": "TbB1ERCG8mSV"
      },
      "outputs": [],
      "source": [
        "from sklearn.feature_selection import SelectKBest\n",
        "from sklearn.feature_selection import f_classif, mutual_info_classif"
      ]
    },
    {
      "cell_type": "code",
      "execution_count": 42,
      "metadata": {
        "id": "o9i2PxmH3y-T"
      },
      "outputs": [],
      "source": [
        "#Definindo as variáveis que serão usadas para a feature engineering\n",
        "x = client.drop(['ind_atrito', 'ind_engaj'], axis = 1)\n",
        "y = client['ind_engaj']"
      ]
    },
    {
      "cell_type": "code",
      "execution_count": 43,
      "metadata": {
        "id": "EYe-zOvC5POX"
      },
      "outputs": [],
      "source": [
        "## Chamar o método que verifica os melhores parâmetros f_classif que utiliza da progressão linear para ajustar os dados e utilizando as top 4 features\n",
        "f_classif = SelectKBest (score_func=f_classif, k=4)"
      ]
    },
    {
      "cell_type": "code",
      "execution_count": 44,
      "metadata": {
        "id": "2YvbDTSE5Q37"
      },
      "outputs": [],
      "source": [
        "fit = f_classif.fit(x, y)"
      ]
    },
    {
      "cell_type": "code",
      "execution_count": 45,
      "metadata": {
        "id": "S_g0o9h15SjU"
      },
      "outputs": [],
      "source": [
        "features = fit.transform(x)"
      ]
    },
    {
      "cell_type": "code",
      "execution_count": 46,
      "metadata": {
        "id": "3eAH81qM8O86",
        "colab": {
          "base_uri": "https://localhost:8080/",
          "height": 424
        },
        "outputId": "61b2950b-6d9a-413a-8450-c3d144ee684b"
      },
      "outputs": [
        {
          "output_type": "execute_result",
          "data": {
            "text/plain": [
              "          vlr_credito  vlr_saldo  num_produtos  qtd_oper\n",
              "0             6667.88    1360.96           1.0       8.0\n",
              "18            1599.31      64.02           1.0       3.0\n",
              "30           10921.59    1264.50           2.0      12.0\n",
              "35             305.47    1400.00           1.0       6.0\n",
              "85           51878.67     700.00           1.0      31.0\n",
              "...               ...        ...           ...       ...\n",
              "11886194     10384.70    4498.00           1.0      11.0\n",
              "11886221    100116.42    4135.03           7.0      31.0\n",
              "11886229     25947.83   21242.84           5.0       7.0\n",
              "11886303      2170.00    1000.00           1.0       9.0\n",
              "11886317     18953.09    1656.94           3.0      12.0\n",
              "\n",
              "[185880 rows x 4 columns]"
            ],
            "text/html": [
              "\n",
              "  <div id=\"df-26020829-7db1-468e-8e28-720fbc5aa337\">\n",
              "    <div class=\"colab-df-container\">\n",
              "      <div>\n",
              "<style scoped>\n",
              "    .dataframe tbody tr th:only-of-type {\n",
              "        vertical-align: middle;\n",
              "    }\n",
              "\n",
              "    .dataframe tbody tr th {\n",
              "        vertical-align: top;\n",
              "    }\n",
              "\n",
              "    .dataframe thead th {\n",
              "        text-align: right;\n",
              "    }\n",
              "</style>\n",
              "<table border=\"1\" class=\"dataframe\">\n",
              "  <thead>\n",
              "    <tr style=\"text-align: right;\">\n",
              "      <th></th>\n",
              "      <th>vlr_credito</th>\n",
              "      <th>vlr_saldo</th>\n",
              "      <th>num_produtos</th>\n",
              "      <th>qtd_oper</th>\n",
              "    </tr>\n",
              "  </thead>\n",
              "  <tbody>\n",
              "    <tr>\n",
              "      <th>0</th>\n",
              "      <td>6667.88</td>\n",
              "      <td>1360.96</td>\n",
              "      <td>1.0</td>\n",
              "      <td>8.0</td>\n",
              "    </tr>\n",
              "    <tr>\n",
              "      <th>18</th>\n",
              "      <td>1599.31</td>\n",
              "      <td>64.02</td>\n",
              "      <td>1.0</td>\n",
              "      <td>3.0</td>\n",
              "    </tr>\n",
              "    <tr>\n",
              "      <th>30</th>\n",
              "      <td>10921.59</td>\n",
              "      <td>1264.50</td>\n",
              "      <td>2.0</td>\n",
              "      <td>12.0</td>\n",
              "    </tr>\n",
              "    <tr>\n",
              "      <th>35</th>\n",
              "      <td>305.47</td>\n",
              "      <td>1400.00</td>\n",
              "      <td>1.0</td>\n",
              "      <td>6.0</td>\n",
              "    </tr>\n",
              "    <tr>\n",
              "      <th>85</th>\n",
              "      <td>51878.67</td>\n",
              "      <td>700.00</td>\n",
              "      <td>1.0</td>\n",
              "      <td>31.0</td>\n",
              "    </tr>\n",
              "    <tr>\n",
              "      <th>...</th>\n",
              "      <td>...</td>\n",
              "      <td>...</td>\n",
              "      <td>...</td>\n",
              "      <td>...</td>\n",
              "    </tr>\n",
              "    <tr>\n",
              "      <th>11886194</th>\n",
              "      <td>10384.70</td>\n",
              "      <td>4498.00</td>\n",
              "      <td>1.0</td>\n",
              "      <td>11.0</td>\n",
              "    </tr>\n",
              "    <tr>\n",
              "      <th>11886221</th>\n",
              "      <td>100116.42</td>\n",
              "      <td>4135.03</td>\n",
              "      <td>7.0</td>\n",
              "      <td>31.0</td>\n",
              "    </tr>\n",
              "    <tr>\n",
              "      <th>11886229</th>\n",
              "      <td>25947.83</td>\n",
              "      <td>21242.84</td>\n",
              "      <td>5.0</td>\n",
              "      <td>7.0</td>\n",
              "    </tr>\n",
              "    <tr>\n",
              "      <th>11886303</th>\n",
              "      <td>2170.00</td>\n",
              "      <td>1000.00</td>\n",
              "      <td>1.0</td>\n",
              "      <td>9.0</td>\n",
              "    </tr>\n",
              "    <tr>\n",
              "      <th>11886317</th>\n",
              "      <td>18953.09</td>\n",
              "      <td>1656.94</td>\n",
              "      <td>3.0</td>\n",
              "      <td>12.0</td>\n",
              "    </tr>\n",
              "  </tbody>\n",
              "</table>\n",
              "<p>185880 rows × 4 columns</p>\n",
              "</div>\n",
              "      <button class=\"colab-df-convert\" onclick=\"convertToInteractive('df-26020829-7db1-468e-8e28-720fbc5aa337')\"\n",
              "              title=\"Convert this dataframe to an interactive table.\"\n",
              "              style=\"display:none;\">\n",
              "        \n",
              "  <svg xmlns=\"http://www.w3.org/2000/svg\" height=\"24px\"viewBox=\"0 0 24 24\"\n",
              "       width=\"24px\">\n",
              "    <path d=\"M0 0h24v24H0V0z\" fill=\"none\"/>\n",
              "    <path d=\"M18.56 5.44l.94 2.06.94-2.06 2.06-.94-2.06-.94-.94-2.06-.94 2.06-2.06.94zm-11 1L8.5 8.5l.94-2.06 2.06-.94-2.06-.94L8.5 2.5l-.94 2.06-2.06.94zm10 10l.94 2.06.94-2.06 2.06-.94-2.06-.94-.94-2.06-.94 2.06-2.06.94z\"/><path d=\"M17.41 7.96l-1.37-1.37c-.4-.4-.92-.59-1.43-.59-.52 0-1.04.2-1.43.59L10.3 9.45l-7.72 7.72c-.78.78-.78 2.05 0 2.83L4 21.41c.39.39.9.59 1.41.59.51 0 1.02-.2 1.41-.59l7.78-7.78 2.81-2.81c.8-.78.8-2.07 0-2.86zM5.41 20L4 18.59l7.72-7.72 1.47 1.35L5.41 20z\"/>\n",
              "  </svg>\n",
              "      </button>\n",
              "      \n",
              "  <style>\n",
              "    .colab-df-container {\n",
              "      display:flex;\n",
              "      flex-wrap:wrap;\n",
              "      gap: 12px;\n",
              "    }\n",
              "\n",
              "    .colab-df-convert {\n",
              "      background-color: #E8F0FE;\n",
              "      border: none;\n",
              "      border-radius: 50%;\n",
              "      cursor: pointer;\n",
              "      display: none;\n",
              "      fill: #1967D2;\n",
              "      height: 32px;\n",
              "      padding: 0 0 0 0;\n",
              "      width: 32px;\n",
              "    }\n",
              "\n",
              "    .colab-df-convert:hover {\n",
              "      background-color: #E2EBFA;\n",
              "      box-shadow: 0px 1px 2px rgba(60, 64, 67, 0.3), 0px 1px 3px 1px rgba(60, 64, 67, 0.15);\n",
              "      fill: #174EA6;\n",
              "    }\n",
              "\n",
              "    [theme=dark] .colab-df-convert {\n",
              "      background-color: #3B4455;\n",
              "      fill: #D2E3FC;\n",
              "    }\n",
              "\n",
              "    [theme=dark] .colab-df-convert:hover {\n",
              "      background-color: #434B5C;\n",
              "      box-shadow: 0px 1px 3px 1px rgba(0, 0, 0, 0.15);\n",
              "      filter: drop-shadow(0px 1px 2px rgba(0, 0, 0, 0.3));\n",
              "      fill: #FFFFFF;\n",
              "    }\n",
              "  </style>\n",
              "\n",
              "      <script>\n",
              "        const buttonEl =\n",
              "          document.querySelector('#df-26020829-7db1-468e-8e28-720fbc5aa337 button.colab-df-convert');\n",
              "        buttonEl.style.display =\n",
              "          google.colab.kernel.accessAllowed ? 'block' : 'none';\n",
              "\n",
              "        async function convertToInteractive(key) {\n",
              "          const element = document.querySelector('#df-26020829-7db1-468e-8e28-720fbc5aa337');\n",
              "          const dataTable =\n",
              "            await google.colab.kernel.invokeFunction('convertToInteractive',\n",
              "                                                     [key], {});\n",
              "          if (!dataTable) return;\n",
              "\n",
              "          const docLinkHtml = 'Like what you see? Visit the ' +\n",
              "            '<a target=\"_blank\" href=https://colab.research.google.com/notebooks/data_table.ipynb>data table notebook</a>'\n",
              "            + ' to learn more about interactive tables.';\n",
              "          element.innerHTML = '';\n",
              "          dataTable['output_type'] = 'display_data';\n",
              "          await google.colab.output.renderOutput(dataTable, element);\n",
              "          const docLink = document.createElement('div');\n",
              "          docLink.innerHTML = docLinkHtml;\n",
              "          element.appendChild(docLink);\n",
              "        }\n",
              "      </script>\n",
              "    </div>\n",
              "  </div>\n",
              "  "
            ]
          },
          "metadata": {},
          "execution_count": 46
        }
      ],
      "source": [
        "cols = fit.get_support(indices=True)\n",
        "x.iloc[:, cols]"
      ]
    },
    {
      "cell_type": "markdown",
      "metadata": {
        "id": "EgJLueJE9aQV"
      },
      "source": [
        "##Novo cliente"
      ]
    },
    {
      "cell_type": "code",
      "execution_count": 47,
      "metadata": {
        "id": "bcpmwYJE9fxH"
      },
      "outputs": [],
      "source": [
        "#Importar a biblioteca\n",
        "from sklearn.feature_selection import SelectKBest\n",
        "from sklearn.feature_selection import f_classif, mutual_info_classif"
      ]
    },
    {
      "cell_type": "code",
      "execution_count": 48,
      "metadata": {
        "id": "klXCfa9m9gJ9"
      },
      "outputs": [],
      "source": [
        "# Identificar as variáveis entre colunas de análise e coluna de resposta do teste\n",
        "x = not_client.drop(['ind_novo_cli'], axis=1)\n",
        "y = not_client['ind_novo_cli']"
      ]
    },
    {
      "cell_type": "code",
      "execution_count": 49,
      "metadata": {
        "id": "sYmgiOPF9gji"
      },
      "outputs": [],
      "source": [
        "# Chamar o método que verifica os melhores parâmetros f_classif que utiliza da progressão linear para ajustar os dados\n",
        "f_classif = SelectKBest(score_func = f_classif, k=4)"
      ]
    },
    {
      "cell_type": "code",
      "execution_count": 50,
      "metadata": {
        "id": "AcPK8mUF9hD8"
      },
      "outputs": [],
      "source": [
        "fit = f_classif.fit(x, y)"
      ]
    },
    {
      "cell_type": "code",
      "execution_count": 51,
      "metadata": {
        "id": "8BeSxDEE9hUn"
      },
      "outputs": [],
      "source": [
        "features = fit.transform(x)"
      ]
    },
    {
      "cell_type": "code",
      "execution_count": 52,
      "metadata": {
        "id": "gAuEyxGd9hrz",
        "colab": {
          "base_uri": "https://localhost:8080/",
          "height": 424
        },
        "outputId": "ab72affd-f7f6-45bf-8477-bf1800dd59cd"
      },
      "outputs": [
        {
          "output_type": "execute_result",
          "data": {
            "text/plain": [
              "          vlr_credito  vlr_score  qtd_restr  vlr_renda\n",
              "152            760.81      502.0        1.0      900.0\n",
              "209              0.00      170.0        2.0     4250.0\n",
              "891           1683.36      183.0        2.0      600.0\n",
              "1033          4315.88      581.0        1.0     3500.0\n",
              "1167             0.00      153.0        1.0     1300.0\n",
              "...               ...        ...        ...        ...\n",
              "11883342       537.36      397.0        2.0     3650.0\n",
              "11885919     61658.13      146.0        6.0      850.0\n",
              "11886057         0.00      272.0        1.0      750.0\n",
              "11886185      4815.51      189.0        6.0     1500.0\n",
              "11886273         0.00      407.0        4.0     1300.0\n",
              "\n",
              "[59220 rows x 4 columns]"
            ],
            "text/html": [
              "\n",
              "  <div id=\"df-e1bb7d68-ddd3-4058-8a87-102872486a97\">\n",
              "    <div class=\"colab-df-container\">\n",
              "      <div>\n",
              "<style scoped>\n",
              "    .dataframe tbody tr th:only-of-type {\n",
              "        vertical-align: middle;\n",
              "    }\n",
              "\n",
              "    .dataframe tbody tr th {\n",
              "        vertical-align: top;\n",
              "    }\n",
              "\n",
              "    .dataframe thead th {\n",
              "        text-align: right;\n",
              "    }\n",
              "</style>\n",
              "<table border=\"1\" class=\"dataframe\">\n",
              "  <thead>\n",
              "    <tr style=\"text-align: right;\">\n",
              "      <th></th>\n",
              "      <th>vlr_credito</th>\n",
              "      <th>vlr_score</th>\n",
              "      <th>qtd_restr</th>\n",
              "      <th>vlr_renda</th>\n",
              "    </tr>\n",
              "  </thead>\n",
              "  <tbody>\n",
              "    <tr>\n",
              "      <th>152</th>\n",
              "      <td>760.81</td>\n",
              "      <td>502.0</td>\n",
              "      <td>1.0</td>\n",
              "      <td>900.0</td>\n",
              "    </tr>\n",
              "    <tr>\n",
              "      <th>209</th>\n",
              "      <td>0.00</td>\n",
              "      <td>170.0</td>\n",
              "      <td>2.0</td>\n",
              "      <td>4250.0</td>\n",
              "    </tr>\n",
              "    <tr>\n",
              "      <th>891</th>\n",
              "      <td>1683.36</td>\n",
              "      <td>183.0</td>\n",
              "      <td>2.0</td>\n",
              "      <td>600.0</td>\n",
              "    </tr>\n",
              "    <tr>\n",
              "      <th>1033</th>\n",
              "      <td>4315.88</td>\n",
              "      <td>581.0</td>\n",
              "      <td>1.0</td>\n",
              "      <td>3500.0</td>\n",
              "    </tr>\n",
              "    <tr>\n",
              "      <th>1167</th>\n",
              "      <td>0.00</td>\n",
              "      <td>153.0</td>\n",
              "      <td>1.0</td>\n",
              "      <td>1300.0</td>\n",
              "    </tr>\n",
              "    <tr>\n",
              "      <th>...</th>\n",
              "      <td>...</td>\n",
              "      <td>...</td>\n",
              "      <td>...</td>\n",
              "      <td>...</td>\n",
              "    </tr>\n",
              "    <tr>\n",
              "      <th>11883342</th>\n",
              "      <td>537.36</td>\n",
              "      <td>397.0</td>\n",
              "      <td>2.0</td>\n",
              "      <td>3650.0</td>\n",
              "    </tr>\n",
              "    <tr>\n",
              "      <th>11885919</th>\n",
              "      <td>61658.13</td>\n",
              "      <td>146.0</td>\n",
              "      <td>6.0</td>\n",
              "      <td>850.0</td>\n",
              "    </tr>\n",
              "    <tr>\n",
              "      <th>11886057</th>\n",
              "      <td>0.00</td>\n",
              "      <td>272.0</td>\n",
              "      <td>1.0</td>\n",
              "      <td>750.0</td>\n",
              "    </tr>\n",
              "    <tr>\n",
              "      <th>11886185</th>\n",
              "      <td>4815.51</td>\n",
              "      <td>189.0</td>\n",
              "      <td>6.0</td>\n",
              "      <td>1500.0</td>\n",
              "    </tr>\n",
              "    <tr>\n",
              "      <th>11886273</th>\n",
              "      <td>0.00</td>\n",
              "      <td>407.0</td>\n",
              "      <td>4.0</td>\n",
              "      <td>1300.0</td>\n",
              "    </tr>\n",
              "  </tbody>\n",
              "</table>\n",
              "<p>59220 rows × 4 columns</p>\n",
              "</div>\n",
              "      <button class=\"colab-df-convert\" onclick=\"convertToInteractive('df-e1bb7d68-ddd3-4058-8a87-102872486a97')\"\n",
              "              title=\"Convert this dataframe to an interactive table.\"\n",
              "              style=\"display:none;\">\n",
              "        \n",
              "  <svg xmlns=\"http://www.w3.org/2000/svg\" height=\"24px\"viewBox=\"0 0 24 24\"\n",
              "       width=\"24px\">\n",
              "    <path d=\"M0 0h24v24H0V0z\" fill=\"none\"/>\n",
              "    <path d=\"M18.56 5.44l.94 2.06.94-2.06 2.06-.94-2.06-.94-.94-2.06-.94 2.06-2.06.94zm-11 1L8.5 8.5l.94-2.06 2.06-.94-2.06-.94L8.5 2.5l-.94 2.06-2.06.94zm10 10l.94 2.06.94-2.06 2.06-.94-2.06-.94-.94-2.06-.94 2.06-2.06.94z\"/><path d=\"M17.41 7.96l-1.37-1.37c-.4-.4-.92-.59-1.43-.59-.52 0-1.04.2-1.43.59L10.3 9.45l-7.72 7.72c-.78.78-.78 2.05 0 2.83L4 21.41c.39.39.9.59 1.41.59.51 0 1.02-.2 1.41-.59l7.78-7.78 2.81-2.81c.8-.78.8-2.07 0-2.86zM5.41 20L4 18.59l7.72-7.72 1.47 1.35L5.41 20z\"/>\n",
              "  </svg>\n",
              "      </button>\n",
              "      \n",
              "  <style>\n",
              "    .colab-df-container {\n",
              "      display:flex;\n",
              "      flex-wrap:wrap;\n",
              "      gap: 12px;\n",
              "    }\n",
              "\n",
              "    .colab-df-convert {\n",
              "      background-color: #E8F0FE;\n",
              "      border: none;\n",
              "      border-radius: 50%;\n",
              "      cursor: pointer;\n",
              "      display: none;\n",
              "      fill: #1967D2;\n",
              "      height: 32px;\n",
              "      padding: 0 0 0 0;\n",
              "      width: 32px;\n",
              "    }\n",
              "\n",
              "    .colab-df-convert:hover {\n",
              "      background-color: #E2EBFA;\n",
              "      box-shadow: 0px 1px 2px rgba(60, 64, 67, 0.3), 0px 1px 3px 1px rgba(60, 64, 67, 0.15);\n",
              "      fill: #174EA6;\n",
              "    }\n",
              "\n",
              "    [theme=dark] .colab-df-convert {\n",
              "      background-color: #3B4455;\n",
              "      fill: #D2E3FC;\n",
              "    }\n",
              "\n",
              "    [theme=dark] .colab-df-convert:hover {\n",
              "      background-color: #434B5C;\n",
              "      box-shadow: 0px 1px 3px 1px rgba(0, 0, 0, 0.15);\n",
              "      filter: drop-shadow(0px 1px 2px rgba(0, 0, 0, 0.3));\n",
              "      fill: #FFFFFF;\n",
              "    }\n",
              "  </style>\n",
              "\n",
              "      <script>\n",
              "        const buttonEl =\n",
              "          document.querySelector('#df-e1bb7d68-ddd3-4058-8a87-102872486a97 button.colab-df-convert');\n",
              "        buttonEl.style.display =\n",
              "          google.colab.kernel.accessAllowed ? 'block' : 'none';\n",
              "\n",
              "        async function convertToInteractive(key) {\n",
              "          const element = document.querySelector('#df-e1bb7d68-ddd3-4058-8a87-102872486a97');\n",
              "          const dataTable =\n",
              "            await google.colab.kernel.invokeFunction('convertToInteractive',\n",
              "                                                     [key], {});\n",
              "          if (!dataTable) return;\n",
              "\n",
              "          const docLinkHtml = 'Like what you see? Visit the ' +\n",
              "            '<a target=\"_blank\" href=https://colab.research.google.com/notebooks/data_table.ipynb>data table notebook</a>'\n",
              "            + ' to learn more about interactive tables.';\n",
              "          element.innerHTML = '';\n",
              "          dataTable['output_type'] = 'display_data';\n",
              "          await google.colab.output.renderOutput(dataTable, element);\n",
              "          const docLink = document.createElement('div');\n",
              "          docLink.innerHTML = docLinkHtml;\n",
              "          element.appendChild(docLink);\n",
              "        }\n",
              "      </script>\n",
              "    </div>\n",
              "  </div>\n",
              "  "
            ]
          },
          "metadata": {},
          "execution_count": 52
        }
      ],
      "source": [
        "# Fazer aparecer o nome das colunas que o método julgou interessante\n",
        "cols = fit.get_support(indices=True)\n",
        "x.iloc[:, cols]"
      ]
    },
    {
      "cell_type": "markdown",
      "metadata": {
        "id": "M33TDV7TLR08"
      },
      "source": [
        "# Normalização e padronização das colunas"
      ]
    },
    {
      "cell_type": "code",
      "execution_count": 53,
      "metadata": {
        "id": "TJWOIYscLWa6",
        "colab": {
          "base_uri": "https://localhost:8080/",
          "height": 543
        },
        "outputId": "6b3c4c4e-2fee-4b43-da55-52e3ecc74874"
      },
      "outputs": [
        {
          "output_type": "execute_result",
          "data": {
            "text/plain": [
              "(array([1.85717e+05, 0.00000e+00, 0.00000e+00, 0.00000e+00, 0.00000e+00,\n",
              "        0.00000e+00, 0.00000e+00, 0.00000e+00, 0.00000e+00, 0.00000e+00,\n",
              "        0.00000e+00, 0.00000e+00, 0.00000e+00, 0.00000e+00, 0.00000e+00,\n",
              "        0.00000e+00, 0.00000e+00, 0.00000e+00, 0.00000e+00, 0.00000e+00,\n",
              "        0.00000e+00, 0.00000e+00, 0.00000e+00, 0.00000e+00, 0.00000e+00,\n",
              "        1.52000e+02, 0.00000e+00, 0.00000e+00, 0.00000e+00, 0.00000e+00,\n",
              "        0.00000e+00, 0.00000e+00, 0.00000e+00, 0.00000e+00, 0.00000e+00,\n",
              "        0.00000e+00, 0.00000e+00, 0.00000e+00, 0.00000e+00, 0.00000e+00,\n",
              "        0.00000e+00, 0.00000e+00, 0.00000e+00, 0.00000e+00, 0.00000e+00,\n",
              "        0.00000e+00, 0.00000e+00, 0.00000e+00, 0.00000e+00, 1.10000e+01]),\n",
              " array([0.  , 0.04, 0.08, 0.12, 0.16, 0.2 , 0.24, 0.28, 0.32, 0.36, 0.4 ,\n",
              "        0.44, 0.48, 0.52, 0.56, 0.6 , 0.64, 0.68, 0.72, 0.76, 0.8 , 0.84,\n",
              "        0.88, 0.92, 0.96, 1.  , 1.04, 1.08, 1.12, 1.16, 1.2 , 1.24, 1.28,\n",
              "        1.32, 1.36, 1.4 , 1.44, 1.48, 1.52, 1.56, 1.6 , 1.64, 1.68, 1.72,\n",
              "        1.76, 1.8 , 1.84, 1.88, 1.92, 1.96, 2.  ]),\n",
              " <a list of 50 Patch objects>)"
            ]
          },
          "metadata": {},
          "execution_count": 53
        },
        {
          "output_type": "display_data",
          "data": {
            "text/plain": [
              "<Figure size 432x288 with 1 Axes>"
            ],
            "image/png": "[encoded data removed]"
          },
          "metadata": {
            "needs_background": "light"
          }
        }
      ],
      "source": [
        "import matplotlib.pyplot as plt\n",
        "%matplotlib inline\n",
        "from sklearn.preprocessing import MinMaxScaler\n",
        "plt.hist(client['num_atend_atrs'], bins=50)"
      ]
    },
    {
      "cell_type": "code",
      "execution_count": 54,
      "metadata": {
        "id": "hFndgQnqHhF2",
        "colab": {
          "base_uri": "https://localhost:8080/",
          "height": 364
        },
        "outputId": "554ed3fa-df77-4cf1-9b97-5729fa3ab099"
      },
      "outputs": [
        {
          "output_type": "execute_result",
          "data": {
            "text/plain": [
              "        vlr_credito      vlr_saldo  num_atend_atrs      vlr_score  \\\n",
              "count  1.858800e+05  185880.000000   185880.000000  185880.000000   \n",
              "mean   4.112444e+04    5565.679638        0.000936     375.723268   \n",
              "std    6.715217e+04    9556.055169        0.032459     143.455257   \n",
              "min    0.000000e+00       0.010000        0.000000       0.000000   \n",
              "25%    7.896820e+03     880.052500        0.000000     285.000000   \n",
              "50%    2.074161e+04    2185.470000        0.000000     384.000000   \n",
              "75%    4.597636e+04    6191.815000        0.000000     462.000000   \n",
              "max    3.699561e+06  741055.970000        2.000000     973.000000   \n",
              "\n",
              "        num_produtos      num_atend       qtd_oper      qtd_reclm  \\\n",
              "count  185880.000000  185880.000000  185880.000000  185880.000000   \n",
              "mean        2.506472       0.003578      14.076001       0.000151   \n",
              "std         2.237989       0.074894      10.516395       0.012272   \n",
              "min         1.000000       0.000000       0.000000       0.000000   \n",
              "25%         1.000000       0.000000       7.000000       0.000000   \n",
              "50%         2.000000       0.000000      12.000000       0.000000   \n",
              "75%         3.000000       0.000000      18.000000       0.000000   \n",
              "max        88.000000       5.000000     265.000000       1.000000   \n",
              "\n",
              "          qtd_restr      vlr_renda     ind_atrito      ind_engaj  \n",
              "count  185880.00000  185880.000000  185880.000000  185880.000000  \n",
              "mean        3.30857    3855.009415       0.000522       0.340515  \n",
              "std         3.74673    6151.065231       0.022838       0.473884  \n",
              "min         1.00000     250.000000       0.000000       0.000000  \n",
              "25%         1.00000    1350.000000       0.000000       0.000000  \n",
              "50%         2.00000    2200.000000       0.000000       0.000000  \n",
              "75%         4.00000    4300.000000       0.000000       1.000000  \n",
              "max       110.00000  360200.000000       1.000000       1.000000  "
            ],
            "text/html": [
              "\n",
              "  <div id=\"df-e93c0978-f74c-4735-939d-ceab6dad43d8\">\n",
              "    <div class=\"colab-df-container\">\n",
              "      <div>\n",
              "<style scoped>\n",
              "    .dataframe tbody tr th:only-of-type {\n",
              "        vertical-align: middle;\n",
              "    }\n",
              "\n",
              "    .dataframe tbody tr th {\n",
              "        vertical-align: top;\n",
              "    }\n",
              "\n",
              "    .dataframe thead th {\n",
              "        text-align: right;\n",
              "    }\n",
              "</style>\n",
              "<table border=\"1\" class=\"dataframe\">\n",
              "  <thead>\n",
              "    <tr style=\"text-align: right;\">\n",
              "      <th></th>\n",
              "      <th>vlr_credito</th>\n",
              "      <th>vlr_saldo</th>\n",
              "      <th>num_atend_atrs</th>\n",
              "      <th>vlr_score</th>\n",
              "      <th>num_produtos</th>\n",
              "      <th>num_atend</th>\n",
              "      <th>qtd_oper</th>\n",
              "      <th>qtd_reclm</th>\n",
              "      <th>qtd_restr</th>\n",
              "      <th>vlr_renda</th>\n",
              "      <th>ind_atrito</th>\n",
              "      <th>ind_engaj</th>\n",
              "    </tr>\n",
              "  </thead>\n",
              "  <tbody>\n",
              "    <tr>\n",
              "      <th>count</th>\n",
              "      <td>1.858800e+05</td>\n",
              "      <td>185880.000000</td>\n",
              "      <td>185880.000000</td>\n",
              "      <td>185880.000000</td>\n",
              "      <td>185880.000000</td>\n",
              "      <td>185880.000000</td>\n",
              "      <td>185880.000000</td>\n",
              "      <td>185880.000000</td>\n",
              "      <td>185880.00000</td>\n",
              "      <td>185880.000000</td>\n",
              "      <td>185880.000000</td>\n",
              "      <td>185880.000000</td>\n",
              "    </tr>\n",
              "    <tr>\n",
              "      <th>mean</th>\n",
              "      <td>4.112444e+04</td>\n",
              "      <td>5565.679638</td>\n",
              "      <td>0.000936</td>\n",
              "      <td>375.723268</td>\n",
              "      <td>2.506472</td>\n",
              "      <td>0.003578</td>\n",
              "      <td>14.076001</td>\n",
              "      <td>0.000151</td>\n",
              "      <td>3.30857</td>\n",
              "      <td>3855.009415</td>\n",
              "      <td>0.000522</td>\n",
              "      <td>0.340515</td>\n",
              "    </tr>\n",
              "    <tr>\n",
              "      <th>std</th>\n",
              "      <td>6.715217e+04</td>\n",
              "      <td>9556.055169</td>\n",
              "      <td>0.032459</td>\n",
              "      <td>143.455257</td>\n",
              "      <td>2.237989</td>\n",
              "      <td>0.074894</td>\n",
              "      <td>10.516395</td>\n",
              "      <td>0.012272</td>\n",
              "      <td>3.74673</td>\n",
              "      <td>6151.065231</td>\n",
              "      <td>0.022838</td>\n",
              "      <td>0.473884</td>\n",
              "    </tr>\n",
              "    <tr>\n",
              "      <th>min</th>\n",
              "      <td>0.000000e+00</td>\n",
              "      <td>0.010000</td>\n",
              "      <td>0.000000</td>\n",
              "      <td>0.000000</td>\n",
              "      <td>1.000000</td>\n",
              "      <td>0.000000</td>\n",
              "      <td>0.000000</td>\n",
              "      <td>0.000000</td>\n",
              "      <td>1.00000</td>\n",
              "      <td>250.000000</td>\n",
              "      <td>0.000000</td>\n",
              "      <td>0.000000</td>\n",
              "    </tr>\n",
              "    <tr>\n",
              "      <th>25%</th>\n",
              "      <td>7.896820e+03</td>\n",
              "      <td>880.052500</td>\n",
              "      <td>0.000000</td>\n",
              "      <td>285.000000</td>\n",
              "      <td>1.000000</td>\n",
              "      <td>0.000000</td>\n",
              "      <td>7.000000</td>\n",
              "      <td>0.000000</td>\n",
              "      <td>1.00000</td>\n",
              "      <td>1350.000000</td>\n",
              "      <td>0.000000</td>\n",
              "      <td>0.000000</td>\n",
              "    </tr>\n",
              "    <tr>\n",
              "      <th>50%</th>\n",
              "      <td>2.074161e+04</td>\n",
              "      <td>2185.470000</td>\n",
              "      <td>0.000000</td>\n",
              "      <td>384.000000</td>\n",
              "      <td>2.000000</td>\n",
              "      <td>0.000000</td>\n",
              "      <td>12.000000</td>\n",
              "      <td>0.000000</td>\n",
              "      <td>2.00000</td>\n",
              "      <td>2200.000000</td>\n",
              "      <td>0.000000</td>\n",
              "      <td>0.000000</td>\n",
              "    </tr>\n",
              "    <tr>\n",
              "      <th>75%</th>\n",
              "      <td>4.597636e+04</td>\n",
              "      <td>6191.815000</td>\n",
              "      <td>0.000000</td>\n",
              "      <td>462.000000</td>\n",
              "      <td>3.000000</td>\n",
              "      <td>0.000000</td>\n",
              "      <td>18.000000</td>\n",
              "      <td>0.000000</td>\n",
              "      <td>4.00000</td>\n",
              "      <td>4300.000000</td>\n",
              "      <td>0.000000</td>\n",
              "      <td>1.000000</td>\n",
              "    </tr>\n",
              "    <tr>\n",
              "      <th>max</th>\n",
              "      <td>3.699561e+06</td>\n",
              "      <td>741055.970000</td>\n",
              "      <td>2.000000</td>\n",
              "      <td>973.000000</td>\n",
              "      <td>88.000000</td>\n",
              "      <td>5.000000</td>\n",
              "      <td>265.000000</td>\n",
              "      <td>1.000000</td>\n",
              "      <td>110.00000</td>\n",
              "      <td>360200.000000</td>\n",
              "      <td>1.000000</td>\n",
              "      <td>1.000000</td>\n",
              "    </tr>\n",
              "  </tbody>\n",
              "</table>\n",
              "</div>\n",
              "      <button class=\"colab-df-convert\" onclick=\"convertToInteractive('df-e93c0978-f74c-4735-939d-ceab6dad43d8')\"\n",
              "              title=\"Convert this dataframe to an interactive table.\"\n",
              "              style=\"display:none;\">\n",
              "        \n",
              "  <svg xmlns=\"http://www.w3.org/2000/svg\" height=\"24px\"viewBox=\"0 0 24 24\"\n",
              "       width=\"24px\">\n",
              "    <path d=\"M0 0h24v24H0V0z\" fill=\"none\"/>\n",
              "    <path d=\"M18.56 5.44l.94 2.06.94-2.06 2.06-.94-2.06-.94-.94-2.06-.94 2.06-2.06.94zm-11 1L8.5 8.5l.94-2.06 2.06-.94-2.06-.94L8.5 2.5l-.94 2.06-2.06.94zm10 10l.94 2.06.94-2.06 2.06-.94-2.06-.94-.94-2.06-.94 2.06-2.06.94z\"/><path d=\"M17.41 7.96l-1.37-1.37c-.4-.4-.92-.59-1.43-.59-.52 0-1.04.2-1.43.59L10.3 9.45l-7.72 7.72c-.78.78-.78 2.05 0 2.83L4 21.41c.39.39.9.59 1.41.59.51 0 1.02-.2 1.41-.59l7.78-7.78 2.81-2.81c.8-.78.8-2.07 0-2.86zM5.41 20L4 18.59l7.72-7.72 1.47 1.35L5.41 20z\"/>\n",
              "  </svg>\n",
              "      </button>\n",
              "      \n",
              "  <style>\n",
              "    .colab-df-container {\n",
              "      display:flex;\n",
              "      flex-wrap:wrap;\n",
              "      gap: 12px;\n",
              "    }\n",
              "\n",
              "    .colab-df-convert {\n",
              "      background-color: #E8F0FE;\n",
              "      border: none;\n",
              "      border-radius: 50%;\n",
              "      cursor: pointer;\n",
              "      display: none;\n",
              "      fill: #1967D2;\n",
              "      height: 32px;\n",
              "      padding: 0 0 0 0;\n",
              "      width: 32px;\n",
              "    }\n",
              "\n",
              "    .colab-df-convert:hover {\n",
              "      background-color: #E2EBFA;\n",
              "      box-shadow: 0px 1px 2px rgba(60, 64, 67, 0.3), 0px 1px 3px 1px rgba(60, 64, 67, 0.15);\n",
              "      fill: #174EA6;\n",
              "    }\n",
              "\n",
              "    [theme=dark] .colab-df-convert {\n",
              "      background-color: #3B4455;\n",
              "      fill: #D2E3FC;\n",
              "    }\n",
              "\n",
              "    [theme=dark] .colab-df-convert:hover {\n",
              "      background-color: #434B5C;\n",
              "      box-shadow: 0px 1px 3px 1px rgba(0, 0, 0, 0.15);\n",
              "      filter: drop-shadow(0px 1px 2px rgba(0, 0, 0, 0.3));\n",
              "      fill: #FFFFFF;\n",
              "    }\n",
              "  </style>\n",
              "\n",
              "      <script>\n",
              "        const buttonEl =\n",
              "          document.querySelector('#df-e93c0978-f74c-4735-939d-ceab6dad43d8 button.colab-df-convert');\n",
              "        buttonEl.style.display =\n",
              "          google.colab.kernel.accessAllowed ? 'block' : 'none';\n",
              "\n",
              "        async function convertToInteractive(key) {\n",
              "          const element = document.querySelector('#df-e93c0978-f74c-4735-939d-ceab6dad43d8');\n",
              "          const dataTable =\n",
              "            await google.colab.kernel.invokeFunction('convertToInteractive',\n",
              "                                                     [key], {});\n",
              "          if (!dataTable) return;\n",
              "\n",
              "          const docLinkHtml = 'Like what you see? Visit the ' +\n",
              "            '<a target=\"_blank\" href=https://colab.research.google.com/notebooks/data_table.ipynb>data table notebook</a>'\n",
              "            + ' to learn more about interactive tables.';\n",
              "          element.innerHTML = '';\n",
              "          dataTable['output_type'] = 'display_data';\n",
              "          await google.colab.output.renderOutput(dataTable, element);\n",
              "          const docLink = document.createElement('div');\n",
              "          docLink.innerHTML = docLinkHtml;\n",
              "          element.appendChild(docLink);\n",
              "        }\n",
              "      </script>\n",
              "    </div>\n",
              "  </div>\n",
              "  "
            ]
          },
          "metadata": {},
          "execution_count": 54
        }
      ],
      "source": [
        "client.describe()"
      ]
    },
    {
      "cell_type": "code",
      "execution_count": 55,
      "metadata": {
        "id": "K2bq1QIzHq_L",
        "colab": {
          "base_uri": "https://localhost:8080/",
          "height": 300
        },
        "outputId": "fb3c4f19-78c3-4c56-ac5b-1559a52a141f"
      },
      "outputs": [
        {
          "output_type": "execute_result",
          "data": {
            "text/plain": [
              "        vlr_credito  num_atend_atrs     vlr_score     num_atend     qtd_reclm  \\\n",
              "count  5.922000e+04    59220.000000  59220.000000  59220.000000  59220.000000   \n",
              "mean   1.116576e+04        0.000152    287.116211      0.000540      0.000017   \n",
              "std    4.897024e+04        0.013628    133.671909      0.025326      0.004109   \n",
              "min    0.000000e+00        0.000000      0.000000      0.000000      0.000000   \n",
              "25%    0.000000e+00        0.000000    176.000000      0.000000      0.000000   \n",
              "50%    9.382750e+02        0.000000    274.000000      0.000000      0.000000   \n",
              "75%    5.099010e+03        0.000000    376.000000      0.000000      0.000000   \n",
              "max    7.638867e+06        2.000000    961.000000      2.000000      1.000000   \n",
              "\n",
              "          qtd_restr      vlr_renda  ind_novo_cli  \n",
              "count  59220.000000   59220.000000  59220.000000  \n",
              "mean       3.291692    2381.376224      0.276292  \n",
              "std        3.780653    3443.226629      0.447167  \n",
              "min        1.000000     350.000000      0.000000  \n",
              "25%        1.000000    1150.000000      0.000000  \n",
              "50%        2.000000    1400.000000      0.000000  \n",
              "75%        4.000000    3500.000000      1.000000  \n",
              "max      217.000000  193600.000000      1.000000  "
            ],
            "text/html": [
              "\n",
              "  <div id=\"df-38fabffc-f285-46d0-8779-bce42c14d3fb\">\n",
              "    <div class=\"colab-df-container\">\n",
              "      <div>\n",
              "<style scoped>\n",
              "    .dataframe tbody tr th:only-of-type {\n",
              "        vertical-align: middle;\n",
              "    }\n",
              "\n",
              "    .dataframe tbody tr th {\n",
              "        vertical-align: top;\n",
              "    }\n",
              "\n",
              "    .dataframe thead th {\n",
              "        text-align: right;\n",
              "    }\n",
              "</style>\n",
              "<table border=\"1\" class=\"dataframe\">\n",
              "  <thead>\n",
              "    <tr style=\"text-align: right;\">\n",
              "      <th></th>\n",
              "      <th>vlr_credito</th>\n",
              "      <th>num_atend_atrs</th>\n",
              "      <th>vlr_score</th>\n",
              "      <th>num_atend</th>\n",
              "      <th>qtd_reclm</th>\n",
              "      <th>qtd_restr</th>\n",
              "      <th>vlr_renda</th>\n",
              "      <th>ind_novo_cli</th>\n",
              "    </tr>\n",
              "  </thead>\n",
              "  <tbody>\n",
              "    <tr>\n",
              "      <th>count</th>\n",
              "      <td>5.922000e+04</td>\n",
              "      <td>59220.000000</td>\n",
              "      <td>59220.000000</td>\n",
              "      <td>59220.000000</td>\n",
              "      <td>59220.000000</td>\n",
              "      <td>59220.000000</td>\n",
              "      <td>59220.000000</td>\n",
              "      <td>59220.000000</td>\n",
              "    </tr>\n",
              "    <tr>\n",
              "      <th>mean</th>\n",
              "      <td>1.116576e+04</td>\n",
              "      <td>0.000152</td>\n",
              "      <td>287.116211</td>\n",
              "      <td>0.000540</td>\n",
              "      <td>0.000017</td>\n",
              "      <td>3.291692</td>\n",
              "      <td>2381.376224</td>\n",
              "      <td>0.276292</td>\n",
              "    </tr>\n",
              "    <tr>\n",
              "      <th>std</th>\n",
              "      <td>4.897024e+04</td>\n",
              "      <td>0.013628</td>\n",
              "      <td>133.671909</td>\n",
              "      <td>0.025326</td>\n",
              "      <td>0.004109</td>\n",
              "      <td>3.780653</td>\n",
              "      <td>3443.226629</td>\n",
              "      <td>0.447167</td>\n",
              "    </tr>\n",
              "    <tr>\n",
              "      <th>min</th>\n",
              "      <td>0.000000e+00</td>\n",
              "      <td>0.000000</td>\n",
              "      <td>0.000000</td>\n",
              "      <td>0.000000</td>\n",
              "      <td>0.000000</td>\n",
              "      <td>1.000000</td>\n",
              "      <td>350.000000</td>\n",
              "      <td>0.000000</td>\n",
              "    </tr>\n",
              "    <tr>\n",
              "      <th>25%</th>\n",
              "      <td>0.000000e+00</td>\n",
              "      <td>0.000000</td>\n",
              "      <td>176.000000</td>\n",
              "      <td>0.000000</td>\n",
              "      <td>0.000000</td>\n",
              "      <td>1.000000</td>\n",
              "      <td>1150.000000</td>\n",
              "      <td>0.000000</td>\n",
              "    </tr>\n",
              "    <tr>\n",
              "      <th>50%</th>\n",
              "      <td>9.382750e+02</td>\n",
              "      <td>0.000000</td>\n",
              "      <td>274.000000</td>\n",
              "      <td>0.000000</td>\n",
              "      <td>0.000000</td>\n",
              "      <td>2.000000</td>\n",
              "      <td>1400.000000</td>\n",
              "      <td>0.000000</td>\n",
              "    </tr>\n",
              "    <tr>\n",
              "      <th>75%</th>\n",
              "      <td>5.099010e+03</td>\n",
              "      <td>0.000000</td>\n",
              "      <td>376.000000</td>\n",
              "      <td>0.000000</td>\n",
              "      <td>0.000000</td>\n",
              "      <td>4.000000</td>\n",
              "      <td>3500.000000</td>\n",
              "      <td>1.000000</td>\n",
              "    </tr>\n",
              "    <tr>\n",
              "      <th>max</th>\n",
              "      <td>7.638867e+06</td>\n",
              "      <td>2.000000</td>\n",
              "      <td>961.000000</td>\n",
              "      <td>2.000000</td>\n",
              "      <td>1.000000</td>\n",
              "      <td>217.000000</td>\n",
              "      <td>193600.000000</td>\n",
              "      <td>1.000000</td>\n",
              "    </tr>\n",
              "  </tbody>\n",
              "</table>\n",
              "</div>\n",
              "      <button class=\"colab-df-convert\" onclick=\"convertToInteractive('df-38fabffc-f285-46d0-8779-bce42c14d3fb')\"\n",
              "              title=\"Convert this dataframe to an interactive table.\"\n",
              "              style=\"display:none;\">\n",
              "        \n",
              "  <svg xmlns=\"http://www.w3.org/2000/svg\" height=\"24px\"viewBox=\"0 0 24 24\"\n",
              "       width=\"24px\">\n",
              "    <path d=\"M0 0h24v24H0V0z\" fill=\"none\"/>\n",
              "    <path d=\"M18.56 5.44l.94 2.06.94-2.06 2.06-.94-2.06-.94-.94-2.06-.94 2.06-2.06.94zm-11 1L8.5 8.5l.94-2.06 2.06-.94-2.06-.94L8.5 2.5l-.94 2.06-2.06.94zm10 10l.94 2.06.94-2.06 2.06-.94-2.06-.94-.94-2.06-.94 2.06-2.06.94z\"/><path d=\"M17.41 7.96l-1.37-1.37c-.4-.4-.92-.59-1.43-.59-.52 0-1.04.2-1.43.59L10.3 9.45l-7.72 7.72c-.78.78-.78 2.05 0 2.83L4 21.41c.39.39.9.59 1.41.59.51 0 1.02-.2 1.41-.59l7.78-7.78 2.81-2.81c.8-.78.8-2.07 0-2.86zM5.41 20L4 18.59l7.72-7.72 1.47 1.35L5.41 20z\"/>\n",
              "  </svg>\n",
              "      </button>\n",
              "      \n",
              "  <style>\n",
              "    .colab-df-container {\n",
              "      display:flex;\n",
              "      flex-wrap:wrap;\n",
              "      gap: 12px;\n",
              "    }\n",
              "\n",
              "    .colab-df-convert {\n",
              "      background-color: #E8F0FE;\n",
              "      border: none;\n",
              "      border-radius: 50%;\n",
              "      cursor: pointer;\n",
              "      display: none;\n",
              "      fill: #1967D2;\n",
              "      height: 32px;\n",
              "      padding: 0 0 0 0;\n",
              "      width: 32px;\n",
              "    }\n",
              "\n",
              "    .colab-df-convert:hover {\n",
              "      background-color: #E2EBFA;\n",
              "      box-shadow: 0px 1px 2px rgba(60, 64, 67, 0.3), 0px 1px 3px 1px rgba(60, 64, 67, 0.15);\n",
              "      fill: #174EA6;\n",
              "    }\n",
              "\n",
              "    [theme=dark] .colab-df-convert {\n",
              "      background-color: #3B4455;\n",
              "      fill: #D2E3FC;\n",
              "    }\n",
              "\n",
              "    [theme=dark] .colab-df-convert:hover {\n",
              "      background-color: #434B5C;\n",
              "      box-shadow: 0px 1px 3px 1px rgba(0, 0, 0, 0.15);\n",
              "      filter: drop-shadow(0px 1px 2px rgba(0, 0, 0, 0.3));\n",
              "      fill: #FFFFFF;\n",
              "    }\n",
              "  </style>\n",
              "\n",
              "      <script>\n",
              "        const buttonEl =\n",
              "          document.querySelector('#df-38fabffc-f285-46d0-8779-bce42c14d3fb button.colab-df-convert');\n",
              "        buttonEl.style.display =\n",
              "          google.colab.kernel.accessAllowed ? 'block' : 'none';\n",
              "\n",
              "        async function convertToInteractive(key) {\n",
              "          const element = document.querySelector('#df-38fabffc-f285-46d0-8779-bce42c14d3fb');\n",
              "          const dataTable =\n",
              "            await google.colab.kernel.invokeFunction('convertToInteractive',\n",
              "                                                     [key], {});\n",
              "          if (!dataTable) return;\n",
              "\n",
              "          const docLinkHtml = 'Like what you see? Visit the ' +\n",
              "            '<a target=\"_blank\" href=https://colab.research.google.com/notebooks/data_table.ipynb>data table notebook</a>'\n",
              "            + ' to learn more about interactive tables.';\n",
              "          element.innerHTML = '';\n",
              "          dataTable['output_type'] = 'display_data';\n",
              "          await google.colab.output.renderOutput(dataTable, element);\n",
              "          const docLink = document.createElement('div');\n",
              "          docLink.innerHTML = docLinkHtml;\n",
              "          element.appendChild(docLink);\n",
              "        }\n",
              "      </script>\n",
              "    </div>\n",
              "  </div>\n",
              "  "
            ]
          },
          "metadata": {},
          "execution_count": 55
        }
      ],
      "source": [
        "not_client.describe()"
      ]
    },
    {
      "cell_type": "code",
      "source": [
        "def normalizeColumn(dataFrame, columnName): \n",
        "  return (dataFrame[columnName] - dataFrame[columnName].min()) / (dataFrame[columnName].max() - dataFrame[columnName].min()) "
      ],
      "metadata": {
        "id": "rS-Rm_KGanSv"
      },
      "execution_count": 56,
      "outputs": []
    },
    {
      "cell_type": "code",
      "source": [
        "client.columns"
      ],
      "metadata": {
        "id": "3T-P3K3pbKuG",
        "colab": {
          "base_uri": "https://localhost:8080/"
        },
        "outputId": "2c35abc7-276f-4939-c2e1-dce19575c940"
      },
      "execution_count": 57,
      "outputs": [
        {
          "output_type": "execute_result",
          "data": {
            "text/plain": [
              "Index(['vlr_credito', 'vlr_saldo', 'num_atend_atrs', 'vlr_score',\n",
              "       'num_produtos', 'num_atend', 'qtd_oper', 'qtd_reclm', 'qtd_restr',\n",
              "       'vlr_renda', 'ind_atrito', 'ind_engaj'],\n",
              "      dtype='object')"
            ]
          },
          "metadata": {},
          "execution_count": 57
        }
      ]
    },
    {
      "cell_type": "markdown",
      "metadata": {
        "id": "2agYXeQ0LurH"
      },
      "source": [
        "## Cliente\n"
      ]
    },
    {
      "cell_type": "code",
      "source": [
        "clientNormalizeColumns = ['vlr_credito', 'vlr_saldo', 'num_atend_atrs', \n",
        "       'num_produtos', 'num_atend', 'qtd_oper', 'qtd_reclm', 'qtd_restr',\n",
        "       'vlr_renda']"
      ],
      "metadata": {
        "id": "4itR2Ljka5sQ"
      },
      "execution_count": 58,
      "outputs": []
    },
    {
      "cell_type": "code",
      "source": [
        "for column in clientNormalizeColumns:\n",
        "  client[column] = normalizeColumn(client, column)"
      ],
      "metadata": {
        "id": "BE_BB0zZbWrE"
      },
      "execution_count": 59,
      "outputs": []
    },
    {
      "cell_type": "code",
      "source": [
        "from sklearn.preprocessing import StandardScaler\n",
        "client[['vlr_score']] = StandardScaler().fit_transform(client[['vlr_score']])"
      ],
      "metadata": {
        "id": "P3QSKiI-czay"
      },
      "execution_count": 60,
      "outputs": []
    },
    {
      "cell_type": "code",
      "source": [
        "client.head(5)"
      ],
      "metadata": {
        "id": "uBYleM_xcpTJ",
        "colab": {
          "base_uri": "https://localhost:8080/",
          "height": 250
        },
        "outputId": "8707ff54-c379-4a7a-9ae6-b45236ec30d8"
      },
      "execution_count": 61,
      "outputs": [
        {
          "output_type": "execute_result",
          "data": {
            "text/plain": [
              "    vlr_credito  vlr_saldo  num_atend_atrs  vlr_score  num_produtos  \\\n",
              "0      0.001802   0.001837             0.0   0.489887      0.000000   \n",
              "18     0.000432   0.000086             0.0  -1.685013      0.000000   \n",
              "30     0.002952   0.001706             0.0  -0.290846      0.011494   \n",
              "35     0.000083   0.001889             0.0   0.190142      0.000000   \n",
              "85     0.014023   0.000945             0.0  -0.402379      0.000000   \n",
              "\n",
              "    num_atend  qtd_oper  qtd_reclm  qtd_restr  vlr_renda  ind_atrito  \\\n",
              "0         0.0  0.030189        0.0   0.055046   0.003889         0.0   \n",
              "18        0.0  0.011321        0.0   0.009174   0.002361         0.0   \n",
              "30        0.0  0.045283        0.0   0.036697   0.005001         0.0   \n",
              "35        0.0  0.022642        0.0   0.009174   0.011529         0.0   \n",
              "85        0.0  0.116981        0.0   0.027523   0.011113         0.0   \n",
              "\n",
              "    ind_engaj  \n",
              "0         0.0  \n",
              "18        0.0  \n",
              "30        0.0  \n",
              "35        0.0  \n",
              "85        0.0  "
            ],
            "text/html": [
              "\n",
              "  <div id=\"df-43a67361-aa55-4d2d-a4e8-60fecf9fa11b\">\n",
              "    <div class=\"colab-df-container\">\n",
              "      <div>\n",
              "<style scoped>\n",
              "    .dataframe tbody tr th:only-of-type {\n",
              "        vertical-align: middle;\n",
              "    }\n",
              "\n",
              "    .dataframe tbody tr th {\n",
              "        vertical-align: top;\n",
              "    }\n",
              "\n",
              "    .dataframe thead th {\n",
              "        text-align: right;\n",
              "    }\n",
              "</style>\n",
              "<table border=\"1\" class=\"dataframe\">\n",
              "  <thead>\n",
              "    <tr style=\"text-align: right;\">\n",
              "      <th></th>\n",
              "      <th>vlr_credito</th>\n",
              "      <th>vlr_saldo</th>\n",
              "      <th>num_atend_atrs</th>\n",
              "      <th>vlr_score</th>\n",
              "      <th>num_produtos</th>\n",
              "      <th>num_atend</th>\n",
              "      <th>qtd_oper</th>\n",
              "      <th>qtd_reclm</th>\n",
              "      <th>qtd_restr</th>\n",
              "      <th>vlr_renda</th>\n",
              "      <th>ind_atrito</th>\n",
              "      <th>ind_engaj</th>\n",
              "    </tr>\n",
              "  </thead>\n",
              "  <tbody>\n",
              "    <tr>\n",
              "      <th>0</th>\n",
              "      <td>0.001802</td>\n",
              "      <td>0.001837</td>\n",
              "      <td>0.0</td>\n",
              "      <td>0.489887</td>\n",
              "      <td>0.000000</td>\n",
              "      <td>0.0</td>\n",
              "      <td>0.030189</td>\n",
              "      <td>0.0</td>\n",
              "      <td>0.055046</td>\n",
              "      <td>0.003889</td>\n",
              "      <td>0.0</td>\n",
              "      <td>0.0</td>\n",
              "    </tr>\n",
              "    <tr>\n",
              "      <th>18</th>\n",
              "      <td>0.000432</td>\n",
              "      <td>0.000086</td>\n",
              "      <td>0.0</td>\n",
              "      <td>-1.685013</td>\n",
              "      <td>0.000000</td>\n",
              "      <td>0.0</td>\n",
              "      <td>0.011321</td>\n",
              "      <td>0.0</td>\n",
              "      <td>0.009174</td>\n",
              "      <td>0.002361</td>\n",
              "      <td>0.0</td>\n",
              "      <td>0.0</td>\n",
              "    </tr>\n",
              "    <tr>\n",
              "      <th>30</th>\n",
              "      <td>0.002952</td>\n",
              "      <td>0.001706</td>\n",
              "      <td>0.0</td>\n",
              "      <td>-0.290846</td>\n",
              "      <td>0.011494</td>\n",
              "      <td>0.0</td>\n",
              "      <td>0.045283</td>\n",
              "      <td>0.0</td>\n",
              "      <td>0.036697</td>\n",
              "      <td>0.005001</td>\n",
              "      <td>0.0</td>\n",
              "      <td>0.0</td>\n",
              "    </tr>\n",
              "    <tr>\n",
              "      <th>35</th>\n",
              "      <td>0.000083</td>\n",
              "      <td>0.001889</td>\n",
              "      <td>0.0</td>\n",
              "      <td>0.190142</td>\n",
              "      <td>0.000000</td>\n",
              "      <td>0.0</td>\n",
              "      <td>0.022642</td>\n",
              "      <td>0.0</td>\n",
              "      <td>0.009174</td>\n",
              "      <td>0.011529</td>\n",
              "      <td>0.0</td>\n",
              "      <td>0.0</td>\n",
              "    </tr>\n",
              "    <tr>\n",
              "      <th>85</th>\n",
              "      <td>0.014023</td>\n",
              "      <td>0.000945</td>\n",
              "      <td>0.0</td>\n",
              "      <td>-0.402379</td>\n",
              "      <td>0.000000</td>\n",
              "      <td>0.0</td>\n",
              "      <td>0.116981</td>\n",
              "      <td>0.0</td>\n",
              "      <td>0.027523</td>\n",
              "      <td>0.011113</td>\n",
              "      <td>0.0</td>\n",
              "      <td>0.0</td>\n",
              "    </tr>\n",
              "  </tbody>\n",
              "</table>\n",
              "</div>\n",
              "      <button class=\"colab-df-convert\" onclick=\"convertToInteractive('df-43a67361-aa55-4d2d-a4e8-60fecf9fa11b')\"\n",
              "              title=\"Convert this dataframe to an interactive table.\"\n",
              "              style=\"display:none;\">\n",
              "        \n",
              "  <svg xmlns=\"http://www.w3.org/2000/svg\" height=\"24px\"viewBox=\"0 0 24 24\"\n",
              "       width=\"24px\">\n",
              "    <path d=\"M0 0h24v24H0V0z\" fill=\"none\"/>\n",
              "    <path d=\"M18.56 5.44l.94 2.06.94-2.06 2.06-.94-2.06-.94-.94-2.06-.94 2.06-2.06.94zm-11 1L8.5 8.5l.94-2.06 2.06-.94-2.06-.94L8.5 2.5l-.94 2.06-2.06.94zm10 10l.94 2.06.94-2.06 2.06-.94-2.06-.94-.94-2.06-.94 2.06-2.06.94z\"/><path d=\"M17.41 7.96l-1.37-1.37c-.4-.4-.92-.59-1.43-.59-.52 0-1.04.2-1.43.59L10.3 9.45l-7.72 7.72c-.78.78-.78 2.05 0 2.83L4 21.41c.39.39.9.59 1.41.59.51 0 1.02-.2 1.41-.59l7.78-7.78 2.81-2.81c.8-.78.8-2.07 0-2.86zM5.41 20L4 18.59l7.72-7.72 1.47 1.35L5.41 20z\"/>\n",
              "  </svg>\n",
              "      </button>\n",
              "      \n",
              "  <style>\n",
              "    .colab-df-container {\n",
              "      display:flex;\n",
              "      flex-wrap:wrap;\n",
              "      gap: 12px;\n",
              "    }\n",
              "\n",
              "    .colab-df-convert {\n",
              "      background-color: #E8F0FE;\n",
              "      border: none;\n",
              "      border-radius: 50%;\n",
              "      cursor: pointer;\n",
              "      display: none;\n",
              "      fill: #1967D2;\n",
              "      height: 32px;\n",
              "      padding: 0 0 0 0;\n",
              "      width: 32px;\n",
              "    }\n",
              "\n",
              "    .colab-df-convert:hover {\n",
              "      background-color: #E2EBFA;\n",
              "      box-shadow: 0px 1px 2px rgba(60, 64, 67, 0.3), 0px 1px 3px 1px rgba(60, 64, 67, 0.15);\n",
              "      fill: #174EA6;\n",
              "    }\n",
              "\n",
              "    [theme=dark] .colab-df-convert {\n",
              "      background-color: #3B4455;\n",
              "      fill: #D2E3FC;\n",
              "    }\n",
              "\n",
              "    [theme=dark] .colab-df-convert:hover {\n",
              "      background-color: #434B5C;\n",
              "      box-shadow: 0px 1px 3px 1px rgba(0, 0, 0, 0.15);\n",
              "      filter: drop-shadow(0px 1px 2px rgba(0, 0, 0, 0.3));\n",
              "      fill: #FFFFFF;\n",
              "    }\n",
              "  </style>\n",
              "\n",
              "      <script>\n",
              "        const buttonEl =\n",
              "          document.querySelector('#df-43a67361-aa55-4d2d-a4e8-60fecf9fa11b button.colab-df-convert');\n",
              "        buttonEl.style.display =\n",
              "          google.colab.kernel.accessAllowed ? 'block' : 'none';\n",
              "\n",
              "        async function convertToInteractive(key) {\n",
              "          const element = document.querySelector('#df-43a67361-aa55-4d2d-a4e8-60fecf9fa11b');\n",
              "          const dataTable =\n",
              "            await google.colab.kernel.invokeFunction('convertToInteractive',\n",
              "                                                     [key], {});\n",
              "          if (!dataTable) return;\n",
              "\n",
              "          const docLinkHtml = 'Like what you see? Visit the ' +\n",
              "            '<a target=\"_blank\" href=https://colab.research.google.com/notebooks/data_table.ipynb>data table notebook</a>'\n",
              "            + ' to learn more about interactive tables.';\n",
              "          element.innerHTML = '';\n",
              "          dataTable['output_type'] = 'display_data';\n",
              "          await google.colab.output.renderOutput(dataTable, element);\n",
              "          const docLink = document.createElement('div');\n",
              "          docLink.innerHTML = docLinkHtml;\n",
              "          element.appendChild(docLink);\n",
              "        }\n",
              "      </script>\n",
              "    </div>\n",
              "  </div>\n",
              "  "
            ]
          },
          "metadata": {},
          "execution_count": 61
        }
      ]
    },
    {
      "cell_type": "markdown",
      "metadata": {
        "id": "t9tNCzQuPJK_"
      },
      "source": [
        "## Não cliente\n"
      ]
    },
    {
      "cell_type": "code",
      "source": [
        "not_client.columns"
      ],
      "metadata": {
        "id": "mL8eJnsHdTvW",
        "colab": {
          "base_uri": "https://localhost:8080/"
        },
        "outputId": "a3d0c24e-e720-4d6b-fc3d-d0fb78ad5237"
      },
      "execution_count": 62,
      "outputs": [
        {
          "output_type": "execute_result",
          "data": {
            "text/plain": [
              "Index(['vlr_credito', 'num_atend_atrs', 'vlr_score', 'num_atend', 'qtd_reclm',\n",
              "       'qtd_restr', 'vlr_renda', 'ind_novo_cli'],\n",
              "      dtype='object')"
            ]
          },
          "metadata": {},
          "execution_count": 62
        }
      ]
    },
    {
      "cell_type": "code",
      "source": [
        "notClientNormalizeColumns = ['vlr_credito', 'num_atend_atrs', 'num_atend', 'qtd_reclm',\n",
        "       'qtd_restr', 'vlr_renda']"
      ],
      "metadata": {
        "id": "rdiK5_fidWm6"
      },
      "execution_count": 63,
      "outputs": []
    },
    {
      "cell_type": "code",
      "source": [
        "for column in notClientNormalizeColumns:\n",
        "  not_client[column] = normalizeColumn(not_client, column)"
      ],
      "metadata": {
        "id": "b13wNz_mdjcb"
      },
      "execution_count": 64,
      "outputs": []
    },
    {
      "cell_type": "code",
      "source": [
        "from sklearn.preprocessing import StandardScaler\n",
        "not_client[['vlr_score']] = StandardScaler().fit_transform(not_client[['vlr_score']])"
      ],
      "metadata": {
        "id": "VR1QPghrdl5X"
      },
      "execution_count": 65,
      "outputs": []
    },
    {
      "cell_type": "code",
      "source": [
        "not_client.head()"
      ],
      "metadata": {
        "id": "uVlAIN1ZdtO8",
        "colab": {
          "base_uri": "https://localhost:8080/",
          "height": 206
        },
        "outputId": "339b334b-8afb-43b4-85ee-c50a8e8bdb2f"
      },
      "execution_count": 66,
      "outputs": [
        {
          "output_type": "execute_result",
          "data": {
            "text/plain": [
              "      vlr_credito  num_atend_atrs  vlr_score  num_atend  qtd_reclm  qtd_restr  \\\n",
              "152      0.000100             0.0   1.607560        0.0        0.0    0.00000   \n",
              "209      0.000000             0.0  -0.876154        0.0        0.0    0.00463   \n",
              "891      0.000220             0.0  -0.778900        0.0        0.0    0.00463   \n",
              "1033     0.000565             0.0   2.198564        0.0        0.0    0.00000   \n",
              "1167     0.000000             0.0  -1.003332        0.0        0.0    0.00000   \n",
              "\n",
              "      vlr_renda  ind_novo_cli  \n",
              "152    0.002846           1.0  \n",
              "209    0.020181           0.0  \n",
              "891    0.001294           0.0  \n",
              "1033   0.016300           1.0  \n",
              "1167   0.004916           0.0  "
            ],
            "text/html": [
              "\n",
              "  <div id=\"df-a93e3dfe-d9ad-4e5c-b543-3c9275a8a519\">\n",
              "    <div class=\"colab-df-container\">\n",
              "      <div>\n",
              "<style scoped>\n",
              "    .dataframe tbody tr th:only-of-type {\n",
              "        vertical-align: middle;\n",
              "    }\n",
              "\n",
              "    .dataframe tbody tr th {\n",
              "        vertical-align: top;\n",
              "    }\n",
              "\n",
              "    .dataframe thead th {\n",
              "        text-align: right;\n",
              "    }\n",
              "</style>\n",
              "<table border=\"1\" class=\"dataframe\">\n",
              "  <thead>\n",
              "    <tr style=\"text-align: right;\">\n",
              "      <th></th>\n",
              "      <th>vlr_credito</th>\n",
              "      <th>num_atend_atrs</th>\n",
              "      <th>vlr_score</th>\n",
              "      <th>num_atend</th>\n",
              "      <th>qtd_reclm</th>\n",
              "      <th>qtd_restr</th>\n",
              "      <th>vlr_renda</th>\n",
              "      <th>ind_novo_cli</th>\n",
              "    </tr>\n",
              "  </thead>\n",
              "  <tbody>\n",
              "    <tr>\n",
              "      <th>152</th>\n",
              "      <td>0.000100</td>\n",
              "      <td>0.0</td>\n",
              "      <td>1.607560</td>\n",
              "      <td>0.0</td>\n",
              "      <td>0.0</td>\n",
              "      <td>0.00000</td>\n",
              "      <td>0.002846</td>\n",
              "      <td>1.0</td>\n",
              "    </tr>\n",
              "    <tr>\n",
              "      <th>209</th>\n",
              "      <td>0.000000</td>\n",
              "      <td>0.0</td>\n",
              "      <td>-0.876154</td>\n",
              "      <td>0.0</td>\n",
              "      <td>0.0</td>\n",
              "      <td>0.00463</td>\n",
              "      <td>0.020181</td>\n",
              "      <td>0.0</td>\n",
              "    </tr>\n",
              "    <tr>\n",
              "      <th>891</th>\n",
              "      <td>0.000220</td>\n",
              "      <td>0.0</td>\n",
              "      <td>-0.778900</td>\n",
              "      <td>0.0</td>\n",
              "      <td>0.0</td>\n",
              "      <td>0.00463</td>\n",
              "      <td>0.001294</td>\n",
              "      <td>0.0</td>\n",
              "    </tr>\n",
              "    <tr>\n",
              "      <th>1033</th>\n",
              "      <td>0.000565</td>\n",
              "      <td>0.0</td>\n",
              "      <td>2.198564</td>\n",
              "      <td>0.0</td>\n",
              "      <td>0.0</td>\n",
              "      <td>0.00000</td>\n",
              "      <td>0.016300</td>\n",
              "      <td>1.0</td>\n",
              "    </tr>\n",
              "    <tr>\n",
              "      <th>1167</th>\n",
              "      <td>0.000000</td>\n",
              "      <td>0.0</td>\n",
              "      <td>-1.003332</td>\n",
              "      <td>0.0</td>\n",
              "      <td>0.0</td>\n",
              "      <td>0.00000</td>\n",
              "      <td>0.004916</td>\n",
              "      <td>0.0</td>\n",
              "    </tr>\n",
              "  </tbody>\n",
              "</table>\n",
              "</div>\n",
              "      <button class=\"colab-df-convert\" onclick=\"convertToInteractive('df-a93e3dfe-d9ad-4e5c-b543-3c9275a8a519')\"\n",
              "              title=\"Convert this dataframe to an interactive table.\"\n",
              "              style=\"display:none;\">\n",
              "        \n",
              "  <svg xmlns=\"http://www.w3.org/2000/svg\" height=\"24px\"viewBox=\"0 0 24 24\"\n",
              "       width=\"24px\">\n",
              "    <path d=\"M0 0h24v24H0V0z\" fill=\"none\"/>\n",
              "    <path d=\"M18.56 5.44l.94 2.06.94-2.06 2.06-.94-2.06-.94-.94-2.06-.94 2.06-2.06.94zm-11 1L8.5 8.5l.94-2.06 2.06-.94-2.06-.94L8.5 2.5l-.94 2.06-2.06.94zm10 10l.94 2.06.94-2.06 2.06-.94-2.06-.94-.94-2.06-.94 2.06-2.06.94z\"/><path d=\"M17.41 7.96l-1.37-1.37c-.4-.4-.92-.59-1.43-.59-.52 0-1.04.2-1.43.59L10.3 9.45l-7.72 7.72c-.78.78-.78 2.05 0 2.83L4 21.41c.39.39.9.59 1.41.59.51 0 1.02-.2 1.41-.59l7.78-7.78 2.81-2.81c.8-.78.8-2.07 0-2.86zM5.41 20L4 18.59l7.72-7.72 1.47 1.35L5.41 20z\"/>\n",
              "  </svg>\n",
              "      </button>\n",
              "      \n",
              "  <style>\n",
              "    .colab-df-container {\n",
              "      display:flex;\n",
              "      flex-wrap:wrap;\n",
              "      gap: 12px;\n",
              "    }\n",
              "\n",
              "    .colab-df-convert {\n",
              "      background-color: #E8F0FE;\n",
              "      border: none;\n",
              "      border-radius: 50%;\n",
              "      cursor: pointer;\n",
              "      display: none;\n",
              "      fill: #1967D2;\n",
              "      height: 32px;\n",
              "      padding: 0 0 0 0;\n",
              "      width: 32px;\n",
              "    }\n",
              "\n",
              "    .colab-df-convert:hover {\n",
              "      background-color: #E2EBFA;\n",
              "      box-shadow: 0px 1px 2px rgba(60, 64, 67, 0.3), 0px 1px 3px 1px rgba(60, 64, 67, 0.15);\n",
              "      fill: #174EA6;\n",
              "    }\n",
              "\n",
              "    [theme=dark] .colab-df-convert {\n",
              "      background-color: #3B4455;\n",
              "      fill: #D2E3FC;\n",
              "    }\n",
              "\n",
              "    [theme=dark] .colab-df-convert:hover {\n",
              "      background-color: #434B5C;\n",
              "      box-shadow: 0px 1px 3px 1px rgba(0, 0, 0, 0.15);\n",
              "      filter: drop-shadow(0px 1px 2px rgba(0, 0, 0, 0.3));\n",
              "      fill: #FFFFFF;\n",
              "    }\n",
              "  </style>\n",
              "\n",
              "      <script>\n",
              "        const buttonEl =\n",
              "          document.querySelector('#df-a93e3dfe-d9ad-4e5c-b543-3c9275a8a519 button.colab-df-convert');\n",
              "        buttonEl.style.display =\n",
              "          google.colab.kernel.accessAllowed ? 'block' : 'none';\n",
              "\n",
              "        async function convertToInteractive(key) {\n",
              "          const element = document.querySelector('#df-a93e3dfe-d9ad-4e5c-b543-3c9275a8a519');\n",
              "          const dataTable =\n",
              "            await google.colab.kernel.invokeFunction('convertToInteractive',\n",
              "                                                     [key], {});\n",
              "          if (!dataTable) return;\n",
              "\n",
              "          const docLinkHtml = 'Like what you see? Visit the ' +\n",
              "            '<a target=\"_blank\" href=https://colab.research.google.com/notebooks/data_table.ipynb>data table notebook</a>'\n",
              "            + ' to learn more about interactive tables.';\n",
              "          element.innerHTML = '';\n",
              "          dataTable['output_type'] = 'display_data';\n",
              "          await google.colab.output.renderOutput(dataTable, element);\n",
              "          const docLink = document.createElement('div');\n",
              "          docLink.innerHTML = docLinkHtml;\n",
              "          element.appendChild(docLink);\n",
              "        }\n",
              "      </script>\n",
              "    </div>\n",
              "  </div>\n",
              "  "
            ]
          },
          "metadata": {},
          "execution_count": 66
        }
      ]
    },
    {
      "cell_type": "markdown",
      "metadata": {
        "id": "ChhqAsP1RqUN"
      },
      "source": [
        "# Salvando a base de dados manipulada em novos arquivos csv"
      ]
    },
    {
      "cell_type": "code",
      "execution_count": 67,
      "metadata": {
        "id": "ET2hOQIhRxaU",
        "colab": {
          "base_uri": "https://localhost:8080/",
          "height": 236
        },
        "outputId": "ac8d2186-0c5b-47c6-b071-7c211951edbd"
      },
      "outputs": [
        {
          "output_type": "stream",
          "name": "stdout",
          "text": [
            "Mounted at /content/drive\n"
          ]
        },
        {
          "output_type": "error",
          "ename": "FileNotFoundError",
          "evalue": "ignored",
          "traceback": [
            "\u001b[0;31m---------------------------------------------------------------------------\u001b[0m",
            "\u001b[0;31mFileNotFoundError\u001b[0m                         Traceback (most recent call last)",
            "\u001b[0;32m<ipython-input-67-2a98f3e1e64e>\u001b[0m in \u001b[0;36m<module>\u001b[0;34m\u001b[0m\n\u001b[1;32m      7\u001b[0m \u001b[0;34m\u001b[0m\u001b[0m\n\u001b[1;32m      8\u001b[0m \u001b[0;31m# Baixando nosso df no formato de csv em nosso drive\u001b[0m\u001b[0;34m\u001b[0m\u001b[0;34m\u001b[0m\u001b[0;34m\u001b[0m\u001b[0m\n\u001b[0;32m----> 9\u001b[0;31m \u001b[0;32mwith\u001b[0m \u001b[0mopen\u001b[0m\u001b[0;34m(\u001b[0m\u001b[0mpath\u001b[0m\u001b[0;34m,\u001b[0m \u001b[0;34m'w'\u001b[0m\u001b[0;34m,\u001b[0m \u001b[0mencoding\u001b[0m \u001b[0;34m=\u001b[0m \u001b[0;34m'utf-8-sig'\u001b[0m\u001b[0;34m)\u001b[0m \u001b[0;32mas\u001b[0m \u001b[0mf\u001b[0m\u001b[0;34m:\u001b[0m\u001b[0;34m\u001b[0m\u001b[0;34m\u001b[0m\u001b[0m\n\u001b[0m\u001b[1;32m     10\u001b[0m   \u001b[0mclient\u001b[0m\u001b[0;34m.\u001b[0m\u001b[0mto_csv\u001b[0m\u001b[0;34m(\u001b[0m\u001b[0mf\u001b[0m\u001b[0;34m)\u001b[0m\u001b[0;34m\u001b[0m\u001b[0;34m\u001b[0m\u001b[0m\n",
            "\u001b[0;31mFileNotFoundError\u001b[0m: [Errno 2] No such file or directory: '/content/drive/My Drive/Pandevs/client.csv'"
          ]
        }
      ],
      "source": [
        "# Importamos a biblioteca drive do google.colab\n",
        "from google.colab import drive\n",
        "         \n",
        "# Estabelecemos os caminhos para o download poder ser executado\n",
        "drive.mount(r'/content/drive')\n",
        "path = r'/content/drive/My Drive/Pandevs/client.csv'\n",
        "\n",
        "# Baixando nosso df no formato de csv em nosso drive\n",
        "with open(path, 'w', encoding = 'utf-8-sig') as f:\n",
        "  client.to_csv(f)"
      ]
    },
    {
      "cell_type": "code",
      "execution_count": null,
      "metadata": {
        "id": "NJEmfRbnU8yF"
      },
      "outputs": [],
      "source": [
        "# Estabelecemos os caminhos para o download poder ser executado\n",
        "drive.mount(r'/content/drive')\n",
        "path = r'/content/drive/My Drive/Pandevs/not_client.csv'\n",
        "\n",
        "# Baixando nosso df no formato de csv em nosso drive\n",
        "with open(path, 'w', encoding = 'utf-8-sig') as f:\n",
        "  not_client.to_csv(f)"
      ]
    },
    {
      "cell_type": "markdown",
      "metadata": {
        "id": "dnH4OExlOpAJ"
      },
      "source": [
        "# Seleção de Features"
      ]
    },
    {
      "cell_type": "markdown",
      "metadata": {
        "id": "c0cbiTPJOteJ"
      },
      "source": [
        "Iremos selecionar as features que são interessantes para identificar se um cliente é caracterizado como um novo cliente."
      ]
    },
    {
      "cell_type": "code",
      "execution_count": null,
      "metadata": {
        "id": "tsZOc60VOoWG"
      },
      "outputs": [],
      "source": [
        "# Nesta variável estamos armazenando os clientes que têm índice 1 na coluna ind_novo_cli\n",
        "new_client_ind_1 = not_client[not_client.ind_novo_cli == 1] \n",
        "\n",
        "# Nesta variável estamos armazenando os clientes que têm índice 0 na coluna ind_novo_cli\n",
        "new_client_ind_0 = not_client[not_client.ind_novo_cli != 1] "
      ]
    },
    {
      "cell_type": "markdown",
      "metadata": {
        "id": "k0rFw9xPT0Ic"
      },
      "source": [
        "## Novo cliente"
      ]
    },
    {
      "cell_type": "markdown",
      "metadata": {
        "id": "0wmVO2EGRFXX"
      },
      "source": [
        "Relação entre o desejo do banco em ter um cliente (0 = quer como cliente; 1 = não quer como cliente) e o Score do mercado."
      ]
    },
    {
      "cell_type": "code",
      "execution_count": null,
      "metadata": {
        "id": "ppWIK80KPqn8"
      },
      "outputs": [],
      "source": [
        "fig = px.bar(y = [new_client_ind_1['vlr_score'].mean(), new_client_ind_0['vlr_score'].mean()], x = ['Clientes desejados', 'Clientes não desejados'])#foi passado uma lista com 2 dados dentro de uma máscara com a média dos Scores de clientes que o banco deseja, ou não para compararmos.\n",
        "fig.show()"
      ]
    },
    {
      "cell_type": "markdown",
      "metadata": {
        "id": "Vi62hdaPRnFg"
      },
      "source": [
        "Relação entre o desejo do banco em ter um cliente (0 = quer como cliente; 1 = não quer como cliente) e o crédito que ele tem no mercado."
      ]
    },
    {
      "cell_type": "code",
      "execution_count": null,
      "metadata": {
        "id": "ZMa8SElVRztj"
      },
      "outputs": [],
      "source": [
        "fig = px.bar(y = [new_client_ind_1['vlr_credito'].mean(), new_client_ind_0['vlr_credito'].mean()], x = ['Crédito do cliente desejado','Crédito do cliente não desejado'])\n",
        "fig.show()"
      ]
    },
    {
      "cell_type": "markdown",
      "metadata": {
        "id": "SvHmcVvnR8GS"
      },
      "source": [
        "Relação entre o desejo do banco em ter um cliente (0 = quer como cliente; 1 = não quer como cliente) e a quantidade de restrições que ele tem no mercado."
      ]
    },
    {
      "cell_type": "code",
      "execution_count": null,
      "metadata": {
        "id": "I2uAalLNR9NS"
      },
      "outputs": [],
      "source": [
        "fig = px.bar(y = [new_client_ind_1['qtd_restr'].mean(), new_client_ind_0['qtd_restr'].mean()], x = ['Restritivos do cliente desejado', 'Restritivos do cliente não desejado'])\n",
        "fig.show()"
      ]
    },
    {
      "cell_type": "markdown",
      "metadata": {
        "id": "REI-998fT5-Y"
      },
      "source": [
        "##Cliente engajado"
      ]
    },
    {
      "cell_type": "markdown",
      "metadata": {
        "id": "zuMW7sZSSMz2"
      },
      "source": [
        "Iremos selecionar as features que são interessantes para identificar se um cliente é caracterizado como um cliente engajado."
      ]
    },
    {
      "cell_type": "code",
      "execution_count": null,
      "metadata": {
        "id": "d_gofGeuSQoA"
      },
      "outputs": [],
      "source": [
        "client_engaged = client[client.ind_engaj == 1]#Nesta variável estamos armazenando os clientes que têm índice 1 na coluna ind_novo_cli\n",
        "client_not_engaged = client[client.ind_engaj != 1]#Nesta variável estamos armazenando os clientes que têm índice 0 na coluna ind_novo_cli"
      ]
    },
    {
      "cell_type": "markdown",
      "metadata": {
        "id": "jWj19yGES2Em"
      },
      "source": [
        "Relação entre o banco acreditar que um cliente é engajado (0 = é engajado; 1 = não é engajado) e a quantidade de produtos que ele tem."
      ]
    },
    {
      "cell_type": "code",
      "execution_count": null,
      "metadata": {
        "id": "yrIf30HISkwK"
      },
      "outputs": [],
      "source": [
        "fig = px.bar(y = [client_engaged['num_produtos'].mean(), client_not_engaged['num_produtos'].mean()], x = ['Produtos de clientes engajados', ' Produtos de clientes não engajados'])\n",
        "fig.show()"
      ]
    },
    {
      "cell_type": "markdown",
      "metadata": {
        "id": "txV9qrVPTcXk"
      },
      "source": [
        "Relação entre o banco acreditar que um cliente é engajado (0 = é engajado; 1 = não é engajado) e a quantidade de operações que ele tem."
      ]
    },
    {
      "cell_type": "code",
      "execution_count": null,
      "metadata": {
        "id": "YU2CPsJxTLXM"
      },
      "outputs": [],
      "source": [
        "fig = px.bar(y = [client_engaged['qtd_oper'].mean(), client_not_engaged['qtd_oper'].mean()], x = ['Operações de clientes engajados', ' Operações de clientes não engajados'])\n",
        "fig.show()"
      ]
    },
    {
      "cell_type": "markdown",
      "metadata": {
        "id": "qYln1xSSTfZb"
      },
      "source": [
        "Relação entre o banco acreditar que um cliente é engajado (0 = é engajado; 1 = não é engajado) e a quantidade de crédito que ele tem."
      ]
    },
    {
      "cell_type": "code",
      "execution_count": null,
      "metadata": {
        "id": "9-BbctEKTR4r"
      },
      "outputs": [],
      "source": [
        "fig = px.bar(y = [client_engaged['vlr_credito'].mean(), client_not_engaged['vlr_credito'].mean()], x = ['Crédito do cliente engajado', 'Crédito do cliente não engajado'])\n",
        "fig.show()"
      ]
    },
    {
      "cell_type": "markdown",
      "metadata": {
        "id": "jY8TUqpUTsku"
      },
      "source": [
        "Relação entre o banco acreditar que um cliente é engajado (0 = é engajado; 1 = não é engajado) e a quantidade de saldo que ele tem."
      ]
    },
    {
      "cell_type": "code",
      "execution_count": null,
      "metadata": {
        "id": "wsCL2EztTWqc"
      },
      "outputs": [],
      "source": [
        "fig = px.bar(y = [client_engaged['vlr_saldo'].mean(), client_not_engaged['vlr_saldo'].mean()], x = ['Saldo do cliente engajado', 'Saldo cliente não engajado'])\n",
        "fig.show()"
      ]
    },
    {
      "cell_type": "markdown",
      "metadata": {
        "id": "jcvYUtwIUHBj"
      },
      "source": [
        "##Cliente atritado"
      ]
    },
    {
      "cell_type": "code",
      "execution_count": null,
      "metadata": {
        "id": "CeNzkUtCUKnb"
      },
      "outputs": [],
      "source": [
        "client_fretted = df[df.ind_atrito == 1]#Nesta variável estamos armazenando os clientes que têm índice 1 na coluna ind_atrito\n",
        "client_not_fretted = df[df.ind_atrito != 1]#Nesta variável estamos armazenando os clientes que têm índice 0 na coluna ind_atrito"
      ]
    },
    {
      "cell_type": "markdown",
      "metadata": {
        "id": "NskjVynWVkeP"
      },
      "source": [
        "Relação entre o banco acreditar que um cliente é atritado (0 = é atritado; 1 = não é atritado) e a quantidade de operações."
      ]
    },
    {
      "cell_type": "code",
      "execution_count": null,
      "metadata": {
        "id": "Wi93qS6iUq4C"
      },
      "outputs": [],
      "source": [
        "fig = px.bar(y = [client_fretted['qtd_oper'].mean(), client_not_fretted['qtd_oper'].mean()], x = ['Operações de clientes atritados', ' Operações clientes não atritados'])\n",
        "fig.show()"
      ]
    },
    {
      "cell_type": "markdown",
      "metadata": {
        "id": "Jz3_Ji8-VmBz"
      },
      "source": [
        "Relação entre o banco acreditar que um cliente é atritado (0 = é atritado; 1 = não é atritado) e a quantidade de produtos."
      ]
    },
    {
      "cell_type": "code",
      "execution_count": null,
      "metadata": {
        "id": "ZpJ-IMQ8VOG_"
      },
      "outputs": [],
      "source": [
        "fig = px.bar(y = [client_fretted['num_produtos'].mean(), client_not_fretted['num_produtos'].mean()], x = ['Produtos de clientes atritados', 'Produtos de clientes não atritados'])\n",
        "fig.show()"
      ]
    },
    {
      "cell_type": "markdown",
      "metadata": {
        "id": "Dp5CH_GKVugz"
      },
      "source": [
        "Relação entre o banco acreditar que um cliente é atritado (0 = é atritado; 1 = não é atritado) e o valor do Score."
      ]
    },
    {
      "cell_type": "code",
      "execution_count": null,
      "metadata": {
        "id": "Uwusg2x5VQhB"
      },
      "outputs": [],
      "source": [
        "fig = px.bar(y = [client_fretted['vlr_score'].mean(), client_not_fretted['vlr_score'].mean()], x = ['Score dos clientes atritados', 'Score dos clienets não atritados'])\n",
        "fig.show()"
      ]
    },
    {
      "cell_type": "markdown",
      "metadata": {
        "id": "ehx9fS40Vxbd"
      },
      "source": [
        "Relação entre o banco acreditar que um cliente é atritado (0 = é atritado; 1 = não é atritado) e o valor de crédito."
      ]
    },
    {
      "cell_type": "code",
      "execution_count": null,
      "metadata": {
        "id": "h6FIJiWnVVlr"
      },
      "outputs": [],
      "source": [
        "fig = px.bar(y = [client_fretted['vlr_credito'].mean(), client_not_fretted['vlr_credito'].mean()], x = ['Crédito dos clientes atritados', 'Crédito dos clientes não atritados'])\n",
        "fig.show()"
      ]
    },
    {
      "cell_type": "markdown",
      "metadata": {
        "id": "JXXhQjntV1S5"
      },
      "source": [
        "Relação entre o banco acreditar que um cliente é atritado (0 = é atritado; 1 = não é atritado) e o valor do saldo."
      ]
    },
    {
      "cell_type": "code",
      "execution_count": null,
      "metadata": {
        "id": "o-qwven2VZyV"
      },
      "outputs": [],
      "source": [
        "fig = px.bar(y = [client_fretted['vlr_saldo'].mean(), client_not_fretted['vlr_saldo'].mean()], x = ['Saldo dos clientes atritados', 'Saldo dos clientes não atritatados'])\n",
        "fig.show()"
      ]
    },
    {
      "cell_type": "markdown",
      "metadata": {
        "id": "q_jFJoF6GrrQ"
      },
      "source": [
        "#  Visualização de Jornada do usuário\n",
        "1. Atritado\n",
        "    Foram coletados 3 CPFs para comparar as ações de acordo com as safras"
      ]
    },
    {
      "cell_type": "code",
      "execution_count": null,
      "metadata": {
        "id": "b8y1iMqxGgwd"
      },
      "outputs": [],
      "source": [
        "# Coletar o ID do cpf a partir da última safra\n",
        "df[(df.anomes == 202204) & (df.ind_atrito == 1)].head() "
      ]
    },
    {
      "cell_type": "code",
      "execution_count": null,
      "metadata": {
        "id": "Swdr7WkUHpg8"
      },
      "outputs": [],
      "source": [
        "# Coletar o número completo do cpf para analisar cada safra\n",
        "new_df.loc[9269696,'num_cpf_hash']"
      ]
    },
    {
      "cell_type": "code",
      "execution_count": null,
      "metadata": {
        "id": "9_mYQmNqIJde"
      },
      "outputs": [],
      "source": [
        "# Visualização de cada mês de um cpf\n",
        "new_df[(new_df.num_cpf_hash == 'fe7728cf4b196eedfae889dff044eca220e42c72bb837f158c420649fd738e2d')]"
      ]
    },
    {
      "cell_type": "code",
      "execution_count": null,
      "metadata": {
        "id": "KyVucEPxIVuM"
      },
      "outputs": [],
      "source": [
        "new_df[(new_df.num_cpf_hash == '0069c06b6016281ff4af4f6b585d89b4efa25c270de9cbf857253db1bd47f3f2')]"
      ]
    },
    {
      "cell_type": "code",
      "execution_count": null,
      "metadata": {
        "id": "OpXSmCm7IWMo"
      },
      "outputs": [],
      "source": [
        "new_df[(new_df.num_cpf_hash == '01cf69537ed0cad6e0a3ecb6f6913cf0f1572ee12f64e4757a05a706707c406d')]"
      ]
    },
    {
      "cell_type": "markdown",
      "metadata": {
        "id": "WJNn_ZjyIbIA"
      },
      "source": [
        "Os resultados das análises, comparando os três cpfs, foram inconclusivos"
      ]
    },
    {
      "cell_type": "markdown",
      "metadata": {
        "id": "C4lrZaFLIrwf"
      },
      "source": [
        "2. Engajado"
      ]
    },
    {
      "cell_type": "code",
      "execution_count": null,
      "metadata": {
        "id": "oQ4ZJoPTIYX2"
      },
      "outputs": [],
      "source": [
        "# Coletar o ID do cpf a partir da última safra\n",
        "new_df[(new_df.anomes == 202111) & (new_df.ind_engaj == 1)].head()"
      ]
    },
    {
      "cell_type": "code",
      "execution_count": null,
      "metadata": {
        "id": "NFjJk1ZlI3ry"
      },
      "outputs": [],
      "source": [
        "# Coletar o número do cpf completo pelo ID\n",
        "new_df.loc[7532135\t,'num_cpf_hash']"
      ]
    },
    {
      "cell_type": "code",
      "execution_count": null,
      "metadata": {
        "id": "YaI5P4uTI99y"
      },
      "outputs": [],
      "source": [
        "# Visualização de cada mês de um cpf\n",
        "new_df[(new_df.num_cpf_hash == '00003671431c71ae1a84ec138b63c7a6e465f9616af5ea9ab0c2572da9c2f204')]"
      ]
    },
    {
      "cell_type": "markdown",
      "metadata": {
        "id": "4ydomqDlJE3h"
      },
      "source": [
        "Os resultados apresentados foram inconclusivos, de acordo com as hipóteses testadas"
      ]
    }
  ],
  "metadata": {
    "colab": {
      "collapsed_sections": [
        "Whr4BewjE1Tf",
        "rMDJXXMnsYBE",
        "PblRgJw3BbrU",
        "mcUuBkou0VXx",
        "WkCj8ysX0uW9",
        "ngyIJatP2yOX",
        "-N3viB3TqhEp",
        "dnH4OExlOpAJ",
        "k0rFw9xPT0Ic",
        "REI-998fT5-Y",
        "jcvYUtwIUHBj",
        "q_jFJoF6GrrQ"
      ],
      "provenance": []
    },
    "kernelspec": {
      "display_name": "Python 3",
      "name": "python3"
    },
    "language_info": {
      "name": "python"
    }
  },
  "nbformat": 4,
  "nbformat_minor": 0
}