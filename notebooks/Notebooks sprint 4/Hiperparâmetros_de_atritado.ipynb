{
  "nbformat": 4,
  "nbformat_minor": 0,
  "metadata": {
    "colab": {
      "provenance": [],
      "collapsed_sections": [
        "_fUofvMG8eMB",
        "Zj7i2dpqbqRC",
        "vJ8_z_QVZkED",
        "k6twORBnH8dV",
        "3CuSz6b4OstP",
        "4VBVJLKpIV6l",
        "oZZtAuwu9shJ",
        "S_9qTe-mUenB",
        "KIfA432tVCax",
        "UUr6DkgvDkRj",
        "4c3zaL5DSyqJ",
        "VGuU9uewTecb",
        "6Ie_Ih6JPhbY",
        "nJBVOWdaP5Y1",
        "JBbo9NueQ2c7",
        "79ppsZbPRSX0",
        "F7aTb0FWVKlr",
        "1SA98sNvV08j",
        "aQvYHJXPWnfq",
        "iTUTVWyqWxoh",
        "MlKQif5BX1L9",
        "gGxOdMKVYY-9",
        "GNIlLKpgZnoo",
        "gUyjgy7jGoYh",
        "kcxXwpbZsz8y",
        "C97IFwn4s4k4",
        "zHvGWjzLuGs1",
        "z0v6KM7TuR9L",
        "hOTrIoVAukqh",
        "zn5lCWHyuo5q",
        "SL16iQfuv3iq",
        "Awuc7a5Cv8G2",
        "-3aL8FR6wbh0",
        "e2Tx7fwpwhZj",
        "lcITkY94Gr9x",
        "17jZX9Pdw1kg",
        "Zei6JmxAxhcS",
        "24LmMtU7DYOv",
        "p_jVlWdpDmJD",
        "cbpxKwdpD4YC",
        "lrnW6LFuE9Ki",
        "xeyBUy_tFg8T",
        "HUAC2N8yFrWm",
        "DrbPwb1vGXn6",
        "piV1diwKGn_q",
        "9Nv11584HGm2",
        "-xL-QUEEKmUM",
        "iGkLjk1vMdQN",
        "xCe-oxKoNDM_",
        "QNg5wDDgNPoM",
        "szJJkPmrNmQE",
        "Ft8wCPFKN4e-",
        "DBW2OvkRORxg",
        "FhS2x25mPDVI",
        "hjXLcshQPGiT",
        "0IQRygqyPWrG",
        "96zm-ldYGxdZ",
        "fHowCp4kaO8D",
        "IH0Qgt4gahgS",
        "wRXuOGcM9zth",
        "sRCu8RqD97G_",
        "WrpbjWj99-bm",
        "as-jUrgy-GsN",
        "DgRxVBlz_9xC",
        "6-Rqan2LAoQ2",
        "wz9eBpkKa32v"
      ]
    },
    "kernelspec": {
      "name": "python3",
      "display_name": "Python 3"
    },
    "language_info": {
      "name": "python"
    }
  },
  "cells": [
    {
      "cell_type": "markdown",
      "source": [
        "#Ambientação do notebook"
      ],
      "metadata": {
        "id": "_fUofvMG8eMB"
      }
    },
    {
      "cell_type": "code",
      "execution_count": 164,
      "metadata": {
        "id": "6rHk2XcT8W4H"
      },
      "outputs": [],
      "source": [
        "!pip install -U -q PyDrive"
      ]
    },
    {
      "cell_type": "code",
      "source": [
        "import pandas as pd\n",
        "import plotly.express as px\n",
        "from sklearn.preprocessing import LabelBinarizer\n",
        "from pydrive.auth import GoogleAuth\n",
        "from pydrive.drive import GoogleDrive\n",
        "from google.colab import auth\n",
        "from oauth2client.client import GoogleCredentials\n",
        "import warnings\n",
        "warnings.filterwarnings('ignore')\n",
        "from sklearn.feature_selection import SelectKBest\n",
        "from sklearn.feature_selection import f_classif, mutual_info_classif"
      ],
      "metadata": {
        "id": "sJE9oWJ78lpx"
      },
      "execution_count": 165,
      "outputs": []
    },
    {
      "cell_type": "code",
      "source": [
        "auth.authenticate_user()\n",
        "gauth = GoogleAuth()\n",
        "gauth.credentials = GoogleCredentials.get_application_default()\n",
        "drive = GoogleDrive(gauth)"
      ],
      "metadata": {
        "id": "JKgm1jSz8o7f"
      },
      "execution_count": 166,
      "outputs": []
    },
    {
      "cell_type": "code",
      "source": [
        "downloaded = drive.CreateFile({'id': '1-C4iOW6z7oAtWCHhwuC-IeTxp8COwbxj'})\n",
        "downloaded.GetContentFile('client.csv')"
      ],
      "metadata": {
        "id": "4p0uVvPf8rTw"
      },
      "execution_count": 167,
      "outputs": []
    },
    {
      "cell_type": "code",
      "source": [
        "client = pd.read_csv('client.csv')"
      ],
      "metadata": {
        "id": "gSClUHB5X019"
      },
      "execution_count": 168,
      "outputs": []
    },
    {
      "cell_type": "markdown",
      "source": [
        "#Comparação de features em relação ao índice de novo cliente"
      ],
      "metadata": {
        "id": "Zj7i2dpqbqRC"
      }
    },
    {
      "cell_type": "code",
      "source": [
        "matriz_corr = client.corr().style.background_gradient(cmap='coolwarm')\n",
        "matriz_corr"
      ],
      "metadata": {
        "colab": {
          "base_uri": "https://localhost:8080/",
          "height": 0
        },
        "id": "DKSHx-XobuLs",
        "outputId": "0c5869a7-5bca-4ea6-89d9-9e7b4806dfe3"
      },
      "execution_count": 169,
      "outputs": [
        {
          "output_type": "execute_result",
          "data": {
            "text/plain": [
              "<pandas.io.formats.style.Styler at 0x7f32ba14d650>"
            ],
            "text/html": [
              "<style type=\"text/css\">\n",
              "#T_dac81_row0_col0, #T_dac81_row1_col1, #T_dac81_row2_col2, #T_dac81_row3_col3, #T_dac81_row4_col4, #T_dac81_row5_col5, #T_dac81_row6_col6, #T_dac81_row7_col7, #T_dac81_row8_col8, #T_dac81_row9_col9, #T_dac81_row10_col10, #T_dac81_row11_col11, #T_dac81_row12_col12 {\n",
              "  background-color: #b40426;\n",
              "  color: #f1f1f1;\n",
              "}\n",
              "#T_dac81_row0_col1, #T_dac81_row0_col2, #T_dac81_row0_col3, #T_dac81_row0_col5, #T_dac81_row0_col6, #T_dac81_row0_col7, #T_dac81_row0_col8, #T_dac81_row0_col10, #T_dac81_row0_col11, #T_dac81_row0_col12, #T_dac81_row1_col0, #T_dac81_row2_col3, #T_dac81_row2_col6, #T_dac81_row3_col0, #T_dac81_row3_col2, #T_dac81_row3_col8, #T_dac81_row4_col0, #T_dac81_row4_col3, #T_dac81_row4_col9, #T_dac81_row6_col0, #T_dac81_row6_col2, #T_dac81_row6_col8, #T_dac81_row7_col0, #T_dac81_row8_col0, #T_dac81_row8_col3, #T_dac81_row8_col5, #T_dac81_row8_col6, #T_dac81_row8_col12, #T_dac81_row9_col4, #T_dac81_row9_col5, #T_dac81_row9_col6, #T_dac81_row9_col8, #T_dac81_row9_col11, #T_dac81_row9_col12, #T_dac81_row10_col0, #T_dac81_row11_col0 {\n",
              "  background-color: #3b4cc0;\n",
              "  color: #f1f1f1;\n",
              "}\n",
              "#T_dac81_row0_col4, #T_dac81_row8_col9, #T_dac81_row11_col9 {\n",
              "  background-color: #84a7fc;\n",
              "  color: #f1f1f1;\n",
              "}\n",
              "#T_dac81_row0_col9, #T_dac81_row3_col4, #T_dac81_row3_col9, #T_dac81_row5_col9, #T_dac81_row6_col9, #T_dac81_row8_col4, #T_dac81_row11_col4, #T_dac81_row12_col9 {\n",
              "  background-color: #85a8fc;\n",
              "  color: #f1f1f1;\n",
              "}\n",
              "#T_dac81_row1_col2, #T_dac81_row12_col4 {\n",
              "  background-color: #97b8ff;\n",
              "  color: #000000;\n",
              "}\n",
              "#T_dac81_row1_col3, #T_dac81_row1_col6, #T_dac81_row5_col11, #T_dac81_row6_col1, #T_dac81_row7_col11, #T_dac81_row8_col7, #T_dac81_row10_col3, #T_dac81_row12_col8, #T_dac81_row12_col11 {\n",
              "  background-color: #3d50c3;\n",
              "  color: #f1f1f1;\n",
              "}\n",
              "#T_dac81_row1_col4, #T_dac81_row2_col1, #T_dac81_row2_col4 {\n",
              "  background-color: #98b9ff;\n",
              "  color: #000000;\n",
              "}\n",
              "#T_dac81_row1_col5, #T_dac81_row4_col7, #T_dac81_row5_col1 {\n",
              "  background-color: #5875e1;\n",
              "  color: #f1f1f1;\n",
              "}\n",
              "#T_dac81_row1_col7, #T_dac81_row5_col7, #T_dac81_row7_col1, #T_dac81_row7_col5 {\n",
              "  background-color: #c0d4f5;\n",
              "  color: #000000;\n",
              "}\n",
              "#T_dac81_row1_col8, #T_dac81_row3_col11, #T_dac81_row11_col3, #T_dac81_row12_col3 {\n",
              "  background-color: #4257c9;\n",
              "  color: #f1f1f1;\n",
              "}\n",
              "#T_dac81_row1_col9 {\n",
              "  background-color: #9fbfff;\n",
              "  color: #000000;\n",
              "}\n",
              "#T_dac81_row1_col10, #T_dac81_row10_col1 {\n",
              "  background-color: #f1ccb8;\n",
              "  color: #000000;\n",
              "}\n",
              "#T_dac81_row1_col11, #T_dac81_row6_col10, #T_dac81_row6_col11, #T_dac81_row7_col8, #T_dac81_row10_col6, #T_dac81_row10_col11, #T_dac81_row11_col1, #T_dac81_row11_col6, #T_dac81_row11_col10 {\n",
              "  background-color: #3e51c5;\n",
              "  color: #f1f1f1;\n",
              "}\n",
              "#T_dac81_row1_col12 {\n",
              "  background-color: #4f69d9;\n",
              "  color: #f1f1f1;\n",
              "}\n",
              "#T_dac81_row2_col0, #T_dac81_row3_col1, #T_dac81_row3_col10, #T_dac81_row4_col6, #T_dac81_row4_col8, #T_dac81_row4_col11, #T_dac81_row5_col0, #T_dac81_row5_col8, #T_dac81_row9_col0, #T_dac81_row9_col2, #T_dac81_row9_col3, #T_dac81_row11_col5, #T_dac81_row11_col7, #T_dac81_row11_col12, #T_dac81_row12_col0 {\n",
              "  background-color: #3c4ec2;\n",
              "  color: #f1f1f1;\n",
              "}\n",
              "#T_dac81_row2_col5, #T_dac81_row5_col2 {\n",
              "  background-color: #88abfd;\n",
              "  color: #000000;\n",
              "}\n",
              "#T_dac81_row2_col7, #T_dac81_row7_col2 {\n",
              "  background-color: #5572df;\n",
              "  color: #f1f1f1;\n",
              "}\n",
              "#T_dac81_row2_col8, #T_dac81_row2_col11, #T_dac81_row3_col7, #T_dac81_row7_col3, #T_dac81_row8_col1, #T_dac81_row10_col8 {\n",
              "  background-color: #4055c8;\n",
              "  color: #f1f1f1;\n",
              "}\n",
              "#T_dac81_row2_col9, #T_dac81_row6_col4 {\n",
              "  background-color: #86a9fc;\n",
              "  color: #f1f1f1;\n",
              "}\n",
              "#T_dac81_row2_col10 {\n",
              "  background-color: #6e90f2;\n",
              "  color: #f1f1f1;\n",
              "}\n",
              "#T_dac81_row2_col12, #T_dac81_row12_col2 {\n",
              "  background-color: #7093f3;\n",
              "  color: #f1f1f1;\n",
              "}\n",
              "#T_dac81_row3_col5, #T_dac81_row5_col3, #T_dac81_row10_col12, #T_dac81_row12_col6, #T_dac81_row12_col10 {\n",
              "  background-color: #445acc;\n",
              "  color: #f1f1f1;\n",
              "}\n",
              "#T_dac81_row3_col6, #T_dac81_row6_col3 {\n",
              "  background-color: #e5d8d1;\n",
              "  color: #000000;\n",
              "}\n",
              "#T_dac81_row3_col12, #T_dac81_row8_col2, #T_dac81_row8_col10, #T_dac81_row11_col2 {\n",
              "  background-color: #3f53c6;\n",
              "  color: #f1f1f1;\n",
              "}\n",
              "#T_dac81_row4_col1, #T_dac81_row5_col10, #T_dac81_row10_col5, #T_dac81_row12_col1 {\n",
              "  background-color: #506bda;\n",
              "  color: #f1f1f1;\n",
              "}\n",
              "#T_dac81_row4_col2, #T_dac81_row4_col5 {\n",
              "  background-color: #516ddb;\n",
              "  color: #f1f1f1;\n",
              "}\n",
              "#T_dac81_row4_col10 {\n",
              "  background-color: #536edd;\n",
              "  color: #f1f1f1;\n",
              "}\n",
              "#T_dac81_row4_col12 {\n",
              "  background-color: #4e68d8;\n",
              "  color: #f1f1f1;\n",
              "}\n",
              "#T_dac81_row5_col4, #T_dac81_row10_col4 {\n",
              "  background-color: #9abbff;\n",
              "  color: #000000;\n",
              "}\n",
              "#T_dac81_row5_col6, #T_dac81_row6_col5, #T_dac81_row9_col10 {\n",
              "  background-color: #4a63d3;\n",
              "  color: #f1f1f1;\n",
              "}\n",
              "#T_dac81_row5_col12 {\n",
              "  background-color: #f7aa8c;\n",
              "  color: #000000;\n",
              "}\n",
              "#T_dac81_row6_col7, #T_dac81_row6_col12, #T_dac81_row7_col6 {\n",
              "  background-color: #4358cb;\n",
              "  color: #f1f1f1;\n",
              "}\n",
              "#T_dac81_row7_col4, #T_dac81_row7_col10, #T_dac81_row10_col7, #T_dac81_row12_col7 {\n",
              "  background-color: #9ebeff;\n",
              "  color: #000000;\n",
              "}\n",
              "#T_dac81_row7_col9 {\n",
              "  background-color: #aec9fc;\n",
              "  color: #000000;\n",
              "}\n",
              "#T_dac81_row7_col12 {\n",
              "  background-color: #9dbdff;\n",
              "  color: #000000;\n",
              "}\n",
              "#T_dac81_row8_col11 {\n",
              "  background-color: #e6d7cf;\n",
              "  color: #000000;\n",
              "}\n",
              "#T_dac81_row9_col1 {\n",
              "  background-color: #5977e3;\n",
              "  color: #f1f1f1;\n",
              "}\n",
              "#T_dac81_row9_col7 {\n",
              "  background-color: #6a8bef;\n",
              "  color: #f1f1f1;\n",
              "}\n",
              "#T_dac81_row10_col2 {\n",
              "  background-color: #6c8ff1;\n",
              "  color: #f1f1f1;\n",
              "}\n",
              "#T_dac81_row10_col9 {\n",
              "  background-color: #93b5fe;\n",
              "  color: #000000;\n",
              "}\n",
              "#T_dac81_row11_col8 {\n",
              "  background-color: #e7d7ce;\n",
              "  color: #000000;\n",
              "}\n",
              "#T_dac81_row12_col5 {\n",
              "  background-color: #f7a98b;\n",
              "  color: #000000;\n",
              "}\n",
              "</style>\n",
              "<table id=\"T_dac81_\" class=\"dataframe\">\n",
              "  <thead>\n",
              "    <tr>\n",
              "      <th class=\"blank level0\" >&nbsp;</th>\n",
              "      <th class=\"col_heading level0 col0\" >Unnamed: 0</th>\n",
              "      <th class=\"col_heading level0 col1\" >vlr_credito</th>\n",
              "      <th class=\"col_heading level0 col2\" >vlr_saldo</th>\n",
              "      <th class=\"col_heading level0 col3\" >num_atend_atrs</th>\n",
              "      <th class=\"col_heading level0 col4\" >vlr_score</th>\n",
              "      <th class=\"col_heading level0 col5\" >num_produtos</th>\n",
              "      <th class=\"col_heading level0 col6\" >num_atend</th>\n",
              "      <th class=\"col_heading level0 col7\" >qtd_oper</th>\n",
              "      <th class=\"col_heading level0 col8\" >qtd_reclm</th>\n",
              "      <th class=\"col_heading level0 col9\" >qtd_restr</th>\n",
              "      <th class=\"col_heading level0 col10\" >vlr_renda</th>\n",
              "      <th class=\"col_heading level0 col11\" >ind_atrito</th>\n",
              "      <th class=\"col_heading level0 col12\" >ind_engaj</th>\n",
              "    </tr>\n",
              "  </thead>\n",
              "  <tbody>\n",
              "    <tr>\n",
              "      <th id=\"T_dac81_level0_row0\" class=\"row_heading level0 row0\" >Unnamed: 0</th>\n",
              "      <td id=\"T_dac81_row0_col0\" class=\"data row0 col0\" >1.000000</td>\n",
              "      <td id=\"T_dac81_row0_col1\" class=\"data row0 col1\" >-0.001449</td>\n",
              "      <td id=\"T_dac81_row0_col2\" class=\"data row0 col2\" >0.001522</td>\n",
              "      <td id=\"T_dac81_row0_col3\" class=\"data row0 col3\" >-0.002444</td>\n",
              "      <td id=\"T_dac81_row0_col4\" class=\"data row0 col4\" >-0.000885</td>\n",
              "      <td id=\"T_dac81_row0_col5\" class=\"data row0 col5\" >0.002616</td>\n",
              "      <td id=\"T_dac81_row0_col6\" class=\"data row0 col6\" >-0.000890</td>\n",
              "      <td id=\"T_dac81_row0_col7\" class=\"data row0 col7\" >-0.000765</td>\n",
              "      <td id=\"T_dac81_row0_col8\" class=\"data row0 col8\" >-0.004190</td>\n",
              "      <td id=\"T_dac81_row0_col9\" class=\"data row0 col9\" >0.003100</td>\n",
              "      <td id=\"T_dac81_row0_col10\" class=\"data row0 col10\" >-0.000362</td>\n",
              "      <td id=\"T_dac81_row0_col11\" class=\"data row0 col11\" >-0.002664</td>\n",
              "      <td id=\"T_dac81_row0_col12\" class=\"data row0 col12\" >0.002035</td>\n",
              "    </tr>\n",
              "    <tr>\n",
              "      <th id=\"T_dac81_level0_row1\" class=\"row_heading level0 row1\" >vlr_credito</th>\n",
              "      <td id=\"T_dac81_row1_col0\" class=\"data row1 col0\" >-0.001449</td>\n",
              "      <td id=\"T_dac81_row1_col1\" class=\"data row1 col1\" >1.000000</td>\n",
              "      <td id=\"T_dac81_row1_col2\" class=\"data row1 col2\" >0.280953</td>\n",
              "      <td id=\"T_dac81_row1_col3\" class=\"data row1 col3\" >0.006309</td>\n",
              "      <td id=\"T_dac81_row1_col4\" class=\"data row1 col4\" >0.071460</td>\n",
              "      <td id=\"T_dac81_row1_col5\" class=\"data row1 col5\" >0.096261</td>\n",
              "      <td id=\"T_dac81_row1_col6\" class=\"data row1 col6\" >0.009918</td>\n",
              "      <td id=\"T_dac81_row1_col7\" class=\"data row1 col7\" >0.398583</td>\n",
              "      <td id=\"T_dac81_row1_col8\" class=\"data row1 col8\" >0.019903</td>\n",
              "      <td id=\"T_dac81_row1_col9\" class=\"data row1 col9\" >0.098304</td>\n",
              "      <td id=\"T_dac81_row1_col10\" class=\"data row1 col10\" >0.593851</td>\n",
              "      <td id=\"T_dac81_row1_col11\" class=\"data row1 col11\" >0.011959</td>\n",
              "      <td id=\"T_dac81_row1_col12\" class=\"data row1 col12\" >0.070471</td>\n",
              "    </tr>\n",
              "    <tr>\n",
              "      <th id=\"T_dac81_level0_row2\" class=\"row_heading level0 row2\" >vlr_saldo</th>\n",
              "      <td id=\"T_dac81_row2_col0\" class=\"data row2 col0\" >0.001522</td>\n",
              "      <td id=\"T_dac81_row2_col1\" class=\"data row2 col1\" >0.280953</td>\n",
              "      <td id=\"T_dac81_row2_col2\" class=\"data row2 col2\" >1.000000</td>\n",
              "      <td id=\"T_dac81_row2_col3\" class=\"data row2 col3\" >0.000226</td>\n",
              "      <td id=\"T_dac81_row2_col4\" class=\"data row2 col4\" >0.074541</td>\n",
              "      <td id=\"T_dac81_row2_col5\" class=\"data row2 col5\" >0.235828</td>\n",
              "      <td id=\"T_dac81_row2_col6\" class=\"data row2 col6\" >0.002335</td>\n",
              "      <td id=\"T_dac81_row2_col7\" class=\"data row2 col7\" >0.088389</td>\n",
              "      <td id=\"T_dac81_row2_col8\" class=\"data row2 col8\" >0.018893</td>\n",
              "      <td id=\"T_dac81_row2_col9\" class=\"data row2 col9\" >0.007249</td>\n",
              "      <td id=\"T_dac81_row2_col10\" class=\"data row2 col10\" >0.160302</td>\n",
              "      <td id=\"T_dac81_row2_col11\" class=\"data row2 col11\" >0.017218</td>\n",
              "      <td id=\"T_dac81_row2_col12\" class=\"data row2 col12\" >0.170425</td>\n",
              "    </tr>\n",
              "    <tr>\n",
              "      <th id=\"T_dac81_level0_row3\" class=\"row_heading level0 row3\" >num_atend_atrs</th>\n",
              "      <td id=\"T_dac81_row3_col0\" class=\"data row3 col0\" >-0.002444</td>\n",
              "      <td id=\"T_dac81_row3_col1\" class=\"data row3 col1\" >0.006309</td>\n",
              "      <td id=\"T_dac81_row3_col2\" class=\"data row3 col2\" >0.000226</td>\n",
              "      <td id=\"T_dac81_row3_col3\" class=\"data row3 col3\" >1.000000</td>\n",
              "      <td id=\"T_dac81_row3_col4\" class=\"data row3 col4\" >0.001361</td>\n",
              "      <td id=\"T_dac81_row3_col5\" class=\"data row3 col5\" >0.032058</td>\n",
              "      <td id=\"T_dac81_row3_col6\" class=\"data row3 col6\" >0.531965</td>\n",
              "      <td id=\"T_dac81_row3_col7\" class=\"data row3 col7\" >0.019272</td>\n",
              "      <td id=\"T_dac81_row3_col8\" class=\"data row3 col8\" >-0.000354</td>\n",
              "      <td id=\"T_dac81_row3_col9\" class=\"data row3 col9\" >0.002933</td>\n",
              "      <td id=\"T_dac81_row3_col10\" class=\"data row3 col10\" >0.006910</td>\n",
              "      <td id=\"T_dac81_row3_col11\" class=\"data row3 col11\" >0.021113</td>\n",
              "      <td id=\"T_dac81_row3_col12\" class=\"data row3 col12\" >0.021248</td>\n",
              "    </tr>\n",
              "    <tr>\n",
              "      <th id=\"T_dac81_level0_row4\" class=\"row_heading level0 row4\" >vlr_score</th>\n",
              "      <td id=\"T_dac81_row4_col0\" class=\"data row4 col0\" >-0.000885</td>\n",
              "      <td id=\"T_dac81_row4_col1\" class=\"data row4 col1\" >0.071460</td>\n",
              "      <td id=\"T_dac81_row4_col2\" class=\"data row4 col2\" >0.074541</td>\n",
              "      <td id=\"T_dac81_row4_col3\" class=\"data row4 col3\" >0.001361</td>\n",
              "      <td id=\"T_dac81_row4_col4\" class=\"data row4 col4\" >1.000000</td>\n",
              "      <td id=\"T_dac81_row4_col5\" class=\"data row4 col5\" >0.076976</td>\n",
              "      <td id=\"T_dac81_row4_col6\" class=\"data row4 col6\" >0.006721</td>\n",
              "      <td id=\"T_dac81_row4_col7\" class=\"data row4 col7\" >0.094354</td>\n",
              "      <td id=\"T_dac81_row4_col8\" class=\"data row4 col8\" >0.002783</td>\n",
              "      <td id=\"T_dac81_row4_col9\" class=\"data row4 col9\" >-0.293389</td>\n",
              "      <td id=\"T_dac81_row4_col10\" class=\"data row4 col10\" >0.078622</td>\n",
              "      <td id=\"T_dac81_row4_col11\" class=\"data row4 col11\" >0.004139</td>\n",
              "      <td id=\"T_dac81_row4_col12\" class=\"data row4 col12\" >0.066338</td>\n",
              "    </tr>\n",
              "    <tr>\n",
              "      <th id=\"T_dac81_level0_row5\" class=\"row_heading level0 row5\" >num_produtos</th>\n",
              "      <td id=\"T_dac81_row5_col0\" class=\"data row5 col0\" >0.002616</td>\n",
              "      <td id=\"T_dac81_row5_col1\" class=\"data row5 col1\" >0.096261</td>\n",
              "      <td id=\"T_dac81_row5_col2\" class=\"data row5 col2\" >0.235828</td>\n",
              "      <td id=\"T_dac81_row5_col3\" class=\"data row5 col3\" >0.032058</td>\n",
              "      <td id=\"T_dac81_row5_col4\" class=\"data row5 col4\" >0.076976</td>\n",
              "      <td id=\"T_dac81_row5_col5\" class=\"data row5 col5\" >1.000000</td>\n",
              "      <td id=\"T_dac81_row5_col6\" class=\"data row5 col6\" >0.052517</td>\n",
              "      <td id=\"T_dac81_row5_col7\" class=\"data row5 col7\" >0.399924</td>\n",
              "      <td id=\"T_dac81_row5_col8\" class=\"data row5 col8\" >0.000552</td>\n",
              "      <td id=\"T_dac81_row5_col9\" class=\"data row5 col9\" >0.001635</td>\n",
              "      <td id=\"T_dac81_row5_col10\" class=\"data row5 col10\" >0.071313</td>\n",
              "      <td id=\"T_dac81_row5_col11\" class=\"data row5 col11\" >0.007039</td>\n",
              "      <td id=\"T_dac81_row5_col12\" class=\"data row5 col12\" >0.707495</td>\n",
              "    </tr>\n",
              "    <tr>\n",
              "      <th id=\"T_dac81_level0_row6\" class=\"row_heading level0 row6\" >num_atend</th>\n",
              "      <td id=\"T_dac81_row6_col0\" class=\"data row6 col0\" >-0.000890</td>\n",
              "      <td id=\"T_dac81_row6_col1\" class=\"data row6 col1\" >0.009918</td>\n",
              "      <td id=\"T_dac81_row6_col2\" class=\"data row6 col2\" >0.002335</td>\n",
              "      <td id=\"T_dac81_row6_col3\" class=\"data row6 col3\" >0.531965</td>\n",
              "      <td id=\"T_dac81_row6_col4\" class=\"data row6 col4\" >0.006721</td>\n",
              "      <td id=\"T_dac81_row6_col5\" class=\"data row6 col5\" >0.052517</td>\n",
              "      <td id=\"T_dac81_row6_col6\" class=\"data row6 col6\" >1.000000</td>\n",
              "      <td id=\"T_dac81_row6_col7\" class=\"data row6 col7\" >0.028077</td>\n",
              "      <td id=\"T_dac81_row6_col8\" class=\"data row6 col8\" >-0.000586</td>\n",
              "      <td id=\"T_dac81_row6_col9\" class=\"data row6 col9\" >0.000265</td>\n",
              "      <td id=\"T_dac81_row6_col10\" class=\"data row6 col10\" >0.014571</td>\n",
              "      <td id=\"T_dac81_row6_col11\" class=\"data row6 col11\" >0.011490</td>\n",
              "      <td id=\"T_dac81_row6_col12\" class=\"data row6 col12\" >0.030704</td>\n",
              "    </tr>\n",
              "    <tr>\n",
              "      <th id=\"T_dac81_level0_row7\" class=\"row_heading level0 row7\" >qtd_oper</th>\n",
              "      <td id=\"T_dac81_row7_col0\" class=\"data row7 col0\" >-0.000765</td>\n",
              "      <td id=\"T_dac81_row7_col1\" class=\"data row7 col1\" >0.398583</td>\n",
              "      <td id=\"T_dac81_row7_col2\" class=\"data row7 col2\" >0.088389</td>\n",
              "      <td id=\"T_dac81_row7_col3\" class=\"data row7 col3\" >0.019272</td>\n",
              "      <td id=\"T_dac81_row7_col4\" class=\"data row7 col4\" >0.094354</td>\n",
              "      <td id=\"T_dac81_row7_col5\" class=\"data row7 col5\" >0.399924</td>\n",
              "      <td id=\"T_dac81_row7_col6\" class=\"data row7 col6\" >0.028077</td>\n",
              "      <td id=\"T_dac81_row7_col7\" class=\"data row7 col7\" >1.000000</td>\n",
              "      <td id=\"T_dac81_row7_col8\" class=\"data row7 col8\" >0.008165</td>\n",
              "      <td id=\"T_dac81_row7_col9\" class=\"data row7 col9\" >0.151486</td>\n",
              "      <td id=\"T_dac81_row7_col10\" class=\"data row7 col10\" >0.299594</td>\n",
              "      <td id=\"T_dac81_row7_col11\" class=\"data row7 col11\" >0.005816</td>\n",
              "      <td id=\"T_dac81_row7_col12\" class=\"data row7 col12\" >0.296881</td>\n",
              "    </tr>\n",
              "    <tr>\n",
              "      <th id=\"T_dac81_level0_row8\" class=\"row_heading level0 row8\" >qtd_reclm</th>\n",
              "      <td id=\"T_dac81_row8_col0\" class=\"data row8 col0\" >-0.004190</td>\n",
              "      <td id=\"T_dac81_row8_col1\" class=\"data row8 col1\" >0.019903</td>\n",
              "      <td id=\"T_dac81_row8_col2\" class=\"data row8 col2\" >0.018893</td>\n",
              "      <td id=\"T_dac81_row8_col3\" class=\"data row8 col3\" >-0.000354</td>\n",
              "      <td id=\"T_dac81_row8_col4\" class=\"data row8 col4\" >0.002783</td>\n",
              "      <td id=\"T_dac81_row8_col5\" class=\"data row8 col5\" >0.000552</td>\n",
              "      <td id=\"T_dac81_row8_col6\" class=\"data row8 col6\" >-0.000586</td>\n",
              "      <td id=\"T_dac81_row8_col7\" class=\"data row8 col7\" >0.008165</td>\n",
              "      <td id=\"T_dac81_row8_col8\" class=\"data row8 col8\" >1.000000</td>\n",
              "      <td id=\"T_dac81_row8_col9\" class=\"data row8 col9\" >-0.001011</td>\n",
              "      <td id=\"T_dac81_row8_col10\" class=\"data row8 col10\" >0.017440</td>\n",
              "      <td id=\"T_dac81_row8_col11\" class=\"data row8 col11\" >0.537171</td>\n",
              "      <td id=\"T_dac81_row8_col12\" class=\"data row8 col12\" >0.005056</td>\n",
              "    </tr>\n",
              "    <tr>\n",
              "      <th id=\"T_dac81_level0_row9\" class=\"row_heading level0 row9\" >qtd_restr</th>\n",
              "      <td id=\"T_dac81_row9_col0\" class=\"data row9 col0\" >0.003100</td>\n",
              "      <td id=\"T_dac81_row9_col1\" class=\"data row9 col1\" >0.098304</td>\n",
              "      <td id=\"T_dac81_row9_col2\" class=\"data row9 col2\" >0.007249</td>\n",
              "      <td id=\"T_dac81_row9_col3\" class=\"data row9 col3\" >0.002933</td>\n",
              "      <td id=\"T_dac81_row9_col4\" class=\"data row9 col4\" >-0.293389</td>\n",
              "      <td id=\"T_dac81_row9_col5\" class=\"data row9 col5\" >0.001635</td>\n",
              "      <td id=\"T_dac81_row9_col6\" class=\"data row9 col6\" >0.000265</td>\n",
              "      <td id=\"T_dac81_row9_col7\" class=\"data row9 col7\" >0.151486</td>\n",
              "      <td id=\"T_dac81_row9_col8\" class=\"data row9 col8\" >-0.001011</td>\n",
              "      <td id=\"T_dac81_row9_col9\" class=\"data row9 col9\" >1.000000</td>\n",
              "      <td id=\"T_dac81_row9_col10\" class=\"data row9 col10\" >0.053812</td>\n",
              "      <td id=\"T_dac81_row9_col11\" class=\"data row9 col11\" >-0.001945</td>\n",
              "      <td id=\"T_dac81_row9_col12\" class=\"data row9 col12\" >0.002315</td>\n",
              "    </tr>\n",
              "    <tr>\n",
              "      <th id=\"T_dac81_level0_row10\" class=\"row_heading level0 row10\" >vlr_renda</th>\n",
              "      <td id=\"T_dac81_row10_col0\" class=\"data row10 col0\" >-0.000362</td>\n",
              "      <td id=\"T_dac81_row10_col1\" class=\"data row10 col1\" >0.593851</td>\n",
              "      <td id=\"T_dac81_row10_col2\" class=\"data row10 col2\" >0.160302</td>\n",
              "      <td id=\"T_dac81_row10_col3\" class=\"data row10 col3\" >0.006910</td>\n",
              "      <td id=\"T_dac81_row10_col4\" class=\"data row10 col4\" >0.078622</td>\n",
              "      <td id=\"T_dac81_row10_col5\" class=\"data row10 col5\" >0.071313</td>\n",
              "      <td id=\"T_dac81_row10_col6\" class=\"data row10 col6\" >0.014571</td>\n",
              "      <td id=\"T_dac81_row10_col7\" class=\"data row10 col7\" >0.299594</td>\n",
              "      <td id=\"T_dac81_row10_col8\" class=\"data row10 col8\" >0.017440</td>\n",
              "      <td id=\"T_dac81_row10_col9\" class=\"data row10 col9\" >0.053812</td>\n",
              "      <td id=\"T_dac81_row10_col10\" class=\"data row10 col10\" >1.000000</td>\n",
              "      <td id=\"T_dac81_row10_col11\" class=\"data row10 col11\" >0.012472</td>\n",
              "      <td id=\"T_dac81_row10_col12\" class=\"data row10 col12\" >0.034249</td>\n",
              "    </tr>\n",
              "    <tr>\n",
              "      <th id=\"T_dac81_level0_row11\" class=\"row_heading level0 row11\" >ind_atrito</th>\n",
              "      <td id=\"T_dac81_row11_col0\" class=\"data row11 col0\" >-0.002664</td>\n",
              "      <td id=\"T_dac81_row11_col1\" class=\"data row11 col1\" >0.011959</td>\n",
              "      <td id=\"T_dac81_row11_col2\" class=\"data row11 col2\" >0.017218</td>\n",
              "      <td id=\"T_dac81_row11_col3\" class=\"data row11 col3\" >0.021113</td>\n",
              "      <td id=\"T_dac81_row11_col4\" class=\"data row11 col4\" >0.004139</td>\n",
              "      <td id=\"T_dac81_row11_col5\" class=\"data row11 col5\" >0.007039</td>\n",
              "      <td id=\"T_dac81_row11_col6\" class=\"data row11 col6\" >0.011490</td>\n",
              "      <td id=\"T_dac81_row11_col7\" class=\"data row11 col7\" >0.005816</td>\n",
              "      <td id=\"T_dac81_row11_col8\" class=\"data row11 col8\" >0.537171</td>\n",
              "      <td id=\"T_dac81_row11_col9\" class=\"data row11 col9\" >-0.001945</td>\n",
              "      <td id=\"T_dac81_row11_col10\" class=\"data row11 col10\" >0.012472</td>\n",
              "      <td id=\"T_dac81_row11_col11\" class=\"data row11 col11\" >1.000000</td>\n",
              "      <td id=\"T_dac81_row11_col12\" class=\"data row11 col12\" >0.006447</td>\n",
              "    </tr>\n",
              "    <tr>\n",
              "      <th id=\"T_dac81_level0_row12\" class=\"row_heading level0 row12\" >ind_engaj</th>\n",
              "      <td id=\"T_dac81_row12_col0\" class=\"data row12 col0\" >0.002035</td>\n",
              "      <td id=\"T_dac81_row12_col1\" class=\"data row12 col1\" >0.070471</td>\n",
              "      <td id=\"T_dac81_row12_col2\" class=\"data row12 col2\" >0.170425</td>\n",
              "      <td id=\"T_dac81_row12_col3\" class=\"data row12 col3\" >0.021248</td>\n",
              "      <td id=\"T_dac81_row12_col4\" class=\"data row12 col4\" >0.066338</td>\n",
              "      <td id=\"T_dac81_row12_col5\" class=\"data row12 col5\" >0.707495</td>\n",
              "      <td id=\"T_dac81_row12_col6\" class=\"data row12 col6\" >0.030704</td>\n",
              "      <td id=\"T_dac81_row12_col7\" class=\"data row12 col7\" >0.296881</td>\n",
              "      <td id=\"T_dac81_row12_col8\" class=\"data row12 col8\" >0.005056</td>\n",
              "      <td id=\"T_dac81_row12_col9\" class=\"data row12 col9\" >0.002315</td>\n",
              "      <td id=\"T_dac81_row12_col10\" class=\"data row12 col10\" >0.034249</td>\n",
              "      <td id=\"T_dac81_row12_col11\" class=\"data row12 col11\" >0.006447</td>\n",
              "      <td id=\"T_dac81_row12_col12\" class=\"data row12 col12\" >1.000000</td>\n",
              "    </tr>\n",
              "  </tbody>\n",
              "</table>\n"
            ]
          },
          "metadata": {},
          "execution_count": 169
        }
      ]
    },
    {
      "cell_type": "code",
      "source": [
        "target_corr = matriz_corr.data.ind_atrito\n",
        "df_corr = target_corr.abs().sort_values(ascending=False).to_frame().style.background_gradient(cmap='coolwarm')\n",
        "df_corr"
      ],
      "metadata": {
        "colab": {
          "base_uri": "https://localhost:8080/",
          "height": 0
        },
        "id": "AtvoQXlWbxj6",
        "outputId": "842d953a-47d1-4a0f-abe2-3e9486a44c26"
      },
      "execution_count": 170,
      "outputs": [
        {
          "output_type": "execute_result",
          "data": {
            "text/plain": [
              "<pandas.io.formats.style.Styler at 0x7f32ba141850>"
            ],
            "text/html": [
              "<style type=\"text/css\">\n",
              "#T_5ef8a_row0_col0 {\n",
              "  background-color: #b40426;\n",
              "  color: #f1f1f1;\n",
              "}\n",
              "#T_5ef8a_row1_col0 {\n",
              "  background-color: #e6d7cf;\n",
              "  color: #000000;\n",
              "}\n",
              "#T_5ef8a_row2_col0 {\n",
              "  background-color: #3f53c6;\n",
              "  color: #f1f1f1;\n",
              "}\n",
              "#T_5ef8a_row3_col0 {\n",
              "  background-color: #3e51c5;\n",
              "  color: #f1f1f1;\n",
              "}\n",
              "#T_5ef8a_row4_col0, #T_5ef8a_row5_col0, #T_5ef8a_row6_col0 {\n",
              "  background-color: #3d50c3;\n",
              "  color: #f1f1f1;\n",
              "}\n",
              "#T_5ef8a_row7_col0, #T_5ef8a_row8_col0 {\n",
              "  background-color: #3c4ec2;\n",
              "  color: #f1f1f1;\n",
              "}\n",
              "#T_5ef8a_row9_col0, #T_5ef8a_row10_col0, #T_5ef8a_row11_col0, #T_5ef8a_row12_col0 {\n",
              "  background-color: #3b4cc0;\n",
              "  color: #f1f1f1;\n",
              "}\n",
              "</style>\n",
              "<table id=\"T_5ef8a_\" class=\"dataframe\">\n",
              "  <thead>\n",
              "    <tr>\n",
              "      <th class=\"blank level0\" >&nbsp;</th>\n",
              "      <th class=\"col_heading level0 col0\" >ind_atrito</th>\n",
              "    </tr>\n",
              "  </thead>\n",
              "  <tbody>\n",
              "    <tr>\n",
              "      <th id=\"T_5ef8a_level0_row0\" class=\"row_heading level0 row0\" >ind_atrito</th>\n",
              "      <td id=\"T_5ef8a_row0_col0\" class=\"data row0 col0\" >1.000000</td>\n",
              "    </tr>\n",
              "    <tr>\n",
              "      <th id=\"T_5ef8a_level0_row1\" class=\"row_heading level0 row1\" >qtd_reclm</th>\n",
              "      <td id=\"T_5ef8a_row1_col0\" class=\"data row1 col0\" >0.537171</td>\n",
              "    </tr>\n",
              "    <tr>\n",
              "      <th id=\"T_5ef8a_level0_row2\" class=\"row_heading level0 row2\" >num_atend_atrs</th>\n",
              "      <td id=\"T_5ef8a_row2_col0\" class=\"data row2 col0\" >0.021113</td>\n",
              "    </tr>\n",
              "    <tr>\n",
              "      <th id=\"T_5ef8a_level0_row3\" class=\"row_heading level0 row3\" >vlr_saldo</th>\n",
              "      <td id=\"T_5ef8a_row3_col0\" class=\"data row3 col0\" >0.017218</td>\n",
              "    </tr>\n",
              "    <tr>\n",
              "      <th id=\"T_5ef8a_level0_row4\" class=\"row_heading level0 row4\" >vlr_renda</th>\n",
              "      <td id=\"T_5ef8a_row4_col0\" class=\"data row4 col0\" >0.012472</td>\n",
              "    </tr>\n",
              "    <tr>\n",
              "      <th id=\"T_5ef8a_level0_row5\" class=\"row_heading level0 row5\" >vlr_credito</th>\n",
              "      <td id=\"T_5ef8a_row5_col0\" class=\"data row5 col0\" >0.011959</td>\n",
              "    </tr>\n",
              "    <tr>\n",
              "      <th id=\"T_5ef8a_level0_row6\" class=\"row_heading level0 row6\" >num_atend</th>\n",
              "      <td id=\"T_5ef8a_row6_col0\" class=\"data row6 col0\" >0.011490</td>\n",
              "    </tr>\n",
              "    <tr>\n",
              "      <th id=\"T_5ef8a_level0_row7\" class=\"row_heading level0 row7\" >num_produtos</th>\n",
              "      <td id=\"T_5ef8a_row7_col0\" class=\"data row7 col0\" >0.007039</td>\n",
              "    </tr>\n",
              "    <tr>\n",
              "      <th id=\"T_5ef8a_level0_row8\" class=\"row_heading level0 row8\" >ind_engaj</th>\n",
              "      <td id=\"T_5ef8a_row8_col0\" class=\"data row8 col0\" >0.006447</td>\n",
              "    </tr>\n",
              "    <tr>\n",
              "      <th id=\"T_5ef8a_level0_row9\" class=\"row_heading level0 row9\" >qtd_oper</th>\n",
              "      <td id=\"T_5ef8a_row9_col0\" class=\"data row9 col0\" >0.005816</td>\n",
              "    </tr>\n",
              "    <tr>\n",
              "      <th id=\"T_5ef8a_level0_row10\" class=\"row_heading level0 row10\" >vlr_score</th>\n",
              "      <td id=\"T_5ef8a_row10_col0\" class=\"data row10 col0\" >0.004139</td>\n",
              "    </tr>\n",
              "    <tr>\n",
              "      <th id=\"T_5ef8a_level0_row11\" class=\"row_heading level0 row11\" >Unnamed: 0</th>\n",
              "      <td id=\"T_5ef8a_row11_col0\" class=\"data row11 col0\" >0.002664</td>\n",
              "    </tr>\n",
              "    <tr>\n",
              "      <th id=\"T_5ef8a_level0_row12\" class=\"row_heading level0 row12\" >qtd_restr</th>\n",
              "      <td id=\"T_5ef8a_row12_col0\" class=\"data row12 col0\" >0.001945</td>\n",
              "    </tr>\n",
              "  </tbody>\n",
              "</table>\n"
            ]
          },
          "metadata": {},
          "execution_count": 170
        }
      ]
    },
    {
      "cell_type": "markdown",
      "source": [
        "#Cliente atritado"
      ],
      "metadata": {
        "id": "vJ8_z_QVZkED"
      }
    },
    {
      "cell_type": "markdown",
      "source": [
        "##Undersampling de não atritados"
      ],
      "metadata": {
        "id": "k6twORBnH8dV"
      }
    },
    {
      "cell_type": "code",
      "source": [
        "import pandas as pd\n",
        "import numpy as np\n",
        "\n",
        "cliente_atrito = client[client.ind_atrito == 1]\n",
        "cliente_atrito"
      ],
      "metadata": {
        "colab": {
          "base_uri": "https://localhost:8080/",
          "height": 0
        },
        "id": "C8wxfTs4IGyE",
        "outputId": "3f733f5f-9ede-408f-db89-c393a7b2168f"
      },
      "execution_count": 171,
      "outputs": [
        {
          "output_type": "execute_result",
          "data": {
            "text/plain": [
              "        Unnamed: 0  vlr_credito  vlr_saldo  num_atend_atrs  vlr_score  \\\n",
              "92            5135     0.013596   0.006807             0.0   0.894196   \n",
              "4087        259785     0.011070   0.005048             0.0   0.350471   \n",
              "5715        356685     0.035036   0.007745             0.0   0.308646   \n",
              "5753        361057     0.064191   0.031470             0.0   1.117262   \n",
              "7637        480701     0.052269   0.009075             0.0   0.636275   \n",
              "...            ...          ...        ...             ...        ...   \n",
              "173376    11067489     0.022855   0.006331             0.0   0.489887   \n",
              "176941    11288368     0.008752   0.004898             0.0   0.434121   \n",
              "178649    11400484     0.011876   0.004694             0.0   0.692042   \n",
              "184201    11774201     0.008256   0.008337             0.0   0.768721   \n",
              "185178    11836028     0.034645   0.015695             0.0   0.183171   \n",
              "\n",
              "        num_produtos  num_atend  qtd_oper  qtd_reclm  qtd_restr  vlr_renda  \\\n",
              "92          0.034483        0.0  0.083019        1.0   0.000000   0.018892   \n",
              "4087        0.011494        0.0  0.026415        0.0   0.000000   0.003612   \n",
              "5715        0.011494        0.0  0.018868        0.0   0.036697   0.026948   \n",
              "5753        0.022989        0.0  0.052830        1.0   0.000000   0.110432   \n",
              "7637        0.011494        0.0  0.052830        0.0   0.000000   0.111821   \n",
              "...              ...        ...       ...        ...        ...        ...   \n",
              "173376      0.034483        0.0  0.071698        0.0   0.000000   0.024726   \n",
              "176941      0.011494        0.0  0.083019        1.0   0.018349   0.011529   \n",
              "178649      0.011494        0.0  0.060377        0.0   0.000000   0.003195   \n",
              "184201      0.011494        0.0  0.049057        0.0   0.000000   0.009446   \n",
              "185178      0.000000        0.0  0.094340        1.0   0.009174   0.011807   \n",
              "\n",
              "        ind_atrito  ind_engaj  \n",
              "92             1.0        1.0  \n",
              "4087           1.0        0.0  \n",
              "5715           1.0        0.0  \n",
              "5753           1.0        1.0  \n",
              "7637           1.0        0.0  \n",
              "...            ...        ...  \n",
              "173376         1.0        1.0  \n",
              "176941         1.0        0.0  \n",
              "178649         1.0        0.0  \n",
              "184201         1.0        0.0  \n",
              "185178         1.0        0.0  \n",
              "\n",
              "[97 rows x 13 columns]"
            ],
            "text/html": [
              "\n",
              "  <div id=\"df-6e36701e-9074-4262-9a46-4da01ca6c2f8\">\n",
              "    <div class=\"colab-df-container\">\n",
              "      <div>\n",
              "<style scoped>\n",
              "    .dataframe tbody tr th:only-of-type {\n",
              "        vertical-align: middle;\n",
              "    }\n",
              "\n",
              "    .dataframe tbody tr th {\n",
              "        vertical-align: top;\n",
              "    }\n",
              "\n",
              "    .dataframe thead th {\n",
              "        text-align: right;\n",
              "    }\n",
              "</style>\n",
              "<table border=\"1\" class=\"dataframe\">\n",
              "  <thead>\n",
              "    <tr style=\"text-align: right;\">\n",
              "      <th></th>\n",
              "      <th>Unnamed: 0</th>\n",
              "      <th>vlr_credito</th>\n",
              "      <th>vlr_saldo</th>\n",
              "      <th>num_atend_atrs</th>\n",
              "      <th>vlr_score</th>\n",
              "      <th>num_produtos</th>\n",
              "      <th>num_atend</th>\n",
              "      <th>qtd_oper</th>\n",
              "      <th>qtd_reclm</th>\n",
              "      <th>qtd_restr</th>\n",
              "      <th>vlr_renda</th>\n",
              "      <th>ind_atrito</th>\n",
              "      <th>ind_engaj</th>\n",
              "    </tr>\n",
              "  </thead>\n",
              "  <tbody>\n",
              "    <tr>\n",
              "      <th>92</th>\n",
              "      <td>5135</td>\n",
              "      <td>0.013596</td>\n",
              "      <td>0.006807</td>\n",
              "      <td>0.0</td>\n",
              "      <td>0.894196</td>\n",
              "      <td>0.034483</td>\n",
              "      <td>0.0</td>\n",
              "      <td>0.083019</td>\n",
              "      <td>1.0</td>\n",
              "      <td>0.000000</td>\n",
              "      <td>0.018892</td>\n",
              "      <td>1.0</td>\n",
              "      <td>1.0</td>\n",
              "    </tr>\n",
              "    <tr>\n",
              "      <th>4087</th>\n",
              "      <td>259785</td>\n",
              "      <td>0.011070</td>\n",
              "      <td>0.005048</td>\n",
              "      <td>0.0</td>\n",
              "      <td>0.350471</td>\n",
              "      <td>0.011494</td>\n",
              "      <td>0.0</td>\n",
              "      <td>0.026415</td>\n",
              "      <td>0.0</td>\n",
              "      <td>0.000000</td>\n",
              "      <td>0.003612</td>\n",
              "      <td>1.0</td>\n",
              "      <td>0.0</td>\n",
              "    </tr>\n",
              "    <tr>\n",
              "      <th>5715</th>\n",
              "      <td>356685</td>\n",
              "      <td>0.035036</td>\n",
              "      <td>0.007745</td>\n",
              "      <td>0.0</td>\n",
              "      <td>0.308646</td>\n",
              "      <td>0.011494</td>\n",
              "      <td>0.0</td>\n",
              "      <td>0.018868</td>\n",
              "      <td>0.0</td>\n",
              "      <td>0.036697</td>\n",
              "      <td>0.026948</td>\n",
              "      <td>1.0</td>\n",
              "      <td>0.0</td>\n",
              "    </tr>\n",
              "    <tr>\n",
              "      <th>5753</th>\n",
              "      <td>361057</td>\n",
              "      <td>0.064191</td>\n",
              "      <td>0.031470</td>\n",
              "      <td>0.0</td>\n",
              "      <td>1.117262</td>\n",
              "      <td>0.022989</td>\n",
              "      <td>0.0</td>\n",
              "      <td>0.052830</td>\n",
              "      <td>1.0</td>\n",
              "      <td>0.000000</td>\n",
              "      <td>0.110432</td>\n",
              "      <td>1.0</td>\n",
              "      <td>1.0</td>\n",
              "    </tr>\n",
              "    <tr>\n",
              "      <th>7637</th>\n",
              "      <td>480701</td>\n",
              "      <td>0.052269</td>\n",
              "      <td>0.009075</td>\n",
              "      <td>0.0</td>\n",
              "      <td>0.636275</td>\n",
              "      <td>0.011494</td>\n",
              "      <td>0.0</td>\n",
              "      <td>0.052830</td>\n",
              "      <td>0.0</td>\n",
              "      <td>0.000000</td>\n",
              "      <td>0.111821</td>\n",
              "      <td>1.0</td>\n",
              "      <td>0.0</td>\n",
              "    </tr>\n",
              "    <tr>\n",
              "      <th>...</th>\n",
              "      <td>...</td>\n",
              "      <td>...</td>\n",
              "      <td>...</td>\n",
              "      <td>...</td>\n",
              "      <td>...</td>\n",
              "      <td>...</td>\n",
              "      <td>...</td>\n",
              "      <td>...</td>\n",
              "      <td>...</td>\n",
              "      <td>...</td>\n",
              "      <td>...</td>\n",
              "      <td>...</td>\n",
              "      <td>...</td>\n",
              "    </tr>\n",
              "    <tr>\n",
              "      <th>173376</th>\n",
              "      <td>11067489</td>\n",
              "      <td>0.022855</td>\n",
              "      <td>0.006331</td>\n",
              "      <td>0.0</td>\n",
              "      <td>0.489887</td>\n",
              "      <td>0.034483</td>\n",
              "      <td>0.0</td>\n",
              "      <td>0.071698</td>\n",
              "      <td>0.0</td>\n",
              "      <td>0.000000</td>\n",
              "      <td>0.024726</td>\n",
              "      <td>1.0</td>\n",
              "      <td>1.0</td>\n",
              "    </tr>\n",
              "    <tr>\n",
              "      <th>176941</th>\n",
              "      <td>11288368</td>\n",
              "      <td>0.008752</td>\n",
              "      <td>0.004898</td>\n",
              "      <td>0.0</td>\n",
              "      <td>0.434121</td>\n",
              "      <td>0.011494</td>\n",
              "      <td>0.0</td>\n",
              "      <td>0.083019</td>\n",
              "      <td>1.0</td>\n",
              "      <td>0.018349</td>\n",
              "      <td>0.011529</td>\n",
              "      <td>1.0</td>\n",
              "      <td>0.0</td>\n",
              "    </tr>\n",
              "    <tr>\n",
              "      <th>178649</th>\n",
              "      <td>11400484</td>\n",
              "      <td>0.011876</td>\n",
              "      <td>0.004694</td>\n",
              "      <td>0.0</td>\n",
              "      <td>0.692042</td>\n",
              "      <td>0.011494</td>\n",
              "      <td>0.0</td>\n",
              "      <td>0.060377</td>\n",
              "      <td>0.0</td>\n",
              "      <td>0.000000</td>\n",
              "      <td>0.003195</td>\n",
              "      <td>1.0</td>\n",
              "      <td>0.0</td>\n",
              "    </tr>\n",
              "    <tr>\n",
              "      <th>184201</th>\n",
              "      <td>11774201</td>\n",
              "      <td>0.008256</td>\n",
              "      <td>0.008337</td>\n",
              "      <td>0.0</td>\n",
              "      <td>0.768721</td>\n",
              "      <td>0.011494</td>\n",
              "      <td>0.0</td>\n",
              "      <td>0.049057</td>\n",
              "      <td>0.0</td>\n",
              "      <td>0.000000</td>\n",
              "      <td>0.009446</td>\n",
              "      <td>1.0</td>\n",
              "      <td>0.0</td>\n",
              "    </tr>\n",
              "    <tr>\n",
              "      <th>185178</th>\n",
              "      <td>11836028</td>\n",
              "      <td>0.034645</td>\n",
              "      <td>0.015695</td>\n",
              "      <td>0.0</td>\n",
              "      <td>0.183171</td>\n",
              "      <td>0.000000</td>\n",
              "      <td>0.0</td>\n",
              "      <td>0.094340</td>\n",
              "      <td>1.0</td>\n",
              "      <td>0.009174</td>\n",
              "      <td>0.011807</td>\n",
              "      <td>1.0</td>\n",
              "      <td>0.0</td>\n",
              "    </tr>\n",
              "  </tbody>\n",
              "</table>\n",
              "<p>97 rows × 13 columns</p>\n",
              "</div>\n",
              "      <button class=\"colab-df-convert\" onclick=\"convertToInteractive('df-6e36701e-9074-4262-9a46-4da01ca6c2f8')\"\n",
              "              title=\"Convert this dataframe to an interactive table.\"\n",
              "              style=\"display:none;\">\n",
              "        \n",
              "  <svg xmlns=\"http://www.w3.org/2000/svg\" height=\"24px\"viewBox=\"0 0 24 24\"\n",
              "       width=\"24px\">\n",
              "    <path d=\"M0 0h24v24H0V0z\" fill=\"none\"/>\n",
              "    <path d=\"M18.56 5.44l.94 2.06.94-2.06 2.06-.94-2.06-.94-.94-2.06-.94 2.06-2.06.94zm-11 1L8.5 8.5l.94-2.06 2.06-.94-2.06-.94L8.5 2.5l-.94 2.06-2.06.94zm10 10l.94 2.06.94-2.06 2.06-.94-2.06-.94-.94-2.06-.94 2.06-2.06.94z\"/><path d=\"M17.41 7.96l-1.37-1.37c-.4-.4-.92-.59-1.43-.59-.52 0-1.04.2-1.43.59L10.3 9.45l-7.72 7.72c-.78.78-.78 2.05 0 2.83L4 21.41c.39.39.9.59 1.41.59.51 0 1.02-.2 1.41-.59l7.78-7.78 2.81-2.81c.8-.78.8-2.07 0-2.86zM5.41 20L4 18.59l7.72-7.72 1.47 1.35L5.41 20z\"/>\n",
              "  </svg>\n",
              "      </button>\n",
              "      \n",
              "  <style>\n",
              "    .colab-df-container {\n",
              "      display:flex;\n",
              "      flex-wrap:wrap;\n",
              "      gap: 12px;\n",
              "    }\n",
              "\n",
              "    .colab-df-convert {\n",
              "      background-color: #E8F0FE;\n",
              "      border: none;\n",
              "      border-radius: 50%;\n",
              "      cursor: pointer;\n",
              "      display: none;\n",
              "      fill: #1967D2;\n",
              "      height: 32px;\n",
              "      padding: 0 0 0 0;\n",
              "      width: 32px;\n",
              "    }\n",
              "\n",
              "    .colab-df-convert:hover {\n",
              "      background-color: #E2EBFA;\n",
              "      box-shadow: 0px 1px 2px rgba(60, 64, 67, 0.3), 0px 1px 3px 1px rgba(60, 64, 67, 0.15);\n",
              "      fill: #174EA6;\n",
              "    }\n",
              "\n",
              "    [theme=dark] .colab-df-convert {\n",
              "      background-color: #3B4455;\n",
              "      fill: #D2E3FC;\n",
              "    }\n",
              "\n",
              "    [theme=dark] .colab-df-convert:hover {\n",
              "      background-color: #434B5C;\n",
              "      box-shadow: 0px 1px 3px 1px rgba(0, 0, 0, 0.15);\n",
              "      filter: drop-shadow(0px 1px 2px rgba(0, 0, 0, 0.3));\n",
              "      fill: #FFFFFF;\n",
              "    }\n",
              "  </style>\n",
              "\n",
              "      <script>\n",
              "        const buttonEl =\n",
              "          document.querySelector('#df-6e36701e-9074-4262-9a46-4da01ca6c2f8 button.colab-df-convert');\n",
              "        buttonEl.style.display =\n",
              "          google.colab.kernel.accessAllowed ? 'block' : 'none';\n",
              "\n",
              "        async function convertToInteractive(key) {\n",
              "          const element = document.querySelector('#df-6e36701e-9074-4262-9a46-4da01ca6c2f8');\n",
              "          const dataTable =\n",
              "            await google.colab.kernel.invokeFunction('convertToInteractive',\n",
              "                                                     [key], {});\n",
              "          if (!dataTable) return;\n",
              "\n",
              "          const docLinkHtml = 'Like what you see? Visit the ' +\n",
              "            '<a target=\"_blank\" href=https://colab.research.google.com/notebooks/data_table.ipynb>data table notebook</a>'\n",
              "            + ' to learn more about interactive tables.';\n",
              "          element.innerHTML = '';\n",
              "          dataTable['output_type'] = 'display_data';\n",
              "          await google.colab.output.renderOutput(dataTable, element);\n",
              "          const docLink = document.createElement('div');\n",
              "          docLink.innerHTML = docLinkHtml;\n",
              "          element.appendChild(docLink);\n",
              "        }\n",
              "      </script>\n",
              "    </div>\n",
              "  </div>\n",
              "  "
            ]
          },
          "metadata": {},
          "execution_count": 171
        }
      ]
    },
    {
      "cell_type": "code",
      "source": [
        "cliente_not_atrito = client[client.ind_atrito == 0]\n",
        "cliente_not_atrito"
      ],
      "metadata": {
        "colab": {
          "base_uri": "https://localhost:8080/",
          "height": 0
        },
        "id": "eUPSo2jhIONc",
        "outputId": "39247c01-ec10-40b0-9151-807df5712ed7"
      },
      "execution_count": 172,
      "outputs": [
        {
          "output_type": "execute_result",
          "data": {
            "text/plain": [
              "        Unnamed: 0  vlr_credito  vlr_saldo  num_atend_atrs  vlr_score  \\\n",
              "0                0     0.001802   0.001837             0.0   0.489887   \n",
              "1               18     0.000432   0.000086             0.0  -1.685013   \n",
              "2               30     0.002952   0.001706             0.0  -0.290846   \n",
              "3               35     0.000083   0.001889             0.0   0.190142   \n",
              "4               85     0.014023   0.000945             0.0  -0.402379   \n",
              "...            ...          ...        ...             ...        ...   \n",
              "185875    11886194     0.002807   0.006070             0.0  -0.221138   \n",
              "185876    11886221     0.027062   0.005580             0.0   1.389125   \n",
              "185877    11886229     0.007014   0.028666             0.0   1.082408   \n",
              "185878    11886303     0.000587   0.001349             0.0  -0.667271   \n",
              "185879    11886317     0.005123   0.002236             0.0   0.503829   \n",
              "\n",
              "        num_produtos  num_atend  qtd_oper  qtd_reclm  qtd_restr  vlr_renda  \\\n",
              "0           0.000000        0.0  0.030189        0.0   0.055046   0.003889   \n",
              "1           0.000000        0.0  0.011321        0.0   0.009174   0.002361   \n",
              "2           0.011494        0.0  0.045283        0.0   0.036697   0.005001   \n",
              "3           0.000000        0.0  0.022642        0.0   0.009174   0.011529   \n",
              "4           0.000000        0.0  0.116981        0.0   0.027523   0.011113   \n",
              "...              ...        ...       ...        ...        ...        ...   \n",
              "185875      0.000000        0.0  0.041509        0.0   0.055046   0.002917   \n",
              "185876      0.068966        0.0  0.116981        0.0   0.000000   0.008057   \n",
              "185877      0.045977        0.0  0.026415        0.0   0.000000   0.002084   \n",
              "185878      0.000000        0.0  0.033962        0.0   0.009174   0.009168   \n",
              "185879      0.022989        0.0  0.045283        0.0   0.009174   0.006390   \n",
              "\n",
              "        ind_atrito  ind_engaj  \n",
              "0              0.0        0.0  \n",
              "1              0.0        0.0  \n",
              "2              0.0        0.0  \n",
              "3              0.0        0.0  \n",
              "4              0.0        0.0  \n",
              "...            ...        ...  \n",
              "185875         0.0        0.0  \n",
              "185876         0.0        1.0  \n",
              "185877         0.0        1.0  \n",
              "185878         0.0        0.0  \n",
              "185879         0.0        1.0  \n",
              "\n",
              "[185783 rows x 13 columns]"
            ],
            "text/html": [
              "\n",
              "  <div id=\"df-08f02c81-9a56-4596-930b-9f9392f4c12f\">\n",
              "    <div class=\"colab-df-container\">\n",
              "      <div>\n",
              "<style scoped>\n",
              "    .dataframe tbody tr th:only-of-type {\n",
              "        vertical-align: middle;\n",
              "    }\n",
              "\n",
              "    .dataframe tbody tr th {\n",
              "        vertical-align: top;\n",
              "    }\n",
              "\n",
              "    .dataframe thead th {\n",
              "        text-align: right;\n",
              "    }\n",
              "</style>\n",
              "<table border=\"1\" class=\"dataframe\">\n",
              "  <thead>\n",
              "    <tr style=\"text-align: right;\">\n",
              "      <th></th>\n",
              "      <th>Unnamed: 0</th>\n",
              "      <th>vlr_credito</th>\n",
              "      <th>vlr_saldo</th>\n",
              "      <th>num_atend_atrs</th>\n",
              "      <th>vlr_score</th>\n",
              "      <th>num_produtos</th>\n",
              "      <th>num_atend</th>\n",
              "      <th>qtd_oper</th>\n",
              "      <th>qtd_reclm</th>\n",
              "      <th>qtd_restr</th>\n",
              "      <th>vlr_renda</th>\n",
              "      <th>ind_atrito</th>\n",
              "      <th>ind_engaj</th>\n",
              "    </tr>\n",
              "  </thead>\n",
              "  <tbody>\n",
              "    <tr>\n",
              "      <th>0</th>\n",
              "      <td>0</td>\n",
              "      <td>0.001802</td>\n",
              "      <td>0.001837</td>\n",
              "      <td>0.0</td>\n",
              "      <td>0.489887</td>\n",
              "      <td>0.000000</td>\n",
              "      <td>0.0</td>\n",
              "      <td>0.030189</td>\n",
              "      <td>0.0</td>\n",
              "      <td>0.055046</td>\n",
              "      <td>0.003889</td>\n",
              "      <td>0.0</td>\n",
              "      <td>0.0</td>\n",
              "    </tr>\n",
              "    <tr>\n",
              "      <th>1</th>\n",
              "      <td>18</td>\n",
              "      <td>0.000432</td>\n",
              "      <td>0.000086</td>\n",
              "      <td>0.0</td>\n",
              "      <td>-1.685013</td>\n",
              "      <td>0.000000</td>\n",
              "      <td>0.0</td>\n",
              "      <td>0.011321</td>\n",
              "      <td>0.0</td>\n",
              "      <td>0.009174</td>\n",
              "      <td>0.002361</td>\n",
              "      <td>0.0</td>\n",
              "      <td>0.0</td>\n",
              "    </tr>\n",
              "    <tr>\n",
              "      <th>2</th>\n",
              "      <td>30</td>\n",
              "      <td>0.002952</td>\n",
              "      <td>0.001706</td>\n",
              "      <td>0.0</td>\n",
              "      <td>-0.290846</td>\n",
              "      <td>0.011494</td>\n",
              "      <td>0.0</td>\n",
              "      <td>0.045283</td>\n",
              "      <td>0.0</td>\n",
              "      <td>0.036697</td>\n",
              "      <td>0.005001</td>\n",
              "      <td>0.0</td>\n",
              "      <td>0.0</td>\n",
              "    </tr>\n",
              "    <tr>\n",
              "      <th>3</th>\n",
              "      <td>35</td>\n",
              "      <td>0.000083</td>\n",
              "      <td>0.001889</td>\n",
              "      <td>0.0</td>\n",
              "      <td>0.190142</td>\n",
              "      <td>0.000000</td>\n",
              "      <td>0.0</td>\n",
              "      <td>0.022642</td>\n",
              "      <td>0.0</td>\n",
              "      <td>0.009174</td>\n",
              "      <td>0.011529</td>\n",
              "      <td>0.0</td>\n",
              "      <td>0.0</td>\n",
              "    </tr>\n",
              "    <tr>\n",
              "      <th>4</th>\n",
              "      <td>85</td>\n",
              "      <td>0.014023</td>\n",
              "      <td>0.000945</td>\n",
              "      <td>0.0</td>\n",
              "      <td>-0.402379</td>\n",
              "      <td>0.000000</td>\n",
              "      <td>0.0</td>\n",
              "      <td>0.116981</td>\n",
              "      <td>0.0</td>\n",
              "      <td>0.027523</td>\n",
              "      <td>0.011113</td>\n",
              "      <td>0.0</td>\n",
              "      <td>0.0</td>\n",
              "    </tr>\n",
              "    <tr>\n",
              "      <th>...</th>\n",
              "      <td>...</td>\n",
              "      <td>...</td>\n",
              "      <td>...</td>\n",
              "      <td>...</td>\n",
              "      <td>...</td>\n",
              "      <td>...</td>\n",
              "      <td>...</td>\n",
              "      <td>...</td>\n",
              "      <td>...</td>\n",
              "      <td>...</td>\n",
              "      <td>...</td>\n",
              "      <td>...</td>\n",
              "      <td>...</td>\n",
              "    </tr>\n",
              "    <tr>\n",
              "      <th>185875</th>\n",
              "      <td>11886194</td>\n",
              "      <td>0.002807</td>\n",
              "      <td>0.006070</td>\n",
              "      <td>0.0</td>\n",
              "      <td>-0.221138</td>\n",
              "      <td>0.000000</td>\n",
              "      <td>0.0</td>\n",
              "      <td>0.041509</td>\n",
              "      <td>0.0</td>\n",
              "      <td>0.055046</td>\n",
              "      <td>0.002917</td>\n",
              "      <td>0.0</td>\n",
              "      <td>0.0</td>\n",
              "    </tr>\n",
              "    <tr>\n",
              "      <th>185876</th>\n",
              "      <td>11886221</td>\n",
              "      <td>0.027062</td>\n",
              "      <td>0.005580</td>\n",
              "      <td>0.0</td>\n",
              "      <td>1.389125</td>\n",
              "      <td>0.068966</td>\n",
              "      <td>0.0</td>\n",
              "      <td>0.116981</td>\n",
              "      <td>0.0</td>\n",
              "      <td>0.000000</td>\n",
              "      <td>0.008057</td>\n",
              "      <td>0.0</td>\n",
              "      <td>1.0</td>\n",
              "    </tr>\n",
              "    <tr>\n",
              "      <th>185877</th>\n",
              "      <td>11886229</td>\n",
              "      <td>0.007014</td>\n",
              "      <td>0.028666</td>\n",
              "      <td>0.0</td>\n",
              "      <td>1.082408</td>\n",
              "      <td>0.045977</td>\n",
              "      <td>0.0</td>\n",
              "      <td>0.026415</td>\n",
              "      <td>0.0</td>\n",
              "      <td>0.000000</td>\n",
              "      <td>0.002084</td>\n",
              "      <td>0.0</td>\n",
              "      <td>1.0</td>\n",
              "    </tr>\n",
              "    <tr>\n",
              "      <th>185878</th>\n",
              "      <td>11886303</td>\n",
              "      <td>0.000587</td>\n",
              "      <td>0.001349</td>\n",
              "      <td>0.0</td>\n",
              "      <td>-0.667271</td>\n",
              "      <td>0.000000</td>\n",
              "      <td>0.0</td>\n",
              "      <td>0.033962</td>\n",
              "      <td>0.0</td>\n",
              "      <td>0.009174</td>\n",
              "      <td>0.009168</td>\n",
              "      <td>0.0</td>\n",
              "      <td>0.0</td>\n",
              "    </tr>\n",
              "    <tr>\n",
              "      <th>185879</th>\n",
              "      <td>11886317</td>\n",
              "      <td>0.005123</td>\n",
              "      <td>0.002236</td>\n",
              "      <td>0.0</td>\n",
              "      <td>0.503829</td>\n",
              "      <td>0.022989</td>\n",
              "      <td>0.0</td>\n",
              "      <td>0.045283</td>\n",
              "      <td>0.0</td>\n",
              "      <td>0.009174</td>\n",
              "      <td>0.006390</td>\n",
              "      <td>0.0</td>\n",
              "      <td>1.0</td>\n",
              "    </tr>\n",
              "  </tbody>\n",
              "</table>\n",
              "<p>185783 rows × 13 columns</p>\n",
              "</div>\n",
              "      <button class=\"colab-df-convert\" onclick=\"convertToInteractive('df-08f02c81-9a56-4596-930b-9f9392f4c12f')\"\n",
              "              title=\"Convert this dataframe to an interactive table.\"\n",
              "              style=\"display:none;\">\n",
              "        \n",
              "  <svg xmlns=\"http://www.w3.org/2000/svg\" height=\"24px\"viewBox=\"0 0 24 24\"\n",
              "       width=\"24px\">\n",
              "    <path d=\"M0 0h24v24H0V0z\" fill=\"none\"/>\n",
              "    <path d=\"M18.56 5.44l.94 2.06.94-2.06 2.06-.94-2.06-.94-.94-2.06-.94 2.06-2.06.94zm-11 1L8.5 8.5l.94-2.06 2.06-.94-2.06-.94L8.5 2.5l-.94 2.06-2.06.94zm10 10l.94 2.06.94-2.06 2.06-.94-2.06-.94-.94-2.06-.94 2.06-2.06.94z\"/><path d=\"M17.41 7.96l-1.37-1.37c-.4-.4-.92-.59-1.43-.59-.52 0-1.04.2-1.43.59L10.3 9.45l-7.72 7.72c-.78.78-.78 2.05 0 2.83L4 21.41c.39.39.9.59 1.41.59.51 0 1.02-.2 1.41-.59l7.78-7.78 2.81-2.81c.8-.78.8-2.07 0-2.86zM5.41 20L4 18.59l7.72-7.72 1.47 1.35L5.41 20z\"/>\n",
              "  </svg>\n",
              "      </button>\n",
              "      \n",
              "  <style>\n",
              "    .colab-df-container {\n",
              "      display:flex;\n",
              "      flex-wrap:wrap;\n",
              "      gap: 12px;\n",
              "    }\n",
              "\n",
              "    .colab-df-convert {\n",
              "      background-color: #E8F0FE;\n",
              "      border: none;\n",
              "      border-radius: 50%;\n",
              "      cursor: pointer;\n",
              "      display: none;\n",
              "      fill: #1967D2;\n",
              "      height: 32px;\n",
              "      padding: 0 0 0 0;\n",
              "      width: 32px;\n",
              "    }\n",
              "\n",
              "    .colab-df-convert:hover {\n",
              "      background-color: #E2EBFA;\n",
              "      box-shadow: 0px 1px 2px rgba(60, 64, 67, 0.3), 0px 1px 3px 1px rgba(60, 64, 67, 0.15);\n",
              "      fill: #174EA6;\n",
              "    }\n",
              "\n",
              "    [theme=dark] .colab-df-convert {\n",
              "      background-color: #3B4455;\n",
              "      fill: #D2E3FC;\n",
              "    }\n",
              "\n",
              "    [theme=dark] .colab-df-convert:hover {\n",
              "      background-color: #434B5C;\n",
              "      box-shadow: 0px 1px 3px 1px rgba(0, 0, 0, 0.15);\n",
              "      filter: drop-shadow(0px 1px 2px rgba(0, 0, 0, 0.3));\n",
              "      fill: #FFFFFF;\n",
              "    }\n",
              "  </style>\n",
              "\n",
              "      <script>\n",
              "        const buttonEl =\n",
              "          document.querySelector('#df-08f02c81-9a56-4596-930b-9f9392f4c12f button.colab-df-convert');\n",
              "        buttonEl.style.display =\n",
              "          google.colab.kernel.accessAllowed ? 'block' : 'none';\n",
              "\n",
              "        async function convertToInteractive(key) {\n",
              "          const element = document.querySelector('#df-08f02c81-9a56-4596-930b-9f9392f4c12f');\n",
              "          const dataTable =\n",
              "            await google.colab.kernel.invokeFunction('convertToInteractive',\n",
              "                                                     [key], {});\n",
              "          if (!dataTable) return;\n",
              "\n",
              "          const docLinkHtml = 'Like what you see? Visit the ' +\n",
              "            '<a target=\"_blank\" href=https://colab.research.google.com/notebooks/data_table.ipynb>data table notebook</a>'\n",
              "            + ' to learn more about interactive tables.';\n",
              "          element.innerHTML = '';\n",
              "          dataTable['output_type'] = 'display_data';\n",
              "          await google.colab.output.renderOutput(dataTable, element);\n",
              "          const docLink = document.createElement('div');\n",
              "          docLink.innerHTML = docLinkHtml;\n",
              "          element.appendChild(docLink);\n",
              "        }\n",
              "      </script>\n",
              "    </div>\n",
              "  </div>\n",
              "  "
            ]
          },
          "metadata": {},
          "execution_count": 172
        }
      ]
    },
    {
      "cell_type": "code",
      "source": [
        "cliente_not_atrito_sample = cliente_not_atrito.sample(frac=.01, random_state=42)\n",
        "cliente_not_atrito_sample"
      ],
      "metadata": {
        "colab": {
          "base_uri": "https://localhost:8080/",
          "height": 0
        },
        "id": "GxfvvKktIQL_",
        "outputId": "ddb5bfc6-1dc7-437a-9ad2-8d1d83c16e9e"
      },
      "execution_count": 173,
      "outputs": [
        {
          "output_type": "execute_result",
          "data": {
            "text/plain": [
              "        Unnamed: 0  vlr_credito  vlr_saldo  num_atend_atrs  vlr_score  \\\n",
              "153043     9763395     0.000836   0.003676             0.0  -0.151429   \n",
              "116148     7405981     0.111865   0.002720             0.0   0.406237   \n",
              "4832        305548     0.002696   0.000208             0.0   0.155287   \n",
              "129787     8278816     0.000900   0.001012             0.0  -0.207196   \n",
              "104167     6626067     0.041504   0.000405             0.0   3.403696   \n",
              "...            ...          ...        ...             ...        ...   \n",
              "21933      1386558     0.010020   0.010504             0.0  -1.685013   \n",
              "4234        268802     0.001786   0.004035             0.0   1.012700   \n",
              "81646      5173032     0.003785   0.001600             0.0  -1.719867   \n",
              "45289      2845346     0.003228   0.004529             0.0  -1.608333   \n",
              "181641    11596443     0.010624   0.000763             0.0   0.371383   \n",
              "\n",
              "        num_produtos  num_atend  qtd_oper  qtd_reclm  qtd_restr  vlr_renda  \\\n",
              "153043      0.011494        0.0  0.011321        0.0   0.027523   0.003334   \n",
              "116148      0.000000        0.0  0.162264        0.0   0.018349   0.181553   \n",
              "4832        0.000000        0.0  0.037736        0.0   0.000000   0.004167   \n",
              "129787      0.045977        0.0  0.071698        0.0   0.000000   0.002084   \n",
              "104167      0.000000        0.0  0.143396        0.0   0.000000   0.011390   \n",
              "...              ...        ...       ...        ...        ...        ...   \n",
              "21933       0.091954        0.0  0.116981        0.0   0.100917   0.009029   \n",
              "4234        0.000000        0.0  0.037736        0.0   0.000000   0.009029   \n",
              "81646       0.022989        0.0  0.071698        0.0   0.045872   0.002084   \n",
              "45289       0.022989        0.0  0.060377        0.0   0.073394   0.002917   \n",
              "181641      0.000000        0.0  0.071698        0.0   0.018349   0.005556   \n",
              "\n",
              "        ind_atrito  ind_engaj  \n",
              "153043         0.0        0.0  \n",
              "116148         0.0        0.0  \n",
              "4832           0.0        0.0  \n",
              "129787         0.0        1.0  \n",
              "104167         0.0        0.0  \n",
              "...            ...        ...  \n",
              "21933          0.0        1.0  \n",
              "4234           0.0        0.0  \n",
              "81646          0.0        1.0  \n",
              "45289          0.0        1.0  \n",
              "181641         0.0        0.0  \n",
              "\n",
              "[1858 rows x 13 columns]"
            ],
            "text/html": [
              "\n",
              "  <div id=\"df-a741e4ba-b88a-4def-9247-620a75f1c52f\">\n",
              "    <div class=\"colab-df-container\">\n",
              "      <div>\n",
              "<style scoped>\n",
              "    .dataframe tbody tr th:only-of-type {\n",
              "        vertical-align: middle;\n",
              "    }\n",
              "\n",
              "    .dataframe tbody tr th {\n",
              "        vertical-align: top;\n",
              "    }\n",
              "\n",
              "    .dataframe thead th {\n",
              "        text-align: right;\n",
              "    }\n",
              "</style>\n",
              "<table border=\"1\" class=\"dataframe\">\n",
              "  <thead>\n",
              "    <tr style=\"text-align: right;\">\n",
              "      <th></th>\n",
              "      <th>Unnamed: 0</th>\n",
              "      <th>vlr_credito</th>\n",
              "      <th>vlr_saldo</th>\n",
              "      <th>num_atend_atrs</th>\n",
              "      <th>vlr_score</th>\n",
              "      <th>num_produtos</th>\n",
              "      <th>num_atend</th>\n",
              "      <th>qtd_oper</th>\n",
              "      <th>qtd_reclm</th>\n",
              "      <th>qtd_restr</th>\n",
              "      <th>vlr_renda</th>\n",
              "      <th>ind_atrito</th>\n",
              "      <th>ind_engaj</th>\n",
              "    </tr>\n",
              "  </thead>\n",
              "  <tbody>\n",
              "    <tr>\n",
              "      <th>153043</th>\n",
              "      <td>9763395</td>\n",
              "      <td>0.000836</td>\n",
              "      <td>0.003676</td>\n",
              "      <td>0.0</td>\n",
              "      <td>-0.151429</td>\n",
              "      <td>0.011494</td>\n",
              "      <td>0.0</td>\n",
              "      <td>0.011321</td>\n",
              "      <td>0.0</td>\n",
              "      <td>0.027523</td>\n",
              "      <td>0.003334</td>\n",
              "      <td>0.0</td>\n",
              "      <td>0.0</td>\n",
              "    </tr>\n",
              "    <tr>\n",
              "      <th>116148</th>\n",
              "      <td>7405981</td>\n",
              "      <td>0.111865</td>\n",
              "      <td>0.002720</td>\n",
              "      <td>0.0</td>\n",
              "      <td>0.406237</td>\n",
              "      <td>0.000000</td>\n",
              "      <td>0.0</td>\n",
              "      <td>0.162264</td>\n",
              "      <td>0.0</td>\n",
              "      <td>0.018349</td>\n",
              "      <td>0.181553</td>\n",
              "      <td>0.0</td>\n",
              "      <td>0.0</td>\n",
              "    </tr>\n",
              "    <tr>\n",
              "      <th>4832</th>\n",
              "      <td>305548</td>\n",
              "      <td>0.002696</td>\n",
              "      <td>0.000208</td>\n",
              "      <td>0.0</td>\n",
              "      <td>0.155287</td>\n",
              "      <td>0.000000</td>\n",
              "      <td>0.0</td>\n",
              "      <td>0.037736</td>\n",
              "      <td>0.0</td>\n",
              "      <td>0.000000</td>\n",
              "      <td>0.004167</td>\n",
              "      <td>0.0</td>\n",
              "      <td>0.0</td>\n",
              "    </tr>\n",
              "    <tr>\n",
              "      <th>129787</th>\n",
              "      <td>8278816</td>\n",
              "      <td>0.000900</td>\n",
              "      <td>0.001012</td>\n",
              "      <td>0.0</td>\n",
              "      <td>-0.207196</td>\n",
              "      <td>0.045977</td>\n",
              "      <td>0.0</td>\n",
              "      <td>0.071698</td>\n",
              "      <td>0.0</td>\n",
              "      <td>0.000000</td>\n",
              "      <td>0.002084</td>\n",
              "      <td>0.0</td>\n",
              "      <td>1.0</td>\n",
              "    </tr>\n",
              "    <tr>\n",
              "      <th>104167</th>\n",
              "      <td>6626067</td>\n",
              "      <td>0.041504</td>\n",
              "      <td>0.000405</td>\n",
              "      <td>0.0</td>\n",
              "      <td>3.403696</td>\n",
              "      <td>0.000000</td>\n",
              "      <td>0.0</td>\n",
              "      <td>0.143396</td>\n",
              "      <td>0.0</td>\n",
              "      <td>0.000000</td>\n",
              "      <td>0.011390</td>\n",
              "      <td>0.0</td>\n",
              "      <td>0.0</td>\n",
              "    </tr>\n",
              "    <tr>\n",
              "      <th>...</th>\n",
              "      <td>...</td>\n",
              "      <td>...</td>\n",
              "      <td>...</td>\n",
              "      <td>...</td>\n",
              "      <td>...</td>\n",
              "      <td>...</td>\n",
              "      <td>...</td>\n",
              "      <td>...</td>\n",
              "      <td>...</td>\n",
              "      <td>...</td>\n",
              "      <td>...</td>\n",
              "      <td>...</td>\n",
              "      <td>...</td>\n",
              "    </tr>\n",
              "    <tr>\n",
              "      <th>21933</th>\n",
              "      <td>1386558</td>\n",
              "      <td>0.010020</td>\n",
              "      <td>0.010504</td>\n",
              "      <td>0.0</td>\n",
              "      <td>-1.685013</td>\n",
              "      <td>0.091954</td>\n",
              "      <td>0.0</td>\n",
              "      <td>0.116981</td>\n",
              "      <td>0.0</td>\n",
              "      <td>0.100917</td>\n",
              "      <td>0.009029</td>\n",
              "      <td>0.0</td>\n",
              "      <td>1.0</td>\n",
              "    </tr>\n",
              "    <tr>\n",
              "      <th>4234</th>\n",
              "      <td>268802</td>\n",
              "      <td>0.001786</td>\n",
              "      <td>0.004035</td>\n",
              "      <td>0.0</td>\n",
              "      <td>1.012700</td>\n",
              "      <td>0.000000</td>\n",
              "      <td>0.0</td>\n",
              "      <td>0.037736</td>\n",
              "      <td>0.0</td>\n",
              "      <td>0.000000</td>\n",
              "      <td>0.009029</td>\n",
              "      <td>0.0</td>\n",
              "      <td>0.0</td>\n",
              "    </tr>\n",
              "    <tr>\n",
              "      <th>81646</th>\n",
              "      <td>5173032</td>\n",
              "      <td>0.003785</td>\n",
              "      <td>0.001600</td>\n",
              "      <td>0.0</td>\n",
              "      <td>-1.719867</td>\n",
              "      <td>0.022989</td>\n",
              "      <td>0.0</td>\n",
              "      <td>0.071698</td>\n",
              "      <td>0.0</td>\n",
              "      <td>0.045872</td>\n",
              "      <td>0.002084</td>\n",
              "      <td>0.0</td>\n",
              "      <td>1.0</td>\n",
              "    </tr>\n",
              "    <tr>\n",
              "      <th>45289</th>\n",
              "      <td>2845346</td>\n",
              "      <td>0.003228</td>\n",
              "      <td>0.004529</td>\n",
              "      <td>0.0</td>\n",
              "      <td>-1.608333</td>\n",
              "      <td>0.022989</td>\n",
              "      <td>0.0</td>\n",
              "      <td>0.060377</td>\n",
              "      <td>0.0</td>\n",
              "      <td>0.073394</td>\n",
              "      <td>0.002917</td>\n",
              "      <td>0.0</td>\n",
              "      <td>1.0</td>\n",
              "    </tr>\n",
              "    <tr>\n",
              "      <th>181641</th>\n",
              "      <td>11596443</td>\n",
              "      <td>0.010624</td>\n",
              "      <td>0.000763</td>\n",
              "      <td>0.0</td>\n",
              "      <td>0.371383</td>\n",
              "      <td>0.000000</td>\n",
              "      <td>0.0</td>\n",
              "      <td>0.071698</td>\n",
              "      <td>0.0</td>\n",
              "      <td>0.018349</td>\n",
              "      <td>0.005556</td>\n",
              "      <td>0.0</td>\n",
              "      <td>0.0</td>\n",
              "    </tr>\n",
              "  </tbody>\n",
              "</table>\n",
              "<p>1858 rows × 13 columns</p>\n",
              "</div>\n",
              "      <button class=\"colab-df-convert\" onclick=\"convertToInteractive('df-a741e4ba-b88a-4def-9247-620a75f1c52f')\"\n",
              "              title=\"Convert this dataframe to an interactive table.\"\n",
              "              style=\"display:none;\">\n",
              "        \n",
              "  <svg xmlns=\"http://www.w3.org/2000/svg\" height=\"24px\"viewBox=\"0 0 24 24\"\n",
              "       width=\"24px\">\n",
              "    <path d=\"M0 0h24v24H0V0z\" fill=\"none\"/>\n",
              "    <path d=\"M18.56 5.44l.94 2.06.94-2.06 2.06-.94-2.06-.94-.94-2.06-.94 2.06-2.06.94zm-11 1L8.5 8.5l.94-2.06 2.06-.94-2.06-.94L8.5 2.5l-.94 2.06-2.06.94zm10 10l.94 2.06.94-2.06 2.06-.94-2.06-.94-.94-2.06-.94 2.06-2.06.94z\"/><path d=\"M17.41 7.96l-1.37-1.37c-.4-.4-.92-.59-1.43-.59-.52 0-1.04.2-1.43.59L10.3 9.45l-7.72 7.72c-.78.78-.78 2.05 0 2.83L4 21.41c.39.39.9.59 1.41.59.51 0 1.02-.2 1.41-.59l7.78-7.78 2.81-2.81c.8-.78.8-2.07 0-2.86zM5.41 20L4 18.59l7.72-7.72 1.47 1.35L5.41 20z\"/>\n",
              "  </svg>\n",
              "      </button>\n",
              "      \n",
              "  <style>\n",
              "    .colab-df-container {\n",
              "      display:flex;\n",
              "      flex-wrap:wrap;\n",
              "      gap: 12px;\n",
              "    }\n",
              "\n",
              "    .colab-df-convert {\n",
              "      background-color: #E8F0FE;\n",
              "      border: none;\n",
              "      border-radius: 50%;\n",
              "      cursor: pointer;\n",
              "      display: none;\n",
              "      fill: #1967D2;\n",
              "      height: 32px;\n",
              "      padding: 0 0 0 0;\n",
              "      width: 32px;\n",
              "    }\n",
              "\n",
              "    .colab-df-convert:hover {\n",
              "      background-color: #E2EBFA;\n",
              "      box-shadow: 0px 1px 2px rgba(60, 64, 67, 0.3), 0px 1px 3px 1px rgba(60, 64, 67, 0.15);\n",
              "      fill: #174EA6;\n",
              "    }\n",
              "\n",
              "    [theme=dark] .colab-df-convert {\n",
              "      background-color: #3B4455;\n",
              "      fill: #D2E3FC;\n",
              "    }\n",
              "\n",
              "    [theme=dark] .colab-df-convert:hover {\n",
              "      background-color: #434B5C;\n",
              "      box-shadow: 0px 1px 3px 1px rgba(0, 0, 0, 0.15);\n",
              "      filter: drop-shadow(0px 1px 2px rgba(0, 0, 0, 0.3));\n",
              "      fill: #FFFFFF;\n",
              "    }\n",
              "  </style>\n",
              "\n",
              "      <script>\n",
              "        const buttonEl =\n",
              "          document.querySelector('#df-a741e4ba-b88a-4def-9247-620a75f1c52f button.colab-df-convert');\n",
              "        buttonEl.style.display =\n",
              "          google.colab.kernel.accessAllowed ? 'block' : 'none';\n",
              "\n",
              "        async function convertToInteractive(key) {\n",
              "          const element = document.querySelector('#df-a741e4ba-b88a-4def-9247-620a75f1c52f');\n",
              "          const dataTable =\n",
              "            await google.colab.kernel.invokeFunction('convertToInteractive',\n",
              "                                                     [key], {});\n",
              "          if (!dataTable) return;\n",
              "\n",
              "          const docLinkHtml = 'Like what you see? Visit the ' +\n",
              "            '<a target=\"_blank\" href=https://colab.research.google.com/notebooks/data_table.ipynb>data table notebook</a>'\n",
              "            + ' to learn more about interactive tables.';\n",
              "          element.innerHTML = '';\n",
              "          dataTable['output_type'] = 'display_data';\n",
              "          await google.colab.output.renderOutput(dataTable, element);\n",
              "          const docLink = document.createElement('div');\n",
              "          docLink.innerHTML = docLinkHtml;\n",
              "          element.appendChild(docLink);\n",
              "        }\n",
              "      </script>\n",
              "    </div>\n",
              "  </div>\n",
              "  "
            ]
          },
          "metadata": {},
          "execution_count": 173
        }
      ]
    },
    {
      "cell_type": "code",
      "source": [
        "client = pd.concat([cliente_atrito, cliente_not_atrito_sample]) \n",
        "client"
      ],
      "metadata": {
        "colab": {
          "base_uri": "https://localhost:8080/",
          "height": 0
        },
        "id": "kP7n4u_oISG8",
        "outputId": "13a2dc20-97b3-4591-dbbe-e503fb4072b5"
      },
      "execution_count": 174,
      "outputs": [
        {
          "output_type": "execute_result",
          "data": {
            "text/plain": [
              "        Unnamed: 0  vlr_credito  vlr_saldo  num_atend_atrs  vlr_score  \\\n",
              "92            5135     0.013596   0.006807             0.0   0.894196   \n",
              "4087        259785     0.011070   0.005048             0.0   0.350471   \n",
              "5715        356685     0.035036   0.007745             0.0   0.308646   \n",
              "5753        361057     0.064191   0.031470             0.0   1.117262   \n",
              "7637        480701     0.052269   0.009075             0.0   0.636275   \n",
              "...            ...          ...        ...             ...        ...   \n",
              "21933      1386558     0.010020   0.010504             0.0  -1.685013   \n",
              "4234        268802     0.001786   0.004035             0.0   1.012700   \n",
              "81646      5173032     0.003785   0.001600             0.0  -1.719867   \n",
              "45289      2845346     0.003228   0.004529             0.0  -1.608333   \n",
              "181641    11596443     0.010624   0.000763             0.0   0.371383   \n",
              "\n",
              "        num_produtos  num_atend  qtd_oper  qtd_reclm  qtd_restr  vlr_renda  \\\n",
              "92          0.034483        0.0  0.083019        1.0   0.000000   0.018892   \n",
              "4087        0.011494        0.0  0.026415        0.0   0.000000   0.003612   \n",
              "5715        0.011494        0.0  0.018868        0.0   0.036697   0.026948   \n",
              "5753        0.022989        0.0  0.052830        1.0   0.000000   0.110432   \n",
              "7637        0.011494        0.0  0.052830        0.0   0.000000   0.111821   \n",
              "...              ...        ...       ...        ...        ...        ...   \n",
              "21933       0.091954        0.0  0.116981        0.0   0.100917   0.009029   \n",
              "4234        0.000000        0.0  0.037736        0.0   0.000000   0.009029   \n",
              "81646       0.022989        0.0  0.071698        0.0   0.045872   0.002084   \n",
              "45289       0.022989        0.0  0.060377        0.0   0.073394   0.002917   \n",
              "181641      0.000000        0.0  0.071698        0.0   0.018349   0.005556   \n",
              "\n",
              "        ind_atrito  ind_engaj  \n",
              "92             1.0        1.0  \n",
              "4087           1.0        0.0  \n",
              "5715           1.0        0.0  \n",
              "5753           1.0        1.0  \n",
              "7637           1.0        0.0  \n",
              "...            ...        ...  \n",
              "21933          0.0        1.0  \n",
              "4234           0.0        0.0  \n",
              "81646          0.0        1.0  \n",
              "45289          0.0        1.0  \n",
              "181641         0.0        0.0  \n",
              "\n",
              "[1955 rows x 13 columns]"
            ],
            "text/html": [
              "\n",
              "  <div id=\"df-39a8bd22-2c89-4777-ad68-8c3a4304e55e\">\n",
              "    <div class=\"colab-df-container\">\n",
              "      <div>\n",
              "<style scoped>\n",
              "    .dataframe tbody tr th:only-of-type {\n",
              "        vertical-align: middle;\n",
              "    }\n",
              "\n",
              "    .dataframe tbody tr th {\n",
              "        vertical-align: top;\n",
              "    }\n",
              "\n",
              "    .dataframe thead th {\n",
              "        text-align: right;\n",
              "    }\n",
              "</style>\n",
              "<table border=\"1\" class=\"dataframe\">\n",
              "  <thead>\n",
              "    <tr style=\"text-align: right;\">\n",
              "      <th></th>\n",
              "      <th>Unnamed: 0</th>\n",
              "      <th>vlr_credito</th>\n",
              "      <th>vlr_saldo</th>\n",
              "      <th>num_atend_atrs</th>\n",
              "      <th>vlr_score</th>\n",
              "      <th>num_produtos</th>\n",
              "      <th>num_atend</th>\n",
              "      <th>qtd_oper</th>\n",
              "      <th>qtd_reclm</th>\n",
              "      <th>qtd_restr</th>\n",
              "      <th>vlr_renda</th>\n",
              "      <th>ind_atrito</th>\n",
              "      <th>ind_engaj</th>\n",
              "    </tr>\n",
              "  </thead>\n",
              "  <tbody>\n",
              "    <tr>\n",
              "      <th>92</th>\n",
              "      <td>5135</td>\n",
              "      <td>0.013596</td>\n",
              "      <td>0.006807</td>\n",
              "      <td>0.0</td>\n",
              "      <td>0.894196</td>\n",
              "      <td>0.034483</td>\n",
              "      <td>0.0</td>\n",
              "      <td>0.083019</td>\n",
              "      <td>1.0</td>\n",
              "      <td>0.000000</td>\n",
              "      <td>0.018892</td>\n",
              "      <td>1.0</td>\n",
              "      <td>1.0</td>\n",
              "    </tr>\n",
              "    <tr>\n",
              "      <th>4087</th>\n",
              "      <td>259785</td>\n",
              "      <td>0.011070</td>\n",
              "      <td>0.005048</td>\n",
              "      <td>0.0</td>\n",
              "      <td>0.350471</td>\n",
              "      <td>0.011494</td>\n",
              "      <td>0.0</td>\n",
              "      <td>0.026415</td>\n",
              "      <td>0.0</td>\n",
              "      <td>0.000000</td>\n",
              "      <td>0.003612</td>\n",
              "      <td>1.0</td>\n",
              "      <td>0.0</td>\n",
              "    </tr>\n",
              "    <tr>\n",
              "      <th>5715</th>\n",
              "      <td>356685</td>\n",
              "      <td>0.035036</td>\n",
              "      <td>0.007745</td>\n",
              "      <td>0.0</td>\n",
              "      <td>0.308646</td>\n",
              "      <td>0.011494</td>\n",
              "      <td>0.0</td>\n",
              "      <td>0.018868</td>\n",
              "      <td>0.0</td>\n",
              "      <td>0.036697</td>\n",
              "      <td>0.026948</td>\n",
              "      <td>1.0</td>\n",
              "      <td>0.0</td>\n",
              "    </tr>\n",
              "    <tr>\n",
              "      <th>5753</th>\n",
              "      <td>361057</td>\n",
              "      <td>0.064191</td>\n",
              "      <td>0.031470</td>\n",
              "      <td>0.0</td>\n",
              "      <td>1.117262</td>\n",
              "      <td>0.022989</td>\n",
              "      <td>0.0</td>\n",
              "      <td>0.052830</td>\n",
              "      <td>1.0</td>\n",
              "      <td>0.000000</td>\n",
              "      <td>0.110432</td>\n",
              "      <td>1.0</td>\n",
              "      <td>1.0</td>\n",
              "    </tr>\n",
              "    <tr>\n",
              "      <th>7637</th>\n",
              "      <td>480701</td>\n",
              "      <td>0.052269</td>\n",
              "      <td>0.009075</td>\n",
              "      <td>0.0</td>\n",
              "      <td>0.636275</td>\n",
              "      <td>0.011494</td>\n",
              "      <td>0.0</td>\n",
              "      <td>0.052830</td>\n",
              "      <td>0.0</td>\n",
              "      <td>0.000000</td>\n",
              "      <td>0.111821</td>\n",
              "      <td>1.0</td>\n",
              "      <td>0.0</td>\n",
              "    </tr>\n",
              "    <tr>\n",
              "      <th>...</th>\n",
              "      <td>...</td>\n",
              "      <td>...</td>\n",
              "      <td>...</td>\n",
              "      <td>...</td>\n",
              "      <td>...</td>\n",
              "      <td>...</td>\n",
              "      <td>...</td>\n",
              "      <td>...</td>\n",
              "      <td>...</td>\n",
              "      <td>...</td>\n",
              "      <td>...</td>\n",
              "      <td>...</td>\n",
              "      <td>...</td>\n",
              "    </tr>\n",
              "    <tr>\n",
              "      <th>21933</th>\n",
              "      <td>1386558</td>\n",
              "      <td>0.010020</td>\n",
              "      <td>0.010504</td>\n",
              "      <td>0.0</td>\n",
              "      <td>-1.685013</td>\n",
              "      <td>0.091954</td>\n",
              "      <td>0.0</td>\n",
              "      <td>0.116981</td>\n",
              "      <td>0.0</td>\n",
              "      <td>0.100917</td>\n",
              "      <td>0.009029</td>\n",
              "      <td>0.0</td>\n",
              "      <td>1.0</td>\n",
              "    </tr>\n",
              "    <tr>\n",
              "      <th>4234</th>\n",
              "      <td>268802</td>\n",
              "      <td>0.001786</td>\n",
              "      <td>0.004035</td>\n",
              "      <td>0.0</td>\n",
              "      <td>1.012700</td>\n",
              "      <td>0.000000</td>\n",
              "      <td>0.0</td>\n",
              "      <td>0.037736</td>\n",
              "      <td>0.0</td>\n",
              "      <td>0.000000</td>\n",
              "      <td>0.009029</td>\n",
              "      <td>0.0</td>\n",
              "      <td>0.0</td>\n",
              "    </tr>\n",
              "    <tr>\n",
              "      <th>81646</th>\n",
              "      <td>5173032</td>\n",
              "      <td>0.003785</td>\n",
              "      <td>0.001600</td>\n",
              "      <td>0.0</td>\n",
              "      <td>-1.719867</td>\n",
              "      <td>0.022989</td>\n",
              "      <td>0.0</td>\n",
              "      <td>0.071698</td>\n",
              "      <td>0.0</td>\n",
              "      <td>0.045872</td>\n",
              "      <td>0.002084</td>\n",
              "      <td>0.0</td>\n",
              "      <td>1.0</td>\n",
              "    </tr>\n",
              "    <tr>\n",
              "      <th>45289</th>\n",
              "      <td>2845346</td>\n",
              "      <td>0.003228</td>\n",
              "      <td>0.004529</td>\n",
              "      <td>0.0</td>\n",
              "      <td>-1.608333</td>\n",
              "      <td>0.022989</td>\n",
              "      <td>0.0</td>\n",
              "      <td>0.060377</td>\n",
              "      <td>0.0</td>\n",
              "      <td>0.073394</td>\n",
              "      <td>0.002917</td>\n",
              "      <td>0.0</td>\n",
              "      <td>1.0</td>\n",
              "    </tr>\n",
              "    <tr>\n",
              "      <th>181641</th>\n",
              "      <td>11596443</td>\n",
              "      <td>0.010624</td>\n",
              "      <td>0.000763</td>\n",
              "      <td>0.0</td>\n",
              "      <td>0.371383</td>\n",
              "      <td>0.000000</td>\n",
              "      <td>0.0</td>\n",
              "      <td>0.071698</td>\n",
              "      <td>0.0</td>\n",
              "      <td>0.018349</td>\n",
              "      <td>0.005556</td>\n",
              "      <td>0.0</td>\n",
              "      <td>0.0</td>\n",
              "    </tr>\n",
              "  </tbody>\n",
              "</table>\n",
              "<p>1955 rows × 13 columns</p>\n",
              "</div>\n",
              "      <button class=\"colab-df-convert\" onclick=\"convertToInteractive('df-39a8bd22-2c89-4777-ad68-8c3a4304e55e')\"\n",
              "              title=\"Convert this dataframe to an interactive table.\"\n",
              "              style=\"display:none;\">\n",
              "        \n",
              "  <svg xmlns=\"http://www.w3.org/2000/svg\" height=\"24px\"viewBox=\"0 0 24 24\"\n",
              "       width=\"24px\">\n",
              "    <path d=\"M0 0h24v24H0V0z\" fill=\"none\"/>\n",
              "    <path d=\"M18.56 5.44l.94 2.06.94-2.06 2.06-.94-2.06-.94-.94-2.06-.94 2.06-2.06.94zm-11 1L8.5 8.5l.94-2.06 2.06-.94-2.06-.94L8.5 2.5l-.94 2.06-2.06.94zm10 10l.94 2.06.94-2.06 2.06-.94-2.06-.94-.94-2.06-.94 2.06-2.06.94z\"/><path d=\"M17.41 7.96l-1.37-1.37c-.4-.4-.92-.59-1.43-.59-.52 0-1.04.2-1.43.59L10.3 9.45l-7.72 7.72c-.78.78-.78 2.05 0 2.83L4 21.41c.39.39.9.59 1.41.59.51 0 1.02-.2 1.41-.59l7.78-7.78 2.81-2.81c.8-.78.8-2.07 0-2.86zM5.41 20L4 18.59l7.72-7.72 1.47 1.35L5.41 20z\"/>\n",
              "  </svg>\n",
              "      </button>\n",
              "      \n",
              "  <style>\n",
              "    .colab-df-container {\n",
              "      display:flex;\n",
              "      flex-wrap:wrap;\n",
              "      gap: 12px;\n",
              "    }\n",
              "\n",
              "    .colab-df-convert {\n",
              "      background-color: #E8F0FE;\n",
              "      border: none;\n",
              "      border-radius: 50%;\n",
              "      cursor: pointer;\n",
              "      display: none;\n",
              "      fill: #1967D2;\n",
              "      height: 32px;\n",
              "      padding: 0 0 0 0;\n",
              "      width: 32px;\n",
              "    }\n",
              "\n",
              "    .colab-df-convert:hover {\n",
              "      background-color: #E2EBFA;\n",
              "      box-shadow: 0px 1px 2px rgba(60, 64, 67, 0.3), 0px 1px 3px 1px rgba(60, 64, 67, 0.15);\n",
              "      fill: #174EA6;\n",
              "    }\n",
              "\n",
              "    [theme=dark] .colab-df-convert {\n",
              "      background-color: #3B4455;\n",
              "      fill: #D2E3FC;\n",
              "    }\n",
              "\n",
              "    [theme=dark] .colab-df-convert:hover {\n",
              "      background-color: #434B5C;\n",
              "      box-shadow: 0px 1px 3px 1px rgba(0, 0, 0, 0.15);\n",
              "      filter: drop-shadow(0px 1px 2px rgba(0, 0, 0, 0.3));\n",
              "      fill: #FFFFFF;\n",
              "    }\n",
              "  </style>\n",
              "\n",
              "      <script>\n",
              "        const buttonEl =\n",
              "          document.querySelector('#df-39a8bd22-2c89-4777-ad68-8c3a4304e55e button.colab-df-convert');\n",
              "        buttonEl.style.display =\n",
              "          google.colab.kernel.accessAllowed ? 'block' : 'none';\n",
              "\n",
              "        async function convertToInteractive(key) {\n",
              "          const element = document.querySelector('#df-39a8bd22-2c89-4777-ad68-8c3a4304e55e');\n",
              "          const dataTable =\n",
              "            await google.colab.kernel.invokeFunction('convertToInteractive',\n",
              "                                                     [key], {});\n",
              "          if (!dataTable) return;\n",
              "\n",
              "          const docLinkHtml = 'Like what you see? Visit the ' +\n",
              "            '<a target=\"_blank\" href=https://colab.research.google.com/notebooks/data_table.ipynb>data table notebook</a>'\n",
              "            + ' to learn more about interactive tables.';\n",
              "          element.innerHTML = '';\n",
              "          dataTable['output_type'] = 'display_data';\n",
              "          await google.colab.output.renderOutput(dataTable, element);\n",
              "          const docLink = document.createElement('div');\n",
              "          docLink.innerHTML = docLinkHtml;\n",
              "          element.appendChild(docLink);\n",
              "        }\n",
              "      </script>\n",
              "    </div>\n",
              "  </div>\n",
              "  "
            ]
          },
          "metadata": {},
          "execution_count": 174
        }
      ]
    },
    {
      "cell_type": "markdown",
      "source": [
        "##Treinamento Teste"
      ],
      "metadata": {
        "id": "3CuSz6b4OstP"
      }
    },
    {
      "cell_type": "code",
      "source": [
        "from sklearn.model_selection import train_test_split\n",
        "from imblearn.over_sampling import SMOTE\n",
        "import matplotlib.pyplot as plt\n",
        "\n",
        "cols = ['vlr_saldo','vlr_credito', 'num_atend_atrs', 'qtd_reclm','vlr_renda']\n",
        "\n",
        "# Dividindo x e y\n",
        "x = client[cols]\n",
        "y = client['ind_atrito']\n",
        "\n",
        "print(y.shape, y[y==1].shape)\n",
        "\n",
        "\n",
        "sm = SMOTE(random_state=42, sampling_strategy=\"auto\")\n",
        "X_res, y_res = sm.fit_resample(x, y)\n",
        "\n",
        "print(y_res.shape, y_res[y_res==0].shape, y_res[y_res==1].shape)\n",
        "\n",
        "# Dividindo dados para treino e dados para teste\n",
        "x_train, x_test, y_train, y_test = train_test_split(X_res, y_res, test_size = 0.2, random_state = 42)"
      ],
      "metadata": {
        "id": "vygOZnWBOwnr",
        "colab": {
          "base_uri": "https://localhost:8080/"
        },
        "outputId": "9e22f9b7-942e-4bfa-a353-5d2eca8bbd02"
      },
      "execution_count": 175,
      "outputs": [
        {
          "output_type": "stream",
          "name": "stdout",
          "text": [
            "(1955,) (97,)\n",
            "(3716,) (1858,) (1858,)\n"
          ]
        }
      ]
    },
    {
      "cell_type": "markdown",
      "source": [
        "##Oversampling de atritados"
      ],
      "metadata": {
        "id": "4VBVJLKpIV6l"
      }
    },
    {
      "cell_type": "code",
      "source": [
        "x_train.shape\n",
        "y_train.shape"
      ],
      "metadata": {
        "colab": {
          "base_uri": "https://localhost:8080/"
        },
        "id": "F4gRnUK8IVhz",
        "outputId": "0fae7fc6-28b3-4e63-f3a7-3b65eefc69fc"
      },
      "execution_count": 176,
      "outputs": [
        {
          "output_type": "execute_result",
          "data": {
            "text/plain": [
              "(2972,)"
            ]
          },
          "metadata": {},
          "execution_count": 176
        }
      ]
    },
    {
      "cell_type": "code",
      "source": [
        "x_train.shape\n",
        "y_train.shape"
      ],
      "metadata": {
        "colab": {
          "base_uri": "https://localhost:8080/"
        },
        "id": "oKfPyT8sIY_g",
        "outputId": "d2ef4e0a-2560-4524-d506-19eb0b72f108"
      },
      "execution_count": 177,
      "outputs": [
        {
          "output_type": "execute_result",
          "data": {
            "text/plain": [
              "(2972,)"
            ]
          },
          "metadata": {},
          "execution_count": 177
        }
      ]
    },
    {
      "cell_type": "markdown",
      "source": [
        "##KNN "
      ],
      "metadata": {
        "id": "oZZtAuwu9shJ"
      }
    },
    {
      "cell_type": "code",
      "source": [
        "from sklearn.neighbors import KNeighborsClassifier\n",
        "\n",
        "kn_n = KNeighborsClassifier(n_neighbors=3)\n",
        "kn_n.fit(x_train, y_train)"
      ],
      "metadata": {
        "id": "U2K_9u2dPDYP",
        "colab": {
          "base_uri": "https://localhost:8080/"
        },
        "outputId": "e698dabc-a019-4ac4-bb86-7846867d9047"
      },
      "execution_count": 178,
      "outputs": [
        {
          "output_type": "execute_result",
          "data": {
            "text/plain": [
              "KNeighborsClassifier(n_neighbors=3)"
            ]
          },
          "metadata": {},
          "execution_count": 178
        }
      ]
    },
    {
      "cell_type": "code",
      "source": [
        "y_pred_knn = kn_n.predict(x_test)\n",
        "y_pred_knn"
      ],
      "metadata": {
        "id": "RXBLdfS1UZ7i",
        "colab": {
          "base_uri": "https://localhost:8080/"
        },
        "outputId": "162672cc-42f9-44bd-d42f-c09b7b4532da"
      },
      "execution_count": 179,
      "outputs": [
        {
          "output_type": "execute_result",
          "data": {
            "text/plain": [
              "array([1., 1., 1., 1., 0., 1., 1., 0., 1., 1., 1., 1., 0., 0., 0., 0., 0.,\n",
              "       1., 0., 1., 1., 0., 0., 1., 1., 1., 0., 0., 0., 1., 1., 0., 1., 0.,\n",
              "       0., 1., 1., 0., 1., 1., 1., 1., 1., 0., 1., 1., 0., 0., 1., 1., 1.,\n",
              "       0., 1., 0., 1., 1., 0., 1., 0., 1., 0., 1., 0., 0., 1., 0., 1., 0.,\n",
              "       0., 0., 1., 1., 1., 0., 0., 1., 0., 1., 0., 1., 0., 1., 0., 1., 1.,\n",
              "       1., 0., 0., 0., 0., 1., 1., 0., 1., 1., 0., 0., 0., 1., 0., 1., 1.,\n",
              "       0., 1., 0., 1., 0., 0., 1., 1., 0., 0., 0., 0., 0., 1., 1., 1., 0.,\n",
              "       1., 1., 0., 1., 1., 0., 0., 1., 1., 0., 1., 1., 1., 1., 1., 1., 0.,\n",
              "       1., 1., 0., 1., 0., 1., 1., 0., 0., 0., 1., 1., 1., 0., 1., 1., 1.,\n",
              "       0., 0., 1., 0., 1., 1., 1., 1., 0., 1., 0., 0., 1., 1., 0., 1., 1.,\n",
              "       0., 0., 1., 0., 0., 1., 0., 1., 0., 0., 0., 1., 1., 1., 1., 1., 1.,\n",
              "       1., 0., 0., 1., 1., 0., 0., 1., 0., 0., 0., 1., 0., 0., 1., 1., 1.,\n",
              "       1., 0., 1., 0., 1., 1., 0., 1., 0., 1., 0., 0., 1., 0., 1., 1., 1.,\n",
              "       1., 1., 1., 1., 0., 1., 0., 0., 0., 0., 1., 1., 0., 0., 0., 0., 1.,\n",
              "       1., 1., 0., 0., 0., 1., 1., 0., 0., 1., 1., 0., 1., 1., 0., 0., 1.,\n",
              "       1., 1., 1., 0., 1., 1., 0., 0., 1., 0., 1., 0., 1., 1., 1., 0., 0.,\n",
              "       1., 0., 1., 0., 1., 0., 1., 1., 1., 1., 1., 1., 1., 0., 0., 1., 1.,\n",
              "       1., 0., 0., 1., 0., 0., 0., 1., 1., 1., 0., 0., 1., 1., 0., 1., 1.,\n",
              "       0., 0., 1., 1., 1., 0., 1., 0., 1., 1., 1., 0., 1., 1., 1., 0., 1.,\n",
              "       1., 1., 1., 0., 1., 1., 1., 1., 1., 0., 1., 0., 0., 0., 1., 1., 1.,\n",
              "       0., 1., 1., 0., 0., 0., 1., 0., 0., 1., 1., 1., 1., 1., 1., 1., 1.,\n",
              "       0., 1., 0., 1., 0., 0., 0., 1., 0., 0., 1., 0., 0., 1., 0., 1., 1.,\n",
              "       1., 0., 0., 0., 0., 0., 1., 1., 1., 1., 0., 1., 1., 1., 0., 0., 1.,\n",
              "       1., 0., 1., 0., 1., 1., 0., 1., 0., 0., 1., 0., 1., 0., 0., 0., 0.,\n",
              "       1., 1., 1., 0., 1., 1., 1., 1., 1., 1., 0., 1., 1., 1., 1., 0., 0.,\n",
              "       1., 1., 0., 0., 1., 0., 1., 1., 1., 1., 1., 0., 1., 1., 0., 1., 0.,\n",
              "       1., 1., 1., 1., 1., 0., 0., 1., 1., 0., 1., 0., 0., 1., 0., 1., 1.,\n",
              "       0., 0., 0., 1., 0., 1., 0., 1., 0., 1., 1., 1., 0., 1., 1., 0., 0.,\n",
              "       0., 1., 1., 0., 1., 0., 1., 1., 1., 1., 1., 1., 1., 0., 0., 1., 0.,\n",
              "       1., 0., 1., 1., 1., 1., 1., 1., 1., 1., 0., 1., 1., 0., 0., 1., 0.,\n",
              "       0., 1., 1., 1., 0., 1., 1., 0., 0., 0., 1., 1., 1., 0., 0., 0., 0.,\n",
              "       1., 1., 1., 1., 1., 0., 1., 1., 1., 0., 0., 1., 1., 1., 1., 0., 0.,\n",
              "       0., 1., 0., 0., 0., 0., 0., 1., 0., 1., 1., 0., 0., 0., 1., 1., 0.,\n",
              "       0., 1., 1., 1., 0., 1., 1., 0., 0., 1., 1., 0., 0., 0., 0., 0., 0.,\n",
              "       0., 1., 1., 0., 0., 0., 0., 0., 0., 1., 0., 0., 1., 1., 0., 1., 0.,\n",
              "       0., 1., 0., 1., 1., 1., 1., 0., 0., 0., 1., 1., 0., 1., 0., 1., 1.,\n",
              "       0., 1., 0., 1., 0., 1., 1., 1., 1., 0., 0., 0., 0., 0., 0., 0., 1.,\n",
              "       1., 0., 0., 1., 1., 0., 0., 0., 0., 0., 0., 1., 1., 0., 1., 0., 0.,\n",
              "       1., 0., 1., 1., 1., 0., 1., 1., 0., 0., 1., 0., 0., 0., 1., 0., 1.,\n",
              "       0., 0., 1., 1., 1., 0., 1., 0., 0., 1., 0., 1., 0., 0., 1., 1., 0.,\n",
              "       1., 0., 0., 0., 0., 1., 0., 1., 0., 0., 0., 1., 1., 1., 0., 0., 1.,\n",
              "       1., 1., 0., 0., 1., 1., 0., 0., 0., 0., 1., 0., 1., 1., 1., 1., 0.,\n",
              "       0., 1., 1., 1., 0., 1., 1., 1., 1., 0., 0., 0., 1., 1., 1., 1., 1.,\n",
              "       1., 0., 1., 0., 1., 1., 1., 0., 0., 1., 1., 0., 1.])"
            ]
          },
          "metadata": {},
          "execution_count": 179
        }
      ]
    },
    {
      "cell_type": "markdown",
      "source": [
        "###Métricas"
      ],
      "metadata": {
        "id": "S_9qTe-mUenB"
      }
    },
    {
      "cell_type": "code",
      "source": [
        "from sklearn.metrics import accuracy_score\n",
        "accuracy_score(y_test, y_pred_knn)"
      ],
      "metadata": {
        "id": "CrJCbLjsUgh8",
        "colab": {
          "base_uri": "https://localhost:8080/"
        },
        "outputId": "1580b63f-3ae0-4ecb-b607-e2806bbaa67e"
      },
      "execution_count": 180,
      "outputs": [
        {
          "output_type": "execute_result",
          "data": {
            "text/plain": [
              "0.8494623655913979"
            ]
          },
          "metadata": {},
          "execution_count": 180
        }
      ]
    },
    {
      "cell_type": "code",
      "source": [
        "from sklearn.metrics import precision_score\n",
        "precision_score(y_test, y_pred_knn)"
      ],
      "metadata": {
        "id": "vb1xqN5xUg5Z",
        "colab": {
          "base_uri": "https://localhost:8080/"
        },
        "outputId": "efba8424-3c7c-4e6b-ce42-84137aab3902"
      },
      "execution_count": 181,
      "outputs": [
        {
          "output_type": "execute_result",
          "data": {
            "text/plain": [
              "0.784841075794621"
            ]
          },
          "metadata": {},
          "execution_count": 181
        }
      ]
    },
    {
      "cell_type": "code",
      "source": [
        "from sklearn.metrics import recall_score\n",
        "recall_score(y_test, y_pred_knn)"
      ],
      "metadata": {
        "id": "SklKokxWUhPB",
        "colab": {
          "base_uri": "https://localhost:8080/"
        },
        "outputId": "00126dd5-264a-4a21-d666-7c3ef0ca0269"
      },
      "execution_count": 182,
      "outputs": [
        {
          "output_type": "execute_result",
          "data": {
            "text/plain": [
              "0.9304347826086956"
            ]
          },
          "metadata": {},
          "execution_count": 182
        }
      ]
    },
    {
      "cell_type": "markdown",
      "source": [
        "###Matriz de confusão"
      ],
      "metadata": {
        "id": "KIfA432tVCax"
      }
    },
    {
      "cell_type": "code",
      "source": [
        "from sklearn.metrics import plot_confusion_matrix\n",
        "plot_confusion_matrix(kn_n,x_test,y_test, cmap='Blues')"
      ],
      "metadata": {
        "id": "knCme2GiU9SB",
        "colab": {
          "base_uri": "https://localhost:8080/",
          "height": 0
        },
        "outputId": "9e193f12-a5df-4892-a0ab-977dd723ba53"
      },
      "execution_count": 183,
      "outputs": [
        {
          "output_type": "execute_result",
          "data": {
            "text/plain": [
              "<sklearn.metrics._plot.confusion_matrix.ConfusionMatrixDisplay at 0x7f32ba14efd0>"
            ]
          },
          "metadata": {},
          "execution_count": 183
        },
        {
          "output_type": "display_data",
          "data": {
            "text/plain": [
              "<Figure size 432x288 with 2 Axes>"
            ],
            "image/png": "[encoded data removed]"
          },
          "metadata": {
            "needs_background": "light"
          }
        }
      ]
    },
    {
      "cell_type": "markdown",
      "source": [
        "##Árvore de decisão"
      ],
      "metadata": {
        "id": "UUr6DkgvDkRj"
      }
    },
    {
      "cell_type": "code",
      "source": [
        "from sklearn.model_selection import train_test_split\n",
        "from sklearn.tree import DecisionTreeClassifier\n",
        "\n",
        "avd = DecisionTreeClassifier(criterion='entropy', random_state=42)\n",
        "avd.fit(x_train, y_train)"
      ],
      "metadata": {
        "id": "Gt9I27vVShAy",
        "colab": {
          "base_uri": "https://localhost:8080/"
        },
        "outputId": "0bce64ba-93be-438a-cb45-d0fdf6484b3e"
      },
      "execution_count": 184,
      "outputs": [
        {
          "output_type": "execute_result",
          "data": {
            "text/plain": [
              "DecisionTreeClassifier(criterion='entropy', random_state=42)"
            ]
          },
          "metadata": {},
          "execution_count": 184
        }
      ]
    },
    {
      "cell_type": "code",
      "source": [
        "y_pred_avd = avd.predict(x_test)\n",
        "y_pred_avd"
      ],
      "metadata": {
        "id": "7DpjbLq7Slg3",
        "colab": {
          "base_uri": "https://localhost:8080/"
        },
        "outputId": "90f791d2-4ebf-4cfe-cf4a-97f3731d05af"
      },
      "execution_count": 185,
      "outputs": [
        {
          "output_type": "execute_result",
          "data": {
            "text/plain": [
              "array([1., 0., 1., 1., 0., 0., 1., 0., 1., 1., 1., 1., 0., 1., 0., 0., 0.,\n",
              "       1., 0., 0., 1., 1., 0., 1., 0., 1., 1., 0., 0., 0., 1., 0., 1., 0.,\n",
              "       0., 1., 1., 0., 1., 1., 1., 1., 1., 0., 0., 1., 0., 0., 1., 0., 1.,\n",
              "       0., 0., 0., 0., 1., 1., 1., 0., 1., 0., 1., 1., 0., 1., 0., 1., 0.,\n",
              "       0., 0., 1., 0., 1., 0., 0., 0., 0., 1., 0., 1., 0., 0., 0., 1., 0.,\n",
              "       0., 0., 0., 0., 0., 1., 1., 0., 0., 0., 0., 0., 0., 0., 0., 1., 1.,\n",
              "       0., 1., 1., 1., 0., 0., 1., 1., 0., 0., 0., 0., 0., 1., 1., 0., 0.,\n",
              "       0., 1., 0., 1., 1., 0., 0., 1., 1., 0., 1., 0., 1., 1., 1., 1., 0.,\n",
              "       1., 1., 0., 1., 0., 1., 1., 0., 0., 0., 1., 1., 1., 0., 1., 1., 1.,\n",
              "       0., 0., 1., 0., 1., 1., 1., 0., 0., 1., 0., 0., 1., 1., 0., 0., 1.,\n",
              "       0., 0., 0., 0., 0., 1., 0., 1., 0., 0., 0., 1., 0., 1., 1., 1., 1.,\n",
              "       1., 1., 0., 1., 1., 0., 0., 1., 0., 0., 0., 1., 0., 0., 1., 1., 0.,\n",
              "       1., 0., 0., 0., 1., 0., 0., 1., 0., 1., 0., 0., 0., 0., 0., 0., 1.,\n",
              "       0., 0., 1., 1., 0., 1., 0., 0., 0., 0., 1., 1., 0., 0., 0., 0., 1.,\n",
              "       1., 1., 0., 0., 0., 1., 1., 0., 0., 1., 1., 0., 1., 1., 0., 0., 0.,\n",
              "       1., 1., 1., 0., 1., 1., 0., 0., 1., 0., 1., 0., 1., 0., 1., 0., 0.,\n",
              "       1., 0., 0., 0., 1., 0., 1., 1., 1., 1., 1., 0., 1., 0., 0., 1., 1.,\n",
              "       1., 0., 0., 1., 0., 0., 0., 1., 0., 1., 0., 0., 0., 0., 0., 0., 1.,\n",
              "       0., 0., 0., 1., 1., 0., 1., 0., 1., 1., 1., 1., 1., 1., 1., 0., 1.,\n",
              "       1., 1., 1., 0., 1., 1., 0., 1., 0., 0., 1., 0., 1., 0., 0., 1., 0.,\n",
              "       0., 0., 1., 0., 0., 0., 1., 1., 0., 1., 1., 1., 1., 1., 1., 1., 1.,\n",
              "       0., 1., 0., 1., 0., 1., 1., 1., 0., 0., 0., 1., 0., 1., 0., 1., 1.,\n",
              "       1., 0., 0., 0., 0., 0., 1., 1., 0., 1., 0., 1., 1., 1., 0., 1., 0.,\n",
              "       1., 1., 1., 0., 1., 1., 0., 1., 0., 0., 1., 0., 1., 1., 0., 0., 1.,\n",
              "       1., 1., 1., 1., 1., 1., 1., 1., 1., 1., 0., 0., 1., 1., 1., 0., 1.,\n",
              "       1., 0., 0., 0., 0., 0., 0., 1., 1., 1., 1., 0., 1., 0., 0., 1., 0.,\n",
              "       1., 0., 0., 1., 1., 0., 0., 1., 1., 0., 1., 0., 0., 0., 0., 1., 1.,\n",
              "       0., 0., 0., 0., 0., 1., 0., 1., 0., 1., 0., 1., 0., 1., 1., 0., 1.,\n",
              "       0., 0., 1., 0., 0., 0., 0., 1., 1., 1., 0., 1., 1., 0., 0., 1., 0.,\n",
              "       1., 0., 1., 1., 1., 1., 1., 1., 1., 0., 1., 0., 1., 0., 0., 1., 0.,\n",
              "       0., 1., 1., 1., 0., 0., 1., 0., 0., 0., 1., 1., 1., 0., 0., 0., 0.,\n",
              "       1., 1., 0., 1., 0., 0., 1., 1., 1., 0., 0., 1., 1., 0., 1., 0., 0.,\n",
              "       0., 1., 0., 1., 0., 0., 0., 1., 1., 1., 0., 0., 1., 1., 0., 0., 0.,\n",
              "       0., 1., 1., 1., 0., 1., 0., 0., 0., 1., 0., 0., 0., 1., 0., 0., 0.,\n",
              "       0., 1., 0., 0., 0., 0., 1., 0., 0., 1., 0., 0., 0., 1., 0., 1., 0.,\n",
              "       0., 1., 0., 1., 1., 0., 0., 0., 1., 1., 1., 1., 0., 1., 0., 1., 1.,\n",
              "       0., 1., 0., 1., 0., 1., 1., 1., 1., 0., 0., 0., 0., 1., 0., 0., 1.,\n",
              "       0., 0., 0., 1., 1., 0., 0., 0., 0., 1., 0., 0., 1., 0., 1., 0., 0.,\n",
              "       1., 0., 1., 1., 1., 0., 1., 1., 0., 0., 1., 1., 0., 0., 0., 0., 1.,\n",
              "       0., 0., 0., 1., 1., 0., 1., 0., 0., 1., 0., 1., 0., 0., 1., 0., 1.,\n",
              "       1., 0., 0., 0., 0., 0., 0., 0., 0., 1., 1., 1., 1., 1., 0., 0., 1.,\n",
              "       1., 1., 0., 0., 0., 1., 0., 0., 0., 0., 1., 0., 1., 1., 0., 1., 0.,\n",
              "       0., 1., 1., 1., 0., 1., 1., 1., 1., 0., 0., 1., 1., 1., 1., 1., 1.,\n",
              "       0., 0., 1., 0., 1., 1., 1., 0., 0., 1., 1., 0., 0.])"
            ]
          },
          "metadata": {},
          "execution_count": 185
        }
      ]
    },
    {
      "cell_type": "markdown",
      "source": [
        "###Metricas"
      ],
      "metadata": {
        "id": "4c3zaL5DSyqJ"
      }
    },
    {
      "cell_type": "markdown",
      "source": [
        "Acuracia"
      ],
      "metadata": {
        "id": "T3YJgczvTLTb"
      }
    },
    {
      "cell_type": "code",
      "source": [
        "from sklearn.metrics import accuracy_score\n",
        "accuracy_score(y_test, y_pred_avd)"
      ],
      "metadata": {
        "id": "RFGTNR05S1kB",
        "colab": {
          "base_uri": "https://localhost:8080/"
        },
        "outputId": "b7336f47-68e5-434f-a758-c9fc0cbf838a"
      },
      "execution_count": 186,
      "outputs": [
        {
          "output_type": "execute_result",
          "data": {
            "text/plain": [
              "0.853494623655914"
            ]
          },
          "metadata": {},
          "execution_count": 186
        }
      ]
    },
    {
      "cell_type": "markdown",
      "source": [
        "Precisão"
      ],
      "metadata": {
        "id": "cZ_T_WxcTNky"
      }
    },
    {
      "cell_type": "code",
      "source": [
        "from sklearn.metrics import precision_score\n",
        "precision_score(y_test, y_pred_avd)"
      ],
      "metadata": {
        "id": "J0YwCh02S6oP",
        "colab": {
          "base_uri": "https://localhost:8080/"
        },
        "outputId": "9295b701-fb23-46a6-a3c0-c54cf4dcceb1"
      },
      "execution_count": 187,
      "outputs": [
        {
          "output_type": "execute_result",
          "data": {
            "text/plain": [
              "0.8314606741573034"
            ]
          },
          "metadata": {},
          "execution_count": 187
        }
      ]
    },
    {
      "cell_type": "markdown",
      "source": [
        "Recall"
      ],
      "metadata": {
        "id": "VWxDsiiWTPWR"
      }
    },
    {
      "cell_type": "code",
      "source": [
        "from sklearn.metrics import recall_score\n",
        "recall_score(y_test, y_pred_avd)"
      ],
      "metadata": {
        "id": "Hfqzd7jWTCZJ",
        "colab": {
          "base_uri": "https://localhost:8080/"
        },
        "outputId": "cbb9762e-e596-4f35-f09a-af3afc22ebd2"
      },
      "execution_count": 188,
      "outputs": [
        {
          "output_type": "execute_result",
          "data": {
            "text/plain": [
              "0.8579710144927536"
            ]
          },
          "metadata": {},
          "execution_count": 188
        }
      ]
    },
    {
      "cell_type": "markdown",
      "source": [
        "###Matriz de confusão"
      ],
      "metadata": {
        "id": "VGuU9uewTecb"
      }
    },
    {
      "cell_type": "code",
      "source": [
        "plot_confusion_matrix(avd,x_test,y_test, cmap='Blues')"
      ],
      "metadata": {
        "id": "1FAqMJDETieu",
        "colab": {
          "base_uri": "https://localhost:8080/",
          "height": 0
        },
        "outputId": "ff8ec333-f0f1-424b-f87b-5c2b92f48c5f"
      },
      "execution_count": 189,
      "outputs": [
        {
          "output_type": "execute_result",
          "data": {
            "text/plain": [
              "<sklearn.metrics._plot.confusion_matrix.ConfusionMatrixDisplay at 0x7f32ba0b3050>"
            ]
          },
          "metadata": {},
          "execution_count": 189
        },
        {
          "output_type": "display_data",
          "data": {
            "text/plain": [
              "<Figure size 432x288 with 2 Axes>"
            ],
            "image/png": "[encoded data removed]"
          },
          "metadata": {
            "needs_background": "light"
          }
        }
      ]
    },
    {
      "cell_type": "markdown",
      "source": [
        "##SVM"
      ],
      "metadata": {
        "id": "6Ie_Ih6JPhbY"
      }
    },
    {
      "cell_type": "code",
      "source": [
        "from sklearn import svm\n",
        "clf = svm.SVC()\n",
        "clf.fit(x_train, y_train)\n",
        "clf"
      ],
      "metadata": {
        "id": "C4-soHMgPjdb",
        "colab": {
          "base_uri": "https://localhost:8080/"
        },
        "outputId": "a562048f-f474-4b2a-c90b-91c21bfb1735"
      },
      "execution_count": 190,
      "outputs": [
        {
          "output_type": "execute_result",
          "data": {
            "text/plain": [
              "SVC()"
            ]
          },
          "metadata": {},
          "execution_count": 190
        }
      ]
    },
    {
      "cell_type": "code",
      "source": [
        "y_pred_clf =clf.predict(x_test)"
      ],
      "metadata": {
        "id": "Oj9zFuJGPsdE"
      },
      "execution_count": 191,
      "outputs": []
    },
    {
      "cell_type": "code",
      "source": [
        "y_pred_clf"
      ],
      "metadata": {
        "id": "5TQLDqvDPu4E",
        "colab": {
          "base_uri": "https://localhost:8080/"
        },
        "outputId": "b6abb1ef-2cef-4799-cf12-09dc8a010051"
      },
      "execution_count": 192,
      "outputs": [
        {
          "output_type": "execute_result",
          "data": {
            "text/plain": [
              "array([1., 0., 0., 0., 0., 0., 0., 0., 1., 1., 0., 0., 0., 0., 0., 0., 0.,\n",
              "       0., 0., 1., 0., 0., 0., 0., 0., 0., 0., 0., 1., 0., 0., 0., 1., 0.,\n",
              "       0., 1., 0., 0., 0., 1., 0., 0., 0., 0., 0., 0., 0., 0., 1., 0., 0.,\n",
              "       0., 0., 0., 0., 1., 0., 1., 0., 1., 0., 1., 0., 0., 0., 0., 1., 0.,\n",
              "       0., 0., 1., 0., 1., 0., 0., 0., 0., 0., 0., 1., 0., 0., 0., 0., 0.,\n",
              "       0., 0., 0., 0., 0., 1., 0., 0., 0., 0., 0., 0., 0., 0., 0., 0., 0.,\n",
              "       0., 1., 0., 0., 0., 0., 1., 0., 0., 0., 0., 0., 0., 1., 1., 0., 0.,\n",
              "       0., 0., 0., 1., 1., 1., 1., 0., 1., 1., 0., 0., 1., 0., 0., 1., 0.,\n",
              "       0., 0., 0., 1., 0., 1., 0., 0., 0., 0., 0., 1., 0., 0., 1., 0., 1.,\n",
              "       0., 0., 1., 0., 0., 0., 1., 0., 0., 0., 0., 0., 0., 0., 0., 0., 1.,\n",
              "       0., 0., 0., 0., 0., 0., 0., 0., 0., 0., 0., 0., 0., 0., 0., 1., 1.,\n",
              "       0., 0., 0., 1., 0., 0., 0., 0., 0., 0., 0., 0., 0., 0., 0., 0., 0.,\n",
              "       1., 0., 0., 0., 0., 0., 0., 1., 0., 1., 0., 0., 0., 0., 0., 0., 1.,\n",
              "       0., 0., 0., 0., 0., 1., 0., 0., 0., 0., 0., 0., 0., 0., 0., 0., 1.,\n",
              "       1., 0., 0., 0., 0., 1., 0., 0., 0., 1., 1., 0., 0., 1., 0., 0., 0.,\n",
              "       1., 0., 0., 0., 1., 1., 0., 0., 0., 0., 0., 0., 0., 0., 1., 0., 0.,\n",
              "       1., 0., 0., 0., 0., 0., 1., 0., 0., 0., 0., 0., 0., 0., 0., 1., 0.,\n",
              "       0., 0., 0., 1., 0., 0., 0., 1., 0., 0., 0., 0., 0., 0., 0., 0., 0.,\n",
              "       0., 0., 0., 0., 0., 0., 1., 0., 0., 1., 0., 0., 0., 1., 1., 0., 1.,\n",
              "       1., 0., 1., 0., 1., 0., 0., 0., 0., 0., 1., 0., 0., 0., 0., 0., 0.,\n",
              "       0., 0., 0., 0., 0., 0., 1., 0., 0., 0., 1., 1., 0., 0., 0., 0., 1.,\n",
              "       0., 0., 0., 0., 0., 0., 0., 0., 0., 0., 0., 0., 0., 1., 0., 1., 0.,\n",
              "       0., 0., 0., 0., 0., 0., 0., 1., 0., 0., 0., 0., 0., 1., 0., 0., 0.,\n",
              "       1., 0., 0., 0., 0., 1., 0., 1., 0., 0., 0., 0., 1., 0., 0., 0., 0.,\n",
              "       0., 0., 1., 0., 0., 0., 1., 0., 0., 0., 0., 0., 0., 0., 1., 0., 0.,\n",
              "       1., 0., 0., 0., 0., 0., 0., 1., 0., 1., 1., 0., 1., 0., 0., 1., 0.,\n",
              "       0., 0., 0., 1., 0., 0., 0., 1., 1., 0., 0., 0., 0., 0., 1., 0., 0.,\n",
              "       0., 0., 0., 0., 0., 0., 0., 1., 0., 0., 0., 1., 0., 0., 0., 0., 0.,\n",
              "       0., 0., 0., 0., 0., 0., 0., 0., 1., 0., 0., 0., 0., 0., 0., 1., 0.,\n",
              "       0., 0., 0., 0., 1., 0., 1., 0., 1., 0., 0., 0., 1., 0., 0., 0., 0.,\n",
              "       0., 1., 0., 0., 0., 0., 0., 0., 0., 0., 0., 0., 1., 0., 0., 0., 0.,\n",
              "       0., 0., 0., 1., 0., 0., 0., 1., 0., 0., 0., 0., 1., 0., 0., 0., 0.,\n",
              "       0., 0., 0., 0., 0., 0., 0., 0., 0., 0., 0., 0., 0., 0., 0., 0., 0.,\n",
              "       0., 0., 1., 0., 0., 1., 0., 0., 0., 1., 0., 0., 0., 0., 0., 0., 0.,\n",
              "       0., 0., 1., 0., 0., 0., 0., 0., 1., 0., 0., 0., 1., 0., 0., 0., 0.,\n",
              "       0., 0., 0., 0., 1., 0., 0., 0., 1., 0., 0., 0., 0., 1., 0., 1., 1.,\n",
              "       0., 1., 0., 0., 0., 0., 0., 1., 0., 0., 0., 0., 0., 0., 0., 0., 0.,\n",
              "       0., 0., 0., 0., 0., 0., 0., 0., 0., 0., 0., 0., 0., 0., 1., 0., 0.,\n",
              "       0., 0., 1., 0., 1., 0., 1., 1., 0., 0., 0., 0., 0., 0., 0., 0., 0.,\n",
              "       0., 0., 0., 1., 1., 0., 1., 0., 0., 0., 0., 1., 0., 0., 0., 0., 0.,\n",
              "       0., 0., 0., 0., 0., 0., 0., 0., 0., 0., 0., 0., 0., 1., 0., 0., 0.,\n",
              "       1., 0., 0., 0., 0., 0., 0., 0., 0., 0., 1., 0., 0., 0., 0., 0., 0.,\n",
              "       0., 1., 1., 0., 0., 0., 0., 1., 0., 0., 0., 0., 1., 1., 0., 0., 0.,\n",
              "       0., 0., 1., 0., 1., 0., 0., 0., 0., 1., 0., 0., 0.])"
            ]
          },
          "metadata": {},
          "execution_count": 192
        }
      ]
    },
    {
      "cell_type": "markdown",
      "source": [
        "### Metricas"
      ],
      "metadata": {
        "id": "nJBVOWdaP5Y1"
      }
    },
    {
      "cell_type": "code",
      "source": [
        "from sklearn.metrics import accuracy_score\n",
        "accuracy_score(y_test, y_pred_clf)"
      ],
      "metadata": {
        "id": "VAEa-rvmPz0K",
        "colab": {
          "base_uri": "https://localhost:8080/"
        },
        "outputId": "0d575031-cb2c-42a2-8503-cfc9167383ab"
      },
      "execution_count": 193,
      "outputs": [
        {
          "output_type": "execute_result",
          "data": {
            "text/plain": [
              "0.7016129032258065"
            ]
          },
          "metadata": {},
          "execution_count": 193
        }
      ]
    },
    {
      "cell_type": "code",
      "source": [
        "from sklearn.metrics import precision_score\n",
        "precision_score(y_test, y_pred_clf)"
      ],
      "metadata": {
        "id": "b9CGoiHqQrxO",
        "colab": {
          "base_uri": "https://localhost:8080/"
        },
        "outputId": "f9ed1adc-4ed3-491d-e1ea-102de62fe746"
      },
      "execution_count": 194,
      "outputs": [
        {
          "output_type": "execute_result",
          "data": {
            "text/plain": [
              "0.9361702127659575"
            ]
          },
          "metadata": {},
          "execution_count": 194
        }
      ]
    },
    {
      "cell_type": "code",
      "source": [
        "from sklearn.metrics import recall_score\n",
        "recall_score(y_test, y_pred_clf)"
      ],
      "metadata": {
        "id": "3AyFEK3nQv2O",
        "colab": {
          "base_uri": "https://localhost:8080/"
        },
        "outputId": "48c1a81e-3c0b-42ca-f113-7078c64a3533"
      },
      "execution_count": 195,
      "outputs": [
        {
          "output_type": "execute_result",
          "data": {
            "text/plain": [
              "0.3826086956521739"
            ]
          },
          "metadata": {},
          "execution_count": 195
        }
      ]
    },
    {
      "cell_type": "code",
      "source": [
        "from sklearn.metrics import confusion_matrix\n",
        "plot_confusion_matrix(clf,x_test,y_test, cmap='Blues')"
      ],
      "metadata": {
        "id": "HYCOtsgAP7Vx",
        "colab": {
          "base_uri": "https://localhost:8080/",
          "height": 0
        },
        "outputId": "904f5824-f1ec-4e29-9250-95296c297c87"
      },
      "execution_count": 196,
      "outputs": [
        {
          "output_type": "execute_result",
          "data": {
            "text/plain": [
              "<sklearn.metrics._plot.confusion_matrix.ConfusionMatrixDisplay at 0x7f32ba012e90>"
            ]
          },
          "metadata": {},
          "execution_count": 196
        },
        {
          "output_type": "display_data",
          "data": {
            "text/plain": [
              "<Figure size 432x288 with 2 Axes>"
            ],
            "image/png": "[encoded data removed]"
          },
          "metadata": {
            "needs_background": "light"
          }
        }
      ]
    },
    {
      "cell_type": "markdown",
      "source": [
        "##Random Forest"
      ],
      "metadata": {
        "id": "JBbo9NueQ2c7"
      }
    },
    {
      "cell_type": "code",
      "source": [
        "from sklearn.ensemble import RandomForestClassifier\n",
        "from sklearn.metrics import plot_confusion_matrix\n",
        "\n",
        "rdf = RandomForestClassifier()\n",
        "rdf.fit(x_train, y_train)\n"
      ],
      "metadata": {
        "id": "PYI_gLXAQ5rs",
        "colab": {
          "base_uri": "https://localhost:8080/"
        },
        "outputId": "9ee38f3a-6f97-43d9-f53d-0705d993e632"
      },
      "execution_count": 197,
      "outputs": [
        {
          "output_type": "execute_result",
          "data": {
            "text/plain": [
              "RandomForestClassifier()"
            ]
          },
          "metadata": {},
          "execution_count": 197
        }
      ]
    },
    {
      "cell_type": "code",
      "source": [
        "y_pred_rdf = rdf.predict(x_test)"
      ],
      "metadata": {
        "id": "Z-SN0VCyRAyd"
      },
      "execution_count": 198,
      "outputs": []
    },
    {
      "cell_type": "markdown",
      "source": [
        "###Metricas"
      ],
      "metadata": {
        "id": "79ppsZbPRSX0"
      }
    },
    {
      "cell_type": "markdown",
      "source": [
        "Acuracia"
      ],
      "metadata": {
        "id": "Qnay7brsRUhB"
      }
    },
    {
      "cell_type": "code",
      "source": [
        "from sklearn.metrics import accuracy_score\n",
        "accuracy_score(y_test, y_pred_rdf)"
      ],
      "metadata": {
        "id": "_LyNdUN8RO66",
        "colab": {
          "base_uri": "https://localhost:8080/"
        },
        "outputId": "97e4b434-75ee-4942-ae35-08a707da7ca9"
      },
      "execution_count": 199,
      "outputs": [
        {
          "output_type": "execute_result",
          "data": {
            "text/plain": [
              "0.8978494623655914"
            ]
          },
          "metadata": {},
          "execution_count": 199
        }
      ]
    },
    {
      "cell_type": "markdown",
      "source": [
        "Precisão"
      ],
      "metadata": {
        "id": "M1Ixi_5DRXbR"
      }
    },
    {
      "cell_type": "code",
      "source": [
        "from sklearn.metrics import precision_score\n",
        "precision_score(y_test, y_pred_rdf)"
      ],
      "metadata": {
        "id": "mSRTBO9SRXAx",
        "colab": {
          "base_uri": "https://localhost:8080/"
        },
        "outputId": "7a3d6e53-0a3b-4f91-ef94-6a8316fdfbda"
      },
      "execution_count": 200,
      "outputs": [
        {
          "output_type": "execute_result",
          "data": {
            "text/plain": [
              "0.8725761772853186"
            ]
          },
          "metadata": {},
          "execution_count": 200
        }
      ]
    },
    {
      "cell_type": "markdown",
      "source": [
        "Recall"
      ],
      "metadata": {
        "id": "0KoHssB4Rd80"
      }
    },
    {
      "cell_type": "code",
      "source": [
        "from sklearn.metrics import recall_score\n",
        "recall_score(y_test, y_pred_rdf)"
      ],
      "metadata": {
        "id": "GsN_XhEYRdh6",
        "colab": {
          "base_uri": "https://localhost:8080/"
        },
        "outputId": "ac71efcd-3e09-4326-9eba-fa8a7f31a07d"
      },
      "execution_count": 201,
      "outputs": [
        {
          "output_type": "execute_result",
          "data": {
            "text/plain": [
              "0.9130434782608695"
            ]
          },
          "metadata": {},
          "execution_count": 201
        }
      ]
    },
    {
      "cell_type": "code",
      "source": [
        "plot_confusion_matrix(rdf,x_test,y_test, cmap='Blues')"
      ],
      "metadata": {
        "id": "Sc8Z1qYbRz_a",
        "colab": {
          "base_uri": "https://localhost:8080/",
          "height": 0
        },
        "outputId": "0e0dac57-1ca2-440f-90c2-d42c5255cc7b"
      },
      "execution_count": 202,
      "outputs": [
        {
          "output_type": "execute_result",
          "data": {
            "text/plain": [
              "<sklearn.metrics._plot.confusion_matrix.ConfusionMatrixDisplay at 0x7f32ba3e0ed0>"
            ]
          },
          "metadata": {},
          "execution_count": 202
        },
        {
          "output_type": "display_data",
          "data": {
            "text/plain": [
              "<Figure size 432x288 with 2 Axes>"
            ],
            "image/png": "[encoded data removed]"
          },
          "metadata": {
            "needs_background": "light"
          }
        }
      ]
    },
    {
      "cell_type": "markdown",
      "source": [],
      "metadata": {
        "id": "6wNFILDjR6Qi"
      }
    },
    {
      "cell_type": "markdown",
      "source": [
        "##Naive Bayes"
      ],
      "metadata": {
        "id": "F7aTb0FWVKlr"
      }
    },
    {
      "cell_type": "code",
      "source": [
        "from sklearn.naive_bayes import GaussianNB\n",
        "nbs = GaussianNB()\n",
        "nbs.fit(x_train, y_train)"
      ],
      "metadata": {
        "id": "emvzUyNfVPpd",
        "colab": {
          "base_uri": "https://localhost:8080/"
        },
        "outputId": "f0fb233f-1e4d-4d3f-8c63-2cad86dcb908"
      },
      "execution_count": 203,
      "outputs": [
        {
          "output_type": "execute_result",
          "data": {
            "text/plain": [
              "GaussianNB()"
            ]
          },
          "metadata": {},
          "execution_count": 203
        }
      ]
    },
    {
      "cell_type": "code",
      "source": [
        "y_pred_nbs = rdf.predict(x_test)"
      ],
      "metadata": {
        "id": "bl0oRXrDVuo9"
      },
      "execution_count": 204,
      "outputs": []
    },
    {
      "cell_type": "markdown",
      "source": [
        "###Metricas"
      ],
      "metadata": {
        "id": "1SA98sNvV08j"
      }
    },
    {
      "cell_type": "markdown",
      "source": [
        "Acuracia"
      ],
      "metadata": {
        "id": "XOpIy76MWek-"
      }
    },
    {
      "cell_type": "code",
      "source": [
        "from sklearn.metrics import accuracy_score\n",
        "accuracy_score(y_test, y_pred_nbs)"
      ],
      "metadata": {
        "id": "TARX2xdRWCBP",
        "colab": {
          "base_uri": "https://localhost:8080/"
        },
        "outputId": "ef23b804-4420-467c-86e8-fb98a7f4fdce"
      },
      "execution_count": 205,
      "outputs": [
        {
          "output_type": "execute_result",
          "data": {
            "text/plain": [
              "0.8978494623655914"
            ]
          },
          "metadata": {},
          "execution_count": 205
        }
      ]
    },
    {
      "cell_type": "markdown",
      "source": [
        "Precisão"
      ],
      "metadata": {
        "id": "JUZ3R7ARWg8S"
      }
    },
    {
      "cell_type": "code",
      "source": [
        "from sklearn.metrics import precision_score\n",
        "precision_score(y_test, y_pred_nbs)"
      ],
      "metadata": {
        "id": "X5d3z2CdWBpf",
        "colab": {
          "base_uri": "https://localhost:8080/"
        },
        "outputId": "10a7aa1c-8a36-47c0-b146-25ca5feb4ad1"
      },
      "execution_count": 206,
      "outputs": [
        {
          "output_type": "execute_result",
          "data": {
            "text/plain": [
              "0.8725761772853186"
            ]
          },
          "metadata": {},
          "execution_count": 206
        }
      ]
    },
    {
      "cell_type": "markdown",
      "source": [
        "Recall"
      ],
      "metadata": {
        "id": "nC6WXjRsWjl2"
      }
    },
    {
      "cell_type": "code",
      "source": [
        "from sklearn.metrics import recall_score\n",
        "recall_score(y_test, y_pred_nbs)"
      ],
      "metadata": {
        "id": "IBE32bXEV0kR",
        "colab": {
          "base_uri": "https://localhost:8080/"
        },
        "outputId": "92aefb70-cd97-4dd7-fbf7-faf4f2442cc2"
      },
      "execution_count": 207,
      "outputs": [
        {
          "output_type": "execute_result",
          "data": {
            "text/plain": [
              "0.9130434782608695"
            ]
          },
          "metadata": {},
          "execution_count": 207
        }
      ]
    },
    {
      "cell_type": "markdown",
      "source": [
        "###Matriz de confusão"
      ],
      "metadata": {
        "id": "aQvYHJXPWnfq"
      }
    },
    {
      "cell_type": "code",
      "source": [
        "plot_confusion_matrix(nbs,x_test,y_test, cmap='Blues')"
      ],
      "metadata": {
        "id": "t8TMFoNSWKiy",
        "colab": {
          "base_uri": "https://localhost:8080/",
          "height": 0
        },
        "outputId": "789bfef7-0e0c-4abb-f668-9a98259052bc"
      },
      "execution_count": 208,
      "outputs": [
        {
          "output_type": "execute_result",
          "data": {
            "text/plain": [
              "<sklearn.metrics._plot.confusion_matrix.ConfusionMatrixDisplay at 0x7f32b9ebb310>"
            ]
          },
          "metadata": {},
          "execution_count": 208
        },
        {
          "output_type": "display_data",
          "data": {
            "text/plain": [
              "<Figure size 432x288 with 2 Axes>"
            ],
            "image/png": "[encoded data removed]"
          },
          "metadata": {
            "needs_background": "light"
          }
        }
      ]
    },
    {
      "cell_type": "markdown",
      "source": [
        "##Regressão logistica"
      ],
      "metadata": {
        "id": "iTUTVWyqWxoh"
      }
    },
    {
      "cell_type": "code",
      "source": [
        "from sklearn.linear_model import LogisticRegression\n",
        "rgl = LogisticRegression().fit(x_train, y_train)"
      ],
      "metadata": {
        "id": "LL83bQhrW1Gq"
      },
      "execution_count": 209,
      "outputs": []
    },
    {
      "cell_type": "code",
      "source": [
        "y_pred_rgl = rgl.predict(x_test)"
      ],
      "metadata": {
        "id": "gBXFWXoiXuM3"
      },
      "execution_count": 210,
      "outputs": []
    },
    {
      "cell_type": "markdown",
      "source": [
        "###Metricas"
      ],
      "metadata": {
        "id": "MlKQif5BX1L9"
      }
    },
    {
      "cell_type": "markdown",
      "source": [
        "Acuracia"
      ],
      "metadata": {
        "id": "JYSMXnNGYJC-"
      }
    },
    {
      "cell_type": "code",
      "source": [
        "from sklearn.metrics import accuracy_score\n",
        "accuracy_score(y_test, y_pred_rgl)"
      ],
      "metadata": {
        "id": "KM5-RlKaX31i",
        "colab": {
          "base_uri": "https://localhost:8080/"
        },
        "outputId": "ca450cd4-7221-41f7-bc8d-e5e7dd92c670"
      },
      "execution_count": 211,
      "outputs": [
        {
          "output_type": "execute_result",
          "data": {
            "text/plain": [
              "0.6989247311827957"
            ]
          },
          "metadata": {},
          "execution_count": 211
        }
      ]
    },
    {
      "cell_type": "markdown",
      "source": [
        "Presizão"
      ],
      "metadata": {
        "id": "MD8YhD1WYKYV"
      }
    },
    {
      "cell_type": "code",
      "source": [
        "from sklearn.metrics import precision_score\n",
        "precision_score(y_test, y_pred_rgl)"
      ],
      "metadata": {
        "id": "h0dVtgm-X7si",
        "colab": {
          "base_uri": "https://localhost:8080/"
        },
        "outputId": "9253aa33-6b87-4935-c0d8-ee0bd81fbd9b"
      },
      "execution_count": 212,
      "outputs": [
        {
          "output_type": "execute_result",
          "data": {
            "text/plain": [
              "0.991869918699187"
            ]
          },
          "metadata": {},
          "execution_count": 212
        }
      ]
    },
    {
      "cell_type": "markdown",
      "source": [
        "Recall"
      ],
      "metadata": {
        "id": "TUKzC1LpYXQN"
      }
    },
    {
      "cell_type": "code",
      "source": [
        "from sklearn.metrics import recall_score\n",
        "recall_score(y_test, y_pred_rgl)"
      ],
      "metadata": {
        "id": "xTk1ICLtX9a9",
        "colab": {
          "base_uri": "https://localhost:8080/"
        },
        "outputId": "12329fe0-c02f-484c-e93b-3c881e57716a"
      },
      "execution_count": 213,
      "outputs": [
        {
          "output_type": "execute_result",
          "data": {
            "text/plain": [
              "0.3536231884057971"
            ]
          },
          "metadata": {},
          "execution_count": 213
        }
      ]
    },
    {
      "cell_type": "markdown",
      "source": [
        "###Matriz de confusão"
      ],
      "metadata": {
        "id": "gGxOdMKVYY-9"
      }
    },
    {
      "cell_type": "code",
      "source": [
        "plot_confusion_matrix(rgl,x_test,y_test, cmap='Blues')"
      ],
      "metadata": {
        "id": "c8aq6MkEX_wH",
        "colab": {
          "base_uri": "https://localhost:8080/",
          "height": 0
        },
        "outputId": "ed3d48d5-7abd-47b6-e201-6ac220800804"
      },
      "execution_count": 214,
      "outputs": [
        {
          "output_type": "execute_result",
          "data": {
            "text/plain": [
              "<sklearn.metrics._plot.confusion_matrix.ConfusionMatrixDisplay at 0x7f32b9e99290>"
            ]
          },
          "metadata": {},
          "execution_count": 214
        },
        {
          "output_type": "display_data",
          "data": {
            "text/plain": [
              "<Figure size 432x288 with 2 Axes>"
            ],
            "image/png": "[encoded data removed]"
          },
          "metadata": {
            "needs_background": "light"
          }
        }
      ]
    },
    {
      "cell_type": "markdown",
      "source": [
        "#Hiperparâmetros"
      ],
      "metadata": {
        "id": "GNIlLKpgZnoo"
      }
    },
    {
      "cell_type": "markdown",
      "source": [
        "#Árvore de decisão"
      ],
      "metadata": {
        "id": "gUyjgy7jGoYh"
      }
    },
    {
      "cell_type": "markdown",
      "source": [
        "##Árvore de Decisão parâmetro 1 "
      ],
      "metadata": {
        "id": "kcxXwpbZsz8y"
      }
    },
    {
      "cell_type": "code",
      "source": [
        "from sklearn.model_selection import train_test_split\n",
        "from sklearn.tree import DecisionTreeClassifier\n",
        "\n",
        "avd = DecisionTreeClassifier(criterion='entropy', random_state=42)\n",
        "avd.fit(x_train, y_train)"
      ],
      "metadata": {
        "id": "K0pxEW0Fs6b6",
        "colab": {
          "base_uri": "https://localhost:8080/"
        },
        "outputId": "74839c15-79c1-4f4c-ce76-9e923c46a356"
      },
      "execution_count": 215,
      "outputs": [
        {
          "output_type": "execute_result",
          "data": {
            "text/plain": [
              "DecisionTreeClassifier(criterion='entropy', random_state=42)"
            ]
          },
          "metadata": {},
          "execution_count": 215
        }
      ]
    },
    {
      "cell_type": "code",
      "source": [
        "y_pred_avd = avd.predict(x_test)\n",
        "y_pred_avd"
      ],
      "metadata": {
        "id": "sbsOY-iTtBvz",
        "colab": {
          "base_uri": "https://localhost:8080/"
        },
        "outputId": "f65ef61c-dc86-4240-bc92-a7df64a7f5c8"
      },
      "execution_count": 216,
      "outputs": [
        {
          "output_type": "execute_result",
          "data": {
            "text/plain": [
              "array([1., 0., 1., 1., 0., 0., 1., 0., 1., 1., 1., 1., 0., 1., 0., 0., 0.,\n",
              "       1., 0., 0., 1., 1., 0., 1., 0., 1., 1., 0., 0., 0., 1., 0., 1., 0.,\n",
              "       0., 1., 1., 0., 1., 1., 1., 1., 1., 0., 0., 1., 0., 0., 1., 0., 1.,\n",
              "       0., 0., 0., 0., 1., 1., 1., 0., 1., 0., 1., 1., 0., 1., 0., 1., 0.,\n",
              "       0., 0., 1., 0., 1., 0., 0., 0., 0., 1., 0., 1., 0., 0., 0., 1., 0.,\n",
              "       0., 0., 0., 0., 0., 1., 1., 0., 0., 0., 0., 0., 0., 0., 0., 1., 1.,\n",
              "       0., 1., 1., 1., 0., 0., 1., 1., 0., 0., 0., 0., 0., 1., 1., 0., 0.,\n",
              "       0., 1., 0., 1., 1., 0., 0., 1., 1., 0., 1., 0., 1., 1., 1., 1., 0.,\n",
              "       1., 1., 0., 1., 0., 1., 1., 0., 0., 0., 1., 1., 1., 0., 1., 1., 1.,\n",
              "       0., 0., 1., 0., 1., 1., 1., 0., 0., 1., 0., 0., 1., 1., 0., 0., 1.,\n",
              "       0., 0., 0., 0., 0., 1., 0., 1., 0., 0., 0., 1., 0., 1., 1., 1., 1.,\n",
              "       1., 1., 0., 1., 1., 0., 0., 1., 0., 0., 0., 1., 0., 0., 1., 1., 0.,\n",
              "       1., 0., 0., 0., 1., 0., 0., 1., 0., 1., 0., 0., 0., 0., 0., 0., 1.,\n",
              "       0., 0., 1., 1., 0., 1., 0., 0., 0., 0., 1., 1., 0., 0., 0., 0., 1.,\n",
              "       1., 1., 0., 0., 0., 1., 1., 0., 0., 1., 1., 0., 1., 1., 0., 0., 0.,\n",
              "       1., 1., 1., 0., 1., 1., 0., 0., 1., 0., 1., 0., 1., 0., 1., 0., 0.,\n",
              "       1., 0., 0., 0., 1., 0., 1., 1., 1., 1., 1., 0., 1., 0., 0., 1., 1.,\n",
              "       1., 0., 0., 1., 0., 0., 0., 1., 0., 1., 0., 0., 0., 0., 0., 0., 1.,\n",
              "       0., 0., 0., 1., 1., 0., 1., 0., 1., 1., 1., 1., 1., 1., 1., 0., 1.,\n",
              "       1., 1., 1., 0., 1., 1., 0., 1., 0., 0., 1., 0., 1., 0., 0., 1., 0.,\n",
              "       0., 0., 1., 0., 0., 0., 1., 1., 0., 1., 1., 1., 1., 1., 1., 1., 1.,\n",
              "       0., 1., 0., 1., 0., 1., 1., 1., 0., 0., 0., 1., 0., 1., 0., 1., 1.,\n",
              "       1., 0., 0., 0., 0., 0., 1., 1., 0., 1., 0., 1., 1., 1., 0., 1., 0.,\n",
              "       1., 1., 1., 0., 1., 1., 0., 1., 0., 0., 1., 0., 1., 1., 0., 0., 1.,\n",
              "       1., 1., 1., 1., 1., 1., 1., 1., 1., 1., 0., 0., 1., 1., 1., 0., 1.,\n",
              "       1., 0., 0., 0., 0., 0., 0., 1., 1., 1., 1., 0., 1., 0., 0., 1., 0.,\n",
              "       1., 0., 0., 1., 1., 0., 0., 1., 1., 0., 1., 0., 0., 0., 0., 1., 1.,\n",
              "       0., 0., 0., 0., 0., 1., 0., 1., 0., 1., 0., 1., 0., 1., 1., 0., 1.,\n",
              "       0., 0., 1., 0., 0., 0., 0., 1., 1., 1., 0., 1., 1., 0., 0., 1., 0.,\n",
              "       1., 0., 1., 1., 1., 1., 1., 1., 1., 0., 1., 0., 1., 0., 0., 1., 0.,\n",
              "       0., 1., 1., 1., 0., 0., 1., 0., 0., 0., 1., 1., 1., 0., 0., 0., 0.,\n",
              "       1., 1., 0., 1., 0., 0., 1., 1., 1., 0., 0., 1., 1., 0., 1., 0., 0.,\n",
              "       0., 1., 0., 1., 0., 0., 0., 1., 1., 1., 0., 0., 1., 1., 0., 0., 0.,\n",
              "       0., 1., 1., 1., 0., 1., 0., 0., 0., 1., 0., 0., 0., 1., 0., 0., 0.,\n",
              "       0., 1., 0., 0., 0., 0., 1., 0., 0., 1., 0., 0., 0., 1., 0., 1., 0.,\n",
              "       0., 1., 0., 1., 1., 0., 0., 0., 1., 1., 1., 1., 0., 1., 0., 1., 1.,\n",
              "       0., 1., 0., 1., 0., 1., 1., 1., 1., 0., 0., 0., 0., 1., 0., 0., 1.,\n",
              "       0., 0., 0., 1., 1., 0., 0., 0., 0., 1., 0., 0., 1., 0., 1., 0., 0.,\n",
              "       1., 0., 1., 1., 1., 0., 1., 1., 0., 0., 1., 1., 0., 0., 0., 0., 1.,\n",
              "       0., 0., 0., 1., 1., 0., 1., 0., 0., 1., 0., 1., 0., 0., 1., 0., 1.,\n",
              "       1., 0., 0., 0., 0., 0., 0., 0., 0., 1., 1., 1., 1., 1., 0., 0., 1.,\n",
              "       1., 1., 0., 0., 0., 1., 0., 0., 0., 0., 1., 0., 1., 1., 0., 1., 0.,\n",
              "       0., 1., 1., 1., 0., 1., 1., 1., 1., 0., 0., 1., 1., 1., 1., 1., 1.,\n",
              "       0., 0., 1., 0., 1., 1., 1., 0., 0., 1., 1., 0., 0.])"
            ]
          },
          "metadata": {},
          "execution_count": 216
        }
      ]
    },
    {
      "cell_type": "markdown",
      "source": [
        "###Métricas "
      ],
      "metadata": {
        "id": "C97IFwn4s4k4"
      }
    },
    {
      "cell_type": "code",
      "source": [
        "#Importando bibliotecas necessárias\n",
        "from sklearn.metrics import accuracy_score\n",
        "from sklearn.metrics import precision_score\n",
        "from sklearn.metrics import recall_score\n",
        "from sklearn.metrics import plot_confusion_matrix"
      ],
      "metadata": {
        "id": "b1O6X2Zwtogr"
      },
      "execution_count": 217,
      "outputs": []
    },
    {
      "cell_type": "markdown",
      "source": [
        "Acurácia"
      ],
      "metadata": {
        "id": "2NBnNxadtHJ3"
      }
    },
    {
      "cell_type": "code",
      "source": [
        "accuracy_score(y_test, y_pred_avd)"
      ],
      "metadata": {
        "id": "LWVAVlHDtGc2",
        "colab": {
          "base_uri": "https://localhost:8080/"
        },
        "outputId": "570b595e-e057-486d-95c6-addc1de2b388"
      },
      "execution_count": 218,
      "outputs": [
        {
          "output_type": "execute_result",
          "data": {
            "text/plain": [
              "0.853494623655914"
            ]
          },
          "metadata": {},
          "execution_count": 218
        }
      ]
    },
    {
      "cell_type": "markdown",
      "source": [
        "Precisão"
      ],
      "metadata": {
        "id": "5gUQjqT9tIiy"
      }
    },
    {
      "cell_type": "code",
      "source": [
        "precision_score(y_test, y_pred_avd)"
      ],
      "metadata": {
        "id": "QcZLvba7tLAd",
        "colab": {
          "base_uri": "https://localhost:8080/"
        },
        "outputId": "01c7c941-d348-4c2b-e023-e420333e14b7"
      },
      "execution_count": 219,
      "outputs": [
        {
          "output_type": "execute_result",
          "data": {
            "text/plain": [
              "0.8314606741573034"
            ]
          },
          "metadata": {},
          "execution_count": 219
        }
      ]
    },
    {
      "cell_type": "markdown",
      "source": [
        "Recall"
      ],
      "metadata": {
        "id": "26BU5RtktJ6S"
      }
    },
    {
      "cell_type": "code",
      "source": [
        "recall_score(y_test, y_pred_avd)"
      ],
      "metadata": {
        "id": "aAfNt6SptLn5",
        "colab": {
          "base_uri": "https://localhost:8080/"
        },
        "outputId": "6fc32f6b-f07e-4e6f-d573-c881aa3f8478"
      },
      "execution_count": 220,
      "outputs": [
        {
          "output_type": "execute_result",
          "data": {
            "text/plain": [
              "0.8579710144927536"
            ]
          },
          "metadata": {},
          "execution_count": 220
        }
      ]
    },
    {
      "cell_type": "markdown",
      "source": [
        "Matriz de Confusão"
      ],
      "metadata": {
        "id": "AFl04N0vtxJr"
      }
    },
    {
      "cell_type": "code",
      "source": [
        "plot_confusion_matrix(avd,x_test,y_test, cmap='Blues')"
      ],
      "metadata": {
        "id": "g4ssl5Qyt0GO",
        "colab": {
          "base_uri": "https://localhost:8080/",
          "height": 0
        },
        "outputId": "0d062307-5113-4c47-d1c7-dd39101730bd"
      },
      "execution_count": 221,
      "outputs": [
        {
          "output_type": "execute_result",
          "data": {
            "text/plain": [
              "<sklearn.metrics._plot.confusion_matrix.ConfusionMatrixDisplay at 0x7f32b9d1ae10>"
            ]
          },
          "metadata": {},
          "execution_count": 221
        },
        {
          "output_type": "display_data",
          "data": {
            "text/plain": [
              "<Figure size 432x288 with 2 Axes>"
            ],
            "image/png": "[encoded data removed]"
          },
          "metadata": {
            "needs_background": "light"
          }
        }
      ]
    },
    {
      "cell_type": "markdown",
      "source": [
        "##Árvore de Decisão parâmetro 2"
      ],
      "metadata": {
        "id": "zHvGWjzLuGs1"
      }
    },
    {
      "cell_type": "code",
      "source": [
        "avd = DecisionTreeClassifier(criterion='gini', random_state=42)\n",
        "avd.fit(x_train, y_train)"
      ],
      "metadata": {
        "id": "-D5MxKf-uLO5",
        "colab": {
          "base_uri": "https://localhost:8080/"
        },
        "outputId": "58f92bd1-946b-495f-9ed0-af57b433453f"
      },
      "execution_count": 222,
      "outputs": [
        {
          "output_type": "execute_result",
          "data": {
            "text/plain": [
              "DecisionTreeClassifier(random_state=42)"
            ]
          },
          "metadata": {},
          "execution_count": 222
        }
      ]
    },
    {
      "cell_type": "code",
      "source": [
        "y_pred_avd = avd.predict(x_test)\n",
        "y_pred_avd"
      ],
      "metadata": {
        "id": "p3ylfJBSuO6L",
        "colab": {
          "base_uri": "https://localhost:8080/"
        },
        "outputId": "5da31f12-5cd4-4276-b2ff-f7244e6d7c0f"
      },
      "execution_count": 223,
      "outputs": [
        {
          "output_type": "execute_result",
          "data": {
            "text/plain": [
              "array([1., 0., 1., 0., 0., 0., 1., 0., 1., 1., 1., 1., 0., 1., 0., 0., 0.,\n",
              "       1., 0., 1., 1., 1., 0., 1., 1., 1., 0., 0., 1., 0., 1., 0., 1., 0.,\n",
              "       0., 1., 1., 0., 1., 1., 1., 0., 1., 0., 0., 1., 0., 0., 1., 0., 1.,\n",
              "       0., 1., 0., 0., 1., 1., 1., 0., 1., 0., 1., 0., 0., 1., 1., 1., 0.,\n",
              "       0., 0., 1., 1., 1., 0., 0., 0., 0., 1., 0., 1., 0., 0., 0., 1., 0.,\n",
              "       0., 0., 0., 0., 0., 1., 1., 0., 0., 1., 0., 0., 0., 0., 0., 1., 1.,\n",
              "       0., 1., 1., 1., 0., 0., 1., 1., 0., 1., 0., 0., 0., 1., 1., 1., 0.,\n",
              "       0., 1., 0., 1., 1., 0., 0., 1., 1., 0., 0., 1., 1., 1., 0., 1., 0.,\n",
              "       1., 1., 0., 1., 0., 1., 1., 0., 0., 1., 1., 1., 1., 0., 1., 1., 1.,\n",
              "       0., 0., 1., 0., 1., 0., 1., 0., 0., 1., 0., 0., 1., 1., 0., 0., 1.,\n",
              "       0., 0., 0., 0., 0., 1., 0., 1., 0., 0., 0., 0., 0., 1., 1., 1., 1.,\n",
              "       1., 1., 1., 1., 1., 0., 0., 1., 0., 0., 0., 1., 1., 0., 1., 0., 0.,\n",
              "       1., 0., 0., 0., 1., 0., 0., 1., 0., 1., 0., 0., 1., 0., 1., 0., 1.,\n",
              "       0., 0., 1., 1., 0., 0., 0., 0., 0., 0., 1., 1., 0., 1., 0., 0., 1.,\n",
              "       1., 0., 0., 0., 0., 1., 0., 0., 1., 1., 1., 0., 1., 1., 0., 0., 0.,\n",
              "       1., 1., 1., 0., 1., 1., 0., 0., 1., 0., 1., 0., 1., 0., 1., 0., 0.,\n",
              "       1., 0., 0., 0., 1., 0., 1., 0., 1., 1., 1., 1., 1., 0., 0., 1., 1.,\n",
              "       1., 0., 0., 1., 0., 0., 0., 1., 0., 1., 0., 0., 0., 0., 0., 0., 1.,\n",
              "       0., 0., 0., 1., 1., 0., 1., 0., 1., 1., 1., 1., 1., 1., 1., 0., 1.,\n",
              "       1., 1., 1., 0., 1., 1., 0., 1., 0., 0., 1., 0., 0., 0., 0., 1., 1.,\n",
              "       0., 0., 0., 0., 0., 0., 1., 0., 0., 1., 1., 1., 1., 1., 1., 1., 1.,\n",
              "       0., 1., 0., 1., 0., 1., 1., 1., 0., 0., 0., 0., 0., 1., 0., 1., 1.,\n",
              "       1., 0., 0., 0., 0., 0., 1., 1., 0., 1., 0., 1., 1., 1., 0., 1., 0.,\n",
              "       1., 1., 1., 0., 1., 1., 0., 1., 0., 0., 1., 0., 1., 1., 0., 0., 1.,\n",
              "       1., 0., 1., 1., 1., 1., 1., 1., 1., 1., 0., 0., 1., 1., 1., 0., 1.,\n",
              "       1., 1., 0., 0., 0., 0., 0., 1., 1., 1., 1., 0., 1., 0., 0., 1., 0.,\n",
              "       1., 0., 0., 1., 1., 0., 0., 1., 1., 0., 0., 0., 0., 0., 1., 1., 1.,\n",
              "       0., 1., 0., 0., 0., 1., 1., 1., 0., 1., 1., 1., 0., 1., 1., 0., 1.,\n",
              "       0., 0., 0., 0., 0., 0., 1., 1., 1., 1., 1., 1., 1., 0., 0., 1., 0.,\n",
              "       1., 0., 1., 1., 1., 1., 1., 1., 1., 0., 1., 1., 1., 0., 0., 1., 0.,\n",
              "       0., 1., 1., 1., 0., 0., 1., 0., 1., 0., 1., 1., 1., 0., 0., 0., 0.,\n",
              "       1., 1., 1., 1., 0., 0., 1., 1., 1., 0., 0., 1., 1., 0., 0., 0., 0.,\n",
              "       0., 1., 1., 0., 1., 0., 0., 1., 0., 1., 0., 0., 1., 1., 0., 0., 0.,\n",
              "       0., 1., 1., 1., 0., 1., 0., 0., 0., 1., 0., 0., 0., 1., 0., 0., 0.,\n",
              "       0., 1., 1., 0., 0., 0., 1., 0., 0., 1., 0., 0., 1., 1., 0., 1., 0.,\n",
              "       0., 1., 1., 1., 1., 1., 0., 0., 1., 1., 1., 1., 0., 1., 0., 1., 1.,\n",
              "       0., 1., 0., 1., 0., 1., 1., 1., 0., 0., 0., 0., 0., 1., 0., 0., 1.,\n",
              "       0., 0., 1., 1., 1., 0., 0., 0., 0., 1., 0., 0., 0., 0., 1., 0., 1.,\n",
              "       1., 0., 1., 1., 1., 0., 1., 1., 0., 0., 1., 1., 0., 0., 0., 0., 1.,\n",
              "       0., 0., 0., 1., 1., 0., 1., 0., 0., 1., 0., 1., 0., 0., 0., 0., 0.,\n",
              "       1., 0., 0., 0., 0., 0., 0., 0., 0., 0., 0., 1., 1., 1., 0., 0., 1.,\n",
              "       1., 1., 0., 0., 0., 1., 0., 0., 0., 0., 1., 0., 1., 1., 1., 1., 0.,\n",
              "       0., 1., 1., 1., 0., 1., 1., 1., 1., 0., 0., 1., 1., 1., 1., 1., 1.,\n",
              "       1., 0., 1., 0., 1., 1., 1., 0., 0., 1., 0., 0., 0.])"
            ]
          },
          "metadata": {},
          "execution_count": 223
        }
      ]
    },
    {
      "cell_type": "markdown",
      "source": [
        "###Métricas"
      ],
      "metadata": {
        "id": "z0v6KM7TuR9L"
      }
    },
    {
      "cell_type": "markdown",
      "source": [
        "Acurácia"
      ],
      "metadata": {
        "id": "_hP7nYonuTv4"
      }
    },
    {
      "cell_type": "code",
      "source": [
        "accuracy_score(y_test, y_pred_avd)"
      ],
      "metadata": {
        "id": "CrscivFluYIG",
        "colab": {
          "base_uri": "https://localhost:8080/"
        },
        "outputId": "edb9dba7-ac01-4933-f963-c6b183eb0883"
      },
      "execution_count": 224,
      "outputs": [
        {
          "output_type": "execute_result",
          "data": {
            "text/plain": [
              "0.8655913978494624"
            ]
          },
          "metadata": {},
          "execution_count": 224
        }
      ]
    },
    {
      "cell_type": "markdown",
      "source": [
        "Precisão"
      ],
      "metadata": {
        "id": "e-8LUiRDuU1T"
      }
    },
    {
      "cell_type": "code",
      "source": [
        "precision_score(y_test, y_pred_avd)"
      ],
      "metadata": {
        "id": "R8M2xjFKuZ2Y",
        "colab": {
          "base_uri": "https://localhost:8080/"
        },
        "outputId": "f093839c-a079-4f5b-aa15-896e662c916c"
      },
      "execution_count": 225,
      "outputs": [
        {
          "output_type": "execute_result",
          "data": {
            "text/plain": [
              "0.8356164383561644"
            ]
          },
          "metadata": {},
          "execution_count": 225
        }
      ]
    },
    {
      "cell_type": "markdown",
      "source": [
        "Recall"
      ],
      "metadata": {
        "id": "wrJXIPZCuVzP"
      }
    },
    {
      "cell_type": "code",
      "source": [
        "recall_score(y_test, y_pred_avd)"
      ],
      "metadata": {
        "id": "4_8r4akAuc_C",
        "colab": {
          "base_uri": "https://localhost:8080/"
        },
        "outputId": "c7761db9-f3a2-429a-9fba-c53640070316"
      },
      "execution_count": 226,
      "outputs": [
        {
          "output_type": "execute_result",
          "data": {
            "text/plain": [
              "0.8840579710144928"
            ]
          },
          "metadata": {},
          "execution_count": 226
        }
      ]
    },
    {
      "cell_type": "markdown",
      "source": [
        "Matriz de Confusão"
      ],
      "metadata": {
        "id": "1QmOh2_nuWd-"
      }
    },
    {
      "cell_type": "code",
      "source": [
        "plot_confusion_matrix(avd,x_test,y_test, cmap='Blues')"
      ],
      "metadata": {
        "id": "Gj_Gn4tludwA",
        "colab": {
          "base_uri": "https://localhost:8080/",
          "height": 0
        },
        "outputId": "7c5cf585-c4a3-40e6-e7e2-f35301828628"
      },
      "execution_count": 227,
      "outputs": [
        {
          "output_type": "execute_result",
          "data": {
            "text/plain": [
              "<sklearn.metrics._plot.confusion_matrix.ConfusionMatrixDisplay at 0x7f32b9ca5cd0>"
            ]
          },
          "metadata": {},
          "execution_count": 227
        },
        {
          "output_type": "display_data",
          "data": {
            "text/plain": [
              "<Figure size 432x288 with 2 Axes>"
            ],
            "image/png": "[encoded data removed]"
          },
          "metadata": {
            "needs_background": "light"
          }
        }
      ]
    },
    {
      "cell_type": "markdown",
      "source": [
        "##Árvore de Decisão parâmetro 3"
      ],
      "metadata": {
        "id": "hOTrIoVAukqh"
      }
    },
    {
      "cell_type": "code",
      "source": [
        "avd = DecisionTreeClassifier(criterion='entropy', max_features='auto', random_state=42)\n",
        "avd.fit(x_train, y_train)"
      ],
      "metadata": {
        "id": "qA-RaoSJuoN_",
        "colab": {
          "base_uri": "https://localhost:8080/"
        },
        "outputId": "b13a18f8-728c-4465-85cb-f9502e163dae"
      },
      "execution_count": 228,
      "outputs": [
        {
          "output_type": "execute_result",
          "data": {
            "text/plain": [
              "DecisionTreeClassifier(criterion='entropy', max_features='auto',\n",
              "                       random_state=42)"
            ]
          },
          "metadata": {},
          "execution_count": 228
        }
      ]
    },
    {
      "cell_type": "code",
      "source": [
        "y_pred_avd = avd.predict(x_test)\n",
        "y_pred_avd"
      ],
      "metadata": {
        "id": "L8UaJ0akuqSK",
        "colab": {
          "base_uri": "https://localhost:8080/"
        },
        "outputId": "378142fa-cd83-429f-d996-2557f5cfb37b"
      },
      "execution_count": 229,
      "outputs": [
        {
          "output_type": "execute_result",
          "data": {
            "text/plain": [
              "array([1., 0., 1., 0., 0., 0., 0., 0., 1., 1., 1., 1., 0., 0., 0., 1., 0.,\n",
              "       1., 0., 0., 1., 1., 0., 1., 1., 0., 1., 0., 0., 0., 0., 0., 1., 0.,\n",
              "       0., 1., 1., 0., 1., 1., 1., 0., 1., 0., 1., 0., 0., 0., 1., 1., 1.,\n",
              "       0., 1., 0., 1., 1., 0., 1., 0., 1., 0., 1., 1., 0., 1., 1., 1., 0.,\n",
              "       0., 0., 1., 1., 1., 0., 0., 1., 0., 1., 0., 1., 0., 0., 0., 1., 1.,\n",
              "       0., 0., 0., 0., 0., 1., 1., 0., 1., 1., 0., 0., 0., 0., 1., 1., 1.,\n",
              "       0., 1., 1., 1., 0., 0., 1., 1., 0., 0., 0., 0., 0., 1., 1., 1., 0.,\n",
              "       0., 1., 0., 1., 1., 0., 0., 1., 1., 0., 1., 1., 1., 1., 1., 1., 0.,\n",
              "       1., 1., 0., 1., 0., 1., 1., 0., 0., 0., 1., 1., 1., 0., 0., 1., 1.,\n",
              "       0., 0., 1., 0., 1., 1., 1., 0., 0., 1., 0., 0., 1., 0., 0., 0., 1.,\n",
              "       0., 0., 0., 0., 0., 1., 0., 1., 0., 1., 0., 1., 0., 1., 1., 1., 1.,\n",
              "       1., 1., 1., 1., 1., 0., 0., 1., 0., 0., 0., 1., 0., 0., 0., 0., 0.,\n",
              "       1., 0., 1., 0., 1., 1., 0., 1., 0., 1., 0., 0., 1., 0., 0., 0., 1.,\n",
              "       1., 0., 1., 1., 0., 0., 0., 0., 0., 0., 1., 1., 0., 1., 0., 0., 1.,\n",
              "       1., 0., 0., 0., 0., 1., 0., 0., 1., 1., 1., 0., 0., 1., 0., 0., 1.,\n",
              "       1., 1., 0., 0., 1., 1., 0., 0., 1., 0., 1., 0., 1., 0., 1., 0., 0.,\n",
              "       1., 0., 1., 0., 1., 0., 1., 0., 1., 1., 1., 0., 1., 0., 0., 1., 1.,\n",
              "       1., 0., 0., 1., 0., 1., 0., 1., 0., 0., 0., 0., 1., 1., 1., 0., 1.,\n",
              "       0., 0., 1., 1., 1., 0., 1., 0., 1., 1., 0., 1., 1., 1., 1., 0., 1.,\n",
              "       1., 1., 1., 0., 0., 0., 1., 0., 0., 0., 1., 0., 0., 0., 1., 1., 1.,\n",
              "       0., 0., 0., 0., 0., 0., 1., 0., 0., 1., 1., 1., 1., 0., 1., 1., 1.,\n",
              "       0., 1., 0., 0., 0., 1., 1., 1., 0., 0., 1., 0., 1., 1., 0., 1., 1.,\n",
              "       1., 0., 0., 0., 0., 0., 1., 1., 1., 0., 0., 1., 1., 1., 0., 1., 0.,\n",
              "       1., 1., 1., 0., 1., 1., 0., 1., 0., 0., 1., 0., 1., 0., 0., 0., 1.,\n",
              "       1., 1., 1., 1., 1., 0., 1., 1., 0., 1., 0., 1., 1., 1., 1., 0., 0.,\n",
              "       1., 1., 0., 0., 0., 0., 1., 1., 1., 1., 1., 0., 1., 1., 0., 1., 0.,\n",
              "       0., 0., 1., 1., 1., 0., 0., 1., 1., 0., 0., 0., 1., 0., 0., 1., 1.,\n",
              "       0., 0., 1., 0., 1., 1., 0., 1., 0., 1., 1., 1., 1., 1., 1., 0., 0.,\n",
              "       0., 1., 1., 0., 0., 0., 1., 1., 1., 1., 1., 1., 1., 0., 1., 0., 1.,\n",
              "       1., 1., 1., 1., 1., 1., 1., 0., 1., 1., 0., 1., 1., 1., 0., 1., 0.,\n",
              "       0., 1., 1., 1., 0., 1., 1., 0., 0., 0., 1., 1., 1., 0., 0., 0., 0.,\n",
              "       1., 1., 1., 1., 0., 0., 1., 1., 1., 1., 0., 1., 1., 1., 1., 0., 0.,\n",
              "       0., 1., 0., 0., 0., 0., 0., 1., 1., 1., 1., 0., 1., 1., 0., 0., 0.,\n",
              "       0., 1., 1., 0., 0., 1., 1., 0., 0., 1., 1., 0., 0., 0., 0., 0., 0.,\n",
              "       0., 1., 1., 0., 0., 0., 0., 0., 0., 1., 0., 0., 1., 1., 0., 1., 0.,\n",
              "       0., 1., 1., 1., 1., 0., 0., 0., 1., 1., 1., 1., 0., 1., 0., 1., 1.,\n",
              "       0., 1., 0., 1., 0., 1., 0., 1., 1., 0., 0., 0., 0., 1., 1., 0., 1.,\n",
              "       0., 0., 0., 1., 0., 0., 0., 0., 0., 1., 0., 1., 0., 0., 1., 0., 0.,\n",
              "       1., 0., 1., 1., 1., 0., 1., 1., 0., 0., 1., 0., 0., 0., 1., 0., 1.,\n",
              "       0., 0., 1., 1., 1., 0., 1., 0., 0., 1., 0., 1., 0., 0., 0., 0., 1.,\n",
              "       1., 0., 0., 0., 0., 0., 0., 0., 0., 1., 1., 1., 1., 1., 1., 0., 1.,\n",
              "       1., 0., 0., 0., 0., 1., 0., 0., 0., 0., 1., 0., 1., 1., 1., 0., 0.,\n",
              "       0., 1., 1., 1., 1., 1., 1., 1., 1., 0., 0., 0., 1., 1., 1., 1., 1.,\n",
              "       0., 0., 1., 0., 1., 1., 1., 0., 0., 1., 1., 0., 1.])"
            ]
          },
          "metadata": {},
          "execution_count": 229
        }
      ]
    },
    {
      "cell_type": "markdown",
      "source": [
        "###Métricas"
      ],
      "metadata": {
        "id": "zn5lCWHyuo5q"
      }
    },
    {
      "cell_type": "markdown",
      "source": [
        "Acurácia"
      ],
      "metadata": {
        "id": "v03AhdwVu1oX"
      }
    },
    {
      "cell_type": "code",
      "source": [
        "accuracy_score(y_test, y_pred_avd)"
      ],
      "metadata": {
        "id": "bubTM73-uvtc",
        "colab": {
          "base_uri": "https://localhost:8080/"
        },
        "outputId": "34f52814-f93d-4a5f-d951-d7e812608c3c"
      },
      "execution_count": 230,
      "outputs": [
        {
          "output_type": "execute_result",
          "data": {
            "text/plain": [
              "0.8279569892473119"
            ]
          },
          "metadata": {},
          "execution_count": 230
        }
      ]
    },
    {
      "cell_type": "markdown",
      "source": [
        "Precisão "
      ],
      "metadata": {
        "id": "Tkh9HcQ1u3J2"
      }
    },
    {
      "cell_type": "code",
      "source": [
        "precision_score(y_test, y_pred_avd)"
      ],
      "metadata": {
        "id": "k2YdbecSux2W",
        "colab": {
          "base_uri": "https://localhost:8080/"
        },
        "outputId": "7015be25-8862-4fab-b2f0-fcb7506a9820"
      },
      "execution_count": 231,
      "outputs": [
        {
          "output_type": "execute_result",
          "data": {
            "text/plain": [
              "0.7877984084880637"
            ]
          },
          "metadata": {},
          "execution_count": 231
        }
      ]
    },
    {
      "cell_type": "markdown",
      "source": [
        "Recall"
      ],
      "metadata": {
        "id": "s1QzK4cVu4ZV"
      }
    },
    {
      "cell_type": "code",
      "source": [
        "recall_score(y_test, y_pred_avd)"
      ],
      "metadata": {
        "id": "meCnOWImuzl-",
        "colab": {
          "base_uri": "https://localhost:8080/"
        },
        "outputId": "b0e8276b-9805-46d0-c26e-a32645fb09a1"
      },
      "execution_count": 232,
      "outputs": [
        {
          "output_type": "execute_result",
          "data": {
            "text/plain": [
              "0.8608695652173913"
            ]
          },
          "metadata": {},
          "execution_count": 232
        }
      ]
    },
    {
      "cell_type": "markdown",
      "source": [
        "Matriz de Confusão"
      ],
      "metadata": {
        "id": "WNZoWYZSu5gW"
      }
    },
    {
      "cell_type": "code",
      "source": [
        "plot_confusion_matrix(avd,x_test,y_test, cmap='Blues')"
      ],
      "metadata": {
        "id": "iVcjtsv7u7NH",
        "colab": {
          "base_uri": "https://localhost:8080/",
          "height": 0
        },
        "outputId": "14ee62ce-133c-4e59-8e95-dbbcf860390a"
      },
      "execution_count": 233,
      "outputs": [
        {
          "output_type": "execute_result",
          "data": {
            "text/plain": [
              "<sklearn.metrics._plot.confusion_matrix.ConfusionMatrixDisplay at 0x7f32b9c44bd0>"
            ]
          },
          "metadata": {},
          "execution_count": 233
        },
        {
          "output_type": "display_data",
          "data": {
            "text/plain": [
              "<Figure size 432x288 with 2 Axes>"
            ],
            "image/png": "[encoded data removed]"
          },
          "metadata": {
            "needs_background": "light"
          }
        }
      ]
    },
    {
      "cell_type": "markdown",
      "source": [
        "##Árvore de Decisão parâmetro 4"
      ],
      "metadata": {
        "id": "SL16iQfuv3iq"
      }
    },
    {
      "cell_type": "code",
      "source": [
        "avd = DecisionTreeClassifier(criterion='entropy',max_features='log2', random_state=42)\n",
        "avd.fit(x_train, y_train)"
      ],
      "metadata": {
        "id": "SlAkSJdOv9u1",
        "colab": {
          "base_uri": "https://localhost:8080/"
        },
        "outputId": "5a220948-3ed1-4d75-91d3-0ed5799394ad"
      },
      "execution_count": 234,
      "outputs": [
        {
          "output_type": "execute_result",
          "data": {
            "text/plain": [
              "DecisionTreeClassifier(criterion='entropy', max_features='log2',\n",
              "                       random_state=42)"
            ]
          },
          "metadata": {},
          "execution_count": 234
        }
      ]
    },
    {
      "cell_type": "code",
      "source": [
        "y_pred_avd = avd.predict(x_test)\n",
        "y_pred_avd"
      ],
      "metadata": {
        "id": "l6vpS5okwDK7",
        "colab": {
          "base_uri": "https://localhost:8080/"
        },
        "outputId": "f8903a4a-2c4e-45cb-f03d-41990ba81115"
      },
      "execution_count": 235,
      "outputs": [
        {
          "output_type": "execute_result",
          "data": {
            "text/plain": [
              "array([1., 0., 1., 0., 0., 0., 0., 0., 1., 1., 1., 1., 0., 0., 0., 1., 0.,\n",
              "       1., 0., 0., 1., 1., 0., 1., 1., 0., 1., 0., 0., 0., 0., 0., 1., 0.,\n",
              "       0., 1., 1., 0., 1., 1., 1., 0., 1., 0., 1., 0., 0., 0., 1., 1., 1.,\n",
              "       0., 1., 0., 1., 1., 0., 1., 0., 1., 0., 1., 1., 0., 1., 1., 1., 0.,\n",
              "       0., 0., 1., 1., 1., 0., 0., 1., 0., 1., 0., 1., 0., 0., 0., 1., 1.,\n",
              "       0., 0., 0., 0., 0., 1., 1., 0., 1., 1., 0., 0., 0., 0., 1., 1., 1.,\n",
              "       0., 1., 1., 1., 0., 0., 1., 1., 0., 0., 0., 0., 0., 1., 1., 1., 0.,\n",
              "       0., 1., 0., 1., 1., 0., 0., 1., 1., 0., 1., 1., 1., 1., 1., 1., 0.,\n",
              "       1., 1., 0., 1., 0., 1., 1., 0., 0., 0., 1., 1., 1., 0., 0., 1., 1.,\n",
              "       0., 0., 1., 0., 1., 1., 1., 0., 0., 1., 0., 0., 1., 0., 0., 0., 1.,\n",
              "       0., 0., 0., 0., 0., 1., 0., 1., 0., 1., 0., 1., 0., 1., 1., 1., 1.,\n",
              "       1., 1., 1., 1., 1., 0., 0., 1., 0., 0., 0., 1., 0., 0., 0., 0., 0.,\n",
              "       1., 0., 1., 0., 1., 1., 0., 1., 0., 1., 0., 0., 1., 0., 0., 0., 1.,\n",
              "       1., 0., 1., 1., 0., 0., 0., 0., 0., 0., 1., 1., 0., 1., 0., 0., 1.,\n",
              "       1., 0., 0., 0., 0., 1., 0., 0., 1., 1., 1., 0., 0., 1., 0., 0., 1.,\n",
              "       1., 1., 0., 0., 1., 1., 0., 0., 1., 0., 1., 0., 1., 0., 1., 0., 0.,\n",
              "       1., 0., 1., 0., 1., 0., 1., 0., 1., 1., 1., 0., 1., 0., 0., 1., 1.,\n",
              "       1., 0., 0., 1., 0., 1., 0., 1., 0., 0., 0., 0., 1., 1., 1., 0., 1.,\n",
              "       0., 0., 1., 1., 1., 0., 1., 0., 1., 1., 0., 1., 1., 1., 1., 0., 1.,\n",
              "       1., 1., 1., 0., 0., 0., 1., 0., 0., 0., 1., 0., 0., 0., 1., 1., 1.,\n",
              "       0., 0., 0., 0., 0., 0., 1., 0., 0., 1., 1., 1., 1., 0., 1., 1., 1.,\n",
              "       0., 1., 0., 0., 0., 1., 1., 1., 0., 0., 1., 0., 1., 1., 0., 1., 1.,\n",
              "       1., 0., 0., 0., 0., 0., 1., 1., 1., 0., 0., 1., 1., 1., 0., 1., 0.,\n",
              "       1., 1., 1., 0., 1., 1., 0., 1., 0., 0., 1., 0., 1., 0., 0., 0., 1.,\n",
              "       1., 1., 1., 1., 1., 0., 1., 1., 0., 1., 0., 1., 1., 1., 1., 0., 0.,\n",
              "       1., 1., 0., 0., 0., 0., 1., 1., 1., 1., 1., 0., 1., 1., 0., 1., 0.,\n",
              "       0., 0., 1., 1., 1., 0., 0., 1., 1., 0., 0., 0., 1., 0., 0., 1., 1.,\n",
              "       0., 0., 1., 0., 1., 1., 0., 1., 0., 1., 1., 1., 1., 1., 1., 0., 0.,\n",
              "       0., 1., 1., 0., 0., 0., 1., 1., 1., 1., 1., 1., 1., 0., 1., 0., 1.,\n",
              "       1., 1., 1., 1., 1., 1., 1., 0., 1., 1., 0., 1., 1., 1., 0., 1., 0.,\n",
              "       0., 1., 1., 1., 0., 1., 1., 0., 0., 0., 1., 1., 1., 0., 0., 0., 0.,\n",
              "       1., 1., 1., 1., 0., 0., 1., 1., 1., 1., 0., 1., 1., 1., 1., 0., 0.,\n",
              "       0., 1., 0., 0., 0., 0., 0., 1., 1., 1., 1., 0., 1., 1., 0., 0., 0.,\n",
              "       0., 1., 1., 0., 0., 1., 1., 0., 0., 1., 1., 0., 0., 0., 0., 0., 0.,\n",
              "       0., 1., 1., 0., 0., 0., 0., 0., 0., 1., 0., 0., 1., 1., 0., 1., 0.,\n",
              "       0., 1., 1., 1., 1., 0., 0., 0., 1., 1., 1., 1., 0., 1., 0., 1., 1.,\n",
              "       0., 1., 0., 1., 0., 1., 0., 1., 1., 0., 0., 0., 0., 1., 1., 0., 1.,\n",
              "       0., 0., 0., 1., 0., 0., 0., 0., 0., 1., 0., 1., 0., 0., 1., 0., 0.,\n",
              "       1., 0., 1., 1., 1., 0., 1., 1., 0., 0., 1., 0., 0., 0., 1., 0., 1.,\n",
              "       0., 0., 1., 1., 1., 0., 1., 0., 0., 1., 0., 1., 0., 0., 0., 0., 1.,\n",
              "       1., 0., 0., 0., 0., 0., 0., 0., 0., 1., 1., 1., 1., 1., 1., 0., 1.,\n",
              "       1., 0., 0., 0., 0., 1., 0., 0., 0., 0., 1., 0., 1., 1., 1., 0., 0.,\n",
              "       0., 1., 1., 1., 1., 1., 1., 1., 1., 0., 0., 0., 1., 1., 1., 1., 1.,\n",
              "       0., 0., 1., 0., 1., 1., 1., 0., 0., 1., 1., 0., 1.])"
            ]
          },
          "metadata": {},
          "execution_count": 235
        }
      ]
    },
    {
      "cell_type": "markdown",
      "source": [
        "###Métricas"
      ],
      "metadata": {
        "id": "Awuc7a5Cv8G2"
      }
    },
    {
      "cell_type": "markdown",
      "source": [
        "Acurácia"
      ],
      "metadata": {
        "id": "iWwGz8kPwNoX"
      }
    },
    {
      "cell_type": "code",
      "source": [
        "accuracy_score(y_test, y_pred_avd)"
      ],
      "metadata": {
        "id": "jG0lKvnYv646",
        "colab": {
          "base_uri": "https://localhost:8080/"
        },
        "outputId": "ff419fb6-8dde-4952-ae2f-76826fdfb655"
      },
      "execution_count": 236,
      "outputs": [
        {
          "output_type": "execute_result",
          "data": {
            "text/plain": [
              "0.8279569892473119"
            ]
          },
          "metadata": {},
          "execution_count": 236
        }
      ]
    },
    {
      "cell_type": "markdown",
      "source": [
        "Precisão"
      ],
      "metadata": {
        "id": "7DE31PzmwVHT"
      }
    },
    {
      "cell_type": "code",
      "source": [
        "precision_score(y_test, y_pred_avd)"
      ],
      "metadata": {
        "id": "EfIwSDbFwGmc",
        "colab": {
          "base_uri": "https://localhost:8080/"
        },
        "outputId": "c1652831-6a54-4f80-ede0-9d50510a45e8"
      },
      "execution_count": 237,
      "outputs": [
        {
          "output_type": "execute_result",
          "data": {
            "text/plain": [
              "0.7877984084880637"
            ]
          },
          "metadata": {},
          "execution_count": 237
        }
      ]
    },
    {
      "cell_type": "markdown",
      "source": [
        "Recall"
      ],
      "metadata": {
        "id": "z_BkeqmVwPAa"
      }
    },
    {
      "cell_type": "code",
      "source": [
        "recall_score(y_test, y_pred_avd)"
      ],
      "metadata": {
        "id": "EH6aSZyIwHt7",
        "colab": {
          "base_uri": "https://localhost:8080/"
        },
        "outputId": "a10ee61d-f4b5-4f23-8eb1-8b384e48d966"
      },
      "execution_count": 238,
      "outputs": [
        {
          "output_type": "execute_result",
          "data": {
            "text/plain": [
              "0.8608695652173913"
            ]
          },
          "metadata": {},
          "execution_count": 238
        }
      ]
    },
    {
      "cell_type": "markdown",
      "source": [
        "Matriz de Confusão"
      ],
      "metadata": {
        "id": "LZVbkLjFwWmS"
      }
    },
    {
      "cell_type": "code",
      "source": [
        "plot_confusion_matrix(avd,x_test,y_test, cmap='Blues')"
      ],
      "metadata": {
        "id": "WMf_9643wJUX",
        "colab": {
          "base_uri": "https://localhost:8080/",
          "height": 0
        },
        "outputId": "01d07c63-5c6b-4995-f747-b18697c63951"
      },
      "execution_count": 239,
      "outputs": [
        {
          "output_type": "execute_result",
          "data": {
            "text/plain": [
              "<sklearn.metrics._plot.confusion_matrix.ConfusionMatrixDisplay at 0x7f32bd59a250>"
            ]
          },
          "metadata": {},
          "execution_count": 239
        },
        {
          "output_type": "display_data",
          "data": {
            "text/plain": [
              "<Figure size 432x288 with 2 Axes>"
            ],
            "image/png": "[encoded data removed]"
          },
          "metadata": {
            "needs_background": "light"
          }
        }
      ]
    },
    {
      "cell_type": "markdown",
      "source": [
        "##Árvore de Decisão parâmetro 5"
      ],
      "metadata": {
        "id": "-3aL8FR6wbh0"
      }
    },
    {
      "cell_type": "code",
      "source": [
        "avd = DecisionTreeClassifier(criterion='entropy',max_features='sqrt', random_state=42)\n",
        "avd.fit(x_train, y_train)"
      ],
      "metadata": {
        "id": "zkQqpK8mweGI",
        "colab": {
          "base_uri": "https://localhost:8080/"
        },
        "outputId": "ccb09702-6a27-4e0a-8a87-10a50687b577"
      },
      "execution_count": 240,
      "outputs": [
        {
          "output_type": "execute_result",
          "data": {
            "text/plain": [
              "DecisionTreeClassifier(criterion='entropy', max_features='sqrt',\n",
              "                       random_state=42)"
            ]
          },
          "metadata": {},
          "execution_count": 240
        }
      ]
    },
    {
      "cell_type": "code",
      "source": [
        "y_pred_avd = avd.predict(x_test)\n",
        "y_pred_avd"
      ],
      "metadata": {
        "id": "OL0OTnq4wggt",
        "colab": {
          "base_uri": "https://localhost:8080/"
        },
        "outputId": "1b42b7d2-4e74-4e61-acf0-32055b301336"
      },
      "execution_count": 241,
      "outputs": [
        {
          "output_type": "execute_result",
          "data": {
            "text/plain": [
              "array([1., 0., 1., 0., 0., 0., 0., 0., 1., 1., 1., 1., 0., 0., 0., 1., 0.,\n",
              "       1., 0., 0., 1., 1., 0., 1., 1., 0., 1., 0., 0., 0., 0., 0., 1., 0.,\n",
              "       0., 1., 1., 0., 1., 1., 1., 0., 1., 0., 1., 0., 0., 0., 1., 1., 1.,\n",
              "       0., 1., 0., 1., 1., 0., 1., 0., 1., 0., 1., 1., 0., 1., 1., 1., 0.,\n",
              "       0., 0., 1., 1., 1., 0., 0., 1., 0., 1., 0., 1., 0., 0., 0., 1., 1.,\n",
              "       0., 0., 0., 0., 0., 1., 1., 0., 1., 1., 0., 0., 0., 0., 1., 1., 1.,\n",
              "       0., 1., 1., 1., 0., 0., 1., 1., 0., 0., 0., 0., 0., 1., 1., 1., 0.,\n",
              "       0., 1., 0., 1., 1., 0., 0., 1., 1., 0., 1., 1., 1., 1., 1., 1., 0.,\n",
              "       1., 1., 0., 1., 0., 1., 1., 0., 0., 0., 1., 1., 1., 0., 0., 1., 1.,\n",
              "       0., 0., 1., 0., 1., 1., 1., 0., 0., 1., 0., 0., 1., 0., 0., 0., 1.,\n",
              "       0., 0., 0., 0., 0., 1., 0., 1., 0., 1., 0., 1., 0., 1., 1., 1., 1.,\n",
              "       1., 1., 1., 1., 1., 0., 0., 1., 0., 0., 0., 1., 0., 0., 0., 0., 0.,\n",
              "       1., 0., 1., 0., 1., 1., 0., 1., 0., 1., 0., 0., 1., 0., 0., 0., 1.,\n",
              "       1., 0., 1., 1., 0., 0., 0., 0., 0., 0., 1., 1., 0., 1., 0., 0., 1.,\n",
              "       1., 0., 0., 0., 0., 1., 0., 0., 1., 1., 1., 0., 0., 1., 0., 0., 1.,\n",
              "       1., 1., 0., 0., 1., 1., 0., 0., 1., 0., 1., 0., 1., 0., 1., 0., 0.,\n",
              "       1., 0., 1., 0., 1., 0., 1., 0., 1., 1., 1., 0., 1., 0., 0., 1., 1.,\n",
              "       1., 0., 0., 1., 0., 1., 0., 1., 0., 0., 0., 0., 1., 1., 1., 0., 1.,\n",
              "       0., 0., 1., 1., 1., 0., 1., 0., 1., 1., 0., 1., 1., 1., 1., 0., 1.,\n",
              "       1., 1., 1., 0., 0., 0., 1., 0., 0., 0., 1., 0., 0., 0., 1., 1., 1.,\n",
              "       0., 0., 0., 0., 0., 0., 1., 0., 0., 1., 1., 1., 1., 0., 1., 1., 1.,\n",
              "       0., 1., 0., 0., 0., 1., 1., 1., 0., 0., 1., 0., 1., 1., 0., 1., 1.,\n",
              "       1., 0., 0., 0., 0., 0., 1., 1., 1., 0., 0., 1., 1., 1., 0., 1., 0.,\n",
              "       1., 1., 1., 0., 1., 1., 0., 1., 0., 0., 1., 0., 1., 0., 0., 0., 1.,\n",
              "       1., 1., 1., 1., 1., 0., 1., 1., 0., 1., 0., 1., 1., 1., 1., 0., 0.,\n",
              "       1., 1., 0., 0., 0., 0., 1., 1., 1., 1., 1., 0., 1., 1., 0., 1., 0.,\n",
              "       0., 0., 1., 1., 1., 0., 0., 1., 1., 0., 0., 0., 1., 0., 0., 1., 1.,\n",
              "       0., 0., 1., 0., 1., 1., 0., 1., 0., 1., 1., 1., 1., 1., 1., 0., 0.,\n",
              "       0., 1., 1., 0., 0., 0., 1., 1., 1., 1., 1., 1., 1., 0., 1., 0., 1.,\n",
              "       1., 1., 1., 1., 1., 1., 1., 0., 1., 1., 0., 1., 1., 1., 0., 1., 0.,\n",
              "       0., 1., 1., 1., 0., 1., 1., 0., 0., 0., 1., 1., 1., 0., 0., 0., 0.,\n",
              "       1., 1., 1., 1., 0., 0., 1., 1., 1., 1., 0., 1., 1., 1., 1., 0., 0.,\n",
              "       0., 1., 0., 0., 0., 0., 0., 1., 1., 1., 1., 0., 1., 1., 0., 0., 0.,\n",
              "       0., 1., 1., 0., 0., 1., 1., 0., 0., 1., 1., 0., 0., 0., 0., 0., 0.,\n",
              "       0., 1., 1., 0., 0., 0., 0., 0., 0., 1., 0., 0., 1., 1., 0., 1., 0.,\n",
              "       0., 1., 1., 1., 1., 0., 0., 0., 1., 1., 1., 1., 0., 1., 0., 1., 1.,\n",
              "       0., 1., 0., 1., 0., 1., 0., 1., 1., 0., 0., 0., 0., 1., 1., 0., 1.,\n",
              "       0., 0., 0., 1., 0., 0., 0., 0., 0., 1., 0., 1., 0., 0., 1., 0., 0.,\n",
              "       1., 0., 1., 1., 1., 0., 1., 1., 0., 0., 1., 0., 0., 0., 1., 0., 1.,\n",
              "       0., 0., 1., 1., 1., 0., 1., 0., 0., 1., 0., 1., 0., 0., 0., 0., 1.,\n",
              "       1., 0., 0., 0., 0., 0., 0., 0., 0., 1., 1., 1., 1., 1., 1., 0., 1.,\n",
              "       1., 0., 0., 0., 0., 1., 0., 0., 0., 0., 1., 0., 1., 1., 1., 0., 0.,\n",
              "       0., 1., 1., 1., 1., 1., 1., 1., 1., 0., 0., 0., 1., 1., 1., 1., 1.,\n",
              "       0., 0., 1., 0., 1., 1., 1., 0., 0., 1., 1., 0., 1.])"
            ]
          },
          "metadata": {},
          "execution_count": 241
        }
      ]
    },
    {
      "cell_type": "markdown",
      "source": [
        "###Métricas"
      ],
      "metadata": {
        "id": "e2Tx7fwpwhZj"
      }
    },
    {
      "cell_type": "markdown",
      "source": [
        "Precisão"
      ],
      "metadata": {
        "id": "eoUIgoQlwisJ"
      }
    },
    {
      "cell_type": "code",
      "source": [
        "accuracy_score(y_test, y_pred_avd)"
      ],
      "metadata": {
        "id": "JgnIwuyDwjhW",
        "colab": {
          "base_uri": "https://localhost:8080/"
        },
        "outputId": "5c1ec00e-ab18-47b8-9d6b-d15c99dcea62"
      },
      "execution_count": 242,
      "outputs": [
        {
          "output_type": "execute_result",
          "data": {
            "text/plain": [
              "0.8279569892473119"
            ]
          },
          "metadata": {},
          "execution_count": 242
        }
      ]
    },
    {
      "cell_type": "markdown",
      "source": [
        "Precisão"
      ],
      "metadata": {
        "id": "9WVi3VZYwn-D"
      }
    },
    {
      "cell_type": "code",
      "source": [
        "precision_score(y_test, y_pred_avd)"
      ],
      "metadata": {
        "id": "07EZFIKqwl3l",
        "colab": {
          "base_uri": "https://localhost:8080/"
        },
        "outputId": "1206d756-507a-4e41-e51a-3631b961a0b4"
      },
      "execution_count": 243,
      "outputs": [
        {
          "output_type": "execute_result",
          "data": {
            "text/plain": [
              "0.7877984084880637"
            ]
          },
          "metadata": {},
          "execution_count": 243
        }
      ]
    },
    {
      "cell_type": "markdown",
      "source": [
        "Recall"
      ],
      "metadata": {
        "id": "Z5qLShkjwlBF"
      }
    },
    {
      "cell_type": "code",
      "source": [
        "recall_score(y_test, y_pred_avd)"
      ],
      "metadata": {
        "id": "hwVx-JB7wpF0",
        "colab": {
          "base_uri": "https://localhost:8080/"
        },
        "outputId": "98256a99-090c-4755-f679-e19f280a7cf2"
      },
      "execution_count": 244,
      "outputs": [
        {
          "output_type": "execute_result",
          "data": {
            "text/plain": [
              "0.8608695652173913"
            ]
          },
          "metadata": {},
          "execution_count": 244
        }
      ]
    },
    {
      "cell_type": "markdown",
      "source": [
        "Matriz de Confusão"
      ],
      "metadata": {
        "id": "CqGE_i5jwrmu"
      }
    },
    {
      "cell_type": "code",
      "source": [
        "plot_confusion_matrix(avd,x_test,y_test, cmap='Blues')"
      ],
      "metadata": {
        "id": "ZTsZFiBWws-Y",
        "colab": {
          "base_uri": "https://localhost:8080/",
          "height": 0
        },
        "outputId": "e76f1136-9cdf-460c-b083-ceb47aa6ef8b"
      },
      "execution_count": 245,
      "outputs": [
        {
          "output_type": "execute_result",
          "data": {
            "text/plain": [
              "<sklearn.metrics._plot.confusion_matrix.ConfusionMatrixDisplay at 0x7f32baa79dd0>"
            ]
          },
          "metadata": {},
          "execution_count": 245
        },
        {
          "output_type": "display_data",
          "data": {
            "text/plain": [
              "<Figure size 432x288 with 2 Axes>"
            ],
            "image/png": "[encoded data removed]"
          },
          "metadata": {
            "needs_background": "light"
          }
        }
      ]
    },
    {
      "cell_type": "markdown",
      "source": [
        "#KNN"
      ],
      "metadata": {
        "id": "lcITkY94Gr9x"
      }
    },
    {
      "cell_type": "markdown",
      "source": [
        "##KNN parâmetro 1"
      ],
      "metadata": {
        "id": "17jZX9Pdw1kg"
      }
    },
    {
      "cell_type": "code",
      "source": [
        "from sklearn.neighbors import KNeighborsClassifier\n",
        "\n",
        "kn_n = KNeighborsClassifier(n_neighbors=10,\n",
        "                            weights='uniform')\n",
        "kn_n.fit(x_train, y_train)"
      ],
      "metadata": {
        "id": "FDDmT1wdw4HU",
        "colab": {
          "base_uri": "https://localhost:8080/"
        },
        "outputId": "75cf45ab-9983-4e1a-bda9-084b7502a158"
      },
      "execution_count": 246,
      "outputs": [
        {
          "output_type": "execute_result",
          "data": {
            "text/plain": [
              "KNeighborsClassifier(n_neighbors=10)"
            ]
          },
          "metadata": {},
          "execution_count": 246
        }
      ]
    },
    {
      "cell_type": "code",
      "source": [
        "y_prev_knn = kn_n.predict(x_test)\n",
        "y_prev_knn"
      ],
      "metadata": {
        "id": "jz900yM3xcRa",
        "colab": {
          "base_uri": "https://localhost:8080/"
        },
        "outputId": "59266931-0b50-4b28-9286-aeb0bcf22cfe"
      },
      "execution_count": 247,
      "outputs": [
        {
          "output_type": "execute_result",
          "data": {
            "text/plain": [
              "array([1., 1., 1., 0., 0., 1., 1., 0., 1., 1., 1., 1., 0., 1., 0., 0., 0.,\n",
              "       1., 0., 1., 1., 0., 0., 1., 1., 1., 1., 0., 0., 1., 1., 0., 1., 0.,\n",
              "       0., 1., 1., 0., 1., 1., 1., 1., 1., 0., 1., 1., 0., 0., 1., 1., 1.,\n",
              "       0., 0., 1., 1., 1., 0., 1., 0., 1., 0., 1., 1., 0., 1., 1., 1., 0.,\n",
              "       0., 0., 1., 1., 1., 0., 0., 1., 0., 1., 0., 1., 0., 1., 0., 1., 1.,\n",
              "       1., 0., 0., 0., 0., 1., 1., 0., 0., 1., 0., 0., 0., 1., 0., 1., 1.,\n",
              "       0., 1., 1., 1., 0., 0., 1., 1., 0., 1., 0., 0., 0., 1., 1., 1., 0.,\n",
              "       1., 1., 0., 1., 1., 1., 0., 1., 1., 0., 1., 0., 1., 1., 1., 1., 0.,\n",
              "       1., 1., 0., 1., 0., 1., 1., 0., 0., 0., 1., 1., 1., 0., 1., 1., 1.,\n",
              "       0., 1., 1., 0., 1., 1., 1., 0., 0., 1., 0., 0., 1., 0., 0., 1., 1.,\n",
              "       0., 0., 0., 0., 0., 1., 0., 1., 0., 0., 0., 1., 0., 1., 1., 1., 1.,\n",
              "       1., 0., 1., 1., 1., 1., 0., 1., 0., 0., 0., 1., 1., 0., 1., 1., 1.,\n",
              "       1., 0., 1., 0., 1., 1., 0., 1., 0., 1., 0., 0., 1., 0., 0., 1., 1.,\n",
              "       1., 0., 1., 1., 0., 1., 0., 0., 0., 0., 1., 1., 0., 1., 0., 0., 1.,\n",
              "       1., 1., 0., 0., 0., 1., 1., 1., 0., 1., 1., 0., 1., 1., 0., 0., 1.,\n",
              "       1., 0., 1., 0., 1., 1., 0., 0., 0., 0., 1., 0., 1., 1., 1., 0., 0.,\n",
              "       1., 0., 1., 0., 1., 0., 1., 1., 1., 1., 1., 1., 1., 0., 0., 1., 1.,\n",
              "       1., 1., 1., 1., 0., 1., 0., 1., 1., 1., 0., 0., 1., 1., 0., 1., 1.,\n",
              "       0., 0., 1., 1., 1., 0., 1., 0., 1., 1., 1., 0., 1., 1., 1., 0., 1.,\n",
              "       1., 1., 1., 0., 1., 1., 1., 0., 1., 0., 1., 0., 0., 0., 1., 1., 1.,\n",
              "       0., 1., 1., 0., 0., 0., 1., 0., 0., 1., 1., 1., 1., 1., 1., 1., 1.,\n",
              "       0., 1., 1., 1., 0., 1., 0., 1., 0., 0., 1., 0., 0., 1., 0., 1., 1.,\n",
              "       1., 0., 0., 0., 0., 0., 1., 1., 1., 1., 0., 1., 1., 1., 0., 1., 0.,\n",
              "       1., 0., 1., 0., 1., 1., 0., 1., 0., 0., 1., 0., 1., 0., 0., 0., 0.,\n",
              "       1., 1., 1., 0., 1., 1., 1., 1., 1., 1., 0., 1., 1., 1., 1., 0., 1.,\n",
              "       1., 0., 0., 0., 0., 0., 1., 1., 1., 1., 1., 0., 1., 1., 0., 1., 1.,\n",
              "       1., 1., 1., 1., 1., 0., 0., 1., 1., 0., 1., 0., 1., 1., 1., 1., 1.,\n",
              "       0., 0., 1., 1., 0., 1., 1., 1., 0., 1., 1., 1., 0., 1., 1., 0., 0.,\n",
              "       0., 0., 1., 0., 0., 0., 1., 1., 1., 1., 1., 1., 1., 0., 0., 1., 1.,\n",
              "       1., 0., 1., 1., 1., 1., 1., 1., 1., 1., 1., 1., 1., 1., 0., 1., 0.,\n",
              "       0., 1., 1., 1., 0., 1., 1., 0., 1., 0., 1., 1., 1., 1., 0., 0., 0.,\n",
              "       1., 1., 1., 1., 1., 0., 1., 1., 1., 0., 1., 1., 1., 1., 1., 0., 0.,\n",
              "       0., 0., 0., 0., 0., 0., 0., 1., 0., 1., 0., 0., 0., 0., 0., 1., 0.,\n",
              "       0., 1., 1., 0., 0., 1., 0., 0., 0., 1., 1., 0., 0., 0., 0., 0., 1.,\n",
              "       0., 1., 1., 0., 0., 0., 0., 0., 0., 1., 0., 0., 0., 1., 0., 1., 0.,\n",
              "       0., 1., 1., 1., 1., 1., 1., 0., 0., 1., 1., 1., 0., 1., 0., 1., 1.,\n",
              "       0., 1., 0., 1., 0., 1., 1., 1., 1., 0., 0., 0., 0., 0., 0., 0., 1.,\n",
              "       1., 0., 1., 1., 1., 0., 0., 0., 0., 0., 0., 1., 1., 0., 1., 0., 0.,\n",
              "       1., 0., 1., 1., 1., 0., 1., 1., 0., 0., 1., 1., 0., 0., 1., 0., 1.,\n",
              "       0., 0., 1., 1., 1., 0., 1., 1., 0., 1., 0., 1., 0., 0., 1., 0., 1.,\n",
              "       1., 0., 0., 0., 0., 1., 0., 0., 0., 1., 0., 1., 1., 1., 0., 0., 1.,\n",
              "       1., 1., 0., 0., 1., 1., 0., 0., 0., 0., 1., 0., 1., 1., 1., 1., 0.,\n",
              "       0., 1., 1., 0., 0., 1., 1., 1., 1., 0., 0., 0., 1., 1., 1., 1., 1.,\n",
              "       1., 1., 1., 1., 1., 1., 1., 0., 0., 1., 1., 0., 1.])"
            ]
          },
          "metadata": {},
          "execution_count": 247
        }
      ]
    },
    {
      "cell_type": "markdown",
      "source": [
        "###Métricas"
      ],
      "metadata": {
        "id": "Zei6JmxAxhcS"
      }
    },
    {
      "cell_type": "markdown",
      "source": [
        "Acurácia"
      ],
      "metadata": {
        "id": "gC6FgN7VDIpR"
      }
    },
    {
      "cell_type": "code",
      "source": [
        "accuracy_score(y_test, y_prev_knn)"
      ],
      "metadata": {
        "id": "7CKYOVjJDNuW",
        "colab": {
          "base_uri": "https://localhost:8080/"
        },
        "outputId": "2b2744df-4ba2-4512-eac7-3498ebcccfc7"
      },
      "execution_count": 248,
      "outputs": [
        {
          "output_type": "execute_result",
          "data": {
            "text/plain": [
              "0.8239247311827957"
            ]
          },
          "metadata": {},
          "execution_count": 248
        }
      ]
    },
    {
      "cell_type": "markdown",
      "source": [
        "Precisão "
      ],
      "metadata": {
        "id": "MLR_-xXKDJ3T"
      }
    },
    {
      "cell_type": "code",
      "source": [
        "precision_score(y_test, y_prev_knn)"
      ],
      "metadata": {
        "id": "sh69khH9DSck",
        "colab": {
          "base_uri": "https://localhost:8080/"
        },
        "outputId": "9506434b-e43b-49f2-a4cd-a6d6bd460002"
      },
      "execution_count": 249,
      "outputs": [
        {
          "output_type": "execute_result",
          "data": {
            "text/plain": [
              "0.7523584905660378"
            ]
          },
          "metadata": {},
          "execution_count": 249
        }
      ]
    },
    {
      "cell_type": "markdown",
      "source": [
        "Recall"
      ],
      "metadata": {
        "id": "fUe-BQVkDK23"
      }
    },
    {
      "cell_type": "code",
      "source": [
        "recall_score(y_test, y_prev_knn)"
      ],
      "metadata": {
        "id": "0IYsAFDTDUUT",
        "colab": {
          "base_uri": "https://localhost:8080/"
        },
        "outputId": "9cd32b70-db21-4b4b-94cd-cede54b30cbe"
      },
      "execution_count": 250,
      "outputs": [
        {
          "output_type": "execute_result",
          "data": {
            "text/plain": [
              "0.9246376811594202"
            ]
          },
          "metadata": {},
          "execution_count": 250
        }
      ]
    },
    {
      "cell_type": "markdown",
      "source": [
        "Matriz de Confusão"
      ],
      "metadata": {
        "id": "QrnPnwwdDLdb"
      }
    },
    {
      "cell_type": "code",
      "source": [
        "plot_confusion_matrix(kn_n,x_test,y_test, cmap='Blues')"
      ],
      "metadata": {
        "id": "d8HEsjOsDWCt",
        "colab": {
          "base_uri": "https://localhost:8080/",
          "height": 0
        },
        "outputId": "b1d5f6b2-2c3c-4eb2-92cf-860070866bec"
      },
      "execution_count": 251,
      "outputs": [
        {
          "output_type": "execute_result",
          "data": {
            "text/plain": [
              "<sklearn.metrics._plot.confusion_matrix.ConfusionMatrixDisplay at 0x7f32b9b01550>"
            ]
          },
          "metadata": {},
          "execution_count": 251
        },
        {
          "output_type": "display_data",
          "data": {
            "text/plain": [
              "<Figure size 432x288 with 2 Axes>"
            ],
            "image/png": "[encoded data removed]"
          },
          "metadata": {
            "needs_background": "light"
          }
        }
      ]
    },
    {
      "cell_type": "markdown",
      "source": [
        "##KNN parâmetro 2"
      ],
      "metadata": {
        "id": "24LmMtU7DYOv"
      }
    },
    {
      "cell_type": "code",
      "source": [
        "kn_n = KNeighborsClassifier(n_neighbors=10,\n",
        "                            weights='distance')\n",
        "kn_n.fit(x_train, y_train)"
      ],
      "metadata": {
        "id": "e94TFne-DdUx",
        "colab": {
          "base_uri": "https://localhost:8080/"
        },
        "outputId": "4d713e63-ca9b-4f12-9270-bd0aa851999a"
      },
      "execution_count": 252,
      "outputs": [
        {
          "output_type": "execute_result",
          "data": {
            "text/plain": [
              "KNeighborsClassifier(n_neighbors=10, weights='distance')"
            ]
          },
          "metadata": {},
          "execution_count": 252
        }
      ]
    },
    {
      "cell_type": "code",
      "source": [
        "y_prev_knn = kn_n.predict(x_test)\n",
        "y_prev_knn"
      ],
      "metadata": {
        "id": "2F3Vhfu7DjLM",
        "colab": {
          "base_uri": "https://localhost:8080/"
        },
        "outputId": "f4f685c3-492b-4d4e-92c5-83d6383f40ca"
      },
      "execution_count": 253,
      "outputs": [
        {
          "output_type": "execute_result",
          "data": {
            "text/plain": [
              "array([1., 1., 1., 0., 0., 1., 1., 0., 1., 1., 1., 1., 0., 1., 0., 0., 0.,\n",
              "       1., 0., 1., 1., 0., 0., 1., 1., 1., 1., 0., 0., 1., 1., 0., 1., 0.,\n",
              "       0., 1., 1., 0., 1., 1., 1., 1., 1., 0., 1., 1., 0., 0., 1., 1., 1.,\n",
              "       0., 1., 1., 1., 1., 0., 1., 0., 1., 0., 1., 1., 0., 1., 1., 1., 0.,\n",
              "       0., 0., 1., 1., 1., 0., 0., 1., 0., 1., 0., 1., 0., 1., 0., 1., 1.,\n",
              "       1., 0., 0., 0., 0., 1., 1., 0., 1., 1., 0., 0., 0., 1., 0., 1., 1.,\n",
              "       0., 1., 1., 1., 0., 0., 1., 1., 0., 1., 0., 0., 0., 1., 1., 1., 0.,\n",
              "       1., 1., 0., 1., 1., 1., 0., 1., 1., 0., 1., 1., 1., 1., 1., 1., 0.,\n",
              "       1., 1., 0., 1., 0., 1., 1., 0., 0., 1., 1., 1., 1., 0., 1., 1., 1.,\n",
              "       0., 1., 1., 0., 1., 1., 1., 0., 0., 1., 0., 0., 1., 1., 0., 1., 1.,\n",
              "       0., 0., 0., 0., 0., 1., 0., 1., 0., 0., 0., 1., 1., 1., 1., 1., 1.,\n",
              "       1., 0., 1., 1., 1., 1., 0., 1., 0., 0., 0., 1., 1., 0., 1., 1., 1.,\n",
              "       1., 0., 1., 0., 1., 1., 0., 1., 0., 1., 0., 0., 1., 0., 0., 1., 1.,\n",
              "       1., 1., 1., 1., 0., 1., 0., 0., 0., 0., 1., 1., 0., 1., 0., 0., 1.,\n",
              "       1., 1., 0., 0., 0., 1., 1., 1., 0., 1., 1., 0., 1., 1., 0., 0., 1.,\n",
              "       1., 1., 1., 0., 1., 1., 0., 0., 0., 0., 1., 0., 1., 0., 1., 0., 0.,\n",
              "       1., 0., 1., 0., 1., 0., 1., 1., 1., 1., 1., 1., 1., 0., 0., 1., 1.,\n",
              "       1., 1., 1., 1., 0., 1., 0., 1., 1., 1., 0., 0., 1., 1., 0., 1., 1.,\n",
              "       0., 0., 1., 1., 1., 0., 1., 0., 1., 1., 1., 0., 1., 1., 1., 0., 1.,\n",
              "       1., 1., 1., 0., 1., 1., 1., 1., 1., 0., 1., 0., 0., 0., 1., 1., 1.,\n",
              "       0., 1., 1., 0., 0., 0., 1., 0., 0., 1., 1., 1., 1., 1., 1., 1., 1.,\n",
              "       0., 1., 1., 1., 0., 1., 1., 1., 0., 0., 1., 0., 0., 1., 0., 1., 1.,\n",
              "       1., 0., 0., 0., 0., 0., 1., 1., 1., 1., 0., 1., 1., 1., 0., 1., 0.,\n",
              "       1., 0., 1., 0., 1., 1., 0., 1., 0., 0., 1., 0., 1., 0., 0., 0., 0.,\n",
              "       1., 1., 1., 0., 1., 1., 1., 1., 1., 1., 0., 1., 1., 1., 1., 0., 1.,\n",
              "       1., 1., 0., 0., 1., 0., 1., 1., 1., 1., 1., 0., 1., 1., 0., 1., 1.,\n",
              "       1., 1., 1., 1., 1., 0., 0., 1., 1., 0., 1., 0., 1., 1., 1., 1., 1.,\n",
              "       0., 0., 1., 1., 0., 1., 1., 1., 0., 1., 1., 1., 0., 1., 1., 0., 0.,\n",
              "       0., 1., 1., 0., 0., 0., 1., 1., 1., 1., 1., 1., 1., 0., 0., 1., 1.,\n",
              "       1., 0., 1., 1., 1., 1., 1., 1., 1., 1., 1., 1., 1., 1., 0., 1., 0.,\n",
              "       0., 1., 1., 1., 0., 0., 1., 0., 1., 0., 1., 1., 1., 0., 0., 0., 0.,\n",
              "       1., 1., 1., 1., 1., 0., 1., 1., 1., 0., 1., 1., 1., 1., 1., 0., 0.,\n",
              "       0., 1., 0., 0., 0., 0., 0., 1., 0., 1., 1., 0., 0., 0., 0., 1., 0.,\n",
              "       0., 1., 1., 1., 0., 1., 0., 0., 0., 1., 1., 0., 0., 0., 0., 0., 1.,\n",
              "       0., 1., 1., 0., 0., 0., 0., 0., 0., 1., 0., 0., 0., 1., 0., 1., 0.,\n",
              "       0., 1., 1., 1., 1., 1., 1., 0., 0., 0., 1., 1., 0., 1., 0., 1., 1.,\n",
              "       0., 1., 0., 1., 0., 1., 1., 1., 1., 0., 0., 0., 0., 0., 0., 0., 1.,\n",
              "       1., 0., 1., 1., 1., 0., 0., 0., 0., 0., 0., 1., 1., 0., 1., 0., 0.,\n",
              "       1., 0., 1., 1., 1., 0., 1., 1., 0., 0., 1., 1., 0., 0., 1., 0., 1.,\n",
              "       0., 0., 1., 1., 1., 0., 1., 1., 0., 1., 0., 1., 0., 0., 1., 0., 1.,\n",
              "       1., 0., 0., 0., 0., 1., 0., 0., 0., 1., 1., 1., 1., 1., 0., 0., 1.,\n",
              "       1., 1., 0., 0., 1., 1., 0., 0., 0., 0., 1., 0., 1., 1., 1., 1., 0.,\n",
              "       0., 1., 1., 1., 0., 1., 1., 1., 1., 0., 0., 0., 1., 1., 1., 1., 1.,\n",
              "       1., 1., 1., 0., 1., 1., 1., 0., 0., 1., 1., 0., 1.])"
            ]
          },
          "metadata": {},
          "execution_count": 253
        }
      ]
    },
    {
      "cell_type": "markdown",
      "source": [
        "### Métricas"
      ],
      "metadata": {
        "id": "p_jVlWdpDmJD"
      }
    },
    {
      "cell_type": "markdown",
      "source": [
        "Acurácia"
      ],
      "metadata": {
        "id": "AcHNpo7SDnhH"
      }
    },
    {
      "cell_type": "code",
      "source": [
        "accuracy_score(y_test, y_prev_knn)"
      ],
      "metadata": {
        "id": "aEMH5aJPDlte",
        "colab": {
          "base_uri": "https://localhost:8080/"
        },
        "outputId": "5b149b73-9b6a-4bbb-8337-0ac530b98fc2"
      },
      "execution_count": 254,
      "outputs": [
        {
          "output_type": "execute_result",
          "data": {
            "text/plain": [
              "0.8360215053763441"
            ]
          },
          "metadata": {},
          "execution_count": 254
        }
      ]
    },
    {
      "cell_type": "markdown",
      "source": [
        "Precisão "
      ],
      "metadata": {
        "id": "b56-s9YkDs_o"
      }
    },
    {
      "cell_type": "code",
      "source": [
        "precision_score(y_test, y_prev_knn)"
      ],
      "metadata": {
        "id": "JgabO89gDvOz",
        "colab": {
          "base_uri": "https://localhost:8080/"
        },
        "outputId": "3f1157cf-cc21-4d29-e3e1-6f1deb0d350a"
      },
      "execution_count": 255,
      "outputs": [
        {
          "output_type": "execute_result",
          "data": {
            "text/plain": [
              "0.7551487414187643"
            ]
          },
          "metadata": {},
          "execution_count": 255
        }
      ]
    },
    {
      "cell_type": "markdown",
      "source": [
        "Recall"
      ],
      "metadata": {
        "id": "FlHW9XmHDt7S"
      }
    },
    {
      "cell_type": "code",
      "source": [
        "recall_score(y_test, y_prev_knn)"
      ],
      "metadata": {
        "id": "a00y37jeDw__",
        "colab": {
          "base_uri": "https://localhost:8080/"
        },
        "outputId": "7dd2578a-7ba5-47eb-ca19-a3e4b8630c05"
      },
      "execution_count": 256,
      "outputs": [
        {
          "output_type": "execute_result",
          "data": {
            "text/plain": [
              "0.9565217391304348"
            ]
          },
          "metadata": {},
          "execution_count": 256
        }
      ]
    },
    {
      "cell_type": "markdown",
      "source": [
        "Matriz de Confusão"
      ],
      "metadata": {
        "id": "WluinZYJDzVk"
      }
    },
    {
      "cell_type": "code",
      "source": [
        "plot_confusion_matrix(kn_n,x_test,y_test, cmap='Blues')"
      ],
      "metadata": {
        "id": "5TI9e1fcD1dL",
        "colab": {
          "base_uri": "https://localhost:8080/",
          "height": 0
        },
        "outputId": "68cd095d-ea13-4890-b54e-ac6bd71fd04c"
      },
      "execution_count": 257,
      "outputs": [
        {
          "output_type": "execute_result",
          "data": {
            "text/plain": [
              "<sklearn.metrics._plot.confusion_matrix.ConfusionMatrixDisplay at 0x7f32b9a316d0>"
            ]
          },
          "metadata": {},
          "execution_count": 257
        },
        {
          "output_type": "display_data",
          "data": {
            "text/plain": [
              "<Figure size 432x288 with 2 Axes>"
            ],
            "image/png": "[encoded data removed]"
          },
          "metadata": {
            "needs_background": "light"
          }
        }
      ]
    },
    {
      "cell_type": "markdown",
      "source": [
        "##KNN parâmetro 3"
      ],
      "metadata": {
        "id": "cbpxKwdpD4YC"
      }
    },
    {
      "cell_type": "code",
      "source": [
        "kn_n = KNeighborsClassifier(leaf_size=30,\n",
        "                            algorithm='ball_tree')\n",
        "kn_n.fit(x_train, y_train)"
      ],
      "metadata": {
        "id": "fjQKsebfD9V7",
        "colab": {
          "base_uri": "https://localhost:8080/"
        },
        "outputId": "677b129c-110e-4bf5-9259-abddc4125228"
      },
      "execution_count": 258,
      "outputs": [
        {
          "output_type": "execute_result",
          "data": {
            "text/plain": [
              "KNeighborsClassifier(algorithm='ball_tree')"
            ]
          },
          "metadata": {},
          "execution_count": 258
        }
      ]
    },
    {
      "cell_type": "code",
      "source": [
        "y_prev_knn = kn_n.predict(x_test)\n",
        "y_prev_knn"
      ],
      "metadata": {
        "id": "AKZ1H9lHE3ug",
        "colab": {
          "base_uri": "https://localhost:8080/"
        },
        "outputId": "fe5d48cd-4ef6-4e3b-c5ec-17dd55c8892f"
      },
      "execution_count": 259,
      "outputs": [
        {
          "output_type": "execute_result",
          "data": {
            "text/plain": [
              "array([1., 1., 1., 0., 0., 1., 1., 0., 1., 1., 1., 1., 0., 1., 0., 0., 0.,\n",
              "       1., 0., 1., 1., 0., 0., 1., 1., 1., 1., 0., 0., 1., 1., 1., 1., 0.,\n",
              "       0., 1., 1., 0., 1., 1., 1., 1., 1., 0., 1., 1., 0., 0., 1., 1., 1.,\n",
              "       0., 1., 1., 1., 1., 0., 1., 0., 1., 0., 1., 0., 0., 1., 0., 1., 0.,\n",
              "       0., 0., 1., 1., 1., 0., 0., 1., 0., 1., 0., 1., 0., 1., 0., 1., 1.,\n",
              "       1., 0., 0., 0., 0., 1., 1., 0., 0., 1., 0., 0., 0., 1., 0., 1., 1.,\n",
              "       0., 1., 0., 1., 0., 0., 1., 1., 0., 0., 0., 0., 0., 1., 1., 1., 0.,\n",
              "       1., 1., 0., 1., 1., 1., 0., 1., 1., 0., 1., 1., 1., 1., 1., 1., 0.,\n",
              "       1., 1., 0., 1., 0., 1., 1., 0., 0., 1., 1., 1., 1., 0., 1., 1., 1.,\n",
              "       0., 1., 1., 0., 1., 1., 1., 1., 0., 1., 0., 0., 1., 1., 0., 0., 1.,\n",
              "       0., 0., 1., 0., 0., 1., 0., 1., 0., 0., 0., 1., 1., 0., 1., 1., 1.,\n",
              "       1., 0., 0., 1., 1., 0., 0., 1., 0., 0., 0., 1., 1., 0., 1., 1., 1.,\n",
              "       1., 0., 1., 0., 1., 1., 0., 1., 0., 1., 0., 0., 1., 0., 1., 1., 1.,\n",
              "       1., 1., 1., 1., 0., 1., 0., 0., 0., 0., 1., 1., 0., 1., 0., 0., 1.,\n",
              "       1., 1., 0., 0., 0., 1., 1., 1., 0., 1., 1., 0., 1., 1., 0., 0., 1.,\n",
              "       1., 1., 1., 0., 1., 1., 0., 0., 0., 0., 1., 0., 1., 1., 1., 0., 0.,\n",
              "       1., 0., 1., 0., 1., 0., 1., 1., 1., 1., 1., 1., 1., 0., 0., 1., 1.,\n",
              "       1., 0., 1., 1., 0., 0., 0., 1., 1., 1., 0., 0., 1., 1., 0., 1., 1.,\n",
              "       0., 0., 1., 1., 1., 0., 1., 0., 1., 1., 1., 0., 1., 1., 1., 0., 1.,\n",
              "       1., 1., 1., 0., 1., 1., 1., 1., 1., 0., 1., 0., 0., 0., 1., 1., 1.,\n",
              "       0., 1., 1., 0., 0., 0., 1., 0., 0., 1., 1., 1., 1., 1., 1., 1., 1.,\n",
              "       0., 1., 1., 1., 0., 0., 0., 1., 0., 0., 1., 0., 0., 1., 0., 1., 1.,\n",
              "       1., 0., 0., 0., 0., 0., 1., 1., 1., 1., 0., 1., 1., 1., 0., 0., 1.,\n",
              "       1., 0., 1., 0., 1., 1., 0., 1., 0., 0., 1., 0., 1., 0., 0., 0., 0.,\n",
              "       1., 1., 1., 0., 1., 1., 1., 1., 1., 1., 0., 1., 1., 1., 1., 0., 0.,\n",
              "       1., 1., 0., 1., 1., 0., 1., 1., 1., 1., 1., 0., 1., 1., 0., 1., 1.,\n",
              "       1., 1., 1., 1., 1., 0., 0., 1., 1., 0., 1., 0., 1., 1., 1., 1., 1.,\n",
              "       0., 0., 0., 1., 0., 1., 1., 1., 0., 1., 1., 1., 0., 1., 1., 0., 0.,\n",
              "       0., 0., 1., 0., 0., 0., 1., 1., 1., 1., 1., 1., 1., 0., 0., 1., 0.,\n",
              "       1., 0., 1., 1., 1., 1., 1., 1., 1., 1., 1., 1., 1., 0., 0., 1., 0.,\n",
              "       0., 1., 0., 1., 0., 1., 1., 0., 0., 0., 1., 1., 1., 0., 0., 0., 0.,\n",
              "       0., 1., 1., 1., 1., 0., 1., 1., 1., 0., 1., 1., 1., 1., 1., 0., 0.,\n",
              "       0., 1., 0., 0., 0., 0., 0., 1., 0., 1., 1., 0., 0., 0., 1., 1., 0.,\n",
              "       0., 1., 1., 1., 0., 1., 0., 0., 0., 1., 1., 0., 0., 0., 0., 0., 0.,\n",
              "       0., 1., 1., 0., 0., 0., 0., 0., 0., 1., 0., 1., 0., 1., 0., 1., 0.,\n",
              "       0., 1., 1., 1., 1., 1., 1., 0., 0., 0., 1., 1., 0., 1., 0., 1., 1.,\n",
              "       0., 1., 0., 1., 0., 1., 1., 1., 1., 0., 0., 0., 0., 0., 0., 0., 1.,\n",
              "       1., 0., 0., 1., 1., 0., 0., 0., 0., 0., 0., 1., 1., 0., 1., 0., 0.,\n",
              "       1., 0., 1., 1., 1., 0., 1., 1., 0., 0., 1., 1., 0., 0., 1., 0., 1.,\n",
              "       0., 0., 1., 1., 1., 0., 1., 1., 0., 1., 0., 1., 0., 0., 1., 0., 0.,\n",
              "       1., 0., 0., 0., 0., 1., 0., 1., 0., 0., 1., 1., 1., 1., 0., 0., 1.,\n",
              "       1., 1., 0., 0., 1., 1., 0., 0., 0., 0., 1., 0., 1., 1., 1., 1., 0.,\n",
              "       0., 1., 1., 1., 0., 1., 1., 1., 1., 0., 0., 0., 1., 1., 1., 1., 1.,\n",
              "       1., 1., 1., 0., 1., 1., 1., 0., 0., 1., 1., 0., 1.])"
            ]
          },
          "metadata": {},
          "execution_count": 259
        }
      ]
    },
    {
      "cell_type": "markdown",
      "source": [
        "###Métricas"
      ],
      "metadata": {
        "id": "lrnW6LFuE9Ki"
      }
    },
    {
      "cell_type": "markdown",
      "source": [
        "Acurácia"
      ],
      "metadata": {
        "id": "Q3YIbBzrE-YN"
      }
    },
    {
      "cell_type": "code",
      "source": [
        "accuracy_score(y_test, y_prev_knn)"
      ],
      "metadata": {
        "id": "sbINg_xnFDUV",
        "colab": {
          "base_uri": "https://localhost:8080/"
        },
        "outputId": "9d12f76a-abc5-4cdf-e613-1ede03d7c85b"
      },
      "execution_count": 260,
      "outputs": [
        {
          "output_type": "execute_result",
          "data": {
            "text/plain": [
              "0.831989247311828"
            ]
          },
          "metadata": {},
          "execution_count": 260
        }
      ]
    },
    {
      "cell_type": "markdown",
      "source": [
        "Precisão"
      ],
      "metadata": {
        "id": "pOLGtkuxE_fF"
      }
    },
    {
      "cell_type": "code",
      "source": [
        "precision_score(y_test, y_prev_knn)"
      ],
      "metadata": {
        "id": "WrprtlR5FJHr",
        "colab": {
          "base_uri": "https://localhost:8080/"
        },
        "outputId": "52fa0ad3-777a-4954-c1ec-e8e8f36853e2"
      },
      "execution_count": 261,
      "outputs": [
        {
          "output_type": "execute_result",
          "data": {
            "text/plain": [
              "0.7606635071090048"
            ]
          },
          "metadata": {},
          "execution_count": 261
        }
      ]
    },
    {
      "cell_type": "markdown",
      "source": [
        "Recall"
      ],
      "metadata": {
        "id": "SpMg9b4cFBQF"
      }
    },
    {
      "cell_type": "code",
      "source": [
        "recall_score(y_test, y_prev_knn)"
      ],
      "metadata": {
        "id": "7o5znDzOFK5G",
        "colab": {
          "base_uri": "https://localhost:8080/"
        },
        "outputId": "1a6fd65c-2a62-4132-9123-512352de7aac"
      },
      "execution_count": 262,
      "outputs": [
        {
          "output_type": "execute_result",
          "data": {
            "text/plain": [
              "0.9304347826086956"
            ]
          },
          "metadata": {},
          "execution_count": 262
        }
      ]
    },
    {
      "cell_type": "markdown",
      "source": [
        "Matriz de Confusão"
      ],
      "metadata": {
        "id": "O41v9nBwFB7H"
      }
    },
    {
      "cell_type": "code",
      "source": [
        "plot_confusion_matrix(kn_n,x_test,y_test, cmap='Blues')"
      ],
      "metadata": {
        "id": "tQHv8fOaFeT8",
        "colab": {
          "base_uri": "https://localhost:8080/",
          "height": 0
        },
        "outputId": "19578bee-75c2-4be0-81fd-e3ee094c6001"
      },
      "execution_count": 263,
      "outputs": [
        {
          "output_type": "execute_result",
          "data": {
            "text/plain": [
              "<sklearn.metrics._plot.confusion_matrix.ConfusionMatrixDisplay at 0x7f32b99abd10>"
            ]
          },
          "metadata": {},
          "execution_count": 263
        },
        {
          "output_type": "display_data",
          "data": {
            "text/plain": [
              "<Figure size 432x288 with 2 Axes>"
            ],
            "image/png": "[encoded data removed]"
          },
          "metadata": {
            "needs_background": "light"
          }
        }
      ]
    },
    {
      "cell_type": "markdown",
      "source": [
        "##KNN parametro 4"
      ],
      "metadata": {
        "id": "xeyBUy_tFg8T"
      }
    },
    {
      "cell_type": "code",
      "source": [
        "kn_n = KNeighborsClassifier(leaf_size=30,\n",
        "                            algorithm='kd_tree')\n",
        "kn_n.fit(x_train, y_train)"
      ],
      "metadata": {
        "id": "jHaO9gbeFlaf",
        "colab": {
          "base_uri": "https://localhost:8080/"
        },
        "outputId": "691af387-1dc6-416d-e05f-c7e36f14cbbb"
      },
      "execution_count": 264,
      "outputs": [
        {
          "output_type": "execute_result",
          "data": {
            "text/plain": [
              "KNeighborsClassifier(algorithm='kd_tree')"
            ]
          },
          "metadata": {},
          "execution_count": 264
        }
      ]
    },
    {
      "cell_type": "code",
      "source": [
        "y_prev_knn = kn_n.predict(x_test)\n",
        "y_prev_knn"
      ],
      "metadata": {
        "id": "lldYfqlPFpIE",
        "colab": {
          "base_uri": "https://localhost:8080/"
        },
        "outputId": "1b79112e-fcf5-486f-a41e-99c43f0a9b44"
      },
      "execution_count": 265,
      "outputs": [
        {
          "output_type": "execute_result",
          "data": {
            "text/plain": [
              "array([1., 1., 1., 0., 0., 1., 1., 0., 1., 1., 1., 1., 0., 1., 0., 0., 0.,\n",
              "       1., 0., 1., 1., 0., 0., 1., 1., 1., 1., 0., 0., 1., 1., 1., 1., 0.,\n",
              "       0., 1., 1., 0., 1., 1., 1., 1., 1., 0., 1., 1., 0., 0., 1., 1., 1.,\n",
              "       0., 1., 1., 1., 1., 0., 1., 0., 1., 0., 1., 0., 0., 1., 0., 1., 0.,\n",
              "       0., 0., 1., 1., 1., 0., 0., 1., 0., 1., 0., 1., 0., 1., 0., 1., 1.,\n",
              "       1., 0., 0., 0., 0., 1., 1., 0., 0., 1., 0., 0., 0., 1., 0., 1., 1.,\n",
              "       0., 1., 0., 1., 0., 0., 1., 1., 0., 0., 0., 0., 0., 1., 1., 1., 0.,\n",
              "       1., 1., 0., 1., 1., 1., 0., 1., 1., 0., 1., 1., 1., 1., 1., 1., 0.,\n",
              "       1., 1., 0., 1., 0., 1., 1., 0., 0., 1., 1., 1., 1., 0., 1., 1., 1.,\n",
              "       0., 1., 1., 0., 1., 1., 1., 1., 0., 1., 0., 0., 1., 1., 0., 0., 1.,\n",
              "       0., 0., 1., 0., 0., 1., 0., 1., 0., 0., 0., 1., 1., 0., 1., 1., 1.,\n",
              "       1., 0., 0., 1., 1., 0., 0., 1., 0., 0., 0., 1., 1., 0., 1., 1., 1.,\n",
              "       1., 0., 1., 0., 1., 1., 0., 1., 0., 1., 0., 0., 1., 0., 1., 1., 1.,\n",
              "       1., 1., 1., 1., 0., 1., 0., 0., 0., 0., 1., 1., 0., 1., 0., 0., 1.,\n",
              "       1., 1., 0., 0., 0., 1., 1., 1., 0., 1., 1., 0., 1., 1., 0., 0., 1.,\n",
              "       1., 1., 1., 0., 1., 1., 0., 0., 0., 0., 1., 0., 1., 1., 1., 0., 0.,\n",
              "       1., 0., 1., 0., 1., 0., 1., 1., 1., 1., 1., 1., 1., 0., 0., 1., 1.,\n",
              "       1., 0., 1., 1., 0., 0., 0., 1., 1., 1., 0., 0., 1., 1., 0., 1., 1.,\n",
              "       0., 0., 1., 1., 1., 0., 1., 0., 1., 1., 1., 0., 1., 1., 1., 0., 1.,\n",
              "       1., 1., 1., 0., 1., 1., 1., 1., 1., 0., 1., 0., 0., 0., 1., 1., 1.,\n",
              "       0., 1., 1., 0., 0., 0., 1., 0., 0., 1., 1., 1., 1., 1., 1., 1., 1.,\n",
              "       0., 1., 1., 1., 0., 0., 0., 1., 0., 0., 1., 0., 0., 1., 0., 1., 1.,\n",
              "       1., 0., 0., 0., 0., 0., 1., 1., 1., 1., 0., 1., 1., 1., 0., 0., 1.,\n",
              "       1., 0., 1., 0., 1., 1., 0., 1., 0., 0., 1., 0., 1., 0., 0., 0., 0.,\n",
              "       1., 1., 1., 0., 1., 1., 1., 1., 1., 1., 0., 1., 1., 1., 1., 0., 0.,\n",
              "       1., 1., 0., 1., 1., 0., 1., 1., 1., 1., 1., 0., 1., 1., 0., 1., 1.,\n",
              "       1., 1., 1., 1., 1., 0., 0., 1., 1., 0., 1., 0., 1., 1., 1., 1., 1.,\n",
              "       0., 0., 0., 1., 0., 1., 1., 1., 0., 1., 1., 1., 0., 1., 1., 0., 0.,\n",
              "       0., 0., 1., 0., 0., 0., 1., 1., 1., 1., 1., 1., 1., 0., 0., 1., 0.,\n",
              "       1., 0., 1., 1., 1., 1., 1., 1., 1., 1., 1., 1., 1., 0., 0., 1., 0.,\n",
              "       0., 1., 0., 1., 0., 1., 1., 0., 0., 0., 1., 1., 1., 0., 0., 0., 0.,\n",
              "       0., 1., 1., 1., 1., 0., 1., 1., 1., 0., 1., 1., 1., 1., 1., 0., 0.,\n",
              "       0., 1., 0., 0., 0., 0., 0., 1., 0., 1., 1., 0., 0., 0., 1., 1., 0.,\n",
              "       0., 1., 1., 1., 0., 1., 0., 0., 0., 1., 1., 0., 0., 0., 0., 0., 0.,\n",
              "       0., 1., 1., 0., 0., 0., 0., 0., 0., 1., 0., 1., 0., 1., 0., 1., 0.,\n",
              "       0., 1., 1., 1., 1., 1., 1., 0., 0., 0., 1., 1., 0., 1., 0., 1., 1.,\n",
              "       0., 1., 0., 1., 0., 1., 1., 1., 1., 0., 0., 0., 0., 0., 0., 0., 1.,\n",
              "       1., 0., 0., 1., 1., 0., 0., 0., 0., 0., 0., 1., 1., 0., 1., 0., 0.,\n",
              "       1., 0., 1., 1., 1., 0., 1., 1., 0., 0., 1., 1., 0., 0., 1., 0., 1.,\n",
              "       0., 0., 1., 1., 1., 0., 1., 1., 0., 1., 0., 1., 0., 0., 1., 0., 0.,\n",
              "       1., 0., 0., 0., 0., 1., 0., 1., 0., 0., 1., 1., 1., 1., 0., 0., 1.,\n",
              "       1., 1., 0., 0., 1., 1., 0., 0., 0., 0., 1., 0., 1., 1., 1., 1., 0.,\n",
              "       0., 1., 1., 1., 0., 1., 1., 1., 1., 0., 0., 0., 1., 1., 1., 1., 1.,\n",
              "       1., 1., 1., 0., 1., 1., 1., 0., 0., 1., 1., 0., 1.])"
            ]
          },
          "metadata": {},
          "execution_count": 265
        }
      ]
    },
    {
      "cell_type": "markdown",
      "source": [
        "###Métricas"
      ],
      "metadata": {
        "id": "HUAC2N8yFrWm"
      }
    },
    {
      "cell_type": "markdown",
      "source": [
        "Acurácia"
      ],
      "metadata": {
        "id": "XqdVgAY5Fs9X"
      }
    },
    {
      "cell_type": "code",
      "source": [
        "accuracy_score(y_test, y_prev_knn)"
      ],
      "metadata": {
        "id": "nEmijiDFFuEb",
        "colab": {
          "base_uri": "https://localhost:8080/"
        },
        "outputId": "8cf46a7d-dae7-4cec-cd35-001ecd083b73"
      },
      "execution_count": 266,
      "outputs": [
        {
          "output_type": "execute_result",
          "data": {
            "text/plain": [
              "0.831989247311828"
            ]
          },
          "metadata": {},
          "execution_count": 266
        }
      ]
    },
    {
      "cell_type": "markdown",
      "source": [
        "Precisão"
      ],
      "metadata": {
        "id": "ErazmiSQFuhs"
      }
    },
    {
      "cell_type": "code",
      "source": [
        "precision_score(y_test, y_prev_knn)"
      ],
      "metadata": {
        "id": "5aMHWSETFv2t",
        "colab": {
          "base_uri": "https://localhost:8080/"
        },
        "outputId": "4e8edd97-f38c-4c2a-909b-c0031498345e"
      },
      "execution_count": 267,
      "outputs": [
        {
          "output_type": "execute_result",
          "data": {
            "text/plain": [
              "0.7606635071090048"
            ]
          },
          "metadata": {},
          "execution_count": 267
        }
      ]
    },
    {
      "cell_type": "markdown",
      "source": [
        "Recall"
      ],
      "metadata": {
        "id": "VU88MjJBFyaj"
      }
    },
    {
      "cell_type": "code",
      "source": [
        "recall_score(y_test, y_prev_knn)"
      ],
      "metadata": {
        "id": "O-3VhLEkF0oH",
        "colab": {
          "base_uri": "https://localhost:8080/"
        },
        "outputId": "81d9f557-47da-4c72-8874-38b6d7366d6b"
      },
      "execution_count": 268,
      "outputs": [
        {
          "output_type": "execute_result",
          "data": {
            "text/plain": [
              "0.9304347826086956"
            ]
          },
          "metadata": {},
          "execution_count": 268
        }
      ]
    },
    {
      "cell_type": "markdown",
      "source": [
        "Matriz de Confusão"
      ],
      "metadata": {
        "id": "0PXq3FM8F5eM"
      }
    },
    {
      "cell_type": "code",
      "source": [
        "plot_confusion_matrix(kn_n,x_test,y_test, cmap='Blues')"
      ],
      "metadata": {
        "id": "Txyymz_gF2N2",
        "colab": {
          "base_uri": "https://localhost:8080/",
          "height": 0
        },
        "outputId": "c27c77f6-6ea8-400a-eae5-4739f82c7b48"
      },
      "execution_count": 269,
      "outputs": [
        {
          "output_type": "execute_result",
          "data": {
            "text/plain": [
              "<sklearn.metrics._plot.confusion_matrix.ConfusionMatrixDisplay at 0x7f32b990e390>"
            ]
          },
          "metadata": {},
          "execution_count": 269
        },
        {
          "output_type": "display_data",
          "data": {
            "text/plain": [
              "<Figure size 432x288 with 2 Axes>"
            ],
            "image/png": "[encoded data removed]"
          },
          "metadata": {
            "needs_background": "light"
          }
        }
      ]
    },
    {
      "cell_type": "markdown",
      "source": [
        "##KNN parâmetro 5\n"
      ],
      "metadata": {
        "id": "DrbPwb1vGXn6"
      }
    },
    {
      "cell_type": "code",
      "source": [
        "kn_n = KNeighborsClassifier(leaf_size=30,\n",
        "                            algorithm='brute')\n",
        "kn_n.fit(x_train, y_train)"
      ],
      "metadata": {
        "id": "XNbSEshAGgoo",
        "colab": {
          "base_uri": "https://localhost:8080/"
        },
        "outputId": "3bb44ce9-1b3e-42a2-dcee-2e2064a1e929"
      },
      "execution_count": 270,
      "outputs": [
        {
          "output_type": "execute_result",
          "data": {
            "text/plain": [
              "KNeighborsClassifier(algorithm='brute')"
            ]
          },
          "metadata": {},
          "execution_count": 270
        }
      ]
    },
    {
      "cell_type": "code",
      "source": [
        "y_prev_knn = kn_n.predict(x_test)\n",
        "y_prev_knn"
      ],
      "metadata": {
        "id": "ODGI6JNEGl_s",
        "colab": {
          "base_uri": "https://localhost:8080/"
        },
        "outputId": "d19fd860-d715-4596-b2dc-b9b51b5342b4"
      },
      "execution_count": 271,
      "outputs": [
        {
          "output_type": "execute_result",
          "data": {
            "text/plain": [
              "array([1., 1., 1., 0., 0., 1., 1., 0., 1., 1., 1., 1., 0., 1., 0., 0., 0.,\n",
              "       1., 0., 1., 1., 0., 0., 1., 1., 1., 1., 0., 0., 1., 1., 1., 1., 0.,\n",
              "       0., 1., 1., 0., 1., 1., 1., 1., 1., 0., 1., 1., 0., 0., 1., 1., 1.,\n",
              "       0., 1., 1., 1., 1., 0., 1., 0., 1., 0., 1., 0., 0., 1., 0., 1., 0.,\n",
              "       0., 0., 1., 1., 1., 0., 0., 1., 0., 1., 0., 1., 0., 1., 0., 1., 1.,\n",
              "       1., 0., 0., 0., 0., 1., 1., 0., 0., 1., 0., 0., 0., 1., 0., 1., 1.,\n",
              "       0., 1., 0., 1., 0., 0., 1., 1., 0., 0., 0., 0., 0., 1., 1., 1., 0.,\n",
              "       1., 1., 0., 1., 1., 1., 0., 1., 1., 0., 1., 1., 1., 1., 1., 1., 0.,\n",
              "       1., 1., 0., 1., 0., 1., 1., 0., 0., 1., 1., 1., 1., 0., 1., 1., 1.,\n",
              "       0., 1., 1., 0., 1., 1., 1., 1., 0., 1., 0., 0., 1., 1., 0., 0., 1.,\n",
              "       0., 0., 1., 0., 0., 1., 0., 1., 0., 0., 0., 1., 1., 0., 1., 1., 1.,\n",
              "       1., 0., 0., 1., 1., 0., 0., 1., 0., 0., 0., 1., 1., 0., 1., 1., 1.,\n",
              "       1., 0., 1., 0., 1., 1., 0., 1., 0., 1., 0., 0., 1., 0., 1., 1., 1.,\n",
              "       1., 1., 1., 1., 0., 1., 0., 0., 0., 0., 1., 1., 0., 1., 0., 0., 1.,\n",
              "       1., 1., 0., 0., 0., 1., 1., 1., 0., 1., 1., 0., 1., 1., 0., 0., 1.,\n",
              "       1., 1., 1., 0., 1., 1., 0., 0., 0., 0., 1., 0., 1., 1., 1., 0., 0.,\n",
              "       1., 0., 1., 0., 1., 0., 1., 1., 1., 1., 1., 1., 1., 0., 0., 1., 1.,\n",
              "       1., 0., 1., 1., 0., 0., 0., 1., 1., 1., 0., 0., 1., 1., 0., 1., 1.,\n",
              "       0., 0., 1., 1., 1., 0., 1., 0., 1., 1., 1., 0., 1., 1., 1., 0., 1.,\n",
              "       1., 1., 1., 0., 1., 1., 1., 1., 1., 0., 1., 0., 0., 0., 1., 1., 1.,\n",
              "       0., 1., 1., 0., 0., 0., 1., 0., 0., 1., 1., 1., 1., 1., 1., 1., 1.,\n",
              "       0., 1., 1., 1., 0., 0., 0., 1., 0., 0., 1., 0., 0., 1., 0., 1., 1.,\n",
              "       1., 0., 0., 0., 0., 0., 1., 1., 1., 1., 0., 1., 1., 1., 0., 0., 1.,\n",
              "       1., 0., 1., 0., 1., 1., 0., 1., 0., 0., 1., 0., 1., 0., 0., 0., 0.,\n",
              "       1., 1., 1., 0., 1., 1., 1., 1., 1., 1., 0., 1., 1., 1., 1., 0., 0.,\n",
              "       1., 1., 0., 1., 1., 0., 1., 1., 1., 1., 1., 0., 1., 1., 0., 1., 1.,\n",
              "       1., 1., 1., 1., 1., 0., 0., 1., 1., 0., 1., 0., 1., 1., 1., 1., 1.,\n",
              "       0., 0., 0., 1., 0., 1., 1., 1., 0., 1., 1., 1., 0., 1., 1., 0., 0.,\n",
              "       0., 0., 1., 0., 0., 0., 1., 1., 1., 1., 1., 1., 1., 0., 0., 1., 0.,\n",
              "       1., 0., 1., 1., 1., 1., 1., 1., 1., 1., 1., 1., 1., 0., 0., 1., 0.,\n",
              "       0., 1., 0., 1., 0., 1., 1., 0., 0., 0., 1., 1., 1., 0., 0., 0., 0.,\n",
              "       0., 1., 1., 1., 1., 0., 1., 1., 1., 0., 1., 1., 1., 1., 1., 0., 0.,\n",
              "       0., 1., 0., 0., 0., 0., 0., 1., 0., 1., 1., 0., 0., 0., 1., 1., 0.,\n",
              "       0., 1., 1., 1., 0., 1., 0., 0., 0., 1., 1., 0., 0., 0., 0., 0., 0.,\n",
              "       0., 1., 1., 0., 0., 0., 0., 0., 0., 1., 0., 1., 0., 1., 0., 1., 0.,\n",
              "       0., 1., 1., 1., 1., 1., 1., 0., 0., 0., 1., 1., 0., 1., 0., 1., 1.,\n",
              "       0., 1., 0., 1., 0., 1., 1., 1., 1., 0., 0., 0., 0., 0., 0., 0., 1.,\n",
              "       1., 0., 0., 1., 1., 0., 0., 0., 0., 0., 0., 1., 1., 0., 1., 0., 0.,\n",
              "       1., 0., 1., 1., 1., 0., 1., 1., 0., 0., 1., 1., 0., 0., 1., 0., 1.,\n",
              "       0., 0., 1., 1., 1., 0., 1., 1., 0., 1., 0., 1., 0., 0., 1., 0., 0.,\n",
              "       1., 0., 0., 0., 0., 1., 0., 1., 0., 0., 1., 1., 1., 1., 0., 0., 1.,\n",
              "       1., 1., 0., 0., 1., 1., 0., 0., 0., 0., 1., 0., 1., 1., 1., 1., 0.,\n",
              "       0., 1., 1., 1., 0., 1., 1., 1., 1., 0., 0., 0., 1., 1., 1., 1., 1.,\n",
              "       1., 1., 1., 0., 1., 1., 1., 0., 0., 1., 1., 0., 1.])"
            ]
          },
          "metadata": {},
          "execution_count": 271
        }
      ]
    },
    {
      "cell_type": "markdown",
      "source": [
        "###Métricas"
      ],
      "metadata": {
        "id": "piV1diwKGn_q"
      }
    },
    {
      "cell_type": "markdown",
      "source": [
        "Acurácia"
      ],
      "metadata": {
        "id": "ZFwZoElEGpju"
      }
    },
    {
      "cell_type": "code",
      "source": [
        "accuracy_score(y_test, y_prev_knn)"
      ],
      "metadata": {
        "id": "XpVxXHoJGrLh",
        "colab": {
          "base_uri": "https://localhost:8080/"
        },
        "outputId": "277b6131-3fe7-4c80-c801-64e4ada87be0"
      },
      "execution_count": 272,
      "outputs": [
        {
          "output_type": "execute_result",
          "data": {
            "text/plain": [
              "0.831989247311828"
            ]
          },
          "metadata": {},
          "execution_count": 272
        }
      ]
    },
    {
      "cell_type": "markdown",
      "source": [
        "Precisão"
      ],
      "metadata": {
        "id": "2ywpEjwXHHFV"
      }
    },
    {
      "cell_type": "code",
      "source": [
        "precision_score(y_test, y_prev_knn)"
      ],
      "metadata": {
        "id": "ORzqOA-0HEBz",
        "colab": {
          "base_uri": "https://localhost:8080/"
        },
        "outputId": "982004c0-c9a3-4f57-d376-eec849ede637"
      },
      "execution_count": 273,
      "outputs": [
        {
          "output_type": "execute_result",
          "data": {
            "text/plain": [
              "0.7606635071090048"
            ]
          },
          "metadata": {},
          "execution_count": 273
        }
      ]
    },
    {
      "cell_type": "markdown",
      "source": [
        "Recall"
      ],
      "metadata": {
        "id": "Y68cjNytHIXS"
      }
    },
    {
      "cell_type": "code",
      "source": [
        "from sklearn.model_selection import GridSearchCV, RandomizedSearchCV"
      ],
      "metadata": {
        "id": "bVSO-EG5acUQ"
      },
      "execution_count": 274,
      "outputs": []
    },
    {
      "cell_type": "markdown",
      "source": [
        "#Random Forest"
      ],
      "metadata": {
        "id": "9Nv11584HGm2"
      }
    },
    {
      "cell_type": "markdown",
      "source": [
        "##Random Forest PARAMETRO 1"
      ],
      "metadata": {
        "id": "-xL-QUEEKmUM"
      }
    },
    {
      "cell_type": "code",
      "source": [
        "avd = RandomForestClassifier(criterion='entropy',max_features='sqrt', random_state=42)\n",
        "avd.fit(x_train, y_train)"
      ],
      "metadata": {
        "colab": {
          "base_uri": "https://localhost:8080/"
        },
        "id": "bcFLtM1WHIYS",
        "outputId": "74d41ca5-2828-4a4f-9aab-e467c931423b"
      },
      "execution_count": 275,
      "outputs": [
        {
          "output_type": "execute_result",
          "data": {
            "text/plain": [
              "RandomForestClassifier(criterion='entropy', max_features='sqrt',\n",
              "                       random_state=42)"
            ]
          },
          "metadata": {},
          "execution_count": 275
        }
      ]
    },
    {
      "cell_type": "code",
      "source": [
        "y_pred_avd = avd.predict(x_test)\n",
        "y_pred_avd"
      ],
      "metadata": {
        "colab": {
          "base_uri": "https://localhost:8080/"
        },
        "id": "mk8GiaZaMWCW",
        "outputId": "75652491-5fdb-474d-ac42-fb38d33297d3"
      },
      "execution_count": 276,
      "outputs": [
        {
          "output_type": "execute_result",
          "data": {
            "text/plain": [
              "array([1., 0., 1., 0., 0., 0., 1., 0., 1., 1., 1., 1., 0., 1., 0., 0., 0.,\n",
              "       1., 0., 1., 1., 0., 0., 1., 1., 1., 1., 0., 0., 0., 1., 0., 1., 0.,\n",
              "       0., 1., 1., 0., 1., 1., 1., 0., 1., 0., 0., 1., 0., 0., 1., 0., 1.,\n",
              "       0., 1., 0., 1., 1., 0., 1., 0., 1., 0., 1., 0., 0., 1., 0., 1., 0.,\n",
              "       0., 0., 1., 1., 1., 0., 0., 0., 0., 1., 0., 1., 0., 0., 0., 1., 1.,\n",
              "       1., 0., 0., 0., 0., 1., 1., 0., 0., 1., 0., 0., 0., 0., 0., 1., 1.,\n",
              "       0., 1., 1., 1., 0., 0., 1., 1., 0., 1., 0., 0., 0., 1., 1., 1., 0.,\n",
              "       0., 1., 0., 1., 1., 0., 0., 1., 1., 0., 1., 1., 1., 1., 1., 1., 0.,\n",
              "       1., 1., 0., 1., 0., 1., 1., 0., 0., 0., 1., 1., 1., 0., 1., 1., 1.,\n",
              "       0., 0., 1., 0., 1., 1., 1., 0., 0., 1., 0., 0., 0., 0., 0., 0., 1.,\n",
              "       0., 0., 0., 0., 0., 1., 0., 1., 0., 0., 0., 1., 0., 1., 1., 1., 1.,\n",
              "       1., 1., 1., 1., 1., 0., 0., 1., 0., 0., 0., 1., 1., 0., 1., 0., 0.,\n",
              "       1., 0., 0., 0., 1., 0., 0., 1., 0., 1., 0., 0., 1., 0., 0., 1., 1.,\n",
              "       0., 0., 1., 1., 0., 0., 0., 0., 0., 0., 1., 1., 0., 1., 0., 0., 1.,\n",
              "       1., 0., 0., 0., 0., 1., 0., 1., 0., 1., 1., 0., 1., 1., 0., 0., 1.,\n",
              "       1., 1., 0., 0., 0., 1., 0., 0., 1., 0., 1., 0., 1., 0., 1., 0., 0.,\n",
              "       1., 0., 0., 0., 1., 0., 1., 1., 0., 1., 1., 0., 1., 0., 0., 1., 1.,\n",
              "       1., 0., 0., 1., 0., 0., 0., 1., 0., 1., 0., 0., 1., 1., 0., 0., 1.,\n",
              "       0., 0., 0., 1., 1., 0., 1., 0., 1., 1., 0., 0., 1., 1., 1., 0., 1.,\n",
              "       1., 1., 1., 0., 1., 1., 0., 1., 0., 0., 1., 0., 0., 0., 1., 1., 1.,\n",
              "       0., 0., 0., 0., 0., 0., 1., 0., 0., 1., 1., 1., 1., 1., 1., 1., 1.,\n",
              "       0., 1., 0., 1., 0., 1., 1., 1., 0., 0., 0., 0., 0., 1., 0., 1., 1.,\n",
              "       1., 0., 0., 0., 0., 0., 1., 1., 1., 1., 0., 1., 1., 1., 0., 1., 0.,\n",
              "       1., 0., 1., 0., 1., 1., 0., 1., 0., 0., 1., 0., 1., 1., 0., 0., 1.,\n",
              "       1., 1., 1., 0., 1., 1., 1., 1., 1., 1., 0., 1., 1., 1., 1., 0., 1.,\n",
              "       1., 1., 0., 0., 0., 0., 1., 1., 1., 1., 1., 0., 1., 0., 0., 1., 0.,\n",
              "       1., 1., 1., 1., 1., 0., 0., 1., 1., 0., 0., 0., 0., 0., 0., 1., 1.,\n",
              "       0., 0., 0., 1., 0., 1., 1., 1., 0., 1., 1., 1., 0., 1., 1., 0., 1.,\n",
              "       0., 1., 1., 0., 0., 0., 1., 1., 1., 1., 1., 1., 1., 0., 0., 1., 0.,\n",
              "       1., 0., 1., 1., 1., 1., 1., 1., 1., 1., 1., 1., 1., 0., 0., 1., 0.,\n",
              "       0., 1., 1., 1., 0., 0., 1., 0., 0., 0., 1., 1., 1., 0., 0., 0., 0.,\n",
              "       1., 1., 1., 1., 1., 0., 1., 1., 1., 0., 0., 1., 1., 1., 1., 0., 0.,\n",
              "       0., 1., 0., 0., 0., 0., 0., 1., 1., 1., 0., 0., 1., 1., 0., 0., 0.,\n",
              "       0., 1., 1., 1., 0., 1., 0., 0., 0., 1., 1., 0., 0., 0., 0., 0., 0.,\n",
              "       0., 1., 1., 0., 0., 0., 0., 0., 0., 1., 0., 0., 0., 1., 0., 1., 0.,\n",
              "       0., 1., 1., 1., 1., 0., 1., 0., 1., 1., 1., 0., 0., 1., 0., 1., 1.,\n",
              "       0., 1., 0., 1., 0., 1., 1., 1., 1., 0., 0., 0., 0., 0., 0., 0., 1.,\n",
              "       0., 0., 0., 1., 1., 0., 0., 0., 0., 0., 0., 0., 1., 0., 1., 0., 0.,\n",
              "       1., 0., 1., 1., 1., 0., 1., 1., 0., 0., 1., 1., 0., 0., 0., 0., 1.,\n",
              "       0., 0., 0., 1., 1., 0., 1., 0., 0., 1., 0., 1., 0., 0., 0., 0., 1.,\n",
              "       1., 0., 0., 0., 0., 0., 0., 1., 0., 1., 0., 1., 1., 1., 0., 0., 1.,\n",
              "       1., 1., 0., 0., 0., 1., 0., 0., 0., 0., 1., 0., 1., 1., 1., 1., 0.,\n",
              "       0., 1., 1., 1., 0., 1., 1., 1., 1., 0., 0., 0., 1., 1., 1., 1., 1.,\n",
              "       1., 0., 1., 0., 1., 1., 1., 0., 0., 1., 1., 0., 1.])"
            ]
          },
          "metadata": {},
          "execution_count": 276
        }
      ]
    },
    {
      "cell_type": "markdown",
      "source": [
        "###Metricas"
      ],
      "metadata": {
        "id": "iGkLjk1vMdQN"
      }
    },
    {
      "cell_type": "code",
      "source": [
        "accuracy_score(y_test, y_pred_avd)"
      ],
      "metadata": {
        "colab": {
          "base_uri": "https://localhost:8080/"
        },
        "id": "ie0MM9XXMcxD",
        "outputId": "3e36b5f1-3488-4916-d604-17065788072c"
      },
      "execution_count": 277,
      "outputs": [
        {
          "output_type": "execute_result",
          "data": {
            "text/plain": [
              "0.8897849462365591"
            ]
          },
          "metadata": {},
          "execution_count": 277
        }
      ]
    },
    {
      "cell_type": "code",
      "source": [
        "precision_score(y_test, y_pred_avd)"
      ],
      "metadata": {
        "colab": {
          "base_uri": "https://localhost:8080/"
        },
        "id": "H9U9EivYMi1s",
        "outputId": "1b0e4605-9e0e-4803-aaf7-9ba31c68312c"
      },
      "execution_count": 278,
      "outputs": [
        {
          "output_type": "execute_result",
          "data": {
            "text/plain": [
              "0.8544474393530997"
            ]
          },
          "metadata": {},
          "execution_count": 278
        }
      ]
    },
    {
      "cell_type": "code",
      "source": [
        "recall_score(y_test, y_pred_avd)"
      ],
      "metadata": {
        "colab": {
          "base_uri": "https://localhost:8080/"
        },
        "id": "H65vriNbMkvc",
        "outputId": "8e6811ba-d0a6-4816-c71f-c68558260914"
      },
      "execution_count": 279,
      "outputs": [
        {
          "output_type": "execute_result",
          "data": {
            "text/plain": [
              "0.9188405797101449"
            ]
          },
          "metadata": {},
          "execution_count": 279
        }
      ]
    },
    {
      "cell_type": "code",
      "source": [
        "plot_confusion_matrix(avd,x_test,y_test, cmap='Blues')"
      ],
      "metadata": {
        "colab": {
          "base_uri": "https://localhost:8080/",
          "height": 0
        },
        "id": "8MSBiR5iMlRR",
        "outputId": "2a9cd6fe-b9f3-4dcd-93db-ec2295477b9c"
      },
      "execution_count": 280,
      "outputs": [
        {
          "output_type": "execute_result",
          "data": {
            "text/plain": [
              "<sklearn.metrics._plot.confusion_matrix.ConfusionMatrixDisplay at 0x7f32b97e2090>"
            ]
          },
          "metadata": {},
          "execution_count": 280
        },
        {
          "output_type": "display_data",
          "data": {
            "text/plain": [
              "<Figure size 432x288 with 2 Axes>"
            ],
            "image/png": "[encoded data removed]"
          },
          "metadata": {
            "needs_background": "light"
          }
        }
      ]
    },
    {
      "cell_type": "markdown",
      "source": [
        "##Random Forest PARAMETRO 2"
      ],
      "metadata": {
        "id": "xCe-oxKoNDM_"
      }
    },
    {
      "cell_type": "code",
      "source": [
        "avd = RandomForestClassifier(criterion='gini', random_state=42)\n",
        "avd.fit(x_train, y_train)"
      ],
      "metadata": {
        "colab": {
          "base_uri": "https://localhost:8080/"
        },
        "id": "KDFfGOLcNH2s",
        "outputId": "0d4af596-d45c-4155-819f-42ec4a30105e"
      },
      "execution_count": 281,
      "outputs": [
        {
          "output_type": "execute_result",
          "data": {
            "text/plain": [
              "RandomForestClassifier(random_state=42)"
            ]
          },
          "metadata": {},
          "execution_count": 281
        }
      ]
    },
    {
      "cell_type": "code",
      "source": [
        "y_pred_avd = avd.predict(x_test)\n",
        "y_pred_avd"
      ],
      "metadata": {
        "colab": {
          "base_uri": "https://localhost:8080/"
        },
        "id": "c9U_JYt4NL7g",
        "outputId": "a9ef834d-78e7-4797-ea86-bc70fa2f0f53"
      },
      "execution_count": 282,
      "outputs": [
        {
          "output_type": "execute_result",
          "data": {
            "text/plain": [
              "array([1., 0., 1., 0., 0., 0., 1., 0., 1., 1., 0., 1., 0., 1., 0., 0., 0.,\n",
              "       1., 0., 1., 1., 0., 0., 1., 0., 1., 1., 0., 0., 0., 1., 0., 1., 0.,\n",
              "       0., 1., 1., 0., 1., 1., 1., 0., 1., 0., 0., 1., 0., 0., 1., 0., 1.,\n",
              "       0., 1., 0., 1., 1., 0., 1., 0., 1., 0., 1., 0., 0., 1., 0., 1., 0.,\n",
              "       0., 0., 1., 1., 1., 0., 0., 0., 0., 1., 0., 1., 0., 0., 0., 1., 1.,\n",
              "       1., 0., 0., 0., 0., 1., 1., 0., 0., 1., 0., 0., 0., 0., 0., 1., 1.,\n",
              "       0., 1., 0., 1., 0., 0., 1., 0., 0., 1., 0., 0., 0., 1., 1., 1., 0.,\n",
              "       0., 1., 0., 1., 1., 0., 0., 1., 1., 0., 1., 1., 1., 1., 1., 1., 0.,\n",
              "       1., 1., 0., 1., 0., 1., 1., 0., 0., 0., 1., 1., 1., 0., 1., 1., 1.,\n",
              "       0., 0., 1., 0., 1., 1., 1., 0., 0., 1., 0., 0., 0., 1., 0., 0., 1.,\n",
              "       0., 0., 0., 0., 0., 1., 0., 1., 0., 0., 0., 1., 0., 1., 1., 1., 1.,\n",
              "       1., 1., 0., 1., 1., 0., 0., 1., 0., 0., 0., 1., 1., 0., 1., 0., 0.,\n",
              "       1., 0., 1., 0., 1., 0., 0., 1., 0., 1., 0., 0., 1., 0., 0., 0., 1.,\n",
              "       0., 0., 1., 1., 0., 0., 0., 0., 0., 0., 1., 1., 0., 1., 0., 0., 1.,\n",
              "       1., 0., 0., 0., 0., 1., 0., 1., 0., 1., 1., 0., 1., 1., 0., 0., 0.,\n",
              "       1., 1., 0., 0., 1., 1., 0., 0., 1., 0., 1., 0., 1., 0., 1., 0., 0.,\n",
              "       1., 0., 0., 0., 1., 0., 1., 1., 0., 1., 1., 0., 1., 0., 0., 1., 1.,\n",
              "       1., 0., 0., 1., 0., 0., 0., 1., 0., 0., 0., 0., 1., 1., 0., 0., 1.,\n",
              "       0., 0., 0., 1., 1., 0., 1., 0., 1., 1., 0., 0., 1., 1., 1., 0., 1.,\n",
              "       1., 1., 1., 0., 1., 1., 0., 1., 0., 0., 1., 0., 0., 0., 1., 1., 1.,\n",
              "       0., 0., 0., 0., 0., 0., 1., 0., 0., 1., 1., 1., 1., 1., 1., 1., 1.,\n",
              "       0., 1., 0., 1., 0., 1., 1., 1., 0., 0., 0., 0., 0., 1., 0., 1., 1.,\n",
              "       1., 0., 0., 0., 0., 0., 1., 1., 1., 0., 0., 1., 1., 1., 0., 1., 0.,\n",
              "       1., 0., 1., 0., 1., 1., 0., 1., 0., 0., 1., 0., 1., 1., 0., 0., 1.,\n",
              "       1., 1., 1., 0., 1., 1., 1., 1., 1., 1., 0., 1., 1., 1., 1., 0., 1.,\n",
              "       1., 1., 0., 0., 0., 0., 1., 1., 1., 1., 1., 0., 1., 0., 0., 1., 0.,\n",
              "       1., 0., 1., 1., 1., 0., 0., 1., 1., 0., 0., 0., 0., 0., 0., 1., 1.,\n",
              "       0., 0., 0., 1., 0., 1., 1., 1., 0., 1., 1., 1., 0., 1., 1., 0., 1.,\n",
              "       0., 1., 1., 0., 0., 0., 1., 1., 1., 1., 1., 1., 1., 0., 0., 1., 0.,\n",
              "       1., 0., 1., 1., 1., 1., 1., 1., 1., 1., 1., 1., 1., 0., 0., 1., 0.,\n",
              "       0., 1., 1., 1., 0., 0., 1., 0., 1., 0., 1., 1., 1., 0., 0., 0., 0.,\n",
              "       1., 1., 1., 1., 0., 0., 1., 1., 1., 0., 0., 1., 1., 1., 1., 0., 0.,\n",
              "       0., 1., 0., 0., 0., 0., 0., 1., 1., 1., 0., 0., 0., 0., 0., 0., 0.,\n",
              "       0., 1., 1., 1., 0., 1., 0., 0., 0., 1., 1., 0., 0., 0., 0., 0., 0.,\n",
              "       0., 1., 1., 0., 0., 0., 0., 0., 0., 1., 0., 0., 0., 1., 0., 1., 0.,\n",
              "       0., 1., 1., 1., 1., 0., 1., 0., 1., 1., 1., 1., 0., 1., 0., 1., 1.,\n",
              "       0., 1., 0., 1., 0., 1., 1., 1., 1., 0., 0., 0., 0., 1., 0., 0., 1.,\n",
              "       0., 0., 0., 1., 1., 0., 0., 0., 0., 0., 0., 0., 1., 0., 1., 0., 0.,\n",
              "       1., 0., 1., 1., 1., 0., 1., 1., 0., 0., 1., 1., 0., 0., 0., 0., 1.,\n",
              "       0., 0., 0., 1., 1., 0., 1., 0., 0., 1., 0., 1., 0., 0., 0., 0., 1.,\n",
              "       1., 0., 0., 0., 0., 0., 0., 1., 0., 1., 0., 1., 1., 1., 0., 0., 1.,\n",
              "       1., 1., 0., 0., 0., 1., 0., 0., 0., 0., 1., 0., 1., 1., 1., 1., 0.,\n",
              "       0., 1., 1., 1., 0., 1., 1., 1., 1., 0., 0., 0., 1., 1., 0., 1., 1.,\n",
              "       1., 0., 1., 0., 1., 1., 1., 0., 0., 1., 1., 0., 1.])"
            ]
          },
          "metadata": {},
          "execution_count": 282
        }
      ]
    },
    {
      "cell_type": "markdown",
      "source": [
        "###Metricas"
      ],
      "metadata": {
        "id": "QNg5wDDgNPoM"
      }
    },
    {
      "cell_type": "code",
      "source": [
        "accuracy_score(y_test, y_pred_avd)"
      ],
      "metadata": {
        "colab": {
          "base_uri": "https://localhost:8080/"
        },
        "id": "KkgVLiL7NPVE",
        "outputId": "aa1531c8-ef89-4c91-c2a0-87b087249003"
      },
      "execution_count": 283,
      "outputs": [
        {
          "output_type": "execute_result",
          "data": {
            "text/plain": [
              "0.8951612903225806"
            ]
          },
          "metadata": {},
          "execution_count": 283
        }
      ]
    },
    {
      "cell_type": "code",
      "source": [
        "precision_score(y_test, y_pred_avd)"
      ],
      "metadata": {
        "colab": {
          "base_uri": "https://localhost:8080/"
        },
        "id": "6R8AmZyRNUOz",
        "outputId": "5328069d-5bc0-4f03-f410-bf69bf852c02"
      },
      "execution_count": 284,
      "outputs": [
        {
          "output_type": "execute_result",
          "data": {
            "text/plain": [
              "0.8677685950413223"
            ]
          },
          "metadata": {},
          "execution_count": 284
        }
      ]
    },
    {
      "cell_type": "code",
      "source": [
        "recall_score(y_test, y_pred_avd)"
      ],
      "metadata": {
        "colab": {
          "base_uri": "https://localhost:8080/"
        },
        "id": "0sU_X8hUNXZb",
        "outputId": "bc4aae62-0399-4ad3-96d1-ba69782aafb1"
      },
      "execution_count": 285,
      "outputs": [
        {
          "output_type": "execute_result",
          "data": {
            "text/plain": [
              "0.9130434782608695"
            ]
          },
          "metadata": {},
          "execution_count": 285
        }
      ]
    },
    {
      "cell_type": "code",
      "source": [
        "plot_confusion_matrix(avd,x_test,y_test, cmap='Blues')"
      ],
      "metadata": {
        "colab": {
          "base_uri": "https://localhost:8080/",
          "height": 0
        },
        "id": "YqcmS4cKNeA7",
        "outputId": "c6d19c54-90ff-4ade-a0ce-518cbea38a47"
      },
      "execution_count": 286,
      "outputs": [
        {
          "output_type": "execute_result",
          "data": {
            "text/plain": [
              "<sklearn.metrics._plot.confusion_matrix.ConfusionMatrixDisplay at 0x7f32b97858d0>"
            ]
          },
          "metadata": {},
          "execution_count": 286
        },
        {
          "output_type": "display_data",
          "data": {
            "text/plain": [
              "<Figure size 432x288 with 2 Axes>"
            ],
            "image/png": "[encoded data removed]"
          },
          "metadata": {
            "needs_background": "light"
          }
        }
      ]
    },
    {
      "cell_type": "code",
      "source": [
        "rdf = RandomForestClassifier()\n",
        "rdf.fit(x_train, y_train)"
      ],
      "metadata": {
        "colab": {
          "base_uri": "https://localhost:8080/"
        },
        "id": "e_f9GjubNfwd",
        "outputId": "18d570e0-36cf-4fcf-b8a0-378bc3738fd6"
      },
      "execution_count": 287,
      "outputs": [
        {
          "output_type": "execute_result",
          "data": {
            "text/plain": [
              "RandomForestClassifier()"
            ]
          },
          "metadata": {},
          "execution_count": 287
        }
      ]
    },
    {
      "cell_type": "code",
      "source": [
        "y_pred_rdf = rdf.predict(x_test)"
      ],
      "metadata": {
        "id": "PWC_AFXhNhp2"
      },
      "execution_count": 288,
      "outputs": []
    },
    {
      "cell_type": "markdown",
      "source": [
        "##Random Forest PARÂMETRO 3"
      ],
      "metadata": {
        "id": "szJJkPmrNmQE"
      }
    },
    {
      "cell_type": "code",
      "source": [
        "avd = RandomForestClassifier(criterion='entropy', max_features='auto', random_state=42)\n",
        "avd.fit(x_train, y_train)"
      ],
      "metadata": {
        "colab": {
          "base_uri": "https://localhost:8080/"
        },
        "id": "jf0LpBG8NpVY",
        "outputId": "24051e32-31aa-4199-b43e-02590408d3ec"
      },
      "execution_count": 289,
      "outputs": [
        {
          "output_type": "execute_result",
          "data": {
            "text/plain": [
              "RandomForestClassifier(criterion='entropy', random_state=42)"
            ]
          },
          "metadata": {},
          "execution_count": 289
        }
      ]
    },
    {
      "cell_type": "code",
      "source": [
        "y_pred_avd = avd.predict(x_test)\n",
        "y_pred_avd"
      ],
      "metadata": {
        "colab": {
          "base_uri": "https://localhost:8080/"
        },
        "id": "Twj_AqBMNvPQ",
        "outputId": "fa738d4b-96ec-4d4e-8204-e89d515cad32"
      },
      "execution_count": 290,
      "outputs": [
        {
          "output_type": "execute_result",
          "data": {
            "text/plain": [
              "array([1., 0., 1., 0., 0., 0., 1., 0., 1., 1., 1., 1., 0., 1., 0., 0., 0.,\n",
              "       1., 0., 1., 1., 0., 0., 1., 1., 1., 1., 0., 0., 0., 1., 0., 1., 0.,\n",
              "       0., 1., 1., 0., 1., 1., 1., 0., 1., 0., 0., 1., 0., 0., 1., 0., 1.,\n",
              "       0., 1., 0., 1., 1., 0., 1., 0., 1., 0., 1., 0., 0., 1., 0., 1., 0.,\n",
              "       0., 0., 1., 1., 1., 0., 0., 0., 0., 1., 0., 1., 0., 0., 0., 1., 1.,\n",
              "       1., 0., 0., 0., 0., 1., 1., 0., 0., 1., 0., 0., 0., 0., 0., 1., 1.,\n",
              "       0., 1., 1., 1., 0., 0., 1., 1., 0., 1., 0., 0., 0., 1., 1., 1., 0.,\n",
              "       0., 1., 0., 1., 1., 0., 0., 1., 1., 0., 1., 1., 1., 1., 1., 1., 0.,\n",
              "       1., 1., 0., 1., 0., 1., 1., 0., 0., 0., 1., 1., 1., 0., 1., 1., 1.,\n",
              "       0., 0., 1., 0., 1., 1., 1., 0., 0., 1., 0., 0., 0., 0., 0., 0., 1.,\n",
              "       0., 0., 0., 0., 0., 1., 0., 1., 0., 0., 0., 1., 0., 1., 1., 1., 1.,\n",
              "       1., 1., 1., 1., 1., 0., 0., 1., 0., 0., 0., 1., 1., 0., 1., 0., 0.,\n",
              "       1., 0., 0., 0., 1., 0., 0., 1., 0., 1., 0., 0., 1., 0., 0., 1., 1.,\n",
              "       0., 0., 1., 1., 0., 0., 0., 0., 0., 0., 1., 1., 0., 1., 0., 0., 1.,\n",
              "       1., 0., 0., 0., 0., 1., 0., 1., 0., 1., 1., 0., 1., 1., 0., 0., 1.,\n",
              "       1., 1., 0., 0., 0., 1., 0., 0., 1., 0., 1., 0., 1., 0., 1., 0., 0.,\n",
              "       1., 0., 0., 0., 1., 0., 1., 1., 0., 1., 1., 0., 1., 0., 0., 1., 1.,\n",
              "       1., 0., 0., 1., 0., 0., 0., 1., 0., 1., 0., 0., 1., 1., 0., 0., 1.,\n",
              "       0., 0., 0., 1., 1., 0., 1., 0., 1., 1., 0., 0., 1., 1., 1., 0., 1.,\n",
              "       1., 1., 1., 0., 1., 1., 0., 1., 0., 0., 1., 0., 0., 0., 1., 1., 1.,\n",
              "       0., 0., 0., 0., 0., 0., 1., 0., 0., 1., 1., 1., 1., 1., 1., 1., 1.,\n",
              "       0., 1., 0., 1., 0., 1., 1., 1., 0., 0., 0., 0., 0., 1., 0., 1., 1.,\n",
              "       1., 0., 0., 0., 0., 0., 1., 1., 1., 1., 0., 1., 1., 1., 0., 1., 0.,\n",
              "       1., 0., 1., 0., 1., 1., 0., 1., 0., 0., 1., 0., 1., 1., 0., 0., 1.,\n",
              "       1., 1., 1., 0., 1., 1., 1., 1., 1., 1., 0., 1., 1., 1., 1., 0., 1.,\n",
              "       1., 1., 0., 0., 0., 0., 1., 1., 1., 1., 1., 0., 1., 0., 0., 1., 0.,\n",
              "       1., 1., 1., 1., 1., 0., 0., 1., 1., 0., 0., 0., 0., 0., 0., 1., 1.,\n",
              "       0., 0., 0., 1., 0., 1., 1., 1., 0., 1., 1., 1., 0., 1., 1., 0., 1.,\n",
              "       0., 1., 1., 0., 0., 0., 1., 1., 1., 1., 1., 1., 1., 0., 0., 1., 0.,\n",
              "       1., 0., 1., 1., 1., 1., 1., 1., 1., 1., 1., 1., 1., 0., 0., 1., 0.,\n",
              "       0., 1., 1., 1., 0., 0., 1., 0., 0., 0., 1., 1., 1., 0., 0., 0., 0.,\n",
              "       1., 1., 1., 1., 1., 0., 1., 1., 1., 0., 0., 1., 1., 1., 1., 0., 0.,\n",
              "       0., 1., 0., 0., 0., 0., 0., 1., 1., 1., 0., 0., 1., 1., 0., 0., 0.,\n",
              "       0., 1., 1., 1., 0., 1., 0., 0., 0., 1., 1., 0., 0., 0., 0., 0., 0.,\n",
              "       0., 1., 1., 0., 0., 0., 0., 0., 0., 1., 0., 0., 0., 1., 0., 1., 0.,\n",
              "       0., 1., 1., 1., 1., 0., 1., 0., 1., 1., 1., 0., 0., 1., 0., 1., 1.,\n",
              "       0., 1., 0., 1., 0., 1., 1., 1., 1., 0., 0., 0., 0., 0., 0., 0., 1.,\n",
              "       0., 0., 0., 1., 1., 0., 0., 0., 0., 0., 0., 0., 1., 0., 1., 0., 0.,\n",
              "       1., 0., 1., 1., 1., 0., 1., 1., 0., 0., 1., 1., 0., 0., 0., 0., 1.,\n",
              "       0., 0., 0., 1., 1., 0., 1., 0., 0., 1., 0., 1., 0., 0., 0., 0., 1.,\n",
              "       1., 0., 0., 0., 0., 0., 0., 1., 0., 1., 0., 1., 1., 1., 0., 0., 1.,\n",
              "       1., 1., 0., 0., 0., 1., 0., 0., 0., 0., 1., 0., 1., 1., 1., 1., 0.,\n",
              "       0., 1., 1., 1., 0., 1., 1., 1., 1., 0., 0., 0., 1., 1., 1., 1., 1.,\n",
              "       1., 0., 1., 0., 1., 1., 1., 0., 0., 1., 1., 0., 1.])"
            ]
          },
          "metadata": {},
          "execution_count": 290
        }
      ]
    },
    {
      "cell_type": "markdown",
      "source": [
        "###Metricas"
      ],
      "metadata": {
        "id": "Ft8wCPFKN4e-"
      }
    },
    {
      "cell_type": "code",
      "source": [
        "accuracy_score(y_test, y_pred_avd)"
      ],
      "metadata": {
        "colab": {
          "base_uri": "https://localhost:8080/"
        },
        "id": "dF84HC7VN6Mn",
        "outputId": "f8e59505-2612-4050-c3c7-6600c596c29a"
      },
      "execution_count": 291,
      "outputs": [
        {
          "output_type": "execute_result",
          "data": {
            "text/plain": [
              "0.8897849462365591"
            ]
          },
          "metadata": {},
          "execution_count": 291
        }
      ]
    },
    {
      "cell_type": "code",
      "source": [
        "precision_score(y_test, y_pred_avd)"
      ],
      "metadata": {
        "colab": {
          "base_uri": "https://localhost:8080/"
        },
        "id": "3T-a1R4mOChw",
        "outputId": "746beba9-5813-43b9-b7c8-3b28ee159cc6"
      },
      "execution_count": 292,
      "outputs": [
        {
          "output_type": "execute_result",
          "data": {
            "text/plain": [
              "0.8544474393530997"
            ]
          },
          "metadata": {},
          "execution_count": 292
        }
      ]
    },
    {
      "cell_type": "code",
      "source": [
        "recall_score(y_test, y_pred_avd)"
      ],
      "metadata": {
        "colab": {
          "base_uri": "https://localhost:8080/"
        },
        "id": "TmgyXrGzOEOW",
        "outputId": "c8dab989-efdc-4997-c049-3418ac1d15c5"
      },
      "execution_count": 293,
      "outputs": [
        {
          "output_type": "execute_result",
          "data": {
            "text/plain": [
              "0.9188405797101449"
            ]
          },
          "metadata": {},
          "execution_count": 293
        }
      ]
    },
    {
      "cell_type": "code",
      "source": [
        "plot_confusion_matrix(avd,x_test,y_test, cmap='Blues')"
      ],
      "metadata": {
        "colab": {
          "base_uri": "https://localhost:8080/",
          "height": 0
        },
        "id": "eR1ZkPe1OHbO",
        "outputId": "915b8475-16ad-4736-e96c-eded8cb88671"
      },
      "execution_count": 294,
      "outputs": [
        {
          "output_type": "execute_result",
          "data": {
            "text/plain": [
              "<sklearn.metrics._plot.confusion_matrix.ConfusionMatrixDisplay at 0x7f32b9696d10>"
            ]
          },
          "metadata": {},
          "execution_count": 294
        },
        {
          "output_type": "display_data",
          "data": {
            "text/plain": [
              "<Figure size 432x288 with 2 Axes>"
            ],
            "image/png": "[encoded data removed]"
          },
          "metadata": {
            "needs_background": "light"
          }
        }
      ]
    },
    {
      "cell_type": "code",
      "source": [
        "rdf = RandomForestClassifier()\n",
        "rdf.fit(x_train, y_train)\n"
      ],
      "metadata": {
        "colab": {
          "base_uri": "https://localhost:8080/"
        },
        "id": "AhKbgMetOKCr",
        "outputId": "fb86b8b2-2cee-42bc-91fe-eb6f7dad94e7"
      },
      "execution_count": 295,
      "outputs": [
        {
          "output_type": "execute_result",
          "data": {
            "text/plain": [
              "RandomForestClassifier()"
            ]
          },
          "metadata": {},
          "execution_count": 295
        }
      ]
    },
    {
      "cell_type": "code",
      "source": [
        "y_pred_rdf = rdf.predict(x_test)"
      ],
      "metadata": {
        "id": "c2BbVpvjOLvM"
      },
      "execution_count": 296,
      "outputs": []
    },
    {
      "cell_type": "markdown",
      "source": [
        "##Random Forest PARÂMETRO 4"
      ],
      "metadata": {
        "id": "DBW2OvkRORxg"
      }
    },
    {
      "cell_type": "code",
      "source": [
        "avd = RandomForestClassifier(criterion='entropy', max_features='sqrt', random_state=42)\n",
        "avd.fit(x_train, y_train)"
      ],
      "metadata": {
        "colab": {
          "base_uri": "https://localhost:8080/"
        },
        "id": "fTMqzUbMOh2X",
        "outputId": "a96a72c2-d59d-44ce-dba7-63f9ae45308f"
      },
      "execution_count": 297,
      "outputs": [
        {
          "output_type": "execute_result",
          "data": {
            "text/plain": [
              "RandomForestClassifier(criterion='entropy', max_features='sqrt',\n",
              "                       random_state=42)"
            ]
          },
          "metadata": {},
          "execution_count": 297
        }
      ]
    },
    {
      "cell_type": "code",
      "source": [
        "y_pred_avd = avd.predict(x_test)\n",
        "y_pred_avd"
      ],
      "metadata": {
        "colab": {
          "base_uri": "https://localhost:8080/"
        },
        "id": "_Uu4ri5COlYH",
        "outputId": "28350c31-95d5-44e9-b756-a4ebef2f9276"
      },
      "execution_count": 298,
      "outputs": [
        {
          "output_type": "execute_result",
          "data": {
            "text/plain": [
              "array([1., 0., 1., 0., 0., 0., 1., 0., 1., 1., 1., 1., 0., 1., 0., 0., 0.,\n",
              "       1., 0., 1., 1., 0., 0., 1., 1., 1., 1., 0., 0., 0., 1., 0., 1., 0.,\n",
              "       0., 1., 1., 0., 1., 1., 1., 0., 1., 0., 0., 1., 0., 0., 1., 0., 1.,\n",
              "       0., 1., 0., 1., 1., 0., 1., 0., 1., 0., 1., 0., 0., 1., 0., 1., 0.,\n",
              "       0., 0., 1., 1., 1., 0., 0., 0., 0., 1., 0., 1., 0., 0., 0., 1., 1.,\n",
              "       1., 0., 0., 0., 0., 1., 1., 0., 0., 1., 0., 0., 0., 0., 0., 1., 1.,\n",
              "       0., 1., 1., 1., 0., 0., 1., 1., 0., 1., 0., 0., 0., 1., 1., 1., 0.,\n",
              "       0., 1., 0., 1., 1., 0., 0., 1., 1., 0., 1., 1., 1., 1., 1., 1., 0.,\n",
              "       1., 1., 0., 1., 0., 1., 1., 0., 0., 0., 1., 1., 1., 0., 1., 1., 1.,\n",
              "       0., 0., 1., 0., 1., 1., 1., 0., 0., 1., 0., 0., 0., 0., 0., 0., 1.,\n",
              "       0., 0., 0., 0., 0., 1., 0., 1., 0., 0., 0., 1., 0., 1., 1., 1., 1.,\n",
              "       1., 1., 1., 1., 1., 0., 0., 1., 0., 0., 0., 1., 1., 0., 1., 0., 0.,\n",
              "       1., 0., 0., 0., 1., 0., 0., 1., 0., 1., 0., 0., 1., 0., 0., 1., 1.,\n",
              "       0., 0., 1., 1., 0., 0., 0., 0., 0., 0., 1., 1., 0., 1., 0., 0., 1.,\n",
              "       1., 0., 0., 0., 0., 1., 0., 1., 0., 1., 1., 0., 1., 1., 0., 0., 1.,\n",
              "       1., 1., 0., 0., 0., 1., 0., 0., 1., 0., 1., 0., 1., 0., 1., 0., 0.,\n",
              "       1., 0., 0., 0., 1., 0., 1., 1., 0., 1., 1., 0., 1., 0., 0., 1., 1.,\n",
              "       1., 0., 0., 1., 0., 0., 0., 1., 0., 1., 0., 0., 1., 1., 0., 0., 1.,\n",
              "       0., 0., 0., 1., 1., 0., 1., 0., 1., 1., 0., 0., 1., 1., 1., 0., 1.,\n",
              "       1., 1., 1., 0., 1., 1., 0., 1., 0., 0., 1., 0., 0., 0., 1., 1., 1.,\n",
              "       0., 0., 0., 0., 0., 0., 1., 0., 0., 1., 1., 1., 1., 1., 1., 1., 1.,\n",
              "       0., 1., 0., 1., 0., 1., 1., 1., 0., 0., 0., 0., 0., 1., 0., 1., 1.,\n",
              "       1., 0., 0., 0., 0., 0., 1., 1., 1., 1., 0., 1., 1., 1., 0., 1., 0.,\n",
              "       1., 0., 1., 0., 1., 1., 0., 1., 0., 0., 1., 0., 1., 1., 0., 0., 1.,\n",
              "       1., 1., 1., 0., 1., 1., 1., 1., 1., 1., 0., 1., 1., 1., 1., 0., 1.,\n",
              "       1., 1., 0., 0., 0., 0., 1., 1., 1., 1., 1., 0., 1., 0., 0., 1., 0.,\n",
              "       1., 1., 1., 1., 1., 0., 0., 1., 1., 0., 0., 0., 0., 0., 0., 1., 1.,\n",
              "       0., 0., 0., 1., 0., 1., 1., 1., 0., 1., 1., 1., 0., 1., 1., 0., 1.,\n",
              "       0., 1., 1., 0., 0., 0., 1., 1., 1., 1., 1., 1., 1., 0., 0., 1., 0.,\n",
              "       1., 0., 1., 1., 1., 1., 1., 1., 1., 1., 1., 1., 1., 0., 0., 1., 0.,\n",
              "       0., 1., 1., 1., 0., 0., 1., 0., 0., 0., 1., 1., 1., 0., 0., 0., 0.,\n",
              "       1., 1., 1., 1., 1., 0., 1., 1., 1., 0., 0., 1., 1., 1., 1., 0., 0.,\n",
              "       0., 1., 0., 0., 0., 0., 0., 1., 1., 1., 0., 0., 1., 1., 0., 0., 0.,\n",
              "       0., 1., 1., 1., 0., 1., 0., 0., 0., 1., 1., 0., 0., 0., 0., 0., 0.,\n",
              "       0., 1., 1., 0., 0., 0., 0., 0., 0., 1., 0., 0., 0., 1., 0., 1., 0.,\n",
              "       0., 1., 1., 1., 1., 0., 1., 0., 1., 1., 1., 0., 0., 1., 0., 1., 1.,\n",
              "       0., 1., 0., 1., 0., 1., 1., 1., 1., 0., 0., 0., 0., 0., 0., 0., 1.,\n",
              "       0., 0., 0., 1., 1., 0., 0., 0., 0., 0., 0., 0., 1., 0., 1., 0., 0.,\n",
              "       1., 0., 1., 1., 1., 0., 1., 1., 0., 0., 1., 1., 0., 0., 0., 0., 1.,\n",
              "       0., 0., 0., 1., 1., 0., 1., 0., 0., 1., 0., 1., 0., 0., 0., 0., 1.,\n",
              "       1., 0., 0., 0., 0., 0., 0., 1., 0., 1., 0., 1., 1., 1., 0., 0., 1.,\n",
              "       1., 1., 0., 0., 0., 1., 0., 0., 0., 0., 1., 0., 1., 1., 1., 1., 0.,\n",
              "       0., 1., 1., 1., 0., 1., 1., 1., 1., 0., 0., 0., 1., 1., 1., 1., 1.,\n",
              "       1., 0., 1., 0., 1., 1., 1., 0., 0., 1., 1., 0., 1.])"
            ]
          },
          "metadata": {},
          "execution_count": 298
        }
      ]
    },
    {
      "cell_type": "markdown",
      "source": [
        "###Metricas"
      ],
      "metadata": {
        "id": "FhS2x25mPDVI"
      }
    },
    {
      "cell_type": "code",
      "source": [
        "accuracy_score(y_test, y_pred_avd)"
      ],
      "metadata": {
        "colab": {
          "base_uri": "https://localhost:8080/"
        },
        "id": "IpMidnqFOs71",
        "outputId": "3553260d-1e60-4930-8204-5cb2c0476633"
      },
      "execution_count": 299,
      "outputs": [
        {
          "output_type": "execute_result",
          "data": {
            "text/plain": [
              "0.8897849462365591"
            ]
          },
          "metadata": {},
          "execution_count": 299
        }
      ]
    },
    {
      "cell_type": "code",
      "source": [
        "precision_score(y_test, y_pred_avd)"
      ],
      "metadata": {
        "colab": {
          "base_uri": "https://localhost:8080/"
        },
        "id": "K47Mld9vOtZ3",
        "outputId": "b090cb14-01ed-4015-ef6b-e8092d68dd26"
      },
      "execution_count": 300,
      "outputs": [
        {
          "output_type": "execute_result",
          "data": {
            "text/plain": [
              "0.8544474393530997"
            ]
          },
          "metadata": {},
          "execution_count": 300
        }
      ]
    },
    {
      "cell_type": "code",
      "source": [
        "recall_score(y_test, y_pred_avd)"
      ],
      "metadata": {
        "colab": {
          "base_uri": "https://localhost:8080/"
        },
        "id": "lcyL543TOwbO",
        "outputId": "19962599-3797-4631-925c-fe12a45c5ba6"
      },
      "execution_count": 301,
      "outputs": [
        {
          "output_type": "execute_result",
          "data": {
            "text/plain": [
              "0.9188405797101449"
            ]
          },
          "metadata": {},
          "execution_count": 301
        }
      ]
    },
    {
      "cell_type": "code",
      "source": [
        "plot_confusion_matrix(avd,x_test,y_test, cmap='Blues')"
      ],
      "metadata": {
        "colab": {
          "base_uri": "https://localhost:8080/",
          "height": 0
        },
        "id": "JLQOKOjCOzB5",
        "outputId": "942a75dc-f21e-4ae4-bca4-e195b55da475"
      },
      "execution_count": 302,
      "outputs": [
        {
          "output_type": "execute_result",
          "data": {
            "text/plain": [
              "<sklearn.metrics._plot.confusion_matrix.ConfusionMatrixDisplay at 0x7f32b959d3d0>"
            ]
          },
          "metadata": {},
          "execution_count": 302
        },
        {
          "output_type": "display_data",
          "data": {
            "text/plain": [
              "<Figure size 432x288 with 2 Axes>"
            ],
            "image/png": "[encoded data removed]"
          },
          "metadata": {
            "needs_background": "light"
          }
        }
      ]
    },
    {
      "cell_type": "code",
      "source": [
        "rdf = RandomForestClassifier()\n",
        "rdf.fit(x_train, y_train)"
      ],
      "metadata": {
        "colab": {
          "base_uri": "https://localhost:8080/"
        },
        "id": "nWSt81PmO63N",
        "outputId": "6cc37f2c-4a01-4d03-9ac7-bf35cf00f895"
      },
      "execution_count": 303,
      "outputs": [
        {
          "output_type": "execute_result",
          "data": {
            "text/plain": [
              "RandomForestClassifier()"
            ]
          },
          "metadata": {},
          "execution_count": 303
        }
      ]
    },
    {
      "cell_type": "code",
      "source": [
        "y_pred_rdf = rdf.predict(x_test)"
      ],
      "metadata": {
        "id": "O882l-dyO7F9"
      },
      "execution_count": 304,
      "outputs": []
    },
    {
      "cell_type": "markdown",
      "source": [
        "##Random Forest PARÂMETRO 5"
      ],
      "metadata": {
        "id": "hjXLcshQPGiT"
      }
    },
    {
      "cell_type": "code",
      "source": [
        "avd = RandomForestClassifier(criterion='entropy', max_features='log2', random_state=42)\n",
        "avd.fit(x_train, y_train)"
      ],
      "metadata": {
        "colab": {
          "base_uri": "https://localhost:8080/"
        },
        "id": "wzswsiUPPIsO",
        "outputId": "c79ab368-5825-442a-9009-61b7409cf4d8"
      },
      "execution_count": 305,
      "outputs": [
        {
          "output_type": "execute_result",
          "data": {
            "text/plain": [
              "RandomForestClassifier(criterion='entropy', max_features='log2',\n",
              "                       random_state=42)"
            ]
          },
          "metadata": {},
          "execution_count": 305
        }
      ]
    },
    {
      "cell_type": "code",
      "source": [
        "y_pred_avd = avd.predict(x_test)\n",
        "y_pred_avd"
      ],
      "metadata": {
        "colab": {
          "base_uri": "https://localhost:8080/"
        },
        "id": "jEfl8BvePPtH",
        "outputId": "1eec48f6-64cf-4170-ccd7-2447f0167544"
      },
      "execution_count": 306,
      "outputs": [
        {
          "output_type": "execute_result",
          "data": {
            "text/plain": [
              "array([1., 0., 1., 0., 0., 0., 1., 0., 1., 1., 1., 1., 0., 1., 0., 0., 0.,\n",
              "       1., 0., 1., 1., 0., 0., 1., 1., 1., 1., 0., 0., 0., 1., 0., 1., 0.,\n",
              "       0., 1., 1., 0., 1., 1., 1., 0., 1., 0., 0., 1., 0., 0., 1., 0., 1.,\n",
              "       0., 1., 0., 1., 1., 0., 1., 0., 1., 0., 1., 0., 0., 1., 0., 1., 0.,\n",
              "       0., 0., 1., 1., 1., 0., 0., 0., 0., 1., 0., 1., 0., 0., 0., 1., 1.,\n",
              "       1., 0., 0., 0., 0., 1., 1., 0., 0., 1., 0., 0., 0., 0., 0., 1., 1.,\n",
              "       0., 1., 1., 1., 0., 0., 1., 1., 0., 1., 0., 0., 0., 1., 1., 1., 0.,\n",
              "       0., 1., 0., 1., 1., 0., 0., 1., 1., 0., 1., 1., 1., 1., 1., 1., 0.,\n",
              "       1., 1., 0., 1., 0., 1., 1., 0., 0., 0., 1., 1., 1., 0., 1., 1., 1.,\n",
              "       0., 0., 1., 0., 1., 1., 1., 0., 0., 1., 0., 0., 0., 0., 0., 0., 1.,\n",
              "       0., 0., 0., 0., 0., 1., 0., 1., 0., 0., 0., 1., 0., 1., 1., 1., 1.,\n",
              "       1., 1., 1., 1., 1., 0., 0., 1., 0., 0., 0., 1., 1., 0., 1., 0., 0.,\n",
              "       1., 0., 0., 0., 1., 0., 0., 1., 0., 1., 0., 0., 1., 0., 0., 1., 1.,\n",
              "       0., 0., 1., 1., 0., 0., 0., 0., 0., 0., 1., 1., 0., 1., 0., 0., 1.,\n",
              "       1., 0., 0., 0., 0., 1., 0., 1., 0., 1., 1., 0., 1., 1., 0., 0., 1.,\n",
              "       1., 1., 0., 0., 0., 1., 0., 0., 1., 0., 1., 0., 1., 0., 1., 0., 0.,\n",
              "       1., 0., 0., 0., 1., 0., 1., 1., 0., 1., 1., 0., 1., 0., 0., 1., 1.,\n",
              "       1., 0., 0., 1., 0., 0., 0., 1., 0., 1., 0., 0., 1., 1., 0., 0., 1.,\n",
              "       0., 0., 0., 1., 1., 0., 1., 0., 1., 1., 0., 0., 1., 1., 1., 0., 1.,\n",
              "       1., 1., 1., 0., 1., 1., 0., 1., 0., 0., 1., 0., 0., 0., 1., 1., 1.,\n",
              "       0., 0., 0., 0., 0., 0., 1., 0., 0., 1., 1., 1., 1., 1., 1., 1., 1.,\n",
              "       0., 1., 0., 1., 0., 1., 1., 1., 0., 0., 0., 0., 0., 1., 0., 1., 1.,\n",
              "       1., 0., 0., 0., 0., 0., 1., 1., 1., 1., 0., 1., 1., 1., 0., 1., 0.,\n",
              "       1., 0., 1., 0., 1., 1., 0., 1., 0., 0., 1., 0., 1., 1., 0., 0., 1.,\n",
              "       1., 1., 1., 0., 1., 1., 1., 1., 1., 1., 0., 1., 1., 1., 1., 0., 1.,\n",
              "       1., 1., 0., 0., 0., 0., 1., 1., 1., 1., 1., 0., 1., 0., 0., 1., 0.,\n",
              "       1., 1., 1., 1., 1., 0., 0., 1., 1., 0., 0., 0., 0., 0., 0., 1., 1.,\n",
              "       0., 0., 0., 1., 0., 1., 1., 1., 0., 1., 1., 1., 0., 1., 1., 0., 1.,\n",
              "       0., 1., 1., 0., 0., 0., 1., 1., 1., 1., 1., 1., 1., 0., 0., 1., 0.,\n",
              "       1., 0., 1., 1., 1., 1., 1., 1., 1., 1., 1., 1., 1., 0., 0., 1., 0.,\n",
              "       0., 1., 1., 1., 0., 0., 1., 0., 0., 0., 1., 1., 1., 0., 0., 0., 0.,\n",
              "       1., 1., 1., 1., 1., 0., 1., 1., 1., 0., 0., 1., 1., 1., 1., 0., 0.,\n",
              "       0., 1., 0., 0., 0., 0., 0., 1., 1., 1., 0., 0., 1., 1., 0., 0., 0.,\n",
              "       0., 1., 1., 1., 0., 1., 0., 0., 0., 1., 1., 0., 0., 0., 0., 0., 0.,\n",
              "       0., 1., 1., 0., 0., 0., 0., 0., 0., 1., 0., 0., 0., 1., 0., 1., 0.,\n",
              "       0., 1., 1., 1., 1., 0., 1., 0., 1., 1., 1., 0., 0., 1., 0., 1., 1.,\n",
              "       0., 1., 0., 1., 0., 1., 1., 1., 1., 0., 0., 0., 0., 0., 0., 0., 1.,\n",
              "       0., 0., 0., 1., 1., 0., 0., 0., 0., 0., 0., 0., 1., 0., 1., 0., 0.,\n",
              "       1., 0., 1., 1., 1., 0., 1., 1., 0., 0., 1., 1., 0., 0., 0., 0., 1.,\n",
              "       0., 0., 0., 1., 1., 0., 1., 0., 0., 1., 0., 1., 0., 0., 0., 0., 1.,\n",
              "       1., 0., 0., 0., 0., 0., 0., 1., 0., 1., 0., 1., 1., 1., 0., 0., 1.,\n",
              "       1., 1., 0., 0., 0., 1., 0., 0., 0., 0., 1., 0., 1., 1., 1., 1., 0.,\n",
              "       0., 1., 1., 1., 0., 1., 1., 1., 1., 0., 0., 0., 1., 1., 1., 1., 1.,\n",
              "       1., 0., 1., 0., 1., 1., 1., 0., 0., 1., 1., 0., 1.])"
            ]
          },
          "metadata": {},
          "execution_count": 306
        }
      ]
    },
    {
      "cell_type": "markdown",
      "source": [
        "###Metricas"
      ],
      "metadata": {
        "id": "0IQRygqyPWrG"
      }
    },
    {
      "cell_type": "code",
      "source": [
        "accuracy_score(y_test, y_pred_avd)"
      ],
      "metadata": {
        "colab": {
          "base_uri": "https://localhost:8080/"
        },
        "id": "3Un-Due1PYKn",
        "outputId": "77abb5cd-a6e8-46e2-869a-6a10dcae215a"
      },
      "execution_count": 307,
      "outputs": [
        {
          "output_type": "execute_result",
          "data": {
            "text/plain": [
              "0.8897849462365591"
            ]
          },
          "metadata": {},
          "execution_count": 307
        }
      ]
    },
    {
      "cell_type": "code",
      "source": [
        "precision_score(y_test, y_pred_avd)"
      ],
      "metadata": {
        "colab": {
          "base_uri": "https://localhost:8080/"
        },
        "id": "vyTPyu-LPamh",
        "outputId": "707a51e0-b97a-45f5-aa2f-af93e708e0bf"
      },
      "execution_count": 308,
      "outputs": [
        {
          "output_type": "execute_result",
          "data": {
            "text/plain": [
              "0.8544474393530997"
            ]
          },
          "metadata": {},
          "execution_count": 308
        }
      ]
    },
    {
      "cell_type": "code",
      "source": [
        "recall_score(y_test, y_pred_avd)"
      ],
      "metadata": {
        "colab": {
          "base_uri": "https://localhost:8080/"
        },
        "id": "Lt5PeR0cPcNJ",
        "outputId": "0e73e540-97b7-4700-966e-70c691281c38"
      },
      "execution_count": 309,
      "outputs": [
        {
          "output_type": "execute_result",
          "data": {
            "text/plain": [
              "0.9188405797101449"
            ]
          },
          "metadata": {},
          "execution_count": 309
        }
      ]
    },
    {
      "cell_type": "code",
      "source": [
        "plot_confusion_matrix(avd,x_test,y_test, cmap='Blues')"
      ],
      "metadata": {
        "colab": {
          "base_uri": "https://localhost:8080/",
          "height": 0
        },
        "id": "2akDlHLVPeIK",
        "outputId": "1ebad320-dda0-47b0-dfc5-13cc1c1daf6f"
      },
      "execution_count": 310,
      "outputs": [
        {
          "output_type": "execute_result",
          "data": {
            "text/plain": [
              "<sklearn.metrics._plot.confusion_matrix.ConfusionMatrixDisplay at 0x7f32b94ebb50>"
            ]
          },
          "metadata": {},
          "execution_count": 310
        },
        {
          "output_type": "display_data",
          "data": {
            "text/plain": [
              "<Figure size 432x288 with 2 Axes>"
            ],
            "image/png": "[encoded data removed]"
          },
          "metadata": {
            "needs_background": "light"
          }
        }
      ]
    },
    {
      "cell_type": "code",
      "source": [
        "rdf = RandomForestClassifier()\n",
        "rdf.fit(x_train, y_train)"
      ],
      "metadata": {
        "colab": {
          "base_uri": "https://localhost:8080/"
        },
        "id": "eaHuxgQTPg3O",
        "outputId": "491440e3-cec3-4746-fb8a-c677fa966585"
      },
      "execution_count": 311,
      "outputs": [
        {
          "output_type": "execute_result",
          "data": {
            "text/plain": [
              "RandomForestClassifier()"
            ]
          },
          "metadata": {},
          "execution_count": 311
        }
      ]
    },
    {
      "cell_type": "code",
      "source": [
        "y_pred_rdf = rdf.predict(x_test)"
      ],
      "metadata": {
        "id": "CUPbcOU8PkaN"
      },
      "execution_count": 312,
      "outputs": []
    },
    {
      "cell_type": "markdown",
      "source": [
        "#Grid search e randomize search"
      ],
      "metadata": {
        "id": "96zm-ldYGxdZ"
      }
    },
    {
      "cell_type": "markdown",
      "source": [
        "##KNN"
      ],
      "metadata": {
        "id": "fHowCp4kaO8D"
      }
    },
    {
      "cell_type": "code",
      "source": [
        "from sklearn.neighbors import KNeighborsClassifier"
      ],
      "metadata": {
        "id": "wo0jN6W7aZH0"
      },
      "execution_count": 313,
      "outputs": []
    },
    {
      "cell_type": "markdown",
      "source": [
        "###GridSearch"
      ],
      "metadata": {
        "id": "IH0Qgt4gahgS"
      }
    },
    {
      "cell_type": "code",
      "source": [
        "parametros = {'n_neighbors': [3, 5, 7, 9, 13],\n",
        "              'weights': ['uniform', 'distance'],\n",
        "              'algorithm': ['auto', 'ball_tree', 'kd_tree', 'brute'],\n",
        "              'leaf_size': [15, 30]}\n",
        "\n",
        "\n",
        "grid_search = GridSearchCV(estimator = KNeighborsClassifier(), param_grid=parametros)\n",
        "grid_search.fit(x_train, y_train.squeeze())"
      ],
      "metadata": {
        "id": "P-LJEI__ai4H",
        "colab": {
          "base_uri": "https://localhost:8080/"
        },
        "outputId": "936f2255-9ecc-4e30-f365-68caa90da533"
      },
      "execution_count": 314,
      "outputs": [
        {
          "output_type": "execute_result",
          "data": {
            "text/plain": [
              "GridSearchCV(estimator=KNeighborsClassifier(),\n",
              "             param_grid={'algorithm': ['auto', 'ball_tree', 'kd_tree', 'brute'],\n",
              "                         'leaf_size': [15, 30], 'n_neighbors': [3, 5, 7, 9, 13],\n",
              "                         'weights': ['uniform', 'distance']})"
            ]
          },
          "metadata": {},
          "execution_count": 314
        }
      ]
    },
    {
      "cell_type": "code",
      "source": [
        "print(grid_search.best_score_)\n",
        "print(grid_search.best_params_)"
      ],
      "metadata": {
        "id": "LcQbd6FOal3M",
        "colab": {
          "base_uri": "https://localhost:8080/"
        },
        "outputId": "4835f1c6-44a4-4d9f-ad4d-09adc25394de"
      },
      "execution_count": 315,
      "outputs": [
        {
          "output_type": "stream",
          "name": "stdout",
          "text": [
            "0.861373397843986\n",
            "{'algorithm': 'auto', 'leaf_size': 15, 'n_neighbors': 3, 'weights': 'distance'}\n"
          ]
        }
      ]
    },
    {
      "cell_type": "code",
      "source": [
        "knn_best = grid_search.best_estimator_\n",
        "knn_best"
      ],
      "metadata": {
        "id": "W24LRzVpaoh4",
        "colab": {
          "base_uri": "https://localhost:8080/"
        },
        "outputId": "06fe9904-3b2a-4002-fae1-5c9f98384125"
      },
      "execution_count": 316,
      "outputs": [
        {
          "output_type": "execute_result",
          "data": {
            "text/plain": [
              "KNeighborsClassifier(leaf_size=15, n_neighbors=3, weights='distance')"
            ]
          },
          "metadata": {},
          "execution_count": 316
        }
      ]
    },
    {
      "cell_type": "code",
      "source": [
        "from sklearn.metrics import f1_score\n",
        "y_pred = knn_best.predict(x_test)\n",
        "print('Acc treino: ', knn_best.score(x_train, y_train ))\n",
        "print('Acc teste: ', knn_best.score(x_test, y_test.squeeze() ))\n",
        "print( 'Revocação: ', recall_score( y_test, y_pred ))\n",
        "print( 'Precisão: ', precision_score( y_test, y_pred ))\n",
        "print( 'F1_score: ', f1_score( y_test, y_pred ))"
      ],
      "metadata": {
        "id": "Ts9mVnmWaqcp",
        "colab": {
          "base_uri": "https://localhost:8080/"
        },
        "outputId": "6d240974-0f6b-455e-8a5d-9c77e8e19b9d"
      },
      "execution_count": 317,
      "outputs": [
        {
          "output_type": "stream",
          "name": "stdout",
          "text": [
            "Acc treino:  1.0\n",
            "Acc teste:  0.8629032258064516\n",
            "Revocação:  0.9449275362318841\n",
            "Precisão:  0.7970660146699267\n",
            "F1_score:  0.8647214854111406\n"
          ]
        }
      ]
    },
    {
      "cell_type": "markdown",
      "source": [
        "###RandomizedSearchCV"
      ],
      "metadata": {
        "id": "wRXuOGcM9zth"
      }
    },
    {
      "cell_type": "code",
      "source": [
        "parametros = {'n_neighbors': [3, 5, 7, 9, 13, 15, 17, 21, 23, 25, 27, 29, 31, 33],\n",
        "              'weights': ['uniform', 'distance'],\n",
        "              'algorithm': ['auto', 'ball_tree', 'kd_tree', 'brute'],\n",
        "              'leaf_size': [7, 15, 30, 45, 60, 75]}\n",
        "random_search = RandomizedSearchCV(estimator = KNeighborsClassifier(), param_distributions=parametros)\n",
        "random_search.fit(x_train, y_train.squeeze())"
      ],
      "metadata": {
        "id": "7_vKmkrz9o3R",
        "colab": {
          "base_uri": "https://localhost:8080/"
        },
        "outputId": "83151790-9073-49fb-ab1b-de2905b221ce"
      },
      "execution_count": 318,
      "outputs": [
        {
          "output_type": "execute_result",
          "data": {
            "text/plain": [
              "RandomizedSearchCV(estimator=KNeighborsClassifier(),\n",
              "                   param_distributions={'algorithm': ['auto', 'ball_tree',\n",
              "                                                      'kd_tree', 'brute'],\n",
              "                                        'leaf_size': [7, 15, 30, 45, 60, 75],\n",
              "                                        'n_neighbors': [3, 5, 7, 9, 13, 15, 17,\n",
              "                                                        21, 23, 25, 27, 29, 31,\n",
              "                                                        33],\n",
              "                                        'weights': ['uniform', 'distance']})"
            ]
          },
          "metadata": {},
          "execution_count": 318
        }
      ]
    },
    {
      "cell_type": "code",
      "source": [
        "print(random_search.best_score_)\n",
        "print(random_search.best_params_)"
      ],
      "metadata": {
        "id": "GY2jIdkP9sAj",
        "colab": {
          "base_uri": "https://localhost:8080/"
        },
        "outputId": "23b185d7-9432-420b-fbef-1dd359f478da"
      },
      "execution_count": 319,
      "outputs": [
        {
          "output_type": "stream",
          "name": "stdout",
          "text": [
            "0.861373397843986\n",
            "{'weights': 'distance', 'n_neighbors': 3, 'leaf_size': 75, 'algorithm': 'brute'}\n"
          ]
        }
      ]
    },
    {
      "cell_type": "code",
      "source": [
        "knn_best = random_search.best_estimator_\n",
        "knn_best"
      ],
      "metadata": {
        "id": "iI-u0GOf9sj0",
        "colab": {
          "base_uri": "https://localhost:8080/"
        },
        "outputId": "ba1ca7a2-a1d0-4d34-dae8-971de73a89db"
      },
      "execution_count": 320,
      "outputs": [
        {
          "output_type": "execute_result",
          "data": {
            "text/plain": [
              "KNeighborsClassifier(algorithm='brute', leaf_size=75, n_neighbors=3,\n",
              "                     weights='distance')"
            ]
          },
          "metadata": {},
          "execution_count": 320
        }
      ]
    },
    {
      "cell_type": "code",
      "source": [
        "y_pred = knn_best.predict(x_test)\n",
        "print('Acc treino: ', knn_best.score(x_train, y_train ))\n",
        "print('Acc teste: ', knn_best.score(x_test, y_test.squeeze() ))\n",
        "print( 'Revocação: ', recall_score( y_test, y_pred ))\n",
        "print( 'Precisão: ', precision_score( y_test, y_pred ))\n",
        "print( 'F1_score: ', f1_score( y_test, y_pred ))"
      ],
      "metadata": {
        "id": "hcbxs7qv9t6h",
        "colab": {
          "base_uri": "https://localhost:8080/"
        },
        "outputId": "9e8dca4f-876c-48c0-f772-1fde4ffbcd28"
      },
      "execution_count": 321,
      "outputs": [
        {
          "output_type": "stream",
          "name": "stdout",
          "text": [
            "Acc treino:  1.0\n",
            "Acc teste:  0.8629032258064516\n",
            "Revocação:  0.9449275362318841\n",
            "Precisão:  0.7970660146699267\n",
            "F1_score:  0.8647214854111406\n"
          ]
        }
      ]
    },
    {
      "cell_type": "markdown",
      "source": [
        "##Árvore de Decisão"
      ],
      "metadata": {
        "id": "sRCu8RqD97G_"
      }
    },
    {
      "cell_type": "markdown",
      "source": [
        "###GridSearch"
      ],
      "metadata": {
        "id": "WrpbjWj99-bm"
      }
    },
    {
      "cell_type": "code",
      "source": [
        "# Definir o espaço possível dos hiperparametros a serem testados no modelo\n",
        "parametros = {'criterion': ['gini', 'entropy', 'log_loss'],\n",
        "              'splitter': ['best', 'random']}\n",
        "\n",
        "\n",
        "grid_search = GridSearchCV(estimator = DecisionTreeClassifier(), param_grid=parametros)\n",
        "grid_search.fit(x_train, y_train.squeeze())"
      ],
      "metadata": {
        "id": "rGkeuSdv99Nq",
        "colab": {
          "base_uri": "https://localhost:8080/"
        },
        "outputId": "12bf987f-3993-4e37-d95b-742204f2f119"
      },
      "execution_count": 322,
      "outputs": [
        {
          "output_type": "execute_result",
          "data": {
            "text/plain": [
              "GridSearchCV(estimator=DecisionTreeClassifier(),\n",
              "             param_grid={'criterion': ['gini', 'entropy', 'log_loss'],\n",
              "                         'splitter': ['best', 'random']})"
            ]
          },
          "metadata": {},
          "execution_count": 322
        }
      ]
    },
    {
      "cell_type": "code",
      "source": [
        "print(grid_search.best_score_)\n",
        "print(grid_search.best_params_)"
      ],
      "metadata": {
        "id": "fB-UuLEk-Ceh",
        "colab": {
          "base_uri": "https://localhost:8080/"
        },
        "outputId": "4c12f3bb-ed9e-4541-aa60-831fbd118e7d"
      },
      "execution_count": 323,
      "outputs": [
        {
          "output_type": "stream",
          "name": "stdout",
          "text": [
            "0.8603599015363722\n",
            "{'criterion': 'gini', 'splitter': 'best'}\n"
          ]
        }
      ]
    },
    {
      "cell_type": "code",
      "source": [
        "avd_best = grid_search.best_estimator_\n",
        "avd_best"
      ],
      "metadata": {
        "id": "0q5EhV---Dwe",
        "colab": {
          "base_uri": "https://localhost:8080/"
        },
        "outputId": "54419800-4c59-4f4f-c24d-18b24ea06ecf"
      },
      "execution_count": 324,
      "outputs": [
        {
          "output_type": "execute_result",
          "data": {
            "text/plain": [
              "DecisionTreeClassifier()"
            ]
          },
          "metadata": {},
          "execution_count": 324
        }
      ]
    },
    {
      "cell_type": "code",
      "source": [
        "y_pred = avd_best.predict(x_test)\n",
        "print('Acc treino: ', avd_best.score(x_train, y_train ))\n",
        "print('Acc teste: ', avd_best.score(x_test, y_test.squeeze() ))\n",
        "print( 'Revocação: ', recall_score( y_test, y_pred ))\n",
        "print( 'Precisão: ', precision_score( y_test, y_pred ))\n",
        "print( 'F1_score: ', f1_score( y_test, y_pred ))"
      ],
      "metadata": {
        "id": "ljmCDZWk-E7S",
        "colab": {
          "base_uri": "https://localhost:8080/"
        },
        "outputId": "82f32d04-36ea-4949-b9fb-4a3f3c5219cb"
      },
      "execution_count": 325,
      "outputs": [
        {
          "output_type": "stream",
          "name": "stdout",
          "text": [
            "Acc treino:  1.0\n",
            "Acc teste:  0.8602150537634409\n",
            "Revocação:  0.8753623188405797\n",
            "Precisão:  0.8319559228650137\n",
            "F1_score:  0.8531073446327683\n"
          ]
        }
      ]
    },
    {
      "cell_type": "markdown",
      "source": [
        "###RandomizedSearchCV"
      ],
      "metadata": {
        "id": "as-jUrgy-GsN"
      }
    },
    {
      "cell_type": "code",
      "source": [
        "# Definir o espaço possível dos hiperparametros a serem testados no modelo\n",
        "parametros = {'n_neighbors': [33],\n",
        "              'random_state': 42,\n",
        "              'return_train_score': True,\n",
        "              'error_score': 'numeric'}\n",
        "random_search = RandomizedSearchCV(estimator = KNeighborsClassifier(), param_distributions=parametros)\n",
        "random_search.fit(x_train, y_train.squeeze())"
      ],
      "metadata": {
        "id": "67oZFJGu-I9R",
        "colab": {
          "base_uri": "https://localhost:8080/",
          "height": 347
        },
        "outputId": "6fb8678a-64ac-4176-f851-4446318aeaf7"
      },
      "execution_count": 326,
      "outputs": [
        {
          "output_type": "error",
          "ename": "TypeError",
          "evalue": "ignored",
          "traceback": [
            "\u001b[0;31m---------------------------------------------------------------------------\u001b[0m",
            "\u001b[0;31mTypeError\u001b[0m                                 Traceback (most recent call last)",
            "\u001b[0;32m<ipython-input-326-07285540555e>\u001b[0m in \u001b[0;36m<module>\u001b[0;34m\u001b[0m\n\u001b[1;32m      5\u001b[0m               'error_score': 'numeric'}\n\u001b[1;32m      6\u001b[0m \u001b[0mrandom_search\u001b[0m \u001b[0;34m=\u001b[0m \u001b[0mRandomizedSearchCV\u001b[0m\u001b[0;34m(\u001b[0m\u001b[0mestimator\u001b[0m \u001b[0;34m=\u001b[0m \u001b[0mKNeighborsClassifier\u001b[0m\u001b[0;34m(\u001b[0m\u001b[0;34m)\u001b[0m\u001b[0;34m,\u001b[0m \u001b[0mparam_distributions\u001b[0m\u001b[0;34m=\u001b[0m\u001b[0mparametros\u001b[0m\u001b[0;34m)\u001b[0m\u001b[0;34m\u001b[0m\u001b[0;34m\u001b[0m\u001b[0m\n\u001b[0;32m----> 7\u001b[0;31m \u001b[0mrandom_search\u001b[0m\u001b[0;34m.\u001b[0m\u001b[0mfit\u001b[0m\u001b[0;34m(\u001b[0m\u001b[0mx_train\u001b[0m\u001b[0;34m,\u001b[0m \u001b[0my_train\u001b[0m\u001b[0;34m.\u001b[0m\u001b[0msqueeze\u001b[0m\u001b[0;34m(\u001b[0m\u001b[0;34m)\u001b[0m\u001b[0;34m)\u001b[0m\u001b[0;34m\u001b[0m\u001b[0;34m\u001b[0m\u001b[0m\n\u001b[0m",
            "\u001b[0;32m/usr/local/lib/python3.7/dist-packages/sklearn/model_selection/_search.py\u001b[0m in \u001b[0;36mfit\u001b[0;34m(self, X, y, groups, **fit_params)\u001b[0m\n\u001b[1;32m    889\u001b[0m                 \u001b[0;32mreturn\u001b[0m \u001b[0mresults\u001b[0m\u001b[0;34m\u001b[0m\u001b[0;34m\u001b[0m\u001b[0m\n\u001b[1;32m    890\u001b[0m \u001b[0;34m\u001b[0m\u001b[0m\n\u001b[0;32m--> 891\u001b[0;31m             \u001b[0mself\u001b[0m\u001b[0;34m.\u001b[0m\u001b[0m_run_search\u001b[0m\u001b[0;34m(\u001b[0m\u001b[0mevaluate_candidates\u001b[0m\u001b[0;34m)\u001b[0m\u001b[0;34m\u001b[0m\u001b[0;34m\u001b[0m\u001b[0m\n\u001b[0m\u001b[1;32m    892\u001b[0m \u001b[0;34m\u001b[0m\u001b[0m\n\u001b[1;32m    893\u001b[0m             \u001b[0;31m# multimetric is determined here because in the case of a callable\u001b[0m\u001b[0;34m\u001b[0m\u001b[0;34m\u001b[0m\u001b[0;34m\u001b[0m\u001b[0m\n",
            "\u001b[0;32m/usr/local/lib/python3.7/dist-packages/sklearn/model_selection/_search.py\u001b[0m in \u001b[0;36m_run_search\u001b[0;34m(self, evaluate_candidates)\u001b[0m\n\u001b[1;32m   1766\u001b[0m         evaluate_candidates(\n\u001b[1;32m   1767\u001b[0m             ParameterSampler(\n\u001b[0;32m-> 1768\u001b[0;31m                 \u001b[0mself\u001b[0m\u001b[0;34m.\u001b[0m\u001b[0mparam_distributions\u001b[0m\u001b[0;34m,\u001b[0m \u001b[0mself\u001b[0m\u001b[0;34m.\u001b[0m\u001b[0mn_iter\u001b[0m\u001b[0;34m,\u001b[0m \u001b[0mrandom_state\u001b[0m\u001b[0;34m=\u001b[0m\u001b[0mself\u001b[0m\u001b[0;34m.\u001b[0m\u001b[0mrandom_state\u001b[0m\u001b[0;34m\u001b[0m\u001b[0;34m\u001b[0m\u001b[0m\n\u001b[0m\u001b[1;32m   1769\u001b[0m             )\n\u001b[1;32m   1770\u001b[0m         )\n",
            "\u001b[0;32m/usr/local/lib/python3.7/dist-packages/sklearn/model_selection/_search.py\u001b[0m in \u001b[0;36m__init__\u001b[0;34m(self, param_distributions, n_iter, random_state)\u001b[0m\n\u001b[1;32m    266\u001b[0m                     raise TypeError(\n\u001b[1;32m    267\u001b[0m                         \u001b[0;34m\"Parameter value is not iterable \"\u001b[0m\u001b[0;34m\u001b[0m\u001b[0;34m\u001b[0m\u001b[0m\n\u001b[0;32m--> 268\u001b[0;31m                         \u001b[0;34m\"or distribution (key={!r}, value={!r})\"\u001b[0m\u001b[0;34m.\u001b[0m\u001b[0mformat\u001b[0m\u001b[0;34m(\u001b[0m\u001b[0mkey\u001b[0m\u001b[0;34m,\u001b[0m \u001b[0mdist\u001b[0m\u001b[0;34m[\u001b[0m\u001b[0mkey\u001b[0m\u001b[0;34m]\u001b[0m\u001b[0;34m)\u001b[0m\u001b[0;34m\u001b[0m\u001b[0;34m\u001b[0m\u001b[0m\n\u001b[0m\u001b[1;32m    269\u001b[0m                     )\n\u001b[1;32m    270\u001b[0m         \u001b[0mself\u001b[0m\u001b[0;34m.\u001b[0m\u001b[0mn_iter\u001b[0m \u001b[0;34m=\u001b[0m \u001b[0mn_iter\u001b[0m\u001b[0;34m\u001b[0m\u001b[0;34m\u001b[0m\u001b[0m\n",
            "\u001b[0;31mTypeError\u001b[0m: Parameter value is not iterable or distribution (key='random_state', value=42)"
          ]
        }
      ]
    },
    {
      "cell_type": "code",
      "source": [
        "print(random_search.best_score_)\n",
        "print(random_search.best_params_)"
      ],
      "metadata": {
        "id": "mxOzJHEj-LLH"
      },
      "execution_count": null,
      "outputs": []
    },
    {
      "cell_type": "code",
      "source": [
        "avd_best = random_search.best_estimator_\n",
        "avd_best"
      ],
      "metadata": {
        "id": "p-ajb6sy-OLG"
      },
      "execution_count": null,
      "outputs": []
    },
    {
      "cell_type": "code",
      "source": [
        "y_pred = avd_best.predict(x_test)\n",
        "print('Acc treino: ', avd_best.score(x_train, y_train ))\n",
        "print('Acc teste: ', avd_best.score(x_test, y_test.squeeze() ))\n",
        "print( 'Revocação: ', recall_score( y_test, y_pred ))\n",
        "print( 'Precisão: ', precision_score( y_test, y_pred ))\n",
        "print( 'F1_score: ', f1_score( y_test, y_pred ))"
      ],
      "metadata": {
        "id": "kUASY2X9-PbV"
      },
      "execution_count": null,
      "outputs": []
    },
    {
      "cell_type": "markdown",
      "source": [
        "##Random Forest"
      ],
      "metadata": {
        "id": "DgRxVBlz_9xC"
      }
    },
    {
      "cell_type": "markdown",
      "source": [
        "###GridSearch"
      ],
      "metadata": {
        "id": "6-Rqan2LAoQ2"
      }
    },
    {
      "cell_type": "code",
      "source": [
        "# Definir o espaço possível dos hiperparametros a serem testados no modelo\n",
        "parametros = {'n_estimators': [10, 20, 40],\n",
        "              'criterion': ['gini', 'entropy', 'log_loss'],\n",
        "               'max_depth': [10,20,30]}\n",
        "\n",
        "\n",
        "\n",
        "grid_search = GridSearchCV(estimator = RandomForestClassifier(), param_grid=parametros)\n",
        "grid_search.fit(x_train, y_train.squeeze())"
      ],
      "metadata": {
        "id": "2EkIvDbAArD5"
      },
      "execution_count": null,
      "outputs": []
    },
    {
      "cell_type": "code",
      "source": [
        "print(grid_search.best_score_)\n",
        "print(grid_search.best_params_)"
      ],
      "metadata": {
        "id": "rCjmLmdkAxF4"
      },
      "execution_count": null,
      "outputs": []
    },
    {
      "cell_type": "code",
      "source": [
        "knn_best = grid_search.best_estimator_\n",
        "knn_best"
      ],
      "metadata": {
        "id": "ub5z7TokAxlw"
      },
      "execution_count": null,
      "outputs": []
    },
    {
      "cell_type": "code",
      "source": [
        "y_pred = knn_best.predict(x_test)\n",
        "print('Acc treino: ', knn_best.score(x_train, y_train ))\n",
        "print('Acc teste: ', knn_best.score(x_test, y_test.squeeze() ))\n",
        "print( 'Revocação: ', recall_score( y_test, y_pred ))\n",
        "print( 'Precisão: ', precision_score( y_test, y_pred ))\n",
        "print( 'F1_score: ', f1_score( y_test, y_pred ))"
      ],
      "metadata": {
        "id": "exkkMxf6AzUN"
      },
      "execution_count": null,
      "outputs": []
    },
    {
      "cell_type": "markdown",
      "source": [
        "###RandomSearch"
      ],
      "metadata": {
        "id": "wz9eBpkKa32v"
      }
    },
    {
      "cell_type": "code",
      "source": [
        "# Definir o espaço possível dos hiperparametros a serem testados no modelo\n",
        "parametros = {'n_estimators': [10, 20, 40, 60, 80, 100],\n",
        "              'criterion': ['gini', 'entropy','log loss'],\n",
        "              'max_depth': [10,20,30,40,50],}\n",
        "\n",
        "random_search = RandomizedSearchCV(estimator = RandomForestClassifier(), param_distributions=parametros)\n",
        "random_search.fit(x_train, y_train.squeeze())"
      ],
      "metadata": {
        "id": "1l20Dkv1a-xu"
      },
      "execution_count": null,
      "outputs": []
    },
    {
      "cell_type": "code",
      "source": [
        "print(random_search.best_score_)\n",
        "print(random_search.best_params_)"
      ],
      "metadata": {
        "id": "QyBA7PJEbERv"
      },
      "execution_count": null,
      "outputs": []
    },
    {
      "cell_type": "code",
      "source": [
        "rdf_best = random_search.best_estimator_\n",
        "rdf_best"
      ],
      "metadata": {
        "id": "Z4HNjlLebHvC"
      },
      "execution_count": null,
      "outputs": []
    },
    {
      "cell_type": "code",
      "source": [
        "y_pred = rdf_best.predict(x_test)\n",
        "print('Acc treino: ', rdf_best.score(x_train, y_train ))\n",
        "print('Acc teste: ', rdf_best.score(x_test, y_test.squeeze() ))\n",
        "print( 'Revocação: ', recall_score( y_test, y_pred ))\n",
        "print( 'Precisão: ', precision_score( y_test, y_pred ))"
      ],
      "metadata": {
        "id": "EDPuddITbKDd"
      },
      "execution_count": null,
      "outputs": []
    }
  ]
}