{
  "cells": [
    {
      "cell_type": "markdown",
      "metadata": {
        "id": "Pz1b5ZKDPvYq"
      },
      "source": [
        "# Setup dos dados iniciais\n",
        "### Instalação de bibliotecas e imports"
      ]
    },
    {
      "cell_type": "code",
      "execution_count": null,
      "metadata": {
        "id": "wpwt6Xxmz6sW"
      },
      "outputs": [],
      "source": [
        "!pip install -U -q PyDrive"
      ]
    },
    {
      "cell_type": "code",
      "execution_count": null,
      "metadata": {
        "id": "Ns09SPXjxbjX"
      },
      "outputs": [],
      "source": [
        "import pandas as pd\n",
        "import plotly.express as px\n",
        "from sklearn.preprocessing import LabelBinarizer\n",
        "from pydrive.auth import GoogleAuth\n",
        "from pydrive.drive import GoogleDrive\n",
        "from google.colab import auth\n",
        "from oauth2client.client import GoogleCredentials\n",
        "import warnings\n",
        "warnings.filterwarnings('ignore')\n",
        "from sklearn.feature_selection import SelectKBest\n",
        "from sklearn.feature_selection import f_classif, mutual_info_classif"
      ]
    },
    {
      "cell_type": "markdown",
      "source": [
        "### Autenticação para acesso aos dados"
      ],
      "metadata": {
        "id": "myO4YXutEvE9"
      }
    },
    {
      "cell_type": "code",
      "execution_count": null,
      "metadata": {
        "id": "fu-7WG7ZyNNN"
      },
      "outputs": [],
      "source": [
        "auth.authenticate_user()\n",
        "gauth = GoogleAuth()\n",
        "gauth.credentials = GoogleCredentials.get_application_default()\n",
        "drive = GoogleDrive(gauth)"
      ]
    },
    {
      "cell_type": "markdown",
      "source": [
        "### Download dos dados para esta máquina virtual"
      ],
      "metadata": {
        "id": "SbqoKrfvE0wX"
      }
    },
    {
      "cell_type": "code",
      "execution_count": null,
      "metadata": {
        "id": "yVQKyw2F0CV_"
      },
      "outputs": [],
      "source": [
        "downloaded = drive.CreateFile({'id': '1EOUJ4FlZ7qeykwLHbth0YgcSfQudLRid'})\n",
        "downloaded.GetContentFile('data.csv')"
      ]
    },
    {
      "cell_type": "markdown",
      "source": [
        "### Carregando os dados baixados no dataframe"
      ],
      "metadata": {
        "id": "uXo2-44SFByD"
      }
    },
    {
      "cell_type": "code",
      "execution_count": null,
      "metadata": {
        "id": "n6AGAU540cbU",
        "colab": {
          "base_uri": "https://localhost:8080/"
        },
        "outputId": "894cc4d8-cc25-4113-9fa0-e4c640de66be"
      },
      "outputs": [
        {
          "output_type": "execute_result",
          "data": {
            "text/plain": [
              "          anomes                                       num_cpf_hash  \\\n",
              "11171813  202204  ffffd54b45ec46113523184fc07185a0d5cbfa876a07ba...   \n",
              "11171814  202204  ffffd47a92b3e4291c013033ae528708a19eaede50f78e...   \n",
              "11171815  202204  ffffbd4a3d42a12e07b1202d68c33d43220c42c8a55160...   \n",
              "11171816  202204  ffffafb315cf6852f08137c4486cc5d52df62c75da4aeb...   \n",
              "11171817  202204  ffff73562c0d8d596f2f282af4080212bdb8d5067362cb...   \n",
              "\n",
              "          vlr_credito  vlr_saldo  num_atend_atrs  vlr_score  num_produtos  \\\n",
              "11171813     37071.44    8241.16             NaN      523.0           2.0   \n",
              "11171814         0.00        NaN             NaN      523.0           4.0   \n",
              "11171815      2723.43    1399.99             NaN      780.0           2.0   \n",
              "11171816     16411.68        NaN             NaN      415.0           1.0   \n",
              "11171817          NaN        NaN             NaN      297.0           NaN   \n",
              "\n",
              "          num_atend  qtd_oper  qtd_reclm  qtd_restr vlr_renda cod_rating  \\\n",
              "11171813        NaN      13.0        NaN        1.0       NaN          A   \n",
              "11171814        NaN      18.0        NaN        1.0       NaN        NaN   \n",
              "11171815        NaN      40.0        NaN        NaN       NaN          A   \n",
              "11171816        NaN      10.0        NaN        3.0       NaN        NaN   \n",
              "11171817        NaN       NaN        NaN        8.0       NaN        NaN   \n",
              "\n",
              "          ind_atrito  ind_engaj  ind_novo_cli  \n",
              "11171813         NaN        1.0           NaN  \n",
              "11171814         NaN        NaN           1.0  \n",
              "11171815         NaN        1.0           NaN  \n",
              "11171816         NaN        NaN           NaN  \n",
              "11171817         NaN        NaN           NaN  "
            ],
            "text/html": [
              "\n",
              "  <div id=\"df-e4883e8f-5519-4284-abdc-4ca2bdafad0e\">\n",
              "    <div class=\"colab-df-container\">\n",
              "      <div>\n",
              "<style scoped>\n",
              "    .dataframe tbody tr th:only-of-type {\n",
              "        vertical-align: middle;\n",
              "    }\n",
              "\n",
              "    .dataframe tbody tr th {\n",
              "        vertical-align: top;\n",
              "    }\n",
              "\n",
              "    .dataframe thead th {\n",
              "        text-align: right;\n",
              "    }\n",
              "</style>\n",
              "<table border=\"1\" class=\"dataframe\">\n",
              "  <thead>\n",
              "    <tr style=\"text-align: right;\">\n",
              "      <th></th>\n",
              "      <th>anomes</th>\n",
              "      <th>num_cpf_hash</th>\n",
              "      <th>vlr_credito</th>\n",
              "      <th>vlr_saldo</th>\n",
              "      <th>num_atend_atrs</th>\n",
              "      <th>vlr_score</th>\n",
              "      <th>num_produtos</th>\n",
              "      <th>num_atend</th>\n",
              "      <th>qtd_oper</th>\n",
              "      <th>qtd_reclm</th>\n",
              "      <th>qtd_restr</th>\n",
              "      <th>vlr_renda</th>\n",
              "      <th>cod_rating</th>\n",
              "      <th>ind_atrito</th>\n",
              "      <th>ind_engaj</th>\n",
              "      <th>ind_novo_cli</th>\n",
              "    </tr>\n",
              "  </thead>\n",
              "  <tbody>\n",
              "    <tr>\n",
              "      <th>11171813</th>\n",
              "      <td>202204</td>\n",
              "      <td>ffffd54b45ec46113523184fc07185a0d5cbfa876a07ba...</td>\n",
              "      <td>37071.44</td>\n",
              "      <td>8241.16</td>\n",
              "      <td>NaN</td>\n",
              "      <td>523.0</td>\n",
              "      <td>2.0</td>\n",
              "      <td>NaN</td>\n",
              "      <td>13.0</td>\n",
              "      <td>NaN</td>\n",
              "      <td>1.0</td>\n",
              "      <td>NaN</td>\n",
              "      <td>A</td>\n",
              "      <td>NaN</td>\n",
              "      <td>1.0</td>\n",
              "      <td>NaN</td>\n",
              "    </tr>\n",
              "    <tr>\n",
              "      <th>11171814</th>\n",
              "      <td>202204</td>\n",
              "      <td>ffffd47a92b3e4291c013033ae528708a19eaede50f78e...</td>\n",
              "      <td>0.00</td>\n",
              "      <td>NaN</td>\n",
              "      <td>NaN</td>\n",
              "      <td>523.0</td>\n",
              "      <td>4.0</td>\n",
              "      <td>NaN</td>\n",
              "      <td>18.0</td>\n",
              "      <td>NaN</td>\n",
              "      <td>1.0</td>\n",
              "      <td>NaN</td>\n",
              "      <td>NaN</td>\n",
              "      <td>NaN</td>\n",
              "      <td>NaN</td>\n",
              "      <td>1.0</td>\n",
              "    </tr>\n",
              "    <tr>\n",
              "      <th>11171815</th>\n",
              "      <td>202204</td>\n",
              "      <td>ffffbd4a3d42a12e07b1202d68c33d43220c42c8a55160...</td>\n",
              "      <td>2723.43</td>\n",
              "      <td>1399.99</td>\n",
              "      <td>NaN</td>\n",
              "      <td>780.0</td>\n",
              "      <td>2.0</td>\n",
              "      <td>NaN</td>\n",
              "      <td>40.0</td>\n",
              "      <td>NaN</td>\n",
              "      <td>NaN</td>\n",
              "      <td>NaN</td>\n",
              "      <td>A</td>\n",
              "      <td>NaN</td>\n",
              "      <td>1.0</td>\n",
              "      <td>NaN</td>\n",
              "    </tr>\n",
              "    <tr>\n",
              "      <th>11171816</th>\n",
              "      <td>202204</td>\n",
              "      <td>ffffafb315cf6852f08137c4486cc5d52df62c75da4aeb...</td>\n",
              "      <td>16411.68</td>\n",
              "      <td>NaN</td>\n",
              "      <td>NaN</td>\n",
              "      <td>415.0</td>\n",
              "      <td>1.0</td>\n",
              "      <td>NaN</td>\n",
              "      <td>10.0</td>\n",
              "      <td>NaN</td>\n",
              "      <td>3.0</td>\n",
              "      <td>NaN</td>\n",
              "      <td>NaN</td>\n",
              "      <td>NaN</td>\n",
              "      <td>NaN</td>\n",
              "      <td>NaN</td>\n",
              "    </tr>\n",
              "    <tr>\n",
              "      <th>11171817</th>\n",
              "      <td>202204</td>\n",
              "      <td>ffff73562c0d8d596f2f282af4080212bdb8d5067362cb...</td>\n",
              "      <td>NaN</td>\n",
              "      <td>NaN</td>\n",
              "      <td>NaN</td>\n",
              "      <td>297.0</td>\n",
              "      <td>NaN</td>\n",
              "      <td>NaN</td>\n",
              "      <td>NaN</td>\n",
              "      <td>NaN</td>\n",
              "      <td>8.0</td>\n",
              "      <td>NaN</td>\n",
              "      <td>NaN</td>\n",
              "      <td>NaN</td>\n",
              "      <td>NaN</td>\n",
              "      <td>NaN</td>\n",
              "    </tr>\n",
              "  </tbody>\n",
              "</table>\n",
              "</div>\n",
              "      <button class=\"colab-df-convert\" onclick=\"convertToInteractive('df-e4883e8f-5519-4284-abdc-4ca2bdafad0e')\"\n",
              "              title=\"Convert this dataframe to an interactive table.\"\n",
              "              style=\"display:none;\">\n",
              "        \n",
              "  <svg xmlns=\"http://www.w3.org/2000/svg\" height=\"24px\"viewBox=\"0 0 24 24\"\n",
              "       width=\"24px\">\n",
              "    <path d=\"M0 0h24v24H0V0z\" fill=\"none\"/>\n",
              "    <path d=\"M18.56 5.44l.94 2.06.94-2.06 2.06-.94-2.06-.94-.94-2.06-.94 2.06-2.06.94zm-11 1L8.5 8.5l.94-2.06 2.06-.94-2.06-.94L8.5 2.5l-.94 2.06-2.06.94zm10 10l.94 2.06.94-2.06 2.06-.94-2.06-.94-.94-2.06-.94 2.06-2.06.94z\"/><path d=\"M17.41 7.96l-1.37-1.37c-.4-.4-.92-.59-1.43-.59-.52 0-1.04.2-1.43.59L10.3 9.45l-7.72 7.72c-.78.78-.78 2.05 0 2.83L4 21.41c.39.39.9.59 1.41.59.51 0 1.02-.2 1.41-.59l7.78-7.78 2.81-2.81c.8-.78.8-2.07 0-2.86zM5.41 20L4 18.59l7.72-7.72 1.47 1.35L5.41 20z\"/>\n",
              "  </svg>\n",
              "      </button>\n",
              "      \n",
              "  <style>\n",
              "    .colab-df-container {\n",
              "      display:flex;\n",
              "      flex-wrap:wrap;\n",
              "      gap: 12px;\n",
              "    }\n",
              "\n",
              "    .colab-df-convert {\n",
              "      background-color: #E8F0FE;\n",
              "      border: none;\n",
              "      border-radius: 50%;\n",
              "      cursor: pointer;\n",
              "      display: none;\n",
              "      fill: #1967D2;\n",
              "      height: 32px;\n",
              "      padding: 0 0 0 0;\n",
              "      width: 32px;\n",
              "    }\n",
              "\n",
              "    .colab-df-convert:hover {\n",
              "      background-color: #E2EBFA;\n",
              "      box-shadow: 0px 1px 2px rgba(60, 64, 67, 0.3), 0px 1px 3px 1px rgba(60, 64, 67, 0.15);\n",
              "      fill: #174EA6;\n",
              "    }\n",
              "\n",
              "    [theme=dark] .colab-df-convert {\n",
              "      background-color: #3B4455;\n",
              "      fill: #D2E3FC;\n",
              "    }\n",
              "\n",
              "    [theme=dark] .colab-df-convert:hover {\n",
              "      background-color: #434B5C;\n",
              "      box-shadow: 0px 1px 3px 1px rgba(0, 0, 0, 0.15);\n",
              "      filter: drop-shadow(0px 1px 2px rgba(0, 0, 0, 0.3));\n",
              "      fill: #FFFFFF;\n",
              "    }\n",
              "  </style>\n",
              "\n",
              "      <script>\n",
              "        const buttonEl =\n",
              "          document.querySelector('#df-e4883e8f-5519-4284-abdc-4ca2bdafad0e button.colab-df-convert');\n",
              "        buttonEl.style.display =\n",
              "          google.colab.kernel.accessAllowed ? 'block' : 'none';\n",
              "\n",
              "        async function convertToInteractive(key) {\n",
              "          const element = document.querySelector('#df-e4883e8f-5519-4284-abdc-4ca2bdafad0e');\n",
              "          const dataTable =\n",
              "            await google.colab.kernel.invokeFunction('convertToInteractive',\n",
              "                                                     [key], {});\n",
              "          if (!dataTable) return;\n",
              "\n",
              "          const docLinkHtml = 'Like what you see? Visit the ' +\n",
              "            '<a target=\"_blank\" href=https://colab.research.google.com/notebooks/data_table.ipynb>data table notebook</a>'\n",
              "            + ' to learn more about interactive tables.';\n",
              "          element.innerHTML = '';\n",
              "          dataTable['output_type'] = 'display_data';\n",
              "          await google.colab.output.renderOutput(dataTable, element);\n",
              "          const docLink = document.createElement('div');\n",
              "          docLink.innerHTML = docLinkHtml;\n",
              "          element.appendChild(docLink);\n",
              "        }\n",
              "      </script>\n",
              "    </div>\n",
              "  </div>\n",
              "  "
            ]
          },
          "metadata": {},
          "execution_count": 5
        }
      ],
      "source": [
        "# Dados lidos do arquvio csv\n",
        "df = pd.read_csv('data.csv')\n",
        "\n",
        "# Definição de dataframe que será utilizado na seção de mapeamento de jornada do usuário\n",
        "new_df = df.copy()\n",
        "\n",
        "# Filtrando a base de dados com um único mês\n",
        "last_month = df.anomes == 202204\n",
        "df = df[last_month]\n",
        "\n",
        "# Mostrando primeiros registros do Dataframe\n",
        "df.head()"
      ]
    },
    {
      "cell_type": "code",
      "source": [
        "df.describe(include=\"object\")"
      ],
      "metadata": {
        "id": "tqKB6mOmo98d",
        "colab": {
          "base_uri": "https://localhost:8080/"
        },
        "outputId": "3c0b365e-2b23-4362-bfc9-1b5cefdfd227"
      },
      "execution_count": null,
      "outputs": [
        {
          "output_type": "execute_result",
          "data": {
            "text/plain": [
              "                                             num_cpf_hash vlr_renda cod_rating\n",
              "count                                              860680         0     444768\n",
              "unique                                             860680         0         10\n",
              "top     ffffd54b45ec46113523184fc07185a0d5cbfa876a07ba...       NaN          A\n",
              "freq                                                    1       NaN     331447"
            ],
            "text/html": [
              "\n",
              "  <div id=\"df-20b4c69f-1338-44a1-b472-7c67bff8234c\">\n",
              "    <div class=\"colab-df-container\">\n",
              "      <div>\n",
              "<style scoped>\n",
              "    .dataframe tbody tr th:only-of-type {\n",
              "        vertical-align: middle;\n",
              "    }\n",
              "\n",
              "    .dataframe tbody tr th {\n",
              "        vertical-align: top;\n",
              "    }\n",
              "\n",
              "    .dataframe thead th {\n",
              "        text-align: right;\n",
              "    }\n",
              "</style>\n",
              "<table border=\"1\" class=\"dataframe\">\n",
              "  <thead>\n",
              "    <tr style=\"text-align: right;\">\n",
              "      <th></th>\n",
              "      <th>num_cpf_hash</th>\n",
              "      <th>vlr_renda</th>\n",
              "      <th>cod_rating</th>\n",
              "    </tr>\n",
              "  </thead>\n",
              "  <tbody>\n",
              "    <tr>\n",
              "      <th>count</th>\n",
              "      <td>860680</td>\n",
              "      <td>0</td>\n",
              "      <td>444768</td>\n",
              "    </tr>\n",
              "    <tr>\n",
              "      <th>unique</th>\n",
              "      <td>860680</td>\n",
              "      <td>0</td>\n",
              "      <td>10</td>\n",
              "    </tr>\n",
              "    <tr>\n",
              "      <th>top</th>\n",
              "      <td>ffffd54b45ec46113523184fc07185a0d5cbfa876a07ba...</td>\n",
              "      <td>NaN</td>\n",
              "      <td>A</td>\n",
              "    </tr>\n",
              "    <tr>\n",
              "      <th>freq</th>\n",
              "      <td>1</td>\n",
              "      <td>NaN</td>\n",
              "      <td>331447</td>\n",
              "    </tr>\n",
              "  </tbody>\n",
              "</table>\n",
              "</div>\n",
              "      <button class=\"colab-df-convert\" onclick=\"convertToInteractive('df-20b4c69f-1338-44a1-b472-7c67bff8234c')\"\n",
              "              title=\"Convert this dataframe to an interactive table.\"\n",
              "              style=\"display:none;\">\n",
              "        \n",
              "  <svg xmlns=\"http://www.w3.org/2000/svg\" height=\"24px\"viewBox=\"0 0 24 24\"\n",
              "       width=\"24px\">\n",
              "    <path d=\"M0 0h24v24H0V0z\" fill=\"none\"/>\n",
              "    <path d=\"M18.56 5.44l.94 2.06.94-2.06 2.06-.94-2.06-.94-.94-2.06-.94 2.06-2.06.94zm-11 1L8.5 8.5l.94-2.06 2.06-.94-2.06-.94L8.5 2.5l-.94 2.06-2.06.94zm10 10l.94 2.06.94-2.06 2.06-.94-2.06-.94-.94-2.06-.94 2.06-2.06.94z\"/><path d=\"M17.41 7.96l-1.37-1.37c-.4-.4-.92-.59-1.43-.59-.52 0-1.04.2-1.43.59L10.3 9.45l-7.72 7.72c-.78.78-.78 2.05 0 2.83L4 21.41c.39.39.9.59 1.41.59.51 0 1.02-.2 1.41-.59l7.78-7.78 2.81-2.81c.8-.78.8-2.07 0-2.86zM5.41 20L4 18.59l7.72-7.72 1.47 1.35L5.41 20z\"/>\n",
              "  </svg>\n",
              "      </button>\n",
              "      \n",
              "  <style>\n",
              "    .colab-df-container {\n",
              "      display:flex;\n",
              "      flex-wrap:wrap;\n",
              "      gap: 12px;\n",
              "    }\n",
              "\n",
              "    .colab-df-convert {\n",
              "      background-color: #E8F0FE;\n",
              "      border: none;\n",
              "      border-radius: 50%;\n",
              "      cursor: pointer;\n",
              "      display: none;\n",
              "      fill: #1967D2;\n",
              "      height: 32px;\n",
              "      padding: 0 0 0 0;\n",
              "      width: 32px;\n",
              "    }\n",
              "\n",
              "    .colab-df-convert:hover {\n",
              "      background-color: #E2EBFA;\n",
              "      box-shadow: 0px 1px 2px rgba(60, 64, 67, 0.3), 0px 1px 3px 1px rgba(60, 64, 67, 0.15);\n",
              "      fill: #174EA6;\n",
              "    }\n",
              "\n",
              "    [theme=dark] .colab-df-convert {\n",
              "      background-color: #3B4455;\n",
              "      fill: #D2E3FC;\n",
              "    }\n",
              "\n",
              "    [theme=dark] .colab-df-convert:hover {\n",
              "      background-color: #434B5C;\n",
              "      box-shadow: 0px 1px 3px 1px rgba(0, 0, 0, 0.15);\n",
              "      filter: drop-shadow(0px 1px 2px rgba(0, 0, 0, 0.3));\n",
              "      fill: #FFFFFF;\n",
              "    }\n",
              "  </style>\n",
              "\n",
              "      <script>\n",
              "        const buttonEl =\n",
              "          document.querySelector('#df-20b4c69f-1338-44a1-b472-7c67bff8234c button.colab-df-convert');\n",
              "        buttonEl.style.display =\n",
              "          google.colab.kernel.accessAllowed ? 'block' : 'none';\n",
              "\n",
              "        async function convertToInteractive(key) {\n",
              "          const element = document.querySelector('#df-20b4c69f-1338-44a1-b472-7c67bff8234c');\n",
              "          const dataTable =\n",
              "            await google.colab.kernel.invokeFunction('convertToInteractive',\n",
              "                                                     [key], {});\n",
              "          if (!dataTable) return;\n",
              "\n",
              "          const docLinkHtml = 'Like what you see? Visit the ' +\n",
              "            '<a target=\"_blank\" href=https://colab.research.google.com/notebooks/data_table.ipynb>data table notebook</a>'\n",
              "            + ' to learn more about interactive tables.';\n",
              "          element.innerHTML = '';\n",
              "          dataTable['output_type'] = 'display_data';\n",
              "          await google.colab.output.renderOutput(dataTable, element);\n",
              "          const docLink = document.createElement('div');\n",
              "          docLink.innerHTML = docLinkHtml;\n",
              "          element.appendChild(docLink);\n",
              "        }\n",
              "      </script>\n",
              "    </div>\n",
              "  </div>\n",
              "  "
            ]
          },
          "metadata": {},
          "execution_count": 6
        }
      ]
    },
    {
      "cell_type": "code",
      "execution_count": null,
      "metadata": {
        "id": "bPwDnhMx44JC",
        "colab": {
          "base_uri": "https://localhost:8080/"
        },
        "outputId": "5f753b12-47e7-4f9e-a410-ee07ccdd8f48"
      },
      "outputs": [
        {
          "output_type": "stream",
          "name": "stdout",
          "text": [
            "<class 'pandas.core.frame.DataFrame'>\n",
            "Int64Index: 860680 entries, 11171813 to 12032492\n",
            "Data columns (total 16 columns):\n",
            " #   Column          Non-Null Count   Dtype  \n",
            "---  ------          --------------   -----  \n",
            " 0   anomes          860680 non-null  int64  \n",
            " 1   num_cpf_hash    860680 non-null  object \n",
            " 2   vlr_credito     468603 non-null  float64\n",
            " 3   vlr_saldo       444768 non-null  float64\n",
            " 4   num_atend_atrs  521 non-null     float64\n",
            " 5   vlr_score       851123 non-null  float64\n",
            " 6   num_produtos    477651 non-null  float64\n",
            " 7   num_atend       1551 non-null    float64\n",
            " 8   qtd_oper        468603 non-null  float64\n",
            " 9   qtd_reclm       57 non-null      float64\n",
            " 10  qtd_restr       604604 non-null  float64\n",
            " 11  vlr_renda       0 non-null       object \n",
            " 12  cod_rating      444768 non-null  object \n",
            " 13  ind_atrito      216 non-null     float64\n",
            " 14  ind_engaj       148236 non-null  float64\n",
            " 15  ind_novo_cli    170899 non-null  float64\n",
            "dtypes: float64(12), int64(1), object(3)\n",
            "memory usage: 111.6+ MB\n"
          ]
        }
      ],
      "source": [
        "df.info()"
      ]
    },
    {
      "cell_type": "markdown",
      "source": [
        "### Removendo colunas que não iremos utilizar"
      ],
      "metadata": {
        "id": "E7bKqG871VmQ"
      }
    },
    {
      "cell_type": "code",
      "source": [
        "df = df.drop('vlr_renda', axis=1)"
      ],
      "metadata": {
        "id": "3udahxLk1VJz"
      },
      "execution_count": null,
      "outputs": []
    },
    {
      "cell_type": "markdown",
      "metadata": {
        "id": "fS5JmPyAQGH5"
      },
      "source": [
        "# Manipulação dos dados das colunas da base de dados geral\n",
        "##### Preenchemos os valores vazios das colunas e tratamos dados que estavam com a tipagem errada."
      ]
    },
    {
      "cell_type": "markdown",
      "source": [
        "Nas seguinte células, transformamos os valores NaN das colunas em 0"
      ],
      "metadata": {
        "id": "Rh7o8vJmhHnz"
      }
    },
    {
      "cell_type": "code",
      "execution_count": null,
      "metadata": {
        "id": "Xu2__FZfQTrk"
      },
      "outputs": [],
      "source": [
        "df['ind_atrito'] = df['ind_atrito'].fillna(0)"
      ]
    },
    {
      "cell_type": "code",
      "execution_count": null,
      "metadata": {
        "id": "HgX-raUaQ8AD"
      },
      "outputs": [],
      "source": [
        "df['ind_engaj'] = df['ind_engaj'].fillna(0)"
      ]
    },
    {
      "cell_type": "code",
      "execution_count": null,
      "metadata": {
        "id": "qgDY85uHQ_gg"
      },
      "outputs": [],
      "source": [
        "df['ind_novo_cli'] = df['ind_novo_cli'].fillna(0)"
      ]
    },
    {
      "cell_type": "code",
      "execution_count": null,
      "metadata": {
        "id": "9D_ubuqwST1Q"
      },
      "outputs": [],
      "source": [
        "df['num_atend'] = df['num_atend'].fillna(0)"
      ]
    },
    {
      "cell_type": "code",
      "execution_count": null,
      "metadata": {
        "id": "S2JV1O5YSlhB"
      },
      "outputs": [],
      "source": [
        "df['num_atend_atrs'] = df['num_atend_atrs'].fillna(0)"
      ]
    },
    {
      "cell_type": "code",
      "execution_count": null,
      "metadata": {
        "id": "d-CRKVvVS30w"
      },
      "outputs": [],
      "source": [
        "df['qtd_reclm'] = df['qtd_reclm'].fillna(0) "
      ]
    },
    {
      "cell_type": "markdown",
      "metadata": {
        "id": "Whr4BewjE1Tf"
      },
      "source": [
        "\n",
        "\n",
        "\n",
        "# Divisão da tabela entre clientes e não clientes\n",
        "\n",
        "\n",
        "\n"
      ]
    },
    {
      "cell_type": "code",
      "execution_count": null,
      "metadata": {
        "id": "P5UvTZ2BEuaU"
      },
      "outputs": [],
      "source": [
        "client = df[df.cod_rating.notna()]\n",
        "not_client = df[df.cod_rating.isna()]"
      ]
    },
    {
      "cell_type": "code",
      "source": [
        "not_client.info()"
      ],
      "metadata": {
        "id": "IglZH9hWMYUo",
        "colab": {
          "base_uri": "https://localhost:8080/"
        },
        "outputId": "6cbca040-55c6-45c8-b559-f6ad9371bd4f"
      },
      "execution_count": null,
      "outputs": [
        {
          "output_type": "stream",
          "name": "stdout",
          "text": [
            "<class 'pandas.core.frame.DataFrame'>\n",
            "Int64Index: 415912 entries, 11171814 to 12032492\n",
            "Data columns (total 15 columns):\n",
            " #   Column          Non-Null Count   Dtype  \n",
            "---  ------          --------------   -----  \n",
            " 0   anomes          415912 non-null  int64  \n",
            " 1   num_cpf_hash    415912 non-null  object \n",
            " 2   vlr_credito     79788 non-null   float64\n",
            " 3   vlr_saldo       0 non-null       float64\n",
            " 4   num_atend_atrs  415912 non-null  float64\n",
            " 5   vlr_score       415700 non-null  float64\n",
            " 6   num_produtos    74984 non-null   float64\n",
            " 7   num_atend       415912 non-null  float64\n",
            " 8   qtd_oper        79788 non-null   float64\n",
            " 9   qtd_reclm       415912 non-null  float64\n",
            " 10  qtd_restr       394410 non-null  float64\n",
            " 11  cod_rating      0 non-null       object \n",
            " 12  ind_atrito      415912 non-null  float64\n",
            " 13  ind_engaj       415912 non-null  float64\n",
            " 14  ind_novo_cli    415912 non-null  float64\n",
            "dtypes: float64(12), int64(1), object(2)\n",
            "memory usage: 50.8+ MB\n"
          ]
        }
      ]
    },
    {
      "cell_type": "markdown",
      "source": [
        "#Visualização gráfica de hipóteses\n"
      ],
      "metadata": {
        "id": "rMDJXXMnsYBE"
      }
    },
    {
      "cell_type": "markdown",
      "source": [
        "##Hipótese 1\n",
        "Clientes com o score mais alto possuem um valor de saldo no banco pan maior (Hipótese não comprovada)."
      ],
      "metadata": {
        "id": "PblRgJw3BbrU"
      }
    },
    {
      "cell_type": "code",
      "source": [
        "fig = px.scatter(client.sample(10000), x = \"vlr_score\", y = \"vlr_saldo\")\n",
        "fig.show()"
      ],
      "metadata": {
        "id": "fWLEJXB_suZH",
        "colab": {
          "base_uri": "https://localhost:8080/",
          "height": 542
        },
        "outputId": "c5a63202-41d8-4e1a-b9e3-a35ec6ec9cff"
      },
      "execution_count": null,
      "outputs": [
        {
          "output_type": "display_data",
          "data": {
            "text/html": [
              "<html>\n",
              "<head><meta charset=\"utf-8\" /></head>\n",
              "<body>\n",
              "    <div>            <script src=\"https://cdnjs.cloudflare.com/ajax/libs/mathjax/2.7.5/MathJax.js?config=TeX-AMS-MML_SVG\"></script><script type=\"text/javascript\">if (window.MathJax) {MathJax.Hub.Config({SVG: {font: \"STIX-Web\"}});}</script>                <script type=\"text/javascript\">window.PlotlyConfig = {MathJaxConfig: 'local'};</script>\n",
              "        <script src=\"https://cdn.plot.ly/plotly-2.8.3.min.js\"></script>                <div id=\"fc4eb72f-fffb-44c2-9a30-151fd3853aa6\" class=\"plotly-graph-div\" style=\"height:525px; width:100%;\"></div>            <script type=\"text/javascript\">                                    window.PLOTLYENV=window.PLOTLYENV || {};                                    if (document.getElementById(\"fc4eb72f-fffb-44c2-9a30-151fd3853aa6\")) {                    Plotly.newPlot(                        \"fc4eb72f-fffb-44c2-9a30-151fd3853aa6\",                        [{\"hovertemplate\":\"vlr_score=%{x}<br>vlr_saldo=%{y}<extra></extra>\",\"legendgroup\":\"\",\"marker\":{\"color\":\"#636efa\",\"symbol\":\"circle\"},\"mode\":\"markers\",\"name\":\"\",\"showlegend\":false,\"x\":[953.0,620.0,153.0,142.0,127.0,437.0,792.0,393.0,397.0,374.0,575.0,731.0,339.0,853.0,361.0,940.0,364.0,594.0,689.0,922.0,575.0,311.0,433.0,657.0,661.0,916.0,488.0,426.0,270.0,697.0,850.0,188.0,136.0,211.0,332.0,564.0,897.0,452.0,792.0,504.0,738.0,525.0,523.0,674.0,967.0,120.0,611.0,865.0,632.0,null,670.0,419.0,471.0,153.0,447.0,592.0,946.0,343.0,641.0,902.0,814.0,576.0,202.0,637.0,182.0,750.0,738.0,512.0,439.0,533.0,705.0,548.0,575.0,780.0,462.0,562.0,198.0,108.0,452.0,512.0,674.0,437.0,588.0,620.0,439.0,697.0,146.0,329.0,902.0,576.0,350.0,197.0,444.0,973.0,391.0,641.0,958.0,663.0,389.0,384.0,306.0,747.0,836.0,790.0,176.0,562.0,514.0,439.0,942.0,504.0,773.0,95.0,536.0,133.0,624.0,800.0,575.0,529.0,930.0,149.0,655.0,668.0,598.0,358.0,359.0,755.0,635.0,448.0,90.0,676.0,708.0,904.0,100.0,475.0,380.0,726.0,313.0,158.0,691.0,430.0,548.0,853.0,700.0,962.0,823.0,391.0,609.0,377.0,287.0,960.0,939.0,367.0,552.0,337.0,0.0,884.0,295.0,508.0,598.0,575.0,957.0,483.0,390.0,575.0,697.0,398.0,940.0,523.0,337.0,533.0,924.0,548.0,430.0,368.0,792.0,866.0,712.0,504.0,353.0,413.0,630.0,804.0,584.0,477.0,620.0,630.0,575.0,443.0,717.0,952.0,568.0,389.0,601.0,452.0,674.0,298.0,575.0,354.0,895.0,327.0,407.0,853.0,529.0,891.0,570.0,484.0,366.0,384.0,486.0,804.0,191.0,777.0,447.0,429.0,210.0,722.0,705.0,417.0,933.0,189.0,435.0,911.0,575.0,615.0,230.0,424.0,null,374.0,531.0,731.0,300.0,356.0,224.0,425.0,395.0,null,null,498.0,323.0,407.0,562.0,504.0,344.0,410.0,961.0,512.0,643.0,926.0,731.0,222.0,202.0,224.0,575.0,382.0,663.0,202.0,743.0,438.0,325.0,575.0,790.0,974.0,575.0,680.0,407.0,366.0,397.0,558.0,410.0,575.0,0.0,536.0,882.0,424.0,871.0,868.0,630.0,233.0,248.0,278.0,202.0,674.0,437.0,400.0,714.0,592.0,586.0,525.0,919.0,596.0,438.0,592.0,959.0,261.0,575.0,775.0,240.0,228.0,502.0,394.0,937.0,647.0,378.0,332.0,364.0,938.0,536.0,626.0,433.0,419.0,575.0,240.0,574.0,726.0,430.0,425.0,888.0,534.0,353.0,912.0,562.0,469.0,558.0,448.0,276.0,400.0,434.0,584.0,827.0,787.0,575.0,412.0,733.0,576.0,554.0,661.0,null,957.0,942.0,389.0,460.0,456.0,486.0,823.0,972.0,903.0,615.0,397.0,366.0,189.0,456.0,428.0,533.0,748.0,444.0,697.0,523.0,309.0,304.0,785.0,605.0,392.0,437.0,329.0,954.0,661.0,352.0,228.0,481.0,494.0,850.0,398.0,840.0,434.0,620.0,88.0,695.0,575.0,693.0,369.0,132.0,911.0,564.0,475.0,385.0,770.0,575.0,956.0,358.0,575.0,125.0,558.0,211.0,780.0,442.0,575.0,393.0,758.0,344.0,380.0,921.0,592.0,884.0,390.0,655.0,393.0,316.0,431.0,330.0,573.0,546.0,600.0,428.0,373.0,568.0,724.0,517.0,488.0,575.0,575.0,659.0,738.0,125.0,316.0,124.0,437.0,454.0,850.0,415.0,564.0,129.0,523.0,592.0,159.0,687.0,336.0,291.0,823.0,211.0,462.0,494.0,336.0,null,383.0,446.0,417.0,192.0,592.0,562.0,873.0,443.0,575.0,620.0,886.0,521.0,417.0,950.0,313.0,562.0,392.0,null,521.0,142.0,921.0,222.0,965.0,548.0,575.0,575.0,576.0,715.0,843.0,140.0,462.0,575.0,575.0,458.0,866.0,514.0,674.0,961.0,603.0,566.0,575.0,519.0,329.0,830.0,575.0,382.0,208.0,575.0,407.0,598.0,408.0,353.0,575.0,729.0,903.0,413.0,788.0,null,674.0,378.0,540.0,598.0,830.0,853.0,958.0,687.0,89.0,265.0,884.0,180.0,544.0,575.0,882.0,407.0,724.0,null,334.0,866.0,373.0,416.0,531.0,396.0,879.0,224.0,857.0,422.0,464.0,295.0,141.0,357.0,661.0,383.0,940.0,355.0,575.0,661.0,390.0,343.0,546.0,743.0,355.0,810.0,546.0,391.0,717.0,575.0,132.0,508.0,80.0,132.0,166.0,352.0,763.0,364.0,888.0,657.0,884.0,323.0,300.0,891.0,424.0,380.0,408.0,676.0,483.0,488.0,392.0,363.0,873.0,179.0,320.0,442.0,289.0,195.0,536.0,570.0,650.0,795.0,575.0,937.0,963.0,689.0,395.0,908.0,517.0,712.0,864.0,385.0,415.0,738.0,575.0,360.0,859.0,575.0,460.0,580.0,407.0,415.0,380.0,930.0,645.0,753.0,533.0,575.0,578.0,913.0,448.0,323.0,560.0,389.0,168.0,909.0,415.0,412.0,350.0,437.0,380.0,315.0,920.0,760.0,770.0,575.0,467.0,934.0,600.0,233.0,171.0,548.0,206.0,194.0,506.0,98.0,768.0,738.0,628.0,407.0,392.0,233.0,355.0,337.0,578.0,444.0,129.0,921.0,552.0,605.0,213.0,374.0,180.0,879.0,866.0,695.0,213.0,697.0,136.0,915.0,366.0,95.0,204.0,360.0,691.0,575.0,578.0,953.0,594.0,877.0,444.0,146.0,575.0,575.0,575.0,960.0,575.0,195.0,211.0,575.0,215.0,287.0,186.0,343.0,521.0,429.0,null,323.0,null,657.0,323.0,208.0,575.0,575.0,309.0,447.0,445.0,575.0,830.0,575.0,429.0,875.0,865.0,613.0,780.0,533.0,430.0,387.0,866.0,404.0,542.0,960.0,381.0,957.0,89.0,446.0,404.0,475.0,300.0,920.0,417.0,330.0,564.0,502.0,902.0,475.0,442.0,469.0,630.0,700.0,525.0,149.0,389.0,575.0,575.0,622.0,388.0,672.0,354.0,941.0,261.0,460.0,921.0,657.0,374.0,665.0,961.0,814.0,836.0,871.0,437.0,902.0,814.0,142.0,357.0,371.0,452.0,519.0,411.0,502.0,641.0,566.0,556.0,575.0,642.0,108.0,775.0,415.0,222.0,657.0,311.0,823.0,96.0,868.0,368.0,859.0,403.0,171.0,650.0,871.0,334.0,392.0,624.0,355.0,955.0,575.0,891.0,864.0,219.0,575.0,458.0,717.0,429.0,420.0,733.0,263.0,846.0,433.0,952.0,362.0,575.0,336.0,398.0,575.0,521.0,533.0,290.0,392.0,575.0,274.0,736.0,437.0,192.0,295.0,341.0,439.0,0.0,661.0,355.0,90.0,594.0,373.0,955.0,877.0,590.0,645.0,765.0,966.0,682.0,475.0,426.0,235.0,763.0,733.0,626.0,496.0,161.0,379.0,337.0,703.0,607.0,329.0,255.0,481.0,257.0,149.0,370.0,407.0,448.0,954.0,348.0,325.0,548.0,544.0,165.0,516.0,454.0,763.0,496.0,823.0,168.0,363.0,843.0,396.0,895.0,575.0,417.0,575.0,442.0,395.0,862.0,null,464.0,358.0,578.0,588.0,416.0,239.0,884.0,572.0,403.0,582.0,575.0,550.0,448.0,731.0,357.0,792.0,481.0,882.0,857.0,311.0,388.0,471.0,588.0,494.0,641.0,192.0,471.0,316.0,625.0,954.0,653.0,195.0,434.0,null,379.0,902.0,957.0,274.0,337.0,506.0,823.0,395.0,407.0,337.0,475.0,554.0,464.0,519.0,910.0,344.0,329.0,398.0,496.0,765.0,575.0,807.0,327.0,null,454.0,394.0,374.0,531.0,397.0,182.0,733.0,315.0,682.0,483.0,479.0,426.0,797.0,378.0,674.0,506.0,428.0,743.0,689.0,940.0,392.0,575.0,564.0,800.0,915.0,726.0,554.0,130.0,650.0,797.0,433.0,745.0,517.0,722.0,717.0,99.0,323.0,800.0,814.0,462.0,692.0,371.0,237.0,562.0,344.0,426.0,795.0,300.0,722.0,556.0,383.0,425.0,773.0,420.0,355.0,925.0,504.0,250.0,402.0,632.0,540.0,150.0,903.0,null,904.0,494.0,195.0,406.0,624.0,144.0,415.0,917.0,665.0,425.0,740.0,484.0,552.0,448.0,373.0,622.0,562.0,215.0,406.0,376.0,334.0,846.0,743.0,930.0,853.0,442.0,558.0,533.0,743.0,961.0,609.0,475.0,360.0,605.0,868.0,158.0,257.0,930.0,661.0,311.0,397.0,693.0,674.0,289.0,182.0,780.0,531.0,389.0,733.0,792.0,647.0,498.0,558.0,575.0,382.0,575.0,670.0,893.0,78.0,657.0,572.0,922.0,562.0,411.0,823.0,302.0,341.0,747.0,550.0,792.0,411.0,950.0,null,179.0,143.0,426.0,259.0,422.0,452.0,289.0,921.0,323.0,488.0,653.0,422.0,630.0,490.0,457.0,377.0,700.0,108.0,700.0,689.0,950.0,823.0,592.0,657.0,306.0,341.0,426.0,637.0,224.0,389.0,575.0,442.0,490.0,473.0,359.0,575.0,592.0,null,705.0,529.0,408.0,773.0,823.0,490.0,639.0,903.0,760.0,200.0,462.0,460.0,928.0,961.0,552.0,411.0,517.0,398.0,422.0,953.0,467.0,884.0,722.0,596.0,490.0,329.0,639.0,134.0,183.0,471.0,690.0,454.0,171.0,352.0,708.0,743.0,153.0,575.0,840.0,533.0,657.0,481.0,717.0,365.0,572.0,479.0,350.0,609.0,755.0,846.0,318.0,544.0,402.0,null,278.0,797.0,504.0,353.0,360.0,823.0,496.0,804.0,665.0,738.0,379.0,775.0,293.0,685.0,365.0,496.0,332.0,215.0,575.0,743.0,715.0,575.0,725.0,588.0,592.0,719.0,609.0,575.0,582.0,440.0,897.0,484.0,873.0,536.0,605.0,235.0,843.0,924.0,659.0,934.0,422.0,570.0,454.0,270.0,200.0,548.0,430.0,951.0,743.0,951.0,624.0,645.0,574.0,575.0,481.0,598.0,384.0,325.0,782.0,149.0,940.0,494.0,568.0,533.0,560.0,787.0,502.0,986.0,422.0,588.0,389.0,404.0,527.0,747.0,775.0,442.0,364.0,408.0,584.0,397.0,438.0,446.0,643.0,853.0,410.0,424.0,554.0,479.0,395.0,164.0,152.0,382.0,372.0,434.0,533.0,919.0,498.0,439.0,383.0,211.0,475.0,285.0,369.0,626.0,534.0,575.0,560.0,542.0,343.0,956.0,942.0,655.0,570.0,641.0,929.0,369.0,454.0,846.0,null,695.0,219.0,295.0,613.0,372.0,708.0,875.0,477.0,691.0,566.0,575.0,479.0,389.0,827.0,523.0,366.0,438.0,873.0,239.0,246.0,311.0,510.0,404.0,575.0,354.0,378.0,408.0,446.0,552.0,454.0,428.0,726.0,323.0,862.0,374.0,237.0,263.0,546.0,594.0,568.0,395.0,913.0,285.0,471.0,695.0,750.0,348.0,402.0,719.0,274.0,467.0,540.0,204.0,647.0,504.0,308.0,413.0,397.0,475.0,448.0,703.0,386.0,527.0,722.0,866.0,434.0,622.0,420.0,609.0,682.0,575.0,194.0,350.0,494.0,407.0,592.0,908.0,173.0,295.0,935.0,624.0,708.0,750.0,406.0,346.0,348.0,473.0,575.0,807.0,361.0,527.0,417.0,359.0,868.0,360.0,259.0,168.0,231.0,400.0,817.0,907.0,337.0,575.0,705.0,395.0,897.0,176.0,598.0,287.0,484.0,364.0,864.0,440.0,695.0,369.0,504.0,239.0,484.0,768.0,529.0,480.0,136.0,355.0,496.0,null,126.0,618.0,237.0,665.0,908.0,743.0,782.0,661.0,953.0,611.0,506.0,817.0,235.0,278.0,403.0,955.0,394.0,null,460.0,429.0,954.0,146.0,327.0,689.0,859.0,297.0,383.0,546.0,590.0,700.0,null,719.0,433.0,584.0,500.0,508.0,162.0,null,330.0,378.0,574.0,554.0,325.0,386.0,0.0,null,130.0,927.0,352.0,208.0,879.0,552.0,575.0,364.0,917.0,167.0,272.0,527.0,415.0,412.0,367.0,516.0,712.0,928.0,942.0,550.0,469.0,403.0,403.0,693.0,467.0,447.0,437.0,419.0,884.0,566.0,367.0,533.0,550.0,417.0,540.0,426.0,419.0,564.0,385.0,594.0,135.0,85.0,377.0,729.0,956.0,null,486.0,448.0,217.0,357.0,862.0,244.0,330.0,575.0,957.0,426.0,327.0,663.0,412.0,217.0,620.0,246.0,961.0,100.0,674.0,398.0,641.0,632.0,554.0,527.0,394.0,590.0,588.0,611.0,939.0,null,454.0,426.0,336.0,538.0,498.0,953.0,486.0,null,316.0,447.0,494.0,954.0,222.0,753.0,282.0,502.0,369.0,270.0,564.0,820.0,170.0,950.0,348.0,915.0,246.0,853.0,246.0,785.0,866.0,697.0,674.0,361.0,850.0,884.0,951.0,287.0,566.0,588.0,375.0,419.0,719.0,956.0,868.0,504.0,641.0,null,304.0,389.0,740.0,922.0,510.0,952.0,408.0,674.0,643.0,952.0,219.0,229.0,419.0,350.0,437.0,976.0,448.0,701.0,337.0,244.0,122.0,465.0,891.0,952.0,447.0,295.0,674.0,626.0,206.0,628.0,560.0,397.0,295.0,670.0,659.0,null,575.0,446.0,960.0,268.0,374.0,760.0,230.0,308.0,624.0,954.0,504.0,525.0,575.0,897.0,866.0,558.0,902.0,246.0,773.0,439.0,575.0,717.0,483.0,607.0,481.0,352.0,370.0,142.0,575.0,554.0,315.0,389.0,477.0,510.0,624.0,763.0,424.0,398.0,588.0,678.0,477.0,733.0,437.0,195.0,389.0,265.0,98.0,397.0,592.0,404.0,743.0,635.0,575.0,346.0,311.0,389.0,724.0,403.0,276.0,902.0,444.0,639.0,442.0,419.0,148.0,546.0,426.0,416.0,548.0,628.0,645.0,630.0,123.0,360.0,760.0,731.0,703.0,385.0,117.0,672.0,375.0,957.0,947.0,635.0,431.0,533.0,280.0,590.0,417.0,179.0,575.0,494.0,823.0,438.0,645.0,null,282.0,657.0,0.0,715.0,415.0,939.0,408.0,931.0,868.0,389.0,226.0,285.0,830.0,492.0,358.0,370.0,911.0,371.0,558.0,920.0,933.0,950.0,568.0,168.0,222.0,130.0,365.0,687.0,575.0,921.0,492.0,661.0,955.0,955.0,689.0,200.0,552.0,140.0,523.0,452.0,691.0,322.0,833.0,304.0,632.0,198.0,882.0,366.0,198.0,726.0,348.0,182.0,440.0,442.0,921.0,544.0,687.0,278.0,626.0,242.0,643.0,647.0,956.0,575.0,676.0,531.0,406.0,200.0,200.0,823.0,575.0,235.0,575.0,437.0,287.0,907.0,768.0,408.0,386.0,413.0,162.0,498.0,919.0,900.0,364.0,600.0,153.0,575.0,906.0,913.0,492.0,797.0,911.0,429.0,130.0,439.0,575.0,843.0,393.0,833.0,426.0,359.0,437.0,641.0,469.0,473.0,590.0,632.0,182.0,438.0,421.0,null,628.0,846.0,119.0,570.0,653.0,191.0,592.0,805.0,575.0,738.0,488.0,null,959.0,456.0,363.0,186.0,600.0,448.0,562.0,575.0,106.0,895.0,777.0,596.0,158.0,575.0,384.0,370.0,630.0,736.0,318.0,469.0,434.0,700.0,391.0,624.0,560.0,578.0,446.0,330.0,884.0,519.0,389.0,444.0,613.0,620.0,291.0,467.0,417.0,434.0,416.0,935.0,352.0,496.0,508.0,109.0,98.0,613.0,373.0,467.0,370.0,483.0,823.0,556.0,400.0,364.0,676.0,488.0,611.0,672.0,194.0,884.0,311.0,424.0,777.0,582.0,790.0,224.0,189.0,931.0,703.0,424.0,722.0,120.0,643.0,397.0,479.0,182.0,578.0,173.0,385.0,588.0,857.0,947.0,343.0,884.0,454.0,354.0,274.0,575.0,817.0,953.0,366.0,722.0,946.0,170.0,972.0,289.0,733.0,259.0,124.0,null,null,775.0,670.0,433.0,417.0,817.0,447.0,546.0,417.0,552.0,731.0,527.0,820.0,null,575.0,443.0,226.0,570.0,600.0,833.0,391.0,490.0,939.0,337.0,534.0,383.0,382.0,900.0,536.0,454.0,575.0,200.0,397.0,582.0,270.0,695.0,607.0,790.0,668.0,450.0,615.0,500.0,575.0,354.0,560.0,765.0,695.0,572.0,337.0,516.0,332.0,426.0,953.0,643.0,222.0,97.0,null,387.0,426.0,339.0,390.0,855.0,114.0,607.0,958.0,575.0,null,376.0,471.0,775.0,588.0,665.0,null,447.0,810.0,575.0,700.0,659.0,391.0,385.0,548.0,780.0,404.0,464.0,289.0,438.0,155.0,422.0,624.0,637.0,546.0,912.0,479.0,289.0,356.0,438.0,388.0,316.0,408.0,380.0,674.0,417.0,682.0,0.0,512.0,596.0,575.0,575.0,419.0,611.0,426.0,446.0,507.0,367.0,393.0,268.0,356.0,668.0,276.0,293.0,780.0,674.0,498.0,356.0,92.0,311.0,146.0,97.0,609.0,830.0,327.0,150.0,544.0,882.0,594.0,115.0,533.0,575.0,293.0,488.0,477.0,738.0,724.0,857.0,575.0,836.0,882.0,758.0,383.0,641.0,486.0,680.0,null,null,740.0,148.0,637.0,884.0,575.0,685.0,979.0,728.0,403.0,655.0,697.0,510.0,719.0,919.0,365.0,431.0,426.0,964.0,185.0,678.0,311.0,956.0,341.0,933.0,724.0,529.0,420.0,810.0,411.0,242.0,955.0,226.0,853.0,167.0,930.0,787.0,661.0,397.0,726.0,546.0,891.0,376.0,560.0,621.0,907.0,null,488.0,687.0,156.0,462.0,574.0,572.0,777.0,367.0,676.0,548.0,384.0,750.0,297.0,682.0,494.0,925.0,219.0,411.0,364.0,452.0,940.0,703.0,359.0,850.0,359.0,626.0,97.0,562.0,956.0,382.0,775.0,596.0,804.0,611.0,454.0,412.0,94.0,315.0,670.0,475.0,372.0,null,396.0,529.0,398.0,785.0,952.0,562.0,956.0,868.0,332.0,440.0,381.0,494.0,592.0,162.0,533.0,948.0,406.0,323.0,488.0,798.0,402.0,609.0,632.0,689.0,383.0,466.0,378.0,944.0,290.0,738.0,840.0,287.0,415.0,952.0,259.0,546.0,868.0,937.0,null,755.0,357.0,188.0,329.0,92.0,933.0,398.0,575.0,873.0,309.0,768.0,348.0,170.0,379.0,475.0,429.0,566.0,575.0,473.0,280.0,272.0,426.0,372.0,356.0,575.0,665.0,558.0,641.0,904.0,950.0,400.0,782.0,911.0,440.0,968.0,359.0,376.0,641.0,575.0,552.0,916.0,760.0,443.0,650.0,726.0,97.0,443.0,null,393.0,575.0,575.0,916.0,397.0,356.0,242.0,318.0,726.0,575.0,653.0,576.0,332.0,596.0,454.0,186.0,380.0,383.0,900.0,517.0,494.0,785.0,394.0,689.0,510.0,397.0,782.0,167.0,135.0,450.0,246.0,null,387.0,237.0,668.0,412.0,240.0,705.0,960.0,481.0,508.0,462.0,177.0,368.0,382.0,359.0,550.0,950.0,366.0,687.0,300.0,498.0,663.0,355.0,443.0,261.0,361.0,594.0,578.0,462.0,426.0,343.0,682.0,550.0,715.0,448.0,536.0,380.0,421.0,745.0,933.0,895.0,956.0,376.0,926.0,519.0,827.0,366.0,311.0,726.0,null,912.0,138.0,576.0,534.0,448.0,514.0,954.0,580.0,448.0,311.0,411.0,121.0,421.0,576.0,574.0,590.0,458.0,417.0,192.0,397.0,382.0,479.0,514.0,954.0,596.0,534.0,674.0,304.0,765.0,413.0,375.0,337.0,323.0,912.0,98.0,562.0,446.0,125.0,649.0,665.0,456.0,381.0,365.0,804.0,224.0,575.0,410.0,219.0,150.0,574.0,575.0,206.0,null,185.0,575.0,null,null,592.0,575.0,902.0,810.0,114.0,792.0,519.0,632.0,546.0,685.0,135.0,765.0,389.0,670.0,521.0,967.0,147.0,693.0,564.0,814.0,850.0,116.0,346.0,575.0,948.0,919.0,158.0,659.0,444.0,795.0,575.0,575.0,437.0,387.0,410.0,753.0,961.0,106.0,467.0,820.0,365.0,407.0,703.0,323.0,null,390.0,162.0,624.0,419.0,270.0,691.0,596.0,674.0,596.0,484.0,910.0,390.0,855.0,955.0,743.0,643.0,665.0,997.0,729.0,456.0,663.0,488.0,661.0,498.0,136.0,404.0,519.0,533.0,325.0,570.0,386.0,929.0,182.0,628.0,780.0,820.0,448.0,736.0,424.0,773.0,334.0,473.0,443.0,862.0,230.0,454.0,206.0,575.0,352.0,733.0,413.0,924.0,486.0,558.0,570.0,467.0,382.0,195.0,373.0,387.0,780.0,417.0,904.0,479.0,224.0,366.0,566.0,452.0,575.0,446.0,817.0,957.0,99.0,434.0,246.0,954.0,246.0,359.0,950.0,618.0,404.0,383.0,655.0,628.0,925.0,255.0,575.0,542.0,446.0,531.0,270.0,407.0,839.0,512.0,800.0,810.0,902.0,850.0,820.0,null,434.0,575.0,924.0,512.0,437.0,570.0,695.0,635.0,924.0,467.0,755.0,562.0,417.0,366.0,92.0,575.0,210.0,null,285.0,397.0,812.0,500.0,953.0,731.0,341.0,318.0,773.0,902.0,494.0,795.0,703.0,550.0,370.0,607.0,388.0,575.0,575.0,534.0,566.0,336.0,183.0,582.0,663.0,477.0,464.0,884.0,139.0,884.0,396.0,389.0,710.0,502.0,575.0,519.0,904.0,756.0,398.0,362.0,882.0,276.0,398.0,411.0,378.0,574.0,907.0,900.0,426.0,800.0,446.0,804.0,624.0,323.0,665.0,836.0,873.0,575.0,383.0,171.0,897.0,460.0,486.0,138.0,576.0,952.0,456.0,516.0,795.0,364.0,807.0,853.0,632.0,668.0,650.0,433.0,574.0,385.0,562.0,620.0,864.0,655.0,442.0,747.0,760.0,800.0,576.0,661.0,417.0,462.0,446.0,939.0,475.0,128.0,533.0,624.0,379.0,464.0,891.0,609.0,906.0,534.0,488.0,430.0,435.0,527.0,661.0,570.0,765.0,700.0,391.0,575.0,208.0,235.0,359.0,877.0,663.0,564.0,519.0,933.0,775.0,429.0,486.0,575.0,641.0,430.0,358.0,705.0,469.0,430.0,332.0,891.0,475.0,383.0,422.0,417.0,473.0,194.0,552.0,375.0,233.0,313.0,611.0,533.0,575.0,426.0,600.0,517.0,475.0,null,873.0,182.0,504.0,952.0,293.0,168.0,383.0,450.0,836.0,458.0,385.0,379.0,575.0,435.0,738.0,443.0,950.0,446.0,504.0,760.0,873.0,680.0,600.0,693.0,0.0,575.0,726.0,311.0,127.0,433.0,291.0,703.0,575.0,615.0,517.0,null,496.0,398.0,316.0,674.0,659.0,884.0,376.0,390.0,152.0,287.0,382.0,116.0,904.0,352.0,780.0,954.0,97.0,446.0,191.0,435.0,717.0,407.0,639.0,516.0,415.0,676.0,411.0,895.0,383.0,361.0,98.0,471.0,215.0,512.0,354.0,546.0,534.0,466.0,533.0,575.0,224.0,400.0,609.0,146.0,952.0,486.0,109.0,500.0,954.0,575.0,182.0,473.0,352.0,575.0,908.0,685.0,388.0,136.0,689.0,177.0,624.0,95.0,940.0,904.0,618.0,322.0,313.0,429.0,740.0,902.0,475.0,189.0,170.0,950.0,384.0,758.0,596.0,542.0,556.0,392.0,745.0,396.0,263.0,446.0,691.0,566.0,136.0,955.0,360.0,827.0,365.0,297.0,95.0,959.0,765.0,546.0,886.0,568.0,220.0,575.0,575.0,356.0,403.0,354.0,807.0,458.0,167.0,659.0,768.0,293.0,99.0,433.0,412.0,519.0,902.0,421.0,289.0,341.0,840.0,630.0,413.0,204.0,350.0,278.0,390.0,137.0,909.0,517.0,868.0,466.0,444.0,942.0,582.0,194.0,647.0,191.0,206.0,657.0,904.0,439.0,846.0,327.0,575.0,425.0,950.0,670.0,244.0,795.0,293.0,542.0,164.0,280.0,575.0,620.0,575.0,613.0,575.0,823.0,323.0,763.0,615.0,546.0,760.0,308.0,915.0,687.0,466.0,344.0,343.0,140.0,672.0,215.0,173.0,316.0,344.0,318.0,703.0,444.0,107.0,415.0,250.0,655.0,486.0,678.0,398.0,575.0,626.0,942.0,382.0,368.0,574.0,676.0,773.0,500.0,908.0,830.0,420.0,643.0,715.0,940.0,817.0,424.0,726.0,188.0,422.0,488.0,390.0,198.0,533.0,624.0,250.0,360.0,239.0,533.0,546.0,410.0,566.0,231.0,149.0,575.0,195.0,624.0,575.0,211.0,875.0,930.0,951.0,531.0,null,687.0,116.0,609.0,830.0,366.0,500.0,576.0,356.0,792.0,930.0,911.0,378.0,531.0,null,605.0,916.0,128.0,584.0,575.0,722.0,490.0,562.0,897.0,285.0,596.0,564.0,958.0,939.0,768.0,101.0,991.0,359.0,527.0,953.0,388.0,925.0,955.0,893.0,836.0,361.0,354.0,615.0,382.0,130.0,311.0,447.0,624.0,429.0,534.0,366.0,454.0,null,953.0,422.0,379.0,null,753.0,293.0,575.0,389.0,575.0,430.0,650.0,447.0,363.0,580.0,902.0,951.0,384.0,787.0,428.0,800.0,244.0,274.0,null,502.0,700.0,248.0,479.0,402.0,575.0,496.0,536.0,426.0,516.0,960.0,740.0,170.0,344.0,886.0,471.0,365.0,330.0,378.0,670.0,953.0,814.0,693.0,542.0,443.0,458.0,588.0,670.0,315.0,210.0,378.0,336.0,859.0,112.0,736.0,393.0,562.0,394.0,562.0,98.0,907.0,879.0,712.0,420.0,940.0,387.0,850.0,729.0,411.0,411.0,null,159.0,359.0,770.0,536.0,363.0,337.0,434.0,708.0,790.0,519.0,323.0,925.0,442.0,906.0,253.0,615.0,575.0,394.0,570.0,689.0,334.0,144.0,747.0,575.0,657.0,336.0,521.0,575.0,928.0,369.0,765.0,438.0,177.0,443.0,978.0,729.0,693.0,693.0,795.0,406.0,366.0,389.0,800.0,951.0,419.0,359.0,525.0,800.0,278.0,220.0,504.0,291.0,170.0,118.0,350.0,481.0,null,366.0,411.0,446.0,910.0,278.0,930.0,393.0,650.0,421.0,385.0,605.0,433.0,853.0,712.0,525.0,339.0,956.0,417.0,911.0,773.0,383.0,575.0,542.0,827.0,628.0,850.0,726.0,421.0,208.0,197.0,429.0,446.0,650.0,795.0,417.0,428.0,339.0,464.0,691.0,398.0,365.0,462.0,439.0,380.0,836.0,921.0,630.0,823.0,388.0,null,700.0,527.0,502.0,857.0,719.0,263.0,708.0,386.0,425.0,99.0,552.0,309.0,575.0,475.0,944.0,957.0,98.0,800.0,165.0,855.0,490.0,null,352.0,930.0,360.0,311.0,672.0,504.0,827.0,320.0,916.0,661.0,674.0,598.0,431.0,452.0,242.0,575.0,797.0,359.0,325.0,420.0,462.0,431.0,534.0,575.0,368.0,780.0,372.0,598.0,943.0,691.0,904.0,615.0,466.0,361.0,546.0,392.0,386.0,366.0,726.0,240.0,966.0,202.0,916.0,384.0,443.0,846.0,350.0,564.0,657.0,753.0,575.0,219.0,827.0,502.0,164.0,795.0,592.0,414.0,512.0,682.0,361.0,392.0,884.0,575.0,479.0,780.0,953.0,392.0,437.0,632.0,575.0,444.0,127.0,921.0,871.0,293.0,951.0,810.0,715.0,868.0,575.0,379.0,700.0,814.0,575.0,231.0,635.0,525.0,382.0,554.0,717.0,435.0,548.0,372.0,682.0,564.0,659.0,533.0,352.0,729.0,417.0,546.0,361.0,575.0,417.0,519.0,665.0,448.0,239.0,379.0,490.0,278.0,431.0,953.0,446.0,407.0,416.0,820.0,322.0,886.0,510.0,609.0,488.0,712.0,843.0,578.0,500.0,415.0,494.0,420.0,538.0,575.0,955.0,null,407.0,618.0,950.0,550.0,700.0,374.0,804.0,366.0,183.0,665.0,674.0,836.0,107.0,650.0,817.0,639.0,632.0,92.0,484.0,911.0,278.0,685.0,527.0,879.0,407.0,956.0,null,352.0,719.0,246.0,389.0,null,910.0,387.0,198.0,668.0,877.0,517.0,504.0,546.0,518.0,479.0,388.0,361.0,356.0,396.0,921.0,475.0,575.0,582.0,922.0,687.0,287.0,295.0,366.0,570.0,800.0,641.0,438.0,390.0,560.0,320.0,440.0,425.0,540.0,93.0,672.0,341.0,864.0,425.0,562.0,622.0,null,0.0,228.0,376.0,124.0,575.0,760.0,647.0,641.0,233.0,215.0,337.0,875.0,895.0,618.0,928.0,473.0,576.0,840.0,346.0,917.0,109.0,814.0,320.0,827.0,946.0,770.0,367.0,655.0,527.0,521.0,378.0,641.0,937.0,785.0,346.0,594.0,219.0,575.0,708.0,466.0,578.0,680.0,192.0,386.0,297.0,196.0,300.0,590.0,641.0,641.0,685.0,973.0,411.0,726.0,790.0,211.0,373.0,523.0,574.0,731.0,404.0,916.0,311.0,206.0,578.0,575.0,695.0,null,958.0,381.0,538.0,170.0,416.0,504.0,575.0,173.0,302.0,383.0,575.0,663.0,782.0,930.0,null,339.0,null,943.0,906.0,534.0,403.0,523.0,246.0,657.0,287.0,374.0,632.0,576.0,391.0,775.0,546.0,877.0,538.0,868.0,506.0,484.0,358.0,647.0,866.0,255.0,276.0,374.0,502.0,316.0,717.0,954.0,396.0,556.0,235.0,198.0,477.0,452.0,575.0,428.0,765.0,590.0,700.0,484.0,416.0,850.0,544.0,590.0,575.0,353.0,446.0,773.0,446.0,787.0,502.0,575.0,952.0,0.0,655.0,371.0,439.0,395.0,911.0,823.0,755.0,98.0,523.0,504.0,350.0,384.0,672.0,525.0,388.0,147.0,492.0,678.0,415.0,231.0,956.0,508.0,454.0,575.0,374.0,672.0,641.0,322.0,562.0,989.0,460.0,89.0,572.0,132.0,626.0,930.0,null,517.0,558.0,397.0,415.0,417.0,615.0,302.0,359.0,477.0,382.0,397.0,540.0,280.0,641.0,920.0,289.0,145.0,575.0,438.0,523.0,274.0,562.0,760.0,715.0,790.0,924.0,814.0,536.0,389.0,611.0,951.0,442.0,368.0,517.0,null,626.0,912.0,344.0,471.0,687.0,479.0,439.0,222.0,374.0,560.0,460.0,182.0,657.0,435.0,592.0,708.0,411.0,413.0,592.0,358.0,827.0,466.0,311.0,622.0,278.0,426.0,327.0,972.0,731.0,null,210.0,161.0,358.0,384.0,703.0,630.0,490.0,575.0,575.0,590.0,387.0,780.0,488.0,588.0,691.0,138.0,548.0,504.0,null,155.0,96.0,893.0,916.0,null,504.0,446.0,596.0,575.0,208.0,126.0,775.0,353.0,592.0,170.0,366.0,421.0,866.0,785.0,674.0,697.0,733.0,689.0,944.0,494.0,963.0,729.0,430.0,575.0,588.0,400.0,462.0,700.0,575.0,929.0,255.0,389.0,598.0,712.0,136.0,857.0,420.0,null,562.0,687.0,488.0,576.0,609.0,836.0,417.0,685.0,857.0,877.0,542.0,895.0,378.0,719.0,386.0,417.0,750.0,434.0,488.0,635.0,866.0,137.0,657.0,733.0,575.0,393.0,552.0,323.0,377.0,641.0,386.0,724.0,415.0,810.0,893.0,419.0,385.0,846.0,282.0,641.0,447.0,570.0,122.0,358.0,195.0,375.0,891.0,337.0,630.0,911.0,575.0,719.0,null,370.0,336.0,395.0,618.0,483.0,363.0,389.0,944.0,962.0,486.0,437.0,558.0,122.0,575.0,956.0,448.0,116.0,null,926.0,903.0,700.0,570.0,611.0,257.0,580.0,531.0,964.0,968.0,630.0,456.0,957.0,446.0,963.0,309.0,129.0,740.0,422.0,318.0,592.0,514.0,726.0,451.0,575.0,404.0,575.0,259.0,98.0,546.0,921.0,926.0,359.0,594.0,620.0,384.0,419.0,560.0,136.0,484.0,416.0,379.0,460.0,496.0,768.0,237.0,670.0,381.0,0.0,255.0,908.0,217.0,510.0,null,415.0,99.0,242.0,866.0,624.0,339.0,180.0,674.0,574.0,442.0,780.0,864.0,412.0,106.0,230.0,191.0,323.0,337.0,534.0,930.0,607.0,431.0,510.0,337.0,447.0,578.0,566.0,655.0,437.0,508.0,359.0,433.0,280.0,464.0,689.0,817.0,768.0,471.0,415.0,460.0,653.0,108.0,475.0,129.0,753.0,309.0,348.0,438.0,782.0,888.0,422.0,866.0,663.0,641.0,575.0,510.0,173.0,376.0,902.0,392.0,109.0,575.0,575.0,548.0,210.0,804.0,282.0,182.0,291.0,904.0,712.0,442.0,355.0,198.0,575.0,758.0,415.0,479.0,575.0,464.0,689.0,575.0,370.0,376.0,383.0,142.0,434.0,676.0,903.0,398.0,452.0,963.0,374.0,297.0,575.0,425.0,407.0,150.0,116.0,337.0,390.0,944.0,407.0,0.0,747.0,540.0,951.0,186.0,406.0,179.0,492.0,959.0,278.0,607.0,392.0,352.0,417.0,394.0,705.0,469.0,933.0,389.0,464.0,726.0,352.0,98.0,415.0,425.0,411.0,330.0,917.0,736.0,395.0,439.0,902.0,508.0,498.0,603.0,186.0,895.0,951.0,454.0,330.0,928.0,410.0,415.0,592.0,477.0,958.0,370.0,361.0,942.0,624.0,204.0,697.0,857.0,542.0,750.0,578.0,955.0,566.0,626.0,924.0,804.0,444.0,575.0,575.0,921.0,447.0,352.0,833.0,125.0,374.0,194.0,956.0,194.0,431.0,367.0,0.0,959.0,575.0,489.0,460.0,406.0,446.0,467.0,630.0,575.0,484.0,498.0,544.0,null,92.0,197.0,516.0,425.0,385.0,387.0,875.0,562.0,768.0,632.0,952.0,136.0,383.0,952.0,575.0,337.0,265.0,452.0,289.0,374.0,556.0,null,650.0,375.0,107.0,337.0,359.0,600.0,360.0,753.0,426.0,null,782.0,678.0,428.0,775.0,542.0,663.0,125.0,458.0,729.0,384.0,158.0,733.0,736.0,297.0,136.0,531.0,407.0,316.0,589.0,363.0,450.0,383.0,417.0,685.0,504.0,814.0,753.0,765.0,575.0,213.0,248.0,680.0,558.0,575.0,192.0,804.0,389.0,823.0,924.0,185.0,864.0,440.0,810.0,134.0,729.0,643.0,527.0,575.0,434.0,393.0,962.0,907.0,456.0,null,430.0,743.0,287.0,888.0,363.0,575.0,897.0,413.0,389.0,922.0,823.0,562.0,596.0,146.0,516.0,417.0,490.0,428.0,575.0,481.0,588.0,353.0,446.0,475.0,938.0,270.0,434.0,424.0,434.0,432.0,479.0,926.0,710.0,504.0,265.0,948.0,393.0,546.0,657.0,426.0,206.0,536.0,620.0,185.0,893.0,466.0,263.0,404.0,226.0,618.0,655.0,176.0,575.0,807.0,726.0,125.0,533.0,575.0,637.0,407.0,383.0,422.0,316.0,758.0,952.0,615.0,712.0,359.0,377.0,958.0,765.0,717.0,729.0,697.0,253.0,956.0,574.0,460.0,295.0,119.0,327.0,902.0,900.0,961.0,219.0,375.0,916.0,641.0,391.0,0.0,790.0,411.0,575.0,426.0,536.0,438.0,517.0,657.0,282.0,195.0,504.0,758.0,760.0,956.0,575.0,550.0,575.0,942.0,930.0,843.0,313.0,372.0,520.0,531.0,946.0,114.0,395.0,726.0,387.0,558.0,165.0,605.0,575.0,464.0,467.0,302.0,null,150.0,840.0,853.0,346.0,575.0,139.0,575.0,357.0,682.0,575.0,682.0,null,926.0,609.0,678.0,575.0,185.0,536.0,278.0,492.0,708.0,434.0,348.0,780.0,352.0,960.0,546.0,575.0,null,246.0,257.0,158.0,912.0,639.0,389.0,233.0,580.0,323.0,390.0,804.0,639.0,456.0,263.0,575.0,624.0,354.0,133.0,940.0,426.0,141.0,250.0,394.0,382.0,430.0,959.0,961.0,466.0,421.0,859.0,406.0,575.0,546.0,575.0,575.0,531.0,355.0,473.0,592.0,953.0,833.0,337.0,952.0,639.0,575.0,546.0,533.0,96.0,null,293.0,332.0,350.0,517.0,481.0,374.0,490.0,343.0,285.0,871.0,525.0,442.0,674.0,408.0,376.0,517.0,904.0,398.0,670.0,406.0,422.0,635.0,575.0,358.0,382.0,575.0,433.0,346.0,367.0,641.0,460.0,575.0,830.0,578.0,null,830.0,609.0,438.0,689.0,931.0,397.0,398.0,864.0,397.0,98.0,null,500.0,419.0,382.0,850.0,437.0,738.0,431.0,392.0,354.0,596.0,230.0,105.0,516.0,536.0,864.0,740.0,141.0,370.0,422.0,337.0,790.0,244.0,674.0,435.0,388.0,211.0,268.0,546.0,919.0,388.0,168.0,498.0,575.0,272.0,689.0,685.0,782.0,939.0,337.0,341.0,365.0,377.0,886.0,null,369.0,647.0,492.0,712.0,655.0,467.0,705.0,533.0,104.0,361.0,961.0,424.0,388.0,168.0,374.0,101.0,850.0,204.0,0.0,517.0,153.0,560.0,650.0,792.0,411.0,490.0,263.0,575.0,527.0,316.0,383.0,893.0,null,527.0,280.0,437.0,523.0,426.0,339.0,368.0,575.0,926.0,460.0,475.0,366.0,572.0,708.0,864.0,104.0,859.0,565.0,611.0,433.0,622.0,674.0,358.0,807.0,367.0,916.0,391.0,210.0,753.0,697.0,680.0,519.0,375.0,938.0,440.0,833.0,740.0,632.0,519.0,780.0,null,380.0,921.0,693.0,575.0,575.0,466.0,820.0,346.0,213.0,217.0,152.0,575.0,576.0,386.0,915.0,386.0,440.0,572.0,921.0,575.0,687.0,864.0,942.0,655.0,964.0,143.0,659.0,300.0,516.0,439.0,477.0,575.0,282.0,380.0,538.0,521.0,467.0,575.0,931.0,736.0,null,289.0,488.0,525.0,95.0,204.0,657.0,348.0,356.0,508.0,596.0,383.0,315.0,0.0,323.0,647.0,null,575.0,527.0,889.0,437.0,182.0,383.0,508.0,259.0,653.0,289.0,700.0,607.0,443.0,934.0,719.0,775.0,850.0,959.0,265.0,575.0,488.0,null,592.0,624.0,615.0,200.0,624.0,398.0,341.0,568.0,641.0,620.0,486.0,388.0,367.0,259.0,424.0,417.0,830.0,467.0,195.0,136.0,null,575.0,500.0,348.0,575.0,575.0,97.0,346.0,371.0,417.0,910.0,962.0,929.0,665.0,248.0,833.0,613.0,536.0,417.0,691.0,952.0,460.0,469.0,763.0,639.0,797.0,355.0,135.0,492.0,866.0,370.0,460.0,213.0,450.0,753.0,804.0,900.0,434.0,144.0,393.0,471.0,490.0,220.0,412.0,382.0,369.0,508.0,426.0,477.0,609.0,189.0,425.0,407.0,185.0,910.0,343.0,593.0,486.0,800.0,900.0,400.0,410.0,339.0,777.0,586.0,472.0,367.0,297.0,158.0,356.0,575.0,853.0,954.0,525.0,912.0,344.0,369.0,661.0,390.0,695.0,443.0,504.0,647.0,933.0,471.0,390.0,542.0,259.0,426.0,536.0,952.0,582.0,275.0,420.0,456.0,643.0,893.0,138.0,546.0,957.0,null,611.0,337.0,958.0,116.0,374.0,248.0,578.0,753.0,895.0,566.0,null,517.0,null,471.0,575.0,353.0,743.0,755.0,534.0,327.0,385.0,536.0,556.0,481.0,215.0,406.0,434.0,519.0,611.0,272.0,365.0,510.0,132.0,924.0,729.0,953.0,426.0,null,726.0,352.0,391.0,369.0,582.0,127.0,233.0,380.0,353.0,486.0,null,773.0,745.0,300.0,146.0,897.0,315.0,550.0,691.0,390.0,592.0,null,533.0,637.0,645.0,951.0,438.0,182.0,546.0,385.0,850.0,592.0,394.0,233.0,855.0,827.0,590.0,753.0,846.0,437.0,313.0,676.0,947.0,132.0,144.0,219.0,389.0,575.0,727.0,951.0,458.0,657.0,372.0,389.0,670.0,884.0,195.0,517.0,952.0,933.0,575.0,705.0,807.0,null,556.0,322.0,562.0,668.0,206.0,429.0,705.0,374.0,301.0,917.0,575.0,447.0,753.0,0.0,422.0,997.0,280.0,985.0,575.0,575.0,961.0,341.0,575.0,222.0,404.0,527.0,358.0,336.0,392.0,377.0,381.0,902.0,915.0,668.0,952.0,null,580.0,362.0,917.0,433.0,902.0,357.0,388.0,579.0,685.0,525.0,483.0,523.0,902.0,862.0,412.0,421.0,228.0,417.0,403.0,492.0,304.0,285.0,390.0,674.0,906.0,325.0,255.0,475.0,355.0,760.0,488.0,270.0,159.0,134.0,440.0,907.0,206.0,337.0,570.0,523.0,428.0,471.0,355.0,575.0,479.0,407.0,404.0,97.0,454.0,434.0,477.0,261.0,452.0,575.0,724.0,483.0,359.0,630.0,741.0,295.0,695.0,586.0,392.0,208.0,572.0,517.0,370.0,521.0,575.0,488.0,114.0,575.0,763.0,389.0,712.0,417.0,814.0,676.0,433.0,458.0,390.0,144.0,318.0,624.0,635.0,397.0,920.0,376.0,641.0,609.0,655.0,446.0,365.0,598.0,566.0,615.0,289.0,715.0,873.0,383.0,182.0,426.0,708.0,575.0,689.0,304.0,0.0,215.0,913.0,125.0,0.0,276.0,204.0,740.0,182.0,346.0,391.0,421.0,944.0,138.0,442.0,570.0,697.0,337.0,323.0,562.0,733.0,575.0,475.0,483.0,98.0,959.0,853.0,800.0,389.0,365.0,785.0,925.0,186.0,823.0,437.0,452.0,null,null,668.0,426.0,406.0,548.0,817.0,540.0,454.0,531.0,371.0,575.0,575.0,448.0,864.0,389.0,339.0,115.0,695.0,185.0,680.0,875.0,329.0,376.0,554.0,703.0,350.0,367.0,516.0,584.0,907.0,396.0,475.0,820.0,392.0,689.0,396.0,562.0,956.0,287.0,953.0,237.0,703.0,930.0,575.0,362.0,246.0,344.0,391.0,643.0,488.0,371.0,682.0,367.0,765.0,488.0,605.0,444.0,400.0,517.0,672.0,412.0,311.0,820.0,504.0,395.0,224.0,657.0,263.0,512.0,477.0,421.0,823.0,316.0,615.0,877.0,374.0,475.0,394.0,447.0,624.0,770.0,805.0,533.0,308.0,165.0,560.0,417.0,null,558.0,360.0,575.0,534.0,407.0,954.0,938.0,703.0,647.0,295.0,108.0,517.0,697.0,363.0,552.0,594.0,285.0,112.0,933.0,411.0,956.0,575.0,703.0,542.0,663.0,575.0,400.0,339.0,655.0,857.0,575.0,460.0,514.0,378.0,346.0,719.0,263.0,362.0,556.0,318.0,416.0,455.0,954.0,650.0,417.0,415.0,592.0,355.0,389.0,237.0,291.0,430.0,456.0,316.0,408.0,103.0,966.0,440.0,575.0,575.0,344.0,682.0,575.0,411.0,705.0,362.0,575.0,527.0,843.0,366.0,261.0,598.0,575.0,168.0,575.0,446.0,846.0,161.0,371.0,313.0,237.0,736.0,406.0,787.0,740.0,586.0,471.0,456.0,323.0,222.0,127.0,315.0,871.0,337.0,533.0,239.0,536.0,392.0,961.0,385.0,346.0,344.0,397.0,417.0,439.0,361.0,358.0,556.0,575.0,935.0,939.0,562.0,446.0,496.0,392.0,425.0,715.0,550.0,192.0,374.0,250.0,951.0,517.0,null,337.0,136.0,422.0,540.0,268.0,750.0,null,311.0,893.0,544.0,440.0,350.0,384.0,246.0,295.0,575.0,632.0,458.0,450.0,385.0,240.0,318.0,527.0,911.0,278.0,777.0,235.0,955.0,467.0,110.0,575.0,121.0,380.0,422.0,404.0,270.0,448.0,613.0,488.0,387.0,358.0,544.0,956.0,295.0,167.0,389.0,687.0,295.0,719.0,98.0,575.0,504.0,475.0,400.0,374.0,674.0,350.0,377.0,276.0,202.0,820.0,575.0,431.0,873.0,940.0,426.0,827.0,118.0,500.0,302.0,226.0,590.0,665.0,355.0,488.0,437.0,null,674.0,344.0,529.0,517.0,387.0,365.0,287.0,850.0,637.0,417.0,655.0,362.0,653.0,389.0,575.0,379.0,516.0,917.0,384.0,575.0,350.0,630.0,337.0,533.0,650.0,460.0,139.0,375.0,358.0,700.0,763.0,823.0,708.0,182.0,850.0,708.0,792.0,355.0,397.0,366.0,529.0,382.0,897.0,483.0,674.0,572.0,257.0,523.0,930.0,891.0,145.0,378.0,446.0,389.0,871.0,763.0,568.0,406.0,951.0,446.0,211.0,0.0,544.0,361.0,350.0,576.0,760.0,866.0,330.0,519.0,682.0,387.0,261.0,954.0,603.0,355.0,496.0,500.0,458.0,334.0,708.0,647.0,643.0,921.0,853.0,624.0,626.0,141.0,628.0,817.0,219.0,574.0,508.0,204.0,442.0,575.0,198.0,404.0,339.0,250.0,736.0,496.0,731.0,376.0,710.0,575.0,850.0,500.0,823.0,null,182.0,512.0,492.0,385.0,382.0,575.0,575.0,843.0,282.0,350.0,855.0,575.0,946.0,556.0,575.0,659.0,902.0,390.0,212.0,334.0,293.0,469.0,268.0,645.0,733.0,386.0,null,285.0,575.0,404.0,866.0,508.0,717.0,823.0,568.0,407.0,575.0,884.0,188.0,697.0,410.0,663.0,951.0,420.0,956.0,500.0,641.0,null,384.0,575.0,956.0,733.0,362.0,323.0,337.0,714.0,426.0,961.0,359.0,525.0,795.0,293.0,768.0,466.0,562.0,442.0,363.0,864.0,588.0,462.0,618.0,379.0,406.0,934.0,853.0,626.0,782.0,70.0,645.0,139.0,458.0,447.0,100.0,705.0,542.0,289.0,850.0,674.0,575.0,592.0,490.0,780.0,950.0,753.0,823.0,null,null,439.0,680.0,412.0,337.0,439.0,763.0,null,456.0,910.0,900.0,395.0,703.0,726.0,575.0,575.0,475.0,358.0,123.0,780.0,568.0,619.0,397.0,302.0,504.0,282.0,392.0,868.0,562.0,637.0,141.0,191.0,550.0,380.0,425.0,504.0,467.0,605.0,434.0,483.0,475.0,469.0,376.0,435.0,392.0,485.0,272.0,446.0,717.0,785.0,null,437.0,859.0,442.0,953.0,502.0,152.0,129.0,947.0,670.0,533.0,800.0,323.0,575.0,396.0,960.0,397.0,365.0,494.0,393.0,517.0,400.0,753.0,911.0,309.0,747.0,433.0,466.0,426.0,575.0,562.0,373.0,560.0,134.0,371.0,823.0,626.0,668.0,736.0,353.0,385.0,309.0,743.0,562.0,381.0,446.0,311.0,575.0,306.0,575.0,753.0,850.0,309.0,575.0,161.0,924.0,562.0,663.0,337.0,384.0,450.0,null,755.0,575.0,655.0,295.0,358.0,390.0,618.0,353.0,230.0,479.0,265.0,392.0,498.0,368.0,417.0,359.0,663.0,206.0,624.0,255.0,323.0,300.0,313.0,689.0,897.0,680.0,222.0,454.0,337.0,332.0,428.0,98.0,611.0,562.0,676.0,708.0,795.0,213.0,517.0,562.0,385.0,483.0,422.0,738.0,373.0,944.0,372.0,605.0,550.0,575.0,575.0,917.0,393.0,496.0,643.0,316.0,282.0,395.0,421.0,443.0,939.0,295.0,315.0,131.0,344.0,525.0,443.0,437.0,479.0,382.0,691.0,902.0,575.0,null,389.0,402.0,358.0,240.0,534.0,637.0,588.0,929.0,394.0,377.0,348.0,504.0,488.0,572.0,359.0,920.0,332.0,538.0,641.0,417.0,444.0,237.0,691.0,344.0,747.0,263.0,117.0,575.0,483.0,542.0,357.0,710.0,519.0,729.0,864.0,517.0,471.0,417.0,272.0,743.0,900.0,827.0,416.0,479.0,843.0,958.0,575.0,309.0,562.0,492.0,null,516.0,712.0,346.0,575.0,893.0,717.0,514.0,406.0,615.0,466.0,375.0,637.0,533.0,477.0,289.0,554.0,313.0,566.0,911.0,833.0,643.0,578.0,745.0,743.0,130.0,327.0,442.0,740.0,620.0,514.0,435.0,369.0,922.0,348.0,632.0,575.0,575.0,410.0,546.0,554.0,396.0,95.0,884.0,362.0,379.0,142.0,458.0,420.0,483.0,350.0,554.0,674.0,366.0,630.0,502.0,715.0,444.0,289.0,668.0,383.0,297.0,529.0,93.0,607.0,490.0,562.0,564.0,620.0,469.0,950.0,406.0,770.0,183.0,740.0,246.0,391.0,97.0,857.0,691.0,362.0,363.0,382.0,488.0,919.0,550.0,777.0,170.0,715.0,792.0,534.0,381.0,350.0,407.0,206.0,448.0,575.0,null,873.0,639.0,479.0,719.0,354.0,955.0,394.0,705.0,330.0,498.0,118.0,438.0,955.0,421.0,119.0,508.0,712.0,198.0,850.0,866.0,null,411.0,406.0,738.0,287.0,626.0,323.0,408.0,542.0,384.0,907.0,458.0,575.0,611.0,514.0,546.0,575.0,859.0,359.0,953.0,434.0,938.0,570.0,384.0,473.0,98.0,424.0,376.0,530.0,575.0,875.0,572.0,787.0,884.0,316.0,450.0,244.0,500.0,498.0,904.0,580.0,902.0,null,268.0,380.0,529.0,438.0,468.0,575.0,412.0,475.0,566.0,217.0,960.0,107.0,null,575.0,586.0,600.0,729.0,235.0,650.0,924.0,575.0,777.0,462.0,804.0,447.0,504.0,365.0,948.0,726.0,630.0,433.0,385.0,440.0,637.0,357.0,386.0,374.0,575.0,460.0,419.0,893.0,159.0,609.0,433.0,576.0,575.0,575.0,278.0,390.0,397.0,435.0,540.0,859.0,682.0,402.0,693.0,943.0,413.0,575.0,379.0,575.0,389.0,861.0,712.0,442.0,540.0,337.0,197.0,552.0,219.0,460.0,850.0,676.0,367.0,242.0,733.0,270.0,426.0,843.0,492.0,516.0,942.0,132.0,846.0,389.0,496.0,942.0,655.0,580.0,353.0,337.0,415.0,575.0,318.0,357.0,795.0,952.0,439.0,536.0,466.0,564.0,368.0,364.0,237.0,592.0,570.0,857.0,715.0,575.0,886.0,554.0,919.0,377.0,429.0,715.0,782.0,708.0,263.0,632.0,475.0,458.0,167.0,403.0,956.0,510.0,230.0,136.0,940.0,475.0,377.0,null,576.0,575.0,523.0,341.0,950.0,393.0,null,893.0,425.0,295.0,722.0,316.0,955.0,680.0,424.0,119.0,765.0,868.0,382.0,437.0,94.0,933.0,548.0,514.0,158.0,635.0,309.0,657.0,null,814.0,206.0,615.0,691.0,213.0,176.0,937.0,603.0,439.0,855.0,488.0,792.0,594.0,406.0,827.0,765.0,935.0,385.0,422.0,434.0,775.0,575.0,850.0,237.0,925.0,406.0,394.0,912.0,768.0,804.0,330.0,419.0,836.0,438.0,952.0,850.0,575.0,192.0,820.0,758.0,439.0,383.0,797.0,404.0,444.0,814.0,462.0,308.0,514.0,444.0,311.0,437.0,661.0,391.0,850.0,534.0,448.0,467.0,562.0,527.0,235.0,753.0,311.0,810.0,384.0,375.0,486.0,904.0,462.0,417.0,574.0,460.0,719.0,390.0,173.0,354.0,337.0,233.0,448.0,940.0,523.0,92.0,393.0,239.0,917.0,592.0,246.0,473.0,274.0,886.0,575.0,376.0,358.0,722.0,584.0,364.0,0.0,523.0,180.0,382.0,435.0,464.0,233.0,325.0,440.0,575.0,572.0,729.0,717.0,973.0,336.0,687.0,133.0,866.0,542.0,null,743.0,877.0,471.0,546.0,907.0,235.0,437.0,447.0,800.0,575.0,712.0,780.0,383.0,866.0,678.0,211.0,484.0,null,360.0,458.0,502.0,697.0,922.0,295.0,446.0,325.0,313.0,661.0,259.0,517.0,388.0,366.0,607.0,944.0,575.0,309.0,364.0,866.0,421.0,510.0,506.0,891.0,958.0,323.0,575.0,322.0,564.0,null,369.0,421.0,410.0,434.0,417.0,300.0,394.0,639.0,291.0,575.0,575.0,390.0,233.0,136.0,145.0,516.0,373.0,265.0,663.0,278.0,404.0,674.0,529.0,426.0,855.0,930.0,575.0,297.0,139.0,464.0,263.0,785.0,661.0,94.0,384.0,525.0,384.0,500.0,717.0,657.0,647.0,391.0,902.0,724.0,575.0,437.0,206.0,265.0,523.0,384.0,88.0,327.0,708.0,404.0,814.0,797.0,366.0,403.0,618.0,359.0,750.0,416.0,null,170.0,758.0,504.0,695.0,519.0,95.0,643.0,360.0,558.0,350.0,790.0,951.0,484.0,425.0,626.0,575.0,626.0,416.0,840.0,592.0,98.0,576.0,827.0,817.0,689.0,797.0,195.0,546.0,372.0,437.0,823.0,null,144.0,339.0,500.0,717.0,363.0,379.0,596.0,708.0,311.0,136.0,575.0,396.0,411.0,953.0,125.0,823.0,504.0,381.0,726.0,99.0,361.0,956.0,594.0,875.0,145.0,900.0,508.0,466.0,527.0,517.0,138.0,529.0,676.0,687.0,182.0,233.0,542.0,375.0,938.0,891.0,575.0,158.0,385.0,575.0,729.0,494.0,235.0,259.0,344.0,228.0,785.0,372.0,183.0,173.0,415.0,955.0,null,393.0,265.0,253.0,381.0,575.0,938.0,123.0,575.0,429.0,336.0,null,852.0,498.0,531.0,624.0,575.0,365.0,855.0,323.0,365.0,330.0,724.0,572.0,370.0,674.0,373.0,915.0,344.0,575.0,259.0,574.0,429.0,877.0,504.0,775.0,306.0,531.0,353.0,724.0,929.0,586.0,null,910.0,552.0,126.0,231.0,787.0,717.0,437.0,426.0,384.0,null,437.0,792.0,430.0,790.0,676.0,743.0,394.0,481.0,650.0,902.0,378.0,448.0,575.0,558.0,417.0,359.0,960.0,738.0,630.0,836.0,933.0,895.0,891.0,575.0,325.0,687.0,773.0,261.0,426.0,670.0,365.0,366.0,653.0,600.0,189.0,475.0,360.0,437.0,886.0,758.0,366.0,504.0,462.0,380.0,830.0,960.0,458.0,562.0,800.0,908.0,763.0,740.0,352.0,575.0,517.0,823.0,320.0,873.0,770.0,469.0,862.0,572.0,659.0,486.0,575.0,337.0,641.0,398.0,687.0,336.0,417.0,421.0,580.0,215.0,437.0,768.0,417.0,325.0,361.0,357.0,787.0,575.0,371.0,763.0,146.0,570.0,697.0,375.0,575.0,407.0,397.0,137.0,705.0,361.0,928.0,575.0,96.0,747.0,521.0,884.0,531.0,502.0,531.0,578.0,300.0,575.0,330.0,715.0,750.0,575.0,null,437.0,724.0,421.0,404.0,678.0,358.0,575.0,556.0,705.0,352.0,517.0,479.0,544.0,233.0,760.0,580.0,257.0,454.0,444.0,400.0,685.0,910.0,142.0,102.0,366.0,661.0,426.0,null,426.0,469.0,575.0,346.0,700.0,390.0,379.0,641.0,429.0,382.0,908.0,575.0,419.0,431.0,219.0,179.0,550.0,133.0,215.0,494.0,311.0,88.0,531.0,426.0,342.0,592.0,833.0,206.0,807.0,150.0,346.0,378.0,938.0,750.0,745.0,743.0,575.0,434.0,750.0,866.0,558.0,592.0,433.0,777.0,753.0,406.0,670.0,159.0,156.0,440.0,440.0,521.0,null,261.0,167.0,792.0,584.0,587.0,795.0,383.0,390.0,330.0,438.0,800.0,548.0,807.0,265.0,893.0,575.0,502.0,521.0,336.0,261.0,760.0,519.0,523.0,550.0,366.0,778.0,833.0,142.0,575.0,442.0,548.0,663.0,446.0,576.0,329.0,575.0,911.0,419.0,368.0,334.0,350.0,null,868.0,954.0,483.0,407.0,607.0,807.0,657.0,575.0,374.0,447.0,410.0,917.0,456.0,521.0,560.0,492.0,374.0,937.0,394.0,665.0,792.0,598.0,428.0,529.0,402.0,763.0,937.0,334.0,327.0,0.0,129.0,594.0,763.0,368.0,830.0,717.0,289.0,419.0,548.0,576.0,954.0,null,315.0,542.0,562.0,473.0,864.0,448.0,422.0,609.0,458.0,598.0,240.0,886.0,null,590.0,738.0,575.0,464.0,814.0,564.0,855.0,575.0,525.0,566.0,930.0,527.0,930.0,104.0,null,164.0,691.0,498.0,560.0,782.0,650.0,278.0,680.0,575.0,498.0,672.0,953.0,624.0,395.0,450.0,603.0,421.0,343.0,576.0,780.0,386.0,521.0,846.0,387.0,407.0,685.0,556.0,325.0,408.0,967.0,433.0,323.0,492.0,417.0,370.0,443.0,536.0,464.0,814.0,377.0,null,548.0,544.0,462.0,523.0,383.0,422.0,278.0,575.0,575.0,630.0,0.0,790.0,680.0,355.0,404.0,855.0,920.0,440.0,575.0,536.0,475.0,823.0,743.0,406.0,400.0,976.0,398.0,348.0,118.0,726.0,540.0,704.0,542.0,568.0,332.0,575.0,902.0,213.0,339.0,488.0,null,628.0,911.0,276.0,575.0,931.0,643.0,395.0,575.0,393.0,246.0,291.0,272.0,285.0,403.0,412.0,426.0,544.0,777.0,354.0,263.0,353.0,570.0,907.0,376.0,911.0,575.0,382.0,null,575.0,649.0,138.0,334.0,220.0,502.0,481.0,257.0,357.0,336.0,773.0,382.0,416.0,371.0,921.0,97.0,372.0,360.0,248.0,null,736.0,937.0,777.0,575.0,575.0,891.0,773.0,377.0,426.0,700.0,467.0,425.0,291.0,566.0,661.0,512.0,359.0,355.0,496.0,895.0,439.0,462.0,240.0,596.0,641.0,460.0,814.0,907.0,884.0,311.0,575.0,846.0,407.0,370.0,504.0,823.0,961.0,429.0,663.0,700.0,475.0,942.0,0.0,339.0,884.0,506.0,747.0,708.0,963.0,952.0,182.0,364.0,129.0,278.0,954.0,434.0,680.0,685.0,308.0,639.0,588.0,370.0,429.0,431.0,517.0,930.0,655.0,912.0,200.0,504.0,956.0,374.0,595.0,800.0,603.0,578.0,620.0,575.0,459.0,330.0,142.0,722.0,775.0,263.0,407.0,800.0,360.0,100.0,846.0,213.0,381.0,773.0,620.0,287.0,753.0,99.0,370.0,374.0,556.0,598.0,864.0,448.0,420.0,705.0,343.0,578.0,556.0,622.0,951.0,415.0,246.0,504.0,785.0,488.0,220.0,null,446.0,523.0,95.0,785.0,961.0,356.0,564.0,412.0,588.0,921.0,609.0,471.0,352.0,768.0,371.0,719.0,410.0,846.0,516.0,309.0,429.0,911.0,426.0,572.0,685.0,823.0,731.0,575.0,373.0,531.0,424.0,477.0,452.0,263.0,921.0,377.0,566.0,419.0,574.0,null,107.0,650.0,731.0,510.0,397.0,188.0,866.0,422.0,502.0,484.0,250.0,450.0,823.0,263.0,318.0,843.0,538.0,523.0,954.0,763.0,630.0,514.0,479.0,624.0,575.0,868.0,424.0,893.0,820.0,295.0,576.0,705.0,272.0,421.0,624.0,575.0,null,641.0,823.0,447.0,389.0,389.0,680.0,506.0,344.0,350.0,951.0,444.0,747.0,375.0,743.0,426.0,332.0,353.0,387.0,406.0,893.0,575.0,710.0,575.0,297.0,477.0,743.0,150.0,389.0,498.0,650.0,370.0,122.0,745.0,954.0,206.0,315.0,544.0,327.0,605.0,339.0,373.0,353.0,921.0,575.0,435.0,685.0,517.0,438.0,438.0,763.0,758.0,523.0,330.0,655.0,434.0,548.0,395.0,215.0,760.0,568.0,403.0,392.0,618.0,947.0,228.0,584.0,380.0,381.0,440.0,668.0,188.0,942.0,408.0,239.0,456.0,276.0,473.0,755.0,477.0,817.0,318.0,888.0,483.0,738.0,425.0,575.0,403.0,850.0,325.0,685.0,902.0,961.0,315.0,183.0,850.0,391.0,357.0,434.0,416.0,674.0,603.0,389.0,504.0,460.0,708.0,731.0,null,450.0,125.0,462.0,391.0,588.0,780.0,123.0,531.0,120.0,624.0,397.0,833.0,407.0,765.0,643.0,833.0,95.0,875.0,246.0,622.0,315.0,961.0,97.0,638.0,846.0,580.0,792.0,355.0,919.0,680.0,726.0,550.0,562.0,460.0,877.0,523.0,724.0,891.0,562.0,180.0,464.0,575.0,927.0,855.0,106.0,797.0,548.0,161.0,112.0,309.0,394.0,592.0,691.0,743.0,951.0,215.0,575.0,562.0,966.0,922.0,94.0,864.0,862.0,777.0,92.0,843.0,139.0,null,855.0,768.0,434.0,365.0,795.0,546.0,846.0,263.0,626.0,471.0,477.0,609.0,86.0,685.0,146.0,422.0,833.0,327.0,964.0,416.0,377.0,426.0,680.0,689.0,575.0,246.0,159.0,null,695.0,895.0,278.0,708.0,268.0,575.0,712.0,717.0,429.0,433.0,510.0,531.0,355.0,674.0,315.0,626.0,433.0,950.0,729.0,382.0,395.0,278.0,446.0,425.0,293.0,607.0,406.0,504.0,424.0,438.0,871.0,230.0,540.0,592.0,306.0,464.0,879.0,337.0,850.0,379.0,620.0,263.0,962.0,471.0,586.0,540.0,364.0,215.0,370.0,388.0,145.0,346.0,446.0,853.0,611.0,529.0,853.0,450.0,532.0,343.0,390.0,116.0,388.0,419.0,477.0,529.0,391.0,765.0,722.0,127.0,782.0,906.0,575.0,736.0,814.0,202.0,417.0,233.0,795.0,653.0,400.0,387.0,446.0,346.0,575.0,625.0,407.0,460.0,626.0,687.0,384.0,121.0,192.0,758.0,366.0,516.0,313.0,372.0,921.0,486.0,562.0,717.0,378.0,416.0,575.0,611.0,733.0,211.0,523.0,537.0,132.0,358.0,568.0,316.0,416.0,176.0,556.0,550.0,954.0,570.0,817.0,481.0,359.0,717.0,868.0,397.0,356.0,400.0,647.0,843.0,523.0,460.0,691.0,344.0,891.0,800.0,574.0,613.0,731.0,891.0,600.0,348.0,695.0,359.0,446.0,398.0,929.0,643.0,438.0,195.0,295.0,483.0,566.0,952.0,902.0,111.0,430.0,226.0,800.0,780.0,596.0,346.0,255.0,575.0,239.0,687.0,562.0,500.0,823.0,521.0,570.0,560.0,630.0,580.0,353.0,397.0,325.0,922.0,443.0,680.0,484.0,674.0,858.0,313.0,null,222.0,536.0,136.0,168.0,142.0,823.0,276.0,481.0,600.0,554.0,884.0,944.0,575.0,496.0,408.0,605.0,655.0,935.0,795.0,null,473.0,556.0,584.0,300.0,795.0,443.0,357.0,null,800.0,483.0,null,575.0,575.0,980.0,407.0,575.0,575.0,575.0,575.0,458.0,659.0,653.0,318.0,689.0,367.0,389.0,855.0,575.0,318.0,736.0,665.0,437.0,873.0,263.0,429.0,425.0,381.0,902.0,389.0,402.0,514.0,575.0,717.0,710.0,836.0,417.0,360.0,930.0,468.0,750.0,440.0,410.0,316.0,460.0,726.0,440.0,402.0,407.0,542.0,395.0,843.0,641.0,421.0,403.0,763.0,186.0,653.0,502.0,369.0,309.0,434.0,596.0,934.0,198.0,622.0,466.0,142.0,397.0,278.0,479.0,955.0,960.0,435.0,371.0,726.0,447.0,952.0,600.0,659.0,743.0,431.0,358.0,370.0,586.0,498.0,311.0,412.0,618.0,575.0,726.0,689.0,957.0,952.0,370.0,276.0,350.0,609.0,456.0,564.0,952.0,388.0,574.0,385.0,263.0,639.0,428.0,533.0,575.0,500.0,417.0,951.0,697.0,691.0,843.0,253.0,407.0,915.0,498.0,957.0,341.0,389.0,943.0,902.0,452.0,136.0,575.0,155.0,327.0,582.0,542.0,680.0,422.0,575.0,466.0,313.0,437.0,389.0,377.0,687.0,397.0,516.0,412.0,570.0,202.0,359.0,647.0,447.0,282.0,250.0,523.0,293.0,820.0,935.0,456.0,343.0,373.0,785.0,590.0,153.0,594.0,235.0,473.0,420.0,558.0,219.0,170.0,408.0,731.0,434.0,486.0,800.0,362.0,337.0,400.0,420.0,411.0,98.0,533.0,695.0,546.0,527.0,540.0,381.0,206.0,255.0,263.0,770.0,536.0,641.0,431.0,900.0,773.0,645.0,575.0,255.0,955.0,900.0,954.0,341.0,921.0,390.0,955.0,460.0,406.0,202.0,565.0,590.0,285.0,397.0,437.0,425.0,763.0,575.0,900.0,183.0,215.0,575.0,742.0,650.0,790.0,637.0,533.0,598.0,926.0,676.0,609.0,411.0,733.0,439.0,128.0,531.0,743.0,219.0,394.0,512.0,383.0,426.0,382.0,632.0,311.0,383.0,408.0,358.0,358.0,575.0,406.0,575.0,508.0,575.0,96.0,519.0,397.0,400.0,950.0,380.0,508.0,750.0,426.0,678.0,null,641.0,948.0,448.0,408.0,780.0,533.0,703.0,398.0,null,413.0,99.0,438.0,332.0,488.0,426.0,705.0,670.0,661.0,924.0,596.0,574.0,866.0,726.0,359.0,562.0,204.0,935.0,208.0,444.0,641.0,680.0,410.0,374.0,397.0,450.0,265.0,745.0,366.0,315.0,182.0,177.0,938.0,182.0,170.0,864.0,512.0,337.0,488.0,376.0,740.0,546.0,377.0,534.0,458.0,89.0,575.0,417.0,542.0,645.0,538.0,434.0,350.0,703.0,350.0,893.0,null,null,null,null,341.0,370.0,680.0,715.0,827.0,782.0,363.0,429.0,259.0,400.0,827.0,763.0,165.0,278.0,659.0,800.0,510.0,954.0,756.0,410.0,120.0,431.0,836.0,915.0,null,458.0,618.0,412.0,630.0,104.0,329.0,442.0,469.0,575.0,922.0,576.0,575.0,960.0,308.0,575.0,469.0,575.0,408.0,402.0,903.0,null,562.0,514.0,425.0,339.0,447.0,393.0,395.0,963.0,278.0,763.0,500.0,313.0,386.0,911.0,700.0,653.0,369.0,632.0,618.0,446.0,544.0,891.0,106.0,740.0,575.0,538.0,823.0,920.0,219.0,641.0,426.0,527.0,null,406.0,null,952.0,527.0,541.0,420.0,516.0,397.0,343.0,469.0,955.0,775.0,293.0,676.0,417.0,385.0,911.0,915.0,521.0,364.0,575.0,548.0,533.0,775.0,575.0,911.0,908.0,420.0,282.0,362.0,763.0,768.0,954.0,598.0,768.0,800.0,448.0,89.0,437.0,365.0,575.0,859.0,668.0,957.0,358.0,575.0,866.0,130.0,891.0,689.0,575.0,259.0,695.0,360.0,516.0,327.0,null,289.0,410.0,420.0,575.0,884.0,719.0,222.0,740.0,350.0,195.0,373.0,323.0,392.0,339.0,0.0,912.0,613.0,903.0,306.0,564.0,382.0,630.0,502.0,387.0,null,355.0,416.0,514.0,246.0,933.0,763.0,438.0,364.0,139.0,367.0,304.0,931.0,552.0,0.0,580.0,389.0,609.0,159.0,540.0,444.0,523.0,467.0,508.0,341.0,462.0,540.0,410.0,827.0,355.0,173.0,800.0,250.0,411.0,908.0,413.0,389.0,717.0,348.0,486.0,425.0,392.0,572.0,443.0,607.0,740.0,443.0,519.0,747.0,380.0,350.0,836.0,622.0,467.0,226.0,308.0,374.0,911.0,361.0,592.0,429.0,787.0,426.0,402.0,910.0,731.0,566.0,null,641.0,466.0,570.0,533.0,370.0,null,908.0,391.0,395.0,182.0,341.0,490.0,228.0,632.0,315.0,315.0,265.0,710.0,514.0,609.0,643.0,454.0,853.0,560.0,533.0,121.0,622.0,360.0,575.0,327.0,278.0,274.0,454.0,270.0,800.0,575.0,836.0,961.0,198.0,575.0,356.0,575.0,348.0,357.0,933.0,866.0,611.0,628.0,613.0,712.0,429.0,398.0,206.0,715.0,955.0,600.0,253.0,763.0,548.0,961.0,155.0,575.0,550.0,941.0,397.0,456.0,302.0,426.0,308.0,377.0,859.0,687.0,897.0,447.0,374.0,111.0,285.0,382.0,382.0,99.0,836.0,475.0,502.0,429.0,955.0,724.0,392.0,387.0,575.0,517.0,594.0,486.0,402.0,873.0,817.0,643.0,146.0,924.0,263.0,498.0,912.0,477.0,575.0,348.0,572.0,356.0,904.0,396.0,484.0,782.0,null,770.0,850.0,322.0,955.0,392.0,689.0,391.0,352.0,575.0,null,431.0,624.0,464.0,431.0,330.0,361.0,415.0,934.0,877.0,575.0,843.0,653.0,836.0,620.0,542.0,386.0,308.0,792.0,879.0,293.0,439.0,853.0,null,521.0,925.0,733.0,827.0,371.0,552.0,575.0,600.0,403.0,955.0,502.0,902.0,663.0,753.0,693.0,657.0,230.0,800.0,726.0,410.0,358.0,359.0,523.0,473.0,488.0,575.0,377.0,309.0,817.0,392.0,428.0,622.0,954.0,394.0,514.0,188.0,866.0,415.0,657.0,871.0,253.0,514.0,333.0,368.0,380.0,366.0,346.0,498.0,850.0,152.0,575.0,475.0,672.0,676.0,158.0,388.0,486.0,407.0,900.0,98.0,785.0,568.0,517.0,360.0,775.0,404.0,322.0,456.0,219.0,433.0,140.0,null,494.0,183.0,590.0,643.0,726.0,357.0,371.0,492.0,575.0,624.0,554.0,519.0,382.0,382.0,350.0,null,628.0,383.0,795.0,575.0,220.0,814.0,null,442.0,490.0,574.0,428.0,433.0,222.0,677.0,397.0,546.0,372.0,398.0,782.0,763.0,665.0,200.0,339.0,null,566.0,884.0,514.0,592.0,380.0,417.0,309.0,185.0,226.0,388.0,925.0,697.0,760.0,383.0,957.0,628.0,410.0,596.0,790.0,466.0,566.0,372.0,346.0,797.0,624.0,951.0,729.0,430.0,624.0,450.0,592.0,691.0,421.0,615.0,575.0,930.0,575.0,857.0,605.0,376.0,575.0,564.0,866.0,738.0,556.0,645.0,592.0,586.0,562.0,955.0,705.0,533.0,426.0,584.0,508.0,496.0,244.0,98.0,220.0,197.0,877.0,477.0,575.0,361.0,395.0,278.0,417.0,255.0,527.0,367.0,498.0,329.0,685.0,906.0,787.0,609.0,376.0,600.0,743.0,866.0,785.0,517.0,544.0,404.0,431.0,197.0,820.0,510.0,536.0,735.0,136.0,855.0,575.0,null,588.0,419.0,750.0,412.0,626.0,618.0,575.0,562.0,253.0,775.0,353.0,527.0,763.0,293.0,527.0,836.0,632.0,950.0,425.0,927.0,139.0,609.0,578.0,318.0,630.0,359.0,617.0,787.0,129.0,452.0,519.0,609.0,575.0,141.0,270.0,278.0,598.0,402.0,394.0,285.0,955.0,630.0,316.0,792.0,192.0,0.0,372.0,null,517.0,708.0,375.0,494.0,332.0,131.0,672.0,556.0,411.0,174.0,255.0,381.0,775.0,582.0,572.0,552.0,282.0,346.0,132.0,862.0,647.0,659.0,873.0,429.0,575.0,446.0,407.0,862.0,674.0,393.0,323.0,575.0,768.0,364.0,836.0,570.0,444.0,371.0,384.0,519.0,383.0,404.0,440.0,770.0,171.0,700.0,575.0,575.0,460.0,575.0,787.0,859.0,575.0,906.0,388.0,925.0,517.0,575.0,118.0,939.0,643.0,395.0,672.0,755.0,322.0,424.0,715.0,464.0,353.0,736.0,311.0,792.0,659.0,119.0,628.0,285.0,558.0,886.0,371.0,404.0,921.0,396.0,270.0,437.0,428.0,575.0,162.0,146.0,244.0,386.0,584.0,873.0,919.0,588.0,274.0,775.0,558.0,731.0,382.0,250.0,253.0,740.0,null,280.0,836.0,575.0,810.0,353.0,533.0,552.0,0.0,0.0,611.0,210.0,931.0,371.0,512.0,575.0,873.0,395.0,575.0,488.0,695.0,144.0,367.0,562.0,954.0,637.0,231.0,763.0,575.0,873.0,437.0,430.0,747.0,389.0,366.0,763.0,708.0,488.0,346.0,857.0,902.0,235.0,null,710.0,320.0,575.0,661.0,368.0,575.0,552.0,622.0,150.0,810.0,833.0,403.0,462.0,517.0,287.0,359.0,389.0,907.0,768.0,576.0,366.0,705.0,575.0,820.0,958.0,910.0,496.0,665.0,902.0,782.0,512.0,381.0,406.0,613.0,611.0,804.0,362.0,517.0,388.0,379.0,935.0,355.0,763.0,641.0,780.0,302.0,607.0,765.0,411.0,592.0,237.0,466.0,506.0,219.0,322.0,575.0,575.0,552.0,447.0,613.0,417.0,777.0,724.0,755.0,908.0,925.0,895.0,687.0,316.0,246.0,893.0,182.0,624.0,395.0,462.0,823.0,440.0,712.0,933.0,398.0,529.0,null,364.0,665.0,575.0,544.0,853.0,888.0,685.0,916.0,null,481.0,446.0,323.0,305.0,643.0,469.0,755.0,953.0,396.0,504.0,473.0,419.0,99.0,685.0,365.0,635.0,853.0,552.0,311.0,125.0,908.0,534.0,350.0,575.0,311.0,359.0,478.0,352.0,372.0,519.0,293.0,460.0,658.0,336.0,575.0,575.0,496.0,430.0,548.0,657.0,195.0,556.0,639.0,502.0,358.0,691.0,346.0,397.0,639.0,124.0,575.0,575.0,268.0,368.0,575.0,575.0,191.0,null,650.0,390.0,308.0,540.0,641.0,575.0,653.0,339.0,300.0,572.0,426.0,843.0,780.0,820.0,900.0,913.0,195.0,735.0,760.0,632.0,366.0,350.0,386.0,100.0,411.0,895.0,424.0,150.0,575.0,362.0,607.0,753.0,417.0,240.0,785.0,855.0,820.0,731.0,590.0,354.0,566.0,320.0,575.0,605.0,355.0,344.0,592.0,428.0,132.0,462.0,902.0,483.0,792.0,514.0,355.0,840.0,362.0,452.0,959.0,615.0,740.0,325.0,959.0,907.0,626.0,null,952.0,355.0,146.0,738.0,101.0,280.0,578.0,442.0,782.0,368.0,546.0,394.0,352.0,244.0,380.0,540.0,504.0,678.0,255.0,352.0,575.0,954.0,404.0,708.0,0.0,940.0,137.0,237.0,374.0,365.0,486.0,412.0,444.0,359.0,385.0,884.0,479.0,289.0,592.0,517.0,382.0,400.0,272.0,665.0,900.0,747.0,490.0,868.0,562.0,575.0,352.0,424.0,575.0,183.0,672.0,395.0,787.0,575.0,318.0,158.0,285.0,866.0,285.0,368.0,404.0,325.0,517.0,null,833.0,198.0,624.0,743.0,325.0,882.0,624.0,940.0,575.0,609.0,820.0,768.0,385.0,921.0,295.0,488.0,895.0,952.0,359.0,null,479.0,195.0,183.0,285.0,693.0,954.0,306.0,170.0,653.0,823.0,678.0,846.0,523.0,350.0,206.0,460.0,318.0,891.0,554.0,773.0,392.0,364.0,406.0,596.0,431.0,787.0,760.0,682.0,588.0,433.0,416.0,357.0,233.0,586.0,804.0,820.0,659.0,873.0,615.0,576.0,575.0,366.0,374.0,689.0,954.0,141.0,615.0,916.0,426.0,576.0,882.0,504.0,null,344.0,403.0,529.0,609.0,494.0,458.0,124.0,529.0,833.0,159.0,359.0,462.0,378.0,843.0,291.0,529.0,452.0,575.0,431.0,538.0,763.0,452.0,431.0,952.0,369.0,308.0,780.0,258.0,516.0,337.0,527.0,833.0,575.0,697.0,381.0,956.0,246.0,538.0,628.0,745.0,235.0,385.0,950.0,404.0,572.0,395.0,617.0,407.0,346.0,376.0,575.0,575.0,575.0,415.0,440.0,398.0,879.0,396.0,795.0,142.0,866.0,965.0,877.0,315.0,488.0,715.0,680.0,171.0,291.0,248.0,917.0,397.0,346.0,373.0,817.0,618.0,174.0,439.0,921.0,544.0,417.0,540.0,548.0,350.0,357.0,381.0,534.0,228.0,123.0,371.0,855.0,383.0,575.0,492.0,546.0,170.0,483.0,104.0,827.0,488.0,313.0,365.0,477.0,null,424.0,484.0,475.0,672.0,460.0,407.0,956.0,884.0,null,724.0,462.0,464.0,240.0,600.0,323.0,782.0,460.0,904.0,592.0,708.0,659.0,538.0,295.0,358.0,429.0,382.0,419.0,576.0,931.0,425.0,807.0,437.0,540.0,641.0,263.0,137.0,375.0,329.0,540.0,575.0,763.0,807.0,879.0,274.0,433.0,840.0,170.0,350.0,456.0,575.0,578.0,592.0,295.0,952.0,911.0,568.0,452.0,886.0,560.0,396.0,952.0,421.0,797.0,542.0,700.0,359.0,471.0,228.0,456.0,392.0,605.0,315.0,790.0,575.0,107.0,440.0,466.0,210.0,536.0,413.0,426.0,446.0,952.0,506.0,357.0,475.0,426.0,544.0,955.0,369.0,367.0,582.0,775.0,278.0,546.0,850.0,575.0,329.0,676.0,182.0,523.0,846.0,204.0,687.0,531.0,390.0,676.0,632.0,517.0,282.0,592.0,239.0,202.0,641.0,550.0,274.0,953.0,224.0,743.0,366.0,976.0,921.0,576.0,575.0,611.0,199.0,600.0,540.0,747.0,270.0,293.0,917.0,665.0,912.0,142.0,388.0,575.0,402.0,666.0,823.0,389.0,668.0,192.0,875.0,263.0,940.0,668.0,483.0,508.0,null,226.0,712.0,956.0,442.0,575.0,864.0,410.0,270.0,516.0,917.0,397.0,376.0,null,337.0,425.0,348.0,481.0,939.0,395.0,362.0,437.0,641.0,770.0,888.0,850.0,952.0,86.0,435.0,572.0,637.0,628.0,950.0,504.0,458.0,868.0,882.0,637.0,575.0,607.0,430.0,92.0,582.0,496.0,368.0,733.0,575.0,244.0,237.0,0.0,322.0,921.0,517.0,958.0,653.0,null,566.0,564.0,297.0,477.0,568.0,726.0,460.0,444.0,366.0,323.0,295.0,477.0,592.0,315.0,407.0,450.0,536.0,444.0,366.0,420.0,891.0,729.0,224.0,534.0,359.0,259.0,496.0,450.0,318.0,665.0,364.0,643.0,647.0,440.0,171.0,807.0,575.0,473.0,444.0,308.0,717.0,599.0,412.0,382.0,951.0,483.0,903.0,550.0,575.0,956.0,361.0,473.0,700.0,708.0,542.0,937.0,693.0,554.0,836.0,502.0,770.0,657.0,323.0,348.0,575.0,566.0,450.0,693.0,327.0,466.0,919.0,506.0,951.0,708.0,902.0,618.0,460.0,613.0,155.0,871.0,460.0,389.0,536.0,361.0,417.0,765.0,962.0,397.0,null,327.0,448.0,607.0,469.0,366.0,403.0,446.0,161.0,731.0,419.0,575.0,510.0,null,159.0,770.0,350.0,159.0,558.0,420.0,517.0,425.0,null,242.0,717.0,691.0,562.0,411.0,398.0,452.0,417.0,575.0,926.0,316.0,376.0,244.0,823.0,431.0,481.0,695.0,363.0,689.0,368.0,473.0,888.0,425.0,97.0,477.0,365.0,888.0,402.0,919.0,925.0,403.0,568.0,343.0,575.0,147.0,800.0,null,368.0,398.0,792.0,114.0,953.0,121.0,641.0,426.0,336.0,369.0,622.0,840.0,959.0,566.0,780.0,217.0,568.0,412.0,724.0,700.0,575.0,327.0,425.0,632.0,null,183.0,337.0,171.0,370.0,439.0,392.0,315.0,693.0,null,676.0,687.0,389.0,575.0,426.0,596.0,603.0,760.0,115.0,270.0,325.0,632.0,641.0,797.0,233.0,348.0,352.0,329.0,743.0,575.0,397.0,97.0,454.0,360.0,366.0,626.0,670.0,257.0,246.0,378.0,765.0,419.0,953.0,94.0,368.0,574.0,370.0,708.0,810.0,125.0,661.0,689.0,948.0,473.0,222.0,884.0,498.0,531.0,745.0,462.0,800.0,434.0,464.0,429.0,410.0,392.0,376.0,118.0,122.0,929.0,626.0,350.0,782.0,668.0,433.0,653.0,770.0,674.0,135.0,182.0,603.0,600.0,517.0,575.0,531.0,738.0,374.0,295.0,596.0,414.0,448.0,133.0,448.0,170.0,220.0,410.0,534.0,934.0,820.0,197.0,341.0,425.0,575.0,250.0,375.0,575.0,954.0,729.0,471.0,910.0,504.0,630.0,546.0,477.0,504.0,152.0,963.0,462.0,558.0,804.0,400.0,410.0,546.0,817.0,663.0,251.0,388.0,850.0,408.0,330.0,857.0,929.0,382.0,428.0,null,833.0,902.0,null,309.0,637.0,618.0,782.0,334.0,391.0,332.0,329.0,546.0,263.0,205.0,859.0,570.0,380.0,426.0,510.0,null,908.0,736.0,540.0,217.0,575.0,336.0,958.0,902.0,380.0,672.0,850.0,733.0,397.0,857.0,329.0,454.0,787.0,861.0,689.0,412.0,206.0,546.0,575.0,705.0,475.0,327.0,230.0,546.0,389.0,862.0,138.0,97.0,122.0,605.0,192.0,274.0,404.0,961.0,391.0,575.0,270.0,null,958.0,311.0,655.0,953.0,655.0,622.0,582.0,676.0,289.0,366.0,410.0,850.0,383.0,533.0,512.0,575.0,655.0,650.0,378.0,672.0,575.0,912.0,679.0,919.0,386.0,460.0,274.0,575.0,689.0,882.0,795.0,437.0,391.0,369.0,960.0,708.0,439.0,500.0,372.0,268.0,402.0,517.0,523.0,496.0,96.0,523.0,442.0,695.0,213.0,570.0,574.0,908.0,375.0,561.0,763.0,564.0,911.0,738.0,913.0,780.0,null,392.0,145.0,313.0,570.0,481.0,222.0,925.0,369.0,268.0,624.0,866.0,891.0,366.0,502.0,903.0,745.0,206.0,407.0,244.0,402.0,278.0,743.0,125.0,407.0,406.0,171.0,206.0,174.0,538.0,462.0,864.0,425.0,689.0,304.0,895.0,572.0,575.0,164.0,743.0,624.0,158.0,575.0,188.0,871.0,327.0,542.0,280.0,431.0,726.0,864.0,533.0,792.0,777.0,306.0,111.0,693.0,431.0,911.0,0.0,422.0,655.0,null,726.0,726.0,508.0,127.0,87.0,857.0,98.0,729.0,953.0,620.0,645.0,575.0,354.0,402.0,369.0,428.0,null,685.0,562.0,397.0,219.0,575.0,311.0,447.0,408.0,920.0,440.0,558.0,276.0,680.0,407.0,650.0,934.0,645.0,246.0,434.0,655.0,452.0,250.0,575.0,219.0,400.0,348.0,354.0,361.0,620.0,386.0,956.0,575.0,927.0,419.0,291.0,330.0,250.0,462.0,300.0,700.0,204.0,572.0,550.0,635.0,132.0,490.0,795.0,421.0,715.0,394.0,958.0,306.0,866.0,965.0,142.0,866.0,430.0,392.0,576.0,924.0,517.0,780.0,568.0,396.0,180.0,743.0,433.0,613.0,484.0,575.0,575.0,132.0,198.0,386.0,855.0,542.0,374.0,514.0,182.0,827.0,908.0,428.0,239.0,272.0,830.0,479.0,375.0,653.0,426.0,498.0,777.0,327.0,433.0,350.0,512.0,560.0,534.0,596.0,306.0,753.0,566.0,908.0,717.0,372.0,668.0,527.0,272.0,898.0,879.0,null,473.0,208.0,435.0,521.0,408.0,708.0,641.0,647.0,98.0,367.0,381.0,800.0,420.0,452.0,943.0,934.0,695.0,477.0,747.0,318.0,926.0,398.0,493.0,823.0,871.0,955.0,97.0,208.0,902.0,411.0,274.0,366.0,174.0,239.0,959.0,240.0,862.0,158.0,930.0,609.0,257.0,810.0,722.0,977.0,502.0,182.0,396.0,733.0,586.0,323.0,381.0,823.0,null,350.0,136.0,977.0,944.0,780.0,956.0,939.0,366.0,866.0,384.0,570.0,479.0,471.0,364.0,724.0,736.0,233.0,877.0,857.0,689.0,630.0,743.0,429.0,244.0,687.0,407.0,763.0,186.0,381.0,353.0,358.0,381.0,529.0,398.0,437.0,217.0,902.0,958.0,576.0,366.0,609.0,377.0,191.0,208.0,630.0,626.0,875.0,454.0,355.0,665.0,452.0,574.0,490.0,921.0,395.0,609.0,484.0,393.0,456.0,322.0,797.0,202.0,158.0,198.0,663.0,575.0,904.0,395.0,311.0,421.0,823.0,498.0,580.0,954.0,443.0,939.0,426.0,884.0,239.0,575.0,456.0,327.0,575.0,392.0,null,657.0,356.0,697.0,356.0,300.0,920.0,615.0,575.0,630.0,498.0,641.0,488.0,99.0,763.0,382.0,426.0,444.0,719.0,777.0,null,550.0,139.0,911.0],\"xaxis\":\"x\",\"y\":[8692.39,6666.599999999999,100.0,5145.409999999999,1021.07,10748.7,7026.650000000001,415.65,7906.85,54.66,640.0,1743.82,86.17,86.21,850.0,15014.69,933.6,808.5099999999999,7395.600000000001,18850.0,2859.28,8587.63,1476.03,33016.68,1361.28,2400.0,21799.800000000003,5678.979999999998,760.0,1768.4199999999998,350.0,17059.26,719.87,339.57,2072.7500000000005,50.0,914.05,7059.639999999999,890.0,11694.310000000003,2900.26,59.1,326.72,4152.29,2915.53,2694.96,2141.51,7857.26,1088.1,113.3,758.28,14404.69,9018.670000000002,28242.3,397.9700000000001,4874.06,1656.52,583.6800000000001,2199.89,3969.15,13562.19,1388.0500000000002,50.0,3123.59,796.68,663.89,8279.44,25851.619999999988,6157.110000000002,1001.3,199.36,2753.83,7498.269999999999,1600.0,11848.52,11523.05,346.11,227.56,1023.97,7486.990000000001,699.05,1247.95,1770.0,720.0,25684.72,2372.75,203.83,738.24,3760.020000000001,888.16,13303.81,9232.46,3121.1100000000006,4209.56,2675.069999999999,4900.0,1650.0,1389.48,149.75,13431.719999999998,969.95,11189.28,3876.08,1896.56,1881.62,978.27,2696.130000000001,10155.24,1659.06,8743.500000000002,1758.04,2189.65,7359.13,24865.61,4811.980000000001,8576.09,54865.22,80.45,2000.0,3765.28,1174.62,16036.87,19417.21,1331.3,1059.1,310.0,8110.88,849.26,148.05,1844.2,2100.0,4733.77,12181.26,4687.33,2013.93,15463.85,3229.94,1134.59,2047.33,14613.56,10248.22,7339.639999999999,4060.0,1769.98,4065.26,3430.29,3575.04,1552.29,3855.95,2750.0,6550.0,10302.660000000003,1839.31,645.41,1800.0,1700.0,603.67,3508.3999999999987,1599.9599999999998,4600.0,739.6500000000001,12774.02,15754.970000000005,12446.090000000002,3668.8,810.67,600.0,9390.61,4714.47,4259.83,8468.29,21242.35,13065.48,674.75,366.74,6130.0,5778.630000000001,905.64,1458.78,1606.09,500.0,34499.99,15404.439999999997,1243.64,1280.6799999999998,20933.430000000004,3370.0,145.61,849.77,4851.2,18074.89,0.01,2469.5,4124.57,822.44,1440.92,987.45,4311.73,3200.0,578.0700000000002,99.25,45169.600000000006,5539.18,4460.0,1399.96,21021.06,20152.989999999994,1456.76,2161.93,4031.88,913.22,4700.0,1400.9,644.2900000000001,1942.44,4720.0,6440.6,2061.6200000000003,7000.0,2227.5200000000004,16412.879999999997,17348.65,7239.74,7241.369999999999,1490.17,3678.28,12807.489999999998,5699.63,10647.61,350.0,850.0,1004.21,1507.72,6187.99,14436.909999999998,14519.98,2136.89,42562.27,13971.990000000009,3906.92,7858.87,10755.47,620.22,10485.76,17410.97,16987.62,50.0,5145.87,788.6500000000001,682.09,2480.7,1046.32,119.97,2878.5100000000007,1299.9799999999998,37112.64,5616.52,24937.47,19851.69,9618.39,1000.0,22410.0,11579.0,1400.0,6739.82,628.34,763.9699999999999,4574.750000000001,5701.549999999999,2357.67,2986.78,2497.33,400.0,1311.1899999999998,2198.58,550.0,29495.3,47833.11,850.0,27095.550000000003,5297.56,12168.04,201.76,7166.51,1019.53,5158.86,459.82,50.58,699.1800000000001,262.62,1150.0,2085.33,10410.0,1806.99,14258.670000000006,3120.0,2591.96,7346.480000000002,158.44,746.92,3998.0,16045.069999999998,900.0,3095.5300000000007,6828.09,750.0,1200.0,1505.0,1806.19,470.17,3969.49,4800.0,370.34,6598.03,1721.97,463.41,63703.17,33425.37,1486.5000000000002,6259.799999999999,748.88,12264.06,2637.1400000000003,693.23,359.13,1656.64,39133.35,5820.42,2740.18,940.0,68827.71,18177.62,975.0,2129.19,472.07,2090.15,10323.98,2300.0,12156.45,239.98000000000005,4458.490000000001,5452.31,21823.08,2982.81,1425.0,4800.0,1110.0,1661.1999999999998,5054.67,655.73,1997.34,1470.2399999999996,1513.32,2619.71,4548.980000000001,5009.32,350.0,20814.63,3003.58,769.6999999999999,1703.6399999999996,4529.29,3973.250000000001,40982.82,1539.16,19872.45,409.46,9172.76,6782.56,1227.1299999999997,700.0,5563.58,350.0,1930.96,5949.0,1557.88,7274.379999999999,26130.82,1590.0,622.64,1933.98,1760.98,28995.09,700.0,3661.2,8279.369999999999,10730.0,33349.05,9123.6,364.56,33.66,3155.19,11006.26,165.95,2478.24,3130.0,352.29,4139.45,1913.11,26819.43,11979.58,550.0,9417.33,8506.73,2418.21,1242.28,3400.39,3156.9400000000005,5000.0,824.67,13356.249999999996,630.0,1573.57,6884.98,2667.49,550.0,999.65,1456.9899999999998,1177.9599999999998,995.78,8679.1,2029.18,58.27,18452.03,30121.09,3154.03,1445.74,889.5999999999999,2511.13,1657.04,2103.82,8271.140000000001,3108.58,500.0,560.01,5597.65,417.81,999.64,89.36,6927.290000000001,2045.59,5025.0,1580.41,3476.9900000000007,13543.919999999998,350.0,5150.41,1272.17,17747.059999999994,1199.17,1443.78,4809.46,10504.99,1385.33,499.62,1599.82,64498.33,353.14,79.5,8398.92,878.29,9112.449999999995,6789.439999999999,28006.88,50.0,3139.2200000000003,7397.5,1128.12,1666.0,7481.45,1421.9399999999998,1175.0,2236.91,1663.24,700.0,5852.769999999999,413.73,849.0899999999999,7797.05,450.0,4099.53,5425.58,3150.220000000001,742.95,13722.490000000002,680.37,3519.26,4643.53,1915.97,719.1600000000001,2007.38,1536.9,2524.76,4830.22,8016.23,2449.4500000000003,5374.93,824.5799999999997,6736.94,5539.25,7000.0,5630.0,21905.58,117.88,2661.64,6435.32,2249.27,4819.35,109.09,24938.77,33901.06,9742.81,1000.0,452.0,58933.21000000001,2300.0,7585.73,1689.75,412.72,3461.73,2508.6,2545.74,2036.5599999999995,532.9099999999999,417.13,1767.5200000000002,1696.26,950.0,2242.7000000000003,6424.96,874.03,6700.89,870.51,19.1,34013.43,3307.8499999999995,1683.3599999999997,3200.0,24171.51,9681.83,1076.18,1422.81,5323.82,956.85,2790.0,6627.959999999999,5275.0,2753.34,7201.329999999997,430.59,300.0,1050.03,25805.83,3497.0000000000005,8432.21,13237.810000000003,16470.410000000003,1849.43,1209.46,1657.37,5622.279999999999,13084.98,1200.0,1822.88,2020.0,2418.34,692.6000000000001,3312.36,3249.53,13201.28,15201.12,38443.240000000005,576.55,9319.4,9697.48,989.41,1059.85,15743.360000000006,3012.8300000000004,366.15,10266.17,849.9,17600.0,1666.0,15349.59,572.23,726.6200000000001,2280.11,1799.99,2182.0,20478.69,18914.390000000003,8980.0,8440.26,3433.99,2489.35,23232.570000000003,3188.39,4392.75,3891.56,885.26,10627.29,2750.0,5408.54,3479.49,13599.1,1692.47,759.24,23139.32,24890.5,2285.94,1450.16,283.64,14412.61,5719.45,2050.38,1048.31,1389.47,15294.96,1987.04,89.71,7000.0,2938.6,1365.0,11733.31,9768.640000000005,8200.36,31391.42,725.45,113.86,157.35,15459.99,400.0,1249.88,8189.549999999999,21503.03,4800.0,2517.53,22492.200000000004,38728.1,60.0,3679.28,3220.0000000000005,16082.140000000005,21569.6,1866.5,4519.499999999999,800.0,750.0,24564.22,1992.32,4672.15,2217.52,2580.0,827.32,19135.14,2535.08,2323.9800000000005,1199.59,525.0,819.3,2410.56,131.59,1944.21,310.6,3491.18,389.92,675.31,2661.08,1485.43,1372.4699999999998,994.16,2180.2,10714.59,387.64,3749.11,15258.92,149.41000000000005,22539.34,8325.220000000001,24202.9,2611.65,2926.4700000000003,6553.54,1310.0,24410.17,1660.27,8502.65,1921.76,155.45,0.42,25326.57,699.08,5626.56,149.57999999999998,11816.64,5152.969999999999,151.26999999999998,50.0,5730.93,1900.0,8342.99,7225.67,1431.04,549.5,795.19,16484.570000000007,5038.709999999999,1052.2900000000002,12132.67,5860.0,1128.67,4415.86,1435.85,2299.1800000000003,900.71,1167.22,3606.580000000001,7698.969999999999,9292.73,1730.2499999999995,93.89,2957.42,12000.0,600.0,7754.510000000001,149.63,400.0,1729.24,1871.2100000000005,1951.59,691.95,1660.06,7190.0,1676.24,1866.87,369.63,1001.1,25222.86,23268.31,458.72,6049.84,799.56,2774.67,5579.98,14776.5,24980.01000000001,8440.07,1665.5,2281.46,10779.57,10883.93,2078.3,35997.06,6252.36,7965.12,1925.47,710.84,3057.5200000000004,17453.320000000003,19029.06,11971.26,12384.9,1004.27,1879.26,362.79,739.69,2265.92,1292.6999999999996,1949.04,10609.8,1434.83,4387.71,13720.54,154.27,4171.75,6103.49,3983.46,1898.8800000000003,1320.71,3034.33,100.0,21046.69,3532.77,29141.35,7728.18,10079.75,4709.349999999999,11251.530000000002,416.68000000000006,769.9,14281.169999999998,2500.0,3003.86,856.69,3989.2,727.32,153.46,3323.3499999999995,63382.31000000001,8505.86,1579.58,345.55000000000007,2651.81,560.0,1200.5,5615.15,3186.4,4150.18,2875.32,2738.4,5151.43,1647.85,21202.89,7290.75,4190.0,4387.01,16484.9,863.64,1076.6,525.1300000000001,2419.8,792.05,900.0,7609.8,10722.09,7647.74,1445.0100000000002,2107.81,5514.86,2671.42,2958.99,399.85,2252.27,5100.27,828.1700000000001,5523.040000000001,10734.81,1440.0,1000.0,4743.209999999999,2864.5499999999997,699.4300000000001,561.42,47200.21,4388.65,1751.34,972.45,12128.78,3961.99,732.52,2942.18,24724.79,13037.51,999.5,229.7,2270.0,845.0200000000001,2099.84,2289.82,417.52,2135.2,5577.85,20699.68,10766.49,1497.7700000000004,550.0,1449.89,8750.529999999999,2500.0,5187.84,2312.86,1821.57,6805.77,19948.63,1400.0,86469.39,1950.0,1312.4599999999998,4430.63,2661.74,224.71,471.94,750.11,34102.090000000004,4139.38,2649.3000000000006,917.87,3360.0,2320.0,1984.31,2546.73,1666.0,4682.2,850.0,2049.53,23156.14,302.25,2143.38,2282.61,30499.01,573.73,4546.7,3254.6600000000008,1400.0,6503.27,1200.0,630.68,6706.389999999999,16486.429999999997,2087.47,350.0,2793.52,6103.330000000001,7611.819999999998,7125.16,1234.01,672.71,1304.5699999999997,4778.11,3427.65,261.48999999999995,13582.4,14033.73,13280.41,4170.0,1656.35,6.01,1161.66,366.09000000000015,2911.84,4053.57,580.8,8237.37,16455.82,2149.15,4019.71,3641.95,4095.38,2936.37,1400.0,1822.55,179.12,3044.43,712.0600000000002,1486.88,400.0,390.64,4112.08,2740.3499999999995,1200.0,1657.87,28105.65,31067.84,1749.1799999999998,2510.99,59719.9,95882.08,1040.0,14850.92,5186.94,232.31,888.6500000000001,1140.0,1776.05,1392.1699999999992,575.0,3629.9,907.28,3310.39,2666.07,291.04,3251.31,629.49,364.3400000000001,16660.93,1793.89,4085.0900000000015,409.72,13954.21,8167.709999999999,350.0,2807.13,5227.179999999999,4262.94,1659.08,18134.330000000005,454.2,10276.66,3435.98,100.0,5122.22,7128.290000000001,38402.38,1659.86,12616.94,6041.06,6806.77,2583.8,18285.77,2000.0,8809.16,2585.39,7229.559999999999,1606.24,459.0299999999999,1019.9699999999998,5220.419999999999,1113.09,995.85,557.64,1864.74,4300.0,3445.0500000000006,4490.72,1394.24,158.26,10804.320000000002,1873.42,27.55,2423.62,12204.719999999998,30000.0,8796.1,1658.07,19990.88,4698.639999999999,4782.0,1210.2500000000002,1162.41,3279.4500000000003,6009.759999999999,2211.4,13386.27,1975.61,600.0,8951.92,29888.69,9243.99,400.0,14535.09,2259.31,17489.510000000002,58044.95999999999,36528.19,1944.93,17538.73,33048.89000000001,2534.87,50.0,500.98,1254.95,9013.49,850.0,4630.0,149.95,1902.63,1661.4,6240.750000000004,890.2600000000001,3859.0,1366.25,706.1,1275.1599999999996,3874.0,20012.76,3509.05,5391.31,107.53,24866.77,34546.06,1665.7599999999998,5465.31,2500.0,5545.81,999.4,7379.099999999998,4443.43,152.39999999999998,1520.84,413.55,5142.839999999999,221050.07,89.79,4628.530000000001,400.0,19755.35,968.93,1799.71,28001.039999999997,11158.99,510.57,945.71,667.1700000000001,1532.46,22465.76,10954.53,3634.97,640.0,669.28,435.78,823.2899999999998,5489.110000000001,8559.549999999997,46.24,1019.63,389.7,1199.14,2649.99,796.21,1664.84,7000.0,1640.0,8843.79,7036.21,27196.22,299.7,2594.25,1657.29,110.38,8111.19,3475.0100000000007,13363.44,892.28,3750.34,1750.0,2066.1,1000.0,43717.81,8313.12,1660.36,3893.55,1852.4,98.5,1919.7,6521.24,6814.03,4415.179999999999,640.0,1012.4199999999998,13668.730000000003,4489.9800000000005,384.86,1449.81,661.9100000000001,1914.61,1200.0,880.0,31504.41,15238.509999999998,22635.97,7826.300000000001,399.58,1443.0,1188.57,99.24,994.1599999999996,3135.9,8553.7,1200.0,383.9099999999999,1495.17,19822.65,2918.95,5268.69,500.0,2281.04,1800.0,1540.61,1900.0,21312.45,2741.88,4461.539999999999,417.3200000000001,18268.86,495.07,19125.38,560.0,1350.0,7155.639999999999,1004.28,287.4,400.0,32301.44,31813.75455026126,3755.93,911.2099999999998,2550.0,3192.0,12761.44,16.34,97980.42,1660.4899999999998,550.0,8092.019999999999,15272.61,2450.0,14588.69,427.39,5944.81,227.56,1.56,184.9,103.94,403.42,9360.18,2803.1200000000003,4549.99,16200.48,50.0,5619.66,7434.78,4379.570000000001,9261.33,4201.02,2189.5200000000004,400.0,1150.46,5748.81,60.0,959.63,7663.25,400.0,1150.0,449.86,3150.0,60.0,3279.49,445.39,1200.0,636.74,1406.77,2550.55,1109.34,509.66,365.25999999999993,14898.84,2090.4,2176.93,3305.2900000000004,6395.56,4255.57,1659.13,0.02,11971.51,660.65,121.89,15624.69,3681.78,22477.09,2281.32,761.75,1500.0,1440.0,900.0,15941.020000000006,1657.5800000000002,15712.369999999995,15814.0,10650.52,33292.89,3459.14,809.1399999999999,3099.48,2781.53,50.0,1657.8300000000002,3091.4900000000007,31961.73,4811.09,16303.01,2125.17,9455.95,597.02,2349.88,1100.0,10650.0,24710.03,23573.23,1570.01,2686.419999999999,5963.9,940.0,750.0,10308.05,4799.099999999999,4193.6,1919.49,3940.63,2019.83,900.0,1262.45,9814.879999999996,1576.36,2160.0,15317.47,802.01,4542.81,763.7299999999998,5650.929999999999,469.61,2454.049999999999,4813.990000000001,536.4,3766.07,1539.4800000000002,1661.5,2589.87,1225.2099999999996,560.0,3999.31,1600.45,150.0,10127.22,20282.02,115.19,600.0,2229.6800000000003,1440.0,387.88,5357.899999999999,507.32,10276.4,2911.55,5051.7,1658.81,4089.01,4688.530000000001,14928.0,1816.13,4135.549999999999,150.04,980.79,2131.17,1192.34,4807.27,588.1799999999998,1465.13,1000.0,2257.35,2469.45,3925.17,5073.01,353.57,450.0,518.2999999999998,2173.55,4883.070000000001,629.85,2655.0199999999995,1139.41,825.83,500.0,1661.49,1665.19,1952.76,665.0999999999999,1402.6899999999998,365.75,3737.919999999999,6327.739999999999,2268.03,5560.110000000001,4258.7,2500.0,620.0,13999.09,332.96,4556.139999999997,498.5999999999999,2967.86,1041.33,150.0,586.98,20132.85,1657.16,16541.93,2250.0,3101.51,10039.04,809.2,1309.1899999999996,3172.1799999999994,18591.13,13942.34,1853.62,150.0,1258.92,9019.98,2292.12,7936.94,9004.33,872.64,3270.68,8060.28,1100.0,2242.51,2300.0,1161.57,1657.61,1658.89,721.4299999999998,1921.26,1450.21,1660.9,1656.2099999999998,680.0,20214.07,4475.11,5496.67,2000.0,524.7999999999998,2098.74,4044.22,9490.94,1619.0300000000002,4160.05,549.54,9264.99,2747.49,16182.46,17057.04,20340.0,1117.37,1832.3,5698.88,8722.76,809.24,7143.639999999999,1230.0,30054.87,1479.59,451.2,8589.52,1269.47,546.3,2366.08,1399.5,2672.77,440.58,964.59,1320.65,5480.94,2460.3500000000004,801.0,714.19,1475.0,7391.519999999999,7361.629999999999,1009.83,0.98,1425.4100000000003,2699.2,4527.7300000000005,3582.33,3313.2,1048.85,400.0,7542.77,5978.79,1597.74,10387.19,4611.960000000001,3098.36,1336.66,9109.99,1310.0,3348.68,118.31,175.47,2476.32,552.19,12293.33,8913.23,4686.950000000001,1.57,5972.0,4730.48,216.99,1024.93,961.04,6599.81,8129.31,2834.6400000000003,2038.74,324.82,18818.57,7541.739999999998,30244.38,972.35,1658.74,750.0,1580.0,2557.71,7733.93,862.4200000000001,13510.680000000006,12137.64,3428.0,8804.42,1267.03,1250.0,6216.77,383.52,425.69,2004.42,14473.899999999998,20111.73,10578.6,16753.329999999998,2830.0,1191.29,2126.8900000000003,3609.63,3689.44,2927.83,1165.85,149.9,539.83,600.0,7815.45,1386.37,1109.5400000000002,3091.26,989.75,1523.61,1622.23,2247.83,13079.11,7000.0,500.0,1579.56,10842.37,294.9099999999999,934.69,5778.320000000001,868.02,2100.0,5271.910000000001,4488.95,17723.52,30539.44,1015.38,720.0,480.57,1198.9,306.74,260.56,76.67,8243.630000000001,578.25,1075.0,21192.29,500.0,959.99,3252.3,650.0,24089.07,550.0,77.61,14734.080000000002,3052.2,1528.93,14031.0,366.87,182.98,4350.0,6800.0,7319.560000000001,18001.7,510.72,11180.370000000004,1490.0,5049.429999999999,1510.5500000000002,34365.99999999999,1162.9299999999998,1741.35,6459.07,15200.0,709.09,2626.88,1651.98,6226.81,946.43,6930.0,1820.0,700.0,287.29999999999995,1801.35,2889.51,6856.41,4799.7300000000005,20169.32,3815.86,28.700000000000003,503.58,1500.3200000000002,1724.58,4500.0,9427.36,930.59,78733.55,3407.7000000000003,2874.8700000000003,2946.06,121279.95,555.52,13420.0,19.22,1000.0,3049.35,12637.83,24025.770000000004,2925.02,3129.02,600.0,1757.2,1099.83,11800.0,1496.73,4477.200000000001,7070.0,4570.9800000000005,1639.16,411.36,21611.44,60.0,1304.5300000000002,917.4300000000004,3851.38,3462.379999999999,1933.76,9990.31,31610.44,6608.290000000001,802.84,731.04,9916.1,3315.35,5236.710000000002,2750.0,4129.0,7771.919999999999,6172.83,3451.0299999999997,3570.72,5800.179999999999,2009.47,788.57,901.28,4913.8,364.83,510.68,631.58,1659.14,8401.47,6761.980000000001,3144.3,1048.38,346.47,1096.41,7188.2,14095.23,324.95,5400.83,394.86,1709.79,16884.11,782.59,772.6100000000001,893.97,401.6,7467.269999999999,4680.490000000001,1090.0,874.1800000000001,806.7,1974.22,747.42,1050.0,380.67,757.1399999999999,1146.9699999999998,90.13,560.0,4050.0,1200.0,5415.0,5302.3,11355.19,1720.23,27571.33,769.71,52100.86,349.59,1100.0,287.88,11928.66,2707.460000000001,4419.0,659.37,2004.91,1595.32,5350.0,1658.7,16142.15,487.67,6858.06,1025.3199999999997,1530.0,29343.49,636.87,149.07999999999998,13590.0,10565.87,1606.98,1949.75,3536.0,8171.33,11525.82,795.28,6571.69,6216.0,3689.23,8808.09,15686.2,2029.72,20997.94,40208.54,49821.91999999999,400.0,2090.13,1754.78,500.0,381.31,1199.12,13.2,16224.13,1005.13,1180.31,1767.64,42735.23,2344.54,10349.85,504.9,499.29,1019.13,1200.0,1926.41,92.53,21681.49,6653.87,3808.58,9309.63,62351.00999999998,9747.01,15077.18,503.47,13218.260000000002,6440.739999999998,280.83,6464.869999999999,1050.0,2954.6800000000003,530.36,3549.76,280.0,2844.81,647.34,11597.289999999995,3471.35,5957.0,1730.0,3574.0,9613.06,3122.11,6009.02,1200.0,1625.85,17211.05,3858.8,50.0,9287.0,14969.44,6918.460000000001,2035.13,1179.8000000000002,70.9,10612.44,9440.0,2639.06,613.12,18827.72,1820.0,991.04,2970.15,103.8,2182.15,4199.65,1375.0,3310.64,3667.21,1377.78,1666.89,8933.42,13739.04,3021.82,526.0999999999999,646.14,13642.53,157.91,3440.56,9888.499999999998,5801.409999999998,19409.15,221.51,1426.61,10681.67,1475.84,487.4,8666.41,7180.0,1414.0,898.04,1778.0,13818.6,6721.28,1472.6799999999998,546.12,2310.07,3688.69,5975.05,1661.42,2171.72,2990.58,1306.26,708.94,864.39,348.8,4483.09,4425.44,6162.59,1661.75,3904.54,5136.01,14462.250000000004,190.2100000000001,8908.99,150.03,5122.230000000001,648.25,3615.26,650.48,54681.16,1023.37,334.19,5514.3,839.95,3901.0,668.67,2959.8299999999995,49.75,29972.300000000003,3573.9,15509.71,1782.89,892.5,850.0,6925.050000000001,10576.31,6198.169999999999,2398.78,8149.18,582.67,650.0,32679.39,29088.38999999999,1630.8799999999997,2418.65,2199.46,6987.099999999999,750.0,1659.96,5707.139999999999,950.0,168.78,1659.42,23279.17,152.25,167.94,7593.0,3683.7,1500.0,1350.0,2468.17,2077.16,17002.44,1057.47,9259.97,1603.91,756.56,5612.469999999999,1300.22,1977.3800000000008,8419.8,799.2700000000002,1510.35,15636.04,25106.45,2643.75,2020.28,6960.529999999998,2930.94,7098.29,700.0,1743.03,1475.6,344.5,1.0,29292.26000000001,5969.709999999999,349.48,38080.61,19419.53000000001,8357.09,2663.8,2127.0,4028.1,7370.38,783.3500000000004,31387.250000000004,1390.5,58096.45,3184.33,4649.5,7002.05,6806.2,6499.889999999998,18762.16,2312.61,450.0,1244.22,405.76,850.0,15464.2,2082.72,784.91,7088.78,6021.619999999999,8218.0,12762.56,4204.81,28093.2,41343.2,1400.0,1166.2,7946.980000000001,8438.37,17108.539999999997,7062.110000000001,3250.0,507.12,80.49000000000001,2744.47,8244.05,659.26,5193.800000000002,8449.88,5232.04,4260.0,2896.01,1532.39,3593.51,2366.8,14004.55,1796.43,107.39,3269.86,1000.0,1400.0,886.24,3444.5,1016.07,4482.89,14315.09,12895.21,350.0,2374.24,4547.190000000001,10879.0,3800.0,3287.14,4196.4,19555.230000000003,30144.79,3156.0800000000004,4505.35,525.6099999999999,441.8699999999999,31648.42,15744.170000000006,1729.28,1657.32,393.74,4831.29,400.0,2910.54,5898.280000000001,590.0,151.95,956.85,512.98,995.43,1222.4899999999998,107.55,1828.41,4595.57,700.0,7191.17,8292.29,1769.77,14064.28,12963.25,513.63,433.6,5029.030000000001,5337.99,1199.65,6642.81,1272.52,3314.4700000000003,3224.34,1371.85,23992.23,1660.5700000000002,21566.02,4220.37,1767.94,16590.29,572.23,13943.53,14811.4,9566.52,13592.25,2091.65,1156.44,895.61,788.8399999999999,911.24,33626.59,3644.54,2464.29,2229.02,1569.19,1034.86,1596.08,199.07,6176.7300000000005,1000.0,220.52,908.75,39183.06,21817.4,5337.139999999999,17064.089999999997,1201.9299999999998,1666.0,2189.43,6530.12,200.37,8607.41,4912.790000000001,450.0,3705.73,2810.8700000000003,50.0,3190.87,66.0,27051.9,4580.0,2956.51,9348.679999999998,4765.0,210.0,3688.99,7649.829999999999,999.72,60.11,45.61,8108.8499999999985,1657.29,1657.91,1750.0,1421.7,2907.69,5250.43,15360.78,2599.56,470.0,6827.7,560.0,94.54,2788.68,400.0,1499.14,8566.06,2654.82,472.27,1218.32,21402.47,2232.9700000000007,10570.68,386.87,1050.42,246.5,15954.499999999996,3317.300000000001,825.2099999999997,1938.14,650.0,2803.92,3732.14,38298.64,333.37,4965.96,2118.79,6203.68,8108.56,3018.4,11170.96,1904.13,801.3599999999999,25477.56,471.0,2500.0,4922.84,2300.0,5312.78,1289.8100000000002,1194.73,9410.76,1101.23,2636.0,1257.59,8463.78,14000.0,31587.17,378.75,1789.24,4045.9,1805.94,3972.18,2449.02,6700.0,286.04,33900.0,500.0,2325.0,1004.93,5334.479999999998,9026.81,699.99,4284.61,16474.13,539.5699999999998,703.3400000000004,1259.92,10700.28,479.65,1615.55,7000.0,1210.0,14544.83,30809.17,2670.0,3207.56,1200.0,153.31,659.19,4562.08,887.61,2235.58,734.26,1628.6700000000003,4075.9,6089.259999999999,1200.0,2830.6,1169.51,487.43,413.86,2000.71,1567.0,37385.19,6732.0,1017.26,12330.0,2444.36,7646.09,1001.26,1600.0,2538.8200000000006,120.47,850.0,3115.0,11549.02,9709.35,4724.78,787.55,3774.86,5074.86,4500.0,25794.66,2742.96,55753.5,1357.14,31443.27,3130.0,17793.509999999995,275.17,13564.45,1720.54,22096.79,1393.03,2194.19,308.1,5494.700000000002,26971.87,28537.2,1930.25,3700.0,8138.110000000001,1020.0,941.05,24299.16,14105.58,25590.960000000003,580.0,11999.97,1133.53,6689.06,4430.91,9072.47,2700.0,1912.29,7913.42,350.0,500.0,2522.69,1264.7800000000002,350.0,1020.78,3364.67,1219.21,21365.88,4023.21,1175.68,850.0,66448.59,3246.99,2192.87,792.0,6242.08,4718.26,500.0,321.44,2603.91,2118.45,3254.4,1013.07,2560.21,1658.53,34499.71,327.28,980.37,11379.299999999996,7430.05,1634.5199999999998,4559.19,888.56,6702.5700000000015,22453.77,9330.75,4612.94,21594.76,35514.73,378.28,1505.92,1374.79,2141.71,6363.11,10850.0,14497.7,12036.43,4901.31,2461.09,1055.52,1510.52,750.0,631.8199999999999,1747.12,50.0,4477.44,1759.8,90.57,5380.72,847.06,540.82,3146.42,7850.009999999999,11782.760000000002,9977.02,1760.0,10073.06,500.47,7761.240000000001,1084.81,1620.26,2225.0,618.56,1854.42,3590.85,14790.840000000002,6979.719999999998,3195.0,4516.4400000000005,18064.67,3300.04,1610.0,2099.3,499.86,958.45,557.52,361.61,4634.009999999999,3587.0,2123.31,14729.37,17074.85,2174.04,2922.1900000000005,20382.040000000008,1550.0,2403.020000000001,14174.15,2516.24,6927.32,1659.3,2968.98,1734.11,236.22,1507.65,500.0,4163.2,14973.090000000004,5621.809999999997,1038.2800000000004,4221.599999999999,10130.0,4765.31,11190.230000000003,7063.759999999998,1016.49,2016.95,4109.07,643.92,60.0,1108.3,2907.0,1889.43,6411.21,11825.63,897.55,1301.54,16.85,22038.36,14314.36,28781.2,19066.2,2478.36,7618.289999999999,2157.38,6513.219999999999,2786.98,86818.76999999999,11663.95,443.19,3588.1700000000005,11276.95,7614.88,3539.56,3151.55,500.0,818.31,19972.29,831.3400000000001,610.02,1693.4499999999991,4890.35,4547.709999999999,90.49,10985.0,2757.59,521.59,755.88,2615.3900000000003,195.81,2612.15,89.85,1747.2,2799.08,1210.0,5113.489999999999,17930.010000000002,7881.030000000001,5779.249999999999,7000.0,28469.76,5280.25,100.0,3220.05,4665.34,5680.79,1000.0,1126.45,3797.63,110.66,4967.34,5633.57,700.0,159.91,6331.250000000001,3408.05,10806.660000000003,4924.96,22379.59,4573.98,20188.39,50.0,2500.0,912.2700000000004,729.61,15706.89,12057.15,539.55,6603.349999999999,2257.02,11831.770000000006,2297.6800000000003,902.74,13.44,26401.93,7364.6,350.0,4210.0,986.6200000000002,3118.82,19929.13,1776.13,537.7,568.28,10083.13,4201.48,500.0,1000.0,2140.91,11732.24,5399.649999999999,32.8,6594.1500000000015,3578.67,12067.49,2374.19,970.3,7710.799999999999,1179.32,860.0,3285.46,3501.96,559.9,1200.68,1580.74,3500.0,2470.02,681.22,2694.46,10566.75,25801.55,15149.91,2795.840000000001,400.84,2386.11,262.79,1069.77,158.43,5912.53,1028.62,11218.92,1536.9,1490.0,996.24,1599.74,1797.5600000000002,4372.24,649.97,2224.31,100.0,1172.88,468.52,509.62,5986.616454513073,435.11,6144.2,9128.490000000002,2240.94,13519.03,2920.8099999999995,3423.7200000000003,17912.22,3358.17,16309.19,1130.0,1000.0,415.0,4258.0,4746.08,2242.0300000000007,379.56,2078.73,999.72,713.32,39761.67,850.0,3662.66,24719.68,3606.78,9278.21,294.92,1868.13,3042.48,1500.49,1779.52,1177.5600000000002,0.25,2328.61,3308.97,73.43,6037.3,1658.79,3235.07,2080.37,744.42,1569.81,3902.31,14529.65,6188.81,3879.99,3218.4100000000003,1805.02,2800.0,310.89,9616.940000000002,1500.0,1339.65,6452.37,5323.14,3738.0,600.0,1115.03,2266.15,152.02000000000004,11466.92,1660.71,6209.54,60.99,2172.79,2099.84,12928.04,1659.89,22469.93,2750.0,3747.74,15218.049999999996,17078.0,154.36,3993.69,1656.97,450.0,1175.69,26063.41,2232.9400000000005,1911.55,2700.42,2884.94,2724.6599999999994,1659.3200000000002,23541.08,357.57,152.5,649.12,1430.0,1800.0,2302.6,1361.09,1350.0,3532.59,9399.48,10505.200000000004,757.3899999999999,350.0,1350.0,2799.81,22985.84,7649.810000000002,8817.18,6305.680000000001,568.7500000000002,1589.2,1623.25,34081.70000000001,2040.0,4295.42,4540.780000000002,4589.75,480.53,500.0,1475.0600000000002,2140.01,17141.690000000006,2416.82,1100.0,1660.99,150.0,434.62,2100.89,2783.0,1218.88,4700.0,7000.0,680.0,1657.7,575.87,60.0,7306.47,958.07,1658.37,560.0,1076.76,765.62,5604.31,31710.669999999995,2186.87,7801.2,13872.770000000002,7254.159999999999,16334.6,10028.62,8565.29,833.33,4349.96,3388.12,1439.19,842.52,356.68999999999994,5150.0,4627.7300000000005,1050.0,2002.98,104.86,4333.52,3254.9300000000003,432.37,1660.01,2078.45,2750.0,1620.0,1660.6,3453.78,2229.25,797.52,150.0,150.0,32569.75,1272.42,2736.88,1297.43,144.39,9971.2,1760.0,1869.19,719.25,700.0,359.55,74.41,2699.1100000000006,329.64,2244.27,400.32,500.18,1349.55,1658.47,7780.07,2438.05,4969.839999999999,1299.7399999999998,5092.97,1899.89,473.5,2140.0,2269.68,59349.89,1657.38,339.86,19154.59,700.03,476.15,20759.29,830.0,2082.73,3400.0,363.5,1579.17,5824.9,1661.9699999999998,549.63,51673.52,1200.0,8617.869999999997,1172.37,30000.0,2400.0,7803.94,798.7,465.59,874.1299999999999,2141.21,107.97,717.6599999999999,16460.0,1925.9,3811.099999999998,472.0800000000001,7124.180000000003,6089.51,366.43,2155.9300000000003,7027.320000000001,5570.25,700.0,319.21,981.71,2328.53,394.19,27707.29,1251.6600000000003,3697.14,16706.46,1303.74,1791.4600000000005,3507.44,1988.73,66.58,4819.919999999998,1380.94,9736.63,10982.92,1658.9,333.89,3119.78,690.18,649.33,673.84,2301.5400000000004,17732.02,906.13,933.94,10114.76,1128.0,3029.4000000000005,2498.5,4390.0,2106.2,13785.57,5015.610000000001,3290.33,8000.0,6975.759999999999,915.58,6579.0,1613.4899999999998,2030.0,6546.6,750.0,350.0,22754.01,1999.47,1473.9999999999998,871.82,1349.35,34499.5,400.0,20578.95,16271.68,4149.91,1761.21,700.0,281.18,1168.39,760.0,11248.99,479.62,471.2,1238.05,769.8,2140.0,1359.48,12896.71,153.03,11433.94,17615.7,914.6699999999998,1087.0,1914.23,970.9,9858.540000000005,400.0,7362.57,2092.94,2518.7,12842.970000000005,1000.0,65579.66,1063.31,745.88,1200.0,1976.44,855.16,3899.56,1613.85,1350.11,25242.72,6053.48,6989.23,18944.92000000001,2034.7,13334.91,159.68,1849.06,11697.65,1350.0,187.9,271.31,4820.310000000001,4077.25,16967.93,12275.05,3671.43,7799.559999999999,58.32,16881.75,1600.64,41754.48999999999,757.14,1480.49,1280.0,1658.22,1307.11,17894.51,7378.549999999999,22499.23,6482.680000000003,1660.63,4500.0,1659.0400000000002,1387.92,650.0,13810.09,12183.929999999998,208.12000000000003,1969.0,1000.0,1257.43,349.07,350.0,16932.63,214.89,500.0,569.08,499.3,6524.869999999999,5006.77,1600.55,127.32,3014.58,2105.9100000000003,3352.17,2379.79,13910.97,1200.0,4245.38,1930.0,1800.0,1640.0,850.0,2032.62,1708.45,349.16,542.9,1269.03,3566.59,27454.99,31270.0,12250.92,497.2000000000001,724.27,2399.0,691.0699999999999,825.0,22953.3,641.2,4717.88,700.0,400.0,143.04,3446.94,7637.95,1317.11,1130.39,2135.45,225.2,6256.26,5403.27,8522.65,1460.0,2621.79,29999.78,50.0,2598.8900000000003,5819.16,17011.260000000002,14541.39,743.61,4330.4,2740.0,3331.41,1795.0,14615.68,10271.5,8551.610000000002,343.63,1632.05,7817.74,6478.97,3498.38,1000.0,5308.28,2616.51,10754.85,11594.57,8219.689999999999,400.0,1372.34,263.31,1659.53,880.0,11391.07,3734.0,1000.0,9649.35,1137.5800000000002,1350.0,13935.090000000004,177.83,2664.7700000000004,790.87,4069.68,240.39,1928.89,15347.97,1760.0,5781.11,499.67,12228.099999999997,1987.9300000000003,387.3399999999999,4325.45,1353.66,50.0,4093.34,9213.39,6190.0,8355.56,6981.9,1657.98,900.0,130305.25,5425.0,9444.0,4212.479999999999,755.02,16554.38,379.55000000000007,124.38,2979.0,1125.02,11200.0,6519.499999999999,2160.0,4537.48,194.77,1405.06,21575.68,3374.53,1900.0,15803.27,56.5,10844.14,2651.86,23033.94,4686.87,3494.5200000000004,14644.509999999998,2779.74,93.22,10281.65,1355.47,4397.200000000001,6975.89,1024.07,706.28,8485.1,516.9399999999999,5837.200000000002,2902.91,827.73,999.9,1637.0099999999998,3649.72,11341.94,12008.72,6318.91,17830.19,6584.830000000001,21957.01,5346.449999999997,3278.3,449.19,3150.2700000000004,849.16,5994.330000000001,2562.06,1881.47,828.5600000000001,1138.31,5442.34,5166.27,14610.23,378.0,4816.720000000001,502.9800000000001,2969.6800000000007,7255.11,1418.88,256.12,453.93,9534.7,2478.6,799.81,3230.12,699.41,4614.32,2018.99,17269.140000000003,7675.06,18945.69,24202.92,1674.45,3140.0,28480.99,13952.69,16108.75,11300.49,2629.63,1836.34,426.2,1000.0,2340.0,1560.76,1170.0,1199.28,1191.84,515.84,9736.25,18661.06,1662.27,893.1800000000001,2113.06,2410.93,1330.0,446.56,2178.76,5279.31,3108.6800000000003,10471.41,4500.0,4880.0,950.0,18110.0,4741.39,1350.0,1716.1,1593.2399999999998,4706.17,1000.0,3320.22,6002.21,1879.55,1750.32,1440.0,1902.53,984.28,7807.799999999999,11089.3,23151.88,6742.76,9849.080000000002,892.57,22859.68,974.61,3270.0,28847.1,4440.0,16811.739999999998,11858.59,966.98,9895.27,1540.72,5299.01,350.0,1500.0,2550.42,771.47,1900.27,11331.79,6710.039999999999,1815.3,1657.48,350.0,7576.66,4496.17,1323.83,1372.0399999999995,14060.42,1845.03,2417.56,1298.5500000000002,1665.73,14501.79,791.09,8325.900000000001,1835.63,8060.42,275.78,1658.41,750.0,288.25,3742.76,20467.230000000003,1484.7,10130.0,3683.65,1541.44,7499.89,908.8,118876.23,14169.729999999994,1813.38,3306.69,2670.37,1105.5200000000002,6406.01,2172.28,4190.16,3839.51,8888.07,7103.24,402.89,13205.659999999996,4699.25,153.52,1969.08,10100.64,11405.22,1809.68,9182.86,3423.5400000000004,1660.7399999999998,699.9300000000001,750.0,2099.4700000000003,2991.0,5288.78,1355.0,4139.63,344.3,800.0,8489.920000000002,560.0,15733.93,1665.18,27541.16,550.0,481.65,2416.13,3630.53,58.0,13327.260000000002,1020.0,31313.23,1972.86,6709.14,2467.0,5459.47,1689.71,824.5899999999999,18234.5,32149.84,3947.38,6682.72,743.4999999999997,5139.57,10101.96,6525.83,31456.33,500.0,1205.57,1425.52,20651.51000000001,3760.02,83.55,2195.09,1759.79,25502.21,11075.37,3782.18,9535.81,1734.95,759.26,1642.14,12814.169999999998,365.06,50.0,3591.36,568.44,1200.0,9489.81,5552.860000000001,991.38,1794.09,4687.27,654.42,92.21,7712.910000000001,1400.0,4223.35,5545.0,650.0,16063.16,8406.939999999999,12406.600000000002,1227.28,16852.03,1691.5,3691.27,158.6,1000.0,2569.4,950.0,2439.58,11871.9,7518.06,9172.37,10863.18,431.0399999999999,1000.0,575.85,11102.929999999998,837.1500000000001,1597.54,1220.11,168.8,999.21,600.0,154.70000000000002,823.26,399.94,21079.67,18591.42,3828.85,5229.799999999999,7002.099999999999,5589.24,1439.7,2229.4,33189.27,2166.34,7360.21,417.8,4599.33,1344.46,684.32,223.15,526.54,7317.89,7887.11,1000.0,1429.5800000000002,224.61,7751.269999999999,1620.75,7095.51,15831.34,1141.81,33383.3,1069.92,583.6899999999999,5789.42,2396.71,650.0,3942.2999999999993,1460.0,2750.0,15322.710000000005,42615.38,13758.749999999998,2490.23,4621.450000000001,411.4,12200.0,6930.0,4720.04,25522.039999999997,8218.8,3196.74,1811.47,3208.77,4982.360000000001,801.1800000000001,9828.73,1657.94,3831.18,4233.68,13267.36,3490.499999999999,4550.250000000001,206.85,3449.53,10658.81,19256.0,1834.54,3911.16,801.5700000000002,1907.11,2835.9700000000003,364.9500000000001,1611.6,10617.29,848.4399999999999,1372.26,400.0,1000.0,5272.4400000000005,1014.23,560.0,759.04,1799.62,8773.39,24936.369999999995,2027.07,6361.13,1352.4,999.43,1704.21,6340.219999999998,4448.0,37204.11,4522.55,6238.530000000001,32272.74,11289.57,1570.88,2412.83,2805.8,1134.52,1000.0,2300.0,4995.620000000001,442.85,2660.0,741.53,1657.88,17007.670000000002,261.6,803.5899999999999,14741.93,13620.0,1127.3100000000002,31300.28,482.55,6533.0,990.0,3502.7,3072.57,875.0,3590.0,7311.0,30668.85,2531.9,6882.6900000000005,3313.28,15232.63,7400.400000000001,11545.56,3847.25,647.53,366.51,2557.34,49447.82,5837.11,2390.0,1209.0400000000002,5055.98,832.37,2151.94,4290.36,5357.879999999999,999.59,1100.0,2344.9500000000003,1932.76,450.0,16038.95,3379.1000000000004,30226.27,1429.89,400.0,2539.69,3619.74,4820.0,16770.27,3485.57,143.36,50.3,8824.46,749.1,550.0,9135.95,1660.17,1329.98,9871.38,1043.55,8248.970000000001,4062.46,159.66,7000.0,6517.48,411.06,4586.92,21202.86,513.75,6848.969999999999,3493.77,220.38,1020.0,2328.73,561.78,2536.46,1163.48,9342.7,1628.45,1425.2899999999995,740.22,17499.409999999996,6715.62,1624.52,1250.0,573.1199999999999,1022.79,3230.88,7629.9,1699.59,1838.83,1000.0,2749.09,8791.510000000002,2450.79,4522.390000000002,120.38,520.75,1300.0,9613.52,3733.48,2467.0,905.44,10797.86,31079.919999999995,3389.83,1091.41,10297.04,4065.22,6149.9,12560.71,1149.42,6250.03,1400.0,1896.23,34854.02000000001,5756.72,3316.46,28817.19,2438.94,23562.870000000003,5015.9,1337.46,7109.07,5647.74,2822.48,3077.07,2794.32,15911.52,788.75,1210.0,149.87,1700.0,8382.660000000002,5698.0,6141.599999999999,5910.549999999999,12871.79,3737.04,6513.9400000000005,5273.660000000002,14916.27,1156.7199999999998,6883.4400000000005,3350.0,550.0,112.91,1211.02,366.84,1220.79,12135.329999999998,647.7,3955.26,2449.03,7588.99,9782.720000000005,13183.94,1008.33,1890.0,2827.0,1886.66,7406.4,400.54,1473.55,1074.08,1658.59,2710.0,799.11,561.36,2299.0,4594.4,4821.800000000001,10093.2,168.11,5797.870000000001,1796.2599999999998,2100.0,5632.689999999998,12634.12,50490.29,4939.259999999998,482.5200000000001,2249.54,1054.61,4657.29,4548.489999999999,566.33,1253.83,2659.26,5200.72,335.18,15720.0,516.33,3575.9100000000003,2232.62,2463.42,1556.0000000000002,350.0,350.0,6869.87,29999.59,3548.2800000000007,2736.3,8009.72,2171.2200000000003,5328.08,1000.0,5757.25,1320.0,4937.56,12522.62,6488.46,6405.699999999999,4371.120000000001,792.58,3069.67,3432.13,3649.82,1399.34,862.37,1605.77,539.74,404.14,7448.120000000002,3865.76,1938.47,1600.24,2157.3,744.0,1200.0,1549.8,1700.0,20905.19,4450.0,6274.66,2759.86,438.64,727.29,946.47,1709.73,7680.55,1657.42,922.26,11990.220000000005,3750.0,40414.8,4648.29,7606.77,1200.0,994.94,62803.63999999999,1049.81,10848.47,1658.29,1091.18,1658.0600000000002,1874.04,700.0,200.0,1991.4,14779.6,50.0,627.42,700.0,544.54,2142.96,969.24,106.07,28.39,9122.45,22890.9,900.0,166.05999999999997,2581.0,4570.17,95.72,2289.15,1002.49,2079.56,1030.8300000000002,710.0,4147.89,654.65,6214.740000000001,16558.69,66.78,800.0,637.3100000000001,511.77,699.5799999999999,23953.36,9723.96,329.63,379.72,9999.22,1540.0,2112.45,1284.8,32260.899999999998,775.0,369.52,596.61,60.0,2334.76,152.52999999999997,5721.1900000000005,8466.609999999999,649.9699999999997,8760.65,1060.0,10186.79,5132.200000000001,2299.09,7536.08,2477.28,8340.0,849.5,7930.0,7473.919999999997,1624.32,35066.630000000005,11239.1,1511.65,1659.24,1191.4499999999998,3716.65,1658.47,3674.89,2749.31,25677.27,407.50000000000006,4283.48,10091.58,5390.32,1190.83,5345.849999999999,13859.04,4065.559999999999,1391.05,392.44,1262.25,12078.93,6991.430000000001,553.67,12875.080000000002,11077.17,1998.74,223.23,1938.78,2261.83,20265.22,2300.13,1536.9,900.2699999999999,21411.41,2899.46,1000.0,200.0,4027.03,6079.639999999999,5124.28,106.87,3956.45,2827.44,2386.11,2107.02,459.73,7245.280000000001,350.0,1500.0,46761.19,891.69,243.03,858.72,3860.0,2597.32,3700.0,725.25,1884.66,500.0,9718.5,1069.09,1779.16,5210.29,2297.53,1848.94,1776.8,19309.66,8293.34,2359.32,11296.06,3080.23,17769.46,1640.05,14625.44,384.27,5514.97,2228.46,6164.6,2195.3300000000004,1760.66,14326.529999999992,2210.5,5965.55,1590.07,24291.2,508.62,9729.609999999995,1919.31,3679.34,12939.51,871.5099999999999,763.99,4165.369999999999,8510.0,30000.0,300.0,785.19,6233.0,310.52000000000004,9000.0,11054.82,1799.96,450.0,66.3,519.3199999999999,2458.15,8353.95,6524.670000000001,1205.74,15574.45,7447.76,6079.95,277.59,851.1,999.67,5439.349999999999,17400.0,647.86,906.99,2082.669999999999,1000.0,550.0,8986.06,18286.07,874.66,5147.63,1380.53,4960.2,5929.4,2110.89,3127.99,4166.719999999999,701.2799999999996,2154.4700000000003,1909.02,4470.67,5450.88,917.34,6006.48,1356.18,1598.38,1909.5,1000.0,700.0,2039.11,50.0,7720.0,150.0,2880.46,6750.0,8431.86,6445.39,11763.069999999996,8444.59,779.35,369.7900000000001,6537.030000000001,11627.33,14559.209999999995,649.48,17075.63,555.43,700.0,3471.51,94.96,283.96,1230.0,19136.0,1618.4899999999998,2169.8,5614.880000000001,829.53,3110.83,96.85,2239.5,8823.62,5732.15,2058.77,4329.009999999999,507.74,3138.11,1100.0,818.27,4158.15,5519.0,10245.45,19094.880000000005,3179.51,350.0,2972.66,8988.03,6900.37,551.32,350.0,7050.0,1009.7,3027.52,1111.5599999999995,32002.210000000003,3457.3,1910.0,1759.56,1658.28,1529.06,3580.0,455.25,206.13,500.0,1600.0,6610.99,1005.42,279.53,4121.76,1216.18,4710.0,3036.66,591.05,7900.0,2300.0,15880.0,1200.0,5733.58,12781.39,1399.36,50.0,1024.07,9088.13,27041.67,9272.92,240.08,12519.04,12572.09,1310.0,10170.81,14608.41,2156.23,1691.39,143.44,2971.15,3782.2000000000007,5591.200000000001,4355.96,2607.82,17679.949999999997,8332.929999999998,4179.0,1419.78,390.31,19890.69,29504.51,8645.04,997.13,24.45,3817.31,942.0800000000002,6518.000000000002,17387.589999999997,4440.0,829.3100000000001,1057.41,29041.57,519.5000000000001,2170.0,4849.23,858.75,1962.56,1324.35,639.1,290.59,2730.0,2170.0,2958.819999999999,376.4499999999999,7250.0,3956.12,6308.94,550.78,1435.81,5276.02,4251.76,154.28,6307.279999999999,2720.0,1839.97,935.31,12278.94,1656.3100000000002,17772.63,149.3,7704.709999999999,2200.0,8623.7,1062.81,1000.0,11234.22,1564.01,7296.21,621.6,7885.23,2290.96,2697.06,6222.99,5352.63,1577.21,350.0,2750.0,3510.0,1842.41,34588.15,10242.17,35381.26,1003.46,327.17,28214.45,1312.89,6002.22,8944.08,1200.0,1900.0,3195.17,1230.0,1634.2299999999998,6954.330000000003,11105.5,7703.33,4088.86,532.9200000000001,16872.460000000003,50.0,289.58999999999986,206.6,875.83,11995.09,1657.66,5230.860000000001,4214.850000000001,6895.23,1567.0,2956.83,3597.12,8805.220000000001,2406.0,1162.47,14677.130000000005,28119.98,14329.85,1049.6,6885.19,1630.0,2741.0,2523.35,10220.0,25910.009999999995,1020.0,1200.0,1434.03,11263.49,632.35,18570.56,5206.81,91.95,6810.030000000001,44432.06,23024.58,3259.13,1656.4299999999998,1658.71,2955.17,2743.49,33850.63,1700.0,9109.93,18270.84,223.63,1322.89,3272.22,13872.26,1095.69,4911.110000000001,13048.22,12882.49,458.48,12097.749999999998,3286.5000000000005,361.7200000000001,5270.789999999999,1579.94,802.1399999999999,1559.41,437.0,15659.22,4827.62,4366.74,1249.89,1819.76,20497.3,2350.0,2000.0,850.0,2469.540000000001,43371.36,7729.460000000001,2229.39,530.4300000000001,10594.18,2674.99,1516.36,750.0,8426.32,1492.49,541.5,747.69,7936.86,27799.25,14416.24,2535.13,4695.300000000002,2196.93,629.6800000000001,3672.35,875.0,10948.33,1099.13,1399.6799999999998,989.2,1095.12,864.01,1039.3,3031.42,2005.3,795.2,655.44,2195.24,9902.050000000005,5673.969999999999,7957.57,9496.759999999998,1350.0,5372.92,1698.69,2299.2200000000003,2600.0,24404.63,1239.9999999999998,11.07,366.16,1735.33,1666.0,152.29,5050.07,85.0,75905.58999999998,10551.19,1591.76,1811.39,9137.51,1536.9,221.16,12138.530000000002,3699.34,8906.01,15950.0,1214.3200000000002,1281.0100000000002,5241.1,12103.86,2215.35,7329.699999999999,1345.4,1109.53,4584.32,3115.0,90.21,400.0,2096.15,15406.009999999997,3687.56,149.03,1016.93,19599.58,4802.56,955.99,1278.72,2289.93,2659.95,2332.13,12919.2,960.0,16423.42,1519.87,10123.429999999998,312.14,9109.01,10580.24,5378.27,8650.95,2842.19,1652.07,5614.170000000002,1290.0,1581.0,600.0,3860.64,11956.22,17367.430000000004,12949.8,475.0,16535.97,1658.81,4502.53,675.3499999999999,19514.43,1500.0,3209.96,11431.270000000002,1400.0,2489.58,740.0,2558.47,402.72,6348.4800000000005,2929.9,1960.33,75.69,9540.61,4100.0,7266.41,247.28,3193.33,3856.1,750.0,850.0,29572.01,5454.94,2499.61,2590.89,2009.93,1280.4,1619.22,2813.2,400.0,26.96,796.2700000000002,4087.65,763.53,3850.0,949.66,6385.53,2982.44,3385.77,8273.240000000002,29.14,1030.0,5435.0,1000.0,5426.510000000002,3359.34,13052.74,9727.71,3999.39,1473.19,3321.63,24105.500000000007,618.1200000000002,5428.91,403.04,921.01,15975.59,1341.9499999999998,3893.0,5069.960000000001,44070.85,2162.62,12310.89,918.23,89.68,6274.0,2002.41,3029.95,5042.54,4795.530000000001,227.19,1660.86,184.11,177.89,744.8099999999998,150.0,7980.83,3622.9199999999983,680.37,1361.73,2198.38,1250.84,3536.03,2016.12,6735.289999999999,601.2799999999999,2060.74,20136.67,16550.0,350.0,1658.0700000000002,2982.66,1658.86,4785.08,3318.23,700.0,457.16,860.06,4672.41,8886.95,450.0,950.0,4838.06,5038.5,13683.31,9114.03,4663.660000000002,2094.96,6588.9,6218.090000000001,8348.78,23085.66,29149.72,25896.82999999999,1099.6,4872.6,1958.6,14943.55,2969.91,5280.990000000001,1958.0,973.9,7948.37,1917.0,212.3,18155.52,1200.0,1000.0,1349.16,700.0,474.12,7724.99,11530.490000000002,17885.38,16534.37,2706.3,1641.9200000000003,8076.54,1000.0,2869.45,5639.340000000001,3950.31,6585.290000000001,400.0,3087.2700000000004,9228.85,699.45,540.22,1704.0700000000002,8373.07,13379.19,2871.2899999999995,7377.15,355.24,4085.74,1287.28,3160.52,1032.46,495.79,4152.25,15004.7,2143.4300000000003,4101.01,1010.0,4946.459999999999,2330.19,969.9,572.36,396.31,1658.13,1600.4199999999996,948.77,1993.25,5170.16,800.5999999999999,232.88,538.3,7036.57,381.12000000000006,176.66,389.6,450.0,14514.11,1987.04,3426.5,1200.0,376.47,435.5,2508.29,1615.1999999999998,350.0,7703.91,1000.0,750.97,4779.5,2769.46,20371.61,190.12,32000.90000000001,12913.95,20818.06,2117.39,5615.17,5928.389999999999,7749.7,1042.5099999999998,4958.75,3703.909999999999,7411.02,25942.28,3188.0999999999995,2096.27,5184.419999999999,14382.02,33.1,711.4,390.66,2819.79,14152.79,400.01,387.45,1156.82,9701.259999999997,1660.46,1570.0,6207.57,75251.83999999997,3509.6600000000003,5237.34,3222.05,644.5,1431.59,13182.66,1716.4299999999994,50773.87,430.53000000000014,1842.81,8930.650000000001,6530.78,2579.29,3054.23,350.0,480.0,1853.36,560.0,28004.640000000007,2822.87,910.32,4799.06,977.51,11885.47,700.0,1393.0,409.06,7231.83,15350.0,1331.8100000000002,2750.0,2356.13,22870.0,5777.46,232.89,1001.92,5843.49,3560.2900000000004,2344.42,38619.37,1350.0,2115.72,13049.989999999998,2961.46,19849.18,950.0,559.78,1650.0,44422.02,62293.31,399.24,34804.450000000004,11010.28,150.0,200.0,490.33,77.32,7253.530000000001,36000.57,24494.86,977.71,1496.68,58167.779999999984,1771.27,1975.8,4685.370000000001,2431.0400000000004,3717.73,12718.27,1949.26,550.0,969.35,368.00000000000006,8062.33,28370.14,16271.69,1018.06,9130.2,3711.83,1658.5500000000002,1002.33,1949.09,4935.47,6165.0,1181.17,13395.39,800.0,384.94000000000005,1441.61,1658.68,994.87,4897.22,1357.4900000000002,325.14,8453.65,1658.59,1337.92,863.39,162.45,4798.22,20898.56,8419.509999999998,1971.93,891.38,8876.68,655.71,2924.0,2080.0,12251.54,19781.79,651.66,9223.92,252.49,3521.09,1647.51,2400.0,256.08,1894.24,9247.24,13260.01,853.5,363.5199999999999,5750.0,704.82,880.13,24527.32,1683.0,1714.23,3680.09,1657.5999999999997,19.8,2074.08,50.0,12937.42,623.9199999999998,600.0,7902.630000000001,3003.76,999.91,1862.92,4300.08,500.0,12515.93,1879.87,3167.7200000000007,13699.199999999992,194.19,424.75,499.95,19131.35,27728.52,3598.04,63.25,746.22,524.19,3118.16,484.0899999999999,2040.0,7252.68,40087.05,2104.31,124.39,7164.0,26407.98,3418.23,230.39,7064.51,2389.58,82.98,7158.429999999996,1700.69,2372.49,1879.58,1828.68,1100.0,3698.98,2949.2200000000003,1929.8,5108.02,735.6299999999999,965.89,9350.81,1562.77,12262.56,1481.9600000000005,16891.94,21378.94,11188.68,375.0,13010.27,7690.57,1539.55,1350.0,949.31,2294.38,9798.93,680.0,7418.08,1656.6699999999998,39337.85999999998,838.3399999999999,4719.0,1297.76,3503.73,1650.0,1000.0,10918.22,936.2900000000002,6518.2,2539.56,1660.35,19634.61,1657.96,30262.08,3599.3300000000013,702.65,826.15,38171.44999999999,16473.39,1810.0,5483.379999999999,335.77,1529.06,6505.57,20541.44,11739.78,10460.0,1484.42,12978.17,639.53,4800.0,1452.82,4832.11,7229.74,3419.44,942.0,6476.83,640.0,20753.36,751.96,35839.109999999986,477.7799999999999,2842.48,1000.0,641.51,2177.77,19130.259999999995,1424.87,3778.07,897.88,7047.610000000001,2101.7,1394.4199999999998,2239.59,4369.12,350.0,948.52,5988.93,1792.4,4361.280000000001,1878.65,1100.0,450.0,40615.56,4050.0,1020.0,1138.68,12533.84,1658.71,500.0,2631.13,40681.37,13796.31,374.19,1681.5700000000002,10987.57,841.33,539.13,2365.34,8062.35,4170.97,856.4,970.18,4079.39,16593.71,1891.0200000000004,99.25,15885.329999999996,3775.18,542.84,1035.91,3626.56,11077.5,13140.080000000007,410.36,2106.8,2936.28,1200.0,1362.5100000000002,734.75,16817.74,1349.92,2638.11,249.79,1656.64,1536.9,14547.2,2977.74,2410.0,1000.0,6348.0,8507.589999999998,2835.49,1829.42,5489.51,1659.71,1940.0,7348.370000000001,2186.22,1417.36,500.0,4990.0,1100.67,1609.6,6010.0,2578.06,447.31,850.0,1839.02,666.57,1128.81,1207.82,3695.46,1514.29,250.0,9119.5,12330.04,24221.7,12396.179999999997,3204.37,1659.64,3580.0,561.77,906.41,13059.889999999998,14961.29,203.27,8801.220000000001,610.0,1898.4,349.14,4594.73,373.44,14017.830000000002,925.22,1501.06,2630.01,429.25,720.26,3690.75,4873.24,489.43000000000006,400.0,700.0,2008.05,4860.0,13213.25,1350.0,6353.27,12589.99,408.19999999999993,2872.99,21007.53000000001,880.47,10558.28,9305.53,1047.92,4245.280000000001,3027.14,17951.339999999997,26002.05,1973.81,23589.76,24824.42,1999.13,2206.74,920.0,500.0,1404.16,6729.369999999998,9250.0,1565.02,3499.17,63.53,499.79,19196.2,1250.0,16065.5,3600.0,2870.0,1250.0,2371.7,557.3100000000001,401.44,5824.759999999999,840.0,5600.59,8766.57,2630.76,8546.470000000001,2690.0,262.61,9626.59,3321.99,8187.3,4149.68,1573.9299999999998,28506.32,444.81,1457.58,100.0,4475.51,403.94,6631.84,9615.79,4085.5,14859.47,1904.8800000000003,13495.040000000005,4284.050000000002,1657.62,2222.83,5042.13,36841.3,862.3300000000002,500.0,1882.73,3079.5,2906.78,5218.400000000001,350.0,2286.34,1280.0699999999997,15676.01,1250.0,6408.150000000001,10320.71,1026.74,4008.68,1921.45,17243.53,4226.580000000001,5046.249999999999,7711.54,775.51,2631.09,580.0,13400.0,3181.89,1227.27,18517.67,2377.99,2300.0,1328.5099999999998,375.0700000000001,9304.2,1656.03,1270.34,4012.97,8511.119999999999,1656.0800000000002,2056.52,5847.34,23153.97,1771.8600000000004,751.33,60.0,17197.669999999995,18914.189999999995,3209.7300000000005,150.0,3219.32,835.62,7449.74,1219.4,488.86,508.48,1913.7,3999.55,1068.53,2883.0399999999995,621.78,1900.99,13742.19,1469.9399999999998,1979.44,2485.620000000001,235.78,43264.92999999999,2996.3500000000004,1169.36,82010.20999999999,8811.64,4907.26,5312.03,1400.0,5410.0,550.0,5832.72,7314.43,1658.6899999999998,3020.05,1549.6,504.93000000000006,6385.870000000001,2813.99,3757.46,978.67,39485.56,1889.29,2234.750000000001,5195.98,583.0,17726.39,850.88,3015.46,2032.83,850.0,7909.780000000001,2752.95,166.83,2915.96,9092.7,3570.9600000000014,1780.93,2021.0,222508.21,8820.69,2765.37,950.0,13080.38,6554.31,1260.0,2035.15,3162.24,844.2,1600.0,5773.26,950.0,6446.5700000000015,50.0,238.0,2824.1400000000003,1760.0,9321.579999999998,660.0,5215.91,21155.0,2710.0,2267.0799999999995,4250.0,999.49,119.67,7000.190000000001,1657.93,2461.58,3063.42,470.44,1190.0,1595.94,560.0,9972.739999999998,1510.72,855.74,185.45,7421.19,1042.9,9828.38,6811.26,155741.40999999997,350.0,4473.69,1190.0,15772.27,6848.49,3166.95,3472.18,6333.639999999999,20524.3,850.0,16388.170000000002,6607.48,1650.0,618.55,619.98,3314.97,19770.78,10396.2,496.74,15578.64,4719.12,220.86,6965.65,5183.53,1663.9,7803.57,5812.38,13153.840000000007,305.04999999999995,8799.9,3181.8900000000003,3924.68,22112.28,1701.9399999999998,540.07,30000.0,29.35,2346.9700000000003,19643.63,1110.0,5975.04,3058.12,12519.979999999998,23070.13,1949.12,399.07,292.49,241.3,893.4399999999999,824.94,1797.9,3026.21,419.49,9806.08,50.0,4302.0,632.3099999999997,1397.86,2113.4700000000003,1299.55,1750.0,1119.32,1589.85,1501.81,15667.920000000002,1975.24,3670.64,2000.0,2033.17,5280.0,6719.569999999999,3824.24,15198.08,1987.73,3050.0,1995.99,2381.79,2965.6000000000004,33848.59,1200.0,5943.02,5140.269999999999,830.37,400.0,700.0,20725.450000000004,5724.490000000001,17870.27,3719.72,443.77,1659.51,972.61,303.71,527.5999999999999,3344.85,582.8099999999997,13090.89,2106.92,400.0,10464.170000000002,250.16,1730.0,1896.6000000000008,50.16,5311.21,938.61,7049.589999999999,4525.68,2019.21,9442.35,183.72,867.65,8994.450000000006,4281.249999999999,26332.9,1282.87,5271.799999999999,2695.98,2249.45,1155.9,800.0,2185.74,2157.73,1657.5700000000002,4012.52,10777.940000000004,742.08,4988.93,1013.92,850.0,72.0,838.36,17365.9,9155.93,5703.52,7082.23,4904.71,851.1999999999999,2652.48,17021.05,1764.8300000000002,2155.4900000000007,1692.83,2702.05,6658.679999999999,1350.0,19904.68,1963.37,15766.820000000002,28017.550000000003,350.0,2564.02,3701.5,5549.820000000001,1287.29,3199.91,13694.44,91.37,5210.0,722.34,1096.07,3889.36,50.0,1037.51,23211.91,100.0,1350.0,1653.24,350.0,21798.39,508.55,1405.86,13366.75,1035.65,1311.89,8613.96,4753.599999999999,695.1400000000001,2112.44,4790.8,5097.459999999999,2031.34,4030.51,499.6,550.0,13933.73,5436.9800000000005,1929.91,4539.42,1581.34,8696.599999999999,9573.19,500.0,4720.18,2171.06,6611.41,5423.409999999999,2374.83,1950.0,4172.77,4783.25,644.96,6427.200000000002,800.0,15553.57,2816.03,12594.65,6190.94,470.0,1676.87,1539.38,7373.55,160.38,1215.6799999999998,2670.21,12409.71,3606.4,37254.85,798.9100000000001,13105.69,2116.71,1700.0,2958.4900000000007,6754.25,4179.76,1000.0,7564.19,11264.94,126.71,524.9,12324.81,9557.899999999998,960.97,35749.600000000006,1359.0099999999998,1529.1299999999997,2265.68,1585.5100000000002,10084.61,3646.62,8165.62,1473.5700000000002,5494.479999999999,2012.55,599.52,2911.48,1.0,789.62,783.7199999999999,5426.99,2310.08,3118.2700000000004,14799.41,2131.03,3520.0,853.4100000000001,1740.91,4819.68,864.1999999999999,9624.79,3474.36,3395.07,375.6457871404192,149.35,10.0,5355.490000000001,1013.79,472.56,6399.02,1505.1300000000006,14050.41,5180.92,1849.32,2729.8100000000004,4406.06,12720.269999999997,3680.7999999999993,300.49,2092.88,8659.279999999999,15183.89,365.4299999999997,6030.0,1877.15,22632.08,17749.589999999997,7000.0,2305.1199999999994,31895.51,1150.0,556.38,30778.67,9344.0,50932.08,10749.5,281.16,20373.13,2637.06,6460.140000000002,863.04,2190.0,4851.67,921.5300000000004,2998.14,807.02,3604.96,1351.05,801.21,500.0,15836.35,10804.19,8943.86,1363.52,1485.23,544.07,3874.4900000000007,3450.0,1496.12,850.0,3647.81,15557.71,9020.0,12990.0,1049.5,1646.39,1403.27,13435.21,3700.0,1798.97,4475.43,5504.950000000001,2133.25,4287.44,5809.24,13090.5,12340.23,1582.43,1293.28,334.68999999999994,3989.05,950.0,2947.5199999999995,1660.94,1000.0,1560.0,2665.03,750.0,1620.2,700.53,10390.96,6273.799999999999,2871.62,13233.160000000002,1399.92,1660.41,5285.77,552.53,6965.76,3479.36,1661.57,5524.639999999999,1508.2800000000002,5930.0,5944.52,26414.09,350.0,1020.69,4648.04,9363.49,150.0,791.09,534.17,1526.26,3705.580000000001,27976.29,3366.34,9188.83,6512.63,2317.82,2500.16,400.0,450.0,3595.42,1000.0,522.0699999999999,1590.0,332.29,1692.88,10726.090000000002,10250.0,4726.0,2950.0,1290.0,1789.95,152.32000000000002,6440.94,7158.799999999999,4571.31,11280.69,92.23,569.73,24610.57,1658.13,7788.059999999999,3026.02,5750.0,4322.02,2137.19,3296.41,49.52,4069.53,1611.55,911.68,2651.34,2449.8700000000003,1320.0,1854.34,3469.76,1656.64,1151.47,3705.42,709.3299999999999,350.0,9454.539999999995,2280.0,1106.82,300.0,786.02,7588.84,791.19,2519.33,5842.180000000001,999.46,15526.240000000002,8055.6,5167.970000000001,4704.8,1659.62,826.1300000000002,3604.25,2859.62,2500.0,2053.34,5114.56,52992.3,2263.57,6581.53,1202.87,1667.01,150.0,1162.6799999999998,3841.31,19151.32,1900.0,1658.07,2990.0499999999997,9269.4,1666.0,6039.9400000000005,4219.23,8757.91,251.37,734.53,1200.0,10855.79,2250.0,7114.07,1822.72,6505.449999999999,1618.7,3166.67,1799.7,436.09,5932.92,1384.38,1630.04,150.0,5428.139999999999,1273.01,1598.68,13892.29,11340.859999999995,518.81,1132.65,15429.16,635.99,1886.38,1656.57,1658.64,5558.28,20151.2,1091.9499999999998,1708.98,6439.25,5880.159999999999,653.99,2540.42,474.2600000000001,6107.37,1838.73,1718.88,3545.31,9669.35,4041.97,11977.930000000002,1858.31,17882.94,322.77,482.41,4382.700000000001,6249.2999999999965,8226.8,4444.17,1000.0,999.47,1348.17,11216.67,550.0,1754.81,6650.0,750.0,3447.1800000000003,7280.56,2449.3900000000003,1975.0,2213.71,8989.149999999998,1048.9,2323.17,4464.59,5048.54,1801.88,11745.919999999996,1950.66,9117.43,484.17,2500.0,1304.2,3644.13,8471.79,7575.63,399.85,3361.1800000000003,100.0,2300.0,1048.95,1658.81,945.63,1718.8,9440.91,5036.24,2864.8900000000003,2328.3,2901.79,735.5999999999999,5735.15,3287.4,1737.2799999999995,9997.259999999998,1219.54,3130.2200000000003,501.05000000000007,2159.8,3164.64,1368.4900000000002,1777.6699999999998,500.0,67.42,18420.97000000001,48159.49,33.05,3501.18,20211.24,897.35,5521.749999999999,2495.21,1677.5,350.0,434.64,1100.0,1658.31,1700.0,12582.2,12843.139999999996,12148.49,849.9100000000001,49359.04,5578.03,1391.7,2042.34,1282.8000000000002,4031.1,2675.42,3289.46,1659.2,680.0,6441.98,2777.04,608.66,4982.54,15383.229999999998,8825.3,1439.42,3801.86,20196.6,1811.0,759.8099999999997,3498.4700000000003,1811.0299999999995,400.0,1659.5,22877.78,10345.28,2403.19,699.0400000000001,37043.27,1567.0,20734.340000000004,489.39,6231.14,715.3899999999999,11275.09,3177.3299999999995,20850.83,1657.34,9704.79,350.0,2432.1199999999994,6714.22,152.21,7166.430000000001,1174.36,5198.000000000002,8541.93,600.0,6484.35,1666.0,2059.5,1760.0,295.95,363.15,6390.76,1657.04,1162.93,24566.48,21449.89,750.0,850.0,3618.6,3946.09,27923.35,480.0,1609.82,13772.450000000004,1000.0,8239.97,13085.13,2826.8,1605.3000000000002,17358.289999999997,35082.40999999999,25569.45,2076.18,2080.64,14396.22,501.69,525.0,687.27,521.46,2100.0,1938.55,6173.33,366.31000000000006,5918.860000000002,4595.18,15549.83,1199.69,1786.35,2354.1,2121.65,5481.58,9180.69,500.0,2245.8,5929.7,10766.24,8294.84,29816.68,34.84,18375.72,2198.69,1734.9899999999998,2065.47,1825.78,531.94,822.25,50.0,522.46,1657.67,25350.0,995.83,299.75,672.66,36995.84,560.0,50.0,11432.93,2479.28,20364.97,13979.04,3986.0,1000.0,455.0900000000002,500.0,3712.0899999999992,6490.400000000001,14103.75,700.0,2053.6,1255.05,7034.72,1585.88,1818.36,19635.72,761.09,5224.03,32172.35,7578.48,12094.1,6658.820000000001,9707.16,600.0,5752.29,23166.8,7077.910000000002,185.5,2000.95,30486.61,19333.37,739.46,233.81,14026.749999999996,6551.71,2673.27,1410.0,10713.29,6236.74,350.0,14451.52,3291.26,5185.0,9612.36,74.7,4262.8,208.24,400.0,5217.039999999999,82.38,14259.93,2100.0,2776.2499999999995,876.02,11542.63,9142.08,7520.0,24082.539999999997,5379.610000000001,5475.47,3030.26,1400.0,5762.12,840.55,1410.45,1655.98,3656.79,500.0,649.59,53530.95,15772.24,5297.25,2227.65,3323.01,403.38,1880.0,1304.59,2195.11,1346.38,1220.38,857.55,660.0,4013.61,518.8,110.54,7643.64,4499.82,30003.82,3250.0,6631.5,6325.84,1864.25,7762.09,1666.0,126.62,1352.36,644.19,2573.06,8038.16,3005.36,7297.11,2591.71,3253.53,8660.34,1072.34,951.53,3899.379999999999,1630.0,1446.6999999999996,4444.3,2951.91,6256.189999999999,788.6600000000001,1153.36,4644.1,22859.79,7587.49,15579.24,1505.6999999999998,8769.82,1839.87,27885.47,2000.0,452.77,1733.9299999999998,1125.63,2202.58,3861.77,3678.42,8494.83,10154.57,8555.89,136.09,783.99,2588.21,246.34,46.48,8940.06,13833.22,2379.66,1659.75,12482.21,15718.84,5170.0,50.0,247.74,3049.92,8565.04,719.09,4559.08,5368.85,350.0,21079.7,3191.0300000000016,983.88,770.4000000000002,3529.87,2370.28,6858.089999999999,7438.530000000002,1100.0,400.0,603.89,450.0,153.51999999999998,1479.859999999999,21597.78,20097.48,6171.68,545.12,1281.3100000000004,92.33,452.45,1567.0,1204.61,3373.2000000000003,10490.1,8649.960000000001,1650.0,1422.7800000000002,6316.120000000001,1882.67,11598.010000000002,13466.19,10409.66,1669.95,14066.11,719.79,3088.65,4164.284293833588,21770.31,50.0,400.0,46041.19,7720.110000000001,910.0,5016.94,1870.05,472.98,15575.859999999995,15519.18,9417.51,8192.03,8970.0,5280.0,789.13,7910.49,7095.78,2910.09,3604.49,2916.8399999999992,3233.6400000000003,3607.54,15098.87,3613.04,881.76,6408.98,1660.25,2680.39,9992.87,3332.8,59.5,1209.48,6552.34,16320.9,5985.91,3285.3500000000004,2690.93,6187.77,20439.94,5043.51,100.0,1619.56,718.77,1800.0,167.22,228.66,5484.6,400.76,816.29,341.17,16072.329999999998,28645.97,1136.63,1200.0,310.35,5993.370000000001,1679.6999999999994,2912.5100000000007,650.0,39189.67,59.09,2815.27,14830.2,650.15,11977.01,1250.0,4477.52,2524.5599999999995,332.76,12364.090000000002,1657.34,679.94,4982.7300000000005,6777.71,16699.860000000004,3209.69,10673.459999999995,7648.96,1196.56,2168.6100000000006,6239.360000000001,5988.189999999998,1157.8,745.65,898.1,1659.04,10150.0,1211.78,6187.37,4146.450000000001,550.0,1222.99,145.63,149.45,900.0,5108.59,2009.62,644.11,5497.709999999999,399.05,22023.07,1397.9800000000005,5106.0,550.55,725.13,9289.97,6715.84,2345.83,5115.7300000000005,759.9,107.59,14474.519999999997,31906.620000000003,1513.0,3261.0,157.85,3425.0,1130.0,805.5,6358.750000000001,2486.78,308.7,8425.89,2917.11,1470.0,2656.29,1803.68,10599.44,6694.139999999999,8988.88,2250.1400000000003,4882.58,3289.51,515.6600000000001,720.0,2957.0200000000004,5520.0,12510.13,4099.93,1283.53,1313.07,5462.349999999999,14285.549999999996,1714.41,1950.0,4392.52,30215.71,1237.5299999999995,1427.61,344.35,4561.62,350.0,2501.26,481.09,18514.63,6626.53,3150.0,581.25,1786.23,10344.309999999998,20021.76,7783.719999999999,6277.029999999999,3209.03,38.6,19982.11,1192.1999999999998,6159.16,1734.32,2600.0,7889.129999999999,150.0,13081.399999999996,3136.53,179.29,210.02,2919.24,2631.76,1812.73,1226.19,1253.55,4048.6,672.2200000000001,1400.0,39699.45,1134.3499999999997,18725.5,1830.56,20146.38,1110.46,2000.0,5920.0,3125.55,726.42,1443.0500000000002,5754.88,829.8199999999998,15798.7,4200.0,5950.0,17428.02,2672.759999999999,34347.41,2047.81,639.98,375.73,1479.73,8889.07,8290.95,7494.79,12995.97,7000.0,693.79,2149.15,233.49,2198.16,9520.58,659.12,4953.27,303.8,1712.84,12595.56,349.6,7558.8,5413.419999999999,850.0,3326.3900000000003,660.44,1658.3,1699.34,5077.969999999999,5588.0,8573.96,900.0,100.0,2638.9700000000003,363.53,929.28,2320.47,1215.25,5860.0,1000.0,1655.75,7034.7,1250.0,5441.390000000001,703.08,2700.0,389.14,1472.17,6642.15,1350.0,7290.159999999997,6212.7,1529.06,26620.539999999997,519.03,1093.6699999999998,350.0,16356.240000000002,20190.18,526.35,1855.95,3788.77,1179.26,7012.49,377.76,6248.79,64963.51,2588.8300000000013,2119.09,1793.4599999999998,1660.03,1039.7,14123.62,59.59,4800.0,1912.43,1658.62,227.79,750.0,6918.37,622.1,999.91,600.0,4293.07,5461.6900000000005,307.48,500.0,5546.060000000001,99.89,1300.0,6290.77,1203.89,1342.2,1800.74,388.7,4435.05,450.62,1277.61,1512.04,3599.5,7417.46,499.23,700.0,684.05,2147.04,30077.07,1838.85,60.0,2281.33,370.48,1501.37,1542.5,2.32,1659.15,2808.74,1031.62,2698.57,4291.75,3988.76,2037.43,484.24,147.72,89.46,1034.27,2717.29,1244.96,408.4400000000001,1567.61,11145.96,2200.02,5942.62,21319.56,1412.72,2351.88,946.06,5509.389999999999,5555.5,5738.280000000001,380.0799999999999,1657.78,46751.18,152.61,1800.0,438.5,699.23,49864.73,21618.17,2585.86,560.0,400.0,9605.41,1939.53,2728.300000000001,4700.1,631.76,2194.2,2370.0,14632.120000000004,2883.7899999999995,1442.16,3843.270000000001,3620.0,1660.87,18541.58000000001,9120.61,1048.4299999999996,3022.29,508.54,897.99,2396.44,661.2599999999999,2030.73,4813.580000000002,4114.83,1659.48,1137.8200000000004,12657.96,10251.43,1471.26,367.86,12827.03,400.0,1665.92,1870.16,8214.06,1360.65,999.31,1507.86,14838.68,1383.88,5776.37,21093.94,500.0,8649.37,15521.29,63197.74999999999,50.0,1000.0,1000.0,28881.35,6788.17,500.0,3519.87,6998.07,8907.69,130.0,11650.78,16583.010000000002,3528.42,1730.0,2047.2,8986.689999999999,6923.95,4199.81,2486.07,837.1,168.69000000000003,29079.78,8335.78,15007.88,850.0,2941.0,260.57,23371.079999999994,1614.81,8269.05,11690.79,400.0,6422.74,18144.68,403.91,3333.0,1266.2900000000004,247.55,526.4,5000.0,9824.87,2811.4300000000003,2027.38,5717.959999999997,4132.75,3643.220000000002,1000.0,4670.930000000003,1095.45,1180.45,272.68,1609.6,17099.19,2858.18,4097.62,890.34,3450.18,1225.1300000000003,855.0,3310.0,280.87,7366.82,4089.850000000001,1839.83,5768.780000000001,15503.91,1659.8200000000002,7994.539999999999,1881.86,10116.510000000004,50.07,4115.92,1309.0199999999998,4330.0,115.49,7137.44,2250.0,5354.639999999999,592.24,13514.64,13006.010000000002,13505.88,373.74000000000007,5915.02,971.15,894.1699999999998,4333.93,6332.659999999999,28807.76,3559.55,1398.91,1165.21,355.86,4800.0,1980.09,860.0,2956.63,4200.0,2952.6200000000003,2853.71,4279.070000000001,10268.709999999995,1200.0,4454.63,1942.96,4400.0,100.0,863.57,129.53,6012.219999999999,5079.72,3567.8,4463.46,1529.06,4850.17,673.74,1938.14,3100.0,1697.78,542.25,3500.0,8540.0,500.0,1249.2,464.36,586.21,850.0,5702.84,21678.7,850.0,14789.02,12089.93,810.0,579.7899999999998,6218.71,480.0,3400.0,576.96,5992.41,1655.68,1304.5199999999998,8938.51,11022.75,1110.68,2357.07,1527.53,13678.38,849.71,1377.7199999999996,5883.4400000000005,961.04,1581.0099999999998,19173.94,166.64,523.67,3910.94,671.23,14132.330000000002,3489.0,700.0,4610.0,3028.1,1471.27,2403.21,1204.48,2338.74,42229.97,5147.31,183.85,785.64,5569.4400000000005,2119.880000000001,368.78,13643.73,2455.94,16456.899999999998,695.71,23886.78,16388.33,2858.0600000000004,5263.11,600.0,1330.87,1443.0,2015.15,2829.2,3971.5,599.2,3789.44,1529.06,5417.779999999999,2648.1,21963.48,14839.930000000004,566.48,2021.4,1009.21,1399.88,1678.36,571.73,331.76,21018.83,5705.019999999999,14727.28,150.0,526.61,2966.8,3492.98,1326.02,365.04,3218.72,464.35,37192.57,6704.879999999999,1808.79,18762.56,62.47,27869.969999999998,97.6,1729.3399999999997,65.18,12759.4,8493.73,1727.16,766.14,678.07,34593.78999999999,17492.83,521.03,2142.3700000000013,21354.640000000007,15625.67,322.13,732.07,10006.74,1801.9,350.13,4750.0,669.73,1500.0,840.13,4973.63,26089.77,7849.669999999999,6357.38,3573.629999999999,3628.9,1325.0,2437.1700000000005,7450.07,529.63,7933.66,879.9200000000001,13432.22,1908.93,7000.0,1394.26,1963.0,34171.45,663.3,1903.73,4399.06,9509.25,921.66,960.74,1133.9199999999998,268.95,1552.09,1915.16,1622.79,837.8599999999999,61.22,5598.97,3154.32,4653.42,54.27,419.83,848.03,1230.0,2152.45,9708.840000000002,1532.46,4201.24,1917.98,2149.6,1058.21,9181.98,1776.77,685.3299999999999,2299.67,1600.0,7290.59,474.49,1788.339999999999,1335.52,21558.450000000004,44967.74,27.53,10393.53,398.3,999.89,22784.259999999995,3032.1,441.56,22025.23,16328.290000000005,550.0,6078.0,25849.93,9507.02,6339.839999999999,1700.0,490.0,42883.98999999999,7710.619999999996,12741.44,2083.26,12939.31,350.0,4230.29,1450.0,871.62,4754.82,10096.84,3386.5,4294.329999999999,1350.0,1690.0300000000002,18320.99,732.8699999999999,502.74,2468.380000000001,3620.0,3123.09,16402.55,2380.0,1350.22,5181.27,2261.36,17812.050000000003,2016.4300000000003,1025.56,2896.48,2406.35,1274.46,5199.659999999999,3743.0,9804.7,6662.459999999998,543.71,403.0,60.0,1790.0,2646.08,8508.490000000002,7974.5,987.84,324.13,5069.300000000001,12039.5,3636.85,12184.26,14639.54,4600.77,3495.53,924.63,1141.38,2099.89,3815.0,7815.08,1400.05,369.33,21485.250000000004,45028.58,1912.18,1582.68,862.8199999999999,749.9,59.18,1504.38,3516.57,295.98999999999995,926.53,2975.7,11009.2,1200.0,1972.17,1740.0,9157.599999999997,8475.64,14434.71,10648.1,476.55000000000007,351.1,2485.53,1329.4,23272.04,3024.0400000000004,5541.0,20820.1,1670.13,9609.88,6578.73,7057.850000000001,500.22,43409.29,1252.8200000000002,18348.53,2416.69,9933.98,3731.01,1844.18,1536.9,3547.36,5871.87,1270.0,1350.0,14843.979999999992,29743.86,17265.900000000005,10774.81,310.58,394.17,700.3299999999999,1368.93,13775.699999999995,3131.69,16807.32,910.0,5119.09,1660.19,4302.72,2492.0,4500.0,3485.21,2268.65,1201.08,2260.63,780.87,680.0,5369.5,10025.02,5279.56,1357.26,29.84,1434.45,13030.44,2699.74,12366.65,1200.0,889.02,17734.67,1399.08,13481.54,2841.77,2359.3099999999995,3423.22,331.97,9780.190000000004,3200.0,655.76,3029.03,1200.0,1389.4099999999996,9028.96,6320.02,12683.500000000002,18685.71,22977.3,1030.55,7935.73,20478.64,2651.27,689.76,650.0,12349.88,167.96,1521.62,13433.29,6779.009999999999,2050.0,10694.35,10469.51,6086.24,321.47,11912.4,90.03999999999999,33432.76000000001,547.25,55749.490000000005,5141.03,1888.12,1496.69,1054.75,26520.36,364.38,560.0,9375.79,1615.34,785.16,22193.680000000004,5269.700000000001,6083.5,2710.92,3288.57,8801.05,644.64,4649.55,897.3600000000001,2399.58,2300.0,2874.31,1401.98,2009.7500000000005,712.86,7767.650000000001,5131.0,476.52,521.99,25766.26,7867.92,492.42,1200.0,8854.93,153.03,1000.0,5079.11,5982.9400000000005,1425.27,1481.24,8758.61,3419.96,523.37,5194.43,7855.140000000002,353.7,19080.84,1187.71,2557.6800000000003,7504.75,4464.23,499.98,2260.0,299.95,27098.68,1000.0,414.61,1550.0,17899.57,50.0,900.0,6696.539999999999,15829.22,350.0,1300.0,940.0,13319.22,1200.0,714.66,3512.95,12339.27,1660.5,7415.74,2798.9,5000.0,17296.850000000002,3643.09,846.43,276.72,5877.11,4780.73,4659.25,1659.09,4192.0,150.0,1305.46,29559.3,18860.630000000005,52.97,20829.31,19.7,6168.46,1599.95,23110.49,673.05,11553.740000000002,14973.28,6303.420000000001,9719.08,16848.14,23154.070000000003,650.0,9791.03,2807.82,2230.78,8266.8,2564.98,500.0,11944.289999999995,600.0,1644.0,1253.6,1756.5,3423.96,5877.93,510.9499999999998,1090.0,1107.85,50.0,4629.0,1332.51,3420.0,104.7,1289.3,153.13,14578.060000000003,3495.66,5760.55,1250.05,4524.78,1028.61,2244.65,8781.85,4800.0,311.97,850.0,825.0,918.86,2287.7499999999995,350.0,2620.0,34499.7,6377.730000000001,174.65,1036.94,1127.7700000000002,920.85,500.0,1660.9,43176.62,26505.92,1308.62,2310.64,1590.0,9211.57,800.15,2750.69,13194.32,150.0,1000.0,1034.69,6235.499999999999,25992.710000000006,1398.23,3581.36,982.5,38648.34,2764.0,1300.0,6539.400000000001,1152.26,2156.81,184.09,170.14,12373.190000000006,1424.39,238.7,5184.45,2750.0,1820.17,3249.05,1657.83,2599.8500000000004,56.8,3377.18,6159.74,11888.429999999997,1727.55,3730.67,34088.79,2072.73,5996.59,50.0,4614.830000000001,3589.87,1657.34,3136.9,700.0,155.04,4062.59,1200.0,4699.480000000001,1126.89,6407.55,2932.93,2442.59,60.63,10789.21,330.58,26751.8,2743.0,1941.71,1350.0,1379.02,575.01,19205.770000000004,2120.19,1403.22,17995.85,5236.6,1659.04,62.72,350.0,2433.6600000000003,204.92,1519.7,201.89,8351.259999999998,687.57,362.80000000000007,9139.52,600.0,525.69,458.87,400.0,1610.92,25840.02,739.84,552.6700000000001,631.9299999999997,50.0,6461.319999999999,2329.6000000000004,3088.0,5712.4800000000005,10015.62,2854.44,1075.96,109.7,672.87,3751.06,10799.92,3511.75,8155.97,850.47,1699.54,4620.91,722.88,4667.490000000001,1769.5,400.0,4835.360000000001,550.0,65.6,1672.3200000000004,2002.73,419.16,1479.15,2219.3,1004.73,2755.29,4108.340000000001,16924.66,9872.01,291.6,1119.23,6650.670000000001,1043.9,919.99,568.97,1200.0,1719.25,1964.46,10458.15,61484.16000000001,3168.44,6082.11,4917.71,6320.4,1620.39,2443.57,8051.1100000000015,7907.380000000002,4390.69,2097.34,4753.899999999998,2149.68,5328.4400000000005,1729.91,5713.1,2190.0,3244.63,1437.35,6457.48,1048.04,1.0,454.18,4769.29,7799.180000000001,5815.56,4271.38,1884.41,3316.89,2470.0,1750.16,31038.05,3979.33,85.01,599.49,21088.26,3788.33,30240.14,3165.57,4046.42,89.1,3829.64,7078.339999999999,2090.0,78923.64,2400.0,996.18,16654.010000000002,727.0,4539.83,2434.31,1891.1800000000003,260.72,851.6499999999999,3091.17,540.0,9860.0,1659.53,14.8,8784.59,1000.0,2314.7,3087.86,2566.75,1199.75,13799.950000000004,9561.15,4909.93,6221.38,3900.0,200.31,225.61,1847.44,554.7,1349.2,5182.36,18935.59,7460.0,671.78,10918.21,1535.58,350.0,16209.030000000002,1658.75,1835.12,939.45,3360.0,6696.71,3886.17,6119.820000000001,2070.0,11899.34,4187.01,1448.85,900.0,2228.629999999999,15998.010000000002,3199.7700000000004,1378.41,9602.55,2300.0,1981.52,499.24,92651.58,819.28,3198.12,2483.69,7032.390000000001,1437.72,4465.14,153.19,2459.730000000001,1959.8,22139.21,5230.180000000002,2694.2,4899.62,2828.23,11829.16,3617.06,11512.35,14628.91,4734.030000000001,2313.6599999999994,625.02,4687.4,1820.08,1393.7699999999998,1200.0,5780.0,1346.52,3005.6600000000003,3649.01,4905.98,654.67,6125.76,1829.4,1658.1,1279.92,3140.81,1904.78,2725.54,410.9,602.8100000000001,4735.26,3500.0,100.0,36108.35999999999,1595.35,939.27,920.36,1708.16,779.17,299.83,11820.53,457.96,2987.18,585.8800000000001,4772.25,1129.78,5759.76,151.79,2855.87,535.32,6084.0,6553.45,1752.64,540.4599999999998,99.96,2348.41,6600.0,7687.31,895.4300000000001,16972.24,939.9,2476.74,3443.76,263.25,14746.91,6803.790000000001,10162.97,1000.0,17588.87,2900.12,1200.0,2468.97,766.2199999999999,553.4899999999999,1658.51,3070.65,1485.55,1507.65,1266.82,6694.099999999999,33172.32,3309.5,9538.73,1097.38,1657.23,2402.79,2235.0,1872.7,4932.030000000001,4081.73,550.54,2731.66,22000.0,8743.43,5262.5,2.0,20677.86,279.92,9304.09,1099.21,10288.6,15298.61,2132.0,150.0,2374.67,369.43,206.68,13749.9,1041.08,1539.48,4673.65,2200.0,49392.43,2624.62,1504.8,20858.04,399.33,324.49,12694.63,1193.5799999999997,7025.71,3178.82,281.06999999999994,3069.3100000000004,474.06,4543.1,2136.2500000000005,7810.08,1628.72,38946.59,785.26,13435.219999999996,350.0,1062.53,800.0,1659.77,10080.26,500.0,7800.0,3236.3200000000006,50.0,8046.07,3755.38,1290.0,4854.44,25122.17,399.84,1960.0,700.0,3579.75,449.73,2257.36,495.12,479.88,1999.57,8944.06,3994.37,1577.36,3317.73,1051.15,46998.03,681.1500000000001,14717.96,10282.58,364.34,491.11,12940.56,6892.290000000001,1659.4,4242.459999999999,17243.890000000003,11824.21,2640.42,4652.43,1658.0700000000002,3341.8,666.44,1551.62,1554.29,250.0,1321.2200000000005,4827.23,1700.14,439.56,3371.0,1659.38,745.1800000000001,5716.320000000001,1199.41,5741.71,4927.06,1246.7,15089.46,1910.18,2399.19,1809.82,4694.14,4891.78,1860.05,7338.469999999999,2045.74,11464.56,400.0,3007.26,5000.0,6314.93,9977.350000000002,2215.45,4618.09,1500.0,2764.2,1830.63,2591.03,2072.18,769.3,30074.77,7065.470000000001,6104.410000000001,2246.12,17880.9,2097.34,13897.34,4126.14,1000.0,781.14,4743.4400000000005,1943.6,860.4,2046.69,3058.21,8686.080000000002,21981.41,2910.0,15328.79,6301.35,1745.07,3314.16,519.02,689.6,5329.73,43737.73999999999,474.14,4281.26,1270.5600000000002,1523.29,9844.18,880.09,5611.290000000001,560.87,938.67,11124.79,5155.82,1321.67,1018.63,1002.3,899.3599999999999,1319.39,500.0,2709.33,100.0,3107.79,6782.19,7098.510000000001,370.0,1495.65,3244.72,6059.29,306.75,1449.6499999999996,8034.35,364.71,11235.29,8432.79,1078.95,2567.25,1789.93,913.54,4058.96,8563.11,7255.65,1072.41,3116.93,457.4,600.47,3144.6000000000004,10297.93,463.64,9673.97,12591.559999999996,2378.68,933.5999999999998,12900.43,2101.32,9244.840000000004,166.9,1121.96,985.68,673.63,93.85,26390.0,10200.0,11072.05,7157.510000000003,2630.790000000001,613.81,3408.000000000001,1269.44,900.6399999999999,550.0,10512.4,1720.31,1656.98,5989.22,1429.42,810.54,2371.61,1757.55,486.76,500.0,2308.15,10057.9,6593.59,8813.260000000004,5361.390000000001,2467.49,1659.16,50596.94,2784.0,3420.0,1833.77,3162.77,6217.450000000001,149.41,3452.62,12385.79,26003.12,2300.0,10558.63,2389.71,39652.3,1659.53,12286.52,765.4,1700.0,3425.25,117.85,3317.32,1350.0,9591.97,1995.229382208872,2404.99,5320.09,2276.09,2361.94,55582.46,767.5,10606.85,3619.16,2444.03,7085.56,4496.91,1715.43,2348.17,2394.93,3808.709999999999,3650.0,2148.3100000000004,1959.49,1000.76,13246.440000000004,1247.89,356.53,350.0,886.63,2645.31,1154.43,403.76,289.49,819.8,12724.880000000005,2034.65,838.93,3511.5199999999995,2095.95,1716.9400000000005,1328.9499999999998,4251.090000000001,3520.25,422.7,559.38,1123.91,11441.99,1799.41,17249.46,8739.0,11603.86,1173.04,1286.32,1249.32,1350.0,1264.45,26648.42,182.93,0.91,48682.25,4316.68,4320.950000000001,1212.0,8574.98,36274.55,60.6,1666.0,476.0,4348.51,6107.220000000002,2962.0,1000.0,1500.0,1617.34,360.01,1715.43,10707.770000000002,1665.92,5837.05,1870.0,4280.0,29999.96,10162.48,4154.29,6485.040000000001,6859.500000000001,2369.49,3653.5099999999993,8936.51,2505.05,8931.269999999999,6328.2,6539.960000000001,469.66,411.0,62.14,13836.23,1730.0,2886.7200000000003,6434.309999999999,3094.0499999999997,2172.48,4067.92,3419.15,2038.89,4744.24,218.54,11139.82,3060.03,5228.01,6168.740000000001,4039.97,4676.869999999999,5655.06,2700.0,1860.0,40283.42,1257.43,2821.02,1287.96,3139.3499999999995,7899.83,487.3199999999999,7514.54,526.95,5062.87,30767.71,1262.0400000000006,2646.62,4794.880000000001,6693.99,10856.87,1499.41,2345.53,293.03,2801.64,28950.99,2537.53,1248.4599999999998,1450.24,2070.43,1385.36,2876.97,1337.1100000000004,4831.15,51.75,533.4300000000001,1736.19,4675.13,730.0,350.0,1913.55,7074.709999999999,2277.74,995.82,1659.88,2856.22,8909.720000000001,63.26,2089.52,150.0,3122.34,24389.98,1658.33,2190.0,8187.2,48981.19000000001,1200.0,18334.48,38345.96,6579.479999999999,1500.0,2196.61,11771.11,5173.839999999998,5280.469999999999,1512.71,545.67,2425.81,166.61,10503.789999999995,2065.4700000000007,585.86,282.92,4589.36,7000.0,43347.76,5616.34,1010.0,1069.12,4437.81,2748.5000000000005,350.0,1480.0,9557.719999999998,1.0,2475.9700000000003,3485.9999999999995,254.63,533.0000000000001,500.0,4403.64,1659.09,1257.29,4345.45,6038.99,6080.0,15408.92,350.0,9181.45,2427.75,1543.6,15890.249999999996,50.25,3172.07,12339.39,1560.0,19085.66,7739.84,1454.12,43015.02999999999,5391.02,145.2,5748.049999999999,850.0,640.05,4847.5,819.16,8729.12,1436.02,1550.0,499.9,13827.479999999996,850.0,1210.4800000000002,2000.0,1714.95,958.83,1907.95,4344.4400000000005,31163.6883052916,2569.850000000001,839.77,500.0,12463.46,2819.12,1469.26,2413.94,361.85,2050.0,5449.23,14601.03,10475.15,366.56,7000.0,3850.0,1491.0,15651.45,22992.42,150.0,2360.54,850.0,8235.810000000001,686.23,1.0,20696.37,16264.4,850.0,2213.59,412.89,2732.14,5918.98,1940.46,5789.68,877.5200000000001,46362.73,309.78,1905.4,2627.74,2029.89,5699.34,578.0000000000001,8463.25,5424.61,679.98,6621.0,599.3,10118.8,1536.9,3734.19,699.5,7050.0,1580.0,3420.97,998.32,2144.08,19870.46,7608.809999999999,6746.77,795.64,5448.08,291.0,3380.0,25077.36,2581.07,780.51,5708.9400000000005,959.68,1480.9800000000005,106.7,1770.82,26464.4,2089.25,1500.0,930.67,60.0,7854.27,13549.4,5202.630000000001,902.7297272482444,478.69,30750.73999999999,2749.78,2950.0,2519.1,2087.75,599.91,1017.89,3013.2500000000005,100.0,15661.28,6235.880000000002,317.68,5047.42,1931.0,7100.19,3157.29,1067.7800000000002,2500.0,862.63,2462.47,1310.0,8630.0,14214.79,893.2700000000001,1346.58,4869.76,2300.0,2751.78,2737.29,172.92999999999998,10966.14,6706.730000000001,48888.01,999.5,7381.700000000001,1400.29,5160.119999999999,1446.47,5498.98,6979.219999999998,257.02,5884.889999999999,2001.44,1500.0,153.37,2250.0,157.73,140.37,2767.49,14055.68,12006.330000000002,883.84,2693.58,1050.22,6059.42,3055.82,100.95,5855.18,3100.0,282.83,5302.739999999999,11428.72,723.13,1356.4,627.2600000000001,3499.68,2986.42,2300.0,11138.9,50.0,2161.95,3442.5200000000004,1000.0,8179.28,1705.8,1196.54,8742.019999999997,12363.62,14694.569999999996,2593.92,350.0,2456.13,569.24,2260.0,3297.4,2399.44,2203.91,7592.689999999999,6540.039999999998,1880.0199999999995,21620.049999999992,1615.69,365.06,12721.29,749.26,4367.62,475.0,1504.46,491.94,375.0,565.0,6412.85,2500.86,137615.28999999998,1656.58,301.7,16675.51,45172.26,2732.2200000000003,130.0,1421.1299999999997,793.16,652.96,6344.43,11056.4,1150.8,1492.45,7411.290000000001,2.0,14229.07,2805.31,2060.1400000000003,5800.0,1534.29,2939.4,1023.03,1000.0,9716.35,6774.71,14310.94,474.7,127.16,1308.32,2086.73,983.73,11780.490000000002,2352.4,399.35,2516.66,999.63,1657.97,5024.92,851.5999999999999,1759.07,2291.92,1254.74,2380.03,1461.71,55635.07,647.59,1014.3,963.62,4194.03,574.13,27599.09,1220.1083868993096,1196.0,4659.35,89.78,933.24,4387.4400000000005,1089.16,1409.77,2458.65,33931.0,8709.04,1666.0,2211.1,769.3599999999999,2729.630000000001,1659.88,4360.23,492.32,899.0699999999999,210.0,91.65,4648.76,11220.120000000004,5437.54,4160.0,39392.57,10851.56,16902.050000000003,947.68,5132.27,600.28,7020.199999999999,100.0,5500.78,1744.3,1360.0,2511.51,879.75,1499.77,379.96,1536.9,8067.520000000001,558.4900000000001,3901.26,1932.6,675.01,450.0,2538.03,7803.14,3100.0,181.13,235.55,4260.32,1658.9,6884.11,6409.220000000001,4827.96,8291.810000000001,5505.009999999999,1691.66,538.44,10698.539999999995,1468.5100000000002,1506.37,7974.97,7959.099999999999,3859.21,1629.8700000000003,8042.840000000003,953.0499999999996,3650.58,400.32,10481.96,100.0,400.0,1650.0,7854.19,1349.99,233.01,1601.1000000000004,1196.88,4821.83,516.5,1110.19,1349.69,2871.53,270.13000000000005,5175.21,5745.34,600.0,974.17,851.23,9764.49,5275.0,630.0,3487.3100000000004,100.17,1.0,1270.0,950.0,566.0,6407.77,4844.18,1677.5500000000002,700.0,14737.88,1590.44,1999.92,1126.62,10174.72,14699.23,4511.0,560.0,456.03,32601.26,200.61,701.09,1039.62,774.89,2354.02,8533.67,2953.83,8617.77,1350.0,1295.58,7867.35,1660.57,2078.66,1773.51,1455.97,15930.95,414.11,366.51,12562.800000000005,3165.3,4923.02,11525.930000000002,629.3399999999999,5236.92,1450.0,6278.2,10305.0,2871.33,3407.779999999999,50.52,24110.69,2425.52,9979.92,550.0,1281.08,79.33,24139.550000000007,31.94,484.61,41072.69,1573.09,591.35,9459.53,123.34,541.83,597.8900000000001,600.0,5760.0,531.01,3264.6400000000003,17164.170000000002,8167.04,5430.0,1057.46,10033.32,687.7600000000001,22895.48,4646.549999999999,8779.8,2726.03,1917.08,1239.6999999999998,28544.64,350.0,70.34,350.0,10850.0,14420.26,4051.13,598.56,2148.32,11354.840000000002,1200.0,255.48,1463.0,4239.420000000001,32591.39,15671.860000000006,36773.15,10581.259999999997,1656.24,14382.3,3640.0,2209.81,961.39,5510.29,3666.22,1410.0,8521.349999999999,5190.849999999999,2783.42,15769.24,4893.249999999999,15045.14,815.41,15386.57,1618.760000000001,11908.29,7381.750000000002,971.74,2135.08,5530.15,7661.550000000001,1489.87,71.58,11635.390000000005,153.07,14050.0,3074.03,1672.5500000000002,700.0,2559.6599999999994,18041.46,20216.91,127.7,7193.51,8460.0,2800.61,550.0,1890.81,5457.0,28448.47,326.06999999999994,21802.8,899.6800000000001,3619.64,589.53,21327.550000000003,4401.45,579.17,2508.92,5040.0,5433.98,3496.5,50.0,17409.92,2231.68,18103.59,394.84,619.39,700.0,5949.3,1246.5000000000002,850.0,12809.78,26277.059999999998,14000.0,2349.79,142001.13,2479.29,5168.620000000001,2055.5,4000.48,1734.24,5227.31,1656.2099999999998,1869.26,349.24,1790.41,4265.16,400.0,11662.85,4828.719999999999,1637.2800000000002,232.08,9170.45,1751.97,1200.19,32362.91,7353.849999999999,1536.9,7213.86,999.2,307.87,1957.96,4145.71,381.24,3069.1400000000003,18657.58,641.43,1400.0,3048.66,7732.400000000001,597.55,8628.61,2007.45,28407.5,1322.01,900.0,4528.759999999999,4297.710000000001,1987.01,1744.0,1200.0,486.22,1009.34,50.0,3710.0,2405.5,4488.4,1770.16,2615.5300000000007,26.0,12387.64,2828.2300000000005,1661.82,8041.860000000001,503.4,1014.58,350.0,2602.8,1207.11,740.59,15245.0,1751.9199999999998,350.0,4286.65,6440.0,3974.310000000001,3046.6000000000004,8493.49,349.46000000000004,2725.19,10169.83,1282.03,8648.02,50.0,11874.309999999994,955.85,6137.34,10398.64,3253.22,1167.34,2471.78,615.17,4391.93,12742.04,1429.8,3399.11,1662.11,639.01,1159.89,1738.14,705.3,372.62,8106.01,9325.34,3634.53,135.5,350.0,1916.96,1414.6799999999998,2730.22,5636.4,1660.3200000000002,2318.76,1000.0,224.0,1563.4600000000005,3267.7400000000007,671.09,4237.96,1550.8699999999994,10233.33,7277.370000000001,6523.070000000001,24179.11,6434.12,2346.0,1692.04,1510.0,1052.62,750.0,2289.9700000000003,2216.68,3692.0,6747.79,500.0,397.77,371.08,550.0,1488.49,2457.04,365.6399999999999,1143.55,8258.630000000001,1813.84,17169.14,6882.389999999999,2551.7,4162.029999999999,9479.9,1225.75,2407.93,850.0,500.0,24311.72,11553.360000000002,8409.749999999998,1660.5400000000002,7595.27,3184.1,1902.91,2307.6,2131.69,1819.0,1992.62,5626.43,33655.54,10148.6,33359.99,2129.14,12748.31,7283.809999999999,535.93,1766.1999999999996,16563.81,11583.67,352.8,27540.96,2261.9,461.31,116300.34,761.0200000000001,3459.44,20028.35,3247.7500000000005,2715.66,550.0,450.0,804.41,22898.779999999995,867.1900000000002,2856.53,172.31,5789.63,6634.27,21924.120000000003,455.22,1369.91,1300.0,8898.91,3679.89,450.0,6882.429999999999,45351.27,3032.060000000001,5923.710000000001,1874.05,418.1,2173.5,2690.57,1750.0,1320.0,6599.47,11791.04,1349.12,20907.15,2787.1800000000003,8978.699999999999,540.0,60.21,27815.11,1274.56,550.0,4618.9400000000005,1350.0,32501.92000000001,48929.99,12663.31,152.27000000000004,754.3399999999999,700.0,26410.32,1200.0,8127.370000000001,14044.099999999997,18759.77,50666.25,2112.42,2370.09,200.0,5773.84,13.87,5112.240000000001,13074.21,1350.0,1025.17,10944.37,1105.1,2092.67,5158.190000000001,299.0,399.6,30868.95,172.57,7000.0,3553.38,2786.0,2839.58,12375.92,1976.61,55400.69000000001,700.0,39804.7,7105.799999999999,172.85,687.39,480.58,7688.9,3100.0,3098.45,10880.210000000006,1184.76,826.44,20859.37,299.81,1650.0,205.92,8986.12,2846.1600000000003,23139.870000000003,1250.0,3199.52,2232.09,1000.0,4525.849999999999,9802.65,3200.0,2623.76,2383.9,2477.26,827.43,700.0,90.5,876.67,7000.0,1887.15,3907.6,17676.4,4192.34,2365.22,9345.11,3852.83,4784.18,5601.09,1780.01,2110.42,50768.3,1792.3399999999997,400.0,5108.67,8008.15,1459.29,5059.34,4799.83,1260.0,1463.0,361.56000000000006,1979.11,6642.02,10980.65,2383.54,9370.0,1015.03,560.0,16910.329999999998,4835.160000000001,4703.0,11095.31,2819.97,8593.029999999999,706.6,1725.74,2653.22,1932.0,226.72,13416.839999999993,5406.710000000001,950.0,11249.259999999998,850.0,36451.01,8562.759999999997,292.95000000000005,41587.97,14129.37,1246.73,850.0,1742.41,9463.22,7349.26,1233.05,1182.6699999999998,4753.13,3299.3100000000004,1390.06,940.0,8852.62,5018.74,900.0,2769.36,4391.14,5768.01,368.58,2607.859999999999,6805.55,17670.980000000003,7132.57,3913.79,1338.36,401.99,1111.23,464.84,10354.080000000002,1508.2700000000002,2560.84,621.48,3362.01,3332.09,8042.82,3531.8499999999995,166.0,450.0,213.17,1840.4,14614.1,11312.81,733.75,479.53,4584.549999999999,2000.0,8818.460000000001,717.2,2602.36,3003.689999999999,1129.14,1311.53,299.5,31802.08,1668.81,13736.45,5578.9400000000005,13930.44,1151.99,1376.92,509.16,107.69,1660.96,1119.34,619.82,2393.57,2222.05,2875.8099999999995,4438.780000000001,1200.0,330.51,12479.67,992.22,7055.360000000001,9785.969999999996,1619.12,2857.57,6673.39,523.4200000000001,657.4,20251.88,16080.0,167.26,150.0,2885.3500000000004,800.0,3958.87,1800.0,1918.95,24578.689999999995,5507.25,649.97,459.97,500.0,750.0,150.0,4106.08,4699.799999999999,323.63,3900.710000000001,4257.719999999999,785.13,2409.79,16457.56,483.53,150.0,2500.0,3288.69,1270.13,1515.0,12332.47,1556.01,1340.27,2746.0899999999992,6526.39,153.52,350.0,4383.12,4800.0,2430.0,4718.91,6316.07,43412.11,2564.3,456.79,1658.81,639.89,19877.88000000001,2072.71,2959.3500000000004,7291.179999999999,7705.17,20485.9,29102.61,3020.92,5189.280000000001,31003.41,1490.1,1657.21,5020.2300000000005,1549.29,670.0,5850.0,32215.849999999988,5877.189999999999,2030.0,3390.4,6805.1,582.65,4684.4,3602.1500000000005,50.0,2133.58,700.16,212.89000000000004,4959.6,1955.94,1350.0,579.58,560.06,14338.72,682.5199999999998,11730.52,2346.37,1247.9,3397.5700000000006,500.0,1858.5800000000004,3560.5800000000004,1550.0,2235.94,3572.949999999999,6993.95,5208.3,699.9,1483.8000000000002,560.0,489.04,2750.0,769.6600000000001,1000.0,1431.69,474.7000000000001,1567.0,14610.79,7972.509999999997,331.41,4609.259999999999,1074.03,2696.04,3599.68,5194.56,1999.22,7692.9,1177.13,9059.77,1656.5600000000002,242.65,7623.59,700.0,1010.0,850.0,11840.280000000002,1842.0,811.69,524.85,2719.48,2039.96,6554.17,19034.76,1398.81,692.99,965.11,1702.86,920.0,4217.0,2025.99,979.93,7918.94,975.0,1706.47,900.0,1634.5000000000005,3252.9300000000003,1574.25,2590.92,1431.8,2718.8500000000004,365.8,4800.0,1666.0,6966.430000000002,1196.09,18.37,12466.9,2620.0,2709.92,711.7000000000003,4630.650000000001,119.62,692.01,1123.0500000000002,10104.78,2886.59,20465.14,19.25,7390.0,6335.0,276.1,1675.0,2380.0,1560.25,2662.04,1350.0,289.32,50.0,1350.0,1830.0,1320.26,2925.73,34382.7,6492.609999999998,53478.84,6855.639999999999,743.8899999999998,1609.38,6158.93,2027.83,1326.12,814.98,99.27,1639.94,500.0,3380.7200000000003,646.9399999999999,12180.470000000005,2560.0,19139.67,4708.75,928.8000000000002,3412.2,1226.96,4392.6900000000005,7040.850000000001,456.9700000000001,1182.42,8069.77,517.08,293.43,9936.47,14501.79,3776.26,3380.4300000000003,400.0,326.2,299.73,33908.26000000002,1777.24,2150.0,16172.990000000002,1785.34,1660.07,2275.0,4953.44,4056.33,2700.0,366.34,564.9300000000001,3859.94,41438.09,3647.8,1000.0,72.47,7744.74,1770.0,2999.88,3557.529999999999,5464.12,1803.19,1659.15,20897.44,2304.0,726.7400000000001,775.0,2750.0,10859.1,614.3200000000002,399.34,7017.98,363.25000000000006,1502.44,62.19,6989.89,366.49,375.94000000000005,2428.3,1839.79,1666.0,1564.31,16623.61,1217.3100000000002,1081.13,7741.090000000003,2936.73,498.73,25480.78000000001,24941.51,7044.51,32023.879999999997,2149.73,22241.01,4005.22,629.08,8019.309999999999,21430.8,2020.0,14083.58,3289.4200000000005,2695.38,1233.4099999999996,1827.67,2020.0,795.26,7932.35,5191.429999999999,3189.4,1065.98,369.12,4845.92,423.93,6366.549999999999,1709.73,500.0,3652.95,6838.0,139.31,4643.339999999999,4574.77,10399.609999999995,8507.760000000002,17115.4,3747.7999999999993,3970.93,1567.0,5290.66,5302.99,1500.0,1529.06,350.0,850.0,531.32,9100.06,4173.129999999999,3034.36,2641.8100000000004,4466.570000000001,28015.09885352714,6329.64,2215.4,4041.539999999999,5716.01,1907.68,1332.93,31971.25,2389.21,19038.27,6729.67,1200.0,18585.77,12659.97,1240.0,3787.94,18887.07,700.0,52792.01,349.74,2550.0,1000.0,6164.8,38042.94,34829.560000000005,472.88,10396.06,9206.59,53498.81,4157.97,3689.47,9380.0,3799.15,4414.44,1427.41,1762.61,4621.289999999999,10397.78,1814.68,11942.21,1878.51,5900.3,31365.21,499.81,2878.4900000000007,662.69,2519.5200000000004,100.0,1582.91,250.0,350.0,38144.09999999999,8601.910000000002,3200.0,1551.78,33647.82000000001,150.0,13852.990000000002,2509.74,2671.66,10922.07,850.0,7752.990000000001,7440.02,9084.84,2213.93,3125.34,23994.51,350.0,1945.95,41504.34,436.39,2654.44,3538.52,6327.599999999999,14647.71,521.45,2250.0,3398.6200000000003,20506.86,3939.73,929.46,3431.61,957.34,7798.589999999999,8043.18,14665.93,17240.0,2482.77,785.21,493.02,30260.0,16373.64,7685.140000000002,195.35,11952.35,68.78,520.31,2403.37,2161.69,2081.14,38906.12,272.01,1230.0,3050.0,291.26,30193.91,5149.58,484.24,1365.16,13056.260000000002,2442.23,1351.58,32045.11,1760.0,1661.88,8989.039999999999,30089.919999999995,14452.75,813.72,600.93,1154.02,7830.0,337.83,44196.96000000001,7301.53,1350.0,780.3900000000001,4019.230000000001,3078.36,25852.680000000004,6979.13,10950.88,1631.6399999999996,2799.89,20827.65,10001.02,6492.68,5882.67,1438.92,17298.11,3383.53,10748.54,92.01,350.0,14193.5,1710.02,672.82,1069.88,10527.29,15090.599999999997,9455.04,7685.0,299.55,6872.070000000001,4206.719999999998,3219.33,9538.750000000002,1707.7199999999996,2423.54,1661.59,2034.2,12365.31,1000.0,3619.72,7213.660000000001,3645.47,2081.98,11570.17,6049.290000000001,1877.49,3570.0,3488.8099999999995,8488.25,11892.96,12495.929999999998,11872.35,3028.04,8017.460000000001,17665.29,3597.5,15814.750000000002,155.40999999999997,1079.32,7064.09,263.9,1588.65,3997.419999999999,2816.87,9086.67,3891.39,38205.72,8354.280000000002,3225.66,1659.65,3022.12,2558.9700000000007,26139.51,9900.09,17190.489999999998,7137.0,3255.59,426.02,14784.94,15751.320000000003,180.0,1250.23,10921.93,7229.459999999999,36272.95,1210.82,899.96,550.53,5906.639999999999,425.49,775.18,545.0900000000001,27021.52,4841.609999999999,914.64,7556.120000000001,3744.149999999999,1000.0,2024.11,4340.0,350.0,10634.78,1014.05,972.18,2637.64,524.5,17348.739999999998,1484.27,9544.33,13668.79,33678.31,14649.45,457.52,8985.04,7431.09,20016.550000000003,100.0,5467.54,700.0,793.25,29829.5,37671.26,1654.87,13460.9,1805.74,3699.52,4998.24,8360.2,2643.4100000000008,361.56000000000006,350.0,15115.69,2350.42,7828.15,686.02,3077.87,1279.42,4115.98,332.44,1527.51,1089.86,2560.97,3044.29,2038.22,2002.07,2322.97,9059.88,519.4,3206.74,16297.64,2543.59,5979.92,1075.56,3583.91,1200.0,100.56,10100.259999999997,4400.26,9537.46,759.49,9463.38,20244.079999999994,1490.5300000000002,2901.83,1760.0,4390.110000000001,3496.26,1927.96,17860.47,3163.6800000000003,4294.799999999999,2098.59,9174.6,2537.31,984.33,1399.32,21481.78,13383.250000000002,1023.05,18946.29,15740.93,1400.0,4194.38,1657.94,1529.06,301.7,12891.76,2900.4,1603.54,1702.08,14268.270000000002,1349.07,1425.13,1450.0,3721.8,1451.3,254.07,2090.0,2345.1200000000003,1656.9799999999998,850.0,5321.12,880.0,950.0,7463.69,6687.219999999999,50.0,1712.24,2988.98,3500.0,5379.66,10112.42,2907.63,147.42000000000002,604.98,15694.269999999997,1003.62,621.71,6366.829999999999,1698.39,1457.71,689.2800000000001,3368.05,45120.56,2462.88,6308.73,2048.42,428.87,1270.94,2849.0,5744.0,363.16,3123.65,2120.790000000001,349.55,3050.61,1941.7,13516.149999999998,11736.200000000004,5612.58,1658.86,303.11,1080.63,1501.09,2074.29,30.0,101.94,12912.56,1759.37,2376.73,15391.39,100.71,5379.779999999999,27830.28,825.29,2032.67,4697.02,45348.28,1143.9499999999998,2919.2044182464124,1587.61,6239.89,1873.62,1350.0,35734.57,2980.0,53649.73,397.42,906.46,3528.2400000000007,1619.76,700.0,605.9100000000001,374.85,9122.8,1658.09,1602.98,849.9100000000001,1849.57,1702.14,3780.24,3462.29,3572.259999999998,16927.28,2100.0,1661.26,2518.1,500.47,5533.27,1511.65,15690.4,1126.83,2830.0,349.08000000000004,427.84,2352.4,3714.19,1623.11,82298.39999999997,4280.86,2700.0,808.44,6393.27,1371.13,745.2,2830.87,1056.92,1899.55,2544.73,1471.19,20907.9,4903.740000000001,579.4699999999999,84.55,1736.28,707.7199999999999,12041.41,912.03,349.6,52.73,250.0,1749.37,940.44,970.1,1656.94,6232.21,8193.09,366.03,17898.73,500.0,696.4999999999999,4068.0,7185.0,5720.589999999999,2557.46,4234.1100000000015,297.99,380.2599999999999,16631.46,238.25,1000.38,1811.2499999999995,10103.47,6437.699999999999,6836.09,20213.13,456.13,2817.82,5546.95,8305.89,1000.0,19142.99,667.45,2983.62,22123.94,7738.18,179.59,4141.59,5232.26,1130.0,468.32,4332.75,286.0,654.25,2024.9100000000003,525.77,8300.84,2189.73,5213.86,2644.9999999999995,7860.67,3383.79,2300.0,14813.26,17237.13,2853.27,570.59,4810.0,599.91,2430.0,1684.88,1821.02,1013.27,2615.49,2379.57,780.0,1099.83,1754.6499999999992,500.0,5759.4,4892.039999999999,9719.63,18269.9,1059.93,15595.78,4399.950000000001,2000.0,35375.35,4419.28,1660.24,1656.5,1169.8,10967.61,6360.0,5630.02,4067.93,62.85,15348.17,3274.75,1242.88,400.0,9628.05,23443.95,2049.55,700.0,6530.0,10960.08,2299.3300000000004,13243.989999999994,1613.4199999999996,14489.420000000002,969.42,6857.6900000000005,6938.97,859.6,5047.27,1199.22,3660.46,76.67,11251.4,842.86,11282.839999999998,2897.8300000000004,3220.32,1265.26,16706.85,21204.75,1189.12,20451.810000000005,4654.3,2550.77,7270.0,136.76,7200.0,22425.17,4786.63,8303.720000000001,2358.0,457.93,2695.49,3998.94,278.86,8111.5999999999985,39190.7,599.44,2776.73,3786.79,13233.490000000003,3739.67,679.51,5550.4400000000005,27.3,7630.75,16631.46,7359.64,4876.14,4660.43,243.97,14188.26,152.3,2719.95,2739.6,1657.63,2186.3700000000003,2010.0,313.15,4446.820000000001,444.95,55.74,1950.0,2202.6399999999994,533.91,3325.1000000000004,3998.79,550.27,650.0,653.04,9889.54,14848.34,1000.0,1486.18,1608.31,17266.52,941.96,6566.260000000002,1500.0,3096.0,7671.319999999997,4739.47,382.67,10021.25,1000.0,13072.3,4129.92,19242.42,1050.12,6247.7300000000005,1223.13,50.0,1342.91,2961.25,14134.25,283.4,500.0,0.14,1000.0,6119.9000000000015,26652.68,459.25,9863.95,20843.59,430.21,52549.46,37.34,9160.64,7296.380000000002,744.17,4101.119999999999,19900.66,6839.6,8730.0,9181.66,6958.81,11257.41,3704.14,400.0,3865.0099999999993,10876.68,303.41,350.0,3324.880000000001,2768.78,21148.53,2279.31,3183.53,202.38,1249.56,449.97,4481.0,296.75,1660.89,20597.26,4391.59,820.0,3891.31,7183.02,15338.869999999995,7577.65,2688.49,2755.019999999999,5934.740000000003,1658.76,2988.26,145.83,4999.889999999999,375.86,153.52,3319.51,47097.83,540.09,13969.259999999997,517.65,27.32,3759.14,38.94,3250.0,6867.8,1121.7500000000002,1958.49,26539.939999999984,7600.02,16734.48,2113.82,1000.0,1080.0,13365.15,7477.49,24996.38,7154.04,7806.359999999999,20556.34,608.86,2677.51,2399.11,10958.250000000002,20372.689999999995,640.0,6876.629999999999,3653.94,6108.72,23002.450000000008,1049.4,50.0,400.0,1325.03,572.5799999999999,418.17,6714.75,4159.709999999999,5764.719999999999,4698.24,3201.23,550.0,6879.22,1336.08,2820.0,1876.43,7081.519999999999,6059.030000000002,3771.63,550.0,7390.0,1506.18,581.24,39009.64,4850.0,2733.6,2990.0,1199.44,699.11,414.21,43188.32,7707.46,11474.61,2064.66,734.18,745.47,760.0,2133.94,7778.449999999999,40918.77,1000.25,20773.25,1906.61,499.23,7869.299999999999,15110.159999999998,1717.14,45271.14,1000.22,989.95,1130.0,4408.95,7228.05,6897.030000000001,1594.9000000000003,290.77,725.15,700.0,725.0,50.0,6836.46,869.1800000000001,1049.39,3416.83,14763.100000000006,1000.0,50.0,1356.29,377.0,812.91,2750.0,5489.000000000001,13280.0,3589.3,1443.0,5510.33,4565.790000000001,581.92,6602.1,2541.99,5910.0,320.41,8625.8,2500.0,2159.93,1769.2400000000002,2279.08,22710.960000000003,788.55,12398.409999999998,402.29,2717.05,1348.72,3790.0,7000.0,2275.76,1515.35,1549.75,634.6,16111.41,24772.399999999998,1425.56,3885.92,17284.89,413.64,2734.28,20669.44,4466.9,10814.369999999995,2765.91,11922.22,4683.87,1800.0,577.4399999999999,8439.840000000002,18518.18,366.44,475.0,2322.4999999999995,1660.53,37225.83,4645.919999999999,4606.889999999999,3652.75,6619.650000000001,7625.12,8135.58,2216.61,7114.4,6358.349999999999,6754.22,6362.490000000001,4399.509999999998,1238.64,498.57,1400.0,10575.28,2560.46,8218.48,15803.4,16538.78,11499.84,100.0,1302.59,1199.1,201.21,5649.280000000001,2106.46,1200.0,3691.79,423.64,699.97,25844.96,769.0900000000001,502.87,923.53,5498.719999999999,146.13,15645.94,14850.0,9107.2,9852.51,1507.22,135.48,13156.43,2500.0,423.55,253.93,2600.0,980.62,2948.1800000000003,1269.68,50.0,8660.57,550.0,3008.8699999999994,1260.74,1657.36,12332.26,11709.45,11249.97,14882.01,5934.84,525.0,2648.62,30632.31,1241.37,7124.02,271.48,4558.52,60611.84999999999,1656.86,2084.9,5115.24,1350.0,2457.880000000001,2319.3,3800.0,474.24,5140.0,323.09,29549.2,27.45,900.0699999999999,1657.67,15997.1,1610.61,3076.61,2595.53,1369.45,1222.94,2725.55,884.71,16607.629999999997,29625.96,2741.4300000000003,22377.12,2773.26,2300.0,6499.38,1920.3400000000004,7388.699999999996,1302.26,6757.109999999999,4725.95,500.0,3871.5,1481.73,3082.37,24609.51],\"yaxis\":\"y\",\"type\":\"scattergl\"}],                        {\"template\":{\"data\":{\"bar\":[{\"error_x\":{\"color\":\"#2a3f5f\"},\"error_y\":{\"color\":\"#2a3f5f\"},\"marker\":{\"line\":{\"color\":\"#E5ECF6\",\"width\":0.5},\"pattern\":{\"fillmode\":\"overlay\",\"size\":10,\"solidity\":0.2}},\"type\":\"bar\"}],\"barpolar\":[{\"marker\":{\"line\":{\"color\":\"#E5ECF6\",\"width\":0.5},\"pattern\":{\"fillmode\":\"overlay\",\"size\":10,\"solidity\":0.2}},\"type\":\"barpolar\"}],\"carpet\":[{\"aaxis\":{\"endlinecolor\":\"#2a3f5f\",\"gridcolor\":\"white\",\"linecolor\":\"white\",\"minorgridcolor\":\"white\",\"startlinecolor\":\"#2a3f5f\"},\"baxis\":{\"endlinecolor\":\"#2a3f5f\",\"gridcolor\":\"white\",\"linecolor\":\"white\",\"minorgridcolor\":\"white\",\"startlinecolor\":\"#2a3f5f\"},\"type\":\"carpet\"}],\"choropleth\":[{\"colorbar\":{\"outlinewidth\":0,\"ticks\":\"\"},\"type\":\"choropleth\"}],\"contour\":[{\"colorbar\":{\"outlinewidth\":0,\"ticks\":\"\"},\"colorscale\":[[0.0,\"#0d0887\"],[0.1111111111111111,\"#46039f\"],[0.2222222222222222,\"#7201a8\"],[0.3333333333333333,\"#9c179e\"],[0.4444444444444444,\"#bd3786\"],[0.5555555555555556,\"#d8576b\"],[0.6666666666666666,\"#ed7953\"],[0.7777777777777778,\"#fb9f3a\"],[0.8888888888888888,\"#fdca26\"],[1.0,\"#f0f921\"]],\"type\":\"contour\"}],\"contourcarpet\":[{\"colorbar\":{\"outlinewidth\":0,\"ticks\":\"\"},\"type\":\"contourcarpet\"}],\"heatmap\":[{\"colorbar\":{\"outlinewidth\":0,\"ticks\":\"\"},\"colorscale\":[[0.0,\"#0d0887\"],[0.1111111111111111,\"#46039f\"],[0.2222222222222222,\"#7201a8\"],[0.3333333333333333,\"#9c179e\"],[0.4444444444444444,\"#bd3786\"],[0.5555555555555556,\"#d8576b\"],[0.6666666666666666,\"#ed7953\"],[0.7777777777777778,\"#fb9f3a\"],[0.8888888888888888,\"#fdca26\"],[1.0,\"#f0f921\"]],\"type\":\"heatmap\"}],\"heatmapgl\":[{\"colorbar\":{\"outlinewidth\":0,\"ticks\":\"\"},\"colorscale\":[[0.0,\"#0d0887\"],[0.1111111111111111,\"#46039f\"],[0.2222222222222222,\"#7201a8\"],[0.3333333333333333,\"#9c179e\"],[0.4444444444444444,\"#bd3786\"],[0.5555555555555556,\"#d8576b\"],[0.6666666666666666,\"#ed7953\"],[0.7777777777777778,\"#fb9f3a\"],[0.8888888888888888,\"#fdca26\"],[1.0,\"#f0f921\"]],\"type\":\"heatmapgl\"}],\"histogram\":[{\"marker\":{\"pattern\":{\"fillmode\":\"overlay\",\"size\":10,\"solidity\":0.2}},\"type\":\"histogram\"}],\"histogram2d\":[{\"colorbar\":{\"outlinewidth\":0,\"ticks\":\"\"},\"colorscale\":[[0.0,\"#0d0887\"],[0.1111111111111111,\"#46039f\"],[0.2222222222222222,\"#7201a8\"],[0.3333333333333333,\"#9c179e\"],[0.4444444444444444,\"#bd3786\"],[0.5555555555555556,\"#d8576b\"],[0.6666666666666666,\"#ed7953\"],[0.7777777777777778,\"#fb9f3a\"],[0.8888888888888888,\"#fdca26\"],[1.0,\"#f0f921\"]],\"type\":\"histogram2d\"}],\"histogram2dcontour\":[{\"colorbar\":{\"outlinewidth\":0,\"ticks\":\"\"},\"colorscale\":[[0.0,\"#0d0887\"],[0.1111111111111111,\"#46039f\"],[0.2222222222222222,\"#7201a8\"],[0.3333333333333333,\"#9c179e\"],[0.4444444444444444,\"#bd3786\"],[0.5555555555555556,\"#d8576b\"],[0.6666666666666666,\"#ed7953\"],[0.7777777777777778,\"#fb9f3a\"],[0.8888888888888888,\"#fdca26\"],[1.0,\"#f0f921\"]],\"type\":\"histogram2dcontour\"}],\"mesh3d\":[{\"colorbar\":{\"outlinewidth\":0,\"ticks\":\"\"},\"type\":\"mesh3d\"}],\"parcoords\":[{\"line\":{\"colorbar\":{\"outlinewidth\":0,\"ticks\":\"\"}},\"type\":\"parcoords\"}],\"pie\":[{\"automargin\":true,\"type\":\"pie\"}],\"scatter\":[{\"marker\":{\"colorbar\":{\"outlinewidth\":0,\"ticks\":\"\"}},\"type\":\"scatter\"}],\"scatter3d\":[{\"line\":{\"colorbar\":{\"outlinewidth\":0,\"ticks\":\"\"}},\"marker\":{\"colorbar\":{\"outlinewidth\":0,\"ticks\":\"\"}},\"type\":\"scatter3d\"}],\"scattercarpet\":[{\"marker\":{\"colorbar\":{\"outlinewidth\":0,\"ticks\":\"\"}},\"type\":\"scattercarpet\"}],\"scattergeo\":[{\"marker\":{\"colorbar\":{\"outlinewidth\":0,\"ticks\":\"\"}},\"type\":\"scattergeo\"}],\"scattergl\":[{\"marker\":{\"colorbar\":{\"outlinewidth\":0,\"ticks\":\"\"}},\"type\":\"scattergl\"}],\"scattermapbox\":[{\"marker\":{\"colorbar\":{\"outlinewidth\":0,\"ticks\":\"\"}},\"type\":\"scattermapbox\"}],\"scatterpolar\":[{\"marker\":{\"colorbar\":{\"outlinewidth\":0,\"ticks\":\"\"}},\"type\":\"scatterpolar\"}],\"scatterpolargl\":[{\"marker\":{\"colorbar\":{\"outlinewidth\":0,\"ticks\":\"\"}},\"type\":\"scatterpolargl\"}],\"scatterternary\":[{\"marker\":{\"colorbar\":{\"outlinewidth\":0,\"ticks\":\"\"}},\"type\":\"scatterternary\"}],\"surface\":[{\"colorbar\":{\"outlinewidth\":0,\"ticks\":\"\"},\"colorscale\":[[0.0,\"#0d0887\"],[0.1111111111111111,\"#46039f\"],[0.2222222222222222,\"#7201a8\"],[0.3333333333333333,\"#9c179e\"],[0.4444444444444444,\"#bd3786\"],[0.5555555555555556,\"#d8576b\"],[0.6666666666666666,\"#ed7953\"],[0.7777777777777778,\"#fb9f3a\"],[0.8888888888888888,\"#fdca26\"],[1.0,\"#f0f921\"]],\"type\":\"surface\"}],\"table\":[{\"cells\":{\"fill\":{\"color\":\"#EBF0F8\"},\"line\":{\"color\":\"white\"}},\"header\":{\"fill\":{\"color\":\"#C8D4E3\"},\"line\":{\"color\":\"white\"}},\"type\":\"table\"}]},\"layout\":{\"annotationdefaults\":{\"arrowcolor\":\"#2a3f5f\",\"arrowhead\":0,\"arrowwidth\":1},\"autotypenumbers\":\"strict\",\"coloraxis\":{\"colorbar\":{\"outlinewidth\":0,\"ticks\":\"\"}},\"colorscale\":{\"diverging\":[[0,\"#8e0152\"],[0.1,\"#c51b7d\"],[0.2,\"#de77ae\"],[0.3,\"#f1b6da\"],[0.4,\"#fde0ef\"],[0.5,\"#f7f7f7\"],[0.6,\"#e6f5d0\"],[0.7,\"#b8e186\"],[0.8,\"#7fbc41\"],[0.9,\"#4d9221\"],[1,\"#276419\"]],\"sequential\":[[0.0,\"#0d0887\"],[0.1111111111111111,\"#46039f\"],[0.2222222222222222,\"#7201a8\"],[0.3333333333333333,\"#9c179e\"],[0.4444444444444444,\"#bd3786\"],[0.5555555555555556,\"#d8576b\"],[0.6666666666666666,\"#ed7953\"],[0.7777777777777778,\"#fb9f3a\"],[0.8888888888888888,\"#fdca26\"],[1.0,\"#f0f921\"]],\"sequentialminus\":[[0.0,\"#0d0887\"],[0.1111111111111111,\"#46039f\"],[0.2222222222222222,\"#7201a8\"],[0.3333333333333333,\"#9c179e\"],[0.4444444444444444,\"#bd3786\"],[0.5555555555555556,\"#d8576b\"],[0.6666666666666666,\"#ed7953\"],[0.7777777777777778,\"#fb9f3a\"],[0.8888888888888888,\"#fdca26\"],[1.0,\"#f0f921\"]]},\"colorway\":[\"#636efa\",\"#EF553B\",\"#00cc96\",\"#ab63fa\",\"#FFA15A\",\"#19d3f3\",\"#FF6692\",\"#B6E880\",\"#FF97FF\",\"#FECB52\"],\"font\":{\"color\":\"#2a3f5f\"},\"geo\":{\"bgcolor\":\"white\",\"lakecolor\":\"white\",\"landcolor\":\"#E5ECF6\",\"showlakes\":true,\"showland\":true,\"subunitcolor\":\"white\"},\"hoverlabel\":{\"align\":\"left\"},\"hovermode\":\"closest\",\"mapbox\":{\"style\":\"light\"},\"paper_bgcolor\":\"white\",\"plot_bgcolor\":\"#E5ECF6\",\"polar\":{\"angularaxis\":{\"gridcolor\":\"white\",\"linecolor\":\"white\",\"ticks\":\"\"},\"bgcolor\":\"#E5ECF6\",\"radialaxis\":{\"gridcolor\":\"white\",\"linecolor\":\"white\",\"ticks\":\"\"}},\"scene\":{\"xaxis\":{\"backgroundcolor\":\"#E5ECF6\",\"gridcolor\":\"white\",\"gridwidth\":2,\"linecolor\":\"white\",\"showbackground\":true,\"ticks\":\"\",\"zerolinecolor\":\"white\"},\"yaxis\":{\"backgroundcolor\":\"#E5ECF6\",\"gridcolor\":\"white\",\"gridwidth\":2,\"linecolor\":\"white\",\"showbackground\":true,\"ticks\":\"\",\"zerolinecolor\":\"white\"},\"zaxis\":{\"backgroundcolor\":\"#E5ECF6\",\"gridcolor\":\"white\",\"gridwidth\":2,\"linecolor\":\"white\",\"showbackground\":true,\"ticks\":\"\",\"zerolinecolor\":\"white\"}},\"shapedefaults\":{\"line\":{\"color\":\"#2a3f5f\"}},\"ternary\":{\"aaxis\":{\"gridcolor\":\"white\",\"linecolor\":\"white\",\"ticks\":\"\"},\"baxis\":{\"gridcolor\":\"white\",\"linecolor\":\"white\",\"ticks\":\"\"},\"bgcolor\":\"#E5ECF6\",\"caxis\":{\"gridcolor\":\"white\",\"linecolor\":\"white\",\"ticks\":\"\"}},\"title\":{\"x\":0.05},\"xaxis\":{\"automargin\":true,\"gridcolor\":\"white\",\"linecolor\":\"white\",\"ticks\":\"\",\"title\":{\"standoff\":15},\"zerolinecolor\":\"white\",\"zerolinewidth\":2},\"yaxis\":{\"automargin\":true,\"gridcolor\":\"white\",\"linecolor\":\"white\",\"ticks\":\"\",\"title\":{\"standoff\":15},\"zerolinecolor\":\"white\",\"zerolinewidth\":2}}},\"xaxis\":{\"anchor\":\"y\",\"domain\":[0.0,1.0],\"title\":{\"text\":\"vlr_score\"}},\"yaxis\":{\"anchor\":\"x\",\"domain\":[0.0,1.0],\"title\":{\"text\":\"vlr_saldo\"}},\"legend\":{\"tracegroupgap\":0},\"margin\":{\"t\":60}},                        {\"responsive\": true}                    ).then(function(){\n",
              "                            \n",
              "var gd = document.getElementById('fc4eb72f-fffb-44c2-9a30-151fd3853aa6');\n",
              "var x = new MutationObserver(function (mutations, observer) {{\n",
              "        var display = window.getComputedStyle(gd).display;\n",
              "        if (!display || display === 'none') {{\n",
              "            console.log([gd, 'removed!']);\n",
              "            Plotly.purge(gd);\n",
              "            observer.disconnect();\n",
              "        }}\n",
              "}});\n",
              "\n",
              "// Listen for the removal of the full notebook cells\n",
              "var notebookContainer = gd.closest('#notebook-container');\n",
              "if (notebookContainer) {{\n",
              "    x.observe(notebookContainer, {childList: true});\n",
              "}}\n",
              "\n",
              "// Listen for the clearing of the current output cell\n",
              "var outputEl = gd.closest('.output');\n",
              "if (outputEl) {{\n",
              "    x.observe(outputEl, {childList: true});\n",
              "}}\n",
              "\n",
              "                        })                };                            </script>        </div>\n",
              "</body>\n",
              "</html>"
            ]
          },
          "metadata": {}
        }
      ]
    },
    {
      "cell_type": "markdown",
      "source": [
        "##Hipótese 2\n",
        "O banco pan possui mais clientes com classificação A do que H (Comprovada).\n"
      ],
      "metadata": {
        "id": "mcUuBkou0VXx"
      }
    },
    {
      "cell_type": "code",
      "source": [
        "client.cod_rating.describe()"
      ],
      "metadata": {
        "id": "y-x_PeSSy6oj",
        "colab": {
          "base_uri": "https://localhost:8080/"
        },
        "outputId": "d0b48233-c921-47e6-bedb-582944f74b7a"
      },
      "execution_count": null,
      "outputs": [
        {
          "output_type": "execute_result",
          "data": {
            "text/plain": [
              "count     444768\n",
              "unique        10\n",
              "top            A\n",
              "freq      331447\n",
              "Name: cod_rating, dtype: object"
            ]
          },
          "metadata": {},
          "execution_count": 18
        }
      ]
    },
    {
      "cell_type": "markdown",
      "source": [
        "##Hipótese 3\n",
        "Como o banco atende a clientes de baixa renda, acreditamos que eles contratem vários produtos com baixos valores (Comprovada). \n"
      ],
      "metadata": {
        "id": "WkCj8ysX0uW9"
      }
    },
    {
      "cell_type": "code",
      "source": [
        "fig = px.scatter(client.sample(10000), x = \"qtd_oper\", y = \"vlr_saldo\")\n",
        "fig.show()"
      ],
      "metadata": {
        "id": "wdkNrwzv00Bf",
        "colab": {
          "base_uri": "https://localhost:8080/",
          "height": 542
        },
        "outputId": "8a2820ce-0443-4270-ff6a-0f821ab66494"
      },
      "execution_count": null,
      "outputs": [
        {
          "output_type": "display_data",
          "data": {
            "text/html": [
              "<html>\n",
              "<head><meta charset=\"utf-8\" /></head>\n",
              "<body>\n",
              "    <div>            <script src=\"https://cdnjs.cloudflare.com/ajax/libs/mathjax/2.7.5/MathJax.js?config=TeX-AMS-MML_SVG\"></script><script type=\"text/javascript\">if (window.MathJax) {MathJax.Hub.Config({SVG: {font: \"STIX-Web\"}});}</script>                <script type=\"text/javascript\">window.PlotlyConfig = {MathJaxConfig: 'local'};</script>\n",
              "        <script src=\"https://cdn.plot.ly/plotly-2.8.3.min.js\"></script>                <div id=\"3092e66c-62cb-4e00-b1a5-76136b06989e\" class=\"plotly-graph-div\" style=\"height:525px; width:100%;\"></div>            <script type=\"text/javascript\">                                    window.PLOTLYENV=window.PLOTLYENV || {};                                    if (document.getElementById(\"3092e66c-62cb-4e00-b1a5-76136b06989e\")) {                    Plotly.newPlot(                        \"3092e66c-62cb-4e00-b1a5-76136b06989e\",                        [{\"hovertemplate\":\"qtd_oper=%{x}<br>vlr_saldo=%{y}<extra></extra>\",\"legendgroup\":\"\",\"marker\":{\"color\":\"#636efa\",\"symbol\":\"circle\"},\"mode\":\"markers\",\"name\":\"\",\"showlegend\":false,\"x\":[2.0,13.0,7.0,35.0,null,null,15.0,7.0,10.0,27.0,null,7.0,20.0,13.0,13.0,1.0,10.0,6.0,null,null,null,5.0,14.0,15.0,8.0,14.0,4.0,27.0,28.0,7.0,14.0,3.0,14.0,null,9.0,7.0,58.0,6.0,5.0,2.0,4.0,31.0,20.0,14.0,12.0,10.0,5.0,21.0,12.0,9.0,8.0,24.0,6.0,8.0,47.0,5.0,8.0,20.0,null,35.0,12.0,9.0,15.0,3.0,23.0,2.0,12.0,2.0,12.0,35.0,null,19.0,12.0,22.0,7.0,4.0,4.0,11.0,33.0,23.0,30.0,15.0,12.0,10.0,6.0,20.0,null,15.0,15.0,14.0,null,4.0,30.0,12.0,null,38.0,12.0,18.0,11.0,null,8.0,24.0,5.0,3.0,22.0,6.0,11.0,11.0,25.0,3.0,10.0,7.0,4.0,81.0,21.0,13.0,40.0,null,null,2.0,6.0,5.0,13.0,11.0,7.0,23.0,18.0,2.0,13.0,17.0,null,23.0,null,4.0,3.0,2.0,7.0,1.0,40.0,19.0,8.0,51.0,48.0,29.0,17.0,27.0,8.0,7.0,3.0,27.0,12.0,17.0,17.0,5.0,8.0,11.0,15.0,8.0,20.0,12.0,12.0,34.0,12.0,20.0,8.0,null,16.0,null,8.0,15.0,14.0,12.0,39.0,3.0,22.0,8.0,4.0,22.0,13.0,13.0,10.0,null,1.0,38.0,11.0,18.0,null,null,15.0,30.0,8.0,31.0,5.0,14.0,11.0,3.0,27.0,7.0,17.0,null,3.0,4.0,18.0,21.0,6.0,9.0,8.0,14.0,12.0,11.0,33.0,17.0,null,24.0,21.0,18.0,12.0,16.0,38.0,13.0,1.0,35.0,14.0,10.0,4.0,15.0,21.0,11.0,27.0,70.0,5.0,12.0,13.0,38.0,null,24.0,19.0,13.0,11.0,7.0,18.0,4.0,5.0,null,16.0,12.0,null,8.0,11.0,2.0,0.0,10.0,null,17.0,10.0,12.0,15.0,10.0,3.0,25.0,14.0,21.0,null,23.0,null,14.0,5.0,18.0,10.0,8.0,7.0,23.0,20.0,19.0,21.0,15.0,11.0,15.0,5.0,null,16.0,null,14.0,71.0,10.0,26.0,53.0,13.0,12.0,25.0,6.0,40.0,14.0,28.0,26.0,12.0,28.0,14.0,17.0,21.0,7.0,3.0,11.0,63.0,9.0,3.0,17.0,null,8.0,18.0,22.0,4.0,9.0,5.0,4.0,12.0,41.0,10.0,13.0,11.0,7.0,null,18.0,17.0,null,16.0,7.0,7.0,12.0,9.0,6.0,null,25.0,8.0,25.0,12.0,14.0,4.0,51.0,16.0,7.0,1.0,8.0,5.0,null,18.0,4.0,14.0,7.0,1.0,6.0,27.0,8.0,3.0,15.0,28.0,17.0,12.0,1.0,11.0,9.0,9.0,34.0,23.0,12.0,11.0,25.0,5.0,15.0,2.0,20.0,null,2.0,7.0,18.0,19.0,10.0,6.0,7.0,11.0,10.0,35.0,8.0,1.0,6.0,4.0,18.0,14.0,41.0,42.0,13.0,18.0,20.0,13.0,8.0,2.0,5.0,9.0,3.0,4.0,12.0,null,22.0,9.0,null,4.0,null,7.0,22.0,6.0,7.0,17.0,15.0,16.0,14.0,2.0,null,9.0,9.0,16.0,36.0,19.0,18.0,29.0,10.0,null,10.0,0.0,15.0,13.0,null,12.0,1.0,21.0,20.0,27.0,23.0,10.0,8.0,19.0,13.0,10.0,15.0,15.0,14.0,8.0,2.0,2.0,10.0,4.0,26.0,42.0,7.0,24.0,10.0,null,5.0,1.0,18.0,16.0,0.0,10.0,22.0,11.0,17.0,13.0,10.0,12.0,3.0,16.0,20.0,6.0,9.0,7.0,null,16.0,15.0,1.0,5.0,28.0,31.0,54.0,20.0,6.0,17.0,3.0,1.0,14.0,8.0,5.0,null,7.0,12.0,16.0,14.0,21.0,4.0,4.0,12.0,null,9.0,null,13.0,null,5.0,10.0,11.0,3.0,30.0,9.0,18.0,6.0,17.0,11.0,null,15.0,2.0,24.0,3.0,17.0,13.0,8.0,6.0,7.0,null,24.0,23.0,4.0,15.0,17.0,13.0,15.0,8.0,2.0,18.0,8.0,19.0,null,29.0,8.0,null,9.0,7.0,3.0,4.0,null,10.0,14.0,12.0,12.0,38.0,17.0,3.0,11.0,null,null,5.0,168.0,8.0,17.0,22.0,12.0,10.0,10.0,14.0,8.0,23.0,6.0,12.0,11.0,null,11.0,7.0,21.0,19.0,11.0,6.0,11.0,1.0,5.0,null,12.0,24.0,13.0,12.0,10.0,null,9.0,9.0,4.0,null,8.0,22.0,13.0,14.0,9.0,8.0,14.0,8.0,2.0,19.0,8.0,8.0,6.0,10.0,5.0,8.0,9.0,73.0,5.0,5.0,10.0,16.0,21.0,21.0,15.0,14.0,36.0,4.0,4.0,10.0,11.0,11.0,9.0,null,12.0,24.0,25.0,4.0,7.0,16.0,9.0,151.0,7.0,4.0,11.0,12.0,14.0,30.0,11.0,null,null,12.0,10.0,1.0,8.0,8.0,13.0,1.0,7.0,24.0,null,null,9.0,6.0,null,9.0,17.0,18.0,13.0,null,9.0,5.0,11.0,12.0,11.0,3.0,13.0,13.0,6.0,10.0,11.0,18.0,5.0,6.0,9.0,5.0,35.0,6.0,29.0,9.0,19.0,7.0,23.0,10.0,12.0,6.0,null,12.0,15.0,16.0,16.0,16.0,2.0,13.0,26.0,null,27.0,8.0,null,11.0,4.0,7.0,null,36.0,23.0,14.0,1.0,12.0,20.0,8.0,26.0,28.0,null,17.0,48.0,10.0,6.0,8.0,12.0,9.0,50.0,10.0,7.0,8.0,null,12.0,9.0,18.0,null,15.0,67.0,18.0,14.0,41.0,11.0,5.0,1.0,7.0,12.0,null,8.0,9.0,6.0,31.0,35.0,21.0,6.0,19.0,6.0,7.0,20.0,16.0,7.0,1.0,3.0,14.0,5.0,8.0,6.0,6.0,9.0,7.0,4.0,2.0,13.0,8.0,5.0,26.0,33.0,5.0,40.0,null,null,7.0,15.0,10.0,8.0,15.0,null,19.0,13.0,28.0,20.0,61.0,20.0,4.0,15.0,11.0,3.0,30.0,4.0,12.0,7.0,5.0,null,7.0,3.0,4.0,10.0,9.0,39.0,12.0,6.0,11.0,12.0,4.0,16.0,9.0,5.0,12.0,4.0,13.0,10.0,17.0,1.0,2.0,8.0,8.0,20.0,1.0,13.0,14.0,16.0,8.0,null,12.0,null,null,7.0,12.0,null,19.0,21.0,12.0,10.0,19.0,2.0,69.0,8.0,14.0,17.0,19.0,85.0,7.0,null,8.0,10.0,51.0,5.0,7.0,9.0,8.0,26.0,14.0,4.0,20.0,22.0,15.0,10.0,49.0,null,12.0,18.0,7.0,11.0,20.0,10.0,4.0,null,6.0,8.0,8.0,12.0,null,14.0,10.0,7.0,null,28.0,44.0,null,46.0,11.0,4.0,3.0,null,10.0,1.0,4.0,2.0,26.0,7.0,null,38.0,14.0,null,7.0,8.0,10.0,8.0,2.0,25.0,6.0,5.0,null,5.0,8.0,16.0,16.0,20.0,8.0,10.0,2.0,7.0,14.0,22.0,17.0,6.0,16.0,11.0,null,6.0,null,17.0,10.0,null,null,14.0,null,16.0,27.0,7.0,22.0,7.0,20.0,13.0,10.0,16.0,19.0,6.0,30.0,6.0,10.0,null,17.0,16.0,8.0,null,13.0,12.0,12.0,19.0,16.0,10.0,11.0,17.0,6.0,6.0,6.0,10.0,25.0,9.0,5.0,23.0,7.0,9.0,39.0,11.0,null,6.0,4.0,27.0,13.0,null,10.0,null,0.0,20.0,13.0,13.0,15.0,36.0,10.0,6.0,null,27.0,2.0,10.0,12.0,13.0,24.0,null,6.0,null,null,13.0,12.0,6.0,8.0,null,27.0,9.0,11.0,6.0,17.0,41.0,12.0,5.0,16.0,24.0,13.0,29.0,null,null,7.0,27.0,5.0,9.0,9.0,2.0,2.0,7.0,18.0,40.0,13.0,11.0,14.0,12.0,23.0,12.0,6.0,29.0,4.0,11.0,55.0,3.0,12.0,4.0,null,9.0,9.0,15.0,12.0,1.0,10.0,null,10.0,18.0,19.0,null,null,15.0,17.0,10.0,5.0,10.0,null,13.0,15.0,19.0,15.0,3.0,3.0,5.0,1.0,16.0,6.0,21.0,9.0,10.0,2.0,25.0,29.0,2.0,15.0,7.0,0.0,13.0,17.0,27.0,29.0,14.0,21.0,4.0,5.0,null,23.0,17.0,21.0,7.0,32.0,3.0,null,8.0,1.0,16.0,9.0,4.0,7.0,6.0,3.0,11.0,3.0,null,20.0,7.0,5.0,19.0,null,7.0,18.0,17.0,13.0,11.0,null,9.0,10.0,4.0,31.0,null,9.0,10.0,9.0,9.0,20.0,11.0,15.0,3.0,14.0,12.0,4.0,25.0,13.0,6.0,6.0,1.0,13.0,32.0,22.0,19.0,12.0,12.0,22.0,5.0,7.0,20.0,9.0,10.0,11.0,16.0,5.0,16.0,21.0,3.0,10.0,4.0,null,11.0,12.0,12.0,13.0,null,4.0,8.0,null,15.0,21.0,26.0,13.0,18.0,5.0,10.0,13.0,14.0,33.0,14.0,14.0,24.0,11.0,11.0,null,null,32.0,86.0,11.0,9.0,15.0,18.0,10.0,null,13.0,12.0,14.0,8.0,12.0,1.0,11.0,41.0,56.0,null,12.0,8.0,7.0,9.0,26.0,null,null,11.0,9.0,null,22.0,17.0,20.0,34.0,13.0,4.0,16.0,5.0,24.0,19.0,1.0,16.0,11.0,4.0,6.0,11.0,4.0,4.0,null,0.0,10.0,null,4.0,12.0,9.0,18.0,10.0,8.0,15.0,15.0,6.0,19.0,18.0,17.0,null,6.0,8.0,4.0,20.0,14.0,1.0,19.0,null,3.0,15.0,4.0,6.0,7.0,22.0,23.0,null,30.0,null,10.0,9.0,18.0,13.0,16.0,11.0,null,8.0,6.0,15.0,10.0,10.0,null,null,null,10.0,20.0,3.0,5.0,1.0,2.0,2.0,10.0,4.0,17.0,31.0,9.0,12.0,10.0,null,6.0,12.0,14.0,11.0,3.0,1.0,null,1.0,5.0,24.0,5.0,4.0,5.0,4.0,6.0,null,null,14.0,null,10.0,22.0,7.0,8.0,8.0,7.0,24.0,12.0,null,18.0,7.0,20.0,9.0,14.0,22.0,11.0,5.0,7.0,1.0,18.0,15.0,8.0,null,14.0,30.0,5.0,26.0,13.0,6.0,10.0,9.0,36.0,2.0,6.0,17.0,16.0,12.0,31.0,16.0,6.0,13.0,38.0,21.0,9.0,2.0,18.0,24.0,19.0,14.0,2.0,null,9.0,40.0,4.0,7.0,9.0,null,12.0,null,8.0,22.0,17.0,7.0,2.0,null,24.0,28.0,1.0,null,23.0,null,3.0,59.0,10.0,14.0,11.0,10.0,6.0,4.0,4.0,19.0,10.0,21.0,3.0,null,23.0,20.0,16.0,6.0,15.0,61.0,16.0,15.0,14.0,12.0,15.0,10.0,7.0,20.0,30.0,6.0,13.0,9.0,15.0,32.0,10.0,34.0,29.0,9.0,11.0,20.0,37.0,11.0,14.0,19.0,24.0,null,8.0,5.0,5.0,19.0,24.0,8.0,11.0,1.0,28.0,null,6.0,10.0,9.0,29.0,1.0,11.0,21.0,20.0,4.0,6.0,57.0,20.0,null,null,12.0,36.0,6.0,6.0,8.0,7.0,6.0,null,23.0,14.0,19.0,null,null,18.0,null,9.0,null,24.0,7.0,6.0,20.0,null,11.0,2.0,null,9.0,18.0,7.0,19.0,18.0,17.0,8.0,8.0,11.0,10.0,11.0,14.0,null,12.0,35.0,9.0,5.0,1.0,10.0,37.0,19.0,16.0,10.0,15.0,15.0,17.0,10.0,null,null,null,3.0,3.0,14.0,5.0,11.0,11.0,22.0,14.0,2.0,15.0,15.0,15.0,18.0,21.0,14.0,9.0,3.0,12.0,null,11.0,14.0,3.0,11.0,8.0,5.0,2.0,7.0,9.0,23.0,14.0,33.0,9.0,11.0,8.0,null,9.0,5.0,8.0,6.0,15.0,4.0,26.0,16.0,21.0,4.0,24.0,15.0,null,4.0,13.0,15.0,18.0,15.0,8.0,6.0,8.0,null,13.0,7.0,7.0,10.0,35.0,7.0,null,44.0,5.0,null,null,16.0,22.0,7.0,11.0,10.0,3.0,29.0,3.0,31.0,19.0,10.0,13.0,0.0,15.0,null,4.0,14.0,1.0,30.0,2.0,null,30.0,33.0,6.0,1.0,7.0,13.0,37.0,null,22.0,24.0,20.0,12.0,8.0,6.0,18.0,null,18.0,null,20.0,12.0,16.0,34.0,33.0,24.0,3.0,28.0,23.0,null,19.0,16.0,9.0,14.0,12.0,28.0,14.0,28.0,15.0,12.0,5.0,7.0,24.0,5.0,4.0,28.0,14.0,9.0,25.0,15.0,16.0,37.0,18.0,13.0,12.0,16.0,11.0,9.0,17.0,4.0,36.0,2.0,14.0,19.0,8.0,16.0,26.0,null,6.0,14.0,9.0,13.0,9.0,19.0,19.0,18.0,8.0,8.0,17.0,17.0,31.0,5.0,17.0,6.0,null,22.0,5.0,2.0,22.0,18.0,null,15.0,7.0,7.0,null,5.0,6.0,30.0,1.0,null,23.0,3.0,10.0,4.0,10.0,6.0,18.0,8.0,8.0,15.0,null,10.0,10.0,5.0,10.0,25.0,7.0,15.0,5.0,8.0,16.0,19.0,15.0,0.0,17.0,12.0,null,28.0,25.0,17.0,null,4.0,11.0,2.0,null,24.0,8.0,10.0,19.0,4.0,1.0,17.0,21.0,7.0,1.0,20.0,12.0,24.0,14.0,16.0,12.0,9.0,9.0,7.0,11.0,20.0,9.0,5.0,51.0,null,5.0,3.0,27.0,24.0,8.0,6.0,20.0,5.0,10.0,7.0,23.0,null,13.0,null,10.0,10.0,20.0,17.0,null,14.0,10.0,6.0,18.0,null,12.0,20.0,4.0,null,14.0,3.0,6.0,6.0,43.0,26.0,13.0,6.0,19.0,18.0,16.0,15.0,16.0,9.0,9.0,10.0,23.0,9.0,13.0,11.0,null,10.0,7.0,36.0,null,3.0,1.0,3.0,6.0,6.0,18.0,13.0,10.0,28.0,19.0,10.0,8.0,13.0,24.0,21.0,31.0,12.0,null,2.0,19.0,null,66.0,null,5.0,7.0,20.0,36.0,9.0,9.0,27.0,13.0,33.0,17.0,16.0,21.0,10.0,null,21.0,11.0,8.0,null,8.0,29.0,15.0,31.0,8.0,16.0,21.0,5.0,18.0,15.0,11.0,null,9.0,7.0,7.0,4.0,13.0,34.0,19.0,null,1.0,13.0,30.0,9.0,13.0,14.0,10.0,10.0,12.0,32.0,24.0,null,15.0,13.0,15.0,null,20.0,null,19.0,8.0,5.0,35.0,9.0,28.0,11.0,30.0,10.0,null,19.0,1.0,8.0,null,7.0,19.0,null,20.0,6.0,33.0,null,15.0,null,15.0,12.0,33.0,12.0,20.0,2.0,10.0,null,12.0,7.0,10.0,null,4.0,21.0,4.0,6.0,20.0,11.0,12.0,24.0,6.0,53.0,null,null,10.0,11.0,12.0,null,33.0,14.0,10.0,null,null,11.0,10.0,10.0,11.0,11.0,9.0,22.0,8.0,16.0,26.0,1.0,42.0,null,9.0,null,1.0,17.0,30.0,1.0,12.0,29.0,9.0,7.0,null,25.0,10.0,9.0,15.0,7.0,39.0,38.0,10.0,20.0,4.0,58.0,3.0,14.0,null,8.0,null,11.0,11.0,null,null,17.0,19.0,3.0,20.0,7.0,19.0,17.0,6.0,30.0,13.0,61.0,5.0,18.0,null,17.0,14.0,null,85.0,7.0,1.0,26.0,16.0,31.0,13.0,14.0,31.0,4.0,11.0,12.0,15.0,30.0,19.0,12.0,10.0,15.0,8.0,10.0,18.0,0.0,40.0,17.0,16.0,null,12.0,28.0,null,35.0,11.0,18.0,7.0,null,24.0,0.0,1.0,15.0,15.0,0.0,3.0,5.0,4.0,8.0,null,25.0,3.0,11.0,10.0,null,null,92.0,18.0,13.0,1.0,7.0,6.0,21.0,10.0,13.0,9.0,2.0,4.0,9.0,20.0,23.0,17.0,48.0,2.0,1.0,43.0,8.0,11.0,5.0,9.0,4.0,9.0,null,5.0,23.0,23.0,null,7.0,20.0,15.0,19.0,19.0,18.0,12.0,13.0,8.0,10.0,null,14.0,13.0,19.0,5.0,27.0,10.0,null,10.0,3.0,28.0,3.0,5.0,6.0,14.0,4.0,null,6.0,13.0,26.0,7.0,2.0,6.0,17.0,18.0,6.0,11.0,7.0,null,null,null,47.0,7.0,12.0,13.0,9.0,5.0,null,15.0,3.0,50.0,9.0,10.0,6.0,21.0,3.0,9.0,21.0,12.0,null,9.0,null,23.0,6.0,16.0,4.0,3.0,18.0,4.0,33.0,39.0,null,26.0,null,10.0,15.0,44.0,null,10.0,25.0,18.0,27.0,19.0,14.0,null,14.0,null,11.0,6.0,27.0,null,5.0,7.0,14.0,23.0,7.0,66.0,22.0,5.0,27.0,8.0,20.0,null,6.0,7.0,12.0,null,7.0,14.0,9.0,4.0,41.0,25.0,4.0,42.0,16.0,5.0,1.0,81.0,8.0,11.0,18.0,2.0,5.0,16.0,17.0,25.0,10.0,12.0,14.0,11.0,14.0,24.0,24.0,30.0,40.0,10.0,13.0,8.0,9.0,8.0,23.0,9.0,13.0,11.0,3.0,15.0,18.0,12.0,24.0,10.0,15.0,18.0,15.0,67.0,4.0,43.0,5.0,12.0,29.0,null,3.0,34.0,null,18.0,22.0,24.0,null,5.0,7.0,4.0,81.0,null,17.0,4.0,16.0,12.0,8.0,13.0,9.0,2.0,37.0,null,10.0,10.0,null,6.0,11.0,null,null,6.0,6.0,7.0,23.0,21.0,80.0,null,19.0,24.0,44.0,15.0,10.0,18.0,15.0,31.0,5.0,12.0,0.0,48.0,18.0,16.0,8.0,16.0,27.0,null,13.0,7.0,18.0,null,20.0,5.0,11.0,10.0,null,4.0,7.0,7.0,9.0,16.0,16.0,2.0,null,15.0,16.0,18.0,11.0,23.0,7.0,16.0,13.0,12.0,8.0,9.0,23.0,null,6.0,5.0,6.0,null,21.0,null,17.0,3.0,47.0,24.0,8.0,6.0,1.0,19.0,7.0,null,3.0,null,null,19.0,15.0,20.0,18.0,20.0,29.0,23.0,17.0,10.0,29.0,null,19.0,23.0,10.0,31.0,7.0,8.0,5.0,null,2.0,29.0,null,5.0,null,19.0,23.0,4.0,8.0,5.0,9.0,null,null,11.0,10.0,24.0,null,1.0,14.0,6.0,16.0,4.0,8.0,26.0,4.0,12.0,null,6.0,11.0,null,11.0,10.0,4.0,13.0,8.0,12.0,null,null,8.0,16.0,9.0,9.0,19.0,8.0,null,10.0,14.0,31.0,5.0,1.0,11.0,20.0,21.0,15.0,10.0,6.0,72.0,6.0,17.0,null,14.0,48.0,12.0,16.0,9.0,13.0,65.0,2.0,8.0,5.0,12.0,18.0,9.0,5.0,23.0,11.0,5.0,11.0,11.0,15.0,29.0,5.0,12.0,9.0,null,7.0,7.0,3.0,9.0,11.0,19.0,11.0,4.0,20.0,9.0,15.0,13.0,5.0,5.0,29.0,12.0,2.0,16.0,2.0,11.0,13.0,16.0,16.0,16.0,null,13.0,40.0,14.0,45.0,12.0,15.0,26.0,null,null,5.0,49.0,null,48.0,3.0,10.0,11.0,15.0,12.0,23.0,11.0,9.0,17.0,7.0,5.0,9.0,15.0,16.0,11.0,9.0,6.0,33.0,5.0,11.0,28.0,2.0,14.0,8.0,2.0,2.0,17.0,28.0,8.0,7.0,20.0,15.0,null,3.0,8.0,9.0,7.0,24.0,22.0,13.0,4.0,5.0,25.0,10.0,9.0,3.0,21.0,3.0,12.0,56.0,5.0,7.0,10.0,null,10.0,10.0,4.0,27.0,11.0,10.0,null,17.0,41.0,4.0,17.0,16.0,12.0,null,3.0,4.0,17.0,1.0,12.0,31.0,10.0,14.0,6.0,2.0,7.0,12.0,15.0,5.0,11.0,41.0,15.0,8.0,5.0,14.0,11.0,8.0,10.0,null,13.0,null,13.0,13.0,14.0,10.0,15.0,null,35.0,null,10.0,7.0,16.0,19.0,13.0,3.0,9.0,17.0,5.0,16.0,8.0,null,23.0,15.0,2.0,14.0,20.0,10.0,34.0,2.0,19.0,4.0,6.0,12.0,10.0,13.0,9.0,65.0,54.0,26.0,32.0,4.0,21.0,null,21.0,15.0,null,4.0,9.0,42.0,7.0,24.0,21.0,6.0,9.0,18.0,7.0,19.0,null,7.0,7.0,null,36.0,null,4.0,31.0,26.0,5.0,null,7.0,17.0,12.0,8.0,8.0,28.0,7.0,3.0,null,38.0,null,21.0,20.0,26.0,15.0,4.0,7.0,null,15.0,8.0,14.0,23.0,6.0,27.0,29.0,8.0,9.0,null,13.0,8.0,3.0,3.0,6.0,15.0,15.0,4.0,23.0,3.0,33.0,9.0,5.0,33.0,20.0,12.0,13.0,32.0,null,16.0,null,4.0,20.0,3.0,26.0,17.0,5.0,11.0,21.0,30.0,23.0,null,11.0,21.0,21.0,11.0,null,8.0,46.0,8.0,23.0,6.0,11.0,10.0,8.0,null,18.0,10.0,31.0,null,10.0,null,2.0,12.0,10.0,16.0,12.0,19.0,10.0,10.0,26.0,3.0,13.0,18.0,10.0,3.0,12.0,17.0,31.0,null,20.0,5.0,5.0,24.0,12.0,16.0,15.0,10.0,14.0,2.0,12.0,10.0,14.0,10.0,26.0,19.0,36.0,8.0,32.0,6.0,16.0,null,31.0,13.0,15.0,10.0,18.0,6.0,8.0,12.0,12.0,9.0,18.0,9.0,14.0,20.0,4.0,null,22.0,9.0,null,17.0,5.0,2.0,null,17.0,null,7.0,16.0,8.0,null,15.0,7.0,2.0,11.0,9.0,15.0,null,22.0,27.0,null,6.0,31.0,32.0,18.0,6.0,2.0,15.0,10.0,24.0,2.0,3.0,6.0,null,3.0,5.0,26.0,3.0,null,20.0,11.0,40.0,33.0,47.0,null,19.0,7.0,23.0,13.0,null,16.0,1.0,8.0,2.0,12.0,7.0,18.0,null,61.0,14.0,null,21.0,9.0,13.0,22.0,6.0,50.0,14.0,null,11.0,11.0,22.0,13.0,9.0,8.0,9.0,7.0,12.0,9.0,39.0,31.0,16.0,26.0,5.0,18.0,11.0,32.0,6.0,8.0,12.0,null,22.0,27.0,6.0,11.0,13.0,10.0,13.0,14.0,6.0,20.0,10.0,14.0,12.0,21.0,null,6.0,null,0.0,8.0,20.0,9.0,23.0,16.0,18.0,16.0,4.0,43.0,null,8.0,18.0,14.0,5.0,18.0,26.0,8.0,8.0,29.0,17.0,null,28.0,1.0,2.0,20.0,20.0,3.0,18.0,null,7.0,16.0,10.0,47.0,7.0,12.0,3.0,5.0,8.0,2.0,7.0,14.0,11.0,12.0,36.0,25.0,7.0,13.0,23.0,12.0,128.0,16.0,1.0,10.0,7.0,6.0,null,null,5.0,23.0,15.0,14.0,37.0,21.0,9.0,9.0,null,0.0,12.0,16.0,11.0,16.0,10.0,28.0,3.0,22.0,4.0,null,23.0,29.0,2.0,null,12.0,16.0,20.0,1.0,6.0,12.0,14.0,19.0,21.0,null,null,10.0,6.0,13.0,11.0,1.0,null,7.0,19.0,11.0,6.0,27.0,33.0,23.0,9.0,4.0,10.0,19.0,3.0,null,5.0,21.0,14.0,null,12.0,12.0,15.0,20.0,21.0,15.0,1.0,3.0,7.0,12.0,null,2.0,null,13.0,12.0,11.0,11.0,10.0,1.0,8.0,24.0,31.0,11.0,16.0,2.0,6.0,20.0,28.0,33.0,19.0,7.0,10.0,35.0,null,13.0,35.0,6.0,17.0,6.0,5.0,19.0,2.0,17.0,17.0,30.0,null,52.0,18.0,16.0,19.0,null,12.0,18.0,15.0,15.0,16.0,13.0,19.0,14.0,10.0,11.0,8.0,18.0,14.0,17.0,15.0,null,10.0,9.0,12.0,2.0,3.0,3.0,18.0,null,10.0,16.0,6.0,6.0,23.0,21.0,15.0,11.0,12.0,20.0,8.0,null,20.0,15.0,8.0,37.0,5.0,7.0,3.0,null,13.0,11.0,null,6.0,1.0,null,10.0,null,7.0,13.0,3.0,10.0,null,10.0,20.0,16.0,29.0,33.0,11.0,null,18.0,5.0,14.0,10.0,21.0,42.0,9.0,24.0,null,null,5.0,9.0,12.0,23.0,38.0,21.0,7.0,9.0,10.0,2.0,7.0,7.0,17.0,6.0,6.0,21.0,27.0,11.0,30.0,null,10.0,3.0,null,null,5.0,6.0,3.0,7.0,6.0,10.0,20.0,16.0,6.0,3.0,60.0,30.0,5.0,5.0,66.0,16.0,16.0,12.0,null,7.0,12.0,22.0,36.0,2.0,10.0,1.0,7.0,6.0,15.0,8.0,24.0,17.0,8.0,9.0,50.0,9.0,3.0,11.0,3.0,15.0,13.0,7.0,13.0,14.0,46.0,15.0,8.0,9.0,null,22.0,8.0,5.0,29.0,null,9.0,13.0,null,11.0,12.0,17.0,8.0,4.0,15.0,null,29.0,7.0,7.0,17.0,8.0,6.0,6.0,33.0,16.0,4.0,13.0,null,21.0,9.0,11.0,14.0,18.0,1.0,null,16.0,1.0,6.0,3.0,10.0,3.0,10.0,null,5.0,40.0,14.0,null,null,32.0,38.0,null,7.0,11.0,null,null,22.0,32.0,18.0,2.0,8.0,11.0,5.0,12.0,12.0,1.0,null,36.0,18.0,11.0,23.0,23.0,6.0,15.0,25.0,null,9.0,9.0,21.0,14.0,7.0,11.0,4.0,21.0,11.0,28.0,12.0,10.0,2.0,18.0,53.0,9.0,19.0,33.0,8.0,11.0,31.0,26.0,8.0,10.0,11.0,null,null,25.0,8.0,2.0,62.0,null,6.0,26.0,5.0,9.0,17.0,2.0,14.0,12.0,9.0,10.0,6.0,10.0,10.0,null,38.0,16.0,10.0,24.0,33.0,13.0,31.0,6.0,21.0,7.0,3.0,19.0,2.0,6.0,19.0,15.0,27.0,13.0,23.0,3.0,18.0,11.0,6.0,15.0,11.0,17.0,13.0,1.0,22.0,15.0,7.0,1.0,14.0,22.0,11.0,9.0,11.0,6.0,31.0,2.0,28.0,11.0,28.0,null,30.0,28.0,7.0,8.0,null,null,null,6.0,6.0,17.0,24.0,21.0,69.0,15.0,10.0,null,15.0,17.0,1.0,7.0,20.0,6.0,10.0,26.0,1.0,null,7.0,10.0,11.0,null,13.0,32.0,10.0,46.0,6.0,null,16.0,19.0,12.0,25.0,16.0,13.0,21.0,9.0,4.0,60.0,21.0,12.0,24.0,1.0,10.0,23.0,22.0,null,16.0,13.0,26.0,null,null,6.0,14.0,13.0,11.0,1.0,33.0,20.0,38.0,14.0,5.0,10.0,8.0,5.0,6.0,8.0,null,16.0,11.0,10.0,null,20.0,3.0,16.0,1.0,28.0,10.0,41.0,5.0,7.0,12.0,7.0,6.0,null,6.0,13.0,16.0,39.0,null,2.0,8.0,9.0,null,21.0,22.0,13.0,24.0,11.0,11.0,3.0,null,null,22.0,18.0,9.0,7.0,2.0,0.0,4.0,null,null,12.0,12.0,18.0,19.0,5.0,1.0,41.0,15.0,14.0,11.0,null,null,13.0,14.0,6.0,6.0,1.0,14.0,null,21.0,15.0,null,24.0,13.0,6.0,8.0,8.0,12.0,11.0,5.0,5.0,1.0,11.0,2.0,19.0,29.0,7.0,59.0,25.0,36.0,8.0,14.0,4.0,13.0,18.0,16.0,5.0,9.0,13.0,14.0,21.0,12.0,null,14.0,25.0,13.0,4.0,69.0,12.0,8.0,5.0,9.0,null,null,null,20.0,5.0,23.0,4.0,17.0,16.0,19.0,10.0,4.0,22.0,3.0,46.0,1.0,null,1.0,2.0,21.0,10.0,7.0,4.0,null,8.0,5.0,13.0,2.0,27.0,8.0,3.0,1.0,8.0,20.0,21.0,16.0,8.0,14.0,12.0,17.0,18.0,19.0,43.0,21.0,17.0,15.0,37.0,9.0,null,26.0,2.0,null,11.0,21.0,12.0,18.0,14.0,36.0,16.0,12.0,8.0,10.0,10.0,19.0,null,22.0,59.0,8.0,2.0,36.0,14.0,null,19.0,64.0,32.0,null,20.0,28.0,1.0,49.0,18.0,12.0,7.0,3.0,null,null,1.0,14.0,14.0,39.0,23.0,null,null,6.0,10.0,18.0,null,2.0,19.0,13.0,null,8.0,16.0,2.0,8.0,26.0,null,6.0,3.0,12.0,2.0,10.0,18.0,3.0,48.0,10.0,10.0,10.0,9.0,8.0,11.0,24.0,3.0,16.0,22.0,15.0,58.0,null,40.0,8.0,null,15.0,11.0,8.0,10.0,14.0,17.0,18.0,7.0,9.0,11.0,8.0,15.0,8.0,13.0,21.0,13.0,19.0,3.0,null,4.0,9.0,3.0,21.0,4.0,14.0,11.0,33.0,3.0,10.0,36.0,47.0,17.0,11.0,null,6.0,13.0,27.0,6.0,9.0,null,9.0,13.0,18.0,6.0,6.0,4.0,27.0,6.0,null,13.0,8.0,14.0,14.0,22.0,18.0,3.0,3.0,9.0,35.0,11.0,7.0,9.0,9.0,40.0,32.0,19.0,8.0,null,6.0,4.0,17.0,10.0,7.0,26.0,16.0,null,13.0,3.0,null,12.0,8.0,12.0,16.0,3.0,13.0,6.0,8.0,6.0,4.0,25.0,null,null,9.0,10.0,null,12.0,6.0,16.0,7.0,13.0,13.0,11.0,21.0,34.0,11.0,8.0,4.0,7.0,8.0,5.0,16.0,58.0,6.0,10.0,11.0,10.0,7.0,27.0,9.0,null,18.0,13.0,1.0,4.0,8.0,7.0,43.0,13.0,16.0,16.0,null,null,37.0,60.0,11.0,16.0,0.0,null,14.0,3.0,null,13.0,1.0,11.0,8.0,null,8.0,4.0,5.0,13.0,17.0,1.0,null,null,26.0,10.0,19.0,9.0,31.0,7.0,13.0,5.0,5.0,5.0,7.0,18.0,22.0,null,12.0,10.0,null,15.0,null,2.0,15.0,13.0,18.0,17.0,10.0,8.0,8.0,6.0,5.0,11.0,12.0,31.0,10.0,40.0,4.0,7.0,null,14.0,5.0,11.0,37.0,9.0,1.0,2.0,7.0,1.0,16.0,41.0,26.0,18.0,10.0,10.0,null,5.0,8.0,24.0,1.0,null,4.0,null,8.0,2.0,27.0,4.0,8.0,15.0,19.0,23.0,null,8.0,13.0,4.0,12.0,13.0,10.0,9.0,9.0,2.0,14.0,16.0,11.0,58.0,28.0,12.0,39.0,10.0,13.0,16.0,null,19.0,4.0,16.0,null,null,null,22.0,7.0,16.0,null,12.0,null,16.0,45.0,16.0,31.0,13.0,1.0,20.0,89.0,18.0,25.0,50.0,14.0,3.0,3.0,6.0,4.0,10.0,15.0,10.0,16.0,5.0,22.0,17.0,22.0,28.0,6.0,7.0,9.0,9.0,14.0,2.0,2.0,3.0,8.0,29.0,18.0,18.0,6.0,43.0,null,4.0,23.0,31.0,11.0,1.0,40.0,11.0,null,25.0,22.0,13.0,3.0,11.0,10.0,null,10.0,4.0,20.0,3.0,18.0,15.0,8.0,8.0,17.0,9.0,26.0,8.0,2.0,13.0,7.0,25.0,null,17.0,9.0,32.0,null,14.0,17.0,8.0,6.0,3.0,29.0,12.0,22.0,13.0,19.0,9.0,5.0,11.0,20.0,11.0,12.0,6.0,24.0,9.0,11.0,15.0,3.0,8.0,15.0,8.0,15.0,3.0,8.0,2.0,24.0,26.0,8.0,10.0,null,34.0,26.0,2.0,8.0,17.0,8.0,7.0,25.0,8.0,10.0,14.0,41.0,1.0,12.0,15.0,23.0,0.0,null,10.0,82.0,14.0,4.0,3.0,8.0,14.0,14.0,19.0,11.0,20.0,null,20.0,2.0,18.0,6.0,23.0,16.0,6.0,8.0,1.0,4.0,5.0,11.0,43.0,6.0,null,5.0,35.0,7.0,null,8.0,12.0,2.0,null,12.0,5.0,6.0,27.0,9.0,7.0,33.0,10.0,17.0,10.0,19.0,5.0,48.0,36.0,15.0,24.0,5.0,11.0,9.0,9.0,20.0,12.0,5.0,39.0,15.0,1.0,14.0,27.0,9.0,7.0,13.0,11.0,3.0,8.0,null,11.0,9.0,17.0,16.0,7.0,41.0,3.0,27.0,14.0,12.0,15.0,2.0,7.0,17.0,13.0,10.0,null,9.0,7.0,7.0,23.0,null,0.0,30.0,25.0,null,3.0,20.0,null,10.0,5.0,29.0,null,null,null,12.0,9.0,14.0,7.0,1.0,9.0,28.0,11.0,8.0,null,6.0,2.0,8.0,9.0,23.0,6.0,null,11.0,18.0,7.0,5.0,6.0,10.0,6.0,7.0,9.0,24.0,null,7.0,5.0,null,11.0,9.0,1.0,9.0,9.0,12.0,3.0,9.0,3.0,15.0,36.0,6.0,13.0,12.0,null,17.0,14.0,6.0,12.0,9.0,8.0,14.0,12.0,51.0,20.0,27.0,null,8.0,4.0,12.0,8.0,9.0,null,1.0,10.0,11.0,42.0,6.0,10.0,9.0,5.0,14.0,62.0,2.0,7.0,33.0,8.0,13.0,14.0,null,11.0,null,5.0,8.0,11.0,12.0,15.0,13.0,10.0,2.0,1.0,3.0,19.0,7.0,16.0,8.0,12.0,8.0,41.0,32.0,11.0,45.0,17.0,8.0,7.0,23.0,10.0,9.0,4.0,null,9.0,18.0,3.0,5.0,14.0,16.0,11.0,9.0,30.0,null,5.0,36.0,9.0,null,16.0,19.0,15.0,44.0,10.0,null,null,18.0,12.0,7.0,13.0,19.0,2.0,43.0,25.0,17.0,1.0,10.0,null,17.0,11.0,8.0,0.0,23.0,6.0,25.0,15.0,null,10.0,7.0,5.0,17.0,7.0,20.0,null,17.0,12.0,9.0,14.0,18.0,13.0,12.0,8.0,4.0,17.0,null,6.0,5.0,19.0,45.0,2.0,null,5.0,6.0,8.0,3.0,10.0,25.0,2.0,17.0,37.0,9.0,3.0,26.0,10.0,17.0,10.0,17.0,7.0,21.0,5.0,null,22.0,27.0,null,5.0,null,19.0,19.0,6.0,5.0,7.0,7.0,null,19.0,12.0,5.0,12.0,13.0,10.0,2.0,45.0,13.0,16.0,5.0,12.0,2.0,20.0,23.0,18.0,6.0,9.0,17.0,null,20.0,1.0,19.0,null,4.0,8.0,14.0,12.0,28.0,12.0,6.0,7.0,6.0,2.0,null,31.0,null,16.0,null,10.0,null,6.0,11.0,12.0,22.0,10.0,11.0,7.0,8.0,22.0,11.0,7.0,2.0,3.0,22.0,15.0,null,6.0,3.0,11.0,19.0,4.0,28.0,8.0,11.0,23.0,34.0,11.0,12.0,16.0,7.0,11.0,26.0,16.0,4.0,8.0,6.0,13.0,null,10.0,null,12.0,10.0,19.0,8.0,4.0,43.0,11.0,8.0,null,1.0,21.0,9.0,9.0,11.0,12.0,15.0,null,9.0,null,30.0,6.0,12.0,23.0,10.0,null,10.0,20.0,2.0,8.0,10.0,24.0,19.0,6.0,36.0,6.0,null,16.0,17.0,23.0,31.0,7.0,9.0,null,20.0,15.0,16.0,null,27.0,null,44.0,null,8.0,25.0,null,28.0,5.0,25.0,null,33.0,8.0,1.0,8.0,18.0,4.0,null,20.0,7.0,5.0,5.0,10.0,15.0,11.0,1.0,21.0,6.0,3.0,null,20.0,14.0,16.0,null,13.0,5.0,5.0,null,10.0,25.0,0.0,15.0,12.0,null,11.0,31.0,24.0,8.0,8.0,15.0,18.0,7.0,null,10.0,9.0,10.0,15.0,8.0,11.0,0.0,null,null,null,18.0,23.0,14.0,10.0,2.0,null,6.0,20.0,10.0,3.0,null,1.0,12.0,null,51.0,null,18.0,3.0,21.0,11.0,null,9.0,6.0,2.0,20.0,null,23.0,null,13.0,20.0,27.0,17.0,14.0,null,26.0,24.0,10.0,8.0,null,5.0,18.0,22.0,15.0,18.0,14.0,4.0,17.0,6.0,4.0,13.0,3.0,8.0,5.0,7.0,7.0,9.0,17.0,8.0,12.0,18.0,31.0,3.0,null,null,23.0,5.0,17.0,24.0,23.0,null,10.0,24.0,13.0,63.0,28.0,13.0,5.0,7.0,17.0,20.0,17.0,12.0,12.0,8.0,21.0,12.0,null,22.0,24.0,13.0,4.0,3.0,14.0,11.0,18.0,null,17.0,14.0,19.0,null,null,5.0,13.0,14.0,13.0,7.0,84.0,7.0,20.0,16.0,14.0,null,17.0,null,5.0,19.0,9.0,2.0,24.0,11.0,12.0,10.0,12.0,17.0,28.0,null,null,2.0,19.0,23.0,21.0,17.0,9.0,null,8.0,18.0,8.0,null,8.0,23.0,37.0,11.0,38.0,11.0,12.0,9.0,20.0,13.0,6.0,10.0,15.0,22.0,null,8.0,12.0,10.0,11.0,20.0,27.0,33.0,5.0,null,7.0,5.0,13.0,15.0,6.0,9.0,9.0,15.0,7.0,null,51.0,17.0,18.0,29.0,7.0,5.0,11.0,3.0,8.0,0.0,11.0,14.0,9.0,5.0,null,15.0,16.0,5.0,6.0,9.0,null,12.0,null,null,22.0,7.0,3.0,18.0,11.0,14.0,3.0,4.0,21.0,17.0,11.0,19.0,10.0,null,2.0,12.0,14.0,9.0,15.0,20.0,9.0,23.0,23.0,20.0,11.0,21.0,12.0,10.0,null,10.0,12.0,4.0,null,null,7.0,2.0,null,null,null,17.0,24.0,6.0,26.0,null,19.0,27.0,18.0,17.0,null,3.0,5.0,29.0,60.0,20.0,17.0,7.0,9.0,11.0,8.0,19.0,6.0,22.0,15.0,3.0,20.0,1.0,7.0,7.0,6.0,16.0,24.0,10.0,null,null,8.0,24.0,11.0,11.0,20.0,18.0,null,9.0,20.0,null,21.0,36.0,40.0,null,24.0,11.0,11.0,7.0,9.0,25.0,11.0,15.0,10.0,8.0,21.0,22.0,5.0,9.0,17.0,25.0,50.0,5.0,null,26.0,null,null,14.0,5.0,6.0,10.0,11.0,16.0,11.0,5.0,17.0,9.0,2.0,null,3.0,14.0,25.0,12.0,5.0,null,11.0,13.0,4.0,17.0,14.0,4.0,1.0,9.0,19.0,4.0,9.0,null,40.0,39.0,22.0,6.0,null,6.0,13.0,30.0,12.0,9.0,null,13.0,null,3.0,7.0,24.0,null,11.0,13.0,3.0,11.0,4.0,15.0,13.0,4.0,29.0,26.0,14.0,10.0,4.0,3.0,13.0,3.0,20.0,10.0,3.0,18.0,20.0,12.0,8.0,0.0,16.0,15.0,23.0,3.0,19.0,46.0,13.0,10.0,28.0,12.0,9.0,null,4.0,7.0,7.0,5.0,1.0,11.0,null,3.0,10.0,34.0,7.0,9.0,16.0,14.0,15.0,15.0,19.0,45.0,null,22.0,2.0,14.0,9.0,4.0,19.0,null,null,11.0,6.0,6.0,0.0,18.0,8.0,9.0,null,6.0,null,24.0,31.0,18.0,1.0,18.0,33.0,5.0,19.0,15.0,null,10.0,null,40.0,13.0,10.0,20.0,7.0,8.0,7.0,1.0,15.0,10.0,32.0,15.0,12.0,15.0,8.0,18.0,null,24.0,12.0,25.0,20.0,9.0,13.0,18.0,11.0,13.0,2.0,1.0,2.0,2.0,19.0,9.0,9.0,39.0,6.0,8.0,24.0,10.0,6.0,6.0,8.0,30.0,14.0,31.0,null,5.0,25.0,11.0,4.0,4.0,15.0,26.0,4.0,11.0,21.0,14.0,19.0,15.0,16.0,11.0,14.0,13.0,null,21.0,12.0,3.0,14.0,17.0,11.0,3.0,null,5.0,null,8.0,12.0,55.0,23.0,6.0,12.0,16.0,17.0,26.0,36.0,4.0,8.0,6.0,null,6.0,10.0,2.0,30.0,11.0,14.0,14.0,35.0,12.0,27.0,14.0,4.0,16.0,10.0,16.0,15.0,null,17.0,5.0,14.0,14.0,30.0,16.0,7.0,null,16.0,2.0,8.0,null,41.0,12.0,11.0,10.0,5.0,22.0,17.0,20.0,25.0,13.0,13.0,25.0,6.0,6.0,3.0,15.0,9.0,15.0,5.0,15.0,null,4.0,15.0,null,9.0,16.0,19.0,15.0,9.0,null,14.0,5.0,22.0,9.0,9.0,10.0,6.0,21.0,22.0,16.0,4.0,8.0,6.0,11.0,4.0,18.0,10.0,20.0,1.0,8.0,4.0,13.0,20.0,12.0,14.0,6.0,10.0,null,7.0,16.0,23.0,6.0,2.0,20.0,13.0,3.0,7.0,16.0,8.0,1.0,16.0,10.0,19.0,23.0,5.0,3.0,null,15.0,null,20.0,11.0,14.0,11.0,null,null,11.0,53.0,null,11.0,16.0,2.0,14.0,30.0,null,22.0,7.0,17.0,5.0,null,13.0,1.0,16.0,null,18.0,7.0,11.0,null,8.0,5.0,1.0,35.0,19.0,8.0,10.0,null,35.0,null,8.0,null,3.0,23.0,34.0,23.0,25.0,null,86.0,15.0,null,50.0,16.0,2.0,22.0,11.0,31.0,null,30.0,15.0,15.0,26.0,13.0,5.0,16.0,15.0,16.0,11.0,8.0,12.0,11.0,4.0,19.0,13.0,null,16.0,6.0,10.0,20.0,10.0,16.0,4.0,9.0,6.0,22.0,7.0,2.0,20.0,11.0,4.0,null,9.0,4.0,22.0,19.0,13.0,6.0,15.0,26.0,21.0,5.0,19.0,15.0,11.0,11.0,2.0,17.0,19.0,11.0,8.0,null,30.0,19.0,43.0,null,null,27.0,1.0,2.0,6.0,null,null,24.0,23.0,15.0,1.0,44.0,41.0,null,17.0,2.0,10.0,7.0,6.0,null,13.0,4.0,9.0,12.0,19.0,8.0,16.0,12.0,null,8.0,10.0,5.0,5.0,19.0,12.0,null,5.0,12.0,15.0,3.0,22.0,9.0,21.0,10.0,5.0,24.0,10.0,2.0,15.0,15.0,36.0,13.0,null,20.0,16.0,null,8.0,15.0,4.0,9.0,5.0,4.0,24.0,16.0,15.0,24.0,5.0,15.0,17.0,5.0,47.0,8.0,null,6.0,11.0,12.0,12.0,23.0,null,null,3.0,26.0,16.0,16.0,7.0,25.0,10.0,18.0,3.0,9.0,null,5.0,42.0,9.0,9.0,35.0,4.0,2.0,14.0,9.0,11.0,13.0,15.0,15.0,5.0,31.0,12.0,8.0,14.0,null,37.0,8.0,19.0,13.0,17.0,11.0,null,12.0,25.0,16.0,6.0,5.0,4.0,7.0,10.0,7.0,11.0,3.0,14.0,15.0,9.0,6.0,40.0,11.0,4.0,null,4.0,30.0,null,16.0,18.0,14.0,8.0,29.0,null,8.0,4.0,null,21.0,14.0,10.0,19.0,23.0,6.0,25.0,9.0,12.0,21.0,null,null,10.0,5.0,16.0,17.0,6.0,null,14.0,null,13.0,3.0,5.0,15.0,65.0,18.0,9.0,null,9.0,4.0,null,11.0,null,4.0,8.0,1.0,14.0,4.0,21.0,9.0,14.0,8.0,18.0,37.0,18.0,6.0,13.0,15.0,10.0,5.0,15.0,4.0,11.0,22.0,36.0,6.0,10.0,2.0,5.0,8.0,22.0,24.0,28.0,null,null,11.0,null,2.0,16.0,12.0,21.0,17.0,14.0,11.0,21.0,54.0,null,20.0,null,3.0,null,16.0,null,17.0,15.0,27.0,27.0,4.0,2.0,46.0,8.0,10.0,19.0,8.0,null,32.0,12.0,10.0,17.0,25.0,4.0,4.0,null,17.0,12.0,21.0,5.0,14.0,23.0,11.0,10.0,4.0,null,13.0,null,14.0,31.0,13.0,null,10.0,18.0,4.0,15.0,21.0,10.0,1.0,17.0,9.0,3.0,13.0,null,6.0,9.0,7.0,28.0,null,19.0,36.0,14.0,10.0,59.0,22.0,6.0,null,19.0,8.0,16.0,13.0,12.0,36.0,9.0,null,15.0,1.0,6.0,null,30.0,null,11.0,17.0,14.0,11.0,15.0,12.0,9.0,7.0,null,7.0,null,7.0,1.0,17.0,22.0,64.0,5.0,25.0,7.0,14.0,18.0,7.0,6.0,16.0,10.0,null,null,null,12.0,9.0,13.0,58.0,8.0,33.0,9.0,8.0,12.0,42.0,5.0,null,46.0,6.0,5.0,20.0,17.0,6.0,15.0,null,5.0,7.0,null,25.0,19.0,8.0,7.0,null,38.0,22.0,22.0,30.0,null,null,5.0,38.0,9.0,12.0,3.0,21.0,12.0,17.0,12.0,16.0,26.0,null,14.0,9.0,32.0,5.0,13.0,18.0,15.0,22.0,null,null,9.0,1.0,7.0,9.0,13.0,null,7.0,6.0,22.0,7.0,null,20.0,14.0,31.0,16.0,2.0,8.0,9.0,7.0,19.0,11.0,10.0,3.0,19.0,69.0,8.0,47.0,13.0,5.0,4.0,11.0,37.0,8.0,18.0,15.0,2.0,16.0,16.0,29.0,7.0,null,26.0,14.0,1.0,7.0,null,12.0,3.0,6.0,10.0,9.0,42.0,8.0,3.0,null,5.0,8.0,2.0,12.0,5.0,46.0,8.0,14.0,8.0,null,26.0,12.0,35.0,null,7.0,null,8.0,32.0,4.0,6.0,8.0,60.0,null,49.0,5.0,16.0,null,null,33.0,12.0,9.0,null,5.0,39.0,6.0,19.0,12.0,14.0,null,null,5.0,9.0,30.0,33.0,6.0,13.0,7.0,11.0,7.0,29.0,null,5.0,13.0,7.0,15.0,9.0,2.0,67.0,19.0,20.0,9.0,26.0,12.0,6.0,25.0,11.0,null,30.0,null,null,6.0,8.0,13.0,17.0,3.0,16.0,10.0,null,null,1.0,null,null,10.0,15.0,15.0,null,17.0,null,16.0,null,24.0,15.0,11.0,17.0,8.0,60.0,31.0,9.0,16.0,25.0,18.0,20.0,6.0,25.0,18.0,5.0,8.0,19.0,6.0,15.0,42.0,10.0,1.0,15.0,17.0,23.0,1.0,null,7.0,null,5.0,12.0,13.0,3.0,13.0,46.0,11.0,12.0,2.0,14.0,16.0,null,40.0,10.0,null,9.0,5.0,14.0,5.0,null,9.0,8.0,null,null,9.0,null,7.0,13.0,7.0,null,16.0,14.0,1.0,19.0,11.0,17.0,46.0,10.0,8.0,11.0,23.0,6.0,7.0,12.0,9.0,13.0,10.0,9.0,20.0,19.0,20.0,13.0,8.0,13.0,2.0,null,9.0,8.0,11.0,9.0,9.0,9.0,null,5.0,25.0,22.0,15.0,24.0,13.0,5.0,null,4.0,14.0,21.0,8.0,24.0,3.0,3.0,10.0,6.0,2.0,26.0,7.0,24.0,16.0,13.0,16.0,4.0,21.0,21.0,15.0,16.0,25.0,17.0,24.0,15.0,null,5.0,24.0,29.0,28.0,7.0,26.0,10.0,6.0,12.0,12.0,23.0,null,9.0,null,5.0,null,6.0,9.0,26.0,10.0,8.0,20.0,14.0,47.0,51.0,1.0,5.0,10.0,3.0,4.0,13.0,null,16.0,9.0,11.0,42.0,3.0,15.0,14.0,null,18.0,18.0,10.0,6.0,1.0,16.0,6.0,25.0,3.0,8.0,19.0,51.0,33.0,21.0,8.0,4.0,7.0,23.0,36.0,17.0,8.0,null,28.0,7.0,5.0,22.0,16.0,null,28.0,3.0,21.0,2.0,17.0,7.0,1.0,10.0,10.0,null,21.0,null,4.0,4.0,21.0,null,8.0,1.0,7.0,null,8.0,13.0,16.0,23.0,14.0,null,6.0,26.0,14.0,21.0,13.0,null,38.0,4.0,18.0,17.0,null,10.0,3.0,null,14.0,14.0,11.0,38.0,10.0,14.0,15.0,9.0,1.0,22.0,6.0,36.0,6.0,17.0,9.0,6.0,4.0,13.0,7.0,null,null,6.0,10.0,null,23.0,4.0,null,12.0,23.0,null,14.0,7.0,27.0,8.0,39.0,7.0,7.0,10.0,9.0,null,17.0,12.0,10.0,14.0,9.0,3.0,8.0,12.0,7.0,22.0,13.0,10.0,62.0,12.0,27.0,20.0,22.0,15.0,30.0,10.0,3.0,14.0,9.0,66.0,1.0,5.0,4.0,54.0,1.0,20.0,3.0,1.0,5.0,31.0,22.0,25.0,15.0,7.0,21.0,1.0,9.0,null,28.0,6.0,10.0,null,7.0,17.0,20.0,7.0,10.0,3.0,20.0,18.0,null,3.0,9.0,null,null,48.0,null,9.0,14.0,18.0,11.0,null,null,15.0,4.0,5.0,9.0,3.0,null,2.0,8.0,6.0,13.0,null,19.0,20.0,null,10.0,16.0,21.0,17.0,37.0,null,16.0,8.0,25.0,9.0,24.0,null,8.0,17.0,null,null,null,15.0,14.0,14.0,7.0,19.0,7.0,8.0,1.0,33.0,54.0,7.0,9.0,9.0,13.0,6.0,33.0,22.0,12.0,29.0,13.0,15.0,14.0,27.0,18.0,1.0,4.0,1.0,16.0,2.0,6.0,6.0,12.0,1.0,11.0,13.0,5.0,12.0,18.0,51.0,19.0,10.0,null,null,25.0,19.0,15.0,11.0,13.0,12.0,3.0,14.0,null,54.0,2.0,6.0,29.0,18.0,18.0,15.0,13.0,null,30.0,4.0,4.0,14.0,4.0,5.0,18.0,5.0,15.0,11.0,14.0,12.0,7.0,17.0,8.0,0.0,19.0,11.0,18.0,7.0,11.0,7.0,2.0,7.0,7.0,39.0,34.0,18.0,12.0,65.0,7.0,12.0,10.0,57.0,18.0,22.0,null,33.0,17.0,16.0,13.0,11.0,null,21.0,15.0,3.0,4.0,12.0,27.0,9.0,15.0,18.0,9.0,6.0,16.0,15.0,8.0,14.0,13.0,null,16.0,14.0,18.0,3.0,27.0,7.0,25.0,7.0,15.0,15.0,null,17.0,8.0,16.0,null,12.0,20.0,23.0,19.0,7.0,5.0,null,26.0,1.0,null,null,2.0,8.0,20.0,15.0,15.0,9.0,6.0,15.0,9.0,null,11.0,null,11.0,3.0,15.0,14.0,29.0,15.0,null,null,null,19.0,11.0,null,4.0,2.0,null,7.0,17.0,16.0,9.0,5.0,7.0,27.0,8.0,14.0,5.0,6.0,7.0,16.0,1.0,6.0,17.0,18.0,null,15.0,21.0,null,11.0,24.0,12.0,8.0,21.0,13.0,9.0,9.0,8.0,8.0,18.0,12.0,11.0,71.0,null,14.0,null,7.0,11.0,4.0,5.0,4.0,13.0,32.0,5.0,12.0,1.0,11.0,2.0,15.0,15.0,13.0,12.0,11.0,10.0,2.0,13.0,21.0,13.0,8.0,18.0,13.0,9.0,11.0,8.0,27.0,11.0,7.0,24.0,8.0,10.0,7.0,13.0,null,8.0,19.0,7.0,12.0,6.0,17.0,14.0,null,5.0,null,15.0,23.0,17.0,35.0,6.0,null,31.0,17.0,8.0,12.0,20.0,null,14.0,8.0,33.0,12.0,11.0,17.0,2.0,15.0,null,10.0,null,22.0,42.0,16.0,16.0,5.0,10.0,53.0,21.0,7.0,15.0,11.0,2.0,8.0,12.0,2.0,6.0,19.0,30.0,null,21.0,3.0,null,9.0,26.0,9.0,null,11.0,null,6.0,9.0,25.0,19.0,14.0,10.0,8.0,2.0,14.0,10.0,26.0,12.0,19.0,null,1.0,8.0,null,14.0,null,10.0,8.0,15.0,14.0,2.0,25.0,10.0,27.0,null,7.0,5.0,15.0,23.0,12.0,16.0,null,3.0,22.0,16.0,13.0,31.0,11.0,18.0,6.0,null,null,5.0,null,null,null,10.0,10.0,null,null,15.0,null,11.0,15.0,21.0,3.0,19.0,18.0,14.0,3.0,17.0,6.0,8.0,12.0,10.0,6.0,8.0,13.0,9.0,16.0,33.0,14.0,8.0,14.0,4.0,2.0,20.0,15.0,6.0,9.0,15.0,7.0,16.0,17.0,33.0,6.0,14.0,15.0,30.0,35.0,22.0,21.0,null,null,null,36.0,16.0,12.0,13.0,1.0,2.0,null,9.0,14.0,4.0,8.0,16.0,73.0,20.0,null,13.0,17.0,16.0,14.0,19.0,23.0,15.0,7.0,16.0,null,14.0,8.0,16.0,3.0,7.0,15.0,9.0,9.0,11.0,5.0,15.0,null,5.0,24.0,null,null,24.0,16.0,36.0,13.0,5.0,156.0,4.0,28.0,20.0,5.0,24.0,18.0,12.0,18.0,3.0,11.0,21.0,22.0,7.0,null,14.0,24.0,7.0,27.0,6.0,5.0,20.0,null,10.0,7.0,null,5.0,16.0,10.0,15.0,null,12.0,10.0,6.0,17.0,10.0,4.0,9.0,7.0,32.0,4.0,8.0,13.0,null,8.0,23.0,12.0,11.0,23.0,22.0,24.0,14.0,14.0,0.0,29.0,15.0,3.0,18.0,null,null,26.0,29.0,8.0,1.0,8.0,null,null,6.0,7.0,11.0,15.0,23.0,null,12.0,2.0,3.0,15.0,11.0,null,10.0,7.0,3.0,4.0,8.0,2.0,11.0,23.0,25.0,14.0,22.0,3.0,14.0,2.0,3.0,null,12.0,5.0,12.0,3.0,8.0,17.0,9.0,17.0,12.0,15.0,8.0,13.0,11.0,7.0,9.0,9.0,11.0,12.0,13.0,1.0,49.0,null,14.0,6.0,14.0,19.0,4.0,17.0,28.0,null,13.0,14.0,1.0,13.0,10.0,33.0,4.0,11.0,6.0,7.0,7.0,3.0,null,4.0,18.0,30.0,17.0,3.0,9.0,null,2.0,null,10.0,16.0,null,7.0,3.0,null,null,19.0,7.0,18.0,16.0,7.0,1.0,9.0,15.0,null,75.0,3.0,null,15.0,4.0,10.0,9.0,5.0,4.0,4.0,2.0,null,11.0,27.0,29.0,7.0,6.0,28.0,3.0,8.0,21.0,17.0,8.0,24.0,15.0,22.0,10.0,12.0,24.0,10.0,null,5.0,14.0,15.0,null,3.0,9.0,34.0,null,15.0,4.0,19.0,19.0,7.0,10.0,3.0,16.0,8.0,4.0,11.0,54.0,6.0,5.0,6.0,18.0,16.0,null,7.0,5.0,3.0,7.0,19.0,17.0,4.0,68.0,15.0,10.0,2.0,5.0,13.0,17.0,null,61.0,3.0,9.0,2.0,41.0,20.0,13.0,16.0,16.0,9.0,null,22.0,18.0,18.0,62.0,21.0,11.0,16.0,null,20.0,null,8.0,14.0,24.0,24.0,1.0,null,14.0,19.0,4.0,null,8.0,2.0,6.0,2.0,11.0,14.0,17.0,null,19.0,null,2.0,30.0,9.0,6.0,1.0,5.0,null,2.0,0.0,25.0,12.0,3.0,27.0,40.0,27.0,21.0,45.0,11.0,11.0,5.0,11.0,15.0,null,9.0,31.0,9.0,9.0,20.0,11.0,9.0,9.0,null,2.0,17.0,6.0,null,11.0,42.0,10.0,3.0,6.0,136.0,null,3.0,22.0,14.0,null,20.0,16.0,null,11.0,4.0,13.0,43.0,9.0,14.0,26.0,18.0,27.0,15.0,null,10.0,null,8.0,10.0,18.0,15.0,9.0,9.0,8.0,4.0,7.0,15.0,7.0,10.0,6.0,null,12.0,14.0,17.0,13.0,20.0,5.0,null,10.0,7.0,17.0,40.0,14.0,2.0,4.0,12.0,42.0,8.0,5.0,6.0,6.0,8.0,14.0,8.0,17.0,11.0,8.0,15.0,6.0,3.0,20.0,null,null,10.0,9.0,9.0,13.0,12.0,9.0,43.0,null,12.0,9.0,null,32.0,17.0,19.0,null,16.0,null,12.0,18.0,7.0,4.0,null,11.0,10.0,22.0,3.0,8.0,9.0,14.0,null,0.0,null,22.0,19.0,9.0,10.0,21.0,17.0,11.0,8.0,8.0,3.0,24.0,2.0,6.0,1.0,10.0,15.0,null,9.0,20.0,14.0,12.0,13.0,23.0,10.0,27.0,12.0,10.0,17.0,5.0,4.0,null,9.0,40.0,0.0,13.0,9.0,null,8.0,31.0,null,8.0,29.0,null,18.0,10.0,8.0,18.0,12.0,15.0,null,20.0,26.0,10.0,14.0,21.0,10.0,18.0,null,4.0,9.0,null,null,13.0,7.0,6.0,12.0,null,13.0,35.0,10.0,11.0,17.0,7.0,8.0,13.0,2.0,15.0,8.0,10.0,20.0,16.0,11.0,14.0,7.0,20.0,6.0,6.0,null,13.0,11.0,21.0,28.0,10.0,18.0,29.0,18.0,3.0,43.0,3.0,27.0,2.0,31.0,18.0,9.0,1.0,13.0,11.0,3.0,15.0,1.0,17.0,17.0,21.0,18.0,9.0,null,24.0,19.0,17.0,30.0,19.0,2.0,9.0,4.0,1.0,7.0,6.0,6.0,18.0,3.0,10.0,11.0,5.0,null,11.0,30.0,9.0,13.0,10.0,20.0,3.0,null,13.0,16.0,8.0,12.0,null,20.0,16.0,null,4.0,12.0,17.0,16.0,12.0,9.0,14.0,29.0,1.0,21.0,10.0,24.0,5.0,9.0,null,31.0,9.0,13.0,15.0,null,16.0,5.0,10.0,null,10.0,7.0,16.0,18.0,14.0,28.0,14.0,null,null,18.0,12.0,36.0,4.0,8.0,7.0,17.0,6.0,14.0,13.0,1.0,77.0,null,3.0,22.0,36.0,16.0,12.0,15.0,12.0,12.0,22.0,32.0,18.0,18.0,14.0,10.0,null,22.0,23.0,12.0,10.0,44.0,12.0,6.0,14.0,null,12.0,null,8.0,31.0,null,18.0,10.0,7.0,3.0,23.0,5.0,9.0,27.0,4.0,23.0,1.0,11.0,15.0,19.0,14.0,21.0,14.0,13.0,31.0,null,null,13.0,4.0,34.0,null,12.0,16.0,6.0,23.0,10.0,null,4.0,8.0,10.0,6.0,5.0,11.0,13.0,14.0,8.0,10.0,17.0,34.0,15.0,1.0,11.0,12.0,19.0,23.0,5.0,16.0,5.0,9.0,null,null,24.0,35.0,5.0,18.0,13.0,1.0,9.0,null,11.0,32.0,null,7.0,5.0,15.0,11.0,2.0,4.0,6.0,30.0,7.0,24.0,13.0,5.0,null,10.0,5.0,9.0,30.0,29.0,14.0,12.0,4.0,6.0,14.0,16.0,6.0,15.0,15.0,2.0,20.0,18.0,8.0,2.0,null,10.0,21.0,9.0,14.0,null,8.0,34.0,2.0,9.0,29.0,null,4.0,7.0,5.0,5.0,19.0,31.0,36.0,68.0,3.0,15.0,12.0,7.0,15.0,17.0,4.0,12.0,15.0,23.0,30.0,12.0,15.0,8.0,null,6.0,15.0,11.0,4.0,44.0,null,5.0,6.0,5.0,10.0,15.0,null,10.0,16.0,2.0,4.0,22.0,11.0,16.0,8.0,13.0,5.0,11.0,8.0,19.0,21.0,11.0,17.0,null,13.0,0.0,26.0,17.0,null,20.0,22.0,18.0,10.0,null,11.0,4.0,4.0,10.0,18.0,7.0,19.0,28.0,8.0,7.0,25.0,12.0,24.0,14.0,5.0,30.0,20.0,11.0,4.0,13.0,null,14.0,12.0,18.0,11.0,7.0,null,10.0,3.0,null,3.0,null,6.0,18.0,14.0,5.0,19.0,2.0,7.0,8.0,13.0,11.0,null,8.0,26.0,13.0,4.0,13.0,12.0,13.0,26.0,2.0,23.0,null,5.0,5.0,8.0,11.0,8.0,11.0,5.0,6.0,9.0,null,12.0,null,5.0,8.0,null,25.0,5.0,8.0,5.0,24.0,10.0,42.0,101.0,22.0,30.0,5.0,9.0,15.0,6.0,12.0,15.0,10.0,27.0,25.0,7.0,4.0,10.0,14.0,7.0,5.0,13.0,null,6.0,null,3.0,7.0,11.0,null,15.0,24.0,4.0,9.0,4.0,2.0,17.0,10.0,32.0,13.0,null,3.0,22.0,null,21.0,2.0,11.0,25.0,5.0,4.0,14.0,3.0,11.0,67.0,10.0,7.0,9.0,9.0,11.0,11.0,9.0,null,3.0,11.0,18.0,14.0,24.0,17.0,7.0,9.0,5.0,6.0,11.0,6.0,16.0,45.0,3.0,10.0,null,10.0,10.0,11.0,14.0,23.0,6.0,10.0,18.0,22.0,19.0,6.0,6.0,19.0,17.0,33.0,20.0,15.0,9.0,16.0,null,9.0,11.0,null,26.0,6.0,13.0,17.0,14.0,null,57.0,14.0,null,null,16.0,11.0,18.0,null,48.0,96.0,13.0,21.0,null,43.0,0.0,10.0,7.0,2.0,5.0,5.0,null,8.0,11.0,null,null,null,null,null,null,null,null,9.0,null,12.0,11.0,16.0,31.0,18.0,10.0,11.0,5.0,16.0,null,8.0,null,4.0,17.0,4.0,25.0,14.0,14.0,9.0,15.0,1.0,9.0,13.0,3.0,18.0,21.0,9.0,13.0,9.0,6.0,null,7.0,22.0,6.0,10.0,10.0,21.0,2.0,16.0,41.0,2.0,30.0,17.0,19.0,33.0,9.0,4.0,32.0,19.0,14.0,7.0,14.0,14.0,15.0,9.0,null,null,1.0,26.0,5.0,10.0,11.0,9.0,4.0,12.0,40.0,31.0,5.0,null,17.0,9.0,10.0,11.0,27.0,6.0,8.0,10.0,11.0,8.0,11.0,18.0,null,null,17.0,9.0,4.0,18.0,2.0,1.0,3.0,2.0,null,9.0,9.0,6.0,43.0,17.0,22.0,6.0,7.0,null,24.0,5.0,3.0,10.0,14.0,21.0,null,13.0,8.0,15.0,12.0,17.0,26.0,1.0,7.0,12.0,null,13.0,4.0,9.0,27.0,22.0,10.0,16.0,14.0,null,3.0,null,null,19.0,12.0,2.0,21.0,51.0,13.0,18.0,20.0,9.0,null,7.0,5.0,11.0,19.0,16.0,8.0,3.0,3.0,48.0,18.0,null,13.0,19.0,11.0,51.0,3.0,16.0,null,21.0,8.0,null,5.0,24.0,5.0,45.0,74.0,17.0,2.0,7.0,8.0,3.0,null,10.0,8.0,33.0,8.0,31.0,17.0,4.0,23.0,19.0,10.0,5.0,11.0,9.0,null,13.0,12.0,4.0,29.0,null,6.0,9.0,25.0,1.0,10.0,12.0,null,10.0,23.0,null,20.0,14.0,32.0,14.0,20.0,null,31.0,10.0,17.0,null,32.0,12.0,22.0,10.0,null,12.0,23.0,15.0,12.0,18.0,null,14.0,13.0,null,13.0,5.0,10.0,18.0,14.0,12.0,null,8.0,23.0,30.0,6.0,34.0,13.0,16.0,3.0,41.0,26.0,27.0,6.0,null,15.0,7.0,16.0,30.0,19.0,58.0,3.0,18.0,8.0,6.0,null,4.0,19.0,null,5.0,4.0,null,22.0,1.0,20.0,41.0,17.0,null,11.0,15.0,10.0,20.0,17.0,11.0,7.0,18.0,null,5.0,4.0,9.0,1.0,12.0,5.0,13.0,15.0,14.0,25.0,17.0,6.0,3.0,8.0,24.0,20.0,44.0,21.0,null,14.0,1.0,4.0,12.0,11.0,null,8.0,26.0,5.0,7.0,25.0,16.0,11.0,10.0,23.0,4.0,19.0,12.0,20.0,9.0,6.0,9.0,19.0,14.0,10.0,18.0,11.0,25.0,34.0,6.0,16.0,3.0,15.0,4.0,12.0,2.0,5.0,15.0,null,1.0,17.0,9.0,8.0,null,13.0,22.0,63.0,45.0,24.0,17.0,null,16.0,15.0,23.0,null,9.0,16.0,12.0,15.0,6.0,8.0,11.0,4.0,19.0,26.0,8.0,29.0,16.0,9.0,39.0,4.0,17.0,4.0,5.0,12.0,4.0,11.0,12.0,17.0,16.0,8.0,15.0,20.0,7.0,12.0,8.0,14.0,8.0,null,40.0,16.0,9.0,14.0,10.0,3.0,10.0,8.0,16.0,7.0,4.0,29.0,14.0,null,10.0,42.0,25.0,7.0,20.0,6.0,49.0,21.0,16.0,2.0,2.0,32.0,1.0,18.0,31.0,18.0,11.0,11.0,10.0,14.0,18.0,4.0,11.0,7.0,13.0,10.0,6.0,16.0,3.0,null,10.0,13.0,23.0,0.0,null,11.0,17.0,null,1.0,20.0,17.0,46.0,3.0,null,15.0,17.0,3.0,7.0,20.0,11.0,10.0,6.0,null,9.0,8.0,9.0,30.0,39.0,27.0,21.0,29.0,20.0,null,9.0,10.0,18.0,19.0,24.0,null,3.0,17.0,17.0,null,15.0,23.0,12.0,7.0,9.0,55.0,null,9.0,11.0,22.0,null,null,16.0,15.0,11.0,7.0,6.0,7.0,18.0,null,9.0,20.0,13.0,20.0,24.0,20.0,3.0,34.0,5.0,16.0,7.0,null,8.0,18.0,17.0,41.0,11.0,null,18.0,10.0,19.0,49.0,null,84.0,5.0,9.0,null,16.0,12.0,29.0,19.0,4.0,15.0,14.0,5.0,1.0,1.0,16.0,10.0,0.0,4.0,14.0,9.0,9.0,null,13.0,null,14.0,8.0,8.0,7.0,24.0,7.0,6.0,2.0,15.0,23.0,7.0,16.0,4.0,7.0,20.0,12.0,12.0,16.0,6.0,3.0,37.0,25.0,18.0,7.0,12.0,11.0,17.0,null,6.0,5.0,32.0,9.0,8.0,12.0,2.0,1.0,15.0,3.0,9.0,27.0,8.0,7.0,28.0,5.0,6.0,null,11.0,42.0,null,9.0,10.0,17.0,3.0,11.0,26.0,7.0,4.0,20.0,25.0,11.0,15.0,5.0,36.0,25.0,3.0,14.0,11.0,6.0,4.0,6.0,null,33.0,11.0,9.0,null,1.0,1.0,11.0,16.0,6.0,7.0,2.0,null,9.0,null,31.0,13.0,1.0,17.0,2.0,10.0,null,3.0,15.0,17.0,0.0,15.0,11.0,29.0,null,16.0,10.0,11.0,null,7.0,4.0,24.0,21.0,null,13.0,13.0,12.0,6.0,null,4.0,null,23.0,16.0,18.0,2.0,18.0,15.0,8.0,1.0,28.0,8.0,10.0,19.0,12.0,11.0,22.0,20.0,null,11.0,29.0,12.0,7.0,null,23.0,11.0,null,12.0,9.0,22.0,6.0,12.0,16.0,5.0,16.0,3.0,4.0,2.0,24.0,17.0,1.0,16.0,6.0,18.0,16.0,18.0,9.0,6.0,9.0,16.0,13.0,5.0,null,14.0,null,36.0,9.0,47.0,36.0,11.0,7.0,16.0,12.0,18.0,1.0,13.0,null,3.0,41.0,10.0,0.0,9.0,25.0,17.0,null,15.0,22.0,8.0,24.0,20.0,6.0,16.0,1.0,15.0,17.0,16.0,15.0,32.0,9.0,11.0,8.0,21.0,29.0,11.0,5.0,5.0,3.0,8.0,11.0,9.0,47.0,11.0,46.0,13.0,10.0,25.0,null,null,7.0,null,5.0,6.0,35.0,14.0,8.0,4.0,11.0,10.0,18.0,67.0,23.0,14.0,11.0,10.0,null,12.0,5.0,29.0,11.0,null,1.0,19.0,3.0,8.0,null,12.0,2.0,16.0,18.0,12.0,9.0,8.0,28.0,15.0,9.0,28.0,3.0,12.0,null,3.0,11.0,1.0,12.0,25.0,null,33.0,7.0,14.0,32.0,9.0,1.0,9.0,5.0,26.0,10.0,26.0,2.0,31.0,null,7.0,2.0,4.0,18.0,17.0,11.0,1.0,9.0,5.0,3.0,23.0,15.0,21.0,null,13.0,12.0,16.0,4.0,null,10.0,null,6.0,22.0,18.0,13.0,19.0,14.0,7.0,21.0,12.0,null,34.0,13.0,10.0,15.0,58.0,5.0,25.0,13.0,13.0,5.0,23.0,5.0,7.0,10.0,21.0,18.0,12.0,4.0,4.0,1.0,null,19.0,6.0,17.0,5.0,null,20.0,7.0,21.0,3.0,17.0,4.0,11.0,19.0,16.0,11.0,26.0,7.0,2.0,9.0,18.0,3.0,11.0,8.0,1.0,null,11.0,12.0,25.0,23.0,8.0,3.0,23.0,10.0,53.0,18.0,16.0,10.0,9.0,20.0,null,7.0,4.0,22.0,17.0,2.0,11.0,32.0,11.0,22.0,null,14.0,14.0,33.0,16.0,7.0,4.0,17.0,11.0,1.0,12.0,5.0,9.0,6.0,18.0,5.0,19.0,8.0,12.0,23.0,1.0,2.0,11.0,21.0,34.0,8.0,null,6.0,6.0,4.0,8.0,15.0,2.0,10.0,null,9.0,0.0,6.0,19.0,null,4.0,11.0,15.0,22.0,11.0,4.0,null,15.0,null,18.0,55.0,6.0,4.0,5.0,10.0,8.0,16.0,44.0,14.0,null,8.0,6.0,7.0,18.0,22.0,16.0,26.0,31.0,18.0,8.0,13.0,6.0,18.0,14.0,25.0,11.0,6.0,20.0,8.0,6.0,null,37.0,null,2.0,20.0,null,null,null,null,12.0,41.0,4.0,13.0,24.0,2.0,27.0,4.0,3.0,8.0,12.0,5.0,7.0,24.0,11.0,11.0,17.0,23.0,4.0,10.0,22.0,21.0,11.0,28.0,18.0,21.0,9.0,1.0,19.0,53.0,11.0,21.0,37.0,24.0,12.0,12.0,2.0,20.0,28.0,null,54.0,null,null,6.0,30.0,48.0,null,13.0,null,5.0,4.0,1.0,11.0,16.0,9.0,24.0,3.0,10.0,9.0,22.0,19.0,12.0,8.0,11.0,35.0,17.0,36.0,34.0,9.0,6.0,3.0,11.0,14.0,null,20.0,6.0,5.0,1.0,13.0,8.0,2.0,10.0,9.0,10.0,23.0,5.0,15.0,10.0,13.0,7.0,17.0,13.0,null,11.0,14.0,26.0,null,20.0,2.0,39.0,37.0,3.0,3.0,33.0,6.0,null,3.0,7.0,9.0,22.0,6.0,11.0,25.0,13.0,13.0,null,5.0,68.0,null,9.0,6.0,5.0,5.0,21.0,29.0,18.0,1.0,4.0,29.0,27.0,null,null,7.0,12.0,30.0,11.0,null,5.0,29.0,null,11.0,null,2.0,16.0,30.0,22.0,6.0,4.0,4.0,27.0,4.0,null,9.0,30.0,null,16.0,15.0,17.0,5.0,7.0,1.0,null,19.0,2.0,13.0,15.0,10.0,28.0,4.0,4.0,32.0,23.0,12.0,36.0,25.0,5.0,9.0,16.0,19.0,13.0,8.0,24.0,null,13.0,1.0,21.0,26.0,3.0,6.0,12.0,null,17.0,1.0,null,null,11.0,null,7.0,6.0,20.0,8.0,null,5.0,10.0,9.0,11.0,null,4.0,27.0,12.0,16.0,8.0,null,14.0,21.0,14.0,null,15.0,23.0,10.0,null,13.0,11.0,20.0,22.0,11.0,4.0,8.0,21.0,9.0,4.0,17.0,4.0,14.0,3.0,6.0,15.0,10.0,39.0,20.0,10.0,3.0,5.0,null,4.0,1.0,9.0,1.0,18.0,3.0,null,10.0,10.0,36.0,2.0,11.0,11.0,12.0,8.0,15.0,8.0,18.0,17.0,6.0,18.0,23.0,25.0,22.0,20.0,2.0,11.0,11.0,null,19.0,7.0,15.0,null,26.0,22.0,27.0,21.0,3.0,18.0,null,6.0,null,17.0,43.0,18.0,21.0,8.0,9.0,null,15.0,13.0,12.0,14.0,9.0,18.0,null,17.0,21.0,23.0,16.0,22.0,2.0,16.0,7.0,8.0,14.0,2.0,14.0,17.0,20.0,12.0,7.0,3.0,12.0,17.0,21.0,19.0,16.0,2.0,3.0,null,16.0,22.0,13.0,17.0,7.0,2.0,10.0,1.0,13.0,13.0,20.0,19.0,15.0,10.0,11.0,21.0,80.0,5.0,14.0,8.0,15.0,14.0,16.0,11.0,4.0,7.0,6.0,14.0,7.0,null,16.0,5.0,null,16.0,12.0,20.0,35.0,4.0,4.0,24.0,null,16.0,9.0,5.0,2.0,17.0,17.0,18.0,18.0,17.0,19.0,11.0,15.0,null,6.0,17.0,null,6.0,11.0,13.0,23.0,9.0,5.0,16.0,24.0,5.0,null,9.0,null,6.0,16.0,37.0,5.0,13.0,9.0,8.0,14.0,20.0,12.0,12.0,8.0,3.0,5.0,17.0,1.0,21.0,null,26.0,5.0,null,12.0,21.0,19.0,23.0,null,null,7.0,5.0,null,14.0,4.0,null,11.0,null,16.0,5.0,16.0,2.0,15.0,18.0,21.0,18.0,32.0,null,20.0,8.0,18.0,6.0,4.0,9.0,null,null,14.0,36.0,13.0,5.0,25.0,26.0,7.0,11.0,42.0,14.0,6.0,17.0,10.0,1.0,25.0,3.0,9.0,5.0,null,null,9.0,null,10.0,null,22.0,null,8.0,15.0,33.0,1.0,16.0,18.0,34.0,19.0,9.0,10.0,null,24.0,8.0,1.0,17.0,3.0,1.0,12.0,6.0,23.0,12.0,17.0,18.0,14.0,5.0,11.0,10.0,null,11.0,9.0,38.0,14.0,27.0,10.0,14.0,7.0,18.0,9.0,null,19.0,25.0,15.0,8.0,1.0,8.0,7.0,null,12.0,6.0,null,null,null,11.0,35.0,10.0,10.0,9.0,11.0,21.0,23.0,48.0,29.0,1.0,null,null,null,11.0,15.0,8.0,null,13.0,11.0,14.0,18.0,15.0,12.0,8.0,9.0,5.0,6.0,null,7.0,34.0,5.0,8.0,8.0,14.0,14.0,65.0,26.0,32.0,18.0,30.0,32.0,null,21.0,null,32.0,1.0,18.0,null,7.0,15.0,2.0,15.0,0.0,null,46.0,8.0,13.0,29.0,16.0,9.0,null,5.0,6.0,21.0,6.0,6.0,4.0,9.0,29.0,5.0,6.0,3.0,9.0,29.0,44.0,7.0,4.0,42.0,null,12.0,13.0,null,6.0,3.0,6.0,29.0,null,11.0,28.0,null,17.0,17.0,2.0,15.0,20.0,32.0,15.0,4.0,14.0,15.0,1.0,3.0,8.0,14.0,4.0,24.0,26.0,18.0,12.0,null,17.0,4.0,6.0,2.0,3.0,12.0,9.0,2.0,8.0,15.0,8.0,3.0,17.0,10.0,20.0,3.0,9.0,22.0,12.0,20.0,9.0,5.0,6.0,5.0,null,12.0,null,null,null,14.0,24.0,22.0,9.0,8.0,8.0,null,17.0,12.0,null,null,8.0,11.0,2.0,6.0,52.0,18.0,9.0,10.0,2.0,null,8.0,null,8.0,6.0,12.0,3.0,null,26.0,14.0,5.0,9.0,23.0,null,8.0,40.0,14.0,11.0,18.0,18.0,null,5.0,13.0,27.0,5.0,23.0,13.0,25.0,21.0,44.0,5.0,23.0,null,15.0,7.0,3.0,5.0,null,8.0,5.0,10.0,19.0,7.0,20.0,10.0,10.0,12.0,8.0,11.0,16.0,9.0,9.0,5.0,null,17.0,12.0,19.0,16.0,2.0,47.0,19.0,null,25.0,10.0,11.0,27.0,3.0,25.0,10.0,20.0,null,14.0,8.0,11.0,22.0,12.0,11.0,8.0,9.0,3.0,17.0,14.0,19.0,null,null,3.0,28.0,14.0,5.0,8.0,12.0,11.0,4.0,null,10.0,9.0,15.0,7.0,15.0,13.0,10.0,5.0,7.0,10.0,null,null,6.0,2.0,12.0,12.0,20.0,11.0,null,9.0,15.0,null,24.0,6.0,8.0,3.0,13.0,7.0,2.0,35.0,32.0,null,10.0,7.0,6.0,14.0,11.0,15.0,1.0,6.0,11.0,null,12.0,23.0,14.0,9.0,44.0,6.0,8.0,7.0,30.0,15.0,14.0,null,31.0,17.0,19.0,16.0,13.0,null,20.0,16.0,22.0,5.0,14.0,12.0,10.0,22.0,17.0,13.0,9.0,null,5.0,2.0,9.0,null,null,21.0,4.0,2.0,9.0,12.0,3.0,11.0,21.0,5.0,1.0,25.0,5.0,16.0,8.0,null,7.0,14.0,15.0,6.0,27.0,25.0,8.0,4.0,21.0,9.0,13.0,11.0,10.0,null,4.0,4.0,null,19.0,null,6.0,7.0,26.0,24.0,11.0,39.0,15.0,32.0,12.0,8.0,8.0,12.0,12.0,4.0,5.0,15.0,14.0,14.0,0.0,20.0,1.0,14.0,null,27.0,17.0,1.0,4.0,15.0,null,null,5.0,13.0,1.0,26.0,9.0,10.0,19.0,22.0,11.0,9.0,13.0,23.0,14.0,null,8.0,11.0,6.0,10.0,7.0,24.0,6.0,5.0,35.0,1.0,11.0,14.0,13.0,2.0,25.0,null,13.0,9.0,15.0,4.0,7.0,21.0,15.0,7.0,26.0,47.0,null,null,3.0,15.0,null,null,11.0,3.0,7.0,8.0,3.0,null,null,7.0,12.0,6.0,null,15.0,9.0,13.0,11.0,47.0,11.0,null,7.0,9.0,20.0,52.0,6.0,16.0,21.0,null,20.0,6.0,13.0,1.0,13.0,19.0,12.0,7.0,24.0,42.0,17.0,7.0,4.0,1.0,45.0,null,9.0,17.0,18.0,null,0.0,28.0,4.0,18.0,null,null,23.0,9.0,5.0,13.0,9.0,23.0,5.0,24.0,19.0,15.0,null,14.0,10.0,11.0,10.0,2.0,9.0,19.0,null,32.0,9.0,17.0,21.0,4.0,10.0,12.0,11.0,22.0,null,2.0,25.0,24.0,14.0,8.0,null,10.0,32.0,4.0,4.0,12.0,null,8.0,2.0,21.0,6.0,7.0,null,4.0,13.0,11.0,13.0,null,6.0,9.0,null,20.0,3.0,6.0,15.0,7.0,null,28.0,23.0,33.0,10.0,4.0,11.0,15.0,10.0,2.0,26.0,10.0,12.0,12.0,25.0,9.0,19.0,3.0,36.0,16.0,17.0,11.0,10.0,9.0,1.0,45.0,null,3.0,10.0,8.0,8.0,36.0,21.0,1.0,11.0,2.0,null,22.0,23.0,12.0,16.0,27.0,22.0,14.0,9.0,null,14.0,9.0,20.0,11.0,20.0,20.0,3.0,12.0,18.0,23.0,6.0,20.0,15.0,null,null,null,10.0,null,4.0,11.0,11.0,19.0,5.0,9.0,2.0,null,15.0,31.0,2.0,62.0,4.0,18.0,8.0,14.0,3.0,49.0,null,8.0,25.0,0.0,9.0,2.0,null,9.0,9.0,null,4.0,34.0,13.0,5.0,15.0,10.0,35.0,12.0,12.0,23.0,11.0,10.0,9.0,9.0,14.0,17.0,1.0,4.0,11.0,null,9.0,37.0,17.0,22.0,3.0,61.0,6.0,33.0,21.0,13.0,10.0,16.0,10.0,8.0,10.0,null,10.0,11.0,12.0,5.0,13.0,4.0,null,12.0,1.0,9.0,2.0,8.0,5.0,16.0,7.0,28.0,10.0,9.0,27.0,5.0,20.0,null,18.0,12.0,3.0,36.0,10.0,23.0,null,40.0,16.0,5.0,4.0,23.0,14.0,17.0,null,17.0,30.0,27.0,10.0,2.0,18.0,null,6.0,8.0,null,null,6.0,6.0,8.0,8.0,14.0,5.0,10.0,33.0,15.0,16.0,10.0,null,10.0,14.0,13.0,null,18.0,14.0,5.0,6.0,15.0],\"xaxis\":\"x\",\"y\":[1910.61,1659.52,4721.180000000002,20859.7,463.3300000000001,30647.93,1289.49,3560.0,2567.12,1680.0,2699.66,1937.72,383.0,170.47000000000003,2341.83,3142.0,50.0,3970.0,1295.31,1619.76,484.92999999999984,12260.13,3014.8300000000004,650.4300000000001,67.36,10293.23,155.98,361.23,6750.76,1842.0,1170.28,1169.51,1200.0,6914.62,909.3,523.0,19359.67,5285.1,3561.68,356.03,1877.21,30825.49000000001,14357.19,1304.81,2489.4,7121.46,3521.79,3114.7899999999995,7727.379999999999,388.89,1400.0,5001.21,2564.15,9214.63,14183.050000000008,343.59000000000003,670.6,2239.27,6465.78,20373.79,3588.71,453.84,2261.21,2499.27,2816.7400000000007,560.0,391.04,5430.9400000000005,750.0,2829.46,5738.710000000001,2541.9300000000003,3494.57,11486.39,90.3,89.94,1660.34,773.0,6450.0,2594.26,1843.62,1069.15,600.0,1309.29,1069.05,5751.869999999999,23403.150000000005,152.02000000000004,3370.19,2752.42,1500.0,1295.01,11143.6,400.0,2758.39,26328.660000000003,1657.96,68.03999999999999,1809.51,1360.0,797.41,6089.45,490.53,875.08,8221.869999999999,20611.18,4806.95,1660.69,5834.58,28194.79,8802.45,1451.19,2833.8,2479.78,8979.56,3160.83,1094.98,1274.954469339692,659.8899999999999,16141.21,60739.67,17321.559999999994,363.53,9476.14,17754.61,350.0,13999.619999999995,99.79,5577.740000000001,1650.0,8011.160000000002,9535.81,2664.67,2115.79,670.2600000000001,414.37,2128.67,1764.02,4923.620000000002,6454.14,930.0,500.0,1799.63,7290.0,3380.05,7693.77,10665.96,3350.0,4297.57,1559.21,1530.24,9628.1,272.76,1414.31,13891.6,1658.35,2744.47,2929.48,680.0,33328.27999999999,11756.94,18199.24,13648.43,16098.999999999996,3914.82,22785.489999999994,150.42,4738.409999999999,1370.81,2773.6000000000004,745.41,11052.83,49.15,7563.57,791.5699999999999,13100.16,14331.05,3756.75,323.65,734.58,1170.1700000000003,7025.969999999999,1360.0,2400.0,4801.12,9335.24,2950.99,29355.550000000003,700.0,3717.31,15204.640000000005,1290.99,689.26,5449.86,10053.55,904.09,370.34,8106.48,600.0,56289.46,7460.0,6093.36,7917.639999999999,1813.03,1658.02,5842.349999999998,1837.43,400.0,5295.21,3370.0,494.86,2938.91,26657.19,1175.64,5686.7,1440.84,26349.820000000003,24372.090000000004,200.38,1361.35,1487.3,3549.76,490.19,18729.22,625.11,795.2,999.79,4130.0,8169.95,5648.930000000001,4733.429999999999,2939.36,7000.0,9485.65,837.8599999999999,4598.73,2950.0,449.86,219.02,8337.08,5202.1,399.99,988.89,6390.320000000001,2539.44,3229.05,724.6,1704.21,23173.360000000004,20626.27,50.0,8003.64,9329.989999999998,14395.27,1995.22,8137.519999999999,6299.57,523.11,26930.19,2250.55,1873.84,975.7,8011.25,9626.479999999998,23.0,1519.85,157.68,2699.54,2519.28,296.75,1400.0,31948.08,3114.53,2500.0,672.96,1529.06,2468.61,5243.419999999998,152.07,2020.0,839.9499999999999,17255.21,1497.9,8545.02,573.27,12530.62,10142.28,4745.770000000001,2524.73,3137.82,11655.979999999996,20576.61,4041.4500000000007,46110.55000000001,58010.76,28700.0,11505.63,895.4,303.28,3322.9,666.4799999999999,3571.2499999999995,705.8199999999999,3570.0,3842.26,16773.35,1579.5,1200.0,256.24,3270.09,6962.74,2080.71,580.68,661.25,10035.6,6722.76,12429.05,305.65000000000003,1053.8100000000002,5893.469999999999,1350.0,2357.48,6853.82,15844.01,56.24,4182.45,5973.59,978.76,5308.76,7315.24,435.56,6348.73,1988.35,1246.39,1081.77,3573.63,2679.91,203.3,7599.44,3659.72,543.43,20146.870000000003,1020.1,5273.85,4856.46,1311.64,979.16,21648.62,877.6400000000001,1036.38,1050.0,1350.0,1679.54,3519.8600000000006,4315.0,2707.23,3983.58,2970.0,8541.93,842.9900000000001,1660.74,2272.26,7329.699999999999,2154.4700000000003,4010.0,350.0,926.44,1130.0,322.7199999999999,2236.78,3666.48,83246.44,1490.12,4100.0,4317.33,2284.94,5227.839999999999,13267.19,11179.32,5630.74,500.0,8625.859999999999,748.46,855.55,8490.66,11400.12,8.11,5300.0,43599.44,550.25,1919.55,617.9399999999998,2739.69,152.26,13799.36,805.5400000000001,2499.5,1657.39,993.78,2370.0,6045.8200000000015,86.72,2400.0,1660.86,1120.65,2207.98,2240.02,700.0,8356.71,1656.95,863.76,767.52,13299.35,2830.0,72159.55000000002,478.93,2137.06,134.84,3249.91,1137.3,1276.91,1810.81,1803.06,7447.0,1325.34,7726.579999999998,1658.02,50.0,1657.22,224.51,6027.5,10703.82,202.59,3790.78,2766.69,4043.3,52103.630000000005,9490.06,1953.61,17874.089999999993,1000.0,2491.28,339.19000000000005,32790.42,393.14,6019.419999999999,8704.960000000001,50.0,1924.17,10078.5,8440.59,2209.18,927.54,3668.7,15399.85,6498.23,50.0,378.88,1848.73,1271.27,5289.720000000001,410.0,2850.05,777.24,5221.57,856.96,2307.37,2370.5,14415.78,2811.1600000000008,1345.18,2260.0,2750.0,106.56,1179.74,1658.5,3232.07,165.14999999999998,10674.57,850.0,3152.33,3089.72,7361.68,56.06,4118.110000000001,350.0,49.45,3023.4800000000005,3130.07,4542.530000000001,1214.02,420.0,1886.58,90974.64,29999.7,1457.54,680.0,433.75,1544.74,10457.600000000004,111.51,6429.91,7294.2,3074.99,107.48,1200.0,2372.73,1200.0,16418.21,25301.51,1296.9499999999998,4088.58,1319.92,7787.96,3924.2494103289255,1316.32,57.99,3020.0,350.0,1210.5700000000002,2756.57,715.35,50.0,2558.73,930.56,21199.12,700.0,50.0,1385.61,2501.62,3568.15,6042.05,5636.18,600.0,3305.99,992.01,36147.76,2312.31,4185.25,5042.470000000001,4283.82,3872.11,4633.0,7968.249999999998,12956.089999999998,473.5099999999999,16468.320000000003,52131.5,726.18,25242.43,1059.61,60620.79,7815.97,4289.81,10496.71,530.0,1893.9,1499.8200000000002,3770.5,16727.33,500.0,820.0,41245.59,1989.62,1950.0,2771.699999999999,360.71,1666.0,1600.0,13504.81,10144.65,6310.76,11155.97,18238.09,509.66,2289.14,10546.55,467.7999999999999,193.84,1397.94,3397.88,8316.96,1350.4,7742.719999999997,1779.12,850.54,18961.81,8489.1,6979.66,469.42,4659.38,319.91,8460.0,1658.25,1923.09,21074.06,2202.29,2761.59,2738.44,362.25,522.5100000000001,2750.0,1676.83,5499.76,2100.0,1660.32,14008.67,139.51,2449.68,408.57,8199.14,1090.0,6325.84,4800.0,4185.29,2156.19,2666.38,2812.04,628.44,36292.11,1757.12,1267.4,1656.36,1000.16,34642.48,500.4100000000001,1748.92,12264.38,11107.55,10713.04,800.0,19284.76,9611.33,3317.32,600.0,2580.0,1000.0,350.0,6409.27,10468.46,264.39,13962.04,992.22,4154.07,7257.65,1656.59,1530.0,18249.79,1679.66,3757.62,1236.72,1380.0,1290.0700000000002,3407.03,3599.48,1399.62,1659.9,3993.04,4349.71,688.8999999999999,11154.020000000002,4921.810000000003,218.7,1661.24,11759.169999999998,1344.27,14691.02,190.65,34234.65,3385.0,13796.76,1062.43,4238.53,1350.0,1042.71,1657.9,42766.67,1756.27,1043.6,562.2500000000001,542.02,3199.6800000000003,125.59,12187.03,4900.0,7170.150000000001,927.6,7651.63,721.95,3086.32,13810.19,4690.0,3238.82,70.94,1031.04,2479.63,5298.68,1661.01,411.69999999999993,700.0,529.44,427.08,2445.92,10567.980000000003,900.0,4044.87,2500.13,7150.0,1019.78,2866.31,1542.0,11898.64,4065.26,6089.610000000001,12350.12,9362.94,1619.47,1004.19,5676.25,857.3600000000001,490.01,2863.2,20047.969999999998,25543.31,1683.9299999999998,850.0,2691.25,152.35,4818.43,5783.84,10455.45,1311.1899999999998,202.0,1920.45,10195.87,16413.14,1411.42,8690.560000000001,560.0,2404.0,701.59,1660.7399999999998,558.04,500.0,6898.99,284.65,893.21,1293.38,1661.9699999999998,1657.53,507.35,954.63,5279.1,3999.9,406.05,79.02,8959.170000000002,5832.0,629.79,1000.0,16429.780000000002,10303.86,5634.13,454.19,578.66,43735.19,16601.29,1659.39,15627.379999999996,3030.0,721.29,1819.13,4630.929999999999,1050.39,650.0,1839.38,1081.07,1633.27,2597.330000000001,979.32,1657.29,2816.36,1657.29,2729.01,1941.13,699.45,2678.22,6645.82,8031.490000000002,50.95,2849.0,226.41,4731.55,513.55,1496.69,2919.7,3610.65,7080.06,1567.0,1656.9299999999998,1510.0,12315.66,639.0600000000001,100.0,11169.72,400.0,1483.4900000000002,709.74,2575.5399999999995,2100.0,3465.9299999999994,13157.12,20000.0,8666.41,4016.55,24380.05,375.0,24.47,1007.52,2840.4,5673.349999999999,2539.8500000000004,1510.0,7063.409999999999,489.71,1012.68,209.32,24786.86,160.1,300.65000000000003,425.95,21299.960000000003,21794.26999999999,20275.38,5437.2,691.31,6895.23,10321.21,2833.67,451.01,20760.59,5041.33,7234.25,1017.77,787.89,278.22,1200.0,2286.15,1270.83,22477.09,2883.4,557.6999999999999,1980.0,34269.69,444.15,226.05,154.55,507.18,15560.860000000002,5177.98,1656.66,3108.6800000000003,821.44,1207.51,541.42,4526.02,12356.42,5899.2300000000005,2226.09,13836.3,2344.54,5174.09,2070.0,139.37,6449.200000000001,2036.81,1427.42,161.57,2681.43,3269.69,20418.370000000003,1979.05,3506.8100000000004,27.5,1175.23,153.32999999999998,982.65,4648.16,7452.640000000001,6892.719999999998,0.44,5721.92,1058.84,19734.17,3710.0,950.74,611.01,1269.98,3225.66,3074.61,1889.35,1752.3200000000002,5699.59,12870.109999999991,4238.139999999999,4295.550000000001,1599.95,5850.17,5561.19,1056.65,1000.0,14966.34,62412.24999999999,9306.59,1442.3700000000003,320.15,732.6,1762.25,1750.0,1656.91,3188.41,1309.49,2016.0,697.8700000000001,6200.0,4625.93,16499.58,800.0,563.39,9426.37,3268.12,14924.840000000002,599.61,3065.96,3424.25,9104.36,583.54,683.5899999999999,2000.7200000000005,5399.66,1660.9499999999998,1350.0,12045.09,1426.55,748.46,6516.9400000000005,700.0,1250.0,910.0,2228.77,20784.19,1627.07,4447.280000000001,5226.59,543.98,1658.57,288.25,1400.0,538.55,2939.92,4800.0,3172.07,1510.0,730.0,9412.92,329.94,1658.54,639.45,7377.96,350.0,6382.0,4112.22,9477.33,1247.21,7789.42,1550.9399999999996,479.0700000000001,150.0,1888.78,4692.99,2436.04,12131.069999999998,1069.93,11932.72,3925.15,8369.2,2290.0,5741.51,9336.61,1657.9299999999998,2531.9,11155.830000000002,2109.22,2461.07,8528.61,7877.54,10359.12,21017.240000000005,816.29,2087.29,943.52,3515.96,1891.12,11254.14,7415.25,20699.48,7239.050000000001,3122.0800000000004,26324.23,3471.16,4394.57,4332.889999999999,39111.240000000005,669.64,6710.91,9531.61,154.87,75486.95999999999,489.5,2110.03,1289.88,4957.8,1365.6500000000003,1372.67,4651.03,10306.639999999998,1912.52,496.13999999999993,764.57,2362.44,62647.06,1083.2899999999995,16996.76,900.0,3642.480000000001,6869.04,1710.54,23153.97,2500.0,5996.51,10134.389999999996,1111.7,2680.8,14288.37,1265.82,14471.889999999998,1262.65,2091.65,758.4699999999999,2338.6,23959.41,4680.88,20211.31,4018.0,62557.36,8677.63,1431.42,7621.070000000001,888.37,11272.94,21043.19,4479.8,9262.38,261.61,5196.650000000002,24374.630000000005,10480.110000000002,2473.79,5538.7300000000005,3536.13,6810.03,2325.63,35879.93,450.0,9407.42,12509.53,519.72,155.18,892.11,500.1,2636.32,10699.44,848.94,435.25,17315.62,1640.0,1349.2200000000005,1155.0,2399.5099999999998,5976.88,1657.15,27996.870000000003,26089.77,5197.200000000001,1661.13,1230.71,1716.1,17528.749999999996,6129.72,1506.29,550.0,2088.09,366.19999999999993,1585.0,8130.78,1753.0700000000002,5407.88,2734.41,1000.0,3061.9,235.78,1204.19,2009.93,1666.0,288.69000000000005,14163.57,1919.89,1199.3,11396.97,6831.87,1149.9499999999996,366.44,226.85,2881.76,1218.9199999999998,17019.75,32670.19,1200.0,11372.41,154.23,1471.97,474.27,3348.78,2036.69,8903.21,1098.69,1666.0,2239.6,11489.99,2259.38,1658.37,8228.52,2284.23,1579.58,11117.37,3429.4800000000005,3457.26,825.36,12919.000000000004,3282.99,15207.12,1000.0,1192.09,1179.91,16983.94,840.73,360.99,4279.889999999999,2972.08,652.39,3630.0,30689.300000000003,2031.46,470.57,220.22,1959.3,7976.369999999999,1315.36,3940.0,2930.0,1151.9099999999996,18827.96,8360.83,5561.150000000003,14121.91,1176.84,1889.2,1024.76,1704.2,7773.75,72.97999999999999,2295.81,3138.0200000000004,8058.84,4690.23,19303.779999999995,9902.7,8123.81,20312.57,850.0,700.0,5720.589999999999,6278.9,6159.679999999999,11250.0,7655.78,4801.32,615.0,5682.889999999999,1322.33,541.77,1105.59,2156.6800000000003,10545.91,5961.530000000001,997.01,3760.0,23948.54999999999,22029.25,65521.43,711.9900000000001,5451.9,568.42,1657.8,6701.46,825.0,1200.0,2694.119999999999,1170.0,27171.160000000003,3479.12,269.48,809.04,500.0,2500.0,1272.6999999999998,9212.96,11978.3,425.98,5053.889999999999,59.44,2021.06,1126.62,9514.74,6942.61,1430.24,9478.230000000003,752.6900000000002,787.9899999999999,2946.34,1012.39,320.7,3750.0,6736.4800000000005,5632.610000000001,2935.34,1145.1300000000006,4678.49,1709.1600000000003,595.98,369.4500000000001,825.0,20939.53,4578.39,13169.47,9962.04,1659.48,3702.51,16144.44,1000.0,7368.909999999998,43680.02,3564.0,5700.67,2030.0,1410.0,349.18,100.0,1193.4299999999998,2668.37,602.28,1444.31,3645.22,1057.05,1665.4,989.86,7694.380000000001,414.81,14.71,650.07,1542.53,1025.0,3393.12,600.0,489.52,14615.97,4239.6,161.5,2390.99,999.16,392.8700000000001,1661.74,1991.92,11829.683365280322,2292.18,6052.019999999999,2844.2300000000005,2750.5600000000004,361.56000000000006,3556.24,7707.46,262.47,1865.5999999999992,25494.050000000003,4407.51,674.61,1714.13,680.0,220.65,21260.68000000001,28474.89,1914.71,2181.98,1755.19,8629.17,2100.6500000000005,33134.34,1046.75,3969.41,7808.43,2347.45,440.0,4996.35,1668.81,10186.9,2338.85,926.02,750.6200000000001,950.0,1811.39,15405.28,6285.06,500.0,1443.0,0.03,1709.35,1658.48,999.59,531.01,7192.28,1943.99,11514.63,5079.29,47129.46,2541.5199999999995,550.0,1658.45,1343.1400000000003,1657.6,1253.35,2308.4300000000003,425.61,2317.82,2500.0,21885.03,11339.78,1665.26,7468.63,2036.43,1923.29,3995.72,684.28,500.0,2810.3100000000013,797.3,6050.89,5609.84,2962.99,3500.0,17256.36,7499.900000000001,1325.0,8716.510000000002,3303.7,999.95,13864.98,131.1,1019.31,17942.25,2350.59,76.43,1717.5800000000002,6107.15,3175.76,1646.14,3870.02,16228.809999999998,2182.01,2241.33,42261.87,1199.14,800.0,1633.37,200.0,3653.86,10666.169999999998,1207.36,4367.81,1093.94,2230.0,3489.59,4809.0,8395.36,1892.31,27235.14,5670.46,357.13,1134.36,467.51,1661.4599999999998,1567.0,1671.53,1200.04,5654.0,1257.4799999999998,3194.05,233.83,1406.83,5749.51,9881.61,13580.37,1678.28,7596.87,1387.62,2813.6500000000005,1380.05,6201.360000000001,1921.51,8846.47,10012.889999999996,3776.55,650.05,1323.0000000000002,9554.62,350.0,2150.26,2583.61,713.3,1099.28,6278.98,13391.009999999997,718.52,1679.5,1137.69,96.51,1387.02,17470.010000000002,1270.0,8844.840000000002,3985.0,23458.67,10739.520000000002,18389.58,25771.489999999994,9929.89,909.68,12674.03,634.8,2263.79,449.01,10717.29,874.9100000000001,1226.8000000000002,7902.6100000000015,4097.57,37426.99000000001,674.02,6716.4800000000005,1945.57,500.0,399.5,3033.03,428.48,2001.8,7261.279999999999,181.5,2079.94,4875.7,6050.35,7998.84,2697.09,1760.0,6498.589999999999,311.02000000000004,909.18,477.22,1350.0,709.16,1214.42,1478.4,2801.63,16809.59,3584.2000000000003,1890.7,5524.809999999999,159.39,11529.81,4109.04,2100.0,2638.0,27461.84,16990.0,548.2099999999999,3032.15,1747.46,749.9,985.13,5908.849999999999,14253.04,350.0,1144.0,2021.78,984.78,9405.260000000002,20223.7,5194.55,18204.859999999997,8053.989999999999,50.0,1637.36,263.9,3240.25,50.69,17409.92,1555.44,24754.41,1479.9799999999998,29.44,1500.38,12729.960000000005,1262.58,3695.96,736.0699999999999,1287.83,213.69,1900.22,6999.429999999999,9004.36,16091.36,6142.549999999999,4963.26,27924.06,2877.0,1.0,7828.469999999999,2093.2699999999995,182.51,770.0,4686.58,304.82,1496.34,829.8,3634.92,12128.93,15909.88,3057.3,5760.0,13429.229999999998,3012.09,14017.05,14502.96,11579.71,3118.8199999999997,2750.0,7064.71,182.9,4008.94,6903.46,1660.01,2236.85,350.0,9140.5,6289.04,700.0,3000.0,4928.070000000001,6492.609999999998,1666.0,2205.28,2359.24,3070.46,30834.27,1020.0,2080.0,50.0,23181.08,6.28,3888.37,6811.26,4.05,2500.0,13061.74,1405.23,10625.56,1200.85,24189.92,421.36,5304.320000000001,5162.4400000000005,4839.830000000001,40451.46,550.0,6299.87,34110.61,400.0,30988.95,6470.49,11.21,46529.39,2681.7000000000003,4800.0,7257.350000000002,1946.52,4650.04,362.0999999999999,1630.93,1000.0,3050.0,769.9099999999999,3181.7,1647.9599999999998,331.29,2181.59,2410.05,60.0,1081.14,550.7499999999999,28280.0,2901.83,4779.95,3801.0,1000.0,1935.55,5828.41,2122.16,633.85,250.0,5222.9800000000005,3334.9,552.41,1075.0,6269.72,2729.51,1658.61,21219.0,13530.0,1148.92,930.54,16859.82,9286.69,1657.11,18755.23,2110.0,9847.13,505.21,5284.99,662.04,16846.99,14237.62,1002.13,937.79,3535.2300000000005,2673.27,1398.97,1393.9399999999998,39613.61,3720.61,549.48,1995.62,10663.93,17837.65,10716.0,1968.51,3609.0,1657.92,1452.59,679.99,596.7199999999999,10740.0,4990.560000000001,19492.49,3343.59,7080.0,1262.78,1105.03,414.68,6017.32,92.03,510.16,1889.65,7144.339999999997,1443.02,2009.16,409.38,3921.29,4838.659999999999,1350.0,21023.92,1656.78,1350.0,13641.23,2150.0,1720.21,904.0,1905.74,1567.0,13897.95,2332.13,963.09,3083.9300000000003,3327.82,1657.29,12035.13,3573.0,234.42,739.11,542.3299999999999,5110.929999999999,294.04,89.86,24498.15,411.03,2849.17,174.84,1738.14,2380.0,21554.42,12747.41,7119.78,412.67,2256.17,10478.63,32134.22,4153.0,9906.11,24303.48,368.02,2957.42,19744.04,4283.150000000001,350.0,1657.68,7404.129999999999,13139.989999999998,59868.76,1671.68,1230.02,5224.120000000002,2190.8499999999995,542.9399999999999,5549.7,4332.43,10474.27,28021.29,4273.17,522.68,8873.869999999999,801.97,615.65,202.7,11105.55,288.97,931.82,7674.68,19.2,425.08,9668.63,1819.18,24179.43,5477.74,1812.24,18105.28,18316.91,3170.0,1230.0,18689.43,2104.47,12432.79,347.14,3968.44,17546.199999999997,1209.31,2837.72,13413.879999999994,201.71,1600.0,11660.44,1400.0,2496.22,2131.380000000001,5287.360000000001,3496.1700000000005,8950.0,4000.0,2337.84,60.0,1112.34,530.0,89.97,9720.84,2022.95,1860.87,1173.0300000000002,6763.82,2145.0400000000004,3956.11,2592.38,5723.920000000001,108.82,1575.9,767.5,2120.98,5262.660000000001,424.3800000000001,7549.769999999998,6999.139999999999,1815.21,467.68,6992.24,500.0,9162.39,1983.0,1658.83,1511.4300000000003,10284.73,1473.06,1350.68,53.75,2640.0,19500.379999999997,999.48,116.95,5961.12,3430.24,52164.77,9869.83,1896.07,11890.04,151.55,1019.89,6300.0,5018.660000000001,3607.680000000001,4004.8,1159.05,20315.56,11884.73,6468.980000000002,14155.459999999995,1281.85,247.11,161.73,1656.8200000000002,560.0,5167.85,8035.030000000001,1422.65,5279.73,7039.5,23077.22,10776.38,2123.88,1600.0,16675.31,1658.76,1500.0,1059.96,1732.0,25808.42,162.36,1356.85,14321.55,3579.07,1660.32,2321.1000000000004,989.89,1340.82,1350.0,117.97,214.04,9791.84,7296.250000000001,1903.2000000000005,16923.459999999995,20700.000000000004,3257.91,25681.48,410.83,3136.87,15830.0,10656.34,2464.94,2071.1900000000005,9210.49,2119.06,962.21,577.22,13513.55,2133.27,2062.41,11205.75,1443.3,4575.919999999998,2300.0,31511.84,700.0,960.24,2290.34,99.99,8267.419999999996,10299.91,11813.67,7191.26,1199.3,2059.52,3101.51,400.0,3039.49,5587.579999999998,833.85,10044.4,1335.01,4065.5499999999993,4819.46,14714.51,3097.24,977.5,350.0,991.06,157230.12999999998,22.76,4321.570000000001,149.68,937.5700000000002,32165.17,1385.64,499.1,782.02,670.9,9722.33,2300.0,27.5,2505.6399999999985,500.0,1330.52,807.86,3704.02,1007.61,11829.49,457.63,8050.01,2029.36,46699.58,4470.0,2451.620000000001,4609.44,2916.9,1813.32,2370.0,9203.04,34192.82,3409.3499999999995,643.78,3017.52,249.82,227.03,1660.92,5241.84,24024.17,5834.72,581.75,148.9,5183.829999999998,4581.920000000001,9956.45,231.67000000000004,5137.53,350.0,1005.03,850.0,6328.08,1000.0,20.0,52088.24000000002,931.05,341.2900000000001,3003.18,1159.77,5389.090000000001,3005.4400000000005,1303.08,100.8,1100.0,431.62,18279.74,13038.52000000001,2412.2000000000003,3004.49,30439.04,5679.06,2500.0,2818.31,2060.33,5275.23,6312.31,5019.44,14985.0,19578.61,15638.24,1961.84,35368.009999999995,275.69,8016.519999999999,2100.82,53.74,9788.05,967.1899999999998,440.21,4043.98,761.58,325.1700000000001,2210.69,22730.980000000003,475.0,723.56,2555.8000000000006,187.83,1350.0,2132.54,749.12,2100.0,1658.47,2272.56,6864.060000000001,3632.52,9940.070000000002,775.0,5117.45,2252.24,25949.08,150.0,5368.11,9351.44,700.4300000000001,149.97,10123.09,13130.0,19272.4,1000.0,719.89,6222.36,2138.57,1446.73,50.0,2280.08,26682.06000000001,15268.21,5979.9400000000005,1549.87,199.81,1832.97,1275.0,60.43,2069.73,12364.99,6438.84,1453.71,13789.84,420.0,2693.02,907.7000000000004,2511.14,2305.52,453.9200000000001,1619.35,18344.36,525.4,1539.09,168.98,4499.650000000001,1300.0,623.07,6201.209999999998,6990.0,18714.009999999995,3008.73,499.92,3746.58,2330.62,1650.0,7195.64,3345.9800000000005,743.44,292.59,1560.0,11539.66,9250.0,13649.76,12140.0,759.4399999999998,1800.0,2391.75,360.4199999999999,11670.66,3103.98,1898.57,4219.79,5043.0,5085.0,1350.0,1166.2,3419.99,1567.0,5221.839999999997,12183.739999999998,6270.0,17353.32,3357.74,695.7,8709.279999999999,5000.71,987.53,234.86,6415.33,76.19000000000001,1299.01,13084.57,744.1300000000001,21063.729999999992,1600.0,514.69,1199.09,2130.0,414.32,3426.88,361.18,150.0,49.27,3460.0,2713.06,592.48,7275.06,1560.0,2865.0,1496.69,50.0,23230.184327468312,5522.660000000002,20406.3,50.0,690.09,2139.27,14595.409999999994,4507.07,2019.04,1550.0,6319.07,60.02,1065.74,3599.94,64.27000000000001,2499.94,3563.46,45431.19,4172.83,978.42,2544.03,1200.0,5110.77,16818.81,770.0,41125.12,4353.01,6173.3,3284.96,20324.07,2509.32,33.13,668.65,1760.0,1093.89,8883.399999999998,7540.22,19336.6,7874.99,350.0,4859.92,1666.0,1059.5,6125.32,1659.58,6299.99,516.94,4342.23,75.42,1549.3,1902.79,1131.26,5679.4,60.0,373.22,4344.039999999999,2749.15,176.97,8965.84,2407.12,3940.0,8669.19,8684.89,470.0,283.61,7861.929999999999,3560.04,309.18,5149.5,2691.43,850.0,864.08,10364.91,19300.52,13591.090000000002,1378.63,199.84,1159.02,2210.8499999999995,2400.0,6290.0,6486.0,1580.0,4640.0,1449.94,16275.52,153.41000000000005,1400.54,1200.0,5037.12,1100.0,2335.69,1000.0,2000.0,1530.8,3417.7,1050.0,5609.96,1628.46,1656.08,504.58,9232.23,130.0,2209.21,667.1100000000001,1310.6799999999998,8696.599999999999,1199.55,6970.98,271.18,3117.17,451.17,2649.35,3607.88,508.48,528.58,3000.0,4252.179999999999,2327.74,850.0,1608.04,2589.48,19940.62,638.27,307.59000000000003,1494.16,1099.75,2300.0,2182.0,2499.67,7898.68,953.72,2361.85,1025.71,7580.0,28274.570000000007,483.47,1368.4999999999998,1178.0,405.66,13984.02,1155.32,400.0,10868.88,17525.0,688.56,990.0,9808.74,19991.22,351.4,153.41000000000005,6500.0,499.16,2750.0,2878.76,3107.86,20467.230000000003,7533.49,1043.2800000000002,711.01,3535.059999999998,427.43,2636.3100000000013,2969.78,115.41,490.28,18575.17,519.05,1983.4700000000005,23436.050000000003,1075.3,1248.59,5277.0,15364.29,16053.269999999997,843.2500000000002,8981.509999999998,9319.61,3107.780000000001,4475.51,13018.72,4149.280000000001,21572.61,2745.42,636.6,2584.64,700.0,398.3200000000001,768.45,1579.57,3040.81,150.0,4408.27,642.31,5026.62,974.23,486.6,1426.39,88.47,1489.4,11594.37,3019.93,850.0,669.4,1909.35,5859.34,4321.16,10245.68,2173.33,21627.28,31148.76,1700.0,2018.36,18252.939999999995,3144.91,960.28,9148.76,3399.7,1452.25,7563.16,7000.0,816.69,4446.0,5685.8,4973.3,4492.4,979.88,2280.0,1667.19,1800.0,1202.0000000000002,13699.199999999992,4299.7300000000005,5080.96,4525.049999999999,4918.759999999999,122.86,17079.55,7086.04,20159.9,88.15,961.54,5724.81,650.0,3555.1800000000003,1141.77,3888.98,338.5,14198.800000000008,15364.32,15399.35,117.39,9834.01,820.21,1813.46,350.0,2136.93,2280.0,1168.13,717.56,1908.84,991.49,106.43,12398.56,450.0,2167.63,1118.66,12.37,6151.86,422.36,822.58,17188.9,12310.58,356.45,580.01,1835.28,3116.73,2466.0,150.0,2090.4,3949.13,556.22,1820.81,1102.0,10492.269999999997,4428.379999999999,3010.5000000000005,739.3899999999999,21593.66,17129.64,769.64,411.86,15249.39,226.07,562.83,4109.65,1856.24,483.89,692.63,3542.91,864.12,1189.55,11500.0,17978.440000000002,19731.97,4408.28,11180.370000000004,3557.8500000000004,15442.57,15718.160000000003,0.6,50.0,19127.6,3407.59,357.5899999999999,8249.11,1375.6,13380.73,1536.9,1055.33,1024.81,2800.25,1394.5300000000002,18139.45,3271.72,700.0,795.46,588.61,60.0,20301.47,784.82,1675.0,5665.449999999995,240.95,8071.269999999999,1065.05,2111.8499999999995,12637.83,5519.89,5387.47,3101.41,7444.009999999999,10927.9,454.55,3500.0,1551.62,5004.280000000001,34.65,9292.73,6540.0,1502.53,399.75,7050.0,2232.6900000000005,700.0,56470.72,477.84,110.66,7158.0,850.0,1819.48,1658.17,823.45,847.7,2779.49,361.28,30156.16,10793.820000000002,935.71,1657.3300000000002,1986.46,16062.289999999992,395.0,7384.140000000001,318.77,2924.83,2372.08,1000.0,1658.38,5723.91,1274.47,1856.13,12589.369999999994,549.9000000000001,2646.5,3671.03,1365.5200000000011,12020.33,1589.45,3959.65,13082.65,12636.57,4828.9800000000005,50.0,909.81,5216.57,2162.39,350.0,9343.39,1199.38,23622.13,5348.829999999998,3694.62,950.0,12454.009999999998,2550.0,1571.79,717.46,6423.050000000001,3047.74,3718.55,2498.54,2604.65,1763.48,166788.6,693.1100000000001,750.0,13168.20999999999,15939.38,2750.0,1200.0,8831.09,5120.43,1249.6,8472.64,285.44,5536.1900000000005,1111.35,350.0,4370.2300000000005,30499.91,530.2299999999998,720.0,20143.62,13009.8,18866.36,4696.14,48677.57,872.44,30848.57999999999,8679.76,772.9200000000002,970.9,4929.77,550.0,9277.23,43379.67,1200.0,20839.61,537.89,242.14,3586.77,3069.8700000000003,22922.65,65.58,2021.5200000000004,1659.16,698.47,1708.9699999999998,7281.629999999997,6488.46,5350.0,2594.44,0.8,6031.870000000001,60.0,2009.93,10556.08,7201.57,191.04,11469.88,15270.35,1584.0400000000002,27316.66,9286.38,800.0,33908.26000000002,25168.45,24319.26,19045.12,699.65,3021.62,103.54,2049.8099999999995,1218.88,4798.89,484.39,1661.4,798.4,940.0,6200.79,534.98,4170.22,774.45,500.0,2018.49,13144.5,2805.9999999999995,3061.81,1075.16,7101.1,321.54,517.2900000000001,3868.17,1090.46,2218.6,3001.3700000000003,497.17,123681.98,8250.0,3858.31,10959.65,1199.44,36118.29,749.11,1657.84,489.39,14490.77,548.7199999999999,4479.34,7531.0,845.2299999999999,5390.45,5560.0,8743.42,6340.509999999999,8216.24,14436.330000000004,10960.08,966.44,17081.83,4326.1,4674.46,7084.9,1720.48,292.61,23008.120000000003,1500.0,506.2800000000001,1723.6899999999998,551.3299999999999,22717.29,1320.95,866.46,1655.8,1463.0,5931.469999999999,436.16,6787.72,2139.46,7580.679999999999,1640.0,32091.32,6581.009999999998,12604.4,1504.36,3765.98,33301.84,9838.43,1500.0,10298.99,3207.1100000000006,19725.69,3215.3,13268.94,649.1700000000001,3767.54,7026.97,2300.0,2290.75,17163.34,1364.6299999999997,1.0,3647.82,27969.2,5632.13,6478.72,999.14,2424.19,41714.47,2342.42,16727.06,15149.23,555.35,1400.0,17492.83,52.73,6677.069999999998,500.0,1449.0300000000002,368.81,3976.8200000000006,14126.330000000002,1656.75,105.64,15745.500000000004,12930.660000000002,1730.8,1822.0500000000004,1630.63,3490.5400000000004,3750.0,7215.49,1696.47,7143.35,8327.24,9724.36,20616.68,50.0,849.2,1861.74,12021.54,3763.07,305.18000000000006,2145.11,963.43,564.88,19444.11,8185.679999999999,699.5200000000001,5411.050000000001,399.77,5114.990000000002,1100.0,1277.36,1014.1999999999998,1350.0,7531.3899999999985,3380.07,400.0,3975.68,1316.9199999999998,1662.63,2578.96,1769.5,908.79,1009.28,89286.20999999999,34982.109999999986,1460.0,728.3,4750.0,100.0,5932.66,2035.76,31808.560000000005,10981.72,307.06,1007.97,2048.0,698.14,674.67,1064.19,11760.179999999997,10972.16,134.62,680.06,6013.179999999999,2027.12,853.69,6558.759999999999,4473.290000000001,1284.3799999999997,153.9,2709.36,9965.499999999998,320.86,8840.0,1179.65,16280.13,6389.88,1350.0,789.04,1657.39,818.5699999999999,9111.17,12905.56,858.14,5330.84,9794.929999999998,60.0,171.86,11833.78,2330.0,4256.24,6973.44,13253.09,1750.0,9781.83,4950.12,9712.87,8002.789999999999,400.0,18359.66,6558.869999999999,180.0,39889.99000000001,5515.45,3679.77,1449.68,3849.2199999999993,500.0,60824.78,1120.0,3050.12,65167.48,5242.2,1754.7800000000002,1157.5400000000002,895.3000000000001,5819.57,19794.03,18706.16,366.51,12189.610000000002,150.0,3704.12,399.36,791.17,5158.97,86.44,29625.96,3833.13,723.38,1661.9,34499.33,13169.81,1326.0,2830.0,13486.21000000001,60.75,1860.4500000000005,1092.79,13933.79,8628.1,3501.54,7693.389999999998,900.85,6201.11,298.63,481.58,3250.0,3093.12,1659.54,4185.59,350.5,17583.42,5347.549999999999,410.5,12770.0,350.0,18234.5,9285.92,7711.62,50.0,2116.35,44623.490000000005,945.65,4808.400000000001,5775.97,4448.71,880.13,394.35,100.0,3600.1600000000003,2144.34,500.0,660.0,16235.77,927.42,12641.86,1907.61,17999.78,23469.95,650.0,1830.29,402.79,17767.86,4602.570000000001,2685.1799999999994,9663.0,2352.4,455.33,9858.32,1000.0,15370.47,631.95,1857.95,9559.24,6038.48,10034.35,6046.57,7004.94,3844.26,2527.5,14329.84,5186.149473847049,11443.46,2084.99,740.0,399.6,244.44,1043.27,881.0,4729.15,5102.95,500.0,1746.45,420.0,26718.629999999997,1511.22,731.54,170.81,4399.15,5223.7,1964.05,3076.33,2805.87,8616.21,8181.759999999999,2823.5,50.0,7149.62,2050.0,2361.1000000000004,8430.0,4825.52,1012.68,688.0,4496.79,1795.91,3419.32,6597.1,1899.93,72.46,350.0,1159.39,1365.43,1512.43,17022.69,3840.0,5903.76,21245.76,5759.179999999999,3318.32,2964.53,357.75,3273.1,4191.050000000001,4899.540000000001,934.65,1521.38,1988.34,973.0,449.67,4350.0,936.84,13931.04,1595.69,18051.28,7372.320000000001,1894.04,6830.27,4564.34,2155.75,1757.23,700.76,1754.0000000000002,672.15,4002.59,1537.76,1958.94,599.91,500.0,960.0,10192.13,19787.45,99.87,4306.33,460.25000000000006,641.5799999999999,719.21,4805.13,3769.82,498.93,6062.67,1067.64,2749.8,1357.65,152.34,9977.89,6149.969999999999,16400.0,390.14,485.22,5318.799999999999,1494.13,6825.389999999999,1200.0,640.0,19963.79,4569.53,5009.56,6072.530000000001,626.92,11640.11,473.83,5550.0,662.28,1119.44,1938.71,344.83000000000004,1571.8100000000002,2019.54,7547.08,9336.809999999996,20935.1,12768.8,414.09,1451.7800000000002,61875.14,4468.9400000000005,731.77,790.15,7615.05,1049.39,7991.67,2757.35,1658.09,9078.86,3097.38,4460.0,303.02,2622.9,2289.2200000000003,6382.8,2378.2000000000003,2430.0,25923.47,54916.94,3087.37,849.02,4695.66,1958.6199999999997,237.98,5303.400000000001,12343.02,8900.0,4417.0,1546.7400000000002,533.12,1830.24,8229.12,7916.610000000001,394.84,1115.8200000000002,21514.76,1871.13,2129.6,1666.0,4792.88,13337.290000000005,18279.96,928.34,580.0,3868.55,363.29,908.4,3500.0,426.75,17751.57,12275.05,2510.75,726.8399999999999,500.0,13013.29,446.06000000000006,7939.14,1419.64,2794.66,50.0,4950.83,4570.0,1309.79,2220.88,1000.0,1435.1999999999998,2140.3900000000003,3023.1,5018.839999999999,4059.72,22305.56,25224.609999999997,7724.169999999997,6719.119999999999,4356.4,1915.76,3316.88,58.72,8625.89,17988.58,5067.51,844.5500000000002,391.0600000000001,3240.0,323.2999999999999,1112.9599999999998,535.0400000000001,8419.320000000002,3737.109999999999,4936.95,491.1700000000001,1500.0,10037.73,3933.689999999999,12199.08,675.23,1130.44,700.0,830.0,6595.99,227.12,4422.14,9440.54,26005.74,108.57,4786.85,4308.0,519.05,882.46,12283.53,469.77,9458.85,6213.59,16173.66,8298.81,88.36,594.5500000000001,6120.82,4999.35,347.94,2157.38,649.49,1659.21,8800.0,1697.62,18440.08,3856.19,2541.86,1969.73,986.22,15532.010000000006,12259.73,15294.96,350.0,993.99,750.0,59.85,10880.86,6294.52,850.0,704.69,38226.03,850.0,9674.179999999998,463.44,1659.37,17410.17,3233.7700000000004,1916.08,3810.0,3910.55,3617.560000000001,849.7,9124.84,355.35,4706.45,899.49,14302.99,1574.27,330.04,440.61,5.56,1988.61,4905.89,165.95,1241.84,850.0,1361.56,10684.610000000004,17059.41,25381.870000000003,16082.4,649.36,1190.05,1225.13,11535.09,2023.71,1523.66,4522.82,497.57,5863.24,12071.78,13394.74,2999.11,550.0,20128.66,2128.38,3442.95,2714.65,1117.48,2571.92,8075.88,950.0,11185.9,3008.99,560.0,34002.2,830.67,16091.07,8248.89,8764.56,718.6,15265.38,5738.049999999999,750.0,1306.0,657.56,503.16,5776.79,2263.9099999999994,2742.32,851.29,1363.89,5915.639999999999,753.85,7407.210000000001,5481.74,1055.22,3234.9,807.4300000000001,5931.34,869.8600000000001,2465.89,9268.82,1300.0,5794.13,1557.42,35539.66,4186.52,2437.08,11506.52,2407.42,599.06,903.95,1315.19,539.46,1299.88,1389.06,4067.02,14379.4,9109.99,3026.28,1010.53,500.0,3307.23,660.3600000000001,200.0,20671.699999999997,9979.18,1225.96,130.19,4830.620000000001,652.06,201.75,3420.91,5810.0,2811.380000000001,12150.72,68.41,21138.160000000003,1015.62,3259.38,1295.5299999999995,4671.290000000001,824.59,1764.64,958.72,4204.92,6094.78,1046.54,4379.84,1125.83,7543.12,7069.299999999999,1500.0,5603.08,2299.17,550.0,2022.79,6403.04,6828.46,6076.419999999999,600.6800000000001,14183.09,533.37,9091.42,3616.98,999.03,2727.6,285.28,2293.68,1733.4999999999995,1000.0,6401.37,91.33,4377.95,6993.41,1477.5500000000002,232.86,6190.94,3123.17,2417.23,2599.59,2022.9400000000005,394.2199999999999,8424.72,4399.84,4281.92,12824.83,16559.870000000003,18999.89,3825.24,542.9,5600.0,1656.37,5611.280000000002,3306.77,6814.13,1376.24,474.0,11614.83,6548.779999999998,1567.0,706.9,3261.06,3791.39,1279.85,849.27,730.4599999999999,920.01,292.95,152.47,1359.2900000000002,892.48,3556.75,16753.329999999998,273.55,1370.0,50.0,6666.95,60.0,690.0,2016.13,863.79,13213.059999999996,441.08,1396.61,3353.199999999997,1657.07,400.0,1095.2399999999998,1269.11,629.6800000000001,1149.15,1958.8800000000003,1442.16,1347.97,679.37,288.72,6440.77,160.36,6378.19,2532.58,24028.730000000003,6709.919999999998,4429.840000000001,2035.0,3437.35,870.5799999999999,173.95,456.7,12377.68,7729.04,4300.0,3418.94,1517.8,707.66,8082.52,11418.11,505.34,671.4899999999999,999.8,640.0,2100.0,7129.85,2427.96,2027.38,4998.24,3371.68,1335.78,6748.110000000001,1666.0,3049.43,4623.6900000000005,1167.9,3970.85,47579.25,6758.479999999999,675.9000000000001,3029.24,7194.93,1100.0,3759.5,5617.6900000000005,18365.11,516.9399999999999,15689.14,949.66,351.59000000000003,1607.47,11925.92,38216.12,473.26,19.92,2470.04,6041.0,1042.9,4647.81,3427.15,600.0,3713.86,5790.24,21136.230000000003,621.12,750.0,1350.0,1.23,997.4,22537.370000000006,4180.079999999999,4363.55,24537.640000000003,16428.39,2536.96,500.0,5099.91,1275.0,700.0,1000.0,2014.52,3515.76,338.43,1286.47,746.1700000000003,5421.0,470.54,4492.72,3939.12,29063.98,3284.17,907.11,7076.960000000001,1608.91,569.22,3747.170000000001,3872.880000000001,5050.0,4302.23,802.46,2531.4500000000003,6020.0,975.0,1989.38,5668.0,1104.83,3474.71,1712.79,665.6099999999999,474.86,3420.0,6089.0,6362.26,1014.46,7028.639999999999,4533.700000000001,44.5,18363.52,5730.290000000001,10093.2,15152.69,3350.0,1665.8200000000002,565.52,6722.35,1750.81,13256.31,1301.64,1264.2499999999998,3000.0,60.0,153.45999999999998,1969.68,2030.81,8061.779999999999,16762.719999999998,5777.330000000001,1475.11,2400.0,1200.0,448.55,1147.43,3943.48,7891.669999999999,1042.2,2141.69,432.3,478.88,222.91,6756.27,77.89,683.28,17855.65,20966.96,2824.0,401.16,573.16,6010.720000000001,1591.15,508.78,628.39,36351.88,1977.9,980.0,800.0,199.99999999999997,4487.84,3107.0599999999995,521.1200000000001,499.7000000000001,4462.7300000000005,1460.1899999999998,23843.369999999995,17973.27,1740.38,150.0,850.0,2269.89,1319.22,1322.29,16160.36,48573.3,19751.91,2536.1600000000003,60.01,366.34,11526.6,4617.7,637.65,1000.0,1743.96,8107.870000000001,9687.64,350.0,995.15,3936.23,1200.0,26716.09,770.29,21621.88,4644.8,10642.6,4059.91,2127.99,6544.54,2926.08,29960.94,785.76,717.38,501.4999999999999,6139.110000000001,60.0,700.65,4823.89,1594.98,918.9,1656.75,10036.250000000002,5914.6900000000005,500.0,7851.700000000001,36367.42,8234.259999999998,700.01,9009.44,621.48,20939.41,3155.45,28203.6,15638.04,2.88,1712.84,626.0,7155.600000000001,1661.55,700.0,366.99,5291.149999999999,6101.33,2026.35,3090.93,1701.37,2009.31,50.0,485.49,91666.19,8111.63,2300.0,204.15,47231.97,1394.7099999999996,6902.64,783.58,1658.2600000000002,178.33,27869.82,5000.0,399.22,30727.25,517.34,1813.07,1782.64,2048.03,237.0,431.0,1536.9,20214.72,2700.0,2666.5800000000004,499.16,14959.88,1600.09,929.36,1625.9,2348.65,5630.02,2550.0,8480.839999999998,1500.0,9440.37,9700.56,849.09,291.4983206099917,540.98,1647.53,502.62,457.37999999999977,801.8200000000002,7156.460000000002,1657.89,27739.32,912.05,812.75,7096.299999999999,9848.27,12289.53,21914.06,13360.86,1449.78,3614.8,1170.0,758.79,1790.0,2932.32,1408.83,10812.87,1182.24,3013.83,148.05,5658.500000000001,4661.09,850.0,6720.739999999999,16469.410000000003,3307.34,3920.0,4650.0,14852.5,739.83,2600.0,700.0,850.0,7451.570000000001,4472.34,1367.61,21930.0,206.17,40769.100000000006,4118.18,6229.820000000001,329.26,8186.18,21211.47,946.8,1091.78,22426.0,810.5500000000001,5198.55,2300.0,222.22,437.42,1050.0,14307.92,1532.98,39159.16,6839.14,1247.85,1600.05,5235.289999999999,9137.76,6239.89,9236.22,419.78,3261.38,659.46,3874.02,12338.62,7742.77,150.0,5321.75,1659.16,23679.6,2040.1600000000003,2340.39,2537.2,1100.0,3312.68,560.0,6316.31,517.14,842.0899999999999,480.8799999999999,8818.339999999998,399.35,2518.51,1447.26,1658.39,646.73,5150.0,9519.39,8217.08,1199.6,1855.34,5854.660000000001,2714.59,464.69000000000005,842.51,2974.7,495.46,8071.8499999999985,61.14,1310.0,9589.09,2689.26,25225.000000000004,11082.97,20609.140000000007,3574.19,6000.0,1200.0,0.41,4820.400000000001,787.09,3371.829999999998,7863.270000000001,11228.739999999998,600.0,1018.19,8699.390000000001,510.0,7000.0,2514.4,180.07999999999998,350.0,1527.38,1312.57,5528.41,1015.5,1535.07,4703.33,3040.0,3368.47,16025.72,3723.04,507.88999999999993,6520.99,1000.0,150.0,1166.65,1851.09,15155.960000000005,50.0,2207.73,19353.29,7282.96,786.68,799.32,399.31,412.59,351.52,1837.57,300.0,1661.14,2303.81,1050.0,1661.27,1963.17,1666.0,400.0,10000.0,9845.790000000005,2070.76,1357.2,4833.99,31971.25,70.0,10201.56,2179.86,22029.36,1125.78,663.35,1253.52,166.99,327.33,2829.67,6467.45,5216.989999999999,4238.8200000000015,298.17,2883.880000000001,16336.410000000002,7000.0,4953.0,1388.5099999999998,219.57,1263.2800000000002,1500.0,475.0,314.03000000000003,147.09,22342.98,7791.720000000001,2323.71,28666.48,41343.2,2700.02,8010.0,22424.14,5504.379999999999,6459.62,1232.37,7273.15,950.0,2450.0,3671.51,6345.41,367.71,850.0,5270.469999999999,1350.0,72752.02999999998,5919.4,27714.07,280.0,649.2700000000001,10015.62,21775.03,7007.39,1460.0,2154.06,1320.5100000000002,33353.209999999985,2783.25,7230.78,1662.1999999999998,2550.0,12254.9,2500.96,8656.08,6686.73,17017.05,26249.23,3061.8,1532.98,10500.0,750.0,3597.1600000000003,4483.47,3500.0,21558.450000000004,6378.53,50.0,1718.27,716.9300000000001,643.63,1350.0,2219.92,1017.98,423.1499999999999,5590.0,10702.46,3660.07,2421.21,4637.61,300.0,3396.32,8782.179999999998,1100.0,903.5,2909.68,290.73,700.86,7818.15,2203.230000000001,9050.0,5206.01,6537.669999999998,1788.14,719.73,50.0,8244.26,5434.369999999999,5864.38,500.0,8485.59,1660.9,11281.65,1696.38,765.05,11683.580000000002,30229.05,900.0,400.0,7477.130000000001,795.26,1375.59,39789.32000000001,2433.89,18272.0,14137.48,5099.62,4295.47,1168.92,6269.25,12087.78,302.64,2721.28,878.1099999999999,4703.39,2617.75,13609.53,646.29,3999.4,799.77,8607.26,4654.34,6938.9800000000005,1433.94,828.72,1311.2,869.3600000000001,7513.759999999999,12588.58,775.0,1088.91,1550.01,940.0,419.22,3654.0,2530.0,473.46,6363.81,4475.529999999999,570.49,1150.52,809.24,10337.47,740.0,2360.0,3817.3400000000006,92.03,3500.0,399.53,1200.96,1369.58,7065.470000000001,8041.530000000003,2507.6800000000003,3741.51,34499.94,1232.4399999999998,827.8,5149.45,2395.52,1350.76,1051.66,8817.510000000002,2523.8900000000003,750.0,2215.65,8933.65,761.88,2810.55,1136.11,2249.6,1365.06,7743.76,5814.380000000001,21749.36,2333.5999999999995,1618.7,2048.8,762.73,19059.75,1657.5400000000002,9592.11,12340.3,2395.98,6467.18,996.68,1714.02,1562.01,2804.39,3277.4,1995.57,350.0,1698.42,700.0,31769.08,1195.79,1658.9,18403.12,1400.0,41398.66,1830.97,17493.04,2417.8,15258.37,12783.159999999998,6269.02,27.36,5957.3,1315.11,179.16,1941.04,900.0,1657.7400000000002,1370.0,9430.479999999998,2000.0,9869.98,18841.7,38138.95,2431.51,12689.32,1830.0,30228.48,9185.14,1806.99,7998.37,21619.49,1000.0,1474.8000000000002,2398.56,600.0,2680.0,9984.51,600.0,1490.0,1767.4,261.51,1205.07,1661.26,2242.17,177.28,3867.09,2773.49,13797.89,2850.4400000000005,17248.45,21237.410000000003,38790.03999999999,977.58,5673.39,1159.16,1744.3,3049.67,591.6,56586.85,649.51,15701.81,1061.01,1667.86,7885.269999999999,14150.48,381.84,11379.299999999996,476.5300000000001,19118.7,180.51,1232.5800000000002,17473.73,3053.85,3781.09,6214.260000000002,8833.98,1516.11,800.57,33356.26,5636.200000000001,308.13,84.44999999999999,3159.92,202.98,13071.53,7318.83,925.0,9759.02,11077.17,1479.9799999999996,3870.13,3676.07,1656.98,19347.03,8480.21,1350.0,7292.740000000002,6335.31,10009.74,203.63,5151.6900000000005,199.01,4069.3,565.47,7759.329999999999,1233.2,28.69,150.0,1083.2399999999998,34.78,7945.69,17258.68,18907.4,1657.92,2474.9700000000003,24452.48,15428.450000000004,422.0600000000002,2408.24,50.0,6311.469999999998,1825.36,20045.93,2829.23,10080.0,4402.35,8148.960000000001,19093.660000000007,25540.05,1635.44,22799.99,1040.43,785.7600000000001,2669.13,1150.0,3099.4100000000003,7909.11,7461.09,1279.39,35.349999999999994,350.0,3161.249999999999,1745.73,1849.1,499.09,5619.0,772.58,2407.1,2324.58,3496.1800000000003,15784.020000000002,401.13,1532.64,1427.66,10363.27,1499.63,750.0,49.19,3606.07,1439.77,3100.0,816.82,2140.49,9950.0,5035.889999999999,2652.37,16322.579999999996,7511.400000000001,1660.64,9239.19,3178.36,7000.0,1090.67,1252.98,6000.0,7779.93,1658.72,849.5699999999999,110.0,1485.0,916.83,1109.68,39764.85999999999,1736.49,2949.21,5390.24,9669.85,586.8199999999999,142.48,2880.4200000000005,1560.29,7547.94,21342.000000000004,2174.0,5405.98,3826.02,349.03,1399.6799999999998,2611.5,4888.84,3600.0,5378.799999999999,6587.639999999999,22153.37,4230.0,12516.23,2805.73,1371.13,2774.23,2179.67,15792.73,1764.37,3304.71,718.39,819.3,2500.0,7749.610000000001,1863.18,2456.56,3216.1,6630.93,3056.44,350.0,362.69,37921.58,1686.78,140.72,1792.3300000000002,4150.0,100.0,1438.94,2185.89,1180.0,43666.07,7603.01,480.62,3110.42,50.0,679.94,8167.04,1657.75,7011.789999999999,1909.5,4581.360000000001,8970.720000000001,5239.78,1499.46,6496.850000000002,377.18,700.47,1398.1800000000003,5037.82,6461.24,365.5999999999999,4160.0,17443.32,34499.71,4918.65,7712.860000000001,1470.0,17360.84,6469.37,8195.55,1769.34,800.0,9364.71,2014.27,1949.69,400.0,29251.9,899.1200000000001,1657.1799999999998,8861.68,11620.54,4495.78,1458.88,3522.08,1658.68,852.06,3378.2700000000004,1600.0,4235.77,11619.21,11259.37,380.85,1397.03,1686.29,4489.98,849.1,1189.14,1939.66,22861.94,762.45,4201.38,26345.02,13924.399999999998,399.74,1881.06,10155.140000000005,7527.93,50.0,830.22,1658.54,35119.99,6094.23,1657.15,498.17,1191.76,3160.4,12861.38,419.4,7818.34,35398.04,21064.2,4090.96,60.07,22763.97,5561.920000000001,1000.0,4918.65,7179.789999999998,1339.41,4816.02,1661.11,1179.41,1457.44,6824.93,1455.97,2743.79,1399.6,1278.2,5234.229999999999,1567.0,6481.6,13435.039999999995,1666.0,2049.7,1400.0,50.0,2033.23,2209.86,4747.07,23862.96,8502.890000000001,418.97,6524.24,1016.65,18427.890000000003,1058.95,435.29,15453.86,2269.6800000000003,5000.0,3103.6400000000003,1506.93,2719.08,3058.96,4950.67,3629.23,15940.62,3029.4,2299.3300000000004,3509.46,11829.16,2307.12,199.56,2561.3,850.0,7063.74,10240.66,1713.86,460.38,890.76,3966.87,1350.0,7250.0,2107.64,1000.91,817.7100000000003,13994.94,2884.15,12897.64,1666.0,2651.64,378.75,11372.04,1160.45,14937.98,11990.169999999998,2699.2,8013.19,6889.27,1011.46,7822.68,5160.0,6607.7300000000005,1199.79,22513.88,6820.94,188.41,3523.03,8450.31,18719.47,6171.099999999999,1839.9,3149.76,1657.97,889.19,336.27,1302.83,4746.76,3967.24,1023.11,6140.0,1344.71,2074.27,4206.199999999998,3690.0,7022.340000000001,2822.73,1679.2399999999998,53299.68000000001,2620.0,958.24,102267.56,15346.339999999998,1960.24,2957.7499999999995,639.8199999999999,1452.2699999999995,599.3599999999999,2963.53,246.72000000000003,2004.9,4790.6900000000005,8358.85,8548.52,3899.56,50.0,1959.3,914.73,1127.73,3837.7,1700.0,8918.1,15147.56,13241.79,844.75,1445.0700000000002,2045.78,4896.08,1731.81,10999.95,21245.47,11216.38,2683.46,439.08,3483.71,3128.72,59.71,1870.0,968.8,742.35,479.9,1590.0,6496.970000000001,4554.26,2242.8100000000004,3409.48,24943.21,2856.4700000000003,7398.82,400.0,7330.58,167.86,5311.79,13691.030000000002,364.88000000000005,45.75,19442.51,17481.839999999997,10744.18,1551.38,3323.4,8736.150000000001,2479.96,400.0,1506.9,17437.29,13459.52,4718.25,8814.11,13444.53,845.05,2210.4,2192.1400000000003,1695.6699999999998,1560.0,2373.09,250.39,1879.62,1659.59,1333.14,15864.67,1025.12,2086.64,2331.95,22539.4,849.7099999999998,12322.42,3940.63,5182.83,2150.08,8147.77,109468.59,4787.06,2040.77,4079.29,1049.6,2405.05,16989.809999999998,514.84,2149.99,1700.0,345.56,18349.93,1839.14,1270.0,2904.31,4940.38,4985.299999999999,3972.65,1750.0,1589.89,5793.040000000001,6620.38,5442.599999999999,1362.2600000000002,1550.0,16128.500000000004,2346.01,1633.3000000000002,700.12,24261.68,8915.949999999997,1559.25,3191.8500000000004,350.0,464.86,350.0,1872.33,154.08,2398.4000000000005,755.24,6569.92,30278.53,62055.83,24357.94000000001,1685.12,2082.0,1659.0,361.39,4210.21,3457.7699999999995,10545.79,14448.75,487.17,1250.0,3609.18,850.0,952.4199999999998,1233.72,1440.65,6233.0,11704.31,12937.42,3163.65,16173.240000000002,16243.44,2272.07,9828.73,9775.41,6936.629999999998,938.08,8271.58,921.46,2557.5599999999995,3761.14,2590.51,10940.82,1000.0,245.06,5842.25,461.96,1568.27,5807.309999999998,592.9,2120.49,5076.589999999999,13980.010000000002,10375.91,1649.12,27787.12,21277.16,5324.370000000001,699.9200000000001,406.44000000000005,34236.65999999999,1034.96,24388.83,3136.87,11537.32,11539.73,5188.93,4077.83,23999.68,802.97,150.0,11997.86,649.3900000000001,419.71,2970.8100000000013,1369.66,2388.28,1827.03,6239.92,11370.5,8562.750000000002,2912.0099999999998,5954.349999999999,3958.82,13062.55,2953.0,4838.64,100.0,415.7,1945.42,1957.64,3500.0,5676.030000000001,1941.9,3024.49,339.16,4135.65,1694.3,1824.21,1000.0,1666.0,4907.81,85614.31999999999,3515.27,261.13,1337.0,849.64,1010.0,402.48,7360.32,700.0,3340.2999999999997,136.04,4461.3,1133.26,1657.89,150.0,1923.61,7571.9,9395.16,16236.37,600.19,2781.09,1050.79,1659.63,8270.800000000001,413.26,296.34,1865.41,7300.25,5797.03,1510.0,13146.62,700.0,4409.77,1207.52,2606.28,10409.84,1065.0,3091.67,1529.06,483.41,20152.989999999994,989.41,2413.84,50.0,1514.75,711.98,349.54,20017.89999999999,373.62,3988.100000000002,8144.969999999999,227.13,1000.0,1156.79,39500.1,2251.82,7924.07,19890.69,1200.0,3509.82,8174.69,1954.57,4422.11,1000.0,7586.72,5066.4400000000005,1308.93,3788.76,2579.4500000000003,5826.34,2485.91,17006.699999999993,13387.340000000002,24384.84,5006.53,3069.2200000000007,17955.5,935.43,1250.6699999999998,2462.87,8255.369999999999,2689.22,2399.95,2416.03,1658.09,369.24,100.9,1532.98,8212.53,2255.5,1210.0,3433.38,1370.46,1050.0,896.71,17950.739999999998,1093.4700000000005,3324.16,2989.07,699.77,152.23999999999998,10515.49,2861.65,13260.17,32552.15,24237.64,7000.0,3261.15,4799.53,9190.04,5537.53,2099.4,1431.99,474.2,5640.78,20673.74,3813.91,13716.03,1656.96,2101.41,7660.58,7306.0,1458.49,8650.0,4547.360000000001,6091.71,10554.669999999996,1556.2999999999995,914.5,1057.44,4240.0,4809.34,739.0,8591.27,5019.07,6685.99,25119.27,9421.91,10594.02,14119.67,1000.0,2785.420000000001,873.78,361.3299999999999,350.0,11949.16,3279.94,727.74,1009.9,374.56,181.04,500.0,5997.389999999999,250.0,243.91,6240.15,1118.1,700.0,366.36000000000007,2774.0,8400.0,1532.98,450.0,905.49,437.64,5197.47,1567.0,910.81,3158.55,5601.250000000001,500.0,4917.51,14587.84,1.0,18440.72,350.0,42973.87,916.62,372.24,7810.469999999999,1000.0,20333.210000000006,1155.68,13164.98,28800.0,3808.04,475.38,1198.51,528.32,13246.06,350.0,3250.0,9679.96,6199.84,1650.0,3232.98,1180.66,1659.67,396.91,1200.0,399.93,475.0,6220.17,1687.97,1379.5800000000002,6058.319999999999,21049.82,5936.24,1490.0,88.69,5147.18,19075.27,1750.93,358.75,7489.0,4100.799999999999,3195.44,6419.21,1660.9199999999994,60.75,12373.799999999994,11556.329999999998,450.41,164.69,4931.47,437.33,50568.67,3896.829999999999,9595.0,1395.51,5542.299999999999,3728.6,219.42,1205.26,1806.8,977.64,2420.84,5899.5,1923.52,4139.03,2352.13,4064.88,11049.36,16961.82,1657.5600000000002,2976.74,671.25,986.62,1150.0,8733.36,11512.35,4979.03,0.05,2841.75,350.0,2700.7,6262.649999999999,559.36,1635.5099999999998,413.8300000000001,2079.69,9886.14,242.32,4241.09,9346.490000000002,50.0,5379.54,13999.22,10724.22,5517.950000000001,548.82,2700.0,18289.78,1937.93,8643.710000000001,5018.66,3190.1200000000003,1862.98,133.32,2957.38,1206.77,185.46,20813.77,3895.75,6615.41,400.0,17948.18,7573.790000000001,3330.31,1649.9599999999998,17401.609999999997,907.8999999999996,757.98,980.3000000000002,5115.84,52194.50999999999,14683.09,947.07,1200.0,24816.42,6491.03,1575.38,4807.43,1657.9199999999998,16297.09,1409.93,1773.0300000000002,5339.0,5116.07,5305.53,1080.08,2680.41,6332.209999999999,5156.56,5839.570000000001,4310.090000000001,8085.240000000002,11533.05,251.02,1603.13,5424.0,3512.44,21249.81,16826.36,1506.5200000000002,1413.89,389.11,7391.950000000002,500.0,390.0,17574.74,6017.389999999999,400.0,6691.0,2222.2,955.12,6252.67,3289.8,7947.220000000001,12.61,9169.87,13515.39,799.61,1000.0,1000.0,728.5100000000003,800.59,17625.1,4429.8,412.86,1681.37,34071.99,16749.92,999.98,2422.86,2440.0,1451.83,23918.16,9402.37,910.0,612.69,16758.58,17124.969999999998,2960.0,800.0,1278.85,4914.120000000001,24035.17000000001,366.56,3940.01,16782.13,2240.63,3293.36,20501.79,3294.76,849.2099999999999,1515.0,11715.41,3427.24,2315.2500000000005,22859.79,1109.39,1857.39,5169.26,926.2,5835.6900000000005,780.0,7859.200000000001,16660.18,1300.0,896.41,1659.38,2508.44,2925.91,486.16,16892.839999999997,2856.87,808.53,12708.74,11131.470000000005,1886.06,1558.5799999999997,6894.679999999999,1660.0,1000.0,7530.890000000001,795.11,9830.46,10796.63,4211.57,2655.21,4718.26,6822.669999999998,3096.27,2898.29,2354.3500000000004,6713.59,4513.43,24972.0,7519.719999999999,849.44,5390.97,1194.7,8873.679999999998,11433.54,17917.54,10568.14,675.13,321.82,7428.36,332.44,13383.56,6820.0,4053.21,4065.6,163.62,4938.41,1240.0,15948.05,9079.05,1844.9000000000003,1354.84,4734.590000000001,5367.03,2331.83,19446.7,1676.7199999999991,5751.84,12349.82,12132.99,2602.63,166.9,152.58,2345.9,925.57,316.0799999999999,670.65,13300.0,7825.43,1962.26,6813.18,11822.370000000004,439.73,3006.13,12941.08,700.0,2450.0,70402.65,2324.18,1331.22,539.6800000000001,769.9,2861.12,4820.81,637.6999999999999,2000.95,1298.93,3429.28,191.96,2526.98,156.76,5927.3,16238.490000000002,5571.0,1217.29,914.3,1250.0,2026.62,6252.25,14254.21,13569.31,17930.67,11377.23,6489.94,638.43,7010.63,75.01,23140.0,2100.0,9112.93,2729.85,3450.3700000000003,27202.05,1008.19,3675.3,3124.8300000000004,8194.689999999999,2369.92,1439.12,7543.94,1190.0,1140.0,3109.8,4646.549999999999,1707.8000000000006,1498.91,3580.0,1200.0,3600.44,1863.42,20161.01,3739.71,6030.95,1185.47,1158.17,4877.31,4120.57,12206.45,11852.04,1837.22,13978.76,976.85,4183.05,1657.8300000000002,17074.85,162.16,957.32,2247.89,3612.3,1810.85,9990.52,152.36,897.55,2437.84,102.35,3161.47,4600.0,500.0,10217.44,2872.62,550.0,850.0,350.0,7160.7300000000005,3579.13,2110.48,1912.13,321.04,5059.52,1141.18,640.9000000000001,3223.1700000000005,4309.44,9756.48,6372.4400000000005,6979.639999999999,781.1400000000002,3195.06,6674.54,889.2,4500.0,1728.0500000000002,366.31000000000006,17000.469999999998,872.09,19232.8,152.55999999999997,996.73,1142.2399999999998,8541.25,6250.0,7828.4,469.45,4007.8200000000006,1100.0,22682.05,3600.0,20763.15,4162.0,281.89,773.04,3200.0,20297.91,7120.410000000001,444.19,1068.97,3859.55,78.11,7397.88,4868.32,1422.59,2430.0,2627.56,5189.11,8351.380000000001,1524.54,430.31,456.36,1648.78,18876.88,1287.0,2186.2799999999997,4029.82,362.0700000000001,1084.15,3155.6900000000005,257.44000000000005,4300.000000000001,2234.63,1406.1,28368.6,3050.03,2750.03,622.79,3589.460000000001,4031.33,903.49,5886.930000000001,2961.51,453.3299999999999,322.87,696.63,628.0099999999999,980.2899999999996,1294.27,488.77,1130.18,100.0,154.77,1705.58,519.07,1910.28,1658.51,23096.140000000007,2419.3,850.85,2720.0,365.9400000000001,15941.5,1150.0,350.0,8362.689999999999,500.0,1346.6999999999998,2578.37,9885.359999999995,344.19,4821.64,548.11,2239.55,700.3699999999999,999.61,906.11,3802.99,2028.26,1910.21,711.98,442.23,2500.0,4201.805197107103,1509.0199999999998,1394.5,2185.19,10866.7,1850.6,18764.73,14999.46,544.2099999999999,3388.5400000000004,10742.66,15138.18,1860.0,1655.8100000000002,2687.37,819.1600000000001,1599.9199999999998,350.0,28389.53,9105.38,1459.72,1656.21,2939.219999999999,199.25,23966.02,10784.82,400.0,862.06,201.92,2397.59,393.39,894.77,148.18,1060.3,4239.56,7551.14,20470.63,1307.56,725.0,4242.96,8985.94,39392.57,100.0,873.02,754.31,2617.43,12927.219999999998,21481.5,700.0,2528.24,25105.54,1250.0,850.0,3720.87,7748.77,1658.42,659.33,107.2,1200.0,1349.67,2670.54,4531.0,18189.42,20787.62,38157.08,1487.3099999999993,21663.53000000001,7665.3799999999965,9719.38,1635.2800000000004,357.41,15697.520000000004,22890.0,93.84,16640.600000000002,6593.53,904.56,753.3199999999999,3336.0,770.4000000000002,22158.39,1974.8,7250.75,1461.81,2950.7100000000005,2440.34,381.2300000000001,6455.91,39531.20000000001,897.11,999.15,1435.69,16095.63,859.78,3191.67,387.29,26877.7,630.42,854.26,6215.17,2704.44,556.9499999999999,1193.14,500.0,5789.610000000001,400.59,16188.17,1109.19,1657.69,646.11,1080.0,15509.830000000002,8471.4,3957.79,6418.5,480.2,11911.79,1416.2,949.88,1929.82,6373.289999999999,6134.95,4627.68,0.09,4456.15,12038.499999999996,2239.7700000000004,1874.58,2538.19,28213.78,3927.42,2694.49,1950.0,12298.99,2771.88,30420.6,11007.319999999998,353.83,22340.08,2049.46,903.52,2249.89,1204.61,39110.62000000001,1158.66,14017.87,686.11,1665.25,2717.41,1092.47,1403.22,10979.37,13374.892328346814,1891.55,715.12,8545.18,1439.85,4699.049999999998,263.41,350.0,3501.83,1569.33,9406.81,566.24,2462.88,2020.82,1092.27,2915.96,1010.98,1152.2,10958.05,6408.92,20342.85,693.43,21779.54,4718.0,7642.520000000002,680.0,50.0,1659.8,3848.789999999999,1281.08,7473.059999999999,100.0,10868.27,5164.82,9942.11,2048.5099999999998,511.77,5597.83,3225.41,1731.4699999999998,3690.97,541.61,2845.95,1510.8,6555.0,7270.120000000001,2255.45,4330.200000000001,15038.5,52923.89000000002,2249.6,101.75,2506.38,60.0,3194.61,100.0,2243.84,368.88,792.89,409.72,15998.680000000002,62.23,15610.0,3234.9300000000003,2681.39,9896.8,2450.9,2152.82,3831.57,1451.03,4464.92,39122.05,1385.78,10592.85,2145.08,10942.83,2833.64,148.47,4505.57,679.39,4222.06,33102.08,5536.950000000001,1430.0,1862.87,9777.21,1119.47,837.47,6486.76,7997.53,2497.79,3309.11,733.68,1330.69,1799.87,2828.11,2140.5799999999995,1868.18,7123.72,11117.26,1500.0,1670.9399999999996,17249.99,893.45,22022.76,1659.1,1678.05,8254.25,13359.93,5389.790000000001,2188.97,500.0,3906.66,6062.359999999998,701.6432591505552,1000.0,7581.39,10693.19,13107.69,7586.890000000001,13194.9,12526.240000000002,4074.91,19337.36,692.8,1762.49,401.16,3448.24,1843.81,6992.629999999999,1433.22,1117.35,808.33,1210.0,985.68,48835.990000000005,6671.34,6587.919999999997,1867.76,8571.76,677.36,1250.0,9629.64,1429.59,30000.0,8510.119999999999,939.44,5786.32,952.95,848.69,3017.54,6605.0,1463.0,11924.02,2493.11,52.71,3401.7200000000003,10921.679999999998,350.39,1570.0,2209.8900000000003,2589.15,500.0,16731.280000000002,1658.5300000000002,2176.6100000000006,1200.0,5577.66,616.7,416.8399999999999,27.49,4181.77,3984.53,1659.22,1682.84,1000.0,723.21,1470.0,366.34,555.41,3327.15,6375.1,7476.640000000001,1710.4,1241.01,10295.67,999.94,25039.120000000003,10603.04,13915.0,4349.24,21061.48,10460.67,1674.0600000000002,3200.28,47.6,12923.55,400.0,3173.2500000000005,2556.04,330.29,2100.0,1237.45,506.09,4089.2,5090.030000000001,10370.65,11411.88,1264.03,1575.8,2023.41,175.8,12053.570000000002,500.0,1200.0,3420.0,11118.669999999996,1776.8100000000002,400.0,17894.98,1488.79,5040.0,1599.19,2452.7400000000007,5362.4400000000005,98.0,5849.11,1800.0,4096.38,6358.759999999999,901.41,849.21,17616.699999999993,2737.29,9651.73,641.77,25493.070000000003,440.0,2686.0000000000005,24286.53000000001,65.5,3670.0,6008.249999999999,410.78,1719.12,607.4,11255.829999999998,1822.1299999999997,1500.0,1666.0,3982.74,2349.96,1300.0,5169.52,103.96,7502.000000000002,7476.5,18289.39,481.3,14259.939999999997,10143.07,349.26,1292.6999999999998,742.96,1758.51,21320.2,5790.0,5481.74,969.81,817.7226972264493,6702.84,1370.8200000000002,2033.21,6470.390000000001,134.87,1660.22,15896.95,367.03,634.84,3100.0,607.95,8165.930000000001,13106.81,398.29,4800.0,60.9,3705.42,1729.41,999.47,1254.0700000000002,1601.0800000000002,19169.91,7830.070000000001,2172.74,2951.57,2349.68,751.3599999999999,6133.0,64498.560000000005,29549.2,5051.710000000001,1159.4600000000005,2167.42,826.48,272.63,2250.62,7897.34,4416.06,4175.0,1659.32,18169.98,9083.59,2106.79,2869.18,1309.83,4225.709999999999,5118.26,5635.66,13460.39,21212.42,4433.830000000001,3904.61,5896.429999999999,500.0,849.75,4137.649999999999,154.22,2449.669999999999,4414.99,150.0,4786.89,680.0,1833.03,3090.46,18478.640000000003,1508.28,4041.75,7.75,1414.74,8497.06,10680.75,1839.77,3376.61,1195.3,180.7,1986.33,3218.28,15983.39,5273.98,2031.87,3494.84,1136.12,24647.49,1499.14,4480.0,7311.1,443.71,9672.12,30.36,2810.03,769.17,14604.06,1150.0,2548.13,1350.0,4391.67,11415.46,1657.49,759.6099999999999,182.11,4809.54,4111.9800000000005,2763.95,718.59,1351.41,2160.34,3549.9700000000003,619.42,14400.19,3891.21,2268.57,200.0,584.34,7000.0,1259.0899999999997,5189.739999999999,1350.0,1348.36,18137.51,4593.09,7153.989999999998,1117.44,7903.17,8064.46,3608.76,1199.74,4139.9400000000005,1068.25,15159.63,799.6,814.03,2587.83,858.89,71.91,881.25,7546.2,24710.03,2552.97,820.43,6115.150000000001,862.63,1764.3,46140.58,995.9099999999996,27907.08,1845.61,16892.28,1352.29,1867.6800000000003,3729.56,920.13,4841.55,1765.48,7790.0,1658.87,3721.43,10463.21,27.0,5451.949999999998,11205.9,65367.51,1518.72,1340.52,694.77,2016.41,18268.140000000003,2230.85,461.21,7179.4400000000005,150.0,3674.34,61426.97,681.59,394.64,1115.87,2924.0,747.42,1657.89,1200.0,55.05,11472.13,749.58,7069.9400000000005,7200.45,3615.63,821.86,25153.79,1116.91,1000.0,2099.54,3600.0,9650.0,899.54,10475.77,726.85,2046.7,9360.709999999995,1994.24,1181.61,3125.299999999999,2329.71,1800.0,1665.3100000000002,2239.0200000000004,1199.36,1666.0,1287.0800000000002,2592.42,1237.32,16762.48,999.07,749.28,12210.0,8152.0,1658.36,3893.389999999999,5175.36,2382.48,5582.530000000001,5367.02,3656.76,579.92,1362.0700000000002,355.6,2205.44,2837.91,2904.47,11510.0,1808.54,2056.0400000000004,24091.65,722.79,12523.370000000004,8031.399999999999,31013.07,50.0,24738.55,4004.1,1412.9999999999995,2271.7,9300.0,9610.31,1560.0,1645.0600000000002,800.0,25595.6,1666.23,1859.52,2611.6000000000004,8693.839999999998,17435.210000000003,4062.929999999999,2554.12,400.0,3120.09,24502.41,2480.64,4684.150000000001,4676.67,14820.53,621.1599999999999,6278.669999999999,11147.279999999995,1952.63,5025.15,18009.25,482.67,2073.4500000000003,1660.11,2378.52,7512.77,24569.76,2259.17,3737.890000000001,3280.0,4891.759999999998,685.53,4498.76,19647.39,769.72,1727.29,13995.92,3379.31,30144.79,9001.449999999999,1789.15,3238.14,5398.96,1008.96,1658.53,850.0,27.44,26411.91,955.24,1660.16,5371.089999999999,1500.53,33441.700000000004,1552.1,7783.389999999998,14385.51,1180.12,99.03,3290.0,6092.0,812.72,149.1,700.0,2412.0,14458.579999999998,401.24,174.9,6679.24,11458.91,2849.44,814.63,15824.13,864.55,500.0,487.34,1787.04,2700.44,11432.4,2182.0,4867.7300000000005,10378.110000000002,10733.51,3314.14,6234.79,19436.98,7085.919999999998,12099.22,8129.0,3539.27,2524.02,1038.65,3068.03,4308.02,2367.82,134.44,30165.06,1389.58,13200.0,778.39,1200.0,9418.72,1879.51,11232.22,5000.0,1591.19,750.0,2489.05,4878.09,17588.92,1409.3900000000003,1676.9499999999998,1299.55,19901.67,939.6,17664.11,17829.05,15822.940000000002,550.6299999999999,1110.79,727.8,8471.77,1773.48,1760.0,184.3,6540.0,699.23,480.44,1658.81,23121.76,3061.9000000000005,64267.77,3301.76,1550.0,5046.31,5099.639999999999,700.0,15131.88,25410.0,2335.79,9920.610000000004,2245.84,187.9,1614.1799999999994,3702.73,71097.38,30199.41,727.08,6009.639999999999,11810.02,17260.07,6996.780000000001,139.7,886.63,379.89,8106.43,2989.86,49602.85,1534.94,150.0,4621.200000000001,4089.21,850.0,4058.83,1488.06,16496.45,663.73,5869.03,3500.0,1294.5200000000004,22136.6,20472.78,900.0,1504.42,88247.47,16493.370000000003,7459.96,498.6,417.52,3151.53,1853.63,1659.35,1751.9299999999998,8706.01,50.0,1659.62,4694.130000000001,17535.160000000003,4109.860000000001,962.96,940.0,3812.84,1306.17,9287.0,8248.73,23849.07,671.8599999999999,784.93,10595.55,274.33,5036.24,28236.960000000003,1657.45,7289.519999999999,6485.179999999999,1113.87,1133.7,2198.44,500.0,445.17,920.0,12481.990000000003,7443.77,1890.0,4060.0,785.08,2051.62,7847.34,2818.63,607.92,1187.33,1753.14,17758.94,1000.0,3157.16,1277.01,3503.14,11160.0,92.0,2630.0,1658.11,6946.02,537.86,5023.7,1659.55,26179.7,1602.32,16334.419999999998,4023.49,2936.7200000000003,4466.39,7532.04,1698.88,777.8399999999999,363.53,697.9300000000001,31810.99,1710.74,2889.7200000000003,11300.0,1442.09,14405.03,22320.0,4312.73,4052.42,4438.93,5757.81,1786.34,14908.28,1980.0,17865.19,299.53,2299.13,2976.5100000000007,1657.16,1430.81,900.0,545.4,2595.32,1270.0,1065.62,2313.96,7750.469999999999,1759.74,2974.25,16960.56,11282.15,830.4300000000001,8318.12,1730.0,850.0,1151.21,5925.99,1609.03,200.0,560.0,8038.53,3195.44,556.77,3286.32,7829.0,43309.9,9252.65,519.19,7274.95,17524.0,7103.49,7884.47,550.34,7637.42,401.74,700.0,7764.29,652.46,4957.780000000001,4703.56,399.53,6194.959999999998,7374.2999999999965,166.92000000000002,712.33,400.0,5887.81,13833.22,1530.6700000000008,10989.009999999998,176.89999999999998,14032.49,6001.259999999997,442.33,9199.2,14809.709999999994,1000.0,508.68000000000006,86.04,445.68,1050.0,749.66,1050.0,5755.73,80.44,18656.07,242.0,4090.739999999999,1350.0,70.34,5387.07,8645.33,1780.6799999999998,892.9599999999999,544.13,7179.77,6170.46,5431.550000000001,1658.65,1263.9800000000002,11223.56,7901.69,1589.24,500.0,1747.85,3929.56,1019.36,3058.27,2780.0,1200.0,15635.919999999998,2112.51,4090.0,1666.0,11093.03,126.0,2069.49,2347.269999999999,1171.56,5271.4,721.12,1399.77,1994.9,3587.3699999999994,3411.1,1059.44,11079.38,1129.07,383.77,552.77,4810.189999999999,744.96,2099.38,805.66,1607.93,4465.740000000001,324.63,36339.41,2720.7,2521.07,1661.03,2475.49,4469.34,2822.87,2195.49,1659.23,12363.62,8396.960000000001,3694.83,1349.13,1385.41,16857.41,5542.900000000001,1834.3,22288.31,9982.14,9050.63,350.0,2391.6,1658.98,368.43,89.71,350.0,13528.65,8425.68,1519.7,1658.74,14764.52,5521.7,60.52,1982.81,19104.5,15032.579999999998,149.57999999999998,16316.98,3426.0,7713.460000000003,10563.22,4543.62,1194.58,394.36,1595.32,3787.539999999999,3050.96,95.64,139.8,25660.309999999998,3556.28,7308.8,4799.6,5385.200000000001,552.55,3175.03,4360.29,1985.61,3641.31,1933.49,7696.200000000001,1084.46,347.05,560.22,1200.0,11313.95,2029.9,50.0,14949.51,5294.530000000001,3503.8299999999995,1414.97,3135.2,4003.05,13173.62,428.22,1848.57,13253.63,4599.25,592.01,6151.0,6441.81,1232.0,2451.68,2279.7200000000003,50.0,1601.53,226.4,1299.38,10158.179999999998,2358.91,1740.0,24635.039999999997,10563.1,1889.45,599.0999999999999,1874.53,906.12,479.99,2963.44,2148.0400000000004,1529.06,1350.0,8399.91,1660.77,776.2099999999999,840.21,3628.63,22830.3,899.17,1830.9299999999992,1919.39,35514.61,1747.7599999999998,390.33,3025.300000000001,17719.190000000002,7575.99,2526.97,6270.0,350.0,3991.17,186.43,1270.9,1670.02,6549.66,4617.680000000002,14277.69,1658.32,1658.63,5788.49,10660.77,1657.96,22491.180000000004,1800.0,1859.95,3561.74,100.0,2572.83,1497.57,1532.98,17334.43,5454.990000000001,1370.0,176.97,1399.84,3829.56,509.28,1386.93,2693.6,348.61,5257.339999999998,3612.36,449.07,1624.7599999999998,1650.0,450.0,862.49,350.0,4000.0,500.0,787.91,350.0,889.02,8272.100000000002,4029.460000000001,6923.68,13502.62,421.51,999.16,15624.65,2545.1600000000003,1539.23,180.0,14790.840000000002,6277.09,5033.98,1069.2,1880.48,4712.69,2176.9,29055.89,150.0,40438.26,2072.74,715.1199999999999,18216.14000000001,3670.769999999999,2697.78,4039.25,5511.43,346.84,3722.74,6981.160000000001,1.0,2436.45,2887.99,7790.77,9099.379999999996,4280.93,264.24,1199.07,9289.17,8078.959999999999,2130.51,16623.61,3213.32,1658.42,500.0,1656.25,2022.34,411.9,18318.17,5130.969999999998,497.67,2367.41,2609.51,14414.780000000002,1481.9899999999998,228.11000000000004,480.0,1551.74,2975.77,29957.68,11628.080000000002,4700.0,4953.599999999999,2387.09,28621.1,817.38,3321.3099999999995,3865.67,622.27,1665.41,2809.67,999.19,2750.0,455.1099999999999,881.76,18911.88,193.62,7676.12,1350.0,1871.51,6660.0,6687.830000000002,3600.0,344.52,2538.77,4530.6,6574.349999999998,6219.32,166.99,1237.94,2964.5499999999997,17250.069999999992,8426.04,733.3699999999999,2052.49,3952.89,3901.56,1350.0,516.3,951.75,7156.4,2814.65,2000.0,13304.7,2250.0,1409.66,2660.0,35551.619999999995,6464.91,5578.169999999999,2268.45,6089.400000000001,155.0,2066.59,2340.0,1045.53,1639.07,4705.88,17425.62,34499.68000000001,16140.93,3443.46,1420.39,630.0,3233.000000000001,1079.81,1809.63,739.78,850.0,3520.0,3250.25,7199.82,3298.48,3560.0,15270.78,3174.94,2081.13,5067.9,6171.46,203.21,2395.68,11320.09,1200.0,400.0,391.3599999999999,9863.2,2468.44,9578.54,708.2,2736.79,11167.860000000002,744.34,900.0,1068.71,5338.779999999999,2387.93,500.0,2289.15,34853.83,1489.52,171.75,1179.6,1619.8,33900.0,360.42,6499.03,1713.3700000000006,879.0400000000001,2052.67,4145.23,2336.71,7591.09,6210.389999999999,646.64,20611.73,10035.92,3506.33,4250.0,1000.0,7997.58,13855.490000000003,4753.51,200.0,1168.16,3167.0,884.01,297.45,5543.780000000002,1221.84,2450.1100000000006,11792.78,13343.56,775.0,2266.22,2009.6500000000003,11580.78,2681.2000000000007,1518.0600000000002,999.49,5084.83,1873.71,350.0,489.38,10160.820000000003,16279.36,1087.56,30906.01,5487.18,2833.89,2042.87,3569.97,2500.0,329.69,822.6,3324.0,1962.58,5000.0,300.0,8548.1,4350.360000000001,1660.97,838.68,9119.61,2649.53,523.22,24329.44,295.71000000000004,136500.77000000002,2366.84,150.0,1150.0,669.63,3408.91,949.8,6850.55,2256.9,10999.94,330.49,4960.0,4964.62,173.86,12110.65,1699.4,1192.59,8889.28,100.0,1000.0,19726.77,996.16,3995.56,1487.26,35508.78999999999,1049.45,150.82,7199.120000000001,3050.04,7879.949999999999,22647.83,1200.0,1539.74,1909.46,4898.3,2750.0,2244.52,2141.8,450.0,1660.81,1832.0,4005.77,650.0,170.89,7394.400000000001,4517.79,194.03,1200.0,410.65,610.5699999999999,12820.0,288.14,17359.690000000002,1154.01,1364.6999999999998,6886.22,6160.12,1130.0,8382.23,1262.74,1539.78,3963.88,100.0,5776.460000000001,3942.92,1699.6799999999998,1796.97,841.0799999999999,980.25,1054.76,149.54,17833.21,5020.2300000000005,2812.94,7484.92,1786.73,2902.71,7675.21,10643.96,5206.46,567.32,4070.33,1755.45,434.88,1090.83,14902.97,1221.1199999999997,524.5899999999999,1209.9699999999998,539.2,1598.29,1494.63,2150.0,6286.27,10073.78,3899.09,1535.64,8794.070000000002,8454.45,10197.87,850.0,13330.27,55.44,12165.61,4800.0,459.12,5399.67,21918.13,635.49,4000.0,1275.0,950.0,1125.22,1659.54,8189.149999999998,3162.02,9268.449999999995,11561.29,1244.4299999999998,500.0,1639.87,4204.08,28476.38,10117.97,7509.15,795.05,2872.88,19990.0,10808.05,1143.96,1301.63,3521.58,280.4,2287.8,22166.29,1259.36,14811.29,21237.22,695.85,7522.299999999999,200.81,1335.0,1657.6799999999998,4011.91,12622.74,10348.78,50.3,7731.47,51.89,510.65,3616.29,1573.85,3169.64,1404.9,41060.79000000001,3336.81,1870.56,3213.43,353.7,119.84,728.27,1245.89,350.0,2774.4400000000005,1200.0,1580.35,450.0,4746.26,8333.189999999999,1068.15,1055.19,279.82,2541.58,5275.0,19982.370000000006,7381.11,1661.3,12880.0,9949.199999999995,364.09,71018.13000000003,1086.9,1675.0,87.59,700.0,2080.64,2148.05,15529.89,3983.65,7211.039999999997,1666.0,371.7,486.54,2796.99,870.0,1608.82,27407.03,60.27,12682.75,1962.25,11553.52,5580.0,3857.6,2099.06,1404.4399999999998,1659.9499999999998,700.0,45643.53,18780.0,7454.459999999999,510.03,5699.950000000001,110.0,6095.2300000000005,6260.88,2258.66,7480.610000000001,753.6400000000003,3808.76,365.77,9548.72,318.8999999999999,1069.26,5480.21,11132.81,510.0,33122.11,1200.0,4843.1,1042.43,1951.59,15197.39,3554.75,21669.5,6094.58,44702.16,1658.81,5227.57,1773.01,4569.250000000002,2703.82,22249.9,655.76,5107.96,2413.35,42895.0,1051.38,1097.58,2200.92,100.0,722.19,1969.42,4800.0,1199.02,7740.76,13866.31,570.3,1047.83,1000.0,7928.0999999999985,900.0,12417.120000000004,61.89,692.91,2491.49,563.24,27496.32,9679.01,370.48,1843.3,6564.47,16737.949999999997,6543.77,740.0,791.69,1658.46,850.26,15422.419999999998,14326.19,10291.850000000002,10574.27,1445.1,136.77,3551.51,770.0,699.75,7502.549999999999,750.0,1589.47,757.6,3927.83,43917.14,2039.0,9286.44,20944.32,2956.78,60.32000000000001,3569.84,16515.52,2629.5699999999997,1560.0,15267.29,2614.68,10042.78,15240.0,510.14,844.52,50.0,1985.69,1901.11,8198.489999999998,29337.82,8478.13,104.84,2030.0,59.32,10211.23,464.16,350.0,3231.98,2082.38,764.0699999999999,1529.06,6499.83,8776.769999999997,348.95,4971.51,3703.38,550.23,4901.32,1967.0,2286.78,1052.36,566.98,850.0,1195.88,11924.37,5379.92,4103.4,4279.0,560.0,9199.13,350.0,6874.999999999999,5723.67,11726.64,29999.550000000003,262.47,10713.850000000002,100.0,850.1,6927.02,50.39,3926.78,20177.04,1582.38,750.0,1907.57,13478.64,12238.61,10043.56,1382.54,3296.96,1543.66,2277.88,18647.29,1169.84,738.95,8910.89,4881.06,750.0,1602.5500000000002,100.0,711.4,350.0,6980.0,412.79,3286.42,459.25,2695.6200000000003,109.23,12384.11,1221.28,350.0,19286.72,1505.92,2020.84,2291.3499999999995,3599.1400000000003,1210.58,105.49,3500.0,2800.0,3703.5099999999993,1992.15,4036.11,1179.64,2101.0,1190.83,3406.0000000000005,7762.63,43409.29,744.1299999999998,1497.51,700.8699999999997,7575.63,45901.54,290.59,749.9600000000002,3000.9,1249.12,1982.37,400.0,6551.88,4989.91,939.2,475.0,110.0,10126.380000000005,1350.0,7000.0,10329.34,11542.670000000002,716.23,15629.62,5344.579999999999,8026.08,13649.33,3484.17,3562.49,10930.28,9146.94,1812.35,509.41,1625.34,1479.99,1080.23,4093.05,6000.0,10664.45,17636.96,60.0,406.65,1196.3,2320.01,5009.06,4697.56,10012.18,1028.21,469.69,2512.68,1658.89,11160.440000000002,1568.21,11385.19,3013.53,638.5500000000001,1643.47,1656.23,3729.32,2586.46,1364.05,1655.4899999999996,12704.44,59.55,4259.63,1429.44,998.75,1727.28,8121.25,6906.61,363.37,23882.6,13421.31,3866.0,1338.79,15867.45,4389.0,20913.28,4751.2,11371.46,259.58,2429.29,1998.7200000000005,60.0,6909.78,18129.86,420.0,1529.06,4375.02,1888.65,799.89,568.66,1176.89,5212.409999999999,34953.88000000001,1540.97,49.61,10134.86,650.0,1861.9700000000007,700.0,3186.73,504.99,8299.030000000004,726.47,20559.82,8078.16,973.6,29768.14,68292.98,209.51000000000008,5879.85,13744.81,850.0,707.84,20917.68,2579.63,2000.0,1350.0,830.23,9444.27,5591.200000000001,20802.47,60.0,986.0599999999998,1207.24,5855.520000000001,127.23,6399.3,14944.76,1200.0,500.12,1000.0,538.86,1169.5800000000004,8821.14,4615.0,2768.84,1469.53,2288.26,7713.91,166.98,2580.74,54286.62,6054.16,866.5300000000002,5585.19,3268.81,144.18,3521.24,320.08,1110.76,1658.55,2599.21,2928.43,1200.0,11962.85,527.71,712.84,1350.0,4276.68,3673.03,1399.38,1993.4000000000008,977.4,16766.37,11838.52,1349.1,6810.87,15619.62,1052.97,125.46,400.0,500.0,900.0,2210.7200000000003,20.0,329.78,511.0700000000001,2171.47,1300.0,4635.440000000001,1790.09,1144.77,7140.45,4205.0,33869.45,3158.1,26285.23,4279.6,909.91,9999.9,700.0,6706.2,1660.97,200.0,26939.22,550.0,543.04,29467.24,4339.0,5492.01,681.9300000000001,1400.1900000000007,246.9,25784.550000000003,4030.37,6729.799999999998,307.21,2852.88,6855.56,17100.260000000006,1033.01,1779.06,1150.0,606.93,4925.239999999999,1640.35,592.41,1200.0,1070.0,1595.85,10000.0,4800.0,3857.0,1638.8,3711.65,17408.059999999998,1349.8,1818.3,3989.43,1218.66,9310.18,31586.69,5733.9400000000005,6437.57,162.81,1185.03,2636.16,1399.99,17484.460000000003,860.9100000000001,2929.1000000000004,6185.35,10023.78,5133.790000000001,850.0,2247.83,19514.0,5268.99,100.0,6979.709999999999,3699.78,10900.0,7425.34,2335.1800000000003,4020.61,7638.89,4321.4,360.13,5000.06,10875.820000000002,23663.99,12433.88,750.0,1779.03,1350.0,2029.84,1254.14,685.2700000000001,1326.84,6427.272933078035,850.0,6053.31,6226.259999999998,132.56,12716.53,10792.81,3759.43,82.24,57.72,7498.37,1200.4,1618.14,15378.29,6712.079999999999,2277.99,443.97,861.5600000000001,8079.79,3527.77,31303.38,1212.3100000000002,1661.58,1200.0,7095.780000000001,2336.43,950.0,1040.0,5545.59,1563.7,4750.0,18615.140000000003,3619.82,14555.950000000004,361.62,13233.160000000002,1112.38,286.0,398.21,968.68,952.64,1771.0,31446.96,2109.91,394.2000000000001,4717.050000000001,1202.54,2171.01,5749.72,5204.81,1479.94,700.0,5622.18,2302.6,0.01,6685.28,715.45,3617.57,700.0,7887.449999999999,7270.45,3190.62,1657.96,669.74,11280.850000000004,965.4,2004.2,657.23,1072.28,1700.0,1350.0,4901.08,149.39,6356.929999999999,1656.54,14008.710000000005,920.0,6405.790000000001,1474.32,921.08,83.07,253.95,4587.58,3291.0,11442.06,14596.88,19454.99,2001.1700000000003,738.8200000000002,3820.520000000001,3902.14,6729.639999999999,5309.53,3389.93,441.0,350.0,3095.22,257.27,775.9,12861.89,8250.0,83.48,100.84,29414.450000000004,1873.17,749.61,1463.86,1304.0,199.78,2443.33,10460.46,12931.8,2095.23,12863.23,14623.500000000002,1288.94,500.0,5622.92,152.73999999999995,1268.24,42577.69,2256.9700000000003,434.1,1300.0,8956.42,899.7700000000001,5520.35,1275.41,60.0,11299.34,1291.82,27671.34,2400.0,1720.0,2260.0,1173.3799999999997,149.53,2180.05,12770.23,4650.79,3240.6,927.44,699.3,3765.5900000000006,13517.97,3779.07,6043.85,3347.51,17757.02,7782.89,24993.35,3682.95,4873.56,10379.75,2844.68,2026.23,32333.88,721.4299999999998,5378.39,1097.9,2189.8,1727.41,1019.99,2079.44,6262.200000000001,29743.43,3401.12,55484.34,0.12,11623.0,350.7,2580.0,350.0,302.65,699.06,2160.17,30229.830000000005,1832.8,1286.1,7077.910000000002,2403.64,5236.57,2422.47,3840.88,26932.96,550.0,4681.27,1420.0,1383.4699999999996,4620.0,11094.04,2352.4,1387.8,27366.77,350.0,375.0,7853.750000000003,1661.39,2190.0,11083.6,1271.3,8557.87,1999.49,6720.989999999998,374.24,4083.11,2332.19,2730.24,8559.880000000001,8118.940000000001,3791.83,31166.25,9719.13,6080.0,2265.06,129.24,350.0,1629.12,3240.960000000001,67.61,11626.92,13579.33,759.8299999999998,1413.65,934.16,699.32,2036.55,1577.08,7797.01,1582.14,706.94,2185.0,11758.58,7774.669999999997,2025.0,15399.1,6523.599999999999,5519.9,3570.0,390.24,23006.19,15535.249999999996,7258.73,1980.0,500.0,9482.27,229.35,1723.74,1000.0,1881.92,1891.4400000000005,10926.6,475.0,1792.02,17343.61,9805.93,2576.4,8690.13,2015.14,334.73,839.2900000000001,2300.0,414.6,2075.63,524.1899999999999,17126.030000000006,769.67,9048.19,6226.24,19399.90000000001,13632.57,6252.03,1296.74,3198.87,9636.61,4806.360000000001,696.8999999999999,1333.61,1669.97,349.87,22616.62,950.0,5697.160000000002,1350.0,1955.07,23768.34,656.9100000000001,607.16,950.54,1663.74,26541.700000000004,13747.989999999993,1908.79,11089.14,4813.529999999999,167.07000000000002,363.3099999999999,1659.11,675.41,2114.81,1024.93,493.58,350.0,361.1700000000001,5609.48,12415.41,27328.2,4548.449999999998,950.99,7499.879999999998,180.0,7455.0,15325.47,4332.75,400.66,1102.29,1408.14,1111.38,3505.0399999999995,8611.48,1656.83,2999.1800000000003,1777.94,2563.25,2603.69,2085.44,1165.29,1659.79,4226.0,363.5400000000001,1560.05,481.66000000000014,1868.73,3570.0,15155.04,1394.96,338.67,4211.58,597.92,1040.0,2750.0,1963.37,5070.35,1735.43,25.98,1870.61,2355.07,29999.59,220.45,13613.75,1000.0,1421.5,21609.25,836.42,72.3,560.6899999999999,4531.32,3529.0,7094.15,859.89,4522.289999999999,350.0,2081.21,1850.0,5511.76,9644.88,2229.51,3226.92,2181.73,819.26,1976.68,778.12,2432.23,1460.0,690.0,1103.77,2497.86,646.1899999999998,969.0,473.76,594.16,13063.66,984.67,7635.54,6107.470000000001,350.11,5528.93,43690.41,28866.92,8013.41,4106.98,427.5,14452.36,6151.749999999997,12743.84,1615.38,1000.0,17820.8,936.89,471.38,4154.67,2825.65,9831.870000000004,4769.99,5969.619999999999,3341.35,7447.22,3948.28,6584.35,8297.69,5843.92,617.68,15213.269999999997,444.43,11675.09,1433.37,5000.0,6878.750000000001,33335.49,1000.0,11262.21,5596.52,19141.53,9099.18,7135.62,1152.14,349.07,992.71,999.08,13067.92,4194.819999999999,646.29,400.0,5051.73,266.26,862.37,757.86,49405.7,5221.67,28723.300000000003,2009.07,1106.21,969.08,515.12,11535.339999999998,890.0,2750.0,2283.1800000000003,32012.28,350.0,3372.55,3948.24,750.0,1104.4,910.0,1661.25,1397.02,429.02,4159.789999999999,12973.11,515.19,1982.6,2537.37,2013.79,1614.54,8395.48,2630.56,11615.080000000007,3464.96,3672.86,475.92,2132.49,7000.0,5291.57,24864.369999999995,152.34,1132.35,1661.13,1849.52,14349.45,1710.12,3374.1000000000004,3517.87,4800.0,20554.96,15302.37,959.4,25087.680000000004,602.32,950.11,14386.63,699.8399999999999,1009.94,4226.73,859.36,949.95,9346.74,2886.75,724.67,10632.22,60.0,16508.95,30072.05,19294.94,82.66,1090.0,2200.0,5394.72,850.0,253.79,496.44000000000005,4788.91,2072.71,1436.55,2613.04,3684.06,1019.0,2419.1800000000003,391.53,7566.21,1251.6699999999996,228.36,2651.52,13219.4,1504.36,1190.0,971.22,771.16,7373.23,8770.810000000001,1099.83,2022.42,537.14,2906.14,3109.1,2680.0,2665.05,452.38,5513.700000000001,9503.57,731.14,2136.94,10422.66,2928.24,2692.7200000000003,9110.0,16743.510000000002,11965.13,213.66,5579.62,1709.2,50.0,370.62,7558.339999999998,2106.34,1250.0,1218.21,1359.43,471.17,2750.46,3498.4700000000003,11182.19,4214.06,1920.92,2464.37,4000.0,2369.54,365.4199999999999,4878.82,412.94000000000005,5674.939999999999,596.81,2519.35,2520.0,2096.62,10326.77,1908.82,1015.87,19120.69,2820.0,1136.51,7160.0,4028.37,1469.6,4999.139999999999,775.62,493.96,3096.49,950.0,12904.239999999998,804.0699999999999,1472.8,17202.78,1600.8,8417.57,14096.41,5545.789999999998,2958.52,60.0,1156.71,1437.59,561.99,1005.62,9266.61,2750.0,1200.0,3888.190000000001,3900.0,363.54,2197.05,6784.58,5890.0,6427.53,15814.29,539.4899999999998,749.67,14354.54,2957.64,4424.899999999999,1160.86,5771.99,4497.17,1656.58,5114.370000000001,800.0,3092.0300000000025,4041.76,6999.989999999999,7345.03,2728.270000000002,5619.45,1055.22,850.0,10667.06,1667.9,5299.75,153.92,6142.0,1000.0,789.72,5120.0,100.0,2522.84,6649.15,2538.57,36127.75,1008.74,17384.14999999999,4430.0,1315.92,5084.52,3098.82,1128.6,1814.72,1632.77,90.64,3829.77,15817.79,5949.3,6526.58,10367.54,3445.24,7782.55,449.18,15363.95,729.96,680.0,2215.49,720.5799999999999,809.2,1171.49,15045.180000000004,4507.05,549.25,27622.23,50.0,5360.0,1237.77,4835.360000000001,6291.709999999999,10564.5,11665.070000000003,2996.9,32339.23,2800.27,12380.03000000001,1109.5400000000002,1666.0,12346.07,4332.959999999999,7434.130000000002,3202.64,400.0,16516.18,16724.239999999998,1718.91,1240.81,540.0,120.8,2918.88,34199.51,1436.35,2438.56,2008.94,49.15,700.0,1931.22,595.63,16124.99,400.47,1099.32,26527.19,2131.2200000000003,25102.98,7784.490000000001,700.0,24650.0,1657.53,27.6,598.18,690.5899999999999,4046.2799999999993,57.77,5519.919999999999,3592.18,5691.8,5134.22,1780.86,1314.03,1000.0,1964.18,6152.95,836.59,1200.0,15289.35,2120.0,1660.71,612.35,1114.95,530.0,14992.14,2571.26,519.3599999999998,1528.48,10466.17,1568.61,1529.95,304.05,1000.0,22356.89,4701.29,30197.5,700.0,7667.47,2980.64,12356.4,9959.570000000002,6575.86,1656.07,14410.710000000005,1392.64,2826.46,6095.33,1000.0,3138.55,3390.7500000000005,500.0,2417.56,4412.78,1033.77,680.0,2649.73,4400.0,18379.95,19748.45,867.58,915.75,3057.56,7375.16,7286.9000000000015,1532.75,299.06,477.05,539.06,12671.559999999998,1873.13,11014.04,86.89,1404.14,3472.07,15868.02,1872.59,915.36,3158.08,3165.3,3598.84,2920.0,12423.81,2587.45,6317.899999999999,12584.76,2204.7,3502.8,2394.11,14519.23,12686.839999999998,1336.5,1690.09,5819.9,1388.17,2832.84,3186.56,1120.0,904.84,5329.95,529.9,445.69,11211.68,1640.0,23105.689999999995,7023.34,152.87,2083.9700000000003,11429.42,1590.72,7071.8200000000015,8729.16,2129.7,2519.59,700.0,272.09,7850.0,781.8200000000002,1749.0,1657.46,1227.78,10099.51,6301.35,1714.97,769.9100000000001,900.0,3860.710000000001,2080.0,1891.2,2250.97,4739.219999999999,3962.190000000001,7577.2,1200.0,783.81,699.3100000000001,1656.0,717.2499999999999,9659.7,4962.860000000001,26827.49,20699.13,551.55,1720.0500000000004,50.07,10999.16,1656.38,8146.16,1206.31,2436.91,225.35,709.84,850.0,5927.38,25755.250000000007,475.68,1174.18,1831.9,2500.0,593.3,50.0,87.92,1634.74,3073.46,794.14,39086.04,29107.33,542.37,1835.89,15348.890000000005,2691.11,456.17,760.0,1657.89,1944.32,3710.85,1000.0,700.0,5227.81,7038.23,1500.0,2666.5199999999995,12119.19,3233.61,1071.29,17696.76,14374.72,2069.3,4157.47,17403.31,463.77,50111.84,7913.990000000002,3223.85,120.76,149.02,9360.0,27102.7,622.86,10286.300000000005,19118.15,1075.45,1141.85,6329.660000000001,4213.72,1753.2100000000007,1657.09,150.0,3532.08,1500.0,495.43,6999.91,25231.96,1541.59,2169.26,21573.97,890.0,19638.85,12259.35,5446.85,588.0699999999999,74.73,5378.27,63.14,4876.2,5018.950000000001,41499.22,3147.88,6653.88,3462.629999999999,2250.2200000000003,7080.239999999999,739.1,13910.6,1007.98,1206.5,13046.0,2250.0,2199.16,7458.0,328.82,2052.63,475.0,702.24,29999.29,1200.0,4997.49,678.39,1432.99,2004.31,8985.32,1935.09,3149.2200000000003,1042.07,567.2899999999998,3178.28,3420.3100000000004,2879.18,1659.01,1292.81,1350.0,803.01,639.5600000000001,6957.42,923.68,1247.96,1401.82,1464.21,1846.05,1656.14,2819.96,20768.63,7539.180000000001,4346.8,681.41,349.71,842.44,920.14,1350.0,3896.620000000001,24308.93,32022.09,3366.379999999999,8564.44,2862.76,14468.33,11888.85,5743.29,10420.0,1658.76,8677.43,10507.09,6231.52,9399.36,69687.56999999999,5134.55,1050.0,349.92999999999995,2501.76,12465.88,107.17,1305.59,571.05,770.0,1092.32,19359.29,365.64,2168.6100000000006,18107.76,6838.860000000001,1459.05,9855.1,17313.79,13507.86,1712.79,13225.36,392.28,768.27,1244.04,4588.36,218.02,12670.330000000002,2320.0,1087.32,11156.47,20816.45,3223.0,127.91,1944.63,6984.54,1786.36,2000.0,3334.4299999999994,1881.12,11148.03,20260.68,1153.33,11209.89,7122.870000000001,1010.61,14321.28,2623.91,1500.0,11930.0,54.31,14104.41,1960.0,5083.670000000001,1817.28,1367.49,11010.28,17655.2,7625.69,1549.5,113.57,3660.04,9461.320000000002,1508.88,1623.7,43948.06,2479.41,8479.869999999999,661.22,5267.04,28790.97,60.0,100.0,1655.66,1400.0,6621.17,3106.2,3576.22,2070.27,9230.0,1200.0,452.75,10872.619999999995,1423.2699999999998,2400.13,2694.59,4517.95,233.45000000000005,4314.23,763.05,3807.7,1547.0700000000004,64.69,6547.91,2989.8,5588.67,587.13,350.0,6392.87,3687.69,35683.03,2977.3100000000004,2412.83,1725.77,33254.74,7992.140000000001,7883.94,9403.030000000006,1229.14,150.0,1439.89,17727.560000000005,586.28,500.0,5000.0,1361.37,1000.0,974.13,1530.0,7000.0,3959.11,754.01,2058.23,4800.0,4927.6,5816.629999999999,742.15,13047.320000000002,50.0,661.2,14097.549999999996,1319.84,2683.7999999999997,2520.0,6220.0,504.84,2545.84,180.23,1346.87,1441.16,100.0,1250.07,11428.300000000005,1253.4,1235.14,13322.94,1685.51,3372.35,11745.37,2537.22,7890.44,680.0,2120.0,3238.97,2750.0,7000.0,687.06,2179.22,640.0,316.49,1068.0,17221.6,6305.680000000001,1854.52,484.71,9314.96,15014.889999999998,5552.56,419.92,2239.63,850.0,5119.78,696.2,14114.46,1658.14,1459.82,6007.699999999999,1100.8200000000002,643.8900000000001,24747.89,7858.530000000001,15260.0,12622.28,749.0699999999999,281.52,2970.0,12377.469999999998,7289.96,1672.67,10938.21,1290.0,23162.639999999992,57.03,299.91,28169.320000000003,2195.5,7783.6,2460.5399999999995,1241.9799999999998,1946.13,1887.82,6998.22,2968.0,7596.27,850.0,1199.14,1994.68,2580.78,508.61,5952.41,500.0,4991.12,8199.81,7135.53,1000.0,2000.0,4572.87,1448.32,350.0,959.98,2555.62,1000.0,5149.929999999999,587.3800000000001,350.0,2998.24,167.0,8036.85,17840.9,24705.790000000005,12719.64,640.0,700.0,4265.490000000001,1200.0,1186.6,936.55,916.49,12318.66,19764.86,7217.67,4140.259999999999,800.0,12890.579999999996,645.12,741.69,99.0,715.05,18020.36,27960.69,12242.820000000002,581.9200000000001,906.95,4595.63,15779.420000000002,1159.54,12350.419999999998,522.52,1310.0,3080.0,86.29,350.0,393.32,834.3399999999999,3272.02,3000.0,790.0,9760.7,15794.18,6562.629999999999,640.62,1161.12,4501.69,2473.379999999999,60.0,4490.13,3555.1400000000003,850.88,1385.8,710.12,1166.83,4753.360000000001,3098.56,3733.15,3344.5,3642.65,2518.67,6503.070000000001,1671.7099999999998,7209.299999999999,22273.17,381.76,398.08,4615.05,265.07,4326.44,786.5999999999999,828.1299999999999,3763.59,61381.03,14667.43,759.98,1200.0,10129.53,1960.76,3210.27,4529.56,2437.79,9532.339999999998,1524.54,6860.0,14614.1,30322.99,4228.1,1389.01,5619.910000000001,1559.9599999999998,450.0,5350.56,4275.259999999999,882.15,700.0,1570.0,17980.12,900.0,151.56,32545.96,10302.13,2338.64,5307.780000000001,1656.0700000000002,23666.35,6633.01,3589.57,5639.74,1327.36,4999.62,14750.0,1118.0,400.0,10039.04,7748.98,649.66,1328.3,3434.07,31140.27,1189.13,16079.12,6928.78,2472.95,3860.0,1350.0,6663.25,2367.4800000000005,10729.7,1.29,318.8999999999999,68160.07,1008.72,522.12,1757.4,9349.77,2726.01,23221.58,367.42,917.64,765.43,5182.92,2128.73,16037.999999999998,370.0,1199.37,1439.79,9524.11,1071.65,2739.02,4221.820000000001,802.02,500.0,17439.91,13373.33,22882.689999999988,380.24,1060.0,1999.96,590.5,7280.919999999999,472.98,5668.140000000001,7543.44,19397.15,268.18,1226.0,330.43,2678.37,2390.1599999999994,618.9,488.47,7081.59,13289.11,4492.41,850.0,759.02,3574.73,4460.52,24000.82,6173.660000000002,5362.21,26784.82,5034.0,9014.11,845.0200000000001,4031.27,5449.48,899.0,3139.68,100.0,2555.7300000000005,700.0,6090.0,676.4,1512.28,1660.26,22922.96,2837.34,6282.19,5522.1,3618.0,7000.0,2378.97,9736.73,235.23,348.67999999999995,1942.02,375.15,1107.51,550.0,15285.11,13227.94,9745.66,794.87,8689.99,31093.490000000005,1567.0,2044.2,2583.11,972.44,6379.820000000001,16106.98,17429.07,4672.33,5764.719999999999,17100.34,357.37,477.15,5026.05,36452.76000000001,9576.21,12505.33,221.6,3955.66,31195.58,2833.7499999999995,2542.33,2100.63,400.0,560.0,6805.33,10475.98,1000.0,7545.26,350.0,732.86,21686.15,1132.45,3600.0,60.0,3042.07,39223.53999999999,17639.1,6752.83,5486.660000000001,5625.06,722.5400000000001,100.0,12050.88,1656.07,2750.0,4681.639999999999,1799.25,19875.09,2374.89,1656.7099999999998,700.0,2009.94,1006.28,2390.75,524.28,16818.030000000002,18366.69,2254.1,123.34,7690.57,24571.360000000008,480.25,2845.2,712.47,6434.12,235.48,3459.9500000000003,13098.740000000002,1200.0,663.5500000000001,550.84,328.15000000000003,3157.55,5058.64,3504.0,787.14,22440.07,262.59000000000003,7393.96,1210.0,180.01999999999998,15813.98,2848.74,322.99999999999994,880.0,9398.29,420.94,1266.14,8343.25,521.79,80.19999999999999,27025.28000000001,4890.09,3090.0,6859.24,1000.0,821.33,3050.21,3541.1600000000008,1255.93,59.48,100.0,1884.11,1519.36,4519.91,1200.1,55.05,5793.44,10492.72,3321.53,9690.740000000002,6999.320000000001,6967.18,18158.35,4085.24,16855.16,2429.0,2372.8100000000004,7380.0,452.78,1898.67,16491.89,2750.42,365.27,298.0,7150.0,288.6,8222.659999999998,5350.72,847.4399999999999,2326.15,699.58,3686.84,1852.57,93.25,1249.03,4187.24,3591.380000000001,200.0,2476.86,4944.42,737.05,1659.41,867.79,2691.7800000000007,5623.4,188.87,5966.49,1818.77,13479.45,2132.6000000000004,183.86,1658.74,490.0,350.0,1665.7199999999998,1489.85,1597.51,2608.5200000000004,1720.0,1498.02,3381.880000000001,1200.0,549.74,750.08,3175.05,15318.81,45226.92,9490.94,1910.0,11328.18,20752.34,4253.92,1935.32,1529.06,6814.639999999999,1656.32,500.0,3960.0,975.7,2530.3399999999992,1751.71,6303.85,36775.43,3151.9700000000003,9460.210000000005,1376.3000000000002,8508.46,360.21,50.0,2500.0,1174.17,14397.77,8559.33,3401.66,13345.28,1836.74,3588.57,1480.9800000000005,7018.79,754.76,1657.5600000000002,2188.78,11631.68,1858.73,311.39,133.32999999999998,20300.0,2798.88,1339.3499999999997,2088.84,775.4300000000001,16036.2,3486.53,14250.04,673.14,708.8299999999999,996.73,8426.35,4785.48,16419.52,2981.7,7134.279999999998,202.84,4355.559999999999,2297.97,13617.56,2757.7,196.48,18730.24,11972.44,35691.69,14742.06,10716.05,2396.2200000000003,50.0,5789.66,6823.660000000001,1655.67,5968.1,20000.0,750.0,18691.8,11066.85,3221.71,1536.9,939.88,1151.89,21242.35,2605.15,1914.24,1037.03,5251.0,50.0,5216.78,4780.0,7346.670000000001,542.22,763.72,403.27,732.94,29129.41,700.0,22994.98,952.12,515.12,8797.699999999997,1439.14,6876.54,8299.37,1373.8500000000004,409.73,1658.87,4257.74,13095.76,4799.8,212.57,9684.35,30499.18,951.43,2308.15,2978.5,5599.41,107640.0,1100.0,6813.169999999999,3750.32,2770.89,10492.71,37565.08,3282.42,601.0699999999999,1329.4499999999998,8788.76,2069.21,821.0,10355.2,19624.79,1661.35,1262.27,4542.83,859.94,10759.2,12258.460000000005,640.4,767.88,2582.22,2650.15,31127.00999999999,8189.59,2659.58,612.99,4298.8,2383.74,18105.53,11129.38,12002.93,26607.56000000001,262.57,8479.779999999999,7070.1,265.30999999999995,9810.0,213.01,34267.33,92.96,40840.38,13954.21,1940.0,3100.61,203.29,4394.400000000001,8414.829999999998,769.96,60.0,866.8100000000002,37594.18,16299.919999999998,1570.7,2151.87,1936.93,365.2799999999999,7455.07,887.1199999999999,2026.63,1312.9299999999996,708.26,10149.11,2500.0,2400.0,6309.14,2992.6,3922.94,3637.3,990.0,374.99,4469.33,50.0,3693.01,1244.33,5123.219999999999,4773.59,1690.4900000000002,2000.0,11245.72,500.0,4410.0,100348.89,1607.95,6431.74,1280.13,360.1600000000001,6236.44,157.1,1985.0,13661.73,5109.46,2528.7996531554177,1726.85,998.97,1779.44,3739.07,1928.43,5692.109999999998,12710.6,8270.72,1253.6799999999998,1599.66,14269.33,416.13,425.77,7829.91,111.11,4923.82,1183.73,2400.31,15140.88,1658.74,1597.3100000000002,641.67,13899.409999999998,4171.39,2269.85,2760.38,764.27,825.66,1036.28,778.94,1143.33,32412.17,2562.22,4759.169999999998,5302.06,2040.0,861.28,6680.0,47810.49,4625.89,450.0,5977.720000000001,1266.0,507.31,1948.07,10597.44,3091.48,8182.95,956.9,562.51,17829.1,8614.0,14334.64,2100.0,450.0,1746.16,1700.2599999999998,596.26,850.0,22006.17,350.0,743.6500000000002,2047.64,14000.0,6185.39,2115.31,1448.9099999999996,1379.17,1818.85,1885.19,1800.0,1588.48,3999.22,4619.64,1464.44,1632.5199999999995,188.63,3276.67,236.3,957.51,24927.5,5634.260000000001,2601.65,4366.74,543.0699999999999,10218.65,21689.68000000001,2350.0,964.34,207.25,750.0,500.0,1385.65,6484.860000000003,327.26,1909.42,1729.5300000000002,3587.64,5615.130000000001,347.01,5859.2,1693.4699999999998,378.99,12787.510000000002,15232.46,2126.2000000000003,5158.91,2085.7499999999995,3869.85,6443.410000000001,3820.79,649.97,457.35,5521.53,2052.59,3419.57,6434.34,3911.45,4471.66,8244.510000000002,1554.93,1569.3000000000002,1050.0,2310.93,2504.91,3289.22,382.3200000000001,5144.52,793.89,1710.72,1320.0,165.99,129.85,12000.0,4054.480000000001,971.74,15368.62,2189.86,1759.64,1656.39,729.95,2422.59,120.49,1661.64,3023.55,1484.56,9845.990000000002,4689.489999999999,500.0,5490.0,1356.4800000000002,5381.23,5347.240000000001,2934.94,365.5999999999999,127.53,2093.14,4728.09,7211.179999999999,470.0,1661.39,891.45,1778.0,17194.91,1657.7199999999998,28909.08,3477.5299999999997,1350.0,4100.91,8111.039999999999,325.89,85.05,100.0,349.08,16893.479999999996,12644.27,96.23,1004.31,1600.0,1100.0,1300.64,1400.0,641.13,839.57,17554.5,9892.6,327.25,179.82999999999998,107.83,43.29,2622.65,25731.76,770.0,3018.16,8110.0,5762.97,125.82,1919.77,5342.009999999999,930.0,4627.17,20647.92,28899.11,899.42,2186.79,3827.33,5996.63,142.94,16253.71,212.82,1159.64,11573.25,8598.03,2480.0,1000.0,3200.0,54.53,1659.6,2432.45,2276.58,7360.0,538.9,3284.25,47906.17,999.36,2761.57,108940.76,144.75,1050.0,11699.259999999998,1470.0,10971.46,4571.04,3940.0,1640.64,2709.67,8687.36,6269.73,1304.47,2184.76,2845.13,26747.08000000001,8735.949999999999,370.16,549.0799999999999,5042.42,1656.6899999999998,11368.95,1400.0,700.0,3090.53,2238.98,11009.81,188.88,1003.59,170.01,4469.56,2400.0,831.38,4549.740000000001,307.33,420.87,3913.26,4500.52,1471.28,28329.05,9599.740000000002,955.19,2948.3900000000003,2459.5,2557.06,6470.0,4843.18,1000.0,3909.49,150.0,11263.14,120.73,6929.12,6369.41,2407.35,2445.55,2328.1100000000006,350.0,1213.26,1559.48,23979.03,94.57,6431.27,349.7,9140.74,1239.33,3824.13,1408.59,4909.459999999999,81863.0,2687.8600000000006,350.0,1387.56,57.55,1117.09,7562.739999999999,422.01,1327.58,1152.99,14546.340000000004,3110.12,4234.4800000000005,16314.3,7560.23,9893.69,522.01,594.86,4385.870000000001,6548.86,63.49,5682.09,5911.759999999999,3216.6800000000003,989.24,1479.8000000000002,5059.71,3100.0,3652.829999999999,10919.13,1540.0,8717.91,40623.47000000001,12667.57,429.8,30341.10000000001,382.06000000000006,1604.41,4149.4400000000005,4758.26,2050.0,1414.79,2743.4500000000003,625.73,1148.26,1493.91,9162.000000000002,30288.91,13821.509999999998,1660.4299999999998,1849.9,691.75,1200.0,2307.98,400.0,16560.559999999998,375.09,1496.47,469.69,1350.0,1670.0,1499.64,11235.54,593.01,2660.49,385.95,362.37,912.24,10108.55,908.53,1204.8,398.3,809.11,1665.31,779.26,2472.51,1200.0,2338.45,2204.36,1573.86,1557.29,20025.61,1140.66,69.52,697.48,4125.839999999999,87.98,352.13,58.16,375.0,1724.06,7979.62,3345.68,1468.4499999999998,1657.82,16791.570000000003,989.37,3017.349999999999,800.57,8276.14,5000.15,48466.03,4600.72,2919.5,2815.04,444.95,8603.65,235.92,1007.24,10885.34,6278.0,29999.800000000003,442.11,366.3200000000001,2246.51,11310.5,1658.16,1509.2800000000002,150.0,5896.439999999999,413.74,370.66,726.47,1466.41,18694.16,11851.65,7308.82,12620.73,2730.96,1928.22,261.59,11045.03,11292.7,150.0,2328.2900000000004,2319.53,7352.95,14846.620000000006,2550.04,1597.44,10698.12,1222.89,10330.12,75.45,11982.38,16722.65,9568.73,2500.0,238.12,450.0,1399.87,2667.43,23486.71,30502.47,17953.96,1000.0,18556.57,15888.17,1101.79,17230.690000000002,12319.549999999996,150.0,3214.95,2925.7,892.17,2640.0,6977.73,2321.15,22135.03,954.6,19968.53,2666.28,1476.4899999999998,8048.4,6242.570000000001,4999.93,10476.81,6164.25,3394.0999999999995,52589.96,849.38,1557.78,13799.3,4821.67,2660.23,149.63,2612.32,572.29,3850.47,12052.39,2030.0,16763.09,11659.08,1903.45,2781.63,4380.62,4682.000000000001,6868.609999999999,1165.79,1828.8,734.03,538.1500000000001,100.0,2280.99,59719.9,56.14,20500.8,1322.58,87.27,20122.27,3554.26,6224.890000000003,15030.909999999998,33.1,4500.0,9191.57,7470.1100000000015,10494.96,7706.05,11165.3,1849.84,600.0,6151.36,15912.07,3266.35,2809.29,66.67,2899.45,14502.51,2776.99,1300.0,2180.0,671.17,1365.54,3163.69,7100.0,3590.85,100.86,1659.99,233.44000000000003,23143.73,587.46,250.0,3118.050000000001,368.84,50.0,1233.44,4209.26,7499.42,9203.04,826.44,550.0,411.43,704.59,12291.04,153.45000000000002,60.9,1597.13,1369.6799999999998,1500.0,350.0,461.0,43227.67,3429.14,1000.0,1500.0,6814.549999999999,3619.61,1253.89,3029.23,950.0,22170.21,2950.0,3847.52,3947.84,1659.32,6300.0,1898.23,1200.0,6994.2,13562.78,1660.87,1658.13,501.93000000000006,1649.71,92.24,6880.63,818.28,1700.89,1080.0,800.0,14098.16,13234.759999999998,6322.0,1350.0,42100.4,93.78,843.71,1642.4,1045.93,2299.64,1492.46,11081.01,3020.18,6000.5,4800.0,550.0,12179.3,286.2,3446.23,8233.48,644.1999999999999,951.27,3546.05,1000.0,9261.89,7623.59,922.35,3362.87,1800.0,21135.42,8740.66,3317.55,5654.05,14965.55,857.0600000000001,16683.78,10980.65,1274.8300000000004,1627.34,1503.66,23834.77,464.17,350.0,8250.43,12519.979999999998,1659.53,1269.78,15466.3,24796.83,48323.990000000005,3524.72,6670.78,22168.01000000001,39008.64,14169.35,1660.36,5443.86,2180.0],\"yaxis\":\"y\",\"type\":\"scattergl\"}],                        {\"template\":{\"data\":{\"bar\":[{\"error_x\":{\"color\":\"#2a3f5f\"},\"error_y\":{\"color\":\"#2a3f5f\"},\"marker\":{\"line\":{\"color\":\"#E5ECF6\",\"width\":0.5},\"pattern\":{\"fillmode\":\"overlay\",\"size\":10,\"solidity\":0.2}},\"type\":\"bar\"}],\"barpolar\":[{\"marker\":{\"line\":{\"color\":\"#E5ECF6\",\"width\":0.5},\"pattern\":{\"fillmode\":\"overlay\",\"size\":10,\"solidity\":0.2}},\"type\":\"barpolar\"}],\"carpet\":[{\"aaxis\":{\"endlinecolor\":\"#2a3f5f\",\"gridcolor\":\"white\",\"linecolor\":\"white\",\"minorgridcolor\":\"white\",\"startlinecolor\":\"#2a3f5f\"},\"baxis\":{\"endlinecolor\":\"#2a3f5f\",\"gridcolor\":\"white\",\"linecolor\":\"white\",\"minorgridcolor\":\"white\",\"startlinecolor\":\"#2a3f5f\"},\"type\":\"carpet\"}],\"choropleth\":[{\"colorbar\":{\"outlinewidth\":0,\"ticks\":\"\"},\"type\":\"choropleth\"}],\"contour\":[{\"colorbar\":{\"outlinewidth\":0,\"ticks\":\"\"},\"colorscale\":[[0.0,\"#0d0887\"],[0.1111111111111111,\"#46039f\"],[0.2222222222222222,\"#7201a8\"],[0.3333333333333333,\"#9c179e\"],[0.4444444444444444,\"#bd3786\"],[0.5555555555555556,\"#d8576b\"],[0.6666666666666666,\"#ed7953\"],[0.7777777777777778,\"#fb9f3a\"],[0.8888888888888888,\"#fdca26\"],[1.0,\"#f0f921\"]],\"type\":\"contour\"}],\"contourcarpet\":[{\"colorbar\":{\"outlinewidth\":0,\"ticks\":\"\"},\"type\":\"contourcarpet\"}],\"heatmap\":[{\"colorbar\":{\"outlinewidth\":0,\"ticks\":\"\"},\"colorscale\":[[0.0,\"#0d0887\"],[0.1111111111111111,\"#46039f\"],[0.2222222222222222,\"#7201a8\"],[0.3333333333333333,\"#9c179e\"],[0.4444444444444444,\"#bd3786\"],[0.5555555555555556,\"#d8576b\"],[0.6666666666666666,\"#ed7953\"],[0.7777777777777778,\"#fb9f3a\"],[0.8888888888888888,\"#fdca26\"],[1.0,\"#f0f921\"]],\"type\":\"heatmap\"}],\"heatmapgl\":[{\"colorbar\":{\"outlinewidth\":0,\"ticks\":\"\"},\"colorscale\":[[0.0,\"#0d0887\"],[0.1111111111111111,\"#46039f\"],[0.2222222222222222,\"#7201a8\"],[0.3333333333333333,\"#9c179e\"],[0.4444444444444444,\"#bd3786\"],[0.5555555555555556,\"#d8576b\"],[0.6666666666666666,\"#ed7953\"],[0.7777777777777778,\"#fb9f3a\"],[0.8888888888888888,\"#fdca26\"],[1.0,\"#f0f921\"]],\"type\":\"heatmapgl\"}],\"histogram\":[{\"marker\":{\"pattern\":{\"fillmode\":\"overlay\",\"size\":10,\"solidity\":0.2}},\"type\":\"histogram\"}],\"histogram2d\":[{\"colorbar\":{\"outlinewidth\":0,\"ticks\":\"\"},\"colorscale\":[[0.0,\"#0d0887\"],[0.1111111111111111,\"#46039f\"],[0.2222222222222222,\"#7201a8\"],[0.3333333333333333,\"#9c179e\"],[0.4444444444444444,\"#bd3786\"],[0.5555555555555556,\"#d8576b\"],[0.6666666666666666,\"#ed7953\"],[0.7777777777777778,\"#fb9f3a\"],[0.8888888888888888,\"#fdca26\"],[1.0,\"#f0f921\"]],\"type\":\"histogram2d\"}],\"histogram2dcontour\":[{\"colorbar\":{\"outlinewidth\":0,\"ticks\":\"\"},\"colorscale\":[[0.0,\"#0d0887\"],[0.1111111111111111,\"#46039f\"],[0.2222222222222222,\"#7201a8\"],[0.3333333333333333,\"#9c179e\"],[0.4444444444444444,\"#bd3786\"],[0.5555555555555556,\"#d8576b\"],[0.6666666666666666,\"#ed7953\"],[0.7777777777777778,\"#fb9f3a\"],[0.8888888888888888,\"#fdca26\"],[1.0,\"#f0f921\"]],\"type\":\"histogram2dcontour\"}],\"mesh3d\":[{\"colorbar\":{\"outlinewidth\":0,\"ticks\":\"\"},\"type\":\"mesh3d\"}],\"parcoords\":[{\"line\":{\"colorbar\":{\"outlinewidth\":0,\"ticks\":\"\"}},\"type\":\"parcoords\"}],\"pie\":[{\"automargin\":true,\"type\":\"pie\"}],\"scatter\":[{\"marker\":{\"colorbar\":{\"outlinewidth\":0,\"ticks\":\"\"}},\"type\":\"scatter\"}],\"scatter3d\":[{\"line\":{\"colorbar\":{\"outlinewidth\":0,\"ticks\":\"\"}},\"marker\":{\"colorbar\":{\"outlinewidth\":0,\"ticks\":\"\"}},\"type\":\"scatter3d\"}],\"scattercarpet\":[{\"marker\":{\"colorbar\":{\"outlinewidth\":0,\"ticks\":\"\"}},\"type\":\"scattercarpet\"}],\"scattergeo\":[{\"marker\":{\"colorbar\":{\"outlinewidth\":0,\"ticks\":\"\"}},\"type\":\"scattergeo\"}],\"scattergl\":[{\"marker\":{\"colorbar\":{\"outlinewidth\":0,\"ticks\":\"\"}},\"type\":\"scattergl\"}],\"scattermapbox\":[{\"marker\":{\"colorbar\":{\"outlinewidth\":0,\"ticks\":\"\"}},\"type\":\"scattermapbox\"}],\"scatterpolar\":[{\"marker\":{\"colorbar\":{\"outlinewidth\":0,\"ticks\":\"\"}},\"type\":\"scatterpolar\"}],\"scatterpolargl\":[{\"marker\":{\"colorbar\":{\"outlinewidth\":0,\"ticks\":\"\"}},\"type\":\"scatterpolargl\"}],\"scatterternary\":[{\"marker\":{\"colorbar\":{\"outlinewidth\":0,\"ticks\":\"\"}},\"type\":\"scatterternary\"}],\"surface\":[{\"colorbar\":{\"outlinewidth\":0,\"ticks\":\"\"},\"colorscale\":[[0.0,\"#0d0887\"],[0.1111111111111111,\"#46039f\"],[0.2222222222222222,\"#7201a8\"],[0.3333333333333333,\"#9c179e\"],[0.4444444444444444,\"#bd3786\"],[0.5555555555555556,\"#d8576b\"],[0.6666666666666666,\"#ed7953\"],[0.7777777777777778,\"#fb9f3a\"],[0.8888888888888888,\"#fdca26\"],[1.0,\"#f0f921\"]],\"type\":\"surface\"}],\"table\":[{\"cells\":{\"fill\":{\"color\":\"#EBF0F8\"},\"line\":{\"color\":\"white\"}},\"header\":{\"fill\":{\"color\":\"#C8D4E3\"},\"line\":{\"color\":\"white\"}},\"type\":\"table\"}]},\"layout\":{\"annotationdefaults\":{\"arrowcolor\":\"#2a3f5f\",\"arrowhead\":0,\"arrowwidth\":1},\"autotypenumbers\":\"strict\",\"coloraxis\":{\"colorbar\":{\"outlinewidth\":0,\"ticks\":\"\"}},\"colorscale\":{\"diverging\":[[0,\"#8e0152\"],[0.1,\"#c51b7d\"],[0.2,\"#de77ae\"],[0.3,\"#f1b6da\"],[0.4,\"#fde0ef\"],[0.5,\"#f7f7f7\"],[0.6,\"#e6f5d0\"],[0.7,\"#b8e186\"],[0.8,\"#7fbc41\"],[0.9,\"#4d9221\"],[1,\"#276419\"]],\"sequential\":[[0.0,\"#0d0887\"],[0.1111111111111111,\"#46039f\"],[0.2222222222222222,\"#7201a8\"],[0.3333333333333333,\"#9c179e\"],[0.4444444444444444,\"#bd3786\"],[0.5555555555555556,\"#d8576b\"],[0.6666666666666666,\"#ed7953\"],[0.7777777777777778,\"#fb9f3a\"],[0.8888888888888888,\"#fdca26\"],[1.0,\"#f0f921\"]],\"sequentialminus\":[[0.0,\"#0d0887\"],[0.1111111111111111,\"#46039f\"],[0.2222222222222222,\"#7201a8\"],[0.3333333333333333,\"#9c179e\"],[0.4444444444444444,\"#bd3786\"],[0.5555555555555556,\"#d8576b\"],[0.6666666666666666,\"#ed7953\"],[0.7777777777777778,\"#fb9f3a\"],[0.8888888888888888,\"#fdca26\"],[1.0,\"#f0f921\"]]},\"colorway\":[\"#636efa\",\"#EF553B\",\"#00cc96\",\"#ab63fa\",\"#FFA15A\",\"#19d3f3\",\"#FF6692\",\"#B6E880\",\"#FF97FF\",\"#FECB52\"],\"font\":{\"color\":\"#2a3f5f\"},\"geo\":{\"bgcolor\":\"white\",\"lakecolor\":\"white\",\"landcolor\":\"#E5ECF6\",\"showlakes\":true,\"showland\":true,\"subunitcolor\":\"white\"},\"hoverlabel\":{\"align\":\"left\"},\"hovermode\":\"closest\",\"mapbox\":{\"style\":\"light\"},\"paper_bgcolor\":\"white\",\"plot_bgcolor\":\"#E5ECF6\",\"polar\":{\"angularaxis\":{\"gridcolor\":\"white\",\"linecolor\":\"white\",\"ticks\":\"\"},\"bgcolor\":\"#E5ECF6\",\"radialaxis\":{\"gridcolor\":\"white\",\"linecolor\":\"white\",\"ticks\":\"\"}},\"scene\":{\"xaxis\":{\"backgroundcolor\":\"#E5ECF6\",\"gridcolor\":\"white\",\"gridwidth\":2,\"linecolor\":\"white\",\"showbackground\":true,\"ticks\":\"\",\"zerolinecolor\":\"white\"},\"yaxis\":{\"backgroundcolor\":\"#E5ECF6\",\"gridcolor\":\"white\",\"gridwidth\":2,\"linecolor\":\"white\",\"showbackground\":true,\"ticks\":\"\",\"zerolinecolor\":\"white\"},\"zaxis\":{\"backgroundcolor\":\"#E5ECF6\",\"gridcolor\":\"white\",\"gridwidth\":2,\"linecolor\":\"white\",\"showbackground\":true,\"ticks\":\"\",\"zerolinecolor\":\"white\"}},\"shapedefaults\":{\"line\":{\"color\":\"#2a3f5f\"}},\"ternary\":{\"aaxis\":{\"gridcolor\":\"white\",\"linecolor\":\"white\",\"ticks\":\"\"},\"baxis\":{\"gridcolor\":\"white\",\"linecolor\":\"white\",\"ticks\":\"\"},\"bgcolor\":\"#E5ECF6\",\"caxis\":{\"gridcolor\":\"white\",\"linecolor\":\"white\",\"ticks\":\"\"}},\"title\":{\"x\":0.05},\"xaxis\":{\"automargin\":true,\"gridcolor\":\"white\",\"linecolor\":\"white\",\"ticks\":\"\",\"title\":{\"standoff\":15},\"zerolinecolor\":\"white\",\"zerolinewidth\":2},\"yaxis\":{\"automargin\":true,\"gridcolor\":\"white\",\"linecolor\":\"white\",\"ticks\":\"\",\"title\":{\"standoff\":15},\"zerolinecolor\":\"white\",\"zerolinewidth\":2}}},\"xaxis\":{\"anchor\":\"y\",\"domain\":[0.0,1.0],\"title\":{\"text\":\"qtd_oper\"}},\"yaxis\":{\"anchor\":\"x\",\"domain\":[0.0,1.0],\"title\":{\"text\":\"vlr_saldo\"}},\"legend\":{\"tracegroupgap\":0},\"margin\":{\"t\":60}},                        {\"responsive\": true}                    ).then(function(){\n",
              "                            \n",
              "var gd = document.getElementById('3092e66c-62cb-4e00-b1a5-76136b06989e');\n",
              "var x = new MutationObserver(function (mutations, observer) {{\n",
              "        var display = window.getComputedStyle(gd).display;\n",
              "        if (!display || display === 'none') {{\n",
              "            console.log([gd, 'removed!']);\n",
              "            Plotly.purge(gd);\n",
              "            observer.disconnect();\n",
              "        }}\n",
              "}});\n",
              "\n",
              "// Listen for the removal of the full notebook cells\n",
              "var notebookContainer = gd.closest('#notebook-container');\n",
              "if (notebookContainer) {{\n",
              "    x.observe(notebookContainer, {childList: true});\n",
              "}}\n",
              "\n",
              "// Listen for the clearing of the current output cell\n",
              "var outputEl = gd.closest('.output');\n",
              "if (outputEl) {{\n",
              "    x.observe(outputEl, {childList: true});\n",
              "}}\n",
              "\n",
              "                        })                };                            </script>        </div>\n",
              "</body>\n",
              "</html>"
            ]
          },
          "metadata": {}
        }
      ]
    },
    {
      "cell_type": "markdown",
      "source": [
        "#Remoção de colunas"
      ],
      "metadata": {
        "id": "m-oGoajVA1zf"
      }
    },
    {
      "cell_type": "markdown",
      "source": [
        "Após a análise preliminar com os dados, vamos observar quais features seriam interessantes segundo o método KBest da biblioteca SKLearna, que verifica quais colunas são mais interessantes para o resultado que buscamos."
      ],
      "metadata": {
        "id": "7CnW9z8XHbtp"
      }
    },
    {
      "cell_type": "markdown",
      "source": [
        "## Remoção das colunas que não iremos utilizar da tabela de clientes"
      ],
      "metadata": {
        "id": "hg_wYocy4coR"
      }
    },
    {
      "cell_type": "code",
      "source": [
        "client = client.drop('cod_rating', axis=1)"
      ],
      "metadata": {
        "id": "Ua7AH6iZ9K59"
      },
      "execution_count": null,
      "outputs": []
    },
    {
      "cell_type": "code",
      "source": [
        "client = client.drop('ind_novo_cli', axis=1)"
      ],
      "metadata": {
        "id": "XKgQN6ue9kEu"
      },
      "execution_count": null,
      "outputs": []
    },
    {
      "cell_type": "code",
      "source": [
        "client = client.drop('num_cpf_hash', axis=1)"
      ],
      "metadata": {
        "id": "6Rk1J16S9wZW"
      },
      "execution_count": null,
      "outputs": []
    },
    {
      "cell_type": "code",
      "source": [
        "client = client.drop('anomes', axis=1)"
      ],
      "metadata": {
        "id": "3XJtIGZm91Cv"
      },
      "execution_count": null,
      "outputs": []
    },
    {
      "cell_type": "markdown",
      "source": [
        "## Remoção das colunas que não iremos utilizar da tabela de não clientes"
      ],
      "metadata": {
        "id": "-D5f46kC4iqc"
      }
    },
    {
      "cell_type": "code",
      "source": [
        "not_client = not_client.drop('vlr_saldo', axis=1)"
      ],
      "metadata": {
        "id": "FTmrEeGP60uo"
      },
      "execution_count": null,
      "outputs": []
    },
    {
      "cell_type": "code",
      "source": [
        "not_client = not_client.drop('cod_rating', axis=1)"
      ],
      "metadata": {
        "id": "-ADaH2wn7qsJ"
      },
      "execution_count": null,
      "outputs": []
    },
    {
      "cell_type": "code",
      "source": [
        "not_client = not_client.drop('ind_atrito', axis=1)"
      ],
      "metadata": {
        "id": "0xJ7usyo7yhu"
      },
      "execution_count": null,
      "outputs": []
    },
    {
      "cell_type": "code",
      "source": [
        "not_client = not_client.drop('ind_engaj', axis=1)"
      ],
      "metadata": {
        "id": "CAqIoEuL71Xb"
      },
      "execution_count": null,
      "outputs": []
    },
    {
      "cell_type": "code",
      "source": [
        "not_client = not_client.drop('num_cpf_hash', axis=1)"
      ],
      "metadata": {
        "id": "dTbHpYHE80DJ"
      },
      "execution_count": null,
      "outputs": []
    },
    {
      "cell_type": "code",
      "source": [
        "not_client = not_client.drop('num_produtos', axis=1)"
      ],
      "metadata": {
        "id": "ObG5CZhp86TH"
      },
      "execution_count": null,
      "outputs": []
    },
    {
      "cell_type": "code",
      "source": [
        "not_client = not_client.drop('anomes', axis=1)"
      ],
      "metadata": {
        "id": "sZHkDgum8-oq"
      },
      "execution_count": null,
      "outputs": []
    },
    {
      "cell_type": "code",
      "source": [
        "not_client = not_client.drop('qtd_oper', axis=1)"
      ],
      "metadata": {
        "id": "4d85BeVJ9BTC"
      },
      "execution_count": null,
      "outputs": []
    },
    {
      "cell_type": "markdown",
      "source": [
        "# Remoção das linhas com valores vazios (NaN)"
      ],
      "metadata": {
        "id": "ngyIJatP2yOX"
      }
    },
    {
      "cell_type": "code",
      "source": [
        "client = client.dropna()\n",
        "not_client = not_client.dropna()"
      ],
      "metadata": {
        "id": "w53mo6MHITyu"
      },
      "execution_count": null,
      "outputs": []
    },
    {
      "cell_type": "markdown",
      "source": [
        "#Visualização dos dados\n",
        "###Tabela completa:"
      ],
      "metadata": {
        "id": "-N3viB3TqhEp"
      }
    },
    {
      "cell_type": "code",
      "source": [
        "df.describe()"
      ],
      "metadata": {
        "id": "w5GWEb4FqfXd",
        "colab": {
          "base_uri": "https://localhost:8080/"
        },
        "outputId": "129c2b83-b5c3-48ad-f4a7-a491a965d63e"
      },
      "execution_count": null,
      "outputs": [
        {
          "output_type": "execute_result",
          "data": {
            "text/plain": [
              "         anomes   vlr_credito     vlr_saldo  num_atend_atrs      vlr_score  \\\n",
              "count  860680.0  4.686030e+05  4.447680e+05   860680.000000  851123.000000   \n",
              "mean   202204.0  3.425695e+04  5.754732e+03        0.000675     440.868065   \n",
              "std         0.0  7.082078e+04  1.033775e+04        0.029453     205.964544   \n",
              "min    202204.0  0.000000e+00  1.000000e-02        0.000000       0.000000   \n",
              "25%    202204.0  3.512840e+03  9.997700e+02        0.000000     304.000000   \n",
              "50%    202204.0  1.536009e+04  2.435460e+03        0.000000     402.000000   \n",
              "75%    202204.0  3.634693e+04  6.724953e+03        0.000000     575.000000   \n",
              "max    202204.0  1.034811e+07  1.666399e+06        6.000000    1000.000000   \n",
              "\n",
              "        num_produtos      num_atend       qtd_oper      qtd_reclm  \\\n",
              "count  477651.000000  860680.000000  468603.000000  860680.000000   \n",
              "mean        1.777785       0.002469      12.580972       0.000066   \n",
              "std         1.188577       0.064618      11.026851       0.008138   \n",
              "min         1.000000       0.000000       0.000000       0.000000   \n",
              "25%         1.000000       0.000000       5.000000       0.000000   \n",
              "50%         1.000000       0.000000      10.000000       0.000000   \n",
              "75%         2.000000       0.000000      17.000000       0.000000   \n",
              "max        14.000000       9.000000     265.000000       1.000000   \n",
              "\n",
              "           qtd_restr     ind_atrito      ind_engaj   ind_novo_cli  \n",
              "count  604604.000000  860680.000000  860680.000000  860680.000000  \n",
              "mean        3.044331       0.000251       0.172231       0.198563  \n",
              "std         3.792886       0.015840       0.377582       0.398918  \n",
              "min         1.000000       0.000000       0.000000       0.000000  \n",
              "25%         1.000000       0.000000       0.000000       0.000000  \n",
              "50%         2.000000       0.000000       0.000000       0.000000  \n",
              "75%         4.000000       0.000000       0.000000       0.000000  \n",
              "max       217.000000       1.000000       1.000000       1.000000  "
            ],
            "text/html": [
              "\n",
              "  <div id=\"df-374149f5-54b9-44b4-a8a3-0b47b9773868\">\n",
              "    <div class=\"colab-df-container\">\n",
              "      <div>\n",
              "<style scoped>\n",
              "    .dataframe tbody tr th:only-of-type {\n",
              "        vertical-align: middle;\n",
              "    }\n",
              "\n",
              "    .dataframe tbody tr th {\n",
              "        vertical-align: top;\n",
              "    }\n",
              "\n",
              "    .dataframe thead th {\n",
              "        text-align: right;\n",
              "    }\n",
              "</style>\n",
              "<table border=\"1\" class=\"dataframe\">\n",
              "  <thead>\n",
              "    <tr style=\"text-align: right;\">\n",
              "      <th></th>\n",
              "      <th>anomes</th>\n",
              "      <th>vlr_credito</th>\n",
              "      <th>vlr_saldo</th>\n",
              "      <th>num_atend_atrs</th>\n",
              "      <th>vlr_score</th>\n",
              "      <th>num_produtos</th>\n",
              "      <th>num_atend</th>\n",
              "      <th>qtd_oper</th>\n",
              "      <th>qtd_reclm</th>\n",
              "      <th>qtd_restr</th>\n",
              "      <th>ind_atrito</th>\n",
              "      <th>ind_engaj</th>\n",
              "      <th>ind_novo_cli</th>\n",
              "    </tr>\n",
              "  </thead>\n",
              "  <tbody>\n",
              "    <tr>\n",
              "      <th>count</th>\n",
              "      <td>860680.0</td>\n",
              "      <td>4.686030e+05</td>\n",
              "      <td>4.447680e+05</td>\n",
              "      <td>860680.000000</td>\n",
              "      <td>851123.000000</td>\n",
              "      <td>477651.000000</td>\n",
              "      <td>860680.000000</td>\n",
              "      <td>468603.000000</td>\n",
              "      <td>860680.000000</td>\n",
              "      <td>604604.000000</td>\n",
              "      <td>860680.000000</td>\n",
              "      <td>860680.000000</td>\n",
              "      <td>860680.000000</td>\n",
              "    </tr>\n",
              "    <tr>\n",
              "      <th>mean</th>\n",
              "      <td>202204.0</td>\n",
              "      <td>3.425695e+04</td>\n",
              "      <td>5.754732e+03</td>\n",
              "      <td>0.000675</td>\n",
              "      <td>440.868065</td>\n",
              "      <td>1.777785</td>\n",
              "      <td>0.002469</td>\n",
              "      <td>12.580972</td>\n",
              "      <td>0.000066</td>\n",
              "      <td>3.044331</td>\n",
              "      <td>0.000251</td>\n",
              "      <td>0.172231</td>\n",
              "      <td>0.198563</td>\n",
              "    </tr>\n",
              "    <tr>\n",
              "      <th>std</th>\n",
              "      <td>0.0</td>\n",
              "      <td>7.082078e+04</td>\n",
              "      <td>1.033775e+04</td>\n",
              "      <td>0.029453</td>\n",
              "      <td>205.964544</td>\n",
              "      <td>1.188577</td>\n",
              "      <td>0.064618</td>\n",
              "      <td>11.026851</td>\n",
              "      <td>0.008138</td>\n",
              "      <td>3.792886</td>\n",
              "      <td>0.015840</td>\n",
              "      <td>0.377582</td>\n",
              "      <td>0.398918</td>\n",
              "    </tr>\n",
              "    <tr>\n",
              "      <th>min</th>\n",
              "      <td>202204.0</td>\n",
              "      <td>0.000000e+00</td>\n",
              "      <td>1.000000e-02</td>\n",
              "      <td>0.000000</td>\n",
              "      <td>0.000000</td>\n",
              "      <td>1.000000</td>\n",
              "      <td>0.000000</td>\n",
              "      <td>0.000000</td>\n",
              "      <td>0.000000</td>\n",
              "      <td>1.000000</td>\n",
              "      <td>0.000000</td>\n",
              "      <td>0.000000</td>\n",
              "      <td>0.000000</td>\n",
              "    </tr>\n",
              "    <tr>\n",
              "      <th>25%</th>\n",
              "      <td>202204.0</td>\n",
              "      <td>3.512840e+03</td>\n",
              "      <td>9.997700e+02</td>\n",
              "      <td>0.000000</td>\n",
              "      <td>304.000000</td>\n",
              "      <td>1.000000</td>\n",
              "      <td>0.000000</td>\n",
              "      <td>5.000000</td>\n",
              "      <td>0.000000</td>\n",
              "      <td>1.000000</td>\n",
              "      <td>0.000000</td>\n",
              "      <td>0.000000</td>\n",
              "      <td>0.000000</td>\n",
              "    </tr>\n",
              "    <tr>\n",
              "      <th>50%</th>\n",
              "      <td>202204.0</td>\n",
              "      <td>1.536009e+04</td>\n",
              "      <td>2.435460e+03</td>\n",
              "      <td>0.000000</td>\n",
              "      <td>402.000000</td>\n",
              "      <td>1.000000</td>\n",
              "      <td>0.000000</td>\n",
              "      <td>10.000000</td>\n",
              "      <td>0.000000</td>\n",
              "      <td>2.000000</td>\n",
              "      <td>0.000000</td>\n",
              "      <td>0.000000</td>\n",
              "      <td>0.000000</td>\n",
              "    </tr>\n",
              "    <tr>\n",
              "      <th>75%</th>\n",
              "      <td>202204.0</td>\n",
              "      <td>3.634693e+04</td>\n",
              "      <td>6.724953e+03</td>\n",
              "      <td>0.000000</td>\n",
              "      <td>575.000000</td>\n",
              "      <td>2.000000</td>\n",
              "      <td>0.000000</td>\n",
              "      <td>17.000000</td>\n",
              "      <td>0.000000</td>\n",
              "      <td>4.000000</td>\n",
              "      <td>0.000000</td>\n",
              "      <td>0.000000</td>\n",
              "      <td>0.000000</td>\n",
              "    </tr>\n",
              "    <tr>\n",
              "      <th>max</th>\n",
              "      <td>202204.0</td>\n",
              "      <td>1.034811e+07</td>\n",
              "      <td>1.666399e+06</td>\n",
              "      <td>6.000000</td>\n",
              "      <td>1000.000000</td>\n",
              "      <td>14.000000</td>\n",
              "      <td>9.000000</td>\n",
              "      <td>265.000000</td>\n",
              "      <td>1.000000</td>\n",
              "      <td>217.000000</td>\n",
              "      <td>1.000000</td>\n",
              "      <td>1.000000</td>\n",
              "      <td>1.000000</td>\n",
              "    </tr>\n",
              "  </tbody>\n",
              "</table>\n",
              "</div>\n",
              "      <button class=\"colab-df-convert\" onclick=\"convertToInteractive('df-374149f5-54b9-44b4-a8a3-0b47b9773868')\"\n",
              "              title=\"Convert this dataframe to an interactive table.\"\n",
              "              style=\"display:none;\">\n",
              "        \n",
              "  <svg xmlns=\"http://www.w3.org/2000/svg\" height=\"24px\"viewBox=\"0 0 24 24\"\n",
              "       width=\"24px\">\n",
              "    <path d=\"M0 0h24v24H0V0z\" fill=\"none\"/>\n",
              "    <path d=\"M18.56 5.44l.94 2.06.94-2.06 2.06-.94-2.06-.94-.94-2.06-.94 2.06-2.06.94zm-11 1L8.5 8.5l.94-2.06 2.06-.94-2.06-.94L8.5 2.5l-.94 2.06-2.06.94zm10 10l.94 2.06.94-2.06 2.06-.94-2.06-.94-.94-2.06-.94 2.06-2.06.94z\"/><path d=\"M17.41 7.96l-1.37-1.37c-.4-.4-.92-.59-1.43-.59-.52 0-1.04.2-1.43.59L10.3 9.45l-7.72 7.72c-.78.78-.78 2.05 0 2.83L4 21.41c.39.39.9.59 1.41.59.51 0 1.02-.2 1.41-.59l7.78-7.78 2.81-2.81c.8-.78.8-2.07 0-2.86zM5.41 20L4 18.59l7.72-7.72 1.47 1.35L5.41 20z\"/>\n",
              "  </svg>\n",
              "      </button>\n",
              "      \n",
              "  <style>\n",
              "    .colab-df-container {\n",
              "      display:flex;\n",
              "      flex-wrap:wrap;\n",
              "      gap: 12px;\n",
              "    }\n",
              "\n",
              "    .colab-df-convert {\n",
              "      background-color: #E8F0FE;\n",
              "      border: none;\n",
              "      border-radius: 50%;\n",
              "      cursor: pointer;\n",
              "      display: none;\n",
              "      fill: #1967D2;\n",
              "      height: 32px;\n",
              "      padding: 0 0 0 0;\n",
              "      width: 32px;\n",
              "    }\n",
              "\n",
              "    .colab-df-convert:hover {\n",
              "      background-color: #E2EBFA;\n",
              "      box-shadow: 0px 1px 2px rgba(60, 64, 67, 0.3), 0px 1px 3px 1px rgba(60, 64, 67, 0.15);\n",
              "      fill: #174EA6;\n",
              "    }\n",
              "\n",
              "    [theme=dark] .colab-df-convert {\n",
              "      background-color: #3B4455;\n",
              "      fill: #D2E3FC;\n",
              "    }\n",
              "\n",
              "    [theme=dark] .colab-df-convert:hover {\n",
              "      background-color: #434B5C;\n",
              "      box-shadow: 0px 1px 3px 1px rgba(0, 0, 0, 0.15);\n",
              "      filter: drop-shadow(0px 1px 2px rgba(0, 0, 0, 0.3));\n",
              "      fill: #FFFFFF;\n",
              "    }\n",
              "  </style>\n",
              "\n",
              "      <script>\n",
              "        const buttonEl =\n",
              "          document.querySelector('#df-374149f5-54b9-44b4-a8a3-0b47b9773868 button.colab-df-convert');\n",
              "        buttonEl.style.display =\n",
              "          google.colab.kernel.accessAllowed ? 'block' : 'none';\n",
              "\n",
              "        async function convertToInteractive(key) {\n",
              "          const element = document.querySelector('#df-374149f5-54b9-44b4-a8a3-0b47b9773868');\n",
              "          const dataTable =\n",
              "            await google.colab.kernel.invokeFunction('convertToInteractive',\n",
              "                                                     [key], {});\n",
              "          if (!dataTable) return;\n",
              "\n",
              "          const docLinkHtml = 'Like what you see? Visit the ' +\n",
              "            '<a target=\"_blank\" href=https://colab.research.google.com/notebooks/data_table.ipynb>data table notebook</a>'\n",
              "            + ' to learn more about interactive tables.';\n",
              "          element.innerHTML = '';\n",
              "          dataTable['output_type'] = 'display_data';\n",
              "          await google.colab.output.renderOutput(dataTable, element);\n",
              "          const docLink = document.createElement('div');\n",
              "          docLink.innerHTML = docLinkHtml;\n",
              "          element.appendChild(docLink);\n",
              "        }\n",
              "      </script>\n",
              "    </div>\n",
              "  </div>\n",
              "  "
            ]
          },
          "metadata": {},
          "execution_count": 33
        }
      ]
    },
    {
      "cell_type": "markdown",
      "source": [
        "###Tabela clientes:"
      ],
      "metadata": {
        "id": "Vor9e0FCrHhm"
      }
    },
    {
      "cell_type": "code",
      "execution_count": null,
      "metadata": {
        "id": "ZzdxIIMQFMxr",
        "colab": {
          "base_uri": "https://localhost:8080/"
        },
        "outputId": "99d4052e-5da8-4a6e-ea91-ca01f34ea2bc"
      },
      "outputs": [
        {
          "output_type": "execute_result",
          "data": {
            "text/plain": [
              "        vlr_credito      vlr_saldo  num_atend_atrs      vlr_score  \\\n",
              "count  1.856740e+05  185674.000000   185674.000000  185674.000000   \n",
              "mean   4.111866e+04    5563.932289        0.000937     375.721507   \n",
              "std    6.712991e+04    9555.193118        0.032477     143.472515   \n",
              "min    0.000000e+00       0.010000        0.000000       0.000000   \n",
              "25%    7.907640e+03     880.000000        0.000000     285.000000   \n",
              "50%    2.074701e+04    2184.815000        0.000000     384.000000   \n",
              "75%    4.597607e+04    6188.030000        0.000000     462.000000   \n",
              "max    3.699561e+06  741055.970000        2.000000     973.000000   \n",
              "\n",
              "        num_produtos      num_atend       qtd_oper      qtd_reclm  \\\n",
              "count  185674.000000  185674.000000  185674.000000  185674.000000   \n",
              "mean        1.959763       0.003582      14.080033       0.000151   \n",
              "std         1.244910       0.074936      10.516921       0.012279   \n",
              "min         1.000000       0.000000       0.000000       0.000000   \n",
              "25%         1.000000       0.000000       7.000000       0.000000   \n",
              "50%         2.000000       0.000000      12.000000       0.000000   \n",
              "75%         3.000000       0.000000      18.000000       0.000000   \n",
              "max        13.000000       5.000000     265.000000       1.000000   \n",
              "\n",
              "           qtd_restr     ind_atrito      ind_engaj  \n",
              "count  185674.000000  185674.000000  185674.000000  \n",
              "mean        3.307744       0.000517       0.340893  \n",
              "std         3.745876       0.022733       0.474011  \n",
              "min         1.000000       0.000000       0.000000  \n",
              "25%         1.000000       0.000000       0.000000  \n",
              "50%         2.000000       0.000000       0.000000  \n",
              "75%         4.000000       0.000000       1.000000  \n",
              "max       110.000000       1.000000       1.000000  "
            ],
            "text/html": [
              "\n",
              "  <div id=\"df-7a2510a9-67c2-4895-a115-ca1d8fa29fc8\">\n",
              "    <div class=\"colab-df-container\">\n",
              "      <div>\n",
              "<style scoped>\n",
              "    .dataframe tbody tr th:only-of-type {\n",
              "        vertical-align: middle;\n",
              "    }\n",
              "\n",
              "    .dataframe tbody tr th {\n",
              "        vertical-align: top;\n",
              "    }\n",
              "\n",
              "    .dataframe thead th {\n",
              "        text-align: right;\n",
              "    }\n",
              "</style>\n",
              "<table border=\"1\" class=\"dataframe\">\n",
              "  <thead>\n",
              "    <tr style=\"text-align: right;\">\n",
              "      <th></th>\n",
              "      <th>vlr_credito</th>\n",
              "      <th>vlr_saldo</th>\n",
              "      <th>num_atend_atrs</th>\n",
              "      <th>vlr_score</th>\n",
              "      <th>num_produtos</th>\n",
              "      <th>num_atend</th>\n",
              "      <th>qtd_oper</th>\n",
              "      <th>qtd_reclm</th>\n",
              "      <th>qtd_restr</th>\n",
              "      <th>ind_atrito</th>\n",
              "      <th>ind_engaj</th>\n",
              "    </tr>\n",
              "  </thead>\n",
              "  <tbody>\n",
              "    <tr>\n",
              "      <th>count</th>\n",
              "      <td>1.856740e+05</td>\n",
              "      <td>185674.000000</td>\n",
              "      <td>185674.000000</td>\n",
              "      <td>185674.000000</td>\n",
              "      <td>185674.000000</td>\n",
              "      <td>185674.000000</td>\n",
              "      <td>185674.000000</td>\n",
              "      <td>185674.000000</td>\n",
              "      <td>185674.000000</td>\n",
              "      <td>185674.000000</td>\n",
              "      <td>185674.000000</td>\n",
              "    </tr>\n",
              "    <tr>\n",
              "      <th>mean</th>\n",
              "      <td>4.111866e+04</td>\n",
              "      <td>5563.932289</td>\n",
              "      <td>0.000937</td>\n",
              "      <td>375.721507</td>\n",
              "      <td>1.959763</td>\n",
              "      <td>0.003582</td>\n",
              "      <td>14.080033</td>\n",
              "      <td>0.000151</td>\n",
              "      <td>3.307744</td>\n",
              "      <td>0.000517</td>\n",
              "      <td>0.340893</td>\n",
              "    </tr>\n",
              "    <tr>\n",
              "      <th>std</th>\n",
              "      <td>6.712991e+04</td>\n",
              "      <td>9555.193118</td>\n",
              "      <td>0.032477</td>\n",
              "      <td>143.472515</td>\n",
              "      <td>1.244910</td>\n",
              "      <td>0.074936</td>\n",
              "      <td>10.516921</td>\n",
              "      <td>0.012279</td>\n",
              "      <td>3.745876</td>\n",
              "      <td>0.022733</td>\n",
              "      <td>0.474011</td>\n",
              "    </tr>\n",
              "    <tr>\n",
              "      <th>min</th>\n",
              "      <td>0.000000e+00</td>\n",
              "      <td>0.010000</td>\n",
              "      <td>0.000000</td>\n",
              "      <td>0.000000</td>\n",
              "      <td>1.000000</td>\n",
              "      <td>0.000000</td>\n",
              "      <td>0.000000</td>\n",
              "      <td>0.000000</td>\n",
              "      <td>1.000000</td>\n",
              "      <td>0.000000</td>\n",
              "      <td>0.000000</td>\n",
              "    </tr>\n",
              "    <tr>\n",
              "      <th>25%</th>\n",
              "      <td>7.907640e+03</td>\n",
              "      <td>880.000000</td>\n",
              "      <td>0.000000</td>\n",
              "      <td>285.000000</td>\n",
              "      <td>1.000000</td>\n",
              "      <td>0.000000</td>\n",
              "      <td>7.000000</td>\n",
              "      <td>0.000000</td>\n",
              "      <td>1.000000</td>\n",
              "      <td>0.000000</td>\n",
              "      <td>0.000000</td>\n",
              "    </tr>\n",
              "    <tr>\n",
              "      <th>50%</th>\n",
              "      <td>2.074701e+04</td>\n",
              "      <td>2184.815000</td>\n",
              "      <td>0.000000</td>\n",
              "      <td>384.000000</td>\n",
              "      <td>2.000000</td>\n",
              "      <td>0.000000</td>\n",
              "      <td>12.000000</td>\n",
              "      <td>0.000000</td>\n",
              "      <td>2.000000</td>\n",
              "      <td>0.000000</td>\n",
              "      <td>0.000000</td>\n",
              "    </tr>\n",
              "    <tr>\n",
              "      <th>75%</th>\n",
              "      <td>4.597607e+04</td>\n",
              "      <td>6188.030000</td>\n",
              "      <td>0.000000</td>\n",
              "      <td>462.000000</td>\n",
              "      <td>3.000000</td>\n",
              "      <td>0.000000</td>\n",
              "      <td>18.000000</td>\n",
              "      <td>0.000000</td>\n",
              "      <td>4.000000</td>\n",
              "      <td>0.000000</td>\n",
              "      <td>1.000000</td>\n",
              "    </tr>\n",
              "    <tr>\n",
              "      <th>max</th>\n",
              "      <td>3.699561e+06</td>\n",
              "      <td>741055.970000</td>\n",
              "      <td>2.000000</td>\n",
              "      <td>973.000000</td>\n",
              "      <td>13.000000</td>\n",
              "      <td>5.000000</td>\n",
              "      <td>265.000000</td>\n",
              "      <td>1.000000</td>\n",
              "      <td>110.000000</td>\n",
              "      <td>1.000000</td>\n",
              "      <td>1.000000</td>\n",
              "    </tr>\n",
              "  </tbody>\n",
              "</table>\n",
              "</div>\n",
              "      <button class=\"colab-df-convert\" onclick=\"convertToInteractive('df-7a2510a9-67c2-4895-a115-ca1d8fa29fc8')\"\n",
              "              title=\"Convert this dataframe to an interactive table.\"\n",
              "              style=\"display:none;\">\n",
              "        \n",
              "  <svg xmlns=\"http://www.w3.org/2000/svg\" height=\"24px\"viewBox=\"0 0 24 24\"\n",
              "       width=\"24px\">\n",
              "    <path d=\"M0 0h24v24H0V0z\" fill=\"none\"/>\n",
              "    <path d=\"M18.56 5.44l.94 2.06.94-2.06 2.06-.94-2.06-.94-.94-2.06-.94 2.06-2.06.94zm-11 1L8.5 8.5l.94-2.06 2.06-.94-2.06-.94L8.5 2.5l-.94 2.06-2.06.94zm10 10l.94 2.06.94-2.06 2.06-.94-2.06-.94-.94-2.06-.94 2.06-2.06.94z\"/><path d=\"M17.41 7.96l-1.37-1.37c-.4-.4-.92-.59-1.43-.59-.52 0-1.04.2-1.43.59L10.3 9.45l-7.72 7.72c-.78.78-.78 2.05 0 2.83L4 21.41c.39.39.9.59 1.41.59.51 0 1.02-.2 1.41-.59l7.78-7.78 2.81-2.81c.8-.78.8-2.07 0-2.86zM5.41 20L4 18.59l7.72-7.72 1.47 1.35L5.41 20z\"/>\n",
              "  </svg>\n",
              "      </button>\n",
              "      \n",
              "  <style>\n",
              "    .colab-df-container {\n",
              "      display:flex;\n",
              "      flex-wrap:wrap;\n",
              "      gap: 12px;\n",
              "    }\n",
              "\n",
              "    .colab-df-convert {\n",
              "      background-color: #E8F0FE;\n",
              "      border: none;\n",
              "      border-radius: 50%;\n",
              "      cursor: pointer;\n",
              "      display: none;\n",
              "      fill: #1967D2;\n",
              "      height: 32px;\n",
              "      padding: 0 0 0 0;\n",
              "      width: 32px;\n",
              "    }\n",
              "\n",
              "    .colab-df-convert:hover {\n",
              "      background-color: #E2EBFA;\n",
              "      box-shadow: 0px 1px 2px rgba(60, 64, 67, 0.3), 0px 1px 3px 1px rgba(60, 64, 67, 0.15);\n",
              "      fill: #174EA6;\n",
              "    }\n",
              "\n",
              "    [theme=dark] .colab-df-convert {\n",
              "      background-color: #3B4455;\n",
              "      fill: #D2E3FC;\n",
              "    }\n",
              "\n",
              "    [theme=dark] .colab-df-convert:hover {\n",
              "      background-color: #434B5C;\n",
              "      box-shadow: 0px 1px 3px 1px rgba(0, 0, 0, 0.15);\n",
              "      filter: drop-shadow(0px 1px 2px rgba(0, 0, 0, 0.3));\n",
              "      fill: #FFFFFF;\n",
              "    }\n",
              "  </style>\n",
              "\n",
              "      <script>\n",
              "        const buttonEl =\n",
              "          document.querySelector('#df-7a2510a9-67c2-4895-a115-ca1d8fa29fc8 button.colab-df-convert');\n",
              "        buttonEl.style.display =\n",
              "          google.colab.kernel.accessAllowed ? 'block' : 'none';\n",
              "\n",
              "        async function convertToInteractive(key) {\n",
              "          const element = document.querySelector('#df-7a2510a9-67c2-4895-a115-ca1d8fa29fc8');\n",
              "          const dataTable =\n",
              "            await google.colab.kernel.invokeFunction('convertToInteractive',\n",
              "                                                     [key], {});\n",
              "          if (!dataTable) return;\n",
              "\n",
              "          const docLinkHtml = 'Like what you see? Visit the ' +\n",
              "            '<a target=\"_blank\" href=https://colab.research.google.com/notebooks/data_table.ipynb>data table notebook</a>'\n",
              "            + ' to learn more about interactive tables.';\n",
              "          element.innerHTML = '';\n",
              "          dataTable['output_type'] = 'display_data';\n",
              "          await google.colab.output.renderOutput(dataTable, element);\n",
              "          const docLink = document.createElement('div');\n",
              "          docLink.innerHTML = docLinkHtml;\n",
              "          element.appendChild(docLink);\n",
              "        }\n",
              "      </script>\n",
              "    </div>\n",
              "  </div>\n",
              "  "
            ]
          },
          "metadata": {},
          "execution_count": 34
        }
      ],
      "source": [
        "client.describe()"
      ]
    },
    {
      "cell_type": "markdown",
      "source": [
        "###Tabela não clientes:"
      ],
      "metadata": {
        "id": "1vJIuZ__rW1i"
      }
    },
    {
      "cell_type": "code",
      "execution_count": null,
      "metadata": {
        "id": "HKqMNHpYGFXT",
        "colab": {
          "base_uri": "https://localhost:8080/"
        },
        "outputId": "777ffd5b-ab60-4d28-e4a3-2f3773512002"
      },
      "outputs": [
        {
          "output_type": "execute_result",
          "data": {
            "text/plain": [
              "        vlr_credito  num_atend_atrs     vlr_score     num_atend     qtd_reclm  \\\n",
              "count  5.922000e+04    59220.000000  59220.000000  59220.000000  59220.000000   \n",
              "mean   1.116576e+04        0.000152    287.116211      0.000540      0.000017   \n",
              "std    4.897024e+04        0.013628    133.671909      0.025326      0.004109   \n",
              "min    0.000000e+00        0.000000      0.000000      0.000000      0.000000   \n",
              "25%    0.000000e+00        0.000000    176.000000      0.000000      0.000000   \n",
              "50%    9.382750e+02        0.000000    274.000000      0.000000      0.000000   \n",
              "75%    5.099010e+03        0.000000    376.000000      0.000000      0.000000   \n",
              "max    7.638867e+06        2.000000    961.000000      2.000000      1.000000   \n",
              "\n",
              "          qtd_restr  ind_novo_cli  \n",
              "count  59220.000000  59220.000000  \n",
              "mean       3.291692      0.276292  \n",
              "std        3.780653      0.447167  \n",
              "min        1.000000      0.000000  \n",
              "25%        1.000000      0.000000  \n",
              "50%        2.000000      0.000000  \n",
              "75%        4.000000      1.000000  \n",
              "max      217.000000      1.000000  "
            ],
            "text/html": [
              "\n",
              "  <div id=\"df-ad9a0f6b-acfd-4e9b-8c24-630ea5956511\">\n",
              "    <div class=\"colab-df-container\">\n",
              "      <div>\n",
              "<style scoped>\n",
              "    .dataframe tbody tr th:only-of-type {\n",
              "        vertical-align: middle;\n",
              "    }\n",
              "\n",
              "    .dataframe tbody tr th {\n",
              "        vertical-align: top;\n",
              "    }\n",
              "\n",
              "    .dataframe thead th {\n",
              "        text-align: right;\n",
              "    }\n",
              "</style>\n",
              "<table border=\"1\" class=\"dataframe\">\n",
              "  <thead>\n",
              "    <tr style=\"text-align: right;\">\n",
              "      <th></th>\n",
              "      <th>vlr_credito</th>\n",
              "      <th>num_atend_atrs</th>\n",
              "      <th>vlr_score</th>\n",
              "      <th>num_atend</th>\n",
              "      <th>qtd_reclm</th>\n",
              "      <th>qtd_restr</th>\n",
              "      <th>ind_novo_cli</th>\n",
              "    </tr>\n",
              "  </thead>\n",
              "  <tbody>\n",
              "    <tr>\n",
              "      <th>count</th>\n",
              "      <td>5.922000e+04</td>\n",
              "      <td>59220.000000</td>\n",
              "      <td>59220.000000</td>\n",
              "      <td>59220.000000</td>\n",
              "      <td>59220.000000</td>\n",
              "      <td>59220.000000</td>\n",
              "      <td>59220.000000</td>\n",
              "    </tr>\n",
              "    <tr>\n",
              "      <th>mean</th>\n",
              "      <td>1.116576e+04</td>\n",
              "      <td>0.000152</td>\n",
              "      <td>287.116211</td>\n",
              "      <td>0.000540</td>\n",
              "      <td>0.000017</td>\n",
              "      <td>3.291692</td>\n",
              "      <td>0.276292</td>\n",
              "    </tr>\n",
              "    <tr>\n",
              "      <th>std</th>\n",
              "      <td>4.897024e+04</td>\n",
              "      <td>0.013628</td>\n",
              "      <td>133.671909</td>\n",
              "      <td>0.025326</td>\n",
              "      <td>0.004109</td>\n",
              "      <td>3.780653</td>\n",
              "      <td>0.447167</td>\n",
              "    </tr>\n",
              "    <tr>\n",
              "      <th>min</th>\n",
              "      <td>0.000000e+00</td>\n",
              "      <td>0.000000</td>\n",
              "      <td>0.000000</td>\n",
              "      <td>0.000000</td>\n",
              "      <td>0.000000</td>\n",
              "      <td>1.000000</td>\n",
              "      <td>0.000000</td>\n",
              "    </tr>\n",
              "    <tr>\n",
              "      <th>25%</th>\n",
              "      <td>0.000000e+00</td>\n",
              "      <td>0.000000</td>\n",
              "      <td>176.000000</td>\n",
              "      <td>0.000000</td>\n",
              "      <td>0.000000</td>\n",
              "      <td>1.000000</td>\n",
              "      <td>0.000000</td>\n",
              "    </tr>\n",
              "    <tr>\n",
              "      <th>50%</th>\n",
              "      <td>9.382750e+02</td>\n",
              "      <td>0.000000</td>\n",
              "      <td>274.000000</td>\n",
              "      <td>0.000000</td>\n",
              "      <td>0.000000</td>\n",
              "      <td>2.000000</td>\n",
              "      <td>0.000000</td>\n",
              "    </tr>\n",
              "    <tr>\n",
              "      <th>75%</th>\n",
              "      <td>5.099010e+03</td>\n",
              "      <td>0.000000</td>\n",
              "      <td>376.000000</td>\n",
              "      <td>0.000000</td>\n",
              "      <td>0.000000</td>\n",
              "      <td>4.000000</td>\n",
              "      <td>1.000000</td>\n",
              "    </tr>\n",
              "    <tr>\n",
              "      <th>max</th>\n",
              "      <td>7.638867e+06</td>\n",
              "      <td>2.000000</td>\n",
              "      <td>961.000000</td>\n",
              "      <td>2.000000</td>\n",
              "      <td>1.000000</td>\n",
              "      <td>217.000000</td>\n",
              "      <td>1.000000</td>\n",
              "    </tr>\n",
              "  </tbody>\n",
              "</table>\n",
              "</div>\n",
              "      <button class=\"colab-df-convert\" onclick=\"convertToInteractive('df-ad9a0f6b-acfd-4e9b-8c24-630ea5956511')\"\n",
              "              title=\"Convert this dataframe to an interactive table.\"\n",
              "              style=\"display:none;\">\n",
              "        \n",
              "  <svg xmlns=\"http://www.w3.org/2000/svg\" height=\"24px\"viewBox=\"0 0 24 24\"\n",
              "       width=\"24px\">\n",
              "    <path d=\"M0 0h24v24H0V0z\" fill=\"none\"/>\n",
              "    <path d=\"M18.56 5.44l.94 2.06.94-2.06 2.06-.94-2.06-.94-.94-2.06-.94 2.06-2.06.94zm-11 1L8.5 8.5l.94-2.06 2.06-.94-2.06-.94L8.5 2.5l-.94 2.06-2.06.94zm10 10l.94 2.06.94-2.06 2.06-.94-2.06-.94-.94-2.06-.94 2.06-2.06.94z\"/><path d=\"M17.41 7.96l-1.37-1.37c-.4-.4-.92-.59-1.43-.59-.52 0-1.04.2-1.43.59L10.3 9.45l-7.72 7.72c-.78.78-.78 2.05 0 2.83L4 21.41c.39.39.9.59 1.41.59.51 0 1.02-.2 1.41-.59l7.78-7.78 2.81-2.81c.8-.78.8-2.07 0-2.86zM5.41 20L4 18.59l7.72-7.72 1.47 1.35L5.41 20z\"/>\n",
              "  </svg>\n",
              "      </button>\n",
              "      \n",
              "  <style>\n",
              "    .colab-df-container {\n",
              "      display:flex;\n",
              "      flex-wrap:wrap;\n",
              "      gap: 12px;\n",
              "    }\n",
              "\n",
              "    .colab-df-convert {\n",
              "      background-color: #E8F0FE;\n",
              "      border: none;\n",
              "      border-radius: 50%;\n",
              "      cursor: pointer;\n",
              "      display: none;\n",
              "      fill: #1967D2;\n",
              "      height: 32px;\n",
              "      padding: 0 0 0 0;\n",
              "      width: 32px;\n",
              "    }\n",
              "\n",
              "    .colab-df-convert:hover {\n",
              "      background-color: #E2EBFA;\n",
              "      box-shadow: 0px 1px 2px rgba(60, 64, 67, 0.3), 0px 1px 3px 1px rgba(60, 64, 67, 0.15);\n",
              "      fill: #174EA6;\n",
              "    }\n",
              "\n",
              "    [theme=dark] .colab-df-convert {\n",
              "      background-color: #3B4455;\n",
              "      fill: #D2E3FC;\n",
              "    }\n",
              "\n",
              "    [theme=dark] .colab-df-convert:hover {\n",
              "      background-color: #434B5C;\n",
              "      box-shadow: 0px 1px 3px 1px rgba(0, 0, 0, 0.15);\n",
              "      filter: drop-shadow(0px 1px 2px rgba(0, 0, 0, 0.3));\n",
              "      fill: #FFFFFF;\n",
              "    }\n",
              "  </style>\n",
              "\n",
              "      <script>\n",
              "        const buttonEl =\n",
              "          document.querySelector('#df-ad9a0f6b-acfd-4e9b-8c24-630ea5956511 button.colab-df-convert');\n",
              "        buttonEl.style.display =\n",
              "          google.colab.kernel.accessAllowed ? 'block' : 'none';\n",
              "\n",
              "        async function convertToInteractive(key) {\n",
              "          const element = document.querySelector('#df-ad9a0f6b-acfd-4e9b-8c24-630ea5956511');\n",
              "          const dataTable =\n",
              "            await google.colab.kernel.invokeFunction('convertToInteractive',\n",
              "                                                     [key], {});\n",
              "          if (!dataTable) return;\n",
              "\n",
              "          const docLinkHtml = 'Like what you see? Visit the ' +\n",
              "            '<a target=\"_blank\" href=https://colab.research.google.com/notebooks/data_table.ipynb>data table notebook</a>'\n",
              "            + ' to learn more about interactive tables.';\n",
              "          element.innerHTML = '';\n",
              "          dataTable['output_type'] = 'display_data';\n",
              "          await google.colab.output.renderOutput(dataTable, element);\n",
              "          const docLink = document.createElement('div');\n",
              "          docLink.innerHTML = docLinkHtml;\n",
              "          element.appendChild(docLink);\n",
              "        }\n",
              "      </script>\n",
              "    </div>\n",
              "  </div>\n",
              "  "
            ]
          },
          "metadata": {},
          "execution_count": 35
        }
      ],
      "source": [
        "not_client.describe()"
      ]
    },
    {
      "cell_type": "markdown",
      "source": [
        "# Feature Engineering com o uso do SKLearn\n"
      ],
      "metadata": {
        "id": "c-rEoNKeogvT"
      }
    },
    {
      "cell_type": "markdown",
      "source": [
        "##Atritado"
      ],
      "metadata": {
        "id": "mWsa52HVp83e"
      }
    },
    {
      "cell_type": "code",
      "source": [
        "from sklearn.feature_selection import SelectKBest\n",
        "from sklearn.feature_selection import f_classif, mutual_info_classif"
      ],
      "metadata": {
        "id": "WJdXRN-D7uoy"
      },
      "execution_count": null,
      "outputs": []
    },
    {
      "cell_type": "code",
      "source": [
        "# Identificar as variáveis entre colunas de análise e coluna de resposta do teste\n",
        "x = client.drop(['ind_atrito', 'ind_engaj'], axis=1)\n",
        "y = client['ind_atrito']"
      ],
      "metadata": {
        "id": "HCExZZD4pA3V"
      },
      "execution_count": null,
      "outputs": []
    },
    {
      "cell_type": "code",
      "source": [
        "# Chamar o método que verifica os melhores parâmetros f_classif que utiliza da progressão linear para ajustar os dados\n",
        "f_classif = SelectKBest(score_func=f_classif, k=4)"
      ],
      "metadata": {
        "id": "vx1cjrSbpCKt"
      },
      "execution_count": null,
      "outputs": []
    },
    {
      "cell_type": "code",
      "source": [
        "fit = f_classif.fit(x, y)"
      ],
      "metadata": {
        "id": "21wcSDPMpDYh"
      },
      "execution_count": null,
      "outputs": []
    },
    {
      "cell_type": "code",
      "source": [
        "features = fit.transform(x)"
      ],
      "metadata": {
        "id": "SrnXM0WfpEfu"
      },
      "execution_count": null,
      "outputs": []
    },
    {
      "cell_type": "code",
      "source": [
        "# Fazer aparecer o nome das colunas que o método julgou interessante\n",
        "cols = fit.get_support(indices=True)\n",
        "x.iloc[:, cols]"
      ],
      "metadata": {
        "id": "aVQd15V5pG-Q",
        "colab": {
          "base_uri": "https://localhost:8080/"
        },
        "outputId": "3053509d-ced0-45c6-a046-fca68ea0d344"
      },
      "execution_count": null,
      "outputs": [
        {
          "output_type": "execute_result",
          "data": {
            "text/plain": [
              "          vlr_credito  vlr_saldo  num_atend_atrs  qtd_reclm\n",
              "11171813     37071.44    8241.16             0.0        0.0\n",
              "11171820    115411.38    6394.76             0.0        0.0\n",
              "11171830     44153.68   27017.68             0.0        0.0\n",
              "11171834    417647.99   32492.43             0.0        0.0\n",
              "11171839     27663.96    1780.23             0.0        0.0\n",
              "...               ...        ...             ...        ...\n",
              "12032476     58167.65    1888.88             0.0        0.0\n",
              "12032484     36333.58    5942.14             0.0        0.0\n",
              "12032485     43054.69    2620.89             0.0        0.0\n",
              "12032487     21959.05    4017.00             0.0        0.0\n",
              "12032490     30268.92    1631.88             0.0        0.0\n",
              "\n",
              "[185674 rows x 4 columns]"
            ],
            "text/html": [
              "\n",
              "  <div id=\"df-b46bde6c-f4bb-4256-822d-2315c709e4a7\">\n",
              "    <div class=\"colab-df-container\">\n",
              "      <div>\n",
              "<style scoped>\n",
              "    .dataframe tbody tr th:only-of-type {\n",
              "        vertical-align: middle;\n",
              "    }\n",
              "\n",
              "    .dataframe tbody tr th {\n",
              "        vertical-align: top;\n",
              "    }\n",
              "\n",
              "    .dataframe thead th {\n",
              "        text-align: right;\n",
              "    }\n",
              "</style>\n",
              "<table border=\"1\" class=\"dataframe\">\n",
              "  <thead>\n",
              "    <tr style=\"text-align: right;\">\n",
              "      <th></th>\n",
              "      <th>vlr_credito</th>\n",
              "      <th>vlr_saldo</th>\n",
              "      <th>num_atend_atrs</th>\n",
              "      <th>qtd_reclm</th>\n",
              "    </tr>\n",
              "  </thead>\n",
              "  <tbody>\n",
              "    <tr>\n",
              "      <th>11171813</th>\n",
              "      <td>37071.44</td>\n",
              "      <td>8241.16</td>\n",
              "      <td>0.0</td>\n",
              "      <td>0.0</td>\n",
              "    </tr>\n",
              "    <tr>\n",
              "      <th>11171820</th>\n",
              "      <td>115411.38</td>\n",
              "      <td>6394.76</td>\n",
              "      <td>0.0</td>\n",
              "      <td>0.0</td>\n",
              "    </tr>\n",
              "    <tr>\n",
              "      <th>11171830</th>\n",
              "      <td>44153.68</td>\n",
              "      <td>27017.68</td>\n",
              "      <td>0.0</td>\n",
              "      <td>0.0</td>\n",
              "    </tr>\n",
              "    <tr>\n",
              "      <th>11171834</th>\n",
              "      <td>417647.99</td>\n",
              "      <td>32492.43</td>\n",
              "      <td>0.0</td>\n",
              "      <td>0.0</td>\n",
              "    </tr>\n",
              "    <tr>\n",
              "      <th>11171839</th>\n",
              "      <td>27663.96</td>\n",
              "      <td>1780.23</td>\n",
              "      <td>0.0</td>\n",
              "      <td>0.0</td>\n",
              "    </tr>\n",
              "    <tr>\n",
              "      <th>...</th>\n",
              "      <td>...</td>\n",
              "      <td>...</td>\n",
              "      <td>...</td>\n",
              "      <td>...</td>\n",
              "    </tr>\n",
              "    <tr>\n",
              "      <th>12032476</th>\n",
              "      <td>58167.65</td>\n",
              "      <td>1888.88</td>\n",
              "      <td>0.0</td>\n",
              "      <td>0.0</td>\n",
              "    </tr>\n",
              "    <tr>\n",
              "      <th>12032484</th>\n",
              "      <td>36333.58</td>\n",
              "      <td>5942.14</td>\n",
              "      <td>0.0</td>\n",
              "      <td>0.0</td>\n",
              "    </tr>\n",
              "    <tr>\n",
              "      <th>12032485</th>\n",
              "      <td>43054.69</td>\n",
              "      <td>2620.89</td>\n",
              "      <td>0.0</td>\n",
              "      <td>0.0</td>\n",
              "    </tr>\n",
              "    <tr>\n",
              "      <th>12032487</th>\n",
              "      <td>21959.05</td>\n",
              "      <td>4017.00</td>\n",
              "      <td>0.0</td>\n",
              "      <td>0.0</td>\n",
              "    </tr>\n",
              "    <tr>\n",
              "      <th>12032490</th>\n",
              "      <td>30268.92</td>\n",
              "      <td>1631.88</td>\n",
              "      <td>0.0</td>\n",
              "      <td>0.0</td>\n",
              "    </tr>\n",
              "  </tbody>\n",
              "</table>\n",
              "<p>185674 rows × 4 columns</p>\n",
              "</div>\n",
              "      <button class=\"colab-df-convert\" onclick=\"convertToInteractive('df-b46bde6c-f4bb-4256-822d-2315c709e4a7')\"\n",
              "              title=\"Convert this dataframe to an interactive table.\"\n",
              "              style=\"display:none;\">\n",
              "        \n",
              "  <svg xmlns=\"http://www.w3.org/2000/svg\" height=\"24px\"viewBox=\"0 0 24 24\"\n",
              "       width=\"24px\">\n",
              "    <path d=\"M0 0h24v24H0V0z\" fill=\"none\"/>\n",
              "    <path d=\"M18.56 5.44l.94 2.06.94-2.06 2.06-.94-2.06-.94-.94-2.06-.94 2.06-2.06.94zm-11 1L8.5 8.5l.94-2.06 2.06-.94-2.06-.94L8.5 2.5l-.94 2.06-2.06.94zm10 10l.94 2.06.94-2.06 2.06-.94-2.06-.94-.94-2.06-.94 2.06-2.06.94z\"/><path d=\"M17.41 7.96l-1.37-1.37c-.4-.4-.92-.59-1.43-.59-.52 0-1.04.2-1.43.59L10.3 9.45l-7.72 7.72c-.78.78-.78 2.05 0 2.83L4 21.41c.39.39.9.59 1.41.59.51 0 1.02-.2 1.41-.59l7.78-7.78 2.81-2.81c.8-.78.8-2.07 0-2.86zM5.41 20L4 18.59l7.72-7.72 1.47 1.35L5.41 20z\"/>\n",
              "  </svg>\n",
              "      </button>\n",
              "      \n",
              "  <style>\n",
              "    .colab-df-container {\n",
              "      display:flex;\n",
              "      flex-wrap:wrap;\n",
              "      gap: 12px;\n",
              "    }\n",
              "\n",
              "    .colab-df-convert {\n",
              "      background-color: #E8F0FE;\n",
              "      border: none;\n",
              "      border-radius: 50%;\n",
              "      cursor: pointer;\n",
              "      display: none;\n",
              "      fill: #1967D2;\n",
              "      height: 32px;\n",
              "      padding: 0 0 0 0;\n",
              "      width: 32px;\n",
              "    }\n",
              "\n",
              "    .colab-df-convert:hover {\n",
              "      background-color: #E2EBFA;\n",
              "      box-shadow: 0px 1px 2px rgba(60, 64, 67, 0.3), 0px 1px 3px 1px rgba(60, 64, 67, 0.15);\n",
              "      fill: #174EA6;\n",
              "    }\n",
              "\n",
              "    [theme=dark] .colab-df-convert {\n",
              "      background-color: #3B4455;\n",
              "      fill: #D2E3FC;\n",
              "    }\n",
              "\n",
              "    [theme=dark] .colab-df-convert:hover {\n",
              "      background-color: #434B5C;\n",
              "      box-shadow: 0px 1px 3px 1px rgba(0, 0, 0, 0.15);\n",
              "      filter: drop-shadow(0px 1px 2px rgba(0, 0, 0, 0.3));\n",
              "      fill: #FFFFFF;\n",
              "    }\n",
              "  </style>\n",
              "\n",
              "      <script>\n",
              "        const buttonEl =\n",
              "          document.querySelector('#df-b46bde6c-f4bb-4256-822d-2315c709e4a7 button.colab-df-convert');\n",
              "        buttonEl.style.display =\n",
              "          google.colab.kernel.accessAllowed ? 'block' : 'none';\n",
              "\n",
              "        async function convertToInteractive(key) {\n",
              "          const element = document.querySelector('#df-b46bde6c-f4bb-4256-822d-2315c709e4a7');\n",
              "          const dataTable =\n",
              "            await google.colab.kernel.invokeFunction('convertToInteractive',\n",
              "                                                     [key], {});\n",
              "          if (!dataTable) return;\n",
              "\n",
              "          const docLinkHtml = 'Like what you see? Visit the ' +\n",
              "            '<a target=\"_blank\" href=https://colab.research.google.com/notebooks/data_table.ipynb>data table notebook</a>'\n",
              "            + ' to learn more about interactive tables.';\n",
              "          element.innerHTML = '';\n",
              "          dataTable['output_type'] = 'display_data';\n",
              "          await google.colab.output.renderOutput(dataTable, element);\n",
              "          const docLink = document.createElement('div');\n",
              "          docLink.innerHTML = docLinkHtml;\n",
              "          element.appendChild(docLink);\n",
              "        }\n",
              "      </script>\n",
              "    </div>\n",
              "  </div>\n",
              "  "
            ]
          },
          "metadata": {},
          "execution_count": 41
        }
      ]
    },
    {
      "cell_type": "markdown",
      "source": [
        "Com este novo teste, podemos perceber que estávamos na direção correta em nossa análise, mas que deixamos passar a coluna do num_atend, que julgamos não ser relevante a resposta final, mas que o algoritmo considera importante. "
      ],
      "metadata": {
        "id": "MAeAzm-Dp_Cc"
      }
    },
    {
      "cell_type": "markdown",
      "source": [
        "##Engajado"
      ],
      "metadata": {
        "id": "99j59A5j3z5Y"
      }
    },
    {
      "cell_type": "code",
      "source": [
        "from sklearn.feature_selection import SelectKBest\n",
        "from sklearn.feature_selection import f_classif, mutual_info_classif"
      ],
      "metadata": {
        "id": "TbB1ERCG8mSV"
      },
      "execution_count": null,
      "outputs": []
    },
    {
      "cell_type": "code",
      "source": [
        "#Definindo as variáveis que serão usadas para a feature engineering\n",
        "x = client.drop(['ind_atrito', 'ind_engaj'], axis = 1)\n",
        "y = client['ind_engaj']"
      ],
      "metadata": {
        "id": "o9i2PxmH3y-T"
      },
      "execution_count": null,
      "outputs": []
    },
    {
      "cell_type": "code",
      "source": [
        "## Chamar o método que verifica os melhores parâmetros f_classif que utiliza da progressão linear para ajustar os dados e utilizando as top 4 features\n",
        "f_classif = SelectKBest (score_func=f_classif, k=4)"
      ],
      "metadata": {
        "id": "EYe-zOvC5POX"
      },
      "execution_count": null,
      "outputs": []
    },
    {
      "cell_type": "code",
      "source": [
        "fit = f_classif.fit(x, y)"
      ],
      "metadata": {
        "id": "2YvbDTSE5Q37"
      },
      "execution_count": null,
      "outputs": []
    },
    {
      "cell_type": "code",
      "source": [
        "features = fit.transform(x)"
      ],
      "metadata": {
        "id": "S_g0o9h15SjU"
      },
      "execution_count": null,
      "outputs": []
    },
    {
      "cell_type": "code",
      "source": [
        "cols = fit.get_support(indices=True)\n",
        "x.iloc[:, cols]"
      ],
      "metadata": {
        "id": "3eAH81qM8O86",
        "colab": {
          "base_uri": "https://localhost:8080/"
        },
        "outputId": "a5f3937e-b18b-4b4a-c74a-210f300af13a"
      },
      "execution_count": null,
      "outputs": [
        {
          "output_type": "execute_result",
          "data": {
            "text/plain": [
              "          vlr_credito  vlr_saldo  num_produtos  qtd_oper\n",
              "11171813     37071.44    8241.16           2.0      13.0\n",
              "11171820    115411.38    6394.76           2.0      20.0\n",
              "11171830     44153.68   27017.68           1.0      12.0\n",
              "11171834    417647.99   32492.43           3.0      25.0\n",
              "11171839     27663.96    1780.23           5.0      12.0\n",
              "...               ...        ...           ...       ...\n",
              "12032476     58167.65    1888.88           1.0      18.0\n",
              "12032484     36333.58    5942.14           4.0      40.0\n",
              "12032485     43054.69    2620.89           2.0      17.0\n",
              "12032487     21959.05    4017.00           1.0      15.0\n",
              "12032490     30268.92    1631.88           1.0      17.0\n",
              "\n",
              "[185674 rows x 4 columns]"
            ],
            "text/html": [
              "\n",
              "  <div id=\"df-59153735-dcc9-4810-a826-a7afdc708ed2\">\n",
              "    <div class=\"colab-df-container\">\n",
              "      <div>\n",
              "<style scoped>\n",
              "    .dataframe tbody tr th:only-of-type {\n",
              "        vertical-align: middle;\n",
              "    }\n",
              "\n",
              "    .dataframe tbody tr th {\n",
              "        vertical-align: top;\n",
              "    }\n",
              "\n",
              "    .dataframe thead th {\n",
              "        text-align: right;\n",
              "    }\n",
              "</style>\n",
              "<table border=\"1\" class=\"dataframe\">\n",
              "  <thead>\n",
              "    <tr style=\"text-align: right;\">\n",
              "      <th></th>\n",
              "      <th>vlr_credito</th>\n",
              "      <th>vlr_saldo</th>\n",
              "      <th>num_produtos</th>\n",
              "      <th>qtd_oper</th>\n",
              "    </tr>\n",
              "  </thead>\n",
              "  <tbody>\n",
              "    <tr>\n",
              "      <th>11171813</th>\n",
              "      <td>37071.44</td>\n",
              "      <td>8241.16</td>\n",
              "      <td>2.0</td>\n",
              "      <td>13.0</td>\n",
              "    </tr>\n",
              "    <tr>\n",
              "      <th>11171820</th>\n",
              "      <td>115411.38</td>\n",
              "      <td>6394.76</td>\n",
              "      <td>2.0</td>\n",
              "      <td>20.0</td>\n",
              "    </tr>\n",
              "    <tr>\n",
              "      <th>11171830</th>\n",
              "      <td>44153.68</td>\n",
              "      <td>27017.68</td>\n",
              "      <td>1.0</td>\n",
              "      <td>12.0</td>\n",
              "    </tr>\n",
              "    <tr>\n",
              "      <th>11171834</th>\n",
              "      <td>417647.99</td>\n",
              "      <td>32492.43</td>\n",
              "      <td>3.0</td>\n",
              "      <td>25.0</td>\n",
              "    </tr>\n",
              "    <tr>\n",
              "      <th>11171839</th>\n",
              "      <td>27663.96</td>\n",
              "      <td>1780.23</td>\n",
              "      <td>5.0</td>\n",
              "      <td>12.0</td>\n",
              "    </tr>\n",
              "    <tr>\n",
              "      <th>...</th>\n",
              "      <td>...</td>\n",
              "      <td>...</td>\n",
              "      <td>...</td>\n",
              "      <td>...</td>\n",
              "    </tr>\n",
              "    <tr>\n",
              "      <th>12032476</th>\n",
              "      <td>58167.65</td>\n",
              "      <td>1888.88</td>\n",
              "      <td>1.0</td>\n",
              "      <td>18.0</td>\n",
              "    </tr>\n",
              "    <tr>\n",
              "      <th>12032484</th>\n",
              "      <td>36333.58</td>\n",
              "      <td>5942.14</td>\n",
              "      <td>4.0</td>\n",
              "      <td>40.0</td>\n",
              "    </tr>\n",
              "    <tr>\n",
              "      <th>12032485</th>\n",
              "      <td>43054.69</td>\n",
              "      <td>2620.89</td>\n",
              "      <td>2.0</td>\n",
              "      <td>17.0</td>\n",
              "    </tr>\n",
              "    <tr>\n",
              "      <th>12032487</th>\n",
              "      <td>21959.05</td>\n",
              "      <td>4017.00</td>\n",
              "      <td>1.0</td>\n",
              "      <td>15.0</td>\n",
              "    </tr>\n",
              "    <tr>\n",
              "      <th>12032490</th>\n",
              "      <td>30268.92</td>\n",
              "      <td>1631.88</td>\n",
              "      <td>1.0</td>\n",
              "      <td>17.0</td>\n",
              "    </tr>\n",
              "  </tbody>\n",
              "</table>\n",
              "<p>185674 rows × 4 columns</p>\n",
              "</div>\n",
              "      <button class=\"colab-df-convert\" onclick=\"convertToInteractive('df-59153735-dcc9-4810-a826-a7afdc708ed2')\"\n",
              "              title=\"Convert this dataframe to an interactive table.\"\n",
              "              style=\"display:none;\">\n",
              "        \n",
              "  <svg xmlns=\"http://www.w3.org/2000/svg\" height=\"24px\"viewBox=\"0 0 24 24\"\n",
              "       width=\"24px\">\n",
              "    <path d=\"M0 0h24v24H0V0z\" fill=\"none\"/>\n",
              "    <path d=\"M18.56 5.44l.94 2.06.94-2.06 2.06-.94-2.06-.94-.94-2.06-.94 2.06-2.06.94zm-11 1L8.5 8.5l.94-2.06 2.06-.94-2.06-.94L8.5 2.5l-.94 2.06-2.06.94zm10 10l.94 2.06.94-2.06 2.06-.94-2.06-.94-.94-2.06-.94 2.06-2.06.94z\"/><path d=\"M17.41 7.96l-1.37-1.37c-.4-.4-.92-.59-1.43-.59-.52 0-1.04.2-1.43.59L10.3 9.45l-7.72 7.72c-.78.78-.78 2.05 0 2.83L4 21.41c.39.39.9.59 1.41.59.51 0 1.02-.2 1.41-.59l7.78-7.78 2.81-2.81c.8-.78.8-2.07 0-2.86zM5.41 20L4 18.59l7.72-7.72 1.47 1.35L5.41 20z\"/>\n",
              "  </svg>\n",
              "      </button>\n",
              "      \n",
              "  <style>\n",
              "    .colab-df-container {\n",
              "      display:flex;\n",
              "      flex-wrap:wrap;\n",
              "      gap: 12px;\n",
              "    }\n",
              "\n",
              "    .colab-df-convert {\n",
              "      background-color: #E8F0FE;\n",
              "      border: none;\n",
              "      border-radius: 50%;\n",
              "      cursor: pointer;\n",
              "      display: none;\n",
              "      fill: #1967D2;\n",
              "      height: 32px;\n",
              "      padding: 0 0 0 0;\n",
              "      width: 32px;\n",
              "    }\n",
              "\n",
              "    .colab-df-convert:hover {\n",
              "      background-color: #E2EBFA;\n",
              "      box-shadow: 0px 1px 2px rgba(60, 64, 67, 0.3), 0px 1px 3px 1px rgba(60, 64, 67, 0.15);\n",
              "      fill: #174EA6;\n",
              "    }\n",
              "\n",
              "    [theme=dark] .colab-df-convert {\n",
              "      background-color: #3B4455;\n",
              "      fill: #D2E3FC;\n",
              "    }\n",
              "\n",
              "    [theme=dark] .colab-df-convert:hover {\n",
              "      background-color: #434B5C;\n",
              "      box-shadow: 0px 1px 3px 1px rgba(0, 0, 0, 0.15);\n",
              "      filter: drop-shadow(0px 1px 2px rgba(0, 0, 0, 0.3));\n",
              "      fill: #FFFFFF;\n",
              "    }\n",
              "  </style>\n",
              "\n",
              "      <script>\n",
              "        const buttonEl =\n",
              "          document.querySelector('#df-59153735-dcc9-4810-a826-a7afdc708ed2 button.colab-df-convert');\n",
              "        buttonEl.style.display =\n",
              "          google.colab.kernel.accessAllowed ? 'block' : 'none';\n",
              "\n",
              "        async function convertToInteractive(key) {\n",
              "          const element = document.querySelector('#df-59153735-dcc9-4810-a826-a7afdc708ed2');\n",
              "          const dataTable =\n",
              "            await google.colab.kernel.invokeFunction('convertToInteractive',\n",
              "                                                     [key], {});\n",
              "          if (!dataTable) return;\n",
              "\n",
              "          const docLinkHtml = 'Like what you see? Visit the ' +\n",
              "            '<a target=\"_blank\" href=https://colab.research.google.com/notebooks/data_table.ipynb>data table notebook</a>'\n",
              "            + ' to learn more about interactive tables.';\n",
              "          element.innerHTML = '';\n",
              "          dataTable['output_type'] = 'display_data';\n",
              "          await google.colab.output.renderOutput(dataTable, element);\n",
              "          const docLink = document.createElement('div');\n",
              "          docLink.innerHTML = docLinkHtml;\n",
              "          element.appendChild(docLink);\n",
              "        }\n",
              "      </script>\n",
              "    </div>\n",
              "  </div>\n",
              "  "
            ]
          },
          "metadata": {},
          "execution_count": 47
        }
      ]
    },
    {
      "cell_type": "markdown",
      "source": [
        "##Novo cliente"
      ],
      "metadata": {
        "id": "EgJLueJE9aQV"
      }
    },
    {
      "cell_type": "code",
      "source": [
        "#Importar a biblioteca\n",
        "from sklearn.feature_selection import SelectKBest\n",
        "from sklearn.feature_selection import f_classif, mutual_info_classif"
      ],
      "metadata": {
        "id": "bcpmwYJE9fxH"
      },
      "execution_count": null,
      "outputs": []
    },
    {
      "cell_type": "code",
      "source": [
        "# Identificar as variáveis entre colunas de análise e coluna de resposta do teste\n",
        "x = not_client.drop(['ind_novo_cli'], axis=1)\n",
        "y = not_client['ind_novo_cli']"
      ],
      "metadata": {
        "id": "klXCfa9m9gJ9"
      },
      "execution_count": null,
      "outputs": []
    },
    {
      "cell_type": "code",
      "source": [
        "# Chamar o método que verifica os melhores parâmetros f_classif que utiliza da progressão linear para ajustar os dados\n",
        "f_classif = SelectKBest(score_func = f_classif, k=4)"
      ],
      "metadata": {
        "id": "sYmgiOPF9gji"
      },
      "execution_count": null,
      "outputs": []
    },
    {
      "cell_type": "code",
      "source": [
        "fit = f_classif.fit(x, y)"
      ],
      "metadata": {
        "id": "AcPK8mUF9hD8"
      },
      "execution_count": null,
      "outputs": []
    },
    {
      "cell_type": "code",
      "source": [
        "features = fit.transform(x)"
      ],
      "metadata": {
        "id": "8BeSxDEE9hUn"
      },
      "execution_count": null,
      "outputs": []
    },
    {
      "cell_type": "code",
      "source": [
        "# Fazer aparecer o nome das colunas que o método julgou interessante\n",
        "cols = fit.get_support(indices=True)\n",
        "x.iloc[:, cols]"
      ],
      "metadata": {
        "id": "gAuEyxGd9hrz",
        "colab": {
          "base_uri": "https://localhost:8080/"
        },
        "outputId": "9debec15-6c48-44a0-8b57-0efeea59130a"
      },
      "execution_count": null,
      "outputs": [
        {
          "output_type": "execute_result",
          "data": {
            "text/plain": [
              "          vlr_credito  num_atend_atrs  vlr_score  qtd_restr\n",
              "11171814         0.00             0.0      523.0        1.0\n",
              "11171816     16411.68             0.0      415.0        3.0\n",
              "11171822     39486.40             0.0      159.0        8.0\n",
              "11171843         0.00             0.0      315.0       10.0\n",
              "11171846      1821.36             0.0      566.0        3.0\n",
              "...               ...             ...        ...        ...\n",
              "12032421         0.00             0.0      274.0        2.0\n",
              "12032441         0.00             0.0      382.0        1.0\n",
              "12032450         0.00             0.0      297.0        2.0\n",
              "12032455      5392.63             0.0      168.0        9.0\n",
              "12032477      2623.28             0.0      431.0       12.0\n",
              "\n",
              "[59220 rows x 4 columns]"
            ],
            "text/html": [
              "\n",
              "  <div id=\"df-c56cbddf-d57f-4b0d-807f-3c7f847ca18c\">\n",
              "    <div class=\"colab-df-container\">\n",
              "      <div>\n",
              "<style scoped>\n",
              "    .dataframe tbody tr th:only-of-type {\n",
              "        vertical-align: middle;\n",
              "    }\n",
              "\n",
              "    .dataframe tbody tr th {\n",
              "        vertical-align: top;\n",
              "    }\n",
              "\n",
              "    .dataframe thead th {\n",
              "        text-align: right;\n",
              "    }\n",
              "</style>\n",
              "<table border=\"1\" class=\"dataframe\">\n",
              "  <thead>\n",
              "    <tr style=\"text-align: right;\">\n",
              "      <th></th>\n",
              "      <th>vlr_credito</th>\n",
              "      <th>num_atend_atrs</th>\n",
              "      <th>vlr_score</th>\n",
              "      <th>qtd_restr</th>\n",
              "    </tr>\n",
              "  </thead>\n",
              "  <tbody>\n",
              "    <tr>\n",
              "      <th>11171814</th>\n",
              "      <td>0.00</td>\n",
              "      <td>0.0</td>\n",
              "      <td>523.0</td>\n",
              "      <td>1.0</td>\n",
              "    </tr>\n",
              "    <tr>\n",
              "      <th>11171816</th>\n",
              "      <td>16411.68</td>\n",
              "      <td>0.0</td>\n",
              "      <td>415.0</td>\n",
              "      <td>3.0</td>\n",
              "    </tr>\n",
              "    <tr>\n",
              "      <th>11171822</th>\n",
              "      <td>39486.40</td>\n",
              "      <td>0.0</td>\n",
              "      <td>159.0</td>\n",
              "      <td>8.0</td>\n",
              "    </tr>\n",
              "    <tr>\n",
              "      <th>11171843</th>\n",
              "      <td>0.00</td>\n",
              "      <td>0.0</td>\n",
              "      <td>315.0</td>\n",
              "      <td>10.0</td>\n",
              "    </tr>\n",
              "    <tr>\n",
              "      <th>11171846</th>\n",
              "      <td>1821.36</td>\n",
              "      <td>0.0</td>\n",
              "      <td>566.0</td>\n",
              "      <td>3.0</td>\n",
              "    </tr>\n",
              "    <tr>\n",
              "      <th>...</th>\n",
              "      <td>...</td>\n",
              "      <td>...</td>\n",
              "      <td>...</td>\n",
              "      <td>...</td>\n",
              "    </tr>\n",
              "    <tr>\n",
              "      <th>12032421</th>\n",
              "      <td>0.00</td>\n",
              "      <td>0.0</td>\n",
              "      <td>274.0</td>\n",
              "      <td>2.0</td>\n",
              "    </tr>\n",
              "    <tr>\n",
              "      <th>12032441</th>\n",
              "      <td>0.00</td>\n",
              "      <td>0.0</td>\n",
              "      <td>382.0</td>\n",
              "      <td>1.0</td>\n",
              "    </tr>\n",
              "    <tr>\n",
              "      <th>12032450</th>\n",
              "      <td>0.00</td>\n",
              "      <td>0.0</td>\n",
              "      <td>297.0</td>\n",
              "      <td>2.0</td>\n",
              "    </tr>\n",
              "    <tr>\n",
              "      <th>12032455</th>\n",
              "      <td>5392.63</td>\n",
              "      <td>0.0</td>\n",
              "      <td>168.0</td>\n",
              "      <td>9.0</td>\n",
              "    </tr>\n",
              "    <tr>\n",
              "      <th>12032477</th>\n",
              "      <td>2623.28</td>\n",
              "      <td>0.0</td>\n",
              "      <td>431.0</td>\n",
              "      <td>12.0</td>\n",
              "    </tr>\n",
              "  </tbody>\n",
              "</table>\n",
              "<p>59220 rows × 4 columns</p>\n",
              "</div>\n",
              "      <button class=\"colab-df-convert\" onclick=\"convertToInteractive('df-c56cbddf-d57f-4b0d-807f-3c7f847ca18c')\"\n",
              "              title=\"Convert this dataframe to an interactive table.\"\n",
              "              style=\"display:none;\">\n",
              "        \n",
              "  <svg xmlns=\"http://www.w3.org/2000/svg\" height=\"24px\"viewBox=\"0 0 24 24\"\n",
              "       width=\"24px\">\n",
              "    <path d=\"M0 0h24v24H0V0z\" fill=\"none\"/>\n",
              "    <path d=\"M18.56 5.44l.94 2.06.94-2.06 2.06-.94-2.06-.94-.94-2.06-.94 2.06-2.06.94zm-11 1L8.5 8.5l.94-2.06 2.06-.94-2.06-.94L8.5 2.5l-.94 2.06-2.06.94zm10 10l.94 2.06.94-2.06 2.06-.94-2.06-.94-.94-2.06-.94 2.06-2.06.94z\"/><path d=\"M17.41 7.96l-1.37-1.37c-.4-.4-.92-.59-1.43-.59-.52 0-1.04.2-1.43.59L10.3 9.45l-7.72 7.72c-.78.78-.78 2.05 0 2.83L4 21.41c.39.39.9.59 1.41.59.51 0 1.02-.2 1.41-.59l7.78-7.78 2.81-2.81c.8-.78.8-2.07 0-2.86zM5.41 20L4 18.59l7.72-7.72 1.47 1.35L5.41 20z\"/>\n",
              "  </svg>\n",
              "      </button>\n",
              "      \n",
              "  <style>\n",
              "    .colab-df-container {\n",
              "      display:flex;\n",
              "      flex-wrap:wrap;\n",
              "      gap: 12px;\n",
              "    }\n",
              "\n",
              "    .colab-df-convert {\n",
              "      background-color: #E8F0FE;\n",
              "      border: none;\n",
              "      border-radius: 50%;\n",
              "      cursor: pointer;\n",
              "      display: none;\n",
              "      fill: #1967D2;\n",
              "      height: 32px;\n",
              "      padding: 0 0 0 0;\n",
              "      width: 32px;\n",
              "    }\n",
              "\n",
              "    .colab-df-convert:hover {\n",
              "      background-color: #E2EBFA;\n",
              "      box-shadow: 0px 1px 2px rgba(60, 64, 67, 0.3), 0px 1px 3px 1px rgba(60, 64, 67, 0.15);\n",
              "      fill: #174EA6;\n",
              "    }\n",
              "\n",
              "    [theme=dark] .colab-df-convert {\n",
              "      background-color: #3B4455;\n",
              "      fill: #D2E3FC;\n",
              "    }\n",
              "\n",
              "    [theme=dark] .colab-df-convert:hover {\n",
              "      background-color: #434B5C;\n",
              "      box-shadow: 0px 1px 3px 1px rgba(0, 0, 0, 0.15);\n",
              "      filter: drop-shadow(0px 1px 2px rgba(0, 0, 0, 0.3));\n",
              "      fill: #FFFFFF;\n",
              "    }\n",
              "  </style>\n",
              "\n",
              "      <script>\n",
              "        const buttonEl =\n",
              "          document.querySelector('#df-c56cbddf-d57f-4b0d-807f-3c7f847ca18c button.colab-df-convert');\n",
              "        buttonEl.style.display =\n",
              "          google.colab.kernel.accessAllowed ? 'block' : 'none';\n",
              "\n",
              "        async function convertToInteractive(key) {\n",
              "          const element = document.querySelector('#df-c56cbddf-d57f-4b0d-807f-3c7f847ca18c');\n",
              "          const dataTable =\n",
              "            await google.colab.kernel.invokeFunction('convertToInteractive',\n",
              "                                                     [key], {});\n",
              "          if (!dataTable) return;\n",
              "\n",
              "          const docLinkHtml = 'Like what you see? Visit the ' +\n",
              "            '<a target=\"_blank\" href=https://colab.research.google.com/notebooks/data_table.ipynb>data table notebook</a>'\n",
              "            + ' to learn more about interactive tables.';\n",
              "          element.innerHTML = '';\n",
              "          dataTable['output_type'] = 'display_data';\n",
              "          await google.colab.output.renderOutput(dataTable, element);\n",
              "          const docLink = document.createElement('div');\n",
              "          docLink.innerHTML = docLinkHtml;\n",
              "          element.appendChild(docLink);\n",
              "        }\n",
              "      </script>\n",
              "    </div>\n",
              "  </div>\n",
              "  "
            ]
          },
          "metadata": {},
          "execution_count": 53
        }
      ]
    },
    {
      "cell_type": "markdown",
      "source": [
        "# Normalização e padronização das colunas"
      ],
      "metadata": {
        "id": "M33TDV7TLR08"
      }
    },
    {
      "cell_type": "code",
      "source": [
        "import matplotlib.pyplot as plt\n",
        "%matplotlib inline\n",
        "from sklearn.preprocessing import MinMaxScaler\n",
        "plt.hist(client['vlr_score'])"
      ],
      "metadata": {
        "id": "TJWOIYscLWa6",
        "colab": {
          "base_uri": "https://localhost:8080/"
        },
        "outputId": "be2ab1f3-d7b2-4e98-b05e-c160a4676a3e"
      },
      "execution_count": null,
      "outputs": [
        {
          "output_type": "execute_result",
          "data": {
            "text/plain": [
              "(array([ 3328., 22209., 22488., 49693., 49079., 33881.,  2315.,  1262.,\n",
              "          798.,   621.]),\n",
              " array([  0. ,  97.3, 194.6, 291.9, 389.2, 486.5, 583.8, 681.1, 778.4,\n",
              "        875.7, 973. ]),\n",
              " <a list of 10 Patch objects>)"
            ]
          },
          "metadata": {},
          "execution_count": 54
        },
        {
          "output_type": "display_data",
          "data": {
            "text/plain": [
              "<Figure size 432x288 with 1 Axes>"
            ],
            "image/png": "[encoded data removed]"
          },
          "metadata": {
            "needs_background": "light"
          }
        }
      ]
    },
    {
      "cell_type": "markdown",
      "source": [
        "## Cliente\n"
      ],
      "metadata": {
        "id": "2agYXeQ0LurH"
      }
    },
    {
      "cell_type": "code",
      "source": [
        "scaler = MinMaxScaler()\n",
        "scaled_features = scaler.fit_transform(client)\n",
        "client = pd.DataFrame(data=scaled_features, columns=client.columns)"
      ],
      "metadata": {
        "id": "GWh-VUNmLmcF"
      },
      "execution_count": null,
      "outputs": []
    },
    {
      "cell_type": "code",
      "source": [
        "client"
      ],
      "metadata": {
        "id": "zBW_cBotM9Bx",
        "colab": {
          "base_uri": "https://localhost:8080/"
        },
        "outputId": "62652b10-162a-4b72-813a-157ee019d865"
      },
      "execution_count": null,
      "outputs": [
        {
          "output_type": "execute_result",
          "data": {
            "text/plain": [
              "        vlr_credito  vlr_saldo  num_atend_atrs  vlr_score  num_produtos  \\\n",
              "0          0.010020   0.011121             0.0   0.537513      0.083333   \n",
              "1          0.031196   0.008629             0.0   0.353546      0.083333   \n",
              "2          0.011935   0.036458             0.0   0.417266      0.000000   \n",
              "3          0.112891   0.043846             0.0   0.149024      0.166667   \n",
              "4          0.007478   0.002402             0.0   0.362795      0.333333   \n",
              "...             ...        ...             ...        ...           ...   \n",
              "185669     0.015723   0.002549             0.0   0.503597      0.000000   \n",
              "185670     0.009821   0.008018             0.0   0.552929      0.250000   \n",
              "185671     0.011638   0.003537             0.0   0.449126      0.083333   \n",
              "185672     0.005936   0.005421             0.0   0.421377      0.000000   \n",
              "185673     0.008182   0.002202             0.0   0.368962      0.000000   \n",
              "\n",
              "        num_atend  qtd_oper  qtd_reclm  qtd_restr  ind_atrito  ind_engaj  \n",
              "0             0.0  0.049057        0.0   0.000000         0.0        1.0  \n",
              "1             0.0  0.075472        0.0   0.000000         0.0        1.0  \n",
              "2             0.0  0.045283        0.0   0.110092         0.0        1.0  \n",
              "3             0.0  0.094340        0.0   0.100917         0.0        1.0  \n",
              "4             0.0  0.045283        0.0   0.009174         0.0        0.0  \n",
              "...           ...       ...        ...        ...         ...        ...  \n",
              "185669        0.0  0.067925        0.0   0.036697         0.0        0.0  \n",
              "185670        0.0  0.150943        0.0   0.000000         0.0        1.0  \n",
              "185671        0.0  0.064151        0.0   0.064220         0.0        0.0  \n",
              "185672        0.0  0.056604        0.0   0.027523         0.0        0.0  \n",
              "185673        0.0  0.064151        0.0   0.045872         0.0        1.0  \n",
              "\n",
              "[185674 rows x 11 columns]"
            ],
            "text/html": [
              "\n",
              "  <div id=\"df-b38e4bbe-7613-42e6-9a2a-cc63a8f9c8ac\">\n",
              "    <div class=\"colab-df-container\">\n",
              "      <div>\n",
              "<style scoped>\n",
              "    .dataframe tbody tr th:only-of-type {\n",
              "        vertical-align: middle;\n",
              "    }\n",
              "\n",
              "    .dataframe tbody tr th {\n",
              "        vertical-align: top;\n",
              "    }\n",
              "\n",
              "    .dataframe thead th {\n",
              "        text-align: right;\n",
              "    }\n",
              "</style>\n",
              "<table border=\"1\" class=\"dataframe\">\n",
              "  <thead>\n",
              "    <tr style=\"text-align: right;\">\n",
              "      <th></th>\n",
              "      <th>vlr_credito</th>\n",
              "      <th>vlr_saldo</th>\n",
              "      <th>num_atend_atrs</th>\n",
              "      <th>vlr_score</th>\n",
              "      <th>num_produtos</th>\n",
              "      <th>num_atend</th>\n",
              "      <th>qtd_oper</th>\n",
              "      <th>qtd_reclm</th>\n",
              "      <th>qtd_restr</th>\n",
              "      <th>ind_atrito</th>\n",
              "      <th>ind_engaj</th>\n",
              "    </tr>\n",
              "  </thead>\n",
              "  <tbody>\n",
              "    <tr>\n",
              "      <th>0</th>\n",
              "      <td>0.010020</td>\n",
              "      <td>0.011121</td>\n",
              "      <td>0.0</td>\n",
              "      <td>0.537513</td>\n",
              "      <td>0.083333</td>\n",
              "      <td>0.0</td>\n",
              "      <td>0.049057</td>\n",
              "      <td>0.0</td>\n",
              "      <td>0.000000</td>\n",
              "      <td>0.0</td>\n",
              "      <td>1.0</td>\n",
              "    </tr>\n",
              "    <tr>\n",
              "      <th>1</th>\n",
              "      <td>0.031196</td>\n",
              "      <td>0.008629</td>\n",
              "      <td>0.0</td>\n",
              "      <td>0.353546</td>\n",
              "      <td>0.083333</td>\n",
              "      <td>0.0</td>\n",
              "      <td>0.075472</td>\n",
              "      <td>0.0</td>\n",
              "      <td>0.000000</td>\n",
              "      <td>0.0</td>\n",
              "      <td>1.0</td>\n",
              "    </tr>\n",
              "    <tr>\n",
              "      <th>2</th>\n",
              "      <td>0.011935</td>\n",
              "      <td>0.036458</td>\n",
              "      <td>0.0</td>\n",
              "      <td>0.417266</td>\n",
              "      <td>0.000000</td>\n",
              "      <td>0.0</td>\n",
              "      <td>0.045283</td>\n",
              "      <td>0.0</td>\n",
              "      <td>0.110092</td>\n",
              "      <td>0.0</td>\n",
              "      <td>1.0</td>\n",
              "    </tr>\n",
              "    <tr>\n",
              "      <th>3</th>\n",
              "      <td>0.112891</td>\n",
              "      <td>0.043846</td>\n",
              "      <td>0.0</td>\n",
              "      <td>0.149024</td>\n",
              "      <td>0.166667</td>\n",
              "      <td>0.0</td>\n",
              "      <td>0.094340</td>\n",
              "      <td>0.0</td>\n",
              "      <td>0.100917</td>\n",
              "      <td>0.0</td>\n",
              "      <td>1.0</td>\n",
              "    </tr>\n",
              "    <tr>\n",
              "      <th>4</th>\n",
              "      <td>0.007478</td>\n",
              "      <td>0.002402</td>\n",
              "      <td>0.0</td>\n",
              "      <td>0.362795</td>\n",
              "      <td>0.333333</td>\n",
              "      <td>0.0</td>\n",
              "      <td>0.045283</td>\n",
              "      <td>0.0</td>\n",
              "      <td>0.009174</td>\n",
              "      <td>0.0</td>\n",
              "      <td>0.0</td>\n",
              "    </tr>\n",
              "    <tr>\n",
              "      <th>...</th>\n",
              "      <td>...</td>\n",
              "      <td>...</td>\n",
              "      <td>...</td>\n",
              "      <td>...</td>\n",
              "      <td>...</td>\n",
              "      <td>...</td>\n",
              "      <td>...</td>\n",
              "      <td>...</td>\n",
              "      <td>...</td>\n",
              "      <td>...</td>\n",
              "      <td>...</td>\n",
              "    </tr>\n",
              "    <tr>\n",
              "      <th>185669</th>\n",
              "      <td>0.015723</td>\n",
              "      <td>0.002549</td>\n",
              "      <td>0.0</td>\n",
              "      <td>0.503597</td>\n",
              "      <td>0.000000</td>\n",
              "      <td>0.0</td>\n",
              "      <td>0.067925</td>\n",
              "      <td>0.0</td>\n",
              "      <td>0.036697</td>\n",
              "      <td>0.0</td>\n",
              "      <td>0.0</td>\n",
              "    </tr>\n",
              "    <tr>\n",
              "      <th>185670</th>\n",
              "      <td>0.009821</td>\n",
              "      <td>0.008018</td>\n",
              "      <td>0.0</td>\n",
              "      <td>0.552929</td>\n",
              "      <td>0.250000</td>\n",
              "      <td>0.0</td>\n",
              "      <td>0.150943</td>\n",
              "      <td>0.0</td>\n",
              "      <td>0.000000</td>\n",
              "      <td>0.0</td>\n",
              "      <td>1.0</td>\n",
              "    </tr>\n",
              "    <tr>\n",
              "      <th>185671</th>\n",
              "      <td>0.011638</td>\n",
              "      <td>0.003537</td>\n",
              "      <td>0.0</td>\n",
              "      <td>0.449126</td>\n",
              "      <td>0.083333</td>\n",
              "      <td>0.0</td>\n",
              "      <td>0.064151</td>\n",
              "      <td>0.0</td>\n",
              "      <td>0.064220</td>\n",
              "      <td>0.0</td>\n",
              "      <td>0.0</td>\n",
              "    </tr>\n",
              "    <tr>\n",
              "      <th>185672</th>\n",
              "      <td>0.005936</td>\n",
              "      <td>0.005421</td>\n",
              "      <td>0.0</td>\n",
              "      <td>0.421377</td>\n",
              "      <td>0.000000</td>\n",
              "      <td>0.0</td>\n",
              "      <td>0.056604</td>\n",
              "      <td>0.0</td>\n",
              "      <td>0.027523</td>\n",
              "      <td>0.0</td>\n",
              "      <td>0.0</td>\n",
              "    </tr>\n",
              "    <tr>\n",
              "      <th>185673</th>\n",
              "      <td>0.008182</td>\n",
              "      <td>0.002202</td>\n",
              "      <td>0.0</td>\n",
              "      <td>0.368962</td>\n",
              "      <td>0.000000</td>\n",
              "      <td>0.0</td>\n",
              "      <td>0.064151</td>\n",
              "      <td>0.0</td>\n",
              "      <td>0.045872</td>\n",
              "      <td>0.0</td>\n",
              "      <td>1.0</td>\n",
              "    </tr>\n",
              "  </tbody>\n",
              "</table>\n",
              "<p>185674 rows × 11 columns</p>\n",
              "</div>\n",
              "      <button class=\"colab-df-convert\" onclick=\"convertToInteractive('df-b38e4bbe-7613-42e6-9a2a-cc63a8f9c8ac')\"\n",
              "              title=\"Convert this dataframe to an interactive table.\"\n",
              "              style=\"display:none;\">\n",
              "        \n",
              "  <svg xmlns=\"http://www.w3.org/2000/svg\" height=\"24px\"viewBox=\"0 0 24 24\"\n",
              "       width=\"24px\">\n",
              "    <path d=\"M0 0h24v24H0V0z\" fill=\"none\"/>\n",
              "    <path d=\"M18.56 5.44l.94 2.06.94-2.06 2.06-.94-2.06-.94-.94-2.06-.94 2.06-2.06.94zm-11 1L8.5 8.5l.94-2.06 2.06-.94-2.06-.94L8.5 2.5l-.94 2.06-2.06.94zm10 10l.94 2.06.94-2.06 2.06-.94-2.06-.94-.94-2.06-.94 2.06-2.06.94z\"/><path d=\"M17.41 7.96l-1.37-1.37c-.4-.4-.92-.59-1.43-.59-.52 0-1.04.2-1.43.59L10.3 9.45l-7.72 7.72c-.78.78-.78 2.05 0 2.83L4 21.41c.39.39.9.59 1.41.59.51 0 1.02-.2 1.41-.59l7.78-7.78 2.81-2.81c.8-.78.8-2.07 0-2.86zM5.41 20L4 18.59l7.72-7.72 1.47 1.35L5.41 20z\"/>\n",
              "  </svg>\n",
              "      </button>\n",
              "      \n",
              "  <style>\n",
              "    .colab-df-container {\n",
              "      display:flex;\n",
              "      flex-wrap:wrap;\n",
              "      gap: 12px;\n",
              "    }\n",
              "\n",
              "    .colab-df-convert {\n",
              "      background-color: #E8F0FE;\n",
              "      border: none;\n",
              "      border-radius: 50%;\n",
              "      cursor: pointer;\n",
              "      display: none;\n",
              "      fill: #1967D2;\n",
              "      height: 32px;\n",
              "      padding: 0 0 0 0;\n",
              "      width: 32px;\n",
              "    }\n",
              "\n",
              "    .colab-df-convert:hover {\n",
              "      background-color: #E2EBFA;\n",
              "      box-shadow: 0px 1px 2px rgba(60, 64, 67, 0.3), 0px 1px 3px 1px rgba(60, 64, 67, 0.15);\n",
              "      fill: #174EA6;\n",
              "    }\n",
              "\n",
              "    [theme=dark] .colab-df-convert {\n",
              "      background-color: #3B4455;\n",
              "      fill: #D2E3FC;\n",
              "    }\n",
              "\n",
              "    [theme=dark] .colab-df-convert:hover {\n",
              "      background-color: #434B5C;\n",
              "      box-shadow: 0px 1px 3px 1px rgba(0, 0, 0, 0.15);\n",
              "      filter: drop-shadow(0px 1px 2px rgba(0, 0, 0, 0.3));\n",
              "      fill: #FFFFFF;\n",
              "    }\n",
              "  </style>\n",
              "\n",
              "      <script>\n",
              "        const buttonEl =\n",
              "          document.querySelector('#df-b38e4bbe-7613-42e6-9a2a-cc63a8f9c8ac button.colab-df-convert');\n",
              "        buttonEl.style.display =\n",
              "          google.colab.kernel.accessAllowed ? 'block' : 'none';\n",
              "\n",
              "        async function convertToInteractive(key) {\n",
              "          const element = document.querySelector('#df-b38e4bbe-7613-42e6-9a2a-cc63a8f9c8ac');\n",
              "          const dataTable =\n",
              "            await google.colab.kernel.invokeFunction('convertToInteractive',\n",
              "                                                     [key], {});\n",
              "          if (!dataTable) return;\n",
              "\n",
              "          const docLinkHtml = 'Like what you see? Visit the ' +\n",
              "            '<a target=\"_blank\" href=https://colab.research.google.com/notebooks/data_table.ipynb>data table notebook</a>'\n",
              "            + ' to learn more about interactive tables.';\n",
              "          element.innerHTML = '';\n",
              "          dataTable['output_type'] = 'display_data';\n",
              "          await google.colab.output.renderOutput(dataTable, element);\n",
              "          const docLink = document.createElement('div');\n",
              "          docLink.innerHTML = docLinkHtml;\n",
              "          element.appendChild(docLink);\n",
              "        }\n",
              "      </script>\n",
              "    </div>\n",
              "  </div>\n",
              "  "
            ]
          },
          "metadata": {},
          "execution_count": 56
        }
      ]
    },
    {
      "cell_type": "markdown",
      "source": [
        "## Não cliente\n"
      ],
      "metadata": {
        "id": "t9tNCzQuPJK_"
      }
    },
    {
      "cell_type": "code",
      "source": [
        "scaler = MinMaxScaler()\n",
        "scaled_features = scaler.fit_transform(not_client)\n",
        "not_client = pd.DataFrame(data=scaled_features, columns=not_client.columns)"
      ],
      "metadata": {
        "id": "TtH3Ekw_PKwU"
      },
      "execution_count": null,
      "outputs": []
    },
    {
      "cell_type": "code",
      "source": [
        "not_client"
      ],
      "metadata": {
        "id": "wRd9wzGzPTEw",
        "colab": {
          "base_uri": "https://localhost:8080/"
        },
        "outputId": "0c4a9d29-f4da-4e92-9551-60f765cf4436"
      },
      "execution_count": null,
      "outputs": [
        {
          "output_type": "execute_result",
          "data": {
            "text/plain": [
              "       vlr_credito  num_atend_atrs  vlr_score  num_atend  qtd_reclm  \\\n",
              "0         0.000000             0.0   0.544225        0.0        0.0   \n",
              "1         0.002148             0.0   0.431842        0.0        0.0   \n",
              "2         0.005169             0.0   0.165453        0.0        0.0   \n",
              "3         0.000000             0.0   0.327784        0.0        0.0   \n",
              "4         0.000238             0.0   0.588970        0.0        0.0   \n",
              "...            ...             ...        ...        ...        ...   \n",
              "59215     0.000000             0.0   0.285120        0.0        0.0   \n",
              "59216     0.000000             0.0   0.397503        0.0        0.0   \n",
              "59217     0.000000             0.0   0.309053        0.0        0.0   \n",
              "59218     0.000706             0.0   0.174818        0.0        0.0   \n",
              "59219     0.000343             0.0   0.448491        0.0        0.0   \n",
              "\n",
              "       qtd_restr  ind_novo_cli  \n",
              "0       0.000000           1.0  \n",
              "1       0.009259           0.0  \n",
              "2       0.032407           0.0  \n",
              "3       0.041667           0.0  \n",
              "4       0.009259           0.0  \n",
              "...          ...           ...  \n",
              "59215   0.004630           0.0  \n",
              "59216   0.000000           1.0  \n",
              "59217   0.004630           0.0  \n",
              "59218   0.037037           0.0  \n",
              "59219   0.050926           0.0  \n",
              "\n",
              "[59220 rows x 7 columns]"
            ],
            "text/html": [
              "\n",
              "  <div id=\"df-0a21e160-3007-46a6-8800-5886ba3a85b1\">\n",
              "    <div class=\"colab-df-container\">\n",
              "      <div>\n",
              "<style scoped>\n",
              "    .dataframe tbody tr th:only-of-type {\n",
              "        vertical-align: middle;\n",
              "    }\n",
              "\n",
              "    .dataframe tbody tr th {\n",
              "        vertical-align: top;\n",
              "    }\n",
              "\n",
              "    .dataframe thead th {\n",
              "        text-align: right;\n",
              "    }\n",
              "</style>\n",
              "<table border=\"1\" class=\"dataframe\">\n",
              "  <thead>\n",
              "    <tr style=\"text-align: right;\">\n",
              "      <th></th>\n",
              "      <th>vlr_credito</th>\n",
              "      <th>num_atend_atrs</th>\n",
              "      <th>vlr_score</th>\n",
              "      <th>num_atend</th>\n",
              "      <th>qtd_reclm</th>\n",
              "      <th>qtd_restr</th>\n",
              "      <th>ind_novo_cli</th>\n",
              "    </tr>\n",
              "  </thead>\n",
              "  <tbody>\n",
              "    <tr>\n",
              "      <th>0</th>\n",
              "      <td>0.000000</td>\n",
              "      <td>0.0</td>\n",
              "      <td>0.544225</td>\n",
              "      <td>0.0</td>\n",
              "      <td>0.0</td>\n",
              "      <td>0.000000</td>\n",
              "      <td>1.0</td>\n",
              "    </tr>\n",
              "    <tr>\n",
              "      <th>1</th>\n",
              "      <td>0.002148</td>\n",
              "      <td>0.0</td>\n",
              "      <td>0.431842</td>\n",
              "      <td>0.0</td>\n",
              "      <td>0.0</td>\n",
              "      <td>0.009259</td>\n",
              "      <td>0.0</td>\n",
              "    </tr>\n",
              "    <tr>\n",
              "      <th>2</th>\n",
              "      <td>0.005169</td>\n",
              "      <td>0.0</td>\n",
              "      <td>0.165453</td>\n",
              "      <td>0.0</td>\n",
              "      <td>0.0</td>\n",
              "      <td>0.032407</td>\n",
              "      <td>0.0</td>\n",
              "    </tr>\n",
              "    <tr>\n",
              "      <th>3</th>\n",
              "      <td>0.000000</td>\n",
              "      <td>0.0</td>\n",
              "      <td>0.327784</td>\n",
              "      <td>0.0</td>\n",
              "      <td>0.0</td>\n",
              "      <td>0.041667</td>\n",
              "      <td>0.0</td>\n",
              "    </tr>\n",
              "    <tr>\n",
              "      <th>4</th>\n",
              "      <td>0.000238</td>\n",
              "      <td>0.0</td>\n",
              "      <td>0.588970</td>\n",
              "      <td>0.0</td>\n",
              "      <td>0.0</td>\n",
              "      <td>0.009259</td>\n",
              "      <td>0.0</td>\n",
              "    </tr>\n",
              "    <tr>\n",
              "      <th>...</th>\n",
              "      <td>...</td>\n",
              "      <td>...</td>\n",
              "      <td>...</td>\n",
              "      <td>...</td>\n",
              "      <td>...</td>\n",
              "      <td>...</td>\n",
              "      <td>...</td>\n",
              "    </tr>\n",
              "    <tr>\n",
              "      <th>59215</th>\n",
              "      <td>0.000000</td>\n",
              "      <td>0.0</td>\n",
              "      <td>0.285120</td>\n",
              "      <td>0.0</td>\n",
              "      <td>0.0</td>\n",
              "      <td>0.004630</td>\n",
              "      <td>0.0</td>\n",
              "    </tr>\n",
              "    <tr>\n",
              "      <th>59216</th>\n",
              "      <td>0.000000</td>\n",
              "      <td>0.0</td>\n",
              "      <td>0.397503</td>\n",
              "      <td>0.0</td>\n",
              "      <td>0.0</td>\n",
              "      <td>0.000000</td>\n",
              "      <td>1.0</td>\n",
              "    </tr>\n",
              "    <tr>\n",
              "      <th>59217</th>\n",
              "      <td>0.000000</td>\n",
              "      <td>0.0</td>\n",
              "      <td>0.309053</td>\n",
              "      <td>0.0</td>\n",
              "      <td>0.0</td>\n",
              "      <td>0.004630</td>\n",
              "      <td>0.0</td>\n",
              "    </tr>\n",
              "    <tr>\n",
              "      <th>59218</th>\n",
              "      <td>0.000706</td>\n",
              "      <td>0.0</td>\n",
              "      <td>0.174818</td>\n",
              "      <td>0.0</td>\n",
              "      <td>0.0</td>\n",
              "      <td>0.037037</td>\n",
              "      <td>0.0</td>\n",
              "    </tr>\n",
              "    <tr>\n",
              "      <th>59219</th>\n",
              "      <td>0.000343</td>\n",
              "      <td>0.0</td>\n",
              "      <td>0.448491</td>\n",
              "      <td>0.0</td>\n",
              "      <td>0.0</td>\n",
              "      <td>0.050926</td>\n",
              "      <td>0.0</td>\n",
              "    </tr>\n",
              "  </tbody>\n",
              "</table>\n",
              "<p>59220 rows × 7 columns</p>\n",
              "</div>\n",
              "      <button class=\"colab-df-convert\" onclick=\"convertToInteractive('df-0a21e160-3007-46a6-8800-5886ba3a85b1')\"\n",
              "              title=\"Convert this dataframe to an interactive table.\"\n",
              "              style=\"display:none;\">\n",
              "        \n",
              "  <svg xmlns=\"http://www.w3.org/2000/svg\" height=\"24px\"viewBox=\"0 0 24 24\"\n",
              "       width=\"24px\">\n",
              "    <path d=\"M0 0h24v24H0V0z\" fill=\"none\"/>\n",
              "    <path d=\"M18.56 5.44l.94 2.06.94-2.06 2.06-.94-2.06-.94-.94-2.06-.94 2.06-2.06.94zm-11 1L8.5 8.5l.94-2.06 2.06-.94-2.06-.94L8.5 2.5l-.94 2.06-2.06.94zm10 10l.94 2.06.94-2.06 2.06-.94-2.06-.94-.94-2.06-.94 2.06-2.06.94z\"/><path d=\"M17.41 7.96l-1.37-1.37c-.4-.4-.92-.59-1.43-.59-.52 0-1.04.2-1.43.59L10.3 9.45l-7.72 7.72c-.78.78-.78 2.05 0 2.83L4 21.41c.39.39.9.59 1.41.59.51 0 1.02-.2 1.41-.59l7.78-7.78 2.81-2.81c.8-.78.8-2.07 0-2.86zM5.41 20L4 18.59l7.72-7.72 1.47 1.35L5.41 20z\"/>\n",
              "  </svg>\n",
              "      </button>\n",
              "      \n",
              "  <style>\n",
              "    .colab-df-container {\n",
              "      display:flex;\n",
              "      flex-wrap:wrap;\n",
              "      gap: 12px;\n",
              "    }\n",
              "\n",
              "    .colab-df-convert {\n",
              "      background-color: #E8F0FE;\n",
              "      border: none;\n",
              "      border-radius: 50%;\n",
              "      cursor: pointer;\n",
              "      display: none;\n",
              "      fill: #1967D2;\n",
              "      height: 32px;\n",
              "      padding: 0 0 0 0;\n",
              "      width: 32px;\n",
              "    }\n",
              "\n",
              "    .colab-df-convert:hover {\n",
              "      background-color: #E2EBFA;\n",
              "      box-shadow: 0px 1px 2px rgba(60, 64, 67, 0.3), 0px 1px 3px 1px rgba(60, 64, 67, 0.15);\n",
              "      fill: #174EA6;\n",
              "    }\n",
              "\n",
              "    [theme=dark] .colab-df-convert {\n",
              "      background-color: #3B4455;\n",
              "      fill: #D2E3FC;\n",
              "    }\n",
              "\n",
              "    [theme=dark] .colab-df-convert:hover {\n",
              "      background-color: #434B5C;\n",
              "      box-shadow: 0px 1px 3px 1px rgba(0, 0, 0, 0.15);\n",
              "      filter: drop-shadow(0px 1px 2px rgba(0, 0, 0, 0.3));\n",
              "      fill: #FFFFFF;\n",
              "    }\n",
              "  </style>\n",
              "\n",
              "      <script>\n",
              "        const buttonEl =\n",
              "          document.querySelector('#df-0a21e160-3007-46a6-8800-5886ba3a85b1 button.colab-df-convert');\n",
              "        buttonEl.style.display =\n",
              "          google.colab.kernel.accessAllowed ? 'block' : 'none';\n",
              "\n",
              "        async function convertToInteractive(key) {\n",
              "          const element = document.querySelector('#df-0a21e160-3007-46a6-8800-5886ba3a85b1');\n",
              "          const dataTable =\n",
              "            await google.colab.kernel.invokeFunction('convertToInteractive',\n",
              "                                                     [key], {});\n",
              "          if (!dataTable) return;\n",
              "\n",
              "          const docLinkHtml = 'Like what you see? Visit the ' +\n",
              "            '<a target=\"_blank\" href=https://colab.research.google.com/notebooks/data_table.ipynb>data table notebook</a>'\n",
              "            + ' to learn more about interactive tables.';\n",
              "          element.innerHTML = '';\n",
              "          dataTable['output_type'] = 'display_data';\n",
              "          await google.colab.output.renderOutput(dataTable, element);\n",
              "          const docLink = document.createElement('div');\n",
              "          docLink.innerHTML = docLinkHtml;\n",
              "          element.appendChild(docLink);\n",
              "        }\n",
              "      </script>\n",
              "    </div>\n",
              "  </div>\n",
              "  "
            ]
          },
          "metadata": {},
          "execution_count": 58
        }
      ]
    },
    {
      "cell_type": "markdown",
      "source": [
        "# Salvando a base de dados manipulada em novos arquivos csv"
      ],
      "metadata": {
        "id": "ChhqAsP1RqUN"
      }
    },
    {
      "cell_type": "code",
      "source": [
        "# Importamos a biblioteca drive do google.colab\n",
        "from google.colab import drive\n",
        "         \n",
        "# Estabelecemos os caminhos para o download poder ser executado\n",
        "drive.mount(r'/content/drive')\n",
        "path = r'/content/drive/My Drive/Pandevs/client.csv'\n",
        "\n",
        "# Baixando nosso df no formato de csv em nosso drive\n",
        "with open(path, 'w', encoding = 'utf-8-sig') as f:\n",
        "  client.to_csv(f)"
      ],
      "metadata": {
        "colab": {
          "base_uri": "https://localhost:8080/",
          "height": 235
        },
        "id": "ET2hOQIhRxaU",
        "outputId": "102f2c51-a1f3-4a13-f51d-0e183f2eb9d0"
      },
      "execution_count": null,
      "outputs": [
        {
          "output_type": "stream",
          "name": "stdout",
          "text": [
            "Mounted at /content/drive\n"
          ]
        },
        {
          "output_type": "error",
          "ename": "FileNotFoundError",
          "evalue": "ignored",
          "traceback": [
            "\u001b[0;31m---------------------------------------------------------------------------\u001b[0m",
            "\u001b[0;31mFileNotFoundError\u001b[0m                         Traceback (most recent call last)",
            "\u001b[0;32m<ipython-input-59-2a98f3e1e64e>\u001b[0m in \u001b[0;36m<module>\u001b[0;34m\u001b[0m\n\u001b[1;32m      7\u001b[0m \u001b[0;34m\u001b[0m\u001b[0m\n\u001b[1;32m      8\u001b[0m \u001b[0;31m# Baixando nosso df no formato de csv em nosso drive\u001b[0m\u001b[0;34m\u001b[0m\u001b[0;34m\u001b[0m\u001b[0;34m\u001b[0m\u001b[0m\n\u001b[0;32m----> 9\u001b[0;31m \u001b[0;32mwith\u001b[0m \u001b[0mopen\u001b[0m\u001b[0;34m(\u001b[0m\u001b[0mpath\u001b[0m\u001b[0;34m,\u001b[0m \u001b[0;34m'w'\u001b[0m\u001b[0;34m,\u001b[0m \u001b[0mencoding\u001b[0m \u001b[0;34m=\u001b[0m \u001b[0;34m'utf-8-sig'\u001b[0m\u001b[0;34m)\u001b[0m \u001b[0;32mas\u001b[0m \u001b[0mf\u001b[0m\u001b[0;34m:\u001b[0m\u001b[0;34m\u001b[0m\u001b[0;34m\u001b[0m\u001b[0m\n\u001b[0m\u001b[1;32m     10\u001b[0m   \u001b[0mclient\u001b[0m\u001b[0;34m.\u001b[0m\u001b[0mto_csv\u001b[0m\u001b[0;34m(\u001b[0m\u001b[0mf\u001b[0m\u001b[0;34m)\u001b[0m\u001b[0;34m\u001b[0m\u001b[0;34m\u001b[0m\u001b[0m\n",
            "\u001b[0;31mFileNotFoundError\u001b[0m: [Errno 2] No such file or directory: '/content/drive/My Drive/Pandevs/client.csv'"
          ]
        }
      ]
    },
    {
      "cell_type": "code",
      "source": [
        "# Estabelecemos os caminhos para o download poder ser executado\n",
        "drive.mount(r'/content/drive')\n",
        "path = r'/content/drive/My Drive/Pandevs/not_client.csv'\n",
        "\n",
        "# Baixando nosso df no formato de csv em nosso drive\n",
        "with open(path, 'w', encoding = 'utf-8-sig') as f:\n",
        "  not_client.to_csv(f)"
      ],
      "metadata": {
        "id": "NJEmfRbnU8yF"
      },
      "execution_count": null,
      "outputs": []
    },
    {
      "cell_type": "markdown",
      "source": [
        "## Novo cliente"
      ],
      "metadata": {
        "id": "5hIlwnM7KM-5"
      }
    },
    {
      "cell_type": "markdown",
      "source": [
        "### Criando o modelo"
      ],
      "metadata": {
        "id": "RJ4IXFFBM3Wv"
      }
    },
    {
      "cell_type": "code",
      "source": [
        "from sklearn.model_selection import train_test_split\n",
        "from sklearn.linear_model import LinearRegression"
      ],
      "metadata": {
        "id": "ccUJw2-3LsVD"
      },
      "execution_count": null,
      "outputs": []
    },
    {
      "cell_type": "code",
      "source": [
        "cols = ['vlr_credito', 'qtd_reclm', 'vlr_score', 'qtd_restr']"
      ],
      "metadata": {
        "id": "ajb5jZ-3KeZ9"
      },
      "execution_count": null,
      "outputs": []
    },
    {
      "cell_type": "code",
      "source": [
        "# Dividindo x e y\n",
        "x = not_client[cols]\n",
        "y = not_client['ind_novo_cli']"
      ],
      "metadata": {
        "id": "wnZiA5r_KxKF"
      },
      "execution_count": null,
      "outputs": []
    },
    {
      "cell_type": "code",
      "source": [
        "# Dividindo dados para treino e dados para teste\n",
        "x_train, x_test, y_train, y_test = train_test_split(x, y, \n",
        "                                                    test_size = 0.3, \n",
        "                                                    random_state = 42)"
      ],
      "metadata": {
        "id": "t0w8qmDSK0fc"
      },
      "execution_count": null,
      "outputs": []
    },
    {
      "cell_type": "code",
      "source": [
        "# Treinando o modelo\n",
        "model = LinearRegression().fit(x_train, y_train)"
      ],
      "metadata": {
        "id": "a3Hhcss1K21K"
      },
      "execution_count": null,
      "outputs": []
    },
    {
      "cell_type": "code",
      "source": [
        "# Fazendo as predições\n",
        "y_pred = model.predict(x_test)\n",
        "y_pred"
      ],
      "metadata": {
        "id": "fgMHr2x9KQQ0"
      },
      "execution_count": null,
      "outputs": []
    },
    {
      "cell_type": "markdown",
      "source": [
        "### Avaliando o modelo"
      ],
      "metadata": {
        "id": "kvRYHVzvMyg4"
      }
    },
    {
      "cell_type": "code",
      "source": [
        "from sklearn.metrics import mean_squared_error, mean_absolute_error, r2_score"
      ],
      "metadata": {
        "id": "Ok0OpPPNMcOf"
      },
      "execution_count": null,
      "outputs": []
    },
    {
      "cell_type": "markdown",
      "source": [
        "#### Mean squared error (MSE):\n",
        "Em português, erro quadrático médio, essa métrica penaliza mais erros maiores, já que os erros (diferença entre o valor previsto e o correto) são elevados ao quadrado."
      ],
      "metadata": {
        "id": "8nFiZZl9NPsO"
      }
    },
    {
      "cell_type": "code",
      "source": [
        "mean_squared_error(y_test, y_pred)"
      ],
      "metadata": {
        "id": "upjZMOY7MgUT"
      },
      "execution_count": null,
      "outputs": []
    },
    {
      "cell_type": "markdown",
      "source": [
        "#### Mean absolute error (MAE):\n",
        "Em português, erro absoluto médio, essa métrica basicamente faz a média do erro absoluto de cada previsão."
      ],
      "metadata": {
        "id": "npz1m_v4NUnn"
      }
    },
    {
      "cell_type": "code",
      "source": [
        "mean_absolute_error(y_test, y_pred)"
      ],
      "metadata": {
        "id": "pLFTIpfHN257"
      },
      "execution_count": null,
      "outputs": []
    },
    {
      "cell_type": "markdown",
      "source": [
        "#### R2:\n",
        "O erro \"R quadrado\" é uma métrica que varia entre -∞ e 1 e é uma razão que indica o quão bom o nosso modelo está em comparação com um modelo \"naive\", que faz a predição com base no valor médio do target. Quanto maior seu valor, melhor é nosso modelo com relação a esse modelo mais simplista."
      ],
      "metadata": {
        "id": "8rXVwJ73N8mh"
      }
    },
    {
      "cell_type": "code",
      "source": [
        "r2_score(y_test, y_pred)"
      ],
      "metadata": {
        "id": "U-ZzZMT2N-G9"
      },
      "execution_count": null,
      "outputs": []
    },
    {
      "cell_type": "markdown",
      "source": [
        "# Seleção de Features"
      ],
      "metadata": {
        "id": "dnH4OExlOpAJ"
      }
    },
    {
      "cell_type": "markdown",
      "source": [
        "Iremos selecionar as features que são interessantes para identificar se um cliente é caracterizado como um novo cliente."
      ],
      "metadata": {
        "id": "c0cbiTPJOteJ"
      }
    },
    {
      "cell_type": "code",
      "source": [
        "# Nesta variável estamos armazenando os clientes que têm índice 1 na coluna ind_novo_cli\n",
        "new_client_ind_1 = not_client[not_client.ind_novo_cli == 1] \n",
        "\n",
        "# Nesta variável estamos armazenando os clientes que têm índice 0 na coluna ind_novo_cli\n",
        "new_client_ind_0 = not_client[not_client.ind_novo_cli != 1] "
      ],
      "metadata": {
        "id": "tsZOc60VOoWG"
      },
      "execution_count": null,
      "outputs": []
    },
    {
      "cell_type": "markdown",
      "source": [
        "## Novo cliente"
      ],
      "metadata": {
        "id": "k0rFw9xPT0Ic"
      }
    },
    {
      "cell_type": "markdown",
      "source": [
        "Relação entre o desejo do banco em ter um cliente (0 = quer como cliente; 1 = não quer como cliente) e o Score do mercado."
      ],
      "metadata": {
        "id": "0wmVO2EGRFXX"
      }
    },
    {
      "cell_type": "code",
      "source": [
        "fig = px.bar(y = [new_client_ind_1['vlr_score'].mean(), new_client_ind_0['vlr_score'].mean()], x = ['Clientes desejados', 'Clientes não desejados'])#foi passado uma lista com 2 dados dentro de uma máscara com a média dos Scores de clientes que o banco deseja, ou não para compararmos.\n",
        "fig.show()"
      ],
      "metadata": {
        "id": "ppWIK80KPqn8"
      },
      "execution_count": null,
      "outputs": []
    },
    {
      "cell_type": "markdown",
      "source": [
        "Relação entre o desejo do banco em ter um cliente (0 = quer como cliente; 1 = não quer como cliente) e o crédito que ele tem no mercado."
      ],
      "metadata": {
        "id": "Vi62hdaPRnFg"
      }
    },
    {
      "cell_type": "code",
      "source": [
        "fig = px.bar(y = [new_client_ind_1['vlr_credito'].mean(), new_client_ind_0['vlr_credito'].mean()], x = ['Crédito do cliente desejado','Crédito do cliente não desejado'])\n",
        "fig.show()"
      ],
      "metadata": {
        "id": "ZMa8SElVRztj"
      },
      "execution_count": null,
      "outputs": []
    },
    {
      "cell_type": "markdown",
      "source": [
        "Relação entre o desejo do banco em ter um cliente (0 = quer como cliente; 1 = não quer como cliente) e a quantidade de restrições que ele tem no mercado."
      ],
      "metadata": {
        "id": "SvHmcVvnR8GS"
      }
    },
    {
      "cell_type": "code",
      "source": [
        "fig = px.bar(y = [new_client_ind_1['qtd_restr'].mean(), new_client_ind_0['qtd_restr'].mean()], x = ['Restritivos do cliente desejado', 'Restritivos do cliente não desejado'])\n",
        "fig.show()"
      ],
      "metadata": {
        "id": "I2uAalLNR9NS"
      },
      "execution_count": null,
      "outputs": []
    },
    {
      "cell_type": "markdown",
      "source": [
        "##Cliente engajado"
      ],
      "metadata": {
        "id": "REI-998fT5-Y"
      }
    },
    {
      "cell_type": "markdown",
      "source": [
        "Iremos selecionar as features que são interessantes para identificar se um cliente é caracterizado como um cliente engajado."
      ],
      "metadata": {
        "id": "zuMW7sZSSMz2"
      }
    },
    {
      "cell_type": "code",
      "source": [
        "client_engaged = client[client.ind_engaj == 1]#Nesta variável estamos armazenando os clientes que têm índice 1 na coluna ind_novo_cli\n",
        "client_not_engaged = client[client.ind_engaj != 1]#Nesta variável estamos armazenando os clientes que têm índice 0 na coluna ind_novo_cli"
      ],
      "metadata": {
        "id": "d_gofGeuSQoA"
      },
      "execution_count": null,
      "outputs": []
    },
    {
      "cell_type": "markdown",
      "source": [
        "Relação entre o banco acreditar que um cliente é engajado (0 = é engajado; 1 = não é engajado) e a quantidade de produtos que ele tem."
      ],
      "metadata": {
        "id": "jWj19yGES2Em"
      }
    },
    {
      "cell_type": "code",
      "source": [
        "fig = px.bar(y = [client_engaged['num_produtos'].mean(), client_not_engaged['num_produtos'].mean()], x = ['Produtos de clientes engajados', ' Produtos de clientes não engajados'])\n",
        "fig.show()"
      ],
      "metadata": {
        "id": "yrIf30HISkwK"
      },
      "execution_count": null,
      "outputs": []
    },
    {
      "cell_type": "markdown",
      "source": [
        "Relação entre o banco acreditar que um cliente é engajado (0 = é engajado; 1 = não é engajado) e a quantidade de operações que ele tem."
      ],
      "metadata": {
        "id": "txV9qrVPTcXk"
      }
    },
    {
      "cell_type": "code",
      "source": [
        "fig = px.bar(y = [client_engaged['qtd_oper'].mean(), client_not_engaged['qtd_oper'].mean()], x = ['Operações de clientes engajados', ' Operações de clientes não engajados'])\n",
        "fig.show()"
      ],
      "metadata": {
        "id": "YU2CPsJxTLXM"
      },
      "execution_count": null,
      "outputs": []
    },
    {
      "cell_type": "markdown",
      "source": [
        "Relação entre o banco acreditar que um cliente é engajado (0 = é engajado; 1 = não é engajado) e a quantidade de crédito que ele tem."
      ],
      "metadata": {
        "id": "qYln1xSSTfZb"
      }
    },
    {
      "cell_type": "code",
      "source": [
        "fig = px.bar(y = [client_engaged['vlr_credito'].mean(), client_not_engaged['vlr_credito'].mean()], x = ['Crédito do cliente engajado', 'Crédito do cliente não engajado'])\n",
        "fig.show()"
      ],
      "metadata": {
        "id": "9-BbctEKTR4r"
      },
      "execution_count": null,
      "outputs": []
    },
    {
      "cell_type": "markdown",
      "source": [
        "Relação entre o banco acreditar que um cliente é engajado (0 = é engajado; 1 = não é engajado) e a quantidade de saldo que ele tem."
      ],
      "metadata": {
        "id": "jY8TUqpUTsku"
      }
    },
    {
      "cell_type": "code",
      "source": [
        "fig = px.bar(y = [client_engaged['vlr_saldo'].mean(), client_not_engaged['vlr_saldo'].mean()], x = ['Saldo do cliente engajado', 'Saldo cliente não engajado'])\n",
        "fig.show()"
      ],
      "metadata": {
        "id": "wsCL2EztTWqc"
      },
      "execution_count": null,
      "outputs": []
    },
    {
      "cell_type": "markdown",
      "source": [
        "##Cliente atritado"
      ],
      "metadata": {
        "id": "jcvYUtwIUHBj"
      }
    },
    {
      "cell_type": "code",
      "source": [
        "client_fretted = df[df.ind_atrito == 1]#Nesta variável estamos armazenando os clientes que têm índice 1 na coluna ind_atrito\n",
        "client_not_fretted = df[df.ind_atrito != 1]#Nesta variável estamos armazenando os clientes que têm índice 0 na coluna ind_atrito"
      ],
      "metadata": {
        "id": "CeNzkUtCUKnb"
      },
      "execution_count": null,
      "outputs": []
    },
    {
      "cell_type": "markdown",
      "source": [
        "Relação entre o banco acreditar que um cliente é atritado (0 = é atritado; 1 = não é atritado) e a quantidade de operações."
      ],
      "metadata": {
        "id": "NskjVynWVkeP"
      }
    },
    {
      "cell_type": "code",
      "source": [
        "fig = px.bar(y = [client_fretted['qtd_oper'].mean(), client_not_fretted['qtd_oper'].mean()], x = ['Operações de clientes atritados', ' Operações clientes não atritados'])\n",
        "fig.show()"
      ],
      "metadata": {
        "id": "Wi93qS6iUq4C"
      },
      "execution_count": null,
      "outputs": []
    },
    {
      "cell_type": "markdown",
      "source": [
        "Relação entre o banco acreditar que um cliente é atritado (0 = é atritado; 1 = não é atritado) e a quantidade de produtos."
      ],
      "metadata": {
        "id": "Jz3_Ji8-VmBz"
      }
    },
    {
      "cell_type": "code",
      "source": [
        "fig = px.bar(y = [client_fretted['num_produtos'].mean(), client_not_fretted['num_produtos'].mean()], x = ['Produtos de clientes atritados', 'Produtos de clientes não atritados'])\n",
        "fig.show()"
      ],
      "metadata": {
        "id": "ZpJ-IMQ8VOG_"
      },
      "execution_count": null,
      "outputs": []
    },
    {
      "cell_type": "markdown",
      "source": [
        "Relação entre o banco acreditar que um cliente é atritado (0 = é atritado; 1 = não é atritado) e o valor do Score."
      ],
      "metadata": {
        "id": "Dp5CH_GKVugz"
      }
    },
    {
      "cell_type": "code",
      "source": [
        "fig = px.bar(y = [client_fretted['vlr_score'].mean(), client_not_fretted['vlr_score'].mean()], x = ['Score dos clientes atritados', 'Score dos clienets não atritados'])\n",
        "fig.show()"
      ],
      "metadata": {
        "id": "Uwusg2x5VQhB"
      },
      "execution_count": null,
      "outputs": []
    },
    {
      "cell_type": "markdown",
      "source": [
        "Relação entre o banco acreditar que um cliente é atritado (0 = é atritado; 1 = não é atritado) e o valor de crédito."
      ],
      "metadata": {
        "id": "ehx9fS40Vxbd"
      }
    },
    {
      "cell_type": "code",
      "source": [
        "fig = px.bar(y = [client_fretted['vlr_credito'].mean(), client_not_fretted['vlr_credito'].mean()], x = ['Crédito dos clientes atritados', 'Crédito dos clientes não atritados'])\n",
        "fig.show()"
      ],
      "metadata": {
        "id": "h6FIJiWnVVlr"
      },
      "execution_count": null,
      "outputs": []
    },
    {
      "cell_type": "markdown",
      "source": [
        "Relação entre o banco acreditar que um cliente é atritado (0 = é atritado; 1 = não é atritado) e o valor do saldo."
      ],
      "metadata": {
        "id": "JXXhQjntV1S5"
      }
    },
    {
      "cell_type": "code",
      "source": [
        "fig = px.bar(y = [client_fretted['vlr_saldo'].mean(), client_not_fretted['vlr_saldo'].mean()], x = ['Saldo dos clientes atritados', 'Saldo dos clientes não atritatados'])\n",
        "fig.show()"
      ],
      "metadata": {
        "id": "o-qwven2VZyV"
      },
      "execution_count": null,
      "outputs": []
    },
    {
      "cell_type": "markdown",
      "source": [
        "#  Visualização de Jornada do usuário\n",
        "1. Atritado\n",
        "    Foram coletados 3 CPFs para comparar as ações de acordo com as safras"
      ],
      "metadata": {
        "id": "q_jFJoF6GrrQ"
      }
    },
    {
      "cell_type": "code",
      "source": [
        "# Coletar o ID do cpf a partir da última safra\n",
        "df[(df.anomes == 202204) & (df.ind_atrito == 1)].head() "
      ],
      "metadata": {
        "id": "b8y1iMqxGgwd"
      },
      "execution_count": null,
      "outputs": []
    },
    {
      "cell_type": "code",
      "source": [
        "# Coletar o número completo do cpf para analisar cada safra\n",
        "new_df.loc[9269696,'num_cpf_hash']"
      ],
      "metadata": {
        "id": "Swdr7WkUHpg8"
      },
      "execution_count": null,
      "outputs": []
    },
    {
      "cell_type": "code",
      "source": [
        "# Visualização de cada mês de um cpf\n",
        "new_df[(new_df.num_cpf_hash == 'fe7728cf4b196eedfae889dff044eca220e42c72bb837f158c420649fd738e2d')]"
      ],
      "metadata": {
        "id": "9_mYQmNqIJde"
      },
      "execution_count": null,
      "outputs": []
    },
    {
      "cell_type": "code",
      "source": [
        "new_df[(new_df.num_cpf_hash == '0069c06b6016281ff4af4f6b585d89b4efa25c270de9cbf857253db1bd47f3f2')]"
      ],
      "metadata": {
        "id": "KyVucEPxIVuM"
      },
      "execution_count": null,
      "outputs": []
    },
    {
      "cell_type": "code",
      "source": [
        "new_df[(new_df.num_cpf_hash == '01cf69537ed0cad6e0a3ecb6f6913cf0f1572ee12f64e4757a05a706707c406d')]"
      ],
      "metadata": {
        "id": "OpXSmCm7IWMo"
      },
      "execution_count": null,
      "outputs": []
    },
    {
      "cell_type": "markdown",
      "source": [
        "Os resultados das análises, comparando os três cpfs, foram inconclusivos"
      ],
      "metadata": {
        "id": "WJNn_ZjyIbIA"
      }
    },
    {
      "cell_type": "markdown",
      "source": [
        "2. Engajado"
      ],
      "metadata": {
        "id": "C4lrZaFLIrwf"
      }
    },
    {
      "cell_type": "code",
      "source": [
        "# Coletar o ID do cpf a partir da última safra\n",
        "new_df[(new_df.anomes == 202111) & (new_df.ind_engaj == 1)].head()"
      ],
      "metadata": {
        "id": "oQ4ZJoPTIYX2"
      },
      "execution_count": null,
      "outputs": []
    },
    {
      "cell_type": "code",
      "source": [
        "# Coletar o número do cpf completo pelo ID\n",
        "new_df.loc[7532135\t,'num_cpf_hash']"
      ],
      "metadata": {
        "id": "NFjJk1ZlI3ry"
      },
      "execution_count": null,
      "outputs": []
    },
    {
      "cell_type": "code",
      "source": [
        "# Visualização de cada mês de um cpf\n",
        "new_df[(new_df.num_cpf_hash == '00003671431c71ae1a84ec138b63c7a6e465f9616af5ea9ab0c2572da9c2f204')]"
      ],
      "metadata": {
        "id": "YaI5P4uTI99y"
      },
      "execution_count": null,
      "outputs": []
    },
    {
      "cell_type": "markdown",
      "source": [
        "Os resultados apresentados foram inconclusivos, de acordo com as hipóteses testadas"
      ],
      "metadata": {
        "id": "4ydomqDlJE3h"
      }
    }
  ],
  "metadata": {
    "colab": {
      "collapsed_sections": [
        "Pz1b5ZKDPvYq",
        "myO4YXutEvE9",
        "SbqoKrfvE0wX",
        "uXo2-44SFByD",
        "E7bKqG871VmQ",
        "fS5JmPyAQGH5",
        "Whr4BewjE1Tf",
        "rMDJXXMnsYBE",
        "PblRgJw3BbrU",
        "mcUuBkou0VXx",
        "WkCj8ysX0uW9",
        "m-oGoajVA1zf",
        "hg_wYocy4coR",
        "-D5f46kC4iqc",
        "ngyIJatP2yOX",
        "-N3viB3TqhEp",
        "Vor9e0FCrHhm",
        "1vJIuZ__rW1i",
        "c-rEoNKeogvT",
        "mWsa52HVp83e",
        "99j59A5j3z5Y",
        "EgJLueJE9aQV",
        "M33TDV7TLR08",
        "2agYXeQ0LurH",
        "t9tNCzQuPJK_",
        "ChhqAsP1RqUN",
        "5hIlwnM7KM-5",
        "RJ4IXFFBM3Wv",
        "kvRYHVzvMyg4",
        "8nFiZZl9NPsO",
        "npz1m_v4NUnn",
        "8rXVwJ73N8mh",
        "dnH4OExlOpAJ",
        "k0rFw9xPT0Ic",
        "REI-998fT5-Y",
        "jcvYUtwIUHBj",
        "q_jFJoF6GrrQ"
      ],
      "provenance": []
    },
    "kernelspec": {
      "display_name": "Python 3",
      "name": "python3"
    },
    "language_info": {
      "name": "python"
    }
  },
  "nbformat": 4,
  "nbformat_minor": 0
}