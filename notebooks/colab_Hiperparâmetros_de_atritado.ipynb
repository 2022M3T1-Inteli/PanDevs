{
  "nbformat": 4,
  "nbformat_minor": 0,
  "metadata": {
    "colab": {
      "provenance": [],
      "collapsed_sections": [
        "_fUofvMG8eMB",
        "Zj7i2dpqbqRC",
        "vJ8_z_QVZkED",
        "k6twORBnH8dV",
        "3CuSz6b4OstP",
        "4VBVJLKpIV6l",
        "oZZtAuwu9shJ",
        "S_9qTe-mUenB",
        "KIfA432tVCax",
        "UUr6DkgvDkRj",
        "4c3zaL5DSyqJ",
        "VGuU9uewTecb",
        "6Ie_Ih6JPhbY",
        "nJBVOWdaP5Y1",
        "JBbo9NueQ2c7",
        "79ppsZbPRSX0",
        "F7aTb0FWVKlr",
        "1SA98sNvV08j",
        "aQvYHJXPWnfq",
        "iTUTVWyqWxoh",
        "MlKQif5BX1L9",
        "gGxOdMKVYY-9",
        "GNIlLKpgZnoo",
        "gUyjgy7jGoYh",
        "kcxXwpbZsz8y",
        "C97IFwn4s4k4",
        "zHvGWjzLuGs1",
        "z0v6KM7TuR9L",
        "hOTrIoVAukqh",
        "zn5lCWHyuo5q",
        "SL16iQfuv3iq",
        "Awuc7a5Cv8G2",
        "-3aL8FR6wbh0",
        "e2Tx7fwpwhZj",
        "lcITkY94Gr9x",
        "17jZX9Pdw1kg",
        "Zei6JmxAxhcS",
        "24LmMtU7DYOv",
        "p_jVlWdpDmJD",
        "cbpxKwdpD4YC",
        "lrnW6LFuE9Ki",
        "xeyBUy_tFg8T",
        "HUAC2N8yFrWm",
        "DrbPwb1vGXn6",
        "piV1diwKGn_q",
        "9Nv11584HGm2",
        "-xL-QUEEKmUM",
        "iGkLjk1vMdQN",
        "xCe-oxKoNDM_",
        "QNg5wDDgNPoM",
        "szJJkPmrNmQE",
        "Ft8wCPFKN4e-",
        "DBW2OvkRORxg",
        "FhS2x25mPDVI",
        "hjXLcshQPGiT",
        "0IQRygqyPWrG",
        "96zm-ldYGxdZ",
        "fHowCp4kaO8D",
        "IH0Qgt4gahgS",
        "wRXuOGcM9zth",
        "sRCu8RqD97G_",
        "WrpbjWj99-bm",
        "as-jUrgy-GsN",
        "DgRxVBlz_9xC",
        "6-Rqan2LAoQ2",
        "wz9eBpkKa32v"
      ],
      "include_colab_link": true
    },
    "kernelspec": {
      "name": "python3",
      "display_name": "Python 3"
    },
    "language_info": {
      "name": "python"
    }
  },
  "cells": [
    {
      "cell_type": "markdown",
      "metadata": {
        "id": "view-in-github",
        "colab_type": "text"
      },
      "source": [
        "<a href=\"https://colab.research.google.com/github/2022M3T1/Projeto4/blob/main/notebooks/colab_Hiperpar%C3%A2metros_de_atritado.ipynb\" target=\"_parent\"><img src=\"https://colab.research.google.com/assets/colab-badge.svg\" alt=\"Open In Colab\"/></a>"
      ]
    },
    {
      "cell_type": "markdown",
      "source": [
        "#Ambientação do notebook"
      ],
      "metadata": {
        "id": "_fUofvMG8eMB"
      }
    },
    {
      "cell_type": "code",
      "execution_count": null,
      "metadata": {
        "id": "6rHk2XcT8W4H"
      },
      "outputs": [],
      "source": [
        "!pip install -U -q PyDrive"
      ]
    },
    {
      "cell_type": "code",
      "source": [
        "# Importação de bibliotecas. \n",
        "import pandas as pd\n",
        "import plotly.express as px\n",
        "from sklearn.preprocessing import LabelBinarizer\n",
        "from pydrive.auth import GoogleAuth\n",
        "from pydrive.drive import GoogleDrive\n",
        "from google.colab import auth\n",
        "from oauth2client.client import GoogleCredentials\n",
        "import warnings\n",
        "warnings.filterwarnings('ignore')\n",
        "from sklearn.feature_selection import SelectKBest\n",
        "from sklearn.feature_selection import f_classif, mutual_info_classif"
      ],
      "metadata": {
        "id": "sJE9oWJ78lpx"
      },
      "execution_count": null,
      "outputs": []
    },
    {
      "cell_type": "code",
      "source": [
        "#autenticação email inteli\n",
        "auth.authenticate_user()\n",
        "gauth = GoogleAuth()\n",
        "gauth.credentials = GoogleCredentials.get_application_default()\n",
        "drive = GoogleDrive(gauth)"
      ],
      "metadata": {
        "id": "JKgm1jSz8o7f"
      },
      "execution_count": null,
      "outputs": []
    },
    {
      "cell_type": "code",
      "source": [
        "#dowload base de dados\n",
        "downloaded = drive.CreateFile({'id': '1-C4iOW6z7oAtWCHhwuC-IeTxp8COwbxj'})\n",
        "downloaded.GetContentFile('client.csv')"
      ],
      "metadata": {
        "id": "4p0uVvPf8rTw"
      },
      "execution_count": null,
      "outputs": []
    },
    {
      "cell_type": "code",
      "source": [
        "# Dados lidos do arquvio csv\n",
        "client = pd.read_csv('client.csv')"
      ],
      "metadata": {
        "id": "gSClUHB5X019"
      },
      "execution_count": null,
      "outputs": []
    },
    {
      "cell_type": "markdown",
      "source": [
        "#Comparação de features em relação ao índice de cliente engajado"
      ],
      "metadata": {
        "id": "Zj7i2dpqbqRC"
      }
    },
    {
      "cell_type": "code",
      "source": [
        "# Aqui nós iremos gerar uma matriz que indica a porcentagem de correlação entre os atributos\n",
        "matriz_corr = client.corr().style.background_gradient(cmap='coolwarm')\n",
        "matriz_corr"
      ],
      "metadata": {
        "colab": {
          "base_uri": "https://localhost:8080/",
          "height": 494
        },
        "id": "DKSHx-XobuLs",
        "outputId": "bb204e1e-ccb6-4971-c9d7-3f424fe21337"
      },
      "execution_count": null,
      "outputs": [
        {
          "output_type": "execute_result",
          "data": {
            "text/plain": [
              "<pandas.io.formats.style.Styler at 0x7f72ca939d90>"
            ],
            "text/html": [
              "<style type=\"text/css\">\n",
              "#T_06b1a_row0_col0, #T_06b1a_row1_col1, #T_06b1a_row2_col2, #T_06b1a_row3_col3, #T_06b1a_row4_col4, #T_06b1a_row5_col5, #T_06b1a_row6_col6, #T_06b1a_row7_col7, #T_06b1a_row8_col8, #T_06b1a_row9_col9, #T_06b1a_row10_col10, #T_06b1a_row11_col11, #T_06b1a_row12_col12 {\n",
              "  background-color: #b40426;\n",
              "  color: #f1f1f1;\n",
              "}\n",
              "#T_06b1a_row0_col1, #T_06b1a_row0_col2, #T_06b1a_row0_col3, #T_06b1a_row0_col5, #T_06b1a_row0_col6, #T_06b1a_row0_col7, #T_06b1a_row0_col8, #T_06b1a_row0_col10, #T_06b1a_row0_col11, #T_06b1a_row0_col12, #T_06b1a_row1_col0, #T_06b1a_row2_col3, #T_06b1a_row2_col6, #T_06b1a_row3_col0, #T_06b1a_row3_col2, #T_06b1a_row3_col8, #T_06b1a_row4_col0, #T_06b1a_row4_col3, #T_06b1a_row4_col9, #T_06b1a_row6_col0, #T_06b1a_row6_col2, #T_06b1a_row6_col8, #T_06b1a_row7_col0, #T_06b1a_row8_col0, #T_06b1a_row8_col3, #T_06b1a_row8_col5, #T_06b1a_row8_col6, #T_06b1a_row8_col12, #T_06b1a_row9_col4, #T_06b1a_row9_col5, #T_06b1a_row9_col6, #T_06b1a_row9_col8, #T_06b1a_row9_col11, #T_06b1a_row9_col12, #T_06b1a_row10_col0, #T_06b1a_row11_col0 {\n",
              "  background-color: #3b4cc0;\n",
              "  color: #f1f1f1;\n",
              "}\n",
              "#T_06b1a_row0_col4, #T_06b1a_row8_col9, #T_06b1a_row11_col9 {\n",
              "  background-color: #84a7fc;\n",
              "  color: #f1f1f1;\n",
              "}\n",
              "#T_06b1a_row0_col9, #T_06b1a_row3_col4, #T_06b1a_row3_col9, #T_06b1a_row5_col9, #T_06b1a_row6_col9, #T_06b1a_row8_col4, #T_06b1a_row11_col4, #T_06b1a_row12_col9 {\n",
              "  background-color: #85a8fc;\n",
              "  color: #f1f1f1;\n",
              "}\n",
              "#T_06b1a_row1_col2, #T_06b1a_row12_col4 {\n",
              "  background-color: #97b8ff;\n",
              "  color: #000000;\n",
              "}\n",
              "#T_06b1a_row1_col3, #T_06b1a_row1_col6, #T_06b1a_row5_col11, #T_06b1a_row6_col1, #T_06b1a_row7_col11, #T_06b1a_row8_col7, #T_06b1a_row10_col3, #T_06b1a_row12_col8, #T_06b1a_row12_col11 {\n",
              "  background-color: #3d50c3;\n",
              "  color: #f1f1f1;\n",
              "}\n",
              "#T_06b1a_row1_col4, #T_06b1a_row2_col1, #T_06b1a_row2_col4 {\n",
              "  background-color: #98b9ff;\n",
              "  color: #000000;\n",
              "}\n",
              "#T_06b1a_row1_col5, #T_06b1a_row4_col7, #T_06b1a_row5_col1 {\n",
              "  background-color: #5875e1;\n",
              "  color: #f1f1f1;\n",
              "}\n",
              "#T_06b1a_row1_col7, #T_06b1a_row5_col7, #T_06b1a_row7_col1, #T_06b1a_row7_col5 {\n",
              "  background-color: #c0d4f5;\n",
              "  color: #000000;\n",
              "}\n",
              "#T_06b1a_row1_col8, #T_06b1a_row3_col11, #T_06b1a_row11_col3, #T_06b1a_row12_col3 {\n",
              "  background-color: #4257c9;\n",
              "  color: #f1f1f1;\n",
              "}\n",
              "#T_06b1a_row1_col9 {\n",
              "  background-color: #9fbfff;\n",
              "  color: #000000;\n",
              "}\n",
              "#T_06b1a_row1_col10, #T_06b1a_row10_col1 {\n",
              "  background-color: #f1ccb8;\n",
              "  color: #000000;\n",
              "}\n",
              "#T_06b1a_row1_col11, #T_06b1a_row6_col10, #T_06b1a_row6_col11, #T_06b1a_row7_col8, #T_06b1a_row10_col6, #T_06b1a_row10_col11, #T_06b1a_row11_col1, #T_06b1a_row11_col6, #T_06b1a_row11_col10 {\n",
              "  background-color: #3e51c5;\n",
              "  color: #f1f1f1;\n",
              "}\n",
              "#T_06b1a_row1_col12 {\n",
              "  background-color: #4f69d9;\n",
              "  color: #f1f1f1;\n",
              "}\n",
              "#T_06b1a_row2_col0, #T_06b1a_row3_col1, #T_06b1a_row3_col10, #T_06b1a_row4_col6, #T_06b1a_row4_col8, #T_06b1a_row4_col11, #T_06b1a_row5_col0, #T_06b1a_row5_col8, #T_06b1a_row9_col0, #T_06b1a_row9_col2, #T_06b1a_row9_col3, #T_06b1a_row11_col5, #T_06b1a_row11_col7, #T_06b1a_row11_col12, #T_06b1a_row12_col0 {\n",
              "  background-color: #3c4ec2;\n",
              "  color: #f1f1f1;\n",
              "}\n",
              "#T_06b1a_row2_col5, #T_06b1a_row5_col2 {\n",
              "  background-color: #88abfd;\n",
              "  color: #000000;\n",
              "}\n",
              "#T_06b1a_row2_col7, #T_06b1a_row7_col2 {\n",
              "  background-color: #5572df;\n",
              "  color: #f1f1f1;\n",
              "}\n",
              "#T_06b1a_row2_col8, #T_06b1a_row2_col11, #T_06b1a_row3_col7, #T_06b1a_row7_col3, #T_06b1a_row8_col1, #T_06b1a_row10_col8 {\n",
              "  background-color: #4055c8;\n",
              "  color: #f1f1f1;\n",
              "}\n",
              "#T_06b1a_row2_col9, #T_06b1a_row6_col4 {\n",
              "  background-color: #86a9fc;\n",
              "  color: #f1f1f1;\n",
              "}\n",
              "#T_06b1a_row2_col10 {\n",
              "  background-color: #6e90f2;\n",
              "  color: #f1f1f1;\n",
              "}\n",
              "#T_06b1a_row2_col12, #T_06b1a_row12_col2 {\n",
              "  background-color: #7093f3;\n",
              "  color: #f1f1f1;\n",
              "}\n",
              "#T_06b1a_row3_col5, #T_06b1a_row5_col3, #T_06b1a_row10_col12, #T_06b1a_row12_col6, #T_06b1a_row12_col10 {\n",
              "  background-color: #445acc;\n",
              "  color: #f1f1f1;\n",
              "}\n",
              "#T_06b1a_row3_col6, #T_06b1a_row6_col3 {\n",
              "  background-color: #e5d8d1;\n",
              "  color: #000000;\n",
              "}\n",
              "#T_06b1a_row3_col12, #T_06b1a_row8_col2, #T_06b1a_row8_col10, #T_06b1a_row11_col2 {\n",
              "  background-color: #3f53c6;\n",
              "  color: #f1f1f1;\n",
              "}\n",
              "#T_06b1a_row4_col1, #T_06b1a_row5_col10, #T_06b1a_row10_col5, #T_06b1a_row12_col1 {\n",
              "  background-color: #506bda;\n",
              "  color: #f1f1f1;\n",
              "}\n",
              "#T_06b1a_row4_col2, #T_06b1a_row4_col5 {\n",
              "  background-color: #516ddb;\n",
              "  color: #f1f1f1;\n",
              "}\n",
              "#T_06b1a_row4_col10 {\n",
              "  background-color: #536edd;\n",
              "  color: #f1f1f1;\n",
              "}\n",
              "#T_06b1a_row4_col12 {\n",
              "  background-color: #4e68d8;\n",
              "  color: #f1f1f1;\n",
              "}\n",
              "#T_06b1a_row5_col4, #T_06b1a_row10_col4 {\n",
              "  background-color: #9abbff;\n",
              "  color: #000000;\n",
              "}\n",
              "#T_06b1a_row5_col6, #T_06b1a_row6_col5, #T_06b1a_row9_col10 {\n",
              "  background-color: #4a63d3;\n",
              "  color: #f1f1f1;\n",
              "}\n",
              "#T_06b1a_row5_col12 {\n",
              "  background-color: #f7aa8c;\n",
              "  color: #000000;\n",
              "}\n",
              "#T_06b1a_row6_col7, #T_06b1a_row6_col12, #T_06b1a_row7_col6 {\n",
              "  background-color: #4358cb;\n",
              "  color: #f1f1f1;\n",
              "}\n",
              "#T_06b1a_row7_col4, #T_06b1a_row7_col10, #T_06b1a_row10_col7, #T_06b1a_row12_col7 {\n",
              "  background-color: #9ebeff;\n",
              "  color: #000000;\n",
              "}\n",
              "#T_06b1a_row7_col9 {\n",
              "  background-color: #aec9fc;\n",
              "  color: #000000;\n",
              "}\n",
              "#T_06b1a_row7_col12 {\n",
              "  background-color: #9dbdff;\n",
              "  color: #000000;\n",
              "}\n",
              "#T_06b1a_row8_col11 {\n",
              "  background-color: #e6d7cf;\n",
              "  color: #000000;\n",
              "}\n",
              "#T_06b1a_row9_col1 {\n",
              "  background-color: #5977e3;\n",
              "  color: #f1f1f1;\n",
              "}\n",
              "#T_06b1a_row9_col7 {\n",
              "  background-color: #6a8bef;\n",
              "  color: #f1f1f1;\n",
              "}\n",
              "#T_06b1a_row10_col2 {\n",
              "  background-color: #6c8ff1;\n",
              "  color: #f1f1f1;\n",
              "}\n",
              "#T_06b1a_row10_col9 {\n",
              "  background-color: #93b5fe;\n",
              "  color: #000000;\n",
              "}\n",
              "#T_06b1a_row11_col8 {\n",
              "  background-color: #e7d7ce;\n",
              "  color: #000000;\n",
              "}\n",
              "#T_06b1a_row12_col5 {\n",
              "  background-color: #f7a98b;\n",
              "  color: #000000;\n",
              "}\n",
              "</style>\n",
              "<table id=\"T_06b1a_\" class=\"dataframe\">\n",
              "  <thead>\n",
              "    <tr>\n",
              "      <th class=\"blank level0\" >&nbsp;</th>\n",
              "      <th class=\"col_heading level0 col0\" >Unnamed: 0</th>\n",
              "      <th class=\"col_heading level0 col1\" >vlr_credito</th>\n",
              "      <th class=\"col_heading level0 col2\" >vlr_saldo</th>\n",
              "      <th class=\"col_heading level0 col3\" >num_atend_atrs</th>\n",
              "      <th class=\"col_heading level0 col4\" >vlr_score</th>\n",
              "      <th class=\"col_heading level0 col5\" >num_produtos</th>\n",
              "      <th class=\"col_heading level0 col6\" >num_atend</th>\n",
              "      <th class=\"col_heading level0 col7\" >qtd_oper</th>\n",
              "      <th class=\"col_heading level0 col8\" >qtd_reclm</th>\n",
              "      <th class=\"col_heading level0 col9\" >qtd_restr</th>\n",
              "      <th class=\"col_heading level0 col10\" >vlr_renda</th>\n",
              "      <th class=\"col_heading level0 col11\" >ind_atrito</th>\n",
              "      <th class=\"col_heading level0 col12\" >ind_engaj</th>\n",
              "    </tr>\n",
              "  </thead>\n",
              "  <tbody>\n",
              "    <tr>\n",
              "      <th id=\"T_06b1a_level0_row0\" class=\"row_heading level0 row0\" >Unnamed: 0</th>\n",
              "      <td id=\"T_06b1a_row0_col0\" class=\"data row0 col0\" >1.000000</td>\n",
              "      <td id=\"T_06b1a_row0_col1\" class=\"data row0 col1\" >-0.001449</td>\n",
              "      <td id=\"T_06b1a_row0_col2\" class=\"data row0 col2\" >0.001522</td>\n",
              "      <td id=\"T_06b1a_row0_col3\" class=\"data row0 col3\" >-0.002444</td>\n",
              "      <td id=\"T_06b1a_row0_col4\" class=\"data row0 col4\" >-0.000885</td>\n",
              "      <td id=\"T_06b1a_row0_col5\" class=\"data row0 col5\" >0.002616</td>\n",
              "      <td id=\"T_06b1a_row0_col6\" class=\"data row0 col6\" >-0.000890</td>\n",
              "      <td id=\"T_06b1a_row0_col7\" class=\"data row0 col7\" >-0.000765</td>\n",
              "      <td id=\"T_06b1a_row0_col8\" class=\"data row0 col8\" >-0.004190</td>\n",
              "      <td id=\"T_06b1a_row0_col9\" class=\"data row0 col9\" >0.003100</td>\n",
              "      <td id=\"T_06b1a_row0_col10\" class=\"data row0 col10\" >-0.000362</td>\n",
              "      <td id=\"T_06b1a_row0_col11\" class=\"data row0 col11\" >-0.002664</td>\n",
              "      <td id=\"T_06b1a_row0_col12\" class=\"data row0 col12\" >0.002035</td>\n",
              "    </tr>\n",
              "    <tr>\n",
              "      <th id=\"T_06b1a_level0_row1\" class=\"row_heading level0 row1\" >vlr_credito</th>\n",
              "      <td id=\"T_06b1a_row1_col0\" class=\"data row1 col0\" >-0.001449</td>\n",
              "      <td id=\"T_06b1a_row1_col1\" class=\"data row1 col1\" >1.000000</td>\n",
              "      <td id=\"T_06b1a_row1_col2\" class=\"data row1 col2\" >0.280953</td>\n",
              "      <td id=\"T_06b1a_row1_col3\" class=\"data row1 col3\" >0.006309</td>\n",
              "      <td id=\"T_06b1a_row1_col4\" class=\"data row1 col4\" >0.071460</td>\n",
              "      <td id=\"T_06b1a_row1_col5\" class=\"data row1 col5\" >0.096261</td>\n",
              "      <td id=\"T_06b1a_row1_col6\" class=\"data row1 col6\" >0.009918</td>\n",
              "      <td id=\"T_06b1a_row1_col7\" class=\"data row1 col7\" >0.398583</td>\n",
              "      <td id=\"T_06b1a_row1_col8\" class=\"data row1 col8\" >0.019903</td>\n",
              "      <td id=\"T_06b1a_row1_col9\" class=\"data row1 col9\" >0.098304</td>\n",
              "      <td id=\"T_06b1a_row1_col10\" class=\"data row1 col10\" >0.593851</td>\n",
              "      <td id=\"T_06b1a_row1_col11\" class=\"data row1 col11\" >0.011959</td>\n",
              "      <td id=\"T_06b1a_row1_col12\" class=\"data row1 col12\" >0.070471</td>\n",
              "    </tr>\n",
              "    <tr>\n",
              "      <th id=\"T_06b1a_level0_row2\" class=\"row_heading level0 row2\" >vlr_saldo</th>\n",
              "      <td id=\"T_06b1a_row2_col0\" class=\"data row2 col0\" >0.001522</td>\n",
              "      <td id=\"T_06b1a_row2_col1\" class=\"data row2 col1\" >0.280953</td>\n",
              "      <td id=\"T_06b1a_row2_col2\" class=\"data row2 col2\" >1.000000</td>\n",
              "      <td id=\"T_06b1a_row2_col3\" class=\"data row2 col3\" >0.000226</td>\n",
              "      <td id=\"T_06b1a_row2_col4\" class=\"data row2 col4\" >0.074541</td>\n",
              "      <td id=\"T_06b1a_row2_col5\" class=\"data row2 col5\" >0.235828</td>\n",
              "      <td id=\"T_06b1a_row2_col6\" class=\"data row2 col6\" >0.002335</td>\n",
              "      <td id=\"T_06b1a_row2_col7\" class=\"data row2 col7\" >0.088389</td>\n",
              "      <td id=\"T_06b1a_row2_col8\" class=\"data row2 col8\" >0.018893</td>\n",
              "      <td id=\"T_06b1a_row2_col9\" class=\"data row2 col9\" >0.007249</td>\n",
              "      <td id=\"T_06b1a_row2_col10\" class=\"data row2 col10\" >0.160302</td>\n",
              "      <td id=\"T_06b1a_row2_col11\" class=\"data row2 col11\" >0.017218</td>\n",
              "      <td id=\"T_06b1a_row2_col12\" class=\"data row2 col12\" >0.170425</td>\n",
              "    </tr>\n",
              "    <tr>\n",
              "      <th id=\"T_06b1a_level0_row3\" class=\"row_heading level0 row3\" >num_atend_atrs</th>\n",
              "      <td id=\"T_06b1a_row3_col0\" class=\"data row3 col0\" >-0.002444</td>\n",
              "      <td id=\"T_06b1a_row3_col1\" class=\"data row3 col1\" >0.006309</td>\n",
              "      <td id=\"T_06b1a_row3_col2\" class=\"data row3 col2\" >0.000226</td>\n",
              "      <td id=\"T_06b1a_row3_col3\" class=\"data row3 col3\" >1.000000</td>\n",
              "      <td id=\"T_06b1a_row3_col4\" class=\"data row3 col4\" >0.001361</td>\n",
              "      <td id=\"T_06b1a_row3_col5\" class=\"data row3 col5\" >0.032058</td>\n",
              "      <td id=\"T_06b1a_row3_col6\" class=\"data row3 col6\" >0.531965</td>\n",
              "      <td id=\"T_06b1a_row3_col7\" class=\"data row3 col7\" >0.019272</td>\n",
              "      <td id=\"T_06b1a_row3_col8\" class=\"data row3 col8\" >-0.000354</td>\n",
              "      <td id=\"T_06b1a_row3_col9\" class=\"data row3 col9\" >0.002933</td>\n",
              "      <td id=\"T_06b1a_row3_col10\" class=\"data row3 col10\" >0.006910</td>\n",
              "      <td id=\"T_06b1a_row3_col11\" class=\"data row3 col11\" >0.021113</td>\n",
              "      <td id=\"T_06b1a_row3_col12\" class=\"data row3 col12\" >0.021248</td>\n",
              "    </tr>\n",
              "    <tr>\n",
              "      <th id=\"T_06b1a_level0_row4\" class=\"row_heading level0 row4\" >vlr_score</th>\n",
              "      <td id=\"T_06b1a_row4_col0\" class=\"data row4 col0\" >-0.000885</td>\n",
              "      <td id=\"T_06b1a_row4_col1\" class=\"data row4 col1\" >0.071460</td>\n",
              "      <td id=\"T_06b1a_row4_col2\" class=\"data row4 col2\" >0.074541</td>\n",
              "      <td id=\"T_06b1a_row4_col3\" class=\"data row4 col3\" >0.001361</td>\n",
              "      <td id=\"T_06b1a_row4_col4\" class=\"data row4 col4\" >1.000000</td>\n",
              "      <td id=\"T_06b1a_row4_col5\" class=\"data row4 col5\" >0.076976</td>\n",
              "      <td id=\"T_06b1a_row4_col6\" class=\"data row4 col6\" >0.006721</td>\n",
              "      <td id=\"T_06b1a_row4_col7\" class=\"data row4 col7\" >0.094354</td>\n",
              "      <td id=\"T_06b1a_row4_col8\" class=\"data row4 col8\" >0.002783</td>\n",
              "      <td id=\"T_06b1a_row4_col9\" class=\"data row4 col9\" >-0.293389</td>\n",
              "      <td id=\"T_06b1a_row4_col10\" class=\"data row4 col10\" >0.078622</td>\n",
              "      <td id=\"T_06b1a_row4_col11\" class=\"data row4 col11\" >0.004139</td>\n",
              "      <td id=\"T_06b1a_row4_col12\" class=\"data row4 col12\" >0.066338</td>\n",
              "    </tr>\n",
              "    <tr>\n",
              "      <th id=\"T_06b1a_level0_row5\" class=\"row_heading level0 row5\" >num_produtos</th>\n",
              "      <td id=\"T_06b1a_row5_col0\" class=\"data row5 col0\" >0.002616</td>\n",
              "      <td id=\"T_06b1a_row5_col1\" class=\"data row5 col1\" >0.096261</td>\n",
              "      <td id=\"T_06b1a_row5_col2\" class=\"data row5 col2\" >0.235828</td>\n",
              "      <td id=\"T_06b1a_row5_col3\" class=\"data row5 col3\" >0.032058</td>\n",
              "      <td id=\"T_06b1a_row5_col4\" class=\"data row5 col4\" >0.076976</td>\n",
              "      <td id=\"T_06b1a_row5_col5\" class=\"data row5 col5\" >1.000000</td>\n",
              "      <td id=\"T_06b1a_row5_col6\" class=\"data row5 col6\" >0.052517</td>\n",
              "      <td id=\"T_06b1a_row5_col7\" class=\"data row5 col7\" >0.399924</td>\n",
              "      <td id=\"T_06b1a_row5_col8\" class=\"data row5 col8\" >0.000552</td>\n",
              "      <td id=\"T_06b1a_row5_col9\" class=\"data row5 col9\" >0.001635</td>\n",
              "      <td id=\"T_06b1a_row5_col10\" class=\"data row5 col10\" >0.071313</td>\n",
              "      <td id=\"T_06b1a_row5_col11\" class=\"data row5 col11\" >0.007039</td>\n",
              "      <td id=\"T_06b1a_row5_col12\" class=\"data row5 col12\" >0.707495</td>\n",
              "    </tr>\n",
              "    <tr>\n",
              "      <th id=\"T_06b1a_level0_row6\" class=\"row_heading level0 row6\" >num_atend</th>\n",
              "      <td id=\"T_06b1a_row6_col0\" class=\"data row6 col0\" >-0.000890</td>\n",
              "      <td id=\"T_06b1a_row6_col1\" class=\"data row6 col1\" >0.009918</td>\n",
              "      <td id=\"T_06b1a_row6_col2\" class=\"data row6 col2\" >0.002335</td>\n",
              "      <td id=\"T_06b1a_row6_col3\" class=\"data row6 col3\" >0.531965</td>\n",
              "      <td id=\"T_06b1a_row6_col4\" class=\"data row6 col4\" >0.006721</td>\n",
              "      <td id=\"T_06b1a_row6_col5\" class=\"data row6 col5\" >0.052517</td>\n",
              "      <td id=\"T_06b1a_row6_col6\" class=\"data row6 col6\" >1.000000</td>\n",
              "      <td id=\"T_06b1a_row6_col7\" class=\"data row6 col7\" >0.028077</td>\n",
              "      <td id=\"T_06b1a_row6_col8\" class=\"data row6 col8\" >-0.000586</td>\n",
              "      <td id=\"T_06b1a_row6_col9\" class=\"data row6 col9\" >0.000265</td>\n",
              "      <td id=\"T_06b1a_row6_col10\" class=\"data row6 col10\" >0.014571</td>\n",
              "      <td id=\"T_06b1a_row6_col11\" class=\"data row6 col11\" >0.011490</td>\n",
              "      <td id=\"T_06b1a_row6_col12\" class=\"data row6 col12\" >0.030704</td>\n",
              "    </tr>\n",
              "    <tr>\n",
              "      <th id=\"T_06b1a_level0_row7\" class=\"row_heading level0 row7\" >qtd_oper</th>\n",
              "      <td id=\"T_06b1a_row7_col0\" class=\"data row7 col0\" >-0.000765</td>\n",
              "      <td id=\"T_06b1a_row7_col1\" class=\"data row7 col1\" >0.398583</td>\n",
              "      <td id=\"T_06b1a_row7_col2\" class=\"data row7 col2\" >0.088389</td>\n",
              "      <td id=\"T_06b1a_row7_col3\" class=\"data row7 col3\" >0.019272</td>\n",
              "      <td id=\"T_06b1a_row7_col4\" class=\"data row7 col4\" >0.094354</td>\n",
              "      <td id=\"T_06b1a_row7_col5\" class=\"data row7 col5\" >0.399924</td>\n",
              "      <td id=\"T_06b1a_row7_col6\" class=\"data row7 col6\" >0.028077</td>\n",
              "      <td id=\"T_06b1a_row7_col7\" class=\"data row7 col7\" >1.000000</td>\n",
              "      <td id=\"T_06b1a_row7_col8\" class=\"data row7 col8\" >0.008165</td>\n",
              "      <td id=\"T_06b1a_row7_col9\" class=\"data row7 col9\" >0.151486</td>\n",
              "      <td id=\"T_06b1a_row7_col10\" class=\"data row7 col10\" >0.299594</td>\n",
              "      <td id=\"T_06b1a_row7_col11\" class=\"data row7 col11\" >0.005816</td>\n",
              "      <td id=\"T_06b1a_row7_col12\" class=\"data row7 col12\" >0.296881</td>\n",
              "    </tr>\n",
              "    <tr>\n",
              "      <th id=\"T_06b1a_level0_row8\" class=\"row_heading level0 row8\" >qtd_reclm</th>\n",
              "      <td id=\"T_06b1a_row8_col0\" class=\"data row8 col0\" >-0.004190</td>\n",
              "      <td id=\"T_06b1a_row8_col1\" class=\"data row8 col1\" >0.019903</td>\n",
              "      <td id=\"T_06b1a_row8_col2\" class=\"data row8 col2\" >0.018893</td>\n",
              "      <td id=\"T_06b1a_row8_col3\" class=\"data row8 col3\" >-0.000354</td>\n",
              "      <td id=\"T_06b1a_row8_col4\" class=\"data row8 col4\" >0.002783</td>\n",
              "      <td id=\"T_06b1a_row8_col5\" class=\"data row8 col5\" >0.000552</td>\n",
              "      <td id=\"T_06b1a_row8_col6\" class=\"data row8 col6\" >-0.000586</td>\n",
              "      <td id=\"T_06b1a_row8_col7\" class=\"data row8 col7\" >0.008165</td>\n",
              "      <td id=\"T_06b1a_row8_col8\" class=\"data row8 col8\" >1.000000</td>\n",
              "      <td id=\"T_06b1a_row8_col9\" class=\"data row8 col9\" >-0.001011</td>\n",
              "      <td id=\"T_06b1a_row8_col10\" class=\"data row8 col10\" >0.017440</td>\n",
              "      <td id=\"T_06b1a_row8_col11\" class=\"data row8 col11\" >0.537171</td>\n",
              "      <td id=\"T_06b1a_row8_col12\" class=\"data row8 col12\" >0.005056</td>\n",
              "    </tr>\n",
              "    <tr>\n",
              "      <th id=\"T_06b1a_level0_row9\" class=\"row_heading level0 row9\" >qtd_restr</th>\n",
              "      <td id=\"T_06b1a_row9_col0\" class=\"data row9 col0\" >0.003100</td>\n",
              "      <td id=\"T_06b1a_row9_col1\" class=\"data row9 col1\" >0.098304</td>\n",
              "      <td id=\"T_06b1a_row9_col2\" class=\"data row9 col2\" >0.007249</td>\n",
              "      <td id=\"T_06b1a_row9_col3\" class=\"data row9 col3\" >0.002933</td>\n",
              "      <td id=\"T_06b1a_row9_col4\" class=\"data row9 col4\" >-0.293389</td>\n",
              "      <td id=\"T_06b1a_row9_col5\" class=\"data row9 col5\" >0.001635</td>\n",
              "      <td id=\"T_06b1a_row9_col6\" class=\"data row9 col6\" >0.000265</td>\n",
              "      <td id=\"T_06b1a_row9_col7\" class=\"data row9 col7\" >0.151486</td>\n",
              "      <td id=\"T_06b1a_row9_col8\" class=\"data row9 col8\" >-0.001011</td>\n",
              "      <td id=\"T_06b1a_row9_col9\" class=\"data row9 col9\" >1.000000</td>\n",
              "      <td id=\"T_06b1a_row9_col10\" class=\"data row9 col10\" >0.053812</td>\n",
              "      <td id=\"T_06b1a_row9_col11\" class=\"data row9 col11\" >-0.001945</td>\n",
              "      <td id=\"T_06b1a_row9_col12\" class=\"data row9 col12\" >0.002315</td>\n",
              "    </tr>\n",
              "    <tr>\n",
              "      <th id=\"T_06b1a_level0_row10\" class=\"row_heading level0 row10\" >vlr_renda</th>\n",
              "      <td id=\"T_06b1a_row10_col0\" class=\"data row10 col0\" >-0.000362</td>\n",
              "      <td id=\"T_06b1a_row10_col1\" class=\"data row10 col1\" >0.593851</td>\n",
              "      <td id=\"T_06b1a_row10_col2\" class=\"data row10 col2\" >0.160302</td>\n",
              "      <td id=\"T_06b1a_row10_col3\" class=\"data row10 col3\" >0.006910</td>\n",
              "      <td id=\"T_06b1a_row10_col4\" class=\"data row10 col4\" >0.078622</td>\n",
              "      <td id=\"T_06b1a_row10_col5\" class=\"data row10 col5\" >0.071313</td>\n",
              "      <td id=\"T_06b1a_row10_col6\" class=\"data row10 col6\" >0.014571</td>\n",
              "      <td id=\"T_06b1a_row10_col7\" class=\"data row10 col7\" >0.299594</td>\n",
              "      <td id=\"T_06b1a_row10_col8\" class=\"data row10 col8\" >0.017440</td>\n",
              "      <td id=\"T_06b1a_row10_col9\" class=\"data row10 col9\" >0.053812</td>\n",
              "      <td id=\"T_06b1a_row10_col10\" class=\"data row10 col10\" >1.000000</td>\n",
              "      <td id=\"T_06b1a_row10_col11\" class=\"data row10 col11\" >0.012472</td>\n",
              "      <td id=\"T_06b1a_row10_col12\" class=\"data row10 col12\" >0.034249</td>\n",
              "    </tr>\n",
              "    <tr>\n",
              "      <th id=\"T_06b1a_level0_row11\" class=\"row_heading level0 row11\" >ind_atrito</th>\n",
              "      <td id=\"T_06b1a_row11_col0\" class=\"data row11 col0\" >-0.002664</td>\n",
              "      <td id=\"T_06b1a_row11_col1\" class=\"data row11 col1\" >0.011959</td>\n",
              "      <td id=\"T_06b1a_row11_col2\" class=\"data row11 col2\" >0.017218</td>\n",
              "      <td id=\"T_06b1a_row11_col3\" class=\"data row11 col3\" >0.021113</td>\n",
              "      <td id=\"T_06b1a_row11_col4\" class=\"data row11 col4\" >0.004139</td>\n",
              "      <td id=\"T_06b1a_row11_col5\" class=\"data row11 col5\" >0.007039</td>\n",
              "      <td id=\"T_06b1a_row11_col6\" class=\"data row11 col6\" >0.011490</td>\n",
              "      <td id=\"T_06b1a_row11_col7\" class=\"data row11 col7\" >0.005816</td>\n",
              "      <td id=\"T_06b1a_row11_col8\" class=\"data row11 col8\" >0.537171</td>\n",
              "      <td id=\"T_06b1a_row11_col9\" class=\"data row11 col9\" >-0.001945</td>\n",
              "      <td id=\"T_06b1a_row11_col10\" class=\"data row11 col10\" >0.012472</td>\n",
              "      <td id=\"T_06b1a_row11_col11\" class=\"data row11 col11\" >1.000000</td>\n",
              "      <td id=\"T_06b1a_row11_col12\" class=\"data row11 col12\" >0.006447</td>\n",
              "    </tr>\n",
              "    <tr>\n",
              "      <th id=\"T_06b1a_level0_row12\" class=\"row_heading level0 row12\" >ind_engaj</th>\n",
              "      <td id=\"T_06b1a_row12_col0\" class=\"data row12 col0\" >0.002035</td>\n",
              "      <td id=\"T_06b1a_row12_col1\" class=\"data row12 col1\" >0.070471</td>\n",
              "      <td id=\"T_06b1a_row12_col2\" class=\"data row12 col2\" >0.170425</td>\n",
              "      <td id=\"T_06b1a_row12_col3\" class=\"data row12 col3\" >0.021248</td>\n",
              "      <td id=\"T_06b1a_row12_col4\" class=\"data row12 col4\" >0.066338</td>\n",
              "      <td id=\"T_06b1a_row12_col5\" class=\"data row12 col5\" >0.707495</td>\n",
              "      <td id=\"T_06b1a_row12_col6\" class=\"data row12 col6\" >0.030704</td>\n",
              "      <td id=\"T_06b1a_row12_col7\" class=\"data row12 col7\" >0.296881</td>\n",
              "      <td id=\"T_06b1a_row12_col8\" class=\"data row12 col8\" >0.005056</td>\n",
              "      <td id=\"T_06b1a_row12_col9\" class=\"data row12 col9\" >0.002315</td>\n",
              "      <td id=\"T_06b1a_row12_col10\" class=\"data row12 col10\" >0.034249</td>\n",
              "      <td id=\"T_06b1a_row12_col11\" class=\"data row12 col11\" >0.006447</td>\n",
              "      <td id=\"T_06b1a_row12_col12\" class=\"data row12 col12\" >1.000000</td>\n",
              "    </tr>\n",
              "  </tbody>\n",
              "</table>\n"
            ]
          },
          "metadata": {},
          "execution_count": 6
        }
      ]
    },
    {
      "cell_type": "code",
      "source": [
        "\n",
        "target_corr = matriz_corr.data.ind_atrito\n",
        "df_corr = target_corr.abs().sort_values(ascending=False).to_frame().style.background_gradient(cmap='coolwarm')\n",
        "df_corr"
      ],
      "metadata": {
        "colab": {
          "base_uri": "https://localhost:8080/",
          "height": 457
        },
        "id": "AtvoQXlWbxj6",
        "outputId": "0fd48bbc-3dc4-4ad4-9b67-cef0e86dc445"
      },
      "execution_count": null,
      "outputs": [
        {
          "output_type": "execute_result",
          "data": {
            "text/plain": [
              "<pandas.io.formats.style.Styler at 0x7f72c9feff10>"
            ],
            "text/html": [
              "<style type=\"text/css\">\n",
              "#T_ac609_row0_col0 {\n",
              "  background-color: #b40426;\n",
              "  color: #f1f1f1;\n",
              "}\n",
              "#T_ac609_row1_col0 {\n",
              "  background-color: #e6d7cf;\n",
              "  color: #000000;\n",
              "}\n",
              "#T_ac609_row2_col0 {\n",
              "  background-color: #3f53c6;\n",
              "  color: #f1f1f1;\n",
              "}\n",
              "#T_ac609_row3_col0 {\n",
              "  background-color: #3e51c5;\n",
              "  color: #f1f1f1;\n",
              "}\n",
              "#T_ac609_row4_col0, #T_ac609_row5_col0, #T_ac609_row6_col0 {\n",
              "  background-color: #3d50c3;\n",
              "  color: #f1f1f1;\n",
              "}\n",
              "#T_ac609_row7_col0, #T_ac609_row8_col0 {\n",
              "  background-color: #3c4ec2;\n",
              "  color: #f1f1f1;\n",
              "}\n",
              "#T_ac609_row9_col0, #T_ac609_row10_col0, #T_ac609_row11_col0, #T_ac609_row12_col0 {\n",
              "  background-color: #3b4cc0;\n",
              "  color: #f1f1f1;\n",
              "}\n",
              "</style>\n",
              "<table id=\"T_ac609_\" class=\"dataframe\">\n",
              "  <thead>\n",
              "    <tr>\n",
              "      <th class=\"blank level0\" >&nbsp;</th>\n",
              "      <th class=\"col_heading level0 col0\" >ind_atrito</th>\n",
              "    </tr>\n",
              "  </thead>\n",
              "  <tbody>\n",
              "    <tr>\n",
              "      <th id=\"T_ac609_level0_row0\" class=\"row_heading level0 row0\" >ind_atrito</th>\n",
              "      <td id=\"T_ac609_row0_col0\" class=\"data row0 col0\" >1.000000</td>\n",
              "    </tr>\n",
              "    <tr>\n",
              "      <th id=\"T_ac609_level0_row1\" class=\"row_heading level0 row1\" >qtd_reclm</th>\n",
              "      <td id=\"T_ac609_row1_col0\" class=\"data row1 col0\" >0.537171</td>\n",
              "    </tr>\n",
              "    <tr>\n",
              "      <th id=\"T_ac609_level0_row2\" class=\"row_heading level0 row2\" >num_atend_atrs</th>\n",
              "      <td id=\"T_ac609_row2_col0\" class=\"data row2 col0\" >0.021113</td>\n",
              "    </tr>\n",
              "    <tr>\n",
              "      <th id=\"T_ac609_level0_row3\" class=\"row_heading level0 row3\" >vlr_saldo</th>\n",
              "      <td id=\"T_ac609_row3_col0\" class=\"data row3 col0\" >0.017218</td>\n",
              "    </tr>\n",
              "    <tr>\n",
              "      <th id=\"T_ac609_level0_row4\" class=\"row_heading level0 row4\" >vlr_renda</th>\n",
              "      <td id=\"T_ac609_row4_col0\" class=\"data row4 col0\" >0.012472</td>\n",
              "    </tr>\n",
              "    <tr>\n",
              "      <th id=\"T_ac609_level0_row5\" class=\"row_heading level0 row5\" >vlr_credito</th>\n",
              "      <td id=\"T_ac609_row5_col0\" class=\"data row5 col0\" >0.011959</td>\n",
              "    </tr>\n",
              "    <tr>\n",
              "      <th id=\"T_ac609_level0_row6\" class=\"row_heading level0 row6\" >num_atend</th>\n",
              "      <td id=\"T_ac609_row6_col0\" class=\"data row6 col0\" >0.011490</td>\n",
              "    </tr>\n",
              "    <tr>\n",
              "      <th id=\"T_ac609_level0_row7\" class=\"row_heading level0 row7\" >num_produtos</th>\n",
              "      <td id=\"T_ac609_row7_col0\" class=\"data row7 col0\" >0.007039</td>\n",
              "    </tr>\n",
              "    <tr>\n",
              "      <th id=\"T_ac609_level0_row8\" class=\"row_heading level0 row8\" >ind_engaj</th>\n",
              "      <td id=\"T_ac609_row8_col0\" class=\"data row8 col0\" >0.006447</td>\n",
              "    </tr>\n",
              "    <tr>\n",
              "      <th id=\"T_ac609_level0_row9\" class=\"row_heading level0 row9\" >qtd_oper</th>\n",
              "      <td id=\"T_ac609_row9_col0\" class=\"data row9 col0\" >0.005816</td>\n",
              "    </tr>\n",
              "    <tr>\n",
              "      <th id=\"T_ac609_level0_row10\" class=\"row_heading level0 row10\" >vlr_score</th>\n",
              "      <td id=\"T_ac609_row10_col0\" class=\"data row10 col0\" >0.004139</td>\n",
              "    </tr>\n",
              "    <tr>\n",
              "      <th id=\"T_ac609_level0_row11\" class=\"row_heading level0 row11\" >Unnamed: 0</th>\n",
              "      <td id=\"T_ac609_row11_col0\" class=\"data row11 col0\" >0.002664</td>\n",
              "    </tr>\n",
              "    <tr>\n",
              "      <th id=\"T_ac609_level0_row12\" class=\"row_heading level0 row12\" >qtd_restr</th>\n",
              "      <td id=\"T_ac609_row12_col0\" class=\"data row12 col0\" >0.001945</td>\n",
              "    </tr>\n",
              "  </tbody>\n",
              "</table>\n"
            ]
          },
          "metadata": {},
          "execution_count": 7
        }
      ]
    },
    {
      "cell_type": "markdown",
      "source": [
        "#Cliente atritado"
      ],
      "metadata": {
        "id": "vJ8_z_QVZkED"
      }
    },
    {
      "cell_type": "markdown",
      "source": [
        "##Undersampling de não atritados"
      ],
      "metadata": {
        "id": "k6twORBnH8dV"
      }
    },
    {
      "cell_type": "code",
      "source": [
        "import pandas as pd\n",
        "import numpy as np\n",
        "\n",
        "cliente_atrito = client[client.ind_atrito == 1]\n",
        "cliente_atrito"
      ],
      "metadata": {
        "colab": {
          "base_uri": "https://localhost:8080/",
          "height": 505
        },
        "id": "C8wxfTs4IGyE",
        "outputId": "fe03df54-a373-4eee-fc67-0a96ef2ddb00"
      },
      "execution_count": null,
      "outputs": [
        {
          "output_type": "execute_result",
          "data": {
            "text/plain": [
              "        Unnamed: 0  vlr_credito  vlr_saldo  num_atend_atrs  vlr_score  \\\n",
              "92            5135     0.013596   0.006807             0.0   0.894196   \n",
              "4087        259785     0.011070   0.005048             0.0   0.350471   \n",
              "5715        356685     0.035036   0.007745             0.0   0.308646   \n",
              "5753        361057     0.064191   0.031470             0.0   1.117262   \n",
              "7637        480701     0.052269   0.009075             0.0   0.636275   \n",
              "...            ...          ...        ...             ...        ...   \n",
              "173376    11067489     0.022855   0.006331             0.0   0.489887   \n",
              "176941    11288368     0.008752   0.004898             0.0   0.434121   \n",
              "178649    11400484     0.011876   0.004694             0.0   0.692042   \n",
              "184201    11774201     0.008256   0.008337             0.0   0.768721   \n",
              "185178    11836028     0.034645   0.015695             0.0   0.183171   \n",
              "\n",
              "        num_produtos  num_atend  qtd_oper  qtd_reclm  qtd_restr  vlr_renda  \\\n",
              "92          0.034483        0.0  0.083019        1.0   0.000000   0.018892   \n",
              "4087        0.011494        0.0  0.026415        0.0   0.000000   0.003612   \n",
              "5715        0.011494        0.0  0.018868        0.0   0.036697   0.026948   \n",
              "5753        0.022989        0.0  0.052830        1.0   0.000000   0.110432   \n",
              "7637        0.011494        0.0  0.052830        0.0   0.000000   0.111821   \n",
              "...              ...        ...       ...        ...        ...        ...   \n",
              "173376      0.034483        0.0  0.071698        0.0   0.000000   0.024726   \n",
              "176941      0.011494        0.0  0.083019        1.0   0.018349   0.011529   \n",
              "178649      0.011494        0.0  0.060377        0.0   0.000000   0.003195   \n",
              "184201      0.011494        0.0  0.049057        0.0   0.000000   0.009446   \n",
              "185178      0.000000        0.0  0.094340        1.0   0.009174   0.011807   \n",
              "\n",
              "        ind_atrito  ind_engaj  \n",
              "92             1.0        1.0  \n",
              "4087           1.0        0.0  \n",
              "5715           1.0        0.0  \n",
              "5753           1.0        1.0  \n",
              "7637           1.0        0.0  \n",
              "...            ...        ...  \n",
              "173376         1.0        1.0  \n",
              "176941         1.0        0.0  \n",
              "178649         1.0        0.0  \n",
              "184201         1.0        0.0  \n",
              "185178         1.0        0.0  \n",
              "\n",
              "[97 rows x 13 columns]"
            ],
            "text/html": [
              "\n",
              "  <div id=\"df-a932a4e5-8008-4499-8981-f12b5f456927\">\n",
              "    <div class=\"colab-df-container\">\n",
              "      <div>\n",
              "<style scoped>\n",
              "    .dataframe tbody tr th:only-of-type {\n",
              "        vertical-align: middle;\n",
              "    }\n",
              "\n",
              "    .dataframe tbody tr th {\n",
              "        vertical-align: top;\n",
              "    }\n",
              "\n",
              "    .dataframe thead th {\n",
              "        text-align: right;\n",
              "    }\n",
              "</style>\n",
              "<table border=\"1\" class=\"dataframe\">\n",
              "  <thead>\n",
              "    <tr style=\"text-align: right;\">\n",
              "      <th></th>\n",
              "      <th>Unnamed: 0</th>\n",
              "      <th>vlr_credito</th>\n",
              "      <th>vlr_saldo</th>\n",
              "      <th>num_atend_atrs</th>\n",
              "      <th>vlr_score</th>\n",
              "      <th>num_produtos</th>\n",
              "      <th>num_atend</th>\n",
              "      <th>qtd_oper</th>\n",
              "      <th>qtd_reclm</th>\n",
              "      <th>qtd_restr</th>\n",
              "      <th>vlr_renda</th>\n",
              "      <th>ind_atrito</th>\n",
              "      <th>ind_engaj</th>\n",
              "    </tr>\n",
              "  </thead>\n",
              "  <tbody>\n",
              "    <tr>\n",
              "      <th>92</th>\n",
              "      <td>5135</td>\n",
              "      <td>0.013596</td>\n",
              "      <td>0.006807</td>\n",
              "      <td>0.0</td>\n",
              "      <td>0.894196</td>\n",
              "      <td>0.034483</td>\n",
              "      <td>0.0</td>\n",
              "      <td>0.083019</td>\n",
              "      <td>1.0</td>\n",
              "      <td>0.000000</td>\n",
              "      <td>0.018892</td>\n",
              "      <td>1.0</td>\n",
              "      <td>1.0</td>\n",
              "    </tr>\n",
              "    <tr>\n",
              "      <th>4087</th>\n",
              "      <td>259785</td>\n",
              "      <td>0.011070</td>\n",
              "      <td>0.005048</td>\n",
              "      <td>0.0</td>\n",
              "      <td>0.350471</td>\n",
              "      <td>0.011494</td>\n",
              "      <td>0.0</td>\n",
              "      <td>0.026415</td>\n",
              "      <td>0.0</td>\n",
              "      <td>0.000000</td>\n",
              "      <td>0.003612</td>\n",
              "      <td>1.0</td>\n",
              "      <td>0.0</td>\n",
              "    </tr>\n",
              "    <tr>\n",
              "      <th>5715</th>\n",
              "      <td>356685</td>\n",
              "      <td>0.035036</td>\n",
              "      <td>0.007745</td>\n",
              "      <td>0.0</td>\n",
              "      <td>0.308646</td>\n",
              "      <td>0.011494</td>\n",
              "      <td>0.0</td>\n",
              "      <td>0.018868</td>\n",
              "      <td>0.0</td>\n",
              "      <td>0.036697</td>\n",
              "      <td>0.026948</td>\n",
              "      <td>1.0</td>\n",
              "      <td>0.0</td>\n",
              "    </tr>\n",
              "    <tr>\n",
              "      <th>5753</th>\n",
              "      <td>361057</td>\n",
              "      <td>0.064191</td>\n",
              "      <td>0.031470</td>\n",
              "      <td>0.0</td>\n",
              "      <td>1.117262</td>\n",
              "      <td>0.022989</td>\n",
              "      <td>0.0</td>\n",
              "      <td>0.052830</td>\n",
              "      <td>1.0</td>\n",
              "      <td>0.000000</td>\n",
              "      <td>0.110432</td>\n",
              "      <td>1.0</td>\n",
              "      <td>1.0</td>\n",
              "    </tr>\n",
              "    <tr>\n",
              "      <th>7637</th>\n",
              "      <td>480701</td>\n",
              "      <td>0.052269</td>\n",
              "      <td>0.009075</td>\n",
              "      <td>0.0</td>\n",
              "      <td>0.636275</td>\n",
              "      <td>0.011494</td>\n",
              "      <td>0.0</td>\n",
              "      <td>0.052830</td>\n",
              "      <td>0.0</td>\n",
              "      <td>0.000000</td>\n",
              "      <td>0.111821</td>\n",
              "      <td>1.0</td>\n",
              "      <td>0.0</td>\n",
              "    </tr>\n",
              "    <tr>\n",
              "      <th>...</th>\n",
              "      <td>...</td>\n",
              "      <td>...</td>\n",
              "      <td>...</td>\n",
              "      <td>...</td>\n",
              "      <td>...</td>\n",
              "      <td>...</td>\n",
              "      <td>...</td>\n",
              "      <td>...</td>\n",
              "      <td>...</td>\n",
              "      <td>...</td>\n",
              "      <td>...</td>\n",
              "      <td>...</td>\n",
              "      <td>...</td>\n",
              "    </tr>\n",
              "    <tr>\n",
              "      <th>173376</th>\n",
              "      <td>11067489</td>\n",
              "      <td>0.022855</td>\n",
              "      <td>0.006331</td>\n",
              "      <td>0.0</td>\n",
              "      <td>0.489887</td>\n",
              "      <td>0.034483</td>\n",
              "      <td>0.0</td>\n",
              "      <td>0.071698</td>\n",
              "      <td>0.0</td>\n",
              "      <td>0.000000</td>\n",
              "      <td>0.024726</td>\n",
              "      <td>1.0</td>\n",
              "      <td>1.0</td>\n",
              "    </tr>\n",
              "    <tr>\n",
              "      <th>176941</th>\n",
              "      <td>11288368</td>\n",
              "      <td>0.008752</td>\n",
              "      <td>0.004898</td>\n",
              "      <td>0.0</td>\n",
              "      <td>0.434121</td>\n",
              "      <td>0.011494</td>\n",
              "      <td>0.0</td>\n",
              "      <td>0.083019</td>\n",
              "      <td>1.0</td>\n",
              "      <td>0.018349</td>\n",
              "      <td>0.011529</td>\n",
              "      <td>1.0</td>\n",
              "      <td>0.0</td>\n",
              "    </tr>\n",
              "    <tr>\n",
              "      <th>178649</th>\n",
              "      <td>11400484</td>\n",
              "      <td>0.011876</td>\n",
              "      <td>0.004694</td>\n",
              "      <td>0.0</td>\n",
              "      <td>0.692042</td>\n",
              "      <td>0.011494</td>\n",
              "      <td>0.0</td>\n",
              "      <td>0.060377</td>\n",
              "      <td>0.0</td>\n",
              "      <td>0.000000</td>\n",
              "      <td>0.003195</td>\n",
              "      <td>1.0</td>\n",
              "      <td>0.0</td>\n",
              "    </tr>\n",
              "    <tr>\n",
              "      <th>184201</th>\n",
              "      <td>11774201</td>\n",
              "      <td>0.008256</td>\n",
              "      <td>0.008337</td>\n",
              "      <td>0.0</td>\n",
              "      <td>0.768721</td>\n",
              "      <td>0.011494</td>\n",
              "      <td>0.0</td>\n",
              "      <td>0.049057</td>\n",
              "      <td>0.0</td>\n",
              "      <td>0.000000</td>\n",
              "      <td>0.009446</td>\n",
              "      <td>1.0</td>\n",
              "      <td>0.0</td>\n",
              "    </tr>\n",
              "    <tr>\n",
              "      <th>185178</th>\n",
              "      <td>11836028</td>\n",
              "      <td>0.034645</td>\n",
              "      <td>0.015695</td>\n",
              "      <td>0.0</td>\n",
              "      <td>0.183171</td>\n",
              "      <td>0.000000</td>\n",
              "      <td>0.0</td>\n",
              "      <td>0.094340</td>\n",
              "      <td>1.0</td>\n",
              "      <td>0.009174</td>\n",
              "      <td>0.011807</td>\n",
              "      <td>1.0</td>\n",
              "      <td>0.0</td>\n",
              "    </tr>\n",
              "  </tbody>\n",
              "</table>\n",
              "<p>97 rows × 13 columns</p>\n",
              "</div>\n",
              "      <button class=\"colab-df-convert\" onclick=\"convertToInteractive('df-a932a4e5-8008-4499-8981-f12b5f456927')\"\n",
              "              title=\"Convert this dataframe to an interactive table.\"\n",
              "              style=\"display:none;\">\n",
              "        \n",
              "  <svg xmlns=\"http://www.w3.org/2000/svg\" height=\"24px\"viewBox=\"0 0 24 24\"\n",
              "       width=\"24px\">\n",
              "    <path d=\"M0 0h24v24H0V0z\" fill=\"none\"/>\n",
              "    <path d=\"M18.56 5.44l.94 2.06.94-2.06 2.06-.94-2.06-.94-.94-2.06-.94 2.06-2.06.94zm-11 1L8.5 8.5l.94-2.06 2.06-.94-2.06-.94L8.5 2.5l-.94 2.06-2.06.94zm10 10l.94 2.06.94-2.06 2.06-.94-2.06-.94-.94-2.06-.94 2.06-2.06.94z\"/><path d=\"M17.41 7.96l-1.37-1.37c-.4-.4-.92-.59-1.43-.59-.52 0-1.04.2-1.43.59L10.3 9.45l-7.72 7.72c-.78.78-.78 2.05 0 2.83L4 21.41c.39.39.9.59 1.41.59.51 0 1.02-.2 1.41-.59l7.78-7.78 2.81-2.81c.8-.78.8-2.07 0-2.86zM5.41 20L4 18.59l7.72-7.72 1.47 1.35L5.41 20z\"/>\n",
              "  </svg>\n",
              "      </button>\n",
              "      \n",
              "  <style>\n",
              "    .colab-df-container {\n",
              "      display:flex;\n",
              "      flex-wrap:wrap;\n",
              "      gap: 12px;\n",
              "    }\n",
              "\n",
              "    .colab-df-convert {\n",
              "      background-color: #E8F0FE;\n",
              "      border: none;\n",
              "      border-radius: 50%;\n",
              "      cursor: pointer;\n",
              "      display: none;\n",
              "      fill: #1967D2;\n",
              "      height: 32px;\n",
              "      padding: 0 0 0 0;\n",
              "      width: 32px;\n",
              "    }\n",
              "\n",
              "    .colab-df-convert:hover {\n",
              "      background-color: #E2EBFA;\n",
              "      box-shadow: 0px 1px 2px rgba(60, 64, 67, 0.3), 0px 1px 3px 1px rgba(60, 64, 67, 0.15);\n",
              "      fill: #174EA6;\n",
              "    }\n",
              "\n",
              "    [theme=dark] .colab-df-convert {\n",
              "      background-color: #3B4455;\n",
              "      fill: #D2E3FC;\n",
              "    }\n",
              "\n",
              "    [theme=dark] .colab-df-convert:hover {\n",
              "      background-color: #434B5C;\n",
              "      box-shadow: 0px 1px 3px 1px rgba(0, 0, 0, 0.15);\n",
              "      filter: drop-shadow(0px 1px 2px rgba(0, 0, 0, 0.3));\n",
              "      fill: #FFFFFF;\n",
              "    }\n",
              "  </style>\n",
              "\n",
              "      <script>\n",
              "        const buttonEl =\n",
              "          document.querySelector('#df-a932a4e5-8008-4499-8981-f12b5f456927 button.colab-df-convert');\n",
              "        buttonEl.style.display =\n",
              "          google.colab.kernel.accessAllowed ? 'block' : 'none';\n",
              "\n",
              "        async function convertToInteractive(key) {\n",
              "          const element = document.querySelector('#df-a932a4e5-8008-4499-8981-f12b5f456927');\n",
              "          const dataTable =\n",
              "            await google.colab.kernel.invokeFunction('convertToInteractive',\n",
              "                                                     [key], {});\n",
              "          if (!dataTable) return;\n",
              "\n",
              "          const docLinkHtml = 'Like what you see? Visit the ' +\n",
              "            '<a target=\"_blank\" href=https://colab.research.google.com/notebooks/data_table.ipynb>data table notebook</a>'\n",
              "            + ' to learn more about interactive tables.';\n",
              "          element.innerHTML = '';\n",
              "          dataTable['output_type'] = 'display_data';\n",
              "          await google.colab.output.renderOutput(dataTable, element);\n",
              "          const docLink = document.createElement('div');\n",
              "          docLink.innerHTML = docLinkHtml;\n",
              "          element.appendChild(docLink);\n",
              "        }\n",
              "      </script>\n",
              "    </div>\n",
              "  </div>\n",
              "  "
            ]
          },
          "metadata": {},
          "execution_count": 8
        }
      ]
    },
    {
      "cell_type": "code",
      "source": [
        "cliente_not_atrito = client[client.ind_atrito == 0]\n",
        "cliente_not_atrito"
      ],
      "metadata": {
        "colab": {
          "base_uri": "https://localhost:8080/",
          "height": 505
        },
        "id": "eUPSo2jhIONc",
        "outputId": "9fadcb8b-23ba-4955-ee48-fa174e817034"
      },
      "execution_count": null,
      "outputs": [
        {
          "output_type": "execute_result",
          "data": {
            "text/plain": [
              "        Unnamed: 0  vlr_credito  vlr_saldo  num_atend_atrs  vlr_score  \\\n",
              "0                0     0.001802   0.001837             0.0   0.489887   \n",
              "1               18     0.000432   0.000086             0.0  -1.685013   \n",
              "2               30     0.002952   0.001706             0.0  -0.290846   \n",
              "3               35     0.000083   0.001889             0.0   0.190142   \n",
              "4               85     0.014023   0.000945             0.0  -0.402379   \n",
              "...            ...          ...        ...             ...        ...   \n",
              "185875    11886194     0.002807   0.006070             0.0  -0.221138   \n",
              "185876    11886221     0.027062   0.005580             0.0   1.389125   \n",
              "185877    11886229     0.007014   0.028666             0.0   1.082408   \n",
              "185878    11886303     0.000587   0.001349             0.0  -0.667271   \n",
              "185879    11886317     0.005123   0.002236             0.0   0.503829   \n",
              "\n",
              "        num_produtos  num_atend  qtd_oper  qtd_reclm  qtd_restr  vlr_renda  \\\n",
              "0           0.000000        0.0  0.030189        0.0   0.055046   0.003889   \n",
              "1           0.000000        0.0  0.011321        0.0   0.009174   0.002361   \n",
              "2           0.011494        0.0  0.045283        0.0   0.036697   0.005001   \n",
              "3           0.000000        0.0  0.022642        0.0   0.009174   0.011529   \n",
              "4           0.000000        0.0  0.116981        0.0   0.027523   0.011113   \n",
              "...              ...        ...       ...        ...        ...        ...   \n",
              "185875      0.000000        0.0  0.041509        0.0   0.055046   0.002917   \n",
              "185876      0.068966        0.0  0.116981        0.0   0.000000   0.008057   \n",
              "185877      0.045977        0.0  0.026415        0.0   0.000000   0.002084   \n",
              "185878      0.000000        0.0  0.033962        0.0   0.009174   0.009168   \n",
              "185879      0.022989        0.0  0.045283        0.0   0.009174   0.006390   \n",
              "\n",
              "        ind_atrito  ind_engaj  \n",
              "0              0.0        0.0  \n",
              "1              0.0        0.0  \n",
              "2              0.0        0.0  \n",
              "3              0.0        0.0  \n",
              "4              0.0        0.0  \n",
              "...            ...        ...  \n",
              "185875         0.0        0.0  \n",
              "185876         0.0        1.0  \n",
              "185877         0.0        1.0  \n",
              "185878         0.0        0.0  \n",
              "185879         0.0        1.0  \n",
              "\n",
              "[185783 rows x 13 columns]"
            ],
            "text/html": [
              "\n",
              "  <div id=\"df-3e1bb766-a108-4558-9a92-a23cdead7174\">\n",
              "    <div class=\"colab-df-container\">\n",
              "      <div>\n",
              "<style scoped>\n",
              "    .dataframe tbody tr th:only-of-type {\n",
              "        vertical-align: middle;\n",
              "    }\n",
              "\n",
              "    .dataframe tbody tr th {\n",
              "        vertical-align: top;\n",
              "    }\n",
              "\n",
              "    .dataframe thead th {\n",
              "        text-align: right;\n",
              "    }\n",
              "</style>\n",
              "<table border=\"1\" class=\"dataframe\">\n",
              "  <thead>\n",
              "    <tr style=\"text-align: right;\">\n",
              "      <th></th>\n",
              "      <th>Unnamed: 0</th>\n",
              "      <th>vlr_credito</th>\n",
              "      <th>vlr_saldo</th>\n",
              "      <th>num_atend_atrs</th>\n",
              "      <th>vlr_score</th>\n",
              "      <th>num_produtos</th>\n",
              "      <th>num_atend</th>\n",
              "      <th>qtd_oper</th>\n",
              "      <th>qtd_reclm</th>\n",
              "      <th>qtd_restr</th>\n",
              "      <th>vlr_renda</th>\n",
              "      <th>ind_atrito</th>\n",
              "      <th>ind_engaj</th>\n",
              "    </tr>\n",
              "  </thead>\n",
              "  <tbody>\n",
              "    <tr>\n",
              "      <th>0</th>\n",
              "      <td>0</td>\n",
              "      <td>0.001802</td>\n",
              "      <td>0.001837</td>\n",
              "      <td>0.0</td>\n",
              "      <td>0.489887</td>\n",
              "      <td>0.000000</td>\n",
              "      <td>0.0</td>\n",
              "      <td>0.030189</td>\n",
              "      <td>0.0</td>\n",
              "      <td>0.055046</td>\n",
              "      <td>0.003889</td>\n",
              "      <td>0.0</td>\n",
              "      <td>0.0</td>\n",
              "    </tr>\n",
              "    <tr>\n",
              "      <th>1</th>\n",
              "      <td>18</td>\n",
              "      <td>0.000432</td>\n",
              "      <td>0.000086</td>\n",
              "      <td>0.0</td>\n",
              "      <td>-1.685013</td>\n",
              "      <td>0.000000</td>\n",
              "      <td>0.0</td>\n",
              "      <td>0.011321</td>\n",
              "      <td>0.0</td>\n",
              "      <td>0.009174</td>\n",
              "      <td>0.002361</td>\n",
              "      <td>0.0</td>\n",
              "      <td>0.0</td>\n",
              "    </tr>\n",
              "    <tr>\n",
              "      <th>2</th>\n",
              "      <td>30</td>\n",
              "      <td>0.002952</td>\n",
              "      <td>0.001706</td>\n",
              "      <td>0.0</td>\n",
              "      <td>-0.290846</td>\n",
              "      <td>0.011494</td>\n",
              "      <td>0.0</td>\n",
              "      <td>0.045283</td>\n",
              "      <td>0.0</td>\n",
              "      <td>0.036697</td>\n",
              "      <td>0.005001</td>\n",
              "      <td>0.0</td>\n",
              "      <td>0.0</td>\n",
              "    </tr>\n",
              "    <tr>\n",
              "      <th>3</th>\n",
              "      <td>35</td>\n",
              "      <td>0.000083</td>\n",
              "      <td>0.001889</td>\n",
              "      <td>0.0</td>\n",
              "      <td>0.190142</td>\n",
              "      <td>0.000000</td>\n",
              "      <td>0.0</td>\n",
              "      <td>0.022642</td>\n",
              "      <td>0.0</td>\n",
              "      <td>0.009174</td>\n",
              "      <td>0.011529</td>\n",
              "      <td>0.0</td>\n",
              "      <td>0.0</td>\n",
              "    </tr>\n",
              "    <tr>\n",
              "      <th>4</th>\n",
              "      <td>85</td>\n",
              "      <td>0.014023</td>\n",
              "      <td>0.000945</td>\n",
              "      <td>0.0</td>\n",
              "      <td>-0.402379</td>\n",
              "      <td>0.000000</td>\n",
              "      <td>0.0</td>\n",
              "      <td>0.116981</td>\n",
              "      <td>0.0</td>\n",
              "      <td>0.027523</td>\n",
              "      <td>0.011113</td>\n",
              "      <td>0.0</td>\n",
              "      <td>0.0</td>\n",
              "    </tr>\n",
              "    <tr>\n",
              "      <th>...</th>\n",
              "      <td>...</td>\n",
              "      <td>...</td>\n",
              "      <td>...</td>\n",
              "      <td>...</td>\n",
              "      <td>...</td>\n",
              "      <td>...</td>\n",
              "      <td>...</td>\n",
              "      <td>...</td>\n",
              "      <td>...</td>\n",
              "      <td>...</td>\n",
              "      <td>...</td>\n",
              "      <td>...</td>\n",
              "      <td>...</td>\n",
              "    </tr>\n",
              "    <tr>\n",
              "      <th>185875</th>\n",
              "      <td>11886194</td>\n",
              "      <td>0.002807</td>\n",
              "      <td>0.006070</td>\n",
              "      <td>0.0</td>\n",
              "      <td>-0.221138</td>\n",
              "      <td>0.000000</td>\n",
              "      <td>0.0</td>\n",
              "      <td>0.041509</td>\n",
              "      <td>0.0</td>\n",
              "      <td>0.055046</td>\n",
              "      <td>0.002917</td>\n",
              "      <td>0.0</td>\n",
              "      <td>0.0</td>\n",
              "    </tr>\n",
              "    <tr>\n",
              "      <th>185876</th>\n",
              "      <td>11886221</td>\n",
              "      <td>0.027062</td>\n",
              "      <td>0.005580</td>\n",
              "      <td>0.0</td>\n",
              "      <td>1.389125</td>\n",
              "      <td>0.068966</td>\n",
              "      <td>0.0</td>\n",
              "      <td>0.116981</td>\n",
              "      <td>0.0</td>\n",
              "      <td>0.000000</td>\n",
              "      <td>0.008057</td>\n",
              "      <td>0.0</td>\n",
              "      <td>1.0</td>\n",
              "    </tr>\n",
              "    <tr>\n",
              "      <th>185877</th>\n",
              "      <td>11886229</td>\n",
              "      <td>0.007014</td>\n",
              "      <td>0.028666</td>\n",
              "      <td>0.0</td>\n",
              "      <td>1.082408</td>\n",
              "      <td>0.045977</td>\n",
              "      <td>0.0</td>\n",
              "      <td>0.026415</td>\n",
              "      <td>0.0</td>\n",
              "      <td>0.000000</td>\n",
              "      <td>0.002084</td>\n",
              "      <td>0.0</td>\n",
              "      <td>1.0</td>\n",
              "    </tr>\n",
              "    <tr>\n",
              "      <th>185878</th>\n",
              "      <td>11886303</td>\n",
              "      <td>0.000587</td>\n",
              "      <td>0.001349</td>\n",
              "      <td>0.0</td>\n",
              "      <td>-0.667271</td>\n",
              "      <td>0.000000</td>\n",
              "      <td>0.0</td>\n",
              "      <td>0.033962</td>\n",
              "      <td>0.0</td>\n",
              "      <td>0.009174</td>\n",
              "      <td>0.009168</td>\n",
              "      <td>0.0</td>\n",
              "      <td>0.0</td>\n",
              "    </tr>\n",
              "    <tr>\n",
              "      <th>185879</th>\n",
              "      <td>11886317</td>\n",
              "      <td>0.005123</td>\n",
              "      <td>0.002236</td>\n",
              "      <td>0.0</td>\n",
              "      <td>0.503829</td>\n",
              "      <td>0.022989</td>\n",
              "      <td>0.0</td>\n",
              "      <td>0.045283</td>\n",
              "      <td>0.0</td>\n",
              "      <td>0.009174</td>\n",
              "      <td>0.006390</td>\n",
              "      <td>0.0</td>\n",
              "      <td>1.0</td>\n",
              "    </tr>\n",
              "  </tbody>\n",
              "</table>\n",
              "<p>185783 rows × 13 columns</p>\n",
              "</div>\n",
              "      <button class=\"colab-df-convert\" onclick=\"convertToInteractive('df-3e1bb766-a108-4558-9a92-a23cdead7174')\"\n",
              "              title=\"Convert this dataframe to an interactive table.\"\n",
              "              style=\"display:none;\">\n",
              "        \n",
              "  <svg xmlns=\"http://www.w3.org/2000/svg\" height=\"24px\"viewBox=\"0 0 24 24\"\n",
              "       width=\"24px\">\n",
              "    <path d=\"M0 0h24v24H0V0z\" fill=\"none\"/>\n",
              "    <path d=\"M18.56 5.44l.94 2.06.94-2.06 2.06-.94-2.06-.94-.94-2.06-.94 2.06-2.06.94zm-11 1L8.5 8.5l.94-2.06 2.06-.94-2.06-.94L8.5 2.5l-.94 2.06-2.06.94zm10 10l.94 2.06.94-2.06 2.06-.94-2.06-.94-.94-2.06-.94 2.06-2.06.94z\"/><path d=\"M17.41 7.96l-1.37-1.37c-.4-.4-.92-.59-1.43-.59-.52 0-1.04.2-1.43.59L10.3 9.45l-7.72 7.72c-.78.78-.78 2.05 0 2.83L4 21.41c.39.39.9.59 1.41.59.51 0 1.02-.2 1.41-.59l7.78-7.78 2.81-2.81c.8-.78.8-2.07 0-2.86zM5.41 20L4 18.59l7.72-7.72 1.47 1.35L5.41 20z\"/>\n",
              "  </svg>\n",
              "      </button>\n",
              "      \n",
              "  <style>\n",
              "    .colab-df-container {\n",
              "      display:flex;\n",
              "      flex-wrap:wrap;\n",
              "      gap: 12px;\n",
              "    }\n",
              "\n",
              "    .colab-df-convert {\n",
              "      background-color: #E8F0FE;\n",
              "      border: none;\n",
              "      border-radius: 50%;\n",
              "      cursor: pointer;\n",
              "      display: none;\n",
              "      fill: #1967D2;\n",
              "      height: 32px;\n",
              "      padding: 0 0 0 0;\n",
              "      width: 32px;\n",
              "    }\n",
              "\n",
              "    .colab-df-convert:hover {\n",
              "      background-color: #E2EBFA;\n",
              "      box-shadow: 0px 1px 2px rgba(60, 64, 67, 0.3), 0px 1px 3px 1px rgba(60, 64, 67, 0.15);\n",
              "      fill: #174EA6;\n",
              "    }\n",
              "\n",
              "    [theme=dark] .colab-df-convert {\n",
              "      background-color: #3B4455;\n",
              "      fill: #D2E3FC;\n",
              "    }\n",
              "\n",
              "    [theme=dark] .colab-df-convert:hover {\n",
              "      background-color: #434B5C;\n",
              "      box-shadow: 0px 1px 3px 1px rgba(0, 0, 0, 0.15);\n",
              "      filter: drop-shadow(0px 1px 2px rgba(0, 0, 0, 0.3));\n",
              "      fill: #FFFFFF;\n",
              "    }\n",
              "  </style>\n",
              "\n",
              "      <script>\n",
              "        const buttonEl =\n",
              "          document.querySelector('#df-3e1bb766-a108-4558-9a92-a23cdead7174 button.colab-df-convert');\n",
              "        buttonEl.style.display =\n",
              "          google.colab.kernel.accessAllowed ? 'block' : 'none';\n",
              "\n",
              "        async function convertToInteractive(key) {\n",
              "          const element = document.querySelector('#df-3e1bb766-a108-4558-9a92-a23cdead7174');\n",
              "          const dataTable =\n",
              "            await google.colab.kernel.invokeFunction('convertToInteractive',\n",
              "                                                     [key], {});\n",
              "          if (!dataTable) return;\n",
              "\n",
              "          const docLinkHtml = 'Like what you see? Visit the ' +\n",
              "            '<a target=\"_blank\" href=https://colab.research.google.com/notebooks/data_table.ipynb>data table notebook</a>'\n",
              "            + ' to learn more about interactive tables.';\n",
              "          element.innerHTML = '';\n",
              "          dataTable['output_type'] = 'display_data';\n",
              "          await google.colab.output.renderOutput(dataTable, element);\n",
              "          const docLink = document.createElement('div');\n",
              "          docLink.innerHTML = docLinkHtml;\n",
              "          element.appendChild(docLink);\n",
              "        }\n",
              "      </script>\n",
              "    </div>\n",
              "  </div>\n",
              "  "
            ]
          },
          "metadata": {},
          "execution_count": 9
        }
      ]
    },
    {
      "cell_type": "code",
      "source": [
        "cliente_not_atrito_sample = cliente_not_atrito.sample(frac=.01, random_state=42)\n",
        "cliente_not_atrito_sample"
      ],
      "metadata": {
        "colab": {
          "base_uri": "https://localhost:8080/",
          "height": 505
        },
        "id": "GxfvvKktIQL_",
        "outputId": "d4fecac3-ceff-4288-ceac-43a1ad91c891"
      },
      "execution_count": null,
      "outputs": [
        {
          "output_type": "execute_result",
          "data": {
            "text/plain": [
              "        Unnamed: 0  vlr_credito  vlr_saldo  num_atend_atrs  vlr_score  \\\n",
              "153043     9763395     0.000836   0.003676             0.0  -0.151429   \n",
              "116148     7405981     0.111865   0.002720             0.0   0.406237   \n",
              "4832        305548     0.002696   0.000208             0.0   0.155287   \n",
              "129787     8278816     0.000900   0.001012             0.0  -0.207196   \n",
              "104167     6626067     0.041504   0.000405             0.0   3.403696   \n",
              "...            ...          ...        ...             ...        ...   \n",
              "21933      1386558     0.010020   0.010504             0.0  -1.685013   \n",
              "4234        268802     0.001786   0.004035             0.0   1.012700   \n",
              "81646      5173032     0.003785   0.001600             0.0  -1.719867   \n",
              "45289      2845346     0.003228   0.004529             0.0  -1.608333   \n",
              "181641    11596443     0.010624   0.000763             0.0   0.371383   \n",
              "\n",
              "        num_produtos  num_atend  qtd_oper  qtd_reclm  qtd_restr  vlr_renda  \\\n",
              "153043      0.011494        0.0  0.011321        0.0   0.027523   0.003334   \n",
              "116148      0.000000        0.0  0.162264        0.0   0.018349   0.181553   \n",
              "4832        0.000000        0.0  0.037736        0.0   0.000000   0.004167   \n",
              "129787      0.045977        0.0  0.071698        0.0   0.000000   0.002084   \n",
              "104167      0.000000        0.0  0.143396        0.0   0.000000   0.011390   \n",
              "...              ...        ...       ...        ...        ...        ...   \n",
              "21933       0.091954        0.0  0.116981        0.0   0.100917   0.009029   \n",
              "4234        0.000000        0.0  0.037736        0.0   0.000000   0.009029   \n",
              "81646       0.022989        0.0  0.071698        0.0   0.045872   0.002084   \n",
              "45289       0.022989        0.0  0.060377        0.0   0.073394   0.002917   \n",
              "181641      0.000000        0.0  0.071698        0.0   0.018349   0.005556   \n",
              "\n",
              "        ind_atrito  ind_engaj  \n",
              "153043         0.0        0.0  \n",
              "116148         0.0        0.0  \n",
              "4832           0.0        0.0  \n",
              "129787         0.0        1.0  \n",
              "104167         0.0        0.0  \n",
              "...            ...        ...  \n",
              "21933          0.0        1.0  \n",
              "4234           0.0        0.0  \n",
              "81646          0.0        1.0  \n",
              "45289          0.0        1.0  \n",
              "181641         0.0        0.0  \n",
              "\n",
              "[1858 rows x 13 columns]"
            ],
            "text/html": [
              "\n",
              "  <div id=\"df-cddc341d-6843-4ed3-9648-8a8cae0f2292\">\n",
              "    <div class=\"colab-df-container\">\n",
              "      <div>\n",
              "<style scoped>\n",
              "    .dataframe tbody tr th:only-of-type {\n",
              "        vertical-align: middle;\n",
              "    }\n",
              "\n",
              "    .dataframe tbody tr th {\n",
              "        vertical-align: top;\n",
              "    }\n",
              "\n",
              "    .dataframe thead th {\n",
              "        text-align: right;\n",
              "    }\n",
              "</style>\n",
              "<table border=\"1\" class=\"dataframe\">\n",
              "  <thead>\n",
              "    <tr style=\"text-align: right;\">\n",
              "      <th></th>\n",
              "      <th>Unnamed: 0</th>\n",
              "      <th>vlr_credito</th>\n",
              "      <th>vlr_saldo</th>\n",
              "      <th>num_atend_atrs</th>\n",
              "      <th>vlr_score</th>\n",
              "      <th>num_produtos</th>\n",
              "      <th>num_atend</th>\n",
              "      <th>qtd_oper</th>\n",
              "      <th>qtd_reclm</th>\n",
              "      <th>qtd_restr</th>\n",
              "      <th>vlr_renda</th>\n",
              "      <th>ind_atrito</th>\n",
              "      <th>ind_engaj</th>\n",
              "    </tr>\n",
              "  </thead>\n",
              "  <tbody>\n",
              "    <tr>\n",
              "      <th>153043</th>\n",
              "      <td>9763395</td>\n",
              "      <td>0.000836</td>\n",
              "      <td>0.003676</td>\n",
              "      <td>0.0</td>\n",
              "      <td>-0.151429</td>\n",
              "      <td>0.011494</td>\n",
              "      <td>0.0</td>\n",
              "      <td>0.011321</td>\n",
              "      <td>0.0</td>\n",
              "      <td>0.027523</td>\n",
              "      <td>0.003334</td>\n",
              "      <td>0.0</td>\n",
              "      <td>0.0</td>\n",
              "    </tr>\n",
              "    <tr>\n",
              "      <th>116148</th>\n",
              "      <td>7405981</td>\n",
              "      <td>0.111865</td>\n",
              "      <td>0.002720</td>\n",
              "      <td>0.0</td>\n",
              "      <td>0.406237</td>\n",
              "      <td>0.000000</td>\n",
              "      <td>0.0</td>\n",
              "      <td>0.162264</td>\n",
              "      <td>0.0</td>\n",
              "      <td>0.018349</td>\n",
              "      <td>0.181553</td>\n",
              "      <td>0.0</td>\n",
              "      <td>0.0</td>\n",
              "    </tr>\n",
              "    <tr>\n",
              "      <th>4832</th>\n",
              "      <td>305548</td>\n",
              "      <td>0.002696</td>\n",
              "      <td>0.000208</td>\n",
              "      <td>0.0</td>\n",
              "      <td>0.155287</td>\n",
              "      <td>0.000000</td>\n",
              "      <td>0.0</td>\n",
              "      <td>0.037736</td>\n",
              "      <td>0.0</td>\n",
              "      <td>0.000000</td>\n",
              "      <td>0.004167</td>\n",
              "      <td>0.0</td>\n",
              "      <td>0.0</td>\n",
              "    </tr>\n",
              "    <tr>\n",
              "      <th>129787</th>\n",
              "      <td>8278816</td>\n",
              "      <td>0.000900</td>\n",
              "      <td>0.001012</td>\n",
              "      <td>0.0</td>\n",
              "      <td>-0.207196</td>\n",
              "      <td>0.045977</td>\n",
              "      <td>0.0</td>\n",
              "      <td>0.071698</td>\n",
              "      <td>0.0</td>\n",
              "      <td>0.000000</td>\n",
              "      <td>0.002084</td>\n",
              "      <td>0.0</td>\n",
              "      <td>1.0</td>\n",
              "    </tr>\n",
              "    <tr>\n",
              "      <th>104167</th>\n",
              "      <td>6626067</td>\n",
              "      <td>0.041504</td>\n",
              "      <td>0.000405</td>\n",
              "      <td>0.0</td>\n",
              "      <td>3.403696</td>\n",
              "      <td>0.000000</td>\n",
              "      <td>0.0</td>\n",
              "      <td>0.143396</td>\n",
              "      <td>0.0</td>\n",
              "      <td>0.000000</td>\n",
              "      <td>0.011390</td>\n",
              "      <td>0.0</td>\n",
              "      <td>0.0</td>\n",
              "    </tr>\n",
              "    <tr>\n",
              "      <th>...</th>\n",
              "      <td>...</td>\n",
              "      <td>...</td>\n",
              "      <td>...</td>\n",
              "      <td>...</td>\n",
              "      <td>...</td>\n",
              "      <td>...</td>\n",
              "      <td>...</td>\n",
              "      <td>...</td>\n",
              "      <td>...</td>\n",
              "      <td>...</td>\n",
              "      <td>...</td>\n",
              "      <td>...</td>\n",
              "      <td>...</td>\n",
              "    </tr>\n",
              "    <tr>\n",
              "      <th>21933</th>\n",
              "      <td>1386558</td>\n",
              "      <td>0.010020</td>\n",
              "      <td>0.010504</td>\n",
              "      <td>0.0</td>\n",
              "      <td>-1.685013</td>\n",
              "      <td>0.091954</td>\n",
              "      <td>0.0</td>\n",
              "      <td>0.116981</td>\n",
              "      <td>0.0</td>\n",
              "      <td>0.100917</td>\n",
              "      <td>0.009029</td>\n",
              "      <td>0.0</td>\n",
              "      <td>1.0</td>\n",
              "    </tr>\n",
              "    <tr>\n",
              "      <th>4234</th>\n",
              "      <td>268802</td>\n",
              "      <td>0.001786</td>\n",
              "      <td>0.004035</td>\n",
              "      <td>0.0</td>\n",
              "      <td>1.012700</td>\n",
              "      <td>0.000000</td>\n",
              "      <td>0.0</td>\n",
              "      <td>0.037736</td>\n",
              "      <td>0.0</td>\n",
              "      <td>0.000000</td>\n",
              "      <td>0.009029</td>\n",
              "      <td>0.0</td>\n",
              "      <td>0.0</td>\n",
              "    </tr>\n",
              "    <tr>\n",
              "      <th>81646</th>\n",
              "      <td>5173032</td>\n",
              "      <td>0.003785</td>\n",
              "      <td>0.001600</td>\n",
              "      <td>0.0</td>\n",
              "      <td>-1.719867</td>\n",
              "      <td>0.022989</td>\n",
              "      <td>0.0</td>\n",
              "      <td>0.071698</td>\n",
              "      <td>0.0</td>\n",
              "      <td>0.045872</td>\n",
              "      <td>0.002084</td>\n",
              "      <td>0.0</td>\n",
              "      <td>1.0</td>\n",
              "    </tr>\n",
              "    <tr>\n",
              "      <th>45289</th>\n",
              "      <td>2845346</td>\n",
              "      <td>0.003228</td>\n",
              "      <td>0.004529</td>\n",
              "      <td>0.0</td>\n",
              "      <td>-1.608333</td>\n",
              "      <td>0.022989</td>\n",
              "      <td>0.0</td>\n",
              "      <td>0.060377</td>\n",
              "      <td>0.0</td>\n",
              "      <td>0.073394</td>\n",
              "      <td>0.002917</td>\n",
              "      <td>0.0</td>\n",
              "      <td>1.0</td>\n",
              "    </tr>\n",
              "    <tr>\n",
              "      <th>181641</th>\n",
              "      <td>11596443</td>\n",
              "      <td>0.010624</td>\n",
              "      <td>0.000763</td>\n",
              "      <td>0.0</td>\n",
              "      <td>0.371383</td>\n",
              "      <td>0.000000</td>\n",
              "      <td>0.0</td>\n",
              "      <td>0.071698</td>\n",
              "      <td>0.0</td>\n",
              "      <td>0.018349</td>\n",
              "      <td>0.005556</td>\n",
              "      <td>0.0</td>\n",
              "      <td>0.0</td>\n",
              "    </tr>\n",
              "  </tbody>\n",
              "</table>\n",
              "<p>1858 rows × 13 columns</p>\n",
              "</div>\n",
              "      <button class=\"colab-df-convert\" onclick=\"convertToInteractive('df-cddc341d-6843-4ed3-9648-8a8cae0f2292')\"\n",
              "              title=\"Convert this dataframe to an interactive table.\"\n",
              "              style=\"display:none;\">\n",
              "        \n",
              "  <svg xmlns=\"http://www.w3.org/2000/svg\" height=\"24px\"viewBox=\"0 0 24 24\"\n",
              "       width=\"24px\">\n",
              "    <path d=\"M0 0h24v24H0V0z\" fill=\"none\"/>\n",
              "    <path d=\"M18.56 5.44l.94 2.06.94-2.06 2.06-.94-2.06-.94-.94-2.06-.94 2.06-2.06.94zm-11 1L8.5 8.5l.94-2.06 2.06-.94-2.06-.94L8.5 2.5l-.94 2.06-2.06.94zm10 10l.94 2.06.94-2.06 2.06-.94-2.06-.94-.94-2.06-.94 2.06-2.06.94z\"/><path d=\"M17.41 7.96l-1.37-1.37c-.4-.4-.92-.59-1.43-.59-.52 0-1.04.2-1.43.59L10.3 9.45l-7.72 7.72c-.78.78-.78 2.05 0 2.83L4 21.41c.39.39.9.59 1.41.59.51 0 1.02-.2 1.41-.59l7.78-7.78 2.81-2.81c.8-.78.8-2.07 0-2.86zM5.41 20L4 18.59l7.72-7.72 1.47 1.35L5.41 20z\"/>\n",
              "  </svg>\n",
              "      </button>\n",
              "      \n",
              "  <style>\n",
              "    .colab-df-container {\n",
              "      display:flex;\n",
              "      flex-wrap:wrap;\n",
              "      gap: 12px;\n",
              "    }\n",
              "\n",
              "    .colab-df-convert {\n",
              "      background-color: #E8F0FE;\n",
              "      border: none;\n",
              "      border-radius: 50%;\n",
              "      cursor: pointer;\n",
              "      display: none;\n",
              "      fill: #1967D2;\n",
              "      height: 32px;\n",
              "      padding: 0 0 0 0;\n",
              "      width: 32px;\n",
              "    }\n",
              "\n",
              "    .colab-df-convert:hover {\n",
              "      background-color: #E2EBFA;\n",
              "      box-shadow: 0px 1px 2px rgba(60, 64, 67, 0.3), 0px 1px 3px 1px rgba(60, 64, 67, 0.15);\n",
              "      fill: #174EA6;\n",
              "    }\n",
              "\n",
              "    [theme=dark] .colab-df-convert {\n",
              "      background-color: #3B4455;\n",
              "      fill: #D2E3FC;\n",
              "    }\n",
              "\n",
              "    [theme=dark] .colab-df-convert:hover {\n",
              "      background-color: #434B5C;\n",
              "      box-shadow: 0px 1px 3px 1px rgba(0, 0, 0, 0.15);\n",
              "      filter: drop-shadow(0px 1px 2px rgba(0, 0, 0, 0.3));\n",
              "      fill: #FFFFFF;\n",
              "    }\n",
              "  </style>\n",
              "\n",
              "      <script>\n",
              "        const buttonEl =\n",
              "          document.querySelector('#df-cddc341d-6843-4ed3-9648-8a8cae0f2292 button.colab-df-convert');\n",
              "        buttonEl.style.display =\n",
              "          google.colab.kernel.accessAllowed ? 'block' : 'none';\n",
              "\n",
              "        async function convertToInteractive(key) {\n",
              "          const element = document.querySelector('#df-cddc341d-6843-4ed3-9648-8a8cae0f2292');\n",
              "          const dataTable =\n",
              "            await google.colab.kernel.invokeFunction('convertToInteractive',\n",
              "                                                     [key], {});\n",
              "          if (!dataTable) return;\n",
              "\n",
              "          const docLinkHtml = 'Like what you see? Visit the ' +\n",
              "            '<a target=\"_blank\" href=https://colab.research.google.com/notebooks/data_table.ipynb>data table notebook</a>'\n",
              "            + ' to learn more about interactive tables.';\n",
              "          element.innerHTML = '';\n",
              "          dataTable['output_type'] = 'display_data';\n",
              "          await google.colab.output.renderOutput(dataTable, element);\n",
              "          const docLink = document.createElement('div');\n",
              "          docLink.innerHTML = docLinkHtml;\n",
              "          element.appendChild(docLink);\n",
              "        }\n",
              "      </script>\n",
              "    </div>\n",
              "  </div>\n",
              "  "
            ]
          },
          "metadata": {},
          "execution_count": 10
        }
      ]
    },
    {
      "cell_type": "code",
      "source": [
        "client_sample = pd.concat([cliente_atrito, cliente_not_atrito_sample]) \n",
        "client_sample"
      ],
      "metadata": {
        "colab": {
          "base_uri": "https://localhost:8080/",
          "height": 505
        },
        "id": "kP7n4u_oISG8",
        "outputId": "0e87fe18-00ff-45e4-d6f3-05d5202be3a3"
      },
      "execution_count": null,
      "outputs": [
        {
          "output_type": "execute_result",
          "data": {
            "text/plain": [
              "        Unnamed: 0  vlr_credito  vlr_saldo  num_atend_atrs  vlr_score  \\\n",
              "92            5135     0.013596   0.006807             0.0   0.894196   \n",
              "4087        259785     0.011070   0.005048             0.0   0.350471   \n",
              "5715        356685     0.035036   0.007745             0.0   0.308646   \n",
              "5753        361057     0.064191   0.031470             0.0   1.117262   \n",
              "7637        480701     0.052269   0.009075             0.0   0.636275   \n",
              "...            ...          ...        ...             ...        ...   \n",
              "21933      1386558     0.010020   0.010504             0.0  -1.685013   \n",
              "4234        268802     0.001786   0.004035             0.0   1.012700   \n",
              "81646      5173032     0.003785   0.001600             0.0  -1.719867   \n",
              "45289      2845346     0.003228   0.004529             0.0  -1.608333   \n",
              "181641    11596443     0.010624   0.000763             0.0   0.371383   \n",
              "\n",
              "        num_produtos  num_atend  qtd_oper  qtd_reclm  qtd_restr  vlr_renda  \\\n",
              "92          0.034483        0.0  0.083019        1.0   0.000000   0.018892   \n",
              "4087        0.011494        0.0  0.026415        0.0   0.000000   0.003612   \n",
              "5715        0.011494        0.0  0.018868        0.0   0.036697   0.026948   \n",
              "5753        0.022989        0.0  0.052830        1.0   0.000000   0.110432   \n",
              "7637        0.011494        0.0  0.052830        0.0   0.000000   0.111821   \n",
              "...              ...        ...       ...        ...        ...        ...   \n",
              "21933       0.091954        0.0  0.116981        0.0   0.100917   0.009029   \n",
              "4234        0.000000        0.0  0.037736        0.0   0.000000   0.009029   \n",
              "81646       0.022989        0.0  0.071698        0.0   0.045872   0.002084   \n",
              "45289       0.022989        0.0  0.060377        0.0   0.073394   0.002917   \n",
              "181641      0.000000        0.0  0.071698        0.0   0.018349   0.005556   \n",
              "\n",
              "        ind_atrito  ind_engaj  \n",
              "92             1.0        1.0  \n",
              "4087           1.0        0.0  \n",
              "5715           1.0        0.0  \n",
              "5753           1.0        1.0  \n",
              "7637           1.0        0.0  \n",
              "...            ...        ...  \n",
              "21933          0.0        1.0  \n",
              "4234           0.0        0.0  \n",
              "81646          0.0        1.0  \n",
              "45289          0.0        1.0  \n",
              "181641         0.0        0.0  \n",
              "\n",
              "[1955 rows x 13 columns]"
            ],
            "text/html": [
              "\n",
              "  <div id=\"df-527286a0-99c0-4b10-b1ac-2589ea8e09ed\">\n",
              "    <div class=\"colab-df-container\">\n",
              "      <div>\n",
              "<style scoped>\n",
              "    .dataframe tbody tr th:only-of-type {\n",
              "        vertical-align: middle;\n",
              "    }\n",
              "\n",
              "    .dataframe tbody tr th {\n",
              "        vertical-align: top;\n",
              "    }\n",
              "\n",
              "    .dataframe thead th {\n",
              "        text-align: right;\n",
              "    }\n",
              "</style>\n",
              "<table border=\"1\" class=\"dataframe\">\n",
              "  <thead>\n",
              "    <tr style=\"text-align: right;\">\n",
              "      <th></th>\n",
              "      <th>Unnamed: 0</th>\n",
              "      <th>vlr_credito</th>\n",
              "      <th>vlr_saldo</th>\n",
              "      <th>num_atend_atrs</th>\n",
              "      <th>vlr_score</th>\n",
              "      <th>num_produtos</th>\n",
              "      <th>num_atend</th>\n",
              "      <th>qtd_oper</th>\n",
              "      <th>qtd_reclm</th>\n",
              "      <th>qtd_restr</th>\n",
              "      <th>vlr_renda</th>\n",
              "      <th>ind_atrito</th>\n",
              "      <th>ind_engaj</th>\n",
              "    </tr>\n",
              "  </thead>\n",
              "  <tbody>\n",
              "    <tr>\n",
              "      <th>92</th>\n",
              "      <td>5135</td>\n",
              "      <td>0.013596</td>\n",
              "      <td>0.006807</td>\n",
              "      <td>0.0</td>\n",
              "      <td>0.894196</td>\n",
              "      <td>0.034483</td>\n",
              "      <td>0.0</td>\n",
              "      <td>0.083019</td>\n",
              "      <td>1.0</td>\n",
              "      <td>0.000000</td>\n",
              "      <td>0.018892</td>\n",
              "      <td>1.0</td>\n",
              "      <td>1.0</td>\n",
              "    </tr>\n",
              "    <tr>\n",
              "      <th>4087</th>\n",
              "      <td>259785</td>\n",
              "      <td>0.011070</td>\n",
              "      <td>0.005048</td>\n",
              "      <td>0.0</td>\n",
              "      <td>0.350471</td>\n",
              "      <td>0.011494</td>\n",
              "      <td>0.0</td>\n",
              "      <td>0.026415</td>\n",
              "      <td>0.0</td>\n",
              "      <td>0.000000</td>\n",
              "      <td>0.003612</td>\n",
              "      <td>1.0</td>\n",
              "      <td>0.0</td>\n",
              "    </tr>\n",
              "    <tr>\n",
              "      <th>5715</th>\n",
              "      <td>356685</td>\n",
              "      <td>0.035036</td>\n",
              "      <td>0.007745</td>\n",
              "      <td>0.0</td>\n",
              "      <td>0.308646</td>\n",
              "      <td>0.011494</td>\n",
              "      <td>0.0</td>\n",
              "      <td>0.018868</td>\n",
              "      <td>0.0</td>\n",
              "      <td>0.036697</td>\n",
              "      <td>0.026948</td>\n",
              "      <td>1.0</td>\n",
              "      <td>0.0</td>\n",
              "    </tr>\n",
              "    <tr>\n",
              "      <th>5753</th>\n",
              "      <td>361057</td>\n",
              "      <td>0.064191</td>\n",
              "      <td>0.031470</td>\n",
              "      <td>0.0</td>\n",
              "      <td>1.117262</td>\n",
              "      <td>0.022989</td>\n",
              "      <td>0.0</td>\n",
              "      <td>0.052830</td>\n",
              "      <td>1.0</td>\n",
              "      <td>0.000000</td>\n",
              "      <td>0.110432</td>\n",
              "      <td>1.0</td>\n",
              "      <td>1.0</td>\n",
              "    </tr>\n",
              "    <tr>\n",
              "      <th>7637</th>\n",
              "      <td>480701</td>\n",
              "      <td>0.052269</td>\n",
              "      <td>0.009075</td>\n",
              "      <td>0.0</td>\n",
              "      <td>0.636275</td>\n",
              "      <td>0.011494</td>\n",
              "      <td>0.0</td>\n",
              "      <td>0.052830</td>\n",
              "      <td>0.0</td>\n",
              "      <td>0.000000</td>\n",
              "      <td>0.111821</td>\n",
              "      <td>1.0</td>\n",
              "      <td>0.0</td>\n",
              "    </tr>\n",
              "    <tr>\n",
              "      <th>...</th>\n",
              "      <td>...</td>\n",
              "      <td>...</td>\n",
              "      <td>...</td>\n",
              "      <td>...</td>\n",
              "      <td>...</td>\n",
              "      <td>...</td>\n",
              "      <td>...</td>\n",
              "      <td>...</td>\n",
              "      <td>...</td>\n",
              "      <td>...</td>\n",
              "      <td>...</td>\n",
              "      <td>...</td>\n",
              "      <td>...</td>\n",
              "    </tr>\n",
              "    <tr>\n",
              "      <th>21933</th>\n",
              "      <td>1386558</td>\n",
              "      <td>0.010020</td>\n",
              "      <td>0.010504</td>\n",
              "      <td>0.0</td>\n",
              "      <td>-1.685013</td>\n",
              "      <td>0.091954</td>\n",
              "      <td>0.0</td>\n",
              "      <td>0.116981</td>\n",
              "      <td>0.0</td>\n",
              "      <td>0.100917</td>\n",
              "      <td>0.009029</td>\n",
              "      <td>0.0</td>\n",
              "      <td>1.0</td>\n",
              "    </tr>\n",
              "    <tr>\n",
              "      <th>4234</th>\n",
              "      <td>268802</td>\n",
              "      <td>0.001786</td>\n",
              "      <td>0.004035</td>\n",
              "      <td>0.0</td>\n",
              "      <td>1.012700</td>\n",
              "      <td>0.000000</td>\n",
              "      <td>0.0</td>\n",
              "      <td>0.037736</td>\n",
              "      <td>0.0</td>\n",
              "      <td>0.000000</td>\n",
              "      <td>0.009029</td>\n",
              "      <td>0.0</td>\n",
              "      <td>0.0</td>\n",
              "    </tr>\n",
              "    <tr>\n",
              "      <th>81646</th>\n",
              "      <td>5173032</td>\n",
              "      <td>0.003785</td>\n",
              "      <td>0.001600</td>\n",
              "      <td>0.0</td>\n",
              "      <td>-1.719867</td>\n",
              "      <td>0.022989</td>\n",
              "      <td>0.0</td>\n",
              "      <td>0.071698</td>\n",
              "      <td>0.0</td>\n",
              "      <td>0.045872</td>\n",
              "      <td>0.002084</td>\n",
              "      <td>0.0</td>\n",
              "      <td>1.0</td>\n",
              "    </tr>\n",
              "    <tr>\n",
              "      <th>45289</th>\n",
              "      <td>2845346</td>\n",
              "      <td>0.003228</td>\n",
              "      <td>0.004529</td>\n",
              "      <td>0.0</td>\n",
              "      <td>-1.608333</td>\n",
              "      <td>0.022989</td>\n",
              "      <td>0.0</td>\n",
              "      <td>0.060377</td>\n",
              "      <td>0.0</td>\n",
              "      <td>0.073394</td>\n",
              "      <td>0.002917</td>\n",
              "      <td>0.0</td>\n",
              "      <td>1.0</td>\n",
              "    </tr>\n",
              "    <tr>\n",
              "      <th>181641</th>\n",
              "      <td>11596443</td>\n",
              "      <td>0.010624</td>\n",
              "      <td>0.000763</td>\n",
              "      <td>0.0</td>\n",
              "      <td>0.371383</td>\n",
              "      <td>0.000000</td>\n",
              "      <td>0.0</td>\n",
              "      <td>0.071698</td>\n",
              "      <td>0.0</td>\n",
              "      <td>0.018349</td>\n",
              "      <td>0.005556</td>\n",
              "      <td>0.0</td>\n",
              "      <td>0.0</td>\n",
              "    </tr>\n",
              "  </tbody>\n",
              "</table>\n",
              "<p>1955 rows × 13 columns</p>\n",
              "</div>\n",
              "      <button class=\"colab-df-convert\" onclick=\"convertToInteractive('df-527286a0-99c0-4b10-b1ac-2589ea8e09ed')\"\n",
              "              title=\"Convert this dataframe to an interactive table.\"\n",
              "              style=\"display:none;\">\n",
              "        \n",
              "  <svg xmlns=\"http://www.w3.org/2000/svg\" height=\"24px\"viewBox=\"0 0 24 24\"\n",
              "       width=\"24px\">\n",
              "    <path d=\"M0 0h24v24H0V0z\" fill=\"none\"/>\n",
              "    <path d=\"M18.56 5.44l.94 2.06.94-2.06 2.06-.94-2.06-.94-.94-2.06-.94 2.06-2.06.94zm-11 1L8.5 8.5l.94-2.06 2.06-.94-2.06-.94L8.5 2.5l-.94 2.06-2.06.94zm10 10l.94 2.06.94-2.06 2.06-.94-2.06-.94-.94-2.06-.94 2.06-2.06.94z\"/><path d=\"M17.41 7.96l-1.37-1.37c-.4-.4-.92-.59-1.43-.59-.52 0-1.04.2-1.43.59L10.3 9.45l-7.72 7.72c-.78.78-.78 2.05 0 2.83L4 21.41c.39.39.9.59 1.41.59.51 0 1.02-.2 1.41-.59l7.78-7.78 2.81-2.81c.8-.78.8-2.07 0-2.86zM5.41 20L4 18.59l7.72-7.72 1.47 1.35L5.41 20z\"/>\n",
              "  </svg>\n",
              "      </button>\n",
              "      \n",
              "  <style>\n",
              "    .colab-df-container {\n",
              "      display:flex;\n",
              "      flex-wrap:wrap;\n",
              "      gap: 12px;\n",
              "    }\n",
              "\n",
              "    .colab-df-convert {\n",
              "      background-color: #E8F0FE;\n",
              "      border: none;\n",
              "      border-radius: 50%;\n",
              "      cursor: pointer;\n",
              "      display: none;\n",
              "      fill: #1967D2;\n",
              "      height: 32px;\n",
              "      padding: 0 0 0 0;\n",
              "      width: 32px;\n",
              "    }\n",
              "\n",
              "    .colab-df-convert:hover {\n",
              "      background-color: #E2EBFA;\n",
              "      box-shadow: 0px 1px 2px rgba(60, 64, 67, 0.3), 0px 1px 3px 1px rgba(60, 64, 67, 0.15);\n",
              "      fill: #174EA6;\n",
              "    }\n",
              "\n",
              "    [theme=dark] .colab-df-convert {\n",
              "      background-color: #3B4455;\n",
              "      fill: #D2E3FC;\n",
              "    }\n",
              "\n",
              "    [theme=dark] .colab-df-convert:hover {\n",
              "      background-color: #434B5C;\n",
              "      box-shadow: 0px 1px 3px 1px rgba(0, 0, 0, 0.15);\n",
              "      filter: drop-shadow(0px 1px 2px rgba(0, 0, 0, 0.3));\n",
              "      fill: #FFFFFF;\n",
              "    }\n",
              "  </style>\n",
              "\n",
              "      <script>\n",
              "        const buttonEl =\n",
              "          document.querySelector('#df-527286a0-99c0-4b10-b1ac-2589ea8e09ed button.colab-df-convert');\n",
              "        buttonEl.style.display =\n",
              "          google.colab.kernel.accessAllowed ? 'block' : 'none';\n",
              "\n",
              "        async function convertToInteractive(key) {\n",
              "          const element = document.querySelector('#df-527286a0-99c0-4b10-b1ac-2589ea8e09ed');\n",
              "          const dataTable =\n",
              "            await google.colab.kernel.invokeFunction('convertToInteractive',\n",
              "                                                     [key], {});\n",
              "          if (!dataTable) return;\n",
              "\n",
              "          const docLinkHtml = 'Like what you see? Visit the ' +\n",
              "            '<a target=\"_blank\" href=https://colab.research.google.com/notebooks/data_table.ipynb>data table notebook</a>'\n",
              "            + ' to learn more about interactive tables.';\n",
              "          element.innerHTML = '';\n",
              "          dataTable['output_type'] = 'display_data';\n",
              "          await google.colab.output.renderOutput(dataTable, element);\n",
              "          const docLink = document.createElement('div');\n",
              "          docLink.innerHTML = docLinkHtml;\n",
              "          element.appendChild(docLink);\n",
              "        }\n",
              "      </script>\n",
              "    </div>\n",
              "  </div>\n",
              "  "
            ]
          },
          "metadata": {},
          "execution_count": 11
        }
      ]
    },
    {
      "cell_type": "markdown",
      "source": [
        "##Treinamento Teste"
      ],
      "metadata": {
        "id": "3CuSz6b4OstP"
      }
    },
    {
      "cell_type": "code",
      "source": [
        "from sklearn.model_selection import train_test_split\n",
        "from imblearn.over_sampling import SMOTE\n",
        "import matplotlib.pyplot as plt\n",
        "\n",
        "cols = ['vlr_saldo','vlr_credito', 'num_atend_atrs', 'qtd_reclm','vlr_renda','num_atend', 'num_produtos', 'qtd_oper', 'vlr_score', 'qtd_restr'] #Features que usaremos para treinar o modelo.\n",
        "\n",
        "# Dividindo x e y\n",
        "x = client_sample[cols]\n",
        "y = client_sample['ind_atrito']\n",
        "\n",
        "print(y.shape, y[y==1].shape)\n",
        "\n",
        "\n",
        "sm = SMOTE(random_state=42, sampling_strategy=\"auto\")\n",
        "X_res, y_res = sm.fit_resample(x, y)\n",
        "\n",
        "print(y_res.shape, y_res[y_res==0].shape, y_res[y_res==1].shape)\n",
        "\n",
        "# Dividindo dados para treino e dados para teste\n",
        "x_train, x_test, y_train, y_test = train_test_split(X_res, y_res, test_size = 0.2, random_state = 42)"
      ],
      "metadata": {
        "id": "vygOZnWBOwnr",
        "colab": {
          "base_uri": "https://localhost:8080/"
        },
        "outputId": "e5e9e220-1063-4123-869e-f394dbd974ab"
      },
      "execution_count": null,
      "outputs": [
        {
          "output_type": "stream",
          "name": "stdout",
          "text": [
            "(1955,) (97,)\n",
            "(3716,) (1858,) (1858,)\n"
          ]
        }
      ]
    },
    {
      "cell_type": "markdown",
      "source": [
        "##KNN "
      ],
      "metadata": {
        "id": "oZZtAuwu9shJ"
      }
    },
    {
      "cell_type": "code",
      "source": [
        "from sklearn.neighbors import KNeighborsClassifier\n",
        "\n",
        "kn_n = KNeighborsClassifier(n_neighbors=3) # Guardamos a função do modelo com o parâmetro previamente escolhido na variável.\n",
        "kn_n.fit(x_train, y_train) # Treina o modelo."
      ],
      "metadata": {
        "id": "U2K_9u2dPDYP",
        "colab": {
          "base_uri": "https://localhost:8080/"
        },
        "outputId": "8f7009a0-4f8a-4a00-e1a6-d8fc81e78b66"
      },
      "execution_count": null,
      "outputs": [
        {
          "output_type": "execute_result",
          "data": {
            "text/plain": [
              "KNeighborsClassifier(n_neighbors=3)"
            ]
          },
          "metadata": {},
          "execution_count": 13
        }
      ]
    },
    {
      "cell_type": "code",
      "source": [
        "y_pred_knn = kn_n.predict(x_test) # Guarda a predição do teste na variável.\n"
      ],
      "metadata": {
        "id": "RXBLdfS1UZ7i"
      },
      "execution_count": null,
      "outputs": []
    },
    {
      "cell_type": "markdown",
      "source": [
        "###Métricas"
      ],
      "metadata": {
        "id": "S_9qTe-mUenB"
      }
    },
    {
      "cell_type": "code",
      "source": [
        "from sklearn.metrics import accuracy_score\n",
        "accuracy_score(y_test, y_pred_knn) # Mostra a acurácia do modelo."
      ],
      "metadata": {
        "id": "CrJCbLjsUgh8",
        "colab": {
          "base_uri": "https://localhost:8080/"
        },
        "outputId": "32eef1a0-6b0b-4273-eed2-886bf530619c"
      },
      "execution_count": null,
      "outputs": [
        {
          "output_type": "execute_result",
          "data": {
            "text/plain": [
              "0.8696236559139785"
            ]
          },
          "metadata": {},
          "execution_count": 15
        }
      ]
    },
    {
      "cell_type": "code",
      "source": [
        "from sklearn.metrics import precision_score\n",
        "precision_score(y_test, y_pred_knn) # Mostra a precisão do modelo."
      ],
      "metadata": {
        "id": "vb1xqN5xUg5Z",
        "colab": {
          "base_uri": "https://localhost:8080/"
        },
        "outputId": "22eeed7f-2c1d-4451-b35a-e37af2578e71"
      },
      "execution_count": null,
      "outputs": [
        {
          "output_type": "execute_result",
          "data": {
            "text/plain": [
              "0.7966507177033493"
            ]
          },
          "metadata": {},
          "execution_count": 16
        }
      ]
    },
    {
      "cell_type": "code",
      "source": [
        "from sklearn.metrics import recall_score\n",
        "recall_score(y_test, y_pred_knn) # Mostra a revocação do modelo."
      ],
      "metadata": {
        "id": "SklKokxWUhPB",
        "colab": {
          "base_uri": "https://localhost:8080/"
        },
        "outputId": "cc13171e-a4a7-4821-c5b5-d29e4edf5176"
      },
      "execution_count": null,
      "outputs": [
        {
          "output_type": "execute_result",
          "data": {
            "text/plain": [
              "0.9652173913043478"
            ]
          },
          "metadata": {},
          "execution_count": 17
        }
      ]
    },
    {
      "cell_type": "markdown",
      "source": [
        "###Matriz de confusão"
      ],
      "metadata": {
        "id": "KIfA432tVCax"
      }
    },
    {
      "cell_type": "code",
      "source": [
        "from sklearn.metrics import plot_confusion_matrix\n",
        "plot_confusion_matrix(kn_n,x_test,y_test, cmap='Blues') # Plota a matriz de confusão do modelo."
      ],
      "metadata": {
        "id": "knCme2GiU9SB",
        "colab": {
          "base_uri": "https://localhost:8080/",
          "height": 296
        },
        "outputId": "60339878-dc30-46c2-8807-8aa51bf3008d"
      },
      "execution_count": null,
      "outputs": [
        {
          "output_type": "execute_result",
          "data": {
            "text/plain": [
              "<sklearn.metrics._plot.confusion_matrix.ConfusionMatrixDisplay at 0x7f72c970e590>"
            ]
          },
          "metadata": {},
          "execution_count": 18
        },
        {
          "output_type": "display_data",
          "data": {
            "text/plain": [
              "<Figure size 432x288 with 2 Axes>"
            ],
            "image/png": "[encoded data removed]"
          },
          "metadata": {
            "needs_background": "light"
          }
        }
      ]
    },
    {
      "cell_type": "markdown",
      "source": [
        "##Árvore de decisão"
      ],
      "metadata": {
        "id": "UUr6DkgvDkRj"
      }
    },
    {
      "cell_type": "code",
      "source": [
        "from sklearn.model_selection import train_test_split\n",
        "from sklearn.tree import DecisionTreeClassifier\n",
        "\n",
        "avd = DecisionTreeClassifier(criterion='entropy', random_state=42) # Guardamos a função do modelo com o parâmetro previamente escolhido na variável.\n",
        "avd.fit(x_train, y_train) # Treina o modelo."
      ],
      "metadata": {
        "id": "Gt9I27vVShAy",
        "colab": {
          "base_uri": "https://localhost:8080/"
        },
        "outputId": "a028793d-f271-4755-f6ce-52c38115091e"
      },
      "execution_count": null,
      "outputs": [
        {
          "output_type": "execute_result",
          "data": {
            "text/plain": [
              "DecisionTreeClassifier(criterion='entropy', random_state=42)"
            ]
          },
          "metadata": {},
          "execution_count": 19
        }
      ]
    },
    {
      "cell_type": "code",
      "source": [
        "y_pred_avd = avd.predict(x_test) # Guarda a predição do teste na variável.\n",
        "y_pred_avd"
      ],
      "metadata": {
        "id": "7DpjbLq7Slg3",
        "colab": {
          "base_uri": "https://localhost:8080/"
        },
        "outputId": "f14e5053-eefd-4324-dbf8-ff2272b5e526"
      },
      "execution_count": null,
      "outputs": [
        {
          "output_type": "execute_result",
          "data": {
            "text/plain": [
              "array([0., 0., 0., 1., 0., 0., 1., 0., 1., 1., 0., 0., 0., 1., 1., 0., 0.,\n",
              "       0., 0., 1., 1., 1., 0., 1., 0., 1., 0., 0., 0., 0., 1., 0., 1., 0.,\n",
              "       0., 1., 1., 0., 1., 0., 0., 1., 1., 0., 1., 1., 0., 0., 1., 0., 1.,\n",
              "       0., 0., 1., 0., 1., 0., 1., 0., 1., 0., 1., 0., 0., 1., 0., 1., 0.,\n",
              "       0., 0., 1., 1., 1., 0., 0., 0., 0., 1., 0., 1., 0., 0., 0., 1., 1.,\n",
              "       0., 0., 0., 0., 0., 1., 0., 0., 1., 0., 0., 0., 0., 1., 0., 1., 0.,\n",
              "       0., 0., 0., 1., 1., 0., 1., 1., 0., 0., 0., 0., 0., 1., 1., 1., 0.,\n",
              "       0., 1., 0., 1., 1., 0., 0., 1., 1., 0., 0., 0., 1., 1., 1., 1., 1.,\n",
              "       1., 1., 0., 1., 0., 1., 1., 0., 0., 1., 1., 1., 1., 0., 1., 1., 1.,\n",
              "       0., 0., 1., 0., 0., 1., 1., 0., 1., 1., 0., 0., 0., 1., 0., 0., 1.,\n",
              "       0., 1., 0., 0., 0., 1., 0., 1., 0., 0., 1., 0., 0., 1., 1., 1., 1.,\n",
              "       1., 1., 0., 1., 1., 0., 0., 1., 0., 0., 0., 1., 1., 1., 1., 0., 0.,\n",
              "       1., 0., 0., 0., 1., 0., 0., 1., 0., 1., 0., 0., 1., 0., 0., 1., 1.,\n",
              "       0., 0., 1., 1., 0., 0., 0., 0., 0., 0., 1., 1., 0., 0., 0., 0., 1.,\n",
              "       1., 0., 0., 0., 1., 1., 0., 0., 0., 1., 1., 0., 1., 1., 0., 0., 1.,\n",
              "       1., 1., 0., 0., 1., 1., 0., 0., 0., 0., 1., 0., 0., 0., 1., 0., 0.,\n",
              "       1., 0., 1., 0., 1., 0., 1., 1., 1., 0., 1., 1., 1., 0., 0., 1., 1.,\n",
              "       1., 0., 0., 1., 1., 0., 0., 1., 0., 0., 1., 0., 1., 1., 0., 1., 1.,\n",
              "       0., 0., 0., 1., 1., 0., 1., 0., 1., 1., 0., 0., 1., 1., 1., 0., 1.,\n",
              "       1., 1., 1., 0., 1., 1., 0., 1., 0., 0., 1., 0., 0., 0., 1., 0., 1.,\n",
              "       0., 0., 0., 0., 0., 0., 1., 0., 0., 1., 1., 1., 1., 0., 1., 0., 1.,\n",
              "       0., 1., 0., 1., 0., 1., 1., 1., 0., 0., 0., 0., 0., 1., 1., 1., 1.,\n",
              "       1., 0., 0., 1., 0., 0., 1., 1., 0., 1., 0., 1., 1., 1., 0., 1., 0.,\n",
              "       1., 0., 1., 0., 1., 1., 0., 1., 0., 0., 1., 0., 1., 1., 0., 0., 1.,\n",
              "       0., 0., 1., 0., 1., 1., 1., 1., 0., 0., 0., 0., 1., 1., 1., 0., 0.,\n",
              "       1., 1., 0., 0., 0., 0., 1., 1., 1., 1., 1., 0., 1., 0., 0., 1., 1.,\n",
              "       0., 0., 1., 1., 1., 0., 0., 1., 1., 0., 0., 0., 0., 0., 0., 1., 1.,\n",
              "       0., 0., 0., 0., 0., 1., 1., 1., 0., 1., 1., 1., 0., 1., 1., 0., 0.,\n",
              "       0., 1., 0., 0., 0., 0., 1., 0., 1., 1., 1., 1., 0., 0., 0., 1., 1.,\n",
              "       0., 1., 1., 1., 1., 1., 1., 1., 1., 1., 1., 1., 1., 0., 0., 1., 1.,\n",
              "       0., 1., 1., 1., 0., 0., 1., 0., 0., 0., 1., 1., 1., 0., 0., 0., 0.,\n",
              "       1., 1., 1., 1., 0., 0., 0., 1., 1., 0., 0., 1., 1., 1., 0., 0., 0.,\n",
              "       0., 0., 0., 0., 0., 0., 0., 1., 0., 1., 1., 0., 1., 0., 1., 0., 0.,\n",
              "       0., 0., 1., 0., 0., 1., 1., 0., 0., 1., 0., 0., 0., 0., 0., 0., 0.,\n",
              "       0., 1., 0., 0., 0., 0., 1., 0., 1., 1., 0., 1., 0., 1., 0., 1., 0.,\n",
              "       0., 1., 0., 1., 1., 0., 0., 0., 1., 0., 1., 0., 0., 1., 0., 1., 1.,\n",
              "       0., 1., 0., 0., 0., 1., 1., 1., 1., 0., 0., 0., 0., 1., 0., 0., 1.,\n",
              "       1., 0., 1., 1., 1., 0., 0., 0., 0., 0., 0., 1., 0., 0., 1., 0., 0.,\n",
              "       1., 0., 1., 1., 1., 0., 1., 1., 0., 0., 1., 1., 0., 0., 1., 0., 1.,\n",
              "       0., 0., 1., 1., 1., 0., 1., 0., 1., 1., 0., 1., 0., 0., 1., 0., 1.,\n",
              "       1., 0., 0., 0., 0., 1., 1., 1., 0., 0., 0., 1., 1., 1., 0., 0., 1.,\n",
              "       1., 1., 0., 0., 0., 1., 0., 0., 0., 0., 1., 0., 1., 1., 1., 1., 0.,\n",
              "       0., 1., 1., 1., 0., 1., 1., 1., 1., 0., 0., 1., 1., 1., 0., 1., 1.,\n",
              "       0., 1., 1., 0., 1., 1., 1., 0., 0., 1., 0., 1., 1.])"
            ]
          },
          "metadata": {},
          "execution_count": 20
        }
      ]
    },
    {
      "cell_type": "markdown",
      "source": [
        "###Metricas"
      ],
      "metadata": {
        "id": "4c3zaL5DSyqJ"
      }
    },
    {
      "cell_type": "markdown",
      "source": [
        "Acuracia"
      ],
      "metadata": {
        "id": "T3YJgczvTLTb"
      }
    },
    {
      "cell_type": "code",
      "source": [
        "from sklearn.metrics import accuracy_score\n",
        "accuracy_score(y_test, y_pred_avd) # Mostra a acurácia do modelo."
      ],
      "metadata": {
        "id": "RFGTNR05S1kB",
        "colab": {
          "base_uri": "https://localhost:8080/"
        },
        "outputId": "9154c955-617b-43b0-b069-f66517586b00"
      },
      "execution_count": null,
      "outputs": [
        {
          "output_type": "execute_result",
          "data": {
            "text/plain": [
              "0.9395161290322581"
            ]
          },
          "metadata": {},
          "execution_count": 21
        }
      ]
    },
    {
      "cell_type": "markdown",
      "source": [
        "Precisão"
      ],
      "metadata": {
        "id": "cZ_T_WxcTNky"
      }
    },
    {
      "cell_type": "code",
      "source": [
        "from sklearn.metrics import precision_score\n",
        "precision_score(y_test, y_pred_avd) # Mostra a precisão do modelo."
      ],
      "metadata": {
        "id": "J0YwCh02S6oP",
        "colab": {
          "base_uri": "https://localhost:8080/"
        },
        "outputId": "f2414ac2-de88-4316-8438-cfcae2afdbce"
      },
      "execution_count": null,
      "outputs": [
        {
          "output_type": "execute_result",
          "data": {
            "text/plain": [
              "0.923728813559322"
            ]
          },
          "metadata": {},
          "execution_count": 22
        }
      ]
    },
    {
      "cell_type": "markdown",
      "source": [
        "Recall"
      ],
      "metadata": {
        "id": "VWxDsiiWTPWR"
      }
    },
    {
      "cell_type": "code",
      "source": [
        "from sklearn.metrics import recall_score\n",
        "recall_score(y_test, y_pred_avd) # Mostra a revocação do modelo."
      ],
      "metadata": {
        "id": "Hfqzd7jWTCZJ",
        "colab": {
          "base_uri": "https://localhost:8080/"
        },
        "outputId": "7ef050d7-57a2-439c-965e-3ec3ceeddeff"
      },
      "execution_count": null,
      "outputs": [
        {
          "output_type": "execute_result",
          "data": {
            "text/plain": [
              "0.9478260869565217"
            ]
          },
          "metadata": {},
          "execution_count": 23
        }
      ]
    },
    {
      "cell_type": "markdown",
      "source": [
        "###Matriz de confusão"
      ],
      "metadata": {
        "id": "VGuU9uewTecb"
      }
    },
    {
      "cell_type": "code",
      "source": [
        "plot_confusion_matrix(avd,x_test,y_test, cmap='Blues') # Plota a matriz de confusão do modelo."
      ],
      "metadata": {
        "id": "1FAqMJDETieu",
        "colab": {
          "base_uri": "https://localhost:8080/",
          "height": 296
        },
        "outputId": "3f35696c-4535-4601-dd28-2dbede0e5304"
      },
      "execution_count": null,
      "outputs": [
        {
          "output_type": "execute_result",
          "data": {
            "text/plain": [
              "<sklearn.metrics._plot.confusion_matrix.ConfusionMatrixDisplay at 0x7f72c95a3710>"
            ]
          },
          "metadata": {},
          "execution_count": 24
        },
        {
          "output_type": "display_data",
          "data": {
            "text/plain": [
              "<Figure size 432x288 with 2 Axes>"
            ],
            "image/png": "[encoded data removed]"
          },
          "metadata": {
            "needs_background": "light"
          }
        }
      ]
    },
    {
      "cell_type": "markdown",
      "source": [
        "##SVM"
      ],
      "metadata": {
        "id": "6Ie_Ih6JPhbY"
      }
    },
    {
      "cell_type": "code",
      "source": [
        "from sklearn import svm\n",
        "clf = svm.SVC() # Guardamos a função do modelo com o parâmetro previamente escolhido na variável.\n",
        "clf.fit(x_train, y_train) # Treina o modelo.\n",
        "clf"
      ],
      "metadata": {
        "id": "C4-soHMgPjdb",
        "colab": {
          "base_uri": "https://localhost:8080/"
        },
        "outputId": "fafd2666-c8f2-43a9-af2a-9bc76f72fe94"
      },
      "execution_count": null,
      "outputs": [
        {
          "output_type": "execute_result",
          "data": {
            "text/plain": [
              "SVC()"
            ]
          },
          "metadata": {},
          "execution_count": 25
        }
      ]
    },
    {
      "cell_type": "code",
      "source": [
        "y_pred_clf =clf.predict(x_test) # Guarda a predição do teste na variável."
      ],
      "metadata": {
        "id": "Oj9zFuJGPsdE"
      },
      "execution_count": null,
      "outputs": []
    },
    {
      "cell_type": "code",
      "source": [
        "y_pred_clf"
      ],
      "metadata": {
        "id": "5TQLDqvDPu4E",
        "colab": {
          "base_uri": "https://localhost:8080/"
        },
        "outputId": "9f8641ce-5afd-41c6-8447-8b0eab00b0b6"
      },
      "execution_count": null,
      "outputs": [
        {
          "output_type": "execute_result",
          "data": {
            "text/plain": [
              "array([1., 0., 0., 0., 0., 0., 0., 0., 1., 1., 0., 0., 0., 0., 0., 0., 0.,\n",
              "       0., 0., 0., 0., 0., 0., 0., 0., 0., 0., 0., 0., 0., 0., 0., 1., 0.,\n",
              "       0., 1., 0., 0., 0., 1., 0., 0., 0., 0., 0., 0., 0., 0., 1., 0., 0.,\n",
              "       0., 0., 0., 0., 1., 0., 1., 0., 1., 0., 1., 0., 0., 0., 0., 1., 0.,\n",
              "       0., 0., 1., 0., 1., 0., 0., 0., 0., 0., 0., 1., 0., 0., 0., 0., 0.,\n",
              "       0., 0., 0., 0., 0., 1., 0., 0., 0., 0., 0., 0., 0., 0., 0., 0., 0.,\n",
              "       0., 1., 0., 0., 0., 0., 1., 0., 0., 0., 0., 0., 0., 1., 1., 0., 0.,\n",
              "       0., 0., 0., 1., 1., 1., 0., 0., 1., 0., 0., 0., 1., 0., 0., 1., 0.,\n",
              "       0., 0., 0., 1., 0., 1., 0., 0., 0., 0., 0., 1., 0., 0., 0., 0., 1.,\n",
              "       0., 0., 1., 0., 0., 0., 1., 0., 0., 0., 0., 0., 0., 0., 0., 0., 0.,\n",
              "       0., 0., 0., 0., 0., 0., 0., 0., 0., 0., 0., 0., 0., 0., 0., 1., 1.,\n",
              "       0., 1., 0., 1., 0., 0., 0., 0., 0., 0., 0., 0., 0., 1., 0., 0., 0.,\n",
              "       1., 0., 0., 0., 0., 0., 0., 1., 0., 1., 0., 0., 0., 0., 0., 0., 1.,\n",
              "       0., 0., 0., 0., 0., 0., 0., 0., 0., 0., 0., 0., 0., 0., 0., 0., 1.,\n",
              "       1., 0., 0., 0., 0., 1., 0., 0., 0., 0., 1., 0., 0., 1., 0., 0., 0.,\n",
              "       1., 0., 0., 0., 1., 1., 0., 0., 0., 0., 0., 0., 0., 0., 1., 0., 0.,\n",
              "       1., 0., 0., 0., 0., 0., 1., 0., 0., 0., 0., 0., 0., 0., 0., 1., 0.,\n",
              "       0., 0., 0., 1., 0., 0., 0., 1., 0., 0., 0., 0., 0., 0., 0., 0., 0.,\n",
              "       0., 0., 0., 0., 0., 0., 1., 0., 0., 0., 0., 0., 0., 1., 1., 0., 1.,\n",
              "       1., 0., 1., 0., 0., 0., 0., 0., 0., 0., 1., 0., 0., 0., 0., 0., 0.,\n",
              "       0., 0., 0., 0., 0., 0., 1., 0., 0., 0., 1., 1., 0., 0., 0., 0., 1.,\n",
              "       0., 0., 0., 0., 0., 0., 0., 0., 0., 0., 0., 0., 0., 1., 0., 1., 0.,\n",
              "       0., 0., 0., 0., 0., 0., 0., 1., 0., 0., 0., 0., 0., 1., 0., 0., 0.,\n",
              "       1., 0., 0., 0., 0., 1., 0., 1., 0., 0., 0., 0., 1., 0., 0., 0., 0.,\n",
              "       0., 0., 1., 0., 0., 0., 1., 0., 0., 0., 0., 0., 0., 0., 1., 0., 0.,\n",
              "       1., 0., 0., 0., 0., 0., 0., 1., 0., 1., 1., 0., 1., 0., 0., 1., 0.,\n",
              "       0., 0., 0., 1., 0., 0., 0., 1., 1., 0., 0., 0., 0., 0., 0., 0., 0.,\n",
              "       0., 0., 0., 0., 0., 0., 0., 1., 0., 0., 0., 1., 0., 0., 0., 0., 0.,\n",
              "       0., 0., 0., 0., 0., 0., 0., 0., 1., 0., 0., 0., 0., 0., 0., 0., 0.,\n",
              "       0., 0., 0., 0., 1., 0., 0., 0., 1., 0., 0., 0., 1., 0., 0., 0., 0.,\n",
              "       0., 1., 0., 0., 0., 0., 0., 0., 0., 0., 0., 0., 1., 0., 0., 0., 0.,\n",
              "       0., 0., 0., 1., 0., 0., 0., 1., 0., 0., 0., 0., 1., 0., 0., 0., 0.,\n",
              "       0., 0., 0., 0., 0., 0., 0., 0., 0., 0., 0., 0., 0., 0., 0., 0., 0.,\n",
              "       0., 0., 0., 0., 0., 1., 0., 0., 0., 1., 0., 0., 0., 0., 0., 0., 0.,\n",
              "       0., 0., 1., 0., 0., 0., 0., 0., 0., 0., 0., 0., 0., 0., 0., 0., 0.,\n",
              "       0., 0., 0., 0., 1., 0., 0., 0., 0., 0., 0., 0., 0., 1., 0., 1., 1.,\n",
              "       0., 1., 0., 0., 0., 0., 0., 1., 0., 0., 0., 0., 0., 0., 0., 0., 0.,\n",
              "       1., 0., 0., 0., 0., 0., 0., 0., 0., 0., 0., 0., 0., 0., 1., 0., 0.,\n",
              "       0., 0., 1., 0., 1., 0., 1., 1., 0., 0., 0., 0., 0., 0., 0., 0., 0.,\n",
              "       0., 0., 0., 1., 1., 0., 1., 0., 0., 0., 0., 1., 0., 0., 0., 0., 0.,\n",
              "       0., 0., 0., 0., 0., 0., 0., 0., 0., 0., 0., 0., 0., 1., 0., 0., 0.,\n",
              "       1., 0., 0., 0., 0., 0., 0., 0., 0., 0., 1., 0., 0., 0., 0., 0., 0.,\n",
              "       0., 1., 1., 0., 0., 0., 0., 0., 0., 0., 0., 0., 1., 1., 0., 0., 0.,\n",
              "       0., 0., 1., 0., 1., 0., 0., 0., 0., 1., 0., 0., 0.])"
            ]
          },
          "metadata": {},
          "execution_count": 27
        }
      ]
    },
    {
      "cell_type": "markdown",
      "source": [
        "### Metricas"
      ],
      "metadata": {
        "id": "nJBVOWdaP5Y1"
      }
    },
    {
      "cell_type": "code",
      "source": [
        "from sklearn.metrics import accuracy_score\n",
        "accuracy_score(y_test, y_pred_clf) # Mostra a acurácia do modelo."
      ],
      "metadata": {
        "id": "VAEa-rvmPz0K",
        "colab": {
          "base_uri": "https://localhost:8080/"
        },
        "outputId": "134982d3-8cee-4603-bd01-2093a593a37d"
      },
      "execution_count": null,
      "outputs": [
        {
          "output_type": "execute_result",
          "data": {
            "text/plain": [
              "0.7029569892473119"
            ]
          },
          "metadata": {},
          "execution_count": 28
        }
      ]
    },
    {
      "cell_type": "code",
      "source": [
        "from sklearn.metrics import precision_score\n",
        "precision_score(y_test, y_pred_clf) # Mostra a precisão do modelo."
      ],
      "metadata": {
        "id": "b9CGoiHqQrxO",
        "colab": {
          "base_uri": "https://localhost:8080/"
        },
        "outputId": "59b10104-2aa1-491b-a95a-48a0986302fd"
      },
      "execution_count": null,
      "outputs": [
        {
          "output_type": "execute_result",
          "data": {
            "text/plain": [
              "0.9920634920634921"
            ]
          },
          "metadata": {},
          "execution_count": 29
        }
      ]
    },
    {
      "cell_type": "code",
      "source": [
        "from sklearn.metrics import recall_score\n",
        "recall_score(y_test, y_pred_clf) # Mostra a revocação do modelo."
      ],
      "metadata": {
        "id": "3AyFEK3nQv2O",
        "colab": {
          "base_uri": "https://localhost:8080/"
        },
        "outputId": "95d33994-261f-45cc-f22e-f7f2275ddf58"
      },
      "execution_count": null,
      "outputs": [
        {
          "output_type": "execute_result",
          "data": {
            "text/plain": [
              "0.36231884057971014"
            ]
          },
          "metadata": {},
          "execution_count": 30
        }
      ]
    },
    {
      "cell_type": "code",
      "source": [
        "from sklearn.metrics import confusion_matrix\n",
        "plot_confusion_matrix(clf,x_test,y_test, cmap='Blues') # Plota a matriz de confusão do modelo."
      ],
      "metadata": {
        "id": "HYCOtsgAP7Vx",
        "colab": {
          "base_uri": "https://localhost:8080/",
          "height": 296
        },
        "outputId": "c0a1448d-8cea-4985-e34a-aa7c6325dc68"
      },
      "execution_count": null,
      "outputs": [
        {
          "output_type": "execute_result",
          "data": {
            "text/plain": [
              "<sklearn.metrics._plot.confusion_matrix.ConfusionMatrixDisplay at 0x7f72c90a9d50>"
            ]
          },
          "metadata": {},
          "execution_count": 31
        },
        {
          "output_type": "display_data",
          "data": {
            "text/plain": [
              "<Figure size 432x288 with 2 Axes>"
            ],
            "image/png": "[encoded data removed]"
          },
          "metadata": {
            "needs_background": "light"
          }
        }
      ]
    },
    {
      "cell_type": "markdown",
      "source": [
        "##Random Forest"
      ],
      "metadata": {
        "id": "JBbo9NueQ2c7"
      }
    },
    {
      "cell_type": "code",
      "source": [
        "from sklearn.ensemble import RandomForestClassifier\n",
        "from sklearn.metrics import plot_confusion_matrix\n",
        "\n",
        "rdf = RandomForestClassifier() # Guardamos a função do modelo com o parâmetro previamente escolhido na variável.\n",
        "rdf.fit(x_train, y_train) # Treina o modelo.\n"
      ],
      "metadata": {
        "id": "PYI_gLXAQ5rs",
        "colab": {
          "base_uri": "https://localhost:8080/"
        },
        "outputId": "359fe55b-e0c0-48fb-f610-4daf51636139"
      },
      "execution_count": null,
      "outputs": [
        {
          "output_type": "execute_result",
          "data": {
            "text/plain": [
              "RandomForestClassifier()"
            ]
          },
          "metadata": {},
          "execution_count": 32
        }
      ]
    },
    {
      "cell_type": "code",
      "source": [
        "y_pred_rdf = rdf.predict(x_test) # Guarda a predição do teste na variável."
      ],
      "metadata": {
        "id": "Z-SN0VCyRAyd"
      },
      "execution_count": null,
      "outputs": []
    },
    {
      "cell_type": "markdown",
      "source": [
        "###Metricas"
      ],
      "metadata": {
        "id": "79ppsZbPRSX0"
      }
    },
    {
      "cell_type": "markdown",
      "source": [
        "Acuracia"
      ],
      "metadata": {
        "id": "Qnay7brsRUhB"
      }
    },
    {
      "cell_type": "code",
      "source": [
        "from sklearn.metrics import accuracy_score\n",
        "accuracy_score(y_test, y_pred_rdf) # Mostra a acurácia do modelo."
      ],
      "metadata": {
        "id": "_LyNdUN8RO66",
        "colab": {
          "base_uri": "https://localhost:8080/"
        },
        "outputId": "3b5411b4-9321-4303-d28f-9ca824175552"
      },
      "execution_count": null,
      "outputs": [
        {
          "output_type": "execute_result",
          "data": {
            "text/plain": [
              "0.9758064516129032"
            ]
          },
          "metadata": {},
          "execution_count": 34
        }
      ]
    },
    {
      "cell_type": "markdown",
      "source": [
        "Precisão"
      ],
      "metadata": {
        "id": "M1Ixi_5DRXbR"
      }
    },
    {
      "cell_type": "code",
      "source": [
        "from sklearn.metrics import precision_score\n",
        "precision_score(y_test, y_pred_rdf) # Mostra a precisão do modelo."
      ],
      "metadata": {
        "id": "mSRTBO9SRXAx",
        "colab": {
          "base_uri": "https://localhost:8080/"
        },
        "outputId": "24d9b3a3-6dc6-4ce6-aae9-d089120a7bfd"
      },
      "execution_count": null,
      "outputs": [
        {
          "output_type": "execute_result",
          "data": {
            "text/plain": [
              "0.9794721407624634"
            ]
          },
          "metadata": {},
          "execution_count": 35
        }
      ]
    },
    {
      "cell_type": "markdown",
      "source": [
        "Recall"
      ],
      "metadata": {
        "id": "0KoHssB4Rd80"
      }
    },
    {
      "cell_type": "code",
      "source": [
        "from sklearn.metrics import recall_score\n",
        "recall_score(y_test, y_pred_rdf) # Mostra a revocação do modelo."
      ],
      "metadata": {
        "id": "GsN_XhEYRdh6",
        "colab": {
          "base_uri": "https://localhost:8080/"
        },
        "outputId": "37599cbb-e9c3-4aec-b753-fcf376be81b8"
      },
      "execution_count": null,
      "outputs": [
        {
          "output_type": "execute_result",
          "data": {
            "text/plain": [
              "0.9681159420289855"
            ]
          },
          "metadata": {},
          "execution_count": 36
        }
      ]
    },
    {
      "cell_type": "code",
      "source": [
        "plot_confusion_matrix(rdf,x_test,y_test, cmap='Blues') # Plota a matriz de confusão do modelo."
      ],
      "metadata": {
        "id": "Sc8Z1qYbRz_a",
        "colab": {
          "base_uri": "https://localhost:8080/",
          "height": 296
        },
        "outputId": "2bdc0021-296f-4143-e204-59195e6b72ce"
      },
      "execution_count": null,
      "outputs": [
        {
          "output_type": "execute_result",
          "data": {
            "text/plain": [
              "<sklearn.metrics._plot.confusion_matrix.ConfusionMatrixDisplay at 0x7f72c9fef290>"
            ]
          },
          "metadata": {},
          "execution_count": 37
        },
        {
          "output_type": "display_data",
          "data": {
            "text/plain": [
              "<Figure size 432x288 with 2 Axes>"
            ],
            "image/png": "[encoded data removed]"
          },
          "metadata": {
            "needs_background": "light"
          }
        }
      ]
    },
    {
      "cell_type": "markdown",
      "source": [],
      "metadata": {
        "id": "6wNFILDjR6Qi"
      }
    },
    {
      "cell_type": "markdown",
      "source": [
        "##Naive Bayes"
      ],
      "metadata": {
        "id": "F7aTb0FWVKlr"
      }
    },
    {
      "cell_type": "code",
      "source": [
        "from sklearn.naive_bayes import GaussianNB\n",
        "nbs = GaussianNB() # Guardamos a função do modelo com o parâmetro previamente escolhido na variável.\n",
        "nbs.fit(x_train, y_train) # Treina o modelo.\n"
      ],
      "metadata": {
        "id": "emvzUyNfVPpd",
        "colab": {
          "base_uri": "https://localhost:8080/"
        },
        "outputId": "376566c6-64e6-4d8d-b1f9-ec2feaa0b925"
      },
      "execution_count": null,
      "outputs": [
        {
          "output_type": "execute_result",
          "data": {
            "text/plain": [
              "GaussianNB()"
            ]
          },
          "metadata": {},
          "execution_count": 38
        }
      ]
    },
    {
      "cell_type": "code",
      "source": [
        "y_pred_nbs = rdf.predict(x_test) # Guarda a predição do teste na variável."
      ],
      "metadata": {
        "id": "bl0oRXrDVuo9"
      },
      "execution_count": null,
      "outputs": []
    },
    {
      "cell_type": "markdown",
      "source": [
        "###Metricas"
      ],
      "metadata": {
        "id": "1SA98sNvV08j"
      }
    },
    {
      "cell_type": "markdown",
      "source": [
        "Acuracia"
      ],
      "metadata": {
        "id": "XOpIy76MWek-"
      }
    },
    {
      "cell_type": "code",
      "source": [
        "from sklearn.metrics import accuracy_score\n",
        "accuracy_score(y_test, y_pred_nbs) # Mostra a acurácia do modelo."
      ],
      "metadata": {
        "id": "TARX2xdRWCBP",
        "colab": {
          "base_uri": "https://localhost:8080/"
        },
        "outputId": "8e6774fc-08b4-41b5-b136-1ada4db75859"
      },
      "execution_count": null,
      "outputs": [
        {
          "output_type": "execute_result",
          "data": {
            "text/plain": [
              "0.9758064516129032"
            ]
          },
          "metadata": {},
          "execution_count": 40
        }
      ]
    },
    {
      "cell_type": "markdown",
      "source": [
        "Precisão"
      ],
      "metadata": {
        "id": "JUZ3R7ARWg8S"
      }
    },
    {
      "cell_type": "code",
      "source": [
        "from sklearn.metrics import precision_score\n",
        "precision_score(y_test, y_pred_nbs) # Mostra a precisão do modelo."
      ],
      "metadata": {
        "id": "X5d3z2CdWBpf",
        "colab": {
          "base_uri": "https://localhost:8080/"
        },
        "outputId": "9630d0d8-1137-4552-8248-012107184a94"
      },
      "execution_count": null,
      "outputs": [
        {
          "output_type": "execute_result",
          "data": {
            "text/plain": [
              "0.9794721407624634"
            ]
          },
          "metadata": {},
          "execution_count": 41
        }
      ]
    },
    {
      "cell_type": "markdown",
      "source": [
        "Recall"
      ],
      "metadata": {
        "id": "nC6WXjRsWjl2"
      }
    },
    {
      "cell_type": "code",
      "source": [
        "from sklearn.metrics import recall_score\n",
        "recall_score(y_test, y_pred_nbs) # Mostra a revocação do modelo."
      ],
      "metadata": {
        "id": "IBE32bXEV0kR",
        "colab": {
          "base_uri": "https://localhost:8080/"
        },
        "outputId": "462bfeb0-8fd6-430f-c0db-3d5b21b5399e"
      },
      "execution_count": null,
      "outputs": [
        {
          "output_type": "execute_result",
          "data": {
            "text/plain": [
              "0.9681159420289855"
            ]
          },
          "metadata": {},
          "execution_count": 42
        }
      ]
    },
    {
      "cell_type": "markdown",
      "source": [
        "###Matriz de confusão"
      ],
      "metadata": {
        "id": "aQvYHJXPWnfq"
      }
    },
    {
      "cell_type": "code",
      "source": [
        "plot_confusion_matrix(nbs,x_test,y_test, cmap='Blues') # Plota a matriz de confusão do modelo."
      ],
      "metadata": {
        "id": "t8TMFoNSWKiy",
        "colab": {
          "base_uri": "https://localhost:8080/",
          "height": 296
        },
        "outputId": "8f367cfb-5222-45a9-cea8-fa195548703d"
      },
      "execution_count": null,
      "outputs": [
        {
          "output_type": "execute_result",
          "data": {
            "text/plain": [
              "<sklearn.metrics._plot.confusion_matrix.ConfusionMatrixDisplay at 0x7f72c8ed15d0>"
            ]
          },
          "metadata": {},
          "execution_count": 43
        },
        {
          "output_type": "display_data",
          "data": {
            "text/plain": [
              "<Figure size 432x288 with 2 Axes>"
            ],
            "image/png": "[encoded data removed]"
          },
          "metadata": {
            "needs_background": "light"
          }
        }
      ]
    },
    {
      "cell_type": "markdown",
      "source": [
        "##Regressão logistica"
      ],
      "metadata": {
        "id": "iTUTVWyqWxoh"
      }
    },
    {
      "cell_type": "code",
      "source": [
        "from sklearn.linear_model import LogisticRegression\n",
        "rgl = LogisticRegression().fit(x_train, y_train) # Guardamos a função do modelo com o parâmetro previamente escolhido na variável."
      ],
      "metadata": {
        "id": "LL83bQhrW1Gq"
      },
      "execution_count": null,
      "outputs": []
    },
    {
      "cell_type": "code",
      "source": [
        "y_pred_rgl = rgl.predict(x_test) # Guarda a predição do teste na variável."
      ],
      "metadata": {
        "id": "gBXFWXoiXuM3"
      },
      "execution_count": null,
      "outputs": []
    },
    {
      "cell_type": "markdown",
      "source": [
        "###Metricas"
      ],
      "metadata": {
        "id": "MlKQif5BX1L9"
      }
    },
    {
      "cell_type": "markdown",
      "source": [
        "Acuracia"
      ],
      "metadata": {
        "id": "JYSMXnNGYJC-"
      }
    },
    {
      "cell_type": "code",
      "source": [
        "from sklearn.metrics import accuracy_score\n",
        "accuracy_score(y_test, y_pred_rgl) # Mostra a acurácia do modelo."
      ],
      "metadata": {
        "id": "KM5-RlKaX31i",
        "colab": {
          "base_uri": "https://localhost:8080/"
        },
        "outputId": "1a296278-6a7f-47de-bcbd-f9581eac6ed9"
      },
      "execution_count": null,
      "outputs": [
        {
          "output_type": "execute_result",
          "data": {
            "text/plain": [
              "0.7002688172043011"
            ]
          },
          "metadata": {},
          "execution_count": 46
        }
      ]
    },
    {
      "cell_type": "markdown",
      "source": [
        "Precisão"
      ],
      "metadata": {
        "id": "MD8YhD1WYKYV"
      }
    },
    {
      "cell_type": "code",
      "source": [
        "from sklearn.metrics import precision_score\n",
        "precision_score(y_test, y_pred_rgl) # Mostra a precisão do modelo."
      ],
      "metadata": {
        "id": "h0dVtgm-X7si",
        "colab": {
          "base_uri": "https://localhost:8080/"
        },
        "outputId": "45250b10-4e5e-4984-951b-49c349e565fa"
      },
      "execution_count": null,
      "outputs": [
        {
          "output_type": "execute_result",
          "data": {
            "text/plain": [
              "0.9621212121212122"
            ]
          },
          "metadata": {},
          "execution_count": 47
        }
      ]
    },
    {
      "cell_type": "markdown",
      "source": [
        "Recall"
      ],
      "metadata": {
        "id": "TUKzC1LpYXQN"
      }
    },
    {
      "cell_type": "code",
      "source": [
        "from sklearn.metrics import recall_score\n",
        "recall_score(y_test, y_pred_rgl) # Mostra a revocação do modelo."
      ],
      "metadata": {
        "id": "xTk1ICLtX9a9",
        "colab": {
          "base_uri": "https://localhost:8080/"
        },
        "outputId": "46d1d097-a229-414d-b376-0cd5ee5354b7"
      },
      "execution_count": null,
      "outputs": [
        {
          "output_type": "execute_result",
          "data": {
            "text/plain": [
              "0.3681159420289855"
            ]
          },
          "metadata": {},
          "execution_count": 48
        }
      ]
    },
    {
      "cell_type": "markdown",
      "source": [
        "###Matriz de confusão"
      ],
      "metadata": {
        "id": "gGxOdMKVYY-9"
      }
    },
    {
      "cell_type": "code",
      "source": [
        "plot_confusion_matrix(rgl,x_test,y_test, cmap='Blues') # Plota a matriz de confusão do modelo."
      ],
      "metadata": {
        "id": "c8aq6MkEX_wH",
        "colab": {
          "base_uri": "https://localhost:8080/",
          "height": 296
        },
        "outputId": "db5c62ff-54f4-469d-bee4-cfb1f396af2f"
      },
      "execution_count": null,
      "outputs": [
        {
          "output_type": "execute_result",
          "data": {
            "text/plain": [
              "<sklearn.metrics._plot.confusion_matrix.ConfusionMatrixDisplay at 0x7f72c8ff1750>"
            ]
          },
          "metadata": {},
          "execution_count": 49
        },
        {
          "output_type": "display_data",
          "data": {
            "text/plain": [
              "<Figure size 432x288 with 2 Axes>"
            ],
            "image/png": "[encoded data removed]"
          },
          "metadata": {
            "needs_background": "light"
          }
        }
      ]
    },
    {
      "cell_type": "code",
      "source": [
        "target_corr = matriz_corr.data.ind_atrito\n",
        "df_corr = target_corr.abs().sort_values(ascending=False).to_frame().style.background_gradient(cmap='coolwarm')\n",
        "df_corr"
      ],
      "metadata": {
        "colab": {
          "base_uri": "https://localhost:8080/"
        },
        "id": "bmizsikmeFNp",
        "outputId": "c836fb64-2a99-46a7-99bf-005eb2edde3f"
      },
      "execution_count": null,
      "outputs": [
        {
          "output_type": "error",
          "ename": "NameError",
          "evalue": "ignored",
          "traceback": [
            "\u001b[0;31m---------------------------------------------------------------------------\u001b[0m",
            "\u001b[0;31mNameError\u001b[0m                                 Traceback (most recent call last)",
            "\u001b[0;32m<ipython-input-1-15c9cd409731>\u001b[0m in \u001b[0;36m<module>\u001b[0;34m\u001b[0m\n\u001b[0;32m----> 1\u001b[0;31m \u001b[0mtarget_corr\u001b[0m \u001b[0;34m=\u001b[0m \u001b[0mmatriz_corr\u001b[0m\u001b[0;34m.\u001b[0m\u001b[0mdata\u001b[0m\u001b[0;34m.\u001b[0m\u001b[0mind_atrito\u001b[0m\u001b[0;34m\u001b[0m\u001b[0;34m\u001b[0m\u001b[0m\n\u001b[0m\u001b[1;32m      2\u001b[0m \u001b[0mdf_corr\u001b[0m \u001b[0;34m=\u001b[0m \u001b[0mtarget_corr\u001b[0m\u001b[0;34m.\u001b[0m\u001b[0mabs\u001b[0m\u001b[0;34m(\u001b[0m\u001b[0;34m)\u001b[0m\u001b[0;34m.\u001b[0m\u001b[0msort_values\u001b[0m\u001b[0;34m(\u001b[0m\u001b[0mascending\u001b[0m\u001b[0;34m=\u001b[0m\u001b[0;32mFalse\u001b[0m\u001b[0;34m)\u001b[0m\u001b[0;34m.\u001b[0m\u001b[0mto_frame\u001b[0m\u001b[0;34m(\u001b[0m\u001b[0;34m)\u001b[0m\u001b[0;34m.\u001b[0m\u001b[0mstyle\u001b[0m\u001b[0;34m.\u001b[0m\u001b[0mbackground_gradient\u001b[0m\u001b[0;34m(\u001b[0m\u001b[0mcmap\u001b[0m\u001b[0;34m=\u001b[0m\u001b[0;34m'coolwarm'\u001b[0m\u001b[0;34m)\u001b[0m\u001b[0;34m\u001b[0m\u001b[0;34m\u001b[0m\u001b[0m\n\u001b[1;32m      3\u001b[0m \u001b[0mdf_corr\u001b[0m\u001b[0;34m\u001b[0m\u001b[0;34m\u001b[0m\u001b[0m\n",
            "\u001b[0;31mNameError\u001b[0m: name 'matriz_corr' is not defined"
          ]
        }
      ]
    },
    {
      "cell_type": "markdown",
      "source": [
        "#Hiperparâmetros"
      ],
      "metadata": {
        "id": "GNIlLKpgZnoo"
      }
    },
    {
      "cell_type": "markdown",
      "source": [
        "#Árvore de decisão"
      ],
      "metadata": {
        "id": "gUyjgy7jGoYh"
      }
    },
    {
      "cell_type": "markdown",
      "source": [
        "##Árvore de Decisão parâmetro 1 "
      ],
      "metadata": {
        "id": "kcxXwpbZsz8y"
      }
    },
    {
      "cell_type": "code",
      "source": [
        "from sklearn.model_selection import train_test_split\n",
        "from sklearn.tree import DecisionTreeClassifier\n",
        "\n",
        "avd = DecisionTreeClassifier(criterion='entropy', random_state=42) # Guardamos a função do modelo com o parâmetro previamente escolhido na variável.\n",
        "avd.fit(x_train, y_train) # Treina o modelo."
      ],
      "metadata": {
        "id": "K0pxEW0Fs6b6",
        "colab": {
          "base_uri": "https://localhost:8080/"
        },
        "outputId": "135937db-af39-4cb9-b218-c5ef42ca7f0b"
      },
      "execution_count": null,
      "outputs": [
        {
          "output_type": "execute_result",
          "data": {
            "text/plain": [
              "DecisionTreeClassifier(criterion='entropy', random_state=42)"
            ]
          },
          "metadata": {},
          "execution_count": 50
        }
      ]
    },
    {
      "cell_type": "code",
      "source": [
        "y_pred_avd = avd.predict(x_test) # Guarda a predição do teste na variável.\n",
        "y_pred_avd"
      ],
      "metadata": {
        "id": "sbsOY-iTtBvz",
        "colab": {
          "base_uri": "https://localhost:8080/"
        },
        "outputId": "9bdc043a-daeb-4b81-f78d-b1d7fad46f84"
      },
      "execution_count": null,
      "outputs": [
        {
          "output_type": "execute_result",
          "data": {
            "text/plain": [
              "array([0., 0., 0., 1., 0., 0., 1., 0., 1., 1., 0., 0., 0., 1., 1., 0., 0.,\n",
              "       0., 0., 1., 1., 1., 0., 1., 0., 1., 0., 0., 0., 0., 1., 0., 1., 0.,\n",
              "       0., 1., 1., 0., 1., 0., 0., 1., 1., 0., 1., 1., 0., 0., 1., 0., 1.,\n",
              "       0., 0., 1., 0., 1., 0., 1., 0., 1., 0., 1., 0., 0., 1., 0., 1., 0.,\n",
              "       0., 0., 1., 1., 1., 0., 0., 0., 0., 1., 0., 1., 0., 0., 0., 1., 1.,\n",
              "       0., 0., 0., 0., 0., 1., 0., 0., 1., 0., 0., 0., 0., 1., 0., 1., 0.,\n",
              "       0., 0., 0., 1., 1., 0., 1., 1., 0., 0., 0., 0., 0., 1., 1., 1., 0.,\n",
              "       0., 1., 0., 1., 1., 0., 0., 1., 1., 0., 0., 0., 1., 1., 1., 1., 1.,\n",
              "       1., 1., 0., 1., 0., 1., 1., 0., 0., 1., 1., 1., 1., 0., 1., 1., 1.,\n",
              "       0., 0., 1., 0., 0., 1., 1., 0., 1., 1., 0., 0., 0., 1., 0., 0., 1.,\n",
              "       0., 1., 0., 0., 0., 1., 0., 1., 0., 0., 1., 0., 0., 1., 1., 1., 1.,\n",
              "       1., 1., 0., 1., 1., 0., 0., 1., 0., 0., 0., 1., 1., 1., 1., 0., 0.,\n",
              "       1., 0., 0., 0., 1., 0., 0., 1., 0., 1., 0., 0., 1., 0., 0., 1., 1.,\n",
              "       0., 0., 1., 1., 0., 0., 0., 0., 0., 0., 1., 1., 0., 0., 0., 0., 1.,\n",
              "       1., 0., 0., 0., 1., 1., 0., 0., 0., 1., 1., 0., 1., 1., 0., 0., 1.,\n",
              "       1., 1., 0., 0., 1., 1., 0., 0., 0., 0., 1., 0., 0., 0., 1., 0., 0.,\n",
              "       1., 0., 1., 0., 1., 0., 1., 1., 1., 0., 1., 1., 1., 0., 0., 1., 1.,\n",
              "       1., 0., 0., 1., 1., 0., 0., 1., 0., 0., 1., 0., 1., 1., 0., 1., 1.,\n",
              "       0., 0., 0., 1., 1., 0., 1., 0., 1., 1., 0., 0., 1., 1., 1., 0., 1.,\n",
              "       1., 1., 1., 0., 1., 1., 0., 1., 0., 0., 1., 0., 0., 0., 1., 0., 1.,\n",
              "       0., 0., 0., 0., 0., 0., 1., 0., 0., 1., 1., 1., 1., 0., 1., 0., 1.,\n",
              "       0., 1., 0., 1., 0., 1., 1., 1., 0., 0., 0., 0., 0., 1., 1., 1., 1.,\n",
              "       1., 0., 0., 1., 0., 0., 1., 1., 0., 1., 0., 1., 1., 1., 0., 1., 0.,\n",
              "       1., 0., 1., 0., 1., 1., 0., 1., 0., 0., 1., 0., 1., 1., 0., 0., 1.,\n",
              "       0., 0., 1., 0., 1., 1., 1., 1., 0., 0., 0., 0., 1., 1., 1., 0., 0.,\n",
              "       1., 1., 0., 0., 0., 0., 1., 1., 1., 1., 1., 0., 1., 0., 0., 1., 1.,\n",
              "       0., 0., 1., 1., 1., 0., 0., 1., 1., 0., 0., 0., 0., 0., 0., 1., 1.,\n",
              "       0., 0., 0., 0., 0., 1., 1., 1., 0., 1., 1., 1., 0., 1., 1., 0., 0.,\n",
              "       0., 1., 0., 0., 0., 0., 1., 0., 1., 1., 1., 1., 0., 0., 0., 1., 1.,\n",
              "       0., 1., 1., 1., 1., 1., 1., 1., 1., 1., 1., 1., 1., 0., 0., 1., 1.,\n",
              "       0., 1., 1., 1., 0., 0., 1., 0., 0., 0., 1., 1., 1., 0., 0., 0., 0.,\n",
              "       1., 1., 1., 1., 0., 0., 0., 1., 1., 0., 0., 1., 1., 1., 0., 0., 0.,\n",
              "       0., 0., 0., 0., 0., 0., 0., 1., 0., 1., 1., 0., 1., 0., 1., 0., 0.,\n",
              "       0., 0., 1., 0., 0., 1., 1., 0., 0., 1., 0., 0., 0., 0., 0., 0., 0.,\n",
              "       0., 1., 0., 0., 0., 0., 1., 0., 1., 1., 0., 1., 0., 1., 0., 1., 0.,\n",
              "       0., 1., 0., 1., 1., 0., 0., 0., 1., 0., 1., 0., 0., 1., 0., 1., 1.,\n",
              "       0., 1., 0., 0., 0., 1., 1., 1., 1., 0., 0., 0., 0., 1., 0., 0., 1.,\n",
              "       1., 0., 1., 1., 1., 0., 0., 0., 0., 0., 0., 1., 0., 0., 1., 0., 0.,\n",
              "       1., 0., 1., 1., 1., 0., 1., 1., 0., 0., 1., 1., 0., 0., 1., 0., 1.,\n",
              "       0., 0., 1., 1., 1., 0., 1., 0., 1., 1., 0., 1., 0., 0., 1., 0., 1.,\n",
              "       1., 0., 0., 0., 0., 1., 1., 1., 0., 0., 0., 1., 1., 1., 0., 0., 1.,\n",
              "       1., 1., 0., 0., 0., 1., 0., 0., 0., 0., 1., 0., 1., 1., 1., 1., 0.,\n",
              "       0., 1., 1., 1., 0., 1., 1., 1., 1., 0., 0., 1., 1., 1., 0., 1., 1.,\n",
              "       0., 1., 1., 0., 1., 1., 1., 0., 0., 1., 0., 1., 1.])"
            ]
          },
          "metadata": {},
          "execution_count": 51
        }
      ]
    },
    {
      "cell_type": "markdown",
      "source": [
        "###Métricas "
      ],
      "metadata": {
        "id": "C97IFwn4s4k4"
      }
    },
    {
      "cell_type": "code",
      "source": [
        "#Importando bibliotecas necessárias\n",
        "from sklearn.metrics import accuracy_score\n",
        "from sklearn.metrics import precision_score\n",
        "from sklearn.metrics import recall_score\n",
        "from sklearn.metrics import plot_confusion_matrix"
      ],
      "metadata": {
        "id": "b1O6X2Zwtogr"
      },
      "execution_count": null,
      "outputs": []
    },
    {
      "cell_type": "markdown",
      "source": [
        "Acurácia"
      ],
      "metadata": {
        "id": "2NBnNxadtHJ3"
      }
    },
    {
      "cell_type": "code",
      "source": [
        "accuracy_score(y_test, y_pred_avd) # Mostra a acurácia do modelo."
      ],
      "metadata": {
        "id": "LWVAVlHDtGc2",
        "colab": {
          "base_uri": "https://localhost:8080/"
        },
        "outputId": "f57d91c1-1b19-426e-d991-b50ff8f12a9d"
      },
      "execution_count": null,
      "outputs": [
        {
          "output_type": "execute_result",
          "data": {
            "text/plain": [
              "0.9395161290322581"
            ]
          },
          "metadata": {},
          "execution_count": 53
        }
      ]
    },
    {
      "cell_type": "markdown",
      "source": [
        "Precisão"
      ],
      "metadata": {
        "id": "5gUQjqT9tIiy"
      }
    },
    {
      "cell_type": "code",
      "source": [
        "precision_score(y_test, y_pred_avd) # Mostra a precisão do modelo."
      ],
      "metadata": {
        "id": "QcZLvba7tLAd",
        "colab": {
          "base_uri": "https://localhost:8080/"
        },
        "outputId": "55c9f823-19bf-4c6d-84d6-ea1eef9dfc33"
      },
      "execution_count": null,
      "outputs": [
        {
          "output_type": "execute_result",
          "data": {
            "text/plain": [
              "0.923728813559322"
            ]
          },
          "metadata": {},
          "execution_count": 54
        }
      ]
    },
    {
      "cell_type": "markdown",
      "source": [
        "Recall"
      ],
      "metadata": {
        "id": "26BU5RtktJ6S"
      }
    },
    {
      "cell_type": "code",
      "source": [
        "recall_score(y_test, y_pred_avd) # Mostra a revocação do modelo."
      ],
      "metadata": {
        "id": "aAfNt6SptLn5",
        "colab": {
          "base_uri": "https://localhost:8080/"
        },
        "outputId": "b9ea2613-f252-410e-eb28-372fb13dc9a3"
      },
      "execution_count": null,
      "outputs": [
        {
          "output_type": "execute_result",
          "data": {
            "text/plain": [
              "0.9478260869565217"
            ]
          },
          "metadata": {},
          "execution_count": 55
        }
      ]
    },
    {
      "cell_type": "markdown",
      "source": [
        "Matriz de Confusão"
      ],
      "metadata": {
        "id": "AFl04N0vtxJr"
      }
    },
    {
      "cell_type": "code",
      "source": [
        "plot_confusion_matrix(avd,x_test,y_test, cmap='Blues') # Plota a matriz de confusão do modelo."
      ],
      "metadata": {
        "id": "g4ssl5Qyt0GO",
        "colab": {
          "base_uri": "https://localhost:8080/",
          "height": 296
        },
        "outputId": "64c0522f-7a44-4833-8ce6-c8a078f33879"
      },
      "execution_count": null,
      "outputs": [
        {
          "output_type": "execute_result",
          "data": {
            "text/plain": [
              "<sklearn.metrics._plot.confusion_matrix.ConfusionMatrixDisplay at 0x7f72c654edd0>"
            ]
          },
          "metadata": {},
          "execution_count": 56
        },
        {
          "output_type": "display_data",
          "data": {
            "text/plain": [
              "<Figure size 432x288 with 2 Axes>"
            ],
            "image/png": "[encoded data removed]"
          },
          "metadata": {
            "needs_background": "light"
          }
        }
      ]
    },
    {
      "cell_type": "markdown",
      "source": [
        "##Árvore de Decisão parâmetro 2"
      ],
      "metadata": {
        "id": "zHvGWjzLuGs1"
      }
    },
    {
      "cell_type": "code",
      "source": [
        "avd = DecisionTreeClassifier(criterion='gini', random_state=42) # Guardamos a função do modelo com o parâmetro previamente escolhido na variável.\n",
        "avd.fit(x_train, y_train)  # Treina o modelo."
      ],
      "metadata": {
        "id": "-D5MxKf-uLO5",
        "colab": {
          "base_uri": "https://localhost:8080/"
        },
        "outputId": "0dd5c43a-0b4b-4d66-b733-4d3e8aa85378"
      },
      "execution_count": null,
      "outputs": [
        {
          "output_type": "execute_result",
          "data": {
            "text/plain": [
              "DecisionTreeClassifier(random_state=42)"
            ]
          },
          "metadata": {},
          "execution_count": 57
        }
      ]
    },
    {
      "cell_type": "code",
      "source": [
        "y_pred_avd = avd.predict(x_test) # Guarda a predição do teste na variável.\n",
        "y_pred_avd"
      ],
      "metadata": {
        "id": "p3ylfJBSuO6L",
        "colab": {
          "base_uri": "https://localhost:8080/"
        },
        "outputId": "1dfbf3c7-45c8-4d25-a569-7aad236a1612"
      },
      "execution_count": null,
      "outputs": [
        {
          "output_type": "execute_result",
          "data": {
            "text/plain": [
              "array([1., 0., 0., 1., 0., 0., 1., 0., 1., 1., 0., 0., 0., 1., 1., 0., 1.,\n",
              "       0., 0., 1., 1., 1., 0., 1., 0., 1., 0., 0., 0., 0., 1., 0., 1., 0.,\n",
              "       0., 1., 1., 0., 1., 0., 0., 1., 1., 0., 1., 1., 0., 0., 1., 0., 1.,\n",
              "       0., 0., 1., 0., 1., 0., 1., 0., 1., 0., 1., 0., 0., 1., 0., 1., 0.,\n",
              "       0., 0., 1., 1., 1., 0., 0., 0., 0., 1., 0., 1., 0., 0., 0., 1., 1.,\n",
              "       0., 0., 0., 0., 0., 1., 0., 0., 1., 0., 0., 0., 0., 1., 0., 1., 0.,\n",
              "       0., 0., 0., 1., 0., 0., 1., 1., 0., 0., 0., 0., 0., 1., 1., 1., 0.,\n",
              "       0., 1., 0., 1., 1., 0., 0., 1., 1., 0., 0., 0., 1., 1., 1., 1., 1.,\n",
              "       1., 1., 0., 1., 0., 1., 1., 0., 0., 1., 1., 1., 1., 0., 1., 1., 1.,\n",
              "       0., 0., 1., 0., 0., 1., 1., 0., 1., 1., 0., 0., 0., 1., 0., 0., 1.,\n",
              "       0., 1., 0., 0., 0., 1., 0., 1., 0., 0., 1., 0., 0., 1., 1., 1., 1.,\n",
              "       1., 1., 0., 1., 1., 1., 0., 1., 0., 0., 0., 1., 1., 1., 1., 1., 0.,\n",
              "       1., 0., 0., 0., 1., 0., 0., 1., 0., 1., 0., 0., 1., 0., 0., 1., 1.,\n",
              "       0., 0., 1., 1., 0., 0., 0., 0., 0., 0., 1., 1., 0., 1., 0., 0., 1.,\n",
              "       1., 0., 0., 0., 1., 1., 0., 0., 0., 1., 1., 0., 1., 1., 0., 0., 1.,\n",
              "       1., 1., 0., 0., 1., 1., 0., 0., 0., 0., 1., 0., 0., 0., 1., 0., 0.,\n",
              "       1., 0., 1., 0., 1., 0., 1., 1., 1., 0., 1., 1., 1., 0., 0., 1., 1.,\n",
              "       1., 0., 0., 1., 1., 0., 0., 1., 0., 0., 1., 0., 1., 1., 0., 1., 1.,\n",
              "       0., 0., 0., 1., 1., 0., 1., 0., 1., 0., 0., 0., 1., 1., 1., 0., 1.,\n",
              "       1., 1., 1., 0., 1., 1., 0., 1., 0., 0., 1., 0., 0., 0., 1., 0., 1.,\n",
              "       0., 0., 0., 0., 0., 0., 1., 0., 0., 1., 1., 1., 1., 0., 1., 1., 1.,\n",
              "       0., 1., 0., 1., 0., 1., 1., 1., 0., 0., 0., 0., 0., 1., 1., 1., 1.,\n",
              "       1., 0., 0., 1., 0., 0., 1., 1., 0., 0., 0., 1., 1., 1., 0., 1., 0.,\n",
              "       1., 0., 1., 0., 1., 1., 0., 1., 0., 0., 1., 0., 1., 1., 0., 0., 1.,\n",
              "       0., 1., 1., 0., 1., 1., 1., 1., 0., 0., 0., 0., 1., 1., 1., 0., 0.,\n",
              "       1., 1., 0., 0., 0., 0., 1., 1., 1., 1., 1., 0., 1., 0., 0., 1., 0.,\n",
              "       0., 0., 1., 1., 1., 0., 0., 1., 1., 0., 0., 0., 0., 0., 0., 1., 1.,\n",
              "       0., 0., 0., 0., 0., 1., 1., 1., 0., 1., 1., 1., 0., 1., 1., 0., 0.,\n",
              "       0., 1., 0., 0., 0., 0., 1., 0., 1., 1., 1., 1., 0., 0., 0., 1., 1.,\n",
              "       0., 0., 1., 1., 1., 1., 1., 1., 1., 1., 1., 1., 1., 0., 0., 1., 0.,\n",
              "       0., 1., 1., 1., 0., 0., 1., 0., 0., 0., 1., 1., 1., 0., 0., 0., 0.,\n",
              "       1., 1., 1., 1., 0., 0., 0., 1., 1., 0., 0., 1., 1., 1., 0., 0., 0.,\n",
              "       0., 0., 0., 0., 0., 0., 0., 1., 0., 1., 1., 0., 1., 0., 1., 0., 0.,\n",
              "       0., 0., 1., 0., 0., 1., 1., 0., 0., 1., 0., 0., 0., 0., 0., 0., 0.,\n",
              "       0., 1., 1., 0., 0., 0., 1., 0., 1., 1., 0., 0., 1., 1., 0., 1., 0.,\n",
              "       0., 1., 0., 1., 1., 0., 0., 0., 1., 0., 1., 0., 0., 1., 0., 1., 1.,\n",
              "       0., 1., 0., 0., 0., 1., 1., 1., 1., 0., 0., 0., 0., 0., 0., 0., 1.,\n",
              "       1., 0., 1., 1., 1., 0., 0., 0., 0., 0., 0., 1., 1., 0., 1., 0., 0.,\n",
              "       1., 0., 1., 1., 1., 0., 1., 1., 0., 0., 1., 1., 0., 0., 1., 0., 1.,\n",
              "       0., 0., 1., 1., 1., 0., 1., 0., 1., 1., 0., 1., 0., 0., 1., 0., 1.,\n",
              "       1., 0., 0., 0., 0., 0., 0., 1., 0., 0., 0., 1., 1., 1., 0., 0., 1.,\n",
              "       1., 1., 0., 0., 0., 1., 0., 0., 0., 0., 1., 0., 1., 1., 1., 1., 0.,\n",
              "       0., 1., 1., 1., 0., 1., 1., 1., 1., 0., 0., 1., 1., 1., 0., 1., 1.,\n",
              "       0., 1., 1., 0., 1., 1., 1., 0., 0., 1., 0., 1., 1.])"
            ]
          },
          "metadata": {},
          "execution_count": 58
        }
      ]
    },
    {
      "cell_type": "markdown",
      "source": [
        "###Métricas"
      ],
      "metadata": {
        "id": "z0v6KM7TuR9L"
      }
    },
    {
      "cell_type": "markdown",
      "source": [
        "Acurácia"
      ],
      "metadata": {
        "id": "_hP7nYonuTv4"
      }
    },
    {
      "cell_type": "code",
      "source": [
        "accuracy_score(y_test, y_pred_avd) # Mostra a acurácia do modelo."
      ],
      "metadata": {
        "id": "CrscivFluYIG",
        "colab": {
          "base_uri": "https://localhost:8080/"
        },
        "outputId": "f09aa331-9ba1-4edc-f65d-8dd08fed4d2d"
      },
      "execution_count": null,
      "outputs": [
        {
          "output_type": "execute_result",
          "data": {
            "text/plain": [
              "0.9502688172043011"
            ]
          },
          "metadata": {},
          "execution_count": 59
        }
      ]
    },
    {
      "cell_type": "markdown",
      "source": [
        "Precisão"
      ],
      "metadata": {
        "id": "e-8LUiRDuU1T"
      }
    },
    {
      "cell_type": "code",
      "source": [
        "precision_score(y_test, y_pred_avd) # Mostra a precisão do modelo."
      ],
      "metadata": {
        "id": "R8M2xjFKuZ2Y",
        "colab": {
          "base_uri": "https://localhost:8080/"
        },
        "outputId": "5755c2e3-ee21-4488-fa0d-2751e06ce8de"
      },
      "execution_count": null,
      "outputs": [
        {
          "output_type": "execute_result",
          "data": {
            "text/plain": [
              "0.9350282485875706"
            ]
          },
          "metadata": {},
          "execution_count": 60
        }
      ]
    },
    {
      "cell_type": "markdown",
      "source": [
        "Recall"
      ],
      "metadata": {
        "id": "wrJXIPZCuVzP"
      }
    },
    {
      "cell_type": "code",
      "source": [
        "recall_score(y_test, y_pred_avd) # Mostra a revocação do modelo."
      ],
      "metadata": {
        "id": "4_8r4akAuc_C",
        "colab": {
          "base_uri": "https://localhost:8080/"
        },
        "outputId": "e1abad83-46d6-4eab-cae8-87445d0b8374"
      },
      "execution_count": null,
      "outputs": [
        {
          "output_type": "execute_result",
          "data": {
            "text/plain": [
              "0.9594202898550724"
            ]
          },
          "metadata": {},
          "execution_count": 61
        }
      ]
    },
    {
      "cell_type": "markdown",
      "source": [
        "Matriz de Confusão"
      ],
      "metadata": {
        "id": "1QmOh2_nuWd-"
      }
    },
    {
      "cell_type": "code",
      "source": [
        "plot_confusion_matrix(avd,x_test,y_test, cmap='Blues') # Plota a matriz de confusão do modelo."
      ],
      "metadata": {
        "id": "Gj_Gn4tludwA",
        "colab": {
          "base_uri": "https://localhost:8080/",
          "height": 296
        },
        "outputId": "b601b264-10bc-4140-9718-dc410a24e1a7"
      },
      "execution_count": null,
      "outputs": [
        {
          "output_type": "execute_result",
          "data": {
            "text/plain": [
              "<sklearn.metrics._plot.confusion_matrix.ConfusionMatrixDisplay at 0x7f72c64ede10>"
            ]
          },
          "metadata": {},
          "execution_count": 62
        },
        {
          "output_type": "display_data",
          "data": {
            "text/plain": [
              "<Figure size 432x288 with 2 Axes>"
            ],
            "image/png": "[encoded data removed]"
          },
          "metadata": {
            "needs_background": "light"
          }
        }
      ]
    },
    {
      "cell_type": "markdown",
      "source": [
        "##Árvore de Decisão parâmetro 3"
      ],
      "metadata": {
        "id": "hOTrIoVAukqh"
      }
    },
    {
      "cell_type": "code",
      "source": [
        "avd = DecisionTreeClassifier(criterion='entropy', max_features='auto', random_state=42) # Guardamos a função do modelo com o parâmetro previamente escolhido na variável.\n",
        "avd.fit(x_train, y_train) # Treina o modelo."
      ],
      "metadata": {
        "id": "qA-RaoSJuoN_",
        "colab": {
          "base_uri": "https://localhost:8080/"
        },
        "outputId": "9e26dd8d-0c9c-4543-88e9-d7f96e317800"
      },
      "execution_count": null,
      "outputs": [
        {
          "output_type": "execute_result",
          "data": {
            "text/plain": [
              "DecisionTreeClassifier(criterion='entropy', max_features='auto',\n",
              "                       random_state=42)"
            ]
          },
          "metadata": {},
          "execution_count": 63
        }
      ]
    },
    {
      "cell_type": "code",
      "source": [
        "y_pred_avd = avd.predict(x_test) # Guarda a predição do teste na variável.\n",
        "y_pred_avd"
      ],
      "metadata": {
        "id": "L8UaJ0akuqSK",
        "colab": {
          "base_uri": "https://localhost:8080/"
        },
        "outputId": "d96f5d20-f26e-48bd-8fb2-8384f91ffcd1"
      },
      "execution_count": null,
      "outputs": [
        {
          "output_type": "execute_result",
          "data": {
            "text/plain": [
              "array([0., 0., 0., 1., 0., 0., 1., 0., 1., 1., 0., 1., 1., 1., 0., 0., 0.,\n",
              "       0., 0., 1., 1., 0., 1., 1., 0., 1., 1., 0., 0., 0., 1., 0., 1., 0.,\n",
              "       0., 1., 0., 0., 1., 1., 1., 1., 1., 0., 0., 1., 0., 0., 1., 1., 1.,\n",
              "       0., 0., 1., 0., 1., 1., 1., 0., 1., 0., 1., 0., 0., 1., 0., 1., 0.,\n",
              "       0., 0., 1., 1., 1., 0., 0., 0., 0., 1., 0., 1., 0., 0., 0., 1., 1.,\n",
              "       0., 0., 0., 0., 0., 1., 0., 1., 1., 0., 0., 1., 0., 1., 0., 1., 0.,\n",
              "       0., 1., 0., 1., 0., 0., 1., 1., 0., 0., 0., 0., 0., 1., 1., 1., 1.,\n",
              "       0., 1., 0., 1., 1., 0., 0., 0., 1., 0., 0., 1., 1., 1., 1., 1., 0.,\n",
              "       1., 0., 0., 1., 1., 1., 1., 0., 0., 1., 1., 1., 1., 0., 1., 1., 1.,\n",
              "       0., 1., 1., 0., 0., 0., 1., 0., 0., 1., 0., 0., 0., 1., 0., 1., 1.,\n",
              "       0., 0., 0., 0., 0., 1., 0., 1., 0., 0., 1., 0., 0., 1., 0., 1., 1.,\n",
              "       1., 1., 0., 1., 1., 0., 0., 1., 0., 0., 0., 1., 1., 1., 1., 0., 0.,\n",
              "       1., 1., 0., 0., 1., 0., 0., 1., 0., 1., 0., 0., 1., 0., 1., 1., 1.,\n",
              "       1., 0., 1., 1., 0., 0., 0., 0., 0., 0., 1., 1., 0., 0., 0., 0., 1.,\n",
              "       1., 0., 0., 0., 0., 1., 0., 0., 0., 1., 1., 0., 1., 1., 0., 0., 1.,\n",
              "       1., 0., 1., 0., 1., 1., 0., 0., 1., 0., 1., 0., 0., 0., 1., 0., 0.,\n",
              "       1., 0., 1., 0., 0., 0., 1., 1., 0., 0., 1., 0., 0., 1., 0., 1., 1.,\n",
              "       1., 0., 1., 1., 0., 0., 0., 1., 0., 0., 1., 0., 1., 1., 0., 1., 0.,\n",
              "       0., 1., 0., 1., 1., 0., 1., 0., 1., 1., 1., 0., 1., 1., 1., 0., 1.,\n",
              "       1., 1., 1., 0., 1., 1., 0., 1., 0., 0., 1., 0., 0., 0., 1., 0., 1.,\n",
              "       1., 0., 0., 0., 0., 1., 0., 0., 0., 0., 1., 1., 1., 0., 1., 1., 1.,\n",
              "       0., 1., 0., 1., 0., 1., 1., 1., 1., 0., 0., 0., 0., 1., 1., 1., 1.,\n",
              "       1., 0., 0., 0., 0., 0., 1., 1., 1., 0., 0., 1., 1., 1., 0., 1., 0.,\n",
              "       1., 0., 1., 0., 1., 1., 0., 1., 0., 0., 1., 1., 1., 1., 0., 0., 1.,\n",
              "       0., 0., 1., 1., 1., 1., 1., 1., 0., 0., 0., 1., 1., 1., 1., 0., 0.,\n",
              "       1., 1., 0., 0., 0., 0., 1., 1., 1., 1., 1., 0., 1., 0., 0., 1., 0.,\n",
              "       0., 0., 1., 1., 1., 0., 0., 1., 1., 0., 0., 0., 0., 0., 0., 1., 0.,\n",
              "       0., 0., 0., 1., 0., 1., 1., 1., 0., 1., 1., 1., 0., 1., 1., 1., 0.,\n",
              "       0., 1., 0., 0., 0., 0., 1., 1., 1., 1., 1., 0., 0., 0., 0., 1., 1.,\n",
              "       0., 0., 1., 1., 1., 1., 1., 1., 1., 1., 1., 1., 1., 0., 0., 1., 0.,\n",
              "       0., 1., 1., 1., 0., 0., 1., 0., 0., 1., 1., 1., 1., 0., 0., 0., 0.,\n",
              "       1., 1., 1., 1., 0., 1., 0., 1., 1., 1., 0., 1., 1., 1., 0., 0., 0.,\n",
              "       0., 1., 0., 0., 0., 0., 0., 1., 0., 1., 1., 0., 1., 1., 0., 0., 0.,\n",
              "       0., 1., 1., 0., 0., 1., 1., 0., 0., 1., 0., 0., 1., 1., 0., 0., 1.,\n",
              "       0., 0., 0., 0., 0., 0., 1., 0., 0., 1., 0., 0., 1., 1., 0., 1., 0.,\n",
              "       0., 1., 0., 1., 1., 0., 0., 0., 1., 0., 1., 0., 0., 1., 1., 1., 1.,\n",
              "       0., 1., 0., 0., 0., 1., 1., 1., 0., 0., 0., 0., 0., 1., 0., 0., 1.,\n",
              "       1., 0., 1., 0., 1., 0., 0., 0., 1., 0., 0., 1., 0., 0., 1., 0., 0.,\n",
              "       0., 1., 1., 1., 1., 1., 1., 1., 0., 0., 1., 1., 0., 0., 1., 1., 1.,\n",
              "       0., 0., 1., 1., 1., 0., 1., 0., 0., 1., 0., 1., 0., 0., 0., 0., 1.,\n",
              "       1., 0., 0., 0., 0., 0., 0., 1., 0., 0., 0., 1., 1., 1., 0., 0., 1.,\n",
              "       1., 1., 0., 0., 0., 1., 0., 0., 0., 0., 1., 0., 1., 1., 1., 1., 0.,\n",
              "       0., 1., 1., 1., 0., 1., 0., 1., 0., 0., 0., 1., 0., 1., 0., 1., 1.,\n",
              "       0., 0., 1., 0., 1., 0., 0., 0., 0., 1., 0., 1., 1.])"
            ]
          },
          "metadata": {},
          "execution_count": 64
        }
      ]
    },
    {
      "cell_type": "markdown",
      "source": [
        "###Métricas"
      ],
      "metadata": {
        "id": "zn5lCWHyuo5q"
      }
    },
    {
      "cell_type": "markdown",
      "source": [
        "Acurácia"
      ],
      "metadata": {
        "id": "v03AhdwVu1oX"
      }
    },
    {
      "cell_type": "code",
      "source": [
        "accuracy_score(y_test, y_pred_avd) # Mostra a acurácia do modelo."
      ],
      "metadata": {
        "id": "bubTM73-uvtc",
        "colab": {
          "base_uri": "https://localhost:8080/"
        },
        "outputId": "bbbfa898-1479-4f06-e38d-fd372e171d42"
      },
      "execution_count": null,
      "outputs": [
        {
          "output_type": "execute_result",
          "data": {
            "text/plain": [
              "0.8951612903225806"
            ]
          },
          "metadata": {},
          "execution_count": 65
        }
      ]
    },
    {
      "cell_type": "markdown",
      "source": [
        "Precisão "
      ],
      "metadata": {
        "id": "Tkh9HcQ1u3J2"
      }
    },
    {
      "cell_type": "code",
      "source": [
        "precision_score(y_test, y_pred_avd) # Mostra a precisão do modelo."
      ],
      "metadata": {
        "id": "k2YdbecSux2W",
        "colab": {
          "base_uri": "https://localhost:8080/"
        },
        "outputId": "b4af52a9-c160-43c5-da26-50c677f8f640"
      },
      "execution_count": null,
      "outputs": [
        {
          "output_type": "execute_result",
          "data": {
            "text/plain": [
              "0.871866295264624"
            ]
          },
          "metadata": {},
          "execution_count": 66
        }
      ]
    },
    {
      "cell_type": "markdown",
      "source": [
        "Recall"
      ],
      "metadata": {
        "id": "s1QzK4cVu4ZV"
      }
    },
    {
      "cell_type": "code",
      "source": [
        "recall_score(y_test, y_pred_avd) # Mostra a revocação do modelo."
      ],
      "metadata": {
        "id": "meCnOWImuzl-",
        "colab": {
          "base_uri": "https://localhost:8080/"
        },
        "outputId": "1cf0e4fc-04d6-466d-d8fc-c78b1f3068c6"
      },
      "execution_count": null,
      "outputs": [
        {
          "output_type": "execute_result",
          "data": {
            "text/plain": [
              "0.9072463768115943"
            ]
          },
          "metadata": {},
          "execution_count": 67
        }
      ]
    },
    {
      "cell_type": "markdown",
      "source": [
        "Matriz de Confusão"
      ],
      "metadata": {
        "id": "WNZoWYZSu5gW"
      }
    },
    {
      "cell_type": "code",
      "source": [
        "plot_confusion_matrix(avd,x_test,y_test, cmap='Blues') # Plota a matriz de confusão do modelo."
      ],
      "metadata": {
        "id": "iVcjtsv7u7NH",
        "colab": {
          "base_uri": "https://localhost:8080/",
          "height": 298
        },
        "outputId": "a2000562-8c04-4cbb-a471-57339b0b9700"
      },
      "execution_count": null,
      "outputs": [
        {
          "output_type": "execute_result",
          "data": {
            "text/plain": [
              "<sklearn.metrics._plot.confusion_matrix.ConfusionMatrixDisplay at 0x7f72c64154d0>"
            ]
          },
          "metadata": {},
          "execution_count": 68
        },
        {
          "output_type": "display_data",
          "data": {
            "text/plain": [
              "<Figure size 432x288 with 2 Axes>"
            ],
            "image/png": "[encoded data removed]"
          },
          "metadata": {
            "needs_background": "light"
          }
        }
      ]
    },
    {
      "cell_type": "markdown",
      "source": [
        "##Árvore de Decisão parâmetro 4"
      ],
      "metadata": {
        "id": "SL16iQfuv3iq"
      }
    },
    {
      "cell_type": "code",
      "source": [
        "avd = DecisionTreeClassifier(criterion='entropy',max_features='log2', random_state=42) # Guardamos a função do modelo com o parâmetro previamente escolhido na variável.\n",
        "avd.fit(x_train, y_train) # Treina o modelo."
      ],
      "metadata": {
        "id": "SlAkSJdOv9u1",
        "colab": {
          "base_uri": "https://localhost:8080/"
        },
        "outputId": "a1682ed7-3f87-4a09-c6d2-6cbe3cbdbc16"
      },
      "execution_count": null,
      "outputs": [
        {
          "output_type": "execute_result",
          "data": {
            "text/plain": [
              "DecisionTreeClassifier(criterion='entropy', max_features='log2',\n",
              "                       random_state=42)"
            ]
          },
          "metadata": {},
          "execution_count": 69
        }
      ]
    },
    {
      "cell_type": "code",
      "source": [
        "y_pred_avd = avd.predict(x_test) # Guarda a predição do teste na variável.\n",
        "y_pred_avd"
      ],
      "metadata": {
        "id": "l6vpS5okwDK7",
        "colab": {
          "base_uri": "https://localhost:8080/"
        },
        "outputId": "55be5368-114c-4c66-801b-ad58516b56dd"
      },
      "execution_count": null,
      "outputs": [
        {
          "output_type": "execute_result",
          "data": {
            "text/plain": [
              "array([0., 0., 0., 1., 0., 0., 1., 0., 1., 1., 0., 1., 1., 1., 0., 0., 0.,\n",
              "       0., 0., 1., 1., 0., 1., 1., 0., 1., 1., 0., 0., 0., 1., 0., 1., 0.,\n",
              "       0., 1., 0., 0., 1., 1., 1., 1., 1., 0., 0., 1., 0., 0., 1., 1., 1.,\n",
              "       0., 0., 1., 0., 1., 1., 1., 0., 1., 0., 1., 0., 0., 1., 0., 1., 0.,\n",
              "       0., 0., 1., 1., 1., 0., 0., 0., 0., 1., 0., 1., 0., 0., 0., 1., 1.,\n",
              "       0., 0., 0., 0., 0., 1., 0., 1., 1., 0., 0., 1., 0., 1., 0., 1., 0.,\n",
              "       0., 1., 0., 1., 0., 0., 1., 1., 0., 0., 0., 0., 0., 1., 1., 1., 1.,\n",
              "       0., 1., 0., 1., 1., 0., 0., 0., 1., 0., 0., 1., 1., 1., 1., 1., 0.,\n",
              "       1., 0., 0., 1., 1., 1., 1., 0., 0., 1., 1., 1., 1., 0., 1., 1., 1.,\n",
              "       0., 1., 1., 0., 0., 0., 1., 0., 0., 1., 0., 0., 0., 1., 0., 1., 1.,\n",
              "       0., 0., 0., 0., 0., 1., 0., 1., 0., 0., 1., 0., 0., 1., 0., 1., 1.,\n",
              "       1., 1., 0., 1., 1., 0., 0., 1., 0., 0., 0., 1., 1., 1., 1., 0., 0.,\n",
              "       1., 1., 0., 0., 1., 0., 0., 1., 0., 1., 0., 0., 1., 0., 1., 1., 1.,\n",
              "       1., 0., 1., 1., 0., 0., 0., 0., 0., 0., 1., 1., 0., 0., 0., 0., 1.,\n",
              "       1., 0., 0., 0., 0., 1., 0., 0., 0., 1., 1., 0., 1., 1., 0., 0., 1.,\n",
              "       1., 0., 1., 0., 1., 1., 0., 0., 1., 0., 1., 0., 0., 0., 1., 0., 0.,\n",
              "       1., 0., 1., 0., 0., 0., 1., 1., 0., 0., 1., 0., 0., 1., 0., 1., 1.,\n",
              "       1., 0., 1., 1., 0., 0., 0., 1., 0., 0., 1., 0., 1., 1., 0., 1., 0.,\n",
              "       0., 1., 0., 1., 1., 0., 1., 0., 1., 1., 1., 0., 1., 1., 1., 0., 1.,\n",
              "       1., 1., 1., 0., 1., 1., 0., 1., 0., 0., 1., 0., 0., 0., 1., 0., 1.,\n",
              "       1., 0., 0., 0., 0., 1., 0., 0., 0., 0., 1., 1., 1., 0., 1., 1., 1.,\n",
              "       0., 1., 0., 1., 0., 1., 1., 1., 1., 0., 0., 0., 0., 1., 1., 1., 1.,\n",
              "       1., 0., 0., 0., 0., 0., 1., 1., 1., 0., 0., 1., 1., 1., 0., 1., 0.,\n",
              "       1., 0., 1., 0., 1., 1., 0., 1., 0., 0., 1., 1., 1., 1., 0., 0., 1.,\n",
              "       0., 0., 1., 1., 1., 1., 1., 1., 0., 0., 0., 1., 1., 1., 1., 0., 0.,\n",
              "       1., 1., 0., 0., 0., 0., 1., 1., 1., 1., 1., 0., 1., 0., 0., 1., 0.,\n",
              "       0., 0., 1., 1., 1., 0., 0., 1., 1., 0., 0., 0., 0., 0., 0., 1., 0.,\n",
              "       0., 0., 0., 1., 0., 1., 1., 1., 0., 1., 1., 1., 0., 1., 1., 1., 0.,\n",
              "       0., 1., 0., 0., 0., 0., 1., 1., 1., 1., 1., 0., 0., 0., 0., 1., 1.,\n",
              "       0., 0., 1., 1., 1., 1., 1., 1., 1., 1., 1., 1., 1., 0., 0., 1., 0.,\n",
              "       0., 1., 1., 1., 0., 0., 1., 0., 0., 1., 1., 1., 1., 0., 0., 0., 0.,\n",
              "       1., 1., 1., 1., 0., 1., 0., 1., 1., 1., 0., 1., 1., 1., 0., 0., 0.,\n",
              "       0., 1., 0., 0., 0., 0., 0., 1., 0., 1., 1., 0., 1., 1., 0., 0., 0.,\n",
              "       0., 1., 1., 0., 0., 1., 1., 0., 0., 1., 0., 0., 1., 1., 0., 0., 1.,\n",
              "       0., 0., 0., 0., 0., 0., 1., 0., 0., 1., 0., 0., 1., 1., 0., 1., 0.,\n",
              "       0., 1., 0., 1., 1., 0., 0., 0., 1., 0., 1., 0., 0., 1., 1., 1., 1.,\n",
              "       0., 1., 0., 0., 0., 1., 1., 1., 0., 0., 0., 0., 0., 1., 0., 0., 1.,\n",
              "       1., 0., 1., 0., 1., 0., 0., 0., 1., 0., 0., 1., 0., 0., 1., 0., 0.,\n",
              "       0., 1., 1., 1., 1., 1., 1., 1., 0., 0., 1., 1., 0., 0., 1., 1., 1.,\n",
              "       0., 0., 1., 1., 1., 0., 1., 0., 0., 1., 0., 1., 0., 0., 0., 0., 1.,\n",
              "       1., 0., 0., 0., 0., 0., 0., 1., 0., 0., 0., 1., 1., 1., 0., 0., 1.,\n",
              "       1., 1., 0., 0., 0., 1., 0., 0., 0., 0., 1., 0., 1., 1., 1., 1., 0.,\n",
              "       0., 1., 1., 1., 0., 1., 0., 1., 0., 0., 0., 1., 0., 1., 0., 1., 1.,\n",
              "       0., 0., 1., 0., 1., 0., 0., 0., 0., 1., 0., 1., 1.])"
            ]
          },
          "metadata": {},
          "execution_count": 70
        }
      ]
    },
    {
      "cell_type": "markdown",
      "source": [
        "###Métricas"
      ],
      "metadata": {
        "id": "Awuc7a5Cv8G2"
      }
    },
    {
      "cell_type": "markdown",
      "source": [
        "Acurácia"
      ],
      "metadata": {
        "id": "iWwGz8kPwNoX"
      }
    },
    {
      "cell_type": "code",
      "source": [
        "accuracy_score(y_test, y_pred_avd) # Mostra a acurácia do modelo."
      ],
      "metadata": {
        "id": "jG0lKvnYv646",
        "colab": {
          "base_uri": "https://localhost:8080/"
        },
        "outputId": "0a071ec1-f4d0-4ee9-a1bf-8ddea275622b"
      },
      "execution_count": null,
      "outputs": [
        {
          "output_type": "execute_result",
          "data": {
            "text/plain": [
              "0.8951612903225806"
            ]
          },
          "metadata": {},
          "execution_count": 71
        }
      ]
    },
    {
      "cell_type": "markdown",
      "source": [
        "Precisão"
      ],
      "metadata": {
        "id": "7DE31PzmwVHT"
      }
    },
    {
      "cell_type": "code",
      "source": [
        "precision_score(y_test, y_pred_avd) # Mostra a precisão do modelo."
      ],
      "metadata": {
        "id": "EfIwSDbFwGmc",
        "colab": {
          "base_uri": "https://localhost:8080/"
        },
        "outputId": "8bebc57c-4582-495e-edbd-cff883bfdac5"
      },
      "execution_count": null,
      "outputs": [
        {
          "output_type": "execute_result",
          "data": {
            "text/plain": [
              "0.871866295264624"
            ]
          },
          "metadata": {},
          "execution_count": 72
        }
      ]
    },
    {
      "cell_type": "markdown",
      "source": [
        "Recall"
      ],
      "metadata": {
        "id": "z_BkeqmVwPAa"
      }
    },
    {
      "cell_type": "code",
      "source": [
        "recall_score(y_test, y_pred_avd) # Mostra a revocação do modelo."
      ],
      "metadata": {
        "id": "EH6aSZyIwHt7",
        "colab": {
          "base_uri": "https://localhost:8080/"
        },
        "outputId": "ecf58e72-e265-4909-90f6-1e257aa9dad4"
      },
      "execution_count": null,
      "outputs": [
        {
          "output_type": "execute_result",
          "data": {
            "text/plain": [
              "0.9072463768115943"
            ]
          },
          "metadata": {},
          "execution_count": 73
        }
      ]
    },
    {
      "cell_type": "markdown",
      "source": [
        "Matriz de Confusão"
      ],
      "metadata": {
        "id": "LZVbkLjFwWmS"
      }
    },
    {
      "cell_type": "code",
      "source": [
        "plot_confusion_matrix(avd,x_test,y_test, cmap='Blues') # Plota a matriz de confusão do modelo."
      ],
      "metadata": {
        "id": "WMf_9643wJUX",
        "colab": {
          "base_uri": "https://localhost:8080/",
          "height": 298
        },
        "outputId": "85fc1fa3-daa8-48cb-f1cc-9056a8813c25"
      },
      "execution_count": null,
      "outputs": [
        {
          "output_type": "execute_result",
          "data": {
            "text/plain": [
              "<sklearn.metrics._plot.confusion_matrix.ConfusionMatrixDisplay at 0x7f72c63604d0>"
            ]
          },
          "metadata": {},
          "execution_count": 74
        },
        {
          "output_type": "display_data",
          "data": {
            "text/plain": [
              "<Figure size 432x288 with 2 Axes>"
            ],
            "image/png": "[encoded data removed]"
          },
          "metadata": {
            "needs_background": "light"
          }
        }
      ]
    },
    {
      "cell_type": "markdown",
      "source": [
        "##Árvore de Decisão parâmetro 5"
      ],
      "metadata": {
        "id": "-3aL8FR6wbh0"
      }
    },
    {
      "cell_type": "code",
      "source": [
        "avd = DecisionTreeClassifier(criterion='entropy',max_features='sqrt', random_state=42) # Guardamos a função do modelo com o parâmetro previamente escolhido na variável.\n",
        "avd.fit(x_train, y_train) # Treina o modelo."
      ],
      "metadata": {
        "id": "zkQqpK8mweGI",
        "colab": {
          "base_uri": "https://localhost:8080/"
        },
        "outputId": "27a99bfb-7f64-4c49-981b-0fe2729a94be"
      },
      "execution_count": null,
      "outputs": [
        {
          "output_type": "execute_result",
          "data": {
            "text/plain": [
              "DecisionTreeClassifier(criterion='entropy', max_features='sqrt',\n",
              "                       random_state=42)"
            ]
          },
          "metadata": {},
          "execution_count": 75
        }
      ]
    },
    {
      "cell_type": "code",
      "source": [
        "y_pred_avd = avd.predict(x_test) # Guarda a predição do teste na variável.\n",
        "y_pred_avd"
      ],
      "metadata": {
        "id": "OL0OTnq4wggt",
        "colab": {
          "base_uri": "https://localhost:8080/"
        },
        "outputId": "1d6419af-da6f-4d29-b25a-664a393059d0"
      },
      "execution_count": null,
      "outputs": [
        {
          "output_type": "execute_result",
          "data": {
            "text/plain": [
              "array([0., 0., 0., 1., 0., 0., 1., 0., 1., 1., 0., 1., 1., 1., 0., 0., 0.,\n",
              "       0., 0., 1., 1., 0., 1., 1., 0., 1., 1., 0., 0., 0., 1., 0., 1., 0.,\n",
              "       0., 1., 0., 0., 1., 1., 1., 1., 1., 0., 0., 1., 0., 0., 1., 1., 1.,\n",
              "       0., 0., 1., 0., 1., 1., 1., 0., 1., 0., 1., 0., 0., 1., 0., 1., 0.,\n",
              "       0., 0., 1., 1., 1., 0., 0., 0., 0., 1., 0., 1., 0., 0., 0., 1., 1.,\n",
              "       0., 0., 0., 0., 0., 1., 0., 1., 1., 0., 0., 1., 0., 1., 0., 1., 0.,\n",
              "       0., 1., 0., 1., 0., 0., 1., 1., 0., 0., 0., 0., 0., 1., 1., 1., 1.,\n",
              "       0., 1., 0., 1., 1., 0., 0., 0., 1., 0., 0., 1., 1., 1., 1., 1., 0.,\n",
              "       1., 0., 0., 1., 1., 1., 1., 0., 0., 1., 1., 1., 1., 0., 1., 1., 1.,\n",
              "       0., 1., 1., 0., 0., 0., 1., 0., 0., 1., 0., 0., 0., 1., 0., 1., 1.,\n",
              "       0., 0., 0., 0., 0., 1., 0., 1., 0., 0., 1., 0., 0., 1., 0., 1., 1.,\n",
              "       1., 1., 0., 1., 1., 0., 0., 1., 0., 0., 0., 1., 1., 1., 1., 0., 0.,\n",
              "       1., 1., 0., 0., 1., 0., 0., 1., 0., 1., 0., 0., 1., 0., 1., 1., 1.,\n",
              "       1., 0., 1., 1., 0., 0., 0., 0., 0., 0., 1., 1., 0., 0., 0., 0., 1.,\n",
              "       1., 0., 0., 0., 0., 1., 0., 0., 0., 1., 1., 0., 1., 1., 0., 0., 1.,\n",
              "       1., 0., 1., 0., 1., 1., 0., 0., 1., 0., 1., 0., 0., 0., 1., 0., 0.,\n",
              "       1., 0., 1., 0., 0., 0., 1., 1., 0., 0., 1., 0., 0., 1., 0., 1., 1.,\n",
              "       1., 0., 1., 1., 0., 0., 0., 1., 0., 0., 1., 0., 1., 1., 0., 1., 0.,\n",
              "       0., 1., 0., 1., 1., 0., 1., 0., 1., 1., 1., 0., 1., 1., 1., 0., 1.,\n",
              "       1., 1., 1., 0., 1., 1., 0., 1., 0., 0., 1., 0., 0., 0., 1., 0., 1.,\n",
              "       1., 0., 0., 0., 0., 1., 0., 0., 0., 0., 1., 1., 1., 0., 1., 1., 1.,\n",
              "       0., 1., 0., 1., 0., 1., 1., 1., 1., 0., 0., 0., 0., 1., 1., 1., 1.,\n",
              "       1., 0., 0., 0., 0., 0., 1., 1., 1., 0., 0., 1., 1., 1., 0., 1., 0.,\n",
              "       1., 0., 1., 0., 1., 1., 0., 1., 0., 0., 1., 1., 1., 1., 0., 0., 1.,\n",
              "       0., 0., 1., 1., 1., 1., 1., 1., 0., 0., 0., 1., 1., 1., 1., 0., 0.,\n",
              "       1., 1., 0., 0., 0., 0., 1., 1., 1., 1., 1., 0., 1., 0., 0., 1., 0.,\n",
              "       0., 0., 1., 1., 1., 0., 0., 1., 1., 0., 0., 0., 0., 0., 0., 1., 0.,\n",
              "       0., 0., 0., 1., 0., 1., 1., 1., 0., 1., 1., 1., 0., 1., 1., 1., 0.,\n",
              "       0., 1., 0., 0., 0., 0., 1., 1., 1., 1., 1., 0., 0., 0., 0., 1., 1.,\n",
              "       0., 0., 1., 1., 1., 1., 1., 1., 1., 1., 1., 1., 1., 0., 0., 1., 0.,\n",
              "       0., 1., 1., 1., 0., 0., 1., 0., 0., 1., 1., 1., 1., 0., 0., 0., 0.,\n",
              "       1., 1., 1., 1., 0., 1., 0., 1., 1., 1., 0., 1., 1., 1., 0., 0., 0.,\n",
              "       0., 1., 0., 0., 0., 0., 0., 1., 0., 1., 1., 0., 1., 1., 0., 0., 0.,\n",
              "       0., 1., 1., 0., 0., 1., 1., 0., 0., 1., 0., 0., 1., 1., 0., 0., 1.,\n",
              "       0., 0., 0., 0., 0., 0., 1., 0., 0., 1., 0., 0., 1., 1., 0., 1., 0.,\n",
              "       0., 1., 0., 1., 1., 0., 0., 0., 1., 0., 1., 0., 0., 1., 1., 1., 1.,\n",
              "       0., 1., 0., 0., 0., 1., 1., 1., 0., 0., 0., 0., 0., 1., 0., 0., 1.,\n",
              "       1., 0., 1., 0., 1., 0., 0., 0., 1., 0., 0., 1., 0., 0., 1., 0., 0.,\n",
              "       0., 1., 1., 1., 1., 1., 1., 1., 0., 0., 1., 1., 0., 0., 1., 1., 1.,\n",
              "       0., 0., 1., 1., 1., 0., 1., 0., 0., 1., 0., 1., 0., 0., 0., 0., 1.,\n",
              "       1., 0., 0., 0., 0., 0., 0., 1., 0., 0., 0., 1., 1., 1., 0., 0., 1.,\n",
              "       1., 1., 0., 0., 0., 1., 0., 0., 0., 0., 1., 0., 1., 1., 1., 1., 0.,\n",
              "       0., 1., 1., 1., 0., 1., 0., 1., 0., 0., 0., 1., 0., 1., 0., 1., 1.,\n",
              "       0., 0., 1., 0., 1., 0., 0., 0., 0., 1., 0., 1., 1.])"
            ]
          },
          "metadata": {},
          "execution_count": 76
        }
      ]
    },
    {
      "cell_type": "markdown",
      "source": [
        "###Métricas"
      ],
      "metadata": {
        "id": "e2Tx7fwpwhZj"
      }
    },
    {
      "cell_type": "markdown",
      "source": [
        "Precisão"
      ],
      "metadata": {
        "id": "eoUIgoQlwisJ"
      }
    },
    {
      "cell_type": "code",
      "source": [
        "accuracy_score(y_test, y_pred_avd)  # Mostra a acurácia do modelo."
      ],
      "metadata": {
        "id": "JgnIwuyDwjhW",
        "colab": {
          "base_uri": "https://localhost:8080/"
        },
        "outputId": "bc5a18e9-dc16-4ed7-db3a-894d7b4abe35"
      },
      "execution_count": null,
      "outputs": [
        {
          "output_type": "execute_result",
          "data": {
            "text/plain": [
              "0.8951612903225806"
            ]
          },
          "metadata": {},
          "execution_count": 77
        }
      ]
    },
    {
      "cell_type": "markdown",
      "source": [
        "Precisão"
      ],
      "metadata": {
        "id": "9WVi3VZYwn-D"
      }
    },
    {
      "cell_type": "code",
      "source": [
        "precision_score(y_test, y_pred_avd) # Mostra a precisão do modelo."
      ],
      "metadata": {
        "id": "07EZFIKqwl3l",
        "colab": {
          "base_uri": "https://localhost:8080/"
        },
        "outputId": "0c4c2e98-a3e8-4caa-de11-94ff50d3c32f"
      },
      "execution_count": null,
      "outputs": [
        {
          "output_type": "execute_result",
          "data": {
            "text/plain": [
              "0.871866295264624"
            ]
          },
          "metadata": {},
          "execution_count": 78
        }
      ]
    },
    {
      "cell_type": "markdown",
      "source": [
        "Recall"
      ],
      "metadata": {
        "id": "Z5qLShkjwlBF"
      }
    },
    {
      "cell_type": "code",
      "source": [
        "recall_score(y_test, y_pred_avd) # Mostra a revocação do modelo."
      ],
      "metadata": {
        "id": "hwVx-JB7wpF0",
        "colab": {
          "base_uri": "https://localhost:8080/"
        },
        "outputId": "deb9d0e2-4a6e-4c1d-f4b6-19ac9a261a39"
      },
      "execution_count": null,
      "outputs": [
        {
          "output_type": "execute_result",
          "data": {
            "text/plain": [
              "0.9072463768115943"
            ]
          },
          "metadata": {},
          "execution_count": 79
        }
      ]
    },
    {
      "cell_type": "markdown",
      "source": [
        "Matriz de Confusão"
      ],
      "metadata": {
        "id": "CqGE_i5jwrmu"
      }
    },
    {
      "cell_type": "code",
      "source": [
        "plot_confusion_matrix(avd,x_test,y_test, cmap='Blues') # Plota a matriz de confusão do modelo."
      ],
      "metadata": {
        "id": "ZTsZFiBWws-Y",
        "colab": {
          "base_uri": "https://localhost:8080/",
          "height": 298
        },
        "outputId": "0f3903cd-8480-4f1a-b2c4-5fd66e63fb73"
      },
      "execution_count": null,
      "outputs": [
        {
          "output_type": "execute_result",
          "data": {
            "text/plain": [
              "<sklearn.metrics._plot.confusion_matrix.ConfusionMatrixDisplay at 0x7f72c6287550>"
            ]
          },
          "metadata": {},
          "execution_count": 80
        },
        {
          "output_type": "display_data",
          "data": {
            "text/plain": [
              "<Figure size 432x288 with 2 Axes>"
            ],
            "image/png": "[encoded data removed]"
          },
          "metadata": {
            "needs_background": "light"
          }
        }
      ]
    },
    {
      "cell_type": "markdown",
      "source": [
        "#KNN"
      ],
      "metadata": {
        "id": "lcITkY94Gr9x"
      }
    },
    {
      "cell_type": "markdown",
      "source": [
        "##KNN parâmetro 1"
      ],
      "metadata": {
        "id": "17jZX9Pdw1kg"
      }
    },
    {
      "cell_type": "code",
      "source": [
        "from sklearn.neighbors import KNeighborsClassifier\n",
        "\n",
        "kn_n = KNeighborsClassifier(n_neighbors=10, \n",
        "                            weights='uniform') # Guardamos a função do modelo com o parâmetro previamente escolhido na variável.\n",
        "kn_n.fit(x_train, y_train) #Treina o modelo."
      ],
      "metadata": {
        "id": "FDDmT1wdw4HU",
        "colab": {
          "base_uri": "https://localhost:8080/"
        },
        "outputId": "0fc69a24-3f79-46d1-e424-cb2b8193a062"
      },
      "execution_count": null,
      "outputs": [
        {
          "output_type": "execute_result",
          "data": {
            "text/plain": [
              "KNeighborsClassifier(n_neighbors=10)"
            ]
          },
          "metadata": {},
          "execution_count": 81
        }
      ]
    },
    {
      "cell_type": "code",
      "source": [
        "y_prev_knn = kn_n.predict(x_test) # Guarda a predição do teste na variável.\n",
        "y_prev_knn"
      ],
      "metadata": {
        "id": "jz900yM3xcRa",
        "colab": {
          "base_uri": "https://localhost:8080/"
        },
        "outputId": "6bd204c9-8d25-4102-b14f-9f1bdab2ed37"
      },
      "execution_count": null,
      "outputs": [
        {
          "output_type": "execute_result",
          "data": {
            "text/plain": [
              "array([1., 0., 0., 1., 0., 0., 1., 0., 1., 1., 1., 1., 1., 0., 1., 1., 1.,\n",
              "       0., 0., 1., 1., 0., 0., 1., 0., 1., 0., 1., 0., 0., 1., 0., 1., 0.,\n",
              "       0., 1., 1., 0., 1., 0., 1., 1., 1., 1., 0., 1., 0., 0., 1., 1., 1.,\n",
              "       0., 1., 0., 0., 1., 1., 1., 0., 1., 0., 1., 0., 0., 1., 1., 1., 1.,\n",
              "       0., 0., 1., 1., 1., 1., 1., 0., 1., 1., 0., 1., 0., 1., 1., 1., 1.,\n",
              "       0., 0., 0., 0., 0., 1., 0., 1., 1., 0., 0., 1., 0., 1., 0., 1., 0.,\n",
              "       0., 1., 1., 0., 0., 0., 1., 1., 0., 0., 0., 0., 1., 1., 1., 1., 0.,\n",
              "       0., 1., 0., 1., 1., 0., 1., 1., 1., 0., 1., 0., 1., 1., 1., 1., 0.,\n",
              "       1., 1., 1., 1., 0., 1., 1., 1., 0., 1., 1., 1., 1., 0., 1., 1., 1.,\n",
              "       0., 1., 1., 0., 0., 0., 1., 1., 0., 1., 0., 0., 1., 1., 0., 1., 1.,\n",
              "       0., 0., 0., 0., 1., 1., 0., 1., 0., 1., 1., 1., 0., 1., 1., 1., 1.,\n",
              "       1., 1., 0., 1., 1., 0., 0., 1., 0., 0., 1., 1., 1., 1., 1., 1., 0.,\n",
              "       1., 1., 1., 0., 1., 0., 0., 1., 0., 1., 0., 0., 1., 0., 0., 1., 1.,\n",
              "       1., 0., 1., 1., 0., 0., 0., 0., 0., 0., 1., 1., 0., 1., 0., 0., 1.,\n",
              "       1., 0., 0., 0., 0., 1., 0., 1., 0., 1., 1., 1., 1., 1., 0., 0., 1.,\n",
              "       1., 0., 0., 1., 0., 1., 0., 0., 1., 1., 1., 0., 0., 0., 1., 0., 0.,\n",
              "       1., 0., 1., 0., 1., 0., 1., 1., 1., 0., 1., 0., 1., 0., 0., 1., 1.,\n",
              "       1., 0., 1., 1., 0., 1., 1., 1., 0., 1., 1., 0., 1., 1., 0., 0., 1.,\n",
              "       0., 0., 0., 1., 1., 0., 1., 0., 1., 0., 1., 0., 1., 1., 1., 0., 1.,\n",
              "       1., 0., 1., 0., 1., 1., 0., 1., 0., 0., 1., 1., 0., 0., 1., 0., 1.,\n",
              "       0., 0., 0., 0., 0., 0., 1., 0., 0., 1., 1., 1., 1., 1., 1., 1., 1.,\n",
              "       0., 1., 0., 1., 0., 1., 1., 1., 0., 1., 0., 1., 0., 1., 0., 1., 1.,\n",
              "       1., 0., 1., 0., 0., 0., 1., 1., 0., 0., 1., 1., 0., 1., 1., 1., 1.,\n",
              "       1., 0., 0., 0., 1., 1., 0., 1., 0., 0., 1., 0., 1., 1., 0., 0., 1.,\n",
              "       0., 1., 1., 0., 1., 1., 1., 1., 1., 1., 0., 0., 1., 1., 1., 0., 0.,\n",
              "       1., 1., 0., 0., 0., 0., 0., 1., 1., 1., 1., 0., 1., 0., 0., 1., 1.,\n",
              "       0., 0., 1., 1., 1., 1., 0., 1., 1., 0., 0., 1., 0., 1., 1., 1., 1.,\n",
              "       1., 0., 0., 1., 0., 1., 1., 1., 0., 1., 1., 1., 0., 0., 1., 0., 0.,\n",
              "       0., 1., 0., 0., 1., 0., 0., 1., 1., 1., 1., 1., 1., 0., 0., 1., 1.,\n",
              "       0., 1., 1., 1., 1., 1., 1., 1., 1., 1., 1., 1., 1., 0., 0., 1., 0.,\n",
              "       0., 1., 1., 0., 1., 0., 1., 1., 0., 0., 1., 1., 1., 0., 0., 1., 0.,\n",
              "       1., 1., 1., 1., 0., 1., 0., 1., 1., 0., 0., 1., 1., 1., 0., 0., 0.,\n",
              "       0., 1., 0., 0., 1., 0., 0., 1., 0., 0., 1., 0., 1., 1., 0., 0., 1.,\n",
              "       0., 1., 1., 0., 0., 1., 0., 0., 0., 1., 0., 1., 0., 0., 1., 0., 0.,\n",
              "       0., 0., 1., 0., 0., 1., 1., 0., 0., 1., 0., 1., 1., 1., 0., 1., 1.,\n",
              "       0., 1., 0., 1., 1., 0., 1., 0., 1., 0., 1., 0., 0., 1., 1., 1., 1.,\n",
              "       0., 1., 0., 0., 0., 1., 0., 1., 1., 0., 0., 1., 1., 0., 0., 0., 1.,\n",
              "       1., 0., 1., 1., 1., 1., 0., 0., 0., 0., 0., 1., 0., 1., 1., 1., 1.,\n",
              "       1., 1., 1., 1., 1., 0., 1., 1., 0., 0., 0., 1., 0., 0., 1., 0., 1.,\n",
              "       0., 0., 1., 1., 1., 0., 1., 0., 0., 1., 0., 1., 0., 0., 1., 1., 1.,\n",
              "       0., 0., 0., 0., 0., 0., 0., 1., 0., 0., 0., 1., 1., 1., 0., 1., 1.,\n",
              "       1., 1., 0., 0., 1., 1., 1., 0., 1., 0., 1., 0., 1., 0., 1., 0., 0.,\n",
              "       0., 1., 1., 1., 0., 0., 1., 0., 1., 0., 1., 1., 1., 1., 0., 1., 1.,\n",
              "       0., 1., 1., 0., 1., 0., 1., 0., 1., 1., 0., 1., 1.])"
            ]
          },
          "metadata": {},
          "execution_count": 82
        }
      ]
    },
    {
      "cell_type": "markdown",
      "source": [
        "###Métricas"
      ],
      "metadata": {
        "id": "Zei6JmxAxhcS"
      }
    },
    {
      "cell_type": "markdown",
      "source": [
        "Acurácia"
      ],
      "metadata": {
        "id": "gC6FgN7VDIpR"
      }
    },
    {
      "cell_type": "code",
      "source": [
        "accuracy_score(y_test, y_prev_knn) # Mostra a acurácia do modelo."
      ],
      "metadata": {
        "id": "7CKYOVjJDNuW",
        "colab": {
          "base_uri": "https://localhost:8080/"
        },
        "outputId": "daf1dc2b-41bc-482a-9f56-2484add6a263"
      },
      "execution_count": null,
      "outputs": [
        {
          "output_type": "execute_result",
          "data": {
            "text/plain": [
              "0.8373655913978495"
            ]
          },
          "metadata": {},
          "execution_count": 83
        }
      ]
    },
    {
      "cell_type": "markdown",
      "source": [
        "Precisão "
      ],
      "metadata": {
        "id": "MLR_-xXKDJ3T"
      }
    },
    {
      "cell_type": "code",
      "source": [
        "precision_score(y_test, y_prev_knn) # Mostra a precisão do modelo."
      ],
      "metadata": {
        "id": "sh69khH9DSck",
        "colab": {
          "base_uri": "https://localhost:8080/"
        },
        "outputId": "d41df31f-7d21-4921-87b2-fdb78fa4d681"
      },
      "execution_count": null,
      "outputs": [
        {
          "output_type": "execute_result",
          "data": {
            "text/plain": [
              "0.7718446601941747"
            ]
          },
          "metadata": {},
          "execution_count": 84
        }
      ]
    },
    {
      "cell_type": "markdown",
      "source": [
        "\n",
        "\n",
        "\n",
        "\n",
        "\n",
        "\n",
        "\n",
        "\n",
        "\n",
        "\n",
        "Recall"
      ],
      "metadata": {
        "id": "fUe-BQVkDK23"
      }
    },
    {
      "cell_type": "code",
      "source": [
        "recall_score(y_test, y_prev_knn) # Mostra a revocação do modelo."
      ],
      "metadata": {
        "id": "0IYsAFDTDUUT",
        "colab": {
          "base_uri": "https://localhost:8080/"
        },
        "outputId": "cc0b9593-76a5-4c8d-dd70-069008dbb2c6"
      },
      "execution_count": null,
      "outputs": [
        {
          "output_type": "execute_result",
          "data": {
            "text/plain": [
              "0.9217391304347826"
            ]
          },
          "metadata": {},
          "execution_count": 85
        }
      ]
    },
    {
      "cell_type": "markdown",
      "source": [
        "Matriz de Confusão"
      ],
      "metadata": {
        "id": "QrnPnwwdDLdb"
      }
    },
    {
      "cell_type": "code",
      "source": [
        "plot_confusion_matrix(kn_n,x_test,y_test, cmap='Blues') # Plota a matriz de confusão do modelo."
      ],
      "metadata": {
        "id": "d8HEsjOsDWCt",
        "colab": {
          "base_uri": "https://localhost:8080/",
          "height": 296
        },
        "outputId": "e770180c-a43e-4c23-dfed-6215995242c4"
      },
      "execution_count": null,
      "outputs": [
        {
          "output_type": "execute_result",
          "data": {
            "text/plain": [
              "<sklearn.metrics._plot.confusion_matrix.ConfusionMatrixDisplay at 0x7f72c62f7090>"
            ]
          },
          "metadata": {},
          "execution_count": 86
        },
        {
          "output_type": "display_data",
          "data": {
            "text/plain": [
              "<Figure size 432x288 with 2 Axes>"
            ],
            "image/png": "[encoded data removed]"
          },
          "metadata": {
            "needs_background": "light"
          }
        }
      ]
    },
    {
      "cell_type": "markdown",
      "source": [
        "##KNN parâmetro 2"
      ],
      "metadata": {
        "id": "24LmMtU7DYOv"
      }
    },
    {
      "cell_type": "code",
      "source": [
        "kn_n = KNeighborsClassifier(n_neighbors=10,\n",
        "                            weights='distance') # Guardamos a função do modelo com o parâmetro previamente escolhido na variável.\n",
        "kn_n.fit(x_train, y_train) # Treina o modelo."
      ],
      "metadata": {
        "id": "e94TFne-DdUx",
        "colab": {
          "base_uri": "https://localhost:8080/"
        },
        "outputId": "284e9722-bcc4-48f4-92c6-848549b8c555"
      },
      "execution_count": null,
      "outputs": [
        {
          "output_type": "execute_result",
          "data": {
            "text/plain": [
              "KNeighborsClassifier(n_neighbors=10, weights='distance')"
            ]
          },
          "metadata": {},
          "execution_count": 87
        }
      ]
    },
    {
      "cell_type": "code",
      "source": [
        "y_prev_knn = kn_n.predict(x_test) # Guarda a predição do teste na variável.\n",
        "y_prev_knn"
      ],
      "metadata": {
        "id": "2F3Vhfu7DjLM",
        "colab": {
          "base_uri": "https://localhost:8080/"
        },
        "outputId": "7816e616-69f0-468f-e17d-e1bd27c975bf"
      },
      "execution_count": null,
      "outputs": [
        {
          "output_type": "execute_result",
          "data": {
            "text/plain": [
              "array([1., 0., 0., 1., 0., 0., 1., 0., 1., 1., 1., 1., 1., 0., 1., 1., 1.,\n",
              "       0., 0., 1., 1., 0., 0., 1., 0., 1., 0., 1., 0., 0., 1., 0., 1., 0.,\n",
              "       0., 1., 1., 0., 1., 1., 1., 1., 1., 1., 1., 1., 0., 0., 1., 1., 1.,\n",
              "       0., 1., 1., 0., 1., 1., 1., 0., 1., 0., 1., 0., 0., 1., 1., 1., 1.,\n",
              "       0., 0., 1., 1., 1., 1., 1., 1., 1., 1., 0., 1., 0., 1., 1., 1., 1.,\n",
              "       0., 0., 0., 0., 1., 1., 0., 1., 1., 0., 0., 1., 0., 1., 0., 1., 0.,\n",
              "       0., 1., 0., 0., 0., 0., 1., 1., 0., 0., 0., 0., 1., 1., 1., 1., 0.,\n",
              "       0., 1., 0., 1., 1., 0., 1., 1., 1., 0., 1., 0., 1., 1., 1., 1., 0.,\n",
              "       1., 1., 1., 1., 0., 1., 1., 1., 0., 1., 1., 1., 1., 0., 1., 1., 1.,\n",
              "       0., 1., 1., 0., 0., 0., 1., 1., 0., 1., 0., 0., 1., 1., 0., 1., 1.,\n",
              "       0., 0., 0., 0., 1., 1., 0., 1., 0., 0., 1., 1., 0., 1., 1., 1., 1.,\n",
              "       1., 1., 0., 1., 1., 0., 0., 1., 0., 0., 1., 1., 1., 1., 1., 1., 0.,\n",
              "       1., 1., 1., 0., 1., 0., 0., 1., 0., 1., 0., 0., 1., 0., 0., 1., 1.,\n",
              "       1., 0., 1., 1., 0., 0., 0., 0., 0., 0., 1., 1., 0., 1., 0., 0., 1.,\n",
              "       1., 0., 0., 0., 0., 1., 0., 1., 0., 1., 1., 1., 1., 1., 0., 0., 1.,\n",
              "       1., 1., 0., 1., 1., 1., 0., 0., 1., 1., 1., 0., 0., 0., 1., 0., 0.,\n",
              "       1., 0., 1., 0., 1., 0., 1., 1., 1., 0., 1., 0., 1., 0., 0., 1., 1.,\n",
              "       1., 0., 1., 1., 0., 1., 1., 1., 0., 1., 1., 0., 1., 1., 0., 0., 1.,\n",
              "       0., 0., 0., 1., 1., 0., 1., 0., 1., 0., 1., 0., 1., 1., 1., 0., 1.,\n",
              "       1., 1., 1., 0., 1., 1., 0., 1., 0., 0., 1., 1., 0., 0., 1., 1., 1.,\n",
              "       0., 0., 0., 0., 0., 0., 1., 0., 0., 1., 1., 1., 1., 1., 1., 1., 1.,\n",
              "       0., 1., 0., 1., 0., 1., 1., 1., 0., 1., 0., 1., 0., 1., 0., 1., 1.,\n",
              "       1., 0., 1., 0., 0., 0., 1., 1., 0., 0., 1., 1., 1., 1., 1., 1., 1.,\n",
              "       1., 0., 0., 0., 1., 1., 0., 1., 0., 0., 1., 0., 1., 1., 0., 0., 1.,\n",
              "       0., 1., 1., 0., 1., 1., 1., 1., 1., 1., 0., 0., 1., 1., 1., 0., 0.,\n",
              "       1., 1., 0., 0., 0., 0., 0., 1., 1., 1., 1., 0., 1., 0., 0., 1., 1.,\n",
              "       0., 0., 1., 1., 1., 1., 0., 1., 1., 0., 0., 1., 0., 1., 1., 1., 1.,\n",
              "       1., 0., 0., 1., 0., 1., 1., 1., 0., 1., 1., 1., 0., 1., 1., 0., 0.,\n",
              "       0., 1., 0., 0., 1., 0., 1., 1., 1., 1., 1., 1., 1., 0., 0., 1., 1.,\n",
              "       0., 1., 1., 1., 1., 1., 1., 1., 1., 1., 1., 1., 1., 0., 0., 1., 0.,\n",
              "       0., 1., 0., 0., 1., 0., 1., 1., 0., 0., 1., 1., 1., 0., 0., 1., 0.,\n",
              "       1., 1., 1., 1., 0., 1., 0., 1., 1., 0., 0., 1., 1., 1., 0., 0., 0.,\n",
              "       0., 1., 0., 0., 1., 0., 0., 1., 0., 1., 1., 0., 1., 1., 0., 0., 1.,\n",
              "       0., 1., 1., 0., 0., 1., 0., 1., 0., 1., 0., 1., 0., 0., 0., 0., 0.,\n",
              "       0., 0., 1., 0., 0., 1., 1., 0., 0., 1., 0., 1., 1., 1., 0., 1., 1.,\n",
              "       0., 1., 0., 1., 1., 0., 1., 0., 1., 0., 1., 0., 0., 1., 1., 1., 1.,\n",
              "       0., 1., 0., 0., 0., 1., 1., 1., 1., 0., 0., 1., 1., 0., 0., 0., 1.,\n",
              "       1., 0., 1., 1., 1., 1., 0., 0., 0., 0., 0., 1., 0., 1., 1., 1., 1.,\n",
              "       1., 1., 1., 1., 1., 0., 1., 1., 0., 0., 1., 1., 0., 0., 1., 0., 1.,\n",
              "       0., 0., 1., 1., 1., 0., 1., 0., 0., 1., 0., 1., 0., 0., 1., 1., 1.,\n",
              "       1., 0., 0., 0., 0., 0., 0., 1., 0., 0., 0., 1., 1., 1., 0., 1., 1.,\n",
              "       1., 1., 0., 0., 1., 1., 1., 0., 1., 0., 1., 0., 1., 1., 1., 0., 0.,\n",
              "       0., 1., 1., 1., 0., 0., 1., 0., 1., 0., 1., 1., 1., 1., 0., 1., 1.,\n",
              "       0., 1., 1., 0., 1., 0., 1., 0., 1., 1., 0., 1., 1.])"
            ]
          },
          "metadata": {},
          "execution_count": 88
        }
      ]
    },
    {
      "cell_type": "markdown",
      "source": [
        "### Métricas"
      ],
      "metadata": {
        "id": "p_jVlWdpDmJD"
      }
    },
    {
      "cell_type": "markdown",
      "source": [
        "Acurácia"
      ],
      "metadata": {
        "id": "AcHNpo7SDnhH"
      }
    },
    {
      "cell_type": "code",
      "source": [
        "accuracy_score(y_test, y_prev_knn) # Mostra a acurácia do modelo."
      ],
      "metadata": {
        "id": "aEMH5aJPDlte",
        "colab": {
          "base_uri": "https://localhost:8080/"
        },
        "outputId": "f9c6da53-ed9d-4211-f1fe-0006fc7534ae"
      },
      "execution_count": null,
      "outputs": [
        {
          "output_type": "execute_result",
          "data": {
            "text/plain": [
              "0.853494623655914"
            ]
          },
          "metadata": {},
          "execution_count": 89
        }
      ]
    },
    {
      "cell_type": "markdown",
      "source": [
        "Precisão "
      ],
      "metadata": {
        "id": "b56-s9YkDs_o"
      }
    },
    {
      "cell_type": "code",
      "source": [
        "precision_score(y_test, y_prev_knn) # Mostra a precisão do modelo."
      ],
      "metadata": {
        "id": "JgabO89gDvOz",
        "colab": {
          "base_uri": "https://localhost:8080/"
        },
        "outputId": "e47fbdb4-1b82-4b33-8212-3899f8c8a59b"
      },
      "execution_count": null,
      "outputs": [
        {
          "output_type": "execute_result",
          "data": {
            "text/plain": [
              "0.7769953051643192"
            ]
          },
          "metadata": {},
          "execution_count": 90
        }
      ]
    },
    {
      "cell_type": "markdown",
      "source": [
        "Recall"
      ],
      "metadata": {
        "id": "FlHW9XmHDt7S"
      }
    },
    {
      "cell_type": "code",
      "source": [
        "recall_score(y_test, y_prev_knn) # Mostra a revocação do modelo."
      ],
      "metadata": {
        "id": "a00y37jeDw__",
        "colab": {
          "base_uri": "https://localhost:8080/"
        },
        "outputId": "922c4eb0-7910-498d-dffb-a6ff98f53066"
      },
      "execution_count": null,
      "outputs": [
        {
          "output_type": "execute_result",
          "data": {
            "text/plain": [
              "0.9594202898550724"
            ]
          },
          "metadata": {},
          "execution_count": 91
        }
      ]
    },
    {
      "cell_type": "markdown",
      "source": [
        "Matriz de Confusão"
      ],
      "metadata": {
        "id": "WluinZYJDzVk"
      }
    },
    {
      "cell_type": "code",
      "source": [
        "plot_confusion_matrix(kn_n,x_test,y_test, cmap='Blues') # Plota a matriz de confusão do modelo."
      ],
      "metadata": {
        "id": "5TI9e1fcD1dL",
        "colab": {
          "base_uri": "https://localhost:8080/",
          "height": 296
        },
        "outputId": "53e9f13c-8c0e-478f-84cd-2c472df1a03e"
      },
      "execution_count": null,
      "outputs": [
        {
          "output_type": "execute_result",
          "data": {
            "text/plain": [
              "<sklearn.metrics._plot.confusion_matrix.ConfusionMatrixDisplay at 0x7f72c621fb10>"
            ]
          },
          "metadata": {},
          "execution_count": 92
        },
        {
          "output_type": "display_data",
          "data": {
            "text/plain": [
              "<Figure size 432x288 with 2 Axes>"
            ],
            "image/png": "[encoded data removed]"
          },
          "metadata": {
            "needs_background": "light"
          }
        }
      ]
    },
    {
      "cell_type": "markdown",
      "source": [
        "##KNN parâmetro 3"
      ],
      "metadata": {
        "id": "cbpxKwdpD4YC"
      }
    },
    {
      "cell_type": "code",
      "source": [
        "kn_n = KNeighborsClassifier(leaf_size=30,\n",
        "                            algorithm='ball_tree') # Guardamos a função do modelo com o parâmetro previamente escolhido na variável.\n",
        "kn_n.fit(x_train, y_train) # Treina o modelo."
      ],
      "metadata": {
        "id": "fjQKsebfD9V7",
        "colab": {
          "base_uri": "https://localhost:8080/"
        },
        "outputId": "8364417c-ac61-4131-f5c1-205bc398ed1a"
      },
      "execution_count": null,
      "outputs": [
        {
          "output_type": "execute_result",
          "data": {
            "text/plain": [
              "KNeighborsClassifier(algorithm='ball_tree')"
            ]
          },
          "metadata": {},
          "execution_count": 93
        }
      ]
    },
    {
      "cell_type": "code",
      "source": [
        "y_prev_knn = kn_n.predict(x_test) # Guarda a predição do teste na variável.\n",
        "y_prev_knn"
      ],
      "metadata": {
        "id": "AKZ1H9lHE3ug",
        "colab": {
          "base_uri": "https://localhost:8080/"
        },
        "outputId": "4466a871-b3f5-4058-e41c-4eee985b9e2b"
      },
      "execution_count": null,
      "outputs": [
        {
          "output_type": "execute_result",
          "data": {
            "text/plain": [
              "array([1., 0., 0., 1., 0., 0., 1., 0., 1., 1., 1., 1., 1., 0., 1., 1., 0.,\n",
              "       0., 0., 1., 1., 0., 0., 1., 0., 1., 0., 1., 0., 0., 1., 0., 1., 0.,\n",
              "       0., 1., 1., 0., 1., 1., 1., 1., 1., 1., 1., 1., 0., 0., 1., 1., 1.,\n",
              "       0., 1., 1., 0., 1., 1., 1., 0., 1., 1., 1., 0., 0., 1., 1., 1., 1.,\n",
              "       0., 0., 1., 1., 1., 1., 1., 1., 1., 1., 0., 1., 0., 1., 1., 1., 1.,\n",
              "       0., 0., 0., 0., 1., 1., 0., 1., 1., 0., 0., 0., 0., 1., 0., 0., 0.,\n",
              "       0., 1., 0., 1., 0., 0., 1., 1., 0., 0., 0., 0., 0., 1., 1., 1., 0.,\n",
              "       0., 0., 0., 1., 1., 0., 1., 1., 1., 0., 1., 0., 1., 1., 1., 1., 0.,\n",
              "       1., 1., 1., 1., 0., 1., 1., 1., 0., 1., 1., 1., 1., 1., 1., 1., 1.,\n",
              "       0., 1., 1., 0., 0., 0., 1., 1., 0., 1., 0., 0., 1., 1., 0., 1., 1.,\n",
              "       0., 0., 0., 0., 1., 1., 0., 1., 0., 0., 1., 1., 0., 1., 1., 1., 1.,\n",
              "       1., 1., 0., 1., 1., 0., 0., 1., 0., 0., 1., 1., 1., 1., 1., 1., 0.,\n",
              "       1., 1., 1., 0., 1., 0., 0., 1., 0., 1., 0., 0., 1., 0., 0., 1., 1.,\n",
              "       1., 0., 1., 1., 0., 0., 0., 0., 0., 0., 1., 1., 0., 1., 0., 0., 1.,\n",
              "       1., 0., 0., 0., 0., 1., 0., 1., 0., 1., 1., 1., 1., 1., 0., 0., 1.,\n",
              "       1., 1., 0., 0., 1., 1., 0., 0., 1., 0., 1., 0., 0., 0., 1., 1., 0.,\n",
              "       1., 0., 1., 0., 1., 0., 1., 1., 1., 0., 1., 0., 1., 0., 0., 1., 1.,\n",
              "       1., 0., 0., 1., 0., 1., 1., 1., 0., 1., 1., 0., 1., 1., 0., 0., 1.,\n",
              "       0., 0., 0., 1., 1., 0., 1., 0., 1., 0., 1., 0., 1., 1., 1., 0., 1.,\n",
              "       1., 1., 1., 0., 1., 1., 0., 1., 0., 0., 1., 1., 0., 0., 1., 1., 1.,\n",
              "       0., 0., 0., 0., 0., 0., 1., 0., 0., 1., 1., 1., 1., 1., 1., 1., 1.,\n",
              "       1., 1., 0., 1., 0., 1., 1., 1., 0., 1., 0., 1., 0., 1., 0., 1., 1.,\n",
              "       1., 0., 0., 0., 0., 0., 1., 1., 0., 0., 1., 1., 0., 1., 0., 1., 1.,\n",
              "       1., 0., 0., 0., 1., 1., 0., 1., 0., 0., 1., 0., 1., 1., 0., 0., 1.,\n",
              "       0., 1., 1., 0., 1., 1., 1., 1., 1., 1., 0., 1., 1., 1., 1., 0., 0.,\n",
              "       1., 1., 0., 0., 1., 0., 0., 1., 1., 1., 1., 0., 1., 0., 0., 1., 1.,\n",
              "       0., 0., 1., 1., 1., 1., 0., 1., 1., 0., 0., 1., 0., 1., 1., 1., 1.,\n",
              "       1., 0., 0., 1., 0., 1., 1., 1., 0., 1., 1., 1., 0., 1., 1., 0., 0.,\n",
              "       0., 1., 0., 0., 1., 0., 0., 1., 1., 1., 1., 1., 1., 0., 0., 1., 1.,\n",
              "       0., 1., 1., 1., 1., 1., 1., 1., 1., 1., 1., 1., 1., 0., 0., 1., 0.,\n",
              "       0., 1., 1., 0., 0., 0., 1., 1., 0., 0., 1., 1., 1., 0., 0., 1., 0.,\n",
              "       1., 1., 1., 1., 0., 1., 0., 1., 1., 0., 0., 1., 1., 1., 0., 0., 0.,\n",
              "       0., 0., 0., 0., 1., 0., 0., 1., 0., 1., 1., 0., 1., 1., 1., 0., 1.,\n",
              "       0., 0., 1., 0., 0., 1., 0., 1., 0., 1., 0., 0., 0., 0., 0., 0., 0.,\n",
              "       0., 0., 1., 0., 0., 0., 1., 0., 0., 1., 0., 1., 0., 1., 0., 1., 0.,\n",
              "       0., 1., 0., 1., 1., 0., 1., 0., 1., 0., 1., 0., 0., 1., 1., 1., 1.,\n",
              "       0., 1., 0., 0., 0., 1., 1., 1., 1., 0., 0., 1., 0., 0., 0., 0., 1.,\n",
              "       1., 0., 1., 1., 1., 1., 0., 0., 0., 0., 0., 1., 1., 1., 1., 1., 1.,\n",
              "       1., 1., 1., 1., 1., 0., 1., 1., 0., 0., 1., 1., 0., 0., 1., 0., 1.,\n",
              "       0., 0., 1., 1., 1., 0., 1., 0., 0., 1., 0., 1., 0., 0., 1., 1., 1.,\n",
              "       1., 0., 0., 0., 0., 0., 0., 1., 0., 0., 0., 1., 1., 1., 0., 1., 1.,\n",
              "       1., 1., 0., 0., 1., 1., 1., 0., 1., 0., 1., 0., 1., 1., 1., 0., 0.,\n",
              "       0., 1., 1., 1., 0., 0., 1., 0., 1., 0., 1., 1., 1., 1., 0., 1., 1.,\n",
              "       0., 1., 1., 0., 1., 0., 1., 0., 0., 1., 0., 1., 1.])"
            ]
          },
          "metadata": {},
          "execution_count": 94
        }
      ]
    },
    {
      "cell_type": "markdown",
      "source": [
        "###Métricas"
      ],
      "metadata": {
        "id": "lrnW6LFuE9Ki"
      }
    },
    {
      "cell_type": "markdown",
      "source": [
        "Acurácia"
      ],
      "metadata": {
        "id": "Q3YIbBzrE-YN"
      }
    },
    {
      "cell_type": "code",
      "source": [
        "accuracy_score(y_test, y_prev_knn) # Mostra a acurácia do modelo."
      ],
      "metadata": {
        "id": "sbINg_xnFDUV",
        "colab": {
          "base_uri": "https://localhost:8080/"
        },
        "outputId": "da46c98a-8cea-46e2-fc8a-ebace8995e78"
      },
      "execution_count": null,
      "outputs": [
        {
          "output_type": "execute_result",
          "data": {
            "text/plain": [
              "0.8629032258064516"
            ]
          },
          "metadata": {},
          "execution_count": 95
        }
      ]
    },
    {
      "cell_type": "markdown",
      "source": [
        "Precisão"
      ],
      "metadata": {
        "id": "pOLGtkuxE_fF"
      }
    },
    {
      "cell_type": "code",
      "source": [
        "precision_score(y_test, y_prev_knn) # Mostra a precisão do modelo."
      ],
      "metadata": {
        "id": "WrprtlR5FJHr",
        "colab": {
          "base_uri": "https://localhost:8080/"
        },
        "outputId": "f7376986-e46f-4968-a3f6-5123656da2ff"
      },
      "execution_count": null,
      "outputs": [
        {
          "output_type": "execute_result",
          "data": {
            "text/plain": [
              "0.7927710843373494"
            ]
          },
          "metadata": {},
          "execution_count": 96
        }
      ]
    },
    {
      "cell_type": "markdown",
      "source": [
        "Recall"
      ],
      "metadata": {
        "id": "SpMg9b4cFBQF"
      }
    },
    {
      "cell_type": "code",
      "source": [
        "recall_score(y_test, y_prev_knn) # Mostra a revocação do modelo."
      ],
      "metadata": {
        "id": "7o5znDzOFK5G",
        "colab": {
          "base_uri": "https://localhost:8080/"
        },
        "outputId": "c70d1e2c-aa19-4835-ece2-0e1fe04e0cb0"
      },
      "execution_count": null,
      "outputs": [
        {
          "output_type": "execute_result",
          "data": {
            "text/plain": [
              "0.9536231884057971"
            ]
          },
          "metadata": {},
          "execution_count": 97
        }
      ]
    },
    {
      "cell_type": "markdown",
      "source": [
        "Matriz de Confusão"
      ],
      "metadata": {
        "id": "O41v9nBwFB7H"
      }
    },
    {
      "cell_type": "code",
      "source": [
        "plot_confusion_matrix(kn_n,x_test,y_test, cmap='Blues') # Plota a matriz de confusão do modelo."
      ],
      "metadata": {
        "id": "tQHv8fOaFeT8",
        "colab": {
          "base_uri": "https://localhost:8080/",
          "height": 296
        },
        "outputId": "3a05095a-bfde-44fd-b45f-564ef95d0a0f"
      },
      "execution_count": null,
      "outputs": [
        {
          "output_type": "execute_result",
          "data": {
            "text/plain": [
              "<sklearn.metrics._plot.confusion_matrix.ConfusionMatrixDisplay at 0x7f72c60a1810>"
            ]
          },
          "metadata": {},
          "execution_count": 98
        },
        {
          "output_type": "display_data",
          "data": {
            "text/plain": [
              "<Figure size 432x288 with 2 Axes>"
            ],
            "image/png": "[encoded data removed]"
          },
          "metadata": {
            "needs_background": "light"
          }
        }
      ]
    },
    {
      "cell_type": "markdown",
      "source": [
        "##KNN parametro 4"
      ],
      "metadata": {
        "id": "xeyBUy_tFg8T"
      }
    },
    {
      "cell_type": "code",
      "source": [
        "kn_n = KNeighborsClassifier(leaf_size=30,\n",
        "                            algorithm='kd_tree') # Guardamos a função do modelo com o parâmetro previamente escolhido na variável.\n",
        "kn_n.fit(x_train, y_train) # Treina o modelo."
      ],
      "metadata": {
        "id": "jHaO9gbeFlaf",
        "colab": {
          "base_uri": "https://localhost:8080/"
        },
        "outputId": "acf58878-24d5-4f3d-84be-9973317f36d8"
      },
      "execution_count": null,
      "outputs": [
        {
          "output_type": "execute_result",
          "data": {
            "text/plain": [
              "KNeighborsClassifier(algorithm='kd_tree')"
            ]
          },
          "metadata": {},
          "execution_count": 99
        }
      ]
    },
    {
      "cell_type": "code",
      "source": [
        "y_prev_knn = kn_n.predict(x_test) # Guarda a predição do teste na variável.\n",
        "y_prev_knn"
      ],
      "metadata": {
        "id": "lldYfqlPFpIE",
        "colab": {
          "base_uri": "https://localhost:8080/"
        },
        "outputId": "bcc1990d-344b-4bf1-f428-647084c514b5"
      },
      "execution_count": null,
      "outputs": [
        {
          "output_type": "execute_result",
          "data": {
            "text/plain": [
              "array([1., 0., 0., 1., 0., 0., 1., 0., 1., 1., 1., 1., 1., 0., 1., 1., 0.,\n",
              "       0., 0., 1., 1., 0., 0., 1., 0., 1., 0., 1., 0., 0., 1., 0., 1., 0.,\n",
              "       0., 1., 1., 0., 1., 1., 1., 1., 1., 1., 1., 1., 0., 0., 1., 1., 1.,\n",
              "       0., 1., 1., 0., 1., 1., 1., 0., 1., 1., 1., 0., 0., 1., 1., 1., 1.,\n",
              "       0., 0., 1., 1., 1., 1., 1., 1., 1., 1., 0., 1., 0., 1., 1., 1., 1.,\n",
              "       0., 0., 0., 0., 1., 1., 0., 1., 1., 0., 0., 0., 0., 1., 0., 0., 0.,\n",
              "       0., 1., 0., 1., 0., 0., 1., 1., 0., 0., 0., 0., 0., 1., 1., 1., 0.,\n",
              "       0., 0., 0., 1., 1., 0., 1., 1., 1., 0., 1., 0., 1., 1., 1., 1., 0.,\n",
              "       1., 1., 1., 1., 0., 1., 1., 1., 0., 1., 1., 1., 1., 1., 1., 1., 1.,\n",
              "       0., 1., 1., 0., 0., 0., 1., 1., 0., 1., 0., 0., 1., 1., 0., 1., 1.,\n",
              "       0., 0., 0., 0., 1., 1., 0., 1., 0., 0., 1., 1., 0., 1., 1., 1., 1.,\n",
              "       1., 1., 0., 1., 1., 0., 0., 1., 0., 0., 1., 1., 1., 1., 1., 1., 0.,\n",
              "       1., 1., 1., 0., 1., 0., 0., 1., 0., 1., 0., 0., 1., 0., 0., 1., 1.,\n",
              "       1., 0., 1., 1., 0., 0., 0., 0., 0., 0., 1., 1., 0., 1., 0., 0., 1.,\n",
              "       1., 0., 0., 0., 0., 1., 0., 1., 0., 1., 1., 1., 1., 1., 0., 0., 1.,\n",
              "       1., 1., 0., 0., 1., 1., 0., 0., 1., 0., 1., 0., 0., 0., 1., 1., 0.,\n",
              "       1., 0., 1., 0., 1., 0., 1., 1., 1., 0., 1., 0., 1., 0., 0., 1., 1.,\n",
              "       1., 0., 0., 1., 0., 1., 1., 1., 0., 1., 1., 0., 1., 1., 0., 0., 1.,\n",
              "       0., 0., 0., 1., 1., 0., 1., 0., 1., 0., 1., 0., 1., 1., 1., 0., 1.,\n",
              "       1., 1., 1., 0., 1., 1., 0., 1., 0., 0., 1., 1., 0., 0., 1., 1., 1.,\n",
              "       0., 0., 0., 0., 0., 0., 1., 0., 0., 1., 1., 1., 1., 1., 1., 1., 1.,\n",
              "       1., 1., 0., 1., 0., 1., 1., 1., 0., 1., 0., 1., 0., 1., 0., 1., 1.,\n",
              "       1., 0., 0., 0., 0., 0., 1., 1., 0., 0., 1., 1., 0., 1., 0., 1., 1.,\n",
              "       1., 0., 0., 0., 1., 1., 0., 1., 0., 0., 1., 0., 1., 1., 0., 0., 1.,\n",
              "       0., 1., 1., 0., 1., 1., 1., 1., 1., 1., 0., 1., 1., 1., 1., 0., 0.,\n",
              "       1., 1., 0., 0., 1., 0., 0., 1., 1., 1., 1., 0., 1., 0., 0., 1., 1.,\n",
              "       0., 0., 1., 1., 1., 1., 0., 1., 1., 0., 0., 1., 0., 1., 1., 1., 1.,\n",
              "       1., 0., 0., 1., 0., 1., 1., 1., 0., 1., 1., 1., 0., 1., 1., 0., 0.,\n",
              "       0., 1., 0., 0., 1., 0., 0., 1., 1., 1., 1., 1., 1., 0., 0., 1., 1.,\n",
              "       0., 1., 1., 1., 1., 1., 1., 1., 1., 1., 1., 1., 1., 0., 0., 1., 0.,\n",
              "       0., 1., 1., 0., 0., 0., 1., 1., 0., 0., 1., 1., 1., 0., 0., 1., 0.,\n",
              "       1., 1., 1., 1., 0., 1., 0., 1., 1., 0., 0., 1., 1., 1., 0., 0., 0.,\n",
              "       0., 0., 0., 0., 1., 0., 0., 1., 0., 1., 1., 0., 1., 1., 1., 0., 1.,\n",
              "       0., 0., 1., 0., 0., 1., 0., 1., 0., 1., 0., 0., 0., 0., 0., 0., 0.,\n",
              "       0., 0., 1., 0., 0., 0., 1., 0., 0., 1., 0., 1., 0., 1., 0., 1., 0.,\n",
              "       0., 1., 0., 1., 1., 0., 1., 0., 1., 0., 1., 0., 0., 1., 1., 1., 1.,\n",
              "       0., 1., 0., 0., 0., 1., 1., 1., 1., 0., 0., 1., 0., 0., 0., 0., 1.,\n",
              "       1., 0., 1., 1., 1., 1., 0., 0., 0., 0., 0., 1., 1., 1., 1., 1., 1.,\n",
              "       1., 1., 1., 1., 1., 0., 1., 1., 0., 0., 1., 1., 0., 0., 1., 0., 1.,\n",
              "       0., 0., 1., 1., 1., 0., 1., 0., 0., 1., 0., 1., 0., 0., 1., 1., 1.,\n",
              "       1., 0., 0., 0., 0., 0., 0., 1., 0., 0., 0., 1., 1., 1., 0., 1., 1.,\n",
              "       1., 1., 0., 0., 1., 1., 1., 0., 1., 0., 1., 0., 1., 1., 1., 0., 0.,\n",
              "       0., 1., 1., 1., 0., 0., 1., 0., 1., 0., 1., 1., 1., 1., 0., 1., 1.,\n",
              "       0., 1., 1., 0., 1., 0., 1., 0., 0., 1., 0., 1., 1.])"
            ]
          },
          "metadata": {},
          "execution_count": 100
        }
      ]
    },
    {
      "cell_type": "markdown",
      "source": [
        "###Métricas"
      ],
      "metadata": {
        "id": "HUAC2N8yFrWm"
      }
    },
    {
      "cell_type": "markdown",
      "source": [
        "Acurácia"
      ],
      "metadata": {
        "id": "XqdVgAY5Fs9X"
      }
    },
    {
      "cell_type": "code",
      "source": [
        "accuracy_score(y_test, y_prev_knn) # Mostra a acurácia do modelo."
      ],
      "metadata": {
        "id": "nEmijiDFFuEb",
        "colab": {
          "base_uri": "https://localhost:8080/"
        },
        "outputId": "4b7656cb-3c69-4869-a20e-d723f281459d"
      },
      "execution_count": null,
      "outputs": [
        {
          "output_type": "execute_result",
          "data": {
            "text/plain": [
              "0.8629032258064516"
            ]
          },
          "metadata": {},
          "execution_count": 101
        }
      ]
    },
    {
      "cell_type": "markdown",
      "source": [
        "Precisão"
      ],
      "metadata": {
        "id": "ErazmiSQFuhs"
      }
    },
    {
      "cell_type": "code",
      "source": [
        "precision_score(y_test, y_prev_knn) # Mostra a precisão do modelo."
      ],
      "metadata": {
        "id": "5aMHWSETFv2t",
        "colab": {
          "base_uri": "https://localhost:8080/"
        },
        "outputId": "a5ecedd4-2e31-43d9-ae42-a59a2ae40f7e"
      },
      "execution_count": null,
      "outputs": [
        {
          "output_type": "execute_result",
          "data": {
            "text/plain": [
              "0.7927710843373494"
            ]
          },
          "metadata": {},
          "execution_count": 102
        }
      ]
    },
    {
      "cell_type": "markdown",
      "source": [
        "Recall"
      ],
      "metadata": {
        "id": "VU88MjJBFyaj"
      }
    },
    {
      "cell_type": "code",
      "source": [
        "recall_score(y_test, y_prev_knn)# Mostra a revocação do modelo."
      ],
      "metadata": {
        "id": "O-3VhLEkF0oH",
        "colab": {
          "base_uri": "https://localhost:8080/"
        },
        "outputId": "2e1aa1e3-d772-4e79-9b7a-b5f638207800"
      },
      "execution_count": null,
      "outputs": [
        {
          "output_type": "execute_result",
          "data": {
            "text/plain": [
              "0.9536231884057971"
            ]
          },
          "metadata": {},
          "execution_count": 103
        }
      ]
    },
    {
      "cell_type": "markdown",
      "source": [
        "Matriz de Confusão"
      ],
      "metadata": {
        "id": "0PXq3FM8F5eM"
      }
    },
    {
      "cell_type": "code",
      "source": [
        "plot_confusion_matrix(kn_n,x_test,y_test, cmap='Blues') # Plota a matriz de confusão do modelo."
      ],
      "metadata": {
        "id": "Txyymz_gF2N2",
        "colab": {
          "base_uri": "https://localhost:8080/",
          "height": 296
        },
        "outputId": "f93dd2ec-7b84-4b0d-9179-6ec03c405d34"
      },
      "execution_count": null,
      "outputs": [
        {
          "output_type": "execute_result",
          "data": {
            "text/plain": [
              "<sklearn.metrics._plot.confusion_matrix.ConfusionMatrixDisplay at 0x7f72c6042a50>"
            ]
          },
          "metadata": {},
          "execution_count": 104
        },
        {
          "output_type": "display_data",
          "data": {
            "text/plain": [
              "<Figure size 432x288 with 2 Axes>"
            ],
            "image/png": "[encoded data removed]"
          },
          "metadata": {
            "needs_background": "light"
          }
        }
      ]
    },
    {
      "cell_type": "markdown",
      "source": [
        "##KNN parâmetro 5\n"
      ],
      "metadata": {
        "id": "DrbPwb1vGXn6"
      }
    },
    {
      "cell_type": "code",
      "source": [
        "kn_n = KNeighborsClassifier(leaf_size=30,\n",
        "                            algorithm='brute') # Guardamos a função do modelo com o parâmetro previamente escolhido na variável.\n",
        "kn_n.fit(x_train, y_train) # Treina o modelo."
      ],
      "metadata": {
        "id": "XNbSEshAGgoo",
        "colab": {
          "base_uri": "https://localhost:8080/"
        },
        "outputId": "11a5758e-6d68-4244-98a1-355f47aeb0d4"
      },
      "execution_count": null,
      "outputs": [
        {
          "output_type": "execute_result",
          "data": {
            "text/plain": [
              "KNeighborsClassifier(algorithm='brute')"
            ]
          },
          "metadata": {},
          "execution_count": 105
        }
      ]
    },
    {
      "cell_type": "code",
      "source": [
        "y_prev_knn = kn_n.predict(x_test) # Guarda a predição do teste na variável.\n",
        "y_prev_knn"
      ],
      "metadata": {
        "id": "ODGI6JNEGl_s",
        "colab": {
          "base_uri": "https://localhost:8080/"
        },
        "outputId": "281e5be5-72bf-488b-b498-eb1e67965a9e"
      },
      "execution_count": null,
      "outputs": [
        {
          "output_type": "execute_result",
          "data": {
            "text/plain": [
              "array([1., 0., 0., 1., 0., 0., 1., 0., 1., 1., 1., 1., 1., 0., 1., 1., 0.,\n",
              "       0., 0., 1., 1., 0., 0., 1., 0., 1., 0., 1., 0., 0., 1., 0., 1., 0.,\n",
              "       0., 1., 1., 0., 1., 1., 1., 1., 1., 1., 1., 1., 0., 0., 1., 1., 1.,\n",
              "       0., 1., 1., 0., 1., 1., 1., 0., 1., 1., 1., 0., 0., 1., 1., 1., 1.,\n",
              "       0., 0., 1., 1., 1., 1., 1., 1., 1., 1., 0., 1., 0., 1., 1., 1., 1.,\n",
              "       0., 0., 0., 0., 1., 1., 0., 1., 1., 0., 0., 0., 0., 1., 0., 0., 0.,\n",
              "       0., 1., 0., 1., 0., 0., 1., 1., 0., 0., 0., 0., 0., 1., 1., 1., 0.,\n",
              "       0., 0., 0., 1., 1., 0., 1., 1., 1., 0., 1., 0., 1., 1., 1., 1., 0.,\n",
              "       1., 1., 1., 1., 0., 1., 1., 1., 0., 1., 1., 1., 1., 1., 1., 1., 1.,\n",
              "       0., 1., 1., 0., 0., 0., 1., 1., 0., 1., 0., 0., 1., 1., 0., 1., 1.,\n",
              "       0., 0., 0., 0., 1., 1., 0., 1., 0., 0., 1., 1., 0., 1., 1., 1., 1.,\n",
              "       1., 1., 0., 1., 1., 0., 0., 1., 0., 0., 1., 1., 1., 1., 1., 1., 0.,\n",
              "       1., 1., 1., 0., 1., 0., 0., 1., 0., 1., 0., 0., 1., 0., 0., 1., 1.,\n",
              "       1., 0., 1., 1., 0., 0., 0., 0., 0., 0., 1., 1., 0., 1., 0., 0., 1.,\n",
              "       1., 0., 0., 0., 0., 1., 0., 1., 0., 1., 1., 1., 1., 1., 0., 0., 1.,\n",
              "       1., 1., 0., 0., 1., 1., 0., 0., 1., 0., 1., 0., 0., 0., 1., 1., 0.,\n",
              "       1., 0., 1., 0., 1., 0., 1., 1., 1., 0., 1., 0., 1., 0., 0., 1., 1.,\n",
              "       1., 0., 0., 1., 0., 1., 1., 1., 0., 1., 1., 0., 1., 1., 0., 0., 1.,\n",
              "       0., 0., 0., 1., 1., 0., 1., 0., 1., 0., 1., 0., 1., 1., 1., 0., 1.,\n",
              "       1., 1., 1., 0., 1., 1., 0., 1., 0., 0., 1., 1., 0., 0., 1., 1., 1.,\n",
              "       0., 0., 0., 0., 0., 0., 1., 0., 0., 1., 1., 1., 1., 1., 1., 1., 1.,\n",
              "       1., 1., 0., 1., 0., 1., 1., 1., 0., 1., 0., 1., 0., 1., 0., 1., 1.,\n",
              "       1., 0., 0., 0., 0., 0., 1., 1., 0., 0., 1., 1., 0., 1., 0., 1., 1.,\n",
              "       1., 0., 0., 0., 1., 1., 0., 1., 0., 0., 1., 0., 1., 1., 0., 0., 1.,\n",
              "       0., 1., 1., 0., 1., 1., 1., 1., 1., 1., 0., 1., 1., 1., 1., 0., 0.,\n",
              "       1., 1., 0., 0., 1., 0., 0., 1., 1., 1., 1., 0., 1., 0., 0., 1., 1.,\n",
              "       0., 0., 1., 1., 1., 1., 0., 1., 1., 0., 0., 1., 0., 1., 1., 1., 1.,\n",
              "       1., 0., 0., 1., 0., 1., 1., 1., 0., 1., 1., 1., 0., 1., 1., 0., 0.,\n",
              "       0., 1., 0., 0., 1., 0., 0., 1., 1., 1., 1., 1., 1., 0., 0., 1., 1.,\n",
              "       0., 1., 1., 1., 1., 1., 1., 1., 1., 1., 1., 1., 1., 0., 0., 1., 0.,\n",
              "       0., 1., 1., 0., 0., 0., 1., 1., 0., 0., 1., 1., 1., 0., 0., 1., 0.,\n",
              "       1., 1., 1., 1., 0., 1., 0., 1., 1., 0., 0., 1., 1., 1., 0., 0., 0.,\n",
              "       0., 0., 0., 0., 1., 0., 0., 1., 0., 1., 1., 0., 1., 1., 1., 0., 1.,\n",
              "       0., 0., 1., 0., 0., 1., 0., 1., 0., 1., 0., 0., 0., 0., 0., 0., 0.,\n",
              "       0., 0., 1., 0., 0., 0., 1., 0., 0., 1., 0., 1., 0., 1., 0., 1., 0.,\n",
              "       0., 1., 0., 1., 1., 0., 1., 0., 1., 0., 1., 0., 0., 1., 1., 1., 1.,\n",
              "       0., 1., 0., 0., 0., 1., 1., 1., 1., 0., 0., 1., 0., 0., 0., 0., 1.,\n",
              "       1., 0., 1., 1., 1., 1., 0., 0., 0., 0., 0., 1., 1., 1., 1., 1., 1.,\n",
              "       1., 1., 1., 1., 1., 0., 1., 1., 0., 0., 1., 1., 0., 0., 1., 0., 1.,\n",
              "       0., 0., 1., 1., 1., 0., 1., 0., 0., 1., 0., 1., 0., 0., 1., 1., 1.,\n",
              "       1., 0., 0., 0., 0., 0., 0., 1., 0., 0., 0., 1., 1., 1., 0., 1., 1.,\n",
              "       1., 1., 0., 0., 1., 1., 1., 0., 1., 0., 1., 0., 1., 1., 1., 0., 0.,\n",
              "       0., 1., 1., 1., 0., 0., 1., 0., 1., 0., 1., 1., 1., 1., 0., 1., 1.,\n",
              "       0., 1., 1., 0., 1., 0., 1., 0., 0., 1., 0., 1., 1.])"
            ]
          },
          "metadata": {},
          "execution_count": 106
        }
      ]
    },
    {
      "cell_type": "markdown",
      "source": [
        "###Métricas"
      ],
      "metadata": {
        "id": "piV1diwKGn_q"
      }
    },
    {
      "cell_type": "markdown",
      "source": [
        "Acurácia"
      ],
      "metadata": {
        "id": "ZFwZoElEGpju"
      }
    },
    {
      "cell_type": "code",
      "source": [
        "accuracy_score(y_test, y_prev_knn) # Mostra a acurácia do modelo."
      ],
      "metadata": {
        "id": "XpVxXHoJGrLh",
        "colab": {
          "base_uri": "https://localhost:8080/"
        },
        "outputId": "51412376-60c0-440a-8738-1a12907d8747"
      },
      "execution_count": null,
      "outputs": [
        {
          "output_type": "execute_result",
          "data": {
            "text/plain": [
              "0.8629032258064516"
            ]
          },
          "metadata": {},
          "execution_count": 107
        }
      ]
    },
    {
      "cell_type": "markdown",
      "source": [
        "Precisão"
      ],
      "metadata": {
        "id": "2ywpEjwXHHFV"
      }
    },
    {
      "cell_type": "code",
      "source": [
        "precision_score(y_test, y_prev_knn) # Mostra a precisão do modelo."
      ],
      "metadata": {
        "id": "ORzqOA-0HEBz",
        "colab": {
          "base_uri": "https://localhost:8080/"
        },
        "outputId": "2dab9c96-a6bc-4fd6-f75d-409d9065d354"
      },
      "execution_count": null,
      "outputs": [
        {
          "output_type": "execute_result",
          "data": {
            "text/plain": [
              "0.7927710843373494"
            ]
          },
          "metadata": {},
          "execution_count": 108
        }
      ]
    },
    {
      "cell_type": "markdown",
      "source": [
        "Recall"
      ],
      "metadata": {
        "id": "Y68cjNytHIXS"
      }
    },
    {
      "cell_type": "code",
      "source": [
        "recall_score(y_test, y_prev_knn) # Mostra a revocação do modelo."
      ],
      "metadata": {
        "id": "bVSO-EG5acUQ"
      },
      "execution_count": null,
      "outputs": []
    },
    {
      "cell_type": "markdown",
      "source": [
        "#Random Forest"
      ],
      "metadata": {
        "id": "9Nv11584HGm2"
      }
    },
    {
      "cell_type": "markdown",
      "source": [
        "##Random Forest PARAMETRO 1"
      ],
      "metadata": {
        "id": "-xL-QUEEKmUM"
      }
    },
    {
      "cell_type": "code",
      "source": [
        "avd = RandomForestClassifier(criterion='entropy',max_features='sqrt', random_state=42) # Guardamos a função do modelo com o parâmetro previamente escolhido na variável.\n",
        "avd.fit(x_train, y_train) #Treina o modelo."
      ],
      "metadata": {
        "colab": {
          "base_uri": "https://localhost:8080/"
        },
        "id": "bcFLtM1WHIYS",
        "outputId": "572056f0-cc9e-4f07-979d-2cbfbe964570"
      },
      "execution_count": null,
      "outputs": [
        {
          "output_type": "execute_result",
          "data": {
            "text/plain": [
              "RandomForestClassifier(criterion='entropy', max_features='sqrt',\n",
              "                       random_state=42)"
            ]
          },
          "metadata": {},
          "execution_count": 110
        }
      ]
    },
    {
      "cell_type": "code",
      "source": [
        "y_pred_avd = avd.predict(x_test) # Guarda a predição do teste na variável.\n",
        "y_pred_avd"
      ],
      "metadata": {
        "colab": {
          "base_uri": "https://localhost:8080/"
        },
        "id": "mk8GiaZaMWCW",
        "outputId": "6f919fa1-a194-4d3c-90ad-6e7110ce947c"
      },
      "execution_count": null,
      "outputs": [
        {
          "output_type": "execute_result",
          "data": {
            "text/plain": [
              "array([1., 0., 0., 1., 0., 0., 1., 0., 1., 1., 0., 1., 0., 1., 0., 0., 0.,\n",
              "       0., 0., 1., 1., 0., 0., 1., 0., 1., 0., 0., 0., 0., 1., 0., 1., 0.,\n",
              "       0., 1., 1., 0., 1., 1., 1., 1., 1., 0., 0., 1., 0., 0., 1., 0., 1.,\n",
              "       0., 0., 1., 0., 1., 0., 1., 0., 1., 0., 1., 0., 0., 1., 0., 1., 0.,\n",
              "       0., 0., 1., 1., 1., 0., 0., 0., 0., 1., 0., 1., 0., 0., 0., 1., 1.,\n",
              "       0., 0., 0., 0., 0., 1., 0., 0., 1., 0., 0., 1., 0., 1., 0., 1., 0.,\n",
              "       0., 1., 0., 1., 0., 0., 1., 1., 0., 0., 0., 0., 0., 1., 1., 1., 0.,\n",
              "       0., 1., 0., 1., 1., 0., 0., 1., 1., 0., 1., 0., 1., 1., 1., 1., 0.,\n",
              "       1., 1., 0., 1., 0., 1., 1., 1., 0., 1., 1., 1., 1., 0., 1., 1., 1.,\n",
              "       0., 0., 1., 0., 0., 1., 1., 0., 0., 1., 0., 0., 0., 1., 0., 0., 1.,\n",
              "       0., 0., 0., 0., 0., 1., 0., 1., 0., 0., 0., 0., 0., 1., 1., 1., 1.,\n",
              "       1., 1., 0., 1., 1., 0., 0., 1., 0., 0., 0., 1., 1., 1., 1., 0., 0.,\n",
              "       1., 0., 1., 0., 1., 0., 0., 1., 0., 1., 0., 0., 1., 0., 0., 1., 1.,\n",
              "       1., 0., 1., 1., 0., 0., 0., 0., 0., 0., 1., 1., 0., 0., 0., 0., 1.,\n",
              "       1., 0., 0., 0., 0., 1., 0., 0., 0., 1., 1., 0., 1., 1., 0., 0., 1.,\n",
              "       1., 1., 0., 0., 1., 1., 0., 0., 0., 0., 1., 0., 0., 0., 1., 0., 0.,\n",
              "       1., 0., 1., 0., 1., 0., 1., 1., 1., 0., 1., 0., 1., 0., 0., 1., 1.,\n",
              "       1., 0., 0., 1., 0., 0., 0., 1., 0., 0., 1., 0., 1., 1., 0., 1., 1.,\n",
              "       0., 0., 0., 1., 1., 0., 1., 0., 1., 0., 0., 0., 1., 1., 1., 0., 1.,\n",
              "       1., 1., 1., 0., 1., 1., 0., 1., 0., 0., 1., 0., 0., 0., 1., 0., 1.,\n",
              "       0., 0., 0., 0., 0., 0., 1., 0., 0., 1., 1., 1., 1., 0., 1., 1., 1.,\n",
              "       0., 1., 0., 1., 0., 1., 1., 1., 0., 0., 0., 0., 0., 1., 1., 1., 1.,\n",
              "       1., 0., 0., 0., 0., 0., 1., 1., 0., 0., 0., 1., 1., 1., 0., 1., 0.,\n",
              "       1., 0., 1., 0., 1., 1., 0., 1., 0., 0., 1., 1., 1., 1., 0., 0., 1.,\n",
              "       0., 0., 1., 0., 1., 1., 1., 1., 0., 0., 0., 0., 1., 1., 1., 0., 0.,\n",
              "       1., 1., 0., 0., 0., 0., 1., 1., 1., 1., 1., 0., 1., 0., 0., 1., 1.,\n",
              "       0., 0., 1., 1., 1., 0., 0., 1., 1., 0., 0., 0., 0., 0., 0., 1., 1.,\n",
              "       0., 0., 0., 1., 0., 1., 1., 1., 0., 1., 1., 1., 0., 0., 1., 0., 0.,\n",
              "       0., 1., 0., 0., 0., 0., 1., 1., 1., 1., 1., 1., 0., 0., 0., 1., 1.,\n",
              "       0., 0., 1., 1., 1., 1., 1., 1., 1., 1., 1., 1., 1., 0., 0., 1., 0.,\n",
              "       0., 1., 1., 1., 0., 0., 1., 0., 0., 0., 1., 1., 1., 0., 0., 0., 0.,\n",
              "       1., 1., 1., 1., 0., 0., 0., 1., 1., 0., 0., 1., 1., 1., 0., 0., 0.,\n",
              "       0., 0., 0., 0., 0., 0., 0., 1., 0., 1., 1., 0., 1., 0., 0., 0., 0.,\n",
              "       0., 0., 1., 0., 0., 1., 1., 0., 0., 1., 0., 0., 0., 0., 0., 0., 0.,\n",
              "       0., 1., 1., 0., 0., 0., 1., 0., 0., 1., 0., 0., 0., 0., 0., 1., 0.,\n",
              "       0., 1., 0., 1., 1., 0., 0., 0., 1., 0., 1., 0., 0., 1., 1., 1., 1.,\n",
              "       0., 1., 0., 1., 0., 1., 1., 1., 1., 0., 0., 0., 0., 0., 0., 0., 1.,\n",
              "       1., 0., 1., 1., 1., 0., 0., 0., 0., 0., 0., 1., 0., 0., 1., 0., 0.,\n",
              "       1., 0., 1., 1., 1., 0., 1., 1., 0., 0., 1., 1., 0., 0., 1., 0., 1.,\n",
              "       0., 0., 1., 1., 1., 0., 1., 0., 0., 1., 0., 1., 0., 0., 1., 0., 1.,\n",
              "       1., 0., 0., 0., 0., 0., 0., 1., 0., 0., 0., 1., 1., 1., 0., 0., 1.,\n",
              "       1., 1., 0., 0., 0., 1., 0., 0., 0., 0., 1., 0., 1., 1., 1., 1., 0.,\n",
              "       0., 1., 1., 1., 0., 1., 1., 1., 1., 0., 0., 1., 1., 1., 0., 1., 1.,\n",
              "       0., 0., 1., 0., 1., 1., 1., 0., 0., 1., 0., 1., 1.])"
            ]
          },
          "metadata": {},
          "execution_count": 111
        }
      ]
    },
    {
      "cell_type": "markdown",
      "source": [
        "###Metricas"
      ],
      "metadata": {
        "id": "iGkLjk1vMdQN"
      }
    },
    {
      "cell_type": "code",
      "source": [
        "accuracy_score(y_test, y_pred_avd) # Mostra a acurácia do modelo."
      ],
      "metadata": {
        "colab": {
          "base_uri": "https://localhost:8080/"
        },
        "id": "ie0MM9XXMcxD",
        "outputId": "e8754f65-fc06-4e7c-a012-a65400a0578a"
      },
      "execution_count": null,
      "outputs": [
        {
          "output_type": "execute_result",
          "data": {
            "text/plain": [
              "0.9704301075268817"
            ]
          },
          "metadata": {},
          "execution_count": 112
        }
      ]
    },
    {
      "cell_type": "code",
      "source": [
        "precision_score(y_test, y_pred_avd) # Mostra a precisão do modelo."
      ],
      "metadata": {
        "colab": {
          "base_uri": "https://localhost:8080/"
        },
        "id": "H9U9EivYMi1s",
        "outputId": "badc4650-6f9b-4617-e032-803f78df40bf"
      },
      "execution_count": null,
      "outputs": [
        {
          "output_type": "execute_result",
          "data": {
            "text/plain": [
              "0.9681159420289855"
            ]
          },
          "metadata": {},
          "execution_count": 113
        }
      ]
    },
    {
      "cell_type": "code",
      "source": [
        "recall_score(y_test, y_pred_avd)  # Mostra a revocação do modelo."
      ],
      "metadata": {
        "colab": {
          "base_uri": "https://localhost:8080/"
        },
        "id": "H65vriNbMkvc",
        "outputId": "c443ea4a-fb40-4842-edcd-a58e9c673a07"
      },
      "execution_count": null,
      "outputs": [
        {
          "output_type": "execute_result",
          "data": {
            "text/plain": [
              "0.9681159420289855"
            ]
          },
          "metadata": {},
          "execution_count": 114
        }
      ]
    },
    {
      "cell_type": "code",
      "source": [
        "plot_confusion_matrix(avd,x_test,y_test, cmap='Blues') # Plota a matriz de confusão do modelo."
      ],
      "metadata": {
        "colab": {
          "base_uri": "https://localhost:8080/",
          "height": 296
        },
        "id": "8MSBiR5iMlRR",
        "outputId": "bc946331-5014-4e6d-f26e-c7206064dc94"
      },
      "execution_count": null,
      "outputs": [
        {
          "output_type": "execute_result",
          "data": {
            "text/plain": [
              "<sklearn.metrics._plot.confusion_matrix.ConfusionMatrixDisplay at 0x7f72c5f140d0>"
            ]
          },
          "metadata": {},
          "execution_count": 115
        },
        {
          "output_type": "display_data",
          "data": {
            "text/plain": [
              "<Figure size 432x288 with 2 Axes>"
            ],
            "image/png": "[encoded data removed]"
          },
          "metadata": {
            "needs_background": "light"
          }
        }
      ]
    },
    {
      "cell_type": "markdown",
      "source": [
        "##Random Forest PARAMETRO 2"
      ],
      "metadata": {
        "id": "xCe-oxKoNDM_"
      }
    },
    {
      "cell_type": "code",
      "source": [
        "avd = RandomForestClassifier(criterion='gini', random_state=42) # Guardamos a função do modelo com o parâmetro previamente escolhido na variável.\n",
        "avd.fit(x_train, y_train) # Treina o modelo."
      ],
      "metadata": {
        "colab": {
          "base_uri": "https://localhost:8080/"
        },
        "id": "KDFfGOLcNH2s",
        "outputId": "5da9c29b-7ed6-41d9-90fb-2c785ee4a067"
      },
      "execution_count": null,
      "outputs": [
        {
          "output_type": "execute_result",
          "data": {
            "text/plain": [
              "RandomForestClassifier(random_state=42)"
            ]
          },
          "metadata": {},
          "execution_count": 116
        }
      ]
    },
    {
      "cell_type": "code",
      "source": [
        "y_pred_avd = avd.predict(x_test) # Guarda a predição do teste na variável.\n",
        "y_pred_avd"
      ],
      "metadata": {
        "colab": {
          "base_uri": "https://localhost:8080/"
        },
        "id": "c9U_JYt4NL7g",
        "outputId": "b261d35a-1de0-4fe0-9599-80a0c008ef99"
      },
      "execution_count": null,
      "outputs": [
        {
          "output_type": "execute_result",
          "data": {
            "text/plain": [
              "array([1., 0., 0., 1., 0., 0., 1., 0., 1., 1., 0., 1., 0., 1., 0., 0., 0.,\n",
              "       0., 0., 1., 1., 0., 0., 1., 0., 1., 0., 0., 0., 0., 1., 0., 1., 0.,\n",
              "       0., 1., 1., 0., 1., 1., 1., 1., 1., 0., 0., 1., 0., 0., 1., 0., 1.,\n",
              "       0., 0., 1., 0., 1., 0., 1., 0., 1., 0., 1., 0., 0., 1., 0., 1., 0.,\n",
              "       0., 0., 1., 1., 1., 0., 0., 0., 0., 1., 0., 1., 0., 0., 0., 1., 1.,\n",
              "       0., 0., 0., 0., 0., 1., 0., 0., 1., 0., 0., 1., 0., 1., 0., 1., 0.,\n",
              "       0., 1., 0., 1., 0., 0., 1., 1., 0., 0., 0., 0., 0., 1., 1., 1., 0.,\n",
              "       0., 1., 0., 1., 1., 0., 0., 1., 1., 0., 1., 0., 1., 1., 1., 1., 0.,\n",
              "       1., 1., 0., 1., 0., 1., 1., 1., 0., 1., 1., 1., 1., 0., 1., 1., 1.,\n",
              "       0., 0., 1., 0., 0., 0., 1., 0., 0., 1., 0., 0., 0., 1., 0., 0., 1.,\n",
              "       0., 0., 0., 0., 0., 1., 0., 1., 0., 0., 0., 0., 0., 1., 1., 1., 1.,\n",
              "       1., 1., 0., 1., 1., 0., 0., 1., 0., 0., 0., 1., 1., 1., 1., 0., 0.,\n",
              "       1., 0., 1., 0., 1., 0., 0., 1., 0., 1., 0., 0., 1., 0., 0., 1., 1.,\n",
              "       0., 0., 1., 1., 0., 0., 0., 0., 0., 0., 1., 1., 0., 0., 0., 0., 1.,\n",
              "       1., 0., 0., 0., 0., 1., 0., 0., 0., 1., 1., 0., 1., 1., 0., 0., 1.,\n",
              "       1., 1., 0., 0., 1., 1., 0., 0., 0., 0., 1., 0., 0., 0., 1., 0., 0.,\n",
              "       1., 0., 1., 0., 1., 0., 1., 1., 1., 0., 1., 0., 1., 0., 0., 1., 1.,\n",
              "       1., 0., 0., 1., 0., 0., 0., 1., 0., 0., 0., 0., 1., 1., 0., 1., 1.,\n",
              "       0., 0., 0., 1., 1., 0., 1., 0., 1., 0., 0., 0., 1., 1., 1., 0., 1.,\n",
              "       1., 1., 1., 0., 1., 1., 0., 1., 0., 0., 1., 0., 0., 0., 1., 0., 1.,\n",
              "       0., 0., 0., 0., 0., 0., 1., 0., 0., 1., 1., 1., 1., 0., 1., 1., 1.,\n",
              "       0., 1., 0., 1., 0., 1., 1., 1., 0., 0., 0., 0., 0., 1., 1., 1., 1.,\n",
              "       1., 0., 0., 0., 0., 0., 1., 1., 0., 0., 0., 1., 1., 1., 0., 1., 0.,\n",
              "       1., 0., 1., 0., 1., 1., 0., 1., 0., 0., 1., 0., 1., 1., 0., 0., 1.,\n",
              "       0., 0., 1., 0., 1., 1., 1., 1., 0., 0., 0., 0., 1., 1., 1., 0., 0.,\n",
              "       1., 1., 0., 0., 0., 0., 1., 1., 1., 1., 1., 0., 1., 0., 0., 1., 1.,\n",
              "       0., 0., 1., 1., 1., 0., 0., 1., 1., 0., 0., 0., 0., 0., 0., 1., 1.,\n",
              "       0., 0., 0., 1., 0., 1., 1., 1., 0., 1., 1., 1., 0., 0., 1., 0., 0.,\n",
              "       0., 1., 0., 0., 0., 0., 1., 1., 1., 1., 1., 0., 0., 0., 0., 1., 1.,\n",
              "       0., 0., 1., 1., 1., 1., 1., 1., 1., 1., 1., 1., 1., 0., 0., 1., 0.,\n",
              "       0., 1., 1., 1., 0., 0., 1., 0., 0., 0., 1., 1., 1., 0., 0., 0., 0.,\n",
              "       1., 1., 1., 1., 0., 0., 0., 1., 1., 0., 0., 1., 1., 1., 0., 0., 0.,\n",
              "       0., 0., 0., 0., 0., 0., 0., 1., 0., 1., 1., 0., 1., 0., 0., 0., 0.,\n",
              "       0., 0., 1., 0., 0., 1., 1., 0., 0., 1., 0., 0., 0., 0., 0., 0., 0.,\n",
              "       0., 1., 1., 0., 0., 0., 1., 0., 0., 1., 0., 0., 0., 1., 0., 1., 0.,\n",
              "       0., 1., 0., 1., 1., 0., 0., 0., 1., 0., 1., 0., 0., 1., 0., 1., 1.,\n",
              "       0., 1., 0., 0., 0., 1., 1., 1., 1., 0., 0., 0., 0., 0., 0., 0., 1.,\n",
              "       1., 0., 1., 1., 1., 0., 0., 0., 0., 0., 0., 1., 0., 0., 1., 0., 0.,\n",
              "       1., 0., 1., 1., 1., 0., 1., 1., 0., 0., 1., 1., 0., 0., 1., 0., 1.,\n",
              "       0., 0., 1., 1., 1., 0., 1., 0., 0., 1., 0., 1., 0., 0., 1., 0., 1.,\n",
              "       1., 0., 0., 0., 0., 0., 0., 1., 0., 0., 0., 1., 1., 1., 0., 0., 1.,\n",
              "       1., 1., 0., 0., 0., 1., 0., 0., 0., 0., 1., 0., 1., 1., 1., 1., 0.,\n",
              "       0., 1., 1., 1., 0., 1., 1., 1., 1., 0., 0., 1., 1., 1., 0., 1., 1.,\n",
              "       0., 0., 1., 0., 1., 1., 1., 0., 0., 1., 0., 1., 1.])"
            ]
          },
          "metadata": {},
          "execution_count": 117
        }
      ]
    },
    {
      "cell_type": "markdown",
      "source": [
        "###Metricas"
      ],
      "metadata": {
        "id": "QNg5wDDgNPoM"
      }
    },
    {
      "cell_type": "code",
      "source": [
        "accuracy_score(y_test, y_pred_avd) # Mostra a acurácia do modelo."
      ],
      "metadata": {
        "colab": {
          "base_uri": "https://localhost:8080/"
        },
        "id": "KkgVLiL7NPVE",
        "outputId": "7ac21a27-3d36-44b2-aa3c-07ed73b452ea"
      },
      "execution_count": null,
      "outputs": [
        {
          "output_type": "execute_result",
          "data": {
            "text/plain": [
              "0.9758064516129032"
            ]
          },
          "metadata": {},
          "execution_count": 118
        }
      ]
    },
    {
      "cell_type": "code",
      "source": [
        "precision_score(y_test, y_pred_avd) # Mostra a precisão do modelo."
      ],
      "metadata": {
        "colab": {
          "base_uri": "https://localhost:8080/"
        },
        "id": "6R8AmZyRNUOz",
        "outputId": "4a4a5bd2-c244-41d3-daf2-7de429fc421f"
      },
      "execution_count": null,
      "outputs": [
        {
          "output_type": "execute_result",
          "data": {
            "text/plain": [
              "0.9823008849557522"
            ]
          },
          "metadata": {},
          "execution_count": 119
        }
      ]
    },
    {
      "cell_type": "code",
      "source": [
        "recall_score(y_test, y_pred_avd) # Mostra a revocação do modelo."
      ],
      "metadata": {
        "colab": {
          "base_uri": "https://localhost:8080/"
        },
        "id": "0sU_X8hUNXZb",
        "outputId": "7b57806a-b91d-431d-bc83-447de84e1bce"
      },
      "execution_count": null,
      "outputs": [
        {
          "output_type": "execute_result",
          "data": {
            "text/plain": [
              "0.9652173913043478"
            ]
          },
          "metadata": {},
          "execution_count": 120
        }
      ]
    },
    {
      "cell_type": "code",
      "source": [
        "plot_confusion_matrix(avd,x_test,y_test, cmap='Blues') # Plota a matriz de confusão do modelo."
      ],
      "metadata": {
        "colab": {
          "base_uri": "https://localhost:8080/",
          "height": 296
        },
        "id": "YqcmS4cKNeA7",
        "outputId": "4957b7d1-09e4-4e1e-b20d-aac7f308f5c8"
      },
      "execution_count": null,
      "outputs": [
        {
          "output_type": "execute_result",
          "data": {
            "text/plain": [
              "<sklearn.metrics._plot.confusion_matrix.ConfusionMatrixDisplay at 0x7f72c96f61d0>"
            ]
          },
          "metadata": {},
          "execution_count": 121
        },
        {
          "output_type": "display_data",
          "data": {
            "text/plain": [
              "<Figure size 432x288 with 2 Axes>"
            ],
            "image/png": "[encoded data removed]"
          },
          "metadata": {
            "needs_background": "light"
          }
        }
      ]
    },
    {
      "cell_type": "code",
      "source": [
        "rdf = RandomForestClassifier()\n",
        "rdf.fit(x_train, y_train)"
      ],
      "metadata": {
        "colab": {
          "base_uri": "https://localhost:8080/"
        },
        "id": "e_f9GjubNfwd",
        "outputId": "59f28ed1-a752-4615-de5c-3bd583f36429"
      },
      "execution_count": null,
      "outputs": [
        {
          "output_type": "execute_result",
          "data": {
            "text/plain": [
              "RandomForestClassifier()"
            ]
          },
          "metadata": {},
          "execution_count": 122
        }
      ]
    },
    {
      "cell_type": "code",
      "source": [
        "y_pred_rdf = rdf.predict(x_test)"
      ],
      "metadata": {
        "id": "PWC_AFXhNhp2"
      },
      "execution_count": null,
      "outputs": []
    },
    {
      "cell_type": "markdown",
      "source": [
        "##Random Forest PARÂMETRO 3"
      ],
      "metadata": {
        "id": "szJJkPmrNmQE"
      }
    },
    {
      "cell_type": "code",
      "source": [
        "avd = RandomForestClassifier(criterion='entropy', max_features='auto', random_state=42) # Guardamos a função do modelo com o parâmetro previamente escolhido na variável.\n",
        "avd.fit(x_train, y_train) # Treina o modelo."
      ],
      "metadata": {
        "colab": {
          "base_uri": "https://localhost:8080/"
        },
        "id": "jf0LpBG8NpVY",
        "outputId": "60d4142d-3a59-4d8a-9660-d52d5da615b3"
      },
      "execution_count": null,
      "outputs": [
        {
          "output_type": "execute_result",
          "data": {
            "text/plain": [
              "RandomForestClassifier(criterion='entropy', random_state=42)"
            ]
          },
          "metadata": {},
          "execution_count": 124
        }
      ]
    },
    {
      "cell_type": "code",
      "source": [
        "y_pred_avd = avd.predict(x_test) # Guarda a predição do teste na variável.\n",
        "y_pred_avd"
      ],
      "metadata": {
        "colab": {
          "base_uri": "https://localhost:8080/"
        },
        "id": "Twj_AqBMNvPQ",
        "outputId": "827d3e8e-d086-4c0c-bf40-af9b068195d4"
      },
      "execution_count": null,
      "outputs": [
        {
          "output_type": "execute_result",
          "data": {
            "text/plain": [
              "array([1., 0., 0., 1., 0., 0., 1., 0., 1., 1., 0., 1., 0., 1., 0., 0., 0.,\n",
              "       0., 0., 1., 1., 0., 0., 1., 0., 1., 0., 0., 0., 0., 1., 0., 1., 0.,\n",
              "       0., 1., 1., 0., 1., 1., 1., 1., 1., 0., 0., 1., 0., 0., 1., 0., 1.,\n",
              "       0., 0., 1., 0., 1., 0., 1., 0., 1., 0., 1., 0., 0., 1., 0., 1., 0.,\n",
              "       0., 0., 1., 1., 1., 0., 0., 0., 0., 1., 0., 1., 0., 0., 0., 1., 1.,\n",
              "       0., 0., 0., 0., 0., 1., 0., 0., 1., 0., 0., 1., 0., 1., 0., 1., 0.,\n",
              "       0., 1., 0., 1., 0., 0., 1., 1., 0., 0., 0., 0., 0., 1., 1., 1., 0.,\n",
              "       0., 1., 0., 1., 1., 0., 0., 1., 1., 0., 1., 0., 1., 1., 1., 1., 0.,\n",
              "       1., 1., 0., 1., 0., 1., 1., 1., 0., 1., 1., 1., 1., 0., 1., 1., 1.,\n",
              "       0., 0., 1., 0., 0., 1., 1., 0., 0., 1., 0., 0., 0., 1., 0., 0., 1.,\n",
              "       0., 0., 0., 0., 0., 1., 0., 1., 0., 0., 0., 0., 0., 1., 1., 1., 1.,\n",
              "       1., 1., 0., 1., 1., 0., 0., 1., 0., 0., 0., 1., 1., 1., 1., 0., 0.,\n",
              "       1., 0., 1., 0., 1., 0., 0., 1., 0., 1., 0., 0., 1., 0., 0., 1., 1.,\n",
              "       1., 0., 1., 1., 0., 0., 0., 0., 0., 0., 1., 1., 0., 0., 0., 0., 1.,\n",
              "       1., 0., 0., 0., 0., 1., 0., 0., 0., 1., 1., 0., 1., 1., 0., 0., 1.,\n",
              "       1., 1., 0., 0., 1., 1., 0., 0., 0., 0., 1., 0., 0., 0., 1., 0., 0.,\n",
              "       1., 0., 1., 0., 1., 0., 1., 1., 1., 0., 1., 0., 1., 0., 0., 1., 1.,\n",
              "       1., 0., 0., 1., 0., 0., 0., 1., 0., 0., 1., 0., 1., 1., 0., 1., 1.,\n",
              "       0., 0., 0., 1., 1., 0., 1., 0., 1., 0., 0., 0., 1., 1., 1., 0., 1.,\n",
              "       1., 1., 1., 0., 1., 1., 0., 1., 0., 0., 1., 0., 0., 0., 1., 0., 1.,\n",
              "       0., 0., 0., 0., 0., 0., 1., 0., 0., 1., 1., 1., 1., 0., 1., 1., 1.,\n",
              "       0., 1., 0., 1., 0., 1., 1., 1., 0., 0., 0., 0., 0., 1., 1., 1., 1.,\n",
              "       1., 0., 0., 0., 0., 0., 1., 1., 0., 0., 0., 1., 1., 1., 0., 1., 0.,\n",
              "       1., 0., 1., 0., 1., 1., 0., 1., 0., 0., 1., 1., 1., 1., 0., 0., 1.,\n",
              "       0., 0., 1., 0., 1., 1., 1., 1., 0., 0., 0., 0., 1., 1., 1., 0., 0.,\n",
              "       1., 1., 0., 0., 0., 0., 1., 1., 1., 1., 1., 0., 1., 0., 0., 1., 1.,\n",
              "       0., 0., 1., 1., 1., 0., 0., 1., 1., 0., 0., 0., 0., 0., 0., 1., 1.,\n",
              "       0., 0., 0., 1., 0., 1., 1., 1., 0., 1., 1., 1., 0., 0., 1., 0., 0.,\n",
              "       0., 1., 0., 0., 0., 0., 1., 1., 1., 1., 1., 1., 0., 0., 0., 1., 1.,\n",
              "       0., 0., 1., 1., 1., 1., 1., 1., 1., 1., 1., 1., 1., 0., 0., 1., 0.,\n",
              "       0., 1., 1., 1., 0., 0., 1., 0., 0., 0., 1., 1., 1., 0., 0., 0., 0.,\n",
              "       1., 1., 1., 1., 0., 0., 0., 1., 1., 0., 0., 1., 1., 1., 0., 0., 0.,\n",
              "       0., 0., 0., 0., 0., 0., 0., 1., 0., 1., 1., 0., 1., 0., 0., 0., 0.,\n",
              "       0., 0., 1., 0., 0., 1., 1., 0., 0., 1., 0., 0., 0., 0., 0., 0., 0.,\n",
              "       0., 1., 1., 0., 0., 0., 1., 0., 0., 1., 0., 0., 0., 0., 0., 1., 0.,\n",
              "       0., 1., 0., 1., 1., 0., 0., 0., 1., 0., 1., 0., 0., 1., 1., 1., 1.,\n",
              "       0., 1., 0., 1., 0., 1., 1., 1., 1., 0., 0., 0., 0., 0., 0., 0., 1.,\n",
              "       1., 0., 1., 1., 1., 0., 0., 0., 0., 0., 0., 1., 0., 0., 1., 0., 0.,\n",
              "       1., 0., 1., 1., 1., 0., 1., 1., 0., 0., 1., 1., 0., 0., 1., 0., 1.,\n",
              "       0., 0., 1., 1., 1., 0., 1., 0., 0., 1., 0., 1., 0., 0., 1., 0., 1.,\n",
              "       1., 0., 0., 0., 0., 0., 0., 1., 0., 0., 0., 1., 1., 1., 0., 0., 1.,\n",
              "       1., 1., 0., 0., 0., 1., 0., 0., 0., 0., 1., 0., 1., 1., 1., 1., 0.,\n",
              "       0., 1., 1., 1., 0., 1., 1., 1., 1., 0., 0., 1., 1., 1., 0., 1., 1.,\n",
              "       0., 0., 1., 0., 1., 1., 1., 0., 0., 1., 0., 1., 1.])"
            ]
          },
          "metadata": {},
          "execution_count": 125
        }
      ]
    },
    {
      "cell_type": "markdown",
      "source": [
        "###Metricas"
      ],
      "metadata": {
        "id": "Ft8wCPFKN4e-"
      }
    },
    {
      "cell_type": "code",
      "source": [
        "accuracy_score(y_test, y_pred_avd) # Mostra a acurácia do modelo."
      ],
      "metadata": {
        "colab": {
          "base_uri": "https://localhost:8080/"
        },
        "id": "dF84HC7VN6Mn",
        "outputId": "ae9e1e19-3f50-4af1-b67b-383841ccccd3"
      },
      "execution_count": null,
      "outputs": [
        {
          "output_type": "execute_result",
          "data": {
            "text/plain": [
              "0.9704301075268817"
            ]
          },
          "metadata": {},
          "execution_count": 126
        }
      ]
    },
    {
      "cell_type": "code",
      "source": [
        "precision_score(y_test, y_pred_avd) # Mostra a precisão do modelo."
      ],
      "metadata": {
        "colab": {
          "base_uri": "https://localhost:8080/"
        },
        "id": "3T-a1R4mOChw",
        "outputId": "3c3514a3-71ca-4cd5-96a8-2bab2bdb2eaf"
      },
      "execution_count": null,
      "outputs": [
        {
          "output_type": "execute_result",
          "data": {
            "text/plain": [
              "0.9681159420289855"
            ]
          },
          "metadata": {},
          "execution_count": 127
        }
      ]
    },
    {
      "cell_type": "code",
      "source": [
        "recall_score(y_test, y_pred_avd) # Mostra a revocação do modelo."
      ],
      "metadata": {
        "colab": {
          "base_uri": "https://localhost:8080/"
        },
        "id": "TmgyXrGzOEOW",
        "outputId": "4b3caed0-f205-45eb-9aaf-9ceb569e2dfd"
      },
      "execution_count": null,
      "outputs": [
        {
          "output_type": "execute_result",
          "data": {
            "text/plain": [
              "0.9681159420289855"
            ]
          },
          "metadata": {},
          "execution_count": 128
        }
      ]
    },
    {
      "cell_type": "code",
      "source": [
        "plot_confusion_matrix(avd,x_test,y_test, cmap='Blues') # Plota a matriz de confusão do modelo."
      ],
      "metadata": {
        "colab": {
          "base_uri": "https://localhost:8080/",
          "height": 296
        },
        "id": "eR1ZkPe1OHbO",
        "outputId": "045d0a0c-cf6a-4838-d140-3ebfad363e99"
      },
      "execution_count": null,
      "outputs": [
        {
          "output_type": "execute_result",
          "data": {
            "text/plain": [
              "<sklearn.metrics._plot.confusion_matrix.ConfusionMatrixDisplay at 0x7f72c5e49c90>"
            ]
          },
          "metadata": {},
          "execution_count": 129
        },
        {
          "output_type": "display_data",
          "data": {
            "text/plain": [
              "<Figure size 432x288 with 2 Axes>"
            ],
            "image/png": "[encoded data removed]"
          },
          "metadata": {
            "needs_background": "light"
          }
        }
      ]
    },
    {
      "cell_type": "code",
      "source": [
        "rdf = RandomForestClassifier()\n",
        "rdf.fit(x_train, y_train)\n"
      ],
      "metadata": {
        "colab": {
          "base_uri": "https://localhost:8080/"
        },
        "id": "AhKbgMetOKCr",
        "outputId": "cdc03376-7c1a-4006-9a1f-137a24d44fea"
      },
      "execution_count": null,
      "outputs": [
        {
          "output_type": "execute_result",
          "data": {
            "text/plain": [
              "RandomForestClassifier()"
            ]
          },
          "metadata": {},
          "execution_count": 130
        }
      ]
    },
    {
      "cell_type": "code",
      "source": [
        "y_pred_rdf = rdf.predict(x_test)"
      ],
      "metadata": {
        "id": "c2BbVpvjOLvM"
      },
      "execution_count": null,
      "outputs": []
    },
    {
      "cell_type": "markdown",
      "source": [
        "##Random Forest PARÂMETRO 4"
      ],
      "metadata": {
        "id": "DBW2OvkRORxg"
      }
    },
    {
      "cell_type": "code",
      "source": [
        "avd = RandomForestClassifier(criterion='entropy', max_features='sqrt', random_state=42) # Guardamos a função do modelo com o parâmetro previamente escolhido na variável.\n",
        "avd.fit(x_train, y_train) # Treina o modelo."
      ],
      "metadata": {
        "colab": {
          "base_uri": "https://localhost:8080/"
        },
        "id": "fTMqzUbMOh2X",
        "outputId": "870d1db9-662c-4ccd-d823-f99172a6cd2f"
      },
      "execution_count": null,
      "outputs": [
        {
          "output_type": "execute_result",
          "data": {
            "text/plain": [
              "RandomForestClassifier(criterion='entropy', max_features='sqrt',\n",
              "                       random_state=42)"
            ]
          },
          "metadata": {},
          "execution_count": 132
        }
      ]
    },
    {
      "cell_type": "code",
      "source": [
        "y_pred_avd = avd.predict(x_test) # Guarda a predição do teste na variável.\n",
        "y_pred_avd"
      ],
      "metadata": {
        "colab": {
          "base_uri": "https://localhost:8080/"
        },
        "id": "_Uu4ri5COlYH",
        "outputId": "f84cb691-36b2-43ba-95aa-66f5e558feb6"
      },
      "execution_count": null,
      "outputs": [
        {
          "output_type": "execute_result",
          "data": {
            "text/plain": [
              "array([1., 0., 0., 1., 0., 0., 1., 0., 1., 1., 0., 1., 0., 1., 0., 0., 0.,\n",
              "       0., 0., 1., 1., 0., 0., 1., 0., 1., 0., 0., 0., 0., 1., 0., 1., 0.,\n",
              "       0., 1., 1., 0., 1., 1., 1., 1., 1., 0., 0., 1., 0., 0., 1., 0., 1.,\n",
              "       0., 0., 1., 0., 1., 0., 1., 0., 1., 0., 1., 0., 0., 1., 0., 1., 0.,\n",
              "       0., 0., 1., 1., 1., 0., 0., 0., 0., 1., 0., 1., 0., 0., 0., 1., 1.,\n",
              "       0., 0., 0., 0., 0., 1., 0., 0., 1., 0., 0., 1., 0., 1., 0., 1., 0.,\n",
              "       0., 1., 0., 1., 0., 0., 1., 1., 0., 0., 0., 0., 0., 1., 1., 1., 0.,\n",
              "       0., 1., 0., 1., 1., 0., 0., 1., 1., 0., 1., 0., 1., 1., 1., 1., 0.,\n",
              "       1., 1., 0., 1., 0., 1., 1., 1., 0., 1., 1., 1., 1., 0., 1., 1., 1.,\n",
              "       0., 0., 1., 0., 0., 1., 1., 0., 0., 1., 0., 0., 0., 1., 0., 0., 1.,\n",
              "       0., 0., 0., 0., 0., 1., 0., 1., 0., 0., 0., 0., 0., 1., 1., 1., 1.,\n",
              "       1., 1., 0., 1., 1., 0., 0., 1., 0., 0., 0., 1., 1., 1., 1., 0., 0.,\n",
              "       1., 0., 1., 0., 1., 0., 0., 1., 0., 1., 0., 0., 1., 0., 0., 1., 1.,\n",
              "       1., 0., 1., 1., 0., 0., 0., 0., 0., 0., 1., 1., 0., 0., 0., 0., 1.,\n",
              "       1., 0., 0., 0., 0., 1., 0., 0., 0., 1., 1., 0., 1., 1., 0., 0., 1.,\n",
              "       1., 1., 0., 0., 1., 1., 0., 0., 0., 0., 1., 0., 0., 0., 1., 0., 0.,\n",
              "       1., 0., 1., 0., 1., 0., 1., 1., 1., 0., 1., 0., 1., 0., 0., 1., 1.,\n",
              "       1., 0., 0., 1., 0., 0., 0., 1., 0., 0., 1., 0., 1., 1., 0., 1., 1.,\n",
              "       0., 0., 0., 1., 1., 0., 1., 0., 1., 0., 0., 0., 1., 1., 1., 0., 1.,\n",
              "       1., 1., 1., 0., 1., 1., 0., 1., 0., 0., 1., 0., 0., 0., 1., 0., 1.,\n",
              "       0., 0., 0., 0., 0., 0., 1., 0., 0., 1., 1., 1., 1., 0., 1., 1., 1.,\n",
              "       0., 1., 0., 1., 0., 1., 1., 1., 0., 0., 0., 0., 0., 1., 1., 1., 1.,\n",
              "       1., 0., 0., 0., 0., 0., 1., 1., 0., 0., 0., 1., 1., 1., 0., 1., 0.,\n",
              "       1., 0., 1., 0., 1., 1., 0., 1., 0., 0., 1., 1., 1., 1., 0., 0., 1.,\n",
              "       0., 0., 1., 0., 1., 1., 1., 1., 0., 0., 0., 0., 1., 1., 1., 0., 0.,\n",
              "       1., 1., 0., 0., 0., 0., 1., 1., 1., 1., 1., 0., 1., 0., 0., 1., 1.,\n",
              "       0., 0., 1., 1., 1., 0., 0., 1., 1., 0., 0., 0., 0., 0., 0., 1., 1.,\n",
              "       0., 0., 0., 1., 0., 1., 1., 1., 0., 1., 1., 1., 0., 0., 1., 0., 0.,\n",
              "       0., 1., 0., 0., 0., 0., 1., 1., 1., 1., 1., 1., 0., 0., 0., 1., 1.,\n",
              "       0., 0., 1., 1., 1., 1., 1., 1., 1., 1., 1., 1., 1., 0., 0., 1., 0.,\n",
              "       0., 1., 1., 1., 0., 0., 1., 0., 0., 0., 1., 1., 1., 0., 0., 0., 0.,\n",
              "       1., 1., 1., 1., 0., 0., 0., 1., 1., 0., 0., 1., 1., 1., 0., 0., 0.,\n",
              "       0., 0., 0., 0., 0., 0., 0., 1., 0., 1., 1., 0., 1., 0., 0., 0., 0.,\n",
              "       0., 0., 1., 0., 0., 1., 1., 0., 0., 1., 0., 0., 0., 0., 0., 0., 0.,\n",
              "       0., 1., 1., 0., 0., 0., 1., 0., 0., 1., 0., 0., 0., 0., 0., 1., 0.,\n",
              "       0., 1., 0., 1., 1., 0., 0., 0., 1., 0., 1., 0., 0., 1., 1., 1., 1.,\n",
              "       0., 1., 0., 1., 0., 1., 1., 1., 1., 0., 0., 0., 0., 0., 0., 0., 1.,\n",
              "       1., 0., 1., 1., 1., 0., 0., 0., 0., 0., 0., 1., 0., 0., 1., 0., 0.,\n",
              "       1., 0., 1., 1., 1., 0., 1., 1., 0., 0., 1., 1., 0., 0., 1., 0., 1.,\n",
              "       0., 0., 1., 1., 1., 0., 1., 0., 0., 1., 0., 1., 0., 0., 1., 0., 1.,\n",
              "       1., 0., 0., 0., 0., 0., 0., 1., 0., 0., 0., 1., 1., 1., 0., 0., 1.,\n",
              "       1., 1., 0., 0., 0., 1., 0., 0., 0., 0., 1., 0., 1., 1., 1., 1., 0.,\n",
              "       0., 1., 1., 1., 0., 1., 1., 1., 1., 0., 0., 1., 1., 1., 0., 1., 1.,\n",
              "       0., 0., 1., 0., 1., 1., 1., 0., 0., 1., 0., 1., 1.])"
            ]
          },
          "metadata": {},
          "execution_count": 133
        }
      ]
    },
    {
      "cell_type": "markdown",
      "source": [
        "###Metricas"
      ],
      "metadata": {
        "id": "FhS2x25mPDVI"
      }
    },
    {
      "cell_type": "code",
      "source": [
        "accuracy_score(y_test, y_pred_avd) # Mostra a acurácia do modelo."
      ],
      "metadata": {
        "colab": {
          "base_uri": "https://localhost:8080/"
        },
        "id": "IpMidnqFOs71",
        "outputId": "38bb5df6-7a1a-4cd9-e62a-603004d4c329"
      },
      "execution_count": null,
      "outputs": [
        {
          "output_type": "execute_result",
          "data": {
            "text/plain": [
              "0.9704301075268817"
            ]
          },
          "metadata": {},
          "execution_count": 134
        }
      ]
    },
    {
      "cell_type": "code",
      "source": [
        "precision_score(y_test, y_pred_avd) # Mostra a precisão do modelo."
      ],
      "metadata": {
        "colab": {
          "base_uri": "https://localhost:8080/"
        },
        "id": "K47Mld9vOtZ3",
        "outputId": "32a3149a-5e38-4021-b857-cc2d1ae7347a"
      },
      "execution_count": null,
      "outputs": [
        {
          "output_type": "execute_result",
          "data": {
            "text/plain": [
              "0.9681159420289855"
            ]
          },
          "metadata": {},
          "execution_count": 135
        }
      ]
    },
    {
      "cell_type": "code",
      "source": [
        "recall_score(y_test, y_pred_avd) # Mostra a revocação do modelo."
      ],
      "metadata": {
        "colab": {
          "base_uri": "https://localhost:8080/"
        },
        "id": "lcyL543TOwbO",
        "outputId": "f9b9c60e-a6f3-47c3-fe5f-642a6ca960e3"
      },
      "execution_count": null,
      "outputs": [
        {
          "output_type": "execute_result",
          "data": {
            "text/plain": [
              "0.9681159420289855"
            ]
          },
          "metadata": {},
          "execution_count": 136
        }
      ]
    },
    {
      "cell_type": "code",
      "source": [
        "plot_confusion_matrix(avd,x_test,y_test, cmap='Blues') # Plota a matriz de confusão do modelo."
      ],
      "metadata": {
        "colab": {
          "base_uri": "https://localhost:8080/",
          "height": 296
        },
        "id": "JLQOKOjCOzB5",
        "outputId": "67ab8e78-2cc8-4a8d-9d7a-57584103fae7"
      },
      "execution_count": null,
      "outputs": [
        {
          "output_type": "execute_result",
          "data": {
            "text/plain": [
              "<sklearn.metrics._plot.confusion_matrix.ConfusionMatrixDisplay at 0x7f72c5d30d90>"
            ]
          },
          "metadata": {},
          "execution_count": 137
        },
        {
          "output_type": "display_data",
          "data": {
            "text/plain": [
              "<Figure size 432x288 with 2 Axes>"
            ],
            "image/png": "[encoded data removed]"
          },
          "metadata": {
            "needs_background": "light"
          }
        }
      ]
    },
    {
      "cell_type": "code",
      "source": [
        "rdf = RandomForestClassifier()\n",
        "rdf.fit(x_train, y_train)"
      ],
      "metadata": {
        "colab": {
          "base_uri": "https://localhost:8080/"
        },
        "id": "nWSt81PmO63N",
        "outputId": "a7290fbc-2776-4fd4-e947-68acd61058f7"
      },
      "execution_count": null,
      "outputs": [
        {
          "output_type": "execute_result",
          "data": {
            "text/plain": [
              "RandomForestClassifier()"
            ]
          },
          "metadata": {},
          "execution_count": 138
        }
      ]
    },
    {
      "cell_type": "code",
      "source": [
        "y_pred_rdf = rdf.predict(x_test)"
      ],
      "metadata": {
        "id": "O882l-dyO7F9"
      },
      "execution_count": null,
      "outputs": []
    },
    {
      "cell_type": "markdown",
      "source": [
        "##Random Forest PARÂMETRO 5"
      ],
      "metadata": {
        "id": "hjXLcshQPGiT"
      }
    },
    {
      "cell_type": "code",
      "source": [
        "avd = RandomForestClassifier(criterion='entropy', max_features='log2', random_state=42) # Guardamos a função do modelo com o parâmetro previamente escolhido na variável.\n",
        "avd.fit(x_train, y_train) # Treina o modelo."
      ],
      "metadata": {
        "colab": {
          "base_uri": "https://localhost:8080/"
        },
        "id": "wzswsiUPPIsO",
        "outputId": "f1b3fece-7026-42d7-f16a-e635113f08b0"
      },
      "execution_count": null,
      "outputs": [
        {
          "output_type": "execute_result",
          "data": {
            "text/plain": [
              "RandomForestClassifier(criterion='entropy', max_features='log2',\n",
              "                       random_state=42)"
            ]
          },
          "metadata": {},
          "execution_count": 140
        }
      ]
    },
    {
      "cell_type": "code",
      "source": [
        "y_pred_avd = avd.predict(x_test) # Guarda a predição do teste na variável.\n",
        "y_pred_avd"
      ],
      "metadata": {
        "colab": {
          "base_uri": "https://localhost:8080/"
        },
        "id": "jEfl8BvePPtH",
        "outputId": "992908a2-981b-49dc-afd9-72cda15349e7"
      },
      "execution_count": null,
      "outputs": [
        {
          "output_type": "execute_result",
          "data": {
            "text/plain": [
              "array([1., 0., 0., 1., 0., 0., 1., 0., 1., 1., 0., 1., 0., 1., 0., 0., 0.,\n",
              "       0., 0., 1., 1., 0., 0., 1., 0., 1., 0., 0., 0., 0., 1., 0., 1., 0.,\n",
              "       0., 1., 1., 0., 1., 1., 1., 1., 1., 0., 0., 1., 0., 0., 1., 0., 1.,\n",
              "       0., 0., 1., 0., 1., 0., 1., 0., 1., 0., 1., 0., 0., 1., 0., 1., 0.,\n",
              "       0., 0., 1., 1., 1., 0., 0., 0., 0., 1., 0., 1., 0., 0., 0., 1., 1.,\n",
              "       0., 0., 0., 0., 0., 1., 0., 0., 1., 0., 0., 1., 0., 1., 0., 1., 0.,\n",
              "       0., 1., 0., 1., 0., 0., 1., 1., 0., 0., 0., 0., 0., 1., 1., 1., 0.,\n",
              "       0., 1., 0., 1., 1., 0., 0., 1., 1., 0., 1., 0., 1., 1., 1., 1., 0.,\n",
              "       1., 1., 0., 1., 0., 1., 1., 1., 0., 1., 1., 1., 1., 0., 1., 1., 1.,\n",
              "       0., 0., 1., 0., 0., 1., 1., 0., 0., 1., 0., 0., 0., 1., 0., 0., 1.,\n",
              "       0., 0., 0., 0., 0., 1., 0., 1., 0., 0., 0., 0., 0., 1., 1., 1., 1.,\n",
              "       1., 1., 0., 1., 1., 0., 0., 1., 0., 0., 0., 1., 1., 1., 1., 0., 0.,\n",
              "       1., 0., 1., 0., 1., 0., 0., 1., 0., 1., 0., 0., 1., 0., 0., 1., 1.,\n",
              "       1., 0., 1., 1., 0., 0., 0., 0., 0., 0., 1., 1., 0., 0., 0., 0., 1.,\n",
              "       1., 0., 0., 0., 0., 1., 0., 0., 0., 1., 1., 0., 1., 1., 0., 0., 1.,\n",
              "       1., 1., 0., 0., 1., 1., 0., 0., 0., 0., 1., 0., 0., 0., 1., 0., 0.,\n",
              "       1., 0., 1., 0., 1., 0., 1., 1., 1., 0., 1., 0., 1., 0., 0., 1., 1.,\n",
              "       1., 0., 0., 1., 0., 0., 0., 1., 0., 0., 1., 0., 1., 1., 0., 1., 1.,\n",
              "       0., 0., 0., 1., 1., 0., 1., 0., 1., 0., 0., 0., 1., 1., 1., 0., 1.,\n",
              "       1., 1., 1., 0., 1., 1., 0., 1., 0., 0., 1., 0., 0., 0., 1., 0., 1.,\n",
              "       0., 0., 0., 0., 0., 0., 1., 0., 0., 1., 1., 1., 1., 0., 1., 1., 1.,\n",
              "       0., 1., 0., 1., 0., 1., 1., 1., 0., 0., 0., 0., 0., 1., 1., 1., 1.,\n",
              "       1., 0., 0., 0., 0., 0., 1., 1., 0., 0., 0., 1., 1., 1., 0., 1., 0.,\n",
              "       1., 0., 1., 0., 1., 1., 0., 1., 0., 0., 1., 1., 1., 1., 0., 0., 1.,\n",
              "       0., 0., 1., 0., 1., 1., 1., 1., 0., 0., 0., 0., 1., 1., 1., 0., 0.,\n",
              "       1., 1., 0., 0., 0., 0., 1., 1., 1., 1., 1., 0., 1., 0., 0., 1., 1.,\n",
              "       0., 0., 1., 1., 1., 0., 0., 1., 1., 0., 0., 0., 0., 0., 0., 1., 1.,\n",
              "       0., 0., 0., 1., 0., 1., 1., 1., 0., 1., 1., 1., 0., 0., 1., 0., 0.,\n",
              "       0., 1., 0., 0., 0., 0., 1., 1., 1., 1., 1., 1., 0., 0., 0., 1., 1.,\n",
              "       0., 0., 1., 1., 1., 1., 1., 1., 1., 1., 1., 1., 1., 0., 0., 1., 0.,\n",
              "       0., 1., 1., 1., 0., 0., 1., 0., 0., 0., 1., 1., 1., 0., 0., 0., 0.,\n",
              "       1., 1., 1., 1., 0., 0., 0., 1., 1., 0., 0., 1., 1., 1., 0., 0., 0.,\n",
              "       0., 0., 0., 0., 0., 0., 0., 1., 0., 1., 1., 0., 1., 0., 0., 0., 0.,\n",
              "       0., 0., 1., 0., 0., 1., 1., 0., 0., 1., 0., 0., 0., 0., 0., 0., 0.,\n",
              "       0., 1., 1., 0., 0., 0., 1., 0., 0., 1., 0., 0., 0., 0., 0., 1., 0.,\n",
              "       0., 1., 0., 1., 1., 0., 0., 0., 1., 0., 1., 0., 0., 1., 1., 1., 1.,\n",
              "       0., 1., 0., 1., 0., 1., 1., 1., 1., 0., 0., 0., 0., 0., 0., 0., 1.,\n",
              "       1., 0., 1., 1., 1., 0., 0., 0., 0., 0., 0., 1., 0., 0., 1., 0., 0.,\n",
              "       1., 0., 1., 1., 1., 0., 1., 1., 0., 0., 1., 1., 0., 0., 1., 0., 1.,\n",
              "       0., 0., 1., 1., 1., 0., 1., 0., 0., 1., 0., 1., 0., 0., 1., 0., 1.,\n",
              "       1., 0., 0., 0., 0., 0., 0., 1., 0., 0., 0., 1., 1., 1., 0., 0., 1.,\n",
              "       1., 1., 0., 0., 0., 1., 0., 0., 0., 0., 1., 0., 1., 1., 1., 1., 0.,\n",
              "       0., 1., 1., 1., 0., 1., 1., 1., 1., 0., 0., 1., 1., 1., 0., 1., 1.,\n",
              "       0., 0., 1., 0., 1., 1., 1., 0., 0., 1., 0., 1., 1.])"
            ]
          },
          "metadata": {},
          "execution_count": 141
        }
      ]
    },
    {
      "cell_type": "markdown",
      "source": [
        "###Metricas"
      ],
      "metadata": {
        "id": "0IQRygqyPWrG"
      }
    },
    {
      "cell_type": "code",
      "source": [
        "accuracy_score(y_test, y_pred_avd) # Mostra a acurácia do modelo."
      ],
      "metadata": {
        "colab": {
          "base_uri": "https://localhost:8080/"
        },
        "id": "3Un-Due1PYKn",
        "outputId": "e8083ced-a85b-44bd-e997-6366bdec022c"
      },
      "execution_count": null,
      "outputs": [
        {
          "output_type": "execute_result",
          "data": {
            "text/plain": [
              "0.9704301075268817"
            ]
          },
          "metadata": {},
          "execution_count": 142
        }
      ]
    },
    {
      "cell_type": "code",
      "source": [
        "precision_score(y_test, y_pred_avd) # Mostra a precisão do modelo."
      ],
      "metadata": {
        "colab": {
          "base_uri": "https://localhost:8080/"
        },
        "id": "vyTPyu-LPamh",
        "outputId": "55c21590-f0dc-437d-9bd9-406c38193a11"
      },
      "execution_count": null,
      "outputs": [
        {
          "output_type": "execute_result",
          "data": {
            "text/plain": [
              "0.9681159420289855"
            ]
          },
          "metadata": {},
          "execution_count": 143
        }
      ]
    },
    {
      "cell_type": "code",
      "source": [
        "recall_score(y_test, y_pred_avd) # Mostra a revocação do modelo."
      ],
      "metadata": {
        "colab": {
          "base_uri": "https://localhost:8080/"
        },
        "id": "Lt5PeR0cPcNJ",
        "outputId": "5e8c7175-76f1-485f-c6de-3c0edc307575"
      },
      "execution_count": null,
      "outputs": [
        {
          "output_type": "execute_result",
          "data": {
            "text/plain": [
              "0.9681159420289855"
            ]
          },
          "metadata": {},
          "execution_count": 144
        }
      ]
    },
    {
      "cell_type": "code",
      "source": [
        "plot_confusion_matrix(avd,x_test,y_test, cmap='Blues') # Plota a matriz de confusão do modelo."
      ],
      "metadata": {
        "colab": {
          "base_uri": "https://localhost:8080/",
          "height": 296
        },
        "id": "2akDlHLVPeIK",
        "outputId": "f5be1e4f-6a64-47c2-832b-1e4c43fa92d8"
      },
      "execution_count": null,
      "outputs": [
        {
          "output_type": "execute_result",
          "data": {
            "text/plain": [
              "<sklearn.metrics._plot.confusion_matrix.ConfusionMatrixDisplay at 0x7f72c5c67c50>"
            ]
          },
          "metadata": {},
          "execution_count": 145
        },
        {
          "output_type": "display_data",
          "data": {
            "text/plain": [
              "<Figure size 432x288 with 2 Axes>"
            ],
            "image/png": "[encoded data removed]"
          },
          "metadata": {
            "needs_background": "light"
          }
        }
      ]
    },
    {
      "cell_type": "code",
      "source": [
        "rdf = RandomForestClassifier()\n",
        "rdf.fit(x_train, y_train)"
      ],
      "metadata": {
        "colab": {
          "base_uri": "https://localhost:8080/"
        },
        "id": "eaHuxgQTPg3O",
        "outputId": "9e9f6d3e-6fe1-41d3-c3b5-6f6bb04b29db"
      },
      "execution_count": null,
      "outputs": [
        {
          "output_type": "execute_result",
          "data": {
            "text/plain": [
              "RandomForestClassifier()"
            ]
          },
          "metadata": {},
          "execution_count": 146
        }
      ]
    },
    {
      "cell_type": "code",
      "source": [
        "y_pred_rdf = rdf.predict(x_test)"
      ],
      "metadata": {
        "id": "CUPbcOU8PkaN"
      },
      "execution_count": null,
      "outputs": []
    },
    {
      "cell_type": "markdown",
      "source": [
        "#Grid search e randomize search"
      ],
      "metadata": {
        "id": "96zm-ldYGxdZ"
      }
    },
    {
      "cell_type": "markdown",
      "source": [
        "##KNN"
      ],
      "metadata": {
        "id": "fHowCp4kaO8D"
      }
    },
    {
      "cell_type": "code",
      "source": [
        "from sklearn.neighbors import KNeighborsClassifier"
      ],
      "metadata": {
        "id": "wo0jN6W7aZH0"
      },
      "execution_count": null,
      "outputs": []
    },
    {
      "cell_type": "markdown",
      "source": [
        "###GridSearch"
      ],
      "metadata": {
        "id": "IH0Qgt4gahgS"
      }
    },
    {
      "cell_type": "code",
      "source": [
        "parametros = {'n_neighbors': [3, 5, 7, 9, 13],\n",
        "              'weights': ['uniform', 'distance'],\n",
        "              'algorithm': ['auto', 'ball_tree', 'kd_tree', 'brute'],\n",
        "              'leaf_size': [15, 30]}\n",
        "\n",
        "\n",
        "grid_search = GridSearchCV(estimator = KNeighborsClassifier(), param_grid=parametros) # Guardamos a função do gridsearch com o parâmetro previamente escolhido na variável.\n",
        "grid_search.fit(x_train, y_train.squeeze()) # Treina o modelo."
      ],
      "metadata": {
        "id": "P-LJEI__ai4H",
        "colab": {
          "base_uri": "https://localhost:8080/"
        },
        "outputId": "ae0be4e0-b307-4ab0-d529-347518f127bc"
      },
      "execution_count": null,
      "outputs": [
        {
          "output_type": "execute_result",
          "data": {
            "text/plain": [
              "GridSearchCV(estimator=KNeighborsClassifier(),\n",
              "             param_grid={'algorithm': ['auto', 'ball_tree', 'kd_tree', 'brute'],\n",
              "                         'leaf_size': [15, 30], 'n_neighbors': [3, 5, 7, 9, 13],\n",
              "                         'weights': ['uniform', 'distance']})"
            ]
          },
          "metadata": {},
          "execution_count": 149
        }
      ]
    },
    {
      "cell_type": "code",
      "source": [
        "print(grid_search.best_score_)\n",
        "print(grid_search.best_params_)\n",
        "# Mostra os melhores parâmetros para o modelo."
      ],
      "metadata": {
        "id": "LcQbd6FOal3M",
        "colab": {
          "base_uri": "https://localhost:8080/"
        },
        "outputId": "003b35e6-1ffb-4d79-d91d-7c61f2f65497"
      },
      "execution_count": null,
      "outputs": [
        {
          "output_type": "stream",
          "name": "stdout",
          "text": [
            "0.8654143677673088\n",
            "{'algorithm': 'auto', 'leaf_size': 15, 'n_neighbors': 3, 'weights': 'distance'}\n"
          ]
        }
      ]
    },
    {
      "cell_type": "code",
      "source": [
        "knn_best = grid_search.best_estimator_\n",
        "knn_best"
      ],
      "metadata": {
        "id": "W24LRzVpaoh4",
        "colab": {
          "base_uri": "https://localhost:8080/"
        },
        "outputId": "17af8f1b-e013-4960-8c5b-b9ac06d7f285"
      },
      "execution_count": null,
      "outputs": [
        {
          "output_type": "execute_result",
          "data": {
            "text/plain": [
              "KNeighborsClassifier(leaf_size=15, n_neighbors=3, weights='distance')"
            ]
          },
          "metadata": {},
          "execution_count": 151
        }
      ]
    },
    {
      "cell_type": "code",
      "source": [
        "from sklearn.metrics import f1_score\n",
        "y_pred = knn_best.predict(x_test)\n",
        "# Mostra as métricas do modelo\n",
        "print('Acc treino: ', knn_best.score(x_train, y_train ))\n",
        "print('Acc teste: ', knn_best.score(x_test, y_test.squeeze() ))\n",
        "print( 'Revocação: ', recall_score( y_test, y_pred ))\n",
        "print( 'Precisão: ', precision_score( y_test, y_pred ))\n",
        "print( 'F1_score: ', f1_score( y_test, y_pred ))"
      ],
      "metadata": {
        "id": "Ts9mVnmWaqcp",
        "colab": {
          "base_uri": "https://localhost:8080/"
        },
        "outputId": "4abaccd4-fcda-47ec-c4c7-d508ab1f932d"
      },
      "execution_count": null,
      "outputs": [
        {
          "output_type": "stream",
          "name": "stdout",
          "text": [
            "Acc treino:  1.0\n",
            "Acc teste:  0.8790322580645161\n",
            "Revocação:  0.9768115942028985\n",
            "Precisão:  0.8042959427207638\n",
            "F1_score:  0.8821989528795812\n"
          ]
        }
      ]
    },
    {
      "cell_type": "markdown",
      "source": [
        "###RandomizedSearchCV"
      ],
      "metadata": {
        "id": "wRXuOGcM9zth"
      }
    },
    {
      "cell_type": "code",
      "source": [
        "parametros = {'n_neighbors': [3, 5, 7, 9, 13, 15, 17, 21, 23, 25, 27, 29, 31, 33],\n",
        "              'weights': ['uniform', 'distance'],\n",
        "              'algorithm': ['auto', 'ball_tree', 'kd_tree', 'brute'],\n",
        "              'leaf_size': [7, 15, 30, 45, 60, 75]}\n",
        "random_search = RandomizedSearchCV(estimator = KNeighborsClassifier(),\n",
        "                                   param_distributions=parametros) # Guardamos a função do randomsearch com o parâmetro previamente escolhido na variável.\n",
        "random_search.fit(x_train, y_train.squeeze())"
      ],
      "metadata": {
        "id": "7_vKmkrz9o3R",
        "colab": {
          "base_uri": "https://localhost:8080/"
        },
        "outputId": "9538fd90-d53b-4b1a-ab2a-a4edbee422dc"
      },
      "execution_count": null,
      "outputs": [
        {
          "output_type": "execute_result",
          "data": {
            "text/plain": [
              "RandomizedSearchCV(estimator=KNeighborsClassifier(),\n",
              "                   param_distributions={'algorithm': ['auto', 'ball_tree',\n",
              "                                                      'kd_tree', 'brute'],\n",
              "                                        'leaf_size': [7, 15, 30, 45, 60, 75],\n",
              "                                        'n_neighbors': [3, 5, 7, 9, 13, 15, 17,\n",
              "                                                        21, 23, 25, 27, 29, 31,\n",
              "                                                        33],\n",
              "                                        'weights': ['uniform', 'distance']})"
            ]
          },
          "metadata": {},
          "execution_count": 153
        }
      ]
    },
    {
      "cell_type": "code",
      "source": [
        "print(random_search.best_score_)\n",
        "print(random_search.best_params_)\n",
        "# Mostra os melhores parâmetros para o modelo."
      ],
      "metadata": {
        "id": "GY2jIdkP9sAj",
        "colab": {
          "base_uri": "https://localhost:8080/"
        },
        "outputId": "7583c365-a5fe-46a9-9ae0-f1b5cdf9fb80"
      },
      "execution_count": null,
      "outputs": [
        {
          "output_type": "stream",
          "name": "stdout",
          "text": [
            "0.8556551509492685\n",
            "{'weights': 'distance', 'n_neighbors': 5, 'leaf_size': 7, 'algorithm': 'kd_tree'}\n"
          ]
        }
      ]
    },
    {
      "cell_type": "code",
      "source": [
        "knn_best = random_search.best_estimator_\n",
        "knn_best"
      ],
      "metadata": {
        "id": "iI-u0GOf9sj0",
        "colab": {
          "base_uri": "https://localhost:8080/"
        },
        "outputId": "9be9e4f6-77fe-41d4-879a-64ff2ffc451a"
      },
      "execution_count": null,
      "outputs": [
        {
          "output_type": "execute_result",
          "data": {
            "text/plain": [
              "KNeighborsClassifier(algorithm='kd_tree', leaf_size=7, weights='distance')"
            ]
          },
          "metadata": {},
          "execution_count": 155
        }
      ]
    },
    {
      "cell_type": "code",
      "source": [
        "y_pred = knn_best.predict(x_test)\n",
        "# Mostra as métricas do modelo\n",
        "print('Acc treino: ', knn_best.score(x_train, y_train ))\n",
        "print('Acc teste: ', knn_best.score(x_test, y_test.squeeze() ))\n",
        "print( 'Revocação: ', recall_score( y_test, y_pred ))\n",
        "print( 'Precisão: ', precision_score( y_test, y_pred ))\n",
        "print( 'F1_score: ', f1_score( y_test, y_pred ))"
      ],
      "metadata": {
        "id": "hcbxs7qv9t6h",
        "colab": {
          "base_uri": "https://localhost:8080/"
        },
        "outputId": "126ed0b1-08fd-467b-99dc-498a097d6dc6"
      },
      "execution_count": null,
      "outputs": [
        {
          "output_type": "stream",
          "name": "stdout",
          "text": [
            "Acc treino:  1.0\n",
            "Acc teste:  0.8763440860215054\n",
            "Revocação:  0.9681159420289855\n",
            "Precisão:  0.8048192771084337\n",
            "F1_score:  0.8789473684210527\n"
          ]
        }
      ]
    },
    {
      "cell_type": "markdown",
      "source": [
        "##Árvore de Decisão"
      ],
      "metadata": {
        "id": "sRCu8RqD97G_"
      }
    },
    {
      "cell_type": "markdown",
      "source": [
        "###GridSearch"
      ],
      "metadata": {
        "id": "WrpbjWj99-bm"
      }
    },
    {
      "cell_type": "code",
      "source": [
        "# Definir o espaço possível dos hiperparametros a serem testados no modelo\n",
        "parametros = {'criterion': ['gini', 'entropy', 'log_loss'],\n",
        "              'splitter': ['best', 'random']}\n",
        "\n",
        "\n",
        "grid_search = GridSearchCV(estimator = DecisionTreeClassifier(), param_grid=parametros) # Guardamos a função do gridsearch com o parâmetro previamente escolhido na variável.\n",
        "grid_search.fit(x_train, y_train.squeeze())"
      ],
      "metadata": {
        "id": "rGkeuSdv99Nq",
        "colab": {
          "base_uri": "https://localhost:8080/"
        },
        "outputId": "50b85fcb-bab6-4804-f1e4-52a492058651"
      },
      "execution_count": null,
      "outputs": [
        {
          "output_type": "execute_result",
          "data": {
            "text/plain": [
              "GridSearchCV(estimator=DecisionTreeClassifier(),\n",
              "             param_grid={'criterion': ['gini', 'entropy', 'log_loss'],\n",
              "                         'splitter': ['best', 'random']})"
            ]
          },
          "metadata": {},
          "execution_count": 157
        }
      ]
    },
    {
      "cell_type": "code",
      "source": [
        "# Mostra os melhores parâmetros para o modelo.\n",
        "print(grid_search.best_score_)\n",
        "\n",
        "print(grid_search.best_params_)"
      ],
      "metadata": {
        "id": "fB-UuLEk-Ceh",
        "colab": {
          "base_uri": "https://localhost:8080/"
        },
        "outputId": "9f424bba-33d7-4e14-c2ea-3b8bc14929a9"
      },
      "execution_count": null,
      "outputs": [
        {
          "output_type": "stream",
          "name": "stdout",
          "text": [
            "0.940109215403333\n",
            "{'criterion': 'entropy', 'splitter': 'best'}\n"
          ]
        }
      ]
    },
    {
      "cell_type": "code",
      "source": [
        "avd_best = grid_search.best_estimator_\n",
        "avd_best"
      ],
      "metadata": {
        "id": "0q5EhV---Dwe",
        "colab": {
          "base_uri": "https://localhost:8080/"
        },
        "outputId": "49bb4bfe-d41b-4959-c9da-b58a0924e514"
      },
      "execution_count": null,
      "outputs": [
        {
          "output_type": "execute_result",
          "data": {
            "text/plain": [
              "DecisionTreeClassifier(criterion='entropy')"
            ]
          },
          "metadata": {},
          "execution_count": 159
        }
      ]
    },
    {
      "cell_type": "code",
      "source": [
        "y_pred = avd_best.predict(x_test)\n",
        "# Mostra as métricas do modelo\n",
        "print('Acc treino: ', avd_best.score(x_train, y_train ))\n",
        "print('Acc teste: ', avd_best.score(x_test, y_test.squeeze() ))\n",
        "print( 'Revocação: ', recall_score( y_test, y_pred ))\n",
        "print( 'Precisão: ', precision_score( y_test, y_pred ))\n",
        "print( 'F1_score: ', f1_score( y_test, y_pred ))"
      ],
      "metadata": {
        "id": "ljmCDZWk-E7S",
        "colab": {
          "base_uri": "https://localhost:8080/"
        },
        "outputId": "c9963677-2daf-4063-e658-895c80eb2215"
      },
      "execution_count": null,
      "outputs": [
        {
          "output_type": "stream",
          "name": "stdout",
          "text": [
            "Acc treino:  1.0\n",
            "Acc teste:  0.9422043010752689\n",
            "Revocação:  0.9507246376811594\n",
            "Precisão:  0.9265536723163842\n",
            "F1_score:  0.9384835479256081\n"
          ]
        }
      ]
    },
    {
      "cell_type": "markdown",
      "source": [
        "###RandomizedSearchCV"
      ],
      "metadata": {
        "id": "as-jUrgy-GsN"
      }
    },
    {
      "cell_type": "code",
      "source": [
        "# Definir o espaço possível dos hiperparametros a serem testados no modelo\n",
        "parametros = {'criterion': ['gini', 'entropy', 'log_loss'],\n",
        "              'splitter': ['best', 'random']}\n",
        "\n",
        "\n",
        "random_search = RandomizedSearchCV(estimator = DecisionTreeClassifier(),\n",
        "                                   param_distributions=parametros) # Guardamos a função do randomsearch com o parâmetro previamente escolhido na variável.\n",
        "random_search.fit(x_train, y_train.squeeze())"
      ],
      "metadata": {
        "id": "67oZFJGu-I9R",
        "colab": {
          "base_uri": "https://localhost:8080/"
        },
        "outputId": "16f54cbc-972e-4b5e-f0ea-a81a6a85ca02"
      },
      "execution_count": null,
      "outputs": [
        {
          "output_type": "execute_result",
          "data": {
            "text/plain": [
              "RandomizedSearchCV(estimator=DecisionTreeClassifier(),\n",
              "                   param_distributions={'criterion': ['gini', 'entropy',\n",
              "                                                      'log_loss'],\n",
              "                                        'splitter': ['best', 'random']})"
            ]
          },
          "metadata": {},
          "execution_count": 161
        }
      ]
    },
    {
      "cell_type": "code",
      "source": [
        "# Mostra os melhores parâmetros para o modelo.\n",
        "print(random_search.best_score_)\n",
        "print(random_search.best_params_)"
      ],
      "metadata": {
        "id": "mxOzJHEj-LLH",
        "colab": {
          "base_uri": "https://localhost:8080/"
        },
        "outputId": "724a2685-f1d0-4a07-be87-661688fd37fb"
      },
      "execution_count": null,
      "outputs": [
        {
          "output_type": "stream",
          "name": "stdout",
          "text": [
            "0.9407820501938149\n",
            "{'splitter': 'best', 'criterion': 'entropy'}\n"
          ]
        }
      ]
    },
    {
      "cell_type": "code",
      "source": [
        "avd_best = random_search.best_estimator_\n",
        "avd_best"
      ],
      "metadata": {
        "id": "p-ajb6sy-OLG",
        "colab": {
          "base_uri": "https://localhost:8080/"
        },
        "outputId": "7591c8a4-08fc-432d-ae3f-2d4e95d849aa"
      },
      "execution_count": null,
      "outputs": [
        {
          "output_type": "execute_result",
          "data": {
            "text/plain": [
              "DecisionTreeClassifier(criterion='entropy')"
            ]
          },
          "metadata": {},
          "execution_count": 163
        }
      ]
    },
    {
      "cell_type": "code",
      "source": [
        "y_pred = avd_best.predict(x_test)\n",
        "# Mostra as métricas do modelo\n",
        "print('Acc treino: ', avd_best.score(x_train, y_train ))\n",
        "print('Acc teste: ', avd_best.score(x_test, y_test.squeeze() ))\n",
        "print( 'Revocação: ', recall_score( y_test, y_pred ))\n",
        "print( 'Precisão: ', precision_score( y_test, y_pred ))\n",
        "print( 'F1_score: ', f1_score( y_test, y_pred ))"
      ],
      "metadata": {
        "id": "kUASY2X9-PbV",
        "colab": {
          "base_uri": "https://localhost:8080/"
        },
        "outputId": "a3444412-d142-4523-ef1c-55710752c020"
      },
      "execution_count": null,
      "outputs": [
        {
          "output_type": "stream",
          "name": "stdout",
          "text": [
            "Acc treino:  1.0\n",
            "Acc teste:  0.9368279569892473\n",
            "Revocação:  0.9478260869565217\n",
            "Precisão:  0.9185393258426966\n",
            "F1_score:  0.9329529243937231\n"
          ]
        }
      ]
    },
    {
      "cell_type": "code",
      "source": [],
      "metadata": {
        "id": "Q-QrWIgAR_iz"
      },
      "execution_count": null,
      "outputs": []
    },
    {
      "cell_type": "markdown",
      "source": [
        "##Random Forest"
      ],
      "metadata": {
        "id": "DgRxVBlz_9xC"
      }
    },
    {
      "cell_type": "markdown",
      "source": [
        "###GridSearch"
      ],
      "metadata": {
        "id": "6-Rqan2LAoQ2"
      }
    },
    {
      "cell_type": "code",
      "source": [
        "# Definir o espaço possível dos hiperparametros a serem testados no modelo\n",
        "parametros = {'n_estimators': [10, 20, 40],\n",
        "              'criterion': ['gini', 'entropy', 'log_loss'],\n",
        "               'max_depth': [10,20,30]}\n",
        "\n",
        "\n",
        "\n",
        "grid_search = GridSearchCV(estimator = RandomForestClassifier(), param_grid=parametros) # Guardamos a função do gridsearch com o parâmetro previamente escolhido na variável.\n",
        "grid_search.fit(x_train, y_train.squeeze())"
      ],
      "metadata": {
        "id": "2EkIvDbAArD5",
        "colab": {
          "base_uri": "https://localhost:8080/"
        },
        "outputId": "3e89975d-01c5-460d-d850-78baecc3fb49"
      },
      "execution_count": null,
      "outputs": [
        {
          "output_type": "execute_result",
          "data": {
            "text/plain": [
              "GridSearchCV(estimator=RandomForestClassifier(),\n",
              "             param_grid={'criterion': ['gini', 'entropy', 'log_loss'],\n",
              "                         'max_depth': [10, 20, 30],\n",
              "                         'n_estimators': [10, 20, 40]})"
            ]
          },
          "metadata": {},
          "execution_count": 165
        }
      ]
    },
    {
      "cell_type": "code",
      "source": [
        "# Mostra os melhores parâmetros para o modelo.\n",
        "print(grid_search.best_score_)\n",
        "print(grid_search.best_params_)"
      ],
      "metadata": {
        "id": "rCjmLmdkAxF4",
        "colab": {
          "base_uri": "https://localhost:8080/"
        },
        "outputId": "6fad8a7f-1c50-4e61-f81c-551ba13f8809"
      },
      "execution_count": null,
      "outputs": [
        {
          "output_type": "stream",
          "name": "stdout",
          "text": [
            "0.9697224344283167\n",
            "{'criterion': 'entropy', 'max_depth': 30, 'n_estimators': 40}\n"
          ]
        }
      ]
    },
    {
      "cell_type": "code",
      "source": [
        "knn_best = grid_search.best_estimator_\n",
        "knn_best"
      ],
      "metadata": {
        "id": "ub5z7TokAxlw",
        "colab": {
          "base_uri": "https://localhost:8080/"
        },
        "outputId": "63e2238a-5843-48b1-fa27-a67d161cdb4a"
      },
      "execution_count": null,
      "outputs": [
        {
          "output_type": "execute_result",
          "data": {
            "text/plain": [
              "RandomForestClassifier(criterion='entropy', max_depth=30, n_estimators=40)"
            ]
          },
          "metadata": {},
          "execution_count": 167
        }
      ]
    },
    {
      "cell_type": "code",
      "source": [
        "y_pred = knn_best.predict(x_test)\n",
        "# Mostra as métricas do modelo\n",
        "print('Acc treino: ', knn_best.score(x_train, y_train ))\n",
        "print('Acc teste: ', knn_best.score(x_test, y_test.squeeze() ))\n",
        "print( 'Revocação: ', recall_score( y_test, y_pred ))\n",
        "print( 'Precisão: ', precision_score( y_test, y_pred ))\n",
        "print( 'F1_score: ', f1_score( y_test, y_pred ))"
      ],
      "metadata": {
        "id": "exkkMxf6AzUN",
        "colab": {
          "base_uri": "https://localhost:8080/"
        },
        "outputId": "c0c1b193-aa37-4437-a08d-9ba9c3993143"
      },
      "execution_count": null,
      "outputs": [
        {
          "output_type": "stream",
          "name": "stdout",
          "text": [
            "Acc treino:  1.0\n",
            "Acc teste:  0.9717741935483871\n",
            "Revocação:  0.9681159420289855\n",
            "Precisão:  0.9709302325581395\n",
            "F1_score:  0.9695210449927432\n"
          ]
        }
      ]
    },
    {
      "cell_type": "markdown",
      "source": [
        "###RandomSearch"
      ],
      "metadata": {
        "id": "wz9eBpkKa32v"
      }
    },
    {
      "cell_type": "code",
      "source": [
        "# Definir o espaço possível dos hiperparametros a serem testados no modelo\n",
        "parametros = {'n_estimators': [10, 20, 40, 60, 80, 100],\n",
        "              'criterion': ['gini', 'entropy','log loss'],\n",
        "              'max_depth': [10,20,30,40,50],}\n",
        "\n",
        "random_search = RandomizedSearchCV(estimator = RandomForestClassifier(), \n",
        "                                  param_distributions=parametros) # Guardamos a função do randomsearch com o parâmetro previamente escolhido na variável.\n",
        "random_search.fit(x_train, y_train.squeeze())"
      ],
      "metadata": {
        "colab": {
          "base_uri": "https://localhost:8080/"
        },
        "id": "1l20Dkv1a-xu",
        "outputId": "afe10c23-871e-480a-e943-3368f34482fd"
      },
      "execution_count": null,
      "outputs": [
        {
          "output_type": "execute_result",
          "data": {
            "text/plain": [
              "RandomizedSearchCV(estimator=RandomForestClassifier(),\n",
              "                   param_distributions={'criterion': ['gini', 'entropy',\n",
              "                                                      'log loss'],\n",
              "                                        'max_depth': [10, 20, 30, 40, 50],\n",
              "                                        'n_estimators': [10, 20, 40, 60, 80,\n",
              "                                                         100]})"
            ]
          },
          "metadata": {},
          "execution_count": 169
        }
      ]
    },
    {
      "cell_type": "code",
      "source": [
        "# Mostra os melhores parâmetros para o modelo.\n",
        "print(random_search.best_score_)\n",
        "print(random_search.best_params_)"
      ],
      "metadata": {
        "colab": {
          "base_uri": "https://localhost:8080/"
        },
        "id": "QyBA7PJEbERv",
        "outputId": "9a19ffd1-d45a-41f6-9c85-da351dba6b79"
      },
      "execution_count": null,
      "outputs": [
        {
          "output_type": "stream",
          "name": "stdout",
          "text": [
            "0.9676994029935206\n",
            "{'n_estimators': 60, 'max_depth': 30, 'criterion': 'entropy'}\n"
          ]
        }
      ]
    },
    {
      "cell_type": "code",
      "source": [
        "rdf_best = random_search.best_estimator_\n",
        "rdf_best"
      ],
      "metadata": {
        "colab": {
          "base_uri": "https://localhost:8080/"
        },
        "id": "Z4HNjlLebHvC",
        "outputId": "959cb57a-cbfa-46d7-fa53-a5f48e0e0b2c"
      },
      "execution_count": null,
      "outputs": [
        {
          "output_type": "execute_result",
          "data": {
            "text/plain": [
              "RandomForestClassifier(criterion='entropy', max_depth=30, n_estimators=60)"
            ]
          },
          "metadata": {},
          "execution_count": 171
        }
      ]
    },
    {
      "cell_type": "code",
      "source": [
        "y_pred = rdf_best.predict(x_test)\n",
        "# Mostra as métricas do modelo\n",
        "print('Acc treino: ', rdf_best.score(x_train, y_train ))\n",
        "print('Acc teste: ', rdf_best.score(x_test, y_test.squeeze() ))\n",
        "print( 'Revocação: ', recall_score( y_test, y_pred ))\n",
        "print( 'Precisão: ', precision_score( y_test, y_pred ))"
      ],
      "metadata": {
        "colab": {
          "base_uri": "https://localhost:8080/"
        },
        "id": "EDPuddITbKDd",
        "outputId": "2ea2d194-35a2-4c91-ba2e-9f7f840be8e0"
      },
      "execution_count": null,
      "outputs": [
        {
          "output_type": "stream",
          "name": "stdout",
          "text": [
            "Acc treino:  1.0\n",
            "Acc teste:  0.978494623655914\n",
            "Revocação:  0.9710144927536232\n",
            "Precisão:  0.9824046920821115\n"
          ]
        }
      ]
    }
  ]
}