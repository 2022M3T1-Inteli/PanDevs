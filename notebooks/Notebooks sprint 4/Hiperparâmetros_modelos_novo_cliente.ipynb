{
  "nbformat": 4,
  "nbformat_minor": 0,
  "metadata": {
    "colab": {
      "provenance": [],
      "collapsed_sections": [
        "_fUofvMG8eMB",
        "ITRInxIZ37zA",
        "GGOX7e5djzIz",
        "3CuSz6b4OstP",
        "UUr6DkgvDkRj",
        "4c3zaL5DSyqJ",
        "VGuU9uewTecb",
        "dGsaV_dYk3kJ",
        "tUO-1C0Lk3kK",
        "s11coLG_k3kM",
        "52yyern5lGyC",
        "EZXg-LVUlGyF",
        "mbvEa_8ZlGyI",
        "yR5U_XE9lIO3",
        "fqfd_aijlIO4",
        "KtnyflBQlIO5",
        "Y7N2wUwTlJ2s",
        "J_W8Eh-RlJ2t",
        "zKsptiNalJ2u",
        "zCebOlteIHvx",
        "JBbo9NueQ2c7",
        "79ppsZbPRSX0",
        "1OSEpLxDHICV",
        "Car3VeWVHICY",
        "LVEu01o4HLCi",
        "ZcUpljQAHLCl",
        "Q-z_kAsRHMqX",
        "o5pH7dkqHMqa",
        "hvu2s80eHOlh",
        "lBkebaXxHOlj",
        "uD8FOuTKHOlo",
        "4r-A9iUgHOls",
        "PLHl30mOcgwJ",
        "qFqar1aJcqMx",
        "mmqfNVTYMMKh",
        "VxOnyWspRX0A",
        "3VuaIQOmRbu9",
        "gWmOioMAUZ0J"
      ]
    },
    "kernelspec": {
      "name": "python3",
      "display_name": "Python 3"
    },
    "language_info": {
      "name": "python"
    }
  },
  "cells": [
    {
      "cell_type": "markdown",
      "source": [
        "#Bibliotecas e autenticação"
      ],
      "metadata": {
        "id": "_fUofvMG8eMB"
      }
    },
    {
      "cell_type": "code",
      "execution_count": 2,
      "metadata": {
        "id": "6rHk2XcT8W4H"
      },
      "outputs": [],
      "source": [
        "!pip install -U -q PyDrive"
      ]
    },
    {
      "cell_type": "code",
      "source": [
        "import pandas as pd\n",
        "import plotly.express as px\n",
        "from sklearn.preprocessing import LabelBinarizer\n",
        "from pydrive.auth import GoogleAuth\n",
        "from pydrive.drive import GoogleDrive\n",
        "from google.colab import auth\n",
        "from oauth2client.client import GoogleCredentials\n",
        "import warnings\n",
        "warnings.filterwarnings('ignore')\n",
        "from sklearn.feature_selection import SelectKBest\n",
        "from sklearn.feature_selection import f_classif, mutual_info_classif\n",
        "from sklearn.preprocessing import MinMaxScaler\n",
        "from sklearn.metrics import plot_confusion_matrix\n",
        "from sklearn.ensemble import RandomForestClassifier\n",
        "from sklearn.metrics import recall_score\n",
        "from sklearn.metrics import precision_score\n",
        "from sklearn.tree import DecisionTreeClassifier"
      ],
      "metadata": {
        "id": "sJE9oWJ78lpx"
      },
      "execution_count": 3,
      "outputs": []
    },
    {
      "cell_type": "code",
      "source": [
        "auth.authenticate_user()\n",
        "gauth = GoogleAuth()\n",
        "gauth.credentials = GoogleCredentials.get_application_default()\n",
        "drive = GoogleDrive(gauth)"
      ],
      "metadata": {
        "id": "JKgm1jSz8o7f"
      },
      "execution_count": 4,
      "outputs": []
    },
    {
      "cell_type": "code",
      "source": [
        "downloaded = drive.CreateFile({'id': '1-EL5jV5m_7zJi-rKgDXMAcCSrTGkq7z2'})\n",
        "downloaded.GetContentFile('not_client.csv')\n",
        "downloaded = drive.CreateFile({'id': '1-C4iOW6z7oAtWCHhwuC-IeTxp8COwbxj'})\n",
        "downloaded.GetContentFile('client.csv')"
      ],
      "metadata": {
        "id": "4p0uVvPf8rTw"
      },
      "execution_count": 5,
      "outputs": []
    },
    {
      "cell_type": "code",
      "source": [
        "not_client = pd.read_csv('not_client.csv')\n",
        "client = pd.read_csv('client.csv')"
      ],
      "metadata": {
        "id": "wRd9wzGzPTEw"
      },
      "execution_count": 6,
      "outputs": []
    },
    {
      "cell_type": "markdown",
      "source": [
        "#Comparação de features em relação ao indice de novo cliente\n"
      ],
      "metadata": {
        "id": "ITRInxIZ37zA"
      }
    },
    {
      "cell_type": "code",
      "source": [
        "matriz_corr = not_client.corr().style.background_gradient(cmap='coolwarm')\n",
        "matriz_corr"
      ],
      "metadata": {
        "id": "dw8BcEyKEuyq",
        "colab": {
          "base_uri": "https://localhost:8080/",
          "height": 332
        },
        "outputId": "dec82ccc-d9e7-4dee-cb96-6a4ff4fff499"
      },
      "execution_count": 7,
      "outputs": [
        {
          "output_type": "execute_result",
          "data": {
            "text/plain": [
              "<pandas.io.formats.style.Styler at 0x7f92de7f5190>"
            ],
            "text/html": [
              "<style type=\"text/css\">\n",
              "#T_a986c_row0_col0, #T_a986c_row1_col1, #T_a986c_row2_col2, #T_a986c_row3_col3, #T_a986c_row4_col4, #T_a986c_row5_col5, #T_a986c_row6_col6, #T_a986c_row7_col7, #T_a986c_row8_col8 {\n",
              "  background-color: #b40426;\n",
              "  color: #f1f1f1;\n",
              "}\n",
              "#T_a986c_row0_col1, #T_a986c_row0_col4, #T_a986c_row0_col5, #T_a986c_row0_col7, #T_a986c_row1_col0, #T_a986c_row1_col2, #T_a986c_row1_col4, #T_a986c_row2_col5, #T_a986c_row2_col7, #T_a986c_row3_col0, #T_a986c_row3_col5, #T_a986c_row4_col1, #T_a986c_row4_col5, #T_a986c_row4_col7, #T_a986c_row5_col2, #T_a986c_row5_col4, #T_a986c_row5_col7, #T_a986c_row6_col0, #T_a986c_row6_col2, #T_a986c_row6_col3, #T_a986c_row6_col4, #T_a986c_row6_col8, #T_a986c_row7_col2, #T_a986c_row7_col4, #T_a986c_row7_col5, #T_a986c_row8_col0, #T_a986c_row8_col4, #T_a986c_row8_col5, #T_a986c_row8_col6 {\n",
              "  background-color: #3b4cc0;\n",
              "  color: #f1f1f1;\n",
              "}\n",
              "#T_a986c_row0_col2, #T_a986c_row1_col5, #T_a986c_row2_col1, #T_a986c_row3_col4, #T_a986c_row4_col0, #T_a986c_row5_col0, #T_a986c_row5_col1, #T_a986c_row6_col5, #T_a986c_row7_col0, #T_a986c_row8_col2 {\n",
              "  background-color: #3c4ec2;\n",
              "  color: #f1f1f1;\n",
              "}\n",
              "#T_a986c_row0_col3, #T_a986c_row5_col3, #T_a986c_row6_col7 {\n",
              "  background-color: #5673e0;\n",
              "  color: #f1f1f1;\n",
              "}\n",
              "#T_a986c_row0_col6, #T_a986c_row2_col6, #T_a986c_row4_col6, #T_a986c_row4_col8, #T_a986c_row5_col8 {\n",
              "  background-color: #89acfd;\n",
              "  color: #000000;\n",
              "}\n",
              "#T_a986c_row0_col8 {\n",
              "  background-color: #88abfd;\n",
              "  color: #000000;\n",
              "}\n",
              "#T_a986c_row1_col3 {\n",
              "  background-color: #7396f5;\n",
              "  color: #f1f1f1;\n",
              "}\n",
              "#T_a986c_row1_col6 {\n",
              "  background-color: #a7c5fe;\n",
              "  color: #000000;\n",
              "}\n",
              "#T_a986c_row1_col7 {\n",
              "  background-color: #d6dce4;\n",
              "  color: #000000;\n",
              "}\n",
              "#T_a986c_row1_col8 {\n",
              "  background-color: #92b4fe;\n",
              "  color: #000000;\n",
              "}\n",
              "#T_a986c_row2_col0, #T_a986c_row3_col2 {\n",
              "  background-color: #3d50c3;\n",
              "  color: #f1f1f1;\n",
              "}\n",
              "#T_a986c_row2_col3, #T_a986c_row3_col1 {\n",
              "  background-color: #5977e3;\n",
              "  color: #f1f1f1;\n",
              "}\n",
              "#T_a986c_row2_col4, #T_a986c_row4_col2 {\n",
              "  background-color: #e6d7cf;\n",
              "  color: #000000;\n",
              "}\n",
              "#T_a986c_row2_col8, #T_a986c_row5_col6 {\n",
              "  background-color: #8badfd;\n",
              "  color: #000000;\n",
              "}\n",
              "#T_a986c_row3_col6 {\n",
              "  background-color: #6e90f2;\n",
              "  color: #f1f1f1;\n",
              "}\n",
              "#T_a986c_row3_col7 {\n",
              "  background-color: #688aef;\n",
              "  color: #f1f1f1;\n",
              "}\n",
              "#T_a986c_row3_col8 {\n",
              "  background-color: #f7a98b;\n",
              "  color: #000000;\n",
              "}\n",
              "#T_a986c_row4_col3 {\n",
              "  background-color: #5875e1;\n",
              "  color: #f1f1f1;\n",
              "}\n",
              "#T_a986c_row6_col1 {\n",
              "  background-color: #5f7fe8;\n",
              "  color: #f1f1f1;\n",
              "}\n",
              "#T_a986c_row7_col1 {\n",
              "  background-color: #d7dce3;\n",
              "  color: #000000;\n",
              "}\n",
              "#T_a986c_row7_col3 {\n",
              "  background-color: #84a7fc;\n",
              "  color: #f1f1f1;\n",
              "}\n",
              "#T_a986c_row7_col6 {\n",
              "  background-color: #a1c0ff;\n",
              "  color: #000000;\n",
              "}\n",
              "#T_a986c_row7_col8 {\n",
              "  background-color: #9bbcff;\n",
              "  color: #000000;\n",
              "}\n",
              "#T_a986c_row8_col1 {\n",
              "  background-color: #445acc;\n",
              "  color: #f1f1f1;\n",
              "}\n",
              "#T_a986c_row8_col3 {\n",
              "  background-color: #f7bca1;\n",
              "  color: #000000;\n",
              "}\n",
              "#T_a986c_row8_col7 {\n",
              "  background-color: #4f69d9;\n",
              "  color: #f1f1f1;\n",
              "}\n",
              "</style>\n",
              "<table id=\"T_a986c_\" class=\"dataframe\">\n",
              "  <thead>\n",
              "    <tr>\n",
              "      <th class=\"blank level0\" >&nbsp;</th>\n",
              "      <th class=\"col_heading level0 col0\" >Unnamed: 0</th>\n",
              "      <th class=\"col_heading level0 col1\" >vlr_credito</th>\n",
              "      <th class=\"col_heading level0 col2\" >num_atend_atrs</th>\n",
              "      <th class=\"col_heading level0 col3\" >vlr_score</th>\n",
              "      <th class=\"col_heading level0 col4\" >num_atend</th>\n",
              "      <th class=\"col_heading level0 col5\" >qtd_reclm</th>\n",
              "      <th class=\"col_heading level0 col6\" >qtd_restr</th>\n",
              "      <th class=\"col_heading level0 col7\" >vlr_renda</th>\n",
              "      <th class=\"col_heading level0 col8\" >ind_novo_cli</th>\n",
              "    </tr>\n",
              "  </thead>\n",
              "  <tbody>\n",
              "    <tr>\n",
              "      <th id=\"T_a986c_level0_row0\" class=\"row_heading level0 row0\" >Unnamed: 0</th>\n",
              "      <td id=\"T_a986c_row0_col0\" class=\"data row0 col0\" >1.000000</td>\n",
              "      <td id=\"T_a986c_row0_col1\" class=\"data row0 col1\" >-0.004607</td>\n",
              "      <td id=\"T_a986c_row0_col2\" class=\"data row0 col2\" >0.005030</td>\n",
              "      <td id=\"T_a986c_row0_col3\" class=\"data row0 col3\" >-0.003689</td>\n",
              "      <td id=\"T_a986c_row0_col4\" class=\"data row0 col4\" >0.001298</td>\n",
              "      <td id=\"T_a986c_row0_col5\" class=\"data row0 col5\" >0.000004</td>\n",
              "      <td id=\"T_a986c_row0_col6\" class=\"data row0 col6\" >-0.002301</td>\n",
              "      <td id=\"T_a986c_row0_col7\" class=\"data row0 col7\" >-0.000855</td>\n",
              "      <td id=\"T_a986c_row0_col8\" class=\"data row0 col8\" >-0.005114</td>\n",
              "    </tr>\n",
              "    <tr>\n",
              "      <th id=\"T_a986c_level0_row1\" class=\"row_heading level0 row1\" >vlr_credito</th>\n",
              "      <td id=\"T_a986c_row1_col0\" class=\"data row1 col0\" >-0.004607</td>\n",
              "      <td id=\"T_a986c_row1_col1\" class=\"data row1 col1\" >1.000000</td>\n",
              "      <td id=\"T_a986c_row1_col2\" class=\"data row1 col2\" >-0.000654</td>\n",
              "      <td id=\"T_a986c_row1_col3\" class=\"data row1 col3\" >0.094079</td>\n",
              "      <td id=\"T_a986c_row1_col4\" class=\"data row1 col4\" >-0.001340</td>\n",
              "      <td id=\"T_a986c_row1_col5\" class=\"data row1 col5\" >0.002196</td>\n",
              "      <td id=\"T_a986c_row1_col6\" class=\"data row1 col6\" >0.114967</td>\n",
              "      <td id=\"T_a986c_row1_col7\" class=\"data row1 col7\" >0.474466</td>\n",
              "      <td id=\"T_a986c_row1_col8\" class=\"data row1 col8\" >0.028897</td>\n",
              "    </tr>\n",
              "    <tr>\n",
              "      <th id=\"T_a986c_level0_row2\" class=\"row_heading level0 row2\" >num_atend_atrs</th>\n",
              "      <td id=\"T_a986c_row2_col0\" class=\"data row2 col0\" >0.005030</td>\n",
              "      <td id=\"T_a986c_row2_col1\" class=\"data row2 col1\" >-0.000654</td>\n",
              "      <td id=\"T_a986c_row2_col2\" class=\"data row2 col2\" >1.000000</td>\n",
              "      <td id=\"T_a986c_row2_col3\" class=\"data row2 col3\" >0.007907</td>\n",
              "      <td id=\"T_a986c_row2_col4\" class=\"data row2 col4\" >0.537946</td>\n",
              "      <td id=\"T_a986c_row2_col5\" class=\"data row2 col5\" >-0.000046</td>\n",
              "      <td id=\"T_a986c_row2_col6\" class=\"data row2 col6\" >-0.000860</td>\n",
              "      <td id=\"T_a986c_row2_col7\" class=\"data row2 col7\" >0.000204</td>\n",
              "      <td id=\"T_a986c_row2_col8\" class=\"data row2 col8\" >0.004194</td>\n",
              "    </tr>\n",
              "    <tr>\n",
              "      <th id=\"T_a986c_level0_row3\" class=\"row_heading level0 row3\" >vlr_score</th>\n",
              "      <td id=\"T_a986c_row3_col0\" class=\"data row3 col0\" >-0.003689</td>\n",
              "      <td id=\"T_a986c_row3_col1\" class=\"data row3 col1\" >0.094079</td>\n",
              "      <td id=\"T_a986c_row3_col2\" class=\"data row3 col2\" >0.007907</td>\n",
              "      <td id=\"T_a986c_row3_col3\" class=\"data row3 col3\" >1.000000</td>\n",
              "      <td id=\"T_a986c_row3_col4\" class=\"data row3 col4\" >0.003653</td>\n",
              "      <td id=\"T_a986c_row3_col5\" class=\"data row3 col5\" >-0.002278</td>\n",
              "      <td id=\"T_a986c_row3_col6\" class=\"data row3 col6\" >-0.103882</td>\n",
              "      <td id=\"T_a986c_row3_col7\" class=\"data row3 col7\" >0.145935</td>\n",
              "      <td id=\"T_a986c_row3_col8\" class=\"data row3 col8\" >0.618704</td>\n",
              "    </tr>\n",
              "    <tr>\n",
              "      <th id=\"T_a986c_level0_row4\" class=\"row_heading level0 row4\" >num_atend</th>\n",
              "      <td id=\"T_a986c_row4_col0\" class=\"data row4 col0\" >0.001298</td>\n",
              "      <td id=\"T_a986c_row4_col1\" class=\"data row4 col1\" >-0.001340</td>\n",
              "      <td id=\"T_a986c_row4_col2\" class=\"data row4 col2\" >0.537946</td>\n",
              "      <td id=\"T_a986c_row4_col3\" class=\"data row4 col3\" >0.003653</td>\n",
              "      <td id=\"T_a986c_row4_col4\" class=\"data row4 col4\" >1.000000</td>\n",
              "      <td id=\"T_a986c_row4_col5\" class=\"data row4 col5\" >-0.000088</td>\n",
              "      <td id=\"T_a986c_row4_col6\" class=\"data row4 col6\" >-0.000059</td>\n",
              "      <td id=\"T_a986c_row4_col7\" class=\"data row4 col7\" >0.001665</td>\n",
              "      <td id=\"T_a986c_row4_col8\" class=\"data row4 col8\" >-0.001255</td>\n",
              "    </tr>\n",
              "    <tr>\n",
              "      <th id=\"T_a986c_level0_row5\" class=\"row_heading level0 row5\" >qtd_reclm</th>\n",
              "      <td id=\"T_a986c_row5_col0\" class=\"data row5 col0\" >0.000004</td>\n",
              "      <td id=\"T_a986c_row5_col1\" class=\"data row5 col1\" >0.002196</td>\n",
              "      <td id=\"T_a986c_row5_col2\" class=\"data row5 col2\" >-0.000046</td>\n",
              "      <td id=\"T_a986c_row5_col3\" class=\"data row5 col3\" >-0.002278</td>\n",
              "      <td id=\"T_a986c_row5_col4\" class=\"data row5 col4\" >-0.000088</td>\n",
              "      <td id=\"T_a986c_row5_col5\" class=\"data row5 col5\" >1.000000</td>\n",
              "      <td id=\"T_a986c_row5_col6\" class=\"data row5 col6\" >0.005118</td>\n",
              "      <td id=\"T_a986c_row5_col7\" class=\"data row5 col7\" >-0.001529</td>\n",
              "      <td id=\"T_a986c_row5_col8\" class=\"data row5 col8\" >-0.002539</td>\n",
              "    </tr>\n",
              "    <tr>\n",
              "      <th id=\"T_a986c_level0_row6\" class=\"row_heading level0 row6\" >qtd_restr</th>\n",
              "      <td id=\"T_a986c_row6_col0\" class=\"data row6 col0\" >-0.002301</td>\n",
              "      <td id=\"T_a986c_row6_col1\" class=\"data row6 col1\" >0.114967</td>\n",
              "      <td id=\"T_a986c_row6_col2\" class=\"data row6 col2\" >-0.000860</td>\n",
              "      <td id=\"T_a986c_row6_col3\" class=\"data row6 col3\" >-0.103882</td>\n",
              "      <td id=\"T_a986c_row6_col4\" class=\"data row6 col4\" >-0.000059</td>\n",
              "      <td id=\"T_a986c_row6_col5\" class=\"data row6 col5\" >0.005118</td>\n",
              "      <td id=\"T_a986c_row6_col6\" class=\"data row6 col6\" >1.000000</td>\n",
              "      <td id=\"T_a986c_row6_col7\" class=\"data row6 col7\" >0.089440</td>\n",
              "      <td id=\"T_a986c_row6_col8\" class=\"data row6 col8\" >-0.316344</td>\n",
              "    </tr>\n",
              "    <tr>\n",
              "      <th id=\"T_a986c_level0_row7\" class=\"row_heading level0 row7\" >vlr_renda</th>\n",
              "      <td id=\"T_a986c_row7_col0\" class=\"data row7 col0\" >-0.000855</td>\n",
              "      <td id=\"T_a986c_row7_col1\" class=\"data row7 col1\" >0.474466</td>\n",
              "      <td id=\"T_a986c_row7_col2\" class=\"data row7 col2\" >0.000204</td>\n",
              "      <td id=\"T_a986c_row7_col3\" class=\"data row7 col3\" >0.145935</td>\n",
              "      <td id=\"T_a986c_row7_col4\" class=\"data row7 col4\" >0.001665</td>\n",
              "      <td id=\"T_a986c_row7_col5\" class=\"data row7 col5\" >-0.001529</td>\n",
              "      <td id=\"T_a986c_row7_col6\" class=\"data row7 col6\" >0.089440</td>\n",
              "      <td id=\"T_a986c_row7_col7\" class=\"data row7 col7\" >1.000000</td>\n",
              "      <td id=\"T_a986c_row7_col8\" class=\"data row7 col8\" >0.065169</td>\n",
              "    </tr>\n",
              "    <tr>\n",
              "      <th id=\"T_a986c_level0_row8\" class=\"row_heading level0 row8\" >ind_novo_cli</th>\n",
              "      <td id=\"T_a986c_row8_col0\" class=\"data row8 col0\" >-0.005114</td>\n",
              "      <td id=\"T_a986c_row8_col1\" class=\"data row8 col1\" >0.028897</td>\n",
              "      <td id=\"T_a986c_row8_col2\" class=\"data row8 col2\" >0.004194</td>\n",
              "      <td id=\"T_a986c_row8_col3\" class=\"data row8 col3\" >0.618704</td>\n",
              "      <td id=\"T_a986c_row8_col4\" class=\"data row8 col4\" >-0.001255</td>\n",
              "      <td id=\"T_a986c_row8_col5\" class=\"data row8 col5\" >-0.002539</td>\n",
              "      <td id=\"T_a986c_row8_col6\" class=\"data row8 col6\" >-0.316344</td>\n",
              "      <td id=\"T_a986c_row8_col7\" class=\"data row8 col7\" >0.065169</td>\n",
              "      <td id=\"T_a986c_row8_col8\" class=\"data row8 col8\" >1.000000</td>\n",
              "    </tr>\n",
              "  </tbody>\n",
              "</table>\n"
            ]
          },
          "metadata": {},
          "execution_count": 7
        }
      ]
    },
    {
      "cell_type": "code",
      "source": [
        "target_corr = matriz_corr.data.ind_novo_cli\n",
        "df_corr = target_corr.abs().sort_values(ascending=False).to_frame().style.background_gradient(cmap='coolwarm')\n",
        "df_corr"
      ],
      "metadata": {
        "id": "KwJ92nL84GJI",
        "colab": {
          "base_uri": "https://localhost:8080/",
          "height": 332
        },
        "outputId": "1a0c89a8-964c-43ad-dbab-45376a332f4c"
      },
      "execution_count": 8,
      "outputs": [
        {
          "output_type": "execute_result",
          "data": {
            "text/plain": [
              "<pandas.io.formats.style.Styler at 0x7f92de76af50>"
            ],
            "text/html": [
              "<style type=\"text/css\">\n",
              "#T_d6c4e_row0_col0 {\n",
              "  background-color: #b40426;\n",
              "  color: #f1f1f1;\n",
              "}\n",
              "#T_d6c4e_row1_col0 {\n",
              "  background-color: #f4c6af;\n",
              "  color: #000000;\n",
              "}\n",
              "#T_d6c4e_row2_col0 {\n",
              "  background-color: #a3c2fe;\n",
              "  color: #000000;\n",
              "}\n",
              "#T_d6c4e_row3_col0 {\n",
              "  background-color: #4e68d8;\n",
              "  color: #f1f1f1;\n",
              "}\n",
              "#T_d6c4e_row4_col0 {\n",
              "  background-color: #4358cb;\n",
              "  color: #f1f1f1;\n",
              "}\n",
              "#T_d6c4e_row5_col0, #T_d6c4e_row6_col0, #T_d6c4e_row7_col0, #T_d6c4e_row8_col0 {\n",
              "  background-color: #3b4cc0;\n",
              "  color: #f1f1f1;\n",
              "}\n",
              "</style>\n",
              "<table id=\"T_d6c4e_\" class=\"dataframe\">\n",
              "  <thead>\n",
              "    <tr>\n",
              "      <th class=\"blank level0\" >&nbsp;</th>\n",
              "      <th class=\"col_heading level0 col0\" >ind_novo_cli</th>\n",
              "    </tr>\n",
              "  </thead>\n",
              "  <tbody>\n",
              "    <tr>\n",
              "      <th id=\"T_d6c4e_level0_row0\" class=\"row_heading level0 row0\" >ind_novo_cli</th>\n",
              "      <td id=\"T_d6c4e_row0_col0\" class=\"data row0 col0\" >1.000000</td>\n",
              "    </tr>\n",
              "    <tr>\n",
              "      <th id=\"T_d6c4e_level0_row1\" class=\"row_heading level0 row1\" >vlr_score</th>\n",
              "      <td id=\"T_d6c4e_row1_col0\" class=\"data row1 col0\" >0.618704</td>\n",
              "    </tr>\n",
              "    <tr>\n",
              "      <th id=\"T_d6c4e_level0_row2\" class=\"row_heading level0 row2\" >qtd_restr</th>\n",
              "      <td id=\"T_d6c4e_row2_col0\" class=\"data row2 col0\" >0.316344</td>\n",
              "    </tr>\n",
              "    <tr>\n",
              "      <th id=\"T_d6c4e_level0_row3\" class=\"row_heading level0 row3\" >vlr_renda</th>\n",
              "      <td id=\"T_d6c4e_row3_col0\" class=\"data row3 col0\" >0.065169</td>\n",
              "    </tr>\n",
              "    <tr>\n",
              "      <th id=\"T_d6c4e_level0_row4\" class=\"row_heading level0 row4\" >vlr_credito</th>\n",
              "      <td id=\"T_d6c4e_row4_col0\" class=\"data row4 col0\" >0.028897</td>\n",
              "    </tr>\n",
              "    <tr>\n",
              "      <th id=\"T_d6c4e_level0_row5\" class=\"row_heading level0 row5\" >Unnamed: 0</th>\n",
              "      <td id=\"T_d6c4e_row5_col0\" class=\"data row5 col0\" >0.005114</td>\n",
              "    </tr>\n",
              "    <tr>\n",
              "      <th id=\"T_d6c4e_level0_row6\" class=\"row_heading level0 row6\" >num_atend_atrs</th>\n",
              "      <td id=\"T_d6c4e_row6_col0\" class=\"data row6 col0\" >0.004194</td>\n",
              "    </tr>\n",
              "    <tr>\n",
              "      <th id=\"T_d6c4e_level0_row7\" class=\"row_heading level0 row7\" >qtd_reclm</th>\n",
              "      <td id=\"T_d6c4e_row7_col0\" class=\"data row7 col0\" >0.002539</td>\n",
              "    </tr>\n",
              "    <tr>\n",
              "      <th id=\"T_d6c4e_level0_row8\" class=\"row_heading level0 row8\" >num_atend</th>\n",
              "      <td id=\"T_d6c4e_row8_col0\" class=\"data row8 col0\" >0.001255</td>\n",
              "    </tr>\n",
              "  </tbody>\n",
              "</table>\n"
            ]
          },
          "metadata": {},
          "execution_count": 8
        }
      ]
    },
    {
      "cell_type": "markdown",
      "source": [
        "#Testagem de hiperparâmetros manualmente nos modelos Novo cliente\n",
        "\n",
        "\n",
        "\n",
        "\n",
        "\n",
        "\n",
        "\n",
        "\n",
        "\n"
      ],
      "metadata": {
        "id": "GGOX7e5djzIz"
      }
    },
    {
      "cell_type": "markdown",
      "source": [
        "##Treinamento Teste"
      ],
      "metadata": {
        "id": "3CuSz6b4OstP"
      }
    },
    {
      "cell_type": "code",
      "source": [
        "from sklearn.model_selection import train_test_split\n",
        "\n",
        "cols = ['vlr_credito', 'vlr_renda', 'qtd_restr','vlr_score']\n",
        "\n",
        "# Dividindo x e y\n",
        "x = not_client[cols]\n",
        "y = not_client['ind_novo_cli']\n",
        "\n",
        "# Dividindo dados para treino e dados para teste\n",
        "x_train, x_test, y_train, y_test = train_test_split(x, y, test_size = 0.4, random_state = 50)"
      ],
      "metadata": {
        "id": "vygOZnWBOwnr"
      },
      "execution_count": 9,
      "outputs": []
    },
    {
      "cell_type": "code",
      "source": [
        "not_client[cols].head()"
      ],
      "metadata": {
        "id": "M7hYGBOmD7FB",
        "colab": {
          "base_uri": "https://localhost:8080/",
          "height": 206
        },
        "outputId": "c6a1b870-fda1-4d84-8632-c58724aac382"
      },
      "execution_count": 10,
      "outputs": [
        {
          "output_type": "execute_result",
          "data": {
            "text/plain": [
              "   vlr_credito  vlr_renda  qtd_restr  vlr_score\n",
              "0     0.000100   0.002846    0.00000   1.607560\n",
              "1     0.000000   0.020181    0.00463  -0.876154\n",
              "2     0.000220   0.001294    0.00463  -0.778900\n",
              "3     0.000565   0.016300    0.00000   2.198564\n",
              "4     0.000000   0.004916    0.00000  -1.003332"
            ],
            "text/html": [
              "\n",
              "  <div id=\"df-f1f730fa-17e5-48fe-8787-8a808dd24b6b\">\n",
              "    <div class=\"colab-df-container\">\n",
              "      <div>\n",
              "<style scoped>\n",
              "    .dataframe tbody tr th:only-of-type {\n",
              "        vertical-align: middle;\n",
              "    }\n",
              "\n",
              "    .dataframe tbody tr th {\n",
              "        vertical-align: top;\n",
              "    }\n",
              "\n",
              "    .dataframe thead th {\n",
              "        text-align: right;\n",
              "    }\n",
              "</style>\n",
              "<table border=\"1\" class=\"dataframe\">\n",
              "  <thead>\n",
              "    <tr style=\"text-align: right;\">\n",
              "      <th></th>\n",
              "      <th>vlr_credito</th>\n",
              "      <th>vlr_renda</th>\n",
              "      <th>qtd_restr</th>\n",
              "      <th>vlr_score</th>\n",
              "    </tr>\n",
              "  </thead>\n",
              "  <tbody>\n",
              "    <tr>\n",
              "      <th>0</th>\n",
              "      <td>0.000100</td>\n",
              "      <td>0.002846</td>\n",
              "      <td>0.00000</td>\n",
              "      <td>1.607560</td>\n",
              "    </tr>\n",
              "    <tr>\n",
              "      <th>1</th>\n",
              "      <td>0.000000</td>\n",
              "      <td>0.020181</td>\n",
              "      <td>0.00463</td>\n",
              "      <td>-0.876154</td>\n",
              "    </tr>\n",
              "    <tr>\n",
              "      <th>2</th>\n",
              "      <td>0.000220</td>\n",
              "      <td>0.001294</td>\n",
              "      <td>0.00463</td>\n",
              "      <td>-0.778900</td>\n",
              "    </tr>\n",
              "    <tr>\n",
              "      <th>3</th>\n",
              "      <td>0.000565</td>\n",
              "      <td>0.016300</td>\n",
              "      <td>0.00000</td>\n",
              "      <td>2.198564</td>\n",
              "    </tr>\n",
              "    <tr>\n",
              "      <th>4</th>\n",
              "      <td>0.000000</td>\n",
              "      <td>0.004916</td>\n",
              "      <td>0.00000</td>\n",
              "      <td>-1.003332</td>\n",
              "    </tr>\n",
              "  </tbody>\n",
              "</table>\n",
              "</div>\n",
              "      <button class=\"colab-df-convert\" onclick=\"convertToInteractive('df-f1f730fa-17e5-48fe-8787-8a808dd24b6b')\"\n",
              "              title=\"Convert this dataframe to an interactive table.\"\n",
              "              style=\"display:none;\">\n",
              "        \n",
              "  <svg xmlns=\"http://www.w3.org/2000/svg\" height=\"24px\"viewBox=\"0 0 24 24\"\n",
              "       width=\"24px\">\n",
              "    <path d=\"M0 0h24v24H0V0z\" fill=\"none\"/>\n",
              "    <path d=\"M18.56 5.44l.94 2.06.94-2.06 2.06-.94-2.06-.94-.94-2.06-.94 2.06-2.06.94zm-11 1L8.5 8.5l.94-2.06 2.06-.94-2.06-.94L8.5 2.5l-.94 2.06-2.06.94zm10 10l.94 2.06.94-2.06 2.06-.94-2.06-.94-.94-2.06-.94 2.06-2.06.94z\"/><path d=\"M17.41 7.96l-1.37-1.37c-.4-.4-.92-.59-1.43-.59-.52 0-1.04.2-1.43.59L10.3 9.45l-7.72 7.72c-.78.78-.78 2.05 0 2.83L4 21.41c.39.39.9.59 1.41.59.51 0 1.02-.2 1.41-.59l7.78-7.78 2.81-2.81c.8-.78.8-2.07 0-2.86zM5.41 20L4 18.59l7.72-7.72 1.47 1.35L5.41 20z\"/>\n",
              "  </svg>\n",
              "      </button>\n",
              "      \n",
              "  <style>\n",
              "    .colab-df-container {\n",
              "      display:flex;\n",
              "      flex-wrap:wrap;\n",
              "      gap: 12px;\n",
              "    }\n",
              "\n",
              "    .colab-df-convert {\n",
              "      background-color: #E8F0FE;\n",
              "      border: none;\n",
              "      border-radius: 50%;\n",
              "      cursor: pointer;\n",
              "      display: none;\n",
              "      fill: #1967D2;\n",
              "      height: 32px;\n",
              "      padding: 0 0 0 0;\n",
              "      width: 32px;\n",
              "    }\n",
              "\n",
              "    .colab-df-convert:hover {\n",
              "      background-color: #E2EBFA;\n",
              "      box-shadow: 0px 1px 2px rgba(60, 64, 67, 0.3), 0px 1px 3px 1px rgba(60, 64, 67, 0.15);\n",
              "      fill: #174EA6;\n",
              "    }\n",
              "\n",
              "    [theme=dark] .colab-df-convert {\n",
              "      background-color: #3B4455;\n",
              "      fill: #D2E3FC;\n",
              "    }\n",
              "\n",
              "    [theme=dark] .colab-df-convert:hover {\n",
              "      background-color: #434B5C;\n",
              "      box-shadow: 0px 1px 3px 1px rgba(0, 0, 0, 0.15);\n",
              "      filter: drop-shadow(0px 1px 2px rgba(0, 0, 0, 0.3));\n",
              "      fill: #FFFFFF;\n",
              "    }\n",
              "  </style>\n",
              "\n",
              "      <script>\n",
              "        const buttonEl =\n",
              "          document.querySelector('#df-f1f730fa-17e5-48fe-8787-8a808dd24b6b button.colab-df-convert');\n",
              "        buttonEl.style.display =\n",
              "          google.colab.kernel.accessAllowed ? 'block' : 'none';\n",
              "\n",
              "        async function convertToInteractive(key) {\n",
              "          const element = document.querySelector('#df-f1f730fa-17e5-48fe-8787-8a808dd24b6b');\n",
              "          const dataTable =\n",
              "            await google.colab.kernel.invokeFunction('convertToInteractive',\n",
              "                                                     [key], {});\n",
              "          if (!dataTable) return;\n",
              "\n",
              "          const docLinkHtml = 'Like what you see? Visit the ' +\n",
              "            '<a target=\"_blank\" href=https://colab.research.google.com/notebooks/data_table.ipynb>data table notebook</a>'\n",
              "            + ' to learn more about interactive tables.';\n",
              "          element.innerHTML = '';\n",
              "          dataTable['output_type'] = 'display_data';\n",
              "          await google.colab.output.renderOutput(dataTable, element);\n",
              "          const docLink = document.createElement('div');\n",
              "          docLink.innerHTML = docLinkHtml;\n",
              "          element.appendChild(docLink);\n",
              "        }\n",
              "      </script>\n",
              "    </div>\n",
              "  </div>\n",
              "  "
            ]
          },
          "metadata": {},
          "execution_count": 10
        }
      ]
    },
    {
      "cell_type": "markdown",
      "source": [
        "##Árvore de decisão Parâmetro 1"
      ],
      "metadata": {
        "id": "UUr6DkgvDkRj"
      }
    },
    {
      "cell_type": "code",
      "source": [
        "from sklearn.model_selection import train_test_split\n",
        "from sklearn.tree import DecisionTreeClassifier\n",
        "\n",
        "avd = DecisionTreeClassifier(criterion='entropy', random_state=42)\n",
        "avd.fit(x_train, y_train)"
      ],
      "metadata": {
        "id": "Gt9I27vVShAy",
        "colab": {
          "base_uri": "https://localhost:8080/"
        },
        "outputId": "367442c8-325a-4822-c40d-02cd716fdb0b"
      },
      "execution_count": 11,
      "outputs": [
        {
          "output_type": "execute_result",
          "data": {
            "text/plain": [
              "DecisionTreeClassifier(criterion='entropy', random_state=42)"
            ]
          },
          "metadata": {},
          "execution_count": 11
        }
      ]
    },
    {
      "cell_type": "code",
      "source": [
        "y_pred_avd = avd.predict(x_test)\n",
        "y_pred_avd"
      ],
      "metadata": {
        "id": "7DpjbLq7Slg3",
        "colab": {
          "base_uri": "https://localhost:8080/"
        },
        "outputId": "e1fa58a3-610a-4b53-f04f-6cb360de45f3"
      },
      "execution_count": 12,
      "outputs": [
        {
          "output_type": "execute_result",
          "data": {
            "text/plain": [
              "array([0., 0., 0., ..., 0., 0., 0.])"
            ]
          },
          "metadata": {},
          "execution_count": 12
        }
      ]
    },
    {
      "cell_type": "markdown",
      "source": [
        "###Métricas"
      ],
      "metadata": {
        "id": "4c3zaL5DSyqJ"
      }
    },
    {
      "cell_type": "markdown",
      "source": [
        "Acurácia"
      ],
      "metadata": {
        "id": "T3YJgczvTLTb"
      }
    },
    {
      "cell_type": "code",
      "source": [
        "from sklearn.metrics import accuracy_score\n",
        "accuracy_score(y_test, y_pred_avd)"
      ],
      "metadata": {
        "id": "RFGTNR05S1kB",
        "colab": {
          "base_uri": "https://localhost:8080/"
        },
        "outputId": "9cc9d1a7-07ea-414c-d451-ca38ed261447"
      },
      "execution_count": 13,
      "outputs": [
        {
          "output_type": "execute_result",
          "data": {
            "text/plain": [
              "1.0"
            ]
          },
          "metadata": {},
          "execution_count": 13
        }
      ]
    },
    {
      "cell_type": "markdown",
      "source": [
        "Precisão"
      ],
      "metadata": {
        "id": "cZ_T_WxcTNky"
      }
    },
    {
      "cell_type": "code",
      "source": [
        "from sklearn.metrics import precision_score\n",
        "precision_score(y_test, y_pred_avd)"
      ],
      "metadata": {
        "id": "J0YwCh02S6oP",
        "colab": {
          "base_uri": "https://localhost:8080/"
        },
        "outputId": "1abefb7b-a705-4d73-8250-18c07452780f"
      },
      "execution_count": 14,
      "outputs": [
        {
          "output_type": "execute_result",
          "data": {
            "text/plain": [
              "1.0"
            ]
          },
          "metadata": {},
          "execution_count": 14
        }
      ]
    },
    {
      "cell_type": "markdown",
      "source": [
        "Recall"
      ],
      "metadata": {
        "id": "VWxDsiiWTPWR"
      }
    },
    {
      "cell_type": "code",
      "source": [
        "from sklearn.metrics import recall_score\n",
        "recall_score(y_test, y_pred_avd)"
      ],
      "metadata": {
        "id": "Hfqzd7jWTCZJ",
        "colab": {
          "base_uri": "https://localhost:8080/"
        },
        "outputId": "c4d94a99-e884-4816-ff69-ed4441c4b766"
      },
      "execution_count": 15,
      "outputs": [
        {
          "output_type": "execute_result",
          "data": {
            "text/plain": [
              "1.0"
            ]
          },
          "metadata": {},
          "execution_count": 15
        }
      ]
    },
    {
      "cell_type": "markdown",
      "source": [
        "###Matriz de confusão"
      ],
      "metadata": {
        "id": "VGuU9uewTecb"
      }
    },
    {
      "cell_type": "code",
      "source": [
        "plot_confusion_matrix(avd,x_test,y_test, cmap='Blues')\n"
      ],
      "metadata": {
        "id": "1FAqMJDETieu",
        "colab": {
          "base_uri": "https://localhost:8080/",
          "height": 0
        },
        "outputId": "b2a961aa-05df-42c2-b1f4-0ebfb985462f"
      },
      "execution_count": 16,
      "outputs": [
        {
          "output_type": "execute_result",
          "data": {
            "text/plain": [
              "<sklearn.metrics._plot.confusion_matrix.ConfusionMatrixDisplay at 0x7f92de753050>"
            ]
          },
          "metadata": {},
          "execution_count": 16
        },
        {
          "output_type": "display_data",
          "data": {
            "text/plain": [
              "<Figure size 432x288 with 2 Axes>"
            ],
            "image/png": "[encoded data removed]"
          },
          "metadata": {
            "needs_background": "light"
          }
        }
      ]
    },
    {
      "cell_type": "markdown",
      "source": [
        "##Árvore de decisão Parâmetro 2"
      ],
      "metadata": {
        "id": "dGsaV_dYk3kJ"
      }
    },
    {
      "cell_type": "code",
      "source": [
        "from sklearn.model_selection import train_test_split\n",
        "from sklearn.tree import DecisionTreeClassifier\n",
        "\n",
        "avd = DecisionTreeClassifier(criterion='gini', random_state=42)\n",
        "avd.fit(x_train, y_train)"
      ],
      "metadata": {
        "id": "ABCQAXsyk3kK",
        "colab": {
          "base_uri": "https://localhost:8080/"
        },
        "outputId": "8462c366-b2ac-46f3-8b9e-8b42c028691d"
      },
      "execution_count": 17,
      "outputs": [
        {
          "output_type": "execute_result",
          "data": {
            "text/plain": [
              "DecisionTreeClassifier(random_state=42)"
            ]
          },
          "metadata": {},
          "execution_count": 17
        }
      ]
    },
    {
      "cell_type": "code",
      "source": [
        "y_pred_avd = avd.predict(x_test)\n",
        "y_pred_avd"
      ],
      "metadata": {
        "id": "-ekEtrMyk3kK",
        "colab": {
          "base_uri": "https://localhost:8080/"
        },
        "outputId": "e925b706-a2eb-46dd-98da-cd175f746c9f"
      },
      "execution_count": 18,
      "outputs": [
        {
          "output_type": "execute_result",
          "data": {
            "text/plain": [
              "array([0., 0., 0., ..., 0., 0., 0.])"
            ]
          },
          "metadata": {},
          "execution_count": 18
        }
      ]
    },
    {
      "cell_type": "markdown",
      "source": [
        "###Métricas"
      ],
      "metadata": {
        "id": "tUO-1C0Lk3kK"
      }
    },
    {
      "cell_type": "markdown",
      "source": [
        "Acurácia"
      ],
      "metadata": {
        "id": "nfPMacZRk3kK"
      }
    },
    {
      "cell_type": "code",
      "source": [
        "from sklearn.metrics import accuracy_score\n",
        "accuracy_score(y_test, y_pred_avd)"
      ],
      "metadata": {
        "id": "4GQO-XMNk3kK",
        "colab": {
          "base_uri": "https://localhost:8080/"
        },
        "outputId": "041a7443-2ee3-4f05-a729-90047a58ad64"
      },
      "execution_count": 19,
      "outputs": [
        {
          "output_type": "execute_result",
          "data": {
            "text/plain": [
              "1.0"
            ]
          },
          "metadata": {},
          "execution_count": 19
        }
      ]
    },
    {
      "cell_type": "markdown",
      "source": [
        "Precisão"
      ],
      "metadata": {
        "id": "yKxF84Jck3kL"
      }
    },
    {
      "cell_type": "code",
      "source": [
        "from sklearn.metrics import precision_score\n",
        "precision_score(y_test, y_pred_avd)"
      ],
      "metadata": {
        "id": "YzUFA7oSk3kL",
        "colab": {
          "base_uri": "https://localhost:8080/"
        },
        "outputId": "3bc51d49-06f2-49e4-aad5-ba528257e81e"
      },
      "execution_count": 20,
      "outputs": [
        {
          "output_type": "execute_result",
          "data": {
            "text/plain": [
              "1.0"
            ]
          },
          "metadata": {},
          "execution_count": 20
        }
      ]
    },
    {
      "cell_type": "markdown",
      "source": [
        "Recall"
      ],
      "metadata": {
        "id": "u6r2s77Vk3kL"
      }
    },
    {
      "cell_type": "code",
      "source": [
        "from sklearn.metrics import recall_score\n",
        "recall_score(y_test, y_pred_avd)"
      ],
      "metadata": {
        "id": "1HzIvsnBk3kL",
        "colab": {
          "base_uri": "https://localhost:8080/"
        },
        "outputId": "879443d7-e14e-4c45-b566-40985c7fcb7c"
      },
      "execution_count": 21,
      "outputs": [
        {
          "output_type": "execute_result",
          "data": {
            "text/plain": [
              "1.0"
            ]
          },
          "metadata": {},
          "execution_count": 21
        }
      ]
    },
    {
      "cell_type": "markdown",
      "source": [
        "###Matriz de confusão"
      ],
      "metadata": {
        "id": "s11coLG_k3kM"
      }
    },
    {
      "cell_type": "code",
      "source": [
        "plot_confusion_matrix(avd,x_test,y_test, cmap='Blues')\n"
      ],
      "metadata": {
        "id": "QrRjEzRnk3kM",
        "colab": {
          "base_uri": "https://localhost:8080/",
          "height": 0
        },
        "outputId": "e918f4f8-a0c3-4b27-afa0-7d5f5069887f"
      },
      "execution_count": 22,
      "outputs": [
        {
          "output_type": "execute_result",
          "data": {
            "text/plain": [
              "<sklearn.metrics._plot.confusion_matrix.ConfusionMatrixDisplay at 0x7f92de5ef950>"
            ]
          },
          "metadata": {},
          "execution_count": 22
        },
        {
          "output_type": "display_data",
          "data": {
            "text/plain": [
              "<Figure size 432x288 with 2 Axes>"
            ],
            "image/png": "[encoded data removed]"
          },
          "metadata": {
            "needs_background": "light"
          }
        }
      ]
    },
    {
      "cell_type": "markdown",
      "source": [
        "##Árvore de decisão Parâmetro 3"
      ],
      "metadata": {
        "id": "52yyern5lGyC"
      }
    },
    {
      "cell_type": "code",
      "source": [
        "from sklearn.model_selection import train_test_split\n",
        "from sklearn.tree import DecisionTreeClassifier\n",
        "\n",
        "avd = DecisionTreeClassifier(criterion='entropy', max_features='auto', random_state=42)\n",
        "avd.fit(x_train, y_train)"
      ],
      "metadata": {
        "id": "QmgCxChWlGyD",
        "colab": {
          "base_uri": "https://localhost:8080/"
        },
        "outputId": "79c02563-779b-487b-b11c-83ccb8f15164"
      },
      "execution_count": 23,
      "outputs": [
        {
          "output_type": "execute_result",
          "data": {
            "text/plain": [
              "DecisionTreeClassifier(criterion='entropy', max_features='auto',\n",
              "                       random_state=42)"
            ]
          },
          "metadata": {},
          "execution_count": 23
        }
      ]
    },
    {
      "cell_type": "code",
      "source": [
        "y_pred_avd = avd.predict(x_test)\n",
        "y_pred_avd"
      ],
      "metadata": {
        "id": "IhyzfOY5lGyE",
        "colab": {
          "base_uri": "https://localhost:8080/"
        },
        "outputId": "ab3542fd-b84e-4e36-e3a5-6c411d1fb50c"
      },
      "execution_count": 24,
      "outputs": [
        {
          "output_type": "execute_result",
          "data": {
            "text/plain": [
              "array([0., 0., 0., ..., 0., 0., 0.])"
            ]
          },
          "metadata": {},
          "execution_count": 24
        }
      ]
    },
    {
      "cell_type": "markdown",
      "source": [
        "###Métricas"
      ],
      "metadata": {
        "id": "EZXg-LVUlGyF"
      }
    },
    {
      "cell_type": "markdown",
      "source": [
        "Acurácia"
      ],
      "metadata": {
        "id": "3zUZ7_qnlGyG"
      }
    },
    {
      "cell_type": "code",
      "source": [
        "from sklearn.metrics import accuracy_score\n",
        "accuracy_score(y_test, y_pred_avd)"
      ],
      "metadata": {
        "id": "NOgPpL4IlGyG",
        "colab": {
          "base_uri": "https://localhost:8080/"
        },
        "outputId": "75cad08c-f24d-465c-b54e-baa3034ab0fe"
      },
      "execution_count": 25,
      "outputs": [
        {
          "output_type": "execute_result",
          "data": {
            "text/plain": [
              "1.0"
            ]
          },
          "metadata": {},
          "execution_count": 25
        }
      ]
    },
    {
      "cell_type": "markdown",
      "source": [
        "Precisão"
      ],
      "metadata": {
        "id": "b5LOPC7hlGyG"
      }
    },
    {
      "cell_type": "code",
      "source": [
        "from sklearn.metrics import precision_score\n",
        "precision_score(y_test, y_pred_avd)"
      ],
      "metadata": {
        "id": "OOriKnV8lGyH",
        "colab": {
          "base_uri": "https://localhost:8080/"
        },
        "outputId": "bc02ecbe-ca84-451b-ebc5-3f67a479b275"
      },
      "execution_count": 26,
      "outputs": [
        {
          "output_type": "execute_result",
          "data": {
            "text/plain": [
              "1.0"
            ]
          },
          "metadata": {},
          "execution_count": 26
        }
      ]
    },
    {
      "cell_type": "markdown",
      "source": [
        "Recall"
      ],
      "metadata": {
        "id": "_Ed-XyWwlGyH"
      }
    },
    {
      "cell_type": "code",
      "source": [
        "from sklearn.metrics import recall_score\n",
        "recall_score(y_test, y_pred_avd)"
      ],
      "metadata": {
        "id": "DrQO4k4JlGyH",
        "colab": {
          "base_uri": "https://localhost:8080/"
        },
        "outputId": "31258d91-3325-40da-beab-76b8e8a19da8"
      },
      "execution_count": 27,
      "outputs": [
        {
          "output_type": "execute_result",
          "data": {
            "text/plain": [
              "1.0"
            ]
          },
          "metadata": {},
          "execution_count": 27
        }
      ]
    },
    {
      "cell_type": "markdown",
      "source": [
        "###Matriz de confusão"
      ],
      "metadata": {
        "id": "mbvEa_8ZlGyI"
      }
    },
    {
      "cell_type": "code",
      "source": [
        "plot_confusion_matrix(avd,x_test,y_test, cmap='Blues')\n"
      ],
      "metadata": {
        "id": "Ofc9YzG1lGyI",
        "colab": {
          "base_uri": "https://localhost:8080/",
          "height": 0
        },
        "outputId": "f7df8289-9a66-4348-f047-3bab28ee6e79"
      },
      "execution_count": 28,
      "outputs": [
        {
          "output_type": "execute_result",
          "data": {
            "text/plain": [
              "<sklearn.metrics._plot.confusion_matrix.ConfusionMatrixDisplay at 0x7f92de089c10>"
            ]
          },
          "metadata": {},
          "execution_count": 28
        },
        {
          "output_type": "display_data",
          "data": {
            "text/plain": [
              "<Figure size 432x288 with 2 Axes>"
            ],
            "image/png": "[encoded data removed]"
          },
          "metadata": {
            "needs_background": "light"
          }
        }
      ]
    },
    {
      "cell_type": "markdown",
      "source": [
        "##Árvore de decisão Parâmetro 4"
      ],
      "metadata": {
        "id": "yR5U_XE9lIO3"
      }
    },
    {
      "cell_type": "code",
      "source": [
        "from sklearn.model_selection import train_test_split\n",
        "from sklearn.tree import DecisionTreeClassifier\n",
        "\n",
        "avd = DecisionTreeClassifier(criterion='entropy',max_features='log2', random_state=42)\n",
        "avd.fit(x_train, y_train)"
      ],
      "metadata": {
        "id": "PKWj3JvnlIO3",
        "colab": {
          "base_uri": "https://localhost:8080/"
        },
        "outputId": "6f41c573-0105-452a-b5e9-4a9363eb1a42"
      },
      "execution_count": 29,
      "outputs": [
        {
          "output_type": "execute_result",
          "data": {
            "text/plain": [
              "DecisionTreeClassifier(criterion='entropy', max_features='log2',\n",
              "                       random_state=42)"
            ]
          },
          "metadata": {},
          "execution_count": 29
        }
      ]
    },
    {
      "cell_type": "code",
      "source": [
        "y_pred_avd = avd.predict(x_test)\n",
        "y_pred_avd"
      ],
      "metadata": {
        "id": "zM4K_iVolIO4",
        "colab": {
          "base_uri": "https://localhost:8080/"
        },
        "outputId": "12196529-e282-4b75-e3d9-8b7e78746b11"
      },
      "execution_count": 30,
      "outputs": [
        {
          "output_type": "execute_result",
          "data": {
            "text/plain": [
              "array([0., 0., 0., ..., 0., 0., 0.])"
            ]
          },
          "metadata": {},
          "execution_count": 30
        }
      ]
    },
    {
      "cell_type": "markdown",
      "source": [
        "###Métricas"
      ],
      "metadata": {
        "id": "fqfd_aijlIO4"
      }
    },
    {
      "cell_type": "markdown",
      "source": [
        "Acurácia"
      ],
      "metadata": {
        "id": "2MvtBuW9lIO4"
      }
    },
    {
      "cell_type": "code",
      "source": [
        "from sklearn.metrics import accuracy_score\n",
        "accuracy_score(y_test, y_pred_avd)"
      ],
      "metadata": {
        "id": "pT3ly0oflIO4",
        "colab": {
          "base_uri": "https://localhost:8080/"
        },
        "outputId": "87828db5-5701-45de-d663-cea3a7a21cb5"
      },
      "execution_count": 31,
      "outputs": [
        {
          "output_type": "execute_result",
          "data": {
            "text/plain": [
              "1.0"
            ]
          },
          "metadata": {},
          "execution_count": 31
        }
      ]
    },
    {
      "cell_type": "markdown",
      "source": [
        "Precisão"
      ],
      "metadata": {
        "id": "s8fK0TX9lIO4"
      }
    },
    {
      "cell_type": "code",
      "source": [
        "from sklearn.metrics import precision_score\n",
        "precision_score(y_test, y_pred_avd)"
      ],
      "metadata": {
        "id": "QJf0lwyDlIO4",
        "colab": {
          "base_uri": "https://localhost:8080/"
        },
        "outputId": "057744a3-5968-4f75-f78f-9555e7668ae6"
      },
      "execution_count": 32,
      "outputs": [
        {
          "output_type": "execute_result",
          "data": {
            "text/plain": [
              "1.0"
            ]
          },
          "metadata": {},
          "execution_count": 32
        }
      ]
    },
    {
      "cell_type": "markdown",
      "source": [
        "Recall"
      ],
      "metadata": {
        "id": "CIfkDQtSlIO5"
      }
    },
    {
      "cell_type": "code",
      "source": [
        "from sklearn.metrics import recall_score\n",
        "recall_score(y_test, y_pred_avd)"
      ],
      "metadata": {
        "id": "sV2AlxQglIO5",
        "colab": {
          "base_uri": "https://localhost:8080/"
        },
        "outputId": "4464d666-17ff-48d4-ded7-6b43fac84acb"
      },
      "execution_count": 33,
      "outputs": [
        {
          "output_type": "execute_result",
          "data": {
            "text/plain": [
              "1.0"
            ]
          },
          "metadata": {},
          "execution_count": 33
        }
      ]
    },
    {
      "cell_type": "markdown",
      "source": [
        "###Matriz de confusão"
      ],
      "metadata": {
        "id": "KtnyflBQlIO5"
      }
    },
    {
      "cell_type": "code",
      "source": [
        "plot_confusion_matrix(avd,x_test,y_test, cmap='Blues')\n"
      ],
      "metadata": {
        "id": "pVknQpnglIO5",
        "colab": {
          "base_uri": "https://localhost:8080/",
          "height": 0
        },
        "outputId": "d118d0f6-5741-4748-dee6-c972da4aa688"
      },
      "execution_count": 34,
      "outputs": [
        {
          "output_type": "execute_result",
          "data": {
            "text/plain": [
              "<sklearn.metrics._plot.confusion_matrix.ConfusionMatrixDisplay at 0x7f92de6ca150>"
            ]
          },
          "metadata": {},
          "execution_count": 34
        },
        {
          "output_type": "display_data",
          "data": {
            "text/plain": [
              "<Figure size 432x288 with 2 Axes>"
            ],
            "image/png": "[encoded data removed]"
          },
          "metadata": {
            "needs_background": "light"
          }
        }
      ]
    },
    {
      "cell_type": "markdown",
      "source": [
        "##Árvore de decisão Parâmetro 5"
      ],
      "metadata": {
        "id": "Y7N2wUwTlJ2s"
      }
    },
    {
      "cell_type": "code",
      "source": [
        "from sklearn.model_selection import train_test_split\n",
        "from sklearn.tree import DecisionTreeClassifier\n",
        "\n",
        "avd = DecisionTreeClassifier(criterion='entropy',max_features='sqrt', random_state=42)\n",
        "avd.fit(x_train, y_train)"
      ],
      "metadata": {
        "id": "hg8tJKV7lJ2s",
        "colab": {
          "base_uri": "https://localhost:8080/"
        },
        "outputId": "481c3781-1717-4d64-dcf4-1e802b00512b"
      },
      "execution_count": 35,
      "outputs": [
        {
          "output_type": "execute_result",
          "data": {
            "text/plain": [
              "DecisionTreeClassifier(criterion='entropy', max_features='sqrt',\n",
              "                       random_state=42)"
            ]
          },
          "metadata": {},
          "execution_count": 35
        }
      ]
    },
    {
      "cell_type": "code",
      "source": [
        "y_pred_avd = avd.predict(x_test)\n",
        "y_pred_avd"
      ],
      "metadata": {
        "id": "d7LxYz22lJ2t",
        "colab": {
          "base_uri": "https://localhost:8080/"
        },
        "outputId": "9205b42b-2613-4b90-ed31-c2e2eac84ad7"
      },
      "execution_count": 36,
      "outputs": [
        {
          "output_type": "execute_result",
          "data": {
            "text/plain": [
              "array([0., 0., 0., ..., 0., 0., 0.])"
            ]
          },
          "metadata": {},
          "execution_count": 36
        }
      ]
    },
    {
      "cell_type": "markdown",
      "source": [
        "###Métricas"
      ],
      "metadata": {
        "id": "J_W8Eh-RlJ2t"
      }
    },
    {
      "cell_type": "markdown",
      "source": [
        "Acurácia"
      ],
      "metadata": {
        "id": "gzXLD_hmlJ2t"
      }
    },
    {
      "cell_type": "code",
      "source": [
        "from sklearn.metrics import accuracy_score\n",
        "accuracy_score(y_test, y_pred_avd)"
      ],
      "metadata": {
        "id": "vTms2ftLlJ2t",
        "colab": {
          "base_uri": "https://localhost:8080/"
        },
        "outputId": "09e2155b-29a4-4641-b018-f0e6815130a4"
      },
      "execution_count": 37,
      "outputs": [
        {
          "output_type": "execute_result",
          "data": {
            "text/plain": [
              "1.0"
            ]
          },
          "metadata": {},
          "execution_count": 37
        }
      ]
    },
    {
      "cell_type": "markdown",
      "source": [
        "Precisão"
      ],
      "metadata": {
        "id": "yJW-Ey0slJ2t"
      }
    },
    {
      "cell_type": "code",
      "source": [
        "from sklearn.metrics import precision_score\n",
        "precision_score(y_test, y_pred_avd)"
      ],
      "metadata": {
        "id": "-qHT6hvOlJ2t",
        "colab": {
          "base_uri": "https://localhost:8080/"
        },
        "outputId": "83da0f12-860a-4485-8b53-605bc96ef78d"
      },
      "execution_count": 38,
      "outputs": [
        {
          "output_type": "execute_result",
          "data": {
            "text/plain": [
              "1.0"
            ]
          },
          "metadata": {},
          "execution_count": 38
        }
      ]
    },
    {
      "cell_type": "markdown",
      "source": [
        "Recall"
      ],
      "metadata": {
        "id": "p0Mj4uerlJ2t"
      }
    },
    {
      "cell_type": "code",
      "source": [
        "from sklearn.metrics import recall_score\n",
        "recall_score(y_test, y_pred_avd)"
      ],
      "metadata": {
        "id": "mZDCHaRVlJ2u",
        "colab": {
          "base_uri": "https://localhost:8080/"
        },
        "outputId": "5e31404e-9e43-406c-ecbf-a0f52322c789"
      },
      "execution_count": 39,
      "outputs": [
        {
          "output_type": "execute_result",
          "data": {
            "text/plain": [
              "1.0"
            ]
          },
          "metadata": {},
          "execution_count": 39
        }
      ]
    },
    {
      "cell_type": "markdown",
      "source": [
        "###Matriz de confusão"
      ],
      "metadata": {
        "id": "zKsptiNalJ2u"
      }
    },
    {
      "cell_type": "code",
      "source": [
        "plot_confusion_matrix(avd,x_test,y_test, cmap='Blues')\n"
      ],
      "metadata": {
        "id": "CD0RA8ZDlJ2u",
        "colab": {
          "base_uri": "https://localhost:8080/",
          "height": 0
        },
        "outputId": "a9d30fcd-2de4-4819-c23c-5bb6c4202a9a"
      },
      "execution_count": 40,
      "outputs": [
        {
          "output_type": "execute_result",
          "data": {
            "text/plain": [
              "<sklearn.metrics._plot.confusion_matrix.ConfusionMatrixDisplay at 0x7f92ddf58750>"
            ]
          },
          "metadata": {},
          "execution_count": 40
        },
        {
          "output_type": "display_data",
          "data": {
            "text/plain": [
              "<Figure size 432x288 with 2 Axes>"
            ],
            "image/png": "[encoded data removed]"
          },
          "metadata": {
            "needs_background": "light"
          }
        }
      ]
    },
    {
      "cell_type": "markdown",
      "source": [
        "###De acordo com os parâmetros utilizados, todos os resultados analisados foram iguais, pois há um vazamento de dados a partir do vlr_score.\n",
        "#### "
      ],
      "metadata": {
        "id": "zCebOlteIHvx"
      }
    },
    {
      "cell_type": "markdown",
      "source": [
        "##Random Forest Parâmetro 1\n"
      ],
      "metadata": {
        "id": "JBbo9NueQ2c7"
      }
    },
    {
      "cell_type": "code",
      "source": [
        "from sklearn.ensemble import RandomForestClassifier\n",
        "from sklearn.metrics import plot_confusion_matrix\n",
        "\n",
        "rdf = RandomForestClassifier(criterion='entropy',max_features='sqrt', random_state=42)\n",
        "rdf.fit(x_train, y_train)\n"
      ],
      "metadata": {
        "id": "PYI_gLXAQ5rs",
        "colab": {
          "base_uri": "https://localhost:8080/"
        },
        "outputId": "405835d2-d2f8-4fc7-dece-b413918546c0"
      },
      "execution_count": 41,
      "outputs": [
        {
          "output_type": "execute_result",
          "data": {
            "text/plain": [
              "RandomForestClassifier(criterion='entropy', max_features='sqrt',\n",
              "                       random_state=42)"
            ]
          },
          "metadata": {},
          "execution_count": 41
        }
      ]
    },
    {
      "cell_type": "code",
      "source": [
        "y_pred_rdf = rdf.predict(x_test)"
      ],
      "metadata": {
        "id": "Z-SN0VCyRAyd"
      },
      "execution_count": 42,
      "outputs": []
    },
    {
      "cell_type": "markdown",
      "source": [
        "###Métricas"
      ],
      "metadata": {
        "id": "79ppsZbPRSX0"
      }
    },
    {
      "cell_type": "markdown",
      "source": [
        "Acurácia"
      ],
      "metadata": {
        "id": "Qnay7brsRUhB"
      }
    },
    {
      "cell_type": "code",
      "source": [
        "from sklearn.metrics import accuracy_score\n",
        "accuracy_score(y_test, y_pred_rdf)"
      ],
      "metadata": {
        "id": "_LyNdUN8RO66",
        "colab": {
          "base_uri": "https://localhost:8080/"
        },
        "outputId": "6d8e13ed-dd4c-43bf-d8b2-312d3a82b9e9"
      },
      "execution_count": 43,
      "outputs": [
        {
          "output_type": "execute_result",
          "data": {
            "text/plain": [
              "1.0"
            ]
          },
          "metadata": {},
          "execution_count": 43
        }
      ]
    },
    {
      "cell_type": "markdown",
      "source": [
        "Precisão"
      ],
      "metadata": {
        "id": "M1Ixi_5DRXbR"
      }
    },
    {
      "cell_type": "code",
      "source": [
        "from sklearn.metrics import precision_score\n",
        "precision_score(y_test, y_pred_rdf)"
      ],
      "metadata": {
        "id": "mSRTBO9SRXAx",
        "colab": {
          "base_uri": "https://localhost:8080/"
        },
        "outputId": "0fcac664-672a-46ae-bfaa-38c7dc6d5103"
      },
      "execution_count": 44,
      "outputs": [
        {
          "output_type": "execute_result",
          "data": {
            "text/plain": [
              "1.0"
            ]
          },
          "metadata": {},
          "execution_count": 44
        }
      ]
    },
    {
      "cell_type": "markdown",
      "source": [
        "Recall"
      ],
      "metadata": {
        "id": "0KoHssB4Rd80"
      }
    },
    {
      "cell_type": "code",
      "source": [
        "from sklearn.metrics import recall_score\n",
        "recall_score(y_test, y_pred_rdf)"
      ],
      "metadata": {
        "id": "GsN_XhEYRdh6",
        "colab": {
          "base_uri": "https://localhost:8080/"
        },
        "outputId": "b2e8620d-e57f-4a62-f63d-550f0dec9e37"
      },
      "execution_count": 45,
      "outputs": [
        {
          "output_type": "execute_result",
          "data": {
            "text/plain": [
              "1.0"
            ]
          },
          "metadata": {},
          "execution_count": 45
        }
      ]
    },
    {
      "cell_type": "code",
      "source": [
        "plot_confusion_matrix(rdf,x_test,y_test, cmap='Blues')"
      ],
      "metadata": {
        "id": "Sc8Z1qYbRz_a",
        "colab": {
          "base_uri": "https://localhost:8080/",
          "height": 0
        },
        "outputId": "199a3ded-182b-4c05-b132-72e4d21e9b50"
      },
      "execution_count": 46,
      "outputs": [
        {
          "output_type": "execute_result",
          "data": {
            "text/plain": [
              "<sklearn.metrics._plot.confusion_matrix.ConfusionMatrixDisplay at 0x7f92dde93e90>"
            ]
          },
          "metadata": {},
          "execution_count": 46
        },
        {
          "output_type": "display_data",
          "data": {
            "text/plain": [
              "<Figure size 432x288 with 2 Axes>"
            ],
            "image/png": "[encoded data removed]"
          },
          "metadata": {
            "needs_background": "light"
          }
        }
      ]
    },
    {
      "cell_type": "markdown",
      "source": [],
      "metadata": {
        "id": "6wNFILDjR6Qi"
      }
    },
    {
      "cell_type": "markdown",
      "source": [
        "##Random Forest Parâmetro 2\n"
      ],
      "metadata": {
        "id": "1OSEpLxDHICV"
      }
    },
    {
      "cell_type": "code",
      "source": [
        "from sklearn.ensemble import RandomForestClassifier\n",
        "from sklearn.metrics import plot_confusion_matrix\n",
        "\n",
        "rdf = RandomForestClassifier(criterion='gini', random_state=42)\n",
        "rdf.fit(x_train, y_train)\n"
      ],
      "metadata": {
        "id": "yKFHJgHKHICW",
        "colab": {
          "base_uri": "https://localhost:8080/"
        },
        "outputId": "bb8a930e-1158-4e9c-a653-94ace3b02347"
      },
      "execution_count": 47,
      "outputs": [
        {
          "output_type": "execute_result",
          "data": {
            "text/plain": [
              "RandomForestClassifier(random_state=42)"
            ]
          },
          "metadata": {},
          "execution_count": 47
        }
      ]
    },
    {
      "cell_type": "code",
      "source": [
        "y_pred_rdf = rdf.predict(x_test)"
      ],
      "metadata": {
        "id": "ehKAIpBLHICX"
      },
      "execution_count": 48,
      "outputs": []
    },
    {
      "cell_type": "markdown",
      "source": [
        "###Métricas"
      ],
      "metadata": {
        "id": "Car3VeWVHICY"
      }
    },
    {
      "cell_type": "markdown",
      "source": [
        "Acurácia"
      ],
      "metadata": {
        "id": "0pGHzPuJHICY"
      }
    },
    {
      "cell_type": "code",
      "source": [
        "from sklearn.metrics import accuracy_score\n",
        "accuracy_score(y_test, y_pred_rdf)"
      ],
      "metadata": {
        "id": "ASEAPlr8HICZ",
        "colab": {
          "base_uri": "https://localhost:8080/"
        },
        "outputId": "25d975ad-0555-4935-cae2-a8cae51f1fae"
      },
      "execution_count": 49,
      "outputs": [
        {
          "output_type": "execute_result",
          "data": {
            "text/plain": [
              "1.0"
            ]
          },
          "metadata": {},
          "execution_count": 49
        }
      ]
    },
    {
      "cell_type": "markdown",
      "source": [
        "Precisão"
      ],
      "metadata": {
        "id": "ztp9kiAWHICa"
      }
    },
    {
      "cell_type": "code",
      "source": [
        "from sklearn.metrics import precision_score\n",
        "precision_score(y_test, y_pred_rdf)"
      ],
      "metadata": {
        "id": "M6vc5TM7HICa",
        "colab": {
          "base_uri": "https://localhost:8080/"
        },
        "outputId": "9ae8304f-cd6f-4eee-ea44-c6bdda84e79e"
      },
      "execution_count": 50,
      "outputs": [
        {
          "output_type": "execute_result",
          "data": {
            "text/plain": [
              "1.0"
            ]
          },
          "metadata": {},
          "execution_count": 50
        }
      ]
    },
    {
      "cell_type": "markdown",
      "source": [
        "Recall"
      ],
      "metadata": {
        "id": "g9NmfrNGHICb"
      }
    },
    {
      "cell_type": "code",
      "source": [
        "from sklearn.metrics import recall_score\n",
        "recall_score(y_test, y_pred_rdf)"
      ],
      "metadata": {
        "id": "hHrisuwfHICb",
        "colab": {
          "base_uri": "https://localhost:8080/"
        },
        "outputId": "e87b69c1-0d44-4383-99c6-e9d7bcfb6aa1"
      },
      "execution_count": 51,
      "outputs": [
        {
          "output_type": "execute_result",
          "data": {
            "text/plain": [
              "1.0"
            ]
          },
          "metadata": {},
          "execution_count": 51
        }
      ]
    },
    {
      "cell_type": "code",
      "source": [
        "plot_confusion_matrix(rdf,x_test,y_test, cmap='Blues')"
      ],
      "metadata": {
        "id": "bwWsWspiHICc",
        "colab": {
          "base_uri": "https://localhost:8080/",
          "height": 0
        },
        "outputId": "e54bbcf0-15cd-42f1-dadf-355f24231d95"
      },
      "execution_count": 52,
      "outputs": [
        {
          "output_type": "execute_result",
          "data": {
            "text/plain": [
              "<sklearn.metrics._plot.confusion_matrix.ConfusionMatrixDisplay at 0x7f92ddeae290>"
            ]
          },
          "metadata": {},
          "execution_count": 52
        },
        {
          "output_type": "display_data",
          "data": {
            "text/plain": [
              "<Figure size 432x288 with 2 Axes>"
            ],
            "image/png": "[encoded data removed]"
          },
          "metadata": {
            "needs_background": "light"
          }
        }
      ]
    },
    {
      "cell_type": "markdown",
      "source": [],
      "metadata": {
        "id": "20pGKCPtHICc"
      }
    },
    {
      "cell_type": "markdown",
      "source": [
        "##Random Forest Parâmetro 3\n"
      ],
      "metadata": {
        "id": "LVEu01o4HLCi"
      }
    },
    {
      "cell_type": "code",
      "source": [
        "from sklearn.ensemble import RandomForestClassifier\n",
        "from sklearn.metrics import plot_confusion_matrix\n",
        "\n",
        "rdf = RandomForestClassifier(criterion='entropy', max_features='auto', random_state=42)\n",
        "rdf.fit(x_train, y_train)\n",
        "\n"
      ],
      "metadata": {
        "id": "KayY1ROHHLCj",
        "colab": {
          "base_uri": "https://localhost:8080/"
        },
        "outputId": "f06cdfb4-b69b-4796-a578-b56b155a8318"
      },
      "execution_count": 53,
      "outputs": [
        {
          "output_type": "execute_result",
          "data": {
            "text/plain": [
              "RandomForestClassifier(criterion='entropy', random_state=42)"
            ]
          },
          "metadata": {},
          "execution_count": 53
        }
      ]
    },
    {
      "cell_type": "code",
      "source": [
        "y_pred_rdf = rdf.predict(x_test)"
      ],
      "metadata": {
        "id": "JSfcWS-rHLCk"
      },
      "execution_count": 54,
      "outputs": []
    },
    {
      "cell_type": "markdown",
      "source": [
        "###Métricas"
      ],
      "metadata": {
        "id": "ZcUpljQAHLCl"
      }
    },
    {
      "cell_type": "markdown",
      "source": [
        "Acurácia"
      ],
      "metadata": {
        "id": "MRS7tGIbHLCl"
      }
    },
    {
      "cell_type": "code",
      "source": [
        "from sklearn.metrics import accuracy_score\n",
        "accuracy_score(y_test, y_pred_rdf)"
      ],
      "metadata": {
        "id": "gUsUlFmgHLCm",
        "colab": {
          "base_uri": "https://localhost:8080/"
        },
        "outputId": "c24bb190-c3a7-4cc6-9e5b-2df198449cb9"
      },
      "execution_count": 55,
      "outputs": [
        {
          "output_type": "execute_result",
          "data": {
            "text/plain": [
              "1.0"
            ]
          },
          "metadata": {},
          "execution_count": 55
        }
      ]
    },
    {
      "cell_type": "markdown",
      "source": [
        "Precisão"
      ],
      "metadata": {
        "id": "mZB8sTBVHLCm"
      }
    },
    {
      "cell_type": "code",
      "source": [
        "from sklearn.metrics import precision_score\n",
        "precision_score(y_test, y_pred_rdf)"
      ],
      "metadata": {
        "id": "0nNdfEeqHLCn",
        "colab": {
          "base_uri": "https://localhost:8080/"
        },
        "outputId": "5941964b-a03b-46ce-ba20-4ba7ef17a9ef"
      },
      "execution_count": 56,
      "outputs": [
        {
          "output_type": "execute_result",
          "data": {
            "text/plain": [
              "1.0"
            ]
          },
          "metadata": {},
          "execution_count": 56
        }
      ]
    },
    {
      "cell_type": "markdown",
      "source": [
        "Recall"
      ],
      "metadata": {
        "id": "xikSxSHTHLCo"
      }
    },
    {
      "cell_type": "code",
      "source": [
        "from sklearn.metrics import recall_score\n",
        "recall_score(y_test, y_pred_rdf)"
      ],
      "metadata": {
        "id": "DXE6037cHLCo",
        "colab": {
          "base_uri": "https://localhost:8080/"
        },
        "outputId": "b535b2bd-2dee-4474-a455-1173fd404f49"
      },
      "execution_count": 57,
      "outputs": [
        {
          "output_type": "execute_result",
          "data": {
            "text/plain": [
              "1.0"
            ]
          },
          "metadata": {},
          "execution_count": 57
        }
      ]
    },
    {
      "cell_type": "code",
      "source": [
        "plot_confusion_matrix(rdf,x_test,y_test, cmap='Blues')"
      ],
      "metadata": {
        "id": "UOvW_AphHLCp",
        "colab": {
          "base_uri": "https://localhost:8080/",
          "height": 0
        },
        "outputId": "dc37622f-dd39-49df-b793-c9895d0adef7"
      },
      "execution_count": 58,
      "outputs": [
        {
          "output_type": "execute_result",
          "data": {
            "text/plain": [
              "<sklearn.metrics._plot.confusion_matrix.ConfusionMatrixDisplay at 0x7f92ddde1050>"
            ]
          },
          "metadata": {},
          "execution_count": 58
        },
        {
          "output_type": "display_data",
          "data": {
            "text/plain": [
              "<Figure size 432x288 with 2 Axes>"
            ],
            "image/png": "[encoded data removed]"
          },
          "metadata": {
            "needs_background": "light"
          }
        }
      ]
    },
    {
      "cell_type": "markdown",
      "source": [],
      "metadata": {
        "id": "EdmV6T_9HLCp"
      }
    },
    {
      "cell_type": "markdown",
      "source": [
        "##Random Forest Parâmetro 4\n"
      ],
      "metadata": {
        "id": "Q-z_kAsRHMqX"
      }
    },
    {
      "cell_type": "code",
      "source": [
        "from sklearn.ensemble import RandomForestClassifier\n",
        "from sklearn.metrics import plot_confusion_matrix\n",
        "\n",
        "rdf = RandomForestClassifier(criterion='entropy', max_features='sqrt', random_state=42)\n",
        "rdf.fit(x_train, y_train)"
      ],
      "metadata": {
        "id": "m3XfZNKyHMqY",
        "colab": {
          "base_uri": "https://localhost:8080/"
        },
        "outputId": "14ebf456-d2af-425d-91ed-54ee9c494059"
      },
      "execution_count": 59,
      "outputs": [
        {
          "output_type": "execute_result",
          "data": {
            "text/plain": [
              "RandomForestClassifier(criterion='entropy', max_features='sqrt',\n",
              "                       random_state=42)"
            ]
          },
          "metadata": {},
          "execution_count": 59
        }
      ]
    },
    {
      "cell_type": "code",
      "source": [
        "y_pred_rdf = rdf.predict(x_test)"
      ],
      "metadata": {
        "id": "nGefRyaVHMqa"
      },
      "execution_count": 60,
      "outputs": []
    },
    {
      "cell_type": "markdown",
      "source": [
        "###Métricas"
      ],
      "metadata": {
        "id": "o5pH7dkqHMqa"
      }
    },
    {
      "cell_type": "markdown",
      "source": [
        "Acurácia"
      ],
      "metadata": {
        "id": "SYsxzkViHMqb"
      }
    },
    {
      "cell_type": "code",
      "source": [
        "from sklearn.metrics import accuracy_score\n",
        "accuracy_score(y_test, y_pred_rdf)"
      ],
      "metadata": {
        "id": "iIVO0wB0HMqb",
        "colab": {
          "base_uri": "https://localhost:8080/"
        },
        "outputId": "ea47995d-374f-46d6-a625-7a8cef5a5ffa"
      },
      "execution_count": 61,
      "outputs": [
        {
          "output_type": "execute_result",
          "data": {
            "text/plain": [
              "1.0"
            ]
          },
          "metadata": {},
          "execution_count": 61
        }
      ]
    },
    {
      "cell_type": "markdown",
      "source": [
        "Precisão"
      ],
      "metadata": {
        "id": "o37KWK3vHMqc"
      }
    },
    {
      "cell_type": "code",
      "source": [
        "from sklearn.metrics import precision_score\n",
        "precision_score(y_test, y_pred_rdf)"
      ],
      "metadata": {
        "id": "8g8Ww331HMqc",
        "colab": {
          "base_uri": "https://localhost:8080/"
        },
        "outputId": "5ee9ea17-66db-4212-ea88-339601a34578"
      },
      "execution_count": 62,
      "outputs": [
        {
          "output_type": "execute_result",
          "data": {
            "text/plain": [
              "1.0"
            ]
          },
          "metadata": {},
          "execution_count": 62
        }
      ]
    },
    {
      "cell_type": "markdown",
      "source": [
        "Recall"
      ],
      "metadata": {
        "id": "9hnp2QmTHMqd"
      }
    },
    {
      "cell_type": "code",
      "source": [
        "from sklearn.metrics import recall_score\n",
        "recall_score(y_test, y_pred_rdf)"
      ],
      "metadata": {
        "id": "w_E58hu1HMqd",
        "colab": {
          "base_uri": "https://localhost:8080/"
        },
        "outputId": "4a13d018-e850-48e7-e042-4019550307a9"
      },
      "execution_count": 63,
      "outputs": [
        {
          "output_type": "execute_result",
          "data": {
            "text/plain": [
              "1.0"
            ]
          },
          "metadata": {},
          "execution_count": 63
        }
      ]
    },
    {
      "cell_type": "code",
      "source": [
        "plot_confusion_matrix(rdf,x_test,y_test, cmap='Blues')"
      ],
      "metadata": {
        "id": "C_1JtTlPHMqe",
        "colab": {
          "base_uri": "https://localhost:8080/",
          "height": 0
        },
        "outputId": "28de0f66-547b-4e3a-c856-474ee3976cbb"
      },
      "execution_count": 64,
      "outputs": [
        {
          "output_type": "execute_result",
          "data": {
            "text/plain": [
              "<sklearn.metrics._plot.confusion_matrix.ConfusionMatrixDisplay at 0x7f92ddd29f90>"
            ]
          },
          "metadata": {},
          "execution_count": 64
        },
        {
          "output_type": "display_data",
          "data": {
            "text/plain": [
              "<Figure size 432x288 with 2 Axes>"
            ],
            "image/png": "[encoded data removed]"
          },
          "metadata": {
            "needs_background": "light"
          }
        }
      ]
    },
    {
      "cell_type": "markdown",
      "source": [],
      "metadata": {
        "id": "GaeihDuHHMqf"
      }
    },
    {
      "cell_type": "markdown",
      "source": [
        "##Random Forest Parâmetro 5\n"
      ],
      "metadata": {
        "id": "hvu2s80eHOlh"
      }
    },
    {
      "cell_type": "code",
      "source": [
        "from sklearn.ensemble import RandomForestClassifier\n",
        "from sklearn.metrics import plot_confusion_matrix\n",
        "\n",
        "rdf = RandomForestClassifier(criterion='entropy', max_features='log2', random_state=42)\n",
        "rdf.fit(x_train, y_train)\n"
      ],
      "metadata": {
        "id": "KGvgI5FIHOli",
        "colab": {
          "base_uri": "https://localhost:8080/"
        },
        "outputId": "ed54a07f-2842-4bb3-b2e9-8c7a4856fc1d"
      },
      "execution_count": 65,
      "outputs": [
        {
          "output_type": "execute_result",
          "data": {
            "text/plain": [
              "RandomForestClassifier(criterion='entropy', max_features='log2',\n",
              "                       random_state=42)"
            ]
          },
          "metadata": {},
          "execution_count": 65
        }
      ]
    },
    {
      "cell_type": "code",
      "source": [
        "y_pred_rdf = rdf.predict(x_test)"
      ],
      "metadata": {
        "id": "f6L80h4LHOlj"
      },
      "execution_count": 66,
      "outputs": []
    },
    {
      "cell_type": "markdown",
      "source": [
        "###Métricas"
      ],
      "metadata": {
        "id": "lBkebaXxHOlj"
      }
    },
    {
      "cell_type": "markdown",
      "source": [
        "Acurácia"
      ],
      "metadata": {
        "id": "4E1wsEpJHOlk"
      }
    },
    {
      "cell_type": "code",
      "source": [
        "from sklearn.metrics import accuracy_score\n",
        "accuracy_score(y_test, y_pred_rdf)"
      ],
      "metadata": {
        "id": "QQrGsLLHHOlk",
        "colab": {
          "base_uri": "https://localhost:8080/"
        },
        "outputId": "09bba7bb-fa14-4a00-ed4b-da7487b6586b"
      },
      "execution_count": 67,
      "outputs": [
        {
          "output_type": "execute_result",
          "data": {
            "text/plain": [
              "1.0"
            ]
          },
          "metadata": {},
          "execution_count": 67
        }
      ]
    },
    {
      "cell_type": "markdown",
      "source": [
        "Precisão"
      ],
      "metadata": {
        "id": "VlYgeWEKHOll"
      }
    },
    {
      "cell_type": "code",
      "source": [
        "from sklearn.metrics import precision_score\n",
        "precision_score(y_test, y_pred_rdf)"
      ],
      "metadata": {
        "id": "nHEMjzH4HOll",
        "colab": {
          "base_uri": "https://localhost:8080/"
        },
        "outputId": "5c921d59-194a-4bb8-daff-363367a32500"
      },
      "execution_count": 68,
      "outputs": [
        {
          "output_type": "execute_result",
          "data": {
            "text/plain": [
              "1.0"
            ]
          },
          "metadata": {},
          "execution_count": 68
        }
      ]
    },
    {
      "cell_type": "markdown",
      "source": [
        "Recall"
      ],
      "metadata": {
        "id": "Rw8-_J_5HOlm"
      }
    },
    {
      "cell_type": "code",
      "source": [
        "from sklearn.metrics import recall_score\n",
        "recall_score(y_test, y_pred_rdf)"
      ],
      "metadata": {
        "id": "eTMlVWq9HOlm",
        "colab": {
          "base_uri": "https://localhost:8080/"
        },
        "outputId": "8a70729e-1a17-4bb1-e8ad-0f8129e6d468"
      },
      "execution_count": 69,
      "outputs": [
        {
          "output_type": "execute_result",
          "data": {
            "text/plain": [
              "1.0"
            ]
          },
          "metadata": {},
          "execution_count": 69
        }
      ]
    },
    {
      "cell_type": "code",
      "source": [
        "plot_confusion_matrix(rdf,x_test,y_test, cmap='Blues')"
      ],
      "metadata": {
        "id": "X1dF5JwYHOln",
        "colab": {
          "base_uri": "https://localhost:8080/",
          "height": 0
        },
        "outputId": "3b303c23-ba17-4ecb-801a-0950b076a876"
      },
      "execution_count": 70,
      "outputs": [
        {
          "output_type": "execute_result",
          "data": {
            "text/plain": [
              "<sklearn.metrics._plot.confusion_matrix.ConfusionMatrixDisplay at 0x7f92ddb83e50>"
            ]
          },
          "metadata": {},
          "execution_count": 70
        },
        {
          "output_type": "display_data",
          "data": {
            "text/plain": [
              "<Figure size 432x288 with 2 Axes>"
            ],
            "image/png": "[encoded data removed]"
          },
          "metadata": {
            "needs_background": "light"
          }
        }
      ]
    },
    {
      "cell_type": "markdown",
      "source": [],
      "metadata": {
        "id": "Ha_XPW7fHOln"
      }
    },
    {
      "cell_type": "code",
      "source": [
        "from sklearn.linear_model import LogisticRegression\n",
        "rgl = LogisticRegression().fit(x_train, y_train)"
      ],
      "metadata": {
        "id": "xNFtfJzyHOlo"
      },
      "execution_count": 71,
      "outputs": []
    },
    {
      "cell_type": "code",
      "source": [
        "y_pred_rgl = rgl.predict(x_test)"
      ],
      "metadata": {
        "id": "sEb_3sfoHOlo"
      },
      "execution_count": 72,
      "outputs": []
    },
    {
      "cell_type": "markdown",
      "source": [
        "###Métricas"
      ],
      "metadata": {
        "id": "uD8FOuTKHOlo"
      }
    },
    {
      "cell_type": "markdown",
      "source": [
        "Acuracia"
      ],
      "metadata": {
        "id": "cmxj5mucHOlp"
      }
    },
    {
      "cell_type": "code",
      "source": [
        "from sklearn.metrics import accuracy_score\n",
        "accuracy_score(y_test, y_pred_rgl)"
      ],
      "metadata": {
        "id": "BmPK7DQDHOlp",
        "colab": {
          "base_uri": "https://localhost:8080/"
        },
        "outputId": "92383f6e-e713-4c25-9a17-dc600f90bb44"
      },
      "execution_count": 73,
      "outputs": [
        {
          "output_type": "execute_result",
          "data": {
            "text/plain": [
              "0.8453647416413373"
            ]
          },
          "metadata": {},
          "execution_count": 73
        }
      ]
    },
    {
      "cell_type": "markdown",
      "source": [
        "Precisão"
      ],
      "metadata": {
        "id": "B7TEe9ngHOlq"
      }
    },
    {
      "cell_type": "code",
      "source": [
        "from sklearn.metrics import precision_score\n",
        "precision_score(y_test, y_pred_rgl)"
      ],
      "metadata": {
        "id": "tBSoLPKVHOlq",
        "colab": {
          "base_uri": "https://localhost:8080/"
        },
        "outputId": "7868f2ea-b825-4126-97f1-788e370b10b6"
      },
      "execution_count": 74,
      "outputs": [
        {
          "output_type": "execute_result",
          "data": {
            "text/plain": [
              "0.769273433166944"
            ]
          },
          "metadata": {},
          "execution_count": 74
        }
      ]
    },
    {
      "cell_type": "markdown",
      "source": [
        "Recall"
      ],
      "metadata": {
        "id": "DBZEksz8HOlr"
      }
    },
    {
      "cell_type": "code",
      "source": [
        "from sklearn.metrics import recall_score\n",
        "recall_score(y_test, y_pred_rgl)"
      ],
      "metadata": {
        "id": "yAvkv-oaHOlr",
        "colab": {
          "base_uri": "https://localhost:8080/"
        },
        "outputId": "4aac721b-0d3d-4761-b687-92619633978f"
      },
      "execution_count": 75,
      "outputs": [
        {
          "output_type": "execute_result",
          "data": {
            "text/plain": [
              "0.6327554744525548"
            ]
          },
          "metadata": {},
          "execution_count": 75
        }
      ]
    },
    {
      "cell_type": "markdown",
      "source": [
        "###Matriz de confusão"
      ],
      "metadata": {
        "id": "4r-A9iUgHOls"
      }
    },
    {
      "cell_type": "code",
      "source": [
        "plot_confusion_matrix(rgl,x_test,y_test, cmap='Blues')"
      ],
      "metadata": {
        "id": "8IzJPoesHOls",
        "colab": {
          "base_uri": "https://localhost:8080/",
          "height": 0
        },
        "outputId": "e5e91516-6fb6-4ad6-c408-011c71dc6fbb"
      },
      "execution_count": 76,
      "outputs": [
        {
          "output_type": "execute_result",
          "data": {
            "text/plain": [
              "<sklearn.metrics._plot.confusion_matrix.ConfusionMatrixDisplay at 0x7f92ddae47d0>"
            ]
          },
          "metadata": {},
          "execution_count": 76
        },
        {
          "output_type": "display_data",
          "data": {
            "text/plain": [
              "<Figure size 432x288 with 2 Axes>"
            ],
            "image/png": "[encoded data removed]"
          },
          "metadata": {
            "needs_background": "light"
          }
        }
      ]
    },
    {
      "cell_type": "markdown",
      "source": [],
      "metadata": {
        "id": "AmnAPJDKccML"
      }
    },
    {
      "cell_type": "markdown",
      "source": [
        "#GridSearch"
      ],
      "metadata": {
        "id": "PLHl30mOcgwJ"
      }
    },
    {
      "cell_type": "code",
      "source": [
        "from sklearn.model_selection import GridSearchCV\n",
        "from sklearn.neighbors import KNeighborsClassifier"
      ],
      "metadata": {
        "id": "clEaBOURc_2W"
      },
      "execution_count": 77,
      "outputs": []
    },
    {
      "cell_type": "markdown",
      "source": [
        "##Random Forest"
      ],
      "metadata": {
        "id": "qFqar1aJcqMx"
      }
    },
    {
      "cell_type": "code",
      "source": [
        "# Definir o espaço possível dos hiperparametros a serem testados no modelo\n",
        "parametros = {'n_estimators': [10, 20, 40, 60, 80, 100],\n",
        "              'criterion': ['gini', 'entropy','log loss'],\n",
        "              'max_depth': [10,20,30,40,50],}\n",
        "\n",
        "rdf = RandomForestClassifier()\n",
        "grid_search = GridSearchCV(estimator = RandomForestClassifier(), param_grid=parametros)\n",
        "grid_search.fit(x_train, y_train.squeeze())"
      ],
      "metadata": {
        "id": "beYxHVlzckom",
        "colab": {
          "base_uri": "https://localhost:8080/"
        },
        "outputId": "aef2a28d-af8f-4df1-fa0f-5000a7bc8c12"
      },
      "execution_count": 78,
      "outputs": [
        {
          "output_type": "execute_result",
          "data": {
            "text/plain": [
              "GridSearchCV(estimator=RandomForestClassifier(),\n",
              "             param_grid={'criterion': ['gini', 'entropy', 'log loss'],\n",
              "                         'max_depth': [10, 20, 30, 40, 50],\n",
              "                         'n_estimators': [10, 20, 40, 60, 80, 100]})"
            ]
          },
          "metadata": {},
          "execution_count": 78
        }
      ]
    },
    {
      "cell_type": "code",
      "source": [
        "print(grid_search.best_score_)\n",
        "print(grid_search.best_params_)"
      ],
      "metadata": {
        "id": "-ArIZ0VyDl8n",
        "colab": {
          "base_uri": "https://localhost:8080/"
        },
        "outputId": "e50a0c4f-d492-43e0-c053-d4319df1cbf3"
      },
      "execution_count": 79,
      "outputs": [
        {
          "output_type": "stream",
          "name": "stdout",
          "text": [
            "1.0\n",
            "{'criterion': 'gini', 'max_depth': 10, 'n_estimators': 10}\n"
          ]
        }
      ]
    },
    {
      "cell_type": "code",
      "source": [
        "rdf_best = grid_search.best_estimator_\n",
        "rdf_best"
      ],
      "metadata": {
        "id": "LBNRzC_0DpT_",
        "colab": {
          "base_uri": "https://localhost:8080/"
        },
        "outputId": "3fdc5b54-acc8-4c70-ad06-9f7fc10c73cd"
      },
      "execution_count": 80,
      "outputs": [
        {
          "output_type": "execute_result",
          "data": {
            "text/plain": [
              "RandomForestClassifier(max_depth=10, n_estimators=10)"
            ]
          },
          "metadata": {},
          "execution_count": 80
        }
      ]
    },
    {
      "cell_type": "code",
      "source": [
        "y_pred = rdf_best.predict(x_test)\n",
        "print('Acc treino: ', rdf_best.score(x_train, y_train ))\n",
        "print('Acc teste: ', rdf_best.score(x_test, y_test.squeeze() ))\n",
        "print( 'Revocação: ', recall_score( y_test, y_pred ))\n",
        "print( 'Precisão: ', precision_score( y_test, y_pred ))"
      ],
      "metadata": {
        "id": "WV2Jqc5aDsT4",
        "colab": {
          "base_uri": "https://localhost:8080/"
        },
        "outputId": "cf320638-c6b2-4a36-97a8-6203a18ad1ba"
      },
      "execution_count": 81,
      "outputs": [
        {
          "output_type": "stream",
          "name": "stdout",
          "text": [
            "Acc treino:  1.0\n",
            "Acc teste:  1.0\n",
            "Revocação:  1.0\n",
            "Precisão:  1.0\n"
          ]
        }
      ]
    },
    {
      "cell_type": "markdown",
      "source": [
        "## ÁRVORE DE DECISÃO"
      ],
      "metadata": {
        "id": "mmqfNVTYMMKh"
      }
    },
    {
      "cell_type": "code",
      "source": [
        "parametros = { 'splitter': ['best', 'random'],\n",
        "              'criterion': ['gini', 'entropy','log loss'],\n",
        "              'max_depth': [10,20,30,40,50],}\n",
        "\n",
        "\n",
        "grid_search = GridSearchCV(estimator = DecisionTreeClassifier(), param_grid=parametros)\n",
        "grid_search.fit(x_train, y_train.squeeze())"
      ],
      "metadata": {
        "id": "mZK6K8jHMahZ",
        "colab": {
          "base_uri": "https://localhost:8080/"
        },
        "outputId": "921c5e03-9cc2-44d6-ff13-53d2a30d326d"
      },
      "execution_count": 82,
      "outputs": [
        {
          "output_type": "execute_result",
          "data": {
            "text/plain": [
              "GridSearchCV(estimator=DecisionTreeClassifier(),\n",
              "             param_grid={'criterion': ['gini', 'entropy', 'log loss'],\n",
              "                         'max_depth': [10, 20, 30, 40, 50],\n",
              "                         'splitter': ['best', 'random']})"
            ]
          },
          "metadata": {},
          "execution_count": 82
        }
      ]
    },
    {
      "cell_type": "code",
      "source": [
        "print(grid_search.best_score_)\n",
        "print(grid_search.best_params_)"
      ],
      "metadata": {
        "id": "SGKsx6eeNciR",
        "colab": {
          "base_uri": "https://localhost:8080/"
        },
        "outputId": "9ecc18ad-bb27-4c80-956e-f9939a888301"
      },
      "execution_count": 83,
      "outputs": [
        {
          "output_type": "stream",
          "name": "stdout",
          "text": [
            "1.0\n",
            "{'criterion': 'gini', 'max_depth': 10, 'splitter': 'best'}\n"
          ]
        }
      ]
    },
    {
      "cell_type": "code",
      "source": [
        "dt_best = grid_search.best_estimator_\n",
        "dt_best"
      ],
      "metadata": {
        "id": "Ne6jcbYiNc7k",
        "colab": {
          "base_uri": "https://localhost:8080/"
        },
        "outputId": "bf70a254-14ed-4a4a-99f2-2a6dbd4e274d"
      },
      "execution_count": 84,
      "outputs": [
        {
          "output_type": "execute_result",
          "data": {
            "text/plain": [
              "DecisionTreeClassifier(max_depth=10)"
            ]
          },
          "metadata": {},
          "execution_count": 84
        }
      ]
    },
    {
      "cell_type": "code",
      "source": [
        "y_pred = dt_best.predict(x_test)\n",
        "print('Acc treino: ', dt_best.score(x_train, y_train ))\n",
        "print('Acc teste: ', dt_best.score(x_test, y_test.squeeze() ))\n",
        "print( 'Revocação: ', recall_score( y_test, y_pred ))\n",
        "print( 'Precisão: ', precision_score( y_test, y_pred ))"
      ],
      "metadata": {
        "id": "w6IMAD4HNb2F",
        "colab": {
          "base_uri": "https://localhost:8080/"
        },
        "outputId": "a45d1d9b-ee44-433c-8d19-5bb9de52036b"
      },
      "execution_count": 85,
      "outputs": [
        {
          "output_type": "stream",
          "name": "stdout",
          "text": [
            "Acc treino:  1.0\n",
            "Acc teste:  1.0\n",
            "Revocação:  1.0\n",
            "Precisão:  1.0\n"
          ]
        }
      ]
    },
    {
      "cell_type": "code",
      "source": [],
      "metadata": {
        "id": "unqPaTLYNeME"
      },
      "execution_count": 85,
      "outputs": []
    },
    {
      "cell_type": "markdown",
      "source": [
        "#RandomSearch"
      ],
      "metadata": {
        "id": "VxOnyWspRX0A"
      }
    },
    {
      "cell_type": "markdown",
      "source": [
        "##Random Forest"
      ],
      "metadata": {
        "id": "3VuaIQOmRbu9"
      }
    },
    {
      "cell_type": "code",
      "source": [
        "from sklearn.model_selection import RandomizedSearchCV"
      ],
      "metadata": {
        "id": "T_kV4RgISJJn"
      },
      "execution_count": 86,
      "outputs": []
    },
    {
      "cell_type": "code",
      "source": [
        "# Definir o espaço possível dos hiperparametros a serem testados no modelo\n",
        "parametros = {'n_estimators': [10, 20, 40, 60, 80, 100],\n",
        "              'criterion': ['gini', 'entropy','log loss'],\n",
        "              'max_depth': [10,20,30,40,50],}\n",
        "\n",
        "random_search = RandomizedSearchCV(estimator = RandomForestClassifier(), param_distributions=parametros)\n",
        "random_search.fit(x_train, y_train.squeeze())"
      ],
      "metadata": {
        "id": "kwmqwU8eRjil",
        "colab": {
          "base_uri": "https://localhost:8080/"
        },
        "outputId": "4e35034d-f440-474c-c92a-24c96d92c501"
      },
      "execution_count": 87,
      "outputs": [
        {
          "output_type": "execute_result",
          "data": {
            "text/plain": [
              "RandomizedSearchCV(estimator=RandomForestClassifier(),\n",
              "                   param_distributions={'criterion': ['gini', 'entropy',\n",
              "                                                      'log loss'],\n",
              "                                        'max_depth': [10, 20, 30, 40, 50],\n",
              "                                        'n_estimators': [10, 20, 40, 60, 80,\n",
              "                                                         100]})"
            ]
          },
          "metadata": {},
          "execution_count": 87
        }
      ]
    },
    {
      "cell_type": "code",
      "source": [
        "print(random_search.best_score_)\n",
        "print(random_search.best_params_)"
      ],
      "metadata": {
        "id": "ZbbD9CMyS9Hu",
        "colab": {
          "base_uri": "https://localhost:8080/"
        },
        "outputId": "4324fd08-d116-4026-987d-86c7f8f01654"
      },
      "execution_count": 88,
      "outputs": [
        {
          "output_type": "stream",
          "name": "stdout",
          "text": [
            "1.0\n",
            "{'n_estimators': 80, 'max_depth': 20, 'criterion': 'gini'}\n"
          ]
        }
      ]
    },
    {
      "cell_type": "code",
      "source": [
        "rdf_best = random_search.best_estimator_\n",
        "rdf_best"
      ],
      "metadata": {
        "id": "eA5aOOsjS85y",
        "colab": {
          "base_uri": "https://localhost:8080/"
        },
        "outputId": "72b36933-9004-4523-afb6-6b7c85f3a57e"
      },
      "execution_count": 89,
      "outputs": [
        {
          "output_type": "execute_result",
          "data": {
            "text/plain": [
              "RandomForestClassifier(max_depth=20, n_estimators=80)"
            ]
          },
          "metadata": {},
          "execution_count": 89
        }
      ]
    },
    {
      "cell_type": "code",
      "source": [
        "y_pred = rdf_best.predict(x_test)\n",
        "print('Acc treino: ', rdf_best.score(x_train, y_train ))\n",
        "print('Acc teste: ', rdf_best.score(x_test, y_test.squeeze() ))\n",
        "print( 'Revocação: ', recall_score( y_test, y_pred ))\n",
        "print( 'Precisão: ', precision_score( y_test, y_pred ))"
      ],
      "metadata": {
        "id": "j1bANiCHS8sB",
        "colab": {
          "base_uri": "https://localhost:8080/"
        },
        "outputId": "c9ae170a-37f5-4711-833c-bcfc8d54fb46"
      },
      "execution_count": 90,
      "outputs": [
        {
          "output_type": "stream",
          "name": "stdout",
          "text": [
            "Acc treino:  1.0\n",
            "Acc teste:  1.0\n",
            "Revocação:  1.0\n",
            "Precisão:  1.0\n"
          ]
        }
      ]
    },
    {
      "cell_type": "markdown",
      "source": [
        "##Árvore de decisão"
      ],
      "metadata": {
        "id": "gWmOioMAUZ0J"
      }
    },
    {
      "cell_type": "code",
      "source": [
        "parametros = { 'splitter': ['best', 'random'],\n",
        "              'criterion': ['gini', 'entropy','log loss'],\n",
        "              'max_depth': [10,20,30,40,50],}\n",
        "\n",
        "\n",
        "random_search = RandomizedSearchCV(estimator = DecisionTreeClassifier(), param_distributions=parametros)\n",
        "random_search.fit(x_train, y_train.squeeze())"
      ],
      "metadata": {
        "id": "itf5sjMzUkGa",
        "colab": {
          "base_uri": "https://localhost:8080/"
        },
        "outputId": "053ab33c-15d3-4e05-f8d1-38013c72002c"
      },
      "execution_count": 91,
      "outputs": [
        {
          "output_type": "execute_result",
          "data": {
            "text/plain": [
              "RandomizedSearchCV(estimator=DecisionTreeClassifier(),\n",
              "                   param_distributions={'criterion': ['gini', 'entropy',\n",
              "                                                      'log loss'],\n",
              "                                        'max_depth': [10, 20, 30, 40, 50],\n",
              "                                        'splitter': ['best', 'random']})"
            ]
          },
          "metadata": {},
          "execution_count": 91
        }
      ]
    },
    {
      "cell_type": "code",
      "source": [
        "print(random_search.best_score_)\n",
        "print(random_search.best_params_)"
      ],
      "metadata": {
        "id": "fj1G4heoUlKT",
        "colab": {
          "base_uri": "https://localhost:8080/"
        },
        "outputId": "5070d324-b38b-40fb-e989-fca2198932c4"
      },
      "execution_count": 92,
      "outputs": [
        {
          "output_type": "stream",
          "name": "stdout",
          "text": [
            "1.0\n",
            "{'splitter': 'best', 'max_depth': 10, 'criterion': 'entropy'}\n"
          ]
        }
      ]
    },
    {
      "cell_type": "code",
      "source": [
        "dt_best = random_search.best_estimator_\n",
        "dt_best"
      ],
      "metadata": {
        "id": "QjcqlSf0UlAD",
        "colab": {
          "base_uri": "https://localhost:8080/"
        },
        "outputId": "4fb27815-f308-49d3-89e7-73ba924d94a2"
      },
      "execution_count": 93,
      "outputs": [
        {
          "output_type": "execute_result",
          "data": {
            "text/plain": [
              "DecisionTreeClassifier(criterion='entropy', max_depth=10)"
            ]
          },
          "metadata": {},
          "execution_count": 93
        }
      ]
    },
    {
      "cell_type": "code",
      "source": [
        "y_pred = dt_best.predict(x_test)\n",
        "print('Acc treino: ', dt_best.score(x_train, y_train ))\n",
        "print('Acc teste: ', dt_best.score(x_test, y_test.squeeze() ))\n",
        "print( 'Revocação: ', recall_score( y_test, y_pred ))\n",
        "print( 'Precisão: ', precision_score( y_test, y_pred ))"
      ],
      "metadata": {
        "id": "_ROZronUUkpb",
        "colab": {
          "base_uri": "https://localhost:8080/"
        },
        "outputId": "19aae141-7771-4840-a4d8-9160b86ffa35"
      },
      "execution_count": 94,
      "outputs": [
        {
          "output_type": "stream",
          "name": "stdout",
          "text": [
            "Acc treino:  1.0\n",
            "Acc teste:  1.0\n",
            "Revocação:  1.0\n",
            "Precisão:  1.0\n"
          ]
        }
      ]
    }
  ]
}