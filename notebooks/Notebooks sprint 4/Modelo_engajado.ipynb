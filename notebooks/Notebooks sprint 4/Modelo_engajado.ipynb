{
  "cells": [
    {
      "cell_type": "markdown",
      "metadata": {
        "id": "SyhmoakN9AzE"
      },
      "source": [
        "#Ambientação do notebook"
      ]
    },
    {
      "cell_type": "code",
      "execution_count": 1,
      "metadata": {
        "id": "N0SxuuwvWQ-g"
      },
      "outputs": [],
      "source": [
        "!pip install -U -q PyDrive"
      ]
    },
    {
      "cell_type": "code",
      "execution_count": 107,
      "metadata": {
        "id": "GZVp5UI-Wglg"
      },
      "outputs": [],
      "source": [
        "import pandas as pd\n",
        "import plotly.express as px\n",
        "from sklearn.preprocessing import LabelBinarizer\n",
        "from pydrive.auth import GoogleAuth\n",
        "from pydrive.drive import GoogleDrive\n",
        "from google.colab import auth\n",
        "from oauth2client.client import GoogleCredentials\n",
        "import warnings\n",
        "warnings.filterwarnings('ignore')\n",
        "from sklearn.feature_selection import SelectKBest\n",
        "from sklearn.feature_selection import f_classif, mutual_info_classif\n",
        "from sklearn.model_selection import train_test_split\n",
        "from sklearn.tree import DecisionTreeClassifier\n",
        "from sklearn.metrics import plot_confusion_matrix\n",
        "from sklearn import svm\n",
        "from sklearn.metrics import accuracy_score\n",
        "from sklearn.metrics import precision_score\n",
        "from sklearn.metrics import recall_score\n",
        "from sklearn.model_selection import train_test_split\n",
        "from sklearn.tree import DecisionTreeClassifier\n",
        "from sklearn.ensemble import RandomForestClassifier\n",
        "from sklearn.model_selection import GridSearchCV, RandomizedSearchCV\n",
        "from sklearn.neighbors import KNeighborsClassifier\n",
        "from sklearn.naive_bayes import GaussianNB\n",
        "from sklearn.linear_model import LogisticRegression"
      ]
    },
    {
      "cell_type": "code",
      "execution_count": 4,
      "metadata": {
        "id": "dNw6fQAeWh7a"
      },
      "outputs": [],
      "source": [
        "auth.authenticate_user()\n",
        "gauth = GoogleAuth()\n",
        "gauth.credentials = GoogleCredentials.get_application_default()\n",
        "drive = GoogleDrive(gauth)"
      ]
    },
    {
      "cell_type": "code",
      "execution_count": 5,
      "metadata": {
        "id": "FIaN1pejWjlk"
      },
      "outputs": [],
      "source": [
        "downloaded = drive.CreateFile({'id': '1-C4iOW6z7oAtWCHhwuC-IeTxp8COwbxj'})\n",
        "downloaded.GetContentFile('client.csv')"
      ]
    },
    {
      "cell_type": "code",
      "execution_count": 6,
      "metadata": {
        "colab": {
          "base_uri": "https://localhost:8080/",
          "height": 300
        },
        "id": "dQqsJMKsWqhb",
        "outputId": "678dbf65-2913-4883-c3f4-58745d0680c7"
      },
      "outputs": [
        {
          "output_type": "execute_result",
          "data": {
            "text/plain": [
              "         Unnamed: 0    vlr_credito      vlr_saldo  num_atend_atrs  \\\n",
              "count  1.858800e+05  185880.000000  185880.000000   185880.000000   \n",
              "mean   5.912966e+06       0.011116       0.007510        0.000468   \n",
              "std    3.434754e+06       0.018151       0.012895        0.016229   \n",
              "min    0.000000e+00       0.000000       0.000000        0.000000   \n",
              "25%    2.921000e+06       0.002135       0.001188        0.000000   \n",
              "50%    5.895934e+06       0.005607       0.002949        0.000000   \n",
              "75%    8.908545e+06       0.012428       0.008355        0.000000   \n",
              "max    1.188632e+07       1.000000       1.000000        1.000000   \n",
              "\n",
              "          vlr_score   num_produtos      num_atend       qtd_oper  \\\n",
              "count  1.858800e+05  185880.000000  185880.000000  185880.000000   \n",
              "mean   1.292035e-17       0.017316       0.000716       0.053117   \n",
              "std    1.000003e+00       0.025724       0.014979       0.039685   \n",
              "min   -2.619104e+00       0.000000       0.000000       0.000000   \n",
              "25%   -6.324168e-01       0.000000       0.000000       0.026415   \n",
              "50%    5.769572e-02       0.011494       0.000000       0.045283   \n",
              "75%    6.014207e-01       0.022989       0.000000       0.067925   \n",
              "max    4.163517e+00       1.000000       1.000000       1.000000   \n",
              "\n",
              "           qtd_reclm      qtd_restr      vlr_renda     ind_atrito  \\\n",
              "count  185880.000000  185880.000000  185880.000000  185880.000000   \n",
              "mean        0.000151       0.021180       0.010015       0.000522   \n",
              "std         0.012272       0.034374       0.017089       0.022838   \n",
              "min         0.000000       0.000000       0.000000       0.000000   \n",
              "25%         0.000000       0.000000       0.003056       0.000000   \n",
              "50%         0.000000       0.009174       0.005417       0.000000   \n",
              "75%         0.000000       0.027523       0.011252       0.000000   \n",
              "max         1.000000       1.000000       1.000000       1.000000   \n",
              "\n",
              "           ind_engaj  \n",
              "count  185880.000000  \n",
              "mean        0.340515  \n",
              "std         0.473884  \n",
              "min         0.000000  \n",
              "25%         0.000000  \n",
              "50%         0.000000  \n",
              "75%         1.000000  \n",
              "max         1.000000  "
            ],
            "text/html": [
              "\n",
              "  <div id=\"df-da773684-f59d-42a0-b553-05be5b720319\">\n",
              "    <div class=\"colab-df-container\">\n",
              "      <div>\n",
              "<style scoped>\n",
              "    .dataframe tbody tr th:only-of-type {\n",
              "        vertical-align: middle;\n",
              "    }\n",
              "\n",
              "    .dataframe tbody tr th {\n",
              "        vertical-align: top;\n",
              "    }\n",
              "\n",
              "    .dataframe thead th {\n",
              "        text-align: right;\n",
              "    }\n",
              "</style>\n",
              "<table border=\"1\" class=\"dataframe\">\n",
              "  <thead>\n",
              "    <tr style=\"text-align: right;\">\n",
              "      <th></th>\n",
              "      <th>Unnamed: 0</th>\n",
              "      <th>vlr_credito</th>\n",
              "      <th>vlr_saldo</th>\n",
              "      <th>num_atend_atrs</th>\n",
              "      <th>vlr_score</th>\n",
              "      <th>num_produtos</th>\n",
              "      <th>num_atend</th>\n",
              "      <th>qtd_oper</th>\n",
              "      <th>qtd_reclm</th>\n",
              "      <th>qtd_restr</th>\n",
              "      <th>vlr_renda</th>\n",
              "      <th>ind_atrito</th>\n",
              "      <th>ind_engaj</th>\n",
              "    </tr>\n",
              "  </thead>\n",
              "  <tbody>\n",
              "    <tr>\n",
              "      <th>count</th>\n",
              "      <td>1.858800e+05</td>\n",
              "      <td>185880.000000</td>\n",
              "      <td>185880.000000</td>\n",
              "      <td>185880.000000</td>\n",
              "      <td>1.858800e+05</td>\n",
              "      <td>185880.000000</td>\n",
              "      <td>185880.000000</td>\n",
              "      <td>185880.000000</td>\n",
              "      <td>185880.000000</td>\n",
              "      <td>185880.000000</td>\n",
              "      <td>185880.000000</td>\n",
              "      <td>185880.000000</td>\n",
              "      <td>185880.000000</td>\n",
              "    </tr>\n",
              "    <tr>\n",
              "      <th>mean</th>\n",
              "      <td>5.912966e+06</td>\n",
              "      <td>0.011116</td>\n",
              "      <td>0.007510</td>\n",
              "      <td>0.000468</td>\n",
              "      <td>1.292035e-17</td>\n",
              "      <td>0.017316</td>\n",
              "      <td>0.000716</td>\n",
              "      <td>0.053117</td>\n",
              "      <td>0.000151</td>\n",
              "      <td>0.021180</td>\n",
              "      <td>0.010015</td>\n",
              "      <td>0.000522</td>\n",
              "      <td>0.340515</td>\n",
              "    </tr>\n",
              "    <tr>\n",
              "      <th>std</th>\n",
              "      <td>3.434754e+06</td>\n",
              "      <td>0.018151</td>\n",
              "      <td>0.012895</td>\n",
              "      <td>0.016229</td>\n",
              "      <td>1.000003e+00</td>\n",
              "      <td>0.025724</td>\n",
              "      <td>0.014979</td>\n",
              "      <td>0.039685</td>\n",
              "      <td>0.012272</td>\n",
              "      <td>0.034374</td>\n",
              "      <td>0.017089</td>\n",
              "      <td>0.022838</td>\n",
              "      <td>0.473884</td>\n",
              "    </tr>\n",
              "    <tr>\n",
              "      <th>min</th>\n",
              "      <td>0.000000e+00</td>\n",
              "      <td>0.000000</td>\n",
              "      <td>0.000000</td>\n",
              "      <td>0.000000</td>\n",
              "      <td>-2.619104e+00</td>\n",
              "      <td>0.000000</td>\n",
              "      <td>0.000000</td>\n",
              "      <td>0.000000</td>\n",
              "      <td>0.000000</td>\n",
              "      <td>0.000000</td>\n",
              "      <td>0.000000</td>\n",
              "      <td>0.000000</td>\n",
              "      <td>0.000000</td>\n",
              "    </tr>\n",
              "    <tr>\n",
              "      <th>25%</th>\n",
              "      <td>2.921000e+06</td>\n",
              "      <td>0.002135</td>\n",
              "      <td>0.001188</td>\n",
              "      <td>0.000000</td>\n",
              "      <td>-6.324168e-01</td>\n",
              "      <td>0.000000</td>\n",
              "      <td>0.000000</td>\n",
              "      <td>0.026415</td>\n",
              "      <td>0.000000</td>\n",
              "      <td>0.000000</td>\n",
              "      <td>0.003056</td>\n",
              "      <td>0.000000</td>\n",
              "      <td>0.000000</td>\n",
              "    </tr>\n",
              "    <tr>\n",
              "      <th>50%</th>\n",
              "      <td>5.895934e+06</td>\n",
              "      <td>0.005607</td>\n",
              "      <td>0.002949</td>\n",
              "      <td>0.000000</td>\n",
              "      <td>5.769572e-02</td>\n",
              "      <td>0.011494</td>\n",
              "      <td>0.000000</td>\n",
              "      <td>0.045283</td>\n",
              "      <td>0.000000</td>\n",
              "      <td>0.009174</td>\n",
              "      <td>0.005417</td>\n",
              "      <td>0.000000</td>\n",
              "      <td>0.000000</td>\n",
              "    </tr>\n",
              "    <tr>\n",
              "      <th>75%</th>\n",
              "      <td>8.908545e+06</td>\n",
              "      <td>0.012428</td>\n",
              "      <td>0.008355</td>\n",
              "      <td>0.000000</td>\n",
              "      <td>6.014207e-01</td>\n",
              "      <td>0.022989</td>\n",
              "      <td>0.000000</td>\n",
              "      <td>0.067925</td>\n",
              "      <td>0.000000</td>\n",
              "      <td>0.027523</td>\n",
              "      <td>0.011252</td>\n",
              "      <td>0.000000</td>\n",
              "      <td>1.000000</td>\n",
              "    </tr>\n",
              "    <tr>\n",
              "      <th>max</th>\n",
              "      <td>1.188632e+07</td>\n",
              "      <td>1.000000</td>\n",
              "      <td>1.000000</td>\n",
              "      <td>1.000000</td>\n",
              "      <td>4.163517e+00</td>\n",
              "      <td>1.000000</td>\n",
              "      <td>1.000000</td>\n",
              "      <td>1.000000</td>\n",
              "      <td>1.000000</td>\n",
              "      <td>1.000000</td>\n",
              "      <td>1.000000</td>\n",
              "      <td>1.000000</td>\n",
              "      <td>1.000000</td>\n",
              "    </tr>\n",
              "  </tbody>\n",
              "</table>\n",
              "</div>\n",
              "      <button class=\"colab-df-convert\" onclick=\"convertToInteractive('df-da773684-f59d-42a0-b553-05be5b720319')\"\n",
              "              title=\"Convert this dataframe to an interactive table.\"\n",
              "              style=\"display:none;\">\n",
              "        \n",
              "  <svg xmlns=\"http://www.w3.org/2000/svg\" height=\"24px\"viewBox=\"0 0 24 24\"\n",
              "       width=\"24px\">\n",
              "    <path d=\"M0 0h24v24H0V0z\" fill=\"none\"/>\n",
              "    <path d=\"M18.56 5.44l.94 2.06.94-2.06 2.06-.94-2.06-.94-.94-2.06-.94 2.06-2.06.94zm-11 1L8.5 8.5l.94-2.06 2.06-.94-2.06-.94L8.5 2.5l-.94 2.06-2.06.94zm10 10l.94 2.06.94-2.06 2.06-.94-2.06-.94-.94-2.06-.94 2.06-2.06.94z\"/><path d=\"M17.41 7.96l-1.37-1.37c-.4-.4-.92-.59-1.43-.59-.52 0-1.04.2-1.43.59L10.3 9.45l-7.72 7.72c-.78.78-.78 2.05 0 2.83L4 21.41c.39.39.9.59 1.41.59.51 0 1.02-.2 1.41-.59l7.78-7.78 2.81-2.81c.8-.78.8-2.07 0-2.86zM5.41 20L4 18.59l7.72-7.72 1.47 1.35L5.41 20z\"/>\n",
              "  </svg>\n",
              "      </button>\n",
              "      \n",
              "  <style>\n",
              "    .colab-df-container {\n",
              "      display:flex;\n",
              "      flex-wrap:wrap;\n",
              "      gap: 12px;\n",
              "    }\n",
              "\n",
              "    .colab-df-convert {\n",
              "      background-color: #E8F0FE;\n",
              "      border: none;\n",
              "      border-radius: 50%;\n",
              "      cursor: pointer;\n",
              "      display: none;\n",
              "      fill: #1967D2;\n",
              "      height: 32px;\n",
              "      padding: 0 0 0 0;\n",
              "      width: 32px;\n",
              "    }\n",
              "\n",
              "    .colab-df-convert:hover {\n",
              "      background-color: #E2EBFA;\n",
              "      box-shadow: 0px 1px 2px rgba(60, 64, 67, 0.3), 0px 1px 3px 1px rgba(60, 64, 67, 0.15);\n",
              "      fill: #174EA6;\n",
              "    }\n",
              "\n",
              "    [theme=dark] .colab-df-convert {\n",
              "      background-color: #3B4455;\n",
              "      fill: #D2E3FC;\n",
              "    }\n",
              "\n",
              "    [theme=dark] .colab-df-convert:hover {\n",
              "      background-color: #434B5C;\n",
              "      box-shadow: 0px 1px 3px 1px rgba(0, 0, 0, 0.15);\n",
              "      filter: drop-shadow(0px 1px 2px rgba(0, 0, 0, 0.3));\n",
              "      fill: #FFFFFF;\n",
              "    }\n",
              "  </style>\n",
              "\n",
              "      <script>\n",
              "        const buttonEl =\n",
              "          document.querySelector('#df-da773684-f59d-42a0-b553-05be5b720319 button.colab-df-convert');\n",
              "        buttonEl.style.display =\n",
              "          google.colab.kernel.accessAllowed ? 'block' : 'none';\n",
              "\n",
              "        async function convertToInteractive(key) {\n",
              "          const element = document.querySelector('#df-da773684-f59d-42a0-b553-05be5b720319');\n",
              "          const dataTable =\n",
              "            await google.colab.kernel.invokeFunction('convertToInteractive',\n",
              "                                                     [key], {});\n",
              "          if (!dataTable) return;\n",
              "\n",
              "          const docLinkHtml = 'Like what you see? Visit the ' +\n",
              "            '<a target=\"_blank\" href=https://colab.research.google.com/notebooks/data_table.ipynb>data table notebook</a>'\n",
              "            + ' to learn more about interactive tables.';\n",
              "          element.innerHTML = '';\n",
              "          dataTable['output_type'] = 'display_data';\n",
              "          await google.colab.output.renderOutput(dataTable, element);\n",
              "          const docLink = document.createElement('div');\n",
              "          docLink.innerHTML = docLinkHtml;\n",
              "          element.appendChild(docLink);\n",
              "        }\n",
              "      </script>\n",
              "    </div>\n",
              "  </div>\n",
              "  "
            ]
          },
          "metadata": {},
          "execution_count": 6
        }
      ],
      "source": [
        "# Dados lidos do arquvio csv\n",
        "client = pd.read_csv('client.csv')\n",
        "\n",
        "\n",
        "# Mostrando primeiros registros do Dataframe\n",
        "client.describe()"
      ]
    },
    {
      "cell_type": "markdown",
      "metadata": {
        "id": "Ud9j8z6_6TJh"
      },
      "source": [
        "#Correlações"
      ]
    },
    {
      "cell_type": "code",
      "execution_count": 10,
      "metadata": {
        "colab": {
          "base_uri": "https://localhost:8080/",
          "height": 457
        },
        "id": "1ZTv9GWT6SUk",
        "outputId": "aefd4f68-4f55-45cf-b83f-a26dac50a5ad"
      },
      "outputs": [
        {
          "output_type": "execute_result",
          "data": {
            "text/plain": [
              "<pandas.io.formats.style.Styler at 0x7fec42321510>"
            ],
            "text/html": [
              "<style type=\"text/css\">\n",
              "#T_c1e73_row0_col0, #T_c1e73_row1_col1, #T_c1e73_row2_col2, #T_c1e73_row3_col3, #T_c1e73_row4_col4, #T_c1e73_row5_col5, #T_c1e73_row6_col6, #T_c1e73_row7_col7, #T_c1e73_row8_col8, #T_c1e73_row9_col9, #T_c1e73_row10_col10, #T_c1e73_row11_col11, #T_c1e73_row12_col12 {\n",
              "  background-color: #b40426;\n",
              "  color: #f1f1f1;\n",
              "}\n",
              "#T_c1e73_row0_col1, #T_c1e73_row0_col2, #T_c1e73_row0_col3, #T_c1e73_row0_col5, #T_c1e73_row0_col6, #T_c1e73_row0_col7, #T_c1e73_row0_col8, #T_c1e73_row0_col10, #T_c1e73_row0_col11, #T_c1e73_row0_col12, #T_c1e73_row1_col0, #T_c1e73_row2_col3, #T_c1e73_row2_col6, #T_c1e73_row3_col0, #T_c1e73_row3_col2, #T_c1e73_row3_col8, #T_c1e73_row4_col0, #T_c1e73_row4_col3, #T_c1e73_row4_col9, #T_c1e73_row6_col0, #T_c1e73_row6_col2, #T_c1e73_row6_col8, #T_c1e73_row7_col0, #T_c1e73_row8_col0, #T_c1e73_row8_col3, #T_c1e73_row8_col5, #T_c1e73_row8_col6, #T_c1e73_row8_col12, #T_c1e73_row9_col4, #T_c1e73_row9_col5, #T_c1e73_row9_col6, #T_c1e73_row9_col8, #T_c1e73_row9_col11, #T_c1e73_row9_col12, #T_c1e73_row10_col0, #T_c1e73_row11_col0 {\n",
              "  background-color: #3b4cc0;\n",
              "  color: #f1f1f1;\n",
              "}\n",
              "#T_c1e73_row0_col4, #T_c1e73_row8_col9, #T_c1e73_row11_col9 {\n",
              "  background-color: #84a7fc;\n",
              "  color: #f1f1f1;\n",
              "}\n",
              "#T_c1e73_row0_col9, #T_c1e73_row3_col4, #T_c1e73_row3_col9, #T_c1e73_row5_col9, #T_c1e73_row6_col9, #T_c1e73_row8_col4, #T_c1e73_row11_col4, #T_c1e73_row12_col9 {\n",
              "  background-color: #85a8fc;\n",
              "  color: #f1f1f1;\n",
              "}\n",
              "#T_c1e73_row1_col2, #T_c1e73_row12_col4 {\n",
              "  background-color: #97b8ff;\n",
              "  color: #000000;\n",
              "}\n",
              "#T_c1e73_row1_col3, #T_c1e73_row1_col6, #T_c1e73_row5_col11, #T_c1e73_row6_col1, #T_c1e73_row7_col11, #T_c1e73_row8_col7, #T_c1e73_row10_col3, #T_c1e73_row12_col8, #T_c1e73_row12_col11 {\n",
              "  background-color: #3d50c3;\n",
              "  color: #f1f1f1;\n",
              "}\n",
              "#T_c1e73_row1_col4, #T_c1e73_row2_col1, #T_c1e73_row2_col4 {\n",
              "  background-color: #98b9ff;\n",
              "  color: #000000;\n",
              "}\n",
              "#T_c1e73_row1_col5, #T_c1e73_row4_col7, #T_c1e73_row5_col1 {\n",
              "  background-color: #5875e1;\n",
              "  color: #f1f1f1;\n",
              "}\n",
              "#T_c1e73_row1_col7, #T_c1e73_row5_col7, #T_c1e73_row7_col1, #T_c1e73_row7_col5 {\n",
              "  background-color: #c0d4f5;\n",
              "  color: #000000;\n",
              "}\n",
              "#T_c1e73_row1_col8, #T_c1e73_row3_col11, #T_c1e73_row11_col3, #T_c1e73_row12_col3 {\n",
              "  background-color: #4257c9;\n",
              "  color: #f1f1f1;\n",
              "}\n",
              "#T_c1e73_row1_col9 {\n",
              "  background-color: #9fbfff;\n",
              "  color: #000000;\n",
              "}\n",
              "#T_c1e73_row1_col10, #T_c1e73_row10_col1 {\n",
              "  background-color: #f1ccb8;\n",
              "  color: #000000;\n",
              "}\n",
              "#T_c1e73_row1_col11, #T_c1e73_row6_col10, #T_c1e73_row6_col11, #T_c1e73_row7_col8, #T_c1e73_row10_col6, #T_c1e73_row10_col11, #T_c1e73_row11_col1, #T_c1e73_row11_col6, #T_c1e73_row11_col10 {\n",
              "  background-color: #3e51c5;\n",
              "  color: #f1f1f1;\n",
              "}\n",
              "#T_c1e73_row1_col12 {\n",
              "  background-color: #4f69d9;\n",
              "  color: #f1f1f1;\n",
              "}\n",
              "#T_c1e73_row2_col0, #T_c1e73_row3_col1, #T_c1e73_row3_col10, #T_c1e73_row4_col6, #T_c1e73_row4_col8, #T_c1e73_row4_col11, #T_c1e73_row5_col0, #T_c1e73_row5_col8, #T_c1e73_row9_col0, #T_c1e73_row9_col2, #T_c1e73_row9_col3, #T_c1e73_row11_col5, #T_c1e73_row11_col7, #T_c1e73_row11_col12, #T_c1e73_row12_col0 {\n",
              "  background-color: #3c4ec2;\n",
              "  color: #f1f1f1;\n",
              "}\n",
              "#T_c1e73_row2_col5, #T_c1e73_row5_col2 {\n",
              "  background-color: #88abfd;\n",
              "  color: #000000;\n",
              "}\n",
              "#T_c1e73_row2_col7, #T_c1e73_row7_col2 {\n",
              "  background-color: #5572df;\n",
              "  color: #f1f1f1;\n",
              "}\n",
              "#T_c1e73_row2_col8, #T_c1e73_row2_col11, #T_c1e73_row3_col7, #T_c1e73_row7_col3, #T_c1e73_row8_col1, #T_c1e73_row10_col8 {\n",
              "  background-color: #4055c8;\n",
              "  color: #f1f1f1;\n",
              "}\n",
              "#T_c1e73_row2_col9, #T_c1e73_row6_col4 {\n",
              "  background-color: #86a9fc;\n",
              "  color: #f1f1f1;\n",
              "}\n",
              "#T_c1e73_row2_col10 {\n",
              "  background-color: #6e90f2;\n",
              "  color: #f1f1f1;\n",
              "}\n",
              "#T_c1e73_row2_col12, #T_c1e73_row12_col2 {\n",
              "  background-color: #7093f3;\n",
              "  color: #f1f1f1;\n",
              "}\n",
              "#T_c1e73_row3_col5, #T_c1e73_row5_col3, #T_c1e73_row10_col12, #T_c1e73_row12_col6, #T_c1e73_row12_col10 {\n",
              "  background-color: #445acc;\n",
              "  color: #f1f1f1;\n",
              "}\n",
              "#T_c1e73_row3_col6, #T_c1e73_row6_col3 {\n",
              "  background-color: #e5d8d1;\n",
              "  color: #000000;\n",
              "}\n",
              "#T_c1e73_row3_col12, #T_c1e73_row8_col2, #T_c1e73_row8_col10, #T_c1e73_row11_col2 {\n",
              "  background-color: #3f53c6;\n",
              "  color: #f1f1f1;\n",
              "}\n",
              "#T_c1e73_row4_col1, #T_c1e73_row5_col10, #T_c1e73_row10_col5, #T_c1e73_row12_col1 {\n",
              "  background-color: #506bda;\n",
              "  color: #f1f1f1;\n",
              "}\n",
              "#T_c1e73_row4_col2, #T_c1e73_row4_col5 {\n",
              "  background-color: #516ddb;\n",
              "  color: #f1f1f1;\n",
              "}\n",
              "#T_c1e73_row4_col10 {\n",
              "  background-color: #536edd;\n",
              "  color: #f1f1f1;\n",
              "}\n",
              "#T_c1e73_row4_col12 {\n",
              "  background-color: #4e68d8;\n",
              "  color: #f1f1f1;\n",
              "}\n",
              "#T_c1e73_row5_col4, #T_c1e73_row10_col4 {\n",
              "  background-color: #9abbff;\n",
              "  color: #000000;\n",
              "}\n",
              "#T_c1e73_row5_col6, #T_c1e73_row6_col5, #T_c1e73_row9_col10 {\n",
              "  background-color: #4a63d3;\n",
              "  color: #f1f1f1;\n",
              "}\n",
              "#T_c1e73_row5_col12 {\n",
              "  background-color: #f7aa8c;\n",
              "  color: #000000;\n",
              "}\n",
              "#T_c1e73_row6_col7, #T_c1e73_row6_col12, #T_c1e73_row7_col6 {\n",
              "  background-color: #4358cb;\n",
              "  color: #f1f1f1;\n",
              "}\n",
              "#T_c1e73_row7_col4, #T_c1e73_row7_col10, #T_c1e73_row10_col7, #T_c1e73_row12_col7 {\n",
              "  background-color: #9ebeff;\n",
              "  color: #000000;\n",
              "}\n",
              "#T_c1e73_row7_col9 {\n",
              "  background-color: #aec9fc;\n",
              "  color: #000000;\n",
              "}\n",
              "#T_c1e73_row7_col12 {\n",
              "  background-color: #9dbdff;\n",
              "  color: #000000;\n",
              "}\n",
              "#T_c1e73_row8_col11 {\n",
              "  background-color: #e6d7cf;\n",
              "  color: #000000;\n",
              "}\n",
              "#T_c1e73_row9_col1 {\n",
              "  background-color: #5977e3;\n",
              "  color: #f1f1f1;\n",
              "}\n",
              "#T_c1e73_row9_col7 {\n",
              "  background-color: #6a8bef;\n",
              "  color: #f1f1f1;\n",
              "}\n",
              "#T_c1e73_row10_col2 {\n",
              "  background-color: #6c8ff1;\n",
              "  color: #f1f1f1;\n",
              "}\n",
              "#T_c1e73_row10_col9 {\n",
              "  background-color: #93b5fe;\n",
              "  color: #000000;\n",
              "}\n",
              "#T_c1e73_row11_col8 {\n",
              "  background-color: #e7d7ce;\n",
              "  color: #000000;\n",
              "}\n",
              "#T_c1e73_row12_col5 {\n",
              "  background-color: #f7a98b;\n",
              "  color: #000000;\n",
              "}\n",
              "</style>\n",
              "<table id=\"T_c1e73_\" class=\"dataframe\">\n",
              "  <thead>\n",
              "    <tr>\n",
              "      <th class=\"blank level0\" >&nbsp;</th>\n",
              "      <th class=\"col_heading level0 col0\" >Unnamed: 0</th>\n",
              "      <th class=\"col_heading level0 col1\" >vlr_credito</th>\n",
              "      <th class=\"col_heading level0 col2\" >vlr_saldo</th>\n",
              "      <th class=\"col_heading level0 col3\" >num_atend_atrs</th>\n",
              "      <th class=\"col_heading level0 col4\" >vlr_score</th>\n",
              "      <th class=\"col_heading level0 col5\" >num_produtos</th>\n",
              "      <th class=\"col_heading level0 col6\" >num_atend</th>\n",
              "      <th class=\"col_heading level0 col7\" >qtd_oper</th>\n",
              "      <th class=\"col_heading level0 col8\" >qtd_reclm</th>\n",
              "      <th class=\"col_heading level0 col9\" >qtd_restr</th>\n",
              "      <th class=\"col_heading level0 col10\" >vlr_renda</th>\n",
              "      <th class=\"col_heading level0 col11\" >ind_atrito</th>\n",
              "      <th class=\"col_heading level0 col12\" >ind_engaj</th>\n",
              "    </tr>\n",
              "  </thead>\n",
              "  <tbody>\n",
              "    <tr>\n",
              "      <th id=\"T_c1e73_level0_row0\" class=\"row_heading level0 row0\" >Unnamed: 0</th>\n",
              "      <td id=\"T_c1e73_row0_col0\" class=\"data row0 col0\" >1.000000</td>\n",
              "      <td id=\"T_c1e73_row0_col1\" class=\"data row0 col1\" >-0.001449</td>\n",
              "      <td id=\"T_c1e73_row0_col2\" class=\"data row0 col2\" >0.001522</td>\n",
              "      <td id=\"T_c1e73_row0_col3\" class=\"data row0 col3\" >-0.002444</td>\n",
              "      <td id=\"T_c1e73_row0_col4\" class=\"data row0 col4\" >-0.000885</td>\n",
              "      <td id=\"T_c1e73_row0_col5\" class=\"data row0 col5\" >0.002616</td>\n",
              "      <td id=\"T_c1e73_row0_col6\" class=\"data row0 col6\" >-0.000890</td>\n",
              "      <td id=\"T_c1e73_row0_col7\" class=\"data row0 col7\" >-0.000765</td>\n",
              "      <td id=\"T_c1e73_row0_col8\" class=\"data row0 col8\" >-0.004190</td>\n",
              "      <td id=\"T_c1e73_row0_col9\" class=\"data row0 col9\" >0.003100</td>\n",
              "      <td id=\"T_c1e73_row0_col10\" class=\"data row0 col10\" >-0.000362</td>\n",
              "      <td id=\"T_c1e73_row0_col11\" class=\"data row0 col11\" >-0.002664</td>\n",
              "      <td id=\"T_c1e73_row0_col12\" class=\"data row0 col12\" >0.002035</td>\n",
              "    </tr>\n",
              "    <tr>\n",
              "      <th id=\"T_c1e73_level0_row1\" class=\"row_heading level0 row1\" >vlr_credito</th>\n",
              "      <td id=\"T_c1e73_row1_col0\" class=\"data row1 col0\" >-0.001449</td>\n",
              "      <td id=\"T_c1e73_row1_col1\" class=\"data row1 col1\" >1.000000</td>\n",
              "      <td id=\"T_c1e73_row1_col2\" class=\"data row1 col2\" >0.280953</td>\n",
              "      <td id=\"T_c1e73_row1_col3\" class=\"data row1 col3\" >0.006309</td>\n",
              "      <td id=\"T_c1e73_row1_col4\" class=\"data row1 col4\" >0.071460</td>\n",
              "      <td id=\"T_c1e73_row1_col5\" class=\"data row1 col5\" >0.096261</td>\n",
              "      <td id=\"T_c1e73_row1_col6\" class=\"data row1 col6\" >0.009918</td>\n",
              "      <td id=\"T_c1e73_row1_col7\" class=\"data row1 col7\" >0.398583</td>\n",
              "      <td id=\"T_c1e73_row1_col8\" class=\"data row1 col8\" >0.019903</td>\n",
              "      <td id=\"T_c1e73_row1_col9\" class=\"data row1 col9\" >0.098304</td>\n",
              "      <td id=\"T_c1e73_row1_col10\" class=\"data row1 col10\" >0.593851</td>\n",
              "      <td id=\"T_c1e73_row1_col11\" class=\"data row1 col11\" >0.011959</td>\n",
              "      <td id=\"T_c1e73_row1_col12\" class=\"data row1 col12\" >0.070471</td>\n",
              "    </tr>\n",
              "    <tr>\n",
              "      <th id=\"T_c1e73_level0_row2\" class=\"row_heading level0 row2\" >vlr_saldo</th>\n",
              "      <td id=\"T_c1e73_row2_col0\" class=\"data row2 col0\" >0.001522</td>\n",
              "      <td id=\"T_c1e73_row2_col1\" class=\"data row2 col1\" >0.280953</td>\n",
              "      <td id=\"T_c1e73_row2_col2\" class=\"data row2 col2\" >1.000000</td>\n",
              "      <td id=\"T_c1e73_row2_col3\" class=\"data row2 col3\" >0.000226</td>\n",
              "      <td id=\"T_c1e73_row2_col4\" class=\"data row2 col4\" >0.074541</td>\n",
              "      <td id=\"T_c1e73_row2_col5\" class=\"data row2 col5\" >0.235828</td>\n",
              "      <td id=\"T_c1e73_row2_col6\" class=\"data row2 col6\" >0.002335</td>\n",
              "      <td id=\"T_c1e73_row2_col7\" class=\"data row2 col7\" >0.088389</td>\n",
              "      <td id=\"T_c1e73_row2_col8\" class=\"data row2 col8\" >0.018893</td>\n",
              "      <td id=\"T_c1e73_row2_col9\" class=\"data row2 col9\" >0.007249</td>\n",
              "      <td id=\"T_c1e73_row2_col10\" class=\"data row2 col10\" >0.160302</td>\n",
              "      <td id=\"T_c1e73_row2_col11\" class=\"data row2 col11\" >0.017218</td>\n",
              "      <td id=\"T_c1e73_row2_col12\" class=\"data row2 col12\" >0.170425</td>\n",
              "    </tr>\n",
              "    <tr>\n",
              "      <th id=\"T_c1e73_level0_row3\" class=\"row_heading level0 row3\" >num_atend_atrs</th>\n",
              "      <td id=\"T_c1e73_row3_col0\" class=\"data row3 col0\" >-0.002444</td>\n",
              "      <td id=\"T_c1e73_row3_col1\" class=\"data row3 col1\" >0.006309</td>\n",
              "      <td id=\"T_c1e73_row3_col2\" class=\"data row3 col2\" >0.000226</td>\n",
              "      <td id=\"T_c1e73_row3_col3\" class=\"data row3 col3\" >1.000000</td>\n",
              "      <td id=\"T_c1e73_row3_col4\" class=\"data row3 col4\" >0.001361</td>\n",
              "      <td id=\"T_c1e73_row3_col5\" class=\"data row3 col5\" >0.032058</td>\n",
              "      <td id=\"T_c1e73_row3_col6\" class=\"data row3 col6\" >0.531965</td>\n",
              "      <td id=\"T_c1e73_row3_col7\" class=\"data row3 col7\" >0.019272</td>\n",
              "      <td id=\"T_c1e73_row3_col8\" class=\"data row3 col8\" >-0.000354</td>\n",
              "      <td id=\"T_c1e73_row3_col9\" class=\"data row3 col9\" >0.002933</td>\n",
              "      <td id=\"T_c1e73_row3_col10\" class=\"data row3 col10\" >0.006910</td>\n",
              "      <td id=\"T_c1e73_row3_col11\" class=\"data row3 col11\" >0.021113</td>\n",
              "      <td id=\"T_c1e73_row3_col12\" class=\"data row3 col12\" >0.021248</td>\n",
              "    </tr>\n",
              "    <tr>\n",
              "      <th id=\"T_c1e73_level0_row4\" class=\"row_heading level0 row4\" >vlr_score</th>\n",
              "      <td id=\"T_c1e73_row4_col0\" class=\"data row4 col0\" >-0.000885</td>\n",
              "      <td id=\"T_c1e73_row4_col1\" class=\"data row4 col1\" >0.071460</td>\n",
              "      <td id=\"T_c1e73_row4_col2\" class=\"data row4 col2\" >0.074541</td>\n",
              "      <td id=\"T_c1e73_row4_col3\" class=\"data row4 col3\" >0.001361</td>\n",
              "      <td id=\"T_c1e73_row4_col4\" class=\"data row4 col4\" >1.000000</td>\n",
              "      <td id=\"T_c1e73_row4_col5\" class=\"data row4 col5\" >0.076976</td>\n",
              "      <td id=\"T_c1e73_row4_col6\" class=\"data row4 col6\" >0.006721</td>\n",
              "      <td id=\"T_c1e73_row4_col7\" class=\"data row4 col7\" >0.094354</td>\n",
              "      <td id=\"T_c1e73_row4_col8\" class=\"data row4 col8\" >0.002783</td>\n",
              "      <td id=\"T_c1e73_row4_col9\" class=\"data row4 col9\" >-0.293389</td>\n",
              "      <td id=\"T_c1e73_row4_col10\" class=\"data row4 col10\" >0.078622</td>\n",
              "      <td id=\"T_c1e73_row4_col11\" class=\"data row4 col11\" >0.004139</td>\n",
              "      <td id=\"T_c1e73_row4_col12\" class=\"data row4 col12\" >0.066338</td>\n",
              "    </tr>\n",
              "    <tr>\n",
              "      <th id=\"T_c1e73_level0_row5\" class=\"row_heading level0 row5\" >num_produtos</th>\n",
              "      <td id=\"T_c1e73_row5_col0\" class=\"data row5 col0\" >0.002616</td>\n",
              "      <td id=\"T_c1e73_row5_col1\" class=\"data row5 col1\" >0.096261</td>\n",
              "      <td id=\"T_c1e73_row5_col2\" class=\"data row5 col2\" >0.235828</td>\n",
              "      <td id=\"T_c1e73_row5_col3\" class=\"data row5 col3\" >0.032058</td>\n",
              "      <td id=\"T_c1e73_row5_col4\" class=\"data row5 col4\" >0.076976</td>\n",
              "      <td id=\"T_c1e73_row5_col5\" class=\"data row5 col5\" >1.000000</td>\n",
              "      <td id=\"T_c1e73_row5_col6\" class=\"data row5 col6\" >0.052517</td>\n",
              "      <td id=\"T_c1e73_row5_col7\" class=\"data row5 col7\" >0.399924</td>\n",
              "      <td id=\"T_c1e73_row5_col8\" class=\"data row5 col8\" >0.000552</td>\n",
              "      <td id=\"T_c1e73_row5_col9\" class=\"data row5 col9\" >0.001635</td>\n",
              "      <td id=\"T_c1e73_row5_col10\" class=\"data row5 col10\" >0.071313</td>\n",
              "      <td id=\"T_c1e73_row5_col11\" class=\"data row5 col11\" >0.007039</td>\n",
              "      <td id=\"T_c1e73_row5_col12\" class=\"data row5 col12\" >0.707495</td>\n",
              "    </tr>\n",
              "    <tr>\n",
              "      <th id=\"T_c1e73_level0_row6\" class=\"row_heading level0 row6\" >num_atend</th>\n",
              "      <td id=\"T_c1e73_row6_col0\" class=\"data row6 col0\" >-0.000890</td>\n",
              "      <td id=\"T_c1e73_row6_col1\" class=\"data row6 col1\" >0.009918</td>\n",
              "      <td id=\"T_c1e73_row6_col2\" class=\"data row6 col2\" >0.002335</td>\n",
              "      <td id=\"T_c1e73_row6_col3\" class=\"data row6 col3\" >0.531965</td>\n",
              "      <td id=\"T_c1e73_row6_col4\" class=\"data row6 col4\" >0.006721</td>\n",
              "      <td id=\"T_c1e73_row6_col5\" class=\"data row6 col5\" >0.052517</td>\n",
              "      <td id=\"T_c1e73_row6_col6\" class=\"data row6 col6\" >1.000000</td>\n",
              "      <td id=\"T_c1e73_row6_col7\" class=\"data row6 col7\" >0.028077</td>\n",
              "      <td id=\"T_c1e73_row6_col8\" class=\"data row6 col8\" >-0.000586</td>\n",
              "      <td id=\"T_c1e73_row6_col9\" class=\"data row6 col9\" >0.000265</td>\n",
              "      <td id=\"T_c1e73_row6_col10\" class=\"data row6 col10\" >0.014571</td>\n",
              "      <td id=\"T_c1e73_row6_col11\" class=\"data row6 col11\" >0.011490</td>\n",
              "      <td id=\"T_c1e73_row6_col12\" class=\"data row6 col12\" >0.030704</td>\n",
              "    </tr>\n",
              "    <tr>\n",
              "      <th id=\"T_c1e73_level0_row7\" class=\"row_heading level0 row7\" >qtd_oper</th>\n",
              "      <td id=\"T_c1e73_row7_col0\" class=\"data row7 col0\" >-0.000765</td>\n",
              "      <td id=\"T_c1e73_row7_col1\" class=\"data row7 col1\" >0.398583</td>\n",
              "      <td id=\"T_c1e73_row7_col2\" class=\"data row7 col2\" >0.088389</td>\n",
              "      <td id=\"T_c1e73_row7_col3\" class=\"data row7 col3\" >0.019272</td>\n",
              "      <td id=\"T_c1e73_row7_col4\" class=\"data row7 col4\" >0.094354</td>\n",
              "      <td id=\"T_c1e73_row7_col5\" class=\"data row7 col5\" >0.399924</td>\n",
              "      <td id=\"T_c1e73_row7_col6\" class=\"data row7 col6\" >0.028077</td>\n",
              "      <td id=\"T_c1e73_row7_col7\" class=\"data row7 col7\" >1.000000</td>\n",
              "      <td id=\"T_c1e73_row7_col8\" class=\"data row7 col8\" >0.008165</td>\n",
              "      <td id=\"T_c1e73_row7_col9\" class=\"data row7 col9\" >0.151486</td>\n",
              "      <td id=\"T_c1e73_row7_col10\" class=\"data row7 col10\" >0.299594</td>\n",
              "      <td id=\"T_c1e73_row7_col11\" class=\"data row7 col11\" >0.005816</td>\n",
              "      <td id=\"T_c1e73_row7_col12\" class=\"data row7 col12\" >0.296881</td>\n",
              "    </tr>\n",
              "    <tr>\n",
              "      <th id=\"T_c1e73_level0_row8\" class=\"row_heading level0 row8\" >qtd_reclm</th>\n",
              "      <td id=\"T_c1e73_row8_col0\" class=\"data row8 col0\" >-0.004190</td>\n",
              "      <td id=\"T_c1e73_row8_col1\" class=\"data row8 col1\" >0.019903</td>\n",
              "      <td id=\"T_c1e73_row8_col2\" class=\"data row8 col2\" >0.018893</td>\n",
              "      <td id=\"T_c1e73_row8_col3\" class=\"data row8 col3\" >-0.000354</td>\n",
              "      <td id=\"T_c1e73_row8_col4\" class=\"data row8 col4\" >0.002783</td>\n",
              "      <td id=\"T_c1e73_row8_col5\" class=\"data row8 col5\" >0.000552</td>\n",
              "      <td id=\"T_c1e73_row8_col6\" class=\"data row8 col6\" >-0.000586</td>\n",
              "      <td id=\"T_c1e73_row8_col7\" class=\"data row8 col7\" >0.008165</td>\n",
              "      <td id=\"T_c1e73_row8_col8\" class=\"data row8 col8\" >1.000000</td>\n",
              "      <td id=\"T_c1e73_row8_col9\" class=\"data row8 col9\" >-0.001011</td>\n",
              "      <td id=\"T_c1e73_row8_col10\" class=\"data row8 col10\" >0.017440</td>\n",
              "      <td id=\"T_c1e73_row8_col11\" class=\"data row8 col11\" >0.537171</td>\n",
              "      <td id=\"T_c1e73_row8_col12\" class=\"data row8 col12\" >0.005056</td>\n",
              "    </tr>\n",
              "    <tr>\n",
              "      <th id=\"T_c1e73_level0_row9\" class=\"row_heading level0 row9\" >qtd_restr</th>\n",
              "      <td id=\"T_c1e73_row9_col0\" class=\"data row9 col0\" >0.003100</td>\n",
              "      <td id=\"T_c1e73_row9_col1\" class=\"data row9 col1\" >0.098304</td>\n",
              "      <td id=\"T_c1e73_row9_col2\" class=\"data row9 col2\" >0.007249</td>\n",
              "      <td id=\"T_c1e73_row9_col3\" class=\"data row9 col3\" >0.002933</td>\n",
              "      <td id=\"T_c1e73_row9_col4\" class=\"data row9 col4\" >-0.293389</td>\n",
              "      <td id=\"T_c1e73_row9_col5\" class=\"data row9 col5\" >0.001635</td>\n",
              "      <td id=\"T_c1e73_row9_col6\" class=\"data row9 col6\" >0.000265</td>\n",
              "      <td id=\"T_c1e73_row9_col7\" class=\"data row9 col7\" >0.151486</td>\n",
              "      <td id=\"T_c1e73_row9_col8\" class=\"data row9 col8\" >-0.001011</td>\n",
              "      <td id=\"T_c1e73_row9_col9\" class=\"data row9 col9\" >1.000000</td>\n",
              "      <td id=\"T_c1e73_row9_col10\" class=\"data row9 col10\" >0.053812</td>\n",
              "      <td id=\"T_c1e73_row9_col11\" class=\"data row9 col11\" >-0.001945</td>\n",
              "      <td id=\"T_c1e73_row9_col12\" class=\"data row9 col12\" >0.002315</td>\n",
              "    </tr>\n",
              "    <tr>\n",
              "      <th id=\"T_c1e73_level0_row10\" class=\"row_heading level0 row10\" >vlr_renda</th>\n",
              "      <td id=\"T_c1e73_row10_col0\" class=\"data row10 col0\" >-0.000362</td>\n",
              "      <td id=\"T_c1e73_row10_col1\" class=\"data row10 col1\" >0.593851</td>\n",
              "      <td id=\"T_c1e73_row10_col2\" class=\"data row10 col2\" >0.160302</td>\n",
              "      <td id=\"T_c1e73_row10_col3\" class=\"data row10 col3\" >0.006910</td>\n",
              "      <td id=\"T_c1e73_row10_col4\" class=\"data row10 col4\" >0.078622</td>\n",
              "      <td id=\"T_c1e73_row10_col5\" class=\"data row10 col5\" >0.071313</td>\n",
              "      <td id=\"T_c1e73_row10_col6\" class=\"data row10 col6\" >0.014571</td>\n",
              "      <td id=\"T_c1e73_row10_col7\" class=\"data row10 col7\" >0.299594</td>\n",
              "      <td id=\"T_c1e73_row10_col8\" class=\"data row10 col8\" >0.017440</td>\n",
              "      <td id=\"T_c1e73_row10_col9\" class=\"data row10 col9\" >0.053812</td>\n",
              "      <td id=\"T_c1e73_row10_col10\" class=\"data row10 col10\" >1.000000</td>\n",
              "      <td id=\"T_c1e73_row10_col11\" class=\"data row10 col11\" >0.012472</td>\n",
              "      <td id=\"T_c1e73_row10_col12\" class=\"data row10 col12\" >0.034249</td>\n",
              "    </tr>\n",
              "    <tr>\n",
              "      <th id=\"T_c1e73_level0_row11\" class=\"row_heading level0 row11\" >ind_atrito</th>\n",
              "      <td id=\"T_c1e73_row11_col0\" class=\"data row11 col0\" >-0.002664</td>\n",
              "      <td id=\"T_c1e73_row11_col1\" class=\"data row11 col1\" >0.011959</td>\n",
              "      <td id=\"T_c1e73_row11_col2\" class=\"data row11 col2\" >0.017218</td>\n",
              "      <td id=\"T_c1e73_row11_col3\" class=\"data row11 col3\" >0.021113</td>\n",
              "      <td id=\"T_c1e73_row11_col4\" class=\"data row11 col4\" >0.004139</td>\n",
              "      <td id=\"T_c1e73_row11_col5\" class=\"data row11 col5\" >0.007039</td>\n",
              "      <td id=\"T_c1e73_row11_col6\" class=\"data row11 col6\" >0.011490</td>\n",
              "      <td id=\"T_c1e73_row11_col7\" class=\"data row11 col7\" >0.005816</td>\n",
              "      <td id=\"T_c1e73_row11_col8\" class=\"data row11 col8\" >0.537171</td>\n",
              "      <td id=\"T_c1e73_row11_col9\" class=\"data row11 col9\" >-0.001945</td>\n",
              "      <td id=\"T_c1e73_row11_col10\" class=\"data row11 col10\" >0.012472</td>\n",
              "      <td id=\"T_c1e73_row11_col11\" class=\"data row11 col11\" >1.000000</td>\n",
              "      <td id=\"T_c1e73_row11_col12\" class=\"data row11 col12\" >0.006447</td>\n",
              "    </tr>\n",
              "    <tr>\n",
              "      <th id=\"T_c1e73_level0_row12\" class=\"row_heading level0 row12\" >ind_engaj</th>\n",
              "      <td id=\"T_c1e73_row12_col0\" class=\"data row12 col0\" >0.002035</td>\n",
              "      <td id=\"T_c1e73_row12_col1\" class=\"data row12 col1\" >0.070471</td>\n",
              "      <td id=\"T_c1e73_row12_col2\" class=\"data row12 col2\" >0.170425</td>\n",
              "      <td id=\"T_c1e73_row12_col3\" class=\"data row12 col3\" >0.021248</td>\n",
              "      <td id=\"T_c1e73_row12_col4\" class=\"data row12 col4\" >0.066338</td>\n",
              "      <td id=\"T_c1e73_row12_col5\" class=\"data row12 col5\" >0.707495</td>\n",
              "      <td id=\"T_c1e73_row12_col6\" class=\"data row12 col6\" >0.030704</td>\n",
              "      <td id=\"T_c1e73_row12_col7\" class=\"data row12 col7\" >0.296881</td>\n",
              "      <td id=\"T_c1e73_row12_col8\" class=\"data row12 col8\" >0.005056</td>\n",
              "      <td id=\"T_c1e73_row12_col9\" class=\"data row12 col9\" >0.002315</td>\n",
              "      <td id=\"T_c1e73_row12_col10\" class=\"data row12 col10\" >0.034249</td>\n",
              "      <td id=\"T_c1e73_row12_col11\" class=\"data row12 col11\" >0.006447</td>\n",
              "      <td id=\"T_c1e73_row12_col12\" class=\"data row12 col12\" >1.000000</td>\n",
              "    </tr>\n",
              "  </tbody>\n",
              "</table>\n"
            ]
          },
          "metadata": {},
          "execution_count": 10
        }
      ],
      "source": [
        "##Aqui nós iremos gerar uma matriz que indica a porcentagem de correlação entre os atributos\n",
        "matriz_corr = client.corr().style.background_gradient(cmap='coolwarm')\n",
        "matriz_corr"
      ]
    },
    {
      "cell_type": "code",
      "execution_count": 11,
      "metadata": {
        "colab": {
          "base_uri": "https://localhost:8080/",
          "height": 457
        },
        "id": "SQUVvhU97Gj3",
        "outputId": "f84488e7-fc36-450b-ef9f-dcf49fa7345d"
      },
      "outputs": [
        {
          "output_type": "execute_result",
          "data": {
            "text/plain": [
              "<pandas.io.formats.style.Styler at 0x7fec422e3dd0>"
            ],
            "text/html": [
              "<style type=\"text/css\">\n",
              "#T_79ea6_row0_col0 {\n",
              "  background-color: #b40426;\n",
              "  color: #f1f1f1;\n",
              "}\n",
              "#T_79ea6_row1_col0 {\n",
              "  background-color: #f7aa8c;\n",
              "  color: #000000;\n",
              "}\n",
              "#T_79ea6_row2_col0 {\n",
              "  background-color: #9dbdff;\n",
              "  color: #000000;\n",
              "}\n",
              "#T_79ea6_row3_col0 {\n",
              "  background-color: #7093f3;\n",
              "  color: #f1f1f1;\n",
              "}\n",
              "#T_79ea6_row4_col0 {\n",
              "  background-color: #4f69d9;\n",
              "  color: #f1f1f1;\n",
              "}\n",
              "#T_79ea6_row5_col0 {\n",
              "  background-color: #4e68d8;\n",
              "  color: #f1f1f1;\n",
              "}\n",
              "#T_79ea6_row6_col0 {\n",
              "  background-color: #445acc;\n",
              "  color: #f1f1f1;\n",
              "}\n",
              "#T_79ea6_row7_col0 {\n",
              "  background-color: #4358cb;\n",
              "  color: #f1f1f1;\n",
              "}\n",
              "#T_79ea6_row8_col0 {\n",
              "  background-color: #3f53c6;\n",
              "  color: #f1f1f1;\n",
              "}\n",
              "#T_79ea6_row9_col0 {\n",
              "  background-color: #3c4ec2;\n",
              "  color: #f1f1f1;\n",
              "}\n",
              "#T_79ea6_row10_col0, #T_79ea6_row11_col0, #T_79ea6_row12_col0 {\n",
              "  background-color: #3b4cc0;\n",
              "  color: #f1f1f1;\n",
              "}\n",
              "</style>\n",
              "<table id=\"T_79ea6_\" class=\"dataframe\">\n",
              "  <thead>\n",
              "    <tr>\n",
              "      <th class=\"blank level0\" >&nbsp;</th>\n",
              "      <th class=\"col_heading level0 col0\" >ind_engaj</th>\n",
              "    </tr>\n",
              "  </thead>\n",
              "  <tbody>\n",
              "    <tr>\n",
              "      <th id=\"T_79ea6_level0_row0\" class=\"row_heading level0 row0\" >ind_engaj</th>\n",
              "      <td id=\"T_79ea6_row0_col0\" class=\"data row0 col0\" >1.000000</td>\n",
              "    </tr>\n",
              "    <tr>\n",
              "      <th id=\"T_79ea6_level0_row1\" class=\"row_heading level0 row1\" >num_produtos</th>\n",
              "      <td id=\"T_79ea6_row1_col0\" class=\"data row1 col0\" >0.707495</td>\n",
              "    </tr>\n",
              "    <tr>\n",
              "      <th id=\"T_79ea6_level0_row2\" class=\"row_heading level0 row2\" >qtd_oper</th>\n",
              "      <td id=\"T_79ea6_row2_col0\" class=\"data row2 col0\" >0.296881</td>\n",
              "    </tr>\n",
              "    <tr>\n",
              "      <th id=\"T_79ea6_level0_row3\" class=\"row_heading level0 row3\" >vlr_saldo</th>\n",
              "      <td id=\"T_79ea6_row3_col0\" class=\"data row3 col0\" >0.170425</td>\n",
              "    </tr>\n",
              "    <tr>\n",
              "      <th id=\"T_79ea6_level0_row4\" class=\"row_heading level0 row4\" >vlr_credito</th>\n",
              "      <td id=\"T_79ea6_row4_col0\" class=\"data row4 col0\" >0.070471</td>\n",
              "    </tr>\n",
              "    <tr>\n",
              "      <th id=\"T_79ea6_level0_row5\" class=\"row_heading level0 row5\" >vlr_score</th>\n",
              "      <td id=\"T_79ea6_row5_col0\" class=\"data row5 col0\" >0.066338</td>\n",
              "    </tr>\n",
              "    <tr>\n",
              "      <th id=\"T_79ea6_level0_row6\" class=\"row_heading level0 row6\" >vlr_renda</th>\n",
              "      <td id=\"T_79ea6_row6_col0\" class=\"data row6 col0\" >0.034249</td>\n",
              "    </tr>\n",
              "    <tr>\n",
              "      <th id=\"T_79ea6_level0_row7\" class=\"row_heading level0 row7\" >num_atend</th>\n",
              "      <td id=\"T_79ea6_row7_col0\" class=\"data row7 col0\" >0.030704</td>\n",
              "    </tr>\n",
              "    <tr>\n",
              "      <th id=\"T_79ea6_level0_row8\" class=\"row_heading level0 row8\" >num_atend_atrs</th>\n",
              "      <td id=\"T_79ea6_row8_col0\" class=\"data row8 col0\" >0.021248</td>\n",
              "    </tr>\n",
              "    <tr>\n",
              "      <th id=\"T_79ea6_level0_row9\" class=\"row_heading level0 row9\" >ind_atrito</th>\n",
              "      <td id=\"T_79ea6_row9_col0\" class=\"data row9 col0\" >0.006447</td>\n",
              "    </tr>\n",
              "    <tr>\n",
              "      <th id=\"T_79ea6_level0_row10\" class=\"row_heading level0 row10\" >qtd_reclm</th>\n",
              "      <td id=\"T_79ea6_row10_col0\" class=\"data row10 col0\" >0.005056</td>\n",
              "    </tr>\n",
              "    <tr>\n",
              "      <th id=\"T_79ea6_level0_row11\" class=\"row_heading level0 row11\" >qtd_restr</th>\n",
              "      <td id=\"T_79ea6_row11_col0\" class=\"data row11 col0\" >0.002315</td>\n",
              "    </tr>\n",
              "    <tr>\n",
              "      <th id=\"T_79ea6_level0_row12\" class=\"row_heading level0 row12\" >Unnamed: 0</th>\n",
              "      <td id=\"T_79ea6_row12_col0\" class=\"data row12 col0\" >0.002035</td>\n",
              "    </tr>\n",
              "  </tbody>\n",
              "</table>\n"
            ]
          },
          "metadata": {},
          "execution_count": 11
        }
      ],
      "source": [
        "##Aqui nós iremos listar as melhores correlação para a nossa resposta de engajado ou não\n",
        "\n",
        "target_corr = matriz_corr.data.ind_engaj\n",
        "df_corr = target_corr.abs().sort_values(ascending=False).to_frame().style.background_gradient(cmap='coolwarm')\n",
        "df_corr"
      ]
    },
    {
      "cell_type": "markdown",
      "source": [
        "Observando os dados acima, podemos perceber que há uma grande correlação entre o número de produtos de um usuário e o seu índice de engajamento. Quando revisitamos os dados fornecidos pelo cliente, percebemos que esta coluna faz parte da regra de negócio da definição de um cliente engajado. Sendo assim, temos a necessidade de gerar um modelo que também consiga prever sem esta coluna e possa indicar um possível futuro cliente engajado. Por isso iremos entregar dois modelos. Um que responde a questão do nosso usuário e outro que o faz poder definir questões estratégicas futuras. "
      ],
      "metadata": {
        "id": "KqMqso9iWM4a"
      }
    },
    {
      "cell_type": "markdown",
      "metadata": {
        "id": "e8Mzb4RfBK-X"
      },
      "source": [
        "#Cliente engajado"
      ]
    },
    {
      "cell_type": "markdown",
      "metadata": {
        "id": "BNHdPS7vTni4"
      },
      "source": [
        "###Treinamento Teste"
      ]
    },
    {
      "cell_type": "markdown",
      "metadata": {
        "id": "sX0LWi-O9IqS"
      },
      "source": [
        "Na cédula abaixo nós temos a divisão da tabela entre treinamento e teste, note que estamos defifindo 80% dos dados para treinamento e 20% para os testes. Outro fator importante, é que usamos o random_state que faz com que a população de dados seja a mesma do início ao fim do notebook e isso garante que podemos comparar os modelos entre si e observar o índice de acerto daquele mesmo conjunto. "
      ]
    },
    {
      "cell_type": "code",
      "execution_count": 109,
      "metadata": {
        "id": "Y418Bb0sTxoS"
      },
      "outputs": [],
      "source": [
        "from sklearn.model_selection import train_test_split\n",
        "\n",
        "cols = [\"num_produtos\", \"qtd_oper\"]\n",
        "\n",
        "# Dividindo x e y\n",
        "x = client[cols]\n",
        "y = client['ind_engaj']\n",
        "\n",
        "# Dividindo dados para treino e dados para teste\n",
        "x_train, x_test, y_train, y_test = train_test_split(x, y, test_size = 0.2, random_state = 42)"
      ]
    },
    {
      "cell_type": "markdown",
      "source": [
        "#Hiperparâmetros"
      ],
      "metadata": {
        "id": "-OwdW-MfNQtQ"
      }
    },
    {
      "cell_type": "markdown",
      "metadata": {
        "id": "eXNMpk43TzDA"
      },
      "source": [
        "###Arvore de decisão PARÂMETRO 1"
      ]
    },
    {
      "cell_type": "code",
      "execution_count": 19,
      "metadata": {
        "colab": {
          "base_uri": "https://localhost:8080/"
        },
        "id": "_3twFHjyT6Vf",
        "outputId": "02afb4fa-ba4c-4e72-beef-caf4e25c0601"
      },
      "outputs": [
        {
          "output_type": "execute_result",
          "data": {
            "text/plain": [
              "DecisionTreeClassifier(criterion='entropy', random_state=42)"
            ]
          },
          "metadata": {},
          "execution_count": 19
        }
      ],
      "source": [
        "avd = DecisionTreeClassifier(criterion='entropy', random_state=42)\n",
        "avd.fit(x_train, y_train)"
      ]
    },
    {
      "cell_type": "code",
      "execution_count": 20,
      "metadata": {
        "colab": {
          "base_uri": "https://localhost:8080/"
        },
        "id": "vxOyoupHT8al",
        "outputId": "604fb32e-5e21-41fd-e64c-f0ba38be59d1"
      },
      "outputs": [
        {
          "output_type": "execute_result",
          "data": {
            "text/plain": [
              "array([1., 1., 1., ..., 0., 0., 0.])"
            ]
          },
          "metadata": {},
          "execution_count": 20
        }
      ],
      "source": [
        "y_pred_avd = avd.predict(x_test)\n",
        "y_pred_avd"
      ]
    },
    {
      "cell_type": "markdown",
      "metadata": {
        "id": "Q_QrRUFFT-U_"
      },
      "source": [
        "####Métricas"
      ]
    },
    {
      "cell_type": "markdown",
      "metadata": {
        "id": "-_pZtXulUGil"
      },
      "source": [
        "Acurácia"
      ]
    },
    {
      "cell_type": "code",
      "execution_count": 21,
      "metadata": {
        "colab": {
          "base_uri": "https://localhost:8080/"
        },
        "id": "5A2oJLe5UEob",
        "outputId": "4c2dc387-b6af-44a9-dcd1-9c8bc94af361"
      },
      "outputs": [
        {
          "output_type": "execute_result",
          "data": {
            "text/plain": [
              "0.9789918226812998"
            ]
          },
          "metadata": {},
          "execution_count": 21
        }
      ],
      "source": [
        "accuracy_score(y_test, y_pred_avd)"
      ]
    },
    {
      "cell_type": "markdown",
      "metadata": {
        "id": "6lQZsVL1UIdv"
      },
      "source": [
        "Precisão"
      ]
    },
    {
      "cell_type": "code",
      "execution_count": 22,
      "metadata": {
        "colab": {
          "base_uri": "https://localhost:8080/"
        },
        "id": "1DbjckrHUJh8",
        "outputId": "38acfa8b-61fa-40b8-f993-0609cee38fa9"
      },
      "outputs": [
        {
          "output_type": "execute_result",
          "data": {
            "text/plain": [
              "0.9688548903286238"
            ]
          },
          "metadata": {},
          "execution_count": 22
        }
      ],
      "source": [
        "precision_score(y_test, y_pred_avd)"
      ]
    },
    {
      "cell_type": "markdown",
      "metadata": {
        "id": "cOPEqQdzULAe"
      },
      "source": [
        "Recall"
      ]
    },
    {
      "cell_type": "code",
      "execution_count": 23,
      "metadata": {
        "colab": {
          "base_uri": "https://localhost:8080/"
        },
        "id": "UQNdQBgFULyM",
        "outputId": "2868f12f-ae6f-40bc-e4e7-714cd79bd702"
      },
      "outputs": [
        {
          "output_type": "execute_result",
          "data": {
            "text/plain": [
              "0.9701422541816477"
            ]
          },
          "metadata": {},
          "execution_count": 23
        }
      ],
      "source": [
        "recall_score(y_test, y_pred_avd)"
      ]
    },
    {
      "cell_type": "markdown",
      "metadata": {
        "id": "kXtWcJc8UBo_"
      },
      "source": [
        "####Matriz de confusão"
      ]
    },
    {
      "cell_type": "code",
      "execution_count": 24,
      "metadata": {
        "colab": {
          "base_uri": "https://localhost:8080/",
          "height": 0
        },
        "id": "f4MUzIj1USb1",
        "outputId": "ff356229-f202-49f6-990a-f9319c7d1970"
      },
      "outputs": [
        {
          "output_type": "execute_result",
          "data": {
            "text/plain": [
              "<sklearn.metrics._plot.confusion_matrix.ConfusionMatrixDisplay at 0x7fec41ce5e50>"
            ]
          },
          "metadata": {},
          "execution_count": 24
        },
        {
          "output_type": "display_data",
          "data": {
            "text/plain": [
              "<Figure size 432x288 with 2 Axes>"
            ],
            "image/png": "[encoded data removed]"
          },
          "metadata": {
            "needs_background": "light"
          }
        }
      ],
      "source": [
        "plot_confusion_matrix(avd,x_test,y_test, cmap='Blues')"
      ]
    },
    {
      "cell_type": "markdown",
      "metadata": {
        "id": "BnGEpv8YpGGn"
      },
      "source": [
        "###Árvore de decisão PARÂMETRO 2"
      ]
    },
    {
      "cell_type": "code",
      "execution_count": 25,
      "metadata": {
        "colab": {
          "base_uri": "https://localhost:8080/"
        },
        "id": "_DcHP3oHpGGt",
        "outputId": "2c122252-e155-406c-d649-8602371a708b"
      },
      "outputs": [
        {
          "output_type": "execute_result",
          "data": {
            "text/plain": [
              "DecisionTreeClassifier(random_state=42)"
            ]
          },
          "metadata": {},
          "execution_count": 25
        }
      ],
      "source": [
        "avd = DecisionTreeClassifier(criterion='gini', random_state=42)\n",
        "avd.fit(x_train, y_train)"
      ]
    },
    {
      "cell_type": "code",
      "execution_count": 26,
      "metadata": {
        "colab": {
          "base_uri": "https://localhost:8080/"
        },
        "id": "aA-zKgjEpGGt",
        "outputId": "7cb89cba-e999-4330-a471-2f3e374a7356"
      },
      "outputs": [
        {
          "output_type": "execute_result",
          "data": {
            "text/plain": [
              "array([1., 1., 1., ..., 0., 0., 0.])"
            ]
          },
          "metadata": {},
          "execution_count": 26
        }
      ],
      "source": [
        "y_pred_avd = avd.predict(x_test)\n",
        "y_pred_avd"
      ]
    },
    {
      "cell_type": "markdown",
      "metadata": {
        "id": "MCgnObD-pGGt"
      },
      "source": [
        "####Métricas"
      ]
    },
    {
      "cell_type": "markdown",
      "metadata": {
        "id": "g9HzKPMxpGGt"
      },
      "source": [
        "Acurácia"
      ]
    },
    {
      "cell_type": "code",
      "execution_count": 27,
      "metadata": {
        "colab": {
          "base_uri": "https://localhost:8080/"
        },
        "id": "LEuQUPOspGGt",
        "outputId": "95048edb-a0b3-44bf-ee18-ef880ebdd0e4"
      },
      "outputs": [
        {
          "output_type": "execute_result",
          "data": {
            "text/plain": [
              "0.9780503550677857"
            ]
          },
          "metadata": {},
          "execution_count": 27
        }
      ],
      "source": [
        "accuracy_score(y_test, y_pred_avd)"
      ]
    },
    {
      "cell_type": "markdown",
      "metadata": {
        "id": "9x0ta3OepGGt"
      },
      "source": [
        "Precisão"
      ]
    },
    {
      "cell_type": "code",
      "execution_count": 28,
      "metadata": {
        "colab": {
          "base_uri": "https://localhost:8080/"
        },
        "id": "mTKumXThpGGt",
        "outputId": "18c9b93a-cf1d-4727-8199-58bed93a3a18"
      },
      "outputs": [
        {
          "output_type": "execute_result",
          "data": {
            "text/plain": [
              "0.968622848200313"
            ]
          },
          "metadata": {},
          "execution_count": 28
        }
      ],
      "source": [
        "precision_score(y_test, y_pred_avd)"
      ]
    },
    {
      "cell_type": "markdown",
      "metadata": {
        "id": "4EB6MwP_pGGt"
      },
      "source": [
        "Recall"
      ]
    },
    {
      "cell_type": "code",
      "execution_count": 29,
      "metadata": {
        "colab": {
          "base_uri": "https://localhost:8080/"
        },
        "id": "43rFAtQ4pGGt",
        "outputId": "197d7f04-f725-434c-dc0c-202f9f11d7c1"
      },
      "outputs": [
        {
          "output_type": "execute_result",
          "data": {
            "text/plain": [
              "0.9675629201188057"
            ]
          },
          "metadata": {},
          "execution_count": 29
        }
      ],
      "source": [
        "recall_score(y_test, y_pred_avd)"
      ]
    },
    {
      "cell_type": "markdown",
      "metadata": {
        "id": "94HUHFuopGGu"
      },
      "source": [
        "####Matriz de confusão"
      ]
    },
    {
      "cell_type": "code",
      "execution_count": 30,
      "metadata": {
        "colab": {
          "base_uri": "https://localhost:8080/",
          "height": 0
        },
        "id": "OnTO1xOOpGGu",
        "outputId": "73b2ac1d-6fdb-4368-cafa-f0be2a8b2153"
      },
      "outputs": [
        {
          "output_type": "execute_result",
          "data": {
            "text/plain": [
              "<sklearn.metrics._plot.confusion_matrix.ConfusionMatrixDisplay at 0x7fec41c73610>"
            ]
          },
          "metadata": {},
          "execution_count": 30
        },
        {
          "output_type": "display_data",
          "data": {
            "text/plain": [
              "<Figure size 432x288 with 2 Axes>"
            ],
            "image/png": "[encoded data removed]"
          },
          "metadata": {
            "needs_background": "light"
          }
        }
      ],
      "source": [
        "plot_confusion_matrix(avd,x_test,y_test, cmap='Blues')"
      ]
    },
    {
      "cell_type": "markdown",
      "metadata": {
        "id": "Wpu5ElIbpHRU"
      },
      "source": [
        "###Arvore de decisão PARÂMETRO 3"
      ]
    },
    {
      "cell_type": "code",
      "execution_count": 31,
      "metadata": {
        "colab": {
          "base_uri": "https://localhost:8080/"
        },
        "id": "DDPtyiF2pHRV",
        "outputId": "4fd4501a-3f93-4552-8209-6505cf4bb749"
      },
      "outputs": [
        {
          "output_type": "execute_result",
          "data": {
            "text/plain": [
              "DecisionTreeClassifier(criterion='entropy', max_features='auto',\n",
              "                       random_state=42)"
            ]
          },
          "metadata": {},
          "execution_count": 31
        }
      ],
      "source": [
        "avd = DecisionTreeClassifier(criterion='entropy', max_features='auto', random_state=42)\n",
        "avd.fit(x_train, y_train)"
      ]
    },
    {
      "cell_type": "code",
      "execution_count": 32,
      "metadata": {
        "colab": {
          "base_uri": "https://localhost:8080/"
        },
        "id": "BSX9Lu25pHRV",
        "outputId": "467f4ea6-818a-4aab-ffc6-52b38218632e"
      },
      "outputs": [
        {
          "output_type": "execute_result",
          "data": {
            "text/plain": [
              "array([1., 1., 1., ..., 0., 0., 0.])"
            ]
          },
          "metadata": {},
          "execution_count": 32
        }
      ],
      "source": [
        "y_pred_avd = avd.predict(x_test)\n",
        "y_pred_avd"
      ]
    },
    {
      "cell_type": "markdown",
      "metadata": {
        "id": "qHv-SF4QpHRV"
      },
      "source": [
        "####Métricas"
      ]
    },
    {
      "cell_type": "markdown",
      "metadata": {
        "id": "zBo6RpebpHRV"
      },
      "source": [
        "Acurácia"
      ]
    },
    {
      "cell_type": "code",
      "execution_count": 33,
      "metadata": {
        "colab": {
          "base_uri": "https://localhost:8080/"
        },
        "id": "pxH2iSBKpHRV",
        "outputId": "6469fff0-ca0f-4b31-cfbe-a81997e5ec85"
      },
      "outputs": [
        {
          "output_type": "execute_result",
          "data": {
            "text/plain": [
              "0.9789111254572843"
            ]
          },
          "metadata": {},
          "execution_count": 33
        }
      ],
      "source": [
        "accuracy_score(y_test, y_pred_avd)"
      ]
    },
    {
      "cell_type": "markdown",
      "metadata": {
        "id": "-A_0BtwRpHRV"
      },
      "source": [
        "Precisão"
      ]
    },
    {
      "cell_type": "code",
      "execution_count": 34,
      "metadata": {
        "colab": {
          "base_uri": "https://localhost:8080/"
        },
        "id": "SnxNq4KrpHRV",
        "outputId": "fb233e47-5cac-4247-e606-ef3ea67684d0"
      },
      "outputs": [
        {
          "output_type": "execute_result",
          "data": {
            "text/plain": [
              "0.9689940643548891"
            ]
          },
          "metadata": {},
          "execution_count": 34
        }
      ],
      "source": [
        "precision_score(y_test, y_pred_avd)"
      ]
    },
    {
      "cell_type": "markdown",
      "metadata": {
        "id": "gYyG_UMcpHRW"
      },
      "source": [
        "Recall"
      ]
    },
    {
      "cell_type": "code",
      "execution_count": 35,
      "metadata": {
        "colab": {
          "base_uri": "https://localhost:8080/"
        },
        "id": "O9zjmX4kpHRW",
        "outputId": "b29b3c11-e9ff-4fd8-c847-52fabfc33f30"
      },
      "outputs": [
        {
          "output_type": "execute_result",
          "data": {
            "text/plain": [
              "0.9697514459903079"
            ]
          },
          "metadata": {},
          "execution_count": 35
        }
      ],
      "source": [
        "recall_score(y_test, y_pred_avd)"
      ]
    },
    {
      "cell_type": "markdown",
      "metadata": {
        "id": "eQZhBTAPpHRW"
      },
      "source": [
        "####Matriz de confusão"
      ]
    },
    {
      "cell_type": "code",
      "execution_count": 36,
      "metadata": {
        "colab": {
          "base_uri": "https://localhost:8080/",
          "height": 0
        },
        "id": "VOblkfJ2pHRW",
        "outputId": "7da248dc-0e27-4629-cf8a-217b1bf07511"
      },
      "outputs": [
        {
          "output_type": "execute_result",
          "data": {
            "text/plain": [
              "<sklearn.metrics._plot.confusion_matrix.ConfusionMatrixDisplay at 0x7fec41bb3850>"
            ]
          },
          "metadata": {},
          "execution_count": 36
        },
        {
          "output_type": "display_data",
          "data": {
            "text/plain": [
              "<Figure size 432x288 with 2 Axes>"
            ],
            "image/png": "[encoded data removed]"
          },
          "metadata": {
            "needs_background": "light"
          }
        }
      ],
      "source": [
        "plot_confusion_matrix(avd,x_test,y_test, cmap='Blues')"
      ]
    },
    {
      "cell_type": "markdown",
      "metadata": {
        "id": "gDYsMKdTpK-2"
      },
      "source": [
        "###Arvore de decisão PARÂMETRO 4"
      ]
    },
    {
      "cell_type": "code",
      "execution_count": 37,
      "metadata": {
        "colab": {
          "base_uri": "https://localhost:8080/"
        },
        "id": "R0RCbavNpK-2",
        "outputId": "7d2e1e09-3c4e-4f0a-fd27-524d89f02bb4"
      },
      "outputs": [
        {
          "output_type": "execute_result",
          "data": {
            "text/plain": [
              "DecisionTreeClassifier(criterion='entropy', max_features='log2',\n",
              "                       random_state=42)"
            ]
          },
          "metadata": {},
          "execution_count": 37
        }
      ],
      "source": [
        "avd = DecisionTreeClassifier(criterion='entropy',max_features='log2', random_state=42)\n",
        "avd.fit(x_train, y_train)"
      ]
    },
    {
      "cell_type": "code",
      "execution_count": 38,
      "metadata": {
        "colab": {
          "base_uri": "https://localhost:8080/"
        },
        "id": "JktDH23wpK-2",
        "outputId": "c968ac80-eb04-499e-cd85-6bd7f2cb54bf"
      },
      "outputs": [
        {
          "output_type": "execute_result",
          "data": {
            "text/plain": [
              "array([1., 1., 1., ..., 0., 0., 0.])"
            ]
          },
          "metadata": {},
          "execution_count": 38
        }
      ],
      "source": [
        "y_pred_avd = avd.predict(x_test)\n",
        "y_pred_avd"
      ]
    },
    {
      "cell_type": "markdown",
      "metadata": {
        "id": "mpoYKuy0pK-2"
      },
      "source": [
        "####Métricas"
      ]
    },
    {
      "cell_type": "markdown",
      "metadata": {
        "id": "89E0M9YhpK-2"
      },
      "source": [
        "Acurácia"
      ]
    },
    {
      "cell_type": "code",
      "execution_count": 39,
      "metadata": {
        "colab": {
          "base_uri": "https://localhost:8080/"
        },
        "id": "GJLhHfqOpK-2",
        "outputId": "1a21157e-50e4-4de0-bf3a-91625f1fe7d1"
      },
      "outputs": [
        {
          "output_type": "execute_result",
          "data": {
            "text/plain": [
              "0.9789111254572843"
            ]
          },
          "metadata": {},
          "execution_count": 39
        }
      ],
      "source": [
        "accuracy_score(y_test, y_pred_avd)"
      ]
    },
    {
      "cell_type": "markdown",
      "metadata": {
        "id": "IDbGpWrZpK-3"
      },
      "source": [
        "Precisão"
      ]
    },
    {
      "cell_type": "code",
      "execution_count": 40,
      "metadata": {
        "colab": {
          "base_uri": "https://localhost:8080/"
        },
        "id": "0bHIuMVfpK-3",
        "outputId": "826f062c-af61-4558-8c4c-5a4c4514c3a6"
      },
      "outputs": [
        {
          "output_type": "execute_result",
          "data": {
            "text/plain": [
              "0.9689940643548891"
            ]
          },
          "metadata": {},
          "execution_count": 40
        }
      ],
      "source": [
        "precision_score(y_test, y_pred_avd)"
      ]
    },
    {
      "cell_type": "markdown",
      "metadata": {
        "id": "2uCL7m-9pK-3"
      },
      "source": [
        "Recall"
      ]
    },
    {
      "cell_type": "code",
      "execution_count": 41,
      "metadata": {
        "colab": {
          "base_uri": "https://localhost:8080/"
        },
        "id": "WCtlJq2KpK-3",
        "outputId": "3184c07d-ceba-438d-8bb4-f9ce3db69138"
      },
      "outputs": [
        {
          "output_type": "execute_result",
          "data": {
            "text/plain": [
              "0.9697514459903079"
            ]
          },
          "metadata": {},
          "execution_count": 41
        }
      ],
      "source": [
        "recall_score(y_test, y_pred_avd)"
      ]
    },
    {
      "cell_type": "markdown",
      "metadata": {
        "id": "a5K1fRPjpK-3"
      },
      "source": [
        "####Matriz de confusão"
      ]
    },
    {
      "cell_type": "code",
      "execution_count": 42,
      "metadata": {
        "colab": {
          "base_uri": "https://localhost:8080/",
          "height": 0
        },
        "id": "-HjdehtgpK-3",
        "outputId": "7bf46602-9e02-4d15-a9f6-36da4ebb52d5"
      },
      "outputs": [
        {
          "output_type": "execute_result",
          "data": {
            "text/plain": [
              "<sklearn.metrics._plot.confusion_matrix.ConfusionMatrixDisplay at 0x7fec41aee710>"
            ]
          },
          "metadata": {},
          "execution_count": 42
        },
        {
          "output_type": "display_data",
          "data": {
            "text/plain": [
              "<Figure size 432x288 with 2 Axes>"
            ],
            "image/png": "[encoded data removed]"
          },
          "metadata": {
            "needs_background": "light"
          }
        }
      ],
      "source": [
        "plot_confusion_matrix(avd,x_test,y_test, cmap='Blues')"
      ]
    },
    {
      "cell_type": "markdown",
      "metadata": {
        "id": "3TmaoAU1pLRU"
      },
      "source": [
        "###Arvore de decisão PARÂMETRO 5"
      ]
    },
    {
      "cell_type": "code",
      "execution_count": 110,
      "metadata": {
        "colab": {
          "base_uri": "https://localhost:8080/"
        },
        "id": "eDVP38LepLRU",
        "outputId": "7ffa314f-f83b-4a39-c453-894444ea68e5"
      },
      "outputs": [
        {
          "output_type": "execute_result",
          "data": {
            "text/plain": [
              "DecisionTreeClassifier(criterion='entropy', max_features='sqrt',\n",
              "                       random_state=42)"
            ]
          },
          "metadata": {},
          "execution_count": 110
        }
      ],
      "source": [
        "avd = DecisionTreeClassifier(criterion='entropy',max_features='sqrt', random_state=42)\n",
        "avd.fit(x_train, y_train)"
      ]
    },
    {
      "cell_type": "code",
      "execution_count": 111,
      "metadata": {
        "colab": {
          "base_uri": "https://localhost:8080/"
        },
        "id": "fpTCKMeppLRU",
        "outputId": "2a1ecdfa-7db4-4276-8f1a-60a0a6a2a61d"
      },
      "outputs": [
        {
          "output_type": "execute_result",
          "data": {
            "text/plain": [
              "array([1., 1., 1., ..., 0., 0., 0.])"
            ]
          },
          "metadata": {},
          "execution_count": 111
        }
      ],
      "source": [
        "y_pred_avd = avd.predict(x_test)\n",
        "y_pred_avd"
      ]
    },
    {
      "cell_type": "markdown",
      "metadata": {
        "id": "3V2CTrn3pLRU"
      },
      "source": [
        "####Métricas"
      ]
    },
    {
      "cell_type": "markdown",
      "metadata": {
        "id": "ym207X47pLRU"
      },
      "source": [
        "Acurácia"
      ]
    },
    {
      "cell_type": "code",
      "execution_count": 112,
      "metadata": {
        "colab": {
          "base_uri": "https://localhost:8080/"
        },
        "id": "zCVtxG8XpLRU",
        "outputId": "a9e0b4ba-4f4b-42e7-fae1-5aeaac2f4c7f"
      },
      "outputs": [
        {
          "output_type": "execute_result",
          "data": {
            "text/plain": [
              "0.9881106089950505"
            ]
          },
          "metadata": {},
          "execution_count": 112
        }
      ],
      "source": [
        "accuracy_score(y_test, y_pred_avd)"
      ]
    },
    {
      "cell_type": "markdown",
      "metadata": {
        "id": "b8DSQx-5pLRV"
      },
      "source": [
        "Precisão"
      ]
    },
    {
      "cell_type": "code",
      "execution_count": 113,
      "metadata": {
        "colab": {
          "base_uri": "https://localhost:8080/"
        },
        "id": "4ch-ay6UpLRV",
        "outputId": "f94dada6-4e8d-4cf5-8737-e2852f840c0b"
      },
      "outputs": [
        {
          "output_type": "execute_result",
          "data": {
            "text/plain": [
              "0.9670296430732003"
            ]
          },
          "metadata": {},
          "execution_count": 113
        }
      ],
      "source": [
        "precision_score(y_test, y_pred_avd)"
      ]
    },
    {
      "cell_type": "markdown",
      "metadata": {
        "id": "yxQeO5HupLRW"
      },
      "source": [
        "Recall"
      ]
    },
    {
      "cell_type": "code",
      "execution_count": 114,
      "metadata": {
        "colab": {
          "base_uri": "https://localhost:8080/"
        },
        "id": "YHuWwFQXpLRW",
        "outputId": "c2075a92-e037-4051-dc69-14629e90add9"
      },
      "outputs": [
        {
          "output_type": "execute_result",
          "data": {
            "text/plain": [
              "0.9995310301703924"
            ]
          },
          "metadata": {},
          "execution_count": 114
        }
      ],
      "source": [
        "recall_score(y_test, y_pred_avd)"
      ]
    },
    {
      "cell_type": "markdown",
      "metadata": {
        "id": "R_ILh3rtpLRW"
      },
      "source": [
        "####Matriz de confusão"
      ]
    },
    {
      "cell_type": "code",
      "execution_count": 48,
      "metadata": {
        "colab": {
          "base_uri": "https://localhost:8080/",
          "height": 296
        },
        "id": "aOcyT66_pLRW",
        "outputId": "fa1107c3-1862-4e73-f3a0-7e41e7f72d1e"
      },
      "outputs": [
        {
          "output_type": "execute_result",
          "data": {
            "text/plain": [
              "<sklearn.metrics._plot.confusion_matrix.ConfusionMatrixDisplay at 0x7fec41a20e50>"
            ]
          },
          "metadata": {},
          "execution_count": 48
        },
        {
          "output_type": "display_data",
          "data": {
            "text/plain": [
              "<Figure size 432x288 with 2 Axes>"
            ],
            "image/png": "[encoded data removed]"
          },
          "metadata": {
            "needs_background": "light"
          }
        }
      ],
      "source": [
        "plot_confusion_matrix(avd,x_test,y_test, cmap='Blues')"
      ]
    },
    {
      "cell_type": "markdown",
      "metadata": {
        "id": "hD66ckRX6m-N"
      },
      "source": [
        "###Random Forest PARÂMETRO 1"
      ]
    },
    {
      "cell_type": "code",
      "execution_count": 49,
      "metadata": {
        "colab": {
          "base_uri": "https://localhost:8080/"
        },
        "id": "HwlXa-J96m-O",
        "outputId": "403dc1d2-1c2f-445e-ba9b-ad5fad3e5ac8"
      },
      "outputs": [
        {
          "output_type": "execute_result",
          "data": {
            "text/plain": [
              "RandomForestClassifier(criterion='entropy', max_features='sqrt',\n",
              "                       random_state=42)"
            ]
          },
          "metadata": {},
          "execution_count": 49
        }
      ],
      "source": [
        "avd = RandomForestClassifier(criterion='entropy',max_features='sqrt', random_state=42)\n",
        "avd.fit(x_train, y_train)"
      ]
    },
    {
      "cell_type": "code",
      "execution_count": 50,
      "metadata": {
        "colab": {
          "base_uri": "https://localhost:8080/"
        },
        "id": "qENzvF1z6m-O",
        "outputId": "08248150-5e3f-4a53-8fca-2505220d2743"
      },
      "outputs": [
        {
          "output_type": "execute_result",
          "data": {
            "text/plain": [
              "array([1., 1., 1., ..., 0., 0., 0.])"
            ]
          },
          "metadata": {},
          "execution_count": 50
        }
      ],
      "source": [
        "y_pred_avd = avd.predict(x_test)\n",
        "y_pred_avd"
      ]
    },
    {
      "cell_type": "markdown",
      "metadata": {
        "id": "nnh0B3te6m-P"
      },
      "source": [
        "####Métricas"
      ]
    },
    {
      "cell_type": "markdown",
      "metadata": {
        "id": "NnHFGG9w6m-P"
      },
      "source": [
        "Acurácia"
      ]
    },
    {
      "cell_type": "code",
      "execution_count": 51,
      "metadata": {
        "colab": {
          "base_uri": "https://localhost:8080/"
        },
        "id": "z7EoZ5hF6m-P",
        "outputId": "2e2753f4-5f3b-4d1d-b4c2-d4c11771d7cb"
      },
      "outputs": [
        {
          "output_type": "execute_result",
          "data": {
            "text/plain": [
              "0.981332042177749"
            ]
          },
          "metadata": {},
          "execution_count": 51
        }
      ],
      "source": [
        "accuracy_score(y_test, y_pred_avd)"
      ]
    },
    {
      "cell_type": "markdown",
      "metadata": {
        "id": "6-PBrUat6m-P"
      },
      "source": [
        "Precisão"
      ]
    },
    {
      "cell_type": "code",
      "execution_count": 52,
      "metadata": {
        "colab": {
          "base_uri": "https://localhost:8080/"
        },
        "id": "3b3nIQs06m-Q",
        "outputId": "a3cc5461-8fd4-41aa-a499-9557ca6220ac"
      },
      "outputs": [
        {
          "output_type": "execute_result",
          "data": {
            "text/plain": [
              "0.9690649713133819"
            ]
          },
          "metadata": {},
          "execution_count": 52
        }
      ],
      "source": [
        "precision_score(y_test, y_pred_avd)"
      ]
    },
    {
      "cell_type": "markdown",
      "metadata": {
        "id": "5iUBQkIj6m-Q"
      },
      "source": [
        "Recall"
      ]
    },
    {
      "cell_type": "code",
      "execution_count": 53,
      "metadata": {
        "colab": {
          "base_uri": "https://localhost:8080/"
        },
        "id": "Q08zcMcn6m-Q",
        "outputId": "3439288e-6297-4c2a-883b-eedfc8f70f59"
      },
      "outputs": [
        {
          "output_type": "execute_result",
          "data": {
            "text/plain": [
              "0.9769423167109582"
            ]
          },
          "metadata": {},
          "execution_count": 53
        }
      ],
      "source": [
        "recall_score(y_test, y_pred_avd)"
      ]
    },
    {
      "cell_type": "markdown",
      "metadata": {
        "id": "pnR-sHrK6m-Q"
      },
      "source": [
        "####Matriz de confusão"
      ]
    },
    {
      "cell_type": "code",
      "execution_count": 54,
      "metadata": {
        "colab": {
          "base_uri": "https://localhost:8080/",
          "height": 0
        },
        "id": "k5a2I5HT6m-R",
        "outputId": "ff559bd9-9dce-4ce5-d5e8-44a61ec179a5"
      },
      "outputs": [
        {
          "output_type": "execute_result",
          "data": {
            "text/plain": [
              "<sklearn.metrics._plot.confusion_matrix.ConfusionMatrixDisplay at 0x7fec421a73d0>"
            ]
          },
          "metadata": {},
          "execution_count": 54
        },
        {
          "output_type": "display_data",
          "data": {
            "text/plain": [
              "<Figure size 432x288 with 2 Axes>"
            ],
            "image/png": "[encoded data removed]"
          },
          "metadata": {
            "needs_background": "light"
          }
        }
      ],
      "source": [
        "plot_confusion_matrix(avd,x_test,y_test, cmap='Blues')"
      ]
    },
    {
      "cell_type": "code",
      "execution_count": 55,
      "metadata": {
        "colab": {
          "base_uri": "https://localhost:8080/"
        },
        "id": "jWIbrg9H6m-R",
        "outputId": "82ad53e2-d495-47e4-bb7f-238fee86643b"
      },
      "outputs": [
        {
          "output_type": "execute_result",
          "data": {
            "text/plain": [
              "RandomForestClassifier()"
            ]
          },
          "metadata": {},
          "execution_count": 55
        }
      ],
      "source": [
        "rdf = RandomForestClassifier()\n",
        "rdf.fit(x_train, y_train)\n"
      ]
    },
    {
      "cell_type": "code",
      "execution_count": 56,
      "metadata": {
        "id": "MKthpSjl6m-R"
      },
      "outputs": [],
      "source": [
        "y_pred_rdf = rdf.predict(x_test)"
      ]
    },
    {
      "cell_type": "markdown",
      "metadata": {
        "id": "E8XWRkDr6nK2"
      },
      "source": [
        "###Random Forest PARÂMETRO 2"
      ]
    },
    {
      "cell_type": "code",
      "execution_count": 57,
      "metadata": {
        "colab": {
          "base_uri": "https://localhost:8080/"
        },
        "id": "X5nZt0mF6nK2",
        "outputId": "c917f8ab-1a2e-4959-db56-90bd463d0cef"
      },
      "outputs": [
        {
          "output_type": "execute_result",
          "data": {
            "text/plain": [
              "RandomForestClassifier(random_state=42)"
            ]
          },
          "metadata": {},
          "execution_count": 57
        }
      ],
      "source": [
        "avd = RandomForestClassifier(criterion='gini', random_state=42)\n",
        "avd.fit(x_train, y_train)"
      ]
    },
    {
      "cell_type": "code",
      "execution_count": 58,
      "metadata": {
        "colab": {
          "base_uri": "https://localhost:8080/"
        },
        "id": "iebnuR1u6nK3",
        "outputId": "275d52a3-a4e0-4dfe-acca-7d0441b8e628"
      },
      "outputs": [
        {
          "output_type": "execute_result",
          "data": {
            "text/plain": [
              "array([1., 1., 1., ..., 0., 0., 0.])"
            ]
          },
          "metadata": {},
          "execution_count": 58
        }
      ],
      "source": [
        "y_pred_avd = avd.predict(x_test)\n",
        "y_pred_avd"
      ]
    },
    {
      "cell_type": "markdown",
      "metadata": {
        "id": "KPWvOXEq6nK3"
      },
      "source": [
        "####Métricas"
      ]
    },
    {
      "cell_type": "markdown",
      "metadata": {
        "id": "jbXLqiYJ6nK3"
      },
      "source": [
        "Acurácia"
      ]
    },
    {
      "cell_type": "code",
      "execution_count": 59,
      "metadata": {
        "colab": {
          "base_uri": "https://localhost:8080/"
        },
        "id": "vLv09CdP6nK3",
        "outputId": "9676f24f-5997-4bba-a725-676829d80067"
      },
      "outputs": [
        {
          "output_type": "execute_result",
          "data": {
            "text/plain": [
              "0.9815741338497955"
            ]
          },
          "metadata": {},
          "execution_count": 59
        }
      ],
      "source": [
        "accuracy_score(y_test, y_pred_avd)"
      ]
    },
    {
      "cell_type": "markdown",
      "metadata": {
        "id": "KLyoD-Ph6nK3"
      },
      "source": [
        "Precisão"
      ]
    },
    {
      "cell_type": "code",
      "execution_count": 60,
      "metadata": {
        "colab": {
          "base_uri": "https://localhost:8080/"
        },
        "id": "F6cb1avW6nK3",
        "outputId": "e84a68b9-9bb9-45c0-fc52-2498a97a147d"
      },
      "outputs": [
        {
          "output_type": "execute_result",
          "data": {
            "text/plain": [
              "0.9690138662948331"
            ]
          },
          "metadata": {},
          "execution_count": 60
        }
      ],
      "source": [
        "precision_score(y_test, y_pred_avd)"
      ]
    },
    {
      "cell_type": "markdown",
      "metadata": {
        "id": "Z1sKibf56nK3"
      },
      "source": [
        "Recall"
      ]
    },
    {
      "cell_type": "code",
      "execution_count": 61,
      "metadata": {
        "colab": {
          "base_uri": "https://localhost:8080/"
        },
        "id": "AN6edVc_6nK4",
        "outputId": "4b7a3388-3642-4617-b874-81cf6538b01d"
      },
      "outputs": [
        {
          "output_type": "execute_result",
          "data": {
            "text/plain": [
              "0.9777239330936376"
            ]
          },
          "metadata": {},
          "execution_count": 61
        }
      ],
      "source": [
        "recall_score(y_test, y_pred_avd)"
      ]
    },
    {
      "cell_type": "markdown",
      "metadata": {
        "id": "eJq4srAV6nK4"
      },
      "source": [
        "####Matriz de confusão"
      ]
    },
    {
      "cell_type": "code",
      "execution_count": 62,
      "metadata": {
        "colab": {
          "base_uri": "https://localhost:8080/",
          "height": 0
        },
        "id": "07ACNegH6nK4",
        "outputId": "51ebb89a-a8f7-4f25-ab3d-f50f8aede216"
      },
      "outputs": [
        {
          "output_type": "execute_result",
          "data": {
            "text/plain": [
              "<sklearn.metrics._plot.confusion_matrix.ConfusionMatrixDisplay at 0x7fec419f04d0>"
            ]
          },
          "metadata": {},
          "execution_count": 62
        },
        {
          "output_type": "display_data",
          "data": {
            "text/plain": [
              "<Figure size 432x288 with 2 Axes>"
            ],
            "image/png": "[encoded data removed]"
          },
          "metadata": {
            "needs_background": "light"
          }
        }
      ],
      "source": [
        "plot_confusion_matrix(avd,x_test,y_test, cmap='Blues')"
      ]
    },
    {
      "cell_type": "code",
      "execution_count": 63,
      "metadata": {
        "colab": {
          "base_uri": "https://localhost:8080/"
        },
        "id": "L9vYTxgY6nK4",
        "outputId": "23afe15f-bd29-4f47-cb1c-3af1179b514e"
      },
      "outputs": [
        {
          "output_type": "execute_result",
          "data": {
            "text/plain": [
              "RandomForestClassifier()"
            ]
          },
          "metadata": {},
          "execution_count": 63
        }
      ],
      "source": [
        "rdf = RandomForestClassifier()\n",
        "rdf.fit(x_train, y_train)\n"
      ]
    },
    {
      "cell_type": "code",
      "execution_count": 64,
      "metadata": {
        "id": "gHjTlQ9i6nK4"
      },
      "outputs": [],
      "source": [
        "y_pred_rdf = rdf.predict(x_test)"
      ]
    },
    {
      "cell_type": "markdown",
      "metadata": {
        "id": "fdAtfCPv6nUy"
      },
      "source": [
        "###Random Forest PARÂMETRO 3"
      ]
    },
    {
      "cell_type": "code",
      "execution_count": 65,
      "metadata": {
        "colab": {
          "base_uri": "https://localhost:8080/"
        },
        "id": "cjgV1K1a6nUz",
        "outputId": "b6db6173-b20c-4721-bb8b-a9e9f871ef5c"
      },
      "outputs": [
        {
          "output_type": "execute_result",
          "data": {
            "text/plain": [
              "RandomForestClassifier(criterion='entropy', random_state=42)"
            ]
          },
          "metadata": {},
          "execution_count": 65
        }
      ],
      "source": [
        "avd = RandomForestClassifier(criterion='entropy', max_features='auto', random_state=42)\n",
        "avd.fit(x_train, y_train)"
      ]
    },
    {
      "cell_type": "code",
      "execution_count": 66,
      "metadata": {
        "colab": {
          "base_uri": "https://localhost:8080/"
        },
        "id": "jTSI1m476nUz",
        "outputId": "97efcf65-c895-4739-8a06-dee92d6866e2"
      },
      "outputs": [
        {
          "output_type": "execute_result",
          "data": {
            "text/plain": [
              "array([1., 1., 1., ..., 0., 0., 0.])"
            ]
          },
          "metadata": {},
          "execution_count": 66
        }
      ],
      "source": [
        "y_pred_avd = avd.predict(x_test)\n",
        "y_pred_avd"
      ]
    },
    {
      "cell_type": "markdown",
      "metadata": {
        "id": "WvjnI00K6nUz"
      },
      "source": [
        "####Métricas"
      ]
    },
    {
      "cell_type": "markdown",
      "metadata": {
        "id": "myxuf3H26nUz"
      },
      "source": [
        "Acurácia"
      ]
    },
    {
      "cell_type": "code",
      "execution_count": 67,
      "metadata": {
        "colab": {
          "base_uri": "https://localhost:8080/"
        },
        "id": "bXRbY2Rp6nUz",
        "outputId": "9847512a-27a0-49e1-97d9-cb62297ce58b"
      },
      "outputs": [
        {
          "output_type": "execute_result",
          "data": {
            "text/plain": [
              "0.981332042177749"
            ]
          },
          "metadata": {},
          "execution_count": 67
        }
      ],
      "source": [
        "accuracy_score(y_test, y_pred_avd)"
      ]
    },
    {
      "cell_type": "markdown",
      "metadata": {
        "id": "SSA9Sw_Y6nUz"
      },
      "source": [
        "Precisão"
      ]
    },
    {
      "cell_type": "code",
      "execution_count": 68,
      "metadata": {
        "colab": {
          "base_uri": "https://localhost:8080/"
        },
        "id": "3ZcVe3FG6nUz",
        "outputId": "66f39156-8696-4a9e-9c90-2b7c4d14e568"
      },
      "outputs": [
        {
          "output_type": "execute_result",
          "data": {
            "text/plain": [
              "0.9690649713133819"
            ]
          },
          "metadata": {},
          "execution_count": 68
        }
      ],
      "source": [
        "precision_score(y_test, y_pred_avd)"
      ]
    },
    {
      "cell_type": "markdown",
      "metadata": {
        "id": "Ivuc7l196nUz"
      },
      "source": [
        "Recall"
      ]
    },
    {
      "cell_type": "code",
      "execution_count": 69,
      "metadata": {
        "colab": {
          "base_uri": "https://localhost:8080/"
        },
        "id": "1UcYDLU46nUz",
        "outputId": "371aeb2c-0d44-4177-c770-ba5e5c16f4c6"
      },
      "outputs": [
        {
          "output_type": "execute_result",
          "data": {
            "text/plain": [
              "0.9769423167109582"
            ]
          },
          "metadata": {},
          "execution_count": 69
        }
      ],
      "source": [
        "recall_score(y_test, y_pred_avd)"
      ]
    },
    {
      "cell_type": "markdown",
      "metadata": {
        "id": "TVfMGjnB6nU0"
      },
      "source": [
        "####Matriz de confusão"
      ]
    },
    {
      "cell_type": "code",
      "execution_count": 70,
      "metadata": {
        "colab": {
          "base_uri": "https://localhost:8080/",
          "height": 0
        },
        "id": "6L7H2FBo6nU0",
        "outputId": "72312e00-2d82-420b-ec53-5dbe20e188c6"
      },
      "outputs": [
        {
          "output_type": "execute_result",
          "data": {
            "text/plain": [
              "<sklearn.metrics._plot.confusion_matrix.ConfusionMatrixDisplay at 0x7fec41cf10d0>"
            ]
          },
          "metadata": {},
          "execution_count": 70
        },
        {
          "output_type": "display_data",
          "data": {
            "text/plain": [
              "<Figure size 432x288 with 2 Axes>"
            ],
            "image/png": "[encoded data removed]"
          },
          "metadata": {
            "needs_background": "light"
          }
        }
      ],
      "source": [
        "plot_confusion_matrix(avd,x_test,y_test, cmap='Blues')"
      ]
    },
    {
      "cell_type": "code",
      "execution_count": 71,
      "metadata": {
        "colab": {
          "base_uri": "https://localhost:8080/"
        },
        "id": "VveIDKZz6nU0",
        "outputId": "28b4f02c-fbc1-4b94-ccc7-9a7e4406a98b"
      },
      "outputs": [
        {
          "output_type": "execute_result",
          "data": {
            "text/plain": [
              "RandomForestClassifier()"
            ]
          },
          "metadata": {},
          "execution_count": 71
        }
      ],
      "source": [
        "rdf = RandomForestClassifier()\n",
        "rdf.fit(x_train, y_train)\n"
      ]
    },
    {
      "cell_type": "code",
      "execution_count": 72,
      "metadata": {
        "id": "ltu98iir6nU0"
      },
      "outputs": [],
      "source": [
        "y_pred_rdf = rdf.predict(x_test)"
      ]
    },
    {
      "cell_type": "markdown",
      "metadata": {
        "id": "nPITtQYV6nfY"
      },
      "source": [
        "###Random Forest PARÂMETRO 4"
      ]
    },
    {
      "cell_type": "code",
      "execution_count": 73,
      "metadata": {
        "colab": {
          "base_uri": "https://localhost:8080/"
        },
        "id": "Z7nZlfOV6nfZ",
        "outputId": "0535ac91-80ad-4a0c-b2cc-3d3f2fbd8a6d"
      },
      "outputs": [
        {
          "output_type": "execute_result",
          "data": {
            "text/plain": [
              "RandomForestClassifier(criterion='entropy', max_features='sqrt',\n",
              "                       random_state=42)"
            ]
          },
          "metadata": {},
          "execution_count": 73
        }
      ],
      "source": [
        "avd = RandomForestClassifier(criterion='entropy', max_features='sqrt', random_state=42)\n",
        "avd.fit(x_train, y_train)"
      ]
    },
    {
      "cell_type": "code",
      "execution_count": 74,
      "metadata": {
        "colab": {
          "base_uri": "https://localhost:8080/"
        },
        "id": "mHjb5P7F6nfZ",
        "outputId": "b3a1e391-6335-4015-eebb-553d70829227"
      },
      "outputs": [
        {
          "output_type": "execute_result",
          "data": {
            "text/plain": [
              "array([1., 1., 1., ..., 0., 0., 0.])"
            ]
          },
          "metadata": {},
          "execution_count": 74
        }
      ],
      "source": [
        "y_pred_avd = avd.predict(x_test)\n",
        "y_pred_avd"
      ]
    },
    {
      "cell_type": "markdown",
      "metadata": {
        "id": "jLkrMDH76nfZ"
      },
      "source": [
        "####Métricas"
      ]
    },
    {
      "cell_type": "markdown",
      "metadata": {
        "id": "KWMK1QrQ6nfa"
      },
      "source": [
        "Acurácia"
      ]
    },
    {
      "cell_type": "code",
      "execution_count": 75,
      "metadata": {
        "colab": {
          "base_uri": "https://localhost:8080/"
        },
        "id": "VnZpTgFz6nfa",
        "outputId": "fefca6c1-d74a-4cf8-9f91-ec00aed4d2db"
      },
      "outputs": [
        {
          "output_type": "execute_result",
          "data": {
            "text/plain": [
              "0.981332042177749"
            ]
          },
          "metadata": {},
          "execution_count": 75
        }
      ],
      "source": [
        "accuracy_score(y_test, y_pred_avd)"
      ]
    },
    {
      "cell_type": "markdown",
      "metadata": {
        "id": "lErj8qT36nfa"
      },
      "source": [
        "Precisão"
      ]
    },
    {
      "cell_type": "code",
      "execution_count": 76,
      "metadata": {
        "colab": {
          "base_uri": "https://localhost:8080/"
        },
        "id": "aCzm9M1I6nfa",
        "outputId": "c1677d01-d13f-4f5c-8d43-1427f6a7983e"
      },
      "outputs": [
        {
          "output_type": "execute_result",
          "data": {
            "text/plain": [
              "0.9690649713133819"
            ]
          },
          "metadata": {},
          "execution_count": 76
        }
      ],
      "source": [
        "precision_score(y_test, y_pred_avd)"
      ]
    },
    {
      "cell_type": "markdown",
      "metadata": {
        "id": "-lrQ7xRR6nfb"
      },
      "source": [
        "Recall"
      ]
    },
    {
      "cell_type": "code",
      "execution_count": 77,
      "metadata": {
        "colab": {
          "base_uri": "https://localhost:8080/"
        },
        "id": "MGqs2myD6nfb",
        "outputId": "47b5d968-2ff2-4636-d542-7fb95137ac72"
      },
      "outputs": [
        {
          "output_type": "execute_result",
          "data": {
            "text/plain": [
              "0.9769423167109582"
            ]
          },
          "metadata": {},
          "execution_count": 77
        }
      ],
      "source": [
        "recall_score(y_test, y_pred_avd)"
      ]
    },
    {
      "cell_type": "markdown",
      "metadata": {
        "id": "pvHpfJtH6nfb"
      },
      "source": [
        "####Matriz de confusão"
      ]
    },
    {
      "cell_type": "code",
      "execution_count": 78,
      "metadata": {
        "colab": {
          "base_uri": "https://localhost:8080/",
          "height": 0
        },
        "id": "EKAHXhBd6nfc",
        "outputId": "3e558098-eac5-4b0a-d30b-4f7bffa22062"
      },
      "outputs": [
        {
          "output_type": "execute_result",
          "data": {
            "text/plain": [
              "<sklearn.metrics._plot.confusion_matrix.ConfusionMatrixDisplay at 0x7fec418365d0>"
            ]
          },
          "metadata": {},
          "execution_count": 78
        },
        {
          "output_type": "display_data",
          "data": {
            "text/plain": [
              "<Figure size 432x288 with 2 Axes>"
            ],
            "image/png": "[encoded data removed]"
          },
          "metadata": {
            "needs_background": "light"
          }
        }
      ],
      "source": [
        "plot_confusion_matrix(avd,x_test,y_test, cmap='Blues')"
      ]
    },
    {
      "cell_type": "code",
      "execution_count": 79,
      "metadata": {
        "colab": {
          "base_uri": "https://localhost:8080/"
        },
        "id": "9Z3Vk2Y46nfc",
        "outputId": "dc33f1c7-1ce3-438a-bd8e-a147618abdc7"
      },
      "outputs": [
        {
          "output_type": "execute_result",
          "data": {
            "text/plain": [
              "RandomForestClassifier()"
            ]
          },
          "metadata": {},
          "execution_count": 79
        }
      ],
      "source": [
        "rdf = RandomForestClassifier()\n",
        "rdf.fit(x_train, y_train)\n"
      ]
    },
    {
      "cell_type": "code",
      "execution_count": 80,
      "metadata": {
        "id": "MGXw740w6nfc"
      },
      "outputs": [],
      "source": [
        "y_pred_rdf = rdf.predict(x_test)"
      ]
    },
    {
      "cell_type": "markdown",
      "metadata": {
        "id": "c6Rj7hc_5pea"
      },
      "source": [
        "###Random Forest PARÂMETRO 5"
      ]
    },
    {
      "cell_type": "code",
      "execution_count": 81,
      "metadata": {
        "colab": {
          "base_uri": "https://localhost:8080/"
        },
        "id": "1D69JQhA5pei",
        "outputId": "d10f7666-9a54-41db-ce8b-c9da71727314"
      },
      "outputs": [
        {
          "output_type": "execute_result",
          "data": {
            "text/plain": [
              "RandomForestClassifier(criterion='entropy', max_features='log2',\n",
              "                       random_state=42)"
            ]
          },
          "metadata": {},
          "execution_count": 81
        }
      ],
      "source": [
        "avd = RandomForestClassifier(criterion='entropy', max_features='log2', random_state=42)\n",
        "avd.fit(x_train, y_train)"
      ]
    },
    {
      "cell_type": "code",
      "execution_count": 82,
      "metadata": {
        "colab": {
          "base_uri": "https://localhost:8080/"
        },
        "id": "10e3-9U05pej",
        "outputId": "1ae48118-98bc-48f1-b9f5-001abbf363a8"
      },
      "outputs": [
        {
          "output_type": "execute_result",
          "data": {
            "text/plain": [
              "array([1., 1., 1., ..., 0., 0., 0.])"
            ]
          },
          "metadata": {},
          "execution_count": 82
        }
      ],
      "source": [
        "y_pred_avd = avd.predict(x_test)\n",
        "y_pred_avd"
      ]
    },
    {
      "cell_type": "markdown",
      "metadata": {
        "id": "igc19dU_5pej"
      },
      "source": [
        "####Métricas"
      ]
    },
    {
      "cell_type": "markdown",
      "metadata": {
        "id": "dCEgAn8w5pej"
      },
      "source": [
        "Acurácia"
      ]
    },
    {
      "cell_type": "code",
      "execution_count": 83,
      "metadata": {
        "colab": {
          "base_uri": "https://localhost:8080/"
        },
        "id": "qbbh2s-H5pej",
        "outputId": "8612fbbf-e79d-459f-e9ef-1c7b3447f44a"
      },
      "outputs": [
        {
          "output_type": "execute_result",
          "data": {
            "text/plain": [
              "0.981332042177749"
            ]
          },
          "metadata": {},
          "execution_count": 83
        }
      ],
      "source": [
        "accuracy_score(y_test, y_pred_avd)"
      ]
    },
    {
      "cell_type": "markdown",
      "metadata": {
        "id": "rfZC_FaF5pej"
      },
      "source": [
        "Precisão"
      ]
    },
    {
      "cell_type": "code",
      "execution_count": 84,
      "metadata": {
        "colab": {
          "base_uri": "https://localhost:8080/"
        },
        "id": "EyxjrAZi5pej",
        "outputId": "3fc5b4c7-1377-490f-ab48-1350c82415b6"
      },
      "outputs": [
        {
          "output_type": "execute_result",
          "data": {
            "text/plain": [
              "0.9690649713133819"
            ]
          },
          "metadata": {},
          "execution_count": 84
        }
      ],
      "source": [
        "precision_score(y_test, y_pred_avd)"
      ]
    },
    {
      "cell_type": "markdown",
      "metadata": {
        "id": "iMJt9Rtr5pej"
      },
      "source": [
        "Recall"
      ]
    },
    {
      "cell_type": "code",
      "execution_count": 85,
      "metadata": {
        "colab": {
          "base_uri": "https://localhost:8080/"
        },
        "id": "93yh5OsQ5pek",
        "outputId": "8a1ff68d-8064-4053-ea2f-96ac8c568f66"
      },
      "outputs": [
        {
          "output_type": "execute_result",
          "data": {
            "text/plain": [
              "0.9769423167109582"
            ]
          },
          "metadata": {},
          "execution_count": 85
        }
      ],
      "source": [
        "recall_score(y_test, y_pred_avd)"
      ]
    },
    {
      "cell_type": "markdown",
      "metadata": {
        "id": "pY1flUnf5pek"
      },
      "source": [
        "####Matriz de confusão"
      ]
    },
    {
      "cell_type": "code",
      "execution_count": 86,
      "metadata": {
        "colab": {
          "base_uri": "https://localhost:8080/",
          "height": 296
        },
        "id": "JixBXl1C5pek",
        "outputId": "b145fbdb-9ad6-4408-ac15-c78353eacb1f"
      },
      "outputs": [
        {
          "output_type": "execute_result",
          "data": {
            "text/plain": [
              "<sklearn.metrics._plot.confusion_matrix.ConfusionMatrixDisplay at 0x7fec417152d0>"
            ]
          },
          "metadata": {},
          "execution_count": 86
        },
        {
          "output_type": "display_data",
          "data": {
            "text/plain": [
              "<Figure size 432x288 with 2 Axes>"
            ],
            "image/png": "[encoded data removed]"
          },
          "metadata": {
            "needs_background": "light"
          }
        }
      ],
      "source": [
        "plot_confusion_matrix(avd,x_test,y_test, cmap='Blues')"
      ]
    },
    {
      "cell_type": "code",
      "execution_count": 87,
      "metadata": {
        "colab": {
          "base_uri": "https://localhost:8080/"
        },
        "id": "PYI_gLXAQ5rs",
        "outputId": "77ddf713-b746-44fe-8885-6ad943ea6333"
      },
      "outputs": [
        {
          "output_type": "execute_result",
          "data": {
            "text/plain": [
              "RandomForestClassifier()"
            ]
          },
          "metadata": {},
          "execution_count": 87
        }
      ],
      "source": [
        "rdf = RandomForestClassifier()\n",
        "rdf.fit(x_train, y_train)\n"
      ]
    },
    {
      "cell_type": "code",
      "execution_count": 88,
      "metadata": {
        "id": "Z-SN0VCyRAyd"
      },
      "outputs": [],
      "source": [
        "y_pred_rdf = rdf.predict(x_test)"
      ]
    },
    {
      "cell_type": "markdown",
      "metadata": {
        "id": "z5J26a_dje94"
      },
      "source": [
        "#Hiperparâmetros: automatizados"
      ]
    },
    {
      "cell_type": "markdown",
      "metadata": {
        "id": "SsKpBVOrklzA"
      },
      "source": [
        "##Árvore de decisão"
      ]
    },
    {
      "cell_type": "markdown",
      "metadata": {
        "id": "sUEGwpyElaQG"
      },
      "source": [
        "###GridSearch"
      ]
    },
    {
      "cell_type": "code",
      "execution_count": 89,
      "metadata": {
        "id": "UFSXxQlIlaQH",
        "colab": {
          "base_uri": "https://localhost:8080/"
        },
        "outputId": "e279a9ce-41ff-4e24-c74b-f0215e6d682d"
      },
      "outputs": [
        {
          "output_type": "execute_result",
          "data": {
            "text/plain": [
              "GridSearchCV(estimator=DecisionTreeClassifier(),\n",
              "             param_grid={'criterion': ['gini', 'entropy', 'log_loss'],\n",
              "                         'splitter': ['best', 'random']})"
            ]
          },
          "metadata": {},
          "execution_count": 89
        }
      ],
      "source": [
        "# Definir o espaço possível dos hiperparametros a serem testados no modelo\n",
        "parametros = {'criterion': ['gini', 'entropy', 'log_loss'],\n",
        "              'splitter': ['best', 'random']}\n",
        "\n",
        "\n",
        "grid_search = GridSearchCV(estimator = DecisionTreeClassifier(), param_grid=parametros)\n",
        "grid_search.fit(x_train, y_train.squeeze())"
      ]
    },
    {
      "cell_type": "code",
      "execution_count": 90,
      "metadata": {
        "id": "qq3X3yuglaQI",
        "colab": {
          "base_uri": "https://localhost:8080/"
        },
        "outputId": "40f9c62f-2269-4caf-adf4-edaaf3270c2a"
      },
      "outputs": [
        {
          "output_type": "stream",
          "name": "stdout",
          "text": [
            "0.9786354116113001\n",
            "{'criterion': 'entropy', 'splitter': 'best'}\n"
          ]
        }
      ],
      "source": [
        "print(grid_search.best_score_)\n",
        "print(grid_search.best_params_)"
      ]
    },
    {
      "cell_type": "code",
      "execution_count": 91,
      "metadata": {
        "id": "If50Kq2GlaQI",
        "colab": {
          "base_uri": "https://localhost:8080/"
        },
        "outputId": "f02aba01-0bd1-42bf-e427-013adae2f31c"
      },
      "outputs": [
        {
          "output_type": "execute_result",
          "data": {
            "text/plain": [
              "DecisionTreeClassifier(criterion='entropy')"
            ]
          },
          "metadata": {},
          "execution_count": 91
        }
      ],
      "source": [
        "knn_best = grid_search.best_estimator_\n",
        "knn_best"
      ]
    },
    {
      "cell_type": "code",
      "execution_count": 92,
      "metadata": {
        "id": "1vu4oqpWlaQJ",
        "colab": {
          "base_uri": "https://localhost:8080/"
        },
        "outputId": "6f4aeef6-7b2e-4296-bcff-d186eb40e655"
      },
      "outputs": [
        {
          "output_type": "stream",
          "name": "stdout",
          "text": [
            "Acc treino:  0.9999193027759845\n",
            "Acc teste:  0.9790187217559716\n",
            "Revocação:  0.9700640925433797\n",
            "Precisão:  0.9690037476577139\n"
          ]
        }
      ],
      "source": [
        "y_pred = knn_best.predict(x_test)\n",
        "print('Acc treino: ', knn_best.score(x_train, y_train ))\n",
        "print('Acc teste: ', knn_best.score(x_test, y_test.squeeze() ))\n",
        "print( 'Revocação: ', recall_score( y_test, y_pred ))\n",
        "print( 'Precisão: ', precision_score( y_test, y_pred ))"
      ]
    },
    {
      "cell_type": "markdown",
      "source": [
        "###RandomSearch"
      ],
      "metadata": {
        "id": "jecrXYseSScb"
      }
    },
    {
      "cell_type": "code",
      "source": [
        "# Definir o espaço possível dos hiperparametros a serem testados no modelo\n",
        "parametros = {'criterion': ['gini', 'entropy', 'log_loss'],\n",
        "              'splitter': ['best', 'random']}\n",
        "\n",
        "\n",
        "random_search = RandomizedSearchCV(estimator = DecisionTreeClassifier(), param_distributions=parametros)\n",
        "random_search.fit(x_train, y_train.squeeze())"
      ],
      "metadata": {
        "colab": {
          "base_uri": "https://localhost:8080/"
        },
        "id": "wK-miw4aSe1F",
        "outputId": "4a1c4636-dd88-49db-ec70-56c222d2690d"
      },
      "execution_count": 93,
      "outputs": [
        {
          "output_type": "execute_result",
          "data": {
            "text/plain": [
              "RandomizedSearchCV(estimator=DecisionTreeClassifier(),\n",
              "                   param_distributions={'criterion': ['gini', 'entropy',\n",
              "                                                      'log_loss'],\n",
              "                                        'splitter': ['best', 'random']})"
            ]
          },
          "metadata": {},
          "execution_count": 93
        }
      ]
    },
    {
      "cell_type": "code",
      "source": [
        "print(random_search.best_score_)\n",
        "print(random_search.best_params_)"
      ],
      "metadata": {
        "colab": {
          "base_uri": "https://localhost:8080/"
        },
        "id": "w0HYbnQxSp4v",
        "outputId": "d7f608ab-81b1-4278-f70e-ebe699756d33"
      },
      "execution_count": 94,
      "outputs": [
        {
          "output_type": "stream",
          "name": "stdout",
          "text": [
            "0.9787968022605925\n",
            "{'splitter': 'random', 'criterion': 'gini'}\n"
          ]
        }
      ]
    },
    {
      "cell_type": "code",
      "source": [
        "knn_best = random_search.best_estimator_\n",
        "knn_best"
      ],
      "metadata": {
        "colab": {
          "base_uri": "https://localhost:8080/"
        },
        "id": "OICfWIDiSria",
        "outputId": "2d17e777-eee9-4bbc-a116-8a2953292d37"
      },
      "execution_count": 95,
      "outputs": [
        {
          "output_type": "execute_result",
          "data": {
            "text/plain": [
              "DecisionTreeClassifier(splitter='random')"
            ]
          },
          "metadata": {},
          "execution_count": 95
        }
      ]
    },
    {
      "cell_type": "code",
      "source": [
        "y_pred = knn_best.predict(x_test)\n",
        "print('Acc treino: ', knn_best.score(x_train, y_train ))\n",
        "print('Acc teste: ', knn_best.score(x_test, y_test.squeeze() ))\n",
        "print( 'Revocação: ', recall_score( y_test, y_pred ))"
      ],
      "metadata": {
        "colab": {
          "base_uri": "https://localhost:8080/"
        },
        "id": "X7twlOAaStVJ",
        "outputId": "9932eeb9-d622-4631-c924-6472e7fc4012"
      },
      "execution_count": 96,
      "outputs": [
        {
          "output_type": "stream",
          "name": "stdout",
          "text": [
            "Acc treino:  0.9999193027759845\n",
            "Acc teste:  0.9778620615450828\n",
            "Revocação:  0.9657652024386432\n"
          ]
        }
      ]
    },
    {
      "cell_type": "markdown",
      "metadata": {
        "id": "vd1OW3M2ksd1"
      },
      "source": [
        "##Random Forest"
      ]
    },
    {
      "cell_type": "markdown",
      "metadata": {
        "id": "At3cp9hKRWvP"
      },
      "source": [
        "###GridSearch"
      ]
    },
    {
      "cell_type": "code",
      "execution_count": 97,
      "metadata": {
        "colab": {
          "base_uri": "https://localhost:8080/"
        },
        "outputId": "37a1a408-cb86-406f-b820-854cb4fae0cc",
        "id": "LzAwwP2jRWvQ"
      },
      "outputs": [
        {
          "output_type": "execute_result",
          "data": {
            "text/plain": [
              "GridSearchCV(estimator=RandomForestClassifier(),\n",
              "             param_grid={'criterion': ['gini', 'entropy', 'log_loss'],\n",
              "                         'max_depth': [10, 20, 30],\n",
              "                         'n_estimators': [10, 20, 40]})"
            ]
          },
          "metadata": {},
          "execution_count": 97
        }
      ],
      "source": [
        "# Definir o espaço possível dos hiperparametros a serem testados no modelo\n",
        "parametros = {'n_estimators': [10, 20, 40],\n",
        "              'criterion': ['gini', 'entropy', 'log_loss'],\n",
        "               'max_depth': [10,20,30]}\n",
        "\n",
        "\n",
        "\n",
        "grid_search = GridSearchCV(estimator = RandomForestClassifier(), param_grid=parametros)\n",
        "grid_search.fit(x_train, y_train.squeeze())"
      ]
    },
    {
      "cell_type": "code",
      "execution_count": 98,
      "metadata": {
        "colab": {
          "base_uri": "https://localhost:8080/"
        },
        "outputId": "b74fe334-9dee-48f7-f4ce-642698062890",
        "id": "lj7bHMuzRWvS"
      },
      "outputs": [
        {
          "output_type": "stream",
          "name": "stdout",
          "text": [
            "0.9885947975829978\n",
            "{'criterion': 'entropy', 'max_depth': 10, 'n_estimators': 40}\n"
          ]
        }
      ],
      "source": [
        "print(grid_search.best_score_)\n",
        "print(grid_search.best_params_)"
      ]
    },
    {
      "cell_type": "code",
      "execution_count": 99,
      "metadata": {
        "colab": {
          "base_uri": "https://localhost:8080/"
        },
        "outputId": "d4a049ac-a054-4281-831d-80d953c16352",
        "id": "UnAdSJJSRWvT"
      },
      "outputs": [
        {
          "output_type": "execute_result",
          "data": {
            "text/plain": [
              "RandomForestClassifier(criterion='entropy', max_depth=10, n_estimators=40)"
            ]
          },
          "metadata": {},
          "execution_count": 99
        }
      ],
      "source": [
        "knn_best = grid_search.best_estimator_\n",
        "knn_best"
      ]
    },
    {
      "cell_type": "code",
      "execution_count": 100,
      "metadata": {
        "colab": {
          "base_uri": "https://localhost:8080/"
        },
        "outputId": "0c0d82be-6471-41d8-d937-a529451c2d38",
        "id": "nlmLilCWRWvU"
      },
      "outputs": [
        {
          "output_type": "stream",
          "name": "stdout",
          "text": [
            "Acc treino:  0.9886687647944911\n",
            "Acc teste:  0.9883795997417689\n",
            "Revocação:  0.9999218383617321\n"
          ]
        }
      ],
      "source": [
        "y_pred = knn_best.predict(x_test)\n",
        "print('Acc treino: ', knn_best.score(x_train, y_train ))\n",
        "print('Acc teste: ', knn_best.score(x_test, y_test.squeeze() ))\n",
        "print( 'Revocação: ', recall_score( y_test, y_pred ))"
      ]
    },
    {
      "cell_type": "markdown",
      "metadata": {
        "id": "Msg8sD56lbcC"
      },
      "source": [
        "###RandomSearch"
      ]
    },
    {
      "cell_type": "code",
      "execution_count": 115,
      "metadata": {
        "id": "V0I6GCRHlbcD",
        "colab": {
          "base_uri": "https://localhost:8080/"
        },
        "outputId": "3849818e-59ca-4c08-9065-58ad41ef733c"
      },
      "outputs": [
        {
          "output_type": "execute_result",
          "data": {
            "text/plain": [
              "RandomizedSearchCV(estimator=RandomForestClassifier(),\n",
              "                   param_distributions={'criterion': ['gini', 'entropy',\n",
              "                                                      'log_loss'],\n",
              "                                        'max_depth': [10, 20, 30],\n",
              "                                        'n_estimators': [10, 20, 40]})"
            ]
          },
          "metadata": {},
          "execution_count": 115
        }
      ],
      "source": [
        "# Definir o espaço possível dos hiperparametros a serem testados no modelo\n",
        "parametros = {'n_estimators': [10, 20, 40],\n",
        "              'criterion': ['gini', 'entropy', 'log_loss'],\n",
        "               'max_depth': [10,20,30]}\n",
        "\n",
        "\n",
        "\n",
        "random_search = RandomizedSearchCV(estimator = RandomForestClassifier(), param_distributions=parametros)\n",
        "random_search.fit(x_train, y_train.squeeze())"
      ]
    },
    {
      "cell_type": "code",
      "execution_count": 116,
      "metadata": {
        "id": "vihlTpKClbcE",
        "colab": {
          "base_uri": "https://localhost:8080/"
        },
        "outputId": "f8cbf294-09d3-4630-bab3-49aaf8d18a7b"
      },
      "outputs": [
        {
          "output_type": "stream",
          "name": "stdout",
          "text": [
            "0.9884603010790286\n",
            "{'n_estimators': 20, 'max_depth': 30, 'criterion': 'entropy'}\n"
          ]
        }
      ],
      "source": [
        "print(random_search.best_score_)\n",
        "print(random_search.best_params_)"
      ]
    },
    {
      "cell_type": "code",
      "execution_count": 117,
      "metadata": {
        "id": "J_EiUR2dlbcE",
        "colab": {
          "base_uri": "https://localhost:8080/"
        },
        "outputId": "93be3033-9435-4790-8ae0-e3474479f1cc"
      },
      "outputs": [
        {
          "output_type": "execute_result",
          "data": {
            "text/plain": [
              "RandomForestClassifier(criterion='entropy', max_depth=30, n_estimators=20)"
            ]
          },
          "metadata": {},
          "execution_count": 117
        }
      ],
      "source": [
        "knn_best = random_search.best_estimator_\n",
        "knn_best"
      ]
    },
    {
      "cell_type": "code",
      "execution_count": 118,
      "metadata": {
        "id": "LELP6OMMlbcF",
        "colab": {
          "base_uri": "https://localhost:8080/"
        },
        "outputId": "5e54db7a-4994-4b58-f75c-b3f330eb8a6e"
      },
      "outputs": [
        {
          "output_type": "stream",
          "name": "stdout",
          "text": [
            "Acc treino:  0.9885006455777922\n",
            "Acc teste:  0.9881375080697224\n",
            "Revocação:  0.9996091918086603\n"
          ]
        }
      ],
      "source": [
        "y_pred = knn_best.predict(x_test)\n",
        "print('Acc treino: ', knn_best.score(x_train, y_train ))\n",
        "print('Acc teste: ', knn_best.score(x_test, y_test.squeeze() ))\n",
        "print( 'Revocação: ', recall_score( y_test, y_pred ))"
      ]
    },
    {
      "cell_type": "markdown",
      "metadata": {
        "id": "TsS1kmyrkvar"
      },
      "source": [
        "##Naive Bayes"
      ]
    },
    {
      "cell_type": "markdown",
      "metadata": {
        "id": "gDvFXLpYlcOe"
      },
      "source": [
        "###GridSearch"
      ]
    },
    {
      "cell_type": "code",
      "execution_count": 105,
      "metadata": {
        "id": "QtCncQsclcOe",
        "colab": {
          "base_uri": "https://localhost:8080/",
          "height": 0
        },
        "outputId": "b1dbafb1-346e-436b-8a1f-990273592ed1"
      },
      "outputs": [
        {
          "output_type": "error",
          "ename": "ValueError",
          "evalue": "ignored",
          "traceback": [
            "\u001b[0;31m---------------------------------------------------------------------------\u001b[0m",
            "\u001b[0;31mValueError\u001b[0m                                Traceback (most recent call last)",
            "\u001b[0;32m<ipython-input-105-7944d374f885>\u001b[0m in \u001b[0;36m<module>\u001b[0;34m\u001b[0m\n\u001b[1;32m      7\u001b[0m \u001b[0;34m\u001b[0m\u001b[0m\n\u001b[1;32m      8\u001b[0m \u001b[0mgrid_search\u001b[0m \u001b[0;34m=\u001b[0m \u001b[0mGridSearchCV\u001b[0m\u001b[0;34m(\u001b[0m\u001b[0mestimator\u001b[0m \u001b[0;34m=\u001b[0m \u001b[0mGaussianNB\u001b[0m\u001b[0;34m(\u001b[0m\u001b[0;34m)\u001b[0m\u001b[0;34m,\u001b[0m \u001b[0mparam_grid\u001b[0m\u001b[0;34m=\u001b[0m\u001b[0mparametros\u001b[0m\u001b[0;34m)\u001b[0m\u001b[0;34m\u001b[0m\u001b[0;34m\u001b[0m\u001b[0m\n\u001b[0;32m----> 9\u001b[0;31m \u001b[0mgrid_search\u001b[0m\u001b[0;34m.\u001b[0m\u001b[0mfit\u001b[0m\u001b[0;34m(\u001b[0m\u001b[0mx_train\u001b[0m\u001b[0;34m,\u001b[0m \u001b[0my_train\u001b[0m\u001b[0;34m.\u001b[0m\u001b[0msqueeze\u001b[0m\u001b[0;34m(\u001b[0m\u001b[0;34m)\u001b[0m\u001b[0;34m)\u001b[0m\u001b[0;34m\u001b[0m\u001b[0;34m\u001b[0m\u001b[0m\n\u001b[0m",
            "\u001b[0;32m/usr/local/lib/python3.7/dist-packages/sklearn/model_selection/_search.py\u001b[0m in \u001b[0;36mfit\u001b[0;34m(self, X, y, groups, **fit_params)\u001b[0m\n\u001b[1;32m    889\u001b[0m                 \u001b[0;32mreturn\u001b[0m \u001b[0mresults\u001b[0m\u001b[0;34m\u001b[0m\u001b[0;34m\u001b[0m\u001b[0m\n\u001b[1;32m    890\u001b[0m \u001b[0;34m\u001b[0m\u001b[0m\n\u001b[0;32m--> 891\u001b[0;31m             \u001b[0mself\u001b[0m\u001b[0;34m.\u001b[0m\u001b[0m_run_search\u001b[0m\u001b[0;34m(\u001b[0m\u001b[0mevaluate_candidates\u001b[0m\u001b[0;34m)\u001b[0m\u001b[0;34m\u001b[0m\u001b[0;34m\u001b[0m\u001b[0m\n\u001b[0m\u001b[1;32m    892\u001b[0m \u001b[0;34m\u001b[0m\u001b[0m\n\u001b[1;32m    893\u001b[0m             \u001b[0;31m# multimetric is determined here because in the case of a callable\u001b[0m\u001b[0;34m\u001b[0m\u001b[0;34m\u001b[0m\u001b[0;34m\u001b[0m\u001b[0m\n",
            "\u001b[0;32m/usr/local/lib/python3.7/dist-packages/sklearn/model_selection/_search.py\u001b[0m in \u001b[0;36m_run_search\u001b[0;34m(self, evaluate_candidates)\u001b[0m\n\u001b[1;32m   1390\u001b[0m     \u001b[0;32mdef\u001b[0m \u001b[0m_run_search\u001b[0m\u001b[0;34m(\u001b[0m\u001b[0mself\u001b[0m\u001b[0;34m,\u001b[0m \u001b[0mevaluate_candidates\u001b[0m\u001b[0;34m)\u001b[0m\u001b[0;34m:\u001b[0m\u001b[0;34m\u001b[0m\u001b[0;34m\u001b[0m\u001b[0m\n\u001b[1;32m   1391\u001b[0m         \u001b[0;34m\"\"\"Search all candidates in param_grid\"\"\"\u001b[0m\u001b[0;34m\u001b[0m\u001b[0;34m\u001b[0m\u001b[0m\n\u001b[0;32m-> 1392\u001b[0;31m         \u001b[0mevaluate_candidates\u001b[0m\u001b[0;34m(\u001b[0m\u001b[0mParameterGrid\u001b[0m\u001b[0;34m(\u001b[0m\u001b[0mself\u001b[0m\u001b[0;34m.\u001b[0m\u001b[0mparam_grid\u001b[0m\u001b[0;34m)\u001b[0m\u001b[0;34m)\u001b[0m\u001b[0;34m\u001b[0m\u001b[0;34m\u001b[0m\u001b[0m\n\u001b[0m\u001b[1;32m   1393\u001b[0m \u001b[0;34m\u001b[0m\u001b[0m\n\u001b[1;32m   1394\u001b[0m \u001b[0;34m\u001b[0m\u001b[0m\n",
            "\u001b[0;32m/usr/local/lib/python3.7/dist-packages/sklearn/model_selection/_search.py\u001b[0m in \u001b[0;36mevaluate_candidates\u001b[0;34m(candidate_params, cv, more_results)\u001b[0m\n\u001b[1;32m    849\u001b[0m                     )\n\u001b[1;32m    850\u001b[0m                     for (cand_idx, parameters), (split_idx, (train, test)) in product(\n\u001b[0;32m--> 851\u001b[0;31m                         \u001b[0menumerate\u001b[0m\u001b[0;34m(\u001b[0m\u001b[0mcandidate_params\u001b[0m\u001b[0;34m)\u001b[0m\u001b[0;34m,\u001b[0m \u001b[0menumerate\u001b[0m\u001b[0;34m(\u001b[0m\u001b[0mcv\u001b[0m\u001b[0;34m.\u001b[0m\u001b[0msplit\u001b[0m\u001b[0;34m(\u001b[0m\u001b[0mX\u001b[0m\u001b[0;34m,\u001b[0m \u001b[0my\u001b[0m\u001b[0;34m,\u001b[0m \u001b[0mgroups\u001b[0m\u001b[0;34m)\u001b[0m\u001b[0;34m)\u001b[0m\u001b[0;34m\u001b[0m\u001b[0;34m\u001b[0m\u001b[0m\n\u001b[0m\u001b[1;32m    852\u001b[0m                     )\n\u001b[1;32m    853\u001b[0m                 )\n",
            "\u001b[0;32m/usr/local/lib/python3.7/dist-packages/joblib/parallel.py\u001b[0m in \u001b[0;36m__call__\u001b[0;34m(self, iterable)\u001b[0m\n\u001b[1;32m   1041\u001b[0m             \u001b[0;31m# remaining jobs.\u001b[0m\u001b[0;34m\u001b[0m\u001b[0;34m\u001b[0m\u001b[0;34m\u001b[0m\u001b[0m\n\u001b[1;32m   1042\u001b[0m             \u001b[0mself\u001b[0m\u001b[0;34m.\u001b[0m\u001b[0m_iterating\u001b[0m \u001b[0;34m=\u001b[0m \u001b[0;32mFalse\u001b[0m\u001b[0;34m\u001b[0m\u001b[0;34m\u001b[0m\u001b[0m\n\u001b[0;32m-> 1043\u001b[0;31m             \u001b[0;32mif\u001b[0m \u001b[0mself\u001b[0m\u001b[0;34m.\u001b[0m\u001b[0mdispatch_one_batch\u001b[0m\u001b[0;34m(\u001b[0m\u001b[0miterator\u001b[0m\u001b[0;34m)\u001b[0m\u001b[0;34m:\u001b[0m\u001b[0;34m\u001b[0m\u001b[0;34m\u001b[0m\u001b[0m\n\u001b[0m\u001b[1;32m   1044\u001b[0m                 \u001b[0mself\u001b[0m\u001b[0;34m.\u001b[0m\u001b[0m_iterating\u001b[0m \u001b[0;34m=\u001b[0m \u001b[0mself\u001b[0m\u001b[0;34m.\u001b[0m\u001b[0m_original_iterator\u001b[0m \u001b[0;32mis\u001b[0m \u001b[0;32mnot\u001b[0m \u001b[0;32mNone\u001b[0m\u001b[0;34m\u001b[0m\u001b[0;34m\u001b[0m\u001b[0m\n\u001b[1;32m   1045\u001b[0m \u001b[0;34m\u001b[0m\u001b[0m\n",
            "\u001b[0;32m/usr/local/lib/python3.7/dist-packages/joblib/parallel.py\u001b[0m in \u001b[0;36mdispatch_one_batch\u001b[0;34m(self, iterator)\u001b[0m\n\u001b[1;32m    859\u001b[0m                 \u001b[0;32mreturn\u001b[0m \u001b[0;32mFalse\u001b[0m\u001b[0;34m\u001b[0m\u001b[0;34m\u001b[0m\u001b[0m\n\u001b[1;32m    860\u001b[0m             \u001b[0;32melse\u001b[0m\u001b[0;34m:\u001b[0m\u001b[0;34m\u001b[0m\u001b[0;34m\u001b[0m\u001b[0m\n\u001b[0;32m--> 861\u001b[0;31m                 \u001b[0mself\u001b[0m\u001b[0;34m.\u001b[0m\u001b[0m_dispatch\u001b[0m\u001b[0;34m(\u001b[0m\u001b[0mtasks\u001b[0m\u001b[0;34m)\u001b[0m\u001b[0;34m\u001b[0m\u001b[0;34m\u001b[0m\u001b[0m\n\u001b[0m\u001b[1;32m    862\u001b[0m                 \u001b[0;32mreturn\u001b[0m \u001b[0;32mTrue\u001b[0m\u001b[0;34m\u001b[0m\u001b[0;34m\u001b[0m\u001b[0m\n\u001b[1;32m    863\u001b[0m \u001b[0;34m\u001b[0m\u001b[0m\n",
            "\u001b[0;32m/usr/local/lib/python3.7/dist-packages/joblib/parallel.py\u001b[0m in \u001b[0;36m_dispatch\u001b[0;34m(self, batch)\u001b[0m\n\u001b[1;32m    777\u001b[0m         \u001b[0;32mwith\u001b[0m \u001b[0mself\u001b[0m\u001b[0;34m.\u001b[0m\u001b[0m_lock\u001b[0m\u001b[0;34m:\u001b[0m\u001b[0;34m\u001b[0m\u001b[0;34m\u001b[0m\u001b[0m\n\u001b[1;32m    778\u001b[0m             \u001b[0mjob_idx\u001b[0m \u001b[0;34m=\u001b[0m \u001b[0mlen\u001b[0m\u001b[0;34m(\u001b[0m\u001b[0mself\u001b[0m\u001b[0;34m.\u001b[0m\u001b[0m_jobs\u001b[0m\u001b[0;34m)\u001b[0m\u001b[0;34m\u001b[0m\u001b[0;34m\u001b[0m\u001b[0m\n\u001b[0;32m--> 779\u001b[0;31m             \u001b[0mjob\u001b[0m \u001b[0;34m=\u001b[0m \u001b[0mself\u001b[0m\u001b[0;34m.\u001b[0m\u001b[0m_backend\u001b[0m\u001b[0;34m.\u001b[0m\u001b[0mapply_async\u001b[0m\u001b[0;34m(\u001b[0m\u001b[0mbatch\u001b[0m\u001b[0;34m,\u001b[0m \u001b[0mcallback\u001b[0m\u001b[0;34m=\u001b[0m\u001b[0mcb\u001b[0m\u001b[0;34m)\u001b[0m\u001b[0;34m\u001b[0m\u001b[0;34m\u001b[0m\u001b[0m\n\u001b[0m\u001b[1;32m    780\u001b[0m             \u001b[0;31m# A job can complete so quickly than its callback is\u001b[0m\u001b[0;34m\u001b[0m\u001b[0;34m\u001b[0m\u001b[0;34m\u001b[0m\u001b[0m\n\u001b[1;32m    781\u001b[0m             \u001b[0;31m# called before we get here, causing self._jobs to\u001b[0m\u001b[0;34m\u001b[0m\u001b[0;34m\u001b[0m\u001b[0;34m\u001b[0m\u001b[0m\n",
            "\u001b[0;32m/usr/local/lib/python3.7/dist-packages/joblib/_parallel_backends.py\u001b[0m in \u001b[0;36mapply_async\u001b[0;34m(self, func, callback)\u001b[0m\n\u001b[1;32m    206\u001b[0m     \u001b[0;32mdef\u001b[0m \u001b[0mapply_async\u001b[0m\u001b[0;34m(\u001b[0m\u001b[0mself\u001b[0m\u001b[0;34m,\u001b[0m \u001b[0mfunc\u001b[0m\u001b[0;34m,\u001b[0m \u001b[0mcallback\u001b[0m\u001b[0;34m=\u001b[0m\u001b[0;32mNone\u001b[0m\u001b[0;34m)\u001b[0m\u001b[0;34m:\u001b[0m\u001b[0;34m\u001b[0m\u001b[0;34m\u001b[0m\u001b[0m\n\u001b[1;32m    207\u001b[0m         \u001b[0;34m\"\"\"Schedule a func to be run\"\"\"\u001b[0m\u001b[0;34m\u001b[0m\u001b[0;34m\u001b[0m\u001b[0m\n\u001b[0;32m--> 208\u001b[0;31m         \u001b[0mresult\u001b[0m \u001b[0;34m=\u001b[0m \u001b[0mImmediateResult\u001b[0m\u001b[0;34m(\u001b[0m\u001b[0mfunc\u001b[0m\u001b[0;34m)\u001b[0m\u001b[0;34m\u001b[0m\u001b[0;34m\u001b[0m\u001b[0m\n\u001b[0m\u001b[1;32m    209\u001b[0m         \u001b[0;32mif\u001b[0m \u001b[0mcallback\u001b[0m\u001b[0;34m:\u001b[0m\u001b[0;34m\u001b[0m\u001b[0;34m\u001b[0m\u001b[0m\n\u001b[1;32m    210\u001b[0m             \u001b[0mcallback\u001b[0m\u001b[0;34m(\u001b[0m\u001b[0mresult\u001b[0m\u001b[0;34m)\u001b[0m\u001b[0;34m\u001b[0m\u001b[0;34m\u001b[0m\u001b[0m\n",
            "\u001b[0;32m/usr/local/lib/python3.7/dist-packages/joblib/_parallel_backends.py\u001b[0m in \u001b[0;36m__init__\u001b[0;34m(self, batch)\u001b[0m\n\u001b[1;32m    570\u001b[0m         \u001b[0;31m# Don't delay the application, to avoid keeping the input\u001b[0m\u001b[0;34m\u001b[0m\u001b[0;34m\u001b[0m\u001b[0;34m\u001b[0m\u001b[0m\n\u001b[1;32m    571\u001b[0m         \u001b[0;31m# arguments in memory\u001b[0m\u001b[0;34m\u001b[0m\u001b[0;34m\u001b[0m\u001b[0;34m\u001b[0m\u001b[0m\n\u001b[0;32m--> 572\u001b[0;31m         \u001b[0mself\u001b[0m\u001b[0;34m.\u001b[0m\u001b[0mresults\u001b[0m \u001b[0;34m=\u001b[0m \u001b[0mbatch\u001b[0m\u001b[0;34m(\u001b[0m\u001b[0;34m)\u001b[0m\u001b[0;34m\u001b[0m\u001b[0;34m\u001b[0m\u001b[0m\n\u001b[0m\u001b[1;32m    573\u001b[0m \u001b[0;34m\u001b[0m\u001b[0m\n\u001b[1;32m    574\u001b[0m     \u001b[0;32mdef\u001b[0m \u001b[0mget\u001b[0m\u001b[0;34m(\u001b[0m\u001b[0mself\u001b[0m\u001b[0;34m)\u001b[0m\u001b[0;34m:\u001b[0m\u001b[0;34m\u001b[0m\u001b[0;34m\u001b[0m\u001b[0m\n",
            "\u001b[0;32m/usr/local/lib/python3.7/dist-packages/joblib/parallel.py\u001b[0m in \u001b[0;36m__call__\u001b[0;34m(self)\u001b[0m\n\u001b[1;32m    261\u001b[0m         \u001b[0;32mwith\u001b[0m \u001b[0mparallel_backend\u001b[0m\u001b[0;34m(\u001b[0m\u001b[0mself\u001b[0m\u001b[0;34m.\u001b[0m\u001b[0m_backend\u001b[0m\u001b[0;34m,\u001b[0m \u001b[0mn_jobs\u001b[0m\u001b[0;34m=\u001b[0m\u001b[0mself\u001b[0m\u001b[0;34m.\u001b[0m\u001b[0m_n_jobs\u001b[0m\u001b[0;34m)\u001b[0m\u001b[0;34m:\u001b[0m\u001b[0;34m\u001b[0m\u001b[0;34m\u001b[0m\u001b[0m\n\u001b[1;32m    262\u001b[0m             return [func(*args, **kwargs)\n\u001b[0;32m--> 263\u001b[0;31m                     for func, args, kwargs in self.items]\n\u001b[0m\u001b[1;32m    264\u001b[0m \u001b[0;34m\u001b[0m\u001b[0m\n\u001b[1;32m    265\u001b[0m     \u001b[0;32mdef\u001b[0m \u001b[0m__reduce__\u001b[0m\u001b[0;34m(\u001b[0m\u001b[0mself\u001b[0m\u001b[0;34m)\u001b[0m\u001b[0;34m:\u001b[0m\u001b[0;34m\u001b[0m\u001b[0;34m\u001b[0m\u001b[0m\n",
            "\u001b[0;32m/usr/local/lib/python3.7/dist-packages/joblib/parallel.py\u001b[0m in \u001b[0;36m<listcomp>\u001b[0;34m(.0)\u001b[0m\n\u001b[1;32m    261\u001b[0m         \u001b[0;32mwith\u001b[0m \u001b[0mparallel_backend\u001b[0m\u001b[0;34m(\u001b[0m\u001b[0mself\u001b[0m\u001b[0;34m.\u001b[0m\u001b[0m_backend\u001b[0m\u001b[0;34m,\u001b[0m \u001b[0mn_jobs\u001b[0m\u001b[0;34m=\u001b[0m\u001b[0mself\u001b[0m\u001b[0;34m.\u001b[0m\u001b[0m_n_jobs\u001b[0m\u001b[0;34m)\u001b[0m\u001b[0;34m:\u001b[0m\u001b[0;34m\u001b[0m\u001b[0;34m\u001b[0m\u001b[0m\n\u001b[1;32m    262\u001b[0m             return [func(*args, **kwargs)\n\u001b[0;32m--> 263\u001b[0;31m                     for func, args, kwargs in self.items]\n\u001b[0m\u001b[1;32m    264\u001b[0m \u001b[0;34m\u001b[0m\u001b[0m\n\u001b[1;32m    265\u001b[0m     \u001b[0;32mdef\u001b[0m \u001b[0m__reduce__\u001b[0m\u001b[0;34m(\u001b[0m\u001b[0mself\u001b[0m\u001b[0;34m)\u001b[0m\u001b[0;34m:\u001b[0m\u001b[0;34m\u001b[0m\u001b[0;34m\u001b[0m\u001b[0m\n",
            "\u001b[0;32m/usr/local/lib/python3.7/dist-packages/sklearn/utils/fixes.py\u001b[0m in \u001b[0;36m__call__\u001b[0;34m(self, *args, **kwargs)\u001b[0m\n\u001b[1;32m    214\u001b[0m     \u001b[0;32mdef\u001b[0m \u001b[0m__call__\u001b[0m\u001b[0;34m(\u001b[0m\u001b[0mself\u001b[0m\u001b[0;34m,\u001b[0m \u001b[0;34m*\u001b[0m\u001b[0margs\u001b[0m\u001b[0;34m,\u001b[0m \u001b[0;34m**\u001b[0m\u001b[0mkwargs\u001b[0m\u001b[0;34m)\u001b[0m\u001b[0;34m:\u001b[0m\u001b[0;34m\u001b[0m\u001b[0;34m\u001b[0m\u001b[0m\n\u001b[1;32m    215\u001b[0m         \u001b[0;32mwith\u001b[0m \u001b[0mconfig_context\u001b[0m\u001b[0;34m(\u001b[0m\u001b[0;34m**\u001b[0m\u001b[0mself\u001b[0m\u001b[0;34m.\u001b[0m\u001b[0mconfig\u001b[0m\u001b[0;34m)\u001b[0m\u001b[0;34m:\u001b[0m\u001b[0;34m\u001b[0m\u001b[0;34m\u001b[0m\u001b[0m\n\u001b[0;32m--> 216\u001b[0;31m             \u001b[0;32mreturn\u001b[0m \u001b[0mself\u001b[0m\u001b[0;34m.\u001b[0m\u001b[0mfunction\u001b[0m\u001b[0;34m(\u001b[0m\u001b[0;34m*\u001b[0m\u001b[0margs\u001b[0m\u001b[0;34m,\u001b[0m \u001b[0;34m**\u001b[0m\u001b[0mkwargs\u001b[0m\u001b[0;34m)\u001b[0m\u001b[0;34m\u001b[0m\u001b[0;34m\u001b[0m\u001b[0m\n\u001b[0m\u001b[1;32m    217\u001b[0m \u001b[0;34m\u001b[0m\u001b[0m\n\u001b[1;32m    218\u001b[0m \u001b[0;34m\u001b[0m\u001b[0m\n",
            "\u001b[0;32m/usr/local/lib/python3.7/dist-packages/sklearn/model_selection/_validation.py\u001b[0m in \u001b[0;36m_fit_and_score\u001b[0;34m(estimator, X, y, scorer, train, test, verbose, parameters, fit_params, return_train_score, return_parameters, return_n_test_samples, return_times, return_estimator, split_progress, candidate_progress, error_score)\u001b[0m\n\u001b[1;32m    666\u001b[0m             \u001b[0mcloned_parameters\u001b[0m\u001b[0;34m[\u001b[0m\u001b[0mk\u001b[0m\u001b[0;34m]\u001b[0m \u001b[0;34m=\u001b[0m \u001b[0mclone\u001b[0m\u001b[0;34m(\u001b[0m\u001b[0mv\u001b[0m\u001b[0;34m,\u001b[0m \u001b[0msafe\u001b[0m\u001b[0;34m=\u001b[0m\u001b[0;32mFalse\u001b[0m\u001b[0;34m)\u001b[0m\u001b[0;34m\u001b[0m\u001b[0;34m\u001b[0m\u001b[0m\n\u001b[1;32m    667\u001b[0m \u001b[0;34m\u001b[0m\u001b[0m\n\u001b[0;32m--> 668\u001b[0;31m         \u001b[0mestimator\u001b[0m \u001b[0;34m=\u001b[0m \u001b[0mestimator\u001b[0m\u001b[0;34m.\u001b[0m\u001b[0mset_params\u001b[0m\u001b[0;34m(\u001b[0m\u001b[0;34m**\u001b[0m\u001b[0mcloned_parameters\u001b[0m\u001b[0;34m)\u001b[0m\u001b[0;34m\u001b[0m\u001b[0;34m\u001b[0m\u001b[0m\n\u001b[0m\u001b[1;32m    669\u001b[0m \u001b[0;34m\u001b[0m\u001b[0m\n\u001b[1;32m    670\u001b[0m     \u001b[0mstart_time\u001b[0m \u001b[0;34m=\u001b[0m \u001b[0mtime\u001b[0m\u001b[0;34m.\u001b[0m\u001b[0mtime\u001b[0m\u001b[0;34m(\u001b[0m\u001b[0;34m)\u001b[0m\u001b[0;34m\u001b[0m\u001b[0;34m\u001b[0m\u001b[0m\n",
            "\u001b[0;32m/usr/local/lib/python3.7/dist-packages/sklearn/base.py\u001b[0m in \u001b[0;36mset_params\u001b[0;34m(self, **params)\u001b[0m\n\u001b[1;32m    246\u001b[0m                     \u001b[0;34m\"Invalid parameter %s for estimator %s. \"\u001b[0m\u001b[0;34m\u001b[0m\u001b[0;34m\u001b[0m\u001b[0m\n\u001b[1;32m    247\u001b[0m                     \u001b[0;34m\"Check the list of available parameters \"\u001b[0m\u001b[0;34m\u001b[0m\u001b[0;34m\u001b[0m\u001b[0m\n\u001b[0;32m--> 248\u001b[0;31m                     \u001b[0;34m\"with `estimator.get_params().keys()`.\"\u001b[0m \u001b[0;34m%\u001b[0m \u001b[0;34m(\u001b[0m\u001b[0mkey\u001b[0m\u001b[0;34m,\u001b[0m \u001b[0mself\u001b[0m\u001b[0;34m)\u001b[0m\u001b[0;34m\u001b[0m\u001b[0;34m\u001b[0m\u001b[0m\n\u001b[0m\u001b[1;32m    249\u001b[0m                 )\n\u001b[1;32m    250\u001b[0m \u001b[0;34m\u001b[0m\u001b[0m\n",
            "\u001b[0;31mValueError\u001b[0m: Invalid parameter algorithm for estimator GaussianNB(). Check the list of available parameters with `estimator.get_params().keys()`."
          ]
        }
      ],
      "source": [
        "# Definir o espaço possível dos hiperparametros a serem testados no modelo\n",
        "parametros = {'n_neighbors': [3, 5, 7, 9, 13, 17, 21, 29],\n",
        "              'weights': ['uniform', 'distance'],\n",
        "              'algorithm': ['auto', 'ball_tree', 'kd_tree', 'brute'],\n",
        "              'leaf_size': [15, 30, 45, 60]}\n",
        "\n",
        "\n",
        "grid_search = GridSearchCV(estimator = GaussianNB(), param_grid=parametros)\n",
        "grid_search.fit(x_train, y_train.squeeze())"
      ]
    },
    {
      "cell_type": "code",
      "execution_count": null,
      "metadata": {
        "id": "glflJ60OlcOe"
      },
      "outputs": [],
      "source": [
        "print(grid_search.best_score_)\n",
        "print(grid_search.best_params_)"
      ]
    },
    {
      "cell_type": "code",
      "execution_count": null,
      "metadata": {
        "id": "W6XDUB-glcOe"
      },
      "outputs": [],
      "source": [
        "knn_best = grid_search.best_estimator_\n",
        "knn_best"
      ]
    },
    {
      "cell_type": "code",
      "execution_count": null,
      "metadata": {
        "id": "5ZmhiiAxlcOe"
      },
      "outputs": [],
      "source": [
        "y_pred = knn_best.predict(x_test)\n",
        "print('Acc treino: ', knn_best.score(x_train, y_train ))\n",
        "print('Acc teste: ', knn_best.score(x_test, y_test.squeeze() ))\n",
        "print( 'Revocação: ', recall_score( y_test, y_pred ))\n",
        "print( 'Precisão: ', precision_score( y_test, y_pred ))\n",
        "print( 'F1_score: ', f1_score( y_test, y_pred ))"
      ]
    },
    {
      "cell_type": "markdown",
      "metadata": {
        "id": "EAQmJllAkyE-"
      },
      "source": [
        "##Regressão Logística"
      ]
    },
    {
      "cell_type": "markdown",
      "metadata": {
        "id": "TmTFATsSldCq"
      },
      "source": [
        "###GridSearch"
      ]
    },
    {
      "cell_type": "code",
      "execution_count": 108,
      "metadata": {
        "id": "uWFU6Jz8ldCr",
        "colab": {
          "base_uri": "https://localhost:8080/",
          "height": 0
        },
        "outputId": "cd5cc3b0-d68b-4632-9d5e-aeafae31d950"
      },
      "outputs": [
        {
          "output_type": "error",
          "ename": "ValueError",
          "evalue": "ignored",
          "traceback": [
            "\u001b[0;31m---------------------------------------------------------------------------\u001b[0m",
            "\u001b[0;31mValueError\u001b[0m                                Traceback (most recent call last)",
            "\u001b[0;32m<ipython-input-108-846ba42cd4cf>\u001b[0m in \u001b[0;36m<module>\u001b[0;34m\u001b[0m\n\u001b[1;32m      7\u001b[0m \u001b[0;34m\u001b[0m\u001b[0m\n\u001b[1;32m      8\u001b[0m \u001b[0mgrid_search\u001b[0m \u001b[0;34m=\u001b[0m \u001b[0mGridSearchCV\u001b[0m\u001b[0;34m(\u001b[0m\u001b[0mestimator\u001b[0m \u001b[0;34m=\u001b[0m \u001b[0mLogisticRegression\u001b[0m\u001b[0;34m(\u001b[0m\u001b[0;34m)\u001b[0m\u001b[0;34m,\u001b[0m \u001b[0mparam_grid\u001b[0m\u001b[0;34m=\u001b[0m\u001b[0mparametros\u001b[0m\u001b[0;34m)\u001b[0m\u001b[0;34m\u001b[0m\u001b[0;34m\u001b[0m\u001b[0m\n\u001b[0;32m----> 9\u001b[0;31m \u001b[0mgrid_search\u001b[0m\u001b[0;34m.\u001b[0m\u001b[0mfit\u001b[0m\u001b[0;34m(\u001b[0m\u001b[0mx_train\u001b[0m\u001b[0;34m,\u001b[0m \u001b[0my_train\u001b[0m\u001b[0;34m.\u001b[0m\u001b[0msqueeze\u001b[0m\u001b[0;34m(\u001b[0m\u001b[0;34m)\u001b[0m\u001b[0;34m)\u001b[0m\u001b[0;34m\u001b[0m\u001b[0;34m\u001b[0m\u001b[0m\n\u001b[0m",
            "\u001b[0;32m/usr/local/lib/python3.7/dist-packages/sklearn/model_selection/_search.py\u001b[0m in \u001b[0;36mfit\u001b[0;34m(self, X, y, groups, **fit_params)\u001b[0m\n\u001b[1;32m    889\u001b[0m                 \u001b[0;32mreturn\u001b[0m \u001b[0mresults\u001b[0m\u001b[0;34m\u001b[0m\u001b[0;34m\u001b[0m\u001b[0m\n\u001b[1;32m    890\u001b[0m \u001b[0;34m\u001b[0m\u001b[0m\n\u001b[0;32m--> 891\u001b[0;31m             \u001b[0mself\u001b[0m\u001b[0;34m.\u001b[0m\u001b[0m_run_search\u001b[0m\u001b[0;34m(\u001b[0m\u001b[0mevaluate_candidates\u001b[0m\u001b[0;34m)\u001b[0m\u001b[0;34m\u001b[0m\u001b[0;34m\u001b[0m\u001b[0m\n\u001b[0m\u001b[1;32m    892\u001b[0m \u001b[0;34m\u001b[0m\u001b[0m\n\u001b[1;32m    893\u001b[0m             \u001b[0;31m# multimetric is determined here because in the case of a callable\u001b[0m\u001b[0;34m\u001b[0m\u001b[0;34m\u001b[0m\u001b[0;34m\u001b[0m\u001b[0m\n",
            "\u001b[0;32m/usr/local/lib/python3.7/dist-packages/sklearn/model_selection/_search.py\u001b[0m in \u001b[0;36m_run_search\u001b[0;34m(self, evaluate_candidates)\u001b[0m\n\u001b[1;32m   1390\u001b[0m     \u001b[0;32mdef\u001b[0m \u001b[0m_run_search\u001b[0m\u001b[0;34m(\u001b[0m\u001b[0mself\u001b[0m\u001b[0;34m,\u001b[0m \u001b[0mevaluate_candidates\u001b[0m\u001b[0;34m)\u001b[0m\u001b[0;34m:\u001b[0m\u001b[0;34m\u001b[0m\u001b[0;34m\u001b[0m\u001b[0m\n\u001b[1;32m   1391\u001b[0m         \u001b[0;34m\"\"\"Search all candidates in param_grid\"\"\"\u001b[0m\u001b[0;34m\u001b[0m\u001b[0;34m\u001b[0m\u001b[0m\n\u001b[0;32m-> 1392\u001b[0;31m         \u001b[0mevaluate_candidates\u001b[0m\u001b[0;34m(\u001b[0m\u001b[0mParameterGrid\u001b[0m\u001b[0;34m(\u001b[0m\u001b[0mself\u001b[0m\u001b[0;34m.\u001b[0m\u001b[0mparam_grid\u001b[0m\u001b[0;34m)\u001b[0m\u001b[0;34m)\u001b[0m\u001b[0;34m\u001b[0m\u001b[0;34m\u001b[0m\u001b[0m\n\u001b[0m\u001b[1;32m   1393\u001b[0m \u001b[0;34m\u001b[0m\u001b[0m\n\u001b[1;32m   1394\u001b[0m \u001b[0;34m\u001b[0m\u001b[0m\n",
            "\u001b[0;32m/usr/local/lib/python3.7/dist-packages/sklearn/model_selection/_search.py\u001b[0m in \u001b[0;36mevaluate_candidates\u001b[0;34m(candidate_params, cv, more_results)\u001b[0m\n\u001b[1;32m    849\u001b[0m                     )\n\u001b[1;32m    850\u001b[0m                     for (cand_idx, parameters), (split_idx, (train, test)) in product(\n\u001b[0;32m--> 851\u001b[0;31m                         \u001b[0menumerate\u001b[0m\u001b[0;34m(\u001b[0m\u001b[0mcandidate_params\u001b[0m\u001b[0;34m)\u001b[0m\u001b[0;34m,\u001b[0m \u001b[0menumerate\u001b[0m\u001b[0;34m(\u001b[0m\u001b[0mcv\u001b[0m\u001b[0;34m.\u001b[0m\u001b[0msplit\u001b[0m\u001b[0;34m(\u001b[0m\u001b[0mX\u001b[0m\u001b[0;34m,\u001b[0m \u001b[0my\u001b[0m\u001b[0;34m,\u001b[0m \u001b[0mgroups\u001b[0m\u001b[0;34m)\u001b[0m\u001b[0;34m)\u001b[0m\u001b[0;34m\u001b[0m\u001b[0;34m\u001b[0m\u001b[0m\n\u001b[0m\u001b[1;32m    852\u001b[0m                     )\n\u001b[1;32m    853\u001b[0m                 )\n",
            "\u001b[0;32m/usr/local/lib/python3.7/dist-packages/joblib/parallel.py\u001b[0m in \u001b[0;36m__call__\u001b[0;34m(self, iterable)\u001b[0m\n\u001b[1;32m   1041\u001b[0m             \u001b[0;31m# remaining jobs.\u001b[0m\u001b[0;34m\u001b[0m\u001b[0;34m\u001b[0m\u001b[0;34m\u001b[0m\u001b[0m\n\u001b[1;32m   1042\u001b[0m             \u001b[0mself\u001b[0m\u001b[0;34m.\u001b[0m\u001b[0m_iterating\u001b[0m \u001b[0;34m=\u001b[0m \u001b[0;32mFalse\u001b[0m\u001b[0;34m\u001b[0m\u001b[0;34m\u001b[0m\u001b[0m\n\u001b[0;32m-> 1043\u001b[0;31m             \u001b[0;32mif\u001b[0m \u001b[0mself\u001b[0m\u001b[0;34m.\u001b[0m\u001b[0mdispatch_one_batch\u001b[0m\u001b[0;34m(\u001b[0m\u001b[0miterator\u001b[0m\u001b[0;34m)\u001b[0m\u001b[0;34m:\u001b[0m\u001b[0;34m\u001b[0m\u001b[0;34m\u001b[0m\u001b[0m\n\u001b[0m\u001b[1;32m   1044\u001b[0m                 \u001b[0mself\u001b[0m\u001b[0;34m.\u001b[0m\u001b[0m_iterating\u001b[0m \u001b[0;34m=\u001b[0m \u001b[0mself\u001b[0m\u001b[0;34m.\u001b[0m\u001b[0m_original_iterator\u001b[0m \u001b[0;32mis\u001b[0m \u001b[0;32mnot\u001b[0m \u001b[0;32mNone\u001b[0m\u001b[0;34m\u001b[0m\u001b[0;34m\u001b[0m\u001b[0m\n\u001b[1;32m   1045\u001b[0m \u001b[0;34m\u001b[0m\u001b[0m\n",
            "\u001b[0;32m/usr/local/lib/python3.7/dist-packages/joblib/parallel.py\u001b[0m in \u001b[0;36mdispatch_one_batch\u001b[0;34m(self, iterator)\u001b[0m\n\u001b[1;32m    859\u001b[0m                 \u001b[0;32mreturn\u001b[0m \u001b[0;32mFalse\u001b[0m\u001b[0;34m\u001b[0m\u001b[0;34m\u001b[0m\u001b[0m\n\u001b[1;32m    860\u001b[0m             \u001b[0;32melse\u001b[0m\u001b[0;34m:\u001b[0m\u001b[0;34m\u001b[0m\u001b[0;34m\u001b[0m\u001b[0m\n\u001b[0;32m--> 861\u001b[0;31m                 \u001b[0mself\u001b[0m\u001b[0;34m.\u001b[0m\u001b[0m_dispatch\u001b[0m\u001b[0;34m(\u001b[0m\u001b[0mtasks\u001b[0m\u001b[0;34m)\u001b[0m\u001b[0;34m\u001b[0m\u001b[0;34m\u001b[0m\u001b[0m\n\u001b[0m\u001b[1;32m    862\u001b[0m                 \u001b[0;32mreturn\u001b[0m \u001b[0;32mTrue\u001b[0m\u001b[0;34m\u001b[0m\u001b[0;34m\u001b[0m\u001b[0m\n\u001b[1;32m    863\u001b[0m \u001b[0;34m\u001b[0m\u001b[0m\n",
            "\u001b[0;32m/usr/local/lib/python3.7/dist-packages/joblib/parallel.py\u001b[0m in \u001b[0;36m_dispatch\u001b[0;34m(self, batch)\u001b[0m\n\u001b[1;32m    777\u001b[0m         \u001b[0;32mwith\u001b[0m \u001b[0mself\u001b[0m\u001b[0;34m.\u001b[0m\u001b[0m_lock\u001b[0m\u001b[0;34m:\u001b[0m\u001b[0;34m\u001b[0m\u001b[0;34m\u001b[0m\u001b[0m\n\u001b[1;32m    778\u001b[0m             \u001b[0mjob_idx\u001b[0m \u001b[0;34m=\u001b[0m \u001b[0mlen\u001b[0m\u001b[0;34m(\u001b[0m\u001b[0mself\u001b[0m\u001b[0;34m.\u001b[0m\u001b[0m_jobs\u001b[0m\u001b[0;34m)\u001b[0m\u001b[0;34m\u001b[0m\u001b[0;34m\u001b[0m\u001b[0m\n\u001b[0;32m--> 779\u001b[0;31m             \u001b[0mjob\u001b[0m \u001b[0;34m=\u001b[0m \u001b[0mself\u001b[0m\u001b[0;34m.\u001b[0m\u001b[0m_backend\u001b[0m\u001b[0;34m.\u001b[0m\u001b[0mapply_async\u001b[0m\u001b[0;34m(\u001b[0m\u001b[0mbatch\u001b[0m\u001b[0;34m,\u001b[0m \u001b[0mcallback\u001b[0m\u001b[0;34m=\u001b[0m\u001b[0mcb\u001b[0m\u001b[0;34m)\u001b[0m\u001b[0;34m\u001b[0m\u001b[0;34m\u001b[0m\u001b[0m\n\u001b[0m\u001b[1;32m    780\u001b[0m             \u001b[0;31m# A job can complete so quickly than its callback is\u001b[0m\u001b[0;34m\u001b[0m\u001b[0;34m\u001b[0m\u001b[0;34m\u001b[0m\u001b[0m\n\u001b[1;32m    781\u001b[0m             \u001b[0;31m# called before we get here, causing self._jobs to\u001b[0m\u001b[0;34m\u001b[0m\u001b[0;34m\u001b[0m\u001b[0;34m\u001b[0m\u001b[0m\n",
            "\u001b[0;32m/usr/local/lib/python3.7/dist-packages/joblib/_parallel_backends.py\u001b[0m in \u001b[0;36mapply_async\u001b[0;34m(self, func, callback)\u001b[0m\n\u001b[1;32m    206\u001b[0m     \u001b[0;32mdef\u001b[0m \u001b[0mapply_async\u001b[0m\u001b[0;34m(\u001b[0m\u001b[0mself\u001b[0m\u001b[0;34m,\u001b[0m \u001b[0mfunc\u001b[0m\u001b[0;34m,\u001b[0m \u001b[0mcallback\u001b[0m\u001b[0;34m=\u001b[0m\u001b[0;32mNone\u001b[0m\u001b[0;34m)\u001b[0m\u001b[0;34m:\u001b[0m\u001b[0;34m\u001b[0m\u001b[0;34m\u001b[0m\u001b[0m\n\u001b[1;32m    207\u001b[0m         \u001b[0;34m\"\"\"Schedule a func to be run\"\"\"\u001b[0m\u001b[0;34m\u001b[0m\u001b[0;34m\u001b[0m\u001b[0m\n\u001b[0;32m--> 208\u001b[0;31m         \u001b[0mresult\u001b[0m \u001b[0;34m=\u001b[0m \u001b[0mImmediateResult\u001b[0m\u001b[0;34m(\u001b[0m\u001b[0mfunc\u001b[0m\u001b[0;34m)\u001b[0m\u001b[0;34m\u001b[0m\u001b[0;34m\u001b[0m\u001b[0m\n\u001b[0m\u001b[1;32m    209\u001b[0m         \u001b[0;32mif\u001b[0m \u001b[0mcallback\u001b[0m\u001b[0;34m:\u001b[0m\u001b[0;34m\u001b[0m\u001b[0;34m\u001b[0m\u001b[0m\n\u001b[1;32m    210\u001b[0m             \u001b[0mcallback\u001b[0m\u001b[0;34m(\u001b[0m\u001b[0mresult\u001b[0m\u001b[0;34m)\u001b[0m\u001b[0;34m\u001b[0m\u001b[0;34m\u001b[0m\u001b[0m\n",
            "\u001b[0;32m/usr/local/lib/python3.7/dist-packages/joblib/_parallel_backends.py\u001b[0m in \u001b[0;36m__init__\u001b[0;34m(self, batch)\u001b[0m\n\u001b[1;32m    570\u001b[0m         \u001b[0;31m# Don't delay the application, to avoid keeping the input\u001b[0m\u001b[0;34m\u001b[0m\u001b[0;34m\u001b[0m\u001b[0;34m\u001b[0m\u001b[0m\n\u001b[1;32m    571\u001b[0m         \u001b[0;31m# arguments in memory\u001b[0m\u001b[0;34m\u001b[0m\u001b[0;34m\u001b[0m\u001b[0;34m\u001b[0m\u001b[0m\n\u001b[0;32m--> 572\u001b[0;31m         \u001b[0mself\u001b[0m\u001b[0;34m.\u001b[0m\u001b[0mresults\u001b[0m \u001b[0;34m=\u001b[0m \u001b[0mbatch\u001b[0m\u001b[0;34m(\u001b[0m\u001b[0;34m)\u001b[0m\u001b[0;34m\u001b[0m\u001b[0;34m\u001b[0m\u001b[0m\n\u001b[0m\u001b[1;32m    573\u001b[0m \u001b[0;34m\u001b[0m\u001b[0m\n\u001b[1;32m    574\u001b[0m     \u001b[0;32mdef\u001b[0m \u001b[0mget\u001b[0m\u001b[0;34m(\u001b[0m\u001b[0mself\u001b[0m\u001b[0;34m)\u001b[0m\u001b[0;34m:\u001b[0m\u001b[0;34m\u001b[0m\u001b[0;34m\u001b[0m\u001b[0m\n",
            "\u001b[0;32m/usr/local/lib/python3.7/dist-packages/joblib/parallel.py\u001b[0m in \u001b[0;36m__call__\u001b[0;34m(self)\u001b[0m\n\u001b[1;32m    261\u001b[0m         \u001b[0;32mwith\u001b[0m \u001b[0mparallel_backend\u001b[0m\u001b[0;34m(\u001b[0m\u001b[0mself\u001b[0m\u001b[0;34m.\u001b[0m\u001b[0m_backend\u001b[0m\u001b[0;34m,\u001b[0m \u001b[0mn_jobs\u001b[0m\u001b[0;34m=\u001b[0m\u001b[0mself\u001b[0m\u001b[0;34m.\u001b[0m\u001b[0m_n_jobs\u001b[0m\u001b[0;34m)\u001b[0m\u001b[0;34m:\u001b[0m\u001b[0;34m\u001b[0m\u001b[0;34m\u001b[0m\u001b[0m\n\u001b[1;32m    262\u001b[0m             return [func(*args, **kwargs)\n\u001b[0;32m--> 263\u001b[0;31m                     for func, args, kwargs in self.items]\n\u001b[0m\u001b[1;32m    264\u001b[0m \u001b[0;34m\u001b[0m\u001b[0m\n\u001b[1;32m    265\u001b[0m     \u001b[0;32mdef\u001b[0m \u001b[0m__reduce__\u001b[0m\u001b[0;34m(\u001b[0m\u001b[0mself\u001b[0m\u001b[0;34m)\u001b[0m\u001b[0;34m:\u001b[0m\u001b[0;34m\u001b[0m\u001b[0;34m\u001b[0m\u001b[0m\n",
            "\u001b[0;32m/usr/local/lib/python3.7/dist-packages/joblib/parallel.py\u001b[0m in \u001b[0;36m<listcomp>\u001b[0;34m(.0)\u001b[0m\n\u001b[1;32m    261\u001b[0m         \u001b[0;32mwith\u001b[0m \u001b[0mparallel_backend\u001b[0m\u001b[0;34m(\u001b[0m\u001b[0mself\u001b[0m\u001b[0;34m.\u001b[0m\u001b[0m_backend\u001b[0m\u001b[0;34m,\u001b[0m \u001b[0mn_jobs\u001b[0m\u001b[0;34m=\u001b[0m\u001b[0mself\u001b[0m\u001b[0;34m.\u001b[0m\u001b[0m_n_jobs\u001b[0m\u001b[0;34m)\u001b[0m\u001b[0;34m:\u001b[0m\u001b[0;34m\u001b[0m\u001b[0;34m\u001b[0m\u001b[0m\n\u001b[1;32m    262\u001b[0m             return [func(*args, **kwargs)\n\u001b[0;32m--> 263\u001b[0;31m                     for func, args, kwargs in self.items]\n\u001b[0m\u001b[1;32m    264\u001b[0m \u001b[0;34m\u001b[0m\u001b[0m\n\u001b[1;32m    265\u001b[0m     \u001b[0;32mdef\u001b[0m \u001b[0m__reduce__\u001b[0m\u001b[0;34m(\u001b[0m\u001b[0mself\u001b[0m\u001b[0;34m)\u001b[0m\u001b[0;34m:\u001b[0m\u001b[0;34m\u001b[0m\u001b[0;34m\u001b[0m\u001b[0m\n",
            "\u001b[0;32m/usr/local/lib/python3.7/dist-packages/sklearn/utils/fixes.py\u001b[0m in \u001b[0;36m__call__\u001b[0;34m(self, *args, **kwargs)\u001b[0m\n\u001b[1;32m    214\u001b[0m     \u001b[0;32mdef\u001b[0m \u001b[0m__call__\u001b[0m\u001b[0;34m(\u001b[0m\u001b[0mself\u001b[0m\u001b[0;34m,\u001b[0m \u001b[0;34m*\u001b[0m\u001b[0margs\u001b[0m\u001b[0;34m,\u001b[0m \u001b[0;34m**\u001b[0m\u001b[0mkwargs\u001b[0m\u001b[0;34m)\u001b[0m\u001b[0;34m:\u001b[0m\u001b[0;34m\u001b[0m\u001b[0;34m\u001b[0m\u001b[0m\n\u001b[1;32m    215\u001b[0m         \u001b[0;32mwith\u001b[0m \u001b[0mconfig_context\u001b[0m\u001b[0;34m(\u001b[0m\u001b[0;34m**\u001b[0m\u001b[0mself\u001b[0m\u001b[0;34m.\u001b[0m\u001b[0mconfig\u001b[0m\u001b[0;34m)\u001b[0m\u001b[0;34m:\u001b[0m\u001b[0;34m\u001b[0m\u001b[0;34m\u001b[0m\u001b[0m\n\u001b[0;32m--> 216\u001b[0;31m             \u001b[0;32mreturn\u001b[0m \u001b[0mself\u001b[0m\u001b[0;34m.\u001b[0m\u001b[0mfunction\u001b[0m\u001b[0;34m(\u001b[0m\u001b[0;34m*\u001b[0m\u001b[0margs\u001b[0m\u001b[0;34m,\u001b[0m \u001b[0;34m**\u001b[0m\u001b[0mkwargs\u001b[0m\u001b[0;34m)\u001b[0m\u001b[0;34m\u001b[0m\u001b[0;34m\u001b[0m\u001b[0m\n\u001b[0m\u001b[1;32m    217\u001b[0m \u001b[0;34m\u001b[0m\u001b[0m\n\u001b[1;32m    218\u001b[0m \u001b[0;34m\u001b[0m\u001b[0m\n",
            "\u001b[0;32m/usr/local/lib/python3.7/dist-packages/sklearn/model_selection/_validation.py\u001b[0m in \u001b[0;36m_fit_and_score\u001b[0;34m(estimator, X, y, scorer, train, test, verbose, parameters, fit_params, return_train_score, return_parameters, return_n_test_samples, return_times, return_estimator, split_progress, candidate_progress, error_score)\u001b[0m\n\u001b[1;32m    666\u001b[0m             \u001b[0mcloned_parameters\u001b[0m\u001b[0;34m[\u001b[0m\u001b[0mk\u001b[0m\u001b[0;34m]\u001b[0m \u001b[0;34m=\u001b[0m \u001b[0mclone\u001b[0m\u001b[0;34m(\u001b[0m\u001b[0mv\u001b[0m\u001b[0;34m,\u001b[0m \u001b[0msafe\u001b[0m\u001b[0;34m=\u001b[0m\u001b[0;32mFalse\u001b[0m\u001b[0;34m)\u001b[0m\u001b[0;34m\u001b[0m\u001b[0;34m\u001b[0m\u001b[0m\n\u001b[1;32m    667\u001b[0m \u001b[0;34m\u001b[0m\u001b[0m\n\u001b[0;32m--> 668\u001b[0;31m         \u001b[0mestimator\u001b[0m \u001b[0;34m=\u001b[0m \u001b[0mestimator\u001b[0m\u001b[0;34m.\u001b[0m\u001b[0mset_params\u001b[0m\u001b[0;34m(\u001b[0m\u001b[0;34m**\u001b[0m\u001b[0mcloned_parameters\u001b[0m\u001b[0;34m)\u001b[0m\u001b[0;34m\u001b[0m\u001b[0;34m\u001b[0m\u001b[0m\n\u001b[0m\u001b[1;32m    669\u001b[0m \u001b[0;34m\u001b[0m\u001b[0m\n\u001b[1;32m    670\u001b[0m     \u001b[0mstart_time\u001b[0m \u001b[0;34m=\u001b[0m \u001b[0mtime\u001b[0m\u001b[0;34m.\u001b[0m\u001b[0mtime\u001b[0m\u001b[0;34m(\u001b[0m\u001b[0;34m)\u001b[0m\u001b[0;34m\u001b[0m\u001b[0;34m\u001b[0m\u001b[0m\n",
            "\u001b[0;32m/usr/local/lib/python3.7/dist-packages/sklearn/base.py\u001b[0m in \u001b[0;36mset_params\u001b[0;34m(self, **params)\u001b[0m\n\u001b[1;32m    246\u001b[0m                     \u001b[0;34m\"Invalid parameter %s for estimator %s. \"\u001b[0m\u001b[0;34m\u001b[0m\u001b[0;34m\u001b[0m\u001b[0m\n\u001b[1;32m    247\u001b[0m                     \u001b[0;34m\"Check the list of available parameters \"\u001b[0m\u001b[0;34m\u001b[0m\u001b[0;34m\u001b[0m\u001b[0m\n\u001b[0;32m--> 248\u001b[0;31m                     \u001b[0;34m\"with `estimator.get_params().keys()`.\"\u001b[0m \u001b[0;34m%\u001b[0m \u001b[0;34m(\u001b[0m\u001b[0mkey\u001b[0m\u001b[0;34m,\u001b[0m \u001b[0mself\u001b[0m\u001b[0;34m)\u001b[0m\u001b[0;34m\u001b[0m\u001b[0;34m\u001b[0m\u001b[0m\n\u001b[0m\u001b[1;32m    249\u001b[0m                 )\n\u001b[1;32m    250\u001b[0m \u001b[0;34m\u001b[0m\u001b[0m\n",
            "\u001b[0;31mValueError\u001b[0m: Invalid parameter algorithm for estimator LogisticRegression(). Check the list of available parameters with `estimator.get_params().keys()`."
          ]
        }
      ],
      "source": [
        "# Definir o espaço possível dos hiperparametros a serem testados no modelo\n",
        "parametros = {'penalty': \n",
        "              'C': [3, 5, 7, 9, 13, 17, 21, 29],\n",
        "              'weights': ['uniform', 'distance'],\n",
        "              'algorithm': ['auto', 'ball_tree', 'kd_tree', 'brute'],\n",
        "              'leaf_size': [15, 30, 45, 60]}\n",
        "\n",
        "\n",
        "grid_search = GridSearchCV(estimator = LogisticRegression(), param_grid=parametros)\n",
        "grid_search.fit(x_train, y_train.squeeze())"
      ]
    },
    {
      "cell_type": "code",
      "execution_count": null,
      "metadata": {
        "id": "Fll06H33ldCr"
      },
      "outputs": [],
      "source": [
        "print(grid_search.best_score_)\n",
        "print(grid_search.best_params_)"
      ]
    },
    {
      "cell_type": "code",
      "execution_count": null,
      "metadata": {
        "id": "c3nXURzNldCr"
      },
      "outputs": [],
      "source": [
        "knn_best = grid_search.best_estimator_\n",
        "knn_best"
      ]
    },
    {
      "cell_type": "code",
      "execution_count": null,
      "metadata": {
        "id": "GIlTNFChldCr"
      },
      "outputs": [],
      "source": [
        "y_pred = knn_best.predict(x_test)\n",
        "print('Acc treino: ', knn_best.score(x_train, y_train ))\n",
        "print('Acc teste: ', knn_best.score(x_test, y_test.squeeze() ))\n",
        "print( 'Revocação: ', recall_score( y_test, y_pred ))\n",
        "print( 'Precisão: ', precision_score( y_test, y_pred ))\n",
        "print( 'F1_score: ', f1_score( y_test, y_pred ))"
      ]
    }
  ],
  "metadata": {
    "colab": {
      "collapsed_sections": [
        "SyhmoakN9AzE",
        "BNHdPS7vTni4",
        "eXNMpk43TzDA",
        "Q_QrRUFFT-U_",
        "kXtWcJc8UBo_",
        "BnGEpv8YpGGn",
        "MCgnObD-pGGt",
        "94HUHFuopGGu",
        "Wpu5ElIbpHRU",
        "qHv-SF4QpHRV",
        "eQZhBTAPpHRW",
        "gDYsMKdTpK-2",
        "mpoYKuy0pK-2",
        "a5K1fRPjpK-3",
        "3V2CTrn3pLRU",
        "R_ILh3rtpLRW",
        "hD66ckRX6m-N",
        "nnh0B3te6m-P",
        "pnR-sHrK6m-Q",
        "5YWO5Ce96m-R",
        "E8XWRkDr6nK2",
        "KPWvOXEq6nK3",
        "eJq4srAV6nK4",
        "J7lhwKnN6nK4",
        "fdAtfCPv6nUy",
        "WvjnI00K6nUz",
        "TVfMGjnB6nU0",
        "fYAT3wTL6nU0",
        "nPITtQYV6nfY",
        "jLkrMDH76nfZ",
        "pvHpfJtH6nfb",
        "d-jRZXY46nfc",
        "igc19dU_5pej",
        "pY1flUnf5pek",
        "79ppsZbPRSX0",
        "z5J26a_dje94",
        "73Kv6QGvkibY",
        "feCvwNjIlU5W",
        "tiqpHfhQmyI9",
        "SsKpBVOrklzA",
        "sUEGwpyElaQG",
        "vd1OW3M2ksd1",
        "Msg8sD56lbcC",
        "TsS1kmyrkvar",
        "gDvFXLpYlcOe",
        "EAQmJllAkyE-",
        "TmTFATsSldCq"
      ],
      "provenance": []
    },
    "kernelspec": {
      "display_name": "Python 3",
      "name": "python3"
    },
    "language_info": {
      "name": "python"
    }
  },
  "nbformat": 4,
  "nbformat_minor": 0
}